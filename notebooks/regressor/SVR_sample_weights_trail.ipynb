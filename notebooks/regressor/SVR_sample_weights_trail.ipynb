{
 "cells": [
  {
   "cell_type": "code",
   "execution_count": 1,
   "id": "earned-messenger",
   "metadata": {},
   "outputs": [
    {
     "name": "stdout",
     "output_type": "stream",
     "text": [
      "/Users/in-divye.singh/Documents/Projects/MIC_predictor/src\n"
     ]
    }
   ],
   "source": [
    "cd ../../src"
   ]
  },
  {
   "cell_type": "code",
   "execution_count": 2,
   "id": "rotary-bradford",
   "metadata": {},
   "outputs": [],
   "source": [
    "import biovec\n",
    "import numpy as np\n",
    "import pandas as pd\n",
    "from itertools import chain, combinations\n",
    "from collections import Counter\n",
    "\n",
    "from utils import *\n",
    "\n",
    "from sklearn.svm import SVR\n",
    "from sklearn.metrics import make_scorer\n",
    "from sklearn.model_selection import GridSearchCV\n",
    "from sklearn.metrics import mean_squared_error, mean_absolute_error\n",
    "from sklearn.model_selection import train_test_split\n",
    "\n",
    "from Bio.SeqUtils.ProtParam import ProteinAnalysis"
   ]
  },
  {
   "cell_type": "code",
   "execution_count": 3,
   "id": "quiet-shape",
   "metadata": {},
   "outputs": [],
   "source": [
    "import seaborn as sns"
   ]
  },
  {
   "cell_type": "code",
   "execution_count": 4,
   "id": "adolescent-spray",
   "metadata": {},
   "outputs": [],
   "source": [
    "def mean_absolute_percentage_error(y_true, y_pred): \n",
    "    y_true, y_pred = np.array(y_true), np.array(y_pred)\n",
    "    return np.mean(np.abs((y_true - y_pred) / y_true)) * 100\n",
    "\n",
    "mape_scorer = make_scorer(mean_absolute_percentage_error, greater_is_better=False)"
   ]
  },
  {
   "cell_type": "code",
   "execution_count": 5,
   "id": "bored-familiar",
   "metadata": {},
   "outputs": [],
   "source": [
    "avp_ic50 = pd.read_csv(\"../data/raw/AVP-IC50Pred_train.csv\")\n",
    "ha_avp = pd.read_csv(\"../data/raw/HA_AVP.csv\")"
   ]
  },
  {
   "cell_type": "code",
   "execution_count": 6,
   "id": "finite-medicare",
   "metadata": {},
   "outputs": [],
   "source": [
    "df = pd.concat([avp_ic50[['Sequence','MIC']], ha_avp], axis=0).drop_duplicates(['Sequence']).reset_index(drop=True)\n",
    "df = sequence_filtering(df)"
   ]
  },
  {
   "cell_type": "raw",
   "id": "editorial-luther",
   "metadata": {},
   "source": [
    "df = df[df['MIC'] < 35]"
   ]
  },
  {
   "cell_type": "code",
   "execution_count": 7,
   "id": "infrared-window",
   "metadata": {},
   "outputs": [
    {
     "data": {
      "text/html": [
       "<div>\n",
       "<style scoped>\n",
       "    .dataframe tbody tr th:only-of-type {\n",
       "        vertical-align: middle;\n",
       "    }\n",
       "\n",
       "    .dataframe tbody tr th {\n",
       "        vertical-align: top;\n",
       "    }\n",
       "\n",
       "    .dataframe thead th {\n",
       "        text-align: right;\n",
       "    }\n",
       "</style>\n",
       "<table border=\"1\" class=\"dataframe\">\n",
       "  <thead>\n",
       "    <tr style=\"text-align: right;\">\n",
       "      <th></th>\n",
       "      <th>Sequence</th>\n",
       "      <th>MIC</th>\n",
       "    </tr>\n",
       "  </thead>\n",
       "  <tbody>\n",
       "    <tr>\n",
       "      <th>0</th>\n",
       "      <td>WEDWVRWI</td>\n",
       "      <td>0.057</td>\n",
       "    </tr>\n",
       "    <tr>\n",
       "      <th>1</th>\n",
       "      <td>SLERLDVGTNLGNAIAKLEDAKELLESSDQILRSM</td>\n",
       "      <td>12.300</td>\n",
       "    </tr>\n",
       "    <tr>\n",
       "      <th>2</th>\n",
       "      <td>TTWEAWDRAIAEYAARIEALIRALQELQEKNEAALREL</td>\n",
       "      <td>0.014</td>\n",
       "    </tr>\n",
       "    <tr>\n",
       "      <th>3</th>\n",
       "      <td>IINFYDPLVFPSDEFDASISQVNEKINQSLAFIRK</td>\n",
       "      <td>91.000</td>\n",
       "    </tr>\n",
       "    <tr>\n",
       "      <th>4</th>\n",
       "      <td>TDVILMCASIDSPDSLENI</td>\n",
       "      <td>6.290</td>\n",
       "    </tr>\n",
       "    <tr>\n",
       "      <th>...</th>\n",
       "      <td>...</td>\n",
       "      <td>...</td>\n",
       "    </tr>\n",
       "    <tr>\n",
       "      <th>707</th>\n",
       "      <td>RSQKEGLHYTCSSHFPYSQYQFWK</td>\n",
       "      <td>136.000</td>\n",
       "    </tr>\n",
       "    <tr>\n",
       "      <th>708</th>\n",
       "      <td>FLHFLHHLF</td>\n",
       "      <td>0.811</td>\n",
       "    </tr>\n",
       "    <tr>\n",
       "      <th>709</th>\n",
       "      <td>EWDREINNYTSLIHSLIEESQNQQEKNEQELLELDK</td>\n",
       "      <td>0.012</td>\n",
       "    </tr>\n",
       "    <tr>\n",
       "      <th>710</th>\n",
       "      <td>ALDKAEESNSKLDKVNVKLT</td>\n",
       "      <td>6.000</td>\n",
       "    </tr>\n",
       "    <tr>\n",
       "      <th>711</th>\n",
       "      <td>TDVILMCFSIASPDSLENI</td>\n",
       "      <td>4.360</td>\n",
       "    </tr>\n",
       "  </tbody>\n",
       "</table>\n",
       "<p>712 rows × 2 columns</p>\n",
       "</div>"
      ],
      "text/plain": [
       "                                   Sequence      MIC\n",
       "0                                  WEDWVRWI    0.057\n",
       "1       SLERLDVGTNLGNAIAKLEDAKELLESSDQILRSM   12.300\n",
       "2    TTWEAWDRAIAEYAARIEALIRALQELQEKNEAALREL    0.014\n",
       "3       IINFYDPLVFPSDEFDASISQVNEKINQSLAFIRK   91.000\n",
       "4                       TDVILMCASIDSPDSLENI    6.290\n",
       "..                                      ...      ...\n",
       "707                RSQKEGLHYTCSSHFPYSQYQFWK  136.000\n",
       "708                               FLHFLHHLF    0.811\n",
       "709    EWDREINNYTSLIHSLIEESQNQQEKNEQELLELDK    0.012\n",
       "710                    ALDKAEESNSKLDKVNVKLT    6.000\n",
       "711                     TDVILMCFSIASPDSLENI    4.360\n",
       "\n",
       "[712 rows x 2 columns]"
      ]
     },
     "execution_count": 7,
     "metadata": {},
     "output_type": "execute_result"
    }
   ],
   "source": [
    "df = df.sample(frac=1, random_state=9).reset_index(drop=True)\n",
    "df"
   ]
  },
  {
   "cell_type": "code",
   "execution_count": 8,
   "id": "consecutive-enclosure",
   "metadata": {
    "scrolled": false
   },
   "outputs": [
    {
     "data": {
      "text/plain": [
       "<matplotlib.axes._subplots.AxesSubplot at 0x1a1b7cf828>"
      ]
     },
     "execution_count": 8,
     "metadata": {},
     "output_type": "execute_result"
    },
    {
     "data": {
      "image/png": "[encoded data removed]",
      "text/plain": [
       "<Figure size 432x288 with 1 Axes>"
      ]
     },
     "metadata": {
      "needs_background": "light"
     },
     "output_type": "display_data"
    }
   ],
   "source": [
    "sns.kdeplot(x=df['MIC'], cut=0)"
   ]
  },
  {
   "cell_type": "code",
   "execution_count": 9,
   "id": "cooperative-subsection",
   "metadata": {},
   "outputs": [],
   "source": [
    "def get_physicochemical_properties(df):\n",
    "    params = ['aromaticity', 'helix', 'turn', 'sheet', 'gravy', 'net_charge_at_pH7point4']\n",
    "\n",
    "    prop = []\n",
    "    for seq in df.Sequence:\n",
    "        X = ProteinAnalysis(seq)\n",
    "        aromaticity = X.aromaticity()\n",
    "        sec_struc = X.secondary_structure_fraction()\n",
    "        helix = sec_struc[0]\n",
    "        turn = sec_struc[1]\n",
    "        sheet = sec_struc[2]\n",
    "        gravy = X.gravy() # hydrophobicity related\n",
    "        net_charge_at_pH7point4 = X.charge_at_pH(7.4)\n",
    "\n",
    "        prop.append([aromaticity, helix, turn, sheet, gravy, net_charge_at_pH7point4])\n",
    "    return pd.DataFrame(prop, columns=params)"
   ]
  },
  {
   "cell_type": "code",
   "execution_count": 10,
   "id": "handmade-confidence",
   "metadata": {},
   "outputs": [],
   "source": [
    "aa_freq = reduce_by_kmer_frequency(df)"
   ]
  },
  {
   "cell_type": "code",
   "execution_count": 11,
   "id": "lasting-principal",
   "metadata": {},
   "outputs": [
    {
     "name": "stderr",
     "output_type": "stream",
     "text": [
      "/Users/in-divye.singh/anaconda3/envs/life-science/lib/python3.6/site-packages/smart_open/smart_open_lib.py:254: UserWarning: This function is deprecated, use smart_open.open instead. See the migration notes for details: https://github.com/RaRe-Technologies/smart_open/blob/master/README.rst#migrating-to-the-new-open-function\n",
      "  'See the migration notes for details: %s' % _MIGRATION_NOTES_URL\n",
      "Creating vectors: 100%|██████████| 712/712 [00:01<00:00, 508.40sequence/s]\n"
     ]
    }
   ],
   "source": [
    "uniprot_embedding = biovec.models.load_protvec(\"../data/embeddings/uniprot__kmer_3_contextWindow_10_vector_100_reduction_None\")\n",
    "\n",
    "avg_protvec = convert_sequences_to_avg_vectors(df['Sequence'], uniprot_embedding, kmer=3)\n",
    "avg_protvec = avg_protvec.reset_index(drop=True)"
   ]
  },
  {
   "cell_type": "code",
   "execution_count": 12,
   "id": "anonymous-friendly",
   "metadata": {},
   "outputs": [],
   "source": [
    "physicochemical_prop = get_physicochemical_properties(df)"
   ]
  },
  {
   "cell_type": "code",
   "execution_count": 13,
   "id": "saving-civilization",
   "metadata": {},
   "outputs": [],
   "source": [
    "X = pd.concat([aa_freq, avg_protvec, physicochemical_prop[['helix','turn','sheet']]], axis=1)"
   ]
  },
  {
   "cell_type": "code",
   "execution_count": 14,
   "id": "material-adolescent",
   "metadata": {},
   "outputs": [],
   "source": [
    "y = df['MIC']"
   ]
  },
  {
   "cell_type": "code",
   "execution_count": 15,
   "id": "adjustable-bruce",
   "metadata": {},
   "outputs": [],
   "source": [
    "X_train, X_test, y_train, y_test = train_test_split(X, y, test_size=0.2, random_state=42)"
   ]
  },
  {
   "cell_type": "code",
   "execution_count": 16,
   "id": "regional-investment",
   "metadata": {},
   "outputs": [],
   "source": [
    "from geneal.genetic_algorithms import ContinuousGenAlgSolver"
   ]
  },
  {
   "cell_type": "code",
   "execution_count": 17,
   "id": "transsexual-manufacturer",
   "metadata": {},
   "outputs": [],
   "source": [
    "from sklearn.model_selection import cross_val_score, cross_validate"
   ]
  },
  {
   "cell_type": "raw",
   "id": "concerned-recommendation",
   "metadata": {},
   "source": [
    "def fitness_function(mat_chromosome):\n",
    "    C, gamma = mat_chromosome\n",
    "    svr = SVR(C=C, gamma=gamma)\n",
    "    cv_score = cross_val_score(svr, X_train, y_train, cv=5, scoring=mape_scorer)\n",
    "    return cv_score.mean()"
   ]
  },
  {
   "cell_type": "raw",
   "id": "dated-original",
   "metadata": {},
   "source": [
    "solver = ContinuousGenAlgSolver(\n",
    "    n_genes=2, \n",
    "    fitness_function=fitness_function,\n",
    "    pop_size=10,\n",
    "    max_gen=100,\n",
    "    mutation_rate=0.1,\n",
    "    selection_rate=0.6,\n",
    "    selection_strategy=\"roulette_wheel\",\n",
    "    variables_limits=[(0, 10), (0,1000)]\n",
    ")"
   ]
  },
  {
   "cell_type": "raw",
   "id": "least-night",
   "metadata": {},
   "source": [
    "solver.solve()"
   ]
  },
  {
   "cell_type": "code",
   "execution_count": 18,
   "id": "sapphire-grace",
   "metadata": {},
   "outputs": [
    {
     "data": {
      "text/plain": [
       "-437113.7900073404"
      ]
     },
     "execution_count": 18,
     "metadata": {},
     "output_type": "execute_result"
    }
   ],
   "source": [
    "svr = SVR()\n",
    "cv_score = cross_val_score(svr, X_train, y_train, cv=5, scoring=mape_scorer)\n",
    "cv_score.mean()"
   ]
  },
  {
   "cell_type": "code",
   "execution_count": 19,
   "id": "collected-sweden",
   "metadata": {},
   "outputs": [
    {
     "data": {
      "text/plain": [
       "array([  -13506.59416206,   -13582.64853974,  -126232.09412479,\n",
       "          -6965.90307535, -2025281.71013476])"
      ]
     },
     "execution_count": 19,
     "metadata": {},
     "output_type": "execute_result"
    }
   ],
   "source": [
    "cv_score"
   ]
  },
  {
   "cell_type": "code",
   "execution_count": 20,
   "id": "burning-person",
   "metadata": {},
   "outputs": [],
   "source": [
    "from statsmodels.distributions.empirical_distribution import ECDF"
   ]
  },
  {
   "cell_type": "code",
   "execution_count": 21,
   "id": "facial-warehouse",
   "metadata": {},
   "outputs": [],
   "source": [
    "ecdf = ECDF(df['MIC'])"
   ]
  },
  {
   "cell_type": "code",
   "execution_count": 55,
   "id": "described-connecticut",
   "metadata": {},
   "outputs": [],
   "source": [
    "sample_weights = [-np.log(mic*1e-6)+np.exp(mic*1e-2)/4 for mic in y_train]#[ecdf(mic)+(mic/2) for mic in y_train]"
   ]
  },
  {
   "cell_type": "code",
   "execution_count": 56,
   "id": "hundred-justice",
   "metadata": {},
   "outputs": [
    {
     "data": {
      "text/plain": [
       "1.6340301855208665"
      ]
     },
     "execution_count": 56,
     "metadata": {},
     "output_type": "execute_result"
    }
   ],
   "source": [
    "1/(X_train.shape[1]*X_train.values.var())"
   ]
  },
  {
   "cell_type": "code",
   "execution_count": 57,
   "id": "rough-there",
   "metadata": {},
   "outputs": [],
   "source": [
    "svr = SVR(C=1, gamma='scale') # gamma=1.5831 for full data"
   ]
  },
  {
   "cell_type": "code",
   "execution_count": 58,
   "id": "popular-rotation",
   "metadata": {},
   "outputs": [],
   "source": [
    "_ = svr.fit(X_train, y_train)#, sample_weight=sample_weights)"
   ]
  },
  {
   "cell_type": "code",
   "execution_count": 59,
   "id": "reduced-wealth",
   "metadata": {},
   "outputs": [],
   "source": [
    "y_pred = svr.predict(X_test)"
   ]
  },
  {
   "cell_type": "code",
   "execution_count": 60,
   "id": "after-starter",
   "metadata": {},
   "outputs": [
    {
     "data": {
      "text/plain": [
       "243778.2299420093"
      ]
     },
     "execution_count": 60,
     "metadata": {},
     "output_type": "execute_result"
    }
   ],
   "source": [
    "mean_absolute_percentage_error(y_test, y_pred)"
   ]
  },
  {
   "cell_type": "code",
   "execution_count": 61,
   "id": "psychological-manor",
   "metadata": {},
   "outputs": [],
   "source": [
    "from scipy.stats import pearsonr"
   ]
  },
  {
   "cell_type": "code",
   "execution_count": 62,
   "id": "sunset-imagination",
   "metadata": {},
   "outputs": [
    {
     "data": {
      "text/plain": [
       "(0.34396290322026957, 2.597340231614349e-05)"
      ]
     },
     "execution_count": 62,
     "metadata": {},
     "output_type": "execute_result"
    }
   ],
   "source": [
    "pearsonr(y_test, y_pred)"
   ]
  },
  {
   "cell_type": "code",
   "execution_count": 63,
   "id": "cross-banking",
   "metadata": {},
   "outputs": [],
   "source": [
    "ape = 100*np.abs(y_test-y_pred)/y_test"
   ]
  },
  {
   "cell_type": "code",
   "execution_count": 64,
   "id": "living-collins",
   "metadata": {
    "scrolled": true
   },
   "outputs": [
    {
     "data": {
      "text/plain": [
       "[(0.006999999999999999, 5.983095454299256, 85372.79220427509),\n",
       " (8.71, 11.091560752950192, 27.34283298450277),\n",
       " (0.35, 8.527030405865087, 2336.2944016757397),\n",
       " (12.5, 4.253148513471693, 65.97481189222646),\n",
       " (0.125, 7.952905461097618, 6262.324368878095),\n",
       " (2.5, 8.411730169133016, 236.46920676532062),\n",
       " (33.0, 11.012625158967136, 66.6284086091905),\n",
       " (12.0, 8.074890801165228, 32.7092433236231),\n",
       " (10.8, 6.969646219940291, 35.46623870425657),\n",
       " (5.0, 8.590476019832998, 71.80952039665996),\n",
       " (2.85, 10.513114414062176, 268.8812075109536),\n",
       " (0.46, 8.239585758516075, 1691.2142953295815),\n",
       " (10.0, 7.083418935572015, 29.165810644279844),\n",
       " (20.0, 5.482498947575924, 72.58750526212039),\n",
       " (8.0, 5.4641142488910095, 31.698571888862382),\n",
       " (2.9999999999999997e-05, 6.5332500947655925, 21777400.315885313),\n",
       " (0.2, 17.71213658978599, 8756.068294892995),\n",
       " (100.0, 8.1840921748131, 91.8159078251869),\n",
       " (50.0, 5.893696894455158, 88.21260621108968),\n",
       " (0.14, 5.459704472502316, 3799.7889089302253),\n",
       " (0.55, 5.513113375341418, 902.384250062076),\n",
       " (100.0, 4.1080533267586645, 95.89194667324132),\n",
       " (8e-05, 8.831168818630243, 11038861.023287801),\n",
       " (10.81, 8.346855773846503, 22.78579302639683),\n",
       " (0.009000000000000001, 7.40157412669272, 82139.71251880798),\n",
       " (0.006999999999999999, 8.12689681391459, 115998.52591306558),\n",
       " (2.4, 9.594601468238935, 299.7750611766223),\n",
       " (6.0, 8.260873454748538, 37.681224245808956),\n",
       " (237.0, 8.579808904785864, 96.37982746633509),\n",
       " (100.0, 6.873818899402731, 93.12618110059726),\n",
       " (7.5, 7.817877925022775, 4.238372333637),\n",
       " (0.006, 7.471610477471661, 124426.84129119435),\n",
       " (0.034, -0.1884867969618398, 654.3729322407052),\n",
       " (28.6, 1.555651641524662, 94.56065859606763),\n",
       " (0.899, 3.976431936525614, 342.31723431875577),\n",
       " (3.1, 4.577718590169336, 47.66834161836566),\n",
       " (0.79, 4.675522967698364, 491.83835034156505),\n",
       " (6.0, 4.899363314710128, 18.343944754831195),\n",
       " (23.5, 7.772202947784568, 66.92679596687418),\n",
       " (165.0, 9.242315902012294, 94.39859642302285),\n",
       " (2.26, 6.08983253324391, 169.4616165152173),\n",
       " (0.593, 1.637819006530794, 176.19207530030255),\n",
       " (29.749000000000002, 7.847779746692088, 73.62002169252047),\n",
       " (52.208999999999996, 14.048411573648893, 73.09197346501773),\n",
       " (0.8, 6.847446004191612, 755.9307505239515),\n",
       " (0.13699999999999998, 0.6639401389777664, 384.6278386699025),\n",
       " (1.2, 7.270133702957751, 505.84447524647925),\n",
       " (0.2, 4.363665286548785, 2081.8326432743925),\n",
       " (23.8, 10.364925837627212, 56.44989143854113),\n",
       " (0.255, 0.16955561847045253, 33.50760059982254),\n",
       " (6.9, 3.8355758594823683, 44.41194406547292),\n",
       " (1.2, 3.525335870850883, 193.7779892375736),\n",
       " (3.0, 5.582672227822144, 86.08907426073813),\n",
       " (19.3, 8.248402106154806, 57.26216525308391),\n",
       " (0.644, 3.58244333260731, 456.2800205911972),\n",
       " (200.0, 10.709053503262874, 94.64547324836856),\n",
       " (7.0, 9.65365533793813, 37.90936197054471),\n",
       " (0.33799999999999997, 3.334908408518711, 886.6592924611572),\n",
       " (0.8, 11.293779419242014, 1311.7224274052517),\n",
       " (35.77, 8.45908156479615, 76.35146333576698),\n",
       " (0.009000000000000001, 0.0659073936447534, 632.3043738305932),\n",
       " (0.026000000000000002, 7.767245807171378, 29774.022335274527),\n",
       " (10.0, 10.126122931637061, 1.2612293163706134),\n",
       " (0.005, 8.091406452667108, 161728.12905334216),\n",
       " (19.745, 14.137875493924271, 28.397693117628407),\n",
       " (1.115, 7.756969035891923, 595.6922902145222),\n",
       " (9.7, 10.970304010744215, 13.095917636538307),\n",
       " (0.023, 12.602359059804588, 54692.86547741125),\n",
       " (0.023, 6.831060177308874, 29600.261640473367),\n",
       " (245.0, 11.345096893373748, 95.36934820678623),\n",
       " (100.0, 4.023000133321988, 95.97699986667801),\n",
       " (8.9, 8.954081095605702, 0.60765275961462),\n",
       " (8.0, 8.248917815919976, 3.1114726989996955),\n",
       " (1.0, 5.771100838125703, 477.1100838125703),\n",
       " (0.17800000000000002, 6.5066668665149665, 3555.4308238848125),\n",
       " (0.138, 3.9312214119741444, 2748.711168097206),\n",
       " (33.3, 3.9000549931655684, 88.28812314364694),\n",
       " (33.0, 7.379469609082189, 77.63797088156912),\n",
       " (1.0, 0.051554600222122104, 94.84453997778779),\n",
       " (0.008, 3.7067658152485983, 46234.57269060748),\n",
       " (0.94, 11.662146396124571, 1140.653871928146),\n",
       " (3.49, 5.9830650765114255, 71.43452941293482),\n",
       " (3.69, 7.993791288242685, 116.63391025047926),\n",
       " (0.91, 6.032158015986942, 562.8745072513124),\n",
       " (0.002, 3.360947751811251, 167947.38759056255),\n",
       " (28.68, 10.578652843074453, 63.11487851089801),\n",
       " (10.0, 6.6620755481526635, 33.379244518473364),\n",
       " (126.0, 9.718924894719617, 92.28656754387332),\n",
       " (3.27, 4.34663933244463, 32.92475022766452),\n",
       " (0.013999999999999999, 7.627726738136868, 54383.76241526335),\n",
       " (0.17, 4.269651909539178, 2411.5599467877514),\n",
       " (34.1, 10.843260323790766, 68.20158262817958),\n",
       " (285.0, 14.414310275815355, 94.94234727164373),\n",
       " (136.0, 8.220643358210985, 93.95540929543309),\n",
       " (5.0, 13.159127749610862, 163.18255499221726),\n",
       " (0.98, 5.0692183962957476, 417.2671832954844),\n",
       " (315.0, 8.02573295327476, 97.45214826880165),\n",
       " (2.1, 5.697702414201946, 171.31916258104505),\n",
       " (283.0, 9.67188898208097, 96.58237138442368),\n",
       " (160.0, 11.108983647773996, 93.05688522014125),\n",
       " (13.0, 3.4183282756294933, 73.70516711054236),\n",
       " (0.8109999999999999, 8.578411555386479, 957.7572817985796),\n",
       " (113.0, 9.96408140179876, 91.1822288479657),\n",
       " (0.005, 0.1458792314309072, 2817.584628618144),\n",
       " (100.0, 4.514533737389417, 95.48546626261059),\n",
       " (165.0, 11.981003407514367, 92.73878581362764),\n",
       " (0.005, 2.3951365806687157, 47802.731613374315),\n",
       " (0.011309999999999999, 0.116977513547873, 934.2839394153228),\n",
       " (263.0, 7.84989994833326, 97.01524716793412),\n",
       " (333.0, 9.891065469437745, 97.02971006923791),\n",
       " (220.0, 9.554600495250533, 95.65699977488613),\n",
       " (0.22, 5.621511102088414, 2455.2323191310975),\n",
       " (187.0, 8.27849960376066, 95.57299486429912),\n",
       " (0.255, 0.3366329940251802, 32.012938833404),\n",
       " (0.002, 0.4021241679734313, 20006.208398671562),\n",
       " (142.0, 10.473491991906092, 92.62430141415065),\n",
       " (6.5, 12.439920088652102, 91.38338597926311),\n",
       " (100.0, 5.983887066044023, 94.01611293395598),\n",
       " (10.0, 6.738803285495095, 32.61196714504905),\n",
       " (7.4, 5.237951465426725, 29.216872088828037),\n",
       " (65.8, 7.124426984100747, 89.17260336762804),\n",
       " (100.0, 8.59828534395229, 91.40171465604772),\n",
       " (115.0, 9.978658460114255, 91.32290568685717),\n",
       " (50.0, 12.842319171212212, 74.31536165757558),\n",
       " (8.5, 4.9464666958270564, 41.80627416674051),\n",
       " (15.32, 5.974631070188375, 61.00110267501061),\n",
       " (1.5, 8.49440864634119, 466.29390975607936),\n",
       " (0.21, 0.019479468350104057, 90.72406269042665),\n",
       " (45.0, 7.604655544344527, 83.10076545701217),\n",
       " (35.4, 5.305791425534564, 85.01188862843343),\n",
       " (6.0, 6.873852242401183, 14.564204040019717),\n",
       " (0.7, 9.899752191456201, 1314.250313065172),\n",
       " (117.0, 6.899248211208846, 94.10320665708645),\n",
       " (0.001, 0.9391239247822831, 93812.39247822831),\n",
       " (0.001, 7.857515190107641, 785651.5190107641),\n",
       " (277.0, 10.79592218230101, 96.1025551688444),\n",
       " (4.9, 5.322393110337532, 8.620267557908806),\n",
       " (0.88, 6.919821546017099, 686.343357501943),\n",
       " (7.0, 3.3072106324739714, 52.75413382180041),\n",
       " (1.6, 7.167156184157365, 347.94726150983536),\n",
       " (6.0, 5.946115687972499, 0.8980718671250129),\n",
       " (3.24, 6.749181621296999, 108.30807473138884),\n",
       " (0.004, 3.3267677692612807, 83069.19423153202)]"
      ]
     },
     "execution_count": 64,
     "metadata": {},
     "output_type": "execute_result"
    }
   ],
   "source": [
    "list(zip(y_test, y_pred, ape))"
   ]
  },
  {
   "cell_type": "code",
   "execution_count": 65,
   "id": "sublime-check",
   "metadata": {},
   "outputs": [
    {
     "data": {
      "text/plain": [
       "<matplotlib.axes._subplots.AxesSubplot at 0x1a1d77ba20>"
      ]
     },
     "execution_count": 65,
     "metadata": {},
     "output_type": "execute_result"
    },
    {
     "data": {
      "image/png": "[encoded data removed]",
      "text/plain": [
       "<Figure size 432x288 with 1 Axes>"
      ]
     },
     "metadata": {
      "needs_background": "light"
     },
     "output_type": "display_data"
    }
   ],
   "source": [
    "sns.histplot(x=y_pred, color='red')"
   ]
  },
  {
   "cell_type": "code",
   "execution_count": 66,
   "id": "suited-scope",
   "metadata": {},
   "outputs": [
    {
     "data": {
      "text/plain": [
       "<matplotlib.axes._subplots.AxesSubplot at 0x104284550>"
      ]
     },
     "execution_count": 66,
     "metadata": {},
     "output_type": "execute_result"
    },
    {
     "data": {
      "image/png": "[encoded data removed]",
      "text/plain": [
       "<Figure size 432x288 with 1 Axes>"
      ]
     },
     "metadata": {
      "needs_background": "light"
     },
     "output_type": "display_data"
    }
   ],
   "source": [
    "sns.histplot(x=y_test, color='green')"
   ]
  },
  {
   "cell_type": "code",
   "execution_count": 68,
   "id": "independent-composition",
   "metadata": {},
   "outputs": [
    {
     "data": {
      "text/plain": [
       "<matplotlib.axes._subplots.AxesSubplot at 0x1a1d804be0>"
      ]
     },
     "execution_count": 68,
     "metadata": {},
     "output_type": "execute_result"
    },
    {
     "data": {
      "image/png": "[encoded data removed]",
      "text/plain": [
       "<Figure size 432x288 with 1 Axes>"
      ]
     },
     "metadata": {
      "needs_background": "light"
     },
     "output_type": "display_data"
    }
   ],
   "source": [
    "sns.histplot(x=sample_weights, color='blue')"
   ]
  },
  {
   "cell_type": "code",
   "execution_count": 53,
   "id": "voluntary-enemy",
   "metadata": {},
   "outputs": [],
   "source": [
    "sample_weights = [-np.log(mic*1e-6)+np.exp(mic*1e-2)/4 for mic in y_train]"
   ]
  },
  {
   "cell_type": "code",
   "execution_count": null,
   "id": "rising-brunswick",
   "metadata": {},
   "outputs": [],
   "source": []
  },
  {
   "cell_type": "code",
   "execution_count": 67,
   "id": "sudden-wisconsin",
   "metadata": {},
   "outputs": [
    {
     "data": {
      "text/plain": [
       "<seaborn.axisgrid.FacetGrid at 0x1a1d80af98>"
      ]
     },
     "execution_count": 67,
     "metadata": {},
     "output_type": "execute_result"
    },
    {
     "data": {
      "image/png": "[encoded data removed]",
      "text/plain": [
       "<Figure size 360x360 with 1 Axes>"
      ]
     },
     "metadata": {
      "needs_background": "light"
     },
     "output_type": "display_data"
    }
   ],
   "source": [
    "sns.relplot(x=y_train, y=sample_weights, kind='line', color='blue')"
   ]
  },
  {
   "cell_type": "code",
   "execution_count": 77,
   "id": "beginning-sheffield",
   "metadata": {},
   "outputs": [
    {
     "data": {
      "text/plain": [
       "9.889910829090946"
      ]
     },
     "execution_count": 77,
     "metadata": {},
     "output_type": "execute_result"
    }
   ],
   "source": [
    "mic = 100\n",
    "-np.log(mic*1e-6)+np.exp(mic*1e-2)/4"
   ]
  },
  {
   "cell_type": "code",
   "execution_count": null,
   "id": "naval-active",
   "metadata": {},
   "outputs": [],
   "source": []
  },
  {
   "cell_type": "code",
   "execution_count": null,
   "id": "induced-nowhere",
   "metadata": {},
   "outputs": [],
   "source": []
  }
 ],
 "metadata": {
  "kernelspec": {
   "display_name": "Python 3",
   "language": "python",
   "name": "python3"
  },
  "language_info": {
   "codemirror_mode": {
    "name": "ipython",
    "version": 3
   },
   "file_extension": ".py",
   "mimetype": "text/x-python",
   "name": "python",
   "nbconvert_exporter": "python",
   "pygments_lexer": "ipython3",
   "version": "3.6.10"
  }
 },
 "nbformat": 4,
 "nbformat_minor": 5
}
