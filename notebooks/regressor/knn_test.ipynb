{
 "cells": [
  {
   "cell_type": "code",
   "execution_count": 1,
   "id": "judicial-candy",
   "metadata": {},
   "outputs": [
    {
     "name": "stdout",
     "output_type": "stream",
     "text": [
      "/Users/in-divye.singh/Documents/Projects/MIC_predictor/src\n"
     ]
    }
   ],
   "source": [
    "cd ../../src"
   ]
  },
  {
   "cell_type": "code",
   "execution_count": 2,
   "id": "waiting-stake",
   "metadata": {},
   "outputs": [],
   "source": [
    "import biovec\n",
    "import numpy as np\n",
    "import pandas as pd\n",
    "from itertools import chain, combinations\n",
    "from collections import Counter\n",
    "\n",
    "from utils import *\n",
    "\n",
    "from sklearn.neighbors import KNeighborsRegressor\n",
    "from sklearn.metrics import make_scorer\n",
    "from sklearn.model_selection import GridSearchCV\n",
    "from sklearn.metrics import mean_squared_error, mean_absolute_error\n",
    "from sklearn.model_selection import train_test_split\n",
    "\n",
    "from Bio.SeqUtils.ProtParam import ProteinAnalysis"
   ]
  },
  {
   "cell_type": "code",
   "execution_count": 3,
   "id": "identified-milwaukee",
   "metadata": {},
   "outputs": [],
   "source": [
    "def mean_absolute_percentage_error(y_true, y_pred): \n",
    "    y_true, y_pred = np.array(y_true), np.array(y_pred)\n",
    "    return np.mean(np.abs((y_true - y_pred) / y_true)) * 100\n",
    "\n",
    "mape_scorer = make_scorer(mean_absolute_percentage_error, greater_is_better=False)"
   ]
  },
  {
   "cell_type": "code",
   "execution_count": 4,
   "id": "underlying-convenience",
   "metadata": {},
   "outputs": [],
   "source": [
    "avp_ic50 = pd.read_csv(\"../data/raw/AVP-IC50Pred_train.csv\")\n",
    "ha_avp = pd.read_csv(\"../data/raw/HA_AVP.csv\")"
   ]
  },
  {
   "cell_type": "code",
   "execution_count": 5,
   "id": "urban-toolbox",
   "metadata": {},
   "outputs": [],
   "source": [
    "df = pd.concat([avp_ic50[['Sequence','MIC']], ha_avp], axis=0).drop_duplicates(['Sequence']).reset_index(drop=True)\n",
    "df = sequence_filtering(df)"
   ]
  },
  {
   "cell_type": "code",
   "execution_count": 6,
   "id": "endless-cancer",
   "metadata": {},
   "outputs": [
    {
     "data": {
      "text/html": [
       "<div>\n",
       "<style scoped>\n",
       "    .dataframe tbody tr th:only-of-type {\n",
       "        vertical-align: middle;\n",
       "    }\n",
       "\n",
       "    .dataframe tbody tr th {\n",
       "        vertical-align: top;\n",
       "    }\n",
       "\n",
       "    .dataframe thead th {\n",
       "        text-align: right;\n",
       "    }\n",
       "</style>\n",
       "<table border=\"1\" class=\"dataframe\">\n",
       "  <thead>\n",
       "    <tr style=\"text-align: right;\">\n",
       "      <th></th>\n",
       "      <th>Sequence</th>\n",
       "      <th>MIC</th>\n",
       "    </tr>\n",
       "  </thead>\n",
       "  <tbody>\n",
       "    <tr>\n",
       "      <th>0</th>\n",
       "      <td>AAQRRGRVGRNPNQVGD</td>\n",
       "      <td>442.00000</td>\n",
       "    </tr>\n",
       "    <tr>\n",
       "      <th>1</th>\n",
       "      <td>HRILARIRQMMT</td>\n",
       "      <td>435.50000</td>\n",
       "    </tr>\n",
       "    <tr>\n",
       "      <th>2</th>\n",
       "      <td>RNPSQVGD</td>\n",
       "      <td>383.00000</td>\n",
       "    </tr>\n",
       "    <tr>\n",
       "      <th>3</th>\n",
       "      <td>RVGRNPNQVGD</td>\n",
       "      <td>374.00000</td>\n",
       "    </tr>\n",
       "    <tr>\n",
       "      <th>4</th>\n",
       "      <td>AAQRRGRIGRNPSQVGD</td>\n",
       "      <td>358.00000</td>\n",
       "    </tr>\n",
       "    <tr>\n",
       "      <th>...</th>\n",
       "      <td>...</td>\n",
       "      <td>...</td>\n",
       "    </tr>\n",
       "    <tr>\n",
       "      <th>707</th>\n",
       "      <td>NGAICWGPCPTAFRQIGNCGHFKVRCCKIR</td>\n",
       "      <td>0.11515</td>\n",
       "    </tr>\n",
       "    <tr>\n",
       "      <th>708</th>\n",
       "      <td>CFPYITRPGTYHDWWYTRKNRQ</td>\n",
       "      <td>0.30000</td>\n",
       "    </tr>\n",
       "    <tr>\n",
       "      <th>709</th>\n",
       "      <td>YTSLIHSLIEESQNQQEKNEQELLELDKWASLWNWF</td>\n",
       "      <td>0.01131</td>\n",
       "    </tr>\n",
       "    <tr>\n",
       "      <th>710</th>\n",
       "      <td>GTNLSVPNPLGFFPDHQLDPAFGANSNNPDWDFNPNKDHWPEANKVG</td>\n",
       "      <td>0.00008</td>\n",
       "    </tr>\n",
       "    <tr>\n",
       "      <th>711</th>\n",
       "      <td>SWETWEREIENYTRQIYRILEESQEQQDRNERDLLE</td>\n",
       "      <td>0.00200</td>\n",
       "    </tr>\n",
       "  </tbody>\n",
       "</table>\n",
       "<p>712 rows × 2 columns</p>\n",
       "</div>"
      ],
      "text/plain": [
       "                                            Sequence        MIC\n",
       "0                                  AAQRRGRVGRNPNQVGD  442.00000\n",
       "1                                       HRILARIRQMMT  435.50000\n",
       "2                                           RNPSQVGD  383.00000\n",
       "3                                        RVGRNPNQVGD  374.00000\n",
       "4                                  AAQRRGRIGRNPSQVGD  358.00000\n",
       "..                                               ...        ...\n",
       "707                   NGAICWGPCPTAFRQIGNCGHFKVRCCKIR    0.11515\n",
       "708                           CFPYITRPGTYHDWWYTRKNRQ    0.30000\n",
       "709             YTSLIHSLIEESQNQQEKNEQELLELDKWASLWNWF    0.01131\n",
       "710  GTNLSVPNPLGFFPDHQLDPAFGANSNNPDWDFNPNKDHWPEANKVG    0.00008\n",
       "711             SWETWEREIENYTRQIYRILEESQEQQDRNERDLLE    0.00200\n",
       "\n",
       "[712 rows x 2 columns]"
      ]
     },
     "execution_count": 6,
     "metadata": {},
     "output_type": "execute_result"
    }
   ],
   "source": [
    "df"
   ]
  },
  {
   "cell_type": "code",
   "execution_count": 7,
   "id": "personal-sheep",
   "metadata": {},
   "outputs": [],
   "source": [
    "def get_physicochemical_properties(df):\n",
    "    params = ['aromaticity', 'helix', 'turn', 'sheet', 'gravy', 'net_charge_at_pH7point4']\n",
    "\n",
    "    prop = []\n",
    "    for seq in df.Sequence:\n",
    "        X = ProteinAnalysis(seq)\n",
    "        aromaticity = X.aromaticity()\n",
    "        sec_struc = X.secondary_structure_fraction()\n",
    "        helix = sec_struc[0]\n",
    "        turn = sec_struc[1]\n",
    "        sheet = sec_struc[2]\n",
    "        gravy = X.gravy() # hydrophobicity related\n",
    "        net_charge_at_pH7point4 = X.charge_at_pH(7.4)\n",
    "\n",
    "        prop.append([aromaticity, helix, turn, sheet, gravy, net_charge_at_pH7point4])\n",
    "    return pd.DataFrame(prop, columns=params)"
   ]
  },
  {
   "cell_type": "code",
   "execution_count": 12,
   "id": "velvet-disabled",
   "metadata": {},
   "outputs": [],
   "source": [
    "aa_freq = reduce_by_kmer_frequency(df)"
   ]
  },
  {
   "cell_type": "code",
   "execution_count": 9,
   "id": "virgin-vertex",
   "metadata": {},
   "outputs": [
    {
     "name": "stderr",
     "output_type": "stream",
     "text": [
      "/Users/in-divye.singh/anaconda3/envs/life-science/lib/python3.6/site-packages/smart_open/smart_open_lib.py:254: UserWarning: This function is deprecated, use smart_open.open instead. See the migration notes for details: https://github.com/RaRe-Technologies/smart_open/blob/master/README.rst#migrating-to-the-new-open-function\n",
      "  'See the migration notes for details: %s' % _MIGRATION_NOTES_URL\n",
      "Creating vectors: 100%|██████████| 712/712 [00:01<00:00, 381.20sequence/s]\n"
     ]
    }
   ],
   "source": [
    "uniprot_embedding = biovec.models.load_protvec(\"../data/embeddings/uniprot__kmer_3_contextWindow_10_vector_100_reduction_None\")\n",
    "\n",
    "avg_protvec = convert_sequences_to_avg_vectors(df['Sequence'], uniprot_embedding, kmer=3)\n",
    "avg_protvec = avg_protvec.reset_index(drop=True)"
   ]
  },
  {
   "cell_type": "code",
   "execution_count": 14,
   "id": "advance-enemy",
   "metadata": {},
   "outputs": [],
   "source": [
    "physicochemical_prop = get_physicochemical_properties(df)"
   ]
  },
  {
   "cell_type": "code",
   "execution_count": 16,
   "id": "overall-tolerance",
   "metadata": {},
   "outputs": [],
   "source": [
    "X = pd.concat([aa_freq, avg_protvec, physicochemical_prop[['helix','turn','sheet']]], axis=1)"
   ]
  },
  {
   "cell_type": "code",
   "execution_count": 18,
   "id": "developed-bumper",
   "metadata": {},
   "outputs": [],
   "source": [
    "y = df['MIC']"
   ]
  },
  {
   "cell_type": "code",
   "execution_count": 49,
   "id": "every-filing",
   "metadata": {},
   "outputs": [],
   "source": [
    "X_train, X_test, y_train, y_test = train_test_split(X, y, test_size=0.2, random_state=42)"
   ]
  },
  {
   "cell_type": "code",
   "execution_count": 50,
   "id": "powerful-country",
   "metadata": {},
   "outputs": [],
   "source": [
    "knn = KNeighborsRegressor(metric='euclidean', n_neighbors=1, weights='uniform')"
   ]
  },
  {
   "cell_type": "code",
   "execution_count": 51,
   "id": "abstract-former",
   "metadata": {},
   "outputs": [],
   "source": [
    "_ = knn.fit(X_train, y_train)"
   ]
  },
  {
   "cell_type": "code",
   "execution_count": 52,
   "id": "liked-liberal",
   "metadata": {},
   "outputs": [],
   "source": [
    "y_pred = knn.predict(X_test)"
   ]
  },
  {
   "cell_type": "code",
   "execution_count": 53,
   "id": "violent-burns",
   "metadata": {},
   "outputs": [
    {
     "data": {
      "text/plain": [
       "5067.804799150274"
      ]
     },
     "execution_count": 53,
     "metadata": {},
     "output_type": "execute_result"
    }
   ],
   "source": [
    "mean_absolute_percentage_error(y_test, y_pred)"
   ]
  },
  {
   "cell_type": "code",
   "execution_count": 54,
   "id": "aquatic-possible",
   "metadata": {},
   "outputs": [],
   "source": [
    "from scipy.stats import pearsonr"
   ]
  },
  {
   "cell_type": "code",
   "execution_count": 55,
   "id": "departmental-blank",
   "metadata": {},
   "outputs": [
    {
     "data": {
      "text/plain": [
       "(0.661191812130947, 2.53367270036445e-19)"
      ]
     },
     "execution_count": 55,
     "metadata": {},
     "output_type": "execute_result"
    }
   ],
   "source": [
    "pearsonr(y_test, y_pred)"
   ]
  },
  {
   "cell_type": "code",
   "execution_count": 60,
   "id": "small-trigger",
   "metadata": {},
   "outputs": [],
   "source": [
    "ape = 100*np.abs(y_test-y_pred)/y_test"
   ]
  },
  {
   "cell_type": "code",
   "execution_count": 61,
   "id": "dried-provision",
   "metadata": {
    "scrolled": false
   },
   "outputs": [
    {
     "data": {
      "text/plain": [
       "[(0.79, 1.7, 115.1898734177215),\n",
       " (3.52, 11.6, 229.54545454545453),\n",
       " (23.5, 14.79, 37.06382978723405),\n",
       " (13.0, 0.02, 99.84615384615384),\n",
       " (2.0, 1.0, 50.0),\n",
       " (2.02, 24.0, 1088.118811881188),\n",
       " (20.0, 15.0, 25.0),\n",
       " (21.5, 23.8, 10.697674418604654),\n",
       " (100.0, 14.79, 85.21),\n",
       " (2.0, 2.0, 0.0),\n",
       " (160.0, 25.0, 84.375),\n",
       " (54.4, 45.5, 16.360294117647058),\n",
       " (100.0, 100.0, 0.0),\n",
       " (0.006999999999999999, 0.011309999999999999, 61.57142857142857),\n",
       " (0.597, 0.067, 88.77721943048577),\n",
       " (0.026000000000000002, 0.021, 19.230769230769234),\n",
       " (118.0, 333.0, 182.20338983050848),\n",
       " (3.38, 7.82, 131.36094674556216),\n",
       " (8.0, 6.0, 25.0),\n",
       " (6.8, 1.7, 75.0),\n",
       " (1.34, 0.66, 50.74626865671642),\n",
       " (24.6, 13.0, 47.154471544715456),\n",
       " (0.255, 25.91, 10060.78431372549),\n",
       " (0.62, 0.005, 99.19354838709677),\n",
       " (100.0, 0.66, 99.34),\n",
       " (0.001, 0.016, 1500.0),\n",
       " (117.0, 200.0, 70.94017094017094),\n",
       " (0.75, 3.0, 300.0),\n",
       " (10.0, 0.67, 93.3),\n",
       " (5.47, 7.82, 42.96160877513712),\n",
       " (200.0, 33.0, 83.5),\n",
       " (41.1, 16.0, 61.070559610705594),\n",
       " (10.5, 29.5, 180.95238095238096),\n",
       " (0.003, 0.011000000000000001, 266.6666666666667),\n",
       " (27.0, 27.0, 0.0),\n",
       " (56.0, 56.123000000000005, 0.21964285714286547),\n",
       " (50.0, 35.77, 28.459999999999994),\n",
       " (15.32, 7.6, 50.39164490861619),\n",
       " (36.226, 1.2670000000000001, 96.50251200795009),\n",
       " (0.028999999999999998, 0.034, 17.241379310344843),\n",
       " (0.33799999999999997, 0.03, 91.12426035502958),\n",
       " (24.3, 0.2, 99.17695473251028),\n",
       " (0.002, 0.026000000000000002, 1200.0),\n",
       " (100.0, 100.0, 0.0),\n",
       " (2.1, 3.5, 66.66666666666666),\n",
       " (6.9, 240.0, 3378.260869565217),\n",
       " (0.1, 0.162, 62.0),\n",
       " (0.065, 0.392, 503.0769230769231),\n",
       " (142.0, 126.0, 11.267605633802816),\n",
       " (0.07, 0.015, 78.57142857142858),\n",
       " (7.1, 2.1, 70.42253521126761),\n",
       " (0.049, 0.067, 36.734693877551024),\n",
       " (100.0, 93.0, 7.0),\n",
       " (12.3, 0.02, 99.83739837398373),\n",
       " (0.46, 35.4, 7595.652173913043),\n",
       " (333.0, 115.0, 65.46546546546547),\n",
       " (5.0, 10.0, 100.0),\n",
       " (0.005, 0.002, 60.0),\n",
       " (5.7, 6.5, 14.035087719298243),\n",
       " (49.6, 0.35, 99.29435483870968),\n",
       " (43.501999999999995, 120.524, 177.053928555009),\n",
       " (9.83, 7.6, 22.685656154628692),\n",
       " (2.0, 3.24, 62.000000000000014),\n",
       " (0.015, 0.003, 80.0),\n",
       " (0.05, 0.05, 0.0),\n",
       " (3.7000000000000006e-06, 0.024, 648548.6486486486),\n",
       " (3.5, 0.1, 97.14285714285714),\n",
       " (49.4, 2.2, 95.54655870445345),\n",
       " (3.0, 4.0, 33.333333333333336),\n",
       " (6.6, 11.6, 75.75757575757576),\n",
       " (4.4, 10.0, 127.27272727272727),\n",
       " (8.5, 0.19, 97.76470588235294),\n",
       " (0.93, 0.28, 69.89247311827957),\n",
       " (3.2, 89.0, 2681.25),\n",
       " (6.0, 13.0, 116.66666666666667),\n",
       " (11.7, 29.5, 152.13675213675214),\n",
       " (100.0, 0.026000000000000002, 99.97399999999999),\n",
       " (245.0, 333.0, 35.91836734693877),\n",
       " (26.2, 36.8, 40.45801526717557),\n",
       " (6.82, 2.26, 66.86217008797655),\n",
       " (3.37, 7.82, 132.0474777448071),\n",
       " (0.009000000000000001, 0.008, 11.11111111111112),\n",
       " (10.0, 10.0, 0.0),\n",
       " (19.3, 11.0, 43.00518134715026),\n",
       " (137.0, 5.7, 95.83941605839418),\n",
       " (16.95, 1.23, 92.7433628318584),\n",
       " (7.0, 220.0, 3042.8571428571427),\n",
       " (11.7, 21.93, 87.43589743589745),\n",
       " (100.0, 100.0, 0.0),\n",
       " (383.0, 285.0, 25.587467362924283),\n",
       " (12.4, 3.5, 71.77419354838709),\n",
       " (72.0, 1.0, 98.61111111111111),\n",
       " (62.0, 100.0, 61.29032258064516),\n",
       " (0.11515, 11.62, 9991.185410334345),\n",
       " (80.0, 12.0, 85.0),\n",
       " (6.36, 4.61, 27.51572327044025),\n",
       " (2.56, 1.23, 51.953125),\n",
       " (0.002, 0.002, 0.0),\n",
       " (33.3, 1.6, 95.19519519519518),\n",
       " (0.001, 0.003, 200.0),\n",
       " (20.0, 11.0, 45.0),\n",
       " (0.3, 16.0, 5233.333333333334),\n",
       " (0.138, 0.035, 74.63768115942028),\n",
       " (0.58, 0.0013, 99.77586206896552),\n",
       " (50.0, 1.0, 98.0),\n",
       " (91.0, 93.0, 2.197802197802198),\n",
       " (0.036000000000000004, 7.0, 19344.444444444445),\n",
       " (8.0, 5.0, 37.5),\n",
       " (7.4, 1.08, 85.4054054054054),\n",
       " (120.0, 0.004, 99.99666666666667),\n",
       " (1.0, 1.7, 70.0),\n",
       " (250.0, 333.0, 33.2),\n",
       " (100.0, 100.0, 0.0),\n",
       " (30.0, 2.0, 93.33333333333333),\n",
       " (0.057, 0.15, 163.1578947368421),\n",
       " (187.0, 9.0, 95.18716577540107),\n",
       " (0.125, 0.124, 0.8000000000000007),\n",
       " (100.0, 100.0, 0.0),\n",
       " (1.7, 0.89, 47.64705882352941),\n",
       " (4.623, 0.15, 96.75535366645036),\n",
       " (35.0, 6.0, 82.85714285714286),\n",
       " (0.253, 0.252, 0.39525691699604776),\n",
       " (0.027999999999999997, 0.03, 7.14285714285715),\n",
       " (35.0, 11.0, 68.57142857142857),\n",
       " (25.0, 25.0, 0.0),\n",
       " (0.446, 0.011309999999999999, 97.46412556053812),\n",
       " (0.39, 0.28, 28.2051282051282),\n",
       " (0.005, 0.003, 40.0),\n",
       " (22.0, 5.928999999999999, 73.05000000000001),\n",
       " (0.022000000000000002, 0.003, 86.36363636363637),\n",
       " (0.023, 0.124, 439.13043478260875),\n",
       " (3.2, 0.35, 89.0625),\n",
       " (333.0, 333.0, 0.0),\n",
       " (0.016, 0.03, 87.49999999999999),\n",
       " (9.054, 45.5, 402.54031367351445),\n",
       " (36.0, 358.0, 894.4444444444445),\n",
       " (27.0, 11.3, 58.148148148148145),\n",
       " (50.0, 50.0, 0.0),\n",
       " (10.0, 0.67, 93.3),\n",
       " (196.0, 442.0, 125.51020408163265),\n",
       " (63.5, 3.4, 94.64566929133858),\n",
       " (0.662, 0.483, 27.039274924471307),\n",
       " (136.0, 237.0, 74.26470588235294)]"
      ]
     },
     "execution_count": 61,
     "metadata": {},
     "output_type": "execute_result"
    }
   ],
   "source": [
    "list(zip(y_test, y_pred, ape))"
   ]
  },
  {
   "cell_type": "code",
   "execution_count": null,
   "id": "knowing-theme",
   "metadata": {},
   "outputs": [],
   "source": []
  },
  {
   "cell_type": "code",
   "execution_count": 62,
   "id": "european-capture",
   "metadata": {},
   "outputs": [],
   "source": [
    "test_data = pd.read_csv(\"../data/raw/AVP-IC50Pred_test.csv\")"
   ]
  },
  {
   "cell_type": "code",
   "execution_count": 63,
   "id": "strange-civilian",
   "metadata": {},
   "outputs": [
    {
     "data": {
      "text/html": [
       "<div>\n",
       "<style scoped>\n",
       "    .dataframe tbody tr th:only-of-type {\n",
       "        vertical-align: middle;\n",
       "    }\n",
       "\n",
       "    .dataframe tbody tr th {\n",
       "        vertical-align: top;\n",
       "    }\n",
       "\n",
       "    .dataframe thead th {\n",
       "        text-align: right;\n",
       "    }\n",
       "</style>\n",
       "<table border=\"1\" class=\"dataframe\">\n",
       "  <thead>\n",
       "    <tr style=\"text-align: right;\">\n",
       "      <th></th>\n",
       "      <th>AVPdb/HIPdb_ID</th>\n",
       "      <th>Sequence</th>\n",
       "      <th>Reference</th>\n",
       "      <th>IC50_(microM)</th>\n",
       "    </tr>\n",
       "  </thead>\n",
       "  <tbody>\n",
       "    <tr>\n",
       "      <th>0</th>\n",
       "      <td>&gt;HIP163</td>\n",
       "      <td>ACWWAGAKQEF</td>\n",
       "      <td>16854053</td>\n",
       "      <td>333.000</td>\n",
       "    </tr>\n",
       "    <tr>\n",
       "      <th>1</th>\n",
       "      <td>&gt;HIP174</td>\n",
       "      <td>ASWWAGIKQEF</td>\n",
       "      <td>16854053</td>\n",
       "      <td>294.000</td>\n",
       "    </tr>\n",
       "    <tr>\n",
       "      <th>2</th>\n",
       "      <td>&gt;AVP1481</td>\n",
       "      <td>RDVSDFTDSVRDPKTSEILD</td>\n",
       "      <td>US7491489</td>\n",
       "      <td>258.344</td>\n",
       "    </tr>\n",
       "    <tr>\n",
       "      <th>3</th>\n",
       "      <td>&gt;HIP1136</td>\n",
       "      <td>QETAYFLLKLAGR</td>\n",
       "      <td>12643937</td>\n",
       "      <td>150.000</td>\n",
       "    </tr>\n",
       "    <tr>\n",
       "      <th>4</th>\n",
       "      <td>&gt;HIP142</td>\n",
       "      <td>AEAMAQVTN</td>\n",
       "      <td>15113844</td>\n",
       "      <td>124.000</td>\n",
       "    </tr>\n",
       "    <tr>\n",
       "      <th>...</th>\n",
       "      <td>...</td>\n",
       "      <td>...</td>\n",
       "      <td>...</td>\n",
       "      <td>...</td>\n",
       "    </tr>\n",
       "    <tr>\n",
       "      <th>71</th>\n",
       "      <td>&gt;HIP983</td>\n",
       "      <td>YTSLIHSLIEESQNQQEKNEQELLELDKWASLWNWF</td>\n",
       "      <td>19949052</td>\n",
       "      <td>7.570</td>\n",
       "    </tr>\n",
       "    <tr>\n",
       "      <th>72</th>\n",
       "      <td>&gt;AVP1000</td>\n",
       "      <td>MDVNPYFLFLKVPAQ</td>\n",
       "      <td>19841738</td>\n",
       "      <td>0.008</td>\n",
       "    </tr>\n",
       "    <tr>\n",
       "      <th>73</th>\n",
       "      <td>&gt;HIP843</td>\n",
       "      <td>TSLIHSLIEESQNQQEKNEQELLELDKWASLWNWFN</td>\n",
       "      <td>US6861059</td>\n",
       "      <td>0.006</td>\n",
       "    </tr>\n",
       "    <tr>\n",
       "      <th>74</th>\n",
       "      <td>&gt;AVP0977</td>\n",
       "      <td>MDVNPTLLFLKVPAQNAISTTFPYT</td>\n",
       "      <td>19841738</td>\n",
       "      <td>0.002</td>\n",
       "    </tr>\n",
       "    <tr>\n",
       "      <th>75</th>\n",
       "      <td>&gt;HIP801</td>\n",
       "      <td>WMEWDREINNYTSLIGSLIEESQNQQEKNEQELLE</td>\n",
       "      <td>US6861059</td>\n",
       "      <td>0.002</td>\n",
       "    </tr>\n",
       "  </tbody>\n",
       "</table>\n",
       "<p>76 rows × 4 columns</p>\n",
       "</div>"
      ],
      "text/plain": [
       "   AVPdb/HIPdb_ID                              Sequence  Reference  \\\n",
       "0         >HIP163                           ACWWAGAKQEF   16854053   \n",
       "1         >HIP174                           ASWWAGIKQEF   16854053   \n",
       "2        >AVP1481                  RDVSDFTDSVRDPKTSEILD  US7491489   \n",
       "3        >HIP1136                         QETAYFLLKLAGR   12643937   \n",
       "4         >HIP142                             AEAMAQVTN   15113844   \n",
       "..            ...                                   ...        ...   \n",
       "71        >HIP983  YTSLIHSLIEESQNQQEKNEQELLELDKWASLWNWF   19949052   \n",
       "72       >AVP1000                       MDVNPYFLFLKVPAQ   19841738   \n",
       "73        >HIP843  TSLIHSLIEESQNQQEKNEQELLELDKWASLWNWFN  US6861059   \n",
       "74       >AVP0977             MDVNPTLLFLKVPAQNAISTTFPYT   19841738   \n",
       "75        >HIP801   WMEWDREINNYTSLIGSLIEESQNQQEKNEQELLE  US6861059   \n",
       "\n",
       "    IC50_(microM)  \n",
       "0         333.000  \n",
       "1         294.000  \n",
       "2         258.344  \n",
       "3         150.000  \n",
       "4         124.000  \n",
       "..            ...  \n",
       "71          7.570  \n",
       "72          0.008  \n",
       "73          0.006  \n",
       "74          0.002  \n",
       "75          0.002  \n",
       "\n",
       "[76 rows x 4 columns]"
      ]
     },
     "execution_count": 63,
     "metadata": {},
     "output_type": "execute_result"
    }
   ],
   "source": [
    "test_data"
   ]
  },
  {
   "cell_type": "code",
   "execution_count": 74,
   "id": "loaded-enzyme",
   "metadata": {},
   "outputs": [
    {
     "name": "stderr",
     "output_type": "stream",
     "text": [
      "Creating vectors: 100%|██████████| 76/76 [00:00<00:00, 812.87sequence/s]\n"
     ]
    }
   ],
   "source": [
    "protvec = convert_sequences_to_avg_vectors(test_data['Sequence'], uniprot_embedding, kmer=3)\n",
    "protvec = protvec.reset_index(drop=True)"
   ]
  },
  {
   "cell_type": "code",
   "execution_count": 66,
   "id": "alike-replacement",
   "metadata": {},
   "outputs": [],
   "source": [
    "aa_freq_test = reduce_by_kmer_frequency(test_data)"
   ]
  },
  {
   "cell_type": "code",
   "execution_count": 67,
   "id": "decimal-homeless",
   "metadata": {},
   "outputs": [],
   "source": [
    "physicochemical_prop_test = get_physicochemical_properties(test_data)"
   ]
  },
  {
   "cell_type": "code",
   "execution_count": 75,
   "id": "revolutionary-search",
   "metadata": {},
   "outputs": [],
   "source": [
    "X_test = pd.concat([aa_freq_test, protvec, physicochemical_prop_test[['helix','turn','sheet']]], axis=1)"
   ]
  },
  {
   "cell_type": "code",
   "execution_count": 76,
   "id": "mature-scene",
   "metadata": {},
   "outputs": [],
   "source": [
    "y_pred_test = knn.predict(X_test)"
   ]
  },
  {
   "cell_type": "code",
   "execution_count": 78,
   "id": "aging-hungarian",
   "metadata": {},
   "outputs": [],
   "source": [
    "y_test = test_data['IC50_(microM)']"
   ]
  },
  {
   "cell_type": "code",
   "execution_count": 79,
   "id": "tribal-allah",
   "metadata": {},
   "outputs": [
    {
     "data": {
      "text/plain": [
       "1710.4256898338665"
      ]
     },
     "execution_count": 79,
     "metadata": {},
     "output_type": "execute_result"
    }
   ],
   "source": [
    "mean_absolute_percentage_error(y_test, y_pred_test)"
   ]
  },
  {
   "cell_type": "code",
   "execution_count": 54,
   "id": "bibliographic-choice",
   "metadata": {},
   "outputs": [],
   "source": [
    "from scipy.stats import pearsonr"
   ]
  },
  {
   "cell_type": "code",
   "execution_count": 80,
   "id": "grave-farmer",
   "metadata": {},
   "outputs": [
    {
     "data": {
      "text/plain": [
       "(0.43828856623655504, 7.498261073666752e-05)"
      ]
     },
     "execution_count": 80,
     "metadata": {},
     "output_type": "execute_result"
    }
   ],
   "source": [
    "pearsonr(y_test, y_pred_test)"
   ]
  },
  {
   "cell_type": "code",
   "execution_count": null,
   "id": "burning-adventure",
   "metadata": {},
   "outputs": [],
   "source": []
  }
 ],
 "metadata": {
  "kernelspec": {
   "display_name": "Python 3",
   "language": "python",
   "name": "python3"
  },
  "language_info": {
   "codemirror_mode": {
    "name": "ipython",
    "version": 3
   },
   "file_extension": ".py",
   "mimetype": "text/x-python",
   "name": "python",
   "nbconvert_exporter": "python",
   "pygments_lexer": "ipython3",
   "version": "3.6.10"
  }
 },
 "nbformat": 4,
 "nbformat_minor": 5
}
