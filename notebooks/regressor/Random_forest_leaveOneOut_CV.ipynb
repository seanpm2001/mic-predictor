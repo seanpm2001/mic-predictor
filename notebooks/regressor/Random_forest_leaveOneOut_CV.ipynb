{
 "cells": [
  {
   "cell_type": "code",
   "execution_count": 1,
   "id": "ordinary-experience",
   "metadata": {
    "scrolled": false
   },
   "outputs": [
    {
     "name": "stdout",
     "output_type": "stream",
     "text": [
      "/Users/in-divye.singh/Documents/Projects/MIC_predictor/src\n"
     ]
    }
   ],
   "source": [
    "cd ../../src"
   ]
  },
  {
   "cell_type": "code",
   "execution_count": 2,
   "id": "numerical-honduras",
   "metadata": {},
   "outputs": [],
   "source": [
    "import biovec\n",
    "import numpy as np\n",
    "import pandas as pd\n",
    "from itertools import chain, combinations\n",
    "from collections import Counter\n",
    "\n",
    "from utils import *\n",
    "\n",
    "from sklearn.ensemble import RandomForestRegressor\n",
    "from sklearn.metrics import make_scorer\n",
    "from sklearn.model_selection import GridSearchCV\n",
    "from sklearn.metrics import mean_squared_error, mean_absolute_error\n",
    "from sklearn.model_selection import train_test_split\n",
    "\n",
    "from Bio.SeqUtils.ProtParam import ProteinAnalysis"
   ]
  },
  {
   "cell_type": "code",
   "execution_count": 3,
   "id": "passing-swing",
   "metadata": {},
   "outputs": [],
   "source": [
    "import seaborn as sns"
   ]
  },
  {
   "cell_type": "code",
   "execution_count": 4,
   "id": "stock-tribune",
   "metadata": {},
   "outputs": [],
   "source": [
    "def mean_absolute_percentage_error(y_true, y_pred): \n",
    "    y_true, y_pred = np.array(y_true), np.array(y_pred)\n",
    "    return np.mean(np.abs((y_true - y_pred) / y_true)) * 100\n",
    "\n",
    "mape_scorer = make_scorer(mean_absolute_percentage_error, greater_is_better=False)"
   ]
  },
  {
   "cell_type": "code",
   "execution_count": 5,
   "id": "desirable-ivory",
   "metadata": {},
   "outputs": [],
   "source": [
    "avp_ic50 = pd.read_csv(\"../data/raw/AVP-IC50Pred_train.csv\")\n",
    "ha_avp = pd.read_csv(\"../data/raw/HA_AVP.csv\")"
   ]
  },
  {
   "cell_type": "code",
   "execution_count": 6,
   "id": "dated-minneapolis",
   "metadata": {},
   "outputs": [],
   "source": [
    "df = pd.concat([avp_ic50[['Sequence','MIC']], ha_avp], axis=0).drop_duplicates(['Sequence']).reset_index(drop=True)\n",
    "df = sequence_filtering(df)"
   ]
  },
  {
   "cell_type": "code",
   "execution_count": 7,
   "id": "czech-walnut",
   "metadata": {},
   "outputs": [
    {
     "data": {
      "text/html": [
       "<div>\n",
       "<style scoped>\n",
       "    .dataframe tbody tr th:only-of-type {\n",
       "        vertical-align: middle;\n",
       "    }\n",
       "\n",
       "    .dataframe tbody tr th {\n",
       "        vertical-align: top;\n",
       "    }\n",
       "\n",
       "    .dataframe thead th {\n",
       "        text-align: right;\n",
       "    }\n",
       "</style>\n",
       "<table border=\"1\" class=\"dataframe\">\n",
       "  <thead>\n",
       "    <tr style=\"text-align: right;\">\n",
       "      <th></th>\n",
       "      <th>Sequence</th>\n",
       "      <th>MIC</th>\n",
       "    </tr>\n",
       "  </thead>\n",
       "  <tbody>\n",
       "    <tr>\n",
       "      <th>0</th>\n",
       "      <td>AAQRRGRVGRNPNQVGD</td>\n",
       "      <td>442.00000</td>\n",
       "    </tr>\n",
       "    <tr>\n",
       "      <th>1</th>\n",
       "      <td>HRILARIRQMMT</td>\n",
       "      <td>435.50000</td>\n",
       "    </tr>\n",
       "    <tr>\n",
       "      <th>2</th>\n",
       "      <td>RNPSQVGD</td>\n",
       "      <td>383.00000</td>\n",
       "    </tr>\n",
       "    <tr>\n",
       "      <th>3</th>\n",
       "      <td>RVGRNPNQVGD</td>\n",
       "      <td>374.00000</td>\n",
       "    </tr>\n",
       "    <tr>\n",
       "      <th>4</th>\n",
       "      <td>AAQRRGRIGRNPSQVGD</td>\n",
       "      <td>358.00000</td>\n",
       "    </tr>\n",
       "    <tr>\n",
       "      <th>...</th>\n",
       "      <td>...</td>\n",
       "      <td>...</td>\n",
       "    </tr>\n",
       "    <tr>\n",
       "      <th>707</th>\n",
       "      <td>NGAICWGPCPTAFRQIGNCGHFKVRCCKIR</td>\n",
       "      <td>0.11515</td>\n",
       "    </tr>\n",
       "    <tr>\n",
       "      <th>708</th>\n",
       "      <td>CFPYITRPGTYHDWWYTRKNRQ</td>\n",
       "      <td>0.30000</td>\n",
       "    </tr>\n",
       "    <tr>\n",
       "      <th>709</th>\n",
       "      <td>YTSLIHSLIEESQNQQEKNEQELLELDKWASLWNWF</td>\n",
       "      <td>0.01131</td>\n",
       "    </tr>\n",
       "    <tr>\n",
       "      <th>710</th>\n",
       "      <td>GTNLSVPNPLGFFPDHQLDPAFGANSNNPDWDFNPNKDHWPEANKVG</td>\n",
       "      <td>0.00008</td>\n",
       "    </tr>\n",
       "    <tr>\n",
       "      <th>711</th>\n",
       "      <td>SWETWEREIENYTRQIYRILEESQEQQDRNERDLLE</td>\n",
       "      <td>0.00200</td>\n",
       "    </tr>\n",
       "  </tbody>\n",
       "</table>\n",
       "<p>712 rows × 2 columns</p>\n",
       "</div>"
      ],
      "text/plain": [
       "                                            Sequence        MIC\n",
       "0                                  AAQRRGRVGRNPNQVGD  442.00000\n",
       "1                                       HRILARIRQMMT  435.50000\n",
       "2                                           RNPSQVGD  383.00000\n",
       "3                                        RVGRNPNQVGD  374.00000\n",
       "4                                  AAQRRGRIGRNPSQVGD  358.00000\n",
       "..                                               ...        ...\n",
       "707                   NGAICWGPCPTAFRQIGNCGHFKVRCCKIR    0.11515\n",
       "708                           CFPYITRPGTYHDWWYTRKNRQ    0.30000\n",
       "709             YTSLIHSLIEESQNQQEKNEQELLELDKWASLWNWF    0.01131\n",
       "710  GTNLSVPNPLGFFPDHQLDPAFGANSNNPDWDFNPNKDHWPEANKVG    0.00008\n",
       "711             SWETWEREIENYTRQIYRILEESQEQQDRNERDLLE    0.00200\n",
       "\n",
       "[712 rows x 2 columns]"
      ]
     },
     "execution_count": 7,
     "metadata": {},
     "output_type": "execute_result"
    }
   ],
   "source": [
    "df"
   ]
  },
  {
   "cell_type": "code",
   "execution_count": 8,
   "id": "independent-remedy",
   "metadata": {},
   "outputs": [
    {
     "data": {
      "text/plain": [
       "<matplotlib.axes._subplots.AxesSubplot at 0x1a26df3f28>"
      ]
     },
     "execution_count": 8,
     "metadata": {},
     "output_type": "execute_result"
    },
    {
     "data": {
      "image/png": "[encoded data removed]",
      "text/plain": [
       "<Figure size 432x288 with 1 Axes>"
      ]
     },
     "metadata": {
      "needs_background": "light"
     },
     "output_type": "display_data"
    }
   ],
   "source": [
    "df['MIC'].hist()"
   ]
  },
  {
   "cell_type": "code",
   "execution_count": 9,
   "id": "major-marsh",
   "metadata": {},
   "outputs": [],
   "source": [
    "df['pIC50'] = df['MIC'].apply(lambda x: -np.log(x*1e-6))"
   ]
  },
  {
   "cell_type": "code",
   "execution_count": 10,
   "id": "lightweight-portfolio",
   "metadata": {},
   "outputs": [
    {
     "data": {
      "text/html": [
       "<div>\n",
       "<style scoped>\n",
       "    .dataframe tbody tr th:only-of-type {\n",
       "        vertical-align: middle;\n",
       "    }\n",
       "\n",
       "    .dataframe tbody tr th {\n",
       "        vertical-align: top;\n",
       "    }\n",
       "\n",
       "    .dataframe thead th {\n",
       "        text-align: right;\n",
       "    }\n",
       "</style>\n",
       "<table border=\"1\" class=\"dataframe\">\n",
       "  <thead>\n",
       "    <tr style=\"text-align: right;\">\n",
       "      <th></th>\n",
       "      <th>Sequence</th>\n",
       "      <th>MIC</th>\n",
       "      <th>pIC50</th>\n",
       "    </tr>\n",
       "  </thead>\n",
       "  <tbody>\n",
       "    <tr>\n",
       "      <th>0</th>\n",
       "      <td>AAQRRGRVGRNPNQVGD</td>\n",
       "      <td>442.00000</td>\n",
       "      <td>7.724201</td>\n",
       "    </tr>\n",
       "    <tr>\n",
       "      <th>1</th>\n",
       "      <td>HRILARIRQMMT</td>\n",
       "      <td>435.50000</td>\n",
       "      <td>7.739016</td>\n",
       "    </tr>\n",
       "    <tr>\n",
       "      <th>2</th>\n",
       "      <td>RNPSQVGD</td>\n",
       "      <td>383.00000</td>\n",
       "      <td>7.867476</td>\n",
       "    </tr>\n",
       "    <tr>\n",
       "      <th>3</th>\n",
       "      <td>RVGRNPNQVGD</td>\n",
       "      <td>374.00000</td>\n",
       "      <td>7.891255</td>\n",
       "    </tr>\n",
       "    <tr>\n",
       "      <th>4</th>\n",
       "      <td>AAQRRGRIGRNPSQVGD</td>\n",
       "      <td>358.00000</td>\n",
       "      <td>7.934978</td>\n",
       "    </tr>\n",
       "    <tr>\n",
       "      <th>...</th>\n",
       "      <td>...</td>\n",
       "      <td>...</td>\n",
       "      <td>...</td>\n",
       "    </tr>\n",
       "    <tr>\n",
       "      <th>707</th>\n",
       "      <td>NGAICWGPCPTAFRQIGNCGHFKVRCCKIR</td>\n",
       "      <td>0.11515</td>\n",
       "      <td>15.977030</td>\n",
       "    </tr>\n",
       "    <tr>\n",
       "      <th>708</th>\n",
       "      <td>CFPYITRPGTYHDWWYTRKNRQ</td>\n",
       "      <td>0.30000</td>\n",
       "      <td>15.019483</td>\n",
       "    </tr>\n",
       "    <tr>\n",
       "      <th>709</th>\n",
       "      <td>YTSLIHSLIEESQNQQEKNEQELLELDKWASLWNWF</td>\n",
       "      <td>0.01131</td>\n",
       "      <td>18.297579</td>\n",
       "    </tr>\n",
       "    <tr>\n",
       "      <th>710</th>\n",
       "      <td>GTNLSVPNPLGFFPDHQLDPAFGANSNNPDWDFNPNKDHWPEANKVG</td>\n",
       "      <td>0.00008</td>\n",
       "      <td>23.248994</td>\n",
       "    </tr>\n",
       "    <tr>\n",
       "      <th>711</th>\n",
       "      <td>SWETWEREIENYTRQIYRILEESQEQQDRNERDLLE</td>\n",
       "      <td>0.00200</td>\n",
       "      <td>20.030119</td>\n",
       "    </tr>\n",
       "  </tbody>\n",
       "</table>\n",
       "<p>712 rows × 3 columns</p>\n",
       "</div>"
      ],
      "text/plain": [
       "                                            Sequence        MIC      pIC50\n",
       "0                                  AAQRRGRVGRNPNQVGD  442.00000   7.724201\n",
       "1                                       HRILARIRQMMT  435.50000   7.739016\n",
       "2                                           RNPSQVGD  383.00000   7.867476\n",
       "3                                        RVGRNPNQVGD  374.00000   7.891255\n",
       "4                                  AAQRRGRIGRNPSQVGD  358.00000   7.934978\n",
       "..                                               ...        ...        ...\n",
       "707                   NGAICWGPCPTAFRQIGNCGHFKVRCCKIR    0.11515  15.977030\n",
       "708                           CFPYITRPGTYHDWWYTRKNRQ    0.30000  15.019483\n",
       "709             YTSLIHSLIEESQNQQEKNEQELLELDKWASLWNWF    0.01131  18.297579\n",
       "710  GTNLSVPNPLGFFPDHQLDPAFGANSNNPDWDFNPNKDHWPEANKVG    0.00008  23.248994\n",
       "711             SWETWEREIENYTRQIYRILEESQEQQDRNERDLLE    0.00200  20.030119\n",
       "\n",
       "[712 rows x 3 columns]"
      ]
     },
     "execution_count": 10,
     "metadata": {},
     "output_type": "execute_result"
    }
   ],
   "source": [
    "df"
   ]
  },
  {
   "cell_type": "code",
   "execution_count": 11,
   "id": "conditional-large",
   "metadata": {
    "scrolled": true
   },
   "outputs": [
    {
     "data": {
      "text/plain": [
       "<matplotlib.axes._subplots.AxesSubplot at 0x1a270ea828>"
      ]
     },
     "execution_count": 11,
     "metadata": {},
     "output_type": "execute_result"
    },
    {
     "data": {
      "image/png": "[encoded data removed]",
      "text/plain": [
       "<Figure size 432x288 with 1 Axes>"
      ]
     },
     "metadata": {
      "needs_background": "light"
     },
     "output_type": "display_data"
    }
   ],
   "source": [
    "df['pIC50'].hist()"
   ]
  },
  {
   "cell_type": "code",
   "execution_count": 12,
   "id": "statewide-giving",
   "metadata": {},
   "outputs": [],
   "source": [
    "def get_physicochemical_properties(df):\n",
    "    params = ['aromaticity', 'helix', 'turn', 'sheet', 'gravy', 'net_charge_at_pH7point4']\n",
    "\n",
    "    prop = []\n",
    "    for seq in df.Sequence:\n",
    "        X = ProteinAnalysis(seq)\n",
    "        aromaticity = X.aromaticity()\n",
    "        sec_struc = X.secondary_structure_fraction()\n",
    "        helix = sec_struc[0]\n",
    "        turn = sec_struc[1]\n",
    "        sheet = sec_struc[2]\n",
    "        gravy = X.gravy() # hydrophobicity related\n",
    "        net_charge_at_pH7point4 = X.charge_at_pH(7.4)\n",
    "\n",
    "        prop.append([aromaticity, helix, turn, sheet, gravy, net_charge_at_pH7point4])\n",
    "    return pd.DataFrame(prop, columns=params)"
   ]
  },
  {
   "cell_type": "code",
   "execution_count": 13,
   "id": "controlling-connection",
   "metadata": {},
   "outputs": [],
   "source": [
    "aa_freq = reduce_by_kmer_frequency(df)"
   ]
  },
  {
   "cell_type": "code",
   "execution_count": 14,
   "id": "computational-community",
   "metadata": {},
   "outputs": [
    {
     "name": "stderr",
     "output_type": "stream",
     "text": [
      "/Users/in-divye.singh/anaconda3/envs/life-science/lib/python3.6/site-packages/smart_open/smart_open_lib.py:254: UserWarning: This function is deprecated, use smart_open.open instead. See the migration notes for details: https://github.com/RaRe-Technologies/smart_open/blob/master/README.rst#migrating-to-the-new-open-function\n",
      "  'See the migration notes for details: %s' % _MIGRATION_NOTES_URL\n",
      "Creating vectors: 100%|██████████| 712/712 [00:00<00:00, 1159.08sequence/s]\n"
     ]
    }
   ],
   "source": [
    "uniprot_embedding = biovec.models.load_protvec(\"../data/embeddings/uniprot__kmer_3_contextWindow_10_vector_100_reduction_None\")\n",
    "\n",
    "avg_protvec = convert_sequences_to_avg_vectors(df['Sequence'], uniprot_embedding, kmer=3)\n",
    "avg_protvec = avg_protvec.reset_index(drop=True)"
   ]
  },
  {
   "cell_type": "code",
   "execution_count": 15,
   "id": "funny-maria",
   "metadata": {},
   "outputs": [],
   "source": [
    "physicochemical_prop = get_physicochemical_properties(df)"
   ]
  },
  {
   "cell_type": "code",
   "execution_count": 16,
   "id": "under-limit",
   "metadata": {},
   "outputs": [],
   "source": [
    "X = pd.concat([aa_freq, avg_protvec, physicochemical_prop[['helix','turn','sheet']]], axis=1)"
   ]
  },
  {
   "cell_type": "code",
   "execution_count": 17,
   "id": "alive-immunology",
   "metadata": {},
   "outputs": [],
   "source": [
    "y = df[['pIC50', 'MIC']]"
   ]
  },
  {
   "cell_type": "code",
   "execution_count": 18,
   "id": "stretch-figure",
   "metadata": {},
   "outputs": [],
   "source": [
    "X_train, X_test, y_train, y_test = train_test_split(X, y, test_size=0.2, random_state=42)"
   ]
  },
  {
   "cell_type": "code",
   "execution_count": 19,
   "id": "accessible-biotechnology",
   "metadata": {},
   "outputs": [],
   "source": [
    "y_train_pmic, y_train_mic = y_train['pIC50'], y_train['MIC']\n",
    "y_test_pmic, y_test_mic = y_test['pIC50'], y_test['MIC']"
   ]
  },
  {
   "cell_type": "code",
   "execution_count": 20,
   "id": "heard-batch",
   "metadata": {},
   "outputs": [],
   "source": [
    "from sklearn.model_selection import cross_val_score, GridSearchCV, LeaveOneOut"
   ]
  },
  {
   "cell_type": "code",
   "execution_count": 21,
   "id": "material-nowhere",
   "metadata": {},
   "outputs": [],
   "source": [
    "def multi_objective_score(y_true, y_pred):\n",
    "    mape = mean_absolute_percentage_error(y_true, y_pred)\n",
    "    std_diff = abs(np.std(y_pred) - np.std(y_true))\n",
    "    return mape + 10*std_diff\n",
    "multi_objective_scorer = make_scorer(multi_objective_score, greater_is_better=False)"
   ]
  },
  {
   "cell_type": "code",
   "execution_count": 22,
   "id": "competent-advocacy",
   "metadata": {},
   "outputs": [],
   "source": [
    "param_grid = {\n",
    "    'n_estimators':[100,200,300,500,1000,1500,2000,2500,5000],\n",
    "    'max_depth':[None,2,3,4,5,6,7,8,9,10],\n",
    "    'max_features':[\"auto\",\"sqrt\",\"log2\"],\n",
    "    'criterion' : [\"mae\"]\n",
    "}\n",
    "svr = RandomForestRegressor()\n",
    "# Instantiate the grid search model\n",
    "grid_search = GridSearchCV(estimator = svr, param_grid = param_grid, \n",
    "                          cv = 5, n_jobs = -1, verbose = 2, scoring=multi_objective_scorer)"
   ]
  },
  {
   "cell_type": "code",
   "execution_count": 23,
   "id": "compliant-remainder",
   "metadata": {
    "scrolled": false
   },
   "outputs": [
    {
     "name": "stdout",
     "output_type": "stream",
     "text": [
      "Fitting 5 folds for each of 270 candidates, totalling 1350 fits\n"
     ]
    },
    {
     "name": "stderr",
     "output_type": "stream",
     "text": [
      "[Parallel(n_jobs=-1)]: Using backend LokyBackend with 12 concurrent workers.\n",
      "[Parallel(n_jobs=-1)]: Done  17 tasks      | elapsed:  8.8min\n",
      "[Parallel(n_jobs=-1)]: Done 138 tasks      | elapsed: 73.7min\n",
      "[Parallel(n_jobs=-1)]: Done 341 tasks      | elapsed: 113.5min\n",
      "[Parallel(n_jobs=-1)]: Done 624 tasks      | elapsed: 164.9min\n",
      "[Parallel(n_jobs=-1)]: Done 989 tasks      | elapsed: 268.7min\n",
      "[Parallel(n_jobs=-1)]: Done 1350 out of 1350 | elapsed: 393.5min finished\n"
     ]
    },
    {
     "data": {
      "text/plain": [
       "GridSearchCV(cv=5, estimator=RandomForestRegressor(), n_jobs=-1,\n",
       "             param_grid={'criterion': ['mae'],\n",
       "                         'max_depth': [None, 2, 3, 4, 5, 6, 7, 8, 9, 10],\n",
       "                         'max_features': ['auto', 'sqrt', 'log2'],\n",
       "                         'n_estimators': [100, 200, 300, 500, 1000, 1500, 2000,\n",
       "                                          2500, 5000]},\n",
       "             scoring=make_scorer(multi_objective_score, greater_is_better=False),\n",
       "             verbose=2)"
      ]
     },
     "execution_count": 23,
     "metadata": {},
     "output_type": "execute_result"
    }
   ],
   "source": [
    "grid_search.fit(X_train, y_train_mic)"
   ]
  },
  {
   "cell_type": "code",
   "execution_count": 24,
   "id": "official-china",
   "metadata": {},
   "outputs": [
    {
     "data": {
      "text/plain": [
       "{'criterion': 'mae',\n",
       " 'max_depth': 2,\n",
       " 'max_features': 'auto',\n",
       " 'n_estimators': 200}"
      ]
     },
     "execution_count": 24,
     "metadata": {},
     "output_type": "execute_result"
    }
   ],
   "source": [
    "grid_search.best_params_"
   ]
  },
  {
   "cell_type": "code",
   "execution_count": 25,
   "id": "armed-wages",
   "metadata": {},
   "outputs": [],
   "source": [
    "best_grid = grid_search.best_estimator_"
   ]
  },
  {
   "cell_type": "code",
   "execution_count": 26,
   "id": "looking-bidder",
   "metadata": {},
   "outputs": [],
   "source": [
    "y_pred_mic = best_grid.predict(X_test)"
   ]
  },
  {
   "cell_type": "code",
   "execution_count": 27,
   "id": "august-region",
   "metadata": {},
   "outputs": [
    {
     "data": {
      "text/plain": [
       "1483569.4060987816"
      ]
     },
     "execution_count": 27,
     "metadata": {},
     "output_type": "execute_result"
    }
   ],
   "source": [
    "mean_absolute_percentage_error(y_test_mic, y_pred_mic)"
   ]
  },
  {
   "cell_type": "code",
   "execution_count": 28,
   "id": "visible-vocabulary",
   "metadata": {},
   "outputs": [
    {
     "data": {
      "text/plain": [
       "(68.39438237006428, 17.370255190674758)"
      ]
     },
     "execution_count": 28,
     "metadata": {},
     "output_type": "execute_result"
    }
   ],
   "source": [
    "np.std(y_test_mic), np.std(y_pred_mic)"
   ]
  },
  {
   "cell_type": "code",
   "execution_count": null,
   "id": "valued-preliminary",
   "metadata": {},
   "outputs": [],
   "source": [
    "np.std(y_pred_pmic) - np.std(y_test_pmic)"
   ]
  },
  {
   "cell_type": "code",
   "execution_count": null,
   "id": "assigned-range",
   "metadata": {},
   "outputs": [],
   "source": [
    "multi_objective_score(y_test_pmic,y_pred_pmic)"
   ]
  },
  {
   "cell_type": "code",
   "execution_count": null,
   "id": "compliant-savings",
   "metadata": {},
   "outputs": [],
   "source": []
  },
  {
   "cell_type": "code",
   "execution_count": 41,
   "id": "virgin-onion",
   "metadata": {},
   "outputs": [
    {
     "data": {
      "text/plain": [
       "(569, 123)"
      ]
     },
     "execution_count": 41,
     "metadata": {},
     "output_type": "execute_result"
    }
   ],
   "source": [
    "X_train.shape"
   ]
  },
  {
   "cell_type": "code",
   "execution_count": null,
   "id": "determined-turning",
   "metadata": {},
   "outputs": [],
   "source": []
  },
  {
   "cell_type": "code",
   "execution_count": 127,
   "id": "billion-profession",
   "metadata": {},
   "outputs": [
    {
     "name": "stdout",
     "output_type": "stream",
     "text": [
      "3.331777161170943 1.877957986412758\n"
     ]
    }
   ],
   "source": [
    "rf = RandomForestRegressor(criterion='mse',max_features=123,n_estimators=200,n_jobs=-1,max_depth=50)\n",
    "# cv_score = cross_val_score(rf, X_train, y_train_mic, cv=5, scoring=mape_scorer)\n",
    "# cv_mean = cv_score.mean()\n",
    "# print(cv_score, cv_mean)\n",
    "\n",
    "_ = rf.fit(X_train, y_train_pmic)\n",
    "y_pred = rf.predict(X_test)\n",
    "\n",
    "print(np.std(y_test_pmic), np.std(y_pred))"
   ]
  },
  {
   "cell_type": "code",
   "execution_count": 128,
   "id": "recorded-objective",
   "metadata": {},
   "outputs": [
    {
     "data": {
      "text/plain": [
       "15.488475876406088"
      ]
     },
     "execution_count": 128,
     "metadata": {},
     "output_type": "execute_result"
    }
   ],
   "source": [
    "mean_absolute_percentage_error(y_test_pmic,y_pred)"
   ]
  },
  {
   "cell_type": "code",
   "execution_count": 110,
   "id": "romance-flash",
   "metadata": {},
   "outputs": [],
   "source": [
    "import matplotlib.pyplot as plt"
   ]
  },
  {
   "cell_type": "code",
   "execution_count": 103,
   "id": "married-wesley",
   "metadata": {},
   "outputs": [
    {
     "data": {
      "text/plain": [
       "(array([29., 39., 32., 16.,  9., 10.,  7.,  0.,  0.,  1.]),\n",
       " array([ 7.86747557,  9.71299684, 11.55851811, 13.40403939, 15.24956066,\n",
       "        17.09508193, 18.94060321, 20.78612448, 22.63164575, 24.47716702,\n",
       "        26.3226883 ]),\n",
       " <a list of 10 Patch objects>)"
      ]
     },
     "execution_count": 103,
     "metadata": {},
     "output_type": "execute_result"
    },
    {
     "data": {
      "image/png": "[encoded data removed]",
      "text/plain": [
       "<Figure size 432x288 with 1 Axes>"
      ]
     },
     "metadata": {
      "needs_background": "light"
     },
     "output_type": "display_data"
    }
   ],
   "source": [
    "plt.hist(y_pred, alpha=0.5)\n",
    "plt.hist(y_test_pmic, alpha=0.5)"
   ]
  },
  {
   "cell_type": "code",
   "execution_count": 104,
   "id": "automatic-quarter",
   "metadata": {},
   "outputs": [
    {
     "data": {
      "text/plain": [
       "(17.954507767891336, 26.32268829627837)"
      ]
     },
     "execution_count": 104,
     "metadata": {},
     "output_type": "execute_result"
    }
   ],
   "source": [
    "y_pred.max(), y_test_pmic.max()"
   ]
  },
  {
   "cell_type": "code",
   "execution_count": null,
   "id": "assigned-shore",
   "metadata": {},
   "outputs": [],
   "source": []
  },
  {
   "cell_type": "code",
   "execution_count": 129,
   "id": "physical-mills",
   "metadata": {},
   "outputs": [],
   "source": [
    "ape = 100*np.abs(y_test_pmic-y_pred)/y_test_pmic"
   ]
  },
  {
   "cell_type": "code",
   "execution_count": 130,
   "id": "governing-retreat",
   "metadata": {},
   "outputs": [],
   "source": [
    "y_pred_mic = np.exp(-y_pred)/1e-6"
   ]
  },
  {
   "cell_type": "code",
   "execution_count": 131,
   "id": "mighty-invitation",
   "metadata": {},
   "outputs": [],
   "source": [
    "ape_mic = 100*np.abs(y_test_mic-y_pred_mic)/y_test_mic"
   ]
  },
  {
   "cell_type": "code",
   "execution_count": 132,
   "id": "sophisticated-commitment",
   "metadata": {
    "scrolled": false
   },
   "outputs": [
    {
     "data": {
      "text/plain": [
       "[(14.0512, 13.0782, 6.924658453062215, 0.79, 2.0902, 164.58698742082134),\n",
       " (12.557, 12.7014, 1.1494239073778827, 3.52, 3.0469, 13.440117627172667),\n",
       " (10.6585, 11.3755, 6.727254789272018, 23.5, 11.4728, 51.179756515530386),\n",
       " (11.2506, 14.1688, 25.93887126465783, 13.0, 0.7024, 94.59728502895565),\n",
       " (13.1224, 14.8814, 13.404503944105617, 2.0, 0.3444, 82.77808898188161),\n",
       " (13.1124, 12.5506, 4.28489477245935, 2.02, 3.5429, 75.3919681311596),\n",
       " (10.8198, 12.1662, 12.444363093937836, 20.0, 5.2032, 73.98384502348459),\n",
       " (10.7475, 11.528, 7.262690576454606, 21.5, 9.8503, 54.18481465095861),\n",
       " (9.2103, 10.8177, 17.451267194769436, 100.0, 20.0424, 79.95761906829395),\n",
       " (13.1224, 14.0041, 6.7196546955052305, 2.0, 0.8281, 58.59537129140321),\n",
       " (8.7403, 11.8151, 35.17946926116579, 160.0, 7.3918, 95.38013211549693),\n",
       " (9.8191, 11.9205, 21.400250174550315, 54.4, 6.6528, 87.77053394029002),\n",
       " (9.2103, 10.9694, 19.098797204779522, 100.0, 17.2206, 82.77940663206036),\n",
       " (18.7774, 16.7184, 10.965103963367067, 0.007, 0.0549, 683.7787381230864),\n",
       " (14.3313, 17.1091, 19.38247939108412, 0.597, 0.0371, 93.78230367010201),\n",
       " (17.4652, 12.3288, 29.40898274215003, 0.026, 4.4223, 16909.015585049667),\n",
       " (9.0448, 10.3727, 14.680532625852777, 118.0, 31.2762, 73.49478346838755),\n",
       " (12.5976, 11.6208, 7.754463074740858, 3.38, 8.9778, 165.61532848418673),\n",
       " (11.7361, 11.9062, 1.4498697019095015, 8.0, 6.7483, 15.646822633070057),\n",
       " (11.8986, 13.0656, 9.807719615449914, 6.8, 2.1169, 68.86943786138413),\n",
       " (13.5228, 12.3951, 8.339321233513552, 1.34, 4.1387, 208.85852748585268),\n",
       " (10.6128, 12.0314, 13.367069406087877, 24.6, 5.9544, 75.79511092069473),\n",
       " (15.182, 14.0728, 7.306196358700065, 0.255, 0.7732, 203.20134343373982),\n",
       " (14.2935, 15.0573, 5.3430708119667, 0.62, 0.2889, 53.40674060512539),\n",
       " (9.2103, 13.1391, 42.65624887096088, 100.0, 1.9668, 98.03324598619719),\n",
       " (20.7233, 17.4858, 15.62253956707425, 0.001, 0.0255, 2446.997748390769),\n",
       " (9.0533, 13.0746, 44.417865458794594, 117.0, 2.0978, 98.20703386845462),\n",
       " (14.1032, 11.9176, 15.497375463184328, 0.75, 6.6722, 789.6204403280427),\n",
       " (11.5129, 12.8277, 11.419824595828361, 10.0, 2.6854, 73.14601325541261),\n",
       " (12.1162, 12.1217, 0.04510466409998602, 5.47, 5.4402, 0.5450079850164606),\n",
       " (8.5172, 11.4571, 34.51687607048923, 200.0, 10.5745, 94.71273463791469),\n",
       " (10.0995, 11.6243, 15.097894804059715, 41.1, 8.9459, 78.23380817270362),\n",
       " (11.4641, 11.7704, 2.6716948772305287, 10.5, 7.7298, 26.382448377397434),\n",
       " (19.6247, 17.4524, 11.069156990001815, 0.003, 0.0263, 777.8308277685138),\n",
       " (10.5197, 12.0664, 14.703504093104671, 27.0, 5.7493, 78.7063366295624),\n",
       " (9.7902, 9.705, 0.8693482567698241, 56.0, 60.9749, 8.883745873105843),\n",
       " (9.9035, 11.2765, 13.863577326601243, 50.0, 12.6676, 74.66485578810685),\n",
       " (11.0864, 12.1154, 9.282180116854153, 15.32, 5.4745, 64.26555458252705),\n",
       " (10.2257, 14.2187, 39.04795693574688, 36.226, 0.6682, 98.15545951610524),\n",
       " (17.356, 15.2742, 11.994280535305897, 0.029, 0.2325, 701.827837406105),\n",
       " (14.9002, 14.5963, 2.039728897986973, 0.338, 0.458, 35.51661842436826),\n",
       " (10.625, 12.2606, 15.393309025220521, 24.3, 4.7348, 80.51537220703193),\n",
       " (20.0301, 15.5568, 22.33279407140393, 0.002, 0.1753, 8664.417501150147),\n",
       " (9.2103, 10.6649, 15.792696373108013, 100.0, 23.3503, 76.64971718315269),\n",
       " (13.0736, 13.1214, 0.36573617724469115, 2.1, 2.002, 4.668966370936701),\n",
       " (11.884, 13.0721, 9.99783026515061, 6.9, 2.103, 69.52126819802754),\n",
       " (16.1181, 13.0241, 19.195641428877945, 0.1, 2.2065, 2106.454113220583),\n",
       " (16.5489, 15.811, 4.458507859308417, 0.065, 0.1359, 109.13986476112943),\n",
       " (8.8597, 10.5172, 18.708342662931845, 142.0, 27.0673, 80.93850678753725),\n",
       " (16.4748, 15.0583, 8.597645611264435, 0.07, 0.2886, 312.24283332955645),\n",
       " (11.8554, 11.7192, 1.149317634887874, 7.1, 8.1364, 14.597566596412474),\n",
       " (16.8314, 17.4233, 3.516217721345901, 0.049, 0.0271, 44.66863564038881),\n",
       " (9.2103, 11.1169, 20.699989626763532, 100.0, 14.8594, 85.1406293803397),\n",
       " (11.3059, 14.6957, 29.98262453376984, 12.3, 0.4147, 96.62848818988792),\n",
       " (14.592, 12.277, 15.865354870446527, 0.46, 4.6578, 912.5721050389585),\n",
       " (8.0074, 9.9375, 24.10445328003841, 333.0, 48.328, 85.48710026137913),\n",
       " (12.2061, 12.2229, 0.13761794747608644, 5.0, 4.9167, 1.6657451143891322),\n",
       " (19.1138, 17.7196, 7.294519353733644, 0.005, 0.0202, 303.1997364781739),\n",
       " (12.075, 12.4168, 2.830066193584898, 5.7, 4.0501, 28.946121807689828),\n",
       " (9.9115, 13.1976, 33.15408005570639, 49.6, 1.8551, 96.25995739946622),\n",
       " (10.0427, 11.2657, 12.178388504307303, 43.502, 12.8041, 70.56658128179424),\n",
       " (11.5301, 12.337, 6.998579077935292, 9.83, 4.3864, 55.377910992216464),\n",
       " (13.1224, 12.8208, 2.297734042052743, 2.0, 2.7038, 35.190811150039146),\n",
       " (18.0152, 15.2524, 15.335909733095168, 0.015, 0.2377, 1484.4100267104138),\n",
       " (16.8112, 12.8919, 23.31370670102001, 0.05, 2.5183, 4936.637786129266),\n",
       " (26.3227, 12.5041, 52.49704071354419, 0.0, 3.7116, 100312571.18303312),\n",
       " (12.5627, 13.0693, 4.031987157819631, 3.5, 2.109, 39.74160995640744),\n",
       " (9.9156, 13.0714, 31.827617703387897, 49.4, 2.1045, 95.7399384290047),\n",
       " (12.7169, 11.9758, 5.827913064658011, 3.0, 6.2949, 109.83047895369269),\n",
       " (11.9284, 12.0442, 0.9702990376399963, 6.6, 5.8787, 10.929460127325084),\n",
       " (12.3339, 12.3439, 0.08133637145206242, 4.4, 4.3561, 0.9981799434174936),\n",
       " (11.6754, 12.9948, 11.300306718753834, 8.5, 2.2721, 73.26939513375699),\n",
       " (13.8881, 13.5668, 2.3136603582594026, 0.93, 1.2824, 37.89509520644467),\n",
       " (12.6524, 10.9496, 13.45786440624557, 3.2, 17.5646, 448.8952407995531),\n",
       " (12.0238, 11.2785, 6.198059603721446, 6.0, 12.6417, 110.69454805231379),\n",
       " (11.3559, 12.0798, 6.374107673481473, 11.7, 5.6732, 51.511264730405045),\n",
       " (9.2103, 13.5869, 47.51813706020377, 100.0, 1.2568, 98.74317584864433),\n",
       " (8.3143, 9.3262, 12.171257652040435, 245.0, 89.0599, 63.64902191872514),\n",
       " (10.5498, 11.4579, 8.608675806365607, 26.2, 10.5652, 59.67481098272182),\n",
       " (11.8957, 12.2961, 3.3661925681327767, 6.82, 4.5696, 32.99684799088943),\n",
       " (12.6006, 11.5464, 8.366427998131565, 3.37, 9.671, 186.9735724307775),\n",
       " (18.526, 17.4977, 5.5509293909655755, 0.009, 0.0252, 179.64967392342558),\n",
       " (11.5129, 12.2618, 6.504278198497821, 10.0, 4.7292, 52.70817323217693),\n",
       " (10.8554, 12.4243, 14.452597926828561, 19.3, 4.0197, 79.17233645425513),\n",
       " (8.8955, 12.1843, 36.9706566468178, 137.0, 5.1102, 96.26990214172108),\n",
       " (10.9852, 12.6275, 14.949407139609425, 16.95, 3.2806, 80.64517919060962),\n",
       " (11.8696, 10.39, 12.46507566595452, 7.0, 30.7369, 339.09898156904995),\n",
       " (11.3559, 11.3348, 0.18564999165304238, 11.7, 11.9493, 2.1306068701368495),\n",
       " (9.2103, 11.4086, 23.86707448955235, 100.0, 11.0998, 88.90015228708218),\n",
       " (7.8675, 12.1332, 54.21956580727922, 383.0, 5.378, 98.59581215049168),\n",
       " (11.2978, 12.3471, 9.287741187798206, 12.4, 4.3422, 64.98213170743188),\n",
       " (9.5388, 12.7817, 33.99659677446313, 72.0, 2.8117, 96.09488315345139),\n",
       " (9.6884, 12.4325, 28.32434095545103, 62.0, 3.9867, 93.56982672540589),\n",
       " (15.977, 11.0875, 30.603638401864824, 0.1152, 15.3028, 13189.409768509011),\n",
       " (9.4335, 10.6246, 12.625955701919157, 80.0, 24.3117, 69.61033192514967),\n",
       " (11.9655, 11.9617, 0.031789731450247105, 6.36, 6.3842, 0.38110382603086534),\n",
       " (12.8755, 12.2126, 5.148490927414769, 2.56, 4.9674, 94.03999647689778),\n",
       " (20.0301, 17.5942, 12.161496949713241, 0.002, 0.0229, 1042.6809093628801),\n",
       " (10.31, 12.5224, 21.458969404697967, 33.3, 3.6442, 89.0563378288978),\n",
       " (20.7233, 18.0566, 12.867769262365226, 0.001, 0.0144, 1339.1273724269872),\n",
       " (10.8198, 11.7624, 8.712232244276986, 20.0, 7.7919, 61.04037032238709),\n",
       " (15.0195, 12.7951, 14.809760342210785, 0.3, 2.7742, 824.7465283738106),\n",
       " (15.796, 15.3125, 3.0611384962711696, 0.138, 0.2238, 62.18018899264378),\n",
       " (14.3602, 13.9982, 2.521429113861978, 0.58, 0.8331, 43.63184602710285),\n",
       " (9.9035, 14.5476, 46.89358745675224, 50.0, 0.4809, 99.03818236099414),\n",
       " (9.3047, 10.8594, 16.709083409458625, 91.0, 19.2236, 78.8751878511267),\n",
       " (17.1397, 13.9741, 18.469788690243487, 0.036, 0.8534, 2270.474014341292),\n",
       " (11.7361, 11.1126, 5.312825378573225, 8.0, 14.9238, 86.54771281120827),\n",
       " (11.814, 12.9406, 9.53555232343329, 7.4, 2.3987, 67.58448647685123),\n",
       " (9.028, 12.892, 42.800031011344664, 120.0, 2.5181, 97.90159961429403),\n",
       " (13.8155, 11.3228, 18.043119596762345, 1.0, 12.0945, 1109.4479307123702),\n",
       " (8.294, 11.6165, 40.05812834586114, 250.0, 9.0162, 96.39353114875519),\n",
       " (9.2103, 10.8594, 17.904554720253262, 100.0, 19.2229, 80.77714848950238),\n",
       " (10.4143, 12.3064, 18.167950782121334, 30.0, 4.5228, 84.92401781353998),\n",
       " (16.6802, 14.9697, 10.254864644580715, 0.057, 0.3153, 453.19115588833864),\n",
       " (8.5844, 13.1278, 52.92661822287311, 187.0, 1.9891, 98.93631792572069),\n",
       " (15.895, 14.4378, 9.167524419571672, 0.125, 0.5367, 329.3806412626629),\n",
       " (9.2103, 10.4516, 13.476655622302372, 100.0, 28.9024, 71.0976087932089),\n",
       " (13.2849, 12.8112, 3.5657749330366086, 1.7, 2.7301, 60.59395957153085),\n",
       " (12.2845, 14.4502, 17.629823078470736, 4.623, 0.5301, 88.53337733487724),\n",
       " (10.2602, 12.2327, 19.225120543548986, 35.0, 4.8687, 86.08953300367354),\n",
       " (15.1899, 13.5575, 10.746393575736814, 0.253, 1.2943, 411.59540192908247),\n",
       " (17.3911, 14.2074, 18.306261798887746, 0.028, 0.6758, 2313.4762198326302),\n",
       " (10.2602, 11.371, 10.826528164349257, 35.0, 11.5251, 67.07109631329307),\n",
       " (10.5966, 13.131, 23.916495911703496, 25.0, 1.9828, 92.06862452037896),\n",
       " (14.6229, 18.0955, 23.7469988225788, 0.446, 0.0138, 96.89610069499062),\n",
       " (14.7571, 12.8691, 12.794072592538893, 0.39, 2.5765, 560.6384500037389),\n",
       " (19.1138, 16.9859, 11.132796769104939, 0.005, 0.042, 739.7244511024627),\n",
       " (10.7245, 10.7466, 0.20598889164630452, 22.0, 21.5193, 2.184898909008223),\n",
       " (17.6322, 15.1609, 14.016064137323221, 0.022, 0.2604, 1083.8343804321862),\n",
       " (17.5878, 14.3791, 18.24397088500891, 0.023, 0.5692, 2374.7090680933425),\n",
       " (12.6524, 13.0019, 2.762562161092479, 3.2, 2.2561, 29.49801375564362),\n",
       " (8.0074, 11.5492, 44.23155386478141, 333.0, 9.6442, 97.10383668612374),\n",
       " (17.9507, 14.7505, 17.82781266979208, 0.016, 0.3926, 2353.775836569211),\n",
       " (11.6123, 12.014, 3.459368490473448, 9.054, 6.0587, 33.08268160297466),\n",
       " (10.232, 12.7585, 24.6921163764463, 36.0, 2.8778, 92.0061307217613),\n",
       " (10.5197, 12.1088, 15.106521609238046, 27.0, 5.5106, 79.59023614908791),\n",
       " (9.9035, 11.6526, 17.661343029853217, 50.0, 8.6966, 82.60676604536002),\n",
       " (11.5129, 15.5765, 35.295694454007155, 10.0, 0.1719, 98.28123984435427),\n",
       " (8.5374, 9.4415, 10.59011063365244, 196.0, 79.36, 59.51018281051166),\n",
       " (9.6645, 13.0893, 35.43779076096609, 63.5, 2.0671, 96.74466464450916),\n",
       " (14.228, 14.4437, 1.5157733445018449, 0.662, 0.5336, 19.399411556570062),\n",
       " (8.9029, 10.5232, 18.200231026757656, 136.0, 26.9051, 80.21686344504074)]"
      ]
     },
     "execution_count": 132,
     "metadata": {},
     "output_type": "execute_result"
    }
   ],
   "source": [
    "list(zip(y_test_pmic.round(4), y_pred.round(4), ape, y_test_mic.round(4), y_pred_mic.round(4), ape_mic))"
   ]
  },
  {
   "cell_type": "code",
   "execution_count": null,
   "id": "promising-austin",
   "metadata": {},
   "outputs": [],
   "source": [
    "ape_mic.mean()"
   ]
  },
  {
   "cell_type": "code",
   "execution_count": null,
   "id": "current-vintage",
   "metadata": {},
   "outputs": [],
   "source": []
  },
  {
   "cell_type": "code",
   "execution_count": null,
   "id": "aquatic-southwest",
   "metadata": {},
   "outputs": [],
   "source": []
  },
  {
   "cell_type": "markdown",
   "id": "written-society",
   "metadata": {},
   "source": [
    "### Leave one out CV"
   ]
  },
  {
   "cell_type": "code",
   "execution_count": null,
   "id": "minimal-clinton",
   "metadata": {},
   "outputs": [],
   "source": [
    "loo = LeaveOneOut()"
   ]
  },
  {
   "cell_type": "code",
   "execution_count": null,
   "id": "continued-mailing",
   "metadata": {},
   "outputs": [],
   "source": [
    "from tqdm import tqdm"
   ]
  },
  {
   "cell_type": "code",
   "execution_count": null,
   "id": "lesser-norman",
   "metadata": {
    "scrolled": true
   },
   "outputs": [],
   "source": [
    "result_df = pd.DataFrame(columns = list(df.columns)+[\"y_pred_pmic\", \"y_pred_mic\", \"ape_pmic\", \"ape_mic\"])\n",
    "for train_index, test_index in tqdm(loo.split(X)):\n",
    "    X_train, X_test = X.iloc[train_index,:], X.iloc[test_index,:]\n",
    "    y_train, y_test = y.iloc[train_index], y.iloc[test_index]\n",
    "    y_train_pmic, y_train_mic = y_train['pIC50'], y_train['MIC']\n",
    "    y_test_pmic, y_test_mic = y_test['pIC50'], y_test['MIC']\n",
    "    svr = SVR(C=10, gamma=10)\n",
    "    _ = svr.fit(X_train, y_train_pmic)\n",
    "    y_pred_pmic = svr.predict(X_test)\n",
    "    y_pred_mic = np.exp(-y_pred_pmic)/1e-6\n",
    "    ape = 100*np.abs(y_test_pmic-y_pred_pmic)/y_test_pmic\n",
    "    ape_mic = 100*np.abs(y_test_mic-y_pred_mic)/y_test_mic\n",
    "    df_val = df.iloc[test_index,:].values[0].tolist()\n",
    "    res = np.append(df_val, [y_pred_pmic[0], y_pred_mic[0], ape.values[0], ape_mic.values[0]])\n",
    "    res = pd.DataFrame([res], columns = list(df.columns)+[\"y_pred_pmic\", \"y_pred_mic\", \"ape_pmic\", \"ape_mic\"])\n",
    "    result_df = result_df.append(res)\n",
    "result_df = result_df[[\"Sequence\", \"pIC50\", \"y_pred_pmic\", \"ape_pmic\", \"MIC\", \"y_pred_mic\", \"ape_mic\"]]"
   ]
  },
  {
   "cell_type": "code",
   "execution_count": null,
   "id": "flexible-referral",
   "metadata": {},
   "outputs": [],
   "source": [
    "result_df#.to_csv(\"../results/SVM_pMIC_to_MIC_rbf_c_100_gamma_3.csv\", index=False)"
   ]
  },
  {
   "cell_type": "code",
   "execution_count": null,
   "id": "expensive-recruitment",
   "metadata": {},
   "outputs": [],
   "source": [
    "result_df['ape_mic'].astype('float').mean()"
   ]
  },
  {
   "cell_type": "code",
   "execution_count": null,
   "id": "faced-defensive",
   "metadata": {},
   "outputs": [],
   "source": [
    "sns.relplot(x=y_pred_pmic, y=(y_test_pmic-y_pred_pmic))"
   ]
  },
  {
   "cell_type": "code",
   "execution_count": null,
   "id": "encouraging-utilization",
   "metadata": {},
   "outputs": [],
   "source": [
    "sns.relplot(x=y_pred_mic, y=(y_test_mic-y_pred_mic))"
   ]
  },
  {
   "cell_type": "code",
   "execution_count": null,
   "id": "ambient-floor",
   "metadata": {},
   "outputs": [],
   "source": [
    "import matplotlib.pyplot as plt"
   ]
  },
  {
   "cell_type": "code",
   "execution_count": null,
   "id": "hungarian-shell",
   "metadata": {},
   "outputs": [],
   "source": [
    "plt.hist(y_pred_mic, alpha=0.5)\n",
    "plt.hist(y_test_mic, alpha=0.5)"
   ]
  },
  {
   "cell_type": "code",
   "execution_count": null,
   "id": "broad-silly",
   "metadata": {},
   "outputs": [],
   "source": []
  }
 ],
 "metadata": {
  "kernelspec": {
   "display_name": "Python 3",
   "language": "python",
   "name": "python3"
  },
  "language_info": {
   "codemirror_mode": {
    "name": "ipython",
    "version": 3
   },
   "file_extension": ".py",
   "mimetype": "text/x-python",
   "name": "python",
   "nbconvert_exporter": "python",
   "pygments_lexer": "ipython3",
   "version": "3.6.10"
  },
  "varInspector": {
   "cols": {
    "lenName": 16,
    "lenType": 16,
    "lenVar": 40
   },
   "kernels_config": {
    "python": {
     "delete_cmd_postfix": "",
     "delete_cmd_prefix": "del ",
     "library": "var_list.py",
     "varRefreshCmd": "print(var_dic_list())"
    },
    "r": {
     "delete_cmd_postfix": ") ",
     "delete_cmd_prefix": "rm(",
     "library": "var_list.r",
     "varRefreshCmd": "cat(var_dic_list()) "
    }
   },
   "types_to_exclude": [
    "module",
    "function",
    "builtin_function_or_method",
    "instance",
    "_Feature"
   ],
   "window_display": false
  }
 },
 "nbformat": 4,
 "nbformat_minor": 5
}
