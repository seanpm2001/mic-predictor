{
 "cells": [
  {
   "cell_type": "code",
   "execution_count": 1,
   "id": "pacific-spotlight",
   "metadata": {
    "ExecuteTime": {
     "end_time": "2021-05-06T07:13:07.512154Z",
     "start_time": "2021-05-06T07:13:07.506420Z"
    }
   },
   "outputs": [
    {
     "name": "stdout",
     "output_type": "stream",
     "text": [
      "/Users/in-divye.singh/Documents/Projects/cd_hit_py\n"
     ]
    }
   ],
   "source": [
    "cd ../../../cd_hit_py/"
   ]
  },
  {
   "cell_type": "code",
   "execution_count": 2,
   "id": "cardiovascular-stuart",
   "metadata": {
    "ExecuteTime": {
     "end_time": "2021-05-06T07:13:10.801871Z",
     "start_time": "2021-05-06T07:13:08.846025Z"
    }
   },
   "outputs": [],
   "source": [
    "from cd_hit import CD_HIT"
   ]
  },
  {
   "cell_type": "code",
   "execution_count": 3,
   "id": "pediatric-variance",
   "metadata": {
    "ExecuteTime": {
     "end_time": "2021-05-06T07:13:12.207856Z",
     "start_time": "2021-05-06T07:13:12.203832Z"
    }
   },
   "outputs": [
    {
     "name": "stdout",
     "output_type": "stream",
     "text": [
      "/Users/in-divye.singh/Documents/Projects/MIC_predictor/src\n"
     ]
    }
   ],
   "source": [
    "cd ../MIC_predictor/src/"
   ]
  },
  {
   "cell_type": "code",
   "execution_count": 4,
   "id": "varied-symphony",
   "metadata": {
    "ExecuteTime": {
     "end_time": "2021-05-06T07:13:20.635060Z",
     "start_time": "2021-05-06T07:13:14.781262Z"
    }
   },
   "outputs": [],
   "source": [
    "import biovec\n",
    "import numpy as np\n",
    "import pandas as pd\n",
    "from itertools import chain, combinations\n",
    "from collections import Counter\n",
    "\n",
    "from utils import *\n",
    "\n",
    "from sklearn.svm import SVR\n",
    "from sklearn.neighbors import KNeighborsRegressor\n",
    "from sklearn.metrics import make_scorer\n",
    "from sklearn.model_selection import GridSearchCV\n",
    "from sklearn.metrics import mean_squared_error, mean_absolute_error\n",
    "from sklearn.model_selection import train_test_split\n",
    "\n",
    "from Bio.SeqUtils.ProtParam import ProteinAnalysis"
   ]
  },
  {
   "cell_type": "code",
   "execution_count": 5,
   "id": "behavioral-disposal",
   "metadata": {
    "ExecuteTime": {
     "end_time": "2021-05-06T07:13:20.652238Z",
     "start_time": "2021-05-06T07:13:20.648482Z"
    }
   },
   "outputs": [],
   "source": [
    "def mean_absolute_percentage_error(y_true, y_pred): \n",
    "    y_true, y_pred = np.array(y_true), np.array(y_pred)\n",
    "    return np.mean(np.abs((y_true - y_pred) / y_true)) * 100\n",
    "\n",
    "mape_scorer = make_scorer(mean_absolute_percentage_error, greater_is_better=False)"
   ]
  },
  {
   "cell_type": "code",
   "execution_count": 6,
   "id": "possible-ending",
   "metadata": {
    "ExecuteTime": {
     "end_time": "2021-05-06T07:13:20.667940Z",
     "start_time": "2021-05-06T07:13:20.664854Z"
    }
   },
   "outputs": [],
   "source": [
    "def pearson_score(y_true, y_pred):\n",
    "    pcc = pearsonr(y_true, y_pred)\n",
    "    return pcc[0]\n",
    "\n",
    "pcc_scorer = make_scorer(pearson_score)"
   ]
  },
  {
   "cell_type": "code",
   "execution_count": 7,
   "id": "retired-anthony",
   "metadata": {
    "ExecuteTime": {
     "end_time": "2021-05-06T07:13:20.711302Z",
     "start_time": "2021-05-06T07:13:20.681339Z"
    }
   },
   "outputs": [],
   "source": [
    "avp_ic50 = pd.read_csv(\"../data/raw/AVP-IC50Pred_train.csv\")\n",
    "ha_avp = pd.read_csv(\"../data/raw/HA_AVP.csv\")"
   ]
  },
  {
   "cell_type": "code",
   "execution_count": 8,
   "id": "administrative-sweet",
   "metadata": {
    "ExecuteTime": {
     "end_time": "2021-05-06T07:13:20.800392Z",
     "start_time": "2021-05-06T07:13:20.750440Z"
    }
   },
   "outputs": [],
   "source": [
    "df = pd.concat([avp_ic50[['Sequence','MIC']], ha_avp], axis=0).drop_duplicates(['Sequence']).reset_index(drop=True)\n",
    "df = sequence_filtering(df)"
   ]
  },
  {
   "cell_type": "code",
   "execution_count": 9,
   "id": "motivated-california",
   "metadata": {
    "ExecuteTime": {
     "end_time": "2021-05-06T07:13:20.899311Z",
     "start_time": "2021-05-06T07:13:20.893032Z"
    }
   },
   "outputs": [],
   "source": [
    "df['pIC50'] = df['MIC'].apply(lambda x: -np.log(x*1e-6))"
   ]
  },
  {
   "cell_type": "code",
   "execution_count": 10,
   "id": "therapeutic-maryland",
   "metadata": {
    "ExecuteTime": {
     "end_time": "2021-05-06T07:13:22.874207Z",
     "start_time": "2021-05-06T07:13:22.862514Z"
    }
   },
   "outputs": [],
   "source": [
    "family = pd.read_csv(\"../data/raw/712pep_family.csv\")"
   ]
  },
  {
   "cell_type": "code",
   "execution_count": 12,
   "id": "commercial-leeds",
   "metadata": {
    "ExecuteTime": {
     "end_time": "2021-05-06T07:13:56.015301Z",
     "start_time": "2021-05-06T07:13:56.011339Z"
    }
   },
   "outputs": [
    {
     "data": {
      "text/plain": [
       "array(['Arenaviridae', 'Arteriviridae', 'Asfarviridae', 'Bunyaviridae',\n",
       "       'Coronaviridae', 'Family', 'Filoviridae', 'Flaviviridae',\n",
       "       'Hepadnaviridae', 'Herpesviridae', 'Orthomyxoviridae',\n",
       "       'Papillomaviridae', 'Paramyxoviridae', 'Polyomaviridae',\n",
       "       'Poxviridae', 'Retroviridae'], dtype=object)"
      ]
     },
     "execution_count": 12,
     "metadata": {},
     "output_type": "execute_result"
    }
   ],
   "source": [
    "family['Family'].unique()"
   ]
  },
  {
   "cell_type": "code",
   "execution_count": 23,
   "id": "faced-recall",
   "metadata": {
    "ExecuteTime": {
     "end_time": "2021-05-06T07:15:40.672543Z",
     "start_time": "2021-05-06T07:15:40.668652Z"
    }
   },
   "outputs": [],
   "source": [
    "flaviviridae_seq = family[(family['Family'] == \"Flaviviridae\")].reset_index(drop=True)"
   ]
  },
  {
   "cell_type": "code",
   "execution_count": 24,
   "id": "herbal-immigration",
   "metadata": {
    "ExecuteTime": {
     "end_time": "2021-05-06T07:15:45.369116Z",
     "start_time": "2021-05-06T07:15:45.358856Z"
    }
   },
   "outputs": [
    {
     "data": {
      "text/html": [
       "<div>\n",
       "<style scoped>\n",
       "    .dataframe tbody tr th:only-of-type {\n",
       "        vertical-align: middle;\n",
       "    }\n",
       "\n",
       "    .dataframe tbody tr th {\n",
       "        vertical-align: top;\n",
       "    }\n",
       "\n",
       "    .dataframe thead th {\n",
       "        text-align: right;\n",
       "    }\n",
       "</style>\n",
       "<table border=\"1\" class=\"dataframe\">\n",
       "  <thead>\n",
       "    <tr style=\"text-align: right;\">\n",
       "      <th></th>\n",
       "      <th>Sequence</th>\n",
       "      <th>Abbreviation</th>\n",
       "      <th>Family</th>\n",
       "    </tr>\n",
       "  </thead>\n",
       "  <tbody>\n",
       "    <tr>\n",
       "      <th>0</th>\n",
       "      <td>AAQRRGRVGRNPNQVGD</td>\n",
       "      <td>HCV</td>\n",
       "      <td>Flaviviridae</td>\n",
       "    </tr>\n",
       "    <tr>\n",
       "      <th>1</th>\n",
       "      <td>RNPSQVGD</td>\n",
       "      <td>WNV</td>\n",
       "      <td>Flaviviridae</td>\n",
       "    </tr>\n",
       "    <tr>\n",
       "      <th>2</th>\n",
       "      <td>RVGRNPNQVGD</td>\n",
       "      <td>HCV</td>\n",
       "      <td>Flaviviridae</td>\n",
       "    </tr>\n",
       "    <tr>\n",
       "      <th>3</th>\n",
       "      <td>AAQRRGRIGRNPSQVGD</td>\n",
       "      <td>HCV</td>\n",
       "      <td>Flaviviridae</td>\n",
       "    </tr>\n",
       "    <tr>\n",
       "      <th>4</th>\n",
       "      <td>RGRRGIYR</td>\n",
       "      <td>HCV</td>\n",
       "      <td>Flaviviridae</td>\n",
       "    </tr>\n",
       "    <tr>\n",
       "      <th>...</th>\n",
       "      <td>...</td>\n",
       "      <td>...</td>\n",
       "      <td>...</td>\n",
       "    </tr>\n",
       "    <tr>\n",
       "      <th>125</th>\n",
       "      <td>TWLRAIWDWVCTALTDFK</td>\n",
       "      <td>HCV</td>\n",
       "      <td>Flaviviridae</td>\n",
       "    </tr>\n",
       "    <tr>\n",
       "      <th>126</th>\n",
       "      <td>SWLRDVWDWVCTVLSDFK</td>\n",
       "      <td>HCV</td>\n",
       "      <td>Flaviviridae</td>\n",
       "    </tr>\n",
       "    <tr>\n",
       "      <th>127</th>\n",
       "      <td>GAIVSTALPQWRIYSYAG</td>\n",
       "      <td>HCV</td>\n",
       "      <td>Flaviviridae</td>\n",
       "    </tr>\n",
       "    <tr>\n",
       "      <th>128</th>\n",
       "      <td>SWLRDIWDWLCELLSDFK</td>\n",
       "      <td>HCV</td>\n",
       "      <td>Flaviviridae</td>\n",
       "    </tr>\n",
       "    <tr>\n",
       "      <th>129</th>\n",
       "      <td>EELRVRLASHLRKLRKRLLRDADDLQKRLAVYEEQAQQIRLQAEAF...</td>\n",
       "      <td>HCV</td>\n",
       "      <td>Flaviviridae</td>\n",
       "    </tr>\n",
       "  </tbody>\n",
       "</table>\n",
       "<p>130 rows × 3 columns</p>\n",
       "</div>"
      ],
      "text/plain": [
       "                                              Sequence Abbreviation  \\\n",
       "0                                    AAQRRGRVGRNPNQVGD          HCV   \n",
       "1                                             RNPSQVGD          WNV   \n",
       "2                                          RVGRNPNQVGD          HCV   \n",
       "3                                    AAQRRGRIGRNPSQVGD          HCV   \n",
       "4                                             RGRRGIYR          HCV   \n",
       "..                                                 ...          ...   \n",
       "125                                 TWLRAIWDWVCTALTDFK          HCV   \n",
       "126                                 SWLRDVWDWVCTVLSDFK          HCV   \n",
       "127                                 GAIVSTALPQWRIYSYAG          HCV   \n",
       "128                                 SWLRDIWDWLCELLSDFK          HCV   \n",
       "129  EELRVRLASHLRKLRKRLLRDADDLQKRLAVYEEQAQQIRLQAEAF...          HCV   \n",
       "\n",
       "           Family  \n",
       "0    Flaviviridae  \n",
       "1    Flaviviridae  \n",
       "2    Flaviviridae  \n",
       "3    Flaviviridae  \n",
       "4    Flaviviridae  \n",
       "..            ...  \n",
       "125  Flaviviridae  \n",
       "126  Flaviviridae  \n",
       "127  Flaviviridae  \n",
       "128  Flaviviridae  \n",
       "129  Flaviviridae  \n",
       "\n",
       "[130 rows x 3 columns]"
      ]
     },
     "execution_count": 24,
     "metadata": {},
     "output_type": "execute_result"
    }
   ],
   "source": [
    "flaviviridae_seq"
   ]
  },
  {
   "cell_type": "code",
   "execution_count": 30,
   "id": "executive-heater",
   "metadata": {
    "ExecuteTime": {
     "end_time": "2021-05-06T07:17:19.724936Z",
     "start_time": "2021-05-06T07:17:19.717385Z"
    }
   },
   "outputs": [],
   "source": [
    "df_flaviviridae = df.merge(flaviviridae_seq,how='right',on='Sequence').reset_index(drop=True)"
   ]
  },
  {
   "cell_type": "code",
   "execution_count": 33,
   "id": "recreational-enlargement",
   "metadata": {
    "ExecuteTime": {
     "end_time": "2021-05-06T07:17:51.771242Z",
     "start_time": "2021-05-06T07:17:51.757392Z"
    }
   },
   "outputs": [
    {
     "data": {
      "text/html": [
       "<div>\n",
       "<style scoped>\n",
       "    .dataframe tbody tr th:only-of-type {\n",
       "        vertical-align: middle;\n",
       "    }\n",
       "\n",
       "    .dataframe tbody tr th {\n",
       "        vertical-align: top;\n",
       "    }\n",
       "\n",
       "    .dataframe thead th {\n",
       "        text-align: right;\n",
       "    }\n",
       "</style>\n",
       "<table border=\"1\" class=\"dataframe\">\n",
       "  <thead>\n",
       "    <tr style=\"text-align: right;\">\n",
       "      <th></th>\n",
       "      <th>Sequence</th>\n",
       "      <th>MIC</th>\n",
       "      <th>pIC50</th>\n",
       "      <th>Abbreviation</th>\n",
       "      <th>Family</th>\n",
       "    </tr>\n",
       "  </thead>\n",
       "  <tbody>\n",
       "    <tr>\n",
       "      <th>0</th>\n",
       "      <td>AAQRRGRVGRNPNQVGD</td>\n",
       "      <td>442.00</td>\n",
       "      <td>7.724201</td>\n",
       "      <td>HCV</td>\n",
       "      <td>Flaviviridae</td>\n",
       "    </tr>\n",
       "    <tr>\n",
       "      <th>1</th>\n",
       "      <td>RNPSQVGD</td>\n",
       "      <td>383.00</td>\n",
       "      <td>7.867476</td>\n",
       "      <td>WNV</td>\n",
       "      <td>Flaviviridae</td>\n",
       "    </tr>\n",
       "    <tr>\n",
       "      <th>2</th>\n",
       "      <td>RVGRNPNQVGD</td>\n",
       "      <td>374.00</td>\n",
       "      <td>7.891255</td>\n",
       "      <td>HCV</td>\n",
       "      <td>Flaviviridae</td>\n",
       "    </tr>\n",
       "    <tr>\n",
       "      <th>3</th>\n",
       "      <td>AAQRRGRIGRNPSQVGD</td>\n",
       "      <td>358.00</td>\n",
       "      <td>7.934978</td>\n",
       "      <td>HCV</td>\n",
       "      <td>Flaviviridae</td>\n",
       "    </tr>\n",
       "    <tr>\n",
       "      <th>4</th>\n",
       "      <td>RGRRGIYR</td>\n",
       "      <td>313.00</td>\n",
       "      <td>8.069307</td>\n",
       "      <td>HCV</td>\n",
       "      <td>Flaviviridae</td>\n",
       "    </tr>\n",
       "    <tr>\n",
       "      <th>...</th>\n",
       "      <td>...</td>\n",
       "      <td>...</td>\n",
       "      <td>...</td>\n",
       "      <td>...</td>\n",
       "      <td>...</td>\n",
       "    </tr>\n",
       "    <tr>\n",
       "      <th>125</th>\n",
       "      <td>TWLRAIWDWVCTALTDFK</td>\n",
       "      <td>7.10</td>\n",
       "      <td>11.855416</td>\n",
       "      <td>HCV</td>\n",
       "      <td>Flaviviridae</td>\n",
       "    </tr>\n",
       "    <tr>\n",
       "      <th>126</th>\n",
       "      <td>SWLRDVWDWVCTVLSDFK</td>\n",
       "      <td>3.50</td>\n",
       "      <td>12.562748</td>\n",
       "      <td>HCV</td>\n",
       "      <td>Flaviviridae</td>\n",
       "    </tr>\n",
       "    <tr>\n",
       "      <th>127</th>\n",
       "      <td>GAIVSTALPQWRIYSYAG</td>\n",
       "      <td>23.80</td>\n",
       "      <td>10.645825</td>\n",
       "      <td>HCV</td>\n",
       "      <td>Flaviviridae</td>\n",
       "    </tr>\n",
       "    <tr>\n",
       "      <th>128</th>\n",
       "      <td>SWLRDIWDWLCELLSDFK</td>\n",
       "      <td>0.82</td>\n",
       "      <td>14.013961</td>\n",
       "      <td>HCV</td>\n",
       "      <td>Flaviviridae</td>\n",
       "    </tr>\n",
       "    <tr>\n",
       "      <th>129</th>\n",
       "      <td>EELRVRLASHLRKLRKRLLRDADDLQKRLAVYEEQAQQIRLQAEAF...</td>\n",
       "      <td>0.67</td>\n",
       "      <td>14.215988</td>\n",
       "      <td>HCV</td>\n",
       "      <td>Flaviviridae</td>\n",
       "    </tr>\n",
       "  </tbody>\n",
       "</table>\n",
       "<p>130 rows × 5 columns</p>\n",
       "</div>"
      ],
      "text/plain": [
       "                                              Sequence     MIC      pIC50  \\\n",
       "0                                    AAQRRGRVGRNPNQVGD  442.00   7.724201   \n",
       "1                                             RNPSQVGD  383.00   7.867476   \n",
       "2                                          RVGRNPNQVGD  374.00   7.891255   \n",
       "3                                    AAQRRGRIGRNPSQVGD  358.00   7.934978   \n",
       "4                                             RGRRGIYR  313.00   8.069307   \n",
       "..                                                 ...     ...        ...   \n",
       "125                                 TWLRAIWDWVCTALTDFK    7.10  11.855416   \n",
       "126                                 SWLRDVWDWVCTVLSDFK    3.50  12.562748   \n",
       "127                                 GAIVSTALPQWRIYSYAG   23.80  10.645825   \n",
       "128                                 SWLRDIWDWLCELLSDFK    0.82  14.013961   \n",
       "129  EELRVRLASHLRKLRKRLLRDADDLQKRLAVYEEQAQQIRLQAEAF...    0.67  14.215988   \n",
       "\n",
       "    Abbreviation        Family  \n",
       "0            HCV  Flaviviridae  \n",
       "1            WNV  Flaviviridae  \n",
       "2            HCV  Flaviviridae  \n",
       "3            HCV  Flaviviridae  \n",
       "4            HCV  Flaviviridae  \n",
       "..           ...           ...  \n",
       "125          HCV  Flaviviridae  \n",
       "126          HCV  Flaviviridae  \n",
       "127          HCV  Flaviviridae  \n",
       "128          HCV  Flaviviridae  \n",
       "129          HCV  Flaviviridae  \n",
       "\n",
       "[130 rows x 5 columns]"
      ]
     },
     "execution_count": 33,
     "metadata": {},
     "output_type": "execute_result"
    }
   ],
   "source": [
    "df_flaviviridae#.to_csv(\"../data/raw/flaviviridae_data.csv\", index=False)"
   ]
  },
  {
   "cell_type": "code",
   "execution_count": 34,
   "id": "biological-brass",
   "metadata": {
    "ExecuteTime": {
     "end_time": "2021-05-06T07:19:11.593346Z",
     "start_time": "2021-05-06T07:19:11.588048Z"
    }
   },
   "outputs": [],
   "source": [
    "def get_physicochemical_properties(df):\n",
    "    params = ['aromaticity', 'helix', 'turn', 'sheet', 'gravy', 'net_charge_at_pH7point4']\n",
    "\n",
    "    prop = []\n",
    "    for seq in df.Sequence:\n",
    "        X = ProteinAnalysis(seq)\n",
    "        aromaticity = X.aromaticity()\n",
    "        sec_struc = X.secondary_structure_fraction()\n",
    "        helix = sec_struc[0]\n",
    "        turn = sec_struc[1]\n",
    "        sheet = sec_struc[2]\n",
    "        gravy = X.gravy() # hydrophobicity related\n",
    "        net_charge_at_pH7point4 = X.charge_at_pH(7.4)\n",
    "\n",
    "        prop.append([aromaticity, helix, turn, sheet, gravy, net_charge_at_pH7point4])\n",
    "    return pd.DataFrame(prop, columns=params)"
   ]
  },
  {
   "cell_type": "code",
   "execution_count": 35,
   "id": "meaning-response",
   "metadata": {
    "ExecuteTime": {
     "end_time": "2021-05-06T07:19:22.291724Z",
     "start_time": "2021-05-06T07:19:22.281197Z"
    }
   },
   "outputs": [],
   "source": [
    "aa_freq = reduce_by_kmer_frequency(df_flaviviridae)"
   ]
  },
  {
   "cell_type": "code",
   "execution_count": 36,
   "id": "instrumental-stanford",
   "metadata": {
    "ExecuteTime": {
     "end_time": "2021-05-06T07:19:27.307105Z",
     "start_time": "2021-05-06T07:19:27.056250Z"
    }
   },
   "outputs": [
    {
     "name": "stderr",
     "output_type": "stream",
     "text": [
      "/Users/in-divye.singh/anaconda3/envs/life-science/lib/python3.6/site-packages/smart_open/smart_open_lib.py:254: UserWarning: This function is deprecated, use smart_open.open instead. See the migration notes for details: https://github.com/RaRe-Technologies/smart_open/blob/master/README.rst#migrating-to-the-new-open-function\n",
      "  'See the migration notes for details: %s' % _MIGRATION_NOTES_URL\n",
      "Creating vectors: 100%|██████████| 130/130 [00:00<00:00, 1082.24sequence/s]\n"
     ]
    }
   ],
   "source": [
    "uniprot_embedding = biovec.models.load_protvec(\"../data/embeddings/uniprot__kmer_3_contextWindow_10_vector_100_reduction_None\")\n",
    "\n",
    "avg_protvec = convert_sequences_to_avg_vectors(df_flaviviridae['Sequence'], uniprot_embedding, kmer=3)\n",
    "avg_protvec = avg_protvec.reset_index(drop=True)"
   ]
  },
  {
   "cell_type": "code",
   "execution_count": 37,
   "id": "involved-penalty",
   "metadata": {
    "ExecuteTime": {
     "end_time": "2021-05-06T07:19:31.367709Z",
     "start_time": "2021-05-06T07:19:31.357061Z"
    }
   },
   "outputs": [],
   "source": [
    "physicochemical_prop = get_physicochemical_properties(df_flaviviridae)"
   ]
  },
  {
   "cell_type": "code",
   "execution_count": 38,
   "id": "historical-compound",
   "metadata": {
    "ExecuteTime": {
     "end_time": "2021-05-06T07:19:33.364032Z",
     "start_time": "2021-05-06T07:19:33.359262Z"
    }
   },
   "outputs": [],
   "source": [
    "X = pd.concat([aa_freq, avg_protvec, physicochemical_prop[['helix','turn','sheet']]], axis=1)"
   ]
  },
  {
   "cell_type": "code",
   "execution_count": 39,
   "id": "exempt-notification",
   "metadata": {
    "ExecuteTime": {
     "end_time": "2021-05-06T07:19:37.180228Z",
     "start_time": "2021-05-06T07:19:37.176460Z"
    }
   },
   "outputs": [],
   "source": [
    "y = df_flaviviridae[['pIC50', 'MIC']]"
   ]
  },
  {
   "cell_type": "code",
   "execution_count": 40,
   "id": "equal-tucson",
   "metadata": {
    "ExecuteTime": {
     "end_time": "2021-05-06T07:19:39.587264Z",
     "start_time": "2021-05-06T07:19:39.580287Z"
    }
   },
   "outputs": [],
   "source": [
    "X_train, X_test, y_train, y_test = train_test_split(X, y, test_size=0.2, random_state=42)"
   ]
  },
  {
   "cell_type": "code",
   "execution_count": 41,
   "id": "acknowledged-mining",
   "metadata": {
    "ExecuteTime": {
     "end_time": "2021-05-06T07:19:40.563430Z",
     "start_time": "2021-05-06T07:19:40.560272Z"
    }
   },
   "outputs": [],
   "source": [
    "y_train_pmic, y_train_mic = y_train['pIC50'], y_train['MIC']\n",
    "y_test_pmic, y_test_mic = y_test['pIC50'], y_test['MIC']"
   ]
  },
  {
   "cell_type": "code",
   "execution_count": 42,
   "id": "whole-essex",
   "metadata": {
    "ExecuteTime": {
     "end_time": "2021-05-06T07:19:41.777113Z",
     "start_time": "2021-05-06T07:19:41.774253Z"
    }
   },
   "outputs": [],
   "source": [
    "from sklearn.model_selection import cross_val_score, GridSearchCV, LeaveOneOut"
   ]
  },
  {
   "cell_type": "code",
   "execution_count": 46,
   "id": "legal-democracy",
   "metadata": {
    "ExecuteTime": {
     "end_time": "2021-05-06T07:20:26.500050Z",
     "start_time": "2021-05-06T07:20:26.497026Z"
    }
   },
   "outputs": [],
   "source": [
    "from scipy.stats import pearsonr"
   ]
  },
  {
   "cell_type": "code",
   "execution_count": 47,
   "id": "human-miller",
   "metadata": {
    "ExecuteTime": {
     "end_time": "2021-05-06T07:20:29.093206Z",
     "start_time": "2021-05-06T07:20:29.087599Z"
    }
   },
   "outputs": [],
   "source": [
    "def multi_objective_score(y_true, y_pred):\n",
    "    mape = mean_absolute_percentage_error(y_true, y_pred)\n",
    "    pcc = pearson_score(y_true, y_pred)\n",
    "    return mape - 10*pcc\n",
    "multi_objective_scorer = make_scorer(multi_objective_score, greater_is_better=False)"
   ]
  },
  {
   "cell_type": "code",
   "execution_count": 50,
   "id": "substantial-bathroom",
   "metadata": {
    "ExecuteTime": {
     "end_time": "2021-05-06T07:20:40.791522Z",
     "start_time": "2021-05-06T07:20:40.787030Z"
    }
   },
   "outputs": [],
   "source": [
    "max_n_neighbors = int(np.sqrt(X_train.shape[0]))\n",
    "param_grid = {\n",
    "    'n_neighbors': range(1, max_n_neighbors),\n",
    "    'weights': ['uniform', 'distance'],\n",
    "    'metric': [\"euclidean\", \"manhattan\", \"chebyshev\"]\n",
    "}\n",
    "knn = KNeighborsRegressor()\n",
    "# Instantiate the grid search model\n",
    "grid_search = GridSearchCV(estimator = knn, param_grid = param_grid, \n",
    "                          cv = 5, n_jobs = -1, verbose = 2, scoring=mape_scorer)"
   ]
  },
  {
   "cell_type": "code",
   "execution_count": 51,
   "id": "fundamental-provincial",
   "metadata": {
    "ExecuteTime": {
     "end_time": "2021-05-06T07:20:41.910236Z",
     "start_time": "2021-05-06T07:20:41.377231Z"
    },
    "scrolled": false
   },
   "outputs": [
    {
     "name": "stdout",
     "output_type": "stream",
     "text": [
      "Fitting 5 folds for each of 54 candidates, totalling 270 fits\n"
     ]
    },
    {
     "name": "stderr",
     "output_type": "stream",
     "text": [
      "[Parallel(n_jobs=-1)]: Using backend LokyBackend with 12 concurrent workers.\n",
      "[Parallel(n_jobs=-1)]: Done  17 tasks      | elapsed:    0.1s\n",
      "[Parallel(n_jobs=-1)]: Done 270 out of 270 | elapsed:    0.5s finished\n"
     ]
    },
    {
     "data": {
      "text/plain": [
       "GridSearchCV(cv=5, estimator=KNeighborsRegressor(), n_jobs=-1,\n",
       "             param_grid={'metric': ['euclidean', 'manhattan', 'chebyshev'],\n",
       "                         'n_neighbors': range(1, 10),\n",
       "                         'weights': ['uniform', 'distance']},\n",
       "             scoring=make_scorer(mean_absolute_percentage_error, greater_is_better=False),\n",
       "             verbose=2)"
      ]
     },
     "execution_count": 51,
     "metadata": {},
     "output_type": "execute_result"
    }
   ],
   "source": [
    "grid_search.fit(X_train, y_train_pmic)"
   ]
  },
  {
   "cell_type": "code",
   "execution_count": 52,
   "id": "cellular-percentage",
   "metadata": {
    "ExecuteTime": {
     "end_time": "2021-05-06T07:20:44.075709Z",
     "start_time": "2021-05-06T07:20:44.071629Z"
    }
   },
   "outputs": [
    {
     "data": {
      "text/plain": [
       "{'metric': 'euclidean', 'n_neighbors': 1, 'weights': 'distance'}"
      ]
     },
     "execution_count": 52,
     "metadata": {},
     "output_type": "execute_result"
    }
   ],
   "source": [
    "grid_search.best_params_"
   ]
  },
  {
   "cell_type": "code",
   "execution_count": 53,
   "id": "coastal-functionality",
   "metadata": {
    "ExecuteTime": {
     "end_time": "2021-05-06T07:20:48.587317Z",
     "start_time": "2021-05-06T07:20:48.584866Z"
    }
   },
   "outputs": [],
   "source": [
    "best_grid = grid_search.best_estimator_"
   ]
  },
  {
   "cell_type": "code",
   "execution_count": 54,
   "id": "comparable-realtor",
   "metadata": {
    "ExecuteTime": {
     "end_time": "2021-05-06T07:20:57.238734Z",
     "start_time": "2021-05-06T07:20:57.230542Z"
    }
   },
   "outputs": [],
   "source": [
    "y_pred_pmic = best_grid.predict(X_test)"
   ]
  },
  {
   "cell_type": "code",
   "execution_count": 55,
   "id": "compound-helicopter",
   "metadata": {
    "ExecuteTime": {
     "end_time": "2021-05-06T07:20:58.297007Z",
     "start_time": "2021-05-06T07:20:58.292800Z"
    }
   },
   "outputs": [
    {
     "data": {
      "text/plain": [
       "12.39909277786959"
      ]
     },
     "execution_count": 55,
     "metadata": {},
     "output_type": "execute_result"
    }
   ],
   "source": [
    "mean_absolute_percentage_error(y_test_pmic, y_pred_pmic)"
   ]
  },
  {
   "cell_type": "code",
   "execution_count": 56,
   "id": "sixth-appliance",
   "metadata": {
    "ExecuteTime": {
     "end_time": "2021-05-06T07:21:03.887652Z",
     "start_time": "2021-05-06T07:21:03.884764Z"
    }
   },
   "outputs": [],
   "source": [
    "y_pred_mic = np.exp(-y_pred_pmic)/1e-6"
   ]
  },
  {
   "cell_type": "code",
   "execution_count": 57,
   "id": "established-armenia",
   "metadata": {
    "ExecuteTime": {
     "end_time": "2021-05-06T07:21:04.868939Z",
     "start_time": "2021-05-06T07:21:04.855000Z"
    }
   },
   "outputs": [],
   "source": [
    "ape_mic = 100*np.abs(y_test_mic-y_pred_mic)/y_test_mic"
   ]
  },
  {
   "cell_type": "code",
   "execution_count": 58,
   "id": "swedish-missouri",
   "metadata": {
    "ExecuteTime": {
     "end_time": "2021-05-06T07:21:05.750410Z",
     "start_time": "2021-05-06T07:21:05.746138Z"
    }
   },
   "outputs": [
    {
     "data": {
      "text/plain": [
       "295.4050369014247"
      ]
     },
     "execution_count": 58,
     "metadata": {},
     "output_type": "execute_result"
    }
   ],
   "source": [
    "mean_absolute_percentage_error(y_test_mic, y_pred_mic)"
   ]
  },
  {
   "cell_type": "code",
   "execution_count": 59,
   "id": "handy-photography",
   "metadata": {
    "ExecuteTime": {
     "end_time": "2021-05-06T07:21:06.041700Z",
     "start_time": "2021-05-06T07:21:06.037816Z"
    },
    "scrolled": true
   },
   "outputs": [
    {
     "data": {
      "text/plain": [
       "0.027843813550565283"
      ]
     },
     "execution_count": 59,
     "metadata": {},
     "output_type": "execute_result"
    }
   ],
   "source": [
    "pearson_score(y_test_mic, y_pred_mic)"
   ]
  },
  {
   "cell_type": "code",
   "execution_count": 60,
   "id": "significant-cleaner",
   "metadata": {
    "ExecuteTime": {
     "end_time": "2021-05-06T07:21:08.544698Z",
     "start_time": "2021-05-06T07:21:08.538790Z"
    },
    "collapsed": true
   },
   "outputs": [
    {
     "data": {
      "text/plain": [
       "[(8.9, 4.3, 51.68539325842702),\n",
       " (12.5, 21.5, 72.0),\n",
       " (27.0, 27.0, 5.26327952414889e-14),\n",
       " (21.4, 11.7, 45.327102803738335),\n",
       " (0.024, 0.001, 95.83333333333333),\n",
       " (8.0, 25.0, 212.50000000000023),\n",
       " (5.0, 5.0, 1.7763568394002505e-14),\n",
       " (0.51, 1.7, 233.33333333333348),\n",
       " (3.0, 10.0, 233.33333333333326),\n",
       " (25.0, 25.0, 7.105427357601002e-14),\n",
       " (1.115, 0.811, 27.264573991031575),\n",
       " (25.0, 25.0, 7.105427357601002e-14),\n",
       " (5.1, 4.0, 21.568627450980195),\n",
       " (313.0, 0.2, 99.93610223642173),\n",
       " (0.89, 0.84, 5.617977528089906),\n",
       " (0.8, 10.0, 1149.9999999999995),\n",
       " (13.5, 13.0, 3.7037037037036904),\n",
       " (3.0, 4.0, 33.33333333333342),\n",
       " (1.2, 0.79, 34.166666666666714),\n",
       " (1.965, 36.0, 1732.0610687022888),\n",
       " (27.0, 27.0, 5.26327952414889e-14),\n",
       " (36.0, 358.0, 894.4444444444441),\n",
       " (0.001, 0.026, 2499.9999999999964),\n",
       " (34.6, 0.2, 99.42196531791907),\n",
       " (3.5, 2.1, 39.99999999999996),\n",
       " (10.0, 0.5, 94.99999999999997)]"
      ]
     },
     "execution_count": 60,
     "metadata": {},
     "output_type": "execute_result"
    }
   ],
   "source": [
    "list(zip(y_test_mic.round(4), y_pred_mic.round(4), ape_mic))"
   ]
  },
  {
   "cell_type": "code",
   "execution_count": 61,
   "id": "narrative-dining",
   "metadata": {
    "ExecuteTime": {
     "end_time": "2021-05-06T07:22:24.634918Z",
     "start_time": "2021-05-06T07:22:23.435402Z"
    }
   },
   "outputs": [
    {
     "name": "stderr",
     "output_type": "stream",
     "text": [
      "130it [00:01, 110.28it/s]\n"
     ]
    }
   ],
   "source": [
    "loo = LeaveOneOut()\n",
    "\n",
    "from tqdm import tqdm\n",
    "\n",
    "result_df = pd.DataFrame(columns = list(df_flaviviridae.columns)+[\"y_pred_pmic\", \"y_pred_mic\", \"ape_pmic\", \"ape_mic\"])\n",
    "for train_index, test_index in tqdm(loo.split(X)):\n",
    "    X_train, X_test = X.iloc[train_index,:], X.iloc[test_index,:]\n",
    "    y_train, y_test = y.iloc[train_index], y.iloc[test_index]\n",
    "    y_train_pmic, y_train_mic = y_train['pIC50'], y_train['MIC']\n",
    "    y_test_pmic, y_test_mic = y_test['pIC50'], y_test['MIC']\n",
    "    knn = KNeighborsRegressor(**grid_search.best_params_)\n",
    "    _ = knn.fit(X_train, y_train_pmic)\n",
    "    y_pred_pmic = knn.predict(X_test)\n",
    "    y_pred_mic = np.exp(-y_pred_pmic)/1e-6\n",
    "    ape = 100*np.abs(y_test_pmic-y_pred_pmic)/y_test_pmic\n",
    "    ape_mic = 100*np.abs(y_test_mic-y_pred_mic)/y_test_mic\n",
    "    df_val = df_flaviviridae.iloc[test_index,:].values[0].tolist()\n",
    "    res = np.append(df_val, [y_pred_pmic[0], y_pred_mic[0], ape.values[0], ape_mic.values[0]])\n",
    "    res = pd.DataFrame([res], columns = list(df_flaviviridae.columns)+[\"y_pred_pmic\", \"y_pred_mic\", \"ape_pmic\", \"ape_mic\"])\n",
    "    result_df = result_df.append(res)\n",
    "result_df = result_df[[\"Sequence\", \"pIC50\", \"y_pred_pmic\", \"ape_pmic\", \"MIC\", \"y_pred_mic\", \"ape_mic\"]]"
   ]
  },
  {
   "cell_type": "code",
   "execution_count": 62,
   "id": "latest-trail",
   "metadata": {
    "ExecuteTime": {
     "end_time": "2021-05-06T07:22:27.308109Z",
     "start_time": "2021-05-06T07:22:27.293787Z"
    }
   },
   "outputs": [
    {
     "data": {
      "text/html": [
       "<div>\n",
       "<style scoped>\n",
       "    .dataframe tbody tr th:only-of-type {\n",
       "        vertical-align: middle;\n",
       "    }\n",
       "\n",
       "    .dataframe tbody tr th {\n",
       "        vertical-align: top;\n",
       "    }\n",
       "\n",
       "    .dataframe thead th {\n",
       "        text-align: right;\n",
       "    }\n",
       "</style>\n",
       "<table border=\"1\" class=\"dataframe\">\n",
       "  <thead>\n",
       "    <tr style=\"text-align: right;\">\n",
       "      <th></th>\n",
       "      <th>Sequence</th>\n",
       "      <th>pIC50</th>\n",
       "      <th>y_pred_pmic</th>\n",
       "      <th>ape_pmic</th>\n",
       "      <th>MIC</th>\n",
       "      <th>y_pred_mic</th>\n",
       "      <th>ape_mic</th>\n",
       "    </tr>\n",
       "  </thead>\n",
       "  <tbody>\n",
       "    <tr>\n",
       "      <th>0</th>\n",
       "      <td>AAQRRGRVGRNPNQVGD</td>\n",
       "      <td>7.724200675886576</td>\n",
       "      <td>7.934977571563574</td>\n",
       "      <td>2.7287858578687905</td>\n",
       "      <td>442.0</td>\n",
       "      <td>357.9999999999999</td>\n",
       "      <td>19.004524886877853</td>\n",
       "    </tr>\n",
       "    <tr>\n",
       "      <th>0</th>\n",
       "      <td>RNPSQVGD</td>\n",
       "      <td>7.867475568783628</td>\n",
       "      <td>8.163021377695623</td>\n",
       "      <td>3.75655197563821</td>\n",
       "      <td>383.0</td>\n",
       "      <td>285.0000000000002</td>\n",
       "      <td>25.587467362924226</td>\n",
       "    </tr>\n",
       "    <tr>\n",
       "      <th>0</th>\n",
       "      <td>RVGRNPNQVGD</td>\n",
       "      <td>7.891254760549742</td>\n",
       "      <td>8.537395898733758</td>\n",
       "      <td>8.188065875331112</td>\n",
       "      <td>374.0</td>\n",
       "      <td>195.99999999999983</td>\n",
       "      <td>47.593582887700585</td>\n",
       "    </tr>\n",
       "    <tr>\n",
       "      <th>0</th>\n",
       "      <td>AAQRRGRIGRNPSQVGD</td>\n",
       "      <td>7.934977571563574</td>\n",
       "      <td>7.724200675886576</td>\n",
       "      <td>2.65630108939886</td>\n",
       "      <td>358.0</td>\n",
       "      <td>442.00000000000006</td>\n",
       "      <td>23.463687150838005</td>\n",
       "    </tr>\n",
       "    <tr>\n",
       "      <th>0</th>\n",
       "      <td>RGRRGIYR</td>\n",
       "      <td>8.069307367424122</td>\n",
       "      <td>10.271656875900595</td>\n",
       "      <td>27.292918811933987</td>\n",
       "      <td>313.0</td>\n",
       "      <td>34.60000000000002</td>\n",
       "      <td>88.94568690095845</td>\n",
       "    </tr>\n",
       "    <tr>\n",
       "      <th>...</th>\n",
       "      <td>...</td>\n",
       "      <td>...</td>\n",
       "      <td>...</td>\n",
       "      <td>...</td>\n",
       "      <td>...</td>\n",
       "      <td>...</td>\n",
       "      <td>...</td>\n",
       "    </tr>\n",
       "    <tr>\n",
       "      <th>0</th>\n",
       "      <td>TWLRAIWDWVCTALTDFK</td>\n",
       "      <td>11.855415773917004</td>\n",
       "      <td>13.073573213234896</td>\n",
       "      <td>10.275113606710862</td>\n",
       "      <td>7.1</td>\n",
       "      <td>2.1000000000000014</td>\n",
       "      <td>70.42253521126759</td>\n",
       "    </tr>\n",
       "    <tr>\n",
       "      <th>0</th>\n",
       "      <td>SWLRDVWDWVCTVLSDFK</td>\n",
       "      <td>12.562747589468906</td>\n",
       "      <td>13.073573213234896</td>\n",
       "      <td>4.06619348297824</td>\n",
       "      <td>3.5</td>\n",
       "      <td>2.1000000000000014</td>\n",
       "      <td>39.99999999999996</td>\n",
       "    </tr>\n",
       "    <tr>\n",
       "      <th>0</th>\n",
       "      <td>GAIVSTALPQWRIYSYAG</td>\n",
       "      <td>10.645824977286845</td>\n",
       "      <td>10.596634733096073</td>\n",
       "      <td>0.46206136486106625</td>\n",
       "      <td>23.8</td>\n",
       "      <td>25.000000000000018</td>\n",
       "      <td>5.042016806722761</td>\n",
       "    </tr>\n",
       "    <tr>\n",
       "      <th>0</th>\n",
       "      <td>SWLRDIWDWLCELLSDFK</td>\n",
       "      <td>14.013961496688113</td>\n",
       "      <td>13.633189001170319</td>\n",
       "      <td>2.71709391814571</td>\n",
       "      <td>0.82</td>\n",
       "      <td>1.2000000000000008</td>\n",
       "      <td>46.34146341463426</td>\n",
       "    </tr>\n",
       "    <tr>\n",
       "      <th>0</th>\n",
       "      <td>EELRVRLASHLRKLRKRLLRDADDLQKRLAVYEEQAQQIRLQAEAF...</td>\n",
       "      <td>14.215988124561399</td>\n",
       "      <td>11.512925464970229</td>\n",
       "      <td>19.014243933708737</td>\n",
       "      <td>0.67</td>\n",
       "      <td>9.999999999999998</td>\n",
       "      <td>1392.5373134328354</td>\n",
       "    </tr>\n",
       "  </tbody>\n",
       "</table>\n",
       "<p>130 rows × 7 columns</p>\n",
       "</div>"
      ],
      "text/plain": [
       "                                             Sequence               pIC50  \\\n",
       "0                                   AAQRRGRVGRNPNQVGD   7.724200675886576   \n",
       "0                                            RNPSQVGD   7.867475568783628   \n",
       "0                                         RVGRNPNQVGD   7.891254760549742   \n",
       "0                                   AAQRRGRIGRNPSQVGD   7.934977571563574   \n",
       "0                                            RGRRGIYR   8.069307367424122   \n",
       "..                                                ...                 ...   \n",
       "0                                  TWLRAIWDWVCTALTDFK  11.855415773917004   \n",
       "0                                  SWLRDVWDWVCTVLSDFK  12.562747589468906   \n",
       "0                                  GAIVSTALPQWRIYSYAG  10.645824977286845   \n",
       "0                                  SWLRDIWDWLCELLSDFK  14.013961496688113   \n",
       "0   EELRVRLASHLRKLRKRLLRDADDLQKRLAVYEEQAQQIRLQAEAF...  14.215988124561399   \n",
       "\n",
       "           y_pred_pmic             ape_pmic    MIC          y_pred_mic  \\\n",
       "0    7.934977571563574   2.7287858578687905  442.0   357.9999999999999   \n",
       "0    8.163021377695623     3.75655197563821  383.0   285.0000000000002   \n",
       "0    8.537395898733758    8.188065875331112  374.0  195.99999999999983   \n",
       "0    7.724200675886576     2.65630108939886  358.0  442.00000000000006   \n",
       "0   10.271656875900595   27.292918811933987  313.0   34.60000000000002   \n",
       "..                 ...                  ...    ...                 ...   \n",
       "0   13.073573213234896   10.275113606710862    7.1  2.1000000000000014   \n",
       "0   13.073573213234896     4.06619348297824    3.5  2.1000000000000014   \n",
       "0   10.596634733096073  0.46206136486106625   23.8  25.000000000000018   \n",
       "0   13.633189001170319     2.71709391814571   0.82  1.2000000000000008   \n",
       "0   11.512925464970229   19.014243933708737   0.67   9.999999999999998   \n",
       "\n",
       "               ape_mic  \n",
       "0   19.004524886877853  \n",
       "0   25.587467362924226  \n",
       "0   47.593582887700585  \n",
       "0   23.463687150838005  \n",
       "0    88.94568690095845  \n",
       "..                 ...  \n",
       "0    70.42253521126759  \n",
       "0    39.99999999999996  \n",
       "0    5.042016806722761  \n",
       "0    46.34146341463426  \n",
       "0   1392.5373134328354  \n",
       "\n",
       "[130 rows x 7 columns]"
      ]
     },
     "execution_count": 62,
     "metadata": {},
     "output_type": "execute_result"
    }
   ],
   "source": [
    "result_df#.to_csv(\"../results/SVM_HIV_CoV_pMIC_to_MIC_rbf_c_100_gamma_2.csv\", index=False)"
   ]
  },
  {
   "cell_type": "code",
   "execution_count": 63,
   "id": "beneficial-agreement",
   "metadata": {
    "ExecuteTime": {
     "end_time": "2021-05-06T07:22:31.333695Z",
     "start_time": "2021-05-06T07:22:31.328737Z"
    }
   },
   "outputs": [
    {
     "data": {
      "text/plain": [
       "9.306446939211979"
      ]
     },
     "execution_count": 63,
     "metadata": {},
     "output_type": "execute_result"
    }
   ],
   "source": [
    "result_df['ape_pmic'].astype('float').mean()"
   ]
  },
  {
   "cell_type": "code",
   "execution_count": 64,
   "id": "ordinary-country",
   "metadata": {
    "ExecuteTime": {
     "end_time": "2021-05-06T07:22:32.516724Z",
     "start_time": "2021-05-06T07:22:32.511727Z"
    }
   },
   "outputs": [
    {
     "data": {
      "text/plain": [
       "465.7247660234492"
      ]
     },
     "execution_count": 64,
     "metadata": {},
     "output_type": "execute_result"
    }
   ],
   "source": [
    "result_df['ape_mic'].astype('float').mean()"
   ]
  },
  {
   "cell_type": "code",
   "execution_count": 65,
   "id": "american-hungarian",
   "metadata": {
    "ExecuteTime": {
     "end_time": "2021-05-06T07:22:32.801396Z",
     "start_time": "2021-05-06T07:22:32.797130Z"
    }
   },
   "outputs": [
    {
     "data": {
      "text/plain": [
       "(0.6860035156421072, 2.1360323463233672e-19)"
      ]
     },
     "execution_count": 65,
     "metadata": {},
     "output_type": "execute_result"
    }
   ],
   "source": [
    "pearsonr(result_df['MIC'].astype('float'), result_df['y_pred_mic'].astype('float'))"
   ]
  },
  {
   "cell_type": "markdown",
   "id": "legal-eight",
   "metadata": {},
   "source": [
    "### Train with MIC"
   ]
  },
  {
   "cell_type": "code",
   "execution_count": 78,
   "id": "worse-somerset",
   "metadata": {
    "ExecuteTime": {
     "end_time": "2021-05-06T07:24:44.805530Z",
     "start_time": "2021-05-06T07:24:44.799872Z"
    }
   },
   "outputs": [],
   "source": [
    "X_train, X_test, y_train, y_test = train_test_split(X, y, test_size=0.2, random_state=42)"
   ]
  },
  {
   "cell_type": "code",
   "execution_count": 79,
   "id": "engaging-blackberry",
   "metadata": {
    "ExecuteTime": {
     "end_time": "2021-05-06T07:24:45.597123Z",
     "start_time": "2021-05-06T07:24:45.594063Z"
    }
   },
   "outputs": [],
   "source": [
    "y_train_pmic, y_train_mic = y_train['pIC50'], y_train['MIC']\n",
    "y_test_pmic, y_test_mic = y_test['pIC50'], y_test['MIC']"
   ]
  },
  {
   "cell_type": "code",
   "execution_count": 80,
   "id": "romantic-temple",
   "metadata": {
    "ExecuteTime": {
     "end_time": "2021-05-06T07:24:48.215787Z",
     "start_time": "2021-05-06T07:24:48.211327Z"
    }
   },
   "outputs": [],
   "source": [
    "max_n_neighbors = int(np.sqrt(X_train.shape[0]))\n",
    "param_grid = {\n",
    "    'n_neighbors': range(1, max_n_neighbors),\n",
    "    'weights': ['uniform', 'distance'],\n",
    "    'metric': [\"euclidean\", \"manhattan\", \"chebyshev\"]\n",
    "}\n",
    "knn = KNeighborsRegressor()\n",
    "# Instantiate the grid search model\n",
    "grid_search = GridSearchCV(estimator = knn, param_grid = param_grid, \n",
    "                          cv = 5, n_jobs = -1, verbose = 2, scoring=mape_scorer)"
   ]
  },
  {
   "cell_type": "code",
   "execution_count": 81,
   "id": "formed-classic",
   "metadata": {
    "ExecuteTime": {
     "end_time": "2021-05-06T07:24:49.370600Z",
     "start_time": "2021-05-06T07:24:48.821377Z"
    },
    "scrolled": false
   },
   "outputs": [
    {
     "name": "stdout",
     "output_type": "stream",
     "text": [
      "Fitting 5 folds for each of 54 candidates, totalling 270 fits\n"
     ]
    },
    {
     "name": "stderr",
     "output_type": "stream",
     "text": [
      "[Parallel(n_jobs=-1)]: Using backend LokyBackend with 12 concurrent workers.\n",
      "[Parallel(n_jobs=-1)]: Done  17 tasks      | elapsed:    0.1s\n",
      "[Parallel(n_jobs=-1)]: Done 270 out of 270 | elapsed:    0.5s finished\n"
     ]
    },
    {
     "data": {
      "text/plain": [
       "GridSearchCV(cv=5, estimator=KNeighborsRegressor(), n_jobs=-1,\n",
       "             param_grid={'metric': ['euclidean', 'manhattan', 'chebyshev'],\n",
       "                         'n_neighbors': range(1, 10),\n",
       "                         'weights': ['uniform', 'distance']},\n",
       "             scoring=make_scorer(mean_absolute_percentage_error, greater_is_better=False),\n",
       "             verbose=2)"
      ]
     },
     "execution_count": 81,
     "metadata": {},
     "output_type": "execute_result"
    }
   ],
   "source": [
    "grid_search.fit(X_train, y_train_mic)"
   ]
  },
  {
   "cell_type": "code",
   "execution_count": 82,
   "id": "ceramic-psychology",
   "metadata": {
    "ExecuteTime": {
     "end_time": "2021-05-06T07:24:51.067729Z",
     "start_time": "2021-05-06T07:24:51.063965Z"
    }
   },
   "outputs": [
    {
     "data": {
      "text/plain": [
       "{'metric': 'manhattan', 'n_neighbors': 2, 'weights': 'uniform'}"
      ]
     },
     "execution_count": 82,
     "metadata": {},
     "output_type": "execute_result"
    }
   ],
   "source": [
    "grid_search.best_params_"
   ]
  },
  {
   "cell_type": "code",
   "execution_count": 83,
   "id": "south-detective",
   "metadata": {
    "ExecuteTime": {
     "end_time": "2021-05-06T07:24:53.076245Z",
     "start_time": "2021-05-06T07:24:53.073586Z"
    }
   },
   "outputs": [],
   "source": [
    "best_grid = grid_search.best_estimator_"
   ]
  },
  {
   "cell_type": "code",
   "execution_count": 91,
   "id": "pleased-appointment",
   "metadata": {
    "ExecuteTime": {
     "end_time": "2021-05-06T07:26:17.682999Z",
     "start_time": "2021-05-06T07:26:17.676683Z"
    }
   },
   "outputs": [],
   "source": [
    "y_pred_mic = best_grid.predict(X_test)"
   ]
  },
  {
   "cell_type": "code",
   "execution_count": 92,
   "id": "turned-greece",
   "metadata": {
    "ExecuteTime": {
     "end_time": "2021-05-06T07:26:19.630668Z",
     "start_time": "2021-05-06T07:26:19.626464Z"
    }
   },
   "outputs": [
    {
     "data": {
      "text/plain": [
       "222.71862529455512"
      ]
     },
     "execution_count": 92,
     "metadata": {},
     "output_type": "execute_result"
    }
   ],
   "source": [
    "mean_absolute_percentage_error(y_test_mic, y_pred_mic)"
   ]
  },
  {
   "cell_type": "code",
   "execution_count": 93,
   "id": "weird-macro",
   "metadata": {
    "ExecuteTime": {
     "end_time": "2021-05-06T07:26:21.436421Z",
     "start_time": "2021-05-06T07:26:21.432392Z"
    }
   },
   "outputs": [
    {
     "data": {
      "text/plain": [
       "(26, 26)"
      ]
     },
     "execution_count": 93,
     "metadata": {},
     "output_type": "execute_result"
    }
   ],
   "source": [
    "len(y_test_mic), len(y_pred_mic)"
   ]
  },
  {
   "cell_type": "code",
   "execution_count": 94,
   "id": "appropriate-danger",
   "metadata": {
    "ExecuteTime": {
     "end_time": "2021-05-06T07:26:22.602754Z",
     "start_time": "2021-05-06T07:26:22.598504Z"
    },
    "scrolled": true
   },
   "outputs": [
    {
     "data": {
      "text/plain": [
       "0.06434380515146433"
      ]
     },
     "execution_count": 94,
     "metadata": {},
     "output_type": "execute_result"
    }
   ],
   "source": [
    "pearson_score(y_test_mic, y_pred_mic)"
   ]
  },
  {
   "cell_type": "code",
   "execution_count": 95,
   "id": "transparent-pearl",
   "metadata": {
    "ExecuteTime": {
     "end_time": "2021-05-06T07:26:46.046670Z",
     "start_time": "2021-05-06T07:26:46.043889Z"
    }
   },
   "outputs": [],
   "source": [
    "from sklearn.metrics import r2_score"
   ]
  },
  {
   "cell_type": "code",
   "execution_count": 96,
   "id": "historic-facing",
   "metadata": {
    "ExecuteTime": {
     "end_time": "2021-05-06T07:27:00.841850Z",
     "start_time": "2021-05-06T07:27:00.837233Z"
    }
   },
   "outputs": [
    {
     "data": {
      "text/plain": [
       "-1.4720044717800724"
      ]
     },
     "execution_count": 96,
     "metadata": {},
     "output_type": "execute_result"
    }
   ],
   "source": [
    "r2_score(y_test_mic, y_pred_mic)"
   ]
  },
  {
   "cell_type": "code",
   "execution_count": 97,
   "id": "fitted-surprise",
   "metadata": {
    "ExecuteTime": {
     "end_time": "2021-05-06T07:27:36.627990Z",
     "start_time": "2021-05-06T07:27:36.624176Z"
    }
   },
   "outputs": [],
   "source": [
    "ape_mic = 100*np.abs(y_test_mic-y_pred_mic)/y_test_mic"
   ]
  },
  {
   "cell_type": "code",
   "execution_count": 98,
   "id": "adjustable-sitting",
   "metadata": {
    "ExecuteTime": {
     "end_time": "2021-05-06T07:27:37.724893Z",
     "start_time": "2021-05-06T07:27:37.719170Z"
    }
   },
   "outputs": [
    {
     "data": {
      "text/plain": [
       "[(8.9, 4.15, 53.37078651685393),\n",
       " (12.5, 22.65, 81.19999999999999),\n",
       " (27.0, 13.895, 48.53703703703704),\n",
       " (21.4, 5.8555, 72.63785046728971),\n",
       " (0.024, 0.012, 50.0),\n",
       " (8.0, 7.0, 12.5),\n",
       " (5.0, 3.1, 38.0),\n",
       " (0.51, 1.245, 144.11764705882356),\n",
       " (3.0, 5.335, 77.83333333333333),\n",
       " (25.0, 5.8, 76.8),\n",
       " (1.115, 4.2055, 277.17488789237666),\n",
       " (25.0, 14.5, 42.0),\n",
       " (5.1, 4.15, 18.627450980392144),\n",
       " (313.0, 12.25, 96.08626198083067),\n",
       " (0.89, 1.27, 42.69662921348314),\n",
       " (0.8, 10.0, 1149.9999999999998),\n",
       " (13.5, 12.75, 5.555555555555555),\n",
       " (3.0, 7.0, 133.33333333333334),\n",
       " (1.2, 1.245, 3.750000000000013),\n",
       " (1.965, 20.5, 943.2569974554707),\n",
       " (27.0, 27.0, 0.0),\n",
       " (36.0, 400.0, 1011.1111111111111),\n",
       " (0.001, 0.0135, 1250.0),\n",
       " (34.6, 12.25, 64.59537572254335),\n",
       " (3.5, 1.75, 50.0),\n",
       " (10.0, 5.25, 47.5)]"
      ]
     },
     "execution_count": 98,
     "metadata": {},
     "output_type": "execute_result"
    }
   ],
   "source": [
    "list(zip(y_test_mic.round(4), y_pred_mic.round(4), ape_mic))"
   ]
  },
  {
   "cell_type": "code",
   "execution_count": 99,
   "id": "herbal-seventh",
   "metadata": {
    "ExecuteTime": {
     "end_time": "2021-05-06T07:27:48.423110Z",
     "start_time": "2021-05-06T07:27:47.201163Z"
    }
   },
   "outputs": [
    {
     "name": "stderr",
     "output_type": "stream",
     "text": [
      "130it [00:01, 107.77it/s]\n"
     ]
    }
   ],
   "source": [
    "loo = LeaveOneOut()\n",
    "\n",
    "from tqdm import tqdm\n",
    "\n",
    "result_df = pd.DataFrame(columns = list(df_flaviviridae.columns)+[\"y_pred_pmic\", \"y_pred_mic\", \"ape_pmic\", \"ape_mic\"])\n",
    "for train_index, test_index in tqdm(loo.split(X)):\n",
    "    X_train, X_test = X.iloc[train_index,:], X.iloc[test_index,:]\n",
    "    y_train, y_test = y.iloc[train_index], y.iloc[test_index]\n",
    "    y_train_pmic, y_train_mic = y_train['pIC50'], y_train['MIC']\n",
    "    y_test_pmic, y_test_mic = y_test['pIC50'], y_test['MIC']\n",
    "    knn = KNeighborsRegressor(**grid_search.best_params_)\n",
    "    _ = knn.fit(X_train, y_train_pmic)\n",
    "    y_pred_pmic = knn.predict(X_test)\n",
    "    y_pred_mic = np.exp(-y_pred_pmic)/1e-6\n",
    "    ape = 100*np.abs(y_test_pmic-y_pred_pmic)/y_test_pmic\n",
    "    ape_mic = 100*np.abs(y_test_mic-y_pred_mic)/y_test_mic\n",
    "    df_val = df_flaviviridae.iloc[test_index,:].values[0].tolist()\n",
    "    res = np.append(df_val, [y_pred_pmic[0], y_pred_mic[0], ape.values[0], ape_mic.values[0]])\n",
    "    res = pd.DataFrame([res], columns = list(df_flaviviridae.columns)+[\"y_pred_pmic\", \"y_pred_mic\", \"ape_pmic\", \"ape_mic\"])\n",
    "    result_df = result_df.append(res)\n",
    "result_df = result_df[[\"Sequence\", \"pIC50\", \"y_pred_pmic\", \"ape_pmic\", \"MIC\", \"y_pred_mic\", \"ape_mic\"]]"
   ]
  },
  {
   "cell_type": "code",
   "execution_count": 111,
   "id": "scheduled-franklin",
   "metadata": {
    "ExecuteTime": {
     "end_time": "2021-05-06T07:56:53.275601Z",
     "start_time": "2021-05-06T07:56:53.260946Z"
    }
   },
   "outputs": [
    {
     "data": {
      "text/html": [
       "<div>\n",
       "<style scoped>\n",
       "    .dataframe tbody tr th:only-of-type {\n",
       "        vertical-align: middle;\n",
       "    }\n",
       "\n",
       "    .dataframe tbody tr th {\n",
       "        vertical-align: top;\n",
       "    }\n",
       "\n",
       "    .dataframe thead th {\n",
       "        text-align: right;\n",
       "    }\n",
       "</style>\n",
       "<table border=\"1\" class=\"dataframe\">\n",
       "  <thead>\n",
       "    <tr style=\"text-align: right;\">\n",
       "      <th></th>\n",
       "      <th>Sequence</th>\n",
       "      <th>pIC50</th>\n",
       "      <th>y_pred_pmic</th>\n",
       "      <th>ape_pmic</th>\n",
       "      <th>MIC</th>\n",
       "      <th>y_pred_mic</th>\n",
       "      <th>ape_mic</th>\n",
       "    </tr>\n",
       "  </thead>\n",
       "  <tbody>\n",
       "    <tr>\n",
       "      <th>0</th>\n",
       "      <td>AAQRRGRVGRNPNQVGD</td>\n",
       "      <td>7.724200675886576</td>\n",
       "      <td>8.236186735148666</td>\n",
       "      <td>6.628337102380169</td>\n",
       "      <td>442.0</td>\n",
       "      <td>264.892430997943</td>\n",
       "      <td>40.06958574707172</td>\n",
       "    </tr>\n",
       "    <tr>\n",
       "      <th>0</th>\n",
       "      <td>RNPSQVGD</td>\n",
       "      <td>7.867475568783628</td>\n",
       "      <td>8.027138069122682</td>\n",
       "      <td>2.0293993790404454</td>\n",
       "      <td>383.0</td>\n",
       "      <td>326.4812398898293</td>\n",
       "      <td>14.75685642563204</td>\n",
       "    </tr>\n",
       "    <tr>\n",
       "      <th>0</th>\n",
       "      <td>RVGRNPNQVGD</td>\n",
       "      <td>7.891254760549742</td>\n",
       "      <td>8.35020863821469</td>\n",
       "      <td>5.815981001644599</td>\n",
       "      <td>374.0</td>\n",
       "      <td>236.34720222587785</td>\n",
       "      <td>36.8055609021717</td>\n",
       "    </tr>\n",
       "    <tr>\n",
       "      <th>0</th>\n",
       "      <td>AAQRRGRIGRNPSQVGD</td>\n",
       "      <td>7.934977571563574</td>\n",
       "      <td>8.244927613300657</td>\n",
       "      <td>3.9061237280347814</td>\n",
       "      <td>358.0</td>\n",
       "      <td>262.5871283974139</td>\n",
       "      <td>26.65164011245422</td>\n",
       "    </tr>\n",
       "    <tr>\n",
       "      <th>0</th>\n",
       "      <td>RGRRGIYR</td>\n",
       "      <td>8.069307367424122</td>\n",
       "      <td>12.848302673149485</td>\n",
       "      <td>59.224355798097584</td>\n",
       "      <td>313.0</td>\n",
       "      <td>2.630589287593182</td>\n",
       "      <td>99.15955613814914</td>\n",
       "    </tr>\n",
       "    <tr>\n",
       "      <th>...</th>\n",
       "      <td>...</td>\n",
       "      <td>...</td>\n",
       "      <td>...</td>\n",
       "      <td>...</td>\n",
       "      <td>...</td>\n",
       "      <td>...</td>\n",
       "      <td>...</td>\n",
       "    </tr>\n",
       "    <tr>\n",
       "      <th>0</th>\n",
       "      <td>TWLRAIWDWVCTALTDFK</td>\n",
       "      <td>11.855415773917004</td>\n",
       "      <td>12.8181604013519</td>\n",
       "      <td>8.120715846617728</td>\n",
       "      <td>7.1</td>\n",
       "      <td>2.7110883423451964</td>\n",
       "      <td>61.81565715006766</td>\n",
       "    </tr>\n",
       "    <tr>\n",
       "      <th>0</th>\n",
       "      <td>SWLRDVWDWVCTVLSDFK</td>\n",
       "      <td>12.562747589468906</td>\n",
       "      <td>13.276305767288978</td>\n",
       "      <td>5.67995315306847</td>\n",
       "      <td>3.5</td>\n",
       "      <td>1.7146428199482266</td>\n",
       "      <td>51.01020514433638</td>\n",
       "    </tr>\n",
       "    <tr>\n",
       "      <th>0</th>\n",
       "      <td>GAIVSTALPQWRIYSYAG</td>\n",
       "      <td>10.645824977286845</td>\n",
       "      <td>10.672046177963365</td>\n",
       "      <td>0.24630501377266656</td>\n",
       "      <td>23.8</td>\n",
       "      <td>23.18404623873927</td>\n",
       "      <td>2.588041013700547</td>\n",
       "    </tr>\n",
       "    <tr>\n",
       "      <th>0</th>\n",
       "      <td>SWLRDIWDWLCELLSDFK</td>\n",
       "      <td>14.013961496688113</td>\n",
       "      <td>13.633189001170319</td>\n",
       "      <td>2.71709391814571</td>\n",
       "      <td>0.82</td>\n",
       "      <td>1.2000000000000008</td>\n",
       "      <td>46.34146341463426</td>\n",
       "    </tr>\n",
       "    <tr>\n",
       "      <th>0</th>\n",
       "      <td>EELRVRLASHLRKLRKRLLRDADDLQKRLAVYEEQAQQIRLQAEAF...</td>\n",
       "      <td>14.215988124561399</td>\n",
       "      <td>13.010791601747224</td>\n",
       "      <td>8.477754147331623</td>\n",
       "      <td>0.67</td>\n",
       "      <td>2.2360679774997902</td>\n",
       "      <td>233.74148917907314</td>\n",
       "    </tr>\n",
       "  </tbody>\n",
       "</table>\n",
       "<p>130 rows × 7 columns</p>\n",
       "</div>"
      ],
      "text/plain": [
       "                                             Sequence               pIC50  \\\n",
       "0                                   AAQRRGRVGRNPNQVGD   7.724200675886576   \n",
       "0                                            RNPSQVGD   7.867475568783628   \n",
       "0                                         RVGRNPNQVGD   7.891254760549742   \n",
       "0                                   AAQRRGRIGRNPSQVGD   7.934977571563574   \n",
       "0                                            RGRRGIYR   8.069307367424122   \n",
       "..                                                ...                 ...   \n",
       "0                                  TWLRAIWDWVCTALTDFK  11.855415773917004   \n",
       "0                                  SWLRDVWDWVCTVLSDFK  12.562747589468906   \n",
       "0                                  GAIVSTALPQWRIYSYAG  10.645824977286845   \n",
       "0                                  SWLRDIWDWLCELLSDFK  14.013961496688113   \n",
       "0   EELRVRLASHLRKLRKRLLRDADDLQKRLAVYEEQAQQIRLQAEAF...  14.215988124561399   \n",
       "\n",
       "           y_pred_pmic             ape_pmic    MIC          y_pred_mic  \\\n",
       "0    8.236186735148666    6.628337102380169  442.0    264.892430997943   \n",
       "0    8.027138069122682   2.0293993790404454  383.0   326.4812398898293   \n",
       "0     8.35020863821469    5.815981001644599  374.0  236.34720222587785   \n",
       "0    8.244927613300657   3.9061237280347814  358.0   262.5871283974139   \n",
       "0   12.848302673149485   59.224355798097584  313.0   2.630589287593182   \n",
       "..                 ...                  ...    ...                 ...   \n",
       "0     12.8181604013519    8.120715846617728    7.1  2.7110883423451964   \n",
       "0   13.276305767288978     5.67995315306847    3.5  1.7146428199482266   \n",
       "0   10.672046177963365  0.24630501377266656   23.8   23.18404623873927   \n",
       "0   13.633189001170319     2.71709391814571   0.82  1.2000000000000008   \n",
       "0   13.010791601747224    8.477754147331623   0.67  2.2360679774997902   \n",
       "\n",
       "               ape_mic  \n",
       "0    40.06958574707172  \n",
       "0    14.75685642563204  \n",
       "0     36.8055609021717  \n",
       "0    26.65164011245422  \n",
       "0    99.15955613814914  \n",
       "..                 ...  \n",
       "0    61.81565715006766  \n",
       "0    51.01020514433638  \n",
       "0    2.588041013700547  \n",
       "0    46.34146341463426  \n",
       "0   233.74148917907314  \n",
       "\n",
       "[130 rows x 7 columns]"
      ]
     },
     "execution_count": 111,
     "metadata": {},
     "output_type": "execute_result"
    }
   ],
   "source": [
    "result_df#.to_csv(\"../results/kNN_flaviviridae_dist_manhattan_k_2_weight_uniform.csv\", index=False)"
   ]
  },
  {
   "cell_type": "code",
   "execution_count": 101,
   "id": "severe-recorder",
   "metadata": {
    "ExecuteTime": {
     "end_time": "2021-05-06T07:27:52.052361Z",
     "start_time": "2021-05-06T07:27:52.047614Z"
    }
   },
   "outputs": [
    {
     "data": {
      "text/plain": [
       "9.116821067174463"
      ]
     },
     "execution_count": 101,
     "metadata": {},
     "output_type": "execute_result"
    }
   ],
   "source": [
    "result_df['ape_pmic'].astype('float').mean()"
   ]
  },
  {
   "cell_type": "code",
   "execution_count": 102,
   "id": "regulation-mexican",
   "metadata": {
    "ExecuteTime": {
     "end_time": "2021-05-06T07:27:52.998461Z",
     "start_time": "2021-05-06T07:27:52.993694Z"
    }
   },
   "outputs": [
    {
     "data": {
      "text/plain": [
       "280.6402501970607"
      ]
     },
     "execution_count": 102,
     "metadata": {},
     "output_type": "execute_result"
    }
   ],
   "source": [
    "result_df['ape_mic'].astype('float').mean()"
   ]
  },
  {
   "cell_type": "code",
   "execution_count": 103,
   "id": "molecular-incident",
   "metadata": {
    "ExecuteTime": {
     "end_time": "2021-05-06T07:27:53.903534Z",
     "start_time": "2021-05-06T07:27:53.898410Z"
    }
   },
   "outputs": [
    {
     "data": {
      "text/plain": [
       "(0.7664699128192671, 2.235721695230114e-26)"
      ]
     },
     "execution_count": 103,
     "metadata": {},
     "output_type": "execute_result"
    }
   ],
   "source": [
    "pearsonr(result_df['MIC'].astype('float'), result_df['y_pred_mic'].astype('float'))"
   ]
  },
  {
   "cell_type": "code",
   "execution_count": 114,
   "id": "together-league",
   "metadata": {
    "ExecuteTime": {
     "end_time": "2021-05-06T08:01:16.230768Z",
     "start_time": "2021-05-06T08:01:16.225505Z"
    }
   },
   "outputs": [
    {
     "data": {
      "text/plain": [
       "0.5723300691225495"
      ]
     },
     "execution_count": 114,
     "metadata": {},
     "output_type": "execute_result"
    }
   ],
   "source": [
    "r2_score(result_df['MIC'].astype('float'), result_df['y_pred_mic'].astype('float'))"
   ]
  },
  {
   "cell_type": "code",
   "execution_count": 105,
   "id": "hungarian-moment",
   "metadata": {
    "ExecuteTime": {
     "end_time": "2021-05-06T07:29:05.539896Z",
     "start_time": "2021-05-06T07:29:04.241223Z"
    }
   },
   "outputs": [],
   "source": [
    "import seaborn as sns\n",
    "import matplotlib.pyplot as plt"
   ]
  },
  {
   "cell_type": "code",
   "execution_count": 108,
   "id": "julian-extra",
   "metadata": {
    "ExecuteTime": {
     "end_time": "2021-05-06T07:31:04.332892Z",
     "start_time": "2021-05-06T07:31:04.083214Z"
    }
   },
   "outputs": [
    {
     "data": {
      "text/plain": [
       "<seaborn.axisgrid.FacetGrid at 0x1a209e8978>"
      ]
     },
     "execution_count": 108,
     "metadata": {},
     "output_type": "execute_result"
    },
    {
     "data": {
      "image/png": "[encoded data removed]",
      "text/plain": [
       "<Figure size 360x360 with 1 Axes>"
      ]
     },
     "metadata": {
      "needs_background": "light"
     },
     "output_type": "display_data"
    }
   ],
   "source": [
    "sns.relplot(x=result_df['pIC50'].astype('float'), y=result_df['y_pred_pmic'].astype('float'))"
   ]
  },
  {
   "cell_type": "code",
   "execution_count": 109,
   "id": "possible-trail",
   "metadata": {
    "ExecuteTime": {
     "end_time": "2021-05-06T07:32:19.233102Z",
     "start_time": "2021-05-06T07:32:18.984649Z"
    }
   },
   "outputs": [
    {
     "data": {
      "text/plain": [
       "<seaborn.axisgrid.FacetGrid at 0x1a20af1f28>"
      ]
     },
     "execution_count": 109,
     "metadata": {},
     "output_type": "execute_result"
    },
    {
     "data": {
      "image/png": "[encoded data removed]",
      "text/plain": [
       "<Figure size 360x360 with 1 Axes>"
      ]
     },
     "metadata": {
      "needs_background": "light"
     },
     "output_type": "display_data"
    }
   ],
   "source": [
    "sns.relplot(x=result_df['y_pred_pmic'].astype('float'), y=result_df['pIC50'].astype('float')-result_df['y_pred_pmic'].astype('float'))"
   ]
  },
  {
   "cell_type": "code",
   "execution_count": null,
   "id": "brilliant-offense",
   "metadata": {},
   "outputs": [],
   "source": []
  }
 ],
 "metadata": {
  "kernelspec": {
   "display_name": "Python 3",
   "language": "python",
   "name": "python3"
  },
  "language_info": {
   "codemirror_mode": {
    "name": "ipython",
    "version": 3
   },
   "file_extension": ".py",
   "mimetype": "text/x-python",
   "name": "python",
   "nbconvert_exporter": "python",
   "pygments_lexer": "ipython3",
   "version": "3.6.10"
  },
  "varInspector": {
   "cols": {
    "lenName": 16,
    "lenType": 16,
    "lenVar": 40
   },
   "kernels_config": {
    "python": {
     "delete_cmd_postfix": "",
     "delete_cmd_prefix": "del ",
     "library": "var_list.py",
     "varRefreshCmd": "print(var_dic_list())"
    },
    "r": {
     "delete_cmd_postfix": ") ",
     "delete_cmd_prefix": "rm(",
     "library": "var_list.r",
     "varRefreshCmd": "cat(var_dic_list()) "
    }
   },
   "types_to_exclude": [
    "module",
    "function",
    "builtin_function_or_method",
    "instance",
    "_Feature"
   ],
   "window_display": false
  }
 },
 "nbformat": 4,
 "nbformat_minor": 5
}
