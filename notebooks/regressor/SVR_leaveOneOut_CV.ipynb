{
 "cells": [
  {
   "cell_type": "code",
   "execution_count": 1,
   "id": "negative-aviation",
   "metadata": {
    "scrolled": false
   },
   "outputs": [
    {
     "name": "stdout",
     "output_type": "stream",
     "text": [
      "/Users/in-divye.singh/Documents/Projects/MIC_predictor/src\n"
     ]
    }
   ],
   "source": [
    "cd ../../src"
   ]
  },
  {
   "cell_type": "code",
   "execution_count": 2,
   "id": "independent-calcium",
   "metadata": {},
   "outputs": [],
   "source": [
    "import biovec\n",
    "import numpy as np\n",
    "import pandas as pd\n",
    "from itertools import chain, combinations\n",
    "from collections import Counter\n",
    "\n",
    "from utils import *\n",
    "\n",
    "from sklearn.svm import SVR\n",
    "from sklearn.neighbors import KNeighborsRegressor\n",
    "from sklearn.metrics import make_scorer\n",
    "from sklearn.model_selection import GridSearchCV\n",
    "from sklearn.metrics import mean_squared_error, mean_absolute_error\n",
    "from sklearn.model_selection import train_test_split\n",
    "\n",
    "from Bio.SeqUtils.ProtParam import ProteinAnalysis"
   ]
  },
  {
   "cell_type": "code",
   "execution_count": 3,
   "id": "qualified-yemen",
   "metadata": {},
   "outputs": [],
   "source": [
    "import seaborn as sns"
   ]
  },
  {
   "cell_type": "code",
   "execution_count": 4,
   "id": "japanese-restriction",
   "metadata": {},
   "outputs": [],
   "source": [
    "def mean_absolute_percentage_error(y_true, y_pred): \n",
    "    y_true, y_pred = np.array(y_true), np.array(y_pred)\n",
    "    return np.mean(np.abs((y_true - y_pred) / y_true)) * 100\n",
    "\n",
    "mape_scorer = make_scorer(mean_absolute_percentage_error, greater_is_better=False)"
   ]
  },
  {
   "cell_type": "code",
   "execution_count": 5,
   "id": "seasonal-filing",
   "metadata": {},
   "outputs": [],
   "source": [
    "avp_ic50 = pd.read_csv(\"../data/raw/AVP-IC50Pred_train.csv\")\n",
    "ha_avp = pd.read_csv(\"../data/raw/HA_AVP.csv\")"
   ]
  },
  {
   "cell_type": "code",
   "execution_count": 6,
   "id": "fifth-favor",
   "metadata": {},
   "outputs": [],
   "source": [
    "df = pd.concat([avp_ic50[['Sequence','MIC']], ha_avp], axis=0).drop_duplicates(['Sequence']).reset_index(drop=True)\n",
    "df = sequence_filtering(df)"
   ]
  },
  {
   "cell_type": "code",
   "execution_count": 7,
   "id": "conventional-colleague",
   "metadata": {},
   "outputs": [
    {
     "data": {
      "text/html": [
       "<div>\n",
       "<style scoped>\n",
       "    .dataframe tbody tr th:only-of-type {\n",
       "        vertical-align: middle;\n",
       "    }\n",
       "\n",
       "    .dataframe tbody tr th {\n",
       "        vertical-align: top;\n",
       "    }\n",
       "\n",
       "    .dataframe thead th {\n",
       "        text-align: right;\n",
       "    }\n",
       "</style>\n",
       "<table border=\"1\" class=\"dataframe\">\n",
       "  <thead>\n",
       "    <tr style=\"text-align: right;\">\n",
       "      <th></th>\n",
       "      <th>Sequence</th>\n",
       "      <th>MIC</th>\n",
       "    </tr>\n",
       "  </thead>\n",
       "  <tbody>\n",
       "    <tr>\n",
       "      <th>0</th>\n",
       "      <td>AAQRRGRVGRNPNQVGD</td>\n",
       "      <td>442.00000</td>\n",
       "    </tr>\n",
       "    <tr>\n",
       "      <th>1</th>\n",
       "      <td>HRILARIRQMMT</td>\n",
       "      <td>435.50000</td>\n",
       "    </tr>\n",
       "    <tr>\n",
       "      <th>2</th>\n",
       "      <td>RNPSQVGD</td>\n",
       "      <td>383.00000</td>\n",
       "    </tr>\n",
       "    <tr>\n",
       "      <th>3</th>\n",
       "      <td>RVGRNPNQVGD</td>\n",
       "      <td>374.00000</td>\n",
       "    </tr>\n",
       "    <tr>\n",
       "      <th>4</th>\n",
       "      <td>AAQRRGRIGRNPSQVGD</td>\n",
       "      <td>358.00000</td>\n",
       "    </tr>\n",
       "    <tr>\n",
       "      <th>...</th>\n",
       "      <td>...</td>\n",
       "      <td>...</td>\n",
       "    </tr>\n",
       "    <tr>\n",
       "      <th>707</th>\n",
       "      <td>NGAICWGPCPTAFRQIGNCGHFKVRCCKIR</td>\n",
       "      <td>0.11515</td>\n",
       "    </tr>\n",
       "    <tr>\n",
       "      <th>708</th>\n",
       "      <td>CFPYITRPGTYHDWWYTRKNRQ</td>\n",
       "      <td>0.30000</td>\n",
       "    </tr>\n",
       "    <tr>\n",
       "      <th>709</th>\n",
       "      <td>YTSLIHSLIEESQNQQEKNEQELLELDKWASLWNWF</td>\n",
       "      <td>0.01131</td>\n",
       "    </tr>\n",
       "    <tr>\n",
       "      <th>710</th>\n",
       "      <td>GTNLSVPNPLGFFPDHQLDPAFGANSNNPDWDFNPNKDHWPEANKVG</td>\n",
       "      <td>0.00008</td>\n",
       "    </tr>\n",
       "    <tr>\n",
       "      <th>711</th>\n",
       "      <td>SWETWEREIENYTRQIYRILEESQEQQDRNERDLLE</td>\n",
       "      <td>0.00200</td>\n",
       "    </tr>\n",
       "  </tbody>\n",
       "</table>\n",
       "<p>712 rows × 2 columns</p>\n",
       "</div>"
      ],
      "text/plain": [
       "                                            Sequence        MIC\n",
       "0                                  AAQRRGRVGRNPNQVGD  442.00000\n",
       "1                                       HRILARIRQMMT  435.50000\n",
       "2                                           RNPSQVGD  383.00000\n",
       "3                                        RVGRNPNQVGD  374.00000\n",
       "4                                  AAQRRGRIGRNPSQVGD  358.00000\n",
       "..                                               ...        ...\n",
       "707                   NGAICWGPCPTAFRQIGNCGHFKVRCCKIR    0.11515\n",
       "708                           CFPYITRPGTYHDWWYTRKNRQ    0.30000\n",
       "709             YTSLIHSLIEESQNQQEKNEQELLELDKWASLWNWF    0.01131\n",
       "710  GTNLSVPNPLGFFPDHQLDPAFGANSNNPDWDFNPNKDHWPEANKVG    0.00008\n",
       "711             SWETWEREIENYTRQIYRILEESQEQQDRNERDLLE    0.00200\n",
       "\n",
       "[712 rows x 2 columns]"
      ]
     },
     "execution_count": 7,
     "metadata": {},
     "output_type": "execute_result"
    }
   ],
   "source": [
    "df"
   ]
  },
  {
   "cell_type": "code",
   "execution_count": 8,
   "id": "missing-processing",
   "metadata": {},
   "outputs": [
    {
     "data": {
      "text/plain": [
       "<matplotlib.axes._subplots.AxesSubplot at 0x1a1f034198>"
      ]
     },
     "execution_count": 8,
     "metadata": {},
     "output_type": "execute_result"
    },
    {
     "data": {
      "image/png": "[encoded data removed]",
      "text/plain": [
       "<Figure size 432x288 with 1 Axes>"
      ]
     },
     "metadata": {
      "needs_background": "light"
     },
     "output_type": "display_data"
    }
   ],
   "source": [
    "df['MIC'].hist()"
   ]
  },
  {
   "cell_type": "code",
   "execution_count": 9,
   "id": "decimal-consolidation",
   "metadata": {},
   "outputs": [],
   "source": [
    "df['pIC50'] = df['MIC'].apply(lambda x: -np.log(x*1e-6))"
   ]
  },
  {
   "cell_type": "code",
   "execution_count": 10,
   "id": "trying-spray",
   "metadata": {},
   "outputs": [
    {
     "data": {
      "text/html": [
       "<div>\n",
       "<style scoped>\n",
       "    .dataframe tbody tr th:only-of-type {\n",
       "        vertical-align: middle;\n",
       "    }\n",
       "\n",
       "    .dataframe tbody tr th {\n",
       "        vertical-align: top;\n",
       "    }\n",
       "\n",
       "    .dataframe thead th {\n",
       "        text-align: right;\n",
       "    }\n",
       "</style>\n",
       "<table border=\"1\" class=\"dataframe\">\n",
       "  <thead>\n",
       "    <tr style=\"text-align: right;\">\n",
       "      <th></th>\n",
       "      <th>Sequence</th>\n",
       "      <th>MIC</th>\n",
       "      <th>pIC50</th>\n",
       "    </tr>\n",
       "  </thead>\n",
       "  <tbody>\n",
       "    <tr>\n",
       "      <th>0</th>\n",
       "      <td>AAQRRGRVGRNPNQVGD</td>\n",
       "      <td>442.00000</td>\n",
       "      <td>7.724201</td>\n",
       "    </tr>\n",
       "    <tr>\n",
       "      <th>1</th>\n",
       "      <td>HRILARIRQMMT</td>\n",
       "      <td>435.50000</td>\n",
       "      <td>7.739016</td>\n",
       "    </tr>\n",
       "    <tr>\n",
       "      <th>2</th>\n",
       "      <td>RNPSQVGD</td>\n",
       "      <td>383.00000</td>\n",
       "      <td>7.867476</td>\n",
       "    </tr>\n",
       "    <tr>\n",
       "      <th>3</th>\n",
       "      <td>RVGRNPNQVGD</td>\n",
       "      <td>374.00000</td>\n",
       "      <td>7.891255</td>\n",
       "    </tr>\n",
       "    <tr>\n",
       "      <th>4</th>\n",
       "      <td>AAQRRGRIGRNPSQVGD</td>\n",
       "      <td>358.00000</td>\n",
       "      <td>7.934978</td>\n",
       "    </tr>\n",
       "    <tr>\n",
       "      <th>...</th>\n",
       "      <td>...</td>\n",
       "      <td>...</td>\n",
       "      <td>...</td>\n",
       "    </tr>\n",
       "    <tr>\n",
       "      <th>707</th>\n",
       "      <td>NGAICWGPCPTAFRQIGNCGHFKVRCCKIR</td>\n",
       "      <td>0.11515</td>\n",
       "      <td>15.977030</td>\n",
       "    </tr>\n",
       "    <tr>\n",
       "      <th>708</th>\n",
       "      <td>CFPYITRPGTYHDWWYTRKNRQ</td>\n",
       "      <td>0.30000</td>\n",
       "      <td>15.019483</td>\n",
       "    </tr>\n",
       "    <tr>\n",
       "      <th>709</th>\n",
       "      <td>YTSLIHSLIEESQNQQEKNEQELLELDKWASLWNWF</td>\n",
       "      <td>0.01131</td>\n",
       "      <td>18.297579</td>\n",
       "    </tr>\n",
       "    <tr>\n",
       "      <th>710</th>\n",
       "      <td>GTNLSVPNPLGFFPDHQLDPAFGANSNNPDWDFNPNKDHWPEANKVG</td>\n",
       "      <td>0.00008</td>\n",
       "      <td>23.248994</td>\n",
       "    </tr>\n",
       "    <tr>\n",
       "      <th>711</th>\n",
       "      <td>SWETWEREIENYTRQIYRILEESQEQQDRNERDLLE</td>\n",
       "      <td>0.00200</td>\n",
       "      <td>20.030119</td>\n",
       "    </tr>\n",
       "  </tbody>\n",
       "</table>\n",
       "<p>712 rows × 3 columns</p>\n",
       "</div>"
      ],
      "text/plain": [
       "                                            Sequence        MIC      pIC50\n",
       "0                                  AAQRRGRVGRNPNQVGD  442.00000   7.724201\n",
       "1                                       HRILARIRQMMT  435.50000   7.739016\n",
       "2                                           RNPSQVGD  383.00000   7.867476\n",
       "3                                        RVGRNPNQVGD  374.00000   7.891255\n",
       "4                                  AAQRRGRIGRNPSQVGD  358.00000   7.934978\n",
       "..                                               ...        ...        ...\n",
       "707                   NGAICWGPCPTAFRQIGNCGHFKVRCCKIR    0.11515  15.977030\n",
       "708                           CFPYITRPGTYHDWWYTRKNRQ    0.30000  15.019483\n",
       "709             YTSLIHSLIEESQNQQEKNEQELLELDKWASLWNWF    0.01131  18.297579\n",
       "710  GTNLSVPNPLGFFPDHQLDPAFGANSNNPDWDFNPNKDHWPEANKVG    0.00008  23.248994\n",
       "711             SWETWEREIENYTRQIYRILEESQEQQDRNERDLLE    0.00200  20.030119\n",
       "\n",
       "[712 rows x 3 columns]"
      ]
     },
     "execution_count": 10,
     "metadata": {},
     "output_type": "execute_result"
    }
   ],
   "source": [
    "df"
   ]
  },
  {
   "cell_type": "code",
   "execution_count": 11,
   "id": "distinct-description",
   "metadata": {
    "scrolled": true
   },
   "outputs": [
    {
     "data": {
      "text/plain": [
       "<matplotlib.axes._subplots.AxesSubplot at 0x1a20008ef0>"
      ]
     },
     "execution_count": 11,
     "metadata": {},
     "output_type": "execute_result"
    },
    {
     "data": {
      "image/png": "[encoded data removed]",
      "text/plain": [
       "<Figure size 432x288 with 1 Axes>"
      ]
     },
     "metadata": {
      "needs_background": "light"
     },
     "output_type": "display_data"
    }
   ],
   "source": [
    "df['pIC50'].hist()"
   ]
  },
  {
   "cell_type": "code",
   "execution_count": 12,
   "id": "composite-netscape",
   "metadata": {},
   "outputs": [],
   "source": [
    "def get_physicochemical_properties(df):\n",
    "    params = ['aromaticity', 'helix', 'turn', 'sheet', 'gravy', 'net_charge_at_pH7point4']\n",
    "\n",
    "    prop = []\n",
    "    for seq in df.Sequence:\n",
    "        X = ProteinAnalysis(seq)\n",
    "        aromaticity = X.aromaticity()\n",
    "        sec_struc = X.secondary_structure_fraction()\n",
    "        helix = sec_struc[0]\n",
    "        turn = sec_struc[1]\n",
    "        sheet = sec_struc[2]\n",
    "        gravy = X.gravy() # hydrophobicity related\n",
    "        net_charge_at_pH7point4 = X.charge_at_pH(7.4)\n",
    "\n",
    "        prop.append([aromaticity, helix, turn, sheet, gravy, net_charge_at_pH7point4])\n",
    "    return pd.DataFrame(prop, columns=params)"
   ]
  },
  {
   "cell_type": "code",
   "execution_count": 13,
   "id": "mobile-antarctica",
   "metadata": {},
   "outputs": [],
   "source": [
    "aa_freq = reduce_by_kmer_frequency(df)"
   ]
  },
  {
   "cell_type": "code",
   "execution_count": 14,
   "id": "satisfactory-layer",
   "metadata": {},
   "outputs": [
    {
     "name": "stderr",
     "output_type": "stream",
     "text": [
      "/Users/in-divye.singh/anaconda3/envs/life-science/lib/python3.6/site-packages/smart_open/smart_open_lib.py:254: UserWarning: This function is deprecated, use smart_open.open instead. See the migration notes for details: https://github.com/RaRe-Technologies/smart_open/blob/master/README.rst#migrating-to-the-new-open-function\n",
      "  'See the migration notes for details: %s' % _MIGRATION_NOTES_URL\n",
      "Creating vectors: 100%|██████████| 712/712 [00:00<00:00, 1117.09sequence/s]\n"
     ]
    }
   ],
   "source": [
    "uniprot_embedding = biovec.models.load_protvec(\"../data/embeddings/uniprot__kmer_3_contextWindow_10_vector_100_reduction_None\")\n",
    "\n",
    "avg_protvec = convert_sequences_to_avg_vectors(df['Sequence'], uniprot_embedding, kmer=3)\n",
    "avg_protvec = avg_protvec.reset_index(drop=True)"
   ]
  },
  {
   "cell_type": "code",
   "execution_count": 15,
   "id": "friendly-advocacy",
   "metadata": {},
   "outputs": [],
   "source": [
    "physicochemical_prop = get_physicochemical_properties(df)"
   ]
  },
  {
   "cell_type": "code",
   "execution_count": 16,
   "id": "dried-edgar",
   "metadata": {},
   "outputs": [],
   "source": [
    "X = pd.concat([aa_freq, avg_protvec, physicochemical_prop[['helix','turn','sheet']]], axis=1)"
   ]
  },
  {
   "cell_type": "code",
   "execution_count": 17,
   "id": "individual-fifteen",
   "metadata": {},
   "outputs": [],
   "source": [
    "y = df[['pIC50', 'MIC']]"
   ]
  },
  {
   "cell_type": "code",
   "execution_count": 18,
   "id": "complimentary-distinction",
   "metadata": {},
   "outputs": [],
   "source": [
    "X_train, X_test, y_train, y_test = train_test_split(X, y, test_size=0.2, random_state=42)"
   ]
  },
  {
   "cell_type": "code",
   "execution_count": 19,
   "id": "beginning-price",
   "metadata": {},
   "outputs": [],
   "source": [
    "y_train_pmic, y_train_mic = y_train['pIC50'], y_train['MIC']\n",
    "y_test_pmic, y_test_mic = y_test['pIC50'], y_test['MIC']"
   ]
  },
  {
   "cell_type": "code",
   "execution_count": 20,
   "id": "competent-jacket",
   "metadata": {},
   "outputs": [],
   "source": [
    "from sklearn.model_selection import cross_val_score, GridSearchCV, LeaveOneOut"
   ]
  },
  {
   "cell_type": "code",
   "execution_count": 21,
   "id": "choice-jordan",
   "metadata": {},
   "outputs": [],
   "source": [
    "def multi_objective_score(y_true, y_pred):\n",
    "    mape = mean_absolute_percentage_error(y_true, y_pred)\n",
    "    std_diff = abs(np.std(y_pred) - np.std(y_true))\n",
    "    return mape + 10*std_diff\n",
    "multi_objective_scorer = make_scorer(multi_objective_score, greater_is_better=False)"
   ]
  },
  {
   "cell_type": "code",
   "execution_count": 22,
   "id": "given-sacramento",
   "metadata": {},
   "outputs": [],
   "source": [
    "param_grid = {\n",
    "    'C':[0.001,0.01,0.1,1,10,100,1000],\n",
    "    'kernel':['rbf','poly','sigmoid','linear'],\n",
    "    'degree':[1,2,3,4,5,6],\n",
    "    'gamma': np.arange(0.1,1.0,0.1).round(1).tolist() + np.arange(1,11,1).round().tolist()\n",
    "}\n",
    "svr = SVR()\n",
    "# Instantiate the grid search model\n",
    "grid_search = GridSearchCV(estimator = svr, param_grid = param_grid, \n",
    "                          cv = 5, n_jobs = -1, verbose = 2, scoring=multi_objective_scorer)"
   ]
  },
  {
   "cell_type": "code",
   "execution_count": 187,
   "id": "figured-chair",
   "metadata": {
    "scrolled": false
   },
   "outputs": [
    {
     "name": "stdout",
     "output_type": "stream",
     "text": [
      "Fitting 5 folds for each of 3192 candidates, totalling 15960 fits\n"
     ]
    },
    {
     "name": "stderr",
     "output_type": "stream",
     "text": [
      "[Parallel(n_jobs=-1)]: Using backend LokyBackend with 12 concurrent workers.\n",
      "[Parallel(n_jobs=-1)]: Done  17 tasks      | elapsed:    1.9s\n",
      "[Parallel(n_jobs=-1)]: Done 288 tasks      | elapsed:    3.3s\n",
      "[Parallel(n_jobs=-1)]: Done 1100 tasks      | elapsed:    7.1s\n",
      "[Parallel(n_jobs=-1)]: Done 2232 tasks      | elapsed:   14.0s\n",
      "[Parallel(n_jobs=-1)]: Done 3692 tasks      | elapsed:   24.6s\n",
      "[Parallel(n_jobs=-1)]: Done 5448 tasks      | elapsed:  1.4min\n",
      "[Parallel(n_jobs=-1)]: Done 6454 tasks      | elapsed:  1.5min\n",
      "[Parallel(n_jobs=-1)]: Done 7668 tasks      | elapsed:  1.7min\n",
      "[Parallel(n_jobs=-1)]: Done 9046 tasks      | elapsed:  1.9min\n",
      "[Parallel(n_jobs=-1)]: Done 10392 tasks      | elapsed:  2.5min\n",
      "[Parallel(n_jobs=-1)]: Done 12094 tasks      | elapsed:  2.8min\n",
      "[Parallel(n_jobs=-1)]: Done 13884 tasks      | elapsed:  3.2min\n",
      "[Parallel(n_jobs=-1)]: Done 14897 tasks      | elapsed:  4.6min\n",
      "[Parallel(n_jobs=-1)]: Done 15960 out of 15960 | elapsed:  5.3min finished\n"
     ]
    },
    {
     "data": {
      "text/plain": [
       "GridSearchCV(cv=5, estimator=SVR(), n_jobs=-1,\n",
       "             param_grid={'C': [0.001, 0.01, 0.1, 1, 10, 100, 1000],\n",
       "                         'degree': [1, 2, 3, 4, 5, 6],\n",
       "                         'gamma': [0.1, 0.2, 0.3, 0.4, 0.5, 0.6, 0.7, 0.8, 0.9,\n",
       "                                   1, 2, 3, 4, 5, 6, 7, 8, 9, 10],\n",
       "                         'kernel': ['rbf', 'poly', 'sigmoid', 'linear']},\n",
       "             scoring=make_scorer(multi_objective_score, greater_is_better=False),\n",
       "             verbose=2)"
      ]
     },
     "execution_count": 187,
     "metadata": {},
     "output_type": "execute_result"
    }
   ],
   "source": [
    "grid_search.fit(X_train, y_train_pmic)"
   ]
  },
  {
   "cell_type": "code",
   "execution_count": 188,
   "id": "above-slovenia",
   "metadata": {},
   "outputs": [
    {
     "data": {
      "text/plain": [
       "{'C': 100, 'degree': 1, 'gamma': 3, 'kernel': 'rbf'}"
      ]
     },
     "execution_count": 188,
     "metadata": {},
     "output_type": "execute_result"
    }
   ],
   "source": [
    "grid_search.best_params_"
   ]
  },
  {
   "cell_type": "code",
   "execution_count": 189,
   "id": "greenhouse-attraction",
   "metadata": {},
   "outputs": [],
   "source": [
    "best_grid = grid_search.best_estimator_"
   ]
  },
  {
   "cell_type": "code",
   "execution_count": 208,
   "id": "guilty-brain",
   "metadata": {},
   "outputs": [],
   "source": [
    "y_pred_pmic = best_grid.predict(X_test)"
   ]
  },
  {
   "cell_type": "code",
   "execution_count": 209,
   "id": "biological-sword",
   "metadata": {},
   "outputs": [
    {
     "data": {
      "text/plain": [
       "13.40021877192078"
      ]
     },
     "execution_count": 209,
     "metadata": {},
     "output_type": "execute_result"
    }
   ],
   "source": [
    "mean_absolute_percentage_error(y_test_pmic, y_pred_pmic)"
   ]
  },
  {
   "cell_type": "code",
   "execution_count": 210,
   "id": "indoor-organizer",
   "metadata": {},
   "outputs": [
    {
     "data": {
      "text/plain": [
       "(3.331777161170943, 2.7825742009253447)"
      ]
     },
     "execution_count": 210,
     "metadata": {},
     "output_type": "execute_result"
    }
   ],
   "source": [
    "np.std(y_test_pmic), np.std(y_pred_pmic)"
   ]
  },
  {
   "cell_type": "code",
   "execution_count": 211,
   "id": "introductory-venture",
   "metadata": {},
   "outputs": [
    {
     "data": {
      "text/plain": [
       "-0.5492029602455983"
      ]
     },
     "execution_count": 211,
     "metadata": {},
     "output_type": "execute_result"
    }
   ],
   "source": [
    "np.std(y_pred_pmic) - np.std(y_test_pmic)"
   ]
  },
  {
   "cell_type": "code",
   "execution_count": 212,
   "id": "refined-setting",
   "metadata": {},
   "outputs": [
    {
     "data": {
      "text/plain": [
       "18.892248374376763"
      ]
     },
     "execution_count": 212,
     "metadata": {},
     "output_type": "execute_result"
    }
   ],
   "source": [
    "multi_objective_score(y_test_pmic,y_pred_pmic)"
   ]
  },
  {
   "cell_type": "code",
   "execution_count": 230,
   "id": "southeast-morocco",
   "metadata": {},
   "outputs": [
    {
     "data": {
      "text/plain": [
       "4081.405827081923"
      ]
     },
     "execution_count": 230,
     "metadata": {},
     "output_type": "execute_result"
    }
   ],
   "source": [
    "mean_squared_error(y_test_mic,y_pred_mic)"
   ]
  },
  {
   "cell_type": "code",
   "execution_count": null,
   "id": "wrong-reward",
   "metadata": {},
   "outputs": [],
   "source": []
  },
  {
   "cell_type": "code",
   "execution_count": null,
   "id": "generous-happening",
   "metadata": {},
   "outputs": [],
   "source": []
  },
  {
   "cell_type": "code",
   "execution_count": 24,
   "id": "valued-iceland",
   "metadata": {},
   "outputs": [
    {
     "name": "stdout",
     "output_type": "stream",
     "text": [
      "[-13.14097507 -11.75919857 -14.95442238 -12.28382805 -14.98717388] -13.425119590064293\n",
      "3.331777161170943 2.389467849793156\n"
     ]
    }
   ],
   "source": [
    "svr = SVR(C=10, gamma=10)\n",
    "cv_score = cross_val_score(svr, X_train, y_train_pmic, cv=5, scoring=mape_scorer)\n",
    "cv_mean = cv_score.mean()\n",
    "print(cv_score, cv_mean)\n",
    "\n",
    "_ = svr.fit(X_train, y_train_pmic)\n",
    "y_pred = svr.predict(X_test)\n",
    "\n",
    "print(np.std(y_test_pmic), np.std(y_pred))"
   ]
  },
  {
   "cell_type": "code",
   "execution_count": 307,
   "id": "sublime-antigua",
   "metadata": {},
   "outputs": [],
   "source": [
    "ape = 100*np.abs(y_test_pmic-y_pred)/y_test_pmic"
   ]
  },
  {
   "cell_type": "code",
   "execution_count": 308,
   "id": "expensive-potato",
   "metadata": {},
   "outputs": [],
   "source": [
    "y_pred_mic = np.exp(-y_pred)/1e-6"
   ]
  },
  {
   "cell_type": "code",
   "execution_count": 309,
   "id": "after-russia",
   "metadata": {},
   "outputs": [],
   "source": [
    "ape_mic = 100*np.abs(y_test_mic-y_pred_mic)/y_test_mic"
   ]
  },
  {
   "cell_type": "code",
   "execution_count": 310,
   "id": "remarkable-weekly",
   "metadata": {
    "scrolled": true
   },
   "outputs": [
    {
     "data": {
      "text/plain": [
       "[(14.0512, 13.3353, 5.095228949935188, 0.79, 1.6164, 104.61142080028122),\n",
       " (12.557, 12.5856, 0.22772176312018264, 3.52, 3.4208, 2.819016306272497),\n",
       " (10.6585, 10.6965, 0.3568205888157505, 23.5, 22.623, 3.7317633066588667),\n",
       " (11.2506, 14.3021, 27.123692294480684, 13.0, 0.6147, 95.27152573673904),\n",
       " (13.1224, 14.5293, 10.721465629449, 2.0, 0.4898, 75.51010688039112),\n",
       " (13.1124, 11.7187, 10.628726355563412, 2.02, 8.1399, 302.9661999418258),\n",
       " (10.8198, 11.4141, 5.4932856490360376, 20.0, 11.0383, 44.80850539142303),\n",
       " (10.7475, 11.6315, 8.22597115652515, 21.5, 8.8815, 58.69070968046986),\n",
       " (9.2103, 10.2241, 11.00636535500584, 100.0, 36.2865, 63.71347449287876),\n",
       " (13.1224, 14.6038, 11.289660992833756, 2.0, 0.4546, 77.26967703697946),\n",
       " (8.7403, 11.6242, 32.995385115835, 160.0, 8.9465, 94.40841707846201),\n",
       " (9.8191, 11.6292, 18.433648905994534, 54.4, 8.9025, 83.6350277494994),\n",
       " (9.2103, 9.538, 3.557413251167453, 100.0, 72.0615, 27.93847146163641),\n",
       " (18.7774, 18.2397, 2.863506243156309, 0.007, 0.012, 71.20487493853838),\n",
       " (14.3313, 17.0291, 18.82404642959845, 0.597, 0.0402, 93.26424133753954),\n",
       " (17.4652, 13.8689, 20.590990615927108, 0.026, 0.948, 3546.129807738287),\n",
       " (9.0448, 9.6708, 6.921194420191226, 118.0, 63.0971, 46.52789060955516),\n",
       " (12.5976, 11.2555, 10.653788605745241, 3.38, 12.9358, 282.7169079202077),\n",
       " (11.7361, 11.6717, 0.5486273320316807, 8.0, 8.532, 6.650535746973829),\n",
       " (11.8986, 13.2015, 10.950102692585034, 6.8, 1.8478, 72.82594692490703),\n",
       " (13.5228, 13.3269, 1.4490855926544828, 1.34, 1.6301, 21.647525250035383),\n",
       " (10.6128, 11.7204, 10.436470198103402, 24.6, 8.1266, 66.96484749533633),\n",
       " (15.182, 15.4412, 1.707438097023036, 0.255, 0.1968, 22.834929886738088),\n",
       " (14.2935, 14.4395, 1.0209666682493326, 0.62, 0.5358, 13.578382941440571),\n",
       " (9.2103, 12.4155, 34.79989295800654, 100.0, 4.0551, 95.94487466650857),\n",
       " (20.7233, 18.3266, 11.56496906620067, 0.001, 0.011, 998.6192790929309),\n",
       " (9.0533, 10.2361, 13.06437886624494, 117.0, 35.8524, 69.35688545029002),\n",
       " (14.1032, 12.225, 13.317392038004174, 0.75, 4.9062, 554.1571665786822),\n",
       " (11.5129, 13.5317, 17.53467133068736, 10.0, 1.3282, 86.71790954874034),\n",
       " (12.1162, 11.5236, 4.890925835203172, 5.47, 9.8935, 80.86775055190591),\n",
       " (8.5172, 11.3984, 33.82804187646561, 200.0, 11.2135, 94.39325405103203),\n",
       " (10.0995, 11.375, 12.629302058469797, 41.1, 11.4789, 72.07077820476792),\n",
       " (11.4641, 10.8059, 5.7419134082623104, 10.5, 20.28, 93.14301173803673),\n",
       " (19.6247, 17.7611, 9.495929935472265, 0.003, 0.0193, 544.6538699454369),\n",
       " (10.5197, 12.1722, 15.709117118780718, 27.0, 5.1722, 80.84387849839032),\n",
       " (9.7902, 8.7004, 11.131640307424135, 56.0, 166.5269, 197.36949504207087),\n",
       " (9.9035, 9.8276, 0.7660708956788697, 50.0, 53.941, 7.8819875469688725),\n",
       " (11.0864, 11.2952, 1.884149025343923, 15.32, 12.432, 18.85101353300427),\n",
       " (10.2257, 13.5263, 32.27657936230098, 36.226, 1.3354, 96.31358954264535),\n",
       " (17.356, 16.5509, 4.638471689185294, 0.029, 0.0649, 123.68122623925981),\n",
       " (14.9002, 15.0191, 0.7981633392921718, 0.338, 0.3001, 11.212835738863872),\n",
       " (10.625, 12.9641, 22.01486795478714, 24.3, 2.3429, 90.3584398671986),\n",
       " (20.0301, 13.2898, 33.65074054266672, 0.002, 1.6916, 84480.02828444494),\n",
       " (9.2103, 9.4233, 2.3116644374389526, 100.0, 80.8227, 19.177287361159813),\n",
       " (13.0736, 12.6158, 3.5017363377150845, 2.1, 3.3193, 58.05961149799025),\n",
       " (11.884, 11.9646, 0.6781204206769852, 6.9, 6.3658, 7.742606246750926),\n",
       " (16.1181, 11.9343, 25.956896027645286, 0.1, 6.5612, 6461.191625981399),\n",
       " (16.5489, 16.0595, 2.9572206980218554, 0.065, 0.106, 63.13156920643718),\n",
       " (8.8597, 8.8395, 0.22790317357103285, 142.0, 144.8963, 2.0396727154041003),\n",
       " (16.4748, 15.0489, 8.655132514209525, 0.07, 0.2913, 316.16566426251296),\n",
       " (11.8554, 12.3285, 3.9905681115172884, 7.1, 4.4238, 37.69312675758942),\n",
       " (16.8314, 17.2077, 2.235330954139861, 0.049, 0.0336, 31.356141043420056),\n",
       " (9.2103, 10.9295, 18.666049053589234, 100.0, 17.9208, 82.07917339216172),\n",
       " (11.3059, 14.5487, 28.682438511705268, 12.3, 0.4804, 96.09460421931587),\n",
       " (14.592, 11.546, 20.874348070917986, 0.46, 9.6742, 2003.0906293081375),\n",
       " (8.0074, 8.9646, 11.953976769063178, 333.0, 127.861, 61.6033096403704),\n",
       " (12.2061, 11.4065, 6.550317996275241, 5.0, 11.1225, 122.45097919916721),\n",
       " (19.1138, 18.1115, 5.244110937679893, 0.005, 0.0136, 172.4678231061208),\n",
       " (12.075, 11.6913, 3.1783122556212557, 5.7, 8.3666, 46.782632430684096),\n",
       " (9.9115, 14.2015, 43.282859757598516, 49.6, 0.6798, 98.62949264431388),\n",
       " (10.0427, 11.0567, 10.096949608393883, 43.502, 15.7809, 63.72374265147212),\n",
       " (11.5301, 12.7307, 10.413375010678955, 9.83, 2.9588, 69.90073993780402),\n",
       " (13.1224, 12.5871, 4.078884057942751, 2.0, 3.4157, 70.78683053988732),\n",
       " (18.0152, 19.3635, 7.484153642115753, 0.015, 0.0039, 74.03151288584837),\n",
       " (16.8112, 14.1387, 15.897635818527206, 0.05, 0.7239, 1347.7419531458816),\n",
       " (26.3227, 11.8363, 55.03390733354611, 0.0, 7.2371, 195598287.30325472),\n",
       " (12.5627, 15.6858, 24.859988731319508, 3.5, 0.1541, 95.59794027414918),\n",
       " (9.9156, 13.8446, 39.625255219597996, 49.4, 0.9713, 98.03379718719518),\n",
       " (12.7169, 11.7696, 7.449335095356883, 3.0, 7.7364, 157.8800493482266),\n",
       " (11.9284, 12.1501, 1.8582230021981474, 6.6, 5.2879, 19.880990083425335),\n",
       " (12.3339, 11.4723, 6.985447852710765, 4.4, 10.4143, 136.68940613466143),\n",
       " (11.6754, 12.7961, 9.598295409660526, 8.5, 2.7716, 67.3930145633511),\n",
       " (13.8881, 15.2634, 9.90315206757237, 0.93, 0.2351, 74.725085541907),\n",
       " (12.6524, 9.991, 21.034855468917005, 3.2, 45.8125, 1331.6397897687937),\n",
       " (12.0238, 11.4227, 4.99926587515229, 6.0, 10.9447, 82.41229297773947),\n",
       " (11.3559, 10.6607, 6.121798046361642, 11.7, 23.4478, 100.40829884477735),\n",
       " (9.2103, 13.7445, 49.22865346952715, 100.0, 1.0736, 98.92637192105411),\n",
       " (8.3143, 8.809, 5.950063645464731, 245.0, 149.3892, 39.02482100335049),\n",
       " (10.5498, 10.3864, 1.547991349479002, 26.2, 30.8479, 17.74007270896424),\n",
       " (11.8957, 11.9135, 0.1503109965667935, 6.82, 6.6991, 1.7721564582537968),\n",
       " (12.6006, 11.6872, 7.248760881722942, 3.37, 8.4006, 149.2751711145604),\n",
       " (18.526, 18.5494, 0.1262536364447461, 0.009, 0.0088, 2.311837966942998),\n",
       " (11.5129, 11.7009, 1.6327865345358767, 10.0, 8.2863, 17.136996053817146),\n",
       " (10.8554, 11.9607, 10.181872080130752, 19.3, 6.3906, 66.88830020475102),\n",
       " (8.8955, 11.8199, 32.874992239045945, 137.0, 7.3564, 94.63033507066949),\n",
       " (10.9852, 12.7181, 15.77484951635569, 16.95, 2.9963, 82.32299438410116),\n",
       " (11.8696, 8.5073, 28.326666401232412, 7.0, 201.9807, 2785.438893917312),\n",
       " (11.3559, 11.5569, 1.7700148374250093, 11.7, 9.5696, 18.208879474330203),\n",
       " (9.2103, 10.9084, 18.43696330133754, 100.0, 18.303, 81.69703421118993),\n",
       " (7.8675, 10.2695, 30.531027336451903, 383.0, 34.6748, 90.946521310868),\n",
       " (11.2978, 12.3933, 9.696062371858844, 12.4, 4.1465, 66.56085948392914),\n",
       " (9.5388, 12.3584, 29.558651697687104, 72.0, 4.2935, 94.03674554051524),\n",
       " (9.6884, 11.9234, 23.069400623181405, 62.0, 6.6332, 89.30132531291333),\n",
       " (15.977, 11.196, 29.92433641538974, 0.1152, 13.7289, 11822.593058432012),\n",
       " (9.4335, 10.0907, 6.966517565966673, 80.0, 41.4647, 48.16918423147611),\n",
       " (11.9655, 12.4922, 4.401567909293328, 6.36, 3.756, 40.94310140613807),\n",
       " (12.8755, 12.8046, 0.5508724291785442, 2.56, 2.7482, 7.350349903394224),\n",
       " (20.0301, 17.8059, 11.104311863126302, 0.002, 0.0185, 824.6146241378747),\n",
       " (10.31, 12.9069, 25.188701481564248, 33.3, 2.4809, 92.54990442342032),\n",
       " (20.7233, 17.9711, 13.280517871473737, 0.001, 0.0157, 1467.64098181856),\n",
       " (10.8198, 11.7927, 8.992363875655117, 20.0, 7.5593, 62.203505806720706),\n",
       " (15.0195, 11.5014, 23.423230865264816, 0.3, 10.1156, 3271.8554440613198),\n",
       " (15.796, 15.8723, 0.4827403353388911, 0.138, 0.1279, 7.3418917302262745),\n",
       " (14.3602, 11.8147, 17.72663148697817, 0.58, 7.3954, 1175.0703208034417),\n",
       " (9.9035, 12.3719, 24.924522665473503, 50.0, 4.236, 91.52794427112974),\n",
       " (9.3047, 9.9744, 7.197521532334669, 91.0, 46.5793, 48.814006864198426),\n",
       " (17.1397, 12.6853, 25.98892329815841, 0.036, 3.0963, 8500.760090352545),\n",
       " (11.7361, 10.7712, 8.221548668764543, 8.0, 20.9959, 162.44900905980134),\n",
       " (11.814, 13.5833, 14.976078876462083, 7.4, 1.2614, 82.95440775130623),\n",
       " (9.028, 14.4446, 59.99772558995004, 120.0, 0.5331, 99.55578018887442),\n",
       " (13.8155, 13.1701, 4.6716268850832074, 1.0, 1.9068, 90.67669386414939),\n",
       " (8.294, 10.7097, 29.125068918882207, 250.0, 22.3274, 91.06905232264319),\n",
       " (9.2103, 10.2159, 10.917995053457021, 100.0, 36.5831, 63.41692580444886),\n",
       " (10.4143, 12.6309, 21.28425803258308, 30.0, 3.2693, 89.10220040080655),\n",
       " (16.6802, 13.4918, 19.1152391252438, 0.057, 1.3823, 2325.1122415545174),\n",
       " (8.5844, 11.9437, 39.13227577166213, 187.0, 6.5002, 96.52394390510382),\n",
       " (15.895, 14.544, 8.499161603705595, 0.125, 0.4826, 286.10442029047675),\n",
       " (9.2103, 9.1764, 0.3680147054729701, 100.0, 103.4476, 3.4476402071912986),\n",
       " (13.2849, 13.4727, 1.4135456080681938, 1.7, 1.4089, 17.120950040479684),\n",
       " (12.2845, 13.0154, 5.949823768169875, 4.623, 2.2259, 51.8526516696169),\n",
       " (10.2602, 11.0869, 8.058099058754092, 35.0, 15.311, 56.254177241780496),\n",
       " (15.1899, 14.3457, 5.557728745025286, 0.253, 0.5885, 132.614437939913),\n",
       " (17.3911, 14.8216, 14.774688614819752, 0.028, 0.3657, 1205.8968744685774),\n",
       " (10.2602, 11.0988, 8.174144893163794, 35.0, 15.1298, 56.7719479616153),\n",
       " (10.5966, 12.1334, 14.502579789130438, 25.0, 5.3768, 78.49286417599936),\n",
       " (14.6229, 17.29, 18.239119835042484, 0.446, 0.031, 93.05464298986742),\n",
       " (14.7571, 15.1867, 2.9112495207838984, 0.39, 0.2538, 34.924142560256016),\n",
       " (19.1138, 18.498, 3.222004924115123, 0.005, 0.0093, 85.12266564674633),\n",
       " (10.7245, 12.0784, 12.624777959451757, 22.0, 5.6809, 74.17792101820943),\n",
       " (17.6322, 17.7999, 0.9509561512784724, 0.022, 0.0186, 15.437113786646986),\n",
       " (17.5878, 14.8493, 15.570251085881935, 0.023, 0.3557, 1446.3156614859654),\n",
       " (12.6524, 13.9996, 10.648172320633785, 3.2, 0.8319, 74.00445655475579),\n",
       " (8.0074, 10.7227, 33.9108898363918, 333.0, 22.0381, 93.38195226975127),\n",
       " (17.9507, 16.4835, 8.173192456242695, 0.016, 0.0694, 333.6828791328827),\n",
       " (11.6123, 11.6587, 0.39949368176304406, 9.054, 8.6436, 4.533083291836174),\n",
       " (10.232, 11.5782, 13.15696131615856, 36.0, 9.368, 73.97777431917912),\n",
       " (10.5197, 11.152, 6.010514887216493, 27.0, 14.3471, 46.8624607334276),\n",
       " (9.9035, 10.4295, 5.31109884445229, 50.0, 29.5487, 40.90264474780411),\n",
       " (11.5129, 14.9079, 29.488263555537763, 10.0, 0.3354, 96.64581646904917),\n",
       " (8.5374, 8.4595, 0.9124220643720389, 196.0, 211.8782, 8.10113994707805),\n",
       " (9.6645, 12.1523, 25.741811598123704, 63.5, 5.2763, 91.69082472731974),\n",
       " (14.228, 14.9194, 4.859559274170958, 0.662, 0.3316, 49.91347154578043),\n",
       " (8.9029, 9.2624, 4.03803263150026, 136.0, 94.9314, 30.1974900138927)]"
      ]
     },
     "execution_count": 310,
     "metadata": {},
     "output_type": "execute_result"
    }
   ],
   "source": [
    "list(zip(y_test_pmic.round(4), y_pred.round(4), ape, y_test_mic.round(4), y_pred_mic.round(4), ape_mic))"
   ]
  },
  {
   "cell_type": "code",
   "execution_count": 311,
   "id": "closing-chile",
   "metadata": {},
   "outputs": [
    {
     "data": {
      "text/plain": [
       "1368837.5810242589"
      ]
     },
     "execution_count": 311,
     "metadata": {},
     "output_type": "execute_result"
    }
   ],
   "source": [
    "ape_mic.mean()"
   ]
  },
  {
   "cell_type": "code",
   "execution_count": null,
   "id": "surface-cooperation",
   "metadata": {},
   "outputs": [],
   "source": []
  },
  {
   "cell_type": "code",
   "execution_count": null,
   "id": "raised-summary",
   "metadata": {},
   "outputs": [],
   "source": []
  },
  {
   "cell_type": "code",
   "execution_count": null,
   "id": "married-pacific",
   "metadata": {},
   "outputs": [],
   "source": []
  },
  {
   "cell_type": "code",
   "execution_count": 195,
   "id": "above-motivation",
   "metadata": {},
   "outputs": [],
   "source": [
    "loo = LeaveOneOut()"
   ]
  },
  {
   "cell_type": "code",
   "execution_count": 196,
   "id": "collaborative-christopher",
   "metadata": {},
   "outputs": [],
   "source": [
    "from tqdm import tqdm"
   ]
  },
  {
   "cell_type": "code",
   "execution_count": 312,
   "id": "dried-provincial",
   "metadata": {
    "scrolled": true
   },
   "outputs": [
    {
     "name": "stderr",
     "output_type": "stream",
     "text": [
      "712it [01:23,  8.58it/s]\n"
     ]
    }
   ],
   "source": [
    "result_df = pd.DataFrame(columns = list(df.columns)+[\"y_pred_pmic\", \"y_pred_mic\", \"ape_pmic\", \"ape_mic\"])\n",
    "for train_index, test_index in tqdm(loo.split(X)):\n",
    "    X_train, X_test = X.iloc[train_index,:], X.iloc[test_index,:]\n",
    "    y_train, y_test = y.iloc[train_index], y.iloc[test_index]\n",
    "    y_train_pmic, y_train_mic = y_train['pIC50'], y_train['MIC']\n",
    "    y_test_pmic, y_test_mic = y_test['pIC50'], y_test['MIC']\n",
    "    svr = SVR(C=100, gamma=3)\n",
    "    _ = svr.fit(X_train, y_train_pmic)\n",
    "    y_pred_pmic = svr.predict(X_test)\n",
    "    y_pred_mic = np.exp(-y_pred_pmic)/1e-6\n",
    "    ape = 100*np.abs(y_test_pmic-y_pred_pmic)/y_test_pmic\n",
    "    ape_mic = 100*np.abs(y_test_mic-y_pred_mic)/y_test_mic\n",
    "    df_val = df.iloc[test_index,:].values[0].tolist()\n",
    "    res = np.append(df_val, [y_pred_pmic[0], y_pred_mic[0], ape.values[0], ape_mic.values[0]])\n",
    "    res = pd.DataFrame([res], columns = list(df.columns)+[\"y_pred_pmic\", \"y_pred_mic\", \"ape_pmic\", \"ape_mic\"])\n",
    "    result_df = result_df.append(res)\n",
    "result_df = result_df[[\"Sequence\", \"pIC50\", \"y_pred_pmic\", \"ape_pmic\", \"MIC\", \"y_pred_mic\", \"ape_mic\"]]"
   ]
  },
  {
   "cell_type": "code",
   "execution_count": 313,
   "id": "czech-relation",
   "metadata": {},
   "outputs": [
    {
     "data": {
      "text/html": [
       "<div>\n",
       "<style scoped>\n",
       "    .dataframe tbody tr th:only-of-type {\n",
       "        vertical-align: middle;\n",
       "    }\n",
       "\n",
       "    .dataframe tbody tr th {\n",
       "        vertical-align: top;\n",
       "    }\n",
       "\n",
       "    .dataframe thead th {\n",
       "        text-align: right;\n",
       "    }\n",
       "</style>\n",
       "<table border=\"1\" class=\"dataframe\">\n",
       "  <thead>\n",
       "    <tr style=\"text-align: right;\">\n",
       "      <th></th>\n",
       "      <th>Sequence</th>\n",
       "      <th>pIC50</th>\n",
       "      <th>y_pred_pmic</th>\n",
       "      <th>ape_pmic</th>\n",
       "      <th>MIC</th>\n",
       "      <th>y_pred_mic</th>\n",
       "      <th>ape_mic</th>\n",
       "    </tr>\n",
       "  </thead>\n",
       "  <tbody>\n",
       "    <tr>\n",
       "      <th>0</th>\n",
       "      <td>AAQRRGRVGRNPNQVGD</td>\n",
       "      <td>7.724200675886576</td>\n",
       "      <td>8.361462550658148</td>\n",
       "      <td>8.25019832486975</td>\n",
       "      <td>442.0</td>\n",
       "      <td>233.7022822695631</td>\n",
       "      <td>47.1261804819993</td>\n",
       "    </tr>\n",
       "    <tr>\n",
       "      <th>0</th>\n",
       "      <td>HRILARIRQMMT</td>\n",
       "      <td>7.739015761671717</td>\n",
       "      <td>10.700061011396127</td>\n",
       "      <td>38.261263976089765</td>\n",
       "      <td>435.5</td>\n",
       "      <td>22.543562457034202</td>\n",
       "      <td>94.82352182387274</td>\n",
       "    </tr>\n",
       "    <tr>\n",
       "      <th>0</th>\n",
       "      <td>RNPSQVGD</td>\n",
       "      <td>7.867475568783628</td>\n",
       "      <td>10.539424188172246</td>\n",
       "      <td>33.96195636107608</td>\n",
       "      <td>383.0</td>\n",
       "      <td>26.47196821171925</td>\n",
       "      <td>93.08825895255373</td>\n",
       "    </tr>\n",
       "    <tr>\n",
       "      <th>0</th>\n",
       "      <td>RVGRNPNQVGD</td>\n",
       "      <td>7.891254760549742</td>\n",
       "      <td>8.069194411724098</td>\n",
       "      <td>2.254896801252929</td>\n",
       "      <td>374.0</td>\n",
       "      <td>313.0353571309643</td>\n",
       "      <td>16.300706649474783</td>\n",
       "    </tr>\n",
       "    <tr>\n",
       "      <th>0</th>\n",
       "      <td>AAQRRGRIGRNPSQVGD</td>\n",
       "      <td>7.934977571563574</td>\n",
       "      <td>8.522431351799682</td>\n",
       "      <td>7.4033451882883</td>\n",
       "      <td>358.0</td>\n",
       "      <td>198.95510697112056</td>\n",
       "      <td>44.42594777343002</td>\n",
       "    </tr>\n",
       "    <tr>\n",
       "      <th>...</th>\n",
       "      <td>...</td>\n",
       "      <td>...</td>\n",
       "      <td>...</td>\n",
       "      <td>...</td>\n",
       "      <td>...</td>\n",
       "      <td>...</td>\n",
       "      <td>...</td>\n",
       "    </tr>\n",
       "    <tr>\n",
       "      <th>0</th>\n",
       "      <td>NGAICWGPCPTAFRQIGNCGHFKVRCCKIR</td>\n",
       "      <td>15.977030210679716</td>\n",
       "      <td>10.553818406404428</td>\n",
       "      <td>33.943803903244714</td>\n",
       "      <td>0.11515</td>\n",
       "      <td>26.093654223293864</td>\n",
       "      <td>22560.57683308195</td>\n",
       "    </tr>\n",
       "    <tr>\n",
       "      <th>0</th>\n",
       "      <td>CFPYITRPGTYHDWWYTRKNRQ</td>\n",
       "      <td>15.01948336229021</td>\n",
       "      <td>10.724004622229177</td>\n",
       "      <td>28.599377464911992</td>\n",
       "      <td>0.3</td>\n",
       "      <td>22.010198975629336</td>\n",
       "      <td>7236.732991876446</td>\n",
       "    </tr>\n",
       "    <tr>\n",
       "      <th>0</th>\n",
       "      <td>YTSLIHSLIEESQNQQEKNEQELLELDKWASLWNWF</td>\n",
       "      <td>18.297578546818382</td>\n",
       "      <td>18.457412218008546</td>\n",
       "      <td>0.8735236238018826</td>\n",
       "      <td>0.011309999999999999</td>\n",
       "      <td>0.00963934942139448</td>\n",
       "      <td>14.771446318351183</td>\n",
       "    </tr>\n",
       "    <tr>\n",
       "      <th>0</th>\n",
       "      <td>GTNLSVPNPLGFFPDHQLDPAFGANSNNPDWDFNPNKDHWPEANKVG</td>\n",
       "      <td>23.248994481254666</td>\n",
       "      <td>9.148700525918901</td>\n",
       "      <td>60.649048571561366</td>\n",
       "      <td>8e-05</td>\n",
       "      <td>106.35792234901294</td>\n",
       "      <td>132947302.93626615</td>\n",
       "    </tr>\n",
       "    <tr>\n",
       "      <th>0</th>\n",
       "      <td>SWETWEREIENYTRQIYRILEESQEQQDRNERDLLE</td>\n",
       "      <td>20.030118656386467</td>\n",
       "      <td>17.70357716392961</td>\n",
       "      <td>11.615215727716402</td>\n",
       "      <td>0.002</td>\n",
       "      <td>0.020484913185122036</td>\n",
       "      <td>924.2456592561017</td>\n",
       "    </tr>\n",
       "  </tbody>\n",
       "</table>\n",
       "<p>712 rows × 7 columns</p>\n",
       "</div>"
      ],
      "text/plain": [
       "                                           Sequence               pIC50  \\\n",
       "0                                 AAQRRGRVGRNPNQVGD   7.724200675886576   \n",
       "0                                      HRILARIRQMMT   7.739015761671717   \n",
       "0                                          RNPSQVGD   7.867475568783628   \n",
       "0                                       RVGRNPNQVGD   7.891254760549742   \n",
       "0                                 AAQRRGRIGRNPSQVGD   7.934977571563574   \n",
       "..                                              ...                 ...   \n",
       "0                    NGAICWGPCPTAFRQIGNCGHFKVRCCKIR  15.977030210679716   \n",
       "0                            CFPYITRPGTYHDWWYTRKNRQ   15.01948336229021   \n",
       "0              YTSLIHSLIEESQNQQEKNEQELLELDKWASLWNWF  18.297578546818382   \n",
       "0   GTNLSVPNPLGFFPDHQLDPAFGANSNNPDWDFNPNKDHWPEANKVG  23.248994481254666   \n",
       "0              SWETWEREIENYTRQIYRILEESQEQQDRNERDLLE  20.030118656386467   \n",
       "\n",
       "           y_pred_pmic            ape_pmic                   MIC  \\\n",
       "0    8.361462550658148    8.25019832486975                 442.0   \n",
       "0   10.700061011396127  38.261263976089765                 435.5   \n",
       "0   10.539424188172246   33.96195636107608                 383.0   \n",
       "0    8.069194411724098   2.254896801252929                 374.0   \n",
       "0    8.522431351799682     7.4033451882883                 358.0   \n",
       "..                 ...                 ...                   ...   \n",
       "0   10.553818406404428  33.943803903244714               0.11515   \n",
       "0   10.724004622229177  28.599377464911992                   0.3   \n",
       "0   18.457412218008546  0.8735236238018826  0.011309999999999999   \n",
       "0    9.148700525918901  60.649048571561366                 8e-05   \n",
       "0    17.70357716392961  11.615215727716402                 0.002   \n",
       "\n",
       "              y_pred_mic             ape_mic  \n",
       "0      233.7022822695631    47.1261804819993  \n",
       "0     22.543562457034202   94.82352182387274  \n",
       "0      26.47196821171925   93.08825895255373  \n",
       "0      313.0353571309643  16.300706649474783  \n",
       "0     198.95510697112056   44.42594777343002  \n",
       "..                   ...                 ...  \n",
       "0     26.093654223293864   22560.57683308195  \n",
       "0     22.010198975629336   7236.732991876446  \n",
       "0    0.00963934942139448  14.771446318351183  \n",
       "0     106.35792234901294  132947302.93626615  \n",
       "0   0.020484913185122036   924.2456592561017  \n",
       "\n",
       "[712 rows x 7 columns]"
      ]
     },
     "execution_count": 313,
     "metadata": {},
     "output_type": "execute_result"
    }
   ],
   "source": [
    "result_df#.to_csv(\"../results/SVM_pMIC_to_MIC_rbf_c_100_gamma_3.csv\", index=False)"
   ]
  },
  {
   "cell_type": "code",
   "execution_count": 314,
   "id": "infrared-modification",
   "metadata": {},
   "outputs": [
    {
     "data": {
      "text/plain": [
       "13.52937840632643"
      ]
     },
     "execution_count": 314,
     "metadata": {},
     "output_type": "execute_result"
    }
   ],
   "source": [
    "result_df['ape_pmic'].astype('float').mean()"
   ]
  },
  {
   "cell_type": "code",
   "execution_count": 315,
   "id": "smart-characteristic",
   "metadata": {},
   "outputs": [
    {
     "data": {
      "text/plain": [
       "306137.2650944941"
      ]
     },
     "execution_count": 315,
     "metadata": {},
     "output_type": "execute_result"
    }
   ],
   "source": [
    "result_df['ape_mic'].astype('float').mean()"
   ]
  },
  {
   "cell_type": "code",
   "execution_count": null,
   "id": "waiting-marketing",
   "metadata": {},
   "outputs": [],
   "source": []
  },
  {
   "cell_type": "code",
   "execution_count": null,
   "id": "compatible-developer",
   "metadata": {},
   "outputs": [],
   "source": []
  },
  {
   "cell_type": "code",
   "execution_count": 213,
   "id": "absent-resident",
   "metadata": {},
   "outputs": [
    {
     "data": {
      "text/plain": [
       "<seaborn.axisgrid.FacetGrid at 0x1a28620048>"
      ]
     },
     "execution_count": 213,
     "metadata": {},
     "output_type": "execute_result"
    },
    {
     "data": {
      "image/png": "[encoded data removed]",
      "text/plain": [
       "<Figure size 360x360 with 1 Axes>"
      ]
     },
     "metadata": {
      "needs_background": "light"
     },
     "output_type": "display_data"
    }
   ],
   "source": [
    "sns.relplot(x=y_pred_pmic, y=(y_test_pmic-y_pred_pmic))"
   ]
  },
  {
   "cell_type": "code",
   "execution_count": 216,
   "id": "subsequent-cambodia",
   "metadata": {},
   "outputs": [
    {
     "data": {
      "text/plain": [
       "<seaborn.axisgrid.FacetGrid at 0x1a2673dc88>"
      ]
     },
     "execution_count": 216,
     "metadata": {},
     "output_type": "execute_result"
    },
    {
     "data": {
      "image/png": "[encoded data removed]",
      "text/plain": [
       "<Figure size 360x360 with 1 Axes>"
      ]
     },
     "metadata": {
      "needs_background": "light"
     },
     "output_type": "display_data"
    }
   ],
   "source": [
    "sns.relplot(x=y_pred_mic, y=(y_test_mic-y_pred_mic))"
   ]
  },
  {
   "cell_type": "code",
   "execution_count": 142,
   "id": "fiscal-northeast",
   "metadata": {},
   "outputs": [],
   "source": [
    "import matplotlib.pyplot as plt"
   ]
  },
  {
   "cell_type": "code",
   "execution_count": 217,
   "id": "correct-hollywood",
   "metadata": {},
   "outputs": [
    {
     "data": {
      "text/plain": [
       "(array([105.,  12.,  11.,   6.,   2.,   2.,   2.,   0.,   2.,   1.]),\n",
       " array([3.70000000e-06, 3.83000033e+01, 7.66000030e+01, 1.14900003e+02,\n",
       "        1.53200002e+02, 1.91500002e+02, 2.29800001e+02, 2.68100001e+02,\n",
       "        3.06400001e+02, 3.44700000e+02, 3.83000000e+02]),\n",
       " <a list of 10 Patch objects>)"
      ]
     },
     "execution_count": 217,
     "metadata": {},
     "output_type": "execute_result"
    },
    {
     "data": {
      "image/png": "[encoded data removed]",
      "text/plain": [
       "<Figure size 432x288 with 1 Axes>"
      ]
     },
     "metadata": {
      "needs_background": "light"
     },
     "output_type": "display_data"
    }
   ],
   "source": [
    "plt.hist(y_pred_mic, alpha=0.5)\n",
    "plt.hist(y_test_mic, alpha=0.5)"
   ]
  },
  {
   "cell_type": "code",
   "execution_count": 316,
   "id": "mounted-evening",
   "metadata": {},
   "outputs": [],
   "source": [
    "params2 = ['molecular_weight', 'aromaticity', 'instability_index',\n",
    "          'isoelectric_point', 'helix', 'turn', 'sheet', 'with_reduced_cysteines',\n",
    "          'with_disulfid_bridges', 'gravy', 'net_charge_at_pH7point4']"
   ]
  },
  {
   "cell_type": "code",
   "execution_count": 317,
   "id": "suburban-coalition",
   "metadata": {},
   "outputs": [],
   "source": [
    "prop2 = []\n",
    "for seq in df.Sequence:\n",
    "    X = ProteinAnalysis(seq)\n",
    "    molecular_weight = X.molecular_weight()\n",
    "    aromaticity = X.aromaticity()\n",
    "    instability_index = X.instability_index()\n",
    "    isoelectric_point = X.isoelectric_point()\n",
    "    sec_struc = X.secondary_structure_fraction()\n",
    "    helix = sec_struc[0]\n",
    "    turn = sec_struc[1]\n",
    "    sheet = sec_struc[2]\n",
    "    epsilon_prot = X.molar_extinction_coefficient()\n",
    "    with_reduced_cysteines = epsilon_prot[0]\n",
    "    with_disulfid_bridges = epsilon_prot[1]\n",
    "    gravy = X.gravy() # hydrophobicity related\n",
    "    # flexibility = X.flexibility()\n",
    "    # X.protein_scale()\n",
    "    net_charge_at_pH7point4 = X.charge_at_pH(7.4)\n",
    "\n",
    "    prop2.append([seq, molecular_weight, aromaticity, instability_index, isoelectric_point, helix, turn, sheet,\n",
    "                 with_reduced_cysteines, with_disulfid_bridges, gravy, net_charge_at_pH7point4])\n",
    "prop2 = pd.DataFrame(prop2, columns=[\"Sequence\"]+params2)"
   ]
  },
  {
   "cell_type": "code",
   "execution_count": null,
   "id": "aging-award",
   "metadata": {},
   "outputs": [],
   "source": []
  },
  {
   "cell_type": "code",
   "execution_count": 318,
   "id": "textile-allen",
   "metadata": {},
   "outputs": [],
   "source": [
    "merged_res = prop2.merge(result_df,on=['Sequence'],how='left')#.to_csv(\"../results/SVM_pMIC_to_MIC_rbf_c_100_gamma_3.csv\", index=False)"
   ]
  },
  {
   "cell_type": "code",
   "execution_count": 319,
   "id": "immune-intake",
   "metadata": {},
   "outputs": [],
   "source": [
    "pd.concat([merged_res, freq], axis=1)[['Sequence', 'AA_Frequence', 'molecular_weight', 'aromaticity', 'instability_index',\n",
    "       'isoelectric_point', 'helix', 'turn', 'sheet', 'with_reduced_cysteines',\n",
    "       'with_disulfid_bridges', 'gravy', 'net_charge_at_pH7point4', 'pIC50',\n",
    "       'y_pred_pmic', 'ape_pmic', 'MIC', 'y_pred_mic', 'ape_mic']].to_csv(\"../results/SVM_pMIC_to_MIC_rbf_c_100_gamma_3.csv\", index=False)"
   ]
  },
  {
   "cell_type": "code",
   "execution_count": null,
   "id": "stylish-fisher",
   "metadata": {},
   "outputs": [],
   "source": []
  },
  {
   "cell_type": "code",
   "execution_count": null,
   "id": "premier-senior",
   "metadata": {},
   "outputs": [],
   "source": []
  },
  {
   "cell_type": "code",
   "execution_count": null,
   "id": "stainless-custom",
   "metadata": {},
   "outputs": [],
   "source": []
  },
  {
   "cell_type": "markdown",
   "id": "tested-thursday",
   "metadata": {},
   "source": [
    "### Test with external sequence from https://www.biorxiv.org/content/10.1101/2021.04.07.438720v1.full.pdf"
   ]
  },
  {
   "cell_type": "code",
   "execution_count": 25,
   "id": "greatest-values",
   "metadata": {},
   "outputs": [],
   "source": [
    "test = pd.DataFrame([['AAAAAAAAAAGIGKFLHSAKKFGKAFVGEIMNS', 2.09995035],\n",
    "                     ['AAGMGFFGAR', 1.108873537],\n",
    "                     ['AEVAPAPAAAAPAKAPKKKAAAKPKKAGPS', 0.301029996],\n",
    "                     ['AGLQFPVGRIGRLLRK', 0.799340549]], columns=[\"Sequence\", \"logMIC\"])"
   ]
  },
  {
   "cell_type": "code",
   "execution_count": 26,
   "id": "martial-ecology",
   "metadata": {},
   "outputs": [
    {
     "data": {
      "text/plain": [
       "'AGLQFPVGRIGRLLRK'"
      ]
     },
     "execution_count": 26,
     "metadata": {},
     "output_type": "execute_result"
    }
   ],
   "source": [
    "\"A G L Q F P V G R I G R L L R K\".replace(\" \", \"\")"
   ]
  },
  {
   "cell_type": "code",
   "execution_count": 27,
   "id": "floppy-conditioning",
   "metadata": {},
   "outputs": [
    {
     "data": {
      "text/html": [
       "<div>\n",
       "<style scoped>\n",
       "    .dataframe tbody tr th:only-of-type {\n",
       "        vertical-align: middle;\n",
       "    }\n",
       "\n",
       "    .dataframe tbody tr th {\n",
       "        vertical-align: top;\n",
       "    }\n",
       "\n",
       "    .dataframe thead th {\n",
       "        text-align: right;\n",
       "    }\n",
       "</style>\n",
       "<table border=\"1\" class=\"dataframe\">\n",
       "  <thead>\n",
       "    <tr style=\"text-align: right;\">\n",
       "      <th></th>\n",
       "      <th>Sequence</th>\n",
       "      <th>logMIC</th>\n",
       "    </tr>\n",
       "  </thead>\n",
       "  <tbody>\n",
       "    <tr>\n",
       "      <th>0</th>\n",
       "      <td>AAAAAAAAAAGIGKFLHSAKKFGKAFVGEIMNS</td>\n",
       "      <td>2.099950</td>\n",
       "    </tr>\n",
       "    <tr>\n",
       "      <th>1</th>\n",
       "      <td>AAGMGFFGAR</td>\n",
       "      <td>1.108874</td>\n",
       "    </tr>\n",
       "    <tr>\n",
       "      <th>2</th>\n",
       "      <td>AEVAPAPAAAAPAKAPKKKAAAKPKKAGPS</td>\n",
       "      <td>0.301030</td>\n",
       "    </tr>\n",
       "    <tr>\n",
       "      <th>3</th>\n",
       "      <td>AGLQFPVGRIGRLLRK</td>\n",
       "      <td>0.799341</td>\n",
       "    </tr>\n",
       "  </tbody>\n",
       "</table>\n",
       "</div>"
      ],
      "text/plain": [
       "                            Sequence    logMIC\n",
       "0  AAAAAAAAAAGIGKFLHSAKKFGKAFVGEIMNS  2.099950\n",
       "1                         AAGMGFFGAR  1.108874\n",
       "2     AEVAPAPAAAAPAKAPKKKAAAKPKKAGPS  0.301030\n",
       "3                   AGLQFPVGRIGRLLRK  0.799341"
      ]
     },
     "execution_count": 27,
     "metadata": {},
     "output_type": "execute_result"
    }
   ],
   "source": [
    "test"
   ]
  },
  {
   "cell_type": "code",
   "execution_count": 35,
   "id": "valued-white",
   "metadata": {},
   "outputs": [],
   "source": [
    "test_aa = reduce_by_kmer_frequency(test, kmer=1)"
   ]
  },
  {
   "cell_type": "code",
   "execution_count": 36,
   "id": "virtual-activity",
   "metadata": {},
   "outputs": [
    {
     "name": "stderr",
     "output_type": "stream",
     "text": [
      "/Users/in-divye.singh/anaconda3/envs/life-science/lib/python3.6/site-packages/smart_open/smart_open_lib.py:254: UserWarning: This function is deprecated, use smart_open.open instead. See the migration notes for details: https://github.com/RaRe-Technologies/smart_open/blob/master/README.rst#migrating-to-the-new-open-function\n",
      "  'See the migration notes for details: %s' % _MIGRATION_NOTES_URL\n",
      "Creating vectors: 100%|██████████| 4/4 [00:00<00:00, 863.38sequence/s]\n"
     ]
    }
   ],
   "source": [
    "uniprot_embedding = biovec.models.load_protvec(\"../data/embeddings/uniprot__kmer_3_contextWindow_10_vector_100_reduction_None\")\n",
    "\n",
    "test_protvec = convert_sequences_to_avg_vectors(test['Sequence'], uniprot_embedding, kmer=3)\n",
    "test_protvec = test_protvec.reset_index(drop=True)"
   ]
  },
  {
   "cell_type": "code",
   "execution_count": 37,
   "id": "prescribed-viking",
   "metadata": {},
   "outputs": [],
   "source": [
    "test_physicochemical_prop = get_physicochemical_properties(test)"
   ]
  },
  {
   "cell_type": "code",
   "execution_count": 39,
   "id": "czech-frequency",
   "metadata": {},
   "outputs": [],
   "source": [
    "test_X = pd.concat([test_aa, test_protvec, test_physicochemical_prop[['helix','turn','sheet']]], axis=1)"
   ]
  },
  {
   "cell_type": "code",
   "execution_count": 40,
   "id": "brief-buffer",
   "metadata": {},
   "outputs": [
    {
     "data": {
      "text/html": [
       "<div>\n",
       "<style scoped>\n",
       "    .dataframe tbody tr th:only-of-type {\n",
       "        vertical-align: middle;\n",
       "    }\n",
       "\n",
       "    .dataframe tbody tr th {\n",
       "        vertical-align: top;\n",
       "    }\n",
       "\n",
       "    .dataframe thead th {\n",
       "        text-align: right;\n",
       "    }\n",
       "</style>\n",
       "<table border=\"1\" class=\"dataframe\">\n",
       "  <thead>\n",
       "    <tr style=\"text-align: right;\">\n",
       "      <th></th>\n",
       "      <th>A</th>\n",
       "      <th>C</th>\n",
       "      <th>D</th>\n",
       "      <th>E</th>\n",
       "      <th>F</th>\n",
       "      <th>G</th>\n",
       "      <th>H</th>\n",
       "      <th>I</th>\n",
       "      <th>K</th>\n",
       "      <th>L</th>\n",
       "      <th>...</th>\n",
       "      <th>93</th>\n",
       "      <th>94</th>\n",
       "      <th>95</th>\n",
       "      <th>96</th>\n",
       "      <th>97</th>\n",
       "      <th>98</th>\n",
       "      <th>99</th>\n",
       "      <th>helix</th>\n",
       "      <th>turn</th>\n",
       "      <th>sheet</th>\n",
       "    </tr>\n",
       "  </thead>\n",
       "  <tbody>\n",
       "    <tr>\n",
       "      <th>0</th>\n",
       "      <td>0.363636</td>\n",
       "      <td>0.0</td>\n",
       "      <td>0.0</td>\n",
       "      <td>0.030303</td>\n",
       "      <td>0.090909</td>\n",
       "      <td>0.121212</td>\n",
       "      <td>0.030303</td>\n",
       "      <td>0.060606</td>\n",
       "      <td>0.121212</td>\n",
       "      <td>0.030303</td>\n",
       "      <td>...</td>\n",
       "      <td>-0.050261</td>\n",
       "      <td>-0.035223</td>\n",
       "      <td>-0.007174</td>\n",
       "      <td>-0.017427</td>\n",
       "      <td>0.026892</td>\n",
       "      <td>0.042279</td>\n",
       "      <td>-0.029710</td>\n",
       "      <td>0.212121</td>\n",
       "      <td>0.212121</td>\n",
       "      <td>0.454545</td>\n",
       "    </tr>\n",
       "    <tr>\n",
       "      <th>1</th>\n",
       "      <td>0.300000</td>\n",
       "      <td>0.0</td>\n",
       "      <td>0.0</td>\n",
       "      <td>0.000000</td>\n",
       "      <td>0.200000</td>\n",
       "      <td>0.300000</td>\n",
       "      <td>0.000000</td>\n",
       "      <td>0.000000</td>\n",
       "      <td>0.000000</td>\n",
       "      <td>0.000000</td>\n",
       "      <td>...</td>\n",
       "      <td>0.016016</td>\n",
       "      <td>-0.092961</td>\n",
       "      <td>-0.038149</td>\n",
       "      <td>-0.127626</td>\n",
       "      <td>0.062860</td>\n",
       "      <td>0.090750</td>\n",
       "      <td>0.022793</td>\n",
       "      <td>0.200000</td>\n",
       "      <td>0.300000</td>\n",
       "      <td>0.400000</td>\n",
       "    </tr>\n",
       "    <tr>\n",
       "      <th>2</th>\n",
       "      <td>0.433333</td>\n",
       "      <td>0.0</td>\n",
       "      <td>0.0</td>\n",
       "      <td>0.033333</td>\n",
       "      <td>0.000000</td>\n",
       "      <td>0.033333</td>\n",
       "      <td>0.000000</td>\n",
       "      <td>0.000000</td>\n",
       "      <td>0.233333</td>\n",
       "      <td>0.000000</td>\n",
       "      <td>...</td>\n",
       "      <td>-0.046730</td>\n",
       "      <td>-0.018758</td>\n",
       "      <td>0.023030</td>\n",
       "      <td>-0.042691</td>\n",
       "      <td>0.049952</td>\n",
       "      <td>0.022467</td>\n",
       "      <td>-0.073138</td>\n",
       "      <td>0.033333</td>\n",
       "      <td>0.266667</td>\n",
       "      <td>0.466667</td>\n",
       "    </tr>\n",
       "    <tr>\n",
       "      <th>3</th>\n",
       "      <td>0.062500</td>\n",
       "      <td>0.0</td>\n",
       "      <td>0.0</td>\n",
       "      <td>0.000000</td>\n",
       "      <td>0.062500</td>\n",
       "      <td>0.187500</td>\n",
       "      <td>0.000000</td>\n",
       "      <td>0.062500</td>\n",
       "      <td>0.062500</td>\n",
       "      <td>0.187500</td>\n",
       "      <td>...</td>\n",
       "      <td>0.015827</td>\n",
       "      <td>-0.035545</td>\n",
       "      <td>-0.013302</td>\n",
       "      <td>-0.045987</td>\n",
       "      <td>-0.015051</td>\n",
       "      <td>0.049690</td>\n",
       "      <td>0.027801</td>\n",
       "      <td>0.375000</td>\n",
       "      <td>0.250000</td>\n",
       "      <td>0.250000</td>\n",
       "    </tr>\n",
       "  </tbody>\n",
       "</table>\n",
       "<p>4 rows × 123 columns</p>\n",
       "</div>"
      ],
      "text/plain": [
       "          A    C    D         E         F         G         H         I  \\\n",
       "0  0.363636  0.0  0.0  0.030303  0.090909  0.121212  0.030303  0.060606   \n",
       "1  0.300000  0.0  0.0  0.000000  0.200000  0.300000  0.000000  0.000000   \n",
       "2  0.433333  0.0  0.0  0.033333  0.000000  0.033333  0.000000  0.000000   \n",
       "3  0.062500  0.0  0.0  0.000000  0.062500  0.187500  0.000000  0.062500   \n",
       "\n",
       "          K         L  ...        93        94        95        96        97  \\\n",
       "0  0.121212  0.030303  ... -0.050261 -0.035223 -0.007174 -0.017427  0.026892   \n",
       "1  0.000000  0.000000  ...  0.016016 -0.092961 -0.038149 -0.127626  0.062860   \n",
       "2  0.233333  0.000000  ... -0.046730 -0.018758  0.023030 -0.042691  0.049952   \n",
       "3  0.062500  0.187500  ...  0.015827 -0.035545 -0.013302 -0.045987 -0.015051   \n",
       "\n",
       "         98        99     helix      turn     sheet  \n",
       "0  0.042279 -0.029710  0.212121  0.212121  0.454545  \n",
       "1  0.090750  0.022793  0.200000  0.300000  0.400000  \n",
       "2  0.022467 -0.073138  0.033333  0.266667  0.466667  \n",
       "3  0.049690  0.027801  0.375000  0.250000  0.250000  \n",
       "\n",
       "[4 rows x 123 columns]"
      ]
     },
     "execution_count": 40,
     "metadata": {},
     "output_type": "execute_result"
    }
   ],
   "source": [
    "test_X"
   ]
  },
  {
   "cell_type": "code",
   "execution_count": 41,
   "id": "expected-recall",
   "metadata": {},
   "outputs": [],
   "source": [
    "y_pred = svr.predict(test_X)"
   ]
  },
  {
   "cell_type": "code",
   "execution_count": 42,
   "id": "motivated-input",
   "metadata": {},
   "outputs": [
    {
     "data": {
      "text/plain": [
       "array([10.99643867, 12.2772363 , 11.59824915, 12.06680136])"
      ]
     },
     "execution_count": 42,
     "metadata": {},
     "output_type": "execute_result"
    }
   ],
   "source": [
    "y_pred"
   ]
  },
  {
   "cell_type": "code",
   "execution_count": 43,
   "id": "interim-lover",
   "metadata": {},
   "outputs": [],
   "source": [
    "y_pred_mic = np.exp(-y_pred)/1e-6"
   ]
  },
  {
   "cell_type": "code",
   "execution_count": 44,
   "id": "egyptian-parliament",
   "metadata": {},
   "outputs": [
    {
     "data": {
      "text/plain": [
       "array([16.76128712,  4.65654733,  9.18215024,  5.74717944])"
      ]
     },
     "execution_count": 44,
     "metadata": {},
     "output_type": "execute_result"
    }
   ],
   "source": [
    "y_pred_mic"
   ]
  },
  {
   "cell_type": "code",
   "execution_count": 45,
   "id": "mediterranean-female",
   "metadata": {},
   "outputs": [
    {
     "data": {
      "text/plain": [
       "array([2.81907189, 1.53827426, 2.21726141, 1.7487092 ])"
      ]
     },
     "execution_count": 45,
     "metadata": {},
     "output_type": "execute_result"
    }
   ],
   "source": [
    "np.log(y_pred_mic)"
   ]
  },
  {
   "cell_type": "code",
   "execution_count": 46,
   "id": "dynamic-panel",
   "metadata": {},
   "outputs": [
    {
     "data": {
      "text/plain": [
       "array([2.09995035, 1.10887354, 0.30103   , 0.79934055])"
      ]
     },
     "execution_count": 46,
     "metadata": {},
     "output_type": "execute_result"
    }
   ],
   "source": [
    "test['logMIC'].values"
   ]
  },
  {
   "cell_type": "code",
   "execution_count": null,
   "id": "expensive-tuner",
   "metadata": {},
   "outputs": [],
   "source": []
  }
 ],
 "metadata": {
  "kernelspec": {
   "display_name": "Python 3",
   "language": "python",
   "name": "python3"
  },
  "language_info": {
   "codemirror_mode": {
    "name": "ipython",
    "version": 3
   },
   "file_extension": ".py",
   "mimetype": "text/x-python",
   "name": "python",
   "nbconvert_exporter": "python",
   "pygments_lexer": "ipython3",
   "version": "3.6.10"
  },
  "varInspector": {
   "cols": {
    "lenName": 16,
    "lenType": 16,
    "lenVar": 40
   },
   "kernels_config": {
    "python": {
     "delete_cmd_postfix": "",
     "delete_cmd_prefix": "del ",
     "library": "var_list.py",
     "varRefreshCmd": "print(var_dic_list())"
    },
    "r": {
     "delete_cmd_postfix": ") ",
     "delete_cmd_prefix": "rm(",
     "library": "var_list.r",
     "varRefreshCmd": "cat(var_dic_list()) "
    }
   },
   "types_to_exclude": [
    "module",
    "function",
    "builtin_function_or_method",
    "instance",
    "_Feature"
   ],
   "window_display": false
  }
 },
 "nbformat": 4,
 "nbformat_minor": 5
}
