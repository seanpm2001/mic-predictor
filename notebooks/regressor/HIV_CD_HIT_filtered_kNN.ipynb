{
 "cells": [
  {
   "cell_type": "code",
   "execution_count": 1,
   "id": "mounted-roman",
   "metadata": {},
   "outputs": [
    {
     "name": "stdout",
     "output_type": "stream",
     "text": [
      "/Users/in-divye.singh/Documents/Projects/cd_hit_py\n"
     ]
    }
   ],
   "source": [
    "cd ../../../cd_hit_py/"
   ]
  },
  {
   "cell_type": "code",
   "execution_count": 2,
   "id": "intellectual-limitation",
   "metadata": {},
   "outputs": [],
   "source": [
    "from cd_hit import CD_HIT"
   ]
  },
  {
   "cell_type": "code",
   "execution_count": 3,
   "id": "acceptable-applicant",
   "metadata": {},
   "outputs": [
    {
     "name": "stdout",
     "output_type": "stream",
     "text": [
      "/Users/in-divye.singh/Documents/Projects/MIC_predictor/src\n"
     ]
    }
   ],
   "source": [
    "cd ../MIC_predictor/src/"
   ]
  },
  {
   "cell_type": "code",
   "execution_count": 4,
   "id": "stone-memory",
   "metadata": {},
   "outputs": [],
   "source": [
    "import biovec\n",
    "import numpy as np\n",
    "import pandas as pd\n",
    "from itertools import chain, combinations\n",
    "from collections import Counter\n",
    "\n",
    "from utils import *\n",
    "\n",
    "from sklearn.svm import SVR\n",
    "from sklearn.neighbors import KNeighborsRegressor\n",
    "from sklearn.metrics import make_scorer\n",
    "from sklearn.model_selection import GridSearchCV\n",
    "from sklearn.metrics import mean_squared_error, mean_absolute_error\n",
    "from sklearn.model_selection import train_test_split\n",
    "\n",
    "from Bio.SeqUtils.ProtParam import ProteinAnalysis"
   ]
  },
  {
   "cell_type": "code",
   "execution_count": 5,
   "id": "statewide-chain",
   "metadata": {},
   "outputs": [],
   "source": [
    "def mean_absolute_percentage_error(y_true, y_pred): \n",
    "    y_true, y_pred = np.array(y_true), np.array(y_pred)\n",
    "    return np.mean(np.abs((y_true - y_pred) / y_true)) * 100\n",
    "\n",
    "mape_scorer = make_scorer(mean_absolute_percentage_error, greater_is_better=False)"
   ]
  },
  {
   "cell_type": "code",
   "execution_count": 6,
   "id": "stuck-figure",
   "metadata": {},
   "outputs": [],
   "source": [
    "def pearson_score(y_true, y_pred):\n",
    "    pcc = pearsonr(y_true, y_pred)\n",
    "    return pcc[0]\n",
    "\n",
    "pcc_scorer = make_scorer(pearson_score)"
   ]
  },
  {
   "cell_type": "code",
   "execution_count": 7,
   "id": "bridal-barrel",
   "metadata": {},
   "outputs": [],
   "source": [
    "avp_ic50 = pd.read_csv(\"../data/raw/AVP-IC50Pred_train.csv\")\n",
    "ha_avp = pd.read_csv(\"../data/raw/HA_AVP.csv\")"
   ]
  },
  {
   "cell_type": "code",
   "execution_count": 8,
   "id": "protecting-beach",
   "metadata": {},
   "outputs": [],
   "source": [
    "df = pd.concat([avp_ic50[['Sequence','MIC']], ha_avp], axis=0).drop_duplicates(['Sequence']).reset_index(drop=True)\n",
    "df = sequence_filtering(df)"
   ]
  },
  {
   "cell_type": "code",
   "execution_count": 9,
   "id": "living-break",
   "metadata": {},
   "outputs": [],
   "source": [
    "df['pIC50'] = df['MIC'].apply(lambda x: -np.log(x*1e-6))"
   ]
  },
  {
   "cell_type": "code",
   "execution_count": 10,
   "id": "unlikely-recipient",
   "metadata": {},
   "outputs": [],
   "source": [
    "family = pd.read_csv(\"../data/raw/712pep_family.csv\")"
   ]
  },
  {
   "cell_type": "code",
   "execution_count": 11,
   "id": "middle-walnut",
   "metadata": {},
   "outputs": [],
   "source": [
    "hiv_cov_seq = family[(family['Abbreviation'] == \"HIV\")].reset_index(drop=True)"
   ]
  },
  {
   "cell_type": "code",
   "execution_count": 12,
   "id": "ranging-provincial",
   "metadata": {},
   "outputs": [
    {
     "data": {
      "text/html": [
       "<div>\n",
       "<style scoped>\n",
       "    .dataframe tbody tr th:only-of-type {\n",
       "        vertical-align: middle;\n",
       "    }\n",
       "\n",
       "    .dataframe tbody tr th {\n",
       "        vertical-align: top;\n",
       "    }\n",
       "\n",
       "    .dataframe thead th {\n",
       "        text-align: right;\n",
       "    }\n",
       "</style>\n",
       "<table border=\"1\" class=\"dataframe\">\n",
       "  <thead>\n",
       "    <tr style=\"text-align: right;\">\n",
       "      <th></th>\n",
       "      <th>Sequence</th>\n",
       "      <th>Abbreviation</th>\n",
       "      <th>Family</th>\n",
       "    </tr>\n",
       "  </thead>\n",
       "  <tbody>\n",
       "    <tr>\n",
       "      <th>0</th>\n",
       "      <td>ACWAAGIKQEF</td>\n",
       "      <td>HIV</td>\n",
       "      <td>Retroviridae</td>\n",
       "    </tr>\n",
       "    <tr>\n",
       "      <th>1</th>\n",
       "      <td>ACWGAGIKQEF</td>\n",
       "      <td>HIV</td>\n",
       "      <td>Retroviridae</td>\n",
       "    </tr>\n",
       "    <tr>\n",
       "      <th>2</th>\n",
       "      <td>ACWWAGIKAEF</td>\n",
       "      <td>HIV</td>\n",
       "      <td>Retroviridae</td>\n",
       "    </tr>\n",
       "    <tr>\n",
       "      <th>3</th>\n",
       "      <td>ACWWAGIKQAF</td>\n",
       "      <td>HIV</td>\n",
       "      <td>Retroviridae</td>\n",
       "    </tr>\n",
       "    <tr>\n",
       "      <th>4</th>\n",
       "      <td>ACWWAGIRQEF</td>\n",
       "      <td>HIV</td>\n",
       "      <td>Retroviridae</td>\n",
       "    </tr>\n",
       "    <tr>\n",
       "      <th>...</th>\n",
       "      <td>...</td>\n",
       "      <td>...</td>\n",
       "      <td>...</td>\n",
       "    </tr>\n",
       "    <tr>\n",
       "      <th>260</th>\n",
       "      <td>NMTWMEWDREINNYTSLIHSLIEESQNQQEKNEQEL</td>\n",
       "      <td>HIV</td>\n",
       "      <td>Retroviridae</td>\n",
       "    </tr>\n",
       "    <tr>\n",
       "      <th>261</th>\n",
       "      <td>QIWNNMTWMEWDREINNYTSLIHSLIEESQNQQEKN</td>\n",
       "      <td>HIV</td>\n",
       "      <td>Retroviridae</td>\n",
       "    </tr>\n",
       "    <tr>\n",
       "      <th>262</th>\n",
       "      <td>SLIHSLIEESQNQQEKNEQELLELDKWASLWNWFNI</td>\n",
       "      <td>HIV</td>\n",
       "      <td>Retroviridae</td>\n",
       "    </tr>\n",
       "    <tr>\n",
       "      <th>263</th>\n",
       "      <td>YTSLIHSLIEEGQNQQEKNEQELLELDKWASLWNWF</td>\n",
       "      <td>HIV</td>\n",
       "      <td>Retroviridae</td>\n",
       "    </tr>\n",
       "    <tr>\n",
       "      <th>264</th>\n",
       "      <td>YTSLIQSLIEESQNQQEKNEQQLLELDKWASLWNWF</td>\n",
       "      <td>HIV</td>\n",
       "      <td>Retroviridae</td>\n",
       "    </tr>\n",
       "  </tbody>\n",
       "</table>\n",
       "<p>265 rows × 3 columns</p>\n",
       "</div>"
      ],
      "text/plain": [
       "                                 Sequence Abbreviation        Family\n",
       "0                             ACWAAGIKQEF          HIV  Retroviridae\n",
       "1                             ACWGAGIKQEF          HIV  Retroviridae\n",
       "2                             ACWWAGIKAEF          HIV  Retroviridae\n",
       "3                             ACWWAGIKQAF          HIV  Retroviridae\n",
       "4                             ACWWAGIRQEF          HIV  Retroviridae\n",
       "..                                    ...          ...           ...\n",
       "260  NMTWMEWDREINNYTSLIHSLIEESQNQQEKNEQEL          HIV  Retroviridae\n",
       "261  QIWNNMTWMEWDREINNYTSLIHSLIEESQNQQEKN          HIV  Retroviridae\n",
       "262  SLIHSLIEESQNQQEKNEQELLELDKWASLWNWFNI          HIV  Retroviridae\n",
       "263  YTSLIHSLIEEGQNQQEKNEQELLELDKWASLWNWF          HIV  Retroviridae\n",
       "264  YTSLIQSLIEESQNQQEKNEQQLLELDKWASLWNWF          HIV  Retroviridae\n",
       "\n",
       "[265 rows x 3 columns]"
      ]
     },
     "execution_count": 12,
     "metadata": {},
     "output_type": "execute_result"
    }
   ],
   "source": [
    "hiv_cov_seq"
   ]
  },
  {
   "cell_type": "code",
   "execution_count": 13,
   "id": "acting-property",
   "metadata": {},
   "outputs": [],
   "source": [
    "header = [\"seq_\"+str(i) for i in range(len(hiv_cov_seq['Sequence']))]"
   ]
  },
  {
   "cell_type": "code",
   "execution_count": 14,
   "id": "tribal-output",
   "metadata": {},
   "outputs": [],
   "source": [
    "seq = hiv_cov_seq['Sequence'].to_list()"
   ]
  },
  {
   "cell_type": "code",
   "execution_count": 19,
   "id": "bigger-lottery",
   "metadata": {},
   "outputs": [],
   "source": [
    "cdhit = CD_HIT()"
   ]
  },
  {
   "cell_type": "code",
   "execution_count": 21,
   "id": "egyptian-jacksonville",
   "metadata": {},
   "outputs": [],
   "source": [
    "header_filtered, seq_filterted = cdhit.from_list(seq_lst = seq, header_lst=header,threshold=0.9)"
   ]
  },
  {
   "cell_type": "code",
   "execution_count": 22,
   "id": "synthetic-hamburg",
   "metadata": {},
   "outputs": [],
   "source": [
    "filtered_seq = pd.DataFrame(seq_filterted, columns=['Sequence'])"
   ]
  },
  {
   "cell_type": "code",
   "execution_count": 24,
   "id": "confident-baghdad",
   "metadata": {},
   "outputs": [],
   "source": [
    "df_hiv_cdhit_filtered = df.merge(filtered_seq,how='right',on='Sequence').reset_index(drop=True)"
   ]
  },
  {
   "cell_type": "code",
   "execution_count": 135,
   "id": "common-stand",
   "metadata": {},
   "outputs": [
    {
     "data": {
      "text/html": [
       "<div>\n",
       "<style scoped>\n",
       "    .dataframe tbody tr th:only-of-type {\n",
       "        vertical-align: middle;\n",
       "    }\n",
       "\n",
       "    .dataframe tbody tr th {\n",
       "        vertical-align: top;\n",
       "    }\n",
       "\n",
       "    .dataframe thead th {\n",
       "        text-align: right;\n",
       "    }\n",
       "</style>\n",
       "<table border=\"1\" class=\"dataframe\">\n",
       "  <thead>\n",
       "    <tr style=\"text-align: right;\">\n",
       "      <th></th>\n",
       "      <th>Sequence</th>\n",
       "      <th>MIC</th>\n",
       "      <th>pIC50</th>\n",
       "    </tr>\n",
       "  </thead>\n",
       "  <tbody>\n",
       "    <tr>\n",
       "      <th>0</th>\n",
       "      <td>ACWAAGIKQEF</td>\n",
       "      <td>333.000</td>\n",
       "      <td>8.007368</td>\n",
       "    </tr>\n",
       "    <tr>\n",
       "      <th>1</th>\n",
       "      <td>ACWGAGIKQEF</td>\n",
       "      <td>333.000</td>\n",
       "      <td>8.007368</td>\n",
       "    </tr>\n",
       "    <tr>\n",
       "      <th>2</th>\n",
       "      <td>ACWWAGIKAEF</td>\n",
       "      <td>333.000</td>\n",
       "      <td>8.007368</td>\n",
       "    </tr>\n",
       "    <tr>\n",
       "      <th>3</th>\n",
       "      <td>ACWWAGIKQAF</td>\n",
       "      <td>333.000</td>\n",
       "      <td>8.007368</td>\n",
       "    </tr>\n",
       "    <tr>\n",
       "      <th>4</th>\n",
       "      <td>ACWWAGIRQEF</td>\n",
       "      <td>333.000</td>\n",
       "      <td>8.007368</td>\n",
       "    </tr>\n",
       "    <tr>\n",
       "      <th>...</th>\n",
       "      <td>...</td>\n",
       "      <td>...</td>\n",
       "      <td>...</td>\n",
       "    </tr>\n",
       "    <tr>\n",
       "      <th>148</th>\n",
       "      <td>VWGIKQLQARILAVERYLKDQQLLGIWG</td>\n",
       "      <td>0.020</td>\n",
       "      <td>17.727534</td>\n",
       "    </tr>\n",
       "    <tr>\n",
       "      <th>149</th>\n",
       "      <td>MTWMEWDREINNYTSLIHSLIEESQNQQEKNEQELLEL</td>\n",
       "      <td>0.008</td>\n",
       "      <td>18.643824</td>\n",
       "    </tr>\n",
       "    <tr>\n",
       "      <th>150</th>\n",
       "      <td>MTWEAWDRAIAEYAARIEALIRAAQEQQEKNEAALREL</td>\n",
       "      <td>0.007</td>\n",
       "      <td>18.777356</td>\n",
       "    </tr>\n",
       "    <tr>\n",
       "      <th>151</th>\n",
       "      <td>TTWEEWDREINEYTSRIESLIRESQEQQEKNEQELREL</td>\n",
       "      <td>0.005</td>\n",
       "      <td>19.113828</td>\n",
       "    </tr>\n",
       "    <tr>\n",
       "      <th>152</th>\n",
       "      <td>WEEWDKKIEEYTKKIEELIKKSEEQQKN</td>\n",
       "      <td>0.002</td>\n",
       "      <td>20.030119</td>\n",
       "    </tr>\n",
       "  </tbody>\n",
       "</table>\n",
       "<p>153 rows × 3 columns</p>\n",
       "</div>"
      ],
      "text/plain": [
       "                                   Sequence      MIC      pIC50\n",
       "0                               ACWAAGIKQEF  333.000   8.007368\n",
       "1                               ACWGAGIKQEF  333.000   8.007368\n",
       "2                               ACWWAGIKAEF  333.000   8.007368\n",
       "3                               ACWWAGIKQAF  333.000   8.007368\n",
       "4                               ACWWAGIRQEF  333.000   8.007368\n",
       "..                                      ...      ...        ...\n",
       "148            VWGIKQLQARILAVERYLKDQQLLGIWG    0.020  17.727534\n",
       "149  MTWMEWDREINNYTSLIHSLIEESQNQQEKNEQELLEL    0.008  18.643824\n",
       "150  MTWEAWDRAIAEYAARIEALIRAAQEQQEKNEAALREL    0.007  18.777356\n",
       "151  TTWEEWDREINEYTSRIESLIRESQEQQEKNEQELREL    0.005  19.113828\n",
       "152            WEEWDKKIEEYTKKIEELIKKSEEQQKN    0.002  20.030119\n",
       "\n",
       "[153 rows x 3 columns]"
      ]
     },
     "execution_count": 135,
     "metadata": {},
     "output_type": "execute_result"
    }
   ],
   "source": [
    "df_hiv_cdhit_filtered#.to_csv(\"../data/raw/hiv_cdhit_filtered.csv\", index=False)"
   ]
  },
  {
   "cell_type": "code",
   "execution_count": 26,
   "id": "fatty-corruption",
   "metadata": {},
   "outputs": [],
   "source": [
    "def get_physicochemical_properties(df):\n",
    "    params = ['aromaticity', 'helix', 'turn', 'sheet', 'gravy', 'net_charge_at_pH7point4']\n",
    "\n",
    "    prop = []\n",
    "    for seq in df.Sequence:\n",
    "        X = ProteinAnalysis(seq)\n",
    "        aromaticity = X.aromaticity()\n",
    "        sec_struc = X.secondary_structure_fraction()\n",
    "        helix = sec_struc[0]\n",
    "        turn = sec_struc[1]\n",
    "        sheet = sec_struc[2]\n",
    "        gravy = X.gravy() # hydrophobicity related\n",
    "        net_charge_at_pH7point4 = X.charge_at_pH(7.4)\n",
    "\n",
    "        prop.append([aromaticity, helix, turn, sheet, gravy, net_charge_at_pH7point4])\n",
    "    return pd.DataFrame(prop, columns=params)"
   ]
  },
  {
   "cell_type": "code",
   "execution_count": 27,
   "id": "growing-louis",
   "metadata": {},
   "outputs": [],
   "source": [
    "aa_freq = reduce_by_kmer_frequency(df_hiv_cdhit_filtered)"
   ]
  },
  {
   "cell_type": "code",
   "execution_count": 28,
   "id": "central-agency",
   "metadata": {},
   "outputs": [
    {
     "name": "stderr",
     "output_type": "stream",
     "text": [
      "/Users/in-divye.singh/anaconda3/envs/life-science/lib/python3.6/site-packages/smart_open/smart_open_lib.py:254: UserWarning: This function is deprecated, use smart_open.open instead. See the migration notes for details: https://github.com/RaRe-Technologies/smart_open/blob/master/README.rst#migrating-to-the-new-open-function\n",
      "  'See the migration notes for details: %s' % _MIGRATION_NOTES_URL\n",
      "Creating vectors: 100%|██████████| 153/153 [00:00<00:00, 1102.45sequence/s]\n"
     ]
    }
   ],
   "source": [
    "uniprot_embedding = biovec.models.load_protvec(\"../data/embeddings/uniprot__kmer_3_contextWindow_10_vector_100_reduction_None\")\n",
    "\n",
    "avg_protvec = convert_sequences_to_avg_vectors(df_hiv_cdhit_filtered['Sequence'], uniprot_embedding, kmer=3)\n",
    "avg_protvec = avg_protvec.reset_index(drop=True)"
   ]
  },
  {
   "cell_type": "code",
   "execution_count": 29,
   "id": "stylish-theory",
   "metadata": {},
   "outputs": [],
   "source": [
    "physicochemical_prop = get_physicochemical_properties(df_hiv_cdhit_filtered)"
   ]
  },
  {
   "cell_type": "code",
   "execution_count": 30,
   "id": "cardiac-belarus",
   "metadata": {},
   "outputs": [],
   "source": [
    "X = pd.concat([aa_freq, avg_protvec, physicochemical_prop[['helix','turn','sheet']]], axis=1)"
   ]
  },
  {
   "cell_type": "code",
   "execution_count": 31,
   "id": "precious-secretariat",
   "metadata": {},
   "outputs": [],
   "source": [
    "y = df_hiv_cdhit_filtered[['pIC50', 'MIC']]"
   ]
  },
  {
   "cell_type": "code",
   "execution_count": 75,
   "id": "worth-endorsement",
   "metadata": {},
   "outputs": [],
   "source": [
    "X_train, X_test, y_train, y_test = train_test_split(X, y, test_size=0.2, random_state=42)"
   ]
  },
  {
   "cell_type": "code",
   "execution_count": 76,
   "id": "known-seating",
   "metadata": {},
   "outputs": [],
   "source": [
    "y_train_pmic, y_train_mic = y_train['pIC50'], y_train['MIC']\n",
    "y_test_pmic, y_test_mic = y_test['pIC50'], y_test['MIC']"
   ]
  },
  {
   "cell_type": "code",
   "execution_count": 34,
   "id": "pursuant-halloween",
   "metadata": {},
   "outputs": [],
   "source": [
    "from sklearn.model_selection import cross_val_score, GridSearchCV, LeaveOneOut"
   ]
  },
  {
   "cell_type": "code",
   "execution_count": 92,
   "id": "analyzed-asset",
   "metadata": {},
   "outputs": [],
   "source": [
    "def multi_objective_score(y_true, y_pred):\n",
    "    mape = mean_absolute_percentage_error(y_true, y_pred)\n",
    "    pcc = pearson_score(y_true, y_pred)\n",
    "    return mape - 10*pcc\n",
    "multi_objective_scorer = make_scorer(multi_objective_score, greater_is_better=False)"
   ]
  },
  {
   "cell_type": "code",
   "execution_count": 117,
   "id": "third-nicaragua",
   "metadata": {},
   "outputs": [],
   "source": [
    "max_n_neighbors = int(np.sqrt(X_train.shape[0]))\n",
    "param_grid = {\n",
    "    'n_neighbors': range(1, max_n_neighbors),\n",
    "    'weights': ['uniform', 'distance'],\n",
    "    'metric': [\"euclidean\", \"manhattan\", \"chebyshev\"]\n",
    "}\n",
    "knn = KNeighborsRegressor()\n",
    "# Instantiate the grid search model\n",
    "grid_search = GridSearchCV(estimator = knn, param_grid = param_grid, \n",
    "                          cv = 5, n_jobs = -1, verbose = 2, scoring=pcc_scorer)"
   ]
  },
  {
   "cell_type": "code",
   "execution_count": 118,
   "id": "promotional-spider",
   "metadata": {
    "scrolled": false
   },
   "outputs": [
    {
     "name": "stdout",
     "output_type": "stream",
     "text": [
      "Fitting 5 folds for each of 60 candidates, totalling 300 fits\n"
     ]
    },
    {
     "name": "stderr",
     "output_type": "stream",
     "text": [
      "[Parallel(n_jobs=-1)]: Using backend LokyBackend with 12 concurrent workers.\n",
      "[Parallel(n_jobs=-1)]: Done  17 tasks      | elapsed:    0.1s\n",
      "[Parallel(n_jobs=-1)]: Done 300 out of 300 | elapsed:    0.7s finished\n"
     ]
    },
    {
     "data": {
      "text/plain": [
       "GridSearchCV(cv=5, estimator=KNeighborsRegressor(), n_jobs=-1,\n",
       "             param_grid={'metric': ['euclidean', 'manhattan', 'chebyshev'],\n",
       "                         'n_neighbors': range(1, 11),\n",
       "                         'weights': ['uniform', 'distance']},\n",
       "             scoring=make_scorer(pearson_score), verbose=2)"
      ]
     },
     "execution_count": 118,
     "metadata": {},
     "output_type": "execute_result"
    }
   ],
   "source": [
    "grid_search.fit(X_train, y_train_pmic)"
   ]
  },
  {
   "cell_type": "code",
   "execution_count": 119,
   "id": "armed-timeline",
   "metadata": {},
   "outputs": [
    {
     "data": {
      "text/plain": [
       "{'metric': 'manhattan', 'n_neighbors': 4, 'weights': 'distance'}"
      ]
     },
     "execution_count": 119,
     "metadata": {},
     "output_type": "execute_result"
    }
   ],
   "source": [
    "grid_search.best_params_"
   ]
  },
  {
   "cell_type": "code",
   "execution_count": 120,
   "id": "taken-finnish",
   "metadata": {},
   "outputs": [],
   "source": [
    "best_grid = grid_search.best_estimator_"
   ]
  },
  {
   "cell_type": "code",
   "execution_count": 121,
   "id": "assigned-pastor",
   "metadata": {},
   "outputs": [],
   "source": [
    "y_pred_pmic = best_grid.predict(X_test)"
   ]
  },
  {
   "cell_type": "code",
   "execution_count": 122,
   "id": "internal-parks",
   "metadata": {},
   "outputs": [
    {
     "data": {
      "text/plain": [
       "17.88702629952539"
      ]
     },
     "execution_count": 122,
     "metadata": {},
     "output_type": "execute_result"
    }
   ],
   "source": [
    "mean_absolute_percentage_error(y_test_pmic, y_pred_pmic)"
   ]
  },
  {
   "cell_type": "code",
   "execution_count": 123,
   "id": "durable-funeral",
   "metadata": {},
   "outputs": [],
   "source": [
    "y_pred_mic = np.exp(-y_pred_pmic)/1e-6"
   ]
  },
  {
   "cell_type": "code",
   "execution_count": 124,
   "id": "available-primary",
   "metadata": {},
   "outputs": [],
   "source": [
    "ape_mic = 100*np.abs(y_test_mic-y_pred_mic)/y_test_mic"
   ]
  },
  {
   "cell_type": "code",
   "execution_count": 125,
   "id": "collected-biography",
   "metadata": {},
   "outputs": [
    {
     "data": {
      "text/plain": [
       "155.42735334294008"
      ]
     },
     "execution_count": 125,
     "metadata": {},
     "output_type": "execute_result"
    }
   ],
   "source": [
    "mean_absolute_percentage_error(y_test_mic, y_pred_mic)"
   ]
  },
  {
   "cell_type": "code",
   "execution_count": 126,
   "id": "accepted-sunglasses",
   "metadata": {
    "scrolled": true
   },
   "outputs": [
    {
     "data": {
      "text/plain": [
       "0.5172681969937348"
      ]
     },
     "execution_count": 126,
     "metadata": {},
     "output_type": "execute_result"
    }
   ],
   "source": [
    "pearson_score(y_test_mic, y_pred_mic)"
   ]
  },
  {
   "cell_type": "code",
   "execution_count": 127,
   "id": "wireless-television",
   "metadata": {
    "collapsed": true
   },
   "outputs": [
    {
     "data": {
      "text/plain": [
       "[(11.0, 27.6149, 151.04493632395685),\n",
       " (10.81, 13.8738, 28.34221340870418),\n",
       " (6.0, 11.1908, 86.51337633125804),\n",
       " (2.0, 4.0281, 101.40269465116609),\n",
       " (100.0, 30.3824, 69.61759438185618),\n",
       " (2.02, 9.9288, 391.5254192387505),\n",
       " (12.72, 37.3416, 193.5661266868698),\n",
       " (11.4, 27.0059, 136.8939338300924),\n",
       " (142.0, 0.3191, 99.7752913732036),\n",
       " (187.0, 7.2177, 96.14027879963967),\n",
       " (136.0, 23.0699, 83.03683915017656),\n",
       " (200.0, 30.6354, 84.68229610054931),\n",
       " (250.0, 72.9032, 70.83870036880778),\n",
       " (54.4, 9.291, 82.92101721605472),\n",
       " (40.0, 20.5593, 48.60173127665725),\n",
       " (23.46, 16.6051, 29.21936677519379),\n",
       " (3.05, 0.7162, 76.51772944432103),\n",
       " (0.253, 2.1382, 745.1384552268098),\n",
       " (29.5, 19.5278, 33.80413242093551),\n",
       " (6.9, 15.1982, 120.26440708748062),\n",
       " (16.0, 0.9295, 94.19064034750515),\n",
       " (1.0, 2.7851, 178.51043749981312),\n",
       " (100.0, 33.9372, 66.0627872902759),\n",
       " (28.6, 0.7654, 97.32365870733368),\n",
       " (35.2, 0.2041, 99.42004762121371),\n",
       " (100.0, 26.7225, 73.27754623579158),\n",
       " (110.0, 0.2111, 99.80806042213403),\n",
       " (0.58, 5.174, 792.0610244165288),\n",
       " (0.263, 0.2604, 0.999699594912595),\n",
       " (67.6, 7.867, 88.36238135893295),\n",
       " (2.1, 12.5661, 498.3851300442178)]"
      ]
     },
     "execution_count": 127,
     "metadata": {},
     "output_type": "execute_result"
    }
   ],
   "source": [
    "list(zip(y_test_mic.round(4), y_pred_mic.round(4), ape_mic))"
   ]
  },
  {
   "cell_type": "code",
   "execution_count": 128,
   "id": "willing-reggae",
   "metadata": {},
   "outputs": [
    {
     "name": "stderr",
     "output_type": "stream",
     "text": [
      "153it [00:01, 110.82it/s]\n"
     ]
    }
   ],
   "source": [
    "loo = LeaveOneOut()\n",
    "\n",
    "from tqdm import tqdm\n",
    "\n",
    "result_df = pd.DataFrame(columns = list(df_hiv_cdhit_filtered.columns)+[\"y_pred_pmic\", \"y_pred_mic\", \"ape_pmic\", \"ape_mic\"])\n",
    "for train_index, test_index in tqdm(loo.split(X)):\n",
    "    X_train, X_test = X.iloc[train_index,:], X.iloc[test_index,:]\n",
    "    y_train, y_test = y.iloc[train_index], y.iloc[test_index]\n",
    "    y_train_pmic, y_train_mic = y_train['pIC50'], y_train['MIC']\n",
    "    y_test_pmic, y_test_mic = y_test['pIC50'], y_test['MIC']\n",
    "    knn = KNeighborsRegressor(**grid_search.best_params_)\n",
    "    _ = knn.fit(X_train, y_train_pmic)\n",
    "    y_pred_pmic = knn.predict(X_test)\n",
    "    y_pred_mic = np.exp(-y_pred_pmic)/1e-6\n",
    "    ape = 100*np.abs(y_test_pmic-y_pred_pmic)/y_test_pmic\n",
    "    ape_mic = 100*np.abs(y_test_mic-y_pred_mic)/y_test_mic\n",
    "    df_val = df_hiv_cdhit_filtered.iloc[test_index,:].values[0].tolist()\n",
    "    res = np.append(df_val, [y_pred_pmic[0], y_pred_mic[0], ape.values[0], ape_mic.values[0]])\n",
    "    res = pd.DataFrame([res], columns = list(df_hiv_cdhit_filtered.columns)+[\"y_pred_pmic\", \"y_pred_mic\", \"ape_pmic\", \"ape_mic\"])\n",
    "    result_df = result_df.append(res)\n",
    "result_df = result_df[[\"Sequence\", \"pIC50\", \"y_pred_pmic\", \"ape_pmic\", \"MIC\", \"y_pred_mic\", \"ape_mic\"]]"
   ]
  },
  {
   "cell_type": "code",
   "execution_count": 129,
   "id": "painful-period",
   "metadata": {},
   "outputs": [
    {
     "data": {
      "text/html": [
       "<div>\n",
       "<style scoped>\n",
       "    .dataframe tbody tr th:only-of-type {\n",
       "        vertical-align: middle;\n",
       "    }\n",
       "\n",
       "    .dataframe tbody tr th {\n",
       "        vertical-align: top;\n",
       "    }\n",
       "\n",
       "    .dataframe thead th {\n",
       "        text-align: right;\n",
       "    }\n",
       "</style>\n",
       "<table border=\"1\" class=\"dataframe\">\n",
       "  <thead>\n",
       "    <tr style=\"text-align: right;\">\n",
       "      <th></th>\n",
       "      <th>Sequence</th>\n",
       "      <th>pIC50</th>\n",
       "      <th>y_pred_pmic</th>\n",
       "      <th>ape_pmic</th>\n",
       "      <th>MIC</th>\n",
       "      <th>y_pred_mic</th>\n",
       "      <th>ape_mic</th>\n",
       "    </tr>\n",
       "  </thead>\n",
       "  <tbody>\n",
       "    <tr>\n",
       "      <th>0</th>\n",
       "      <td>ACWAAGIKQEF</td>\n",
       "      <td>8.00736806798383</td>\n",
       "      <td>9.03066286788145</td>\n",
       "      <td>12.779415048861052</td>\n",
       "      <td>333.0</td>\n",
       "      <td>119.68313276752599</td>\n",
       "      <td>64.05911928903123</td>\n",
       "    </tr>\n",
       "    <tr>\n",
       "      <th>0</th>\n",
       "      <td>ACWGAGIKQEF</td>\n",
       "      <td>8.00736806798383</td>\n",
       "      <td>9.102282061228403</td>\n",
       "      <td>13.673831200821278</td>\n",
       "      <td>333.0</td>\n",
       "      <td>111.41127082375617</td>\n",
       "      <td>66.54316191478794</td>\n",
       "    </tr>\n",
       "    <tr>\n",
       "      <th>0</th>\n",
       "      <td>ACWWAGIKAEF</td>\n",
       "      <td>8.00736806798383</td>\n",
       "      <td>8.487746165213096</td>\n",
       "      <td>5.999200900355521</td>\n",
       "      <td>333.0</td>\n",
       "      <td>205.97697542291095</td>\n",
       "      <td>38.145052425552265</td>\n",
       "    </tr>\n",
       "    <tr>\n",
       "      <th>0</th>\n",
       "      <td>ACWWAGIKQAF</td>\n",
       "      <td>8.00736806798383</td>\n",
       "      <td>8.506803586328427</td>\n",
       "      <td>6.237199465596067</td>\n",
       "      <td>333.0</td>\n",
       "      <td>202.0887528873989</td>\n",
       "      <td>39.31268682060093</td>\n",
       "    </tr>\n",
       "    <tr>\n",
       "      <th>0</th>\n",
       "      <td>ACWWAGIRQEF</td>\n",
       "      <td>8.00736806798383</td>\n",
       "      <td>8.539554338888953</td>\n",
       "      <td>6.646207173028357</td>\n",
       "      <td>333.0</td>\n",
       "      <td>195.5774019699292</td>\n",
       "      <td>41.26804745647771</td>\n",
       "    </tr>\n",
       "    <tr>\n",
       "      <th>...</th>\n",
       "      <td>...</td>\n",
       "      <td>...</td>\n",
       "      <td>...</td>\n",
       "      <td>...</td>\n",
       "      <td>...</td>\n",
       "      <td>...</td>\n",
       "      <td>...</td>\n",
       "    </tr>\n",
       "    <tr>\n",
       "      <th>0</th>\n",
       "      <td>VWGIKQLQARILAVERYLKDQQLLGIWG</td>\n",
       "      <td>17.72753356339242</td>\n",
       "      <td>14.104157508915907</td>\n",
       "      <td>20.43925649058609</td>\n",
       "      <td>0.02</td>\n",
       "      <td>0.749276690134296</td>\n",
       "      <td>3646.3834506714797</td>\n",
       "    </tr>\n",
       "    <tr>\n",
       "      <th>0</th>\n",
       "      <td>MTWMEWDREINNYTSLIHSLIEESQNQQEKNEQELLEL</td>\n",
       "      <td>18.643824295266576</td>\n",
       "      <td>14.74484059651796</td>\n",
       "      <td>20.91300388267721</td>\n",
       "      <td>0.008</td>\n",
       "      <td>0.39481813471321686</td>\n",
       "      <td>4835.22668391521</td>\n",
       "    </tr>\n",
       "    <tr>\n",
       "      <th>0</th>\n",
       "      <td>MTWEAWDRAIAEYAARIEALIRAAQEQQEKNEAALREL</td>\n",
       "      <td>18.7773556878911</td>\n",
       "      <td>13.067580245358851</td>\n",
       "      <td>30.40777166624316</td>\n",
       "      <td>0.006999999999999999</td>\n",
       "      <td>2.1126230194343596</td>\n",
       "      <td>30080.328849062284</td>\n",
       "    </tr>\n",
       "    <tr>\n",
       "      <th>0</th>\n",
       "      <td>TTWEEWDREINEYTSRIESLIRESQEQQEKNEQELREL</td>\n",
       "      <td>19.11382792451231</td>\n",
       "      <td>15.236434774143634</td>\n",
       "      <td>20.285801283144117</td>\n",
       "      <td>0.005</td>\n",
       "      <td>0.24149072409314754</td>\n",
       "      <td>4729.814481862951</td>\n",
       "    </tr>\n",
       "    <tr>\n",
       "      <th>0</th>\n",
       "      <td>WEEWDKKIEEYTKKIEELIKKSEEQQKN</td>\n",
       "      <td>20.030118656386467</td>\n",
       "      <td>14.11565935716372</td>\n",
       "      <td>29.527829568483167</td>\n",
       "      <td>0.002</td>\n",
       "      <td>0.7407079957244417</td>\n",
       "      <td>36935.399786222086</td>\n",
       "    </tr>\n",
       "  </tbody>\n",
       "</table>\n",
       "<p>153 rows × 7 columns</p>\n",
       "</div>"
      ],
      "text/plain": [
       "                                  Sequence               pIC50  \\\n",
       "0                              ACWAAGIKQEF    8.00736806798383   \n",
       "0                              ACWGAGIKQEF    8.00736806798383   \n",
       "0                              ACWWAGIKAEF    8.00736806798383   \n",
       "0                              ACWWAGIKQAF    8.00736806798383   \n",
       "0                              ACWWAGIRQEF    8.00736806798383   \n",
       "..                                     ...                 ...   \n",
       "0             VWGIKQLQARILAVERYLKDQQLLGIWG   17.72753356339242   \n",
       "0   MTWMEWDREINNYTSLIHSLIEESQNQQEKNEQELLEL  18.643824295266576   \n",
       "0   MTWEAWDRAIAEYAARIEALIRAAQEQQEKNEAALREL    18.7773556878911   \n",
       "0   TTWEEWDREINEYTSRIESLIRESQEQQEKNEQELREL   19.11382792451231   \n",
       "0             WEEWDKKIEEYTKKIEELIKKSEEQQKN  20.030118656386467   \n",
       "\n",
       "           y_pred_pmic            ape_pmic                   MIC  \\\n",
       "0     9.03066286788145  12.779415048861052                 333.0   \n",
       "0    9.102282061228403  13.673831200821278                 333.0   \n",
       "0    8.487746165213096   5.999200900355521                 333.0   \n",
       "0    8.506803586328427   6.237199465596067                 333.0   \n",
       "0    8.539554338888953   6.646207173028357                 333.0   \n",
       "..                 ...                 ...                   ...   \n",
       "0   14.104157508915907   20.43925649058609                  0.02   \n",
       "0    14.74484059651796   20.91300388267721                 0.008   \n",
       "0   13.067580245358851   30.40777166624316  0.006999999999999999   \n",
       "0   15.236434774143634  20.285801283144117                 0.005   \n",
       "0    14.11565935716372  29.527829568483167                 0.002   \n",
       "\n",
       "             y_pred_mic             ape_mic  \n",
       "0    119.68313276752599   64.05911928903123  \n",
       "0    111.41127082375617   66.54316191478794  \n",
       "0    205.97697542291095  38.145052425552265  \n",
       "0     202.0887528873989   39.31268682060093  \n",
       "0     195.5774019699292   41.26804745647771  \n",
       "..                  ...                 ...  \n",
       "0     0.749276690134296  3646.3834506714797  \n",
       "0   0.39481813471321686    4835.22668391521  \n",
       "0    2.1126230194343596  30080.328849062284  \n",
       "0   0.24149072409314754   4729.814481862951  \n",
       "0    0.7407079957244417  36935.399786222086  \n",
       "\n",
       "[153 rows x 7 columns]"
      ]
     },
     "execution_count": 129,
     "metadata": {},
     "output_type": "execute_result"
    }
   ],
   "source": [
    "result_df#.to_csv(\"../results/SVM_HIV_CoV_pMIC_to_MIC_rbf_c_100_gamma_2.csv\", index=False)"
   ]
  },
  {
   "cell_type": "code",
   "execution_count": 130,
   "id": "geological-spending",
   "metadata": {},
   "outputs": [
    {
     "data": {
      "text/plain": [
       "16.33867497206926"
      ]
     },
     "execution_count": 130,
     "metadata": {},
     "output_type": "execute_result"
    }
   ],
   "source": [
    "result_df['ape_pmic'].astype('float').mean()"
   ]
  },
  {
   "cell_type": "code",
   "execution_count": 131,
   "id": "printable-print",
   "metadata": {},
   "outputs": [
    {
     "data": {
      "text/plain": [
       "1906.146553954179"
      ]
     },
     "execution_count": 131,
     "metadata": {},
     "output_type": "execute_result"
    }
   ],
   "source": [
    "result_df['ape_mic'].astype('float').mean()"
   ]
  },
  {
   "cell_type": "code",
   "execution_count": 132,
   "id": "essential-halloween",
   "metadata": {},
   "outputs": [],
   "source": [
    "from scipy.stats import pearsonr"
   ]
  },
  {
   "cell_type": "code",
   "execution_count": 133,
   "id": "virtual-lover",
   "metadata": {},
   "outputs": [
    {
     "data": {
      "text/plain": [
       "(0.5055121692719897, 2.654597001611252e-11)"
      ]
     },
     "execution_count": 133,
     "metadata": {},
     "output_type": "execute_result"
    }
   ],
   "source": [
    "pearsonr(result_df['MIC'].astype('float'), result_df['y_pred_mic'].astype('float'))"
   ]
  },
  {
   "cell_type": "code",
   "execution_count": null,
   "id": "configured-signature",
   "metadata": {},
   "outputs": [],
   "source": []
  },
  {
   "cell_type": "code",
   "execution_count": null,
   "id": "equipped-sarah",
   "metadata": {},
   "outputs": [],
   "source": []
  }
 ],
 "metadata": {
  "kernelspec": {
   "display_name": "Python 3",
   "language": "python",
   "name": "python3"
  },
  "language_info": {
   "codemirror_mode": {
    "name": "ipython",
    "version": 3
   },
   "file_extension": ".py",
   "mimetype": "text/x-python",
   "name": "python",
   "nbconvert_exporter": "python",
   "pygments_lexer": "ipython3",
   "version": "3.6.10"
  },
  "varInspector": {
   "cols": {
    "lenName": 16,
    "lenType": 16,
    "lenVar": 40
   },
   "kernels_config": {
    "python": {
     "delete_cmd_postfix": "",
     "delete_cmd_prefix": "del ",
     "library": "var_list.py",
     "varRefreshCmd": "print(var_dic_list())"
    },
    "r": {
     "delete_cmd_postfix": ") ",
     "delete_cmd_prefix": "rm(",
     "library": "var_list.r",
     "varRefreshCmd": "cat(var_dic_list()) "
    }
   },
   "types_to_exclude": [
    "module",
    "function",
    "builtin_function_or_method",
    "instance",
    "_Feature"
   ],
   "window_display": false
  }
 },
 "nbformat": 4,
 "nbformat_minor": 5
}
