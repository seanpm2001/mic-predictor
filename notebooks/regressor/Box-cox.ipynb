{
 "cells": [
  {
   "cell_type": "code",
   "execution_count": 1,
   "id": "italian-prevention",
   "metadata": {},
   "outputs": [],
   "source": [
    "from tqdm import tqdm\n",
    "import biovec\n",
    "import numpy as np\n",
    "import pandas as pd\n",
    "from itertools import chain"
   ]
  },
  {
   "cell_type": "code",
   "execution_count": 2,
   "id": "round-theme",
   "metadata": {},
   "outputs": [],
   "source": [
    "from utils import *"
   ]
  },
  {
   "cell_type": "code",
   "execution_count": 3,
   "id": "appropriate-scroll",
   "metadata": {},
   "outputs": [],
   "source": [
    "from sklearn.svm import SVR\n",
    "from sklearn.metrics import make_scorer\n",
    "from sklearn.model_selection import GridSearchCV\n",
    "from sklearn.ensemble import RandomForestRegressor\n",
    "from sklearn.metrics import mean_squared_error, mean_absolute_error\n",
    "from sklearn.model_selection import train_test_split"
   ]
  },
  {
   "cell_type": "code",
   "execution_count": 4,
   "id": "married-willow",
   "metadata": {},
   "outputs": [],
   "source": [
    "def mean_absolute_percentage_error(y_true, y_pred): \n",
    "    y_true, y_pred = np.array(y_true), np.array(y_pred)\n",
    "    return np.mean(np.abs((y_true - y_pred) / y_true)) * 100"
   ]
  },
  {
   "cell_type": "code",
   "execution_count": 5,
   "id": "portuguese-desperate",
   "metadata": {},
   "outputs": [],
   "source": [
    "mape_scorer = make_scorer(mean_absolute_percentage_error, greater_is_better=False)"
   ]
  },
  {
   "cell_type": "code",
   "execution_count": 6,
   "id": "opposed-savings",
   "metadata": {},
   "outputs": [],
   "source": [
    "avp_ic50 = pd.read_csv(\"../data/raw/AVP-IC50Pred_train.csv\")\n",
    "ha_avp = pd.read_csv(\"../data/raw/HA_AVP.csv\")\n",
    "\n",
    "df = pd.concat([avp_ic50[['Sequence', 'MIC']], ha_avp], axis=0).drop_duplicates(['Sequence']).reset_index(drop=True)\n",
    "df = sequence_filtering(df)"
   ]
  },
  {
   "cell_type": "code",
   "execution_count": 7,
   "id": "athletic-accreditation",
   "metadata": {},
   "outputs": [
    {
     "name": "stderr",
     "output_type": "stream",
     "text": [
      "/Users/in-divye.singh/anaconda3/envs/life-science/lib/python3.6/site-packages/smart_open/smart_open_lib.py:254: UserWarning: This function is deprecated, use smart_open.open instead. See the migration notes for details: https://github.com/RaRe-Technologies/smart_open/blob/master/README.rst#migrating-to-the-new-open-function\n",
      "  'See the migration notes for details: %s' % _MIGRATION_NOTES_URL\n",
      "Creating vectors: 100%|██████████| 712/712 [00:00<00:00, 1144.81sequence/s]\n"
     ]
    }
   ],
   "source": [
    "uniprot_embedding = biovec.models.load_protvec(\"../data/embeddings/uniprot__kmer_3_contextWindow_10_vector_100_reduction_None\")\n",
    "\n",
    "vectors = convert_sequences_to_avg_vectors(df['Sequence'], uniprot_embedding)"
   ]
  },
  {
   "cell_type": "code",
   "execution_count": 8,
   "id": "controversial-wells",
   "metadata": {},
   "outputs": [],
   "source": [
    "from scipy.stats import boxcox\n",
    "from scipy.special import inv_boxcox"
   ]
  },
  {
   "cell_type": "code",
   "execution_count": 9,
   "id": "packed-wrist",
   "metadata": {},
   "outputs": [],
   "source": [
    "mic_boxcox, lmbda = boxcox(df['MIC'])"
   ]
  },
  {
   "cell_type": "code",
   "execution_count": 10,
   "id": "democratic-marble",
   "metadata": {},
   "outputs": [],
   "source": [
    "X_train, X_test, y_train, y_test = train_test_split(vectors, mic_boxcox, test_size=0.2, random_state=42)"
   ]
  },
  {
   "cell_type": "code",
   "execution_count": 11,
   "id": "sustainable-token",
   "metadata": {},
   "outputs": [],
   "source": [
    "# Create the parameter grid based on the results of random search \n",
    "param_grid = {\n",
    "    'bootstrap': [True],\n",
    "    'max_depth': [None, 80, 90, 100, 110],\n",
    "    'max_features': ['auto', 2, 3],\n",
    "    'min_samples_leaf': [1, 2, 3, 4, 5],\n",
    "    'min_samples_split': [2, 8, 10, 12],\n",
    "    'n_estimators': [100, 200, 300, 1000]\n",
    "}\n",
    "# Create a based model\n",
    "rf = RandomForestRegressor()\n",
    "# Instantiate the grid search model\n",
    "grid_search = GridSearchCV(estimator = rf, param_grid = param_grid, \n",
    "                          cv = 3, n_jobs = -1, verbose = 2, scoring=mape_scorer)"
   ]
  },
  {
   "cell_type": "code",
   "execution_count": 12,
   "id": "cubic-warrior",
   "metadata": {
    "scrolled": false
   },
   "outputs": [
    {
     "name": "stdout",
     "output_type": "stream",
     "text": [
      "Fitting 3 folds for each of 1200 candidates, totalling 3600 fits\n"
     ]
    },
    {
     "name": "stderr",
     "output_type": "stream",
     "text": [
      "[Parallel(n_jobs=-1)]: Using backend LokyBackend with 12 concurrent workers.\n",
      "[Parallel(n_jobs=-1)]: Done  17 tasks      | elapsed:   11.2s\n",
      "[Parallel(n_jobs=-1)]: Done 138 tasks      | elapsed:  1.7min\n",
      "[Parallel(n_jobs=-1)]: Done 341 tasks      | elapsed:  3.1min\n",
      "[Parallel(n_jobs=-1)]: Done 624 tasks      | elapsed:  3.7min\n",
      "[Parallel(n_jobs=-1)]: Done 989 tasks      | elapsed:  8.2min\n",
      "[Parallel(n_jobs=-1)]: Done 1434 tasks      | elapsed:  9.4min\n",
      "[Parallel(n_jobs=-1)]: Done 1961 tasks      | elapsed: 14.7min\n",
      "[Parallel(n_jobs=-1)]: Done 2568 tasks      | elapsed: 19.6min\n",
      "[Parallel(n_jobs=-1)]: Done 3257 tasks      | elapsed: 24.7min\n",
      "[Parallel(n_jobs=-1)]: Done 3600 out of 3600 | elapsed: 25.6min finished\n",
      "/Users/in-divye.singh/anaconda3/envs/life-science/lib/python3.6/site-packages/sklearn/model_selection/_search.py:814: RuntimeWarning: invalid value encountered in subtract\n",
      "  array_means[:, np.newaxis]) ** 2,\n"
     ]
    },
    {
     "data": {
      "text/plain": [
       "GridSearchCV(cv=3, estimator=RandomForestRegressor(), n_jobs=-1,\n",
       "             param_grid={'bootstrap': [True],\n",
       "                         'max_depth': [None, 80, 90, 100, 110],\n",
       "                         'max_features': ['auto', 2, 3],\n",
       "                         'min_samples_leaf': [1, 2, 3, 4, 5],\n",
       "                         'min_samples_split': [2, 8, 10, 12],\n",
       "                         'n_estimators': [100, 200, 300, 1000]},\n",
       "             scoring=make_scorer(mean_absolute_percentage_error, greater_is_better=False),\n",
       "             verbose=2)"
      ]
     },
     "execution_count": 12,
     "metadata": {},
     "output_type": "execute_result"
    }
   ],
   "source": [
    "grid_search.fit(X_train, y_train)"
   ]
  },
  {
   "cell_type": "code",
   "execution_count": 13,
   "id": "pressing-arrow",
   "metadata": {},
   "outputs": [
    {
     "data": {
      "text/plain": [
       "{'bootstrap': True,\n",
       " 'max_depth': None,\n",
       " 'max_features': 'auto',\n",
       " 'min_samples_leaf': 1,\n",
       " 'min_samples_split': 2,\n",
       " 'n_estimators': 100}"
      ]
     },
     "execution_count": 13,
     "metadata": {},
     "output_type": "execute_result"
    }
   ],
   "source": [
    "grid_search.best_params_"
   ]
  },
  {
   "cell_type": "code",
   "execution_count": 14,
   "id": "funky-rocket",
   "metadata": {},
   "outputs": [],
   "source": [
    "best_grid = grid_search.best_estimator_"
   ]
  },
  {
   "cell_type": "code",
   "execution_count": 15,
   "id": "continental-fellow",
   "metadata": {},
   "outputs": [],
   "source": [
    "y_pred_boxcox = best_grid.predict(X_test)"
   ]
  },
  {
   "cell_type": "code",
   "execution_count": 16,
   "id": "unlikely-listening",
   "metadata": {},
   "outputs": [],
   "source": [
    "y_pred = inv_boxcox(y_pred_boxcox, lmbda)"
   ]
  },
  {
   "cell_type": "code",
   "execution_count": 22,
   "id": "aggressive-mission",
   "metadata": {},
   "outputs": [],
   "source": [
    "y_test_act = inv_boxcox(y_test, lmbda)"
   ]
  },
  {
   "cell_type": "code",
   "execution_count": 24,
   "id": "about-pepper",
   "metadata": {},
   "outputs": [
    {
     "data": {
      "text/plain": [
       "4811.394762677909"
      ]
     },
     "execution_count": 24,
     "metadata": {},
     "output_type": "execute_result"
    }
   ],
   "source": [
    "mean_squared_error(y_pred=y_pred, y_true=y_test_act)"
   ]
  },
  {
   "cell_type": "code",
   "execution_count": 25,
   "id": "premier-panama",
   "metadata": {},
   "outputs": [
    {
     "data": {
      "text/plain": [
       "32.959935577266556"
      ]
     },
     "execution_count": 25,
     "metadata": {},
     "output_type": "execute_result"
    }
   ],
   "source": [
    "mean_absolute_error(y_pred=y_pred, y_true=y_test_act)"
   ]
  },
  {
   "cell_type": "code",
   "execution_count": 26,
   "id": "national-insulin",
   "metadata": {},
   "outputs": [
    {
     "data": {
      "text/plain": [
       "1029463.7480233541"
      ]
     },
     "execution_count": 26,
     "metadata": {},
     "output_type": "execute_result"
    }
   ],
   "source": [
    "mean_absolute_percentage_error(y_pred=y_pred, y_true=y_test_act)"
   ]
  },
  {
   "cell_type": "code",
   "execution_count": 34,
   "id": "powerful-massachusetts",
   "metadata": {},
   "outputs": [],
   "source": [
    "abs_perc_err = (abs(y_test_act - y_pred)/y_test_act)*100"
   ]
  },
  {
   "cell_type": "code",
   "execution_count": 36,
   "id": "weird-climb",
   "metadata": {
    "scrolled": true
   },
   "outputs": [
    {
     "data": {
      "text/plain": [
       "[(0.79, 1.9437657501757504, 146.0462974906013),\n",
       " (3.5200000000000005, 4.643262288651999, 31.91086047306814),\n",
       " (23.500000000000025, 14.127687707936142, 39.882179966229245),\n",
       " (13.0, 1.491247228376221, 88.52886747402907),\n",
       " (2.0000000000000004, 0.5692181163460852, 71.53909418269575),\n",
       " (2.02, 6.879034819414229, 240.54627818882318),\n",
       " (19.99999999999999, 13.097289563456949, 34.51355218271522),\n",
       " (21.500000000000018, 10.402419168623618, 51.61665502965763),\n",
       " (100.00000000000004, 18.762996019612864, 81.23700398038716),\n",
       " (2.0000000000000004, 0.7475679235729555, 62.62160382135223),\n",
       " (159.99999999999994, 19.289105201520627, 87.94430924904961),\n",
       " (54.40000000000004, 19.504564784789647, 64.14602061619553),\n",
       " (100.00000000000004, 12.282348765710818, 87.71765123428918),\n",
       " (0.006999999999999991, 0.025243425176509574, 260.620359664423),\n",
       " (0.5969999999999999, 0.05793794086694925, 90.29515228359308),\n",
       " (0.025999999999999985, 7.95696234445999, 30503.701324846134),\n",
       " (118.00000000000014, 16.41965872604659, 86.08503497792664),\n",
       " (3.3799999999999994, 5.072435373070074, 50.07205245769452),\n",
       " (7.999999999999998, 5.543233525978313, 30.70958092527107),\n",
       " (6.800000000000002, 3.223125982434335, 52.601088493612735),\n",
       " (1.34, 9.733614841196305, 626.3891672534555),\n",
       " (24.599999999999987, 4.7311431489068205, 80.76771077680154),\n",
       " (0.25500000000000006, 1.5131185917065455, 493.37983988491965),\n",
       " (0.62, 0.6291853335212458, 1.4815054066525553),\n",
       " (100.00000000000004, 9.29996587417101, 90.70003412582899),\n",
       " (0.0010000000000000002, 0.02142796720474217, 2042.7967204742163),\n",
       " (116.99999999999991, 15.408635157425268, 86.83022636117498),\n",
       " (0.75, 7.942843379712348, 959.0457839616464),\n",
       " (10.000000000000007, 1.6314340801485827, 83.68565919851417),\n",
       " (5.469999999999999, 4.531925389028262, 17.14944444189647),\n",
       " (199.99999999999991, 11.286767095183045, 94.35661645240847),\n",
       " (41.099999999999994, 14.333680025948443, 65.12486611691376),\n",
       " (10.499999999999995, 12.305591453042503, 17.196109076595324),\n",
       " (0.002999999999999999, 0.039475267825770155, 1215.8422608590054),\n",
       " (26.99999999999999, 7.107024018340794, 73.67768882096001),\n",
       " (56.00000000000002, 55.68936127168348, 0.5547120148509648),\n",
       " (49.99999999999995, 9.64982236044662, 80.70035527910674),\n",
       " (15.320000000000004, 6.46415551918962, 57.80577337343591),\n",
       " (36.22600000000003, 0.7376503410982669, 97.96375437227884),\n",
       " (0.029000000000000012, 0.4316675471064723, 1388.5087831257658),\n",
       " (0.3379999999999998, 0.6088308347531255, 80.12746590329168),\n",
       " (24.29999999999999, 7.239991531341738, 70.20579616731794),\n",
       " (0.0019999999999999987, 1.5373742144003548, 76768.7107200178),\n",
       " (100.00000000000004, 22.266085871839945, 77.73391412816007),\n",
       " (2.1, 3.863673022782272, 83.98442965629866),\n",
       " (6.9, 5.5327990144467725, 19.814507037003303),\n",
       " (0.10000000000000002, 4.296984893019856, 4196.984893019856),\n",
       " (0.06499999999999993, 0.2223953280419683, 242.14665852610545),\n",
       " (142.00000000000003, 24.54310313025738, 82.71612455615679),\n",
       " (0.07, 0.5290410261229598, 655.772894461371),\n",
       " (7.1000000000000005, 6.007617370768753, 15.385670834242918),\n",
       " (0.04899999999999996, 0.028252725836372106, 42.34137584413851),\n",
       " (100.00000000000004, 20.154315955686503, 79.84568404431351),\n",
       " (12.300000000000008, 0.6249932873594516, 94.91875376130527),\n",
       " (0.46, 8.02392370441071, 1644.3312400892846),\n",
       " (333.0, 38.801788341355326, 88.34781130890231),\n",
       " (4.999999999999999, 8.041018393618568, 60.82036787237139),\n",
       " (0.0049999999999999975, 0.1344179671601445, 2588.3593432028915),\n",
       " (5.700000000000002, 3.287084562712804, 42.33184977696837),\n",
       " (49.60000000000001, 0.8674301080306276, 98.25114897574471),\n",
       " (43.50199999999996, 20.904033770485594, 51.946959288111785),\n",
       " (9.829999999999995, 5.67434691279028, 42.275209432448804),\n",
       " (2.0000000000000004, 4.500972040840718, 125.04860204203587),\n",
       " (0.014999999999999998, 0.0375844652402015, 150.56310160134336),\n",
       " (0.04999999999999992, 4.297017104332592, 8494.034208665198),\n",
       " (3.7000000000000023e-06, 5.439485074010285, 147013010.108386),\n",
       " (3.4999999999999996, 1.9064955004122712, 45.528699988220815),\n",
       " (49.400000000000006, 4.521203606946002, 90.8477659778421),\n",
       " (3.000000000000001, 5.894655189466234, 96.48850631554107),\n",
       " (6.599999999999999, 6.446669466188191, 2.32318990623951),\n",
       " (4.400000000000001, 10.96059782490157, 149.10449602049013),\n",
       " (8.500000000000004, 3.8373970774012856, 54.85415203057313),\n",
       " (0.93, 2.291476154634504, 146.39528544457033),\n",
       " (3.2, 19.571385362401976, 511.60579257506174),\n",
       " (5.999999999999998, 22.046217872671683, 267.4369645445281),\n",
       " (11.7, 8.281306271129866, 29.21960452025755),\n",
       " (100.00000000000004, 3.122111395763808, 96.87788860423619),\n",
       " (245.0000000000001, 83.69502532131933, 65.83876517497171),\n",
       " (26.19999999999999, 23.587870269390375, 9.969960803853489),\n",
       " (6.8199999999999985, 4.240454138537182, 37.82325310062781),\n",
       " (3.370000000000001, 9.045426952456346, 168.41029532511405),\n",
       " (0.008999999999999992, 0.01923979354141172, 113.77548379346372),\n",
       " (10.000000000000007, 5.210204805904108, 47.897951940958954),\n",
       " (19.300000000000004, 4.375877885569129, 77.32705758772472),\n",
       " (137.00000000000003, 9.083772735087496, 93.36950895249089),\n",
       " (16.949999999999996, 4.078055465017727, 75.94067572260927),\n",
       " (6.999999999999999, 53.55146167111403, 665.0208810159148),\n",
       " (11.7, 16.811932445471548, 43.69173030317563),\n",
       " (100.00000000000004, 17.708720391110333, 82.29127960888968),\n",
       " (382.9999999999999, 6.014302014476663, 98.4296861581001),\n",
       " (12.4, 5.904610658364676, 52.3821721099623),\n",
       " (72.00000000000007, 3.6061491669760604, 94.99145949031103),\n",
       " (62.00000000000001, 5.747799915555252, 90.72935497491088),\n",
       " (0.11515, 23.04515291387703, 19913.15928256798),\n",
       " (79.9999999999999, 18.343372838059427, 77.07078395242569),\n",
       " (6.359999999999999, 4.9295883965939815, 22.4907484812267),\n",
       " (2.56, 3.89965098367319, 52.33011654973397),\n",
       " (0.0019999999999999987, 0.041674435200229946, 1983.7217600114986),\n",
       " (33.30000000000001, 3.563492780057822, 89.29882048030684),\n",
       " (0.0010000000000000002, 0.039646385489856405, 3864.6385489856393),\n",
       " (19.99999999999999, 8.884331713876621, 55.578341430616874),\n",
       " (0.2999999999999999, 11.976949179842933, 3892.3163932809794),\n",
       " (0.138, 0.39725779875655043, 187.8679701134423),\n",
       " (0.58, 8.502327875791051, 1365.9185992743194),\n",
       " (49.99999999999995, 4.851970148193082, 90.29605970361384),\n",
       " (90.99999999999997, 22.633531078659132, 75.1279878256493),\n",
       " (0.036000000000000004, 1.5512920048289487, 4209.14445785819),\n",
       " (7.999999999999998, 12.002124540746257, 50.026556759328244),\n",
       " (7.400000000000001, 1.935594590086321, 73.84331635018485),\n",
       " (120.00000000000009, 0.6348647102112628, 99.47094607482396),\n",
       " (1.0, 4.59124457851041, 359.124457851041),\n",
       " (249.9999999999999, 6.097390444801343, 97.56104382207947),\n",
       " (100.00000000000004, 17.548845730936517, 82.4511542690635),\n",
       " (30.000000000000014, 7.819562797984003, 73.93479067338667),\n",
       " (0.056999999999999995, 0.4917630239427194, 762.7421472679289),\n",
       " (187.00000000000003, 3.2820655652234594, 98.24488472447943),\n",
       " (0.12500000000000008, 1.542890363780623, 1134.3122910244977),\n",
       " (100.00000000000004, 30.301744479618026, 69.69825552038199),\n",
       " (1.7, 2.7156716233818106, 59.745389610694744),\n",
       " (4.623000000000001, 1.4451598967658665, 68.73978159710434),\n",
       " (35.00000000000001, 6.678756046272044, 80.91783986779417),\n",
       " (0.25300000000000006, 3.1307466362669016, 1137.4492633466011),\n",
       " (0.02799999999999999, 0.7692078553786823, 2647.1709120667233),\n",
       " (35.00000000000001, 7.8459257641755835, 77.58306924521263),\n",
       " (24.99999999999997, 2.4889544844927993, 90.04418206202878),\n",
       " (0.44600000000000006, 0.04612795823885297, 89.6574084666249),\n",
       " (0.39, 4.645251009028385, 1091.0900023149707),\n",
       " (0.0049999999999999975, 0.045492796702421755, 809.8559340484355),\n",
       " (21.999999999999996, 14.376122015293912, 34.65399083957311),\n",
       " (0.02200000000000003, 1.2470262269433219, 5568.301031560546),\n",
       " (0.022999999999999986, 1.6011349207950638, 6861.456177369847),\n",
       " (3.2, 2.3581444605690685, 26.307985607216615),\n",
       " (333.0, 26.292777056705912, 92.10427115414237),\n",
       " (0.015999999999999966, 0.5035728836951398, 3047.3305230946303),\n",
       " (9.054, 20.976073961265172, 131.67742391501181),\n",
       " (36.0, 12.62030244445318, 64.94360432096339),\n",
       " (26.99999999999999, 7.406481808290488, 72.5685858952204),\n",
       " (49.99999999999995, 10.671193829143077, 78.65761234171383),\n",
       " (10.000000000000007, 0.6658366351079283, 93.34163364892073),\n",
       " (195.99999999999991, 119.65075030228284, 38.95369882536587),\n",
       " (63.49999999999999, 3.2272205663399673, 94.9177628876536),\n",
       " (0.662, 1.6115623070155216, 143.43841495702742),\n",
       " (135.99999999999991, 23.500570626116385, 82.72016865726735)]"
      ]
     },
     "execution_count": 36,
     "metadata": {},
     "output_type": "execute_result"
    }
   ],
   "source": [
    "list(zip(y_test_act, y_pred, abs_perc_err))"
   ]
  },
  {
   "cell_type": "code",
   "execution_count": null,
   "id": "fallen-anthropology",
   "metadata": {},
   "outputs": [],
   "source": []
  }
 ],
 "metadata": {
  "kernelspec": {
   "display_name": "Python 3",
   "language": "python",
   "name": "python3"
  },
  "language_info": {
   "codemirror_mode": {
    "name": "ipython",
    "version": 3
   },
   "file_extension": ".py",
   "mimetype": "text/x-python",
   "name": "python",
   "nbconvert_exporter": "python",
   "pygments_lexer": "ipython3",
   "version": "3.6.10"
  }
 },
 "nbformat": 4,
 "nbformat_minor": 5
}
