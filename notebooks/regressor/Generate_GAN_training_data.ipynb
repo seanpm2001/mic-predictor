{
 "cells": [
  {
   "cell_type": "code",
   "execution_count": 1,
   "id": "nuclear-invitation",
   "metadata": {
    "ExecuteTime": {
     "end_time": "2021-05-29T06:59:09.193726Z",
     "start_time": "2021-05-29T06:59:09.188861Z"
    }
   },
   "outputs": [
    {
     "name": "stdout",
     "output_type": "stream",
     "text": [
      "/Users/in-divye.singh/Documents/Projects/MIC_predictor/src\n"
     ]
    }
   ],
   "source": [
    "cd ../../src/"
   ]
  },
  {
   "cell_type": "code",
   "execution_count": 2,
   "id": "wired-venue",
   "metadata": {
    "ExecuteTime": {
     "end_time": "2021-05-29T06:59:19.815847Z",
     "start_time": "2021-05-29T06:59:10.032531Z"
    }
   },
   "outputs": [],
   "source": [
    "import biovec\n",
    "import numpy as np\n",
    "import pandas as pd\n",
    "from itertools import chain, combinations\n",
    "from collections import Counter\n",
    "\n",
    "from utils import *\n",
    "\n",
    "from sklearn.svm import SVR\n",
    "from sklearn.neighbors import KNeighborsRegressor\n",
    "from sklearn.metrics import make_scorer\n",
    "from sklearn.model_selection import GridSearchCV\n",
    "from sklearn.metrics import mean_squared_error, mean_absolute_error\n",
    "from sklearn.model_selection import train_test_split\n",
    "\n",
    "from Bio.SeqUtils.ProtParam import ProteinAnalysis"
   ]
  },
  {
   "cell_type": "code",
   "execution_count": 3,
   "id": "pointed-arrival",
   "metadata": {
    "ExecuteTime": {
     "end_time": "2021-05-29T06:59:20.624365Z",
     "start_time": "2021-05-29T06:59:20.611018Z"
    }
   },
   "outputs": [],
   "source": [
    "avp_ic50 = pd.read_csv(\"../data/raw/AVP-IC50Pred_train.csv\")\n",
    "ha_avp = pd.read_csv(\"../data/raw/HA_AVP.csv\")"
   ]
  },
  {
   "cell_type": "code",
   "execution_count": 4,
   "id": "handy-proceeding",
   "metadata": {
    "ExecuteTime": {
     "end_time": "2021-05-29T06:59:21.664444Z",
     "start_time": "2021-05-29T06:59:21.619218Z"
    }
   },
   "outputs": [],
   "source": [
    "df = pd.concat([avp_ic50[['Sequence','MIC']], ha_avp], axis=0).drop_duplicates(['Sequence']).reset_index(drop=True)\n",
    "df = sequence_filtering(df)"
   ]
  },
  {
   "cell_type": "code",
   "execution_count": 5,
   "id": "floppy-fitting",
   "metadata": {
    "ExecuteTime": {
     "end_time": "2021-05-29T06:59:22.489232Z",
     "start_time": "2021-05-29T06:59:22.484262Z"
    }
   },
   "outputs": [],
   "source": [
    "df['pIC50'] = df['MIC'].apply(lambda x: -np.log(x*1e-6))"
   ]
  },
  {
   "cell_type": "code",
   "execution_count": 6,
   "id": "married-offense",
   "metadata": {
    "ExecuteTime": {
     "end_time": "2021-05-29T06:59:24.341035Z",
     "start_time": "2021-05-29T06:59:24.329900Z"
    }
   },
   "outputs": [],
   "source": [
    "family = pd.read_csv(\"../data/raw/712pep_family.csv\")"
   ]
  },
  {
   "cell_type": "code",
   "execution_count": 7,
   "id": "wooden-windsor",
   "metadata": {
    "ExecuteTime": {
     "end_time": "2021-05-29T06:59:24.430602Z",
     "start_time": "2021-05-29T06:59:24.419730Z"
    }
   },
   "outputs": [
    {
     "data": {
      "text/plain": [
       "array(['Arenaviridae', 'Arteriviridae', 'Asfarviridae', 'Bunyaviridae',\n",
       "       'Coronaviridae', 'Family', 'Filoviridae', 'Flaviviridae',\n",
       "       'Hepadnaviridae', 'Herpesviridae', 'Orthomyxoviridae',\n",
       "       'Papillomaviridae', 'Paramyxoviridae', 'Polyomaviridae',\n",
       "       'Poxviridae', 'Retroviridae'], dtype=object)"
      ]
     },
     "execution_count": 7,
     "metadata": {},
     "output_type": "execute_result"
    }
   ],
   "source": [
    "family['Family'].unique()"
   ]
  },
  {
   "cell_type": "code",
   "execution_count": 8,
   "id": "wound-indicator",
   "metadata": {
    "ExecuteTime": {
     "end_time": "2021-05-29T06:59:26.867505Z",
     "start_time": "2021-05-29T06:59:26.863774Z"
    }
   },
   "outputs": [],
   "source": [
    "flaviviridae_seq = family[(family['Family'] == \"Flaviviridae\")].reset_index(drop=True)"
   ]
  },
  {
   "cell_type": "code",
   "execution_count": 12,
   "id": "agricultural-willow",
   "metadata": {
    "ExecuteTime": {
     "end_time": "2021-05-29T07:00:44.549952Z",
     "start_time": "2021-05-29T07:00:44.546378Z"
    }
   },
   "outputs": [],
   "source": [
    "flaviviridae_seq_space = flaviviridae_seq['Sequence'].apply(lambda s: \" \".join(list(s)))"
   ]
  },
  {
   "cell_type": "code",
   "execution_count": 13,
   "id": "liberal-malawi",
   "metadata": {
    "ExecuteTime": {
     "end_time": "2021-05-29T07:02:38.700233Z",
     "start_time": "2021-05-29T07:02:38.687252Z"
    }
   },
   "outputs": [],
   "source": [
    "flaviviridae_seq_space.to_csv(\"../../PeptideGAN/gan_for_avps/data/Flaviviridae_data_with_spaces.txt\",\n",
    "                              index=False, header=False)"
   ]
  },
  {
   "cell_type": "code",
   "execution_count": null,
   "id": "polar-composite",
   "metadata": {},
   "outputs": [],
   "source": []
  }
 ],
 "metadata": {
  "kernelspec": {
   "display_name": "Python 3",
   "language": "python",
   "name": "python3"
  },
  "language_info": {
   "codemirror_mode": {
    "name": "ipython",
    "version": 3
   },
   "file_extension": ".py",
   "mimetype": "text/x-python",
   "name": "python",
   "nbconvert_exporter": "python",
   "pygments_lexer": "ipython3",
   "version": "3.6.10"
  },
  "varInspector": {
   "cols": {
    "lenName": 16,
    "lenType": 16,
    "lenVar": 40
   },
   "kernels_config": {
    "python": {
     "delete_cmd_postfix": "",
     "delete_cmd_prefix": "del ",
     "library": "var_list.py",
     "varRefreshCmd": "print(var_dic_list())"
    },
    "r": {
     "delete_cmd_postfix": ") ",
     "delete_cmd_prefix": "rm(",
     "library": "var_list.r",
     "varRefreshCmd": "cat(var_dic_list()) "
    }
   },
   "types_to_exclude": [
    "module",
    "function",
    "builtin_function_or_method",
    "instance",
    "_Feature"
   ],
   "window_display": false
  }
 },
 "nbformat": 4,
 "nbformat_minor": 5
}
