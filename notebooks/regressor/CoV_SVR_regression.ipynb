{
 "cells": [
  {
   "cell_type": "code",
   "execution_count": 1,
   "id": "alpha-procedure",
   "metadata": {},
   "outputs": [
    {
     "name": "stdout",
     "output_type": "stream",
     "text": [
      "/Users/in-divye.singh/Documents/Projects/cd_hit_py\n"
     ]
    }
   ],
   "source": [
    "cd ../../../cd_hit_py/"
   ]
  },
  {
   "cell_type": "code",
   "execution_count": 2,
   "id": "affecting-museum",
   "metadata": {},
   "outputs": [],
   "source": [
    "from cd_hit import CD_HIT"
   ]
  },
  {
   "cell_type": "code",
   "execution_count": 3,
   "id": "coated-roman",
   "metadata": {},
   "outputs": [
    {
     "name": "stdout",
     "output_type": "stream",
     "text": [
      "/Users/in-divye.singh/Documents/Projects/MIC_predictor/src\n"
     ]
    }
   ],
   "source": [
    "cd ../MIC_predictor/src/"
   ]
  },
  {
   "cell_type": "code",
   "execution_count": 4,
   "id": "brave-james",
   "metadata": {},
   "outputs": [],
   "source": [
    "import biovec\n",
    "import numpy as np\n",
    "import pandas as pd\n",
    "from itertools import chain, combinations\n",
    "from collections import Counter\n",
    "\n",
    "from utils import *\n",
    "\n",
    "from sklearn.svm import SVR\n",
    "from sklearn.neighbors import KNeighborsRegressor\n",
    "from sklearn.metrics import make_scorer\n",
    "from sklearn.model_selection import GridSearchCV\n",
    "from sklearn.metrics import mean_squared_error, mean_absolute_error\n",
    "from sklearn.model_selection import train_test_split\n",
    "\n",
    "from Bio.SeqUtils.ProtParam import ProteinAnalysis"
   ]
  },
  {
   "cell_type": "code",
   "execution_count": 5,
   "id": "measured-summit",
   "metadata": {},
   "outputs": [],
   "source": [
    "def mean_absolute_percentage_error(y_true, y_pred): \n",
    "    y_true, y_pred = np.array(y_true), np.array(y_pred)\n",
    "    return np.mean(np.abs((y_true - y_pred) / y_true)) * 100\n",
    "\n",
    "mape_scorer = make_scorer(mean_absolute_percentage_error, greater_is_better=False)"
   ]
  },
  {
   "cell_type": "code",
   "execution_count": 6,
   "id": "induced-acquisition",
   "metadata": {},
   "outputs": [],
   "source": [
    "def pearson_score(y_true, y_pred):\n",
    "    pcc = pearsonr(y_true, y_pred)\n",
    "    return pcc[0]\n",
    "\n",
    "pcc_scorer = make_scorer(pearson_score)"
   ]
  },
  {
   "cell_type": "code",
   "execution_count": 7,
   "id": "first-trout",
   "metadata": {},
   "outputs": [],
   "source": [
    "avp_ic50 = pd.read_csv(\"../data/raw/AVP-IC50Pred_train.csv\")\n",
    "ha_avp = pd.read_csv(\"../data/raw/HA_AVP.csv\")"
   ]
  },
  {
   "cell_type": "code",
   "execution_count": 8,
   "id": "confident-broadcast",
   "metadata": {},
   "outputs": [],
   "source": [
    "df = pd.concat([avp_ic50[['Sequence','MIC']], ha_avp], axis=0).drop_duplicates(['Sequence']).reset_index(drop=True)\n",
    "df = sequence_filtering(df)"
   ]
  },
  {
   "cell_type": "code",
   "execution_count": 9,
   "id": "copyrighted-cleaner",
   "metadata": {},
   "outputs": [],
   "source": [
    "df['pIC50'] = df['MIC'].apply(lambda x: -np.log(x*1e-6))"
   ]
  },
  {
   "cell_type": "code",
   "execution_count": 10,
   "id": "tropical-kingdom",
   "metadata": {},
   "outputs": [],
   "source": [
    "family = pd.read_csv(\"../data/raw/712pep_family.csv\")"
   ]
  },
  {
   "cell_type": "code",
   "execution_count": 11,
   "id": "spiritual-flavor",
   "metadata": {},
   "outputs": [],
   "source": [
    "cov_seq = family[(family['Abbreviation'] == 'SARS-CoV')].reset_index(drop=True)"
   ]
  },
  {
   "cell_type": "code",
   "execution_count": 12,
   "id": "liberal-electron",
   "metadata": {},
   "outputs": [
    {
     "data": {
      "text/html": [
       "<div>\n",
       "<style scoped>\n",
       "    .dataframe tbody tr th:only-of-type {\n",
       "        vertical-align: middle;\n",
       "    }\n",
       "\n",
       "    .dataframe tbody tr th {\n",
       "        vertical-align: top;\n",
       "    }\n",
       "\n",
       "    .dataframe thead th {\n",
       "        text-align: right;\n",
       "    }\n",
       "</style>\n",
       "<table border=\"1\" class=\"dataframe\">\n",
       "  <thead>\n",
       "    <tr style=\"text-align: right;\">\n",
       "      <th></th>\n",
       "      <th>Sequence</th>\n",
       "      <th>Abbreviation</th>\n",
       "      <th>Family</th>\n",
       "    </tr>\n",
       "  </thead>\n",
       "  <tbody>\n",
       "    <tr>\n",
       "      <th>0</th>\n",
       "      <td>SNNTIAIPTNFSISITTEVM</td>\n",
       "      <td>SARS-CoV</td>\n",
       "      <td>Coronaviridae</td>\n",
       "    </tr>\n",
       "    <tr>\n",
       "      <th>1</th>\n",
       "      <td>FKLPLGINITNFRAILTAFS</td>\n",
       "      <td>SARS-CoV</td>\n",
       "      <td>Coronaviridae</td>\n",
       "    </tr>\n",
       "    <tr>\n",
       "      <th>2</th>\n",
       "      <td>VLYNSTFFSTFKCYGVSATK</td>\n",
       "      <td>SARS-CoV</td>\n",
       "      <td>Coronaviridae</td>\n",
       "    </tr>\n",
       "    <tr>\n",
       "      <th>3</th>\n",
       "      <td>GIGVTQNVLYENQKQIANQF</td>\n",
       "      <td>SARS-CoV</td>\n",
       "      <td>Coronaviridae</td>\n",
       "    </tr>\n",
       "    <tr>\n",
       "      <th>4</th>\n",
       "      <td>PALNCYWPLNDYGFYTTSGI</td>\n",
       "      <td>SARS-CoV</td>\n",
       "      <td>Coronaviridae</td>\n",
       "    </tr>\n",
       "    <tr>\n",
       "      <th>5</th>\n",
       "      <td>FGGASCCLYCRCHIDHPNPKGFCDLKGKY</td>\n",
       "      <td>SARS-CoV</td>\n",
       "      <td>Coronaviridae</td>\n",
       "    </tr>\n",
       "    <tr>\n",
       "      <th>6</th>\n",
       "      <td>GGASCCLYCRCH</td>\n",
       "      <td>SARS-CoV</td>\n",
       "      <td>Coronaviridae</td>\n",
       "    </tr>\n",
       "    <tr>\n",
       "      <th>7</th>\n",
       "      <td>IEEINKKVEEIQKKIEELNKKAEELNKKLEELQKK</td>\n",
       "      <td>SARS-CoV</td>\n",
       "      <td>Coronaviridae</td>\n",
       "    </tr>\n",
       "    <tr>\n",
       "      <th>8</th>\n",
       "      <td>YQDVNCTDVSTAIHADQLTP</td>\n",
       "      <td>SARS-CoV</td>\n",
       "      <td>Coronaviridae</td>\n",
       "    </tr>\n",
       "    <tr>\n",
       "      <th>9</th>\n",
       "      <td>PTTFMLKYDENGTITDAVDC</td>\n",
       "      <td>SARS-CoV</td>\n",
       "      <td>Coronaviridae</td>\n",
       "    </tr>\n",
       "    <tr>\n",
       "      <th>10</th>\n",
       "      <td>ALNCYWPLNDYGFYTTTGIGYQPYRVVVLSFEL</td>\n",
       "      <td>SARS-CoV</td>\n",
       "      <td>Coronaviridae</td>\n",
       "    </tr>\n",
       "    <tr>\n",
       "      <th>11</th>\n",
       "      <td>KKKKYRNIRRPG</td>\n",
       "      <td>SARS-CoV</td>\n",
       "      <td>Coronaviridae</td>\n",
       "    </tr>\n",
       "    <tr>\n",
       "      <th>12</th>\n",
       "      <td>QYGSFCTQLNRALSGIAAEQ</td>\n",
       "      <td>SARS-CoV</td>\n",
       "      <td>Coronaviridae</td>\n",
       "    </tr>\n",
       "    <tr>\n",
       "      <th>13</th>\n",
       "      <td>TLKPIFKLPLGINITNFR</td>\n",
       "      <td>SARS-CoV</td>\n",
       "      <td>Coronaviridae</td>\n",
       "    </tr>\n",
       "    <tr>\n",
       "      <th>14</th>\n",
       "      <td>GYHLMSFPQAAPHGVVFLHVTW</td>\n",
       "      <td>SARS-CoV</td>\n",
       "      <td>Coronaviridae</td>\n",
       "    </tr>\n",
       "    <tr>\n",
       "      <th>15</th>\n",
       "      <td>GVFVFNGTSWFITQRNFFS</td>\n",
       "      <td>SARS-CoV</td>\n",
       "      <td>Coronaviridae</td>\n",
       "    </tr>\n",
       "    <tr>\n",
       "      <th>16</th>\n",
       "      <td>IQKEIDRLNEVAKNLNESLIDLQELGK</td>\n",
       "      <td>SARS-CoV</td>\n",
       "      <td>Coronaviridae</td>\n",
       "    </tr>\n",
       "    <tr>\n",
       "      <th>17</th>\n",
       "      <td>YENQKQIANQFNKAISQIQESLTTTSTA</td>\n",
       "      <td>SARS-CoV</td>\n",
       "      <td>Coronaviridae</td>\n",
       "    </tr>\n",
       "    <tr>\n",
       "      <th>18</th>\n",
       "      <td>GINASVVNIQKEIDRLNEVAKNL</td>\n",
       "      <td>SARS-CoV</td>\n",
       "      <td>Coronaviridae</td>\n",
       "    </tr>\n",
       "    <tr>\n",
       "      <th>19</th>\n",
       "      <td>GINASVVNIQKEIDRLNEVAKNLNESLIDL</td>\n",
       "      <td>SARS-CoV</td>\n",
       "      <td>Coronaviridae</td>\n",
       "    </tr>\n",
       "    <tr>\n",
       "      <th>20</th>\n",
       "      <td>GINASVVNIQKEIDRLNEVAKNLNESLIDLQELGKYE</td>\n",
       "      <td>SARS-CoV</td>\n",
       "      <td>Coronaviridae</td>\n",
       "    </tr>\n",
       "    <tr>\n",
       "      <th>21</th>\n",
       "      <td>NGIGVTQNVLYENQKQIANQFNKAISQIQESLTTTSTA</td>\n",
       "      <td>SARS-CoV</td>\n",
       "      <td>Coronaviridae</td>\n",
       "    </tr>\n",
       "    <tr>\n",
       "      <th>22</th>\n",
       "      <td>ISGINASVVNIQKEIDRLNEVAKNLNESLIDLQEL</td>\n",
       "      <td>SARS-CoV</td>\n",
       "      <td>Coronaviridae</td>\n",
       "    </tr>\n",
       "    <tr>\n",
       "      <th>23</th>\n",
       "      <td>ISGINASVVNIQEEIKKLNEEAKKLNESLIDLQEL</td>\n",
       "      <td>SARS-CoV</td>\n",
       "      <td>Coronaviridae</td>\n",
       "    </tr>\n",
       "    <tr>\n",
       "      <th>24</th>\n",
       "      <td>QKQIANQFNKAISQIQESLTTTSTALGKLQDVVNQNAQALNTLVKQ</td>\n",
       "      <td>SARS-CoV</td>\n",
       "      <td>Coronaviridae</td>\n",
       "    </tr>\n",
       "    <tr>\n",
       "      <th>25</th>\n",
       "      <td>QNQSANQFQKEISQINEVLTTTNTSLGKLQDDVNQNNQSLNTLQKE</td>\n",
       "      <td>SARS-CoV</td>\n",
       "      <td>Coronaviridae</td>\n",
       "    </tr>\n",
       "    <tr>\n",
       "      <th>26</th>\n",
       "      <td>PKEELDKYFKNHTSPDVDLGDISGINASVVNIQKEIDRLNEVAKNL...</td>\n",
       "      <td>SARS-CoV</td>\n",
       "      <td>Coronaviridae</td>\n",
       "    </tr>\n",
       "  </tbody>\n",
       "</table>\n",
       "</div>"
      ],
      "text/plain": [
       "                                             Sequence Abbreviation  \\\n",
       "0                                SNNTIAIPTNFSISITTEVM     SARS-CoV   \n",
       "1                                FKLPLGINITNFRAILTAFS     SARS-CoV   \n",
       "2                                VLYNSTFFSTFKCYGVSATK     SARS-CoV   \n",
       "3                                GIGVTQNVLYENQKQIANQF     SARS-CoV   \n",
       "4                                PALNCYWPLNDYGFYTTSGI     SARS-CoV   \n",
       "5                       FGGASCCLYCRCHIDHPNPKGFCDLKGKY     SARS-CoV   \n",
       "6                                        GGASCCLYCRCH     SARS-CoV   \n",
       "7                 IEEINKKVEEIQKKIEELNKKAEELNKKLEELQKK     SARS-CoV   \n",
       "8                                YQDVNCTDVSTAIHADQLTP     SARS-CoV   \n",
       "9                                PTTFMLKYDENGTITDAVDC     SARS-CoV   \n",
       "10                  ALNCYWPLNDYGFYTTTGIGYQPYRVVVLSFEL     SARS-CoV   \n",
       "11                                       KKKKYRNIRRPG     SARS-CoV   \n",
       "12                               QYGSFCTQLNRALSGIAAEQ     SARS-CoV   \n",
       "13                                 TLKPIFKLPLGINITNFR     SARS-CoV   \n",
       "14                             GYHLMSFPQAAPHGVVFLHVTW     SARS-CoV   \n",
       "15                                GVFVFNGTSWFITQRNFFS     SARS-CoV   \n",
       "16                        IQKEIDRLNEVAKNLNESLIDLQELGK     SARS-CoV   \n",
       "17                       YENQKQIANQFNKAISQIQESLTTTSTA     SARS-CoV   \n",
       "18                            GINASVVNIQKEIDRLNEVAKNL     SARS-CoV   \n",
       "19                     GINASVVNIQKEIDRLNEVAKNLNESLIDL     SARS-CoV   \n",
       "20              GINASVVNIQKEIDRLNEVAKNLNESLIDLQELGKYE     SARS-CoV   \n",
       "21             NGIGVTQNVLYENQKQIANQFNKAISQIQESLTTTSTA     SARS-CoV   \n",
       "22                ISGINASVVNIQKEIDRLNEVAKNLNESLIDLQEL     SARS-CoV   \n",
       "23                ISGINASVVNIQEEIKKLNEEAKKLNESLIDLQEL     SARS-CoV   \n",
       "24     QKQIANQFNKAISQIQESLTTTSTALGKLQDVVNQNAQALNTLVKQ     SARS-CoV   \n",
       "25     QNQSANQFQKEISQINEVLTTTNTSLGKLQDDVNQNNQSLNTLQKE     SARS-CoV   \n",
       "26  PKEELDKYFKNHTSPDVDLGDISGINASVVNIQKEIDRLNEVAKNL...     SARS-CoV   \n",
       "\n",
       "           Family  \n",
       "0   Coronaviridae  \n",
       "1   Coronaviridae  \n",
       "2   Coronaviridae  \n",
       "3   Coronaviridae  \n",
       "4   Coronaviridae  \n",
       "5   Coronaviridae  \n",
       "6   Coronaviridae  \n",
       "7   Coronaviridae  \n",
       "8   Coronaviridae  \n",
       "9   Coronaviridae  \n",
       "10  Coronaviridae  \n",
       "11  Coronaviridae  \n",
       "12  Coronaviridae  \n",
       "13  Coronaviridae  \n",
       "14  Coronaviridae  \n",
       "15  Coronaviridae  \n",
       "16  Coronaviridae  \n",
       "17  Coronaviridae  \n",
       "18  Coronaviridae  \n",
       "19  Coronaviridae  \n",
       "20  Coronaviridae  \n",
       "21  Coronaviridae  \n",
       "22  Coronaviridae  \n",
       "23  Coronaviridae  \n",
       "24  Coronaviridae  \n",
       "25  Coronaviridae  \n",
       "26  Coronaviridae  "
      ]
     },
     "execution_count": 12,
     "metadata": {},
     "output_type": "execute_result"
    }
   ],
   "source": [
    "cov_seq"
   ]
  },
  {
   "cell_type": "code",
   "execution_count": 13,
   "id": "fatty-airline",
   "metadata": {},
   "outputs": [],
   "source": [
    "df_cov = df.merge(cov_seq,how='right',on='Sequence').reset_index(drop=True)"
   ]
  },
  {
   "cell_type": "code",
   "execution_count": 14,
   "id": "announced-station",
   "metadata": {},
   "outputs": [
    {
     "data": {
      "text/html": [
       "<div>\n",
       "<style scoped>\n",
       "    .dataframe tbody tr th:only-of-type {\n",
       "        vertical-align: middle;\n",
       "    }\n",
       "\n",
       "    .dataframe tbody tr th {\n",
       "        vertical-align: top;\n",
       "    }\n",
       "\n",
       "    .dataframe thead th {\n",
       "        text-align: right;\n",
       "    }\n",
       "</style>\n",
       "<table border=\"1\" class=\"dataframe\">\n",
       "  <thead>\n",
       "    <tr style=\"text-align: right;\">\n",
       "      <th></th>\n",
       "      <th>Sequence</th>\n",
       "      <th>MIC</th>\n",
       "      <th>pIC50</th>\n",
       "      <th>Abbreviation</th>\n",
       "      <th>Family</th>\n",
       "    </tr>\n",
       "  </thead>\n",
       "  <tbody>\n",
       "    <tr>\n",
       "      <th>0</th>\n",
       "      <td>SNNTIAIPTNFSISITTEVM</td>\n",
       "      <td>278.801</td>\n",
       "      <td>8.185012</td>\n",
       "      <td>SARS-CoV</td>\n",
       "      <td>Coronaviridae</td>\n",
       "    </tr>\n",
       "    <tr>\n",
       "      <th>1</th>\n",
       "      <td>FKLPLGINITNFRAILTAFS</td>\n",
       "      <td>266.434</td>\n",
       "      <td>8.230384</td>\n",
       "      <td>SARS-CoV</td>\n",
       "      <td>Coronaviridae</td>\n",
       "    </tr>\n",
       "    <tr>\n",
       "      <th>2</th>\n",
       "      <td>VLYNSTFFSTFKCYGVSATK</td>\n",
       "      <td>262.667</td>\n",
       "      <td>8.244623</td>\n",
       "      <td>SARS-CoV</td>\n",
       "      <td>Coronaviridae</td>\n",
       "    </tr>\n",
       "    <tr>\n",
       "      <th>3</th>\n",
       "      <td>GIGVTQNVLYENQKQIANQF</td>\n",
       "      <td>262.539</td>\n",
       "      <td>8.245111</td>\n",
       "      <td>SARS-CoV</td>\n",
       "      <td>Coronaviridae</td>\n",
       "    </tr>\n",
       "    <tr>\n",
       "      <th>4</th>\n",
       "      <td>PALNCYWPLNDYGFYTTSGI</td>\n",
       "      <td>258.330</td>\n",
       "      <td>8.261273</td>\n",
       "      <td>SARS-CoV</td>\n",
       "      <td>Coronaviridae</td>\n",
       "    </tr>\n",
       "    <tr>\n",
       "      <th>5</th>\n",
       "      <td>FGGASCCLYCRCHIDHPNPKGFCDLKGKY</td>\n",
       "      <td>160.000</td>\n",
       "      <td>8.740337</td>\n",
       "      <td>SARS-CoV</td>\n",
       "      <td>Coronaviridae</td>\n",
       "    </tr>\n",
       "    <tr>\n",
       "      <th>6</th>\n",
       "      <td>GGASCCLYCRCH</td>\n",
       "      <td>160.000</td>\n",
       "      <td>8.740337</td>\n",
       "      <td>SARS-CoV</td>\n",
       "      <td>Coronaviridae</td>\n",
       "    </tr>\n",
       "    <tr>\n",
       "      <th>7</th>\n",
       "      <td>IEEINKKVEEIQKKIEELNKKAEELNKKLEELQKK</td>\n",
       "      <td>100.000</td>\n",
       "      <td>9.210340</td>\n",
       "      <td>SARS-CoV</td>\n",
       "      <td>Coronaviridae</td>\n",
       "    </tr>\n",
       "    <tr>\n",
       "      <th>8</th>\n",
       "      <td>YQDVNCTDVSTAIHADQLTP</td>\n",
       "      <td>61.704</td>\n",
       "      <td>9.693162</td>\n",
       "      <td>SARS-CoV</td>\n",
       "      <td>Coronaviridae</td>\n",
       "    </tr>\n",
       "    <tr>\n",
       "      <th>9</th>\n",
       "      <td>PTTFMLKYDENGTITDAVDC</td>\n",
       "      <td>60.018</td>\n",
       "      <td>9.720866</td>\n",
       "      <td>SARS-CoV</td>\n",
       "      <td>Coronaviridae</td>\n",
       "    </tr>\n",
       "    <tr>\n",
       "      <th>10</th>\n",
       "      <td>ALNCYWPLNDYGFYTTTGIGYQPYRVVVLSFEL</td>\n",
       "      <td>41.600</td>\n",
       "      <td>10.087410</td>\n",
       "      <td>SARS-CoV</td>\n",
       "      <td>Coronaviridae</td>\n",
       "    </tr>\n",
       "    <tr>\n",
       "      <th>11</th>\n",
       "      <td>KKKKYRNIRRPG</td>\n",
       "      <td>33.889</td>\n",
       "      <td>10.292420</td>\n",
       "      <td>SARS-CoV</td>\n",
       "      <td>Coronaviridae</td>\n",
       "    </tr>\n",
       "    <tr>\n",
       "      <th>12</th>\n",
       "      <td>QYGSFCTQLNRALSGIAAEQ</td>\n",
       "      <td>13.854</td>\n",
       "      <td>11.186937</td>\n",
       "      <td>SARS-CoV</td>\n",
       "      <td>Coronaviridae</td>\n",
       "    </tr>\n",
       "    <tr>\n",
       "      <th>13</th>\n",
       "      <td>TLKPIFKLPLGINITNFR</td>\n",
       "      <td>11.000</td>\n",
       "      <td>11.417615</td>\n",
       "      <td>SARS-CoV</td>\n",
       "      <td>Coronaviridae</td>\n",
       "    </tr>\n",
       "    <tr>\n",
       "      <th>14</th>\n",
       "      <td>GYHLMSFPQAAPHGVVFLHVTW</td>\n",
       "      <td>2.000</td>\n",
       "      <td>13.122363</td>\n",
       "      <td>SARS-CoV</td>\n",
       "      <td>Coronaviridae</td>\n",
       "    </tr>\n",
       "    <tr>\n",
       "      <th>15</th>\n",
       "      <td>GVFVFNGTSWFITQRNFFS</td>\n",
       "      <td>2.000</td>\n",
       "      <td>13.122363</td>\n",
       "      <td>SARS-CoV</td>\n",
       "      <td>Coronaviridae</td>\n",
       "    </tr>\n",
       "    <tr>\n",
       "      <th>16</th>\n",
       "      <td>IQKEIDRLNEVAKNLNESLIDLQELGK</td>\n",
       "      <td>1.190</td>\n",
       "      <td>13.641557</td>\n",
       "      <td>SARS-CoV</td>\n",
       "      <td>Coronaviridae</td>\n",
       "    </tr>\n",
       "    <tr>\n",
       "      <th>17</th>\n",
       "      <td>YENQKQIANQFNKAISQIQESLTTTSTA</td>\n",
       "      <td>1.160</td>\n",
       "      <td>13.667091</td>\n",
       "      <td>SARS-CoV</td>\n",
       "      <td>Coronaviridae</td>\n",
       "    </tr>\n",
       "    <tr>\n",
       "      <th>18</th>\n",
       "      <td>GINASVVNIQKEIDRLNEVAKNL</td>\n",
       "      <td>1.040</td>\n",
       "      <td>13.776290</td>\n",
       "      <td>SARS-CoV</td>\n",
       "      <td>Coronaviridae</td>\n",
       "    </tr>\n",
       "    <tr>\n",
       "      <th>19</th>\n",
       "      <td>GINASVVNIQKEIDRLNEVAKNLNESLIDL</td>\n",
       "      <td>0.800</td>\n",
       "      <td>14.038654</td>\n",
       "      <td>SARS-CoV</td>\n",
       "      <td>Coronaviridae</td>\n",
       "    </tr>\n",
       "    <tr>\n",
       "      <th>20</th>\n",
       "      <td>GINASVVNIQKEIDRLNEVAKNLNESLIDLQELGKYE</td>\n",
       "      <td>0.620</td>\n",
       "      <td>14.293546</td>\n",
       "      <td>SARS-CoV</td>\n",
       "      <td>Coronaviridae</td>\n",
       "    </tr>\n",
       "    <tr>\n",
       "      <th>21</th>\n",
       "      <td>NGIGVTQNVLYENQKQIANQFNKAISQIQESLTTTSTA</td>\n",
       "      <td>0.140</td>\n",
       "      <td>15.781623</td>\n",
       "      <td>SARS-CoV</td>\n",
       "      <td>Coronaviridae</td>\n",
       "    </tr>\n",
       "    <tr>\n",
       "      <th>22</th>\n",
       "      <td>ISGINASVVNIQKEIDRLNEVAKNLNESLIDLQEL</td>\n",
       "      <td>0.005</td>\n",
       "      <td>19.113828</td>\n",
       "      <td>SARS-CoV</td>\n",
       "      <td>Coronaviridae</td>\n",
       "    </tr>\n",
       "    <tr>\n",
       "      <th>23</th>\n",
       "      <td>ISGINASVVNIQEEIKKLNEEAKKLNESLIDLQEL</td>\n",
       "      <td>0.004</td>\n",
       "      <td>19.336971</td>\n",
       "      <td>SARS-CoV</td>\n",
       "      <td>Coronaviridae</td>\n",
       "    </tr>\n",
       "    <tr>\n",
       "      <th>24</th>\n",
       "      <td>QKQIANQFNKAISQIQESLTTTSTALGKLQDVVNQNAQALNTLVKQ</td>\n",
       "      <td>3.970</td>\n",
       "      <td>12.436744</td>\n",
       "      <td>SARS-CoV</td>\n",
       "      <td>Coronaviridae</td>\n",
       "    </tr>\n",
       "    <tr>\n",
       "      <th>25</th>\n",
       "      <td>QNQSANQFQKEISQINEVLTTTNTSLGKLQDDVNQNNQSLNTLQKE</td>\n",
       "      <td>5.070</td>\n",
       "      <td>12.192170</td>\n",
       "      <td>SARS-CoV</td>\n",
       "      <td>Coronaviridae</td>\n",
       "    </tr>\n",
       "    <tr>\n",
       "      <th>26</th>\n",
       "      <td>PKEELDKYFKNHTSPDVDLGDISGINASVVNIQKEIDRLNEVAKNL...</td>\n",
       "      <td>24.000</td>\n",
       "      <td>10.637457</td>\n",
       "      <td>SARS-CoV</td>\n",
       "      <td>Coronaviridae</td>\n",
       "    </tr>\n",
       "  </tbody>\n",
       "</table>\n",
       "</div>"
      ],
      "text/plain": [
       "                                             Sequence      MIC      pIC50  \\\n",
       "0                                SNNTIAIPTNFSISITTEVM  278.801   8.185012   \n",
       "1                                FKLPLGINITNFRAILTAFS  266.434   8.230384   \n",
       "2                                VLYNSTFFSTFKCYGVSATK  262.667   8.244623   \n",
       "3                                GIGVTQNVLYENQKQIANQF  262.539   8.245111   \n",
       "4                                PALNCYWPLNDYGFYTTSGI  258.330   8.261273   \n",
       "5                       FGGASCCLYCRCHIDHPNPKGFCDLKGKY  160.000   8.740337   \n",
       "6                                        GGASCCLYCRCH  160.000   8.740337   \n",
       "7                 IEEINKKVEEIQKKIEELNKKAEELNKKLEELQKK  100.000   9.210340   \n",
       "8                                YQDVNCTDVSTAIHADQLTP   61.704   9.693162   \n",
       "9                                PTTFMLKYDENGTITDAVDC   60.018   9.720866   \n",
       "10                  ALNCYWPLNDYGFYTTTGIGYQPYRVVVLSFEL   41.600  10.087410   \n",
       "11                                       KKKKYRNIRRPG   33.889  10.292420   \n",
       "12                               QYGSFCTQLNRALSGIAAEQ   13.854  11.186937   \n",
       "13                                 TLKPIFKLPLGINITNFR   11.000  11.417615   \n",
       "14                             GYHLMSFPQAAPHGVVFLHVTW    2.000  13.122363   \n",
       "15                                GVFVFNGTSWFITQRNFFS    2.000  13.122363   \n",
       "16                        IQKEIDRLNEVAKNLNESLIDLQELGK    1.190  13.641557   \n",
       "17                       YENQKQIANQFNKAISQIQESLTTTSTA    1.160  13.667091   \n",
       "18                            GINASVVNIQKEIDRLNEVAKNL    1.040  13.776290   \n",
       "19                     GINASVVNIQKEIDRLNEVAKNLNESLIDL    0.800  14.038654   \n",
       "20              GINASVVNIQKEIDRLNEVAKNLNESLIDLQELGKYE    0.620  14.293546   \n",
       "21             NGIGVTQNVLYENQKQIANQFNKAISQIQESLTTTSTA    0.140  15.781623   \n",
       "22                ISGINASVVNIQKEIDRLNEVAKNLNESLIDLQEL    0.005  19.113828   \n",
       "23                ISGINASVVNIQEEIKKLNEEAKKLNESLIDLQEL    0.004  19.336971   \n",
       "24     QKQIANQFNKAISQIQESLTTTSTALGKLQDVVNQNAQALNTLVKQ    3.970  12.436744   \n",
       "25     QNQSANQFQKEISQINEVLTTTNTSLGKLQDDVNQNNQSLNTLQKE    5.070  12.192170   \n",
       "26  PKEELDKYFKNHTSPDVDLGDISGINASVVNIQKEIDRLNEVAKNL...   24.000  10.637457   \n",
       "\n",
       "   Abbreviation         Family  \n",
       "0      SARS-CoV  Coronaviridae  \n",
       "1      SARS-CoV  Coronaviridae  \n",
       "2      SARS-CoV  Coronaviridae  \n",
       "3      SARS-CoV  Coronaviridae  \n",
       "4      SARS-CoV  Coronaviridae  \n",
       "5      SARS-CoV  Coronaviridae  \n",
       "6      SARS-CoV  Coronaviridae  \n",
       "7      SARS-CoV  Coronaviridae  \n",
       "8      SARS-CoV  Coronaviridae  \n",
       "9      SARS-CoV  Coronaviridae  \n",
       "10     SARS-CoV  Coronaviridae  \n",
       "11     SARS-CoV  Coronaviridae  \n",
       "12     SARS-CoV  Coronaviridae  \n",
       "13     SARS-CoV  Coronaviridae  \n",
       "14     SARS-CoV  Coronaviridae  \n",
       "15     SARS-CoV  Coronaviridae  \n",
       "16     SARS-CoV  Coronaviridae  \n",
       "17     SARS-CoV  Coronaviridae  \n",
       "18     SARS-CoV  Coronaviridae  \n",
       "19     SARS-CoV  Coronaviridae  \n",
       "20     SARS-CoV  Coronaviridae  \n",
       "21     SARS-CoV  Coronaviridae  \n",
       "22     SARS-CoV  Coronaviridae  \n",
       "23     SARS-CoV  Coronaviridae  \n",
       "24     SARS-CoV  Coronaviridae  \n",
       "25     SARS-CoV  Coronaviridae  \n",
       "26     SARS-CoV  Coronaviridae  "
      ]
     },
     "execution_count": 14,
     "metadata": {},
     "output_type": "execute_result"
    }
   ],
   "source": [
    "df_cov#.to_csv(\"../data/raw/hiv_cdhit_filtered.csv\", index=False)"
   ]
  },
  {
   "cell_type": "code",
   "execution_count": 15,
   "id": "bearing-johns",
   "metadata": {},
   "outputs": [],
   "source": [
    "def get_physicochemical_properties(df):\n",
    "    params = ['aromaticity', 'helix', 'turn', 'sheet', 'gravy', 'net_charge_at_pH7point4']\n",
    "\n",
    "    prop = []\n",
    "    for seq in df.Sequence:\n",
    "        X = ProteinAnalysis(seq)\n",
    "        aromaticity = X.aromaticity()\n",
    "        sec_struc = X.secondary_structure_fraction()\n",
    "        helix = sec_struc[0]\n",
    "        turn = sec_struc[1]\n",
    "        sheet = sec_struc[2]\n",
    "        gravy = X.gravy() # hydrophobicity related\n",
    "        net_charge_at_pH7point4 = X.charge_at_pH(7.4)\n",
    "\n",
    "        prop.append([aromaticity, helix, turn, sheet, gravy, net_charge_at_pH7point4])\n",
    "    return pd.DataFrame(prop, columns=params)"
   ]
  },
  {
   "cell_type": "code",
   "execution_count": 16,
   "id": "endangered-split",
   "metadata": {},
   "outputs": [],
   "source": [
    "aa_freq = reduce_by_kmer_frequency(df_cov)"
   ]
  },
  {
   "cell_type": "code",
   "execution_count": 17,
   "id": "scientific-technician",
   "metadata": {},
   "outputs": [
    {
     "name": "stderr",
     "output_type": "stream",
     "text": [
      "/Users/in-divye.singh/anaconda3/envs/life-science/lib/python3.6/site-packages/smart_open/smart_open_lib.py:254: UserWarning: This function is deprecated, use smart_open.open instead. See the migration notes for details: https://github.com/RaRe-Technologies/smart_open/blob/master/README.rst#migrating-to-the-new-open-function\n",
      "  'See the migration notes for details: %s' % _MIGRATION_NOTES_URL\n",
      "Creating vectors: 100%|██████████| 27/27 [00:00<00:00, 847.85sequence/s]\n"
     ]
    }
   ],
   "source": [
    "uniprot_embedding = biovec.models.load_protvec(\"../data/embeddings/uniprot__kmer_3_contextWindow_10_vector_100_reduction_None\")\n",
    "\n",
    "avg_protvec = convert_sequences_to_avg_vectors(df_cov['Sequence'], uniprot_embedding, kmer=3)\n",
    "avg_protvec = avg_protvec.reset_index(drop=True)"
   ]
  },
  {
   "cell_type": "code",
   "execution_count": 18,
   "id": "equipped-works",
   "metadata": {},
   "outputs": [],
   "source": [
    "physicochemical_prop = get_physicochemical_properties(df_cov)"
   ]
  },
  {
   "cell_type": "code",
   "execution_count": 19,
   "id": "hybrid-christian",
   "metadata": {},
   "outputs": [],
   "source": [
    "X = pd.concat([aa_freq, avg_protvec, physicochemical_prop[['helix','turn','sheet']]], axis=1)"
   ]
  },
  {
   "cell_type": "code",
   "execution_count": 20,
   "id": "tested-minutes",
   "metadata": {},
   "outputs": [],
   "source": [
    "y = df_cov[['pIC50', 'MIC']]"
   ]
  },
  {
   "cell_type": "code",
   "execution_count": 21,
   "id": "alleged-completion",
   "metadata": {},
   "outputs": [],
   "source": [
    "X_train, X_test, y_train, y_test = train_test_split(X, y, test_size=0.2, random_state=42)"
   ]
  },
  {
   "cell_type": "code",
   "execution_count": 22,
   "id": "civic-auction",
   "metadata": {},
   "outputs": [],
   "source": [
    "y_train_pmic, y_train_mic = y_train['pIC50'], y_train['MIC']\n",
    "y_test_pmic, y_test_mic = y_test['pIC50'], y_test['MIC']"
   ]
  },
  {
   "cell_type": "code",
   "execution_count": 23,
   "id": "according-stack",
   "metadata": {},
   "outputs": [],
   "source": [
    "from scipy.stats import pearsonr"
   ]
  },
  {
   "cell_type": "code",
   "execution_count": 24,
   "id": "interpreted-trustee",
   "metadata": {},
   "outputs": [],
   "source": [
    "from sklearn.model_selection import cross_val_score, GridSearchCV, LeaveOneOut"
   ]
  },
  {
   "cell_type": "code",
   "execution_count": 51,
   "id": "spanish-memory",
   "metadata": {},
   "outputs": [],
   "source": [
    "def multi_objective_score(y_true, y_pred):\n",
    "    mape = mean_absolute_percentage_error(y_true, y_pred)\n",
    "    pcc = pearson_score(y_true, y_pred)\n",
    "    std_diff = abs(np.std(y_pred) - np.std(y_true))\n",
    "    return mape + 10*std_diff\n",
    "multi_objective_scorer = make_scorer(multi_objective_score, greater_is_better=False)"
   ]
  },
  {
   "cell_type": "code",
   "execution_count": 52,
   "id": "thrown-indianapolis",
   "metadata": {},
   "outputs": [],
   "source": [
    "param_grid = {\n",
    "    'C':[0.001,0.01,0.1,1,10,100,1000],\n",
    "    'kernel':['rbf','poly','sigmoid','linear'],\n",
    "    'degree':[1,2,3,4,5,6],\n",
    "    'gamma': np.arange(0.1,1.0,0.1).round(1).tolist() + np.arange(1,11,1).round().tolist()\n",
    "}\n",
    "svr = SVR()\n",
    "# Instantiate the grid search model\n",
    "grid_search = GridSearchCV(estimator = svr, param_grid = param_grid, \n",
    "                          cv = 5, n_jobs = -1, verbose = 2, scoring=multi_objective_scorer)"
   ]
  },
  {
   "cell_type": "code",
   "execution_count": 53,
   "id": "smart-musician",
   "metadata": {
    "scrolled": false
   },
   "outputs": [
    {
     "name": "stdout",
     "output_type": "stream",
     "text": [
      "Fitting 5 folds for each of 3192 candidates, totalling 15960 fits\n"
     ]
    },
    {
     "name": "stderr",
     "output_type": "stream",
     "text": [
      "[Parallel(n_jobs=-1)]: Using backend LokyBackend with 12 concurrent workers.\n",
      "[Parallel(n_jobs=-1)]: Done  17 tasks      | elapsed:    1.8s\n",
      "[Parallel(n_jobs=-1)]: Done 360 tasks      | elapsed:    2.7s\n",
      "[Parallel(n_jobs=-1)]: Done 3560 tasks      | elapsed:    9.4s\n",
      "[Parallel(n_jobs=-1)]: Done 8088 tasks      | elapsed:   15.5s\n",
      "[Parallel(n_jobs=-1)]: Done 13928 tasks      | elapsed:   23.0s\n",
      "[Parallel(n_jobs=-1)]: Done 15960 out of 15960 | elapsed:   25.4s finished\n"
     ]
    },
    {
     "data": {
      "text/plain": [
       "GridSearchCV(cv=5, estimator=SVR(), n_jobs=-1,\n",
       "             param_grid={'C': [0.001, 0.01, 0.1, 1, 10, 100, 1000],\n",
       "                         'degree': [1, 2, 3, 4, 5, 6],\n",
       "                         'gamma': [0.1, 0.2, 0.3, 0.4, 0.5, 0.6, 0.7, 0.8, 0.9,\n",
       "                                   1, 2, 3, 4, 5, 6, 7, 8, 9, 10],\n",
       "                         'kernel': ['rbf', 'poly', 'sigmoid', 'linear']},\n",
       "             scoring=make_scorer(multi_objective_score, greater_is_better=False),\n",
       "             verbose=2)"
      ]
     },
     "execution_count": 53,
     "metadata": {},
     "output_type": "execute_result"
    }
   ],
   "source": [
    "grid_search.fit(X_train, y_train_pmic)"
   ]
  },
  {
   "cell_type": "code",
   "execution_count": 54,
   "id": "neural-payment",
   "metadata": {},
   "outputs": [
    {
     "data": {
      "text/plain": [
       "{'C': 0.01, 'degree': 6, 'gamma': 7, 'kernel': 'poly'}"
      ]
     },
     "execution_count": 54,
     "metadata": {},
     "output_type": "execute_result"
    }
   ],
   "source": [
    "grid_search.best_params_"
   ]
  },
  {
   "cell_type": "code",
   "execution_count": 55,
   "id": "friendly-vector",
   "metadata": {},
   "outputs": [],
   "source": [
    "best_grid = grid_search.best_estimator_"
   ]
  },
  {
   "cell_type": "code",
   "execution_count": 56,
   "id": "fifteen-edwards",
   "metadata": {},
   "outputs": [],
   "source": [
    "y_pred_pmic = best_grid.predict(X_test)"
   ]
  },
  {
   "cell_type": "code",
   "execution_count": 57,
   "id": "featured-stopping",
   "metadata": {},
   "outputs": [
    {
     "data": {
      "text/plain": [
       "(2.4037940553898784, 1.8046209785406346)"
      ]
     },
     "execution_count": 57,
     "metadata": {},
     "output_type": "execute_result"
    }
   ],
   "source": [
    "np.std(y_test_pmic), np.std(y_pred_pmic)"
   ]
  },
  {
   "cell_type": "code",
   "execution_count": 58,
   "id": "pacific-instrument",
   "metadata": {},
   "outputs": [
    {
     "data": {
      "text/plain": [
       "19.267728370660528"
      ]
     },
     "execution_count": 58,
     "metadata": {},
     "output_type": "execute_result"
    }
   ],
   "source": [
    "mean_absolute_percentage_error(y_test_pmic, y_pred_pmic)"
   ]
  },
  {
   "cell_type": "code",
   "execution_count": 59,
   "id": "eastern-clinton",
   "metadata": {},
   "outputs": [],
   "source": [
    "y_pred_mic = np.exp(-y_pred_pmic)/1e-6"
   ]
  },
  {
   "cell_type": "code",
   "execution_count": 60,
   "id": "checked-estate",
   "metadata": {},
   "outputs": [],
   "source": [
    "ape_mic = 100*np.abs(y_test_mic-y_pred_mic)/y_test_mic"
   ]
  },
  {
   "cell_type": "code",
   "execution_count": 61,
   "id": "fundamental-facility",
   "metadata": {},
   "outputs": [
    {
     "data": {
      "text/plain": [
       "7037.535999807114"
      ]
     },
     "execution_count": 61,
     "metadata": {},
     "output_type": "execute_result"
    }
   ],
   "source": [
    "mean_absolute_percentage_error(y_test_mic, y_pred_mic)"
   ]
  },
  {
   "cell_type": "code",
   "execution_count": 62,
   "id": "numerical-reservoir",
   "metadata": {
    "scrolled": true
   },
   "outputs": [
    {
     "data": {
      "text/plain": [
       "-0.2995853822894446"
      ]
     },
     "execution_count": 62,
     "metadata": {},
     "output_type": "execute_result"
    }
   ],
   "source": [
    "pearson_score(y_test_mic, y_pred_mic)"
   ]
  },
  {
   "cell_type": "code",
   "execution_count": 63,
   "id": "combined-flour",
   "metadata": {},
   "outputs": [
    {
     "data": {
      "text/plain": [
       "[(61.704, 37.2877, 39.5700747241679),\n",
       " (11.0, 3727.3695, 33785.17749709676),\n",
       " (60.018, 59.7536, 0.4405546380141495),\n",
       " (0.14, 11.5871, 8176.515085019573),\n",
       " (278.801, 42.7807, 84.65545573439569),\n",
       " (33.889, 80.9464, 138.85733162978485)]"
      ]
     },
     "execution_count": 63,
     "metadata": {},
     "output_type": "execute_result"
    }
   ],
   "source": [
    "list(zip(y_test_mic.round(4), y_pred_mic.round(4), ape_mic))"
   ]
  },
  {
   "cell_type": "code",
   "execution_count": 65,
   "id": "blond-thunder",
   "metadata": {},
   "outputs": [
    {
     "name": "stderr",
     "output_type": "stream",
     "text": [
      "27it [00:00, 97.77it/s]\n"
     ]
    }
   ],
   "source": [
    "loo = LeaveOneOut()\n",
    "\n",
    "from tqdm import tqdm\n",
    "\n",
    "result_df = pd.DataFrame(columns = list(df_cov.columns)+[\"y_pred_pmic\", \"y_pred_mic\", \"ape_pmic\", \"ape_mic\"])\n",
    "for train_index, test_index in tqdm(loo.split(X)):\n",
    "    X_train, X_test = X.iloc[train_index,:], X.iloc[test_index,:]\n",
    "    y_train, y_test = y.iloc[train_index], y.iloc[test_index]\n",
    "    y_train_pmic, y_train_mic = y_train['pIC50'], y_train['MIC']\n",
    "    y_test_pmic, y_test_mic = y_test['pIC50'], y_test['MIC']\n",
    "    svr = SVR(**grid_search.best_params_)\n",
    "    _ = svr.fit(X_train, y_train_pmic)\n",
    "    y_pred_pmic = svr.predict(X_test)\n",
    "    y_pred_mic = np.exp(-y_pred_pmic)/1e-6\n",
    "    ape = 100*np.abs(y_test_pmic-y_pred_pmic)/y_test_pmic\n",
    "    ape_mic = 100*np.abs(y_test_mic-y_pred_mic)/y_test_mic\n",
    "    df_val = df_cov.iloc[test_index,:].values[0].tolist()\n",
    "    res = np.append(df_val, [y_pred_pmic[0], y_pred_mic[0], ape.values[0], ape_mic.values[0]])\n",
    "    res = pd.DataFrame([res], columns = list(df_cov.columns)+[\"y_pred_pmic\", \"y_pred_mic\", \"ape_pmic\", \"ape_mic\"])\n",
    "    result_df = result_df.append(res)\n",
    "result_df = result_df[[\"Sequence\", \"pIC50\", \"y_pred_pmic\", \"ape_pmic\", \"MIC\", \"y_pred_mic\", \"ape_mic\"]]"
   ]
  },
  {
   "cell_type": "code",
   "execution_count": 66,
   "id": "hired-harrison",
   "metadata": {},
   "outputs": [
    {
     "data": {
      "text/html": [
       "<div>\n",
       "<style scoped>\n",
       "    .dataframe tbody tr th:only-of-type {\n",
       "        vertical-align: middle;\n",
       "    }\n",
       "\n",
       "    .dataframe tbody tr th {\n",
       "        vertical-align: top;\n",
       "    }\n",
       "\n",
       "    .dataframe thead th {\n",
       "        text-align: right;\n",
       "    }\n",
       "</style>\n",
       "<table border=\"1\" class=\"dataframe\">\n",
       "  <thead>\n",
       "    <tr style=\"text-align: right;\">\n",
       "      <th></th>\n",
       "      <th>Sequence</th>\n",
       "      <th>pIC50</th>\n",
       "      <th>y_pred_pmic</th>\n",
       "      <th>ape_pmic</th>\n",
       "      <th>MIC</th>\n",
       "      <th>y_pred_mic</th>\n",
       "      <th>ape_mic</th>\n",
       "    </tr>\n",
       "  </thead>\n",
       "  <tbody>\n",
       "    <tr>\n",
       "      <th>0</th>\n",
       "      <td>SNNTIAIPTNFSISITTEVM</td>\n",
       "      <td>8.185012292283764</td>\n",
       "      <td>18.031200802853167</td>\n",
       "      <td>120.29534176572558</td>\n",
       "      <td>278.801</td>\n",
       "      <td>0.014762128765728945</td>\n",
       "      <td>99.99470513779875</td>\n",
       "    </tr>\n",
       "    <tr>\n",
       "      <th>0</th>\n",
       "      <td>FKLPLGINITNFRAILTAFS</td>\n",
       "      <td>8.230383999814125</td>\n",
       "      <td>14.049197044383916</td>\n",
       "      <td>70.69916840698082</td>\n",
       "      <td>266.434</td>\n",
       "      <td>0.7916099574676875</td>\n",
       "      <td>99.70288703488755</td>\n",
       "    </tr>\n",
       "    <tr>\n",
       "      <th>0</th>\n",
       "      <td>VLYNSTFFSTFKCYGVSATK</td>\n",
       "      <td>8.244623487739776</td>\n",
       "      <td>10.739607505259</td>\n",
       "      <td>30.26195218289115</td>\n",
       "      <td>262.66700000000003</td>\n",
       "      <td>21.669441726383713</td>\n",
       "      <td>91.75022300997699</td>\n",
       "    </tr>\n",
       "    <tr>\n",
       "      <th>0</th>\n",
       "      <td>GIGVTQNVLYENQKQIANQF</td>\n",
       "      <td>8.245110915539666</td>\n",
       "      <td>16.13141353479719</td>\n",
       "      <td>95.64822959984818</td>\n",
       "      <td>262.539</td>\n",
       "      <td>0.0986770406793368</td>\n",
       "      <td>99.96241433056447</td>\n",
       "    </tr>\n",
       "    <tr>\n",
       "      <th>0</th>\n",
       "      <td>PALNCYWPLNDYGFYTTSGI</td>\n",
       "      <td>8.26127272058809</td>\n",
       "      <td>10.180435937398645</td>\n",
       "      <td>23.230842047228</td>\n",
       "      <td>258.33</td>\n",
       "      <td>37.904681260369436</td>\n",
       "      <td>85.32703082864187</td>\n",
       "    </tr>\n",
       "    <tr>\n",
       "      <th>0</th>\n",
       "      <td>FGGASCCLYCRCHIDHPNPKGFCDLKGKY</td>\n",
       "      <td>8.740336742730447</td>\n",
       "      <td>9.36997115614267</td>\n",
       "      <td>7.203777519623661</td>\n",
       "      <td>160.0</td>\n",
       "      <td>85.24584720349382</td>\n",
       "      <td>46.72134549781636</td>\n",
       "    </tr>\n",
       "    <tr>\n",
       "      <th>0</th>\n",
       "      <td>GGASCCLYCRCH</td>\n",
       "      <td>8.740336742730447</td>\n",
       "      <td>8.702004570026757</td>\n",
       "      <td>0.4385663142277883</td>\n",
       "      <td>160.0</td>\n",
       "      <td>166.25221253648093</td>\n",
       "      <td>3.9076328353005785</td>\n",
       "    </tr>\n",
       "    <tr>\n",
       "      <th>0</th>\n",
       "      <td>IEEINKKVEEIQKKIEELNKKAEELNKKLEELQKK</td>\n",
       "      <td>9.210340371976184</td>\n",
       "      <td>10.144376329278776</td>\n",
       "      <td>10.141166553893429</td>\n",
       "      <td>100.0</td>\n",
       "      <td>39.296451755732335</td>\n",
       "      <td>60.703548244267665</td>\n",
       "    </tr>\n",
       "    <tr>\n",
       "      <th>0</th>\n",
       "      <td>YQDVNCTDVSTAIHADQLTP</td>\n",
       "      <td>9.693161799332577</td>\n",
       "      <td>10.220795863326199</td>\n",
       "      <td>5.443363836451716</td>\n",
       "      <td>61.70399999999999</td>\n",
       "      <td>36.40531187537683</td>\n",
       "      <td>41.00007799271225</td>\n",
       "    </tr>\n",
       "    <tr>\n",
       "      <th>0</th>\n",
       "      <td>PTTFMLKYDENGTITDAVDC</td>\n",
       "      <td>9.720866040733176</td>\n",
       "      <td>9.644710143659855</td>\n",
       "      <td>0.7834270810255564</td>\n",
       "      <td>60.018</td>\n",
       "      <td>64.76727201691855</td>\n",
       "      <td>7.913079437699612</td>\n",
       "    </tr>\n",
       "    <tr>\n",
       "      <th>0</th>\n",
       "      <td>ALNCYWPLNDYGFYTTTGIGYQPYRVVVLSFEL</td>\n",
       "      <td>10.087410390697057</td>\n",
       "      <td>8.911222869566993</td>\n",
       "      <td>11.659955088322599</td>\n",
       "      <td>41.6</td>\n",
       "      <td>134.8668085912161</td>\n",
       "      <td>224.19905911350028</td>\n",
       "    </tr>\n",
       "    <tr>\n",
       "      <th>0</th>\n",
       "      <td>KKKKYRNIRRPG</td>\n",
       "      <td>10.292420080009933</td>\n",
       "      <td>9.47116877309752</td>\n",
       "      <td>7.979185658263761</td>\n",
       "      <td>33.889</td>\n",
       "      <td>77.0413110298702</td>\n",
       "      <td>127.33427079545042</td>\n",
       "    </tr>\n",
       "    <tr>\n",
       "      <th>0</th>\n",
       "      <td>QYGSFCTQLNRALSGIAAEQ</td>\n",
       "      <td>11.186936558363861</td>\n",
       "      <td>10.718997459529433</td>\n",
       "      <td>4.182906521308334</td>\n",
       "      <td>13.854000000000001</td>\n",
       "      <td>22.12068400036444</td>\n",
       "      <td>59.67001588252086</td>\n",
       "    </tr>\n",
       "    <tr>\n",
       "      <th>0</th>\n",
       "      <td>TLKPIFKLPLGINITNFR</td>\n",
       "      <td>11.417615285165903</td>\n",
       "      <td>5.864220410846617</td>\n",
       "      <td>48.63883337823108</td>\n",
       "      <td>11.0</td>\n",
       "      <td>2839.235620217266</td>\n",
       "      <td>25711.23291106605</td>\n",
       "    </tr>\n",
       "    <tr>\n",
       "      <th>0</th>\n",
       "      <td>GYHLMSFPQAAPHGVVFLHVTW</td>\n",
       "      <td>13.122363377404328</td>\n",
       "      <td>9.801614146422393</td>\n",
       "      <td>25.30603013707121</td>\n",
       "      <td>2.0</td>\n",
       "      <td>55.36216463118788</td>\n",
       "      <td>2668.108231559394</td>\n",
       "    </tr>\n",
       "    <tr>\n",
       "      <th>0</th>\n",
       "      <td>GVFVFNGTSWFITQRNFFS</td>\n",
       "      <td>13.122363377404328</td>\n",
       "      <td>6.678318593277501</td>\n",
       "      <td>49.10734902542755</td>\n",
       "      <td>2.0</td>\n",
       "      <td>1257.891222205611</td>\n",
       "      <td>62794.56111028055</td>\n",
       "    </tr>\n",
       "    <tr>\n",
       "      <th>0</th>\n",
       "      <td>IQKEIDRLNEVAKNLNESLIDLQELGK</td>\n",
       "      <td>13.641557250840837</td>\n",
       "      <td>14.94176220861361</td>\n",
       "      <td>9.53120625354288</td>\n",
       "      <td>1.19</td>\n",
       "      <td>0.32424637008574647</td>\n",
       "      <td>72.75240587514735</td>\n",
       "    </tr>\n",
       "    <tr>\n",
       "      <th>0</th>\n",
       "      <td>YENQKQIANQFNKAISQIQESLTTTSTA</td>\n",
       "      <td>13.667090552846</td>\n",
       "      <td>16.98920973324147</td>\n",
       "      <td>24.30743520392993</td>\n",
       "      <td>1.16</td>\n",
       "      <td>0.04184850626496004</td>\n",
       "      <td>96.39237014957241</td>\n",
       "    </tr>\n",
       "    <tr>\n",
       "      <th>0</th>\n",
       "      <td>GINASVVNIQKEIDRLNEVAKNL</td>\n",
       "      <td>13.776289844810993</td>\n",
       "      <td>12.003401593493736</td>\n",
       "      <td>12.86912711106348</td>\n",
       "      <td>1.04</td>\n",
       "      <td>6.123347747135744</td>\n",
       "      <td>488.7834372245908</td>\n",
       "    </tr>\n",
       "    <tr>\n",
       "      <th>0</th>\n",
       "      <td>GINASVVNIQKEIDRLNEVAKNLNESLIDL</td>\n",
       "      <td>14.038654109278484</td>\n",
       "      <td>17.849488962667916</td>\n",
       "      <td>27.145300566033317</td>\n",
       "      <td>0.8</td>\n",
       "      <td>0.017703756952830968</td>\n",
       "      <td>97.78703038089613</td>\n",
       "    </tr>\n",
       "    <tr>\n",
       "      <th>0</th>\n",
       "      <td>GINASVVNIQKEIDRLNEVAKNLNESLIDLQELGKYE</td>\n",
       "      <td>14.293546358907275</td>\n",
       "      <td>14.240115541553925</td>\n",
       "      <td>0.3738107815353579</td>\n",
       "      <td>0.62</td>\n",
       "      <td>0.6540280859367342</td>\n",
       "      <td>5.488400957537779</td>\n",
       "    </tr>\n",
       "    <tr>\n",
       "      <th>0</th>\n",
       "      <td>NGIGVTQNVLYENQKQIANQFNKAISQIQESLTTTSTA</td>\n",
       "      <td>15.781623414337107</td>\n",
       "      <td>11.32263891368514</td>\n",
       "      <td>28.25428274128706</td>\n",
       "      <td>0.14</td>\n",
       "      <td>12.09596159334929</td>\n",
       "      <td>8539.972566678065</td>\n",
       "    </tr>\n",
       "    <tr>\n",
       "      <th>0</th>\n",
       "      <td>ISGINASVVNIQKEIDRLNEVAKNLNESLIDLQEL</td>\n",
       "      <td>19.11382792451231</td>\n",
       "      <td>14.64887454940614</td>\n",
       "      <td>23.359807322426207</td>\n",
       "      <td>0.005</td>\n",
       "      <td>0.43458488475227564</td>\n",
       "      <td>8591.697695045512</td>\n",
       "    </tr>\n",
       "    <tr>\n",
       "      <th>0</th>\n",
       "      <td>ISGINASVVNIQEEIKKLNEEAKKLNESLIDLQEL</td>\n",
       "      <td>19.33697147582652</td>\n",
       "      <td>18.865157222341182</td>\n",
       "      <td>2.4399594014769113</td>\n",
       "      <td>0.004</td>\n",
       "      <td>0.006411598492220369</td>\n",
       "      <td>60.28996230550921</td>\n",
       "    </tr>\n",
       "    <tr>\n",
       "      <th>0</th>\n",
       "      <td>QKQIANQFNKAISQIQESLTTTSTALGKLQDVVNQNAQALNTLVKQ</td>\n",
       "      <td>12.436744463265175</td>\n",
       "      <td>13.075818835517097</td>\n",
       "      <td>5.138598562827899</td>\n",
       "      <td>3.97</td>\n",
       "      <td>2.0952894842065155</td>\n",
       "      <td>47.221927349961824</td>\n",
       "    </tr>\n",
       "    <tr>\n",
       "      <th>0</th>\n",
       "      <td>QNQSANQFQKEISQINEVLTTTNTSLGKLQDDVNQNNQSLNTLQKE</td>\n",
       "      <td>12.192169740361182</td>\n",
       "      <td>13.792941850840927</td>\n",
       "      <td>13.129509714587718</td>\n",
       "      <td>5.07</td>\n",
       "      <td>1.022825307134831</td>\n",
       "      <td>79.82593082574299</td>\n",
       "    </tr>\n",
       "    <tr>\n",
       "      <th>0</th>\n",
       "      <td>PKEELDKYFKNHTSPDVDLGDISGINASVVNIQKEIDRLNEVAKNL...</td>\n",
       "      <td>10.637456727616328</td>\n",
       "      <td>11.602412596679269</td>\n",
       "      <td>9.071302415339371</td>\n",
       "      <td>24.0</td>\n",
       "      <td>9.144000318142586</td>\n",
       "      <td>61.899998674405886</td>\n",
       "    </tr>\n",
       "  </tbody>\n",
       "</table>\n",
       "</div>"
      ],
      "text/plain": [
       "                                            Sequence               pIC50  \\\n",
       "0                               SNNTIAIPTNFSISITTEVM   8.185012292283764   \n",
       "0                               FKLPLGINITNFRAILTAFS   8.230383999814125   \n",
       "0                               VLYNSTFFSTFKCYGVSATK   8.244623487739776   \n",
       "0                               GIGVTQNVLYENQKQIANQF   8.245110915539666   \n",
       "0                               PALNCYWPLNDYGFYTTSGI    8.26127272058809   \n",
       "0                      FGGASCCLYCRCHIDHPNPKGFCDLKGKY   8.740336742730447   \n",
       "0                                       GGASCCLYCRCH   8.740336742730447   \n",
       "0                IEEINKKVEEIQKKIEELNKKAEELNKKLEELQKK   9.210340371976184   \n",
       "0                               YQDVNCTDVSTAIHADQLTP   9.693161799332577   \n",
       "0                               PTTFMLKYDENGTITDAVDC   9.720866040733176   \n",
       "0                  ALNCYWPLNDYGFYTTTGIGYQPYRVVVLSFEL  10.087410390697057   \n",
       "0                                       KKKKYRNIRRPG  10.292420080009933   \n",
       "0                               QYGSFCTQLNRALSGIAAEQ  11.186936558363861   \n",
       "0                                 TLKPIFKLPLGINITNFR  11.417615285165903   \n",
       "0                             GYHLMSFPQAAPHGVVFLHVTW  13.122363377404328   \n",
       "0                                GVFVFNGTSWFITQRNFFS  13.122363377404328   \n",
       "0                        IQKEIDRLNEVAKNLNESLIDLQELGK  13.641557250840837   \n",
       "0                       YENQKQIANQFNKAISQIQESLTTTSTA     13.667090552846   \n",
       "0                            GINASVVNIQKEIDRLNEVAKNL  13.776289844810993   \n",
       "0                     GINASVVNIQKEIDRLNEVAKNLNESLIDL  14.038654109278484   \n",
       "0              GINASVVNIQKEIDRLNEVAKNLNESLIDLQELGKYE  14.293546358907275   \n",
       "0             NGIGVTQNVLYENQKQIANQFNKAISQIQESLTTTSTA  15.781623414337107   \n",
       "0                ISGINASVVNIQKEIDRLNEVAKNLNESLIDLQEL   19.11382792451231   \n",
       "0                ISGINASVVNIQEEIKKLNEEAKKLNESLIDLQEL   19.33697147582652   \n",
       "0     QKQIANQFNKAISQIQESLTTTSTALGKLQDVVNQNAQALNTLVKQ  12.436744463265175   \n",
       "0     QNQSANQFQKEISQINEVLTTTNTSLGKLQDDVNQNNQSLNTLQKE  12.192169740361182   \n",
       "0  PKEELDKYFKNHTSPDVDLGDISGINASVVNIQKEIDRLNEVAKNL...  10.637456727616328   \n",
       "\n",
       "          y_pred_pmic            ape_pmic                 MIC  \\\n",
       "0  18.031200802853167  120.29534176572558             278.801   \n",
       "0  14.049197044383916   70.69916840698082             266.434   \n",
       "0     10.739607505259   30.26195218289115  262.66700000000003   \n",
       "0   16.13141353479719   95.64822959984818             262.539   \n",
       "0  10.180435937398645     23.230842047228              258.33   \n",
       "0    9.36997115614267   7.203777519623661               160.0   \n",
       "0   8.702004570026757  0.4385663142277883               160.0   \n",
       "0  10.144376329278776  10.141166553893429               100.0   \n",
       "0  10.220795863326199   5.443363836451716   61.70399999999999   \n",
       "0   9.644710143659855  0.7834270810255564              60.018   \n",
       "0   8.911222869566993  11.659955088322599                41.6   \n",
       "0    9.47116877309752   7.979185658263761              33.889   \n",
       "0  10.718997459529433   4.182906521308334  13.854000000000001   \n",
       "0   5.864220410846617   48.63883337823108                11.0   \n",
       "0   9.801614146422393   25.30603013707121                 2.0   \n",
       "0   6.678318593277501   49.10734902542755                 2.0   \n",
       "0   14.94176220861361    9.53120625354288                1.19   \n",
       "0   16.98920973324147   24.30743520392993                1.16   \n",
       "0  12.003401593493736   12.86912711106348                1.04   \n",
       "0  17.849488962667916  27.145300566033317                 0.8   \n",
       "0  14.240115541553925  0.3738107815353579                0.62   \n",
       "0   11.32263891368514   28.25428274128706                0.14   \n",
       "0   14.64887454940614  23.359807322426207               0.005   \n",
       "0  18.865157222341182  2.4399594014769113               0.004   \n",
       "0  13.075818835517097   5.138598562827899                3.97   \n",
       "0  13.792941850840927  13.129509714587718                5.07   \n",
       "0  11.602412596679269   9.071302415339371                24.0   \n",
       "\n",
       "             y_pred_mic             ape_mic  \n",
       "0  0.014762128765728945   99.99470513779875  \n",
       "0    0.7916099574676875   99.70288703488755  \n",
       "0    21.669441726383713   91.75022300997699  \n",
       "0    0.0986770406793368   99.96241433056447  \n",
       "0    37.904681260369436   85.32703082864187  \n",
       "0     85.24584720349382   46.72134549781636  \n",
       "0    166.25221253648093  3.9076328353005785  \n",
       "0    39.296451755732335  60.703548244267665  \n",
       "0     36.40531187537683   41.00007799271225  \n",
       "0     64.76727201691855   7.913079437699612  \n",
       "0     134.8668085912161  224.19905911350028  \n",
       "0      77.0413110298702  127.33427079545042  \n",
       "0     22.12068400036444   59.67001588252086  \n",
       "0     2839.235620217266   25711.23291106605  \n",
       "0     55.36216463118788   2668.108231559394  \n",
       "0     1257.891222205611   62794.56111028055  \n",
       "0   0.32424637008574647   72.75240587514735  \n",
       "0   0.04184850626496004   96.39237014957241  \n",
       "0     6.123347747135744   488.7834372245908  \n",
       "0  0.017703756952830968   97.78703038089613  \n",
       "0    0.6540280859367342   5.488400957537779  \n",
       "0     12.09596159334929   8539.972566678065  \n",
       "0   0.43458488475227564   8591.697695045512  \n",
       "0  0.006411598492220369   60.28996230550921  \n",
       "0    2.0952894842065155  47.221927349961824  \n",
       "0     1.022825307134831   79.82593082574299  \n",
       "0     9.144000318142586  61.899998674405886  "
      ]
     },
     "execution_count": 66,
     "metadata": {},
     "output_type": "execute_result"
    }
   ],
   "source": [
    "result_df#.to_csv(\"../results/SVM_HIV_CoV_pMIC_to_MIC_rbf_c_100_gamma_2.csv\", index=False)"
   ]
  },
  {
   "cell_type": "code",
   "execution_count": 67,
   "id": "opposite-dress",
   "metadata": {},
   "outputs": [
    {
     "data": {
      "text/plain": [
       "24.690386488539648"
      ]
     },
     "execution_count": 67,
     "metadata": {},
     "output_type": "execute_result"
    }
   ],
   "source": [
    "result_df['ape_pmic'].astype('float').mean()"
   ]
  },
  {
   "cell_type": "code",
   "execution_count": 68,
   "id": "olive-colombia",
   "metadata": {},
   "outputs": [
    {
     "data": {
      "text/plain": [
       "4087.5629729079283"
      ]
     },
     "execution_count": 68,
     "metadata": {},
     "output_type": "execute_result"
    }
   ],
   "source": [
    "result_df['ape_mic'].astype('float').mean()"
   ]
  },
  {
   "cell_type": "code",
   "execution_count": 69,
   "id": "adjacent-attack",
   "metadata": {},
   "outputs": [
    {
     "data": {
      "text/plain": [
       "(-0.16301796745335015, 0.4165390678181603)"
      ]
     },
     "execution_count": 69,
     "metadata": {},
     "output_type": "execute_result"
    }
   ],
   "source": [
    "pearsonr(result_df['MIC'].astype('float'), result_df['y_pred_mic'].astype('float'))"
   ]
  },
  {
   "cell_type": "code",
   "execution_count": null,
   "id": "unlikely-replacement",
   "metadata": {},
   "outputs": [],
   "source": []
  },
  {
   "cell_type": "code",
   "execution_count": null,
   "id": "swiss-petersburg",
   "metadata": {},
   "outputs": [],
   "source": []
  }
 ],
 "metadata": {
  "kernelspec": {
   "display_name": "Python 3",
   "language": "python",
   "name": "python3"
  },
  "language_info": {
   "codemirror_mode": {
    "name": "ipython",
    "version": 3
   },
   "file_extension": ".py",
   "mimetype": "text/x-python",
   "name": "python",
   "nbconvert_exporter": "python",
   "pygments_lexer": "ipython3",
   "version": "3.6.10"
  },
  "varInspector": {
   "cols": {
    "lenName": 16,
    "lenType": 16,
    "lenVar": 40
   },
   "kernels_config": {
    "python": {
     "delete_cmd_postfix": "",
     "delete_cmd_prefix": "del ",
     "library": "var_list.py",
     "varRefreshCmd": "print(var_dic_list())"
    },
    "r": {
     "delete_cmd_postfix": ") ",
     "delete_cmd_prefix": "rm(",
     "library": "var_list.r",
     "varRefreshCmd": "cat(var_dic_list()) "
    }
   },
   "types_to_exclude": [
    "module",
    "function",
    "builtin_function_or_method",
    "instance",
    "_Feature"
   ],
   "window_display": false
  }
 },
 "nbformat": 4,
 "nbformat_minor": 5
}
