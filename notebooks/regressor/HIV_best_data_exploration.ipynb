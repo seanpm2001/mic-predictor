{
 "cells": [
  {
   "cell_type": "code",
   "execution_count": 1,
   "id": "devoted-astrology",
   "metadata": {
    "scrolled": false
   },
   "outputs": [
    {
     "name": "stdout",
     "output_type": "stream",
     "text": [
      "/Users/in-divye.singh/Documents/Projects/MIC_predictor/src\n"
     ]
    }
   ],
   "source": [
    "cd ../../src"
   ]
  },
  {
   "cell_type": "code",
   "execution_count": 2,
   "id": "portable-development",
   "metadata": {},
   "outputs": [],
   "source": [
    "import biovec\n",
    "import numpy as np\n",
    "import pandas as pd\n",
    "from itertools import chain, combinations\n",
    "from collections import Counter\n",
    "\n",
    "from utils import *\n",
    "\n",
    "from sklearn.svm import SVR\n",
    "from sklearn.neighbors import KNeighborsRegressor\n",
    "from sklearn.metrics import make_scorer\n",
    "from sklearn.model_selection import GridSearchCV\n",
    "from sklearn.metrics import mean_squared_error, mean_absolute_error\n",
    "from sklearn.model_selection import train_test_split\n",
    "\n",
    "from Bio.SeqUtils.ProtParam import ProteinAnalysis"
   ]
  },
  {
   "cell_type": "code",
   "execution_count": 3,
   "id": "constant-religious",
   "metadata": {},
   "outputs": [],
   "source": [
    "import seaborn as sns"
   ]
  },
  {
   "cell_type": "code",
   "execution_count": 4,
   "id": "smoking-memory",
   "metadata": {},
   "outputs": [],
   "source": [
    "def mean_absolute_percentage_error(y_true, y_pred): \n",
    "    y_true, y_pred = np.array(y_true), np.array(y_pred)\n",
    "    return np.mean(np.abs((y_true - y_pred) / y_true)) * 100\n",
    "\n",
    "mape_scorer = make_scorer(mean_absolute_percentage_error, greater_is_better=False)"
   ]
  },
  {
   "cell_type": "code",
   "execution_count": 7,
   "id": "special-stevens",
   "metadata": {},
   "outputs": [],
   "source": [
    "df = pd.read_csv(\"../data/raw/hiv_cdhit_filtered.csv\")"
   ]
  },
  {
   "cell_type": "code",
   "execution_count": 8,
   "id": "industrial-prescription",
   "metadata": {},
   "outputs": [
    {
     "data": {
      "text/html": [
       "<div>\n",
       "<style scoped>\n",
       "    .dataframe tbody tr th:only-of-type {\n",
       "        vertical-align: middle;\n",
       "    }\n",
       "\n",
       "    .dataframe tbody tr th {\n",
       "        vertical-align: top;\n",
       "    }\n",
       "\n",
       "    .dataframe thead th {\n",
       "        text-align: right;\n",
       "    }\n",
       "</style>\n",
       "<table border=\"1\" class=\"dataframe\">\n",
       "  <thead>\n",
       "    <tr style=\"text-align: right;\">\n",
       "      <th></th>\n",
       "      <th>Sequence</th>\n",
       "      <th>MIC</th>\n",
       "      <th>pIC50</th>\n",
       "    </tr>\n",
       "  </thead>\n",
       "  <tbody>\n",
       "    <tr>\n",
       "      <th>0</th>\n",
       "      <td>ACWAAGIKQEF</td>\n",
       "      <td>333.000</td>\n",
       "      <td>8.007368</td>\n",
       "    </tr>\n",
       "    <tr>\n",
       "      <th>1</th>\n",
       "      <td>ACWGAGIKQEF</td>\n",
       "      <td>333.000</td>\n",
       "      <td>8.007368</td>\n",
       "    </tr>\n",
       "    <tr>\n",
       "      <th>2</th>\n",
       "      <td>ACWWAGIKAEF</td>\n",
       "      <td>333.000</td>\n",
       "      <td>8.007368</td>\n",
       "    </tr>\n",
       "    <tr>\n",
       "      <th>3</th>\n",
       "      <td>ACWWAGIKQAF</td>\n",
       "      <td>333.000</td>\n",
       "      <td>8.007368</td>\n",
       "    </tr>\n",
       "    <tr>\n",
       "      <th>4</th>\n",
       "      <td>ACWWAGIRQEF</td>\n",
       "      <td>333.000</td>\n",
       "      <td>8.007368</td>\n",
       "    </tr>\n",
       "    <tr>\n",
       "      <th>...</th>\n",
       "      <td>...</td>\n",
       "      <td>...</td>\n",
       "      <td>...</td>\n",
       "    </tr>\n",
       "    <tr>\n",
       "      <th>148</th>\n",
       "      <td>VWGIKQLQARILAVERYLKDQQLLGIWG</td>\n",
       "      <td>0.020</td>\n",
       "      <td>17.727534</td>\n",
       "    </tr>\n",
       "    <tr>\n",
       "      <th>149</th>\n",
       "      <td>MTWMEWDREINNYTSLIHSLIEESQNQQEKNEQELLEL</td>\n",
       "      <td>0.008</td>\n",
       "      <td>18.643824</td>\n",
       "    </tr>\n",
       "    <tr>\n",
       "      <th>150</th>\n",
       "      <td>MTWEAWDRAIAEYAARIEALIRAAQEQQEKNEAALREL</td>\n",
       "      <td>0.007</td>\n",
       "      <td>18.777356</td>\n",
       "    </tr>\n",
       "    <tr>\n",
       "      <th>151</th>\n",
       "      <td>TTWEEWDREINEYTSRIESLIRESQEQQEKNEQELREL</td>\n",
       "      <td>0.005</td>\n",
       "      <td>19.113828</td>\n",
       "    </tr>\n",
       "    <tr>\n",
       "      <th>152</th>\n",
       "      <td>WEEWDKKIEEYTKKIEELIKKSEEQQKN</td>\n",
       "      <td>0.002</td>\n",
       "      <td>20.030119</td>\n",
       "    </tr>\n",
       "  </tbody>\n",
       "</table>\n",
       "<p>153 rows × 3 columns</p>\n",
       "</div>"
      ],
      "text/plain": [
       "                                   Sequence      MIC      pIC50\n",
       "0                               ACWAAGIKQEF  333.000   8.007368\n",
       "1                               ACWGAGIKQEF  333.000   8.007368\n",
       "2                               ACWWAGIKAEF  333.000   8.007368\n",
       "3                               ACWWAGIKQAF  333.000   8.007368\n",
       "4                               ACWWAGIRQEF  333.000   8.007368\n",
       "..                                      ...      ...        ...\n",
       "148            VWGIKQLQARILAVERYLKDQQLLGIWG    0.020  17.727534\n",
       "149  MTWMEWDREINNYTSLIHSLIEESQNQQEKNEQELLEL    0.008  18.643824\n",
       "150  MTWEAWDRAIAEYAARIEALIRAAQEQQEKNEAALREL    0.007  18.777356\n",
       "151  TTWEEWDREINEYTSRIESLIRESQEQQEKNEQELREL    0.005  19.113828\n",
       "152            WEEWDKKIEEYTKKIEELIKKSEEQQKN    0.002  20.030119\n",
       "\n",
       "[153 rows x 3 columns]"
      ]
     },
     "execution_count": 8,
     "metadata": {},
     "output_type": "execute_result"
    }
   ],
   "source": [
    "df"
   ]
  },
  {
   "cell_type": "code",
   "execution_count": 9,
   "id": "embedded-intention",
   "metadata": {},
   "outputs": [
    {
     "data": {
      "text/plain": [
       "<matplotlib.axes._subplots.AxesSubplot at 0x1a1ef4a5f8>"
      ]
     },
     "execution_count": 9,
     "metadata": {},
     "output_type": "execute_result"
    },
    {
     "data": {
      "image/png": "[encoded data removed]",
      "text/plain": [
       "<Figure size 432x288 with 1 Axes>"
      ]
     },
     "metadata": {
      "needs_background": "light"
     },
     "output_type": "display_data"
    }
   ],
   "source": [
    "df['MIC'].hist()"
   ]
  },
  {
   "cell_type": "code",
   "execution_count": 10,
   "id": "architectural-scott",
   "metadata": {},
   "outputs": [],
   "source": [
    "df['pIC50'] = df['MIC'].apply(lambda x: -np.log(x*1e-6))"
   ]
  },
  {
   "cell_type": "code",
   "execution_count": 11,
   "id": "delayed-utilization",
   "metadata": {},
   "outputs": [
    {
     "data": {
      "text/html": [
       "<div>\n",
       "<style scoped>\n",
       "    .dataframe tbody tr th:only-of-type {\n",
       "        vertical-align: middle;\n",
       "    }\n",
       "\n",
       "    .dataframe tbody tr th {\n",
       "        vertical-align: top;\n",
       "    }\n",
       "\n",
       "    .dataframe thead th {\n",
       "        text-align: right;\n",
       "    }\n",
       "</style>\n",
       "<table border=\"1\" class=\"dataframe\">\n",
       "  <thead>\n",
       "    <tr style=\"text-align: right;\">\n",
       "      <th></th>\n",
       "      <th>Sequence</th>\n",
       "      <th>MIC</th>\n",
       "      <th>pIC50</th>\n",
       "    </tr>\n",
       "  </thead>\n",
       "  <tbody>\n",
       "    <tr>\n",
       "      <th>0</th>\n",
       "      <td>ACWAAGIKQEF</td>\n",
       "      <td>333.000</td>\n",
       "      <td>8.007368</td>\n",
       "    </tr>\n",
       "    <tr>\n",
       "      <th>1</th>\n",
       "      <td>ACWGAGIKQEF</td>\n",
       "      <td>333.000</td>\n",
       "      <td>8.007368</td>\n",
       "    </tr>\n",
       "    <tr>\n",
       "      <th>2</th>\n",
       "      <td>ACWWAGIKAEF</td>\n",
       "      <td>333.000</td>\n",
       "      <td>8.007368</td>\n",
       "    </tr>\n",
       "    <tr>\n",
       "      <th>3</th>\n",
       "      <td>ACWWAGIKQAF</td>\n",
       "      <td>333.000</td>\n",
       "      <td>8.007368</td>\n",
       "    </tr>\n",
       "    <tr>\n",
       "      <th>4</th>\n",
       "      <td>ACWWAGIRQEF</td>\n",
       "      <td>333.000</td>\n",
       "      <td>8.007368</td>\n",
       "    </tr>\n",
       "    <tr>\n",
       "      <th>...</th>\n",
       "      <td>...</td>\n",
       "      <td>...</td>\n",
       "      <td>...</td>\n",
       "    </tr>\n",
       "    <tr>\n",
       "      <th>148</th>\n",
       "      <td>VWGIKQLQARILAVERYLKDQQLLGIWG</td>\n",
       "      <td>0.020</td>\n",
       "      <td>17.727534</td>\n",
       "    </tr>\n",
       "    <tr>\n",
       "      <th>149</th>\n",
       "      <td>MTWMEWDREINNYTSLIHSLIEESQNQQEKNEQELLEL</td>\n",
       "      <td>0.008</td>\n",
       "      <td>18.643824</td>\n",
       "    </tr>\n",
       "    <tr>\n",
       "      <th>150</th>\n",
       "      <td>MTWEAWDRAIAEYAARIEALIRAAQEQQEKNEAALREL</td>\n",
       "      <td>0.007</td>\n",
       "      <td>18.777356</td>\n",
       "    </tr>\n",
       "    <tr>\n",
       "      <th>151</th>\n",
       "      <td>TTWEEWDREINEYTSRIESLIRESQEQQEKNEQELREL</td>\n",
       "      <td>0.005</td>\n",
       "      <td>19.113828</td>\n",
       "    </tr>\n",
       "    <tr>\n",
       "      <th>152</th>\n",
       "      <td>WEEWDKKIEEYTKKIEELIKKSEEQQKN</td>\n",
       "      <td>0.002</td>\n",
       "      <td>20.030119</td>\n",
       "    </tr>\n",
       "  </tbody>\n",
       "</table>\n",
       "<p>153 rows × 3 columns</p>\n",
       "</div>"
      ],
      "text/plain": [
       "                                   Sequence      MIC      pIC50\n",
       "0                               ACWAAGIKQEF  333.000   8.007368\n",
       "1                               ACWGAGIKQEF  333.000   8.007368\n",
       "2                               ACWWAGIKAEF  333.000   8.007368\n",
       "3                               ACWWAGIKQAF  333.000   8.007368\n",
       "4                               ACWWAGIRQEF  333.000   8.007368\n",
       "..                                      ...      ...        ...\n",
       "148            VWGIKQLQARILAVERYLKDQQLLGIWG    0.020  17.727534\n",
       "149  MTWMEWDREINNYTSLIHSLIEESQNQQEKNEQELLEL    0.008  18.643824\n",
       "150  MTWEAWDRAIAEYAARIEALIRAAQEQQEKNEAALREL    0.007  18.777356\n",
       "151  TTWEEWDREINEYTSRIESLIRESQEQQEKNEQELREL    0.005  19.113828\n",
       "152            WEEWDKKIEEYTKKIEELIKKSEEQQKN    0.002  20.030119\n",
       "\n",
       "[153 rows x 3 columns]"
      ]
     },
     "execution_count": 11,
     "metadata": {},
     "output_type": "execute_result"
    }
   ],
   "source": [
    "df"
   ]
  },
  {
   "cell_type": "code",
   "execution_count": 12,
   "id": "informal-manor",
   "metadata": {
    "scrolled": true
   },
   "outputs": [
    {
     "data": {
      "text/plain": [
       "<matplotlib.axes._subplots.AxesSubplot at 0x1a1f276a20>"
      ]
     },
     "execution_count": 12,
     "metadata": {},
     "output_type": "execute_result"
    },
    {
     "data": {
      "image/png": "[encoded data removed]",
      "text/plain": [
       "<Figure size 432x288 with 1 Axes>"
      ]
     },
     "metadata": {
      "needs_background": "light"
     },
     "output_type": "display_data"
    }
   ],
   "source": [
    "df['pIC50'].hist()"
   ]
  },
  {
   "cell_type": "code",
   "execution_count": 13,
   "id": "prerequisite-hayes",
   "metadata": {},
   "outputs": [
    {
     "data": {
      "text/plain": [
       "(8.00736806798383, 20.030118656386467)"
      ]
     },
     "execution_count": 13,
     "metadata": {},
     "output_type": "execute_result"
    }
   ],
   "source": [
    "df['pIC50'].min(), df['pIC50'].max()"
   ]
  },
  {
   "cell_type": "code",
   "execution_count": 22,
   "id": "resident-daughter",
   "metadata": {},
   "outputs": [
    {
     "name": "stdout",
     "output_type": "stream",
     "text": [
      "2e-09 0.00033299999999999996\n"
     ]
    }
   ],
   "source": [
    "molar = df['MIC']*1e-6\n",
    "print(molar.min(), molar.max())"
   ]
  },
  {
   "cell_type": "code",
   "execution_count": 23,
   "id": "controversial-matrix",
   "metadata": {},
   "outputs": [
    {
     "data": {
      "text/plain": [
       "<matplotlib.axes._subplots.AxesSubplot at 0x1a1f635ac8>"
      ]
     },
     "execution_count": 23,
     "metadata": {},
     "output_type": "execute_result"
    },
    {
     "data": {
      "image/png": "[encoded data removed]",
      "text/plain": [
       "<Figure size 432x288 with 1 Axes>"
      ]
     },
     "metadata": {
      "needs_background": "light"
     },
     "output_type": "display_data"
    }
   ],
   "source": [
    "molar.hist()"
   ]
  },
  {
   "cell_type": "code",
   "execution_count": 63,
   "id": "improved-training",
   "metadata": {},
   "outputs": [
    {
     "name": "stdout",
     "output_type": "stream",
     "text": [
      "-5.808142489980444 6.214608098422191\n"
     ]
    }
   ],
   "source": [
    "log = -np.log(df['MIC'])\n",
    "print(log.min(), log.max())"
   ]
  },
  {
   "cell_type": "code",
   "execution_count": 64,
   "id": "automotive-titanium",
   "metadata": {},
   "outputs": [
    {
     "data": {
      "text/plain": [
       "<matplotlib.axes._subplots.AxesSubplot at 0x1a20619908>"
      ]
     },
     "execution_count": 64,
     "metadata": {},
     "output_type": "execute_result"
    },
    {
     "data": {
      "image/png": "[encoded data removed]",
      "text/plain": [
       "<Figure size 432x288 with 1 Axes>"
      ]
     },
     "metadata": {
      "needs_background": "light"
     },
     "output_type": "display_data"
    }
   ],
   "source": [
    "log.hist()"
   ]
  },
  {
   "cell_type": "code",
   "execution_count": 29,
   "id": "aggressive-sailing",
   "metadata": {},
   "outputs": [
    {
     "name": "stdout",
     "output_type": "stream",
     "text": [
      "3.9105182053885335 4.827393152672411\n"
     ]
    }
   ],
   "source": [
    "double_log = -np.log(df['pIC50']*1e-3)\n",
    "print(double_log.min(), double_log.max())"
   ]
  },
  {
   "cell_type": "code",
   "execution_count": 30,
   "id": "constant-hunter",
   "metadata": {},
   "outputs": [
    {
     "data": {
      "text/plain": [
       "<matplotlib.axes._subplots.AxesSubplot at 0x1a1f9524a8>"
      ]
     },
     "execution_count": 30,
     "metadata": {},
     "output_type": "execute_result"
    },
    {
     "data": {
      "image/png": "[encoded data removed]",
      "text/plain": [
       "<Figure size 432x288 with 1 Axes>"
      ]
     },
     "metadata": {
      "needs_background": "light"
     },
     "output_type": "display_data"
    }
   ],
   "source": [
    "double_log.hist()"
   ]
  },
  {
   "cell_type": "code",
   "execution_count": 51,
   "id": "protective-halifax",
   "metadata": {},
   "outputs": [
    {
     "name": "stdout",
     "output_type": "stream",
     "text": [
      "0.0 1.0\n"
     ]
    }
   ],
   "source": [
    "size = len(df['MIC'])-1\n",
    "percentile_linearization = df['MIC'].rank(method='first').apply(lambda x: (x-1)/size)\n",
    "print(percentile_linearization.min(), percentile_linearization.max())"
   ]
  },
  {
   "cell_type": "code",
   "execution_count": 73,
   "id": "taken-ballet",
   "metadata": {},
   "outputs": [
    {
     "data": {
      "text/plain": [
       "<seaborn.axisgrid.FacetGrid at 0x1a212da668>"
      ]
     },
     "execution_count": 73,
     "metadata": {},
     "output_type": "execute_result"
    },
    {
     "data": {
      "image/png": "[encoded data removed]",
      "text/plain": [
       "<Figure size 360x360 with 1 Axes>"
      ]
     },
     "metadata": {
      "needs_background": "light"
     },
     "output_type": "display_data"
    }
   ],
   "source": [
    "sns.relplot(x=df['MIC'].rank(method='min'), y=(df['MIC'])**(1/3))"
   ]
  },
  {
   "cell_type": "code",
   "execution_count": 72,
   "id": "integral-commander",
   "metadata": {},
   "outputs": [
    {
     "data": {
      "text/plain": [
       "<matplotlib.axes._subplots.AxesSubplot at 0x1a21213e80>"
      ]
     },
     "execution_count": 72,
     "metadata": {},
     "output_type": "execute_result"
    },
    {
     "data": {
      "image/png": "[encoded data removed]",
      "text/plain": [
       "<Figure size 432x288 with 1 Axes>"
      ]
     },
     "metadata": {
      "needs_background": "light"
     },
     "output_type": "display_data"
    }
   ],
   "source": [
    "percentile_linearization.hist()"
   ]
  },
  {
   "cell_type": "code",
   "execution_count": 32,
   "id": "homeless-establishment",
   "metadata": {},
   "outputs": [
    {
     "data": {
      "text/plain": [
       "2.086133580846542"
      ]
     },
     "execution_count": 32,
     "metadata": {},
     "output_type": "execute_result"
    }
   ],
   "source": [
    "df['MIC'].skew()"
   ]
  },
  {
   "cell_type": "code",
   "execution_count": 33,
   "id": "illegal-sierra",
   "metadata": {},
   "outputs": [
    {
     "data": {
      "text/plain": [
       "0.9710364225350958"
      ]
     },
     "execution_count": 33,
     "metadata": {},
     "output_type": "execute_result"
    }
   ],
   "source": [
    "df['pIC50'].skew()"
   ]
  },
  {
   "cell_type": "code",
   "execution_count": 53,
   "id": "distributed-cherry",
   "metadata": {},
   "outputs": [
    {
     "data": {
      "text/plain": [
       "0.0"
      ]
     },
     "execution_count": 53,
     "metadata": {},
     "output_type": "execute_result"
    }
   ],
   "source": [
    "percentile_linearization.skew()"
   ]
  },
  {
   "cell_type": "code",
   "execution_count": 34,
   "id": "sitting-commander",
   "metadata": {},
   "outputs": [],
   "source": [
    "def get_physicochemical_properties(df):\n",
    "    params = ['aromaticity', 'helix', 'turn', 'sheet', 'gravy', 'net_charge_at_pH7point4']\n",
    "\n",
    "    prop = []\n",
    "    for seq in df.Sequence:\n",
    "        X = ProteinAnalysis(seq)\n",
    "        aromaticity = X.aromaticity()\n",
    "        sec_struc = X.secondary_structure_fraction()\n",
    "        helix = sec_struc[0]\n",
    "        turn = sec_struc[1]\n",
    "        sheet = sec_struc[2]\n",
    "        gravy = X.gravy() # hydrophobicity related\n",
    "        net_charge_at_pH7point4 = X.charge_at_pH(7.4)\n",
    "\n",
    "        prop.append([aromaticity, helix, turn, sheet, gravy, net_charge_at_pH7point4])\n",
    "    return pd.DataFrame(prop, columns=params)"
   ]
  },
  {
   "cell_type": "code",
   "execution_count": 13,
   "id": "placed-supervisor",
   "metadata": {},
   "outputs": [],
   "source": [
    "aa_freq = reduce_by_kmer_frequency(df)"
   ]
  },
  {
   "cell_type": "code",
   "execution_count": 14,
   "id": "still-atlanta",
   "metadata": {},
   "outputs": [
    {
     "name": "stderr",
     "output_type": "stream",
     "text": [
      "/Users/in-divye.singh/anaconda3/envs/life-science/lib/python3.6/site-packages/smart_open/smart_open_lib.py:254: UserWarning: This function is deprecated, use smart_open.open instead. See the migration notes for details: https://github.com/RaRe-Technologies/smart_open/blob/master/README.rst#migrating-to-the-new-open-function\n",
      "  'See the migration notes for details: %s' % _MIGRATION_NOTES_URL\n",
      "Creating vectors: 100%|██████████| 712/712 [00:00<00:00, 1117.09sequence/s]\n"
     ]
    }
   ],
   "source": [
    "uniprot_embedding = biovec.models.load_protvec(\"../data/embeddings/uniprot__kmer_3_contextWindow_10_vector_100_reduction_None\")\n",
    "\n",
    "avg_protvec = convert_sequences_to_avg_vectors(df['Sequence'], uniprot_embedding, kmer=3)\n",
    "avg_protvec = avg_protvec.reset_index(drop=True)"
   ]
  },
  {
   "cell_type": "code",
   "execution_count": 15,
   "id": "otherwise-cooperation",
   "metadata": {},
   "outputs": [],
   "source": [
    "physicochemical_prop = get_physicochemical_properties(df)"
   ]
  },
  {
   "cell_type": "code",
   "execution_count": 16,
   "id": "numerous-cassette",
   "metadata": {},
   "outputs": [],
   "source": [
    "X = pd.concat([aa_freq, avg_protvec, physicochemical_prop[['helix','turn','sheet']]], axis=1)"
   ]
  },
  {
   "cell_type": "code",
   "execution_count": 17,
   "id": "exposed-independence",
   "metadata": {},
   "outputs": [],
   "source": [
    "y = df[['pIC50', 'MIC']]"
   ]
  },
  {
   "cell_type": "code",
   "execution_count": 18,
   "id": "assisted-blame",
   "metadata": {},
   "outputs": [],
   "source": [
    "X_train, X_test, y_train, y_test = train_test_split(X, y, test_size=0.2, random_state=42)"
   ]
  },
  {
   "cell_type": "code",
   "execution_count": 19,
   "id": "burning-sydney",
   "metadata": {},
   "outputs": [],
   "source": [
    "y_train_pmic, y_train_mic = y_train['pIC50'], y_train['MIC']\n",
    "y_test_pmic, y_test_mic = y_test['pIC50'], y_test['MIC']"
   ]
  },
  {
   "cell_type": "code",
   "execution_count": 20,
   "id": "decimal-colorado",
   "metadata": {},
   "outputs": [],
   "source": [
    "from sklearn.model_selection import cross_val_score, GridSearchCV, LeaveOneOut"
   ]
  },
  {
   "cell_type": "code",
   "execution_count": 21,
   "id": "spatial-lingerie",
   "metadata": {},
   "outputs": [],
   "source": [
    "def multi_objective_score(y_true, y_pred):\n",
    "    mape = mean_absolute_percentage_error(y_true, y_pred)\n",
    "    std_diff = abs(np.std(y_pred) - np.std(y_true))\n",
    "    return mape + 10*std_diff\n",
    "multi_objective_scorer = make_scorer(multi_objective_score, greater_is_better=False)"
   ]
  },
  {
   "cell_type": "code",
   "execution_count": null,
   "id": "miniature-liberty",
   "metadata": {},
   "outputs": [],
   "source": []
  }
 ],
 "metadata": {
  "kernelspec": {
   "display_name": "Python 3",
   "language": "python",
   "name": "python3"
  },
  "language_info": {
   "codemirror_mode": {
    "name": "ipython",
    "version": 3
   },
   "file_extension": ".py",
   "mimetype": "text/x-python",
   "name": "python",
   "nbconvert_exporter": "python",
   "pygments_lexer": "ipython3",
   "version": "3.6.10"
  },
  "varInspector": {
   "cols": {
    "lenName": 16,
    "lenType": 16,
    "lenVar": 40
   },
   "kernels_config": {
    "python": {
     "delete_cmd_postfix": "",
     "delete_cmd_prefix": "del ",
     "library": "var_list.py",
     "varRefreshCmd": "print(var_dic_list())"
    },
    "r": {
     "delete_cmd_postfix": ") ",
     "delete_cmd_prefix": "rm(",
     "library": "var_list.r",
     "varRefreshCmd": "cat(var_dic_list()) "
    }
   },
   "types_to_exclude": [
    "module",
    "function",
    "builtin_function_or_method",
    "instance",
    "_Feature"
   ],
   "window_display": false
  }
 },
 "nbformat": 4,
 "nbformat_minor": 5
}
