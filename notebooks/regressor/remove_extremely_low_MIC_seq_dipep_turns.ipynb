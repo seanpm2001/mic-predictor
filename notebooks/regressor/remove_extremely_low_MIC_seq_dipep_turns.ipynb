{
 "cells": [
  {
   "cell_type": "markdown",
   "id": "constitutional-insider",
   "metadata": {},
   "source": [
    "### remove very low MIC value"
   ]
  },
  {
   "cell_type": "code",
   "execution_count": 1,
   "id": "grand-nursing",
   "metadata": {
    "scrolled": false
   },
   "outputs": [
    {
     "name": "stdout",
     "output_type": "stream",
     "text": [
      "/Users/in-divye.singh/Documents/Projects/MIC_predictor/src\n"
     ]
    }
   ],
   "source": [
    "cd ../../src"
   ]
  },
  {
   "cell_type": "code",
   "execution_count": 77,
   "id": "determined-encounter",
   "metadata": {},
   "outputs": [],
   "source": [
    "import biovec\n",
    "import numpy as np\n",
    "import pandas as pd\n",
    "from itertools import chain, combinations\n",
    "from collections import Counter\n",
    "\n",
    "from utils import *\n",
    "\n",
    "from sklearn.svm import SVR\n",
    "from sklearn.neighbors import KNeighborsRegressor\n",
    "from sklearn.metrics import make_scorer\n",
    "from sklearn.model_selection import GridSearchCV\n",
    "from sklearn.metrics import mean_squared_error, mean_absolute_error, r2_score\n",
    "from sklearn.model_selection import train_test_split\n",
    "\n",
    "from Bio.SeqUtils.ProtParam import ProteinAnalysis"
   ]
  },
  {
   "cell_type": "code",
   "execution_count": 3,
   "id": "advisory-rapid",
   "metadata": {},
   "outputs": [],
   "source": [
    "import seaborn as sns"
   ]
  },
  {
   "cell_type": "code",
   "execution_count": 4,
   "id": "medieval-athens",
   "metadata": {},
   "outputs": [],
   "source": [
    "def mean_absolute_percentage_error(y_true, y_pred): \n",
    "    y_true, y_pred = np.array(y_true), np.array(y_pred)\n",
    "    return np.mean(np.abs((y_true - y_pred) / y_true)) * 100\n",
    "\n",
    "mape_scorer = make_scorer(mean_absolute_percentage_error, greater_is_better=False)"
   ]
  },
  {
   "cell_type": "code",
   "execution_count": 5,
   "id": "duplicate-shame",
   "metadata": {},
   "outputs": [],
   "source": [
    "avp_ic50 = pd.read_csv(\"../data/raw/AVP-IC50Pred_train.csv\")\n",
    "ha_avp = pd.read_csv(\"../data/raw/HA_AVP.csv\")"
   ]
  },
  {
   "cell_type": "code",
   "execution_count": 25,
   "id": "unknown-trading",
   "metadata": {},
   "outputs": [],
   "source": [
    "df = pd.concat([avp_ic50[['Sequence','MIC']], ha_avp], axis=0).drop_duplicates(['Sequence']).reset_index(drop=True)\n",
    "df = sequence_filtering(df)"
   ]
  },
  {
   "cell_type": "code",
   "execution_count": 26,
   "id": "steady-regular",
   "metadata": {},
   "outputs": [],
   "source": [
    "df2 = df[df['MIC'] >= 1e-3]"
   ]
  },
  {
   "cell_type": "code",
   "execution_count": 27,
   "id": "exterior-magic",
   "metadata": {},
   "outputs": [
    {
     "data": {
      "text/html": [
       "<div>\n",
       "<style scoped>\n",
       "    .dataframe tbody tr th:only-of-type {\n",
       "        vertical-align: middle;\n",
       "    }\n",
       "\n",
       "    .dataframe tbody tr th {\n",
       "        vertical-align: top;\n",
       "    }\n",
       "\n",
       "    .dataframe thead th {\n",
       "        text-align: right;\n",
       "    }\n",
       "</style>\n",
       "<table border=\"1\" class=\"dataframe\">\n",
       "  <thead>\n",
       "    <tr style=\"text-align: right;\">\n",
       "      <th></th>\n",
       "      <th>Sequence</th>\n",
       "      <th>MIC</th>\n",
       "    </tr>\n",
       "  </thead>\n",
       "  <tbody>\n",
       "    <tr>\n",
       "      <th>0</th>\n",
       "      <td>AAQRRGRVGRNPNQVGD</td>\n",
       "      <td>442.00000</td>\n",
       "    </tr>\n",
       "    <tr>\n",
       "      <th>1</th>\n",
       "      <td>HRILARIRQMMT</td>\n",
       "      <td>435.50000</td>\n",
       "    </tr>\n",
       "    <tr>\n",
       "      <th>2</th>\n",
       "      <td>RNPSQVGD</td>\n",
       "      <td>383.00000</td>\n",
       "    </tr>\n",
       "    <tr>\n",
       "      <th>3</th>\n",
       "      <td>RVGRNPNQVGD</td>\n",
       "      <td>374.00000</td>\n",
       "    </tr>\n",
       "    <tr>\n",
       "      <th>4</th>\n",
       "      <td>AAQRRGRIGRNPSQVGD</td>\n",
       "      <td>358.00000</td>\n",
       "    </tr>\n",
       "    <tr>\n",
       "      <th>...</th>\n",
       "      <td>...</td>\n",
       "      <td>...</td>\n",
       "    </tr>\n",
       "    <tr>\n",
       "      <th>706</th>\n",
       "      <td>SLDQINVTFLDLEYEMKKLEEAIKKLEESYIDLKEL</td>\n",
       "      <td>0.00130</td>\n",
       "    </tr>\n",
       "    <tr>\n",
       "      <th>707</th>\n",
       "      <td>NGAICWGPCPTAFRQIGNCGHFKVRCCKIR</td>\n",
       "      <td>0.11515</td>\n",
       "    </tr>\n",
       "    <tr>\n",
       "      <th>708</th>\n",
       "      <td>CFPYITRPGTYHDWWYTRKNRQ</td>\n",
       "      <td>0.30000</td>\n",
       "    </tr>\n",
       "    <tr>\n",
       "      <th>709</th>\n",
       "      <td>YTSLIHSLIEESQNQQEKNEQELLELDKWASLWNWF</td>\n",
       "      <td>0.01131</td>\n",
       "    </tr>\n",
       "    <tr>\n",
       "      <th>711</th>\n",
       "      <td>SWETWEREIENYTRQIYRILEESQEQQDRNERDLLE</td>\n",
       "      <td>0.00200</td>\n",
       "    </tr>\n",
       "  </tbody>\n",
       "</table>\n",
       "<p>707 rows × 2 columns</p>\n",
       "</div>"
      ],
      "text/plain": [
       "                                 Sequence        MIC\n",
       "0                       AAQRRGRVGRNPNQVGD  442.00000\n",
       "1                            HRILARIRQMMT  435.50000\n",
       "2                                RNPSQVGD  383.00000\n",
       "3                             RVGRNPNQVGD  374.00000\n",
       "4                       AAQRRGRIGRNPSQVGD  358.00000\n",
       "..                                    ...        ...\n",
       "706  SLDQINVTFLDLEYEMKKLEEAIKKLEESYIDLKEL    0.00130\n",
       "707        NGAICWGPCPTAFRQIGNCGHFKVRCCKIR    0.11515\n",
       "708                CFPYITRPGTYHDWWYTRKNRQ    0.30000\n",
       "709  YTSLIHSLIEESQNQQEKNEQELLELDKWASLWNWF    0.01131\n",
       "711  SWETWEREIENYTRQIYRILEESQEQQDRNERDLLE    0.00200\n",
       "\n",
       "[707 rows x 2 columns]"
      ]
     },
     "execution_count": 27,
     "metadata": {},
     "output_type": "execute_result"
    }
   ],
   "source": [
    "df2"
   ]
  },
  {
   "cell_type": "code",
   "execution_count": 28,
   "id": "smoking-reset",
   "metadata": {},
   "outputs": [
    {
     "data": {
      "text/plain": [
       "<matplotlib.axes._subplots.AxesSubplot at 0x1a200f2dd8>"
      ]
     },
     "execution_count": 28,
     "metadata": {},
     "output_type": "execute_result"
    },
    {
     "data": {
      "image/png": "[encoded data removed]",
      "text/plain": [
       "<Figure size 432x288 with 1 Axes>"
      ]
     },
     "metadata": {
      "needs_background": "light"
     },
     "output_type": "display_data"
    }
   ],
   "source": [
    "df2['MIC'].hist()"
   ]
  },
  {
   "cell_type": "code",
   "execution_count": 29,
   "id": "permanent-network",
   "metadata": {},
   "outputs": [
    {
     "name": "stderr",
     "output_type": "stream",
     "text": [
      "/Users/in-divye.singh/anaconda3/envs/life-science/lib/python3.6/site-packages/ipykernel_launcher.py:1: SettingWithCopyWarning: \n",
      "A value is trying to be set on a copy of a slice from a DataFrame.\n",
      "Try using .loc[row_indexer,col_indexer] = value instead\n",
      "\n",
      "See the caveats in the documentation: https://pandas.pydata.org/pandas-docs/stable/user_guide/indexing.html#returning-a-view-versus-a-copy\n",
      "  \"\"\"Entry point for launching an IPython kernel.\n"
     ]
    }
   ],
   "source": [
    "df2['pIC50'] = df2['MIC'].apply(lambda x: -np.log(x*1e-6))"
   ]
  },
  {
   "cell_type": "code",
   "execution_count": 30,
   "id": "double-coach",
   "metadata": {},
   "outputs": [
    {
     "data": {
      "text/html": [
       "<div>\n",
       "<style scoped>\n",
       "    .dataframe tbody tr th:only-of-type {\n",
       "        vertical-align: middle;\n",
       "    }\n",
       "\n",
       "    .dataframe tbody tr th {\n",
       "        vertical-align: top;\n",
       "    }\n",
       "\n",
       "    .dataframe thead th {\n",
       "        text-align: right;\n",
       "    }\n",
       "</style>\n",
       "<table border=\"1\" class=\"dataframe\">\n",
       "  <thead>\n",
       "    <tr style=\"text-align: right;\">\n",
       "      <th></th>\n",
       "      <th>Sequence</th>\n",
       "      <th>MIC</th>\n",
       "      <th>pIC50</th>\n",
       "    </tr>\n",
       "  </thead>\n",
       "  <tbody>\n",
       "    <tr>\n",
       "      <th>0</th>\n",
       "      <td>AAQRRGRVGRNPNQVGD</td>\n",
       "      <td>442.00000</td>\n",
       "      <td>7.724201</td>\n",
       "    </tr>\n",
       "    <tr>\n",
       "      <th>1</th>\n",
       "      <td>HRILARIRQMMT</td>\n",
       "      <td>435.50000</td>\n",
       "      <td>7.739016</td>\n",
       "    </tr>\n",
       "    <tr>\n",
       "      <th>2</th>\n",
       "      <td>RNPSQVGD</td>\n",
       "      <td>383.00000</td>\n",
       "      <td>7.867476</td>\n",
       "    </tr>\n",
       "    <tr>\n",
       "      <th>3</th>\n",
       "      <td>RVGRNPNQVGD</td>\n",
       "      <td>374.00000</td>\n",
       "      <td>7.891255</td>\n",
       "    </tr>\n",
       "    <tr>\n",
       "      <th>4</th>\n",
       "      <td>AAQRRGRIGRNPSQVGD</td>\n",
       "      <td>358.00000</td>\n",
       "      <td>7.934978</td>\n",
       "    </tr>\n",
       "    <tr>\n",
       "      <th>...</th>\n",
       "      <td>...</td>\n",
       "      <td>...</td>\n",
       "      <td>...</td>\n",
       "    </tr>\n",
       "    <tr>\n",
       "      <th>706</th>\n",
       "      <td>SLDQINVTFLDLEYEMKKLEEAIKKLEESYIDLKEL</td>\n",
       "      <td>0.00130</td>\n",
       "      <td>20.460902</td>\n",
       "    </tr>\n",
       "    <tr>\n",
       "      <th>707</th>\n",
       "      <td>NGAICWGPCPTAFRQIGNCGHFKVRCCKIR</td>\n",
       "      <td>0.11515</td>\n",
       "      <td>15.977030</td>\n",
       "    </tr>\n",
       "    <tr>\n",
       "      <th>708</th>\n",
       "      <td>CFPYITRPGTYHDWWYTRKNRQ</td>\n",
       "      <td>0.30000</td>\n",
       "      <td>15.019483</td>\n",
       "    </tr>\n",
       "    <tr>\n",
       "      <th>709</th>\n",
       "      <td>YTSLIHSLIEESQNQQEKNEQELLELDKWASLWNWF</td>\n",
       "      <td>0.01131</td>\n",
       "      <td>18.297579</td>\n",
       "    </tr>\n",
       "    <tr>\n",
       "      <th>711</th>\n",
       "      <td>SWETWEREIENYTRQIYRILEESQEQQDRNERDLLE</td>\n",
       "      <td>0.00200</td>\n",
       "      <td>20.030119</td>\n",
       "    </tr>\n",
       "  </tbody>\n",
       "</table>\n",
       "<p>707 rows × 3 columns</p>\n",
       "</div>"
      ],
      "text/plain": [
       "                                 Sequence        MIC      pIC50\n",
       "0                       AAQRRGRVGRNPNQVGD  442.00000   7.724201\n",
       "1                            HRILARIRQMMT  435.50000   7.739016\n",
       "2                                RNPSQVGD  383.00000   7.867476\n",
       "3                             RVGRNPNQVGD  374.00000   7.891255\n",
       "4                       AAQRRGRIGRNPSQVGD  358.00000   7.934978\n",
       "..                                    ...        ...        ...\n",
       "706  SLDQINVTFLDLEYEMKKLEEAIKKLEESYIDLKEL    0.00130  20.460902\n",
       "707        NGAICWGPCPTAFRQIGNCGHFKVRCCKIR    0.11515  15.977030\n",
       "708                CFPYITRPGTYHDWWYTRKNRQ    0.30000  15.019483\n",
       "709  YTSLIHSLIEESQNQQEKNEQELLELDKWASLWNWF    0.01131  18.297579\n",
       "711  SWETWEREIENYTRQIYRILEESQEQQDRNERDLLE    0.00200  20.030119\n",
       "\n",
       "[707 rows x 3 columns]"
      ]
     },
     "execution_count": 30,
     "metadata": {},
     "output_type": "execute_result"
    }
   ],
   "source": [
    "df2"
   ]
  },
  {
   "cell_type": "code",
   "execution_count": 31,
   "id": "appreciated-holocaust",
   "metadata": {
    "scrolled": true
   },
   "outputs": [
    {
     "data": {
      "text/plain": [
       "<matplotlib.axes._subplots.AxesSubplot at 0x1a20172860>"
      ]
     },
     "execution_count": 31,
     "metadata": {},
     "output_type": "execute_result"
    },
    {
     "data": {
      "image/png": "[encoded data removed]",
      "text/plain": [
       "<Figure size 432x288 with 1 Axes>"
      ]
     },
     "metadata": {
      "needs_background": "light"
     },
     "output_type": "display_data"
    }
   ],
   "source": [
    "df2['pIC50'].hist()"
   ]
  },
  {
   "cell_type": "code",
   "execution_count": 32,
   "id": "naked-aberdeen",
   "metadata": {},
   "outputs": [],
   "source": [
    "def get_physicochemical_properties(df):\n",
    "    params = ['aromaticity', 'helix', 'turn', 'sheet', 'gravy', 'net_charge_at_pH7point4']\n",
    "\n",
    "    prop = []\n",
    "    for seq in df.Sequence:\n",
    "        X = ProteinAnalysis(seq)\n",
    "        aromaticity = X.aromaticity()\n",
    "        sec_struc = X.secondary_structure_fraction()\n",
    "        helix = sec_struc[0]\n",
    "        turn = sec_struc[1]\n",
    "        sheet = sec_struc[2]\n",
    "        gravy = X.gravy() # hydrophobicity related\n",
    "        net_charge_at_pH7point4 = X.charge_at_pH(7.4)\n",
    "\n",
    "        prop.append([aromaticity, helix, turn, sheet, gravy, net_charge_at_pH7point4])\n",
    "    return pd.DataFrame(prop, columns=params)"
   ]
  },
  {
   "cell_type": "code",
   "execution_count": 33,
   "id": "coordinated-makeup",
   "metadata": {},
   "outputs": [],
   "source": [
    "dipep_freq = reduce_by_kmer_frequency(df2, kmer=2)"
   ]
  },
  {
   "cell_type": "code",
   "execution_count": 34,
   "id": "modern-thomas",
   "metadata": {},
   "outputs": [
    {
     "name": "stderr",
     "output_type": "stream",
     "text": [
      "/Users/in-divye.singh/anaconda3/envs/life-science/lib/python3.6/site-packages/smart_open/smart_open_lib.py:254: UserWarning: This function is deprecated, use smart_open.open instead. See the migration notes for details: https://github.com/RaRe-Technologies/smart_open/blob/master/README.rst#migrating-to-the-new-open-function\n",
      "  'See the migration notes for details: %s' % _MIGRATION_NOTES_URL\n",
      "Creating vectors: 100%|██████████| 712/712 [00:00<00:00, 1130.57sequence/s]\n"
     ]
    }
   ],
   "source": [
    "uniprot_embedding = biovec.models.load_protvec(\"../data/embeddings/uniprot__kmer_3_contextWindow_10_vector_100_reduction_None\")\n",
    "\n",
    "avg_protvec = convert_sequences_to_avg_vectors(df['Sequence'], uniprot_embedding, kmer=3)\n",
    "avg_protvec = avg_protvec.reset_index(drop=True)"
   ]
  },
  {
   "cell_type": "code",
   "execution_count": 35,
   "id": "physical-ethiopia",
   "metadata": {},
   "outputs": [],
   "source": [
    "physicochemical_prop = get_physicochemical_properties(df2)"
   ]
  },
  {
   "cell_type": "code",
   "execution_count": 36,
   "id": "creative-automation",
   "metadata": {},
   "outputs": [],
   "source": [
    "X = pd.concat([dipep_freq, physicochemical_prop[['turn']]], axis=1)"
   ]
  },
  {
   "cell_type": "code",
   "execution_count": 37,
   "id": "actual-sociology",
   "metadata": {},
   "outputs": [],
   "source": [
    "y = df2[['pIC50', 'MIC']]"
   ]
  },
  {
   "cell_type": "code",
   "execution_count": 38,
   "id": "metallic-burning",
   "metadata": {},
   "outputs": [],
   "source": [
    "X_train, X_test, y_train, y_test = train_test_split(X, y, test_size=0.2, random_state=42)"
   ]
  },
  {
   "cell_type": "code",
   "execution_count": 39,
   "id": "impaired-cooling",
   "metadata": {},
   "outputs": [],
   "source": [
    "y_train_pmic, y_train_mic = y_train['pIC50'], y_train['MIC']\n",
    "y_test_pmic, y_test_mic = y_test['pIC50'], y_test['MIC']"
   ]
  },
  {
   "cell_type": "code",
   "execution_count": 40,
   "id": "modern-consortium",
   "metadata": {},
   "outputs": [],
   "source": [
    "from sklearn.model_selection import cross_val_score, GridSearchCV, LeaveOneOut"
   ]
  },
  {
   "cell_type": "code",
   "execution_count": 41,
   "id": "metropolitan-north",
   "metadata": {},
   "outputs": [],
   "source": [
    "def multi_objective_score(y_true, y_pred):\n",
    "    mape = mean_absolute_percentage_error(y_true, y_pred)\n",
    "    std_diff = abs(np.std(y_pred) - np.std(y_true))\n",
    "    return mape + 10*std_diff\n",
    "multi_objective_scorer = make_scorer(multi_objective_score, greater_is_better=False)"
   ]
  },
  {
   "cell_type": "code",
   "execution_count": 43,
   "id": "growing-plastic",
   "metadata": {},
   "outputs": [
    {
     "name": "stdout",
     "output_type": "stream",
     "text": [
      "[-13.19063984 -11.6954193  -11.83070764 -13.08399312 -13.26039897] -12.61223177445778\n",
      "2.7423101563508783 2.1456047966562584\n"
     ]
    }
   ],
   "source": [
    "svr = SVR(C=10, gamma=10)\n",
    "cv_score = cross_val_score(svr, X_train, y_train_pmic, cv=5, scoring=mape_scorer)\n",
    "cv_mean = cv_score.mean()\n",
    "print(cv_score, cv_mean)\n",
    "\n",
    "_ = svr.fit(X_train, y_train_pmic)\n",
    "y_pred = svr.predict(X_test)\n",
    "\n",
    "print(np.std(y_test_pmic), np.std(y_pred))"
   ]
  },
  {
   "cell_type": "code",
   "execution_count": 280,
   "id": "established-spank",
   "metadata": {},
   "outputs": [
    {
     "data": {
      "text/plain": [
       "693"
      ]
     },
     "execution_count": 280,
     "metadata": {},
     "output_type": "execute_result"
    }
   ],
   "source": [
    "df['MIC'].argmin()"
   ]
  },
  {
   "cell_type": "raw",
   "id": "fatty-pittsburgh",
   "metadata": {},
   "source": [
    "df2 = df2.drop([684],axis=0).reset_index(drop=True)\n",
    "df2['MIC'].min(), df2['MIC'].argmin()"
   ]
  },
  {
   "cell_type": "code",
   "execution_count": 281,
   "id": "fabulous-graduation",
   "metadata": {},
   "outputs": [],
   "source": [
    "ape = 100*np.abs(y_test_pmic-y_pred)/y_test_pmic"
   ]
  },
  {
   "cell_type": "code",
   "execution_count": 282,
   "id": "alike-advertiser",
   "metadata": {},
   "outputs": [],
   "source": [
    "y_pred_mic = np.exp(-y_pred)/1e-6"
   ]
  },
  {
   "cell_type": "code",
   "execution_count": 283,
   "id": "involved-absolute",
   "metadata": {},
   "outputs": [],
   "source": [
    "ape_mic = 100*np.abs(y_test_mic-y_pred_mic)/y_test_mic"
   ]
  },
  {
   "cell_type": "code",
   "execution_count": 284,
   "id": "scheduled-extreme",
   "metadata": {
    "scrolled": true
   },
   "outputs": [],
   "source": [
    "gg = list(zip(y_test_pmic.round(4), y_pred.round(4), ape, y_test_mic.round(4), y_pred_mic.round(4), ape_mic))"
   ]
  },
  {
   "cell_type": "code",
   "execution_count": 285,
   "id": "extended-canvas",
   "metadata": {
    "scrolled": true
   },
   "outputs": [
    {
     "data": {
      "text/plain": [
       "[(10.9141, 10.9148, 0.006627639854659558, 18.2, 18.1868, 0.07230849579253662),\n",
       " (16.5489, 16.5166, 0.19488961964986096, 0.065, 0.0671, 3.2777780523370366),\n",
       " (12.075, 12.0334, 0.34486220531300327, 5.7, 5.9424, 4.252146494292989),\n",
       " (11.3306, 11.2776, 0.46808707905671193, 12.0, 12.6536, 5.446875766994644),\n",
       " (15.182, 15.2606, 0.5175848019258664, 0.255, 0.2357, 7.557165367913814),\n",
       " (11.6183, 11.7063, 0.7578943047595089, 9.0, 8.2414, 8.428887316042438),\n",
       " (17.356, 17.4467, 0.5229740744752192, 0.029, 0.0265, 8.676973530496557),\n",
       " (11.5129, 11.6195, 0.9257090832671947, 10.0, 8.9891, 10.109344823221473),\n",
       " (10.8198, 10.7185, 0.93573448169883, 20.0, 22.1309, 10.654704466816689),\n",
       " (18.9315, 19.0505, 0.6287467172241942, 0.006, 0.0053, 11.221992043347777),\n",
       " (9.2103, 9.3436, 1.447060549531569, 100.0, 87.5221, 12.477930537654629),\n",
       " (18.3254, 18.4734, 0.8076837256150646, 0.011, 0.0095, 13.757840254104574),\n",
       " (12.0238, 12.1982, 1.4510532943915981, 6.0, 5.0394, 16.009881946260467),\n",
       " (12.0238, 12.2077, 1.5301722184043443, 6.0, 4.9917, 16.80509672655317),\n",
       " (11.8957, 11.7272, 1.4161392153277215, 6.82, 8.0713, 18.347967945228422),\n",
       " (10.6602, 10.4831, 1.661774415064085, 23.46, 28.0067, 19.3808604165762),\n",
       " (15.1899, 15.0045, 1.2206416901951527, 0.253, 0.3045, 20.371663162805117),\n",
       " (10.625, 10.8676, 2.282661835612531, 24.3, 19.0667, 21.53626173692384),\n",
       " (10.6128, 10.8555, 2.287440653383445, 24.6, 19.2977, 21.554077254794056),\n",
       " (9.8191, 10.0646, 2.500190616762441, 54.4, 42.558, 21.768466422754884),\n",
       " (11.4176, 11.6681, 2.1940327308462044, 11.0, 8.5625, 22.15933589184165),\n",
       " (12.8992, 13.1679, 2.083139302683371, 2.5, 1.9109, 23.563413070761563),\n",
       " (8.5374, 8.3054, 2.7172391223895707, 196.0, 247.1749, 26.109634964285824),\n",
       " (11.2506, 11.569, 2.8308059626817994, 13.0, 9.4543, 27.27475096678671),\n",
       " (17.4274, 17.1844, 1.3947058756814235, 0.027, 0.0344, 27.514688492532823),\n",
       " (10.2602, 10.5997, 3.309459651717124, 35.0, 24.923, 28.791353691183556),\n",
       " (13.0271, 13.4112, 2.948703170068113, 2.2, 1.4983, 31.8956522054519),\n",
       " (12.5656, 12.9511, 3.067597121801582, 3.49, 2.3737, 31.986383251208782),\n",
       " (10.4227, 10.1334, 2.7757303325540037, 29.749, 39.7298, 33.55009472338893),\n",
       " (15.2018, 14.897, 2.005089207541072, 0.25, 0.3391, 35.63669293564396),\n",
       " (11.5129, 11.2059, 2.666803028062562, 10.0, 13.5938, 35.937773183469),\n",
       " (10.7245, 11.1946, 4.383455611993032, 22.0, 13.7486, 37.50616655464484),\n",
       " (8.8597, 9.3377, 5.39497394972892, 142.0, 88.0451, 37.99639248271201),\n",
       " (12.1162, 12.6404, 4.3260749628618935, 5.47, 3.2385, 40.79459078899846),\n",
       " (9.2103, 9.7608, 5.976943071011105, 100.0, 57.6663, 42.33367474903062),\n",
       " (9.6884, 10.2767, 6.072700445703214, 62.0, 34.4252, 44.47551342767691),\n",
       " (11.4509, 12.0497, 5.229550019555021, 10.64, 5.8462, 45.05458917566298),\n",
       " (10.0995, 10.7102, 6.046969338916277, 41.1, 22.3158, 45.703684492049454),\n",
       " (8.9029, 9.5168, 6.895697507132862, 136.0, 73.6071, 45.8771647936848),\n",
       " (17.1969, 17.8117, 3.5752135915116763, 0.034, 0.0184, 45.92650769255361),\n",
       " (7.8675, 8.4948, 7.973486207962738, 383.0, 204.5317, 46.5974708824606),\n",
       " (11.7361, 12.3814, 5.49863007431884, 8.0, 4.1959, 47.55069072662385),\n",
       " (10.8554, 11.5139, 6.066174862193334, 19.3, 9.9901, 48.23768842612254),\n",
       " (9.9035, 10.6155, 7.189124055099893, 50.0, 24.5337, 50.932535383700106),\n",
       " (11.8554, 12.5779, 6.094160404603441, 7.1, 3.4474, 51.4457304536622),\n",
       " (13.7385, 13.3016, 3.180176516802217, 1.08, 1.6718, 54.79169525167345),\n",
       " (10.5197, 11.321, 7.617459720447252, 27.0, 12.1157, 55.126910154721294),\n",
       " (10.2602, 11.1065, 8.249232133815061, 35.0, 15.0137, 57.10370046246437),\n",
       " (9.9035, 10.7845, 8.896390271671336, 50.0, 20.7173, 58.565358473058524),\n",
       " (12.2061, 11.7435, 3.789441763444366, 5.0, 7.9405, 58.8105846397023),\n",
       " (12.94, 13.9145, 7.530478126814547, 2.4, 0.9058, 62.25990085138089),\n",
       " (12.7004, 12.2052, 3.8990762073009115, 3.05, 5.0045, 64.08215551164714),\n",
       " (11.8006, 12.8633, 9.00564588839105, 7.5, 2.5914, 65.44855894903318),\n",
       " (13.9663, 13.4594, 3.6298977920058224, 0.86, 1.4278, 66.02424226421111),\n",
       " (9.9035, 9.3838, 5.247272593735326, 50.0, 84.073, 68.14608819886277),\n",
       " (10.232, 11.4003, 11.417775261326144, 36.0, 11.1926, 68.90943558564074),\n",
       " (9.2103, 10.3801, 12.700388835331248, 100.0, 31.0445, 68.9555159365178),\n",
       " (13.1124, 14.2953, 9.021059219191104, 2.02, 0.6189, 69.36045055416824),\n",
       " (9.4335, 10.6511, 12.907252377815958, 80.0, 23.6751, 70.40614886016934),\n",
       " (12.5627, 13.8592, 10.319480190407518, 3.5, 0.9573, 72.64881275848634),\n",
       " (11.5129, 12.817, 11.32719330883885, 10.0, 2.7142, 72.85809447003108),\n",
       " (10.5498, 11.861, 12.428965084081653, 26.2, 7.0606, 73.05102402420718),\n",
       " (8.5172, 9.8355, 15.478431114180616, 200.0, 53.5165, 73.24176423578551),\n",
       " (11.814, 13.1676, 11.45720299671396, 7.4, 1.9116, 74.16803385445657),\n",
       " (12.5627, 13.9355, 10.927265335103918, 3.5, 0.8869, 74.65946155438898),\n",
       " (9.2103, 10.6151, 15.251661392692338, 100.0, 24.5433, 75.4566667494433),\n",
       " (11.8986, 13.3933, 12.562493591485344, 6.8, 1.5253, 77.56974229374852),\n",
       " (10.4143, 11.9129, 14.38999813120208, 30.0, 6.7032, 77.65615895693396),\n",
       " (9.3047, 10.8204, 16.2906139795708, 91.0, 19.9869, 78.03642496339768),\n",
       " (9.5388, 11.057, 15.915626142791263, 72.0, 15.7761, 78.08868069048647),\n",
       " (13.7763, 13.1978, 4.198848460066024, 1.04, 1.8546, 78.32642514825666),\n",
       " (10.7245, 12.2562, 14.282261631492096, 22.0, 4.7557, 78.38313941782053),\n",
       " (10.5197, 12.0874, 14.9027753833846, 27.0, 5.63, 79.14806302081178),\n",
       " (11.7361, 11.1528, 4.969668791940536, 8.0, 14.3347, 79.18413160185264),\n",
       " (11.3059, 12.8834, 13.952731633655656, 12.3, 2.5399, 79.350590483082),\n",
       " (10.9852, 12.7254, 15.840788858195666, 16.95, 2.9746, 82.45057684874857),\n",
       " (11.2898, 13.0611, 15.689401007724305, 12.5, 2.1264, 82.98881568431256),\n",
       " (14.3313, 16.1238, 12.506943828068822, 0.597, 0.0994, 83.34423419077535),\n",
       " (8.3143, 10.1345, 21.892636072940498, 245.0, 39.688, 83.80081103037665),\n",
       " (11.2506, 13.1318, 16.72113516756379, 13.0, 1.9812, 84.75961761927421),\n",
       " (9.2103, 11.18, 21.385381475782193, 100.0, 13.9503, 86.04966165321582),\n",
       " (9.2103, 11.1819, 21.406194211183667, 100.0, 13.9236, 86.07637777384471),\n",
       " (8.0074, 10.0061, 24.96078412985598, 333.0, 45.1252, 86.44889182579658),\n",
       " (11.7361, 13.7509, 17.167710018365465, 8.0, 1.0668, 86.66548362390091),\n",
       " (10.0427, 9.4161, 6.239858073168753, 43.502, 81.4067, 87.13319575626286),\n",
       " (10.9823, 13.033, 18.673163152075652, 17.0, 2.1869, 87.13606178625376),\n",
       " (8.7403, 10.9152, 24.883629154581577, 160.0, 18.1789, 88.63819599359945),\n",
       " (8.0074, 10.2259, 27.705606495728517, 333.0, 36.2215, 89.1226755310292),\n",
       " (11.8554, 14.0934, 18.877134883726374, 7.1, 0.7574, 89.33244001392731),\n",
       " (9.0533, 11.5188, 27.23241179331258, 117.0, 9.9416, 91.5028715608312),\n",
       " (9.2103, 11.6795, 26.808117707106433, 100.0, 8.4659, 91.5340579432659),\n",
       " (9.6645, 12.151, 25.728318529870368, 63.5, 5.2832, 91.67998221543446),\n",
       " (9.0448, 11.5553, 27.756025194001204, 118.0, 9.585, 91.87710984606765),\n",
       " (11.5129, 14.1288, 22.72138133352204, 10.0, 0.731, 92.68977181708145),\n",
       " (9.2103, 11.8408, 28.559820151626955, 100.0, 7.2046, 92.79544445591395),\n",
       " (8.5844, 11.3152, 31.81061854699416, 187.0, 12.1868, 93.48296948335474),\n",
       " (10.31, 13.0537, 26.612159447358575, 33.3, 2.1422, 93.56681974859856),\n",
       " (8.294, 11.3341, 36.65300974279778, 250.0, 11.9585, 95.21660108771451),\n",
       " (9.9156, 12.9895, 31.001427414448273, 49.4, 2.2841, 95.37625488167515),\n",
       " (12.2061, 15.3063, 25.399239845769284, 5.0, 0.2252, 95.49620435011498),\n",
       " (8.8955, 12.0437, 35.390416342681384, 137.0, 5.8815, 95.70691661176026),\n",
       " (9.028, 12.324, 36.50808015995798, 120.0, 4.4439, 96.29673878800388),\n",
       " (8.2434, 11.747, 42.50231399718665, 263.0, 7.9132, 96.99116514791474),\n",
       " (11.6754, 15.4887, 32.66065307913274, 8.5, 0.1876, 97.79242683480297),\n",
       " (9.2103, 13.1295, 42.55151908412343, 100.0, 1.9858, 98.01418294334135),\n",
       " (9.9115, 14.0472, 41.72598102523283, 49.6, 0.7932, 98.40081944241457),\n",
       " (11.8696, 16.7864, 41.423605993716606, 7.0, 0.0513, 99.26775953907038),\n",
       " (18.0842, 17.3569, 4.021583021450078, 0.014, 0.029, 106.94263823398452),\n",
       " (12.8562, 12.0672, 6.136557110007953, 2.61, 5.7447, 120.10304150965348),\n",
       " (11.9655, 11.1016, 7.220040832718464, 6.36, 15.0886, 137.24251435150617),\n",
       " (12.7169, 11.8491, 6.824011426363175, 3.0, 7.145, 138.1671592582496),\n",
       " (18.526, 17.6444, 4.759102669218143, 0.009, 0.0217, 141.4937300125537),\n",
       " (16.5186, 15.5223, 6.0309783200097, 0.067, 0.1814, 170.80574494094873),\n",
       " (15.3296, 14.321, 6.579660234594393, 0.22, 0.6032, 174.1864366412534),\n",
       " (14.4889, 13.4759, 6.991598545570547, 0.51, 1.4045, 175.38572994588213),\n",
       " (12.4292, 11.3762, 8.472307397975474, 4.0, 11.4654, 186.6355618000657),\n",
       " (9.7902, 8.5924, 12.234737253845104, 56.0, 185.518, 231.2821403706464),\n",
       " (14.4889, 13.2675, 8.429526198205808, 0.51, 1.7298, 239.173583960141),\n",
       " (16.3666, 15.1243, 7.590180916549361, 0.078, 0.2701, 246.34018056536584),\n",
       " (11.5129, 10.2547, 10.92859006085873, 10.0, 35.1908, 251.90829428902825),\n",
       " (14.231, 12.9397, 9.073720234493777, 0.66, 2.4007, 263.74521796121763),\n",
       " (15.1248, 13.6746, 9.588267885072687, 0.27, 1.1513, 326.40122008272044),\n",
       " (12.9957, 11.4017, 12.265788311631828, 2.27, 11.1764, 392.35451031734993),\n",
       " (11.6123, 9.9816, 14.042729428036752, 9.054, 46.2421, 410.736909944349),\n",
       " (12.5627, 10.8993, 13.240897013386107, 3.5, 18.4707, 427.7330962444734),\n",
       " (19.6247, 17.9101, 8.736536024188672, 0.003, 0.0167, 455.3980771990562),\n",
       " (12.3339, 10.4398, 15.356648700704264, 4.4, 29.2441, 564.6395104344721),\n",
       " (12.4292, 10.5092, 15.447321643376265, 4.0, 27.2833, 582.0828897392364),\n",
       " (13.3455, 11.4047, 14.542963152591891, 1.6, 11.1433, 596.4544141309324),\n",
       " (11.8597, 9.7645, 17.666531843053182, 7.07, 57.4577, 712.6975665712555),\n",
       " (17.3221, 15.1868, 12.326765955479859, 0.03, 0.2538, 745.9168114221006),\n",
       " (13.1224, 10.8119, 17.60731683742906, 2.0, 20.1588, 907.942378092345),\n",
       " (13.8155, 11.3726, 17.68237129754047, 1.0, 11.5065, 1050.647446048659),\n",
       " (14.5087, 11.7093, 19.294506449952138, 0.5, 8.2172, 1543.435405219139),\n",
       " (11.9134, 9.0781, 23.799095818453825, 6.7, 114.1359, 1603.5207003906241),\n",
       " (14.025, 11.1028, 20.83579631558497, 0.811, 15.0704, 1758.2494307784627),\n",
       " (14.1722, 10.7918, 23.852336845482174, 0.7, 20.5677, 2838.2446090672747),\n",
       " (15.977, 11.9676, 25.0949698484537, 0.1152, 6.3465, 5411.549618235875),\n",
       " (14.9242, 10.7069, 28.257763817017004, 0.33, 22.3891, 6684.5808578240185),\n",
       " (16.2806, 10.3939, 36.157763316850804, 0.085, 30.6184, 35921.680508650286),\n",
       " (20.0301, 13.7238, 31.483963053340876, 0.002, 1.096, 54699.99289622366),\n",
       " (20.4609, 13.3771, 34.621072187140655, 0.0013, 1.5502, 119147.17151718323)]"
      ]
     },
     "execution_count": 285,
     "metadata": {},
     "output_type": "execute_result"
    }
   ],
   "source": [
    "sorted(gg, key=lambda x:x[5])"
   ]
  },
  {
   "cell_type": "code",
   "execution_count": 286,
   "id": "focused-price",
   "metadata": {},
   "outputs": [
    {
     "data": {
      "text/plain": [
       "1729.5271538010716"
      ]
     },
     "execution_count": 286,
     "metadata": {},
     "output_type": "execute_result"
    }
   ],
   "source": [
    "ape_mic.mean()"
   ]
  },
  {
   "cell_type": "markdown",
   "id": "ready-daughter",
   "metadata": {},
   "source": [
    "### Leave one out CV"
   ]
  },
  {
   "cell_type": "code",
   "execution_count": 79,
   "id": "plastic-pontiac",
   "metadata": {},
   "outputs": [],
   "source": [
    "loo = LeaveOneOut()"
   ]
  },
  {
   "cell_type": "code",
   "execution_count": 80,
   "id": "skilled-gibraltar",
   "metadata": {},
   "outputs": [],
   "source": [
    "from tqdm import tqdm"
   ]
  },
  {
   "cell_type": "code",
   "execution_count": 83,
   "id": "proper-trout",
   "metadata": {
    "scrolled": false
   },
   "outputs": [
    {
     "name": "stderr",
     "output_type": "stream",
     "text": [
      "707it [02:38,  4.47it/s]\n"
     ]
    }
   ],
   "source": [
    "result_df = pd.DataFrame(columns = list(df2.columns)+[\"y_pred_pmic\", \"y_pred_mic\", \"ape_pmic\", \"ape_mic\"])\n",
    "for train_index, test_index in tqdm(loo.split(X)):\n",
    "    X_train, X_test = X.iloc[train_index,:], X.iloc[test_index,:]\n",
    "    y_train, y_test = y.iloc[train_index], y.iloc[test_index]\n",
    "    y_train_pmic, y_train_mic = y_train['pIC50'], y_train['MIC']\n",
    "    y_test_pmic, y_test_mic = y_test['pIC50'], y_test['MIC']\n",
    "    svr = SVR(C=10, gamma=10)\n",
    "    _ = svr.fit(X_train, y_train_pmic)\n",
    "    y_pred_pmic = svr.predict(X_test)\n",
    "    y_pred_mic = np.exp(-y_pred_pmic)/1e-6\n",
    "    ape = 100*np.abs(y_test_pmic-y_pred_pmic)/y_test_pmic\n",
    "    ape_mic = 100*np.abs(y_test_mic-y_pred_mic)/y_test_mic\n",
    "    df_val = df2.iloc[test_index,:].values[0].tolist()\n",
    "    res = np.append(df_val, [y_pred_pmic[0], y_pred_mic[0], ape.values[0], ape_mic.values[0]])\n",
    "    res = pd.DataFrame([res], columns = list(df2.columns)+[\"y_pred_pmic\", \"y_pred_mic\", \"ape_pmic\", \"ape_mic\"])\n",
    "    result_df = result_df.append(res)\n",
    "result_df = result_df[[\"Sequence\", \"pIC50\", \"y_pred_pmic\", \"ape_pmic\", \"MIC\", \"y_pred_mic\", \"ape_mic\"]]"
   ]
  },
  {
   "cell_type": "code",
   "execution_count": 84,
   "id": "otherwise-gazette",
   "metadata": {},
   "outputs": [
    {
     "data": {
      "text/html": [
       "<div>\n",
       "<style scoped>\n",
       "    .dataframe tbody tr th:only-of-type {\n",
       "        vertical-align: middle;\n",
       "    }\n",
       "\n",
       "    .dataframe tbody tr th {\n",
       "        vertical-align: top;\n",
       "    }\n",
       "\n",
       "    .dataframe thead th {\n",
       "        text-align: right;\n",
       "    }\n",
       "</style>\n",
       "<table border=\"1\" class=\"dataframe\">\n",
       "  <thead>\n",
       "    <tr style=\"text-align: right;\">\n",
       "      <th></th>\n",
       "      <th>Sequence</th>\n",
       "      <th>pIC50</th>\n",
       "      <th>y_pred_pmic</th>\n",
       "      <th>ape_pmic</th>\n",
       "      <th>MIC</th>\n",
       "      <th>y_pred_mic</th>\n",
       "      <th>ape_mic</th>\n",
       "    </tr>\n",
       "  </thead>\n",
       "  <tbody>\n",
       "    <tr>\n",
       "      <th>0</th>\n",
       "      <td>AAQRRGRVGRNPNQVGD</td>\n",
       "      <td>7.724200675886576</td>\n",
       "      <td>8.474085931823693</td>\n",
       "      <td>9.708257040474232</td>\n",
       "      <td>442.0</td>\n",
       "      <td>208.80997464182514</td>\n",
       "      <td>52.75792428917983</td>\n",
       "    </tr>\n",
       "    <tr>\n",
       "      <th>0</th>\n",
       "      <td>HRILARIRQMMT</td>\n",
       "      <td>7.739015761671717</td>\n",
       "      <td>10.960233933747979</td>\n",
       "      <td>41.62309874118206</td>\n",
       "      <td>435.5</td>\n",
       "      <td>17.37924406254798</td>\n",
       "      <td>96.00935842421401</td>\n",
       "    </tr>\n",
       "    <tr>\n",
       "      <th>0</th>\n",
       "      <td>RNPSQVGD</td>\n",
       "      <td>7.867475568783628</td>\n",
       "      <td>8.486220732283247</td>\n",
       "      <td>7.864595931567431</td>\n",
       "      <td>383.0</td>\n",
       "      <td>206.291419254525</td>\n",
       "      <td>46.138010638505214</td>\n",
       "    </tr>\n",
       "    <tr>\n",
       "      <th>0</th>\n",
       "      <td>RVGRNPNQVGD</td>\n",
       "      <td>7.891254760549742</td>\n",
       "      <td>8.209481564085173</td>\n",
       "      <td>4.032651500827506</td>\n",
       "      <td>374.0</td>\n",
       "      <td>272.06173130660727</td>\n",
       "      <td>27.256221575773456</td>\n",
       "    </tr>\n",
       "    <tr>\n",
       "      <th>0</th>\n",
       "      <td>AAQRRGRIGRNPSQVGD</td>\n",
       "      <td>7.934977571563574</td>\n",
       "      <td>8.993424552192252</td>\n",
       "      <td>13.339004062491792</td>\n",
       "      <td>358.0</td>\n",
       "      <td>124.22395257445072</td>\n",
       "      <td>65.30057190657801</td>\n",
       "    </tr>\n",
       "    <tr>\n",
       "      <th>...</th>\n",
       "      <td>...</td>\n",
       "      <td>...</td>\n",
       "      <td>...</td>\n",
       "      <td>...</td>\n",
       "      <td>...</td>\n",
       "      <td>...</td>\n",
       "      <td>...</td>\n",
       "    </tr>\n",
       "    <tr>\n",
       "      <th>0</th>\n",
       "      <td>SLDQINVTFLDLEYEMKKLEEAIKKLEESYIDLKEL</td>\n",
       "      <td>20.46090157247892</td>\n",
       "      <td>12.995384886398604</td>\n",
       "      <td>36.48674355641231</td>\n",
       "      <td>0.0013</td>\n",
       "      <td>2.270785192731984</td>\n",
       "      <td>174575.78405630647</td>\n",
       "    </tr>\n",
       "    <tr>\n",
       "      <th>0</th>\n",
       "      <td>NGAICWGPCPTAFRQIGNCGHFKVRCCKIR</td>\n",
       "      <td>15.977030210679716</td>\n",
       "      <td>11.75705663949729</td>\n",
       "      <td>26.412753281029786</td>\n",
       "      <td>0.11515</td>\n",
       "      <td>7.833848673833259</td>\n",
       "      <td>6703.168626863448</td>\n",
       "    </tr>\n",
       "    <tr>\n",
       "      <th>0</th>\n",
       "      <td>CFPYITRPGTYHDWWYTRKNRQ</td>\n",
       "      <td>15.01948336229021</td>\n",
       "      <td>11.374792348433369</td>\n",
       "      <td>24.266420661363476</td>\n",
       "      <td>0.3</td>\n",
       "      <td>11.481283749753528</td>\n",
       "      <td>3727.0945832511757</td>\n",
       "    </tr>\n",
       "    <tr>\n",
       "      <th>0</th>\n",
       "      <td>YTSLIHSLIEESQNQQEKNEQELLELDKWASLWNWF</td>\n",
       "      <td>18.297578546818382</td>\n",
       "      <td>18.41232944776213</td>\n",
       "      <td>0.6271370862004042</td>\n",
       "      <td>0.011309999999999999</td>\n",
       "      <td>0.010083862655429536</td>\n",
       "      <td>10.841178997086322</td>\n",
       "    </tr>\n",
       "    <tr>\n",
       "      <th>0</th>\n",
       "      <td>SWETWEREIENYTRQIYRILEESQEQQDRNERDLLE</td>\n",
       "      <td>20.030118656386467</td>\n",
       "      <td>15.928075842096689</td>\n",
       "      <td>20.479373510759853</td>\n",
       "      <td>0.002</td>\n",
       "      <td>0.12092735517524593</td>\n",
       "      <td>5946.367758762296</td>\n",
       "    </tr>\n",
       "  </tbody>\n",
       "</table>\n",
       "<p>707 rows × 7 columns</p>\n",
       "</div>"
      ],
      "text/plain": [
       "                                Sequence               pIC50  \\\n",
       "0                      AAQRRGRVGRNPNQVGD   7.724200675886576   \n",
       "0                           HRILARIRQMMT   7.739015761671717   \n",
       "0                               RNPSQVGD   7.867475568783628   \n",
       "0                            RVGRNPNQVGD   7.891254760549742   \n",
       "0                      AAQRRGRIGRNPSQVGD   7.934977571563574   \n",
       "..                                   ...                 ...   \n",
       "0   SLDQINVTFLDLEYEMKKLEEAIKKLEESYIDLKEL   20.46090157247892   \n",
       "0         NGAICWGPCPTAFRQIGNCGHFKVRCCKIR  15.977030210679716   \n",
       "0                 CFPYITRPGTYHDWWYTRKNRQ   15.01948336229021   \n",
       "0   YTSLIHSLIEESQNQQEKNEQELLELDKWASLWNWF  18.297578546818382   \n",
       "0   SWETWEREIENYTRQIYRILEESQEQQDRNERDLLE  20.030118656386467   \n",
       "\n",
       "           y_pred_pmic            ape_pmic                   MIC  \\\n",
       "0    8.474085931823693   9.708257040474232                 442.0   \n",
       "0   10.960233933747979   41.62309874118206                 435.5   \n",
       "0    8.486220732283247   7.864595931567431                 383.0   \n",
       "0    8.209481564085173   4.032651500827506                 374.0   \n",
       "0    8.993424552192252  13.339004062491792                 358.0   \n",
       "..                 ...                 ...                   ...   \n",
       "0   12.995384886398604   36.48674355641231                0.0013   \n",
       "0    11.75705663949729  26.412753281029786               0.11515   \n",
       "0   11.374792348433369  24.266420661363476                   0.3   \n",
       "0    18.41232944776213  0.6271370862004042  0.011309999999999999   \n",
       "0   15.928075842096689  20.479373510759853                 0.002   \n",
       "\n",
       "              y_pred_mic             ape_mic  \n",
       "0     208.80997464182514   52.75792428917983  \n",
       "0      17.37924406254798   96.00935842421401  \n",
       "0       206.291419254525  46.138010638505214  \n",
       "0     272.06173130660727  27.256221575773456  \n",
       "0     124.22395257445072   65.30057190657801  \n",
       "..                   ...                 ...  \n",
       "0      2.270785192731984  174575.78405630647  \n",
       "0      7.833848673833259   6703.168626863448  \n",
       "0     11.481283749753528  3727.0945832511757  \n",
       "0   0.010083862655429536  10.841178997086322  \n",
       "0    0.12092735517524593   5946.367758762296  \n",
       "\n",
       "[707 rows x 7 columns]"
      ]
     },
     "execution_count": 84,
     "metadata": {},
     "output_type": "execute_result"
    }
   ],
   "source": [
    "result_df#.to_csv(\"../results/SVM_pMIC_to_MIC_removed_less_than_1e-6_rbf_c_10_gamma_10.csv\", index=False)"
   ]
  },
  {
   "cell_type": "code",
   "execution_count": 85,
   "id": "included-borough",
   "metadata": {},
   "outputs": [
    {
     "data": {
      "text/plain": [
       "11.636250146496206"
      ]
     },
     "execution_count": 85,
     "metadata": {},
     "output_type": "execute_result"
    }
   ],
   "source": [
    "result_df['ape_pmic'].astype('float').mean()"
   ]
  },
  {
   "cell_type": "code",
   "execution_count": 86,
   "id": "equal-niger",
   "metadata": {},
   "outputs": [
    {
     "data": {
      "text/plain": [
       "3381.3542621919096"
      ]
     },
     "execution_count": 86,
     "metadata": {},
     "output_type": "execute_result"
    }
   ],
   "source": [
    "result_df['ape_mic'].astype('float').mean()"
   ]
  },
  {
   "cell_type": "code",
   "execution_count": 113,
   "id": "increasing-galaxy",
   "metadata": {},
   "outputs": [],
   "source": [
    "logMIC = np.log(result_df['MIC'].astype('float'))\n",
    "pred_logMIC = np.log(result_df['y_pred_mic'].astype('float'))"
   ]
  },
  {
   "cell_type": "code",
   "execution_count": 114,
   "id": "interim-gibson",
   "metadata": {},
   "outputs": [
    {
     "data": {
      "text/plain": [
       "1.993313517614353"
      ]
     },
     "execution_count": 114,
     "metadata": {},
     "output_type": "execute_result"
    }
   ],
   "source": [
    "mean_squared_error(logMIC, pred_logMIC)**0.5"
   ]
  },
  {
   "cell_type": "code",
   "execution_count": 115,
   "id": "quality-imagination",
   "metadata": {},
   "outputs": [
    {
     "data": {
      "text/plain": [
       "0.5750494973613198"
      ]
     },
     "execution_count": 115,
     "metadata": {},
     "output_type": "execute_result"
    }
   ],
   "source": [
    "r2_score(logMIC, pred_logMIC)"
   ]
  },
  {
   "cell_type": "code",
   "execution_count": 106,
   "id": "legendary-earth",
   "metadata": {},
   "outputs": [],
   "source": [
    "import matplotlib.pyplot as plt"
   ]
  },
  {
   "cell_type": "code",
   "execution_count": 111,
   "id": "comfortable-evidence",
   "metadata": {},
   "outputs": [
    {
     "data": {
      "text/plain": [
       "<matplotlib.collections.PathCollection at 0x1a26e8df60>"
      ]
     },
     "execution_count": 111,
     "metadata": {},
     "output_type": "execute_result"
    },
    {
     "data": {
      "image/png": "[encoded data removed]",
      "text/plain": [
       "<Figure size 432x288 with 1 Axes>"
      ]
     },
     "metadata": {
      "needs_background": "light"
     },
     "output_type": "display_data"
    }
   ],
   "source": [
    "plt.scatter(x=result_df['pIC50'].values.astype('float'), y=result_df['y_pred_pmic'].values.astype('float'))"
   ]
  },
  {
   "cell_type": "code",
   "execution_count": null,
   "id": "significant-graph",
   "metadata": {},
   "outputs": [],
   "source": []
  },
  {
   "cell_type": "code",
   "execution_count": 287,
   "id": "continent-mississippi",
   "metadata": {},
   "outputs": [],
   "source": [
    "params2 = ['molecular_weight', 'aromaticity', 'instability_index',\n",
    "          'isoelectric_point', 'helix', 'turn', 'sheet', 'with_reduced_cysteines',\n",
    "          'with_disulfid_bridges', 'gravy', 'net_charge_at_pH7point4']"
   ]
  },
  {
   "cell_type": "code",
   "execution_count": 288,
   "id": "herbal-tomato",
   "metadata": {},
   "outputs": [],
   "source": [
    "prop2 = []\n",
    "for seq in df2.Sequence:\n",
    "    X = ProteinAnalysis(seq)\n",
    "    molecular_weight = X.molecular_weight()\n",
    "    aromaticity = X.aromaticity()\n",
    "    instability_index = X.instability_index()\n",
    "    isoelectric_point = X.isoelectric_point()\n",
    "    sec_struc = X.secondary_structure_fraction()\n",
    "    helix = sec_struc[0]\n",
    "    turn = sec_struc[1]\n",
    "    sheet = sec_struc[2]\n",
    "    epsilon_prot = X.molar_extinction_coefficient()\n",
    "    with_reduced_cysteines = epsilon_prot[0]\n",
    "    with_disulfid_bridges = epsilon_prot[1]\n",
    "    gravy = X.gravy() # hydrophobicity related\n",
    "    # flexibility = X.flexibility()\n",
    "    # X.protein_scale()\n",
    "    net_charge_at_pH7point4 = X.charge_at_pH(7.4)\n",
    "\n",
    "    prop2.append([seq, molecular_weight, aromaticity, instability_index, isoelectric_point, helix, turn, sheet,\n",
    "                 with_reduced_cysteines, with_disulfid_bridges, gravy, net_charge_at_pH7point4])\n",
    "prop2 = pd.DataFrame(prop2, columns=[\"Sequence\"]+params2)"
   ]
  },
  {
   "cell_type": "code",
   "execution_count": 289,
   "id": "annual-northern",
   "metadata": {},
   "outputs": [
    {
     "data": {
      "text/html": [
       "<div>\n",
       "<style scoped>\n",
       "    .dataframe tbody tr th:only-of-type {\n",
       "        vertical-align: middle;\n",
       "    }\n",
       "\n",
       "    .dataframe tbody tr th {\n",
       "        vertical-align: top;\n",
       "    }\n",
       "\n",
       "    .dataframe thead th {\n",
       "        text-align: right;\n",
       "    }\n",
       "</style>\n",
       "<table border=\"1\" class=\"dataframe\">\n",
       "  <thead>\n",
       "    <tr style=\"text-align: right;\">\n",
       "      <th></th>\n",
       "      <th>Sequence</th>\n",
       "      <th>molecular_weight</th>\n",
       "      <th>aromaticity</th>\n",
       "      <th>instability_index</th>\n",
       "      <th>isoelectric_point</th>\n",
       "      <th>helix</th>\n",
       "      <th>turn</th>\n",
       "      <th>sheet</th>\n",
       "      <th>with_reduced_cysteines</th>\n",
       "      <th>with_disulfid_bridges</th>\n",
       "      <th>gravy</th>\n",
       "      <th>net_charge_at_pH7point4</th>\n",
       "    </tr>\n",
       "  </thead>\n",
       "  <tbody>\n",
       "    <tr>\n",
       "      <th>0</th>\n",
       "      <td>AAQRRGRVGRNPNQVGD</td>\n",
       "      <td>1850.9960</td>\n",
       "      <td>0.000000</td>\n",
       "      <td>24.817647</td>\n",
       "      <td>11.999968</td>\n",
       "      <td>0.117647</td>\n",
       "      <td>0.352941</td>\n",
       "      <td>0.117647</td>\n",
       "      <td>0</td>\n",
       "      <td>0</td>\n",
       "      <td>-1.547059</td>\n",
       "      <td>2.609418</td>\n",
       "    </tr>\n",
       "    <tr>\n",
       "      <th>1</th>\n",
       "      <td>HRILARIRQMMT</td>\n",
       "      <td>1525.8875</td>\n",
       "      <td>0.000000</td>\n",
       "      <td>36.466667</td>\n",
       "      <td>11.999968</td>\n",
       "      <td>0.250000</td>\n",
       "      <td>0.000000</td>\n",
       "      <td>0.333333</td>\n",
       "      <td>0</td>\n",
       "      <td>0</td>\n",
       "      <td>-0.208333</td>\n",
       "      <td>2.594004</td>\n",
       "    </tr>\n",
       "    <tr>\n",
       "      <th>2</th>\n",
       "      <td>RNPSQVGD</td>\n",
       "      <td>871.8950</td>\n",
       "      <td>0.000000</td>\n",
       "      <td>48.687500</td>\n",
       "      <td>6.087706</td>\n",
       "      <td>0.125000</td>\n",
       "      <td>0.500000</td>\n",
       "      <td>0.000000</td>\n",
       "      <td>0</td>\n",
       "      <td>0</td>\n",
       "      <td>-1.700000</td>\n",
       "      <td>-0.440856</td>\n",
       "    </tr>\n",
       "    <tr>\n",
       "      <th>3</th>\n",
       "      <td>RVGRNPNQVGD</td>\n",
       "      <td>1211.2883</td>\n",
       "      <td>0.000000</td>\n",
       "      <td>-11.454545</td>\n",
       "      <td>9.598972</td>\n",
       "      <td>0.181818</td>\n",
       "      <td>0.454545</td>\n",
       "      <td>0.000000</td>\n",
       "      <td>0</td>\n",
       "      <td>0</td>\n",
       "      <td>-1.545455</td>\n",
       "      <td>0.559118</td>\n",
       "    </tr>\n",
       "    <tr>\n",
       "      <th>4</th>\n",
       "      <td>AAQRRGRIGRNPSQVGD</td>\n",
       "      <td>1837.9973</td>\n",
       "      <td>0.000000</td>\n",
       "      <td>56.905882</td>\n",
       "      <td>11.999968</td>\n",
       "      <td>0.117647</td>\n",
       "      <td>0.352941</td>\n",
       "      <td>0.117647</td>\n",
       "      <td>0</td>\n",
       "      <td>0</td>\n",
       "      <td>-1.370588</td>\n",
       "      <td>2.609418</td>\n",
       "    </tr>\n",
       "    <tr>\n",
       "      <th>...</th>\n",
       "      <td>...</td>\n",
       "      <td>...</td>\n",
       "      <td>...</td>\n",
       "      <td>...</td>\n",
       "      <td>...</td>\n",
       "      <td>...</td>\n",
       "      <td>...</td>\n",
       "      <td>...</td>\n",
       "      <td>...</td>\n",
       "      <td>...</td>\n",
       "      <td>...</td>\n",
       "      <td>...</td>\n",
       "    </tr>\n",
       "    <tr>\n",
       "      <th>702</th>\n",
       "      <td>SLDQINVTFLDLEYEMKKLEEAIKKLEESYIDLKEL</td>\n",
       "      <td>4331.9284</td>\n",
       "      <td>0.083333</td>\n",
       "      <td>22.725000</td>\n",
       "      <td>4.356391</td>\n",
       "      <td>0.388889</td>\n",
       "      <td>0.083333</td>\n",
       "      <td>0.444444</td>\n",
       "      <td>2980</td>\n",
       "      <td>2980</td>\n",
       "      <td>-0.433333</td>\n",
       "      <td>-5.755126</td>\n",
       "    </tr>\n",
       "    <tr>\n",
       "      <th>703</th>\n",
       "      <td>NGAICWGPCPTAFRQIGNCGHFKVRCCKIR</td>\n",
       "      <td>3336.9618</td>\n",
       "      <td>0.100000</td>\n",
       "      <td>-1.326667</td>\n",
       "      <td>9.408790</td>\n",
       "      <td>0.233333</td>\n",
       "      <td>0.266667</td>\n",
       "      <td>0.066667</td>\n",
       "      <td>5500</td>\n",
       "      <td>5750</td>\n",
       "      <td>-0.066667</td>\n",
       "      <td>4.466476</td>\n",
       "    </tr>\n",
       "    <tr>\n",
       "      <th>704</th>\n",
       "      <td>CFPYITRPGTYHDWWYTRKNRQ</td>\n",
       "      <td>2889.2103</td>\n",
       "      <td>0.272727</td>\n",
       "      <td>33.700000</td>\n",
       "      <td>9.625146</td>\n",
       "      <td>0.318182</td>\n",
       "      <td>0.181818</td>\n",
       "      <td>0.000000</td>\n",
       "      <td>15470</td>\n",
       "      <td>15470</td>\n",
       "      <td>-1.486364</td>\n",
       "      <td>2.559925</td>\n",
       "    </tr>\n",
       "    <tr>\n",
       "      <th>705</th>\n",
       "      <td>YTSLIHSLIEESQNQQEKNEQELLELDKWASLWNWF</td>\n",
       "      <td>4450.8237</td>\n",
       "      <td>0.138889</td>\n",
       "      <td>62.650000</td>\n",
       "      <td>4.300688</td>\n",
       "      <td>0.361111</td>\n",
       "      <td>0.194444</td>\n",
       "      <td>0.361111</td>\n",
       "      <td>17990</td>\n",
       "      <td>17990</td>\n",
       "      <td>-0.875000</td>\n",
       "      <td>-5.406266</td>\n",
       "    </tr>\n",
       "    <tr>\n",
       "      <th>706</th>\n",
       "      <td>SWETWEREIENYTRQIYRILEESQEQQDRNERDLLE</td>\n",
       "      <td>4685.9408</td>\n",
       "      <td>0.111111</td>\n",
       "      <td>69.236111</td>\n",
       "      <td>4.409706</td>\n",
       "      <td>0.277778</td>\n",
       "      <td>0.111111</td>\n",
       "      <td>0.333333</td>\n",
       "      <td>13980</td>\n",
       "      <td>13980</td>\n",
       "      <td>-1.791667</td>\n",
       "      <td>-6.738836</td>\n",
       "    </tr>\n",
       "  </tbody>\n",
       "</table>\n",
       "<p>707 rows × 12 columns</p>\n",
       "</div>"
      ],
      "text/plain": [
       "                                 Sequence  molecular_weight  aromaticity  \\\n",
       "0                       AAQRRGRVGRNPNQVGD         1850.9960     0.000000   \n",
       "1                            HRILARIRQMMT         1525.8875     0.000000   \n",
       "2                                RNPSQVGD          871.8950     0.000000   \n",
       "3                             RVGRNPNQVGD         1211.2883     0.000000   \n",
       "4                       AAQRRGRIGRNPSQVGD         1837.9973     0.000000   \n",
       "..                                    ...               ...          ...   \n",
       "702  SLDQINVTFLDLEYEMKKLEEAIKKLEESYIDLKEL         4331.9284     0.083333   \n",
       "703        NGAICWGPCPTAFRQIGNCGHFKVRCCKIR         3336.9618     0.100000   \n",
       "704                CFPYITRPGTYHDWWYTRKNRQ         2889.2103     0.272727   \n",
       "705  YTSLIHSLIEESQNQQEKNEQELLELDKWASLWNWF         4450.8237     0.138889   \n",
       "706  SWETWEREIENYTRQIYRILEESQEQQDRNERDLLE         4685.9408     0.111111   \n",
       "\n",
       "     instability_index  isoelectric_point     helix      turn     sheet  \\\n",
       "0            24.817647          11.999968  0.117647  0.352941  0.117647   \n",
       "1            36.466667          11.999968  0.250000  0.000000  0.333333   \n",
       "2            48.687500           6.087706  0.125000  0.500000  0.000000   \n",
       "3           -11.454545           9.598972  0.181818  0.454545  0.000000   \n",
       "4            56.905882          11.999968  0.117647  0.352941  0.117647   \n",
       "..                 ...                ...       ...       ...       ...   \n",
       "702          22.725000           4.356391  0.388889  0.083333  0.444444   \n",
       "703          -1.326667           9.408790  0.233333  0.266667  0.066667   \n",
       "704          33.700000           9.625146  0.318182  0.181818  0.000000   \n",
       "705          62.650000           4.300688  0.361111  0.194444  0.361111   \n",
       "706          69.236111           4.409706  0.277778  0.111111  0.333333   \n",
       "\n",
       "     with_reduced_cysteines  with_disulfid_bridges     gravy  \\\n",
       "0                         0                      0 -1.547059   \n",
       "1                         0                      0 -0.208333   \n",
       "2                         0                      0 -1.700000   \n",
       "3                         0                      0 -1.545455   \n",
       "4                         0                      0 -1.370588   \n",
       "..                      ...                    ...       ...   \n",
       "702                    2980                   2980 -0.433333   \n",
       "703                    5500                   5750 -0.066667   \n",
       "704                   15470                  15470 -1.486364   \n",
       "705                   17990                  17990 -0.875000   \n",
       "706                   13980                  13980 -1.791667   \n",
       "\n",
       "     net_charge_at_pH7point4  \n",
       "0                   2.609418  \n",
       "1                   2.594004  \n",
       "2                  -0.440856  \n",
       "3                   0.559118  \n",
       "4                   2.609418  \n",
       "..                       ...  \n",
       "702                -5.755126  \n",
       "703                 4.466476  \n",
       "704                 2.559925  \n",
       "705                -5.406266  \n",
       "706                -6.738836  \n",
       "\n",
       "[707 rows x 12 columns]"
      ]
     },
     "execution_count": 289,
     "metadata": {},
     "output_type": "execute_result"
    }
   ],
   "source": [
    "prop2"
   ]
  },
  {
   "cell_type": "code",
   "execution_count": 302,
   "id": "severe-lounge",
   "metadata": {},
   "outputs": [],
   "source": [
    "prop2.merge(result_df,on=['Sequence'],how='left')#.to_csv(\"../results/SVM_pMIC_to_MIC_removed_less_than_1e-6_rbf_c_10_gamma_10_dipep_turns.csv\", index=False)"
   ]
  },
  {
   "cell_type": "markdown",
   "id": "infinite-point",
   "metadata": {},
   "source": [
    "### Test with external sequence from https://www.biorxiv.org/content/10.1101/2021.04.07.438720v1.full.pdf"
   ]
  },
  {
   "cell_type": "code",
   "execution_count": 90,
   "id": "worst-triangle",
   "metadata": {},
   "outputs": [],
   "source": [
    "test = pd.DataFrame([['AAAAAAAAAAGIGKFLHSAKKFGKAFVGEIMNS', 2.09995035],\n",
    "                     ['AAGMGFFGAR', 1.108873537],\n",
    "                     ['AEVAPAPAAAAPAKAPKKKAAAKPKKAGPS', 0.301029996],\n",
    "                     ['AGLQFPVGRIGRLLRK', 0.799340549],\n",
    "                     ['VLNENAAR', 128]], columns=[\"Sequence\", \"logMIC\"])"
   ]
  },
  {
   "cell_type": "code",
   "execution_count": 91,
   "id": "narrow-renewal",
   "metadata": {},
   "outputs": [
    {
     "data": {
      "text/plain": [
       "'AGLQFPVGRIGRLLRK'"
      ]
     },
     "execution_count": 91,
     "metadata": {},
     "output_type": "execute_result"
    }
   ],
   "source": [
    "\"A G L Q F P V G R I G R L L R K\".replace(\" \", \"\")"
   ]
  },
  {
   "cell_type": "code",
   "execution_count": 92,
   "id": "organized-announcement",
   "metadata": {},
   "outputs": [
    {
     "data": {
      "text/html": [
       "<div>\n",
       "<style scoped>\n",
       "    .dataframe tbody tr th:only-of-type {\n",
       "        vertical-align: middle;\n",
       "    }\n",
       "\n",
       "    .dataframe tbody tr th {\n",
       "        vertical-align: top;\n",
       "    }\n",
       "\n",
       "    .dataframe thead th {\n",
       "        text-align: right;\n",
       "    }\n",
       "</style>\n",
       "<table border=\"1\" class=\"dataframe\">\n",
       "  <thead>\n",
       "    <tr style=\"text-align: right;\">\n",
       "      <th></th>\n",
       "      <th>Sequence</th>\n",
       "      <th>logMIC</th>\n",
       "    </tr>\n",
       "  </thead>\n",
       "  <tbody>\n",
       "    <tr>\n",
       "      <th>0</th>\n",
       "      <td>AAAAAAAAAAGIGKFLHSAKKFGKAFVGEIMNS</td>\n",
       "      <td>2.099950</td>\n",
       "    </tr>\n",
       "    <tr>\n",
       "      <th>1</th>\n",
       "      <td>AAGMGFFGAR</td>\n",
       "      <td>1.108874</td>\n",
       "    </tr>\n",
       "    <tr>\n",
       "      <th>2</th>\n",
       "      <td>AEVAPAPAAAAPAKAPKKKAAAKPKKAGPS</td>\n",
       "      <td>0.301030</td>\n",
       "    </tr>\n",
       "    <tr>\n",
       "      <th>3</th>\n",
       "      <td>AGLQFPVGRIGRLLRK</td>\n",
       "      <td>0.799341</td>\n",
       "    </tr>\n",
       "    <tr>\n",
       "      <th>4</th>\n",
       "      <td>VLNENAAR</td>\n",
       "      <td>128.000000</td>\n",
       "    </tr>\n",
       "  </tbody>\n",
       "</table>\n",
       "</div>"
      ],
      "text/plain": [
       "                            Sequence      logMIC\n",
       "0  AAAAAAAAAAGIGKFLHSAKKFGKAFVGEIMNS    2.099950\n",
       "1                         AAGMGFFGAR    1.108874\n",
       "2     AEVAPAPAAAAPAKAPKKKAAAKPKKAGPS    0.301030\n",
       "3                   AGLQFPVGRIGRLLRK    0.799341\n",
       "4                           VLNENAAR  128.000000"
      ]
     },
     "execution_count": 92,
     "metadata": {},
     "output_type": "execute_result"
    }
   ],
   "source": [
    "test"
   ]
  },
  {
   "cell_type": "code",
   "execution_count": 93,
   "id": "civil-justice",
   "metadata": {},
   "outputs": [],
   "source": [
    "test_dipep = reduce_by_kmer_frequency(test, kmer=2)"
   ]
  },
  {
   "cell_type": "code",
   "execution_count": 94,
   "id": "round-champagne",
   "metadata": {},
   "outputs": [
    {
     "name": "stderr",
     "output_type": "stream",
     "text": [
      "/Users/in-divye.singh/anaconda3/envs/life-science/lib/python3.6/site-packages/smart_open/smart_open_lib.py:254: UserWarning: This function is deprecated, use smart_open.open instead. See the migration notes for details: https://github.com/RaRe-Technologies/smart_open/blob/master/README.rst#migrating-to-the-new-open-function\n",
      "  'See the migration notes for details: %s' % _MIGRATION_NOTES_URL\n",
      "Creating vectors: 100%|██████████| 5/5 [00:00<00:00, 886.03sequence/s]\n"
     ]
    }
   ],
   "source": [
    "uniprot_embedding = biovec.models.load_protvec(\"../data/embeddings/uniprot__kmer_3_contextWindow_10_vector_100_reduction_None\")\n",
    "\n",
    "test_protvec = convert_sequences_to_avg_vectors(test['Sequence'], uniprot_embedding, kmer=3)\n",
    "test_protvec = test_protvec.reset_index(drop=True)"
   ]
  },
  {
   "cell_type": "code",
   "execution_count": 95,
   "id": "addressed-aside",
   "metadata": {},
   "outputs": [],
   "source": [
    "test_physicochemical_prop = get_physicochemical_properties(test)"
   ]
  },
  {
   "cell_type": "code",
   "execution_count": 96,
   "id": "baking-reporter",
   "metadata": {},
   "outputs": [],
   "source": [
    "test_X = pd.concat([test_dipep, test_physicochemical_prop[['turn']]], axis=1)"
   ]
  },
  {
   "cell_type": "code",
   "execution_count": 97,
   "id": "desperate-annual",
   "metadata": {},
   "outputs": [
    {
     "data": {
      "text/html": [
       "<div>\n",
       "<style scoped>\n",
       "    .dataframe tbody tr th:only-of-type {\n",
       "        vertical-align: middle;\n",
       "    }\n",
       "\n",
       "    .dataframe tbody tr th {\n",
       "        vertical-align: top;\n",
       "    }\n",
       "\n",
       "    .dataframe thead th {\n",
       "        text-align: right;\n",
       "    }\n",
       "</style>\n",
       "<table border=\"1\" class=\"dataframe\">\n",
       "  <thead>\n",
       "    <tr style=\"text-align: right;\">\n",
       "      <th></th>\n",
       "      <th>AA</th>\n",
       "      <th>AC</th>\n",
       "      <th>AD</th>\n",
       "      <th>AE</th>\n",
       "      <th>AF</th>\n",
       "      <th>AG</th>\n",
       "      <th>AH</th>\n",
       "      <th>AI</th>\n",
       "      <th>AK</th>\n",
       "      <th>AL</th>\n",
       "      <th>...</th>\n",
       "      <th>YN</th>\n",
       "      <th>YP</th>\n",
       "      <th>YQ</th>\n",
       "      <th>YR</th>\n",
       "      <th>YS</th>\n",
       "      <th>YT</th>\n",
       "      <th>YV</th>\n",
       "      <th>YW</th>\n",
       "      <th>YY</th>\n",
       "      <th>turn</th>\n",
       "    </tr>\n",
       "  </thead>\n",
       "  <tbody>\n",
       "    <tr>\n",
       "      <th>0</th>\n",
       "      <td>0.281250</td>\n",
       "      <td>0.0</td>\n",
       "      <td>0.0</td>\n",
       "      <td>0.000000</td>\n",
       "      <td>0.03125</td>\n",
       "      <td>0.031250</td>\n",
       "      <td>0.0</td>\n",
       "      <td>0.0</td>\n",
       "      <td>0.031250</td>\n",
       "      <td>0.0</td>\n",
       "      <td>...</td>\n",
       "      <td>0.0</td>\n",
       "      <td>0.0</td>\n",
       "      <td>0.0</td>\n",
       "      <td>0.0</td>\n",
       "      <td>0.0</td>\n",
       "      <td>0.0</td>\n",
       "      <td>0.0</td>\n",
       "      <td>0.0</td>\n",
       "      <td>0.0</td>\n",
       "      <td>0.212121</td>\n",
       "    </tr>\n",
       "    <tr>\n",
       "      <th>1</th>\n",
       "      <td>0.111111</td>\n",
       "      <td>0.0</td>\n",
       "      <td>0.0</td>\n",
       "      <td>0.000000</td>\n",
       "      <td>0.00000</td>\n",
       "      <td>0.111111</td>\n",
       "      <td>0.0</td>\n",
       "      <td>0.0</td>\n",
       "      <td>0.000000</td>\n",
       "      <td>0.0</td>\n",
       "      <td>...</td>\n",
       "      <td>0.0</td>\n",
       "      <td>0.0</td>\n",
       "      <td>0.0</td>\n",
       "      <td>0.0</td>\n",
       "      <td>0.0</td>\n",
       "      <td>0.0</td>\n",
       "      <td>0.0</td>\n",
       "      <td>0.0</td>\n",
       "      <td>0.0</td>\n",
       "      <td>0.300000</td>\n",
       "    </tr>\n",
       "    <tr>\n",
       "      <th>2</th>\n",
       "      <td>0.172414</td>\n",
       "      <td>0.0</td>\n",
       "      <td>0.0</td>\n",
       "      <td>0.034483</td>\n",
       "      <td>0.00000</td>\n",
       "      <td>0.034483</td>\n",
       "      <td>0.0</td>\n",
       "      <td>0.0</td>\n",
       "      <td>0.068966</td>\n",
       "      <td>0.0</td>\n",
       "      <td>...</td>\n",
       "      <td>0.0</td>\n",
       "      <td>0.0</td>\n",
       "      <td>0.0</td>\n",
       "      <td>0.0</td>\n",
       "      <td>0.0</td>\n",
       "      <td>0.0</td>\n",
       "      <td>0.0</td>\n",
       "      <td>0.0</td>\n",
       "      <td>0.0</td>\n",
       "      <td>0.266667</td>\n",
       "    </tr>\n",
       "    <tr>\n",
       "      <th>3</th>\n",
       "      <td>0.000000</td>\n",
       "      <td>0.0</td>\n",
       "      <td>0.0</td>\n",
       "      <td>0.000000</td>\n",
       "      <td>0.00000</td>\n",
       "      <td>0.066667</td>\n",
       "      <td>0.0</td>\n",
       "      <td>0.0</td>\n",
       "      <td>0.000000</td>\n",
       "      <td>0.0</td>\n",
       "      <td>...</td>\n",
       "      <td>0.0</td>\n",
       "      <td>0.0</td>\n",
       "      <td>0.0</td>\n",
       "      <td>0.0</td>\n",
       "      <td>0.0</td>\n",
       "      <td>0.0</td>\n",
       "      <td>0.0</td>\n",
       "      <td>0.0</td>\n",
       "      <td>0.0</td>\n",
       "      <td>0.250000</td>\n",
       "    </tr>\n",
       "    <tr>\n",
       "      <th>4</th>\n",
       "      <td>0.142857</td>\n",
       "      <td>0.0</td>\n",
       "      <td>0.0</td>\n",
       "      <td>0.000000</td>\n",
       "      <td>0.00000</td>\n",
       "      <td>0.000000</td>\n",
       "      <td>0.0</td>\n",
       "      <td>0.0</td>\n",
       "      <td>0.000000</td>\n",
       "      <td>0.0</td>\n",
       "      <td>...</td>\n",
       "      <td>0.0</td>\n",
       "      <td>0.0</td>\n",
       "      <td>0.0</td>\n",
       "      <td>0.0</td>\n",
       "      <td>0.0</td>\n",
       "      <td>0.0</td>\n",
       "      <td>0.0</td>\n",
       "      <td>0.0</td>\n",
       "      <td>0.0</td>\n",
       "      <td>0.250000</td>\n",
       "    </tr>\n",
       "  </tbody>\n",
       "</table>\n",
       "<p>5 rows × 401 columns</p>\n",
       "</div>"
      ],
      "text/plain": [
       "         AA   AC   AD        AE       AF        AG   AH   AI        AK   AL  \\\n",
       "0  0.281250  0.0  0.0  0.000000  0.03125  0.031250  0.0  0.0  0.031250  0.0   \n",
       "1  0.111111  0.0  0.0  0.000000  0.00000  0.111111  0.0  0.0  0.000000  0.0   \n",
       "2  0.172414  0.0  0.0  0.034483  0.00000  0.034483  0.0  0.0  0.068966  0.0   \n",
       "3  0.000000  0.0  0.0  0.000000  0.00000  0.066667  0.0  0.0  0.000000  0.0   \n",
       "4  0.142857  0.0  0.0  0.000000  0.00000  0.000000  0.0  0.0  0.000000  0.0   \n",
       "\n",
       "   ...   YN   YP   YQ   YR   YS   YT   YV   YW   YY      turn  \n",
       "0  ...  0.0  0.0  0.0  0.0  0.0  0.0  0.0  0.0  0.0  0.212121  \n",
       "1  ...  0.0  0.0  0.0  0.0  0.0  0.0  0.0  0.0  0.0  0.300000  \n",
       "2  ...  0.0  0.0  0.0  0.0  0.0  0.0  0.0  0.0  0.0  0.266667  \n",
       "3  ...  0.0  0.0  0.0  0.0  0.0  0.0  0.0  0.0  0.0  0.250000  \n",
       "4  ...  0.0  0.0  0.0  0.0  0.0  0.0  0.0  0.0  0.0  0.250000  \n",
       "\n",
       "[5 rows x 401 columns]"
      ]
     },
     "execution_count": 97,
     "metadata": {},
     "output_type": "execute_result"
    }
   ],
   "source": [
    "test_X"
   ]
  },
  {
   "cell_type": "code",
   "execution_count": 98,
   "id": "dependent-november",
   "metadata": {},
   "outputs": [],
   "source": [
    "y_pred = svr.predict(test_X)"
   ]
  },
  {
   "cell_type": "code",
   "execution_count": 99,
   "id": "intended-orbit",
   "metadata": {},
   "outputs": [
    {
     "data": {
      "text/plain": [
       "array([ 9.56985628, 11.49879018,  9.64696197,  9.66795884, 10.58266034])"
      ]
     },
     "execution_count": 99,
     "metadata": {},
     "output_type": "execute_result"
    }
   ],
   "source": [
    "y_pred"
   ]
  },
  {
   "cell_type": "code",
   "execution_count": 100,
   "id": "nominated-minute",
   "metadata": {},
   "outputs": [],
   "source": [
    "y_pred_mic = np.exp(-y_pred)/1e-6"
   ]
  },
  {
   "cell_type": "code",
   "execution_count": 101,
   "id": "light-rocket",
   "metadata": {},
   "outputs": [
    {
     "data": {
      "text/plain": [
       "array([69.80141464, 10.14235663, 64.62159131, 63.27888566, 25.35181223])"
      ]
     },
     "execution_count": 101,
     "metadata": {},
     "output_type": "execute_result"
    }
   ],
   "source": [
    "y_pred_mic"
   ]
  },
  {
   "cell_type": "code",
   "execution_count": 102,
   "id": "spatial-serial",
   "metadata": {
    "scrolled": true
   },
   "outputs": [
    {
     "data": {
      "text/plain": [
       "array([4.24565428, 2.31672038, 4.16854859, 4.14755171, 3.23285022])"
      ]
     },
     "execution_count": 102,
     "metadata": {},
     "output_type": "execute_result"
    }
   ],
   "source": [
    "np.log(y_pred_mic)"
   ]
  },
  {
   "cell_type": "code",
   "execution_count": 103,
   "id": "adolescent-factory",
   "metadata": {},
   "outputs": [
    {
     "data": {
      "text/plain": [
       "array([  2.09995035,   1.10887354,   0.30103   ,   0.79934055,\n",
       "       128.        ])"
      ]
     },
     "execution_count": 103,
     "metadata": {},
     "output_type": "execute_result"
    }
   ],
   "source": [
    "test['logMIC'].values"
   ]
  },
  {
   "cell_type": "code",
   "execution_count": null,
   "id": "disabled-creativity",
   "metadata": {},
   "outputs": [],
   "source": []
  },
  {
   "cell_type": "code",
   "execution_count": null,
   "id": "difficult-lancaster",
   "metadata": {},
   "outputs": [],
   "source": []
  }
 ],
 "metadata": {
  "kernelspec": {
   "display_name": "Python 3",
   "language": "python",
   "name": "python3"
  },
  "language_info": {
   "codemirror_mode": {
    "name": "ipython",
    "version": 3
   },
   "file_extension": ".py",
   "mimetype": "text/x-python",
   "name": "python",
   "nbconvert_exporter": "python",
   "pygments_lexer": "ipython3",
   "version": "3.6.10"
  },
  "varInspector": {
   "cols": {
    "lenName": 16,
    "lenType": 16,
    "lenVar": 40
   },
   "kernels_config": {
    "python": {
     "delete_cmd_postfix": "",
     "delete_cmd_prefix": "del ",
     "library": "var_list.py",
     "varRefreshCmd": "print(var_dic_list())"
    },
    "r": {
     "delete_cmd_postfix": ") ",
     "delete_cmd_prefix": "rm(",
     "library": "var_list.r",
     "varRefreshCmd": "cat(var_dic_list()) "
    }
   },
   "types_to_exclude": [
    "module",
    "function",
    "builtin_function_or_method",
    "instance",
    "_Feature"
   ],
   "window_display": false
  }
 },
 "nbformat": 4,
 "nbformat_minor": 5
}
