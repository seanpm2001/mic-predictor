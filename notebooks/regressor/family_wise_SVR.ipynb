{
 "cells": [
  {
   "cell_type": "code",
   "execution_count": 1,
   "id": "overall-economics",
   "metadata": {
    "scrolled": false
   },
   "outputs": [
    {
     "name": "stdout",
     "output_type": "stream",
     "text": [
      "/Users/in-divye.singh/Documents/Projects/MIC_predictor/src\n"
     ]
    }
   ],
   "source": [
    "cd ../../src"
   ]
  },
  {
   "cell_type": "code",
   "execution_count": 2,
   "id": "sticky-rotation",
   "metadata": {},
   "outputs": [],
   "source": [
    "import biovec\n",
    "import numpy as np\n",
    "import pandas as pd\n",
    "from itertools import chain, combinations\n",
    "from collections import Counter\n",
    "\n",
    "from utils import *\n",
    "\n",
    "from sklearn.svm import SVR\n",
    "from sklearn.neighbors import KNeighborsRegressor\n",
    "from sklearn.metrics import make_scorer\n",
    "from sklearn.model_selection import GridSearchCV\n",
    "from sklearn.metrics import mean_squared_error, mean_absolute_error\n",
    "from sklearn.model_selection import train_test_split\n",
    "\n",
    "from Bio.SeqUtils.ProtParam import ProteinAnalysis"
   ]
  },
  {
   "cell_type": "code",
   "execution_count": 3,
   "id": "found-thirty",
   "metadata": {},
   "outputs": [],
   "source": [
    "import seaborn as sns"
   ]
  },
  {
   "cell_type": "code",
   "execution_count": 4,
   "id": "facial-medline",
   "metadata": {},
   "outputs": [],
   "source": [
    "def mean_absolute_percentage_error(y_true, y_pred): \n",
    "    y_true, y_pred = np.array(y_true), np.array(y_pred)\n",
    "    return np.mean(np.abs((y_true - y_pred) / y_true)) * 100\n",
    "\n",
    "mape_scorer = make_scorer(mean_absolute_percentage_error, greater_is_better=False)"
   ]
  },
  {
   "cell_type": "code",
   "execution_count": 5,
   "id": "essential-citizenship",
   "metadata": {},
   "outputs": [],
   "source": [
    "avp_ic50 = pd.read_csv(\"../data/raw/AVP-IC50Pred_train.csv\")\n",
    "ha_avp = pd.read_csv(\"../data/raw/HA_AVP.csv\")"
   ]
  },
  {
   "cell_type": "code",
   "execution_count": 21,
   "id": "fossil-wheel",
   "metadata": {},
   "outputs": [],
   "source": [
    "df = pd.concat([avp_ic50[['Sequence','MIC']], ha_avp], axis=0).drop_duplicates(['Sequence']).reset_index(drop=True)\n",
    "df = sequence_filtering(df)"
   ]
  },
  {
   "cell_type": "code",
   "execution_count": 22,
   "id": "later-threshold",
   "metadata": {},
   "outputs": [],
   "source": [
    "df['pIC50'] = df['MIC'].apply(lambda x: -np.log(x*1e-6))"
   ]
  },
  {
   "cell_type": "code",
   "execution_count": 23,
   "id": "round-scheme",
   "metadata": {},
   "outputs": [],
   "source": [
    "family = pd.read_csv(\"../data/raw/712pep_family.csv\")"
   ]
  },
  {
   "cell_type": "code",
   "execution_count": 24,
   "id": "measured-combine",
   "metadata": {},
   "outputs": [
    {
     "data": {
      "text/html": [
       "<div>\n",
       "<style scoped>\n",
       "    .dataframe tbody tr th:only-of-type {\n",
       "        vertical-align: middle;\n",
       "    }\n",
       "\n",
       "    .dataframe tbody tr th {\n",
       "        vertical-align: top;\n",
       "    }\n",
       "\n",
       "    .dataframe thead th {\n",
       "        text-align: right;\n",
       "    }\n",
       "</style>\n",
       "<table border=\"1\" class=\"dataframe\">\n",
       "  <thead>\n",
       "    <tr style=\"text-align: right;\">\n",
       "      <th></th>\n",
       "      <th>Sequence</th>\n",
       "      <th>Abbreviation</th>\n",
       "      <th>Family</th>\n",
       "    </tr>\n",
       "  </thead>\n",
       "  <tbody>\n",
       "    <tr>\n",
       "      <th>0</th>\n",
       "      <td>KWKVFKKIEKMGRNIRNGIVKAGPAIAVLGEAKAL</td>\n",
       "      <td>JV</td>\n",
       "      <td>Arenaviridae</td>\n",
       "    </tr>\n",
       "    <tr>\n",
       "      <th>1</th>\n",
       "      <td>KVLTTGLPALISWIKRKRQQ</td>\n",
       "      <td>JV</td>\n",
       "      <td>Arenaviridae</td>\n",
       "    </tr>\n",
       "    <tr>\n",
       "      <th>2</th>\n",
       "      <td>HRILARIRQMMT</td>\n",
       "      <td>PRRSV</td>\n",
       "      <td>Arteriviridae</td>\n",
       "    </tr>\n",
       "    <tr>\n",
       "      <th>3</th>\n",
       "      <td>LMRIRQMMT</td>\n",
       "      <td>PRRSV</td>\n",
       "      <td>Arteriviridae</td>\n",
       "    </tr>\n",
       "    <tr>\n",
       "      <th>4</th>\n",
       "      <td>HRILMRARQMMT</td>\n",
       "      <td>PRRSV</td>\n",
       "      <td>Arteriviridae</td>\n",
       "    </tr>\n",
       "    <tr>\n",
       "      <th>...</th>\n",
       "      <td>...</td>\n",
       "      <td>...</td>\n",
       "      <td>...</td>\n",
       "    </tr>\n",
       "    <tr>\n",
       "      <th>702</th>\n",
       "      <td>YTSLIHSLIEEGQNQQEKNEQELLELDKWASLWNWF</td>\n",
       "      <td>HIV</td>\n",
       "      <td>Retroviridae</td>\n",
       "    </tr>\n",
       "    <tr>\n",
       "      <th>703</th>\n",
       "      <td>YTSLIQSLIEESQNQQEKNEQQLLELDKWASLWNWF</td>\n",
       "      <td>HIV</td>\n",
       "      <td>Retroviridae</td>\n",
       "    </tr>\n",
       "    <tr>\n",
       "      <th>704</th>\n",
       "      <td>KKKKFVKKVAKKVKKVAKKVAKVAVAV</td>\n",
       "      <td>FIV</td>\n",
       "      <td>Retroviridae</td>\n",
       "    </tr>\n",
       "    <tr>\n",
       "      <th>705</th>\n",
       "      <td>KRKRFAKKFLRFLRKVIRFLKRFIRRF</td>\n",
       "      <td>FIV</td>\n",
       "      <td>Retroviridae</td>\n",
       "    </tr>\n",
       "    <tr>\n",
       "      <th>706</th>\n",
       "      <td>FAVAVKAVAVKAVAVKAVKKAVKKVKKAVKKAVKKKK</td>\n",
       "      <td>FIV</td>\n",
       "      <td>Retroviridae</td>\n",
       "    </tr>\n",
       "  </tbody>\n",
       "</table>\n",
       "<p>707 rows × 3 columns</p>\n",
       "</div>"
      ],
      "text/plain": [
       "                                  Sequence Abbreviation         Family\n",
       "0      KWKVFKKIEKMGRNIRNGIVKAGPAIAVLGEAKAL           JV   Arenaviridae\n",
       "1                     KVLTTGLPALISWIKRKRQQ           JV   Arenaviridae\n",
       "2                             HRILARIRQMMT        PRRSV  Arteriviridae\n",
       "3                                LMRIRQMMT        PRRSV  Arteriviridae\n",
       "4                             HRILMRARQMMT        PRRSV  Arteriviridae\n",
       "..                                     ...          ...            ...\n",
       "702   YTSLIHSLIEEGQNQQEKNEQELLELDKWASLWNWF          HIV   Retroviridae\n",
       "703   YTSLIQSLIEESQNQQEKNEQQLLELDKWASLWNWF          HIV   Retroviridae\n",
       "704            KKKKFVKKVAKKVKKVAKKVAKVAVAV          FIV   Retroviridae\n",
       "705            KRKRFAKKFLRFLRKVIRFLKRFIRRF          FIV   Retroviridae\n",
       "706  FAVAVKAVAVKAVAVKAVKKAVKKVKKAVKKAVKKKK          FIV   Retroviridae\n",
       "\n",
       "[707 rows x 3 columns]"
      ]
     },
     "execution_count": 24,
     "metadata": {},
     "output_type": "execute_result"
    }
   ],
   "source": [
    "family"
   ]
  },
  {
   "cell_type": "code",
   "execution_count": 25,
   "id": "durable-diving",
   "metadata": {},
   "outputs": [],
   "source": [
    "hiv_cov_seq = family[(family['Abbreviation'] == \"HIV\")|(family['Abbreviation'] == \"SARS-CoV\")]"
   ]
  },
  {
   "cell_type": "code",
   "execution_count": 26,
   "id": "dominican-scotland",
   "metadata": {},
   "outputs": [],
   "source": [
    "df_hiv_cov = df.merge(hiv_cov_seq,how='right',on='Sequence').reset_index(drop=True)"
   ]
  },
  {
   "cell_type": "code",
   "execution_count": 27,
   "id": "responsible-hepatitis",
   "metadata": {},
   "outputs": [
    {
     "data": {
      "text/html": [
       "<div>\n",
       "<style scoped>\n",
       "    .dataframe tbody tr th:only-of-type {\n",
       "        vertical-align: middle;\n",
       "    }\n",
       "\n",
       "    .dataframe tbody tr th {\n",
       "        vertical-align: top;\n",
       "    }\n",
       "\n",
       "    .dataframe thead th {\n",
       "        text-align: right;\n",
       "    }\n",
       "</style>\n",
       "<table border=\"1\" class=\"dataframe\">\n",
       "  <thead>\n",
       "    <tr style=\"text-align: right;\">\n",
       "      <th></th>\n",
       "      <th>Sequence</th>\n",
       "      <th>MIC</th>\n",
       "      <th>pIC50</th>\n",
       "      <th>Abbreviation</th>\n",
       "      <th>Family</th>\n",
       "    </tr>\n",
       "  </thead>\n",
       "  <tbody>\n",
       "    <tr>\n",
       "      <th>0</th>\n",
       "      <td>ACWAAGIKQEF</td>\n",
       "      <td>333.000</td>\n",
       "      <td>8.007368</td>\n",
       "      <td>HIV</td>\n",
       "      <td>Retroviridae</td>\n",
       "    </tr>\n",
       "    <tr>\n",
       "      <th>1</th>\n",
       "      <td>ACWGAGIKQEF</td>\n",
       "      <td>333.000</td>\n",
       "      <td>8.007368</td>\n",
       "      <td>HIV</td>\n",
       "      <td>Retroviridae</td>\n",
       "    </tr>\n",
       "    <tr>\n",
       "      <th>2</th>\n",
       "      <td>ACWWAGIKAEF</td>\n",
       "      <td>333.000</td>\n",
       "      <td>8.007368</td>\n",
       "      <td>HIV</td>\n",
       "      <td>Retroviridae</td>\n",
       "    </tr>\n",
       "    <tr>\n",
       "      <th>3</th>\n",
       "      <td>ACWWAGIKQAF</td>\n",
       "      <td>333.000</td>\n",
       "      <td>8.007368</td>\n",
       "      <td>HIV</td>\n",
       "      <td>Retroviridae</td>\n",
       "    </tr>\n",
       "    <tr>\n",
       "      <th>4</th>\n",
       "      <td>ACWWAGIRQEF</td>\n",
       "      <td>333.000</td>\n",
       "      <td>8.007368</td>\n",
       "      <td>HIV</td>\n",
       "      <td>Retroviridae</td>\n",
       "    </tr>\n",
       "    <tr>\n",
       "      <th>...</th>\n",
       "      <td>...</td>\n",
       "      <td>...</td>\n",
       "      <td>...</td>\n",
       "      <td>...</td>\n",
       "      <td>...</td>\n",
       "    </tr>\n",
       "    <tr>\n",
       "      <th>287</th>\n",
       "      <td>YTSLIHSLIEEGQNQQEKNEQELLELDKWASLWNWF</td>\n",
       "      <td>0.001</td>\n",
       "      <td>20.723266</td>\n",
       "      <td>HIV</td>\n",
       "      <td>Retroviridae</td>\n",
       "    </tr>\n",
       "    <tr>\n",
       "      <th>288</th>\n",
       "      <td>YTSLIQSLIEESQNQQEKNEQQLLELDKWASLWNWF</td>\n",
       "      <td>0.001</td>\n",
       "      <td>20.723266</td>\n",
       "      <td>HIV</td>\n",
       "      <td>Retroviridae</td>\n",
       "    </tr>\n",
       "    <tr>\n",
       "      <th>289</th>\n",
       "      <td>QKQIANQFNKAISQIQESLTTTSTALGKLQDVVNQNAQALNTLVKQ</td>\n",
       "      <td>3.970</td>\n",
       "      <td>12.436744</td>\n",
       "      <td>SARS-CoV</td>\n",
       "      <td>Coronaviridae</td>\n",
       "    </tr>\n",
       "    <tr>\n",
       "      <th>290</th>\n",
       "      <td>QNQSANQFQKEISQINEVLTTTNTSLGKLQDDVNQNNQSLNTLQKE</td>\n",
       "      <td>5.070</td>\n",
       "      <td>12.192170</td>\n",
       "      <td>SARS-CoV</td>\n",
       "      <td>Coronaviridae</td>\n",
       "    </tr>\n",
       "    <tr>\n",
       "      <th>291</th>\n",
       "      <td>PKEELDKYFKNHTSPDVDLGDISGINASVVNIQKEIDRLNEVAKNL...</td>\n",
       "      <td>24.000</td>\n",
       "      <td>10.637457</td>\n",
       "      <td>SARS-CoV</td>\n",
       "      <td>Coronaviridae</td>\n",
       "    </tr>\n",
       "  </tbody>\n",
       "</table>\n",
       "<p>292 rows × 5 columns</p>\n",
       "</div>"
      ],
      "text/plain": [
       "                                              Sequence      MIC      pIC50  \\\n",
       "0                                          ACWAAGIKQEF  333.000   8.007368   \n",
       "1                                          ACWGAGIKQEF  333.000   8.007368   \n",
       "2                                          ACWWAGIKAEF  333.000   8.007368   \n",
       "3                                          ACWWAGIKQAF  333.000   8.007368   \n",
       "4                                          ACWWAGIRQEF  333.000   8.007368   \n",
       "..                                                 ...      ...        ...   \n",
       "287               YTSLIHSLIEEGQNQQEKNEQELLELDKWASLWNWF    0.001  20.723266   \n",
       "288               YTSLIQSLIEESQNQQEKNEQQLLELDKWASLWNWF    0.001  20.723266   \n",
       "289     QKQIANQFNKAISQIQESLTTTSTALGKLQDVVNQNAQALNTLVKQ    3.970  12.436744   \n",
       "290     QNQSANQFQKEISQINEVLTTTNTSLGKLQDDVNQNNQSLNTLQKE    5.070  12.192170   \n",
       "291  PKEELDKYFKNHTSPDVDLGDISGINASVVNIQKEIDRLNEVAKNL...   24.000  10.637457   \n",
       "\n",
       "    Abbreviation         Family  \n",
       "0            HIV   Retroviridae  \n",
       "1            HIV   Retroviridae  \n",
       "2            HIV   Retroviridae  \n",
       "3            HIV   Retroviridae  \n",
       "4            HIV   Retroviridae  \n",
       "..           ...            ...  \n",
       "287          HIV   Retroviridae  \n",
       "288          HIV   Retroviridae  \n",
       "289     SARS-CoV  Coronaviridae  \n",
       "290     SARS-CoV  Coronaviridae  \n",
       "291     SARS-CoV  Coronaviridae  \n",
       "\n",
       "[292 rows x 5 columns]"
      ]
     },
     "execution_count": 27,
     "metadata": {},
     "output_type": "execute_result"
    }
   ],
   "source": [
    "df_hiv_cov"
   ]
  },
  {
   "cell_type": "code",
   "execution_count": 28,
   "id": "convertible-bearing",
   "metadata": {},
   "outputs": [],
   "source": [
    "def get_physicochemical_properties(df):\n",
    "    params = ['aromaticity', 'helix', 'turn', 'sheet', 'gravy', 'net_charge_at_pH7point4']\n",
    "\n",
    "    prop = []\n",
    "    for seq in df.Sequence:\n",
    "        X = ProteinAnalysis(seq)\n",
    "        aromaticity = X.aromaticity()\n",
    "        sec_struc = X.secondary_structure_fraction()\n",
    "        helix = sec_struc[0]\n",
    "        turn = sec_struc[1]\n",
    "        sheet = sec_struc[2]\n",
    "        gravy = X.gravy() # hydrophobicity related\n",
    "        net_charge_at_pH7point4 = X.charge_at_pH(7.4)\n",
    "\n",
    "        prop.append([aromaticity, helix, turn, sheet, gravy, net_charge_at_pH7point4])\n",
    "    return pd.DataFrame(prop, columns=params)"
   ]
  },
  {
   "cell_type": "code",
   "execution_count": 31,
   "id": "accompanied-australia",
   "metadata": {},
   "outputs": [],
   "source": [
    "aa_freq = reduce_by_kmer_frequency(df_hiv_cov)"
   ]
  },
  {
   "cell_type": "code",
   "execution_count": 32,
   "id": "ongoing-coverage",
   "metadata": {},
   "outputs": [
    {
     "name": "stderr",
     "output_type": "stream",
     "text": [
      "/Users/in-divye.singh/anaconda3/envs/life-science/lib/python3.6/site-packages/smart_open/smart_open_lib.py:254: UserWarning: This function is deprecated, use smart_open.open instead. See the migration notes for details: https://github.com/RaRe-Technologies/smart_open/blob/master/README.rst#migrating-to-the-new-open-function\n",
      "  'See the migration notes for details: %s' % _MIGRATION_NOTES_URL\n",
      "Creating vectors: 100%|██████████| 292/292 [00:00<00:00, 1077.56sequence/s]\n"
     ]
    }
   ],
   "source": [
    "uniprot_embedding = biovec.models.load_protvec(\"../data/embeddings/uniprot__kmer_3_contextWindow_10_vector_100_reduction_None\")\n",
    "\n",
    "avg_protvec = convert_sequences_to_avg_vectors(df_hiv_cov['Sequence'], uniprot_embedding, kmer=3)\n",
    "avg_protvec = avg_protvec.reset_index(drop=True)"
   ]
  },
  {
   "cell_type": "code",
   "execution_count": 33,
   "id": "outside-approach",
   "metadata": {},
   "outputs": [],
   "source": [
    "physicochemical_prop = get_physicochemical_properties(df_hiv_cov)"
   ]
  },
  {
   "cell_type": "code",
   "execution_count": 34,
   "id": "royal-western",
   "metadata": {},
   "outputs": [],
   "source": [
    "X = pd.concat([aa_freq, avg_protvec, physicochemical_prop[['helix','turn','sheet']]], axis=1)"
   ]
  },
  {
   "cell_type": "code",
   "execution_count": 35,
   "id": "played-separate",
   "metadata": {},
   "outputs": [],
   "source": [
    "y = df_hiv_cov[['pIC50', 'MIC']]"
   ]
  },
  {
   "cell_type": "code",
   "execution_count": 36,
   "id": "united-twins",
   "metadata": {},
   "outputs": [],
   "source": [
    "X_train, X_test, y_train, y_test = train_test_split(X, y, test_size=0.2, random_state=42)"
   ]
  },
  {
   "cell_type": "code",
   "execution_count": 37,
   "id": "loose-therapist",
   "metadata": {},
   "outputs": [],
   "source": [
    "y_train_pmic, y_train_mic = y_train['pIC50'], y_train['MIC']\n",
    "y_test_pmic, y_test_mic = y_test['pIC50'], y_test['MIC']"
   ]
  },
  {
   "cell_type": "code",
   "execution_count": 39,
   "id": "unlimited-appointment",
   "metadata": {},
   "outputs": [],
   "source": [
    "from sklearn.model_selection import cross_val_score, GridSearchCV, LeaveOneOut"
   ]
  },
  {
   "cell_type": "code",
   "execution_count": 46,
   "id": "approved-strap",
   "metadata": {},
   "outputs": [],
   "source": [
    "def multi_objective_score(y_true, y_pred):\n",
    "    mape = mean_absolute_percentage_error(y_true, y_pred)\n",
    "    std_diff = abs(np.std(y_pred) - np.std(y_true))\n",
    "    return mape + 10*std_diff\n",
    "multi_objective_scorer = make_scorer(multi_objective_score, greater_is_better=False)"
   ]
  },
  {
   "cell_type": "code",
   "execution_count": 47,
   "id": "varied-colleague",
   "metadata": {},
   "outputs": [],
   "source": [
    "param_grid = {\n",
    "    'C':[0.001,0.01,0.1,1,10,100,1000],\n",
    "    'kernel':['rbf','poly','sigmoid','linear'],\n",
    "    'degree':[1,2,3,4,5,6],\n",
    "    'gamma': np.arange(0.1,1.0,0.1).round(1).tolist() + np.arange(1,11,1).round().tolist()\n",
    "}\n",
    "svr = SVR()\n",
    "# Instantiate the grid search model\n",
    "grid_search = GridSearchCV(estimator = svr, param_grid = param_grid, \n",
    "                          cv = 5, n_jobs = -1, verbose = 2, scoring=multi_objective_scorer)"
   ]
  },
  {
   "cell_type": "code",
   "execution_count": 48,
   "id": "liable-content",
   "metadata": {
    "scrolled": false
   },
   "outputs": [
    {
     "name": "stdout",
     "output_type": "stream",
     "text": [
      "Fitting 5 folds for each of 3192 candidates, totalling 15960 fits\n"
     ]
    },
    {
     "name": "stderr",
     "output_type": "stream",
     "text": [
      "[Parallel(n_jobs=-1)]: Using backend LokyBackend with 12 concurrent workers.\n",
      "[Parallel(n_jobs=-1)]: Done  17 tasks      | elapsed:    1.8s\n",
      "[Parallel(n_jobs=-1)]: Done 288 tasks      | elapsed:    2.7s\n",
      "[Parallel(n_jobs=-1)]: Done 3128 tasks      | elapsed:    7.4s\n",
      "[Parallel(n_jobs=-1)]: Done 7656 tasks      | elapsed:   16.8s\n",
      "[Parallel(n_jobs=-1)]: Done 13496 tasks      | elapsed:   34.2s\n",
      "[Parallel(n_jobs=-1)]: Done 15020 tasks      | elapsed:   48.7s\n",
      "[Parallel(n_jobs=-1)]: Done 15937 out of 15960 | elapsed:   54.7s remaining:    0.1s\n",
      "[Parallel(n_jobs=-1)]: Done 15960 out of 15960 | elapsed:   54.9s finished\n"
     ]
    },
    {
     "data": {
      "text/plain": [
       "GridSearchCV(cv=5, estimator=SVR(), n_jobs=-1,\n",
       "             param_grid={'C': [0.001, 0.01, 0.1, 1, 10, 100, 1000],\n",
       "                         'degree': [1, 2, 3, 4, 5, 6],\n",
       "                         'gamma': [0.1, 0.2, 0.3, 0.4, 0.5, 0.6, 0.7, 0.8, 0.9,\n",
       "                                   1, 2, 3, 4, 5, 6, 7, 8, 9, 10],\n",
       "                         'kernel': ['rbf', 'poly', 'sigmoid', 'linear']},\n",
       "             scoring=make_scorer(multi_objective_score, greater_is_better=False),\n",
       "             verbose=2)"
      ]
     },
     "execution_count": 48,
     "metadata": {},
     "output_type": "execute_result"
    }
   ],
   "source": [
    "grid_search.fit(X_train, y_train_pmic)"
   ]
  },
  {
   "cell_type": "code",
   "execution_count": 49,
   "id": "automatic-inventory",
   "metadata": {},
   "outputs": [
    {
     "data": {
      "text/plain": [
       "{'C': 100, 'degree': 1, 'gamma': 2, 'kernel': 'rbf'}"
      ]
     },
     "execution_count": 49,
     "metadata": {},
     "output_type": "execute_result"
    }
   ],
   "source": [
    "grid_search.best_params_"
   ]
  },
  {
   "cell_type": "code",
   "execution_count": 50,
   "id": "reduced-lucas",
   "metadata": {},
   "outputs": [],
   "source": [
    "best_grid = grid_search.best_estimator_"
   ]
  },
  {
   "cell_type": "code",
   "execution_count": 51,
   "id": "parliamentary-likelihood",
   "metadata": {},
   "outputs": [],
   "source": [
    "y_pred_pmic = best_grid.predict(X_test)"
   ]
  },
  {
   "cell_type": "code",
   "execution_count": 52,
   "id": "interior-lease",
   "metadata": {},
   "outputs": [
    {
     "data": {
      "text/plain": [
       "12.89768027641585"
      ]
     },
     "execution_count": 52,
     "metadata": {},
     "output_type": "execute_result"
    }
   ],
   "source": [
    "mean_absolute_percentage_error(y_test_pmic, y_pred_pmic)"
   ]
  },
  {
   "cell_type": "code",
   "execution_count": 53,
   "id": "systematic-infrastructure",
   "metadata": {},
   "outputs": [
    {
     "data": {
      "text/plain": [
       "(3.8969081681731246, 3.010052083292079)"
      ]
     },
     "execution_count": 53,
     "metadata": {},
     "output_type": "execute_result"
    }
   ],
   "source": [
    "np.std(y_test_pmic), np.std(y_pred_pmic)"
   ]
  },
  {
   "cell_type": "code",
   "execution_count": 54,
   "id": "geographic-philip",
   "metadata": {},
   "outputs": [
    {
     "data": {
      "text/plain": [
       "483.09046577157153"
      ]
     },
     "execution_count": 54,
     "metadata": {},
     "output_type": "execute_result"
    }
   ],
   "source": [
    "mean_absolute_percentage_error(y_test_mic, y_pred_mic)"
   ]
  },
  {
   "cell_type": "code",
   "execution_count": 230,
   "id": "thorough-calculation",
   "metadata": {},
   "outputs": [
    {
     "data": {
      "text/plain": [
       "4081.405827081923"
      ]
     },
     "execution_count": 230,
     "metadata": {},
     "output_type": "execute_result"
    }
   ],
   "source": [
    "mean_squared_error(y_test_mic,y_pred_mic)"
   ]
  },
  {
   "cell_type": "code",
   "execution_count": null,
   "id": "analyzed-assessment",
   "metadata": {},
   "outputs": [],
   "source": []
  },
  {
   "cell_type": "code",
   "execution_count": null,
   "id": "altered-gallery",
   "metadata": {},
   "outputs": [],
   "source": []
  },
  {
   "cell_type": "code",
   "execution_count": null,
   "id": "asian-monkey",
   "metadata": {},
   "outputs": [],
   "source": []
  },
  {
   "cell_type": "code",
   "execution_count": 55,
   "id": "wired-brown",
   "metadata": {},
   "outputs": [
    {
     "name": "stdout",
     "output_type": "stream",
     "text": [
      "[-12.31431063 -13.81121271 -15.4761578  -12.77518461 -16.37983947] -14.151341046288062\n",
      "3.8969081681731246 3.010052083292079\n"
     ]
    }
   ],
   "source": [
    "svr = SVR(C=100, gamma=2)\n",
    "cv_score = cross_val_score(svr, X_train, y_train_pmic, cv=5, scoring=mape_scorer)\n",
    "cv_mean = cv_score.mean()\n",
    "print(cv_score, cv_mean)\n",
    "\n",
    "_ = svr.fit(X_train, y_train_pmic)\n",
    "y_pred = svr.predict(X_test)\n",
    "\n",
    "print(np.std(y_test_pmic), np.std(y_pred))"
   ]
  },
  {
   "cell_type": "code",
   "execution_count": 56,
   "id": "marine-mining",
   "metadata": {},
   "outputs": [],
   "source": [
    "ape = 100*np.abs(y_test_pmic-y_pred)/y_test_pmic"
   ]
  },
  {
   "cell_type": "code",
   "execution_count": 57,
   "id": "environmental-union",
   "metadata": {},
   "outputs": [],
   "source": [
    "y_pred_mic = np.exp(-y_pred)/1e-6"
   ]
  },
  {
   "cell_type": "code",
   "execution_count": 58,
   "id": "collective-shakespeare",
   "metadata": {},
   "outputs": [],
   "source": [
    "ape_mic = 100*np.abs(y_test_mic-y_pred_mic)/y_test_mic"
   ]
  },
  {
   "cell_type": "code",
   "execution_count": 60,
   "id": "built-niger",
   "metadata": {},
   "outputs": [
    {
     "data": {
      "text/plain": [
       "555.4551158730234"
      ]
     },
     "execution_count": 60,
     "metadata": {},
     "output_type": "execute_result"
    }
   ],
   "source": [
    "ape_mic.mean()"
   ]
  },
  {
   "cell_type": "code",
   "execution_count": 59,
   "id": "amateur-heritage",
   "metadata": {
    "collapsed": true
   },
   "outputs": [
    {
     "data": {
      "text/plain": [
       "[(10.2265, 12.6447, 23.647145952663486, 36.2, 3.2246, 91.09238714214806),\n",
       " (18.526, 17.7768, 4.044293884025271, 0.009, 0.019, 111.54076867484403),\n",
       " (9.2103, 11.7577, 27.658076170129412, 100.0, 7.8285, 92.17152889017031),\n",
       " (13.6332, 11.4541, 15.983691962744865, 1.2, 10.6059, 783.8232689373222),\n",
       " (12.0577, 14.1074, 16.99947708922244, 5.8, 0.7469, 87.12313503277298),\n",
       " (11.4176, 12.0707, 5.719537812137583, 11.0, 5.7251, 47.953613838889346),\n",
       " (16.8731, 15.7625, 6.582039285488537, 0.047, 0.1427, 203.61651974949717),\n",
       " (11.3306, 12.4106, 9.531395487848714, 12.0, 4.0753, 66.03924761143055),\n",
       " (8.0629, 10.1464, 25.84032659289486, 315.0, 39.2159, 87.55049709629547),\n",
       " (10.2862, 10.7164, 4.181796228351361, 34.1, 22.1791, 34.958748214350024),\n",
       " (12.2061, 11.7659, 3.6062291790529537, 5.0, 7.7649, 55.29851055480915),\n",
       " (19.337, 18.1491, 6.143194798808508, 0.004, 0.0131, 228.02112504597136),\n",
       " (8.9029, 9.8167, 10.264677287329773, 136.0, 54.533, 59.902227590784626),\n",
       " (20.0301, 18.3779, 8.24849379223685, 0.002, 0.0104, 421.8359570341501),\n",
       " (16.3666, 16.5915, 1.3745070419325205, 0.078, 0.0623, 20.145142361219598),\n",
       " (10.0088, 12.1102, 20.995120039254147, 45.0, 5.503, 87.77111813992212),\n",
       " (9.2103, 9.3862, 1.9097053926576384, 100.0, 83.871, 16.129007122106955),\n",
       " (8.0074, 9.1404, 14.149305836929985, 333.0, 107.2492, 67.79302034413311),\n",
       " (17.1679, 17.0177, 0.8748780412879062, 0.035, 0.0407, 16.206470699780812),\n",
       " (17.6322, 14.7112, 16.56643220392581, 0.022, 0.4083, 1756.0401002946858),\n",
       " (11.4176, 11.6139, 1.7189004263279337, 11.0, 9.0398, 17.819935511715652),\n",
       " (17.4274, 16.269, 6.647256528972857, 0.027, 0.086, 218.49796832011876),\n",
       " (19.6247, 17.5562, 10.540217102250788, 0.003, 0.0237, 691.2795158235127),\n",
       " (10.4833, 9.0681, 13.500062474695897, 28.0, 115.2908, 311.7527516502168),\n",
       " (9.9869, 12.7, 27.166520967958107, 46.0, 3.0513, 93.36681367210167),\n",
       " (19.1138, 19.5243, 2.1472999359475167, 0.005, 0.0033, 33.663586396765524),\n",
       " (19.337, 16.1807, 16.322650339720667, 0.004, 0.0939, 2248.3692410666536),\n",
       " (10.9585, 11.0941, 1.2376007616152096, 17.41, 15.2019, 12.68274197501048),\n",
       " (9.6289, 12.6373, 31.243327619552044, 65.8, 3.2486, 95.0628693995757),\n",
       " (15.0778, 17.3724, 15.218159954991423, 0.283, 0.0285, 89.91949276730605),\n",
       " (9.0881, 11.0485, 21.571226420797803, 113.0, 15.9103, 85.92006615086457),\n",
       " (9.3729, 10.7086, 14.250885621117499, 85.0, 22.3524, 73.70300359557775),\n",
       " (20.7233, 18.0704, 12.801614302228913, 0.001, 0.0142, 1319.5323271334764),\n",
       " (11.2723, 10.7262, 4.844508454603269, 12.72, 21.9609, 72.6487887368808),\n",
       " (9.6289, 13.3222, 38.35624734397716, 65.8, 1.6378, 97.51098003391125),\n",
       " (13.1224, 9.5985, 26.85376445577289, 2.0, 67.8294, 3291.4700124920173),\n",
       " (20.0301, 17.6339, 11.962994900945413, 0.002, 0.022, 998.1390567088234),\n",
       " (11.1216, 10.4481, 6.055288190795, 14.79, 29.0028, 96.0976308468838),\n",
       " (12.7508, 11.0138, 13.62286183739529, 2.9, 16.4732, 468.0412440005096),\n",
       " (9.6932, 13.5045, 39.319665567716996, 61.704, 1.3648, 97.78810108632743),\n",
       " (12.2061, 10.6641, 12.632945930176755, 5.0, 23.3693, 367.38659581048057),\n",
       " (9.7533, 10.5253, 7.915221815839894, 58.1, 26.8473, 53.79115161863137),\n",
       " (19.1138, 14.0752, 26.36095478277604, 0.005, 0.7713, 15325.19857737285),\n",
       " (12.7004, 11.3971, 10.261713059034227, 3.05, 11.2281, 268.13348628090006),\n",
       " (13.8155, 13.4947, 2.321997828725432, 1.0, 1.3782, 37.822419484730105),\n",
       " (8.7403, 9.278, 6.152083445295605, 160.0, 93.4532, 41.591736613103606),\n",
       " (8.5172, 9.9154, 16.41572552308662, 200.0, 49.4103, 75.29486468746715),\n",
       " (8.5172, 11.6634, 36.938895981916744, 200.0, 8.6034, 95.69828813148587),\n",
       " (19.6247, 17.6589, 10.016606969189352, 0.003, 0.0214, 614.0083100406142),\n",
       " (11.339, 11.4241, 0.7510195662981431, 11.9, 10.9286, 8.16327367999949),\n",
       " (17.7788, 17.2036, 3.235435865899632, 0.019, 0.0338, 77.75260547815996),\n",
       " (10.0995, 10.574, 4.698576110770544, 41.1, 25.5714, 37.782433642140695),\n",
       " (8.3143, 9.4089, 13.16538265375342, 245.0, 81.9947, 66.53276000887715),\n",
       " (13.5176, 16.8751, 24.837779857994413, 1.347, 0.0469, 96.51770750263545),\n",
       " (15.3762, 16.8143, 9.35278482696191, 0.21, 0.0498, 76.26214135179309),\n",
       " (13.6416, 13.289, 2.584266812526391, 1.19, 1.693, 42.26683624491689),\n",
       " (13.8155, 12.8741, 6.814481323629077, 1.0, 2.5637, 156.37098938599357),\n",
       " (13.2849, 11.4635, 13.710208349967015, 1.7, 10.5067, 518.041266383834),\n",
       " (8.0074, 9.056, 13.095678318388552, 333.0, 116.6903, 64.95787104623054)]"
      ]
     },
     "execution_count": 59,
     "metadata": {},
     "output_type": "execute_result"
    }
   ],
   "source": [
    "list(zip(y_test_pmic.round(4), y_pred.round(4), ape, y_test_mic.round(4), y_pred_mic.round(4), ape_mic))"
   ]
  },
  {
   "cell_type": "markdown",
   "id": "qualified-mayor",
   "metadata": {},
   "source": [
    "### Leave one out CV"
   ]
  },
  {
   "cell_type": "code",
   "execution_count": 61,
   "id": "popular-interest",
   "metadata": {},
   "outputs": [],
   "source": [
    "loo = LeaveOneOut()"
   ]
  },
  {
   "cell_type": "code",
   "execution_count": 62,
   "id": "warming-boston",
   "metadata": {},
   "outputs": [],
   "source": [
    "from tqdm import tqdm"
   ]
  },
  {
   "cell_type": "code",
   "execution_count": 63,
   "id": "renewable-ensemble",
   "metadata": {
    "scrolled": true
   },
   "outputs": [
    {
     "name": "stderr",
     "output_type": "stream",
     "text": [
      "292it [00:07, 38.99it/s]\n"
     ]
    }
   ],
   "source": [
    "result_df = pd.DataFrame(columns = list(df_hiv_cov.columns)+[\"y_pred_pmic\", \"y_pred_mic\", \"ape_pmic\", \"ape_mic\"])\n",
    "for train_index, test_index in tqdm(loo.split(X)):\n",
    "    X_train, X_test = X.iloc[train_index,:], X.iloc[test_index,:]\n",
    "    y_train, y_test = y.iloc[train_index], y.iloc[test_index]\n",
    "    y_train_pmic, y_train_mic = y_train['pIC50'], y_train['MIC']\n",
    "    y_test_pmic, y_test_mic = y_test['pIC50'], y_test['MIC']\n",
    "    svr = SVR(C=100, gamma=2)\n",
    "    _ = svr.fit(X_train, y_train_pmic)\n",
    "    y_pred_pmic = svr.predict(X_test)\n",
    "    y_pred_mic = np.exp(-y_pred_pmic)/1e-6\n",
    "    ape = 100*np.abs(y_test_pmic-y_pred_pmic)/y_test_pmic\n",
    "    ape_mic = 100*np.abs(y_test_mic-y_pred_mic)/y_test_mic\n",
    "    df_val = df_hiv_cov.iloc[test_index,:].values[0].tolist()\n",
    "    res = np.append(df_val, [y_pred_pmic[0], y_pred_mic[0], ape.values[0], ape_mic.values[0]])\n",
    "    res = pd.DataFrame([res], columns = list(df_hiv_cov.columns)+[\"y_pred_pmic\", \"y_pred_mic\", \"ape_pmic\", \"ape_mic\"])\n",
    "    result_df = result_df.append(res)\n",
    "result_df = result_df[[\"Sequence\", \"pIC50\", \"y_pred_pmic\", \"ape_pmic\", \"MIC\", \"y_pred_mic\", \"ape_mic\"]]"
   ]
  },
  {
   "cell_type": "code",
   "execution_count": 69,
   "id": "musical-edition",
   "metadata": {},
   "outputs": [
    {
     "data": {
      "text/html": [
       "<div>\n",
       "<style scoped>\n",
       "    .dataframe tbody tr th:only-of-type {\n",
       "        vertical-align: middle;\n",
       "    }\n",
       "\n",
       "    .dataframe tbody tr th {\n",
       "        vertical-align: top;\n",
       "    }\n",
       "\n",
       "    .dataframe thead th {\n",
       "        text-align: right;\n",
       "    }\n",
       "</style>\n",
       "<table border=\"1\" class=\"dataframe\">\n",
       "  <thead>\n",
       "    <tr style=\"text-align: right;\">\n",
       "      <th></th>\n",
       "      <th>Sequence</th>\n",
       "      <th>pIC50</th>\n",
       "      <th>y_pred_pmic</th>\n",
       "      <th>ape_pmic</th>\n",
       "      <th>MIC</th>\n",
       "      <th>y_pred_mic</th>\n",
       "      <th>ape_mic</th>\n",
       "    </tr>\n",
       "  </thead>\n",
       "  <tbody>\n",
       "    <tr>\n",
       "      <th>0</th>\n",
       "      <td>ACWAAGIKQEF</td>\n",
       "      <td>8.00736806798383</td>\n",
       "      <td>9.15468492794739</td>\n",
       "      <td>14.32826429636626</td>\n",
       "      <td>333.0</td>\n",
       "      <td>105.72333449107087</td>\n",
       "      <td>68.25125090358232</td>\n",
       "    </tr>\n",
       "    <tr>\n",
       "      <th>0</th>\n",
       "      <td>ACWGAGIKQEF</td>\n",
       "      <td>8.00736806798383</td>\n",
       "      <td>10.05507815613964</td>\n",
       "      <td>25.572823314357795</td>\n",
       "      <td>333.0</td>\n",
       "      <td>42.967000972162516</td>\n",
       "      <td>87.09699670505631</td>\n",
       "    </tr>\n",
       "    <tr>\n",
       "      <th>0</th>\n",
       "      <td>ACWWAGIKAEF</td>\n",
       "      <td>8.00736806798383</td>\n",
       "      <td>7.347887355215854</td>\n",
       "      <td>8.235923554017742</td>\n",
       "      <td>333.0</td>\n",
       "      <td>643.9513647953488</td>\n",
       "      <td>93.37878822683147</td>\n",
       "    </tr>\n",
       "    <tr>\n",
       "      <th>0</th>\n",
       "      <td>ACWWAGIKQAF</td>\n",
       "      <td>8.00736806798383</td>\n",
       "      <td>7.183783346973583</td>\n",
       "      <td>10.285336130647186</td>\n",
       "      <td>333.0</td>\n",
       "      <td>758.7916327052899</td>\n",
       "      <td>127.86535516675372</td>\n",
       "    </tr>\n",
       "    <tr>\n",
       "      <th>0</th>\n",
       "      <td>ACWWAGIRQEF</td>\n",
       "      <td>8.00736806798383</td>\n",
       "      <td>9.592938827666533</td>\n",
       "      <td>19.801397240903064</td>\n",
       "      <td>333.0</td>\n",
       "      <td>68.20867323503198</td>\n",
       "      <td>79.51691494443483</td>\n",
       "    </tr>\n",
       "    <tr>\n",
       "      <th>...</th>\n",
       "      <td>...</td>\n",
       "      <td>...</td>\n",
       "      <td>...</td>\n",
       "      <td>...</td>\n",
       "      <td>...</td>\n",
       "      <td>...</td>\n",
       "      <td>...</td>\n",
       "    </tr>\n",
       "    <tr>\n",
       "      <th>0</th>\n",
       "      <td>YTSLIHSLIEEGQNQQEKNEQELLELDKWASLWNWF</td>\n",
       "      <td>20.72326583694641</td>\n",
       "      <td>16.36707431149649</td>\n",
       "      <td>21.02077712907343</td>\n",
       "      <td>0.001</td>\n",
       "      <td>0.07795966093792857</td>\n",
       "      <td>7695.966093792857</td>\n",
       "    </tr>\n",
       "    <tr>\n",
       "      <th>0</th>\n",
       "      <td>YTSLIQSLIEESQNQQEKNEQQLLELDKWASLWNWF</td>\n",
       "      <td>20.72326583694641</td>\n",
       "      <td>16.841347179955527</td>\n",
       "      <td>18.732176132538033</td>\n",
       "      <td>0.001</td>\n",
       "      <td>0.048517213717842296</td>\n",
       "      <td>4751.72137178423</td>\n",
       "    </tr>\n",
       "    <tr>\n",
       "      <th>0</th>\n",
       "      <td>QKQIANQFNKAISQIQESLTTTSTALGKLQDVVNQNAQALNTLVKQ</td>\n",
       "      <td>12.436744463265175</td>\n",
       "      <td>12.429968233327145</td>\n",
       "      <td>0.05448556057451384</td>\n",
       "      <td>3.97</td>\n",
       "      <td>3.996992984903203</td>\n",
       "      <td>0.679924052977403</td>\n",
       "    </tr>\n",
       "    <tr>\n",
       "      <th>0</th>\n",
       "      <td>QNQSANQFQKEISQINEVLTTTNTSLGKLQDDVNQNNQSLNTLQKE</td>\n",
       "      <td>12.192169740361182</td>\n",
       "      <td>12.8373379204455</td>\n",
       "      <td>5.291660088593917</td>\n",
       "      <td>5.07</td>\n",
       "      <td>2.6595917604991226</td>\n",
       "      <td>47.54256882644729</td>\n",
       "    </tr>\n",
       "    <tr>\n",
       "      <th>0</th>\n",
       "      <td>PKEELDKYFKNHTSPDVDLGDISGINASVVNIQKEIDRLNEVAKNL...</td>\n",
       "      <td>10.637456727616328</td>\n",
       "      <td>12.733186246973244</td>\n",
       "      <td>19.701415225653587</td>\n",
       "      <td>24.0</td>\n",
       "      <td>2.9515318624775704</td>\n",
       "      <td>87.70195057301014</td>\n",
       "    </tr>\n",
       "  </tbody>\n",
       "</table>\n",
       "<p>292 rows × 7 columns</p>\n",
       "</div>"
      ],
      "text/plain": [
       "                                             Sequence               pIC50  \\\n",
       "0                                         ACWAAGIKQEF    8.00736806798383   \n",
       "0                                         ACWGAGIKQEF    8.00736806798383   \n",
       "0                                         ACWWAGIKAEF    8.00736806798383   \n",
       "0                                         ACWWAGIKQAF    8.00736806798383   \n",
       "0                                         ACWWAGIRQEF    8.00736806798383   \n",
       "..                                                ...                 ...   \n",
       "0                YTSLIHSLIEEGQNQQEKNEQELLELDKWASLWNWF   20.72326583694641   \n",
       "0                YTSLIQSLIEESQNQQEKNEQQLLELDKWASLWNWF   20.72326583694641   \n",
       "0      QKQIANQFNKAISQIQESLTTTSTALGKLQDVVNQNAQALNTLVKQ  12.436744463265175   \n",
       "0      QNQSANQFQKEISQINEVLTTTNTSLGKLQDDVNQNNQSLNTLQKE  12.192169740361182   \n",
       "0   PKEELDKYFKNHTSPDVDLGDISGINASVVNIQKEIDRLNEVAKNL...  10.637456727616328   \n",
       "\n",
       "           y_pred_pmic             ape_pmic    MIC            y_pred_mic  \\\n",
       "0     9.15468492794739    14.32826429636626  333.0    105.72333449107087   \n",
       "0    10.05507815613964   25.572823314357795  333.0    42.967000972162516   \n",
       "0    7.347887355215854    8.235923554017742  333.0     643.9513647953488   \n",
       "0    7.183783346973583   10.285336130647186  333.0     758.7916327052899   \n",
       "0    9.592938827666533   19.801397240903064  333.0     68.20867323503198   \n",
       "..                 ...                  ...    ...                   ...   \n",
       "0    16.36707431149649    21.02077712907343  0.001   0.07795966093792857   \n",
       "0   16.841347179955527   18.732176132538033  0.001  0.048517213717842296   \n",
       "0   12.429968233327145  0.05448556057451384   3.97     3.996992984903203   \n",
       "0     12.8373379204455    5.291660088593917   5.07    2.6595917604991226   \n",
       "0   12.733186246973244   19.701415225653587   24.0    2.9515318624775704   \n",
       "\n",
       "               ape_mic  \n",
       "0    68.25125090358232  \n",
       "0    87.09699670505631  \n",
       "0    93.37878822683147  \n",
       "0   127.86535516675372  \n",
       "0    79.51691494443483  \n",
       "..                 ...  \n",
       "0    7695.966093792857  \n",
       "0     4751.72137178423  \n",
       "0    0.679924052977403  \n",
       "0    47.54256882644729  \n",
       "0    87.70195057301014  \n",
       "\n",
       "[292 rows x 7 columns]"
      ]
     },
     "execution_count": 69,
     "metadata": {},
     "output_type": "execute_result"
    }
   ],
   "source": [
    "result_df#.to_csv(\"../results/SVM_HIV_CoV_pMIC_to_MIC_rbf_c_100_gamma_2.csv\", index=False)"
   ]
  },
  {
   "cell_type": "code",
   "execution_count": 68,
   "id": "perfect-english",
   "metadata": {},
   "outputs": [
    {
     "data": {
      "text/plain": [
       "14.024493988093818"
      ]
     },
     "execution_count": 68,
     "metadata": {},
     "output_type": "execute_result"
    }
   ],
   "source": [
    "result_df['ape_pmic'].astype('float').mean()"
   ]
  },
  {
   "cell_type": "code",
   "execution_count": 66,
   "id": "perfect-anaheim",
   "metadata": {},
   "outputs": [
    {
     "data": {
      "text/plain": [
       "23955.20035866735"
      ]
     },
     "execution_count": 66,
     "metadata": {},
     "output_type": "execute_result"
    }
   ],
   "source": [
    "result_df['ape_mic'].astype('float').mean()"
   ]
  },
  {
   "cell_type": "code",
   "execution_count": null,
   "id": "hourly-interference",
   "metadata": {},
   "outputs": [],
   "source": []
  }
 ],
 "metadata": {
  "kernelspec": {
   "display_name": "Python 3",
   "language": "python",
   "name": "python3"
  },
  "language_info": {
   "codemirror_mode": {
    "name": "ipython",
    "version": 3
   },
   "file_extension": ".py",
   "mimetype": "text/x-python",
   "name": "python",
   "nbconvert_exporter": "python",
   "pygments_lexer": "ipython3",
   "version": "3.6.10"
  },
  "varInspector": {
   "cols": {
    "lenName": 16,
    "lenType": 16,
    "lenVar": 40
   },
   "kernels_config": {
    "python": {
     "delete_cmd_postfix": "",
     "delete_cmd_prefix": "del ",
     "library": "var_list.py",
     "varRefreshCmd": "print(var_dic_list())"
    },
    "r": {
     "delete_cmd_postfix": ") ",
     "delete_cmd_prefix": "rm(",
     "library": "var_list.r",
     "varRefreshCmd": "cat(var_dic_list()) "
    }
   },
   "types_to_exclude": [
    "module",
    "function",
    "builtin_function_or_method",
    "instance",
    "_Feature"
   ],
   "window_display": false
  }
 },
 "nbformat": 4,
 "nbformat_minor": 5
}
