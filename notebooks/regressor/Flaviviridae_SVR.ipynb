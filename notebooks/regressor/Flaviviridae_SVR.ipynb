{
 "cells": [
  {
   "cell_type": "code",
   "execution_count": 1,
   "id": "collective-lodge",
   "metadata": {
    "ExecuteTime": {
     "end_time": "2021-05-07T05:53:48.409336Z",
     "start_time": "2021-05-07T05:53:48.404092Z"
    }
   },
   "outputs": [
    {
     "name": "stdout",
     "output_type": "stream",
     "text": [
      "/Users/in-divye.singh/Documents/Projects/MIC_predictor/src\n"
     ]
    }
   ],
   "source": [
    "cd ../../src/"
   ]
  },
  {
   "cell_type": "code",
   "execution_count": 2,
   "id": "headed-harmony",
   "metadata": {
    "ExecuteTime": {
     "end_time": "2021-05-07T05:53:55.951357Z",
     "start_time": "2021-05-07T05:53:48.449952Z"
    }
   },
   "outputs": [],
   "source": [
    "import biovec\n",
    "import numpy as np\n",
    "import pandas as pd\n",
    "from itertools import chain, combinations\n",
    "from collections import Counter\n",
    "\n",
    "from utils import *\n",
    "\n",
    "from sklearn.svm import SVR\n",
    "from sklearn.neighbors import KNeighborsRegressor\n",
    "from sklearn.metrics import make_scorer\n",
    "from sklearn.model_selection import GridSearchCV\n",
    "from sklearn.metrics import mean_squared_error, mean_absolute_error\n",
    "from sklearn.model_selection import train_test_split\n",
    "\n",
    "from Bio.SeqUtils.ProtParam import ProteinAnalysis"
   ]
  },
  {
   "cell_type": "code",
   "execution_count": 3,
   "id": "double-southwest",
   "metadata": {
    "ExecuteTime": {
     "end_time": "2021-05-07T05:53:57.446918Z",
     "start_time": "2021-05-07T05:53:57.443197Z"
    }
   },
   "outputs": [],
   "source": [
    "def mean_absolute_percentage_error(y_true, y_pred): \n",
    "    y_true, y_pred = np.array(y_true), np.array(y_pred)\n",
    "    return np.mean(np.abs((y_true - y_pred) / y_true)) * 100\n",
    "\n",
    "mape_scorer = make_scorer(mean_absolute_percentage_error, greater_is_better=False)"
   ]
  },
  {
   "cell_type": "code",
   "execution_count": 4,
   "id": "convenient-speaker",
   "metadata": {
    "ExecuteTime": {
     "end_time": "2021-05-07T05:53:58.366575Z",
     "start_time": "2021-05-07T05:53:58.363530Z"
    }
   },
   "outputs": [],
   "source": [
    "def pearson_score(y_true, y_pred):\n",
    "    pcc = pearsonr(y_true, y_pred)\n",
    "    return pcc[0]\n",
    "\n",
    "pcc_scorer = make_scorer(pearson_score)"
   ]
  },
  {
   "cell_type": "code",
   "execution_count": 5,
   "id": "proved-summary",
   "metadata": {
    "ExecuteTime": {
     "end_time": "2021-05-07T05:54:03.116986Z",
     "start_time": "2021-05-07T05:54:03.087656Z"
    }
   },
   "outputs": [],
   "source": [
    "avp_ic50 = pd.read_csv(\"../data/raw/AVP-IC50Pred_train.csv\")\n",
    "ha_avp = pd.read_csv(\"../data/raw/HA_AVP.csv\")"
   ]
  },
  {
   "cell_type": "code",
   "execution_count": 6,
   "id": "difficult-cameroon",
   "metadata": {
    "ExecuteTime": {
     "end_time": "2021-05-07T05:54:04.000466Z",
     "start_time": "2021-05-07T05:54:03.953508Z"
    }
   },
   "outputs": [],
   "source": [
    "df = pd.concat([avp_ic50[['Sequence','MIC']], ha_avp], axis=0).drop_duplicates(['Sequence']).reset_index(drop=True)\n",
    "df = sequence_filtering(df)"
   ]
  },
  {
   "cell_type": "code",
   "execution_count": 7,
   "id": "fourth-queens",
   "metadata": {
    "ExecuteTime": {
     "end_time": "2021-05-07T05:54:04.428453Z",
     "start_time": "2021-05-07T05:54:04.423141Z"
    }
   },
   "outputs": [],
   "source": [
    "df['pIC50'] = df['MIC'].apply(lambda x: -np.log(x*1e-6))"
   ]
  },
  {
   "cell_type": "code",
   "execution_count": 8,
   "id": "gorgeous-friend",
   "metadata": {
    "ExecuteTime": {
     "end_time": "2021-05-07T05:54:04.545256Z",
     "start_time": "2021-05-07T05:54:04.538402Z"
    }
   },
   "outputs": [],
   "source": [
    "family = pd.read_csv(\"../data/raw/712pep_family.csv\")"
   ]
  },
  {
   "cell_type": "code",
   "execution_count": 9,
   "id": "nervous-shame",
   "metadata": {
    "ExecuteTime": {
     "end_time": "2021-05-07T05:54:04.936796Z",
     "start_time": "2021-05-07T05:54:04.926677Z"
    }
   },
   "outputs": [
    {
     "data": {
      "text/plain": [
       "array(['Arenaviridae', 'Arteriviridae', 'Asfarviridae', 'Bunyaviridae',\n",
       "       'Coronaviridae', 'Family', 'Filoviridae', 'Flaviviridae',\n",
       "       'Hepadnaviridae', 'Herpesviridae', 'Orthomyxoviridae',\n",
       "       'Papillomaviridae', 'Paramyxoviridae', 'Polyomaviridae',\n",
       "       'Poxviridae', 'Retroviridae'], dtype=object)"
      ]
     },
     "execution_count": 9,
     "metadata": {},
     "output_type": "execute_result"
    }
   ],
   "source": [
    "family['Family'].unique()"
   ]
  },
  {
   "cell_type": "code",
   "execution_count": 10,
   "id": "cheap-playing",
   "metadata": {
    "ExecuteTime": {
     "end_time": "2021-05-07T05:54:05.071448Z",
     "start_time": "2021-05-07T05:54:05.065980Z"
    }
   },
   "outputs": [],
   "source": [
    "flaviviridae_seq = family[(family['Family'] == \"Flaviviridae\")].reset_index(drop=True)"
   ]
  },
  {
   "cell_type": "code",
   "execution_count": 11,
   "id": "foreign-front",
   "metadata": {
    "ExecuteTime": {
     "end_time": "2021-05-07T05:54:07.290541Z",
     "start_time": "2021-05-07T05:54:07.270792Z"
    }
   },
   "outputs": [
    {
     "data": {
      "text/html": [
       "<div>\n",
       "<style scoped>\n",
       "    .dataframe tbody tr th:only-of-type {\n",
       "        vertical-align: middle;\n",
       "    }\n",
       "\n",
       "    .dataframe tbody tr th {\n",
       "        vertical-align: top;\n",
       "    }\n",
       "\n",
       "    .dataframe thead th {\n",
       "        text-align: right;\n",
       "    }\n",
       "</style>\n",
       "<table border=\"1\" class=\"dataframe\">\n",
       "  <thead>\n",
       "    <tr style=\"text-align: right;\">\n",
       "      <th></th>\n",
       "      <th>Sequence</th>\n",
       "      <th>Abbreviation</th>\n",
       "      <th>Family</th>\n",
       "    </tr>\n",
       "  </thead>\n",
       "  <tbody>\n",
       "    <tr>\n",
       "      <th>0</th>\n",
       "      <td>AAQRRGRVGRNPNQVGD</td>\n",
       "      <td>HCV</td>\n",
       "      <td>Flaviviridae</td>\n",
       "    </tr>\n",
       "    <tr>\n",
       "      <th>1</th>\n",
       "      <td>RNPSQVGD</td>\n",
       "      <td>WNV</td>\n",
       "      <td>Flaviviridae</td>\n",
       "    </tr>\n",
       "    <tr>\n",
       "      <th>2</th>\n",
       "      <td>RVGRNPNQVGD</td>\n",
       "      <td>HCV</td>\n",
       "      <td>Flaviviridae</td>\n",
       "    </tr>\n",
       "    <tr>\n",
       "      <th>3</th>\n",
       "      <td>AAQRRGRIGRNPSQVGD</td>\n",
       "      <td>HCV</td>\n",
       "      <td>Flaviviridae</td>\n",
       "    </tr>\n",
       "    <tr>\n",
       "      <th>4</th>\n",
       "      <td>RGRRGIYR</td>\n",
       "      <td>HCV</td>\n",
       "      <td>Flaviviridae</td>\n",
       "    </tr>\n",
       "    <tr>\n",
       "      <th>...</th>\n",
       "      <td>...</td>\n",
       "      <td>...</td>\n",
       "      <td>...</td>\n",
       "    </tr>\n",
       "    <tr>\n",
       "      <th>125</th>\n",
       "      <td>TWLRAIWDWVCTALTDFK</td>\n",
       "      <td>HCV</td>\n",
       "      <td>Flaviviridae</td>\n",
       "    </tr>\n",
       "    <tr>\n",
       "      <th>126</th>\n",
       "      <td>SWLRDVWDWVCTVLSDFK</td>\n",
       "      <td>HCV</td>\n",
       "      <td>Flaviviridae</td>\n",
       "    </tr>\n",
       "    <tr>\n",
       "      <th>127</th>\n",
       "      <td>GAIVSTALPQWRIYSYAG</td>\n",
       "      <td>HCV</td>\n",
       "      <td>Flaviviridae</td>\n",
       "    </tr>\n",
       "    <tr>\n",
       "      <th>128</th>\n",
       "      <td>SWLRDIWDWLCELLSDFK</td>\n",
       "      <td>HCV</td>\n",
       "      <td>Flaviviridae</td>\n",
       "    </tr>\n",
       "    <tr>\n",
       "      <th>129</th>\n",
       "      <td>EELRVRLASHLRKLRKRLLRDADDLQKRLAVYEEQAQQIRLQAEAF...</td>\n",
       "      <td>HCV</td>\n",
       "      <td>Flaviviridae</td>\n",
       "    </tr>\n",
       "  </tbody>\n",
       "</table>\n",
       "<p>130 rows × 3 columns</p>\n",
       "</div>"
      ],
      "text/plain": [
       "                                              Sequence Abbreviation  \\\n",
       "0                                    AAQRRGRVGRNPNQVGD          HCV   \n",
       "1                                             RNPSQVGD          WNV   \n",
       "2                                          RVGRNPNQVGD          HCV   \n",
       "3                                    AAQRRGRIGRNPSQVGD          HCV   \n",
       "4                                             RGRRGIYR          HCV   \n",
       "..                                                 ...          ...   \n",
       "125                                 TWLRAIWDWVCTALTDFK          HCV   \n",
       "126                                 SWLRDVWDWVCTVLSDFK          HCV   \n",
       "127                                 GAIVSTALPQWRIYSYAG          HCV   \n",
       "128                                 SWLRDIWDWLCELLSDFK          HCV   \n",
       "129  EELRVRLASHLRKLRKRLLRDADDLQKRLAVYEEQAQQIRLQAEAF...          HCV   \n",
       "\n",
       "           Family  \n",
       "0    Flaviviridae  \n",
       "1    Flaviviridae  \n",
       "2    Flaviviridae  \n",
       "3    Flaviviridae  \n",
       "4    Flaviviridae  \n",
       "..            ...  \n",
       "125  Flaviviridae  \n",
       "126  Flaviviridae  \n",
       "127  Flaviviridae  \n",
       "128  Flaviviridae  \n",
       "129  Flaviviridae  \n",
       "\n",
       "[130 rows x 3 columns]"
      ]
     },
     "execution_count": 11,
     "metadata": {},
     "output_type": "execute_result"
    }
   ],
   "source": [
    "flaviviridae_seq"
   ]
  },
  {
   "cell_type": "code",
   "execution_count": 12,
   "id": "compliant-incident",
   "metadata": {
    "ExecuteTime": {
     "end_time": "2021-05-07T05:54:08.109141Z",
     "start_time": "2021-05-07T05:54:08.098743Z"
    }
   },
   "outputs": [],
   "source": [
    "df_flaviviridae = df.merge(flaviviridae_seq,how='right',on='Sequence').reset_index(drop=True)"
   ]
  },
  {
   "cell_type": "code",
   "execution_count": 13,
   "id": "premier-mount",
   "metadata": {
    "ExecuteTime": {
     "end_time": "2021-05-07T05:54:08.801360Z",
     "start_time": "2021-05-07T05:54:08.787002Z"
    }
   },
   "outputs": [
    {
     "data": {
      "text/html": [
       "<div>\n",
       "<style scoped>\n",
       "    .dataframe tbody tr th:only-of-type {\n",
       "        vertical-align: middle;\n",
       "    }\n",
       "\n",
       "    .dataframe tbody tr th {\n",
       "        vertical-align: top;\n",
       "    }\n",
       "\n",
       "    .dataframe thead th {\n",
       "        text-align: right;\n",
       "    }\n",
       "</style>\n",
       "<table border=\"1\" class=\"dataframe\">\n",
       "  <thead>\n",
       "    <tr style=\"text-align: right;\">\n",
       "      <th></th>\n",
       "      <th>Sequence</th>\n",
       "      <th>MIC</th>\n",
       "      <th>pIC50</th>\n",
       "      <th>Abbreviation</th>\n",
       "      <th>Family</th>\n",
       "    </tr>\n",
       "  </thead>\n",
       "  <tbody>\n",
       "    <tr>\n",
       "      <th>0</th>\n",
       "      <td>AAQRRGRVGRNPNQVGD</td>\n",
       "      <td>442.00</td>\n",
       "      <td>7.724201</td>\n",
       "      <td>HCV</td>\n",
       "      <td>Flaviviridae</td>\n",
       "    </tr>\n",
       "    <tr>\n",
       "      <th>1</th>\n",
       "      <td>RNPSQVGD</td>\n",
       "      <td>383.00</td>\n",
       "      <td>7.867476</td>\n",
       "      <td>WNV</td>\n",
       "      <td>Flaviviridae</td>\n",
       "    </tr>\n",
       "    <tr>\n",
       "      <th>2</th>\n",
       "      <td>RVGRNPNQVGD</td>\n",
       "      <td>374.00</td>\n",
       "      <td>7.891255</td>\n",
       "      <td>HCV</td>\n",
       "      <td>Flaviviridae</td>\n",
       "    </tr>\n",
       "    <tr>\n",
       "      <th>3</th>\n",
       "      <td>AAQRRGRIGRNPSQVGD</td>\n",
       "      <td>358.00</td>\n",
       "      <td>7.934978</td>\n",
       "      <td>HCV</td>\n",
       "      <td>Flaviviridae</td>\n",
       "    </tr>\n",
       "    <tr>\n",
       "      <th>4</th>\n",
       "      <td>RGRRGIYR</td>\n",
       "      <td>313.00</td>\n",
       "      <td>8.069307</td>\n",
       "      <td>HCV</td>\n",
       "      <td>Flaviviridae</td>\n",
       "    </tr>\n",
       "    <tr>\n",
       "      <th>...</th>\n",
       "      <td>...</td>\n",
       "      <td>...</td>\n",
       "      <td>...</td>\n",
       "      <td>...</td>\n",
       "      <td>...</td>\n",
       "    </tr>\n",
       "    <tr>\n",
       "      <th>125</th>\n",
       "      <td>TWLRAIWDWVCTALTDFK</td>\n",
       "      <td>7.10</td>\n",
       "      <td>11.855416</td>\n",
       "      <td>HCV</td>\n",
       "      <td>Flaviviridae</td>\n",
       "    </tr>\n",
       "    <tr>\n",
       "      <th>126</th>\n",
       "      <td>SWLRDVWDWVCTVLSDFK</td>\n",
       "      <td>3.50</td>\n",
       "      <td>12.562748</td>\n",
       "      <td>HCV</td>\n",
       "      <td>Flaviviridae</td>\n",
       "    </tr>\n",
       "    <tr>\n",
       "      <th>127</th>\n",
       "      <td>GAIVSTALPQWRIYSYAG</td>\n",
       "      <td>23.80</td>\n",
       "      <td>10.645825</td>\n",
       "      <td>HCV</td>\n",
       "      <td>Flaviviridae</td>\n",
       "    </tr>\n",
       "    <tr>\n",
       "      <th>128</th>\n",
       "      <td>SWLRDIWDWLCELLSDFK</td>\n",
       "      <td>0.82</td>\n",
       "      <td>14.013961</td>\n",
       "      <td>HCV</td>\n",
       "      <td>Flaviviridae</td>\n",
       "    </tr>\n",
       "    <tr>\n",
       "      <th>129</th>\n",
       "      <td>EELRVRLASHLRKLRKRLLRDADDLQKRLAVYEEQAQQIRLQAEAF...</td>\n",
       "      <td>0.67</td>\n",
       "      <td>14.215988</td>\n",
       "      <td>HCV</td>\n",
       "      <td>Flaviviridae</td>\n",
       "    </tr>\n",
       "  </tbody>\n",
       "</table>\n",
       "<p>130 rows × 5 columns</p>\n",
       "</div>"
      ],
      "text/plain": [
       "                                              Sequence     MIC      pIC50  \\\n",
       "0                                    AAQRRGRVGRNPNQVGD  442.00   7.724201   \n",
       "1                                             RNPSQVGD  383.00   7.867476   \n",
       "2                                          RVGRNPNQVGD  374.00   7.891255   \n",
       "3                                    AAQRRGRIGRNPSQVGD  358.00   7.934978   \n",
       "4                                             RGRRGIYR  313.00   8.069307   \n",
       "..                                                 ...     ...        ...   \n",
       "125                                 TWLRAIWDWVCTALTDFK    7.10  11.855416   \n",
       "126                                 SWLRDVWDWVCTVLSDFK    3.50  12.562748   \n",
       "127                                 GAIVSTALPQWRIYSYAG   23.80  10.645825   \n",
       "128                                 SWLRDIWDWLCELLSDFK    0.82  14.013961   \n",
       "129  EELRVRLASHLRKLRKRLLRDADDLQKRLAVYEEQAQQIRLQAEAF...    0.67  14.215988   \n",
       "\n",
       "    Abbreviation        Family  \n",
       "0            HCV  Flaviviridae  \n",
       "1            WNV  Flaviviridae  \n",
       "2            HCV  Flaviviridae  \n",
       "3            HCV  Flaviviridae  \n",
       "4            HCV  Flaviviridae  \n",
       "..           ...           ...  \n",
       "125          HCV  Flaviviridae  \n",
       "126          HCV  Flaviviridae  \n",
       "127          HCV  Flaviviridae  \n",
       "128          HCV  Flaviviridae  \n",
       "129          HCV  Flaviviridae  \n",
       "\n",
       "[130 rows x 5 columns]"
      ]
     },
     "execution_count": 13,
     "metadata": {},
     "output_type": "execute_result"
    }
   ],
   "source": [
    "df_flaviviridae#.to_csv(\"../data/raw/flaviviridae_data.csv\", index=False)"
   ]
  },
  {
   "cell_type": "code",
   "execution_count": 14,
   "id": "continent-verse",
   "metadata": {
    "ExecuteTime": {
     "end_time": "2021-05-07T05:54:49.986831Z",
     "start_time": "2021-05-07T05:54:49.981327Z"
    }
   },
   "outputs": [],
   "source": [
    "def get_physicochemical_properties(df):\n",
    "    params = ['aromaticity', 'helix', 'turn', 'sheet', 'gravy', 'net_charge_at_pH7point4']\n",
    "\n",
    "    prop = []\n",
    "    for seq in df.Sequence:\n",
    "        X = ProteinAnalysis(seq)\n",
    "        aromaticity = X.aromaticity()\n",
    "        sec_struc = X.secondary_structure_fraction()\n",
    "        helix = sec_struc[0]\n",
    "        turn = sec_struc[1]\n",
    "        sheet = sec_struc[2]\n",
    "        gravy = X.gravy() # hydrophobicity related\n",
    "        net_charge_at_pH7point4 = X.charge_at_pH(7.4)\n",
    "\n",
    "        prop.append([aromaticity, helix, turn, sheet, gravy, net_charge_at_pH7point4])\n",
    "    return pd.DataFrame(prop, columns=params)"
   ]
  },
  {
   "cell_type": "code",
   "execution_count": 15,
   "id": "light-district",
   "metadata": {
    "ExecuteTime": {
     "end_time": "2021-05-07T05:54:52.264968Z",
     "start_time": "2021-05-07T05:54:52.255619Z"
    }
   },
   "outputs": [],
   "source": [
    "aa_freq = reduce_by_kmer_frequency(df_flaviviridae)"
   ]
  },
  {
   "cell_type": "code",
   "execution_count": 16,
   "id": "completed-medicare",
   "metadata": {
    "ExecuteTime": {
     "end_time": "2021-05-07T05:54:52.731937Z",
     "start_time": "2021-05-07T05:54:52.464959Z"
    }
   },
   "outputs": [
    {
     "name": "stderr",
     "output_type": "stream",
     "text": [
      "/Users/in-divye.singh/anaconda3/envs/life-science/lib/python3.6/site-packages/smart_open/smart_open_lib.py:254: UserWarning: This function is deprecated, use smart_open.open instead. See the migration notes for details: https://github.com/RaRe-Technologies/smart_open/blob/master/README.rst#migrating-to-the-new-open-function\n",
      "  'See the migration notes for details: %s' % _MIGRATION_NOTES_URL\n",
      "Creating vectors: 100%|██████████| 130/130 [00:00<00:00, 918.75sequence/s]\n"
     ]
    }
   ],
   "source": [
    "uniprot_embedding = biovec.models.load_protvec(\"../data/embeddings/uniprot__kmer_3_contextWindow_10_vector_100_reduction_None\")\n",
    "\n",
    "avg_protvec = convert_sequences_to_avg_vectors(df_flaviviridae['Sequence'], uniprot_embedding, kmer=3)\n",
    "avg_protvec = avg_protvec.reset_index(drop=True)"
   ]
  },
  {
   "cell_type": "code",
   "execution_count": 17,
   "id": "increasing-triumph",
   "metadata": {
    "ExecuteTime": {
     "end_time": "2021-05-07T05:54:52.959281Z",
     "start_time": "2021-05-07T05:54:52.949761Z"
    }
   },
   "outputs": [],
   "source": [
    "physicochemical_prop = get_physicochemical_properties(df_flaviviridae)"
   ]
  },
  {
   "cell_type": "code",
   "execution_count": 18,
   "id": "material-broadway",
   "metadata": {
    "ExecuteTime": {
     "end_time": "2021-05-07T05:55:04.354290Z",
     "start_time": "2021-05-07T05:55:04.349602Z"
    }
   },
   "outputs": [],
   "source": [
    "X = pd.concat([aa_freq, avg_protvec, physicochemical_prop[['helix','turn','sheet']]], axis=1)"
   ]
  },
  {
   "cell_type": "code",
   "execution_count": 19,
   "id": "naughty-cancellation",
   "metadata": {
    "ExecuteTime": {
     "end_time": "2021-05-07T05:55:05.503316Z",
     "start_time": "2021-05-07T05:55:05.499162Z"
    }
   },
   "outputs": [],
   "source": [
    "y = df_flaviviridae[['pIC50', 'MIC']]"
   ]
  },
  {
   "cell_type": "code",
   "execution_count": 20,
   "id": "given-fisher",
   "metadata": {
    "ExecuteTime": {
     "end_time": "2021-05-07T05:55:06.116460Z",
     "start_time": "2021-05-07T05:55:06.109617Z"
    }
   },
   "outputs": [],
   "source": [
    "X_train, X_test, y_train, y_test = train_test_split(X, y, test_size=0.2, random_state=42)"
   ]
  },
  {
   "cell_type": "code",
   "execution_count": 21,
   "id": "visible-trademark",
   "metadata": {
    "ExecuteTime": {
     "end_time": "2021-05-07T05:55:07.958386Z",
     "start_time": "2021-05-07T05:55:07.955529Z"
    }
   },
   "outputs": [],
   "source": [
    "y_train_pmic, y_train_mic = y_train['pIC50'], y_train['MIC']\n",
    "y_test_pmic, y_test_mic = y_test['pIC50'], y_test['MIC']"
   ]
  },
  {
   "cell_type": "code",
   "execution_count": 22,
   "id": "august-recognition",
   "metadata": {
    "ExecuteTime": {
     "end_time": "2021-05-07T05:55:08.786933Z",
     "start_time": "2021-05-07T05:55:08.784149Z"
    }
   },
   "outputs": [],
   "source": [
    "from sklearn.model_selection import cross_val_score, GridSearchCV, LeaveOneOut"
   ]
  },
  {
   "cell_type": "code",
   "execution_count": 23,
   "id": "surrounded-problem",
   "metadata": {
    "ExecuteTime": {
     "end_time": "2021-05-07T05:55:09.435249Z",
     "start_time": "2021-05-07T05:55:09.432528Z"
    }
   },
   "outputs": [],
   "source": [
    "from scipy.stats import pearsonr"
   ]
  },
  {
   "cell_type": "code",
   "execution_count": 67,
   "id": "backed-opportunity",
   "metadata": {
    "ExecuteTime": {
     "end_time": "2021-05-07T06:35:17.182976Z",
     "start_time": "2021-05-07T06:35:17.179268Z"
    }
   },
   "outputs": [],
   "source": [
    "def multi_objective_score(y_true, y_pred):\n",
    "    mape = mean_absolute_percentage_error(y_true, y_pred)\n",
    "    std_diff = abs(np.std(y_pred) - np.std(y_true))\n",
    "    pcc = pearson_score(y_true, y_pred)\n",
    "    return mape - 10*pcc + 20*std_diff\n",
    "multi_objective_scorer = make_scorer(multi_objective_score, greater_is_better=False)"
   ]
  },
  {
   "cell_type": "code",
   "execution_count": 68,
   "id": "competent-links",
   "metadata": {
    "ExecuteTime": {
     "end_time": "2021-05-07T06:35:17.894345Z",
     "start_time": "2021-05-07T06:35:17.889329Z"
    }
   },
   "outputs": [],
   "source": [
    "param_grid = {\n",
    "    'C':[0.001,0.01,0.1,1,10,100,1000],\n",
    "    'kernel':['rbf','poly','sigmoid','linear'],\n",
    "    'degree':[1,2,3,4,5,6],\n",
    "    'gamma': np.arange(0.1,1.0,0.1).round(1).tolist() + np.arange(1,11,1).round().tolist()\n",
    "}\n",
    "svr = SVR()\n",
    "# Instantiate the grid search model\n",
    "grid_search = GridSearchCV(estimator = svr, param_grid = param_grid, \n",
    "                          cv = 5, n_jobs = -1, verbose = 2, scoring=multi_objective_scorer)"
   ]
  },
  {
   "cell_type": "code",
   "execution_count": 69,
   "id": "lyric-standing",
   "metadata": {
    "ExecuteTime": {
     "end_time": "2021-05-07T06:35:49.652546Z",
     "start_time": "2021-05-07T06:35:18.367695Z"
    },
    "scrolled": false
   },
   "outputs": [
    {
     "name": "stdout",
     "output_type": "stream",
     "text": [
      "Fitting 5 folds for each of 3192 candidates, totalling 15960 fits\n"
     ]
    },
    {
     "name": "stderr",
     "output_type": "stream",
     "text": [
      "[Parallel(n_jobs=-1)]: Using backend LokyBackend with 12 concurrent workers.\n",
      "[Parallel(n_jobs=-1)]: Done  17 tasks      | elapsed:    1.7s\n",
      "[Parallel(n_jobs=-1)]: Done 360 tasks      | elapsed:    2.5s\n",
      "[Parallel(n_jobs=-1)]: Done 3560 tasks      | elapsed:    7.4s\n",
      "[Parallel(n_jobs=-1)]: Done 8088 tasks      | elapsed:   12.7s\n",
      "[Parallel(n_jobs=-1)]: Done 13928 tasks      | elapsed:   25.5s\n",
      "[Parallel(n_jobs=-1)]: Done 15960 out of 15960 | elapsed:   31.2s finished\n"
     ]
    },
    {
     "data": {
      "text/plain": [
       "GridSearchCV(cv=5, estimator=SVR(), n_jobs=-1,\n",
       "             param_grid={'C': [0.001, 0.01, 0.1, 1, 10, 100, 1000],\n",
       "                         'degree': [1, 2, 3, 4, 5, 6],\n",
       "                         'gamma': [0.1, 0.2, 0.3, 0.4, 0.5, 0.6, 0.7, 0.8, 0.9,\n",
       "                                   1, 2, 3, 4, 5, 6, 7, 8, 9, 10],\n",
       "                         'kernel': ['rbf', 'poly', 'sigmoid', 'linear']},\n",
       "             scoring=make_scorer(multi_objective_score, greater_is_better=False),\n",
       "             verbose=2)"
      ]
     },
     "execution_count": 69,
     "metadata": {},
     "output_type": "execute_result"
    }
   ],
   "source": [
    "grid_search.fit(X_train, y_train_pmic)"
   ]
  },
  {
   "cell_type": "code",
   "execution_count": 70,
   "id": "powered-africa",
   "metadata": {
    "ExecuteTime": {
     "end_time": "2021-05-07T06:35:50.034944Z",
     "start_time": "2021-05-07T06:35:50.031379Z"
    }
   },
   "outputs": [
    {
     "data": {
      "text/plain": [
       "{'C': 100, 'degree': 2, 'gamma': 5, 'kernel': 'poly'}"
      ]
     },
     "execution_count": 70,
     "metadata": {},
     "output_type": "execute_result"
    }
   ],
   "source": [
    "grid_search.best_params_"
   ]
  },
  {
   "cell_type": "code",
   "execution_count": 71,
   "id": "informed-coverage",
   "metadata": {
    "ExecuteTime": {
     "end_time": "2021-05-07T06:35:50.408908Z",
     "start_time": "2021-05-07T06:35:50.406598Z"
    }
   },
   "outputs": [],
   "source": [
    "best_grid = grid_search.best_estimator_"
   ]
  },
  {
   "cell_type": "code",
   "execution_count": 72,
   "id": "domestic-baptist",
   "metadata": {
    "ExecuteTime": {
     "end_time": "2021-05-07T06:35:50.785465Z",
     "start_time": "2021-05-07T06:35:50.780962Z"
    }
   },
   "outputs": [],
   "source": [
    "y_pred_pmic = best_grid.predict(X_test)"
   ]
  },
  {
   "cell_type": "code",
   "execution_count": 73,
   "id": "brilliant-nicaragua",
   "metadata": {
    "ExecuteTime": {
     "end_time": "2021-05-07T06:35:51.168831Z",
     "start_time": "2021-05-07T06:35:51.164910Z"
    }
   },
   "outputs": [
    {
     "data": {
      "text/plain": [
       "(2.4649130950912346, 2.3991496738662024)"
      ]
     },
     "execution_count": 73,
     "metadata": {},
     "output_type": "execute_result"
    }
   ],
   "source": [
    "np.std(y_test_pmic), np.std(y_pred_pmic)"
   ]
  },
  {
   "cell_type": "code",
   "execution_count": 74,
   "id": "likely-youth",
   "metadata": {
    "ExecuteTime": {
     "end_time": "2021-05-07T06:35:51.556772Z",
     "start_time": "2021-05-07T06:35:51.553656Z"
    }
   },
   "outputs": [
    {
     "data": {
      "text/plain": [
       "21.85028579451872"
      ]
     },
     "execution_count": 74,
     "metadata": {},
     "output_type": "execute_result"
    }
   ],
   "source": [
    "mean_absolute_percentage_error(y_test_pmic, y_pred_pmic)"
   ]
  },
  {
   "cell_type": "code",
   "execution_count": 54,
   "id": "breeding-survival",
   "metadata": {
    "ExecuteTime": {
     "end_time": "2021-05-07T06:22:51.545419Z",
     "start_time": "2021-05-07T06:22:51.542730Z"
    }
   },
   "outputs": [],
   "source": [
    "y_pred_mic = np.exp(-y_pred_pmic)/1e-6"
   ]
  },
  {
   "cell_type": "code",
   "execution_count": 55,
   "id": "norman-manual",
   "metadata": {
    "ExecuteTime": {
     "end_time": "2021-05-07T06:22:52.303953Z",
     "start_time": "2021-05-07T06:22:52.300438Z"
    }
   },
   "outputs": [],
   "source": [
    "ape_mic = 100*np.abs(y_test_mic-y_pred_mic)/y_test_mic"
   ]
  },
  {
   "cell_type": "code",
   "execution_count": 56,
   "id": "particular-preview",
   "metadata": {
    "ExecuteTime": {
     "end_time": "2021-05-07T06:22:53.442275Z",
     "start_time": "2021-05-07T06:22:53.438089Z"
    }
   },
   "outputs": [
    {
     "data": {
      "text/plain": [
       "662.8941457346394"
      ]
     },
     "execution_count": 56,
     "metadata": {},
     "output_type": "execute_result"
    }
   ],
   "source": [
    "mean_absolute_percentage_error(y_test_mic, y_pred_mic)"
   ]
  },
  {
   "cell_type": "code",
   "execution_count": 57,
   "id": "dynamic-lafayette",
   "metadata": {
    "ExecuteTime": {
     "end_time": "2021-05-07T06:27:15.011927Z",
     "start_time": "2021-05-07T06:27:15.007773Z"
    },
    "scrolled": true
   },
   "outputs": [
    {
     "data": {
      "text/plain": [
       "0.03010366865023491"
      ]
     },
     "execution_count": 57,
     "metadata": {},
     "output_type": "execute_result"
    }
   ],
   "source": [
    "pearson_score(y_test_mic, y_pred_mic)"
   ]
  },
  {
   "cell_type": "code",
   "execution_count": 58,
   "id": "artificial-interest",
   "metadata": {
    "ExecuteTime": {
     "end_time": "2021-05-07T06:27:15.068414Z",
     "start_time": "2021-05-07T06:27:15.060958Z"
    }
   },
   "outputs": [
    {
     "data": {
      "text/plain": [
       "[(8.9, 0.4834, 94.56862307274307),\n",
       " (12.5, 4.7519, 61.984938303068205),\n",
       " (27.0, 3.0777, 88.60126965919842),\n",
       " (21.4, 454.4669, 2023.677307915668),\n",
       " (0.024, 1.1322, 4617.562065526883),\n",
       " (8.0, 3.7138, 53.577385905179376),\n",
       " (5.0, 2.3292, 53.41528544372768),\n",
       " (0.51, 8.9141, 1647.8675027325946),\n",
       " (3.0, 5.3323, 77.74319588966948),\n",
       " (25.0, 0.1883, 99.24661132158954),\n",
       " (1.115, 0.4823, 56.742702747316166),\n",
       " (25.0, 0.754, 96.98408578036188),\n",
       " (5.1, 2.6347, 48.34011089144721),\n",
       " (313.0, 0.0291, 99.99071694992341),\n",
       " (0.89, 0.3193, 64.12485560795342),\n",
       " (0.8, 4.023, 402.8694340152281),\n",
       " (13.5, 1.4244, 89.44921016337194),\n",
       " (3.0, 4.0449, 34.83147282932449),\n",
       " (1.2, 0.4899, 59.17613771203687),\n",
       " (1.965, 0.005, 99.74556608491423),\n",
       " (27.0, 2.4627, 90.8790483830435),\n",
       " (36.0, 571.3364, 1487.0455839868227),\n",
       " (0.001, 0.0565, 5546.032975356189),\n",
       " (34.6, 0.7854, 97.7301989446528),\n",
       " (3.5, 0.7584, 78.33107441682088),\n",
       " (10.0, 3.527, 64.73042946090007)]"
      ]
     },
     "execution_count": 58,
     "metadata": {},
     "output_type": "execute_result"
    }
   ],
   "source": [
    "list(zip(y_test_mic.round(4), y_pred_mic.round(4), ape_mic))"
   ]
  },
  {
   "cell_type": "code",
   "execution_count": 59,
   "id": "middle-pathology",
   "metadata": {
    "ExecuteTime": {
     "end_time": "2021-05-07T06:34:09.725156Z",
     "start_time": "2021-05-07T06:34:07.380071Z"
    }
   },
   "outputs": [
    {
     "name": "stderr",
     "output_type": "stream",
     "text": [
      "130it [00:02, 55.82it/s]\n"
     ]
    }
   ],
   "source": [
    "loo = LeaveOneOut()\n",
    "\n",
    "from tqdm import tqdm\n",
    "\n",
    "result_df = pd.DataFrame(columns = list(df_flaviviridae.columns)+[\"y_pred_pmic\", \"y_pred_mic\", \"ape_pmic\", \"ape_mic\"])\n",
    "for train_index, test_index in tqdm(loo.split(X)):\n",
    "    X_train, X_test = X.iloc[train_index,:], X.iloc[test_index,:]\n",
    "    y_train, y_test = y.iloc[train_index], y.iloc[test_index]\n",
    "    y_train_pmic, y_train_mic = y_train['pIC50'], y_train['MIC']\n",
    "    y_test_pmic, y_test_mic = y_test['pIC50'], y_test['MIC']\n",
    "    svr = SVR(**grid_search.best_params_)\n",
    "    _ = svr.fit(X_train, y_train_pmic)\n",
    "    y_pred_pmic = svr.predict(X_test)\n",
    "    y_pred_mic = np.exp(-y_pred_pmic)/1e-6\n",
    "    ape = 100*np.abs(y_test_pmic-y_pred_pmic)/y_test_pmic\n",
    "    ape_mic = 100*np.abs(y_test_mic-y_pred_mic)/y_test_mic\n",
    "    df_val = df_flaviviridae.iloc[test_index,:].values[0].tolist()\n",
    "    res = np.append(df_val, [y_pred_pmic[0], y_pred_mic[0], ape.values[0], ape_mic.values[0]])\n",
    "    res = pd.DataFrame([res], columns = list(df_flaviviridae.columns)+[\"y_pred_pmic\", \"y_pred_mic\", \"ape_pmic\", \"ape_mic\"])\n",
    "    result_df = result_df.append(res)\n",
    "result_df = result_df[[\"Sequence\", \"pIC50\", \"y_pred_pmic\", \"ape_pmic\", \"MIC\", \"y_pred_mic\", \"ape_mic\"]]"
   ]
  },
  {
   "cell_type": "code",
   "execution_count": 60,
   "id": "executed-ticket",
   "metadata": {
    "ExecuteTime": {
     "end_time": "2021-05-07T06:34:10.178789Z",
     "start_time": "2021-05-07T06:34:10.166165Z"
    }
   },
   "outputs": [
    {
     "data": {
      "text/html": [
       "<div>\n",
       "<style scoped>\n",
       "    .dataframe tbody tr th:only-of-type {\n",
       "        vertical-align: middle;\n",
       "    }\n",
       "\n",
       "    .dataframe tbody tr th {\n",
       "        vertical-align: top;\n",
       "    }\n",
       "\n",
       "    .dataframe thead th {\n",
       "        text-align: right;\n",
       "    }\n",
       "</style>\n",
       "<table border=\"1\" class=\"dataframe\">\n",
       "  <thead>\n",
       "    <tr style=\"text-align: right;\">\n",
       "      <th></th>\n",
       "      <th>Sequence</th>\n",
       "      <th>pIC50</th>\n",
       "      <th>y_pred_pmic</th>\n",
       "      <th>ape_pmic</th>\n",
       "      <th>MIC</th>\n",
       "      <th>y_pred_mic</th>\n",
       "      <th>ape_mic</th>\n",
       "    </tr>\n",
       "  </thead>\n",
       "  <tbody>\n",
       "    <tr>\n",
       "      <th>0</th>\n",
       "      <td>AAQRRGRVGRNPNQVGD</td>\n",
       "      <td>7.724200675886576</td>\n",
       "      <td>8.28316039447111</td>\n",
       "      <td>7.2364732875143485</td>\n",
       "      <td>442.0</td>\n",
       "      <td>252.73718731329384</td>\n",
       "      <td>42.819640879345286</td>\n",
       "    </tr>\n",
       "    <tr>\n",
       "      <th>0</th>\n",
       "      <td>RNPSQVGD</td>\n",
       "      <td>7.867475568783628</td>\n",
       "      <td>7.778131169309699</td>\n",
       "      <td>1.1356171200381937</td>\n",
       "      <td>383.0</td>\n",
       "      <td>418.79409900642503</td>\n",
       "      <td>9.345717756246744</td>\n",
       "    </tr>\n",
       "    <tr>\n",
       "      <th>0</th>\n",
       "      <td>RVGRNPNQVGD</td>\n",
       "      <td>7.891254760549742</td>\n",
       "      <td>6.957773366905505</td>\n",
       "      <td>11.829315133899021</td>\n",
       "      <td>374.0</td>\n",
       "      <td>951.2122188913861</td>\n",
       "      <td>154.33481788539734</td>\n",
       "    </tr>\n",
       "    <tr>\n",
       "      <th>0</th>\n",
       "      <td>AAQRRGRIGRNPSQVGD</td>\n",
       "      <td>7.934977571563574</td>\n",
       "      <td>8.18344724890725</td>\n",
       "      <td>3.131321734721865</td>\n",
       "      <td>358.0</td>\n",
       "      <td>279.2376772787253</td>\n",
       "      <td>22.000648804825335</td>\n",
       "    </tr>\n",
       "    <tr>\n",
       "      <th>0</th>\n",
       "      <td>RGRRGIYR</td>\n",
       "      <td>8.069307367424122</td>\n",
       "      <td>15.446827452628037</td>\n",
       "      <td>91.4269310769725</td>\n",
       "      <td>313.0</td>\n",
       "      <td>0.1956717253333821</td>\n",
       "      <td>99.93748507177847</td>\n",
       "    </tr>\n",
       "    <tr>\n",
       "      <th>...</th>\n",
       "      <td>...</td>\n",
       "      <td>...</td>\n",
       "      <td>...</td>\n",
       "      <td>...</td>\n",
       "      <td>...</td>\n",
       "      <td>...</td>\n",
       "      <td>...</td>\n",
       "    </tr>\n",
       "    <tr>\n",
       "      <th>0</th>\n",
       "      <td>TWLRAIWDWVCTALTDFK</td>\n",
       "      <td>11.855415773917004</td>\n",
       "      <td>10.063638368474797</td>\n",
       "      <td>15.113577116243203</td>\n",
       "      <td>7.1</td>\n",
       "      <td>42.60076408957533</td>\n",
       "      <td>500.01076182500464</td>\n",
       "    </tr>\n",
       "    <tr>\n",
       "      <th>0</th>\n",
       "      <td>SWLRDVWDWVCTVLSDFK</td>\n",
       "      <td>12.562747589468906</td>\n",
       "      <td>12.86820716661365</td>\n",
       "      <td>2.431471101121269</td>\n",
       "      <td>3.5</td>\n",
       "      <td>2.5787464050891025</td>\n",
       "      <td>26.3215312831685</td>\n",
       "    </tr>\n",
       "    <tr>\n",
       "      <th>0</th>\n",
       "      <td>GAIVSTALPQWRIYSYAG</td>\n",
       "      <td>10.645824977286845</td>\n",
       "      <td>9.352683715528082</td>\n",
       "      <td>12.146933323793265</td>\n",
       "      <td>23.8</td>\n",
       "      <td>86.73234154558335</td>\n",
       "      <td>264.4216031327032</td>\n",
       "    </tr>\n",
       "    <tr>\n",
       "      <th>0</th>\n",
       "      <td>SWLRDIWDWLCELLSDFK</td>\n",
       "      <td>14.013961496688113</td>\n",
       "      <td>13.303024514001473</td>\n",
       "      <td>5.073062194830876</td>\n",
       "      <td>0.82</td>\n",
       "      <td>1.6694363324295065</td>\n",
       "      <td>103.58979663774471</td>\n",
       "    </tr>\n",
       "    <tr>\n",
       "      <th>0</th>\n",
       "      <td>EELRVRLASHLRKLRKRLLRDADDLQKRLAVYEEQAQQIRLQAEAF...</td>\n",
       "      <td>14.215988124561399</td>\n",
       "      <td>11.18883402568585</td>\n",
       "      <td>21.294011167928886</td>\n",
       "      <td>0.67</td>\n",
       "      <td>13.827737411802225</td>\n",
       "      <td>1963.8414047466006</td>\n",
       "    </tr>\n",
       "  </tbody>\n",
       "</table>\n",
       "<p>130 rows × 7 columns</p>\n",
       "</div>"
      ],
      "text/plain": [
       "                                             Sequence               pIC50  \\\n",
       "0                                   AAQRRGRVGRNPNQVGD   7.724200675886576   \n",
       "0                                            RNPSQVGD   7.867475568783628   \n",
       "0                                         RVGRNPNQVGD   7.891254760549742   \n",
       "0                                   AAQRRGRIGRNPSQVGD   7.934977571563574   \n",
       "0                                            RGRRGIYR   8.069307367424122   \n",
       "..                                                ...                 ...   \n",
       "0                                  TWLRAIWDWVCTALTDFK  11.855415773917004   \n",
       "0                                  SWLRDVWDWVCTVLSDFK  12.562747589468906   \n",
       "0                                  GAIVSTALPQWRIYSYAG  10.645824977286845   \n",
       "0                                  SWLRDIWDWLCELLSDFK  14.013961496688113   \n",
       "0   EELRVRLASHLRKLRKRLLRDADDLQKRLAVYEEQAQQIRLQAEAF...  14.215988124561399   \n",
       "\n",
       "           y_pred_pmic            ape_pmic    MIC          y_pred_mic  \\\n",
       "0     8.28316039447111  7.2364732875143485  442.0  252.73718731329384   \n",
       "0    7.778131169309699  1.1356171200381937  383.0  418.79409900642503   \n",
       "0    6.957773366905505  11.829315133899021  374.0   951.2122188913861   \n",
       "0     8.18344724890725   3.131321734721865  358.0   279.2376772787253   \n",
       "0   15.446827452628037    91.4269310769725  313.0  0.1956717253333821   \n",
       "..                 ...                 ...    ...                 ...   \n",
       "0   10.063638368474797  15.113577116243203    7.1   42.60076408957533   \n",
       "0    12.86820716661365   2.431471101121269    3.5  2.5787464050891025   \n",
       "0    9.352683715528082  12.146933323793265   23.8   86.73234154558335   \n",
       "0   13.303024514001473   5.073062194830876   0.82  1.6694363324295065   \n",
       "0    11.18883402568585  21.294011167928886   0.67  13.827737411802225   \n",
       "\n",
       "               ape_mic  \n",
       "0   42.819640879345286  \n",
       "0    9.345717756246744  \n",
       "0   154.33481788539734  \n",
       "0   22.000648804825335  \n",
       "0    99.93748507177847  \n",
       "..                 ...  \n",
       "0   500.01076182500464  \n",
       "0     26.3215312831685  \n",
       "0    264.4216031327032  \n",
       "0   103.58979663774471  \n",
       "0   1963.8414047466006  \n",
       "\n",
       "[130 rows x 7 columns]"
      ]
     },
     "execution_count": 60,
     "metadata": {},
     "output_type": "execute_result"
    }
   ],
   "source": [
    "result_df#.to_csv(\"../results/SVM_HIV_CoV_pMIC_to_MIC_rbf_c_100_gamma_2.csv\", index=False)"
   ]
  },
  {
   "cell_type": "code",
   "execution_count": 61,
   "id": "faced-assembly",
   "metadata": {
    "ExecuteTime": {
     "end_time": "2021-05-07T06:34:12.444501Z",
     "start_time": "2021-05-07T06:34:12.439806Z"
    }
   },
   "outputs": [
    {
     "data": {
      "text/plain": [
       "15.031607822815511"
      ]
     },
     "execution_count": 61,
     "metadata": {},
     "output_type": "execute_result"
    }
   ],
   "source": [
    "result_df['ape_pmic'].astype('float').mean()"
   ]
  },
  {
   "cell_type": "code",
   "execution_count": 62,
   "id": "ordered-royalty",
   "metadata": {
    "ExecuteTime": {
     "end_time": "2021-05-07T06:34:15.571773Z",
     "start_time": "2021-05-07T06:34:15.567295Z"
    }
   },
   "outputs": [
    {
     "data": {
      "text/plain": [
       "975.364340874116"
      ]
     },
     "execution_count": 62,
     "metadata": {},
     "output_type": "execute_result"
    }
   ],
   "source": [
    "result_df['ape_mic'].astype('float').mean()"
   ]
  },
  {
   "cell_type": "code",
   "execution_count": 63,
   "id": "dominant-vaccine",
   "metadata": {
    "ExecuteTime": {
     "end_time": "2021-05-07T06:34:28.763383Z",
     "start_time": "2021-05-07T06:34:28.758480Z"
    }
   },
   "outputs": [
    {
     "data": {
      "text/plain": [
       "(0.6008593235527914, 4.10821793382307e-14)"
      ]
     },
     "execution_count": 63,
     "metadata": {},
     "output_type": "execute_result"
    }
   ],
   "source": [
    "pearsonr(result_df['MIC'].astype('float'), result_df['y_pred_mic'].astype('float'))"
   ]
  },
  {
   "cell_type": "markdown",
   "id": "affected-offset",
   "metadata": {},
   "source": [
    "### Train with MIC"
   ]
  },
  {
   "cell_type": "code",
   "execution_count": 64,
   "id": "italian-mystery",
   "metadata": {
    "ExecuteTime": {
     "end_time": "2021-05-07T06:34:59.497574Z",
     "start_time": "2021-05-07T06:34:59.492067Z"
    }
   },
   "outputs": [],
   "source": [
    "X_train, X_test, y_train, y_test = train_test_split(X, y, test_size=0.2, random_state=42)"
   ]
  },
  {
   "cell_type": "code",
   "execution_count": 65,
   "id": "expensive-spray",
   "metadata": {
    "ExecuteTime": {
     "end_time": "2021-05-07T06:35:01.188185Z",
     "start_time": "2021-05-07T06:35:01.185150Z"
    }
   },
   "outputs": [],
   "source": [
    "y_train_pmic, y_train_mic = y_train['pIC50'], y_train['MIC']\n",
    "y_test_pmic, y_test_mic = y_test['pIC50'], y_test['MIC']"
   ]
  },
  {
   "cell_type": "code",
   "execution_count": 66,
   "id": "thrown-migration",
   "metadata": {
    "ExecuteTime": {
     "end_time": "2021-05-07T06:35:01.688897Z",
     "start_time": "2021-05-07T06:35:01.685254Z"
    }
   },
   "outputs": [],
   "source": [
    "max_n_neighbors = int(np.sqrt(X_train.shape[0]))\n",
    "param_grid = {\n",
    "    'n_neighbors': range(1, max_n_neighbors),\n",
    "    'weights': ['uniform', 'distance'],\n",
    "    'metric': [\"euclidean\", \"manhattan\", \"chebyshev\"]\n",
    "}\n",
    "knn = KNeighborsRegressor()\n",
    "# Instantiate the grid search model\n",
    "grid_search = GridSearchCV(estimator = knn, param_grid = param_grid, \n",
    "                          cv = 5, n_jobs = -1, verbose = 2, scoring=mape_scorer)"
   ]
  },
  {
   "cell_type": "code",
   "execution_count": null,
   "id": "minute-drama",
   "metadata": {
    "ExecuteTime": {
     "end_time": "2021-05-06T07:24:49.370600Z",
     "start_time": "2021-05-06T07:24:48.821377Z"
    },
    "scrolled": false
   },
   "outputs": [],
   "source": [
    "grid_search.fit(X_train, y_train_mic)"
   ]
  },
  {
   "cell_type": "code",
   "execution_count": null,
   "id": "desperate-slovakia",
   "metadata": {
    "ExecuteTime": {
     "end_time": "2021-05-06T07:24:51.067729Z",
     "start_time": "2021-05-06T07:24:51.063965Z"
    }
   },
   "outputs": [],
   "source": [
    "grid_search.best_params_"
   ]
  },
  {
   "cell_type": "code",
   "execution_count": null,
   "id": "distributed-french",
   "metadata": {
    "ExecuteTime": {
     "end_time": "2021-05-06T07:24:53.076245Z",
     "start_time": "2021-05-06T07:24:53.073586Z"
    }
   },
   "outputs": [],
   "source": [
    "best_grid = grid_search.best_estimator_"
   ]
  },
  {
   "cell_type": "code",
   "execution_count": null,
   "id": "gentle-scottish",
   "metadata": {
    "ExecuteTime": {
     "end_time": "2021-05-06T07:26:17.682999Z",
     "start_time": "2021-05-06T07:26:17.676683Z"
    }
   },
   "outputs": [],
   "source": [
    "y_pred_mic = best_grid.predict(X_test)"
   ]
  },
  {
   "cell_type": "code",
   "execution_count": null,
   "id": "spread-nature",
   "metadata": {
    "ExecuteTime": {
     "end_time": "2021-05-06T07:26:19.630668Z",
     "start_time": "2021-05-06T07:26:19.626464Z"
    }
   },
   "outputs": [],
   "source": [
    "mean_absolute_percentage_error(y_test_mic, y_pred_mic)"
   ]
  },
  {
   "cell_type": "code",
   "execution_count": null,
   "id": "about-advice",
   "metadata": {
    "ExecuteTime": {
     "end_time": "2021-05-06T07:26:21.436421Z",
     "start_time": "2021-05-06T07:26:21.432392Z"
    }
   },
   "outputs": [],
   "source": [
    "len(y_test_mic), len(y_pred_mic)"
   ]
  },
  {
   "cell_type": "code",
   "execution_count": null,
   "id": "worse-patch",
   "metadata": {
    "ExecuteTime": {
     "end_time": "2021-05-06T07:26:22.602754Z",
     "start_time": "2021-05-06T07:26:22.598504Z"
    },
    "scrolled": true
   },
   "outputs": [],
   "source": [
    "pearson_score(y_test_mic, y_pred_mic)"
   ]
  },
  {
   "cell_type": "code",
   "execution_count": null,
   "id": "disturbed-perception",
   "metadata": {
    "ExecuteTime": {
     "end_time": "2021-05-06T07:26:46.046670Z",
     "start_time": "2021-05-06T07:26:46.043889Z"
    }
   },
   "outputs": [],
   "source": [
    "from sklearn.metrics import r2_score"
   ]
  },
  {
   "cell_type": "code",
   "execution_count": null,
   "id": "first-present",
   "metadata": {
    "ExecuteTime": {
     "end_time": "2021-05-06T07:27:00.841850Z",
     "start_time": "2021-05-06T07:27:00.837233Z"
    }
   },
   "outputs": [],
   "source": [
    "r2_score(y_test_mic, y_pred_mic)"
   ]
  },
  {
   "cell_type": "code",
   "execution_count": null,
   "id": "potential-bulgarian",
   "metadata": {
    "ExecuteTime": {
     "end_time": "2021-05-06T07:27:36.627990Z",
     "start_time": "2021-05-06T07:27:36.624176Z"
    }
   },
   "outputs": [],
   "source": [
    "ape_mic = 100*np.abs(y_test_mic-y_pred_mic)/y_test_mic"
   ]
  },
  {
   "cell_type": "code",
   "execution_count": null,
   "id": "outdoor-donor",
   "metadata": {
    "ExecuteTime": {
     "end_time": "2021-05-06T07:27:37.724893Z",
     "start_time": "2021-05-06T07:27:37.719170Z"
    }
   },
   "outputs": [],
   "source": [
    "list(zip(y_test_mic.round(4), y_pred_mic.round(4), ape_mic))"
   ]
  },
  {
   "cell_type": "code",
   "execution_count": null,
   "id": "responsible-payday",
   "metadata": {
    "ExecuteTime": {
     "end_time": "2021-05-06T07:27:48.423110Z",
     "start_time": "2021-05-06T07:27:47.201163Z"
    }
   },
   "outputs": [],
   "source": [
    "loo = LeaveOneOut()\n",
    "\n",
    "from tqdm import tqdm\n",
    "\n",
    "result_df = pd.DataFrame(columns = list(df_flaviviridae.columns)+[\"y_pred_pmic\", \"y_pred_mic\", \"ape_pmic\", \"ape_mic\"])\n",
    "for train_index, test_index in tqdm(loo.split(X)):\n",
    "    X_train, X_test = X.iloc[train_index,:], X.iloc[test_index,:]\n",
    "    y_train, y_test = y.iloc[train_index], y.iloc[test_index]\n",
    "    y_train_pmic, y_train_mic = y_train['pIC50'], y_train['MIC']\n",
    "    y_test_pmic, y_test_mic = y_test['pIC50'], y_test['MIC']\n",
    "    knn = KNeighborsRegressor(**grid_search.best_params_)\n",
    "    _ = knn.fit(X_train, y_train_pmic)\n",
    "    y_pred_pmic = knn.predict(X_test)\n",
    "    y_pred_mic = np.exp(-y_pred_pmic)/1e-6\n",
    "    ape = 100*np.abs(y_test_pmic-y_pred_pmic)/y_test_pmic\n",
    "    ape_mic = 100*np.abs(y_test_mic-y_pred_mic)/y_test_mic\n",
    "    df_val = df_flaviviridae.iloc[test_index,:].values[0].tolist()\n",
    "    res = np.append(df_val, [y_pred_pmic[0], y_pred_mic[0], ape.values[0], ape_mic.values[0]])\n",
    "    res = pd.DataFrame([res], columns = list(df_flaviviridae.columns)+[\"y_pred_pmic\", \"y_pred_mic\", \"ape_pmic\", \"ape_mic\"])\n",
    "    result_df = result_df.append(res)\n",
    "result_df = result_df[[\"Sequence\", \"pIC50\", \"y_pred_pmic\", \"ape_pmic\", \"MIC\", \"y_pred_mic\", \"ape_mic\"]]"
   ]
  },
  {
   "cell_type": "code",
   "execution_count": null,
   "id": "integral-square",
   "metadata": {
    "ExecuteTime": {
     "end_time": "2021-05-06T07:56:53.275601Z",
     "start_time": "2021-05-06T07:56:53.260946Z"
    }
   },
   "outputs": [],
   "source": [
    "result_df#.to_csv(\"../results/kNN_flaviviridae_dist_manhattan_k_2_weight_uniform.csv\", index=False)"
   ]
  },
  {
   "cell_type": "code",
   "execution_count": null,
   "id": "jewish-humor",
   "metadata": {
    "ExecuteTime": {
     "end_time": "2021-05-06T07:27:52.052361Z",
     "start_time": "2021-05-06T07:27:52.047614Z"
    }
   },
   "outputs": [],
   "source": [
    "result_df['ape_pmic'].astype('float').mean()"
   ]
  },
  {
   "cell_type": "code",
   "execution_count": null,
   "id": "brief-moldova",
   "metadata": {
    "ExecuteTime": {
     "end_time": "2021-05-06T07:27:52.998461Z",
     "start_time": "2021-05-06T07:27:52.993694Z"
    }
   },
   "outputs": [],
   "source": [
    "result_df['ape_mic'].astype('float').mean()"
   ]
  },
  {
   "cell_type": "code",
   "execution_count": null,
   "id": "detailed-marine",
   "metadata": {
    "ExecuteTime": {
     "end_time": "2021-05-06T07:27:53.903534Z",
     "start_time": "2021-05-06T07:27:53.898410Z"
    }
   },
   "outputs": [],
   "source": [
    "pearsonr(result_df['MIC'].astype('float'), result_df['y_pred_mic'].astype('float'))"
   ]
  },
  {
   "cell_type": "code",
   "execution_count": null,
   "id": "following-outline",
   "metadata": {
    "ExecuteTime": {
     "end_time": "2021-05-06T08:01:16.230768Z",
     "start_time": "2021-05-06T08:01:16.225505Z"
    }
   },
   "outputs": [],
   "source": [
    "r2_score(result_df['MIC'].astype('float'), result_df['y_pred_mic'].astype('float'))"
   ]
  },
  {
   "cell_type": "code",
   "execution_count": null,
   "id": "median-contractor",
   "metadata": {
    "ExecuteTime": {
     "end_time": "2021-05-06T07:29:05.539896Z",
     "start_time": "2021-05-06T07:29:04.241223Z"
    }
   },
   "outputs": [],
   "source": [
    "import seaborn as sns\n",
    "import matplotlib.pyplot as plt"
   ]
  },
  {
   "cell_type": "code",
   "execution_count": null,
   "id": "cleared-threshold",
   "metadata": {
    "ExecuteTime": {
     "end_time": "2021-05-06T07:31:04.332892Z",
     "start_time": "2021-05-06T07:31:04.083214Z"
    }
   },
   "outputs": [],
   "source": [
    "sns.relplot(x=result_df['pIC50'].astype('float'), y=result_df['y_pred_pmic'].astype('float'))"
   ]
  },
  {
   "cell_type": "code",
   "execution_count": null,
   "id": "according-incident",
   "metadata": {
    "ExecuteTime": {
     "end_time": "2021-05-06T07:32:19.233102Z",
     "start_time": "2021-05-06T07:32:18.984649Z"
    }
   },
   "outputs": [],
   "source": [
    "sns.relplot(x=result_df['y_pred_pmic'].astype('float'), y=result_df['pIC50'].astype('float')-result_df['y_pred_pmic'].astype('float'))"
   ]
  },
  {
   "cell_type": "code",
   "execution_count": null,
   "id": "ordinary-nursery",
   "metadata": {},
   "outputs": [],
   "source": []
  }
 ],
 "metadata": {
  "kernelspec": {
   "display_name": "Python 3",
   "language": "python",
   "name": "python3"
  },
  "language_info": {
   "codemirror_mode": {
    "name": "ipython",
    "version": 3
   },
   "file_extension": ".py",
   "mimetype": "text/x-python",
   "name": "python",
   "nbconvert_exporter": "python",
   "pygments_lexer": "ipython3",
   "version": "3.6.10"
  },
  "varInspector": {
   "cols": {
    "lenName": 16,
    "lenType": 16,
    "lenVar": 40
   },
   "kernels_config": {
    "python": {
     "delete_cmd_postfix": "",
     "delete_cmd_prefix": "del ",
     "library": "var_list.py",
     "varRefreshCmd": "print(var_dic_list())"
    },
    "r": {
     "delete_cmd_postfix": ") ",
     "delete_cmd_prefix": "rm(",
     "library": "var_list.r",
     "varRefreshCmd": "cat(var_dic_list()) "
    }
   },
   "types_to_exclude": [
    "module",
    "function",
    "builtin_function_or_method",
    "instance",
    "_Feature"
   ],
   "window_display": false
  }
 },
 "nbformat": 4,
 "nbformat_minor": 5
}
