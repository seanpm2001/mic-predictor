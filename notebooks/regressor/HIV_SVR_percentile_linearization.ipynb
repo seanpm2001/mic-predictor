{
 "cells": [
  {
   "cell_type": "code",
   "execution_count": 1,
   "id": "photographic-thesaurus",
   "metadata": {
    "scrolled": false
   },
   "outputs": [
    {
     "name": "stdout",
     "output_type": "stream",
     "text": [
      "/Users/in-divye.singh/Documents/Projects/MIC_predictor/src\n"
     ]
    }
   ],
   "source": [
    "cd ../../src"
   ]
  },
  {
   "cell_type": "code",
   "execution_count": 2,
   "id": "approximate-graph",
   "metadata": {},
   "outputs": [],
   "source": [
    "import biovec\n",
    "import numpy as np\n",
    "import pandas as pd\n",
    "from itertools import chain, combinations\n",
    "from collections import Counter\n",
    "\n",
    "from utils import *\n",
    "\n",
    "from sklearn.svm import SVR\n",
    "from sklearn.neighbors import KNeighborsRegressor\n",
    "from sklearn.metrics import make_scorer\n",
    "from sklearn.model_selection import GridSearchCV\n",
    "from sklearn.metrics import mean_squared_error, mean_absolute_error\n",
    "from sklearn.model_selection import train_test_split\n",
    "\n",
    "from Bio.SeqUtils.ProtParam import ProteinAnalysis"
   ]
  },
  {
   "cell_type": "code",
   "execution_count": 3,
   "id": "elementary-julian",
   "metadata": {},
   "outputs": [],
   "source": [
    "import seaborn as sns"
   ]
  },
  {
   "cell_type": "code",
   "execution_count": 4,
   "id": "superior-organizer",
   "metadata": {},
   "outputs": [],
   "source": [
    "def mean_absolute_percentage_error(y_true, y_pred): \n",
    "    y_true, y_pred = np.array(y_true), np.array(y_pred)\n",
    "    return np.mean(np.abs((y_true - y_pred) / y_true)) * 100\n",
    "\n",
    "mape_scorer = make_scorer(mean_absolute_percentage_error, greater_is_better=False)"
   ]
  },
  {
   "cell_type": "code",
   "execution_count": 5,
   "id": "offshore-seating",
   "metadata": {},
   "outputs": [],
   "source": [
    "df = pd.read_csv(\"../data/raw/hiv_cdhit_filtered.csv\")"
   ]
  },
  {
   "cell_type": "code",
   "execution_count": 6,
   "id": "confidential-antenna",
   "metadata": {},
   "outputs": [
    {
     "data": {
      "text/html": [
       "<div>\n",
       "<style scoped>\n",
       "    .dataframe tbody tr th:only-of-type {\n",
       "        vertical-align: middle;\n",
       "    }\n",
       "\n",
       "    .dataframe tbody tr th {\n",
       "        vertical-align: top;\n",
       "    }\n",
       "\n",
       "    .dataframe thead th {\n",
       "        text-align: right;\n",
       "    }\n",
       "</style>\n",
       "<table border=\"1\" class=\"dataframe\">\n",
       "  <thead>\n",
       "    <tr style=\"text-align: right;\">\n",
       "      <th></th>\n",
       "      <th>Sequence</th>\n",
       "      <th>MIC</th>\n",
       "      <th>pIC50</th>\n",
       "    </tr>\n",
       "  </thead>\n",
       "  <tbody>\n",
       "    <tr>\n",
       "      <th>0</th>\n",
       "      <td>ACWAAGIKQEF</td>\n",
       "      <td>333.000</td>\n",
       "      <td>8.007368</td>\n",
       "    </tr>\n",
       "    <tr>\n",
       "      <th>1</th>\n",
       "      <td>ACWGAGIKQEF</td>\n",
       "      <td>333.000</td>\n",
       "      <td>8.007368</td>\n",
       "    </tr>\n",
       "    <tr>\n",
       "      <th>2</th>\n",
       "      <td>ACWWAGIKAEF</td>\n",
       "      <td>333.000</td>\n",
       "      <td>8.007368</td>\n",
       "    </tr>\n",
       "    <tr>\n",
       "      <th>3</th>\n",
       "      <td>ACWWAGIKQAF</td>\n",
       "      <td>333.000</td>\n",
       "      <td>8.007368</td>\n",
       "    </tr>\n",
       "    <tr>\n",
       "      <th>4</th>\n",
       "      <td>ACWWAGIRQEF</td>\n",
       "      <td>333.000</td>\n",
       "      <td>8.007368</td>\n",
       "    </tr>\n",
       "    <tr>\n",
       "      <th>...</th>\n",
       "      <td>...</td>\n",
       "      <td>...</td>\n",
       "      <td>...</td>\n",
       "    </tr>\n",
       "    <tr>\n",
       "      <th>148</th>\n",
       "      <td>VWGIKQLQARILAVERYLKDQQLLGIWG</td>\n",
       "      <td>0.020</td>\n",
       "      <td>17.727534</td>\n",
       "    </tr>\n",
       "    <tr>\n",
       "      <th>149</th>\n",
       "      <td>MTWMEWDREINNYTSLIHSLIEESQNQQEKNEQELLEL</td>\n",
       "      <td>0.008</td>\n",
       "      <td>18.643824</td>\n",
       "    </tr>\n",
       "    <tr>\n",
       "      <th>150</th>\n",
       "      <td>MTWEAWDRAIAEYAARIEALIRAAQEQQEKNEAALREL</td>\n",
       "      <td>0.007</td>\n",
       "      <td>18.777356</td>\n",
       "    </tr>\n",
       "    <tr>\n",
       "      <th>151</th>\n",
       "      <td>TTWEEWDREINEYTSRIESLIRESQEQQEKNEQELREL</td>\n",
       "      <td>0.005</td>\n",
       "      <td>19.113828</td>\n",
       "    </tr>\n",
       "    <tr>\n",
       "      <th>152</th>\n",
       "      <td>WEEWDKKIEEYTKKIEELIKKSEEQQKN</td>\n",
       "      <td>0.002</td>\n",
       "      <td>20.030119</td>\n",
       "    </tr>\n",
       "  </tbody>\n",
       "</table>\n",
       "<p>153 rows × 3 columns</p>\n",
       "</div>"
      ],
      "text/plain": [
       "                                   Sequence      MIC      pIC50\n",
       "0                               ACWAAGIKQEF  333.000   8.007368\n",
       "1                               ACWGAGIKQEF  333.000   8.007368\n",
       "2                               ACWWAGIKAEF  333.000   8.007368\n",
       "3                               ACWWAGIKQAF  333.000   8.007368\n",
       "4                               ACWWAGIRQEF  333.000   8.007368\n",
       "..                                      ...      ...        ...\n",
       "148            VWGIKQLQARILAVERYLKDQQLLGIWG    0.020  17.727534\n",
       "149  MTWMEWDREINNYTSLIHSLIEESQNQQEKNEQELLEL    0.008  18.643824\n",
       "150  MTWEAWDRAIAEYAARIEALIRAAQEQQEKNEAALREL    0.007  18.777356\n",
       "151  TTWEEWDREINEYTSRIESLIRESQEQQEKNEQELREL    0.005  19.113828\n",
       "152            WEEWDKKIEEYTKKIEELIKKSEEQQKN    0.002  20.030119\n",
       "\n",
       "[153 rows x 3 columns]"
      ]
     },
     "execution_count": 6,
     "metadata": {},
     "output_type": "execute_result"
    }
   ],
   "source": [
    "df"
   ]
  },
  {
   "cell_type": "code",
   "execution_count": 54,
   "id": "worst-scroll",
   "metadata": {},
   "outputs": [],
   "source": [
    "size = len(df['MIC'])-1\n",
    "df['PL'] = df['MIC'].rank(method='min').apply(lambda x: (x)/size)"
   ]
  },
  {
   "cell_type": "code",
   "execution_count": 55,
   "id": "heavy-kitty",
   "metadata": {},
   "outputs": [
    {
     "data": {
      "text/plain": [
       "<matplotlib.axes._subplots.AxesSubplot at 0x103694630>"
      ]
     },
     "execution_count": 55,
     "metadata": {},
     "output_type": "execute_result"
    },
    {
     "data": {
      "image/png": "[encoded data removed]",
      "text/plain": [
       "<Figure size 432x288 with 1 Axes>"
      ]
     },
     "metadata": {
      "needs_background": "light"
     },
     "output_type": "display_data"
    }
   ],
   "source": [
    "df['PL'].hist()"
   ]
  },
  {
   "cell_type": "code",
   "execution_count": 20,
   "id": "olympic-blogger",
   "metadata": {},
   "outputs": [],
   "source": [
    "def get_physicochemical_properties(df):\n",
    "    params = ['aromaticity', 'helix', 'turn', 'sheet', 'gravy', 'net_charge_at_pH7point4']\n",
    "\n",
    "    prop = []\n",
    "    for seq in df.Sequence:\n",
    "        X = ProteinAnalysis(seq)\n",
    "        aromaticity = X.aromaticity()\n",
    "        sec_struc = X.secondary_structure_fraction()\n",
    "        helix = sec_struc[0]\n",
    "        turn = sec_struc[1]\n",
    "        sheet = sec_struc[2]\n",
    "        gravy = X.gravy() # hydrophobicity related\n",
    "        net_charge_at_pH7point4 = X.charge_at_pH(7.4)\n",
    "\n",
    "        prop.append([aromaticity, helix, turn, sheet, gravy, net_charge_at_pH7point4])\n",
    "    return pd.DataFrame(prop, columns=params)"
   ]
  },
  {
   "cell_type": "code",
   "execution_count": 21,
   "id": "tutorial-habitat",
   "metadata": {},
   "outputs": [],
   "source": [
    "aa_freq = reduce_by_kmer_frequency(df)"
   ]
  },
  {
   "cell_type": "code",
   "execution_count": 22,
   "id": "contrary-wagner",
   "metadata": {},
   "outputs": [
    {
     "name": "stderr",
     "output_type": "stream",
     "text": [
      "/Users/in-divye.singh/anaconda3/envs/life-science/lib/python3.6/site-packages/smart_open/smart_open_lib.py:254: UserWarning: This function is deprecated, use smart_open.open instead. See the migration notes for details: https://github.com/RaRe-Technologies/smart_open/blob/master/README.rst#migrating-to-the-new-open-function\n",
      "  'See the migration notes for details: %s' % _MIGRATION_NOTES_URL\n",
      "Creating vectors: 100%|██████████| 153/153 [00:00<00:00, 1163.45sequence/s]\n"
     ]
    }
   ],
   "source": [
    "uniprot_embedding = biovec.models.load_protvec(\"../data/embeddings/uniprot__kmer_3_contextWindow_10_vector_100_reduction_None\")\n",
    "\n",
    "avg_protvec = convert_sequences_to_avg_vectors(df['Sequence'], uniprot_embedding, kmer=3)\n",
    "avg_protvec = avg_protvec.reset_index(drop=True)"
   ]
  },
  {
   "cell_type": "code",
   "execution_count": 23,
   "id": "classical-omega",
   "metadata": {},
   "outputs": [],
   "source": [
    "physicochemical_prop = get_physicochemical_properties(df)"
   ]
  },
  {
   "cell_type": "code",
   "execution_count": 24,
   "id": "marked-relaxation",
   "metadata": {},
   "outputs": [],
   "source": [
    "X = pd.concat([aa_freq, avg_protvec, physicochemical_prop[['helix','turn','sheet']]], axis=1)"
   ]
  },
  {
   "cell_type": "code",
   "execution_count": 56,
   "id": "subsequent-estonia",
   "metadata": {},
   "outputs": [],
   "source": [
    "y = df[['PL', 'MIC']]"
   ]
  },
  {
   "cell_type": "code",
   "execution_count": 57,
   "id": "reliable-spencer",
   "metadata": {},
   "outputs": [],
   "source": [
    "X_train, X_test, y_train, y_test = train_test_split(X, y, test_size=0.2, random_state=42)"
   ]
  },
  {
   "cell_type": "code",
   "execution_count": 58,
   "id": "lesser-cedar",
   "metadata": {},
   "outputs": [],
   "source": [
    "y_train_pl, y_train_mic = y_train['PL'], y_train['MIC']\n",
    "y_test_pl, y_test_mic = y_test['PL'], y_test['MIC']"
   ]
  },
  {
   "cell_type": "code",
   "execution_count": 59,
   "id": "plain-access",
   "metadata": {},
   "outputs": [],
   "source": [
    "from sklearn.model_selection import cross_val_score, GridSearchCV, LeaveOneOut"
   ]
  },
  {
   "cell_type": "code",
   "execution_count": 60,
   "id": "destroyed-pollution",
   "metadata": {},
   "outputs": [],
   "source": [
    "def multi_objective_score(y_true, y_pred):\n",
    "    mape = mean_absolute_percentage_error(y_true, y_pred)\n",
    "    std_diff = abs(np.std(y_pred) - np.std(y_true))\n",
    "    return mape + 10*std_diff\n",
    "multi_objective_scorer = make_scorer(multi_objective_score, greater_is_better=False)"
   ]
  },
  {
   "cell_type": "code",
   "execution_count": 61,
   "id": "congressional-farmer",
   "metadata": {},
   "outputs": [],
   "source": [
    "param_grid = {\n",
    "    'C':[0.001,0.01,0.1,1,10,100,1000],\n",
    "    'kernel':['rbf','poly','sigmoid','linear'],\n",
    "    'degree':[1,2,3,4,5,6],\n",
    "    'gamma': np.arange(0.1,1.0,0.1).round(1).tolist() + np.arange(1,11,1).round().tolist()\n",
    "}\n",
    "svr = SVR()\n",
    "# Instantiate the grid search model\n",
    "grid_search = GridSearchCV(estimator = svr, param_grid = param_grid, \n",
    "                          cv = 5, n_jobs = -1, verbose = 2, scoring=multi_objective_scorer)"
   ]
  },
  {
   "cell_type": "code",
   "execution_count": 62,
   "id": "municipal-vietnamese",
   "metadata": {
    "scrolled": false
   },
   "outputs": [
    {
     "name": "stdout",
     "output_type": "stream",
     "text": [
      "Fitting 5 folds for each of 3192 candidates, totalling 15960 fits\n"
     ]
    },
    {
     "name": "stderr",
     "output_type": "stream",
     "text": [
      "[Parallel(n_jobs=-1)]: Using backend LokyBackend with 12 concurrent workers.\n",
      "[Parallel(n_jobs=-1)]: Done  18 tasks      | elapsed:    0.5s\n",
      "[Parallel(n_jobs=-1)]: Done 344 tasks      | elapsed:    2.4s\n",
      "[Parallel(n_jobs=-1)]: Done 3456 tasks      | elapsed:    6.1s\n",
      "[Parallel(n_jobs=-1)]: Done 7984 tasks      | elapsed:   13.4s\n",
      "[Parallel(n_jobs=-1)]: Done 13824 tasks      | elapsed:   22.0s\n",
      "[Parallel(n_jobs=-1)]: Done 15960 out of 15960 | elapsed:   26.4s finished\n"
     ]
    },
    {
     "data": {
      "text/plain": [
       "GridSearchCV(cv=5, estimator=SVR(), n_jobs=-1,\n",
       "             param_grid={'C': [0.001, 0.01, 0.1, 1, 10, 100, 1000],\n",
       "                         'degree': [1, 2, 3, 4, 5, 6],\n",
       "                         'gamma': [0.1, 0.2, 0.3, 0.4, 0.5, 0.6, 0.7, 0.8, 0.9,\n",
       "                                   1, 2, 3, 4, 5, 6, 7, 8, 9, 10],\n",
       "                         'kernel': ['rbf', 'poly', 'sigmoid', 'linear']},\n",
       "             scoring=make_scorer(multi_objective_score, greater_is_better=False),\n",
       "             verbose=2)"
      ]
     },
     "execution_count": 62,
     "metadata": {},
     "output_type": "execute_result"
    }
   ],
   "source": [
    "grid_search.fit(X_train, y_train_pl)"
   ]
  },
  {
   "cell_type": "code",
   "execution_count": 63,
   "id": "removable-offense",
   "metadata": {},
   "outputs": [
    {
     "data": {
      "text/plain": [
       "{'C': 10, 'degree': 1, 'gamma': 3, 'kernel': 'poly'}"
      ]
     },
     "execution_count": 63,
     "metadata": {},
     "output_type": "execute_result"
    }
   ],
   "source": [
    "grid_search.best_params_"
   ]
  },
  {
   "cell_type": "code",
   "execution_count": 64,
   "id": "through-animal",
   "metadata": {},
   "outputs": [],
   "source": [
    "best_grid = grid_search.best_estimator_"
   ]
  },
  {
   "cell_type": "code",
   "execution_count": 65,
   "id": "rising-color",
   "metadata": {},
   "outputs": [],
   "source": [
    "y_pred_pl = best_grid.predict(X_test)"
   ]
  },
  {
   "cell_type": "code",
   "execution_count": 66,
   "id": "attached-feelings",
   "metadata": {},
   "outputs": [],
   "source": [
    "import matplotlib.pyplot as plt"
   ]
  },
  {
   "cell_type": "code",
   "execution_count": 67,
   "id": "continued-diversity",
   "metadata": {},
   "outputs": [
    {
     "data": {
      "text/plain": [
       "(array([3., 0., 0., 3., 3., 6., 6., 3., 4., 3.]),\n",
       " array([-0.07298743,  0.0258332 ,  0.12465384,  0.22347447,  0.3222951 ,\n",
       "         0.42111573,  0.51993636,  0.618757  ,  0.71757763,  0.81639826,\n",
       "         0.91521889]),\n",
       " <a list of 10 Patch objects>)"
      ]
     },
     "execution_count": 67,
     "metadata": {},
     "output_type": "execute_result"
    },
    {
     "data": {
      "image/png": "[encoded data removed]",
      "text/plain": [
       "<Figure size 432x288 with 1 Axes>"
      ]
     },
     "metadata": {
      "needs_background": "light"
     },
     "output_type": "display_data"
    }
   ],
   "source": [
    "plt.hist(y_pred_pl)"
   ]
  },
  {
   "cell_type": "code",
   "execution_count": 68,
   "id": "prerequisite-wound",
   "metadata": {},
   "outputs": [
    {
     "data": {
      "text/plain": [
       "56.78731892078916"
      ]
     },
     "execution_count": 68,
     "metadata": {},
     "output_type": "execute_result"
    }
   ],
   "source": [
    "mean_absolute_percentage_error(y_test_pl, y_pred_pl)"
   ]
  },
  {
   "cell_type": "code",
   "execution_count": 69,
   "id": "nominated-lighter",
   "metadata": {},
   "outputs": [
    {
     "data": {
      "text/plain": [
       "(0.26011179287716174, 0.2502956794128449)"
      ]
     },
     "execution_count": 69,
     "metadata": {},
     "output_type": "execute_result"
    }
   ],
   "source": [
    "np.std(y_test_pl), np.std(y_pred_pl)"
   ]
  },
  {
   "cell_type": "code",
   "execution_count": 74,
   "id": "mobile-haiti",
   "metadata": {},
   "outputs": [
    {
     "data": {
      "text/plain": [
       "-0.009816113464316822"
      ]
     },
     "execution_count": 74,
     "metadata": {},
     "output_type": "execute_result"
    }
   ],
   "source": [
    "np.std(y_pred_pl) - np.std(y_test_pl)"
   ]
  },
  {
   "cell_type": "code",
   "execution_count": 75,
   "id": "duplicate-north",
   "metadata": {},
   "outputs": [
    {
     "name": "stdout",
     "output_type": "stream",
     "text": [
      "56.78731892078916 0.009816113464316822\n"
     ]
    },
    {
     "data": {
      "text/plain": [
       "56.88548005543233"
      ]
     },
     "execution_count": 75,
     "metadata": {},
     "output_type": "execute_result"
    }
   ],
   "source": [
    "multi_objective_score(y_test_pl,y_pred_pl)"
   ]
  },
  {
   "cell_type": "code",
   "execution_count": 78,
   "id": "medium-martial",
   "metadata": {},
   "outputs": [
    {
     "data": {
      "text/plain": [
       "0.2574845234679085"
      ]
     },
     "execution_count": 78,
     "metadata": {},
     "output_type": "execute_result"
    }
   ],
   "source": [
    "mean_squared_error(y_test_pl,y_pred_pl)**0.5"
   ]
  },
  {
   "cell_type": "code",
   "execution_count": null,
   "id": "proprietary-banana",
   "metadata": {},
   "outputs": [],
   "source": []
  },
  {
   "cell_type": "code",
   "execution_count": 110,
   "id": "alpine-precipitation",
   "metadata": {},
   "outputs": [],
   "source": [
    "svr_params = {'C': 10, 'degree': 1, 'gamma': 3, 'kernel': 'poly'}"
   ]
  },
  {
   "cell_type": "code",
   "execution_count": 109,
   "id": "circular-bargain",
   "metadata": {},
   "outputs": [
    {
     "data": {
      "text/plain": [
       "SVR(C=10, degree=1, gamma=3, kernel='poly')"
      ]
     },
     "execution_count": 109,
     "metadata": {},
     "output_type": "execute_result"
    }
   ],
   "source": [
    "svr"
   ]
  },
  {
   "cell_type": "code",
   "execution_count": null,
   "id": "comfortable-emperor",
   "metadata": {},
   "outputs": [],
   "source": []
  },
  {
   "cell_type": "code",
   "execution_count": 111,
   "id": "concerned-newspaper",
   "metadata": {},
   "outputs": [
    {
     "name": "stdout",
     "output_type": "stream",
     "text": [
      "[ -70.49703798 -130.20452854  -74.78652528 -103.82955223 -214.78424411] -118.82037762969144\n",
      "0.26011179287716174 0.2502956794128449\n"
     ]
    }
   ],
   "source": [
    "svr = SVR(**svr_params)\n",
    "cv_score = cross_val_score(svr, X_train, y_train_pl, cv=5, scoring=mape_scorer)\n",
    "cv_mean = cv_score.mean()\n",
    "print(cv_score, cv_mean)\n",
    "\n",
    "_ = svr.fit(X_train, y_train_pl)\n",
    "y_pred = svr.predict(X_test)\n",
    "\n",
    "print(np.std(y_test_pl), np.std(y_pred))"
   ]
  },
  {
   "cell_type": "code",
   "execution_count": 117,
   "id": "hourly-laser",
   "metadata": {},
   "outputs": [],
   "source": [
    "ape = 100*np.abs(y_test_pl-y_pred)/y_test_pl"
   ]
  },
  {
   "cell_type": "code",
   "execution_count": 118,
   "id": "impressed-centre",
   "metadata": {},
   "outputs": [
    {
     "data": {
      "text/plain": [
       "[(0.4474, 0.5336, 19.28546063992517),\n",
       " (0.4408, 0.5303, 20.31605871911903),\n",
       " (0.3618, 0.5089, 40.634305906403306),\n",
       " (0.25, -0.073, 129.19497117959176),\n",
       " (0.7895, 0.5219, 33.89140167638921),\n",
       " (0.2566, 0.3542, 38.05182227378668),\n",
       " (0.4934, 0.6437, 30.46544400328362),\n",
       " (0.4737, 0.7343, 55.0110457117261),\n",
       " (0.8882, 0.6524, 26.548764837166374),\n",
       " (0.9079, 0.9152, 0.8067185984855607),\n",
       " (0.8816, 0.8089, 8.244805832801724),\n",
       " (0.9145, 0.875, 4.312108484411068),\n",
       " (0.9474, 0.5901, 37.70848168319126),\n",
       " (0.7303, -0.0638, 108.73207033601935),\n",
       " (0.6645, 0.4695, 29.34209599461368),\n",
       " (0.5526, 0.4681, 15.290035521133388),\n",
       " (0.2895, 0.301, 3.9950629224825103),\n",
       " (0.1118, 0.2969, 165.44322007809717),\n",
       " (0.5789, 0.5909, 2.06149538748351),\n",
       " (0.375, 0.4841, 29.100215720704714),\n",
       " (0.5132, 0.6438, 25.459444815774667),\n",
       " (0.1908, -0.0471, 124.69408684450003),\n",
       " (0.7895, 0.753, 4.616652133464091),\n",
       " (0.5724, 0.353, 38.33466860677208),\n",
       " (0.6447, 0.8604, 33.44424513600318),\n",
       " (0.7895, 0.5078, 35.68469647893875),\n",
       " (0.8355, 0.5535, 33.75998521946062),\n",
       " (0.1447, 0.7371, 409.26476098423376),\n",
       " (0.1184, 0.378, 219.1873911133727),\n",
       " (0.7697, 0.4812, 37.47927860350623),\n",
       " (0.2632, 0.2633, 0.0460911016233545)]"
      ]
     },
     "execution_count": 118,
     "metadata": {},
     "output_type": "execute_result"
    }
   ],
   "source": [
    "list(zip(y_test_pl.round(4), y_pred.round(4), ape))"
   ]
  },
  {
   "cell_type": "code",
   "execution_count": null,
   "id": "spoken-operator",
   "metadata": {},
   "outputs": [],
   "source": []
  },
  {
   "cell_type": "code",
   "execution_count": null,
   "id": "suitable-juice",
   "metadata": {},
   "outputs": [],
   "source": []
  },
  {
   "cell_type": "code",
   "execution_count": null,
   "id": "sunset-cheese",
   "metadata": {},
   "outputs": [],
   "source": []
  },
  {
   "cell_type": "raw",
   "id": "accepted-score",
   "metadata": {},
   "source": [
    "param_grid = {\n",
    "    'C':[0.001,0.01,0.1,1,10,100,1000],\n",
    "    'kernel':['rbf','poly','sigmoid','linear'],\n",
    "    'degree':[1,2,3,4,5,6],\n",
    "    'gamma': np.arange(0.1,1.0,0.1).round(1).tolist() + np.arange(1,11,1).round().tolist()\n",
    "}\n",
    "svr2 = SVR()\n",
    "# Instantiate the grid search model\n",
    "grid_search = GridSearchCV(estimator = svr2, param_grid = param_grid, \n",
    "                          cv = 5, n_jobs = -1, verbose = 2)"
   ]
  },
  {
   "cell_type": "raw",
   "id": "working-convert",
   "metadata": {
    "scrolled": false
   },
   "source": [
    "grid_search.fit(y_train_pl.values.reshape(122, -1), y_train_mic)"
   ]
  },
  {
   "cell_type": "code",
   "execution_count": 108,
   "id": "minute-jamaica",
   "metadata": {},
   "outputs": [],
   "source": [
    "svr_pl_mic_params = {'C': 1000, 'degree': 1, 'gamma': 10, 'kernel': 'rbf'}\n",
    "svr_pl_mic = SVR(**svr_pl_mic_params)"
   ]
  },
  {
   "cell_type": "code",
   "execution_count": 115,
   "id": "banner-solomon",
   "metadata": {},
   "outputs": [
    {
     "data": {
      "text/plain": [
       "SVR(C=1000, degree=1, gamma=10)"
      ]
     },
     "execution_count": 115,
     "metadata": {},
     "output_type": "execute_result"
    }
   ],
   "source": [
    "svr_pl_mic.fit(y_train_pl.values.reshape(122, -1), y_train_mic)"
   ]
  },
  {
   "cell_type": "code",
   "execution_count": 125,
   "id": "robust-worthy",
   "metadata": {},
   "outputs": [],
   "source": [
    "y_pred_mic = svr_pl_mic.predict(y_pred.reshape(y_pred.shape[0], -1))"
   ]
  },
  {
   "cell_type": "code",
   "execution_count": 83,
   "id": "productive-rider",
   "metadata": {},
   "outputs": [
    {
     "data": {
      "text/plain": [
       "84      11.000\n",
       "86      10.810\n",
       "97       6.000\n",
       "115      2.000\n",
       "29     100.000\n",
       "114      2.020\n",
       "78      12.720\n",
       "81      11.400\n",
       "18     142.000\n",
       "15     187.000\n",
       "19     136.000\n",
       "12     200.000\n",
       "9      250.000\n",
       "42      54.400\n",
       "51      40.000\n",
       "69      23.460\n",
       "109      3.050\n",
       "136      0.253\n",
       "65      29.500\n",
       "96       6.900\n",
       "75      16.000\n",
       "123      1.000\n",
       "31     100.000\n",
       "66      28.600\n",
       "55      35.200\n",
       "30     100.000\n",
       "26     110.000\n",
       "131      0.580\n",
       "135      0.263\n",
       "36      67.600\n",
       "113      2.100\n",
       "Name: MIC, dtype: float64"
      ]
     },
     "execution_count": 83,
     "metadata": {},
     "output_type": "execute_result"
    }
   ],
   "source": [
    "y_test_mic"
   ]
  },
  {
   "cell_type": "code",
   "execution_count": 126,
   "id": "formal-wheat",
   "metadata": {},
   "outputs": [
    {
     "data": {
      "text/plain": [
       "[(0.4473684210526316, 0.5336454818101916, 11.0, 19.79988294528067),\n",
       " (0.4407894736842105, 0.5303405219855905, 10.81, 19.337369854099165),\n",
       " (0.3618421052631579, 0.5088741332139594, 6.0, 16.52927464754424),\n",
       " (0.25, -0.07298742794897939, 2.0, 5.014844653892027),\n",
       " (0.7894736842105263, 0.5219099867653484, 100.0, 18.19268018942529),\n",
       " (0.2565789473684211, 0.3542119124130053, 2.02, 5.657180182411764),\n",
       " (0.4934210526315789, 0.6437439671214652, 12.72, 37.18738551223987),\n",
       " (0.47368421052631576, 0.7342628481081762, 11.4, 54.35889165817218),\n",
       " (0.8881578947368421, 0.6523629438804303, 142.0, 38.55302117581044),\n",
       " (0.9078947368421053, 0.9152188925388821, 187.0, 234.3047680073953),\n",
       " (0.881578947368421, 0.8088944748950374, 136.0, 90.38401921201275),\n",
       " (0.9144736842105263, 0.8750405868859777, 200.0, 164.38559151172677),\n",
       " (0.9473684210526315, 0.5901301735276617, 250.0, 28.542780358183563),\n",
       " (0.7302631578947368, -0.06376709258540447, 54.4, 3.955009355987329),\n",
       " (0.6644736842105263, 0.46950317793052754, 40.0, 12.355216768820753),\n",
       " (0.5526315789473685, 0.46813401422531553, 23.46, 12.233007799785298),\n",
       " (0.2894736842105263, 0.3010383400387652, 3.05, 3.6233849039492156),\n",
       " (0.1118421052631579, 0.29687728561366133, 0.253, 3.476433621849708),\n",
       " (0.5789473684210527, 0.5908823417170098, 29.5, 28.665160852564497),\n",
       " (0.375, 0.4841258089526427, 6.9, 13.7548164079721),\n",
       " (0.5131578947368421, 0.6438050457651595, 16.0, 37.197068088389074),\n",
       " (0.19078947368421054, -0.04711371832174349, 1.0, 2.4289715334517155),\n",
       " (0.7894736842105263, 0.7530264305252835, 100.0, 60.25672081865886),\n",
       " (0.5723684210526315, 0.3529528836322914, 28.6, 5.605954212569657),\n",
       " (0.6447368421052632, 0.8603642120610732, 35.2, 143.61907281009312),\n",
       " (0.7894736842105263, 0.5077523962189047, 100.0, 16.39248638884959),\n",
       " (0.8355263157894737, 0.5534527550742435, 110.0, 22.71443078629642),\n",
       " (0.14473684210526316, 0.7370937330034962, 0.58, 55.15539295756906),\n",
       " (0.11842105263157894, 0.3779850684237308, 0.263, 6.663726008117749),\n",
       " (0.7697368421052632, 0.48124502653880075, 67.6, 13.465197958678289),\n",
       " (0.2631578947368421, 0.26327918710953513, 2.1, 2.3895533564735274)]"
      ]
     },
     "execution_count": 126,
     "metadata": {},
     "output_type": "execute_result"
    }
   ],
   "source": [
    "list(zip(y_test_pl, y_pred, y_test_mic, y_pred_mic))"
   ]
  },
  {
   "cell_type": "code",
   "execution_count": null,
   "id": "endless-medicaid",
   "metadata": {},
   "outputs": [],
   "source": []
  },
  {
   "cell_type": "code",
   "execution_count": null,
   "id": "known-subdivision",
   "metadata": {},
   "outputs": [],
   "source": []
  },
  {
   "cell_type": "code",
   "execution_count": null,
   "id": "satisfied-exercise",
   "metadata": {},
   "outputs": [],
   "source": []
  },
  {
   "cell_type": "code",
   "execution_count": null,
   "id": "declared-episode",
   "metadata": {},
   "outputs": [],
   "source": []
  },
  {
   "cell_type": "code",
   "execution_count": null,
   "id": "controlled-texture",
   "metadata": {},
   "outputs": [],
   "source": []
  },
  {
   "cell_type": "code",
   "execution_count": null,
   "id": "armed-extraction",
   "metadata": {},
   "outputs": [],
   "source": []
  },
  {
   "cell_type": "code",
   "execution_count": 128,
   "id": "cosmetic-midwest",
   "metadata": {},
   "outputs": [
    {
     "name": "stderr",
     "output_type": "stream",
     "text": [
      "153it [00:01, 110.82it/s]\n"
     ]
    }
   ],
   "source": [
    "loo = LeaveOneOut()\n",
    "\n",
    "from tqdm import tqdm\n",
    "\n",
    "result_df = pd.DataFrame(columns = list(df_hiv_cdhit_filtered.columns)+[\"y_pred_pmic\", \"y_pred_mic\", \"ape_pmic\", \"ape_mic\"])\n",
    "for train_index, test_index in tqdm(loo.split(X)):\n",
    "    X_train, X_test = X.iloc[train_index,:], X.iloc[test_index,:]\n",
    "    y_train, y_test = y.iloc[train_index], y.iloc[test_index]\n",
    "    y_train_pmic, y_train_mic = y_train['pIC50'], y_train['MIC']\n",
    "    y_test_pmic, y_test_mic = y_test['pIC50'], y_test['MIC']\n",
    "    knn = KNeighborsRegressor(**grid_search.best_params_)\n",
    "    _ = knn.fit(X_train, y_train_pmic)\n",
    "    y_pred_pmic = knn.predict(X_test)\n",
    "    y_pred_mic = np.exp(-y_pred_pmic)/1e-6\n",
    "    ape = 100*np.abs(y_test_pmic-y_pred_pmic)/y_test_pmic\n",
    "    ape_mic = 100*np.abs(y_test_mic-y_pred_mic)/y_test_mic\n",
    "    df_val = df_hiv_cdhit_filtered.iloc[test_index,:].values[0].tolist()\n",
    "    res = np.append(df_val, [y_pred_pmic[0], y_pred_mic[0], ape.values[0], ape_mic.values[0]])\n",
    "    res = pd.DataFrame([res], columns = list(df_hiv_cdhit_filtered.columns)+[\"y_pred_pmic\", \"y_pred_mic\", \"ape_pmic\", \"ape_mic\"])\n",
    "    result_df = result_df.append(res)\n",
    "result_df = result_df[[\"Sequence\", \"pIC50\", \"y_pred_pmic\", \"ape_pmic\", \"MIC\", \"y_pred_mic\", \"ape_mic\"]]"
   ]
  },
  {
   "cell_type": "code",
   "execution_count": 129,
   "id": "unauthorized-friendly",
   "metadata": {},
   "outputs": [
    {
     "data": {
      "text/html": [
       "<div>\n",
       "<style scoped>\n",
       "    .dataframe tbody tr th:only-of-type {\n",
       "        vertical-align: middle;\n",
       "    }\n",
       "\n",
       "    .dataframe tbody tr th {\n",
       "        vertical-align: top;\n",
       "    }\n",
       "\n",
       "    .dataframe thead th {\n",
       "        text-align: right;\n",
       "    }\n",
       "</style>\n",
       "<table border=\"1\" class=\"dataframe\">\n",
       "  <thead>\n",
       "    <tr style=\"text-align: right;\">\n",
       "      <th></th>\n",
       "      <th>Sequence</th>\n",
       "      <th>pIC50</th>\n",
       "      <th>y_pred_pmic</th>\n",
       "      <th>ape_pmic</th>\n",
       "      <th>MIC</th>\n",
       "      <th>y_pred_mic</th>\n",
       "      <th>ape_mic</th>\n",
       "    </tr>\n",
       "  </thead>\n",
       "  <tbody>\n",
       "    <tr>\n",
       "      <th>0</th>\n",
       "      <td>ACWAAGIKQEF</td>\n",
       "      <td>8.00736806798383</td>\n",
       "      <td>9.03066286788145</td>\n",
       "      <td>12.779415048861052</td>\n",
       "      <td>333.0</td>\n",
       "      <td>119.68313276752599</td>\n",
       "      <td>64.05911928903123</td>\n",
       "    </tr>\n",
       "    <tr>\n",
       "      <th>0</th>\n",
       "      <td>ACWGAGIKQEF</td>\n",
       "      <td>8.00736806798383</td>\n",
       "      <td>9.102282061228403</td>\n",
       "      <td>13.673831200821278</td>\n",
       "      <td>333.0</td>\n",
       "      <td>111.41127082375617</td>\n",
       "      <td>66.54316191478794</td>\n",
       "    </tr>\n",
       "    <tr>\n",
       "      <th>0</th>\n",
       "      <td>ACWWAGIKAEF</td>\n",
       "      <td>8.00736806798383</td>\n",
       "      <td>8.487746165213096</td>\n",
       "      <td>5.999200900355521</td>\n",
       "      <td>333.0</td>\n",
       "      <td>205.97697542291095</td>\n",
       "      <td>38.145052425552265</td>\n",
       "    </tr>\n",
       "    <tr>\n",
       "      <th>0</th>\n",
       "      <td>ACWWAGIKQAF</td>\n",
       "      <td>8.00736806798383</td>\n",
       "      <td>8.506803586328427</td>\n",
       "      <td>6.237199465596067</td>\n",
       "      <td>333.0</td>\n",
       "      <td>202.0887528873989</td>\n",
       "      <td>39.31268682060093</td>\n",
       "    </tr>\n",
       "    <tr>\n",
       "      <th>0</th>\n",
       "      <td>ACWWAGIRQEF</td>\n",
       "      <td>8.00736806798383</td>\n",
       "      <td>8.539554338888953</td>\n",
       "      <td>6.646207173028357</td>\n",
       "      <td>333.0</td>\n",
       "      <td>195.5774019699292</td>\n",
       "      <td>41.26804745647771</td>\n",
       "    </tr>\n",
       "    <tr>\n",
       "      <th>...</th>\n",
       "      <td>...</td>\n",
       "      <td>...</td>\n",
       "      <td>...</td>\n",
       "      <td>...</td>\n",
       "      <td>...</td>\n",
       "      <td>...</td>\n",
       "      <td>...</td>\n",
       "    </tr>\n",
       "    <tr>\n",
       "      <th>0</th>\n",
       "      <td>VWGIKQLQARILAVERYLKDQQLLGIWG</td>\n",
       "      <td>17.72753356339242</td>\n",
       "      <td>14.104157508915907</td>\n",
       "      <td>20.43925649058609</td>\n",
       "      <td>0.02</td>\n",
       "      <td>0.749276690134296</td>\n",
       "      <td>3646.3834506714797</td>\n",
       "    </tr>\n",
       "    <tr>\n",
       "      <th>0</th>\n",
       "      <td>MTWMEWDREINNYTSLIHSLIEESQNQQEKNEQELLEL</td>\n",
       "      <td>18.643824295266576</td>\n",
       "      <td>14.74484059651796</td>\n",
       "      <td>20.91300388267721</td>\n",
       "      <td>0.008</td>\n",
       "      <td>0.39481813471321686</td>\n",
       "      <td>4835.22668391521</td>\n",
       "    </tr>\n",
       "    <tr>\n",
       "      <th>0</th>\n",
       "      <td>MTWEAWDRAIAEYAARIEALIRAAQEQQEKNEAALREL</td>\n",
       "      <td>18.7773556878911</td>\n",
       "      <td>13.067580245358851</td>\n",
       "      <td>30.40777166624316</td>\n",
       "      <td>0.006999999999999999</td>\n",
       "      <td>2.1126230194343596</td>\n",
       "      <td>30080.328849062284</td>\n",
       "    </tr>\n",
       "    <tr>\n",
       "      <th>0</th>\n",
       "      <td>TTWEEWDREINEYTSRIESLIRESQEQQEKNEQELREL</td>\n",
       "      <td>19.11382792451231</td>\n",
       "      <td>15.236434774143634</td>\n",
       "      <td>20.285801283144117</td>\n",
       "      <td>0.005</td>\n",
       "      <td>0.24149072409314754</td>\n",
       "      <td>4729.814481862951</td>\n",
       "    </tr>\n",
       "    <tr>\n",
       "      <th>0</th>\n",
       "      <td>WEEWDKKIEEYTKKIEELIKKSEEQQKN</td>\n",
       "      <td>20.030118656386467</td>\n",
       "      <td>14.11565935716372</td>\n",
       "      <td>29.527829568483167</td>\n",
       "      <td>0.002</td>\n",
       "      <td>0.7407079957244417</td>\n",
       "      <td>36935.399786222086</td>\n",
       "    </tr>\n",
       "  </tbody>\n",
       "</table>\n",
       "<p>153 rows × 7 columns</p>\n",
       "</div>"
      ],
      "text/plain": [
       "                                  Sequence               pIC50  \\\n",
       "0                              ACWAAGIKQEF    8.00736806798383   \n",
       "0                              ACWGAGIKQEF    8.00736806798383   \n",
       "0                              ACWWAGIKAEF    8.00736806798383   \n",
       "0                              ACWWAGIKQAF    8.00736806798383   \n",
       "0                              ACWWAGIRQEF    8.00736806798383   \n",
       "..                                     ...                 ...   \n",
       "0             VWGIKQLQARILAVERYLKDQQLLGIWG   17.72753356339242   \n",
       "0   MTWMEWDREINNYTSLIHSLIEESQNQQEKNEQELLEL  18.643824295266576   \n",
       "0   MTWEAWDRAIAEYAARIEALIRAAQEQQEKNEAALREL    18.7773556878911   \n",
       "0   TTWEEWDREINEYTSRIESLIRESQEQQEKNEQELREL   19.11382792451231   \n",
       "0             WEEWDKKIEEYTKKIEELIKKSEEQQKN  20.030118656386467   \n",
       "\n",
       "           y_pred_pmic            ape_pmic                   MIC  \\\n",
       "0     9.03066286788145  12.779415048861052                 333.0   \n",
       "0    9.102282061228403  13.673831200821278                 333.0   \n",
       "0    8.487746165213096   5.999200900355521                 333.0   \n",
       "0    8.506803586328427   6.237199465596067                 333.0   \n",
       "0    8.539554338888953   6.646207173028357                 333.0   \n",
       "..                 ...                 ...                   ...   \n",
       "0   14.104157508915907   20.43925649058609                  0.02   \n",
       "0    14.74484059651796   20.91300388267721                 0.008   \n",
       "0   13.067580245358851   30.40777166624316  0.006999999999999999   \n",
       "0   15.236434774143634  20.285801283144117                 0.005   \n",
       "0    14.11565935716372  29.527829568483167                 0.002   \n",
       "\n",
       "             y_pred_mic             ape_mic  \n",
       "0    119.68313276752599   64.05911928903123  \n",
       "0    111.41127082375617   66.54316191478794  \n",
       "0    205.97697542291095  38.145052425552265  \n",
       "0     202.0887528873989   39.31268682060093  \n",
       "0     195.5774019699292   41.26804745647771  \n",
       "..                  ...                 ...  \n",
       "0     0.749276690134296  3646.3834506714797  \n",
       "0   0.39481813471321686    4835.22668391521  \n",
       "0    2.1126230194343596  30080.328849062284  \n",
       "0   0.24149072409314754   4729.814481862951  \n",
       "0    0.7407079957244417  36935.399786222086  \n",
       "\n",
       "[153 rows x 7 columns]"
      ]
     },
     "execution_count": 129,
     "metadata": {},
     "output_type": "execute_result"
    }
   ],
   "source": [
    "result_df#.to_csv(\"../results/SVM_HIV_CoV_pMIC_to_MIC_rbf_c_100_gamma_2.csv\", index=False)"
   ]
  },
  {
   "cell_type": "code",
   "execution_count": 93,
   "id": "incredible-drill",
   "metadata": {},
   "outputs": [
    {
     "data": {
      "text/plain": [
       "array([[0.38815789],\n",
       "       [0.55921053],\n",
       "       [0.86184211],\n",
       "       [0.71052632],\n",
       "       [0.50657895],\n",
       "       [0.91447368],\n",
       "       [0.125     ],\n",
       "       [0.13815789],\n",
       "       [0.16447368],\n",
       "       [0.78947368],\n",
       "       [0.58552632],\n",
       "       [0.07236842],\n",
       "       [0.17105263],\n",
       "       [0.96052632],\n",
       "       [0.78947368],\n",
       "       [0.29605263],\n",
       "       [0.41447368],\n",
       "       [0.32236842],\n",
       "       [0.90131579],\n",
       "       [0.27631579],\n",
       "       [0.94078947],\n",
       "       [0.63157895],\n",
       "       [0.01315789],\n",
       "       [0.26973684],\n",
       "       [0.61184211],\n",
       "       [0.56578947],\n",
       "       [0.34210526],\n",
       "       [0.28289474],\n",
       "       [0.84868421],\n",
       "       [0.96052632],\n",
       "       [0.71710526],\n",
       "       [0.03289474],\n",
       "       [0.78947368],\n",
       "       [0.74342105],\n",
       "       [0.38157895],\n",
       "       [0.84210526],\n",
       "       [0.85526316],\n",
       "       [0.07894737],\n",
       "       [0.75      ],\n",
       "       [0.05921053],\n",
       "       [0.20394737],\n",
       "       [0.69736842],\n",
       "       [0.04605263],\n",
       "       [0.23026316],\n",
       "       [0.52631579],\n",
       "       [0.78947368],\n",
       "       [0.39473684],\n",
       "       [0.02631579],\n",
       "       [0.59868421],\n",
       "       [0.44736842],\n",
       "       [0.44736842],\n",
       "       [0.65789474],\n",
       "       [0.96052632],\n",
       "       [0.36184211],\n",
       "       [0.31578947],\n",
       "       [0.68421053],\n",
       "       [0.77631579],\n",
       "       [0.48026316],\n",
       "       [0.5       ],\n",
       "       [0.78289474],\n",
       "       [0.22368421],\n",
       "       [0.96052632],\n",
       "       [0.72368421],\n",
       "       [0.54605263],\n",
       "       [0.08552632],\n",
       "       [0.18421053],\n",
       "       [0.44736842],\n",
       "       [0.10526316],\n",
       "       [0.09210526],\n",
       "       [0.42105263],\n",
       "       [0.95394737],\n",
       "       [0.91447368],\n",
       "       [0.19078947],\n",
       "       [0.09210526],\n",
       "       [0.96052632],\n",
       "       [0.89473684],\n",
       "       [0.75657895],\n",
       "       [0.53289474],\n",
       "       [0.13157895],\n",
       "       [0.96052632],\n",
       "       [0.23026316],\n",
       "       [0.34868421],\n",
       "       [0.96052632],\n",
       "       [0.59210526],\n",
       "       [0.65131579],\n",
       "       [0.30263158],\n",
       "       [0.67763158],\n",
       "       [0.21710526],\n",
       "       [0.70394737],\n",
       "       [0.05263158],\n",
       "       [0.59868421],\n",
       "       [0.01973684],\n",
       "       [0.48684211],\n",
       "       [0.61842105],\n",
       "       [0.40131579],\n",
       "       [0.73684211],\n",
       "       [0.17763158],\n",
       "       [0.625     ],\n",
       "       [0.69078947],\n",
       "       [0.42763158],\n",
       "       [0.86184211],\n",
       "       [0.63157895],\n",
       "       [0.03947368],\n",
       "       [0.15789474],\n",
       "       [0.75657895],\n",
       "       [0.06578947],\n",
       "       [0.96052632],\n",
       "       [0.66447368],\n",
       "       [0.15131579],\n",
       "       [0.32894737],\n",
       "       [0.35526316],\n",
       "       [0.23026316],\n",
       "       [0.43421053],\n",
       "       [0.51973684],\n",
       "       [0.21052632],\n",
       "       [0.00657895],\n",
       "       [0.86184211],\n",
       "       [0.53947368],\n",
       "       [0.30921053],\n",
       "       [0.91447368],\n",
       "       [0.40131579],\n",
       "       [0.33552632]])"
      ]
     },
     "execution_count": 93,
     "metadata": {},
     "output_type": "execute_result"
    }
   ],
   "source": [
    "y_train_pl.values.reshape(122, -1)"
   ]
  },
  {
   "cell_type": "code",
   "execution_count": 130,
   "id": "restricted-dollar",
   "metadata": {},
   "outputs": [
    {
     "data": {
      "text/plain": [
       "16.33867497206926"
      ]
     },
     "execution_count": 130,
     "metadata": {},
     "output_type": "execute_result"
    }
   ],
   "source": [
    "result_df['ape_pmic'].astype('float').mean()"
   ]
  },
  {
   "cell_type": "code",
   "execution_count": 106,
   "id": "certified-congress",
   "metadata": {
    "scrolled": true
   },
   "outputs": [
    {
     "data": {
      "text/plain": [
       "<matplotlib.collections.PathCollection at 0x1a1bbd4710>"
      ]
     },
     "execution_count": 106,
     "metadata": {},
     "output_type": "execute_result"
    },
    {
     "data": {
      "image/png": "[encoded data removed]",
      "text/plain": [
       "<Figure size 432x288 with 1 Axes>"
      ]
     },
     "metadata": {
      "needs_background": "light"
     },
     "output_type": "display_data"
    }
   ],
   "source": [
    "plt.scatter(y_test_pl,y_test_mic)\n",
    "plt.scatter(y_test_pl,y_pred_pl)"
   ]
  },
  {
   "cell_type": "code",
   "execution_count": 96,
   "id": "hawaiian-litigation",
   "metadata": {},
   "outputs": [
    {
     "data": {
      "text/plain": [
       "{'C': 1000, 'degree': 1, 'gamma': 10, 'kernel': 'rbf'}"
      ]
     },
     "execution_count": 96,
     "metadata": {},
     "output_type": "execute_result"
    }
   ],
   "source": [
    "grid_search.best_params_"
   ]
  },
  {
   "cell_type": "code",
   "execution_count": 97,
   "id": "front-replication",
   "metadata": {},
   "outputs": [],
   "source": [
    "best_grid = grid_search.best_estimator_"
   ]
  },
  {
   "cell_type": "code",
   "execution_count": 100,
   "id": "yellow-marks",
   "metadata": {},
   "outputs": [],
   "source": [
    "y_pred_pl = best_grid.predict(y_test_pl.values.reshape(y_test.shape[0], -1))"
   ]
  },
  {
   "cell_type": "code",
   "execution_count": 101,
   "id": "middle-collectible",
   "metadata": {},
   "outputs": [
    {
     "data": {
      "text/plain": [
       "12.191398200820567"
      ]
     },
     "execution_count": 101,
     "metadata": {},
     "output_type": "execute_result"
    }
   ],
   "source": [
    "mean_absolute_percentage_error(y_test_mic, y_pred_pl)"
   ]
  },
  {
   "cell_type": "code",
   "execution_count": 102,
   "id": "mediterranean-emperor",
   "metadata": {},
   "outputs": [
    {
     "data": {
      "text/plain": [
       "17.85638791044129"
      ]
     },
     "execution_count": 102,
     "metadata": {},
     "output_type": "execute_result"
    }
   ],
   "source": [
    "mean_squared_error(y_test_mic, y_pred_pl)**0.5"
   ]
  },
  {
   "cell_type": "code",
   "execution_count": 103,
   "id": "square-violin",
   "metadata": {},
   "outputs": [
    {
     "data": {
      "text/plain": [
       "[(11.0, 10.55279928408703),\n",
       " (10.81, 10.08336526577233),\n",
       " (6.0, 5.971539074861482),\n",
       " (2.0, 2.02130282936497),\n",
       " (100.0, 77.25170657058116),\n",
       " (2.02, 2.1987707005484367),\n",
       " (12.72, 14.736672730226417),\n",
       " (11.4, 12.737639372883734),\n",
       " (142.0, 185.14037049815903),\n",
       " (187.0, 220.1855128631019),\n",
       " (136.0, 174.47290541243672),\n",
       " (200.0, 232.8418195186542),\n",
       " (250.0, 302.5448995234245),\n",
       " (54.4, 53.28248595187537),\n",
       " (40.0, 40.48158765648941),\n",
       " (23.46, 22.589289284156393),\n",
       " (3.05, 3.220797115043922),\n",
       " (0.253, 0.31028664940885164),\n",
       " (29.5, 26.730486759313408),\n",
       " (6.9, 6.532449215485315),\n",
       " (16.0, 17.061045866911343),\n",
       " (1.0, 0.8996295005549086),\n",
       " (100.0, 77.25170657058116),\n",
       " (28.6, 25.674537801627196),\n",
       " (35.2, 37.34476077874996),\n",
       " (100.0, 77.25170657058116),\n",
       " (110.0, 114.28548161226786),\n",
       " (0.58, 0.5061615315750032),\n",
       " (0.263, 0.3497727387434111),\n",
       " (67.6, 66.98406221105193),\n",
       " (2.1, 2.3860128635998876)]"
      ]
     },
     "execution_count": 103,
     "metadata": {},
     "output_type": "execute_result"
    }
   ],
   "source": [
    "list(zip(y_test_mic, y_pred_pl))"
   ]
  },
  {
   "cell_type": "code",
   "execution_count": null,
   "id": "taken-sapphire",
   "metadata": {},
   "outputs": [],
   "source": []
  },
  {
   "cell_type": "code",
   "execution_count": null,
   "id": "catholic-imagination",
   "metadata": {},
   "outputs": [],
   "source": []
  },
  {
   "cell_type": "code",
   "execution_count": 131,
   "id": "specified-jonathan",
   "metadata": {},
   "outputs": [
    {
     "data": {
      "text/plain": [
       "1906.146553954179"
      ]
     },
     "execution_count": 131,
     "metadata": {},
     "output_type": "execute_result"
    }
   ],
   "source": [
    "result_df['ape_mic'].astype('float').mean()"
   ]
  },
  {
   "cell_type": "code",
   "execution_count": 132,
   "id": "bizarre-christmas",
   "metadata": {},
   "outputs": [],
   "source": [
    "from scipy.stats import pearsonr"
   ]
  },
  {
   "cell_type": "code",
   "execution_count": 133,
   "id": "domestic-ireland",
   "metadata": {},
   "outputs": [
    {
     "data": {
      "text/plain": [
       "(0.5055121692719897, 2.654597001611252e-11)"
      ]
     },
     "execution_count": 133,
     "metadata": {},
     "output_type": "execute_result"
    }
   ],
   "source": [
    "pearsonr(result_df['MIC'].astype('float'), result_df['y_pred_mic'].astype('float'))"
   ]
  },
  {
   "cell_type": "code",
   "execution_count": 53,
   "id": "devoted-valley",
   "metadata": {},
   "outputs": [
    {
     "data": {
      "text/plain": [
       "1.0"
      ]
     },
     "execution_count": 53,
     "metadata": {},
     "output_type": "execute_result"
    }
   ],
   "source": []
  },
  {
   "cell_type": "code",
   "execution_count": null,
   "id": "intensive-recorder",
   "metadata": {},
   "outputs": [],
   "source": []
  },
  {
   "cell_type": "code",
   "execution_count": 75,
   "id": "personal-graham",
   "metadata": {},
   "outputs": [
    {
     "name": "stdout",
     "output_type": "stream",
     "text": [
      "56.78731892078916 0.009816113464316822\n"
     ]
    },
    {
     "data": {
      "text/plain": [
       "56.88548005543233"
      ]
     },
     "execution_count": 75,
     "metadata": {},
     "output_type": "execute_result"
    }
   ],
   "source": [
    "multi_objective_score(y_test_pl,y_pred_pl)"
   ]
  },
  {
   "cell_type": "code",
   "execution_count": 74,
   "id": "technological-covering",
   "metadata": {},
   "outputs": [
    {
     "data": {
      "text/plain": [
       "-0.009816113464316822"
      ]
     },
     "execution_count": 74,
     "metadata": {},
     "output_type": "execute_result"
    }
   ],
   "source": [
    "np.std(y_pred_pl) - np.std(y_test_pl)"
   ]
  }
 ],
 "metadata": {
  "kernelspec": {
   "display_name": "Python 3",
   "language": "python",
   "name": "python3"
  },
  "language_info": {
   "codemirror_mode": {
    "name": "ipython",
    "version": 3
   },
   "file_extension": ".py",
   "mimetype": "text/x-python",
   "name": "python",
   "nbconvert_exporter": "python",
   "pygments_lexer": "ipython3",
   "version": "3.6.10"
  },
  "varInspector": {
   "cols": {
    "lenName": 16,
    "lenType": 16,
    "lenVar": 40
   },
   "kernels_config": {
    "python": {
     "delete_cmd_postfix": "",
     "delete_cmd_prefix": "del ",
     "library": "var_list.py",
     "varRefreshCmd": "print(var_dic_list())"
    },
    "r": {
     "delete_cmd_postfix": ") ",
     "delete_cmd_prefix": "rm(",
     "library": "var_list.r",
     "varRefreshCmd": "cat(var_dic_list()) "
    }
   },
   "types_to_exclude": [
    "module",
    "function",
    "builtin_function_or_method",
    "instance",
    "_Feature"
   ],
   "window_display": false
  }
 },
 "nbformat": 4,
 "nbformat_minor": 5
}
