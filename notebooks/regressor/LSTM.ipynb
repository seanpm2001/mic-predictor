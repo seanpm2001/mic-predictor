{
 "cells": [
  {
   "cell_type": "code",
   "execution_count": 4,
   "id": "infinite-china",
   "metadata": {
    "scrolled": false
   },
   "outputs": [
    {
     "name": "stdout",
     "output_type": "stream",
     "text": [
      "/Users/in-divye.singh/Documents/Projects/MIC_predictor/src\n"
     ]
    }
   ],
   "source": [
    "cd ../../src"
   ]
  },
  {
   "cell_type": "code",
   "execution_count": 5,
   "id": "unable-somerset",
   "metadata": {},
   "outputs": [],
   "source": [
    "import biovec\n",
    "import numpy as np\n",
    "import pandas as pd\n",
    "from itertools import chain, combinations\n",
    "from collections import Counter\n",
    "\n",
    "from utils import *\n",
    "\n",
    "from sklearn.svm import SVR\n",
    "from sklearn.neighbors import KNeighborsRegressor\n",
    "from sklearn.metrics import make_scorer\n",
    "from sklearn.model_selection import GridSearchCV\n",
    "from sklearn.metrics import mean_squared_error, mean_absolute_error\n",
    "from sklearn.model_selection import train_test_split\n",
    "\n",
    "from Bio.SeqUtils.ProtParam import ProteinAnalysis"
   ]
  },
  {
   "cell_type": "code",
   "execution_count": 6,
   "id": "educational-gossip",
   "metadata": {},
   "outputs": [],
   "source": [
    "from keras.models import Model\n",
    "from keras.layers import LSTM, Activation, Dense, Dropout, Input, Embedding\n",
    "from keras.optimizers import RMSprop, Adam, SGD\n",
    "from keras.preprocessing.text import Tokenizer\n",
    "from keras.preprocessing import sequence\n",
    "from keras.callbacks import EarlyStopping"
   ]
  },
  {
   "cell_type": "code",
   "execution_count": 7,
   "id": "recognized-battlefield",
   "metadata": {},
   "outputs": [],
   "source": [
    "import seaborn as sns"
   ]
  },
  {
   "cell_type": "code",
   "execution_count": 8,
   "id": "spectacular-exhibit",
   "metadata": {},
   "outputs": [],
   "source": [
    "def mean_absolute_percentage_error(y_true, y_pred): \n",
    "    y_true, y_pred = np.array(y_true), np.array(y_pred)\n",
    "    return np.mean(np.abs((y_true - y_pred) / y_true)) * 100\n",
    "\n",
    "mape_scorer = make_scorer(mean_absolute_percentage_error, greater_is_better=False)"
   ]
  },
  {
   "cell_type": "code",
   "execution_count": 9,
   "id": "handy-lucas",
   "metadata": {},
   "outputs": [],
   "source": [
    "avp_ic50 = pd.read_csv(\"../data/raw/AVP-IC50Pred_train.csv\")\n",
    "ha_avp = pd.read_csv(\"../data/raw/HA_AVP.csv\")"
   ]
  },
  {
   "cell_type": "code",
   "execution_count": 10,
   "id": "swiss-duration",
   "metadata": {},
   "outputs": [],
   "source": [
    "df = pd.concat([avp_ic50[['Sequence','MIC']], ha_avp], axis=0).drop_duplicates(['Sequence']).reset_index(drop=True)\n",
    "df = sequence_filtering(df)"
   ]
  },
  {
   "cell_type": "code",
   "execution_count": 21,
   "id": "minute-shower",
   "metadata": {},
   "outputs": [],
   "source": [
    "df2 = df[df['MIC'] >= 1e-3].reset_index(drop=True)"
   ]
  },
  {
   "cell_type": "code",
   "execution_count": 22,
   "id": "fatal-finger",
   "metadata": {},
   "outputs": [
    {
     "data": {
      "text/html": [
       "<div>\n",
       "<style scoped>\n",
       "    .dataframe tbody tr th:only-of-type {\n",
       "        vertical-align: middle;\n",
       "    }\n",
       "\n",
       "    .dataframe tbody tr th {\n",
       "        vertical-align: top;\n",
       "    }\n",
       "\n",
       "    .dataframe thead th {\n",
       "        text-align: right;\n",
       "    }\n",
       "</style>\n",
       "<table border=\"1\" class=\"dataframe\">\n",
       "  <thead>\n",
       "    <tr style=\"text-align: right;\">\n",
       "      <th></th>\n",
       "      <th>Sequence</th>\n",
       "      <th>MIC</th>\n",
       "      <th>pIC50</th>\n",
       "    </tr>\n",
       "  </thead>\n",
       "  <tbody>\n",
       "    <tr>\n",
       "      <th>0</th>\n",
       "      <td>AAQRRGRVGRNPNQVGD</td>\n",
       "      <td>442.00000</td>\n",
       "      <td>7.724201</td>\n",
       "    </tr>\n",
       "    <tr>\n",
       "      <th>1</th>\n",
       "      <td>HRILARIRQMMT</td>\n",
       "      <td>435.50000</td>\n",
       "      <td>7.739016</td>\n",
       "    </tr>\n",
       "    <tr>\n",
       "      <th>2</th>\n",
       "      <td>RNPSQVGD</td>\n",
       "      <td>383.00000</td>\n",
       "      <td>7.867476</td>\n",
       "    </tr>\n",
       "    <tr>\n",
       "      <th>3</th>\n",
       "      <td>RVGRNPNQVGD</td>\n",
       "      <td>374.00000</td>\n",
       "      <td>7.891255</td>\n",
       "    </tr>\n",
       "    <tr>\n",
       "      <th>4</th>\n",
       "      <td>AAQRRGRIGRNPSQVGD</td>\n",
       "      <td>358.00000</td>\n",
       "      <td>7.934978</td>\n",
       "    </tr>\n",
       "    <tr>\n",
       "      <th>...</th>\n",
       "      <td>...</td>\n",
       "      <td>...</td>\n",
       "      <td>...</td>\n",
       "    </tr>\n",
       "    <tr>\n",
       "      <th>702</th>\n",
       "      <td>SLDQINVTFLDLEYEMKKLEEAIKKLEESYIDLKEL</td>\n",
       "      <td>0.00130</td>\n",
       "      <td>20.460902</td>\n",
       "    </tr>\n",
       "    <tr>\n",
       "      <th>703</th>\n",
       "      <td>NGAICWGPCPTAFRQIGNCGHFKVRCCKIR</td>\n",
       "      <td>0.11515</td>\n",
       "      <td>15.977030</td>\n",
       "    </tr>\n",
       "    <tr>\n",
       "      <th>704</th>\n",
       "      <td>CFPYITRPGTYHDWWYTRKNRQ</td>\n",
       "      <td>0.30000</td>\n",
       "      <td>15.019483</td>\n",
       "    </tr>\n",
       "    <tr>\n",
       "      <th>705</th>\n",
       "      <td>YTSLIHSLIEESQNQQEKNEQELLELDKWASLWNWF</td>\n",
       "      <td>0.01131</td>\n",
       "      <td>18.297579</td>\n",
       "    </tr>\n",
       "    <tr>\n",
       "      <th>706</th>\n",
       "      <td>SWETWEREIENYTRQIYRILEESQEQQDRNERDLLE</td>\n",
       "      <td>0.00200</td>\n",
       "      <td>20.030119</td>\n",
       "    </tr>\n",
       "  </tbody>\n",
       "</table>\n",
       "<p>707 rows × 3 columns</p>\n",
       "</div>"
      ],
      "text/plain": [
       "                                 Sequence        MIC      pIC50\n",
       "0                       AAQRRGRVGRNPNQVGD  442.00000   7.724201\n",
       "1                            HRILARIRQMMT  435.50000   7.739016\n",
       "2                                RNPSQVGD  383.00000   7.867476\n",
       "3                             RVGRNPNQVGD  374.00000   7.891255\n",
       "4                       AAQRRGRIGRNPSQVGD  358.00000   7.934978\n",
       "..                                    ...        ...        ...\n",
       "702  SLDQINVTFLDLEYEMKKLEEAIKKLEESYIDLKEL    0.00130  20.460902\n",
       "703        NGAICWGPCPTAFRQIGNCGHFKVRCCKIR    0.11515  15.977030\n",
       "704                CFPYITRPGTYHDWWYTRKNRQ    0.30000  15.019483\n",
       "705  YTSLIHSLIEESQNQQEKNEQELLELDKWASLWNWF    0.01131  18.297579\n",
       "706  SWETWEREIENYTRQIYRILEESQEQQDRNERDLLE    0.00200  20.030119\n",
       "\n",
       "[707 rows x 3 columns]"
      ]
     },
     "execution_count": 22,
     "metadata": {},
     "output_type": "execute_result"
    }
   ],
   "source": [
    "df2"
   ]
  },
  {
   "cell_type": "code",
   "execution_count": 24,
   "id": "hairy-hello",
   "metadata": {},
   "outputs": [
    {
     "data": {
      "text/plain": [
       "<matplotlib.axes._subplots.AxesSubplot at 0x1a475fc278>"
      ]
     },
     "execution_count": 24,
     "metadata": {},
     "output_type": "execute_result"
    },
    {
     "data": {
      "image/png": "[encoded data removed]",
      "text/plain": [
       "<Figure size 432x288 with 1 Axes>"
      ]
     },
     "metadata": {
      "needs_background": "light"
     },
     "output_type": "display_data"
    }
   ],
   "source": [
    "df2['MIC'].hist()"
   ]
  },
  {
   "cell_type": "code",
   "execution_count": 25,
   "id": "inner-collective",
   "metadata": {},
   "outputs": [],
   "source": [
    "df2['pIC50'] = df2['MIC'].apply(lambda x: -np.log(x*1e-6))"
   ]
  },
  {
   "cell_type": "code",
   "execution_count": 26,
   "id": "growing-porter",
   "metadata": {},
   "outputs": [
    {
     "data": {
      "text/html": [
       "<div>\n",
       "<style scoped>\n",
       "    .dataframe tbody tr th:only-of-type {\n",
       "        vertical-align: middle;\n",
       "    }\n",
       "\n",
       "    .dataframe tbody tr th {\n",
       "        vertical-align: top;\n",
       "    }\n",
       "\n",
       "    .dataframe thead th {\n",
       "        text-align: right;\n",
       "    }\n",
       "</style>\n",
       "<table border=\"1\" class=\"dataframe\">\n",
       "  <thead>\n",
       "    <tr style=\"text-align: right;\">\n",
       "      <th></th>\n",
       "      <th>Sequence</th>\n",
       "      <th>MIC</th>\n",
       "      <th>pIC50</th>\n",
       "    </tr>\n",
       "  </thead>\n",
       "  <tbody>\n",
       "    <tr>\n",
       "      <th>0</th>\n",
       "      <td>AAQRRGRVGRNPNQVGD</td>\n",
       "      <td>442.00000</td>\n",
       "      <td>7.724201</td>\n",
       "    </tr>\n",
       "    <tr>\n",
       "      <th>1</th>\n",
       "      <td>HRILARIRQMMT</td>\n",
       "      <td>435.50000</td>\n",
       "      <td>7.739016</td>\n",
       "    </tr>\n",
       "    <tr>\n",
       "      <th>2</th>\n",
       "      <td>RNPSQVGD</td>\n",
       "      <td>383.00000</td>\n",
       "      <td>7.867476</td>\n",
       "    </tr>\n",
       "    <tr>\n",
       "      <th>3</th>\n",
       "      <td>RVGRNPNQVGD</td>\n",
       "      <td>374.00000</td>\n",
       "      <td>7.891255</td>\n",
       "    </tr>\n",
       "    <tr>\n",
       "      <th>4</th>\n",
       "      <td>AAQRRGRIGRNPSQVGD</td>\n",
       "      <td>358.00000</td>\n",
       "      <td>7.934978</td>\n",
       "    </tr>\n",
       "    <tr>\n",
       "      <th>...</th>\n",
       "      <td>...</td>\n",
       "      <td>...</td>\n",
       "      <td>...</td>\n",
       "    </tr>\n",
       "    <tr>\n",
       "      <th>702</th>\n",
       "      <td>SLDQINVTFLDLEYEMKKLEEAIKKLEESYIDLKEL</td>\n",
       "      <td>0.00130</td>\n",
       "      <td>20.460902</td>\n",
       "    </tr>\n",
       "    <tr>\n",
       "      <th>703</th>\n",
       "      <td>NGAICWGPCPTAFRQIGNCGHFKVRCCKIR</td>\n",
       "      <td>0.11515</td>\n",
       "      <td>15.977030</td>\n",
       "    </tr>\n",
       "    <tr>\n",
       "      <th>704</th>\n",
       "      <td>CFPYITRPGTYHDWWYTRKNRQ</td>\n",
       "      <td>0.30000</td>\n",
       "      <td>15.019483</td>\n",
       "    </tr>\n",
       "    <tr>\n",
       "      <th>705</th>\n",
       "      <td>YTSLIHSLIEESQNQQEKNEQELLELDKWASLWNWF</td>\n",
       "      <td>0.01131</td>\n",
       "      <td>18.297579</td>\n",
       "    </tr>\n",
       "    <tr>\n",
       "      <th>706</th>\n",
       "      <td>SWETWEREIENYTRQIYRILEESQEQQDRNERDLLE</td>\n",
       "      <td>0.00200</td>\n",
       "      <td>20.030119</td>\n",
       "    </tr>\n",
       "  </tbody>\n",
       "</table>\n",
       "<p>707 rows × 3 columns</p>\n",
       "</div>"
      ],
      "text/plain": [
       "                                 Sequence        MIC      pIC50\n",
       "0                       AAQRRGRVGRNPNQVGD  442.00000   7.724201\n",
       "1                            HRILARIRQMMT  435.50000   7.739016\n",
       "2                                RNPSQVGD  383.00000   7.867476\n",
       "3                             RVGRNPNQVGD  374.00000   7.891255\n",
       "4                       AAQRRGRIGRNPSQVGD  358.00000   7.934978\n",
       "..                                    ...        ...        ...\n",
       "702  SLDQINVTFLDLEYEMKKLEEAIKKLEESYIDLKEL    0.00130  20.460902\n",
       "703        NGAICWGPCPTAFRQIGNCGHFKVRCCKIR    0.11515  15.977030\n",
       "704                CFPYITRPGTYHDWWYTRKNRQ    0.30000  15.019483\n",
       "705  YTSLIHSLIEESQNQQEKNEQELLELDKWASLWNWF    0.01131  18.297579\n",
       "706  SWETWEREIENYTRQIYRILEESQEQQDRNERDLLE    0.00200  20.030119\n",
       "\n",
       "[707 rows x 3 columns]"
      ]
     },
     "execution_count": 26,
     "metadata": {},
     "output_type": "execute_result"
    }
   ],
   "source": [
    "df2"
   ]
  },
  {
   "cell_type": "code",
   "execution_count": 27,
   "id": "lesser-coast",
   "metadata": {
    "scrolled": true
   },
   "outputs": [
    {
     "data": {
      "text/plain": [
       "<matplotlib.axes._subplots.AxesSubplot at 0x1a4778b400>"
      ]
     },
     "execution_count": 27,
     "metadata": {},
     "output_type": "execute_result"
    },
    {
     "data": {
      "image/png": "[encoded data removed]",
      "text/plain": [
       "<Figure size 432x288 with 1 Axes>"
      ]
     },
     "metadata": {
      "needs_background": "light"
     },
     "output_type": "display_data"
    }
   ],
   "source": [
    "df2['pIC50'].hist()"
   ]
  },
  {
   "cell_type": "code",
   "execution_count": 28,
   "id": "prospective-michigan",
   "metadata": {},
   "outputs": [],
   "source": [
    "X = df2['Sequence']\n",
    "y = df2['MIC']"
   ]
  },
  {
   "cell_type": "code",
   "execution_count": 66,
   "id": "sustainable-passing",
   "metadata": {},
   "outputs": [],
   "source": [
    "max_len = df2['Sequence'].apply(lambda s: len(s)).max()"
   ]
  },
  {
   "cell_type": "code",
   "execution_count": 29,
   "id": "modified-construction",
   "metadata": {},
   "outputs": [],
   "source": [
    "X_train, X_test, Y_train, Y_test = train_test_split(X,y,test_size=0.20,random_state=42)"
   ]
  },
  {
   "cell_type": "code",
   "execution_count": 59,
   "id": "interstate-boston",
   "metadata": {},
   "outputs": [],
   "source": [
    "def pep2seq(data: pd.Series) -> list:\n",
    "    AA = ['A', 'R', 'N', 'D', 'C', 'E', 'Q', 'G', 'H', 'I', 'L', 'K', 'M', 'F', 'P', 'S', 'T', 'W', 'Y', 'V']\n",
    "    sequences = data.apply(lambda seq: [AA.index(aa)+1 for aa in seq])\n",
    "    return sequences"
   ]
  },
  {
   "cell_type": "code",
   "execution_count": 70,
   "id": "antique-austin",
   "metadata": {},
   "outputs": [],
   "source": [
    "sequences = pep2seq(X_train)"
   ]
  },
  {
   "cell_type": "code",
   "execution_count": 71,
   "id": "lined-dialogue",
   "metadata": {},
   "outputs": [],
   "source": [
    "sequences_matrix = sequence.pad_sequences(sequences,maxlen=max_len)"
   ]
  },
  {
   "cell_type": "code",
   "execution_count": 108,
   "id": "primary-privacy",
   "metadata": {},
   "outputs": [],
   "source": [
    "def get_model():\n",
    "    inputs = Input(name='inputs',shape=[max_len])\n",
    "    layer = Embedding(21,150,input_length=max_len)(inputs)\n",
    "    layer = LSTM(128, return_sequences=True)(layer)\n",
    "    layer = LSTM(64)(layer)\n",
    "    layer = Dense(256,name='FC1')(layer)\n",
    "    layer = Activation('relu')(layer)\n",
    "    layer = Dropout(0.5)(layer)\n",
    "    layer = Dense(1,name='out_layer')(layer)\n",
    "    layer = Activation('relu')(layer)\n",
    "    model = Model(inputs=inputs,outputs=layer)\n",
    "    return model"
   ]
  },
  {
   "cell_type": "code",
   "execution_count": 109,
   "id": "pleased-hypothesis",
   "metadata": {},
   "outputs": [
    {
     "name": "stdout",
     "output_type": "stream",
     "text": [
      "Model: \"model_7\"\n",
      "_________________________________________________________________\n",
      "Layer (type)                 Output Shape              Param #   \n",
      "=================================================================\n",
      "inputs (InputLayer)          [(None, 61)]              0         \n",
      "_________________________________________________________________\n",
      "embedding_8 (Embedding)      (None, 61, 150)           3150      \n",
      "_________________________________________________________________\n",
      "lstm_9 (LSTM)                (None, 61, 128)           142848    \n",
      "_________________________________________________________________\n",
      "lstm_10 (LSTM)               (None, 64)                49408     \n",
      "_________________________________________________________________\n",
      "FC1 (Dense)                  (None, 256)               16640     \n",
      "_________________________________________________________________\n",
      "activation_14 (Activation)   (None, 256)               0         \n",
      "_________________________________________________________________\n",
      "dropout_7 (Dropout)          (None, 256)               0         \n",
      "_________________________________________________________________\n",
      "out_layer (Dense)            (None, 1)                 257       \n",
      "_________________________________________________________________\n",
      "activation_15 (Activation)   (None, 1)                 0         \n",
      "=================================================================\n",
      "Total params: 212,303\n",
      "Trainable params: 212,303\n",
      "Non-trainable params: 0\n",
      "_________________________________________________________________\n"
     ]
    }
   ],
   "source": [
    "model = get_model()\n",
    "model.summary()\n",
    "model.compile(loss=\"mse\",optimizer=Adam(),metrics=[\"mse\"])"
   ]
  },
  {
   "cell_type": "code",
   "execution_count": 110,
   "id": "numerous-washer",
   "metadata": {
    "scrolled": true
   },
   "outputs": [
    {
     "name": "stdout",
     "output_type": "stream",
     "text": [
      "Epoch 1/100\n",
      "4/4 [==============================] - 1s 351ms/step - loss: 6131.3447 - mse: 6131.3447 - val_loss: 8391.9023 - val_mse: 8391.9023\n",
      "Epoch 2/100\n",
      "4/4 [==============================] - 0s 88ms/step - loss: 6081.8018 - mse: 6081.8018 - val_loss: 8173.7656 - val_mse: 8173.7656\n",
      "Epoch 3/100\n",
      "4/4 [==============================] - 0s 88ms/step - loss: 5900.4976 - mse: 5900.4976 - val_loss: 7941.5977 - val_mse: 7941.5977\n",
      "Epoch 4/100\n",
      "4/4 [==============================] - 0s 94ms/step - loss: 5748.6885 - mse: 5748.6885 - val_loss: 7716.7153 - val_mse: 7716.7153\n",
      "Epoch 5/100\n",
      "4/4 [==============================] - 0s 96ms/step - loss: 5566.8682 - mse: 5566.8682 - val_loss: 7475.1831 - val_mse: 7475.1831\n",
      "Epoch 6/100\n",
      "4/4 [==============================] - 0s 92ms/step - loss: 5398.4658 - mse: 5398.4658 - val_loss: 7241.9668 - val_mse: 7241.9668\n",
      "Epoch 7/100\n",
      "4/4 [==============================] - 0s 91ms/step - loss: 5269.5400 - mse: 5269.5400 - val_loss: 7041.7075 - val_mse: 7041.7075\n",
      "Epoch 8/100\n",
      "4/4 [==============================] - 0s 90ms/step - loss: 5170.3706 - mse: 5170.3706 - val_loss: 6885.6265 - val_mse: 6885.6265\n",
      "Epoch 9/100\n",
      "4/4 [==============================] - 0s 94ms/step - loss: 5094.1787 - mse: 5094.1787 - val_loss: 6777.7808 - val_mse: 6777.7808\n",
      "Epoch 10/100\n",
      "4/4 [==============================] - 0s 96ms/step - loss: 5062.8667 - mse: 5062.8667 - val_loss: 6707.7534 - val_mse: 6707.7534\n",
      "Epoch 11/100\n",
      "4/4 [==============================] - 0s 94ms/step - loss: 5035.5391 - mse: 5035.5391 - val_loss: 6669.5049 - val_mse: 6669.5049\n",
      "Epoch 12/100\n",
      "4/4 [==============================] - 0s 88ms/step - loss: 5058.0786 - mse: 5058.0786 - val_loss: 6650.5044 - val_mse: 6650.5044\n",
      "Epoch 13/100\n",
      "4/4 [==============================] - 0s 96ms/step - loss: 5060.1123 - mse: 5060.1123 - val_loss: 6641.1089 - val_mse: 6641.1089\n",
      "Epoch 14/100\n",
      "4/4 [==============================] - 0s 87ms/step - loss: 5046.5000 - mse: 5046.5000 - val_loss: 6641.6528 - val_mse: 6641.6528\n",
      "Epoch 15/100\n",
      "4/4 [==============================] - 0s 86ms/step - loss: 5057.7549 - mse: 5057.7549 - val_loss: 6652.9849 - val_mse: 6652.9849\n",
      "Epoch 16/100\n",
      "4/4 [==============================] - 0s 84ms/step - loss: 5059.6387 - mse: 5059.6387 - val_loss: 6662.6074 - val_mse: 6662.6074\n",
      "Epoch 17/100\n",
      "4/4 [==============================] - 0s 90ms/step - loss: 5074.9961 - mse: 5074.9961 - val_loss: 6668.5566 - val_mse: 6668.5566\n",
      "Epoch 18/100\n",
      "4/4 [==============================] - 0s 85ms/step - loss: 5062.7676 - mse: 5062.7676 - val_loss: 6672.3799 - val_mse: 6672.3799\n",
      "Epoch 19/100\n",
      "4/4 [==============================] - 0s 88ms/step - loss: 5080.8330 - mse: 5080.8330 - val_loss: 6679.8076 - val_mse: 6679.8076\n",
      "Epoch 20/100\n",
      "4/4 [==============================] - 0s 86ms/step - loss: 5092.9893 - mse: 5092.9893 - val_loss: 6683.4214 - val_mse: 6683.4214\n",
      "Epoch 21/100\n",
      "4/4 [==============================] - 0s 86ms/step - loss: 5068.3882 - mse: 5068.3882 - val_loss: 6682.4746 - val_mse: 6682.4746\n",
      "Epoch 22/100\n",
      "4/4 [==============================] - 0s 86ms/step - loss: 5063.8418 - mse: 5063.8418 - val_loss: 6682.9541 - val_mse: 6682.9541\n",
      "Epoch 23/100\n",
      "4/4 [==============================] - 0s 86ms/step - loss: 5052.0073 - mse: 5052.0073 - val_loss: 6685.1143 - val_mse: 6685.1143\n",
      "Epoch 24/100\n",
      "4/4 [==============================] - 0s 89ms/step - loss: 5047.3076 - mse: 5047.3076 - val_loss: 6692.2607 - val_mse: 6692.2607\n",
      "Epoch 25/100\n",
      "4/4 [==============================] - 0s 85ms/step - loss: 5062.4941 - mse: 5062.4941 - val_loss: 6690.3252 - val_mse: 6690.3252\n",
      "Epoch 26/100\n",
      "4/4 [==============================] - 0s 101ms/step - loss: 5075.4121 - mse: 5075.4121 - val_loss: 6689.3760 - val_mse: 6689.3760\n",
      "Epoch 27/100\n",
      "4/4 [==============================] - 0s 88ms/step - loss: 5086.0576 - mse: 5086.0576 - val_loss: 6694.3198 - val_mse: 6694.3198\n",
      "Epoch 28/100\n",
      "4/4 [==============================] - 0s 90ms/step - loss: 5028.3115 - mse: 5028.3115 - val_loss: 6692.5273 - val_mse: 6692.5273\n",
      "Epoch 29/100\n",
      "4/4 [==============================] - 0s 85ms/step - loss: 5045.8149 - mse: 5045.8149 - val_loss: 6688.0957 - val_mse: 6688.0957\n",
      "Epoch 30/100\n",
      "4/4 [==============================] - 0s 84ms/step - loss: 5031.1196 - mse: 5031.1196 - val_loss: 6677.1255 - val_mse: 6677.1255\n",
      "Epoch 31/100\n",
      "4/4 [==============================] - 0s 89ms/step - loss: 5038.8721 - mse: 5038.8721 - val_loss: 6682.3345 - val_mse: 6682.3345\n",
      "Epoch 32/100\n",
      "4/4 [==============================] - 0s 115ms/step - loss: 5083.7910 - mse: 5083.7910 - val_loss: 6684.8125 - val_mse: 6684.8125\n",
      "Epoch 33/100\n",
      "4/4 [==============================] - 0s 96ms/step - loss: 5045.6362 - mse: 5045.6362 - val_loss: 6687.9653 - val_mse: 6687.9653\n",
      "Epoch 34/100\n",
      "4/4 [==============================] - 0s 93ms/step - loss: 5055.7974 - mse: 5055.7974 - val_loss: 6693.9551 - val_mse: 6693.9551\n",
      "Epoch 35/100\n",
      "4/4 [==============================] - 0s 87ms/step - loss: 5068.6631 - mse: 5068.6631 - val_loss: 6699.9058 - val_mse: 6699.9058\n",
      "Epoch 36/100\n",
      "4/4 [==============================] - 0s 90ms/step - loss: 5067.5259 - mse: 5067.5259 - val_loss: 6702.5156 - val_mse: 6702.5156\n",
      "Epoch 37/100\n",
      "4/4 [==============================] - 0s 95ms/step - loss: 5044.6797 - mse: 5044.6797 - val_loss: 6704.2959 - val_mse: 6704.2959\n",
      "Epoch 38/100\n",
      "4/4 [==============================] - 0s 87ms/step - loss: 5048.1528 - mse: 5048.1528 - val_loss: 6702.0220 - val_mse: 6702.0220\n",
      "Epoch 39/100\n",
      "4/4 [==============================] - 0s 91ms/step - loss: 5066.2383 - mse: 5066.2383 - val_loss: 6701.9297 - val_mse: 6701.9297\n",
      "Epoch 40/100\n",
      "4/4 [==============================] - 0s 87ms/step - loss: 5074.6475 - mse: 5074.6475 - val_loss: 6699.5649 - val_mse: 6699.5649\n",
      "Epoch 41/100\n",
      "4/4 [==============================] - 0s 89ms/step - loss: 5034.4810 - mse: 5034.4810 - val_loss: 6703.2754 - val_mse: 6703.2754\n",
      "Epoch 42/100\n",
      "4/4 [==============================] - 0s 91ms/step - loss: 5082.4238 - mse: 5082.4238 - val_loss: 6696.7573 - val_mse: 6696.7573\n",
      "Epoch 43/100\n",
      "4/4 [==============================] - 0s 89ms/step - loss: 5076.2051 - mse: 5076.2051 - val_loss: 6691.6890 - val_mse: 6691.6890\n",
      "Epoch 44/100\n",
      "4/4 [==============================] - 0s 96ms/step - loss: 5068.4609 - mse: 5068.4609 - val_loss: 6688.5234 - val_mse: 6688.5234\n",
      "Epoch 45/100\n",
      "4/4 [==============================] - 0s 91ms/step - loss: 5031.2559 - mse: 5031.2559 - val_loss: 6684.7817 - val_mse: 6684.7817\n",
      "Epoch 46/100\n",
      "4/4 [==============================] - 0s 87ms/step - loss: 5071.4663 - mse: 5071.4663 - val_loss: 6677.6558 - val_mse: 6677.6558\n",
      "Epoch 47/100\n",
      "4/4 [==============================] - 0s 94ms/step - loss: 5059.7744 - mse: 5059.7744 - val_loss: 6678.4507 - val_mse: 6678.4507\n",
      "Epoch 48/100\n",
      "4/4 [==============================] - 0s 104ms/step - loss: 5098.8848 - mse: 5098.8848 - val_loss: 6680.9658 - val_mse: 6680.9658\n",
      "Epoch 49/100\n",
      "4/4 [==============================] - 0s 109ms/step - loss: 5072.9131 - mse: 5072.9131 - val_loss: 6674.7334 - val_mse: 6674.7334\n",
      "Epoch 50/100\n",
      "4/4 [==============================] - 0s 108ms/step - loss: 5008.7681 - mse: 5008.7681 - val_loss: 6670.6338 - val_mse: 6670.6338\n",
      "Epoch 51/100\n",
      "4/4 [==============================] - 0s 103ms/step - loss: 5089.5649 - mse: 5089.5649 - val_loss: 6668.3999 - val_mse: 6668.3999\n",
      "Epoch 52/100\n",
      "4/4 [==============================] - 0s 91ms/step - loss: 5078.1733 - mse: 5078.1733 - val_loss: 6667.3179 - val_mse: 6667.3179\n",
      "Epoch 53/100\n",
      "4/4 [==============================] - 0s 109ms/step - loss: 5066.1890 - mse: 5066.1890 - val_loss: 6672.5874 - val_mse: 6672.5874\n",
      "Epoch 54/100\n",
      "4/4 [==============================] - 0s 101ms/step - loss: 5039.9517 - mse: 5039.9517 - val_loss: 6677.4487 - val_mse: 6677.4487\n",
      "Epoch 55/100\n",
      "4/4 [==============================] - 0s 88ms/step - loss: 5046.3711 - mse: 5046.3711 - val_loss: 6689.0332 - val_mse: 6689.0332\n",
      "Epoch 56/100\n",
      "4/4 [==============================] - 0s 108ms/step - loss: 5063.5254 - mse: 5063.5254 - val_loss: 6696.2236 - val_mse: 6696.2236\n",
      "Epoch 57/100\n",
      "4/4 [==============================] - 0s 94ms/step - loss: 5030.4619 - mse: 5030.4619 - val_loss: 6698.8833 - val_mse: 6698.8833\n",
      "Epoch 58/100\n"
     ]
    },
    {
     "name": "stdout",
     "output_type": "stream",
     "text": [
      "4/4 [==============================] - 0s 94ms/step - loss: 5065.7910 - mse: 5065.7910 - val_loss: 6696.4448 - val_mse: 6696.4448\n",
      "Epoch 59/100\n",
      "4/4 [==============================] - 0s 88ms/step - loss: 5074.7241 - mse: 5074.7241 - val_loss: 6695.5122 - val_mse: 6695.5122\n",
      "Epoch 60/100\n",
      "4/4 [==============================] - 0s 87ms/step - loss: 5072.7456 - mse: 5072.7456 - val_loss: 6699.8101 - val_mse: 6699.8101\n",
      "Epoch 61/100\n",
      "4/4 [==============================] - 0s 86ms/step - loss: 5035.3784 - mse: 5035.3784 - val_loss: 6700.5474 - val_mse: 6700.5474\n",
      "Epoch 62/100\n",
      "4/4 [==============================] - 0s 91ms/step - loss: 5066.0835 - mse: 5066.0835 - val_loss: 6704.0898 - val_mse: 6704.0898\n",
      "Epoch 63/100\n",
      "4/4 [==============================] - 0s 88ms/step - loss: 5041.1133 - mse: 5041.1133 - val_loss: 6700.1016 - val_mse: 6700.1016\n",
      "Epoch 64/100\n",
      "4/4 [==============================] - 0s 90ms/step - loss: 5073.3779 - mse: 5073.3779 - val_loss: 6697.0049 - val_mse: 6697.0049\n",
      "Epoch 65/100\n",
      "4/4 [==============================] - 0s 92ms/step - loss: 5031.0259 - mse: 5031.0259 - val_loss: 6694.9185 - val_mse: 6694.9185\n",
      "Epoch 66/100\n",
      "4/4 [==============================] - 0s 89ms/step - loss: 5041.6460 - mse: 5041.6460 - val_loss: 6694.3638 - val_mse: 6694.3638\n",
      "Epoch 67/100\n",
      "4/4 [==============================] - 0s 87ms/step - loss: 5116.8589 - mse: 5116.8589 - val_loss: 6694.2471 - val_mse: 6694.2471\n",
      "Epoch 68/100\n",
      "4/4 [==============================] - 0s 86ms/step - loss: 5029.2236 - mse: 5029.2236 - val_loss: 6694.0469 - val_mse: 6694.0469\n",
      "Epoch 69/100\n",
      "4/4 [==============================] - 0s 89ms/step - loss: 5058.3608 - mse: 5058.3608 - val_loss: 6690.2559 - val_mse: 6690.2559\n",
      "Epoch 70/100\n",
      "4/4 [==============================] - 0s 87ms/step - loss: 5091.3374 - mse: 5091.3374 - val_loss: 6688.1553 - val_mse: 6688.1553\n",
      "Epoch 71/100\n",
      "4/4 [==============================] - 0s 87ms/step - loss: 5035.2192 - mse: 5035.2192 - val_loss: 6689.7495 - val_mse: 6689.7495\n",
      "Epoch 72/100\n",
      "4/4 [==============================] - 0s 89ms/step - loss: 5078.5513 - mse: 5078.5513 - val_loss: 6692.5640 - val_mse: 6692.5640\n",
      "Epoch 73/100\n",
      "4/4 [==============================] - 0s 88ms/step - loss: 5040.5669 - mse: 5040.5669 - val_loss: 6695.7407 - val_mse: 6695.7407\n",
      "Epoch 74/100\n",
      "4/4 [==============================] - 0s 89ms/step - loss: 5104.7393 - mse: 5104.7393 - val_loss: 6692.6943 - val_mse: 6692.6943\n",
      "Epoch 75/100\n",
      "4/4 [==============================] - 0s 87ms/step - loss: 5080.2588 - mse: 5080.2588 - val_loss: 6683.1909 - val_mse: 6683.1909\n",
      "Epoch 76/100\n",
      "4/4 [==============================] - 0s 92ms/step - loss: 5061.6704 - mse: 5061.6704 - val_loss: 6679.7290 - val_mse: 6679.7290\n",
      "Epoch 77/100\n",
      "4/4 [==============================] - 0s 87ms/step - loss: 5051.9912 - mse: 5051.9912 - val_loss: 6682.0503 - val_mse: 6682.0503\n",
      "Epoch 78/100\n",
      "4/4 [==============================] - 0s 90ms/step - loss: 5042.0010 - mse: 5042.0010 - val_loss: 6687.8335 - val_mse: 6687.8335\n",
      "Epoch 79/100\n",
      "4/4 [==============================] - 0s 90ms/step - loss: 5033.1172 - mse: 5033.1172 - val_loss: 6691.2246 - val_mse: 6691.2246\n",
      "Epoch 80/100\n",
      "4/4 [==============================] - 0s 88ms/step - loss: 5053.8276 - mse: 5053.8276 - val_loss: 6686.6431 - val_mse: 6686.6431\n",
      "Epoch 81/100\n",
      "4/4 [==============================] - 0s 88ms/step - loss: 5127.0376 - mse: 5127.0376 - val_loss: 6691.1411 - val_mse: 6691.1411\n",
      "Epoch 82/100\n",
      "4/4 [==============================] - 0s 89ms/step - loss: 5044.4116 - mse: 5044.4116 - val_loss: 6692.9204 - val_mse: 6692.9204\n",
      "Epoch 83/100\n",
      "4/4 [==============================] - 0s 91ms/step - loss: 5050.4971 - mse: 5050.4971 - val_loss: 6696.3999 - val_mse: 6696.3999\n",
      "Epoch 84/100\n",
      "4/4 [==============================] - 0s 90ms/step - loss: 5040.8003 - mse: 5040.8003 - val_loss: 6694.2969 - val_mse: 6694.2969\n",
      "Epoch 85/100\n",
      "4/4 [==============================] - 0s 88ms/step - loss: 5024.7739 - mse: 5024.7739 - val_loss: 6691.5552 - val_mse: 6691.5552\n",
      "Epoch 86/100\n",
      "4/4 [==============================] - 0s 89ms/step - loss: 5044.3882 - mse: 5044.3882 - val_loss: 6683.5034 - val_mse: 6683.5034\n",
      "Epoch 87/100\n",
      "4/4 [==============================] - 0s 88ms/step - loss: 5052.5283 - mse: 5052.5283 - val_loss: 6672.7573 - val_mse: 6672.7573\n",
      "Epoch 88/100\n",
      "4/4 [==============================] - 0s 88ms/step - loss: 5067.6343 - mse: 5067.6343 - val_loss: 6673.3540 - val_mse: 6673.3540\n",
      "Epoch 89/100\n",
      "4/4 [==============================] - 0s 88ms/step - loss: 5083.5859 - mse: 5083.5859 - val_loss: 6673.8467 - val_mse: 6673.8467\n",
      "Epoch 90/100\n",
      "4/4 [==============================] - 0s 88ms/step - loss: 5064.4072 - mse: 5064.4072 - val_loss: 6679.6626 - val_mse: 6679.6626\n",
      "Epoch 91/100\n",
      "4/4 [==============================] - 0s 91ms/step - loss: 5043.8164 - mse: 5043.8164 - val_loss: 6679.6025 - val_mse: 6679.6025\n",
      "Epoch 92/100\n",
      "4/4 [==============================] - 0s 89ms/step - loss: 5056.7300 - mse: 5056.7300 - val_loss: 6678.1792 - val_mse: 6678.1792\n",
      "Epoch 93/100\n",
      "4/4 [==============================] - 0s 90ms/step - loss: 5046.3545 - mse: 5046.3545 - val_loss: 6671.0293 - val_mse: 6671.0293\n",
      "Epoch 94/100\n",
      "4/4 [==============================] - 0s 89ms/step - loss: 5062.0137 - mse: 5062.0137 - val_loss: 6664.7959 - val_mse: 6664.7959\n",
      "Epoch 95/100\n",
      "4/4 [==============================] - 0s 91ms/step - loss: 5030.3774 - mse: 5030.3774 - val_loss: 6660.2256 - val_mse: 6660.2256\n",
      "Epoch 96/100\n",
      "4/4 [==============================] - 0s 90ms/step - loss: 5048.3452 - mse: 5048.3452 - val_loss: 6666.2368 - val_mse: 6666.2368\n",
      "Epoch 97/100\n",
      "4/4 [==============================] - 0s 91ms/step - loss: 5029.1128 - mse: 5029.1128 - val_loss: 6676.4819 - val_mse: 6676.4819\n",
      "Epoch 98/100\n",
      "4/4 [==============================] - 0s 90ms/step - loss: 5060.8350 - mse: 5060.8350 - val_loss: 6685.8643 - val_mse: 6685.8643\n",
      "Epoch 99/100\n",
      "4/4 [==============================] - 0s 91ms/step - loss: 5071.4468 - mse: 5071.4468 - val_loss: 6691.7510 - val_mse: 6691.7510\n",
      "Epoch 100/100\n",
      "4/4 [==============================] - 0s 92ms/step - loss: 5060.4419 - mse: 5060.4419 - val_loss: 6702.2070 - val_mse: 6702.2070\n"
     ]
    }
   ],
   "source": [
    "history = model.fit(sequences_matrix,Y_train,batch_size=128,epochs=100,validation_split=0.2)"
   ]
  },
  {
   "cell_type": "code",
   "execution_count": 93,
   "id": "greek-miniature",
   "metadata": {},
   "outputs": [],
   "source": [
    "import matplotlib.pyplot as plt"
   ]
  },
  {
   "cell_type": "code",
   "execution_count": 111,
   "id": "packed-oxford",
   "metadata": {},
   "outputs": [
    {
     "data": {
      "text/plain": [
       "[<matplotlib.lines.Line2D at 0x1a49946780>]"
      ]
     },
     "execution_count": 111,
     "metadata": {},
     "output_type": "execute_result"
    },
    {
     "data": {
      "image/png": "[encoded data removed]",
      "text/plain": [
       "<Figure size 432x288 with 1 Axes>"
      ]
     },
     "metadata": {
      "needs_background": "light"
     },
     "output_type": "display_data"
    }
   ],
   "source": [
    "mse = history.history['mse']\n",
    "val_mse = history.history['val_mse']\n",
    "plt.plot(mse, c='blue')\n",
    "plt.plot(val_mse, c='red')"
   ]
  },
  {
   "cell_type": "code",
   "execution_count": 105,
   "id": "behavioral-architecture",
   "metadata": {},
   "outputs": [],
   "source": [
    "test_seq = pep2seq(X_test)\n",
    "test_seq_mat = sequence.pad_sequences(test_seq,maxlen=max_len)"
   ]
  },
  {
   "cell_type": "code",
   "execution_count": 89,
   "id": "historic-palestine",
   "metadata": {
    "collapsed": true
   },
   "outputs": [
    {
     "data": {
      "text/plain": [
       "array([[30.742304],\n",
       "       [31.269938],\n",
       "       [31.574347],\n",
       "       [31.465834],\n",
       "       [31.532663],\n",
       "       [31.52527 ],\n",
       "       [30.754152],\n",
       "       [30.742292],\n",
       "       [31.23253 ],\n",
       "       [31.389181],\n",
       "       [31.005402],\n",
       "       [31.292719],\n",
       "       [31.296791],\n",
       "       [31.532461],\n",
       "       [31.47369 ],\n",
       "       [31.499907],\n",
       "       [30.682972],\n",
       "       [31.163565],\n",
       "       [30.795961],\n",
       "       [30.92061 ],\n",
       "       [31.389467],\n",
       "       [31.231401],\n",
       "       [31.16609 ],\n",
       "       [30.7633  ],\n",
       "       [30.826181],\n",
       "       [31.477575],\n",
       "       [30.752647],\n",
       "       [30.762926],\n",
       "       [30.985254],\n",
       "       [30.881594],\n",
       "       [31.642246],\n",
       "       [31.446886],\n",
       "       [31.181093],\n",
       "       [31.533037],\n",
       "       [30.237944],\n",
       "       [30.945675],\n",
       "       [30.914238],\n",
       "       [30.98503 ],\n",
       "       [30.66792 ],\n",
       "       [30.783403],\n",
       "       [30.794046],\n",
       "       [31.353773],\n",
       "       [31.533003],\n",
       "       [31.45766 ],\n",
       "       [30.84175 ],\n",
       "       [31.293764],\n",
       "       [31.191946],\n",
       "       [30.985052],\n",
       "       [30.945314],\n",
       "       [31.658554],\n",
       "       [31.070791],\n",
       "       [31.360804],\n",
       "       [31.49551 ],\n",
       "       [31.065619],\n",
       "       [30.6979  ],\n",
       "       [31.532597],\n",
       "       [30.435759],\n",
       "       [30.40584 ],\n",
       "       [30.668062],\n",
       "       [30.800508],\n",
       "       [31.665155],\n",
       "       [31.20582 ],\n",
       "       [30.90655 ],\n",
       "       [31.398125],\n",
       "       [31.379982],\n",
       "       [31.500399],\n",
       "       [30.98477 ],\n",
       "       [31.650082],\n",
       "       [30.688095],\n",
       "       [31.507864],\n",
       "       [31.05805 ],\n",
       "       [30.977621],\n",
       "       [30.72864 ],\n",
       "       [31.301798],\n",
       "       [31.043869],\n",
       "       [31.291956],\n",
       "       [31.460508],\n",
       "       [31.05733 ],\n",
       "       [30.830183],\n",
       "       [31.576948],\n",
       "       [30.609127],\n",
       "       [31.490938],\n",
       "       [31.486067],\n",
       "       [31.687498],\n",
       "       [31.532694],\n",
       "       [31.415754],\n",
       "       [31.66523 ],\n",
       "       [30.640688],\n",
       "       [30.984707],\n",
       "       [31.297909],\n",
       "       [31.386217],\n",
       "       [31.43479 ],\n",
       "       [30.574997],\n",
       "       [31.24684 ],\n",
       "       [31.278128],\n",
       "       [30.563742],\n",
       "       [30.666994],\n",
       "       [30.944757],\n",
       "       [31.054655],\n",
       "       [30.820501],\n",
       "       [30.808744],\n",
       "       [30.939505],\n",
       "       [30.967276],\n",
       "       [31.626776],\n",
       "       [31.665068],\n",
       "       [31.297714],\n",
       "       [31.310938],\n",
       "       [30.53575 ],\n",
       "       [31.118998],\n",
       "       [31.337736],\n",
       "       [31.448324],\n",
       "       [30.952969],\n",
       "       [30.69911 ],\n",
       "       [31.53245 ],\n",
       "       [30.222075],\n",
       "       [30.909061],\n",
       "       [31.491722],\n",
       "       [31.34646 ],\n",
       "       [30.573782],\n",
       "       [31.537115],\n",
       "       [30.89596 ],\n",
       "       [31.552439],\n",
       "       [31.234793],\n",
       "       [30.819147],\n",
       "       [30.942183],\n",
       "       [31.33301 ],\n",
       "       [30.821167],\n",
       "       [31.205774],\n",
       "       [31.538847],\n",
       "       [31.459684],\n",
       "       [31.483171],\n",
       "       [31.19712 ],\n",
       "       [30.73401 ],\n",
       "       [31.665525],\n",
       "       [31.303926],\n",
       "       [31.689375],\n",
       "       [31.347464],\n",
       "       [31.285751],\n",
       "       [30.9824  ],\n",
       "       [30.991358],\n",
       "       [30.985016],\n",
       "       [30.927454]], dtype=float32)"
      ]
     },
     "execution_count": 89,
     "metadata": {},
     "output_type": "execute_result"
    }
   ],
   "source": [
    "model.predict(test_seq_mat)"
   ]
  },
  {
   "cell_type": "code",
   "execution_count": null,
   "id": "great-novelty",
   "metadata": {},
   "outputs": [],
   "source": []
  }
 ],
 "metadata": {
  "kernelspec": {
   "display_name": "Python 3",
   "language": "python",
   "name": "python3"
  },
  "language_info": {
   "codemirror_mode": {
    "name": "ipython",
    "version": 3
   },
   "file_extension": ".py",
   "mimetype": "text/x-python",
   "name": "python",
   "nbconvert_exporter": "python",
   "pygments_lexer": "ipython3",
   "version": "3.6.10"
  },
  "varInspector": {
   "cols": {
    "lenName": 16,
    "lenType": 16,
    "lenVar": 40
   },
   "kernels_config": {
    "python": {
     "delete_cmd_postfix": "",
     "delete_cmd_prefix": "del ",
     "library": "var_list.py",
     "varRefreshCmd": "print(var_dic_list())"
    },
    "r": {
     "delete_cmd_postfix": ") ",
     "delete_cmd_prefix": "rm(",
     "library": "var_list.r",
     "varRefreshCmd": "cat(var_dic_list()) "
    }
   },
   "types_to_exclude": [
    "module",
    "function",
    "builtin_function_or_method",
    "instance",
    "_Feature"
   ],
   "window_display": false
  }
 },
 "nbformat": 4,
 "nbformat_minor": 5
}
