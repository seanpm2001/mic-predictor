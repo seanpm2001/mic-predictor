{
 "cells": [
  {
   "cell_type": "code",
   "execution_count": 3,
   "id": "smaller-nelson",
   "metadata": {
    "scrolled": false
   },
   "outputs": [
    {
     "name": "stdout",
     "output_type": "stream",
     "text": [
      "/Users/in-divye.singh/Documents/Projects/MIC_predictor/src\n"
     ]
    }
   ],
   "source": [
    "cd ../../src"
   ]
  },
  {
   "cell_type": "code",
   "execution_count": 4,
   "id": "unlikely-thinking",
   "metadata": {},
   "outputs": [],
   "source": [
    "import biovec\n",
    "import numpy as np\n",
    "import pandas as pd\n",
    "from itertools import chain, combinations\n",
    "from collections import Counter\n",
    "\n",
    "from utils import *\n",
    "\n",
    "from sklearn.svm import SVR\n",
    "from sklearn.neighbors import KNeighborsRegressor\n",
    "from sklearn.metrics import make_scorer\n",
    "from sklearn.model_selection import GridSearchCV\n",
    "from sklearn.metrics import mean_squared_error, mean_absolute_error\n",
    "from sklearn.model_selection import train_test_split\n",
    "\n",
    "from Bio.SeqUtils.ProtParam import ProteinAnalysis"
   ]
  },
  {
   "cell_type": "code",
   "execution_count": 5,
   "id": "missing-capacity",
   "metadata": {},
   "outputs": [],
   "source": [
    "from sklearn.compose import TransformedTargetRegressor\n",
    "from sklearn.preprocessing import QuantileTransformer, quantile_transform"
   ]
  },
  {
   "cell_type": "code",
   "execution_count": 6,
   "id": "republican-career",
   "metadata": {},
   "outputs": [],
   "source": [
    "import seaborn as sns\n",
    "import matplotlib.pyplot as plt"
   ]
  },
  {
   "cell_type": "code",
   "execution_count": 7,
   "id": "underlying-philadelphia",
   "metadata": {},
   "outputs": [],
   "source": [
    "def mean_absolute_percentage_error(y_true, y_pred): \n",
    "    y_true, y_pred = np.array(y_true), np.array(y_pred)\n",
    "    return np.mean(np.abs((y_true - y_pred) / y_true)) * 100\n",
    "\n",
    "mape_scorer = make_scorer(mean_absolute_percentage_error, greater_is_better=False)"
   ]
  },
  {
   "cell_type": "code",
   "execution_count": 8,
   "id": "reduced-teach",
   "metadata": {},
   "outputs": [],
   "source": [
    "avp_ic50 = pd.read_csv(\"../data/raw/AVP-IC50Pred_train.csv\")\n",
    "ha_avp = pd.read_csv(\"../data/raw/HA_AVP.csv\")"
   ]
  },
  {
   "cell_type": "code",
   "execution_count": 9,
   "id": "hollow-processing",
   "metadata": {},
   "outputs": [],
   "source": [
    "df = pd.concat([avp_ic50[['Sequence','MIC']], ha_avp], axis=0).drop_duplicates(['Sequence']).reset_index(drop=True)\n",
    "df = sequence_filtering(df)"
   ]
  },
  {
   "cell_type": "code",
   "execution_count": 10,
   "id": "fitting-stanford",
   "metadata": {},
   "outputs": [
    {
     "data": {
      "text/html": [
       "<div>\n",
       "<style scoped>\n",
       "    .dataframe tbody tr th:only-of-type {\n",
       "        vertical-align: middle;\n",
       "    }\n",
       "\n",
       "    .dataframe tbody tr th {\n",
       "        vertical-align: top;\n",
       "    }\n",
       "\n",
       "    .dataframe thead th {\n",
       "        text-align: right;\n",
       "    }\n",
       "</style>\n",
       "<table border=\"1\" class=\"dataframe\">\n",
       "  <thead>\n",
       "    <tr style=\"text-align: right;\">\n",
       "      <th></th>\n",
       "      <th>Sequence</th>\n",
       "      <th>MIC</th>\n",
       "    </tr>\n",
       "  </thead>\n",
       "  <tbody>\n",
       "    <tr>\n",
       "      <th>0</th>\n",
       "      <td>AAQRRGRVGRNPNQVGD</td>\n",
       "      <td>442.00000</td>\n",
       "    </tr>\n",
       "    <tr>\n",
       "      <th>1</th>\n",
       "      <td>HRILARIRQMMT</td>\n",
       "      <td>435.50000</td>\n",
       "    </tr>\n",
       "    <tr>\n",
       "      <th>2</th>\n",
       "      <td>RNPSQVGD</td>\n",
       "      <td>383.00000</td>\n",
       "    </tr>\n",
       "    <tr>\n",
       "      <th>3</th>\n",
       "      <td>RVGRNPNQVGD</td>\n",
       "      <td>374.00000</td>\n",
       "    </tr>\n",
       "    <tr>\n",
       "      <th>4</th>\n",
       "      <td>AAQRRGRIGRNPSQVGD</td>\n",
       "      <td>358.00000</td>\n",
       "    </tr>\n",
       "    <tr>\n",
       "      <th>...</th>\n",
       "      <td>...</td>\n",
       "      <td>...</td>\n",
       "    </tr>\n",
       "    <tr>\n",
       "      <th>707</th>\n",
       "      <td>NGAICWGPCPTAFRQIGNCGHFKVRCCKIR</td>\n",
       "      <td>0.11515</td>\n",
       "    </tr>\n",
       "    <tr>\n",
       "      <th>708</th>\n",
       "      <td>CFPYITRPGTYHDWWYTRKNRQ</td>\n",
       "      <td>0.30000</td>\n",
       "    </tr>\n",
       "    <tr>\n",
       "      <th>709</th>\n",
       "      <td>YTSLIHSLIEESQNQQEKNEQELLELDKWASLWNWF</td>\n",
       "      <td>0.01131</td>\n",
       "    </tr>\n",
       "    <tr>\n",
       "      <th>710</th>\n",
       "      <td>GTNLSVPNPLGFFPDHQLDPAFGANSNNPDWDFNPNKDHWPEANKVG</td>\n",
       "      <td>0.00008</td>\n",
       "    </tr>\n",
       "    <tr>\n",
       "      <th>711</th>\n",
       "      <td>SWETWEREIENYTRQIYRILEESQEQQDRNERDLLE</td>\n",
       "      <td>0.00200</td>\n",
       "    </tr>\n",
       "  </tbody>\n",
       "</table>\n",
       "<p>712 rows × 2 columns</p>\n",
       "</div>"
      ],
      "text/plain": [
       "                                            Sequence        MIC\n",
       "0                                  AAQRRGRVGRNPNQVGD  442.00000\n",
       "1                                       HRILARIRQMMT  435.50000\n",
       "2                                           RNPSQVGD  383.00000\n",
       "3                                        RVGRNPNQVGD  374.00000\n",
       "4                                  AAQRRGRIGRNPSQVGD  358.00000\n",
       "..                                               ...        ...\n",
       "707                   NGAICWGPCPTAFRQIGNCGHFKVRCCKIR    0.11515\n",
       "708                           CFPYITRPGTYHDWWYTRKNRQ    0.30000\n",
       "709             YTSLIHSLIEESQNQQEKNEQELLELDKWASLWNWF    0.01131\n",
       "710  GTNLSVPNPLGFFPDHQLDPAFGANSNNPDWDFNPNKDHWPEANKVG    0.00008\n",
       "711             SWETWEREIENYTRQIYRILEESQEQQDRNERDLLE    0.00200\n",
       "\n",
       "[712 rows x 2 columns]"
      ]
     },
     "execution_count": 10,
     "metadata": {},
     "output_type": "execute_result"
    }
   ],
   "source": [
    "df"
   ]
  },
  {
   "cell_type": "code",
   "execution_count": 11,
   "id": "nonprofit-ultimate",
   "metadata": {},
   "outputs": [
    {
     "data": {
      "text/plain": [
       "<matplotlib.axes._subplots.AxesSubplot at 0x1a249c3be0>"
      ]
     },
     "execution_count": 11,
     "metadata": {},
     "output_type": "execute_result"
    },
    {
     "data": {
      "image/png": "[encoded data removed]",
      "text/plain": [
       "<Figure size 432x288 with 1 Axes>"
      ]
     },
     "metadata": {
      "needs_background": "light"
     },
     "output_type": "display_data"
    }
   ],
   "source": [
    "df['MIC'].hist()"
   ]
  },
  {
   "cell_type": "code",
   "execution_count": 12,
   "id": "electric-ghana",
   "metadata": {},
   "outputs": [],
   "source": [
    "df['pIC50'] = df['MIC'].apply(lambda x: -np.log(x*1e-6))"
   ]
  },
  {
   "cell_type": "code",
   "execution_count": 13,
   "id": "perceived-major",
   "metadata": {},
   "outputs": [
    {
     "data": {
      "text/html": [
       "<div>\n",
       "<style scoped>\n",
       "    .dataframe tbody tr th:only-of-type {\n",
       "        vertical-align: middle;\n",
       "    }\n",
       "\n",
       "    .dataframe tbody tr th {\n",
       "        vertical-align: top;\n",
       "    }\n",
       "\n",
       "    .dataframe thead th {\n",
       "        text-align: right;\n",
       "    }\n",
       "</style>\n",
       "<table border=\"1\" class=\"dataframe\">\n",
       "  <thead>\n",
       "    <tr style=\"text-align: right;\">\n",
       "      <th></th>\n",
       "      <th>Sequence</th>\n",
       "      <th>MIC</th>\n",
       "      <th>pIC50</th>\n",
       "    </tr>\n",
       "  </thead>\n",
       "  <tbody>\n",
       "    <tr>\n",
       "      <th>0</th>\n",
       "      <td>AAQRRGRVGRNPNQVGD</td>\n",
       "      <td>442.00000</td>\n",
       "      <td>7.724201</td>\n",
       "    </tr>\n",
       "    <tr>\n",
       "      <th>1</th>\n",
       "      <td>HRILARIRQMMT</td>\n",
       "      <td>435.50000</td>\n",
       "      <td>7.739016</td>\n",
       "    </tr>\n",
       "    <tr>\n",
       "      <th>2</th>\n",
       "      <td>RNPSQVGD</td>\n",
       "      <td>383.00000</td>\n",
       "      <td>7.867476</td>\n",
       "    </tr>\n",
       "    <tr>\n",
       "      <th>3</th>\n",
       "      <td>RVGRNPNQVGD</td>\n",
       "      <td>374.00000</td>\n",
       "      <td>7.891255</td>\n",
       "    </tr>\n",
       "    <tr>\n",
       "      <th>4</th>\n",
       "      <td>AAQRRGRIGRNPSQVGD</td>\n",
       "      <td>358.00000</td>\n",
       "      <td>7.934978</td>\n",
       "    </tr>\n",
       "    <tr>\n",
       "      <th>...</th>\n",
       "      <td>...</td>\n",
       "      <td>...</td>\n",
       "      <td>...</td>\n",
       "    </tr>\n",
       "    <tr>\n",
       "      <th>707</th>\n",
       "      <td>NGAICWGPCPTAFRQIGNCGHFKVRCCKIR</td>\n",
       "      <td>0.11515</td>\n",
       "      <td>15.977030</td>\n",
       "    </tr>\n",
       "    <tr>\n",
       "      <th>708</th>\n",
       "      <td>CFPYITRPGTYHDWWYTRKNRQ</td>\n",
       "      <td>0.30000</td>\n",
       "      <td>15.019483</td>\n",
       "    </tr>\n",
       "    <tr>\n",
       "      <th>709</th>\n",
       "      <td>YTSLIHSLIEESQNQQEKNEQELLELDKWASLWNWF</td>\n",
       "      <td>0.01131</td>\n",
       "      <td>18.297579</td>\n",
       "    </tr>\n",
       "    <tr>\n",
       "      <th>710</th>\n",
       "      <td>GTNLSVPNPLGFFPDHQLDPAFGANSNNPDWDFNPNKDHWPEANKVG</td>\n",
       "      <td>0.00008</td>\n",
       "      <td>23.248994</td>\n",
       "    </tr>\n",
       "    <tr>\n",
       "      <th>711</th>\n",
       "      <td>SWETWEREIENYTRQIYRILEESQEQQDRNERDLLE</td>\n",
       "      <td>0.00200</td>\n",
       "      <td>20.030119</td>\n",
       "    </tr>\n",
       "  </tbody>\n",
       "</table>\n",
       "<p>712 rows × 3 columns</p>\n",
       "</div>"
      ],
      "text/plain": [
       "                                            Sequence        MIC      pIC50\n",
       "0                                  AAQRRGRVGRNPNQVGD  442.00000   7.724201\n",
       "1                                       HRILARIRQMMT  435.50000   7.739016\n",
       "2                                           RNPSQVGD  383.00000   7.867476\n",
       "3                                        RVGRNPNQVGD  374.00000   7.891255\n",
       "4                                  AAQRRGRIGRNPSQVGD  358.00000   7.934978\n",
       "..                                               ...        ...        ...\n",
       "707                   NGAICWGPCPTAFRQIGNCGHFKVRCCKIR    0.11515  15.977030\n",
       "708                           CFPYITRPGTYHDWWYTRKNRQ    0.30000  15.019483\n",
       "709             YTSLIHSLIEESQNQQEKNEQELLELDKWASLWNWF    0.01131  18.297579\n",
       "710  GTNLSVPNPLGFFPDHQLDPAFGANSNNPDWDFNPNKDHWPEANKVG    0.00008  23.248994\n",
       "711             SWETWEREIENYTRQIYRILEESQEQQDRNERDLLE    0.00200  20.030119\n",
       "\n",
       "[712 rows x 3 columns]"
      ]
     },
     "execution_count": 13,
     "metadata": {},
     "output_type": "execute_result"
    }
   ],
   "source": [
    "df"
   ]
  },
  {
   "cell_type": "code",
   "execution_count": 14,
   "id": "disciplinary-prague",
   "metadata": {
    "scrolled": true
   },
   "outputs": [
    {
     "data": {
      "text/plain": [
       "<matplotlib.axes._subplots.AxesSubplot at 0x1a26b2a7f0>"
      ]
     },
     "execution_count": 14,
     "metadata": {},
     "output_type": "execute_result"
    },
    {
     "data": {
      "image/png": "[encoded data removed]",
      "text/plain": [
       "<Figure size 432x288 with 1 Axes>"
      ]
     },
     "metadata": {
      "needs_background": "light"
     },
     "output_type": "display_data"
    }
   ],
   "source": [
    "df['pIC50'].hist()"
   ]
  },
  {
   "cell_type": "code",
   "execution_count": 26,
   "id": "invalid-title",
   "metadata": {},
   "outputs": [
    {
     "data": {
      "text/html": [
       "<div>\n",
       "<style scoped>\n",
       "    .dataframe tbody tr th:only-of-type {\n",
       "        vertical-align: middle;\n",
       "    }\n",
       "\n",
       "    .dataframe tbody tr th {\n",
       "        vertical-align: top;\n",
       "    }\n",
       "\n",
       "    .dataframe thead th {\n",
       "        text-align: right;\n",
       "    }\n",
       "</style>\n",
       "<table border=\"1\" class=\"dataframe\">\n",
       "  <thead>\n",
       "    <tr style=\"text-align: right;\">\n",
       "      <th></th>\n",
       "      <th>MIC</th>\n",
       "    </tr>\n",
       "  </thead>\n",
       "  <tbody>\n",
       "    <tr>\n",
       "      <th>0</th>\n",
       "      <td>442.00000</td>\n",
       "    </tr>\n",
       "    <tr>\n",
       "      <th>1</th>\n",
       "      <td>435.50000</td>\n",
       "    </tr>\n",
       "    <tr>\n",
       "      <th>2</th>\n",
       "      <td>383.00000</td>\n",
       "    </tr>\n",
       "    <tr>\n",
       "      <th>3</th>\n",
       "      <td>374.00000</td>\n",
       "    </tr>\n",
       "    <tr>\n",
       "      <th>4</th>\n",
       "      <td>358.00000</td>\n",
       "    </tr>\n",
       "    <tr>\n",
       "      <th>...</th>\n",
       "      <td>...</td>\n",
       "    </tr>\n",
       "    <tr>\n",
       "      <th>707</th>\n",
       "      <td>0.11515</td>\n",
       "    </tr>\n",
       "    <tr>\n",
       "      <th>708</th>\n",
       "      <td>0.30000</td>\n",
       "    </tr>\n",
       "    <tr>\n",
       "      <th>709</th>\n",
       "      <td>0.01131</td>\n",
       "    </tr>\n",
       "    <tr>\n",
       "      <th>710</th>\n",
       "      <td>0.00008</td>\n",
       "    </tr>\n",
       "    <tr>\n",
       "      <th>711</th>\n",
       "      <td>0.00200</td>\n",
       "    </tr>\n",
       "  </tbody>\n",
       "</table>\n",
       "<p>712 rows × 1 columns</p>\n",
       "</div>"
      ],
      "text/plain": [
       "           MIC\n",
       "0    442.00000\n",
       "1    435.50000\n",
       "2    383.00000\n",
       "3    374.00000\n",
       "4    358.00000\n",
       "..         ...\n",
       "707    0.11515\n",
       "708    0.30000\n",
       "709    0.01131\n",
       "710    0.00008\n",
       "711    0.00200\n",
       "\n",
       "[712 rows x 1 columns]"
      ]
     },
     "execution_count": 26,
     "metadata": {},
     "output_type": "execute_result"
    }
   ],
   "source": [
    "df['MIC'].to_frame()"
   ]
  },
  {
   "cell_type": "code",
   "execution_count": 41,
   "id": "isolated-bread",
   "metadata": {},
   "outputs": [
    {
     "data": {
      "image/png": "[encoded data removed]",
      "text/plain": [
       "<Figure size 432x288 with 1 Axes>"
      ]
     },
     "metadata": {
      "needs_background": "light"
     },
     "output_type": "display_data"
    }
   ],
   "source": [
    "y_trans = quantile_transform(df['MIC'].to_frame(), n_quantiles=50, output_distribution='normal', copy=True)\n",
    "h = plt.hist(y_trans, bins=100)"
   ]
  },
  {
   "cell_type": "code",
   "execution_count": 42,
   "id": "adjustable-couple",
   "metadata": {},
   "outputs": [],
   "source": [
    "df['quant'] = y_trans"
   ]
  },
  {
   "cell_type": "code",
   "execution_count": 15,
   "id": "objective-preliminary",
   "metadata": {},
   "outputs": [],
   "source": [
    "def get_physicochemical_properties(df):\n",
    "    params = ['aromaticity', 'helix', 'turn', 'sheet', 'gravy', 'net_charge_at_pH7point4']\n",
    "\n",
    "    prop = []\n",
    "    for seq in df.Sequence:\n",
    "        X = ProteinAnalysis(seq)\n",
    "        aromaticity = X.aromaticity()\n",
    "        sec_struc = X.secondary_structure_fraction()\n",
    "        helix = sec_struc[0]\n",
    "        turn = sec_struc[1]\n",
    "        sheet = sec_struc[2]\n",
    "        gravy = X.gravy() # hydrophobicity related\n",
    "        net_charge_at_pH7point4 = X.charge_at_pH(7.4)\n",
    "\n",
    "        prop.append([aromaticity, helix, turn, sheet, gravy, net_charge_at_pH7point4])\n",
    "    return pd.DataFrame(prop, columns=params)"
   ]
  },
  {
   "cell_type": "code",
   "execution_count": 16,
   "id": "deadly-brazil",
   "metadata": {},
   "outputs": [],
   "source": [
    "aa_freq = reduce_by_kmer_frequency(df)"
   ]
  },
  {
   "cell_type": "code",
   "execution_count": 17,
   "id": "ongoing-defensive",
   "metadata": {},
   "outputs": [
    {
     "name": "stderr",
     "output_type": "stream",
     "text": [
      "/Users/in-divye.singh/anaconda3/envs/life-science/lib/python3.6/site-packages/smart_open/smart_open_lib.py:254: UserWarning: This function is deprecated, use smart_open.open instead. See the migration notes for details: https://github.com/RaRe-Technologies/smart_open/blob/master/README.rst#migrating-to-the-new-open-function\n",
      "  'See the migration notes for details: %s' % _MIGRATION_NOTES_URL\n",
      "Creating vectors: 100%|██████████| 712/712 [00:00<00:00, 1190.09sequence/s]\n"
     ]
    }
   ],
   "source": [
    "uniprot_embedding = biovec.models.load_protvec(\"../data/embeddings/uniprot__kmer_3_contextWindow_10_vector_100_reduction_None\")\n",
    "\n",
    "avg_protvec = convert_sequences_to_avg_vectors(df['Sequence'], uniprot_embedding, kmer=3)\n",
    "avg_protvec = avg_protvec.reset_index(drop=True)"
   ]
  },
  {
   "cell_type": "code",
   "execution_count": 18,
   "id": "copyrighted-prediction",
   "metadata": {},
   "outputs": [],
   "source": [
    "physicochemical_prop = get_physicochemical_properties(df)"
   ]
  },
  {
   "cell_type": "code",
   "execution_count": 19,
   "id": "accessory-chain",
   "metadata": {},
   "outputs": [],
   "source": [
    "X = pd.concat([aa_freq, avg_protvec, physicochemical_prop[['helix','turn','sheet']]], axis=1)"
   ]
  },
  {
   "cell_type": "code",
   "execution_count": 43,
   "id": "advisory-startup",
   "metadata": {},
   "outputs": [],
   "source": [
    "y = df[['MIC']]"
   ]
  },
  {
   "cell_type": "code",
   "execution_count": 44,
   "id": "hindu-making",
   "metadata": {},
   "outputs": [],
   "source": [
    "X_train, X_test, y_train, y_test = train_test_split(X, y, test_size=0.2, random_state=42)"
   ]
  },
  {
   "cell_type": "raw",
   "id": "developmental-macro",
   "metadata": {},
   "source": [
    "y_train_pmic, y_train_mic = y_train['pIC50'], y_train['MIC']\n",
    "y_test_pmic, y_test_mic = y_test['pIC50'], y_test['MIC']"
   ]
  },
  {
   "cell_type": "code",
   "execution_count": 46,
   "id": "taken-representative",
   "metadata": {},
   "outputs": [],
   "source": [
    "regr = TransformedTargetRegressor(regressor=SVR(C=100, gamma=3), \n",
    "                                 transformer=QuantileTransformer(n_quantiles=900, output_distribution='normal')\n",
    "                                )"
   ]
  },
  {
   "cell_type": "code",
   "execution_count": 48,
   "id": "speaking-draft",
   "metadata": {},
   "outputs": [
    {
     "name": "stderr",
     "output_type": "stream",
     "text": [
      "/Users/in-divye.singh/anaconda3/envs/life-science/lib/python3.6/site-packages/sklearn/preprocessing/_data.py:2370: UserWarning: n_quantiles (900) is greater than the total number of samples (569). n_quantiles is set to n_samples.\n",
      "  % (self.n_quantiles, n_samples))\n"
     ]
    }
   ],
   "source": [
    "regr.fit(X_train, y_train)\n",
    "y_pred = regr.predict(X_test)"
   ]
  },
  {
   "cell_type": "code",
   "execution_count": 49,
   "id": "tough-investigation",
   "metadata": {},
   "outputs": [],
   "source": [
    "ape = 100*np.abs(y_test-y_pred)/y_test"
   ]
  },
  {
   "cell_type": "code",
   "execution_count": 64,
   "id": "breathing-italic",
   "metadata": {},
   "outputs": [
    {
     "data": {
      "text/plain": [
       "2843368.6056035724"
      ]
     },
     "execution_count": 64,
     "metadata": {},
     "output_type": "execute_result"
    }
   ],
   "source": [
    "ape.values.squeeze().mean()"
   ]
  },
  {
   "cell_type": "code",
   "execution_count": null,
   "id": "tender-sensitivity",
   "metadata": {},
   "outputs": [],
   "source": []
  }
 ],
 "metadata": {
  "kernelspec": {
   "display_name": "Python 3",
   "language": "python",
   "name": "python3"
  },
  "language_info": {
   "codemirror_mode": {
    "name": "ipython",
    "version": 3
   },
   "file_extension": ".py",
   "mimetype": "text/x-python",
   "name": "python",
   "nbconvert_exporter": "python",
   "pygments_lexer": "ipython3",
   "version": "3.6.10"
  },
  "varInspector": {
   "cols": {
    "lenName": 16,
    "lenType": 16,
    "lenVar": 40
   },
   "kernels_config": {
    "python": {
     "delete_cmd_postfix": "",
     "delete_cmd_prefix": "del ",
     "library": "var_list.py",
     "varRefreshCmd": "print(var_dic_list())"
    },
    "r": {
     "delete_cmd_postfix": ") ",
     "delete_cmd_prefix": "rm(",
     "library": "var_list.r",
     "varRefreshCmd": "cat(var_dic_list()) "
    }
   },
   "types_to_exclude": [
    "module",
    "function",
    "builtin_function_or_method",
    "instance",
    "_Feature"
   ],
   "window_display": false
  }
 },
 "nbformat": 4,
 "nbformat_minor": 5
}
