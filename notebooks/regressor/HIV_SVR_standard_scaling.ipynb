{
 "cells": [
  {
   "cell_type": "code",
   "execution_count": 1,
   "id": "surrounded-voltage",
   "metadata": {
    "scrolled": false
   },
   "outputs": [
    {
     "name": "stdout",
     "output_type": "stream",
     "text": [
      "/Users/in-divye.singh/Documents/Projects/MIC_predictor/src\n"
     ]
    }
   ],
   "source": [
    "cd ../../src"
   ]
  },
  {
   "cell_type": "code",
   "execution_count": 2,
   "id": "going-metadata",
   "metadata": {},
   "outputs": [],
   "source": [
    "import biovec\n",
    "import numpy as np\n",
    "import pandas as pd\n",
    "from itertools import chain, combinations\n",
    "from collections import Counter\n",
    "\n",
    "from utils import *\n",
    "\n",
    "from sklearn.svm import SVR\n",
    "from sklearn.neighbors import KNeighborsRegressor\n",
    "from sklearn.metrics import make_scorer\n",
    "from sklearn.model_selection import GridSearchCV\n",
    "from sklearn.metrics import mean_squared_error, mean_absolute_error\n",
    "from sklearn.model_selection import train_test_split\n",
    "\n",
    "from Bio.SeqUtils.ProtParam import ProteinAnalysis"
   ]
  },
  {
   "cell_type": "code",
   "execution_count": 3,
   "id": "artificial-cloud",
   "metadata": {},
   "outputs": [],
   "source": [
    "import seaborn as sns"
   ]
  },
  {
   "cell_type": "code",
   "execution_count": 4,
   "id": "fifth-homework",
   "metadata": {},
   "outputs": [],
   "source": [
    "def mean_absolute_percentage_error(y_true, y_pred): \n",
    "    y_true, y_pred = np.array(y_true), np.array(y_pred)\n",
    "    return np.mean(np.abs((y_true - y_pred) / y_true)) * 100\n",
    "\n",
    "mape_scorer = make_scorer(mean_absolute_percentage_error, greater_is_better=False)"
   ]
  },
  {
   "cell_type": "code",
   "execution_count": 5,
   "id": "placed-malta",
   "metadata": {},
   "outputs": [],
   "source": [
    "df = pd.read_csv(\"../data/raw/hiv_cdhit_filtered.csv\")"
   ]
  },
  {
   "cell_type": "code",
   "execution_count": 6,
   "id": "altered-coordination",
   "metadata": {},
   "outputs": [
    {
     "data": {
      "text/html": [
       "<div>\n",
       "<style scoped>\n",
       "    .dataframe tbody tr th:only-of-type {\n",
       "        vertical-align: middle;\n",
       "    }\n",
       "\n",
       "    .dataframe tbody tr th {\n",
       "        vertical-align: top;\n",
       "    }\n",
       "\n",
       "    .dataframe thead th {\n",
       "        text-align: right;\n",
       "    }\n",
       "</style>\n",
       "<table border=\"1\" class=\"dataframe\">\n",
       "  <thead>\n",
       "    <tr style=\"text-align: right;\">\n",
       "      <th></th>\n",
       "      <th>Sequence</th>\n",
       "      <th>MIC</th>\n",
       "      <th>pIC50</th>\n",
       "    </tr>\n",
       "  </thead>\n",
       "  <tbody>\n",
       "    <tr>\n",
       "      <th>0</th>\n",
       "      <td>ACWAAGIKQEF</td>\n",
       "      <td>333.000</td>\n",
       "      <td>8.007368</td>\n",
       "    </tr>\n",
       "    <tr>\n",
       "      <th>1</th>\n",
       "      <td>ACWGAGIKQEF</td>\n",
       "      <td>333.000</td>\n",
       "      <td>8.007368</td>\n",
       "    </tr>\n",
       "    <tr>\n",
       "      <th>2</th>\n",
       "      <td>ACWWAGIKAEF</td>\n",
       "      <td>333.000</td>\n",
       "      <td>8.007368</td>\n",
       "    </tr>\n",
       "    <tr>\n",
       "      <th>3</th>\n",
       "      <td>ACWWAGIKQAF</td>\n",
       "      <td>333.000</td>\n",
       "      <td>8.007368</td>\n",
       "    </tr>\n",
       "    <tr>\n",
       "      <th>4</th>\n",
       "      <td>ACWWAGIRQEF</td>\n",
       "      <td>333.000</td>\n",
       "      <td>8.007368</td>\n",
       "    </tr>\n",
       "    <tr>\n",
       "      <th>...</th>\n",
       "      <td>...</td>\n",
       "      <td>...</td>\n",
       "      <td>...</td>\n",
       "    </tr>\n",
       "    <tr>\n",
       "      <th>148</th>\n",
       "      <td>VWGIKQLQARILAVERYLKDQQLLGIWG</td>\n",
       "      <td>0.020</td>\n",
       "      <td>17.727534</td>\n",
       "    </tr>\n",
       "    <tr>\n",
       "      <th>149</th>\n",
       "      <td>MTWMEWDREINNYTSLIHSLIEESQNQQEKNEQELLEL</td>\n",
       "      <td>0.008</td>\n",
       "      <td>18.643824</td>\n",
       "    </tr>\n",
       "    <tr>\n",
       "      <th>150</th>\n",
       "      <td>MTWEAWDRAIAEYAARIEALIRAAQEQQEKNEAALREL</td>\n",
       "      <td>0.007</td>\n",
       "      <td>18.777356</td>\n",
       "    </tr>\n",
       "    <tr>\n",
       "      <th>151</th>\n",
       "      <td>TTWEEWDREINEYTSRIESLIRESQEQQEKNEQELREL</td>\n",
       "      <td>0.005</td>\n",
       "      <td>19.113828</td>\n",
       "    </tr>\n",
       "    <tr>\n",
       "      <th>152</th>\n",
       "      <td>WEEWDKKIEEYTKKIEELIKKSEEQQKN</td>\n",
       "      <td>0.002</td>\n",
       "      <td>20.030119</td>\n",
       "    </tr>\n",
       "  </tbody>\n",
       "</table>\n",
       "<p>153 rows × 3 columns</p>\n",
       "</div>"
      ],
      "text/plain": [
       "                                   Sequence      MIC      pIC50\n",
       "0                               ACWAAGIKQEF  333.000   8.007368\n",
       "1                               ACWGAGIKQEF  333.000   8.007368\n",
       "2                               ACWWAGIKAEF  333.000   8.007368\n",
       "3                               ACWWAGIKQAF  333.000   8.007368\n",
       "4                               ACWWAGIRQEF  333.000   8.007368\n",
       "..                                      ...      ...        ...\n",
       "148            VWGIKQLQARILAVERYLKDQQLLGIWG    0.020  17.727534\n",
       "149  MTWMEWDREINNYTSLIHSLIEESQNQQEKNEQELLEL    0.008  18.643824\n",
       "150  MTWEAWDRAIAEYAARIEALIRAAQEQQEKNEAALREL    0.007  18.777356\n",
       "151  TTWEEWDREINEYTSRIESLIRESQEQQEKNEQELREL    0.005  19.113828\n",
       "152            WEEWDKKIEEYTKKIEELIKKSEEQQKN    0.002  20.030119\n",
       "\n",
       "[153 rows x 3 columns]"
      ]
     },
     "execution_count": 6,
     "metadata": {},
     "output_type": "execute_result"
    }
   ],
   "source": [
    "df"
   ]
  },
  {
   "cell_type": "code",
   "execution_count": 7,
   "id": "computational-report",
   "metadata": {},
   "outputs": [],
   "source": [
    "size = len(df['MIC'])-1\n",
    "df['PL'] = df['MIC'].rank(method='min').apply(lambda x: (x)/size)"
   ]
  },
  {
   "cell_type": "code",
   "execution_count": 8,
   "id": "dress-modern",
   "metadata": {},
   "outputs": [
    {
     "data": {
      "text/plain": [
       "<matplotlib.axes._subplots.AxesSubplot at 0x1a270e1080>"
      ]
     },
     "execution_count": 8,
     "metadata": {},
     "output_type": "execute_result"
    },
    {
     "data": {
      "image/png": "[encoded data removed]",
      "text/plain": [
       "<Figure size 432x288 with 1 Axes>"
      ]
     },
     "metadata": {
      "needs_background": "light"
     },
     "output_type": "display_data"
    }
   ],
   "source": [
    "df['PL'].hist()"
   ]
  },
  {
   "cell_type": "code",
   "execution_count": 9,
   "id": "sweet-edition",
   "metadata": {},
   "outputs": [],
   "source": [
    "def get_physicochemical_properties(df):\n",
    "    params = ['aromaticity', 'helix', 'turn', 'sheet', 'gravy', 'net_charge_at_pH7point4']\n",
    "\n",
    "    prop = []\n",
    "    for seq in df.Sequence:\n",
    "        X = ProteinAnalysis(seq)\n",
    "        aromaticity = X.aromaticity()\n",
    "        sec_struc = X.secondary_structure_fraction()\n",
    "        helix = sec_struc[0]\n",
    "        turn = sec_struc[1]\n",
    "        sheet = sec_struc[2]\n",
    "        gravy = X.gravy() # hydrophobicity related\n",
    "        net_charge_at_pH7point4 = X.charge_at_pH(7.4)\n",
    "\n",
    "        prop.append([aromaticity, helix, turn, sheet, gravy, net_charge_at_pH7point4])\n",
    "    return pd.DataFrame(prop, columns=params)"
   ]
  },
  {
   "cell_type": "code",
   "execution_count": 10,
   "id": "patent-throat",
   "metadata": {},
   "outputs": [],
   "source": [
    "aa_freq = reduce_by_kmer_frequency(df)"
   ]
  },
  {
   "cell_type": "code",
   "execution_count": 11,
   "id": "flying-invalid",
   "metadata": {},
   "outputs": [
    {
     "name": "stderr",
     "output_type": "stream",
     "text": [
      "/Users/in-divye.singh/anaconda3/envs/life-science/lib/python3.6/site-packages/smart_open/smart_open_lib.py:254: UserWarning: This function is deprecated, use smart_open.open instead. See the migration notes for details: https://github.com/RaRe-Technologies/smart_open/blob/master/README.rst#migrating-to-the-new-open-function\n",
      "  'See the migration notes for details: %s' % _MIGRATION_NOTES_URL\n",
      "Creating vectors: 100%|██████████| 153/153 [00:00<00:00, 1104.11sequence/s]\n"
     ]
    }
   ],
   "source": [
    "uniprot_embedding = biovec.models.load_protvec(\"../data/embeddings/uniprot__kmer_3_contextWindow_10_vector_100_reduction_None\")\n",
    "\n",
    "avg_protvec = convert_sequences_to_avg_vectors(df['Sequence'], uniprot_embedding, kmer=3)\n",
    "avg_protvec = avg_protvec.reset_index(drop=True)"
   ]
  },
  {
   "cell_type": "code",
   "execution_count": 12,
   "id": "south-parish",
   "metadata": {},
   "outputs": [],
   "source": [
    "physicochemical_prop = get_physicochemical_properties(df)"
   ]
  },
  {
   "cell_type": "code",
   "execution_count": 13,
   "id": "occupational-soccer",
   "metadata": {},
   "outputs": [],
   "source": [
    "X = pd.concat([aa_freq, avg_protvec, physicochemical_prop[['helix','turn','sheet']]], axis=1)"
   ]
  },
  {
   "cell_type": "code",
   "execution_count": 24,
   "id": "measured-president",
   "metadata": {},
   "outputs": [],
   "source": [
    "y = df[['pIC50', 'MIC']]"
   ]
  },
  {
   "cell_type": "code",
   "execution_count": 15,
   "id": "serial-leonard",
   "metadata": {},
   "outputs": [],
   "source": [
    "from sklearn.preprocessing import StandardScaler"
   ]
  },
  {
   "cell_type": "code",
   "execution_count": 16,
   "id": "miniature-transport",
   "metadata": {},
   "outputs": [],
   "source": [
    "scaler = StandardScaler()"
   ]
  },
  {
   "cell_type": "code",
   "execution_count": 17,
   "id": "rolled-access",
   "metadata": {},
   "outputs": [],
   "source": [
    "X_tranformed = scaler.fit_transform(X)"
   ]
  },
  {
   "cell_type": "code",
   "execution_count": 25,
   "id": "significant-liabilities",
   "metadata": {},
   "outputs": [],
   "source": [
    "X_train, X_test, y_train, y_test = train_test_split(X_tranformed, y, test_size=0.2, random_state=42)"
   ]
  },
  {
   "cell_type": "code",
   "execution_count": 27,
   "id": "biblical-linux",
   "metadata": {},
   "outputs": [],
   "source": [
    "y_train_pmic, y_train_mic = y_train['pIC50'], y_train['MIC']\n",
    "y_test_pmic, y_test_mic = y_test['pIC50'], y_test['MIC']"
   ]
  },
  {
   "cell_type": "code",
   "execution_count": 28,
   "id": "thousand-ministry",
   "metadata": {},
   "outputs": [],
   "source": [
    "from sklearn.model_selection import cross_val_score, GridSearchCV, LeaveOneOut"
   ]
  },
  {
   "cell_type": "code",
   "execution_count": 29,
   "id": "governing-frame",
   "metadata": {},
   "outputs": [],
   "source": [
    "def multi_objective_score(y_true, y_pred):\n",
    "    mape = mean_absolute_percentage_error(y_true, y_pred)\n",
    "    std_diff = abs(np.std(y_pred) - np.std(y_true))\n",
    "    return mape + 10*std_diff\n",
    "multi_objective_scorer = make_scorer(multi_objective_score, greater_is_better=False)"
   ]
  },
  {
   "cell_type": "code",
   "execution_count": 30,
   "id": "appreciated-rhythm",
   "metadata": {},
   "outputs": [],
   "source": [
    "param_grid = {\n",
    "    'C':[0.001,0.01,0.1,1,10,100,1000],\n",
    "    'kernel':['rbf','poly','sigmoid','linear'],\n",
    "    'degree':[1,2,3,4,5,6],\n",
    "    'gamma': np.arange(0.1,1.0,0.1).round(1).tolist() + np.arange(1,11,1).round().tolist()\n",
    "}\n",
    "svr = SVR()\n",
    "# Instantiate the grid search model\n",
    "grid_search = GridSearchCV(estimator = svr, param_grid = param_grid, \n",
    "                          cv = 5, n_jobs = -1, verbose = 2, scoring=multi_objective_scorer)"
   ]
  },
  {
   "cell_type": "code",
   "execution_count": 31,
   "id": "false-killing",
   "metadata": {
    "scrolled": false
   },
   "outputs": [
    {
     "name": "stdout",
     "output_type": "stream",
     "text": [
      "Fitting 5 folds for each of 3192 candidates, totalling 15960 fits\n"
     ]
    },
    {
     "name": "stderr",
     "output_type": "stream",
     "text": [
      "[Parallel(n_jobs=-1)]: Using backend LokyBackend with 12 concurrent workers.\n",
      "[Parallel(n_jobs=-1)]: Done  17 tasks      | elapsed:    2.0s\n",
      "[Parallel(n_jobs=-1)]: Done 360 tasks      | elapsed:    2.8s\n",
      "[Parallel(n_jobs=-1)]: Done 6328 tasks      | elapsed:    8.9s\n",
      "[Parallel(n_jobs=-1)]: Done 15384 tasks      | elapsed:   23.0s\n",
      "[Parallel(n_jobs=-1)]: Done 15960 out of 15960 | elapsed:   23.9s finished\n"
     ]
    },
    {
     "data": {
      "text/plain": [
       "GridSearchCV(cv=5, estimator=SVR(), n_jobs=-1,\n",
       "             param_grid={'C': [0.001, 0.01, 0.1, 1, 10, 100, 1000],\n",
       "                         'degree': [1, 2, 3, 4, 5, 6],\n",
       "                         'gamma': [0.1, 0.2, 0.3, 0.4, 0.5, 0.6, 0.7, 0.8, 0.9,\n",
       "                                   1, 2, 3, 4, 5, 6, 7, 8, 9, 10],\n",
       "                         'kernel': ['rbf', 'poly', 'sigmoid', 'linear']},\n",
       "             scoring=make_scorer(multi_objective_score, greater_is_better=False),\n",
       "             verbose=2)"
      ]
     },
     "execution_count": 31,
     "metadata": {},
     "output_type": "execute_result"
    }
   ],
   "source": [
    "grid_search.fit(X_train, y_train_pmic)"
   ]
  },
  {
   "cell_type": "code",
   "execution_count": 63,
   "id": "genuine-approach",
   "metadata": {},
   "outputs": [
    {
     "data": {
      "text/plain": [
       "{'C': 10, 'degree': 1, 'gamma': 3, 'kernel': 'poly'}"
      ]
     },
     "execution_count": 63,
     "metadata": {},
     "output_type": "execute_result"
    }
   ],
   "source": [
    "grid_search.best_params_"
   ]
  },
  {
   "cell_type": "code",
   "execution_count": 32,
   "id": "specific-innocent",
   "metadata": {},
   "outputs": [],
   "source": [
    "best_grid = grid_search.best_estimator_"
   ]
  },
  {
   "cell_type": "code",
   "execution_count": 33,
   "id": "concerned-times",
   "metadata": {},
   "outputs": [],
   "source": [
    "y_pred_pmic = best_grid.predict(X_test)"
   ]
  },
  {
   "cell_type": "code",
   "execution_count": 34,
   "id": "coordinated-geometry",
   "metadata": {},
   "outputs": [
    {
     "data": {
      "text/plain": [
       "15.184898560217821"
      ]
     },
     "execution_count": 34,
     "metadata": {},
     "output_type": "execute_result"
    }
   ],
   "source": [
    "mean_absolute_percentage_error(y_test_pmic, y_pred_pmic)"
   ]
  },
  {
   "cell_type": "code",
   "execution_count": 35,
   "id": "behavioral-wealth",
   "metadata": {},
   "outputs": [
    {
     "data": {
      "text/plain": [
       "(1.9624408258222683, 1.7525623970583384)"
      ]
     },
     "execution_count": 35,
     "metadata": {},
     "output_type": "execute_result"
    }
   ],
   "source": [
    "np.std(y_test_pmic), np.std(y_pred_pmic)"
   ]
  },
  {
   "cell_type": "code",
   "execution_count": 36,
   "id": "interim-whole",
   "metadata": {},
   "outputs": [
    {
     "data": {
      "text/plain": [
       "17.283682847857122"
      ]
     },
     "execution_count": 36,
     "metadata": {},
     "output_type": "execute_result"
    }
   ],
   "source": [
    "multi_objective_score(y_test_pmic,y_pred_pmic)"
   ]
  },
  {
   "cell_type": "code",
   "execution_count": 37,
   "id": "exact-confusion",
   "metadata": {},
   "outputs": [
    {
     "data": {
      "text/plain": [
       "1.9328222111174256"
      ]
     },
     "execution_count": 37,
     "metadata": {},
     "output_type": "execute_result"
    }
   ],
   "source": [
    "mean_squared_error(y_test_pmic,y_pred_pmic)**0.5"
   ]
  },
  {
   "cell_type": "code",
   "execution_count": null,
   "id": "endangered-object",
   "metadata": {},
   "outputs": [],
   "source": []
  },
  {
   "cell_type": "markdown",
   "id": "patient-canon",
   "metadata": {},
   "source": [
    "### Leave one out CV"
   ]
  },
  {
   "cell_type": "code",
   "execution_count": 39,
   "id": "cultural-democrat",
   "metadata": {},
   "outputs": [
    {
     "name": "stderr",
     "output_type": "stream",
     "text": [
      "153it [00:01, 87.34it/s]\n"
     ]
    }
   ],
   "source": [
    "loo = LeaveOneOut()\n",
    "\n",
    "from tqdm import tqdm\n",
    "\n",
    "result_df = pd.DataFrame(columns = list(df.columns)+[\"y_pred_pmic\", \"y_pred_mic\", \"ape_pmic\", \"ape_mic\"])\n",
    "for train_index, test_index in tqdm(loo.split(X)):\n",
    "    X_train, X_test = X.iloc[train_index,:], X.iloc[test_index,:]\n",
    "    y_train, y_test = y.iloc[train_index], y.iloc[test_index]\n",
    "    y_train_pmic, y_train_mic = y_train['pIC50'], y_train['MIC']\n",
    "    y_test_pmic, y_test_mic = y_test['pIC50'], y_test['MIC']\n",
    "    svr = SVR(**grid_search.best_params_)\n",
    "    _ = svr.fit(X_train, y_train_pmic)\n",
    "    y_pred_pmic = svr.predict(X_test)\n",
    "    y_pred_mic = np.exp(-y_pred_pmic)/1e-6\n",
    "    ape = 100*np.abs(y_test_pmic-y_pred_pmic)/y_test_pmic\n",
    "    ape_mic = 100*np.abs(y_test_mic-y_pred_mic)/y_test_mic\n",
    "    df_val = df.iloc[test_index,:].values[0].tolist()\n",
    "    res = np.append(df_val, [y_pred_pmic[0], y_pred_mic[0], ape.values[0], ape_mic.values[0]])\n",
    "    res = pd.DataFrame([res], columns = list(df.columns)+[\"y_pred_pmic\", \"y_pred_mic\", \"ape_pmic\", \"ape_mic\"])\n",
    "    result_df = result_df.append(res)\n",
    "result_df = result_df[[\"Sequence\", \"pIC50\", \"y_pred_pmic\", \"ape_pmic\", \"MIC\", \"y_pred_mic\", \"ape_mic\"]]"
   ]
  },
  {
   "cell_type": "code",
   "execution_count": 40,
   "id": "arctic-track",
   "metadata": {},
   "outputs": [
    {
     "data": {
      "text/html": [
       "<div>\n",
       "<style scoped>\n",
       "    .dataframe tbody tr th:only-of-type {\n",
       "        vertical-align: middle;\n",
       "    }\n",
       "\n",
       "    .dataframe tbody tr th {\n",
       "        vertical-align: top;\n",
       "    }\n",
       "\n",
       "    .dataframe thead th {\n",
       "        text-align: right;\n",
       "    }\n",
       "</style>\n",
       "<table border=\"1\" class=\"dataframe\">\n",
       "  <thead>\n",
       "    <tr style=\"text-align: right;\">\n",
       "      <th></th>\n",
       "      <th>Sequence</th>\n",
       "      <th>pIC50</th>\n",
       "      <th>y_pred_pmic</th>\n",
       "      <th>ape_pmic</th>\n",
       "      <th>MIC</th>\n",
       "      <th>y_pred_mic</th>\n",
       "      <th>ape_mic</th>\n",
       "    </tr>\n",
       "  </thead>\n",
       "  <tbody>\n",
       "    <tr>\n",
       "      <th>0</th>\n",
       "      <td>ACWAAGIKQEF</td>\n",
       "      <td>8.00736806798383</td>\n",
       "      <td>11.03080735212477</td>\n",
       "      <td>37.75821541449648</td>\n",
       "      <td>333.0</td>\n",
       "      <td>16.195010578840005</td>\n",
       "      <td>95.13663345980781</td>\n",
       "    </tr>\n",
       "    <tr>\n",
       "      <th>0</th>\n",
       "      <td>ACWGAGIKQEF</td>\n",
       "      <td>8.00736806798383</td>\n",
       "      <td>11.072206944540396</td>\n",
       "      <td>38.275234141051044</td>\n",
       "      <td>333.0</td>\n",
       "      <td>15.538232712747256</td>\n",
       "      <td>95.33386405022605</td>\n",
       "    </tr>\n",
       "    <tr>\n",
       "      <th>0</th>\n",
       "      <td>ACWWAGIKAEF</td>\n",
       "      <td>8.00736806798383</td>\n",
       "      <td>10.970359063133497</td>\n",
       "      <td>37.003307079097674</td>\n",
       "      <td>333.0</td>\n",
       "      <td>17.20416481354883</td>\n",
       "      <td>94.83358414007543</td>\n",
       "    </tr>\n",
       "    <tr>\n",
       "      <th>0</th>\n",
       "      <td>ACWWAGIKQAF</td>\n",
       "      <td>8.00736806798383</td>\n",
       "      <td>10.998493034809911</td>\n",
       "      <td>37.35465812775127</td>\n",
       "      <td>333.0</td>\n",
       "      <td>16.72688864579592</td>\n",
       "      <td>94.97691031657781</td>\n",
       "    </tr>\n",
       "    <tr>\n",
       "      <th>0</th>\n",
       "      <td>ACWWAGIRQEF</td>\n",
       "      <td>8.00736806798383</td>\n",
       "      <td>11.052433377319675</td>\n",
       "      <td>38.028291986614775</td>\n",
       "      <td>333.0</td>\n",
       "      <td>15.848536800634845</td>\n",
       "      <td>95.24067963944898</td>\n",
       "    </tr>\n",
       "    <tr>\n",
       "      <th>...</th>\n",
       "      <td>...</td>\n",
       "      <td>...</td>\n",
       "      <td>...</td>\n",
       "      <td>...</td>\n",
       "      <td>...</td>\n",
       "      <td>...</td>\n",
       "      <td>...</td>\n",
       "    </tr>\n",
       "    <tr>\n",
       "      <th>0</th>\n",
       "      <td>VWGIKQLQARILAVERYLKDQQLLGIWG</td>\n",
       "      <td>17.727533563392424</td>\n",
       "      <td>11.189032402737478</td>\n",
       "      <td>36.88331000628893</td>\n",
       "      <td>0.02</td>\n",
       "      <td>13.82499457809041</td>\n",
       "      <td>69024.97289045205</td>\n",
       "    </tr>\n",
       "    <tr>\n",
       "      <th>0</th>\n",
       "      <td>MTWMEWDREINNYTSLIHSLIEESQNQQEKNEQELLEL</td>\n",
       "      <td>18.643824295266572</td>\n",
       "      <td>11.260545764065139</td>\n",
       "      <td>39.60173843236633</td>\n",
       "      <td>0.008</td>\n",
       "      <td>12.870846517224841</td>\n",
       "      <td>160785.5814653105</td>\n",
       "    </tr>\n",
       "    <tr>\n",
       "      <th>0</th>\n",
       "      <td>MTWEAWDRAIAEYAARIEALIRAAQEQQEKNEAALREL</td>\n",
       "      <td>18.777355687891102</td>\n",
       "      <td>11.028948849315947</td>\n",
       "      <td>41.26463261050036</td>\n",
       "      <td>0.006999999999999999</td>\n",
       "      <td>16.225137037872578</td>\n",
       "      <td>231687.67196960826</td>\n",
       "    </tr>\n",
       "    <tr>\n",
       "      <th>0</th>\n",
       "      <td>TTWEEWDREINEYTSRIESLIRESQEQQEKNEQELREL</td>\n",
       "      <td>19.113827924512307</td>\n",
       "      <td>11.230570971399597</td>\n",
       "      <td>41.243737174189576</td>\n",
       "      <td>0.005</td>\n",
       "      <td>13.262487833314012</td>\n",
       "      <td>265149.7566662802</td>\n",
       "    </tr>\n",
       "    <tr>\n",
       "      <th>0</th>\n",
       "      <td>WEEWDKKIEEYTKKIEELIKKSEEQQKN</td>\n",
       "      <td>20.030118656386467</td>\n",
       "      <td>11.197147440510797</td>\n",
       "      <td>44.09844678108952</td>\n",
       "      <td>0.002</td>\n",
       "      <td>13.71325821048355</td>\n",
       "      <td>685562.9105241775</td>\n",
       "    </tr>\n",
       "  </tbody>\n",
       "</table>\n",
       "<p>153 rows × 7 columns</p>\n",
       "</div>"
      ],
      "text/plain": [
       "                                  Sequence               pIC50  \\\n",
       "0                              ACWAAGIKQEF    8.00736806798383   \n",
       "0                              ACWGAGIKQEF    8.00736806798383   \n",
       "0                              ACWWAGIKAEF    8.00736806798383   \n",
       "0                              ACWWAGIKQAF    8.00736806798383   \n",
       "0                              ACWWAGIRQEF    8.00736806798383   \n",
       "..                                     ...                 ...   \n",
       "0             VWGIKQLQARILAVERYLKDQQLLGIWG  17.727533563392424   \n",
       "0   MTWMEWDREINNYTSLIHSLIEESQNQQEKNEQELLEL  18.643824295266572   \n",
       "0   MTWEAWDRAIAEYAARIEALIRAAQEQQEKNEAALREL  18.777355687891102   \n",
       "0   TTWEEWDREINEYTSRIESLIRESQEQQEKNEQELREL  19.113827924512307   \n",
       "0             WEEWDKKIEEYTKKIEELIKKSEEQQKN  20.030118656386467   \n",
       "\n",
       "           y_pred_pmic            ape_pmic                   MIC  \\\n",
       "0    11.03080735212477   37.75821541449648                 333.0   \n",
       "0   11.072206944540396  38.275234141051044                 333.0   \n",
       "0   10.970359063133497  37.003307079097674                 333.0   \n",
       "0   10.998493034809911   37.35465812775127                 333.0   \n",
       "0   11.052433377319675  38.028291986614775                 333.0   \n",
       "..                 ...                 ...                   ...   \n",
       "0   11.189032402737478   36.88331000628893                  0.02   \n",
       "0   11.260545764065139   39.60173843236633                 0.008   \n",
       "0   11.028948849315947   41.26463261050036  0.006999999999999999   \n",
       "0   11.230570971399597  41.243737174189576                 0.005   \n",
       "0   11.197147440510797   44.09844678108952                 0.002   \n",
       "\n",
       "            y_pred_mic             ape_mic  \n",
       "0   16.195010578840005   95.13663345980781  \n",
       "0   15.538232712747256   95.33386405022605  \n",
       "0    17.20416481354883   94.83358414007543  \n",
       "0    16.72688864579592   94.97691031657781  \n",
       "0   15.848536800634845   95.24067963944898  \n",
       "..                 ...                 ...  \n",
       "0    13.82499457809041   69024.97289045205  \n",
       "0   12.870846517224841   160785.5814653105  \n",
       "0   16.225137037872578  231687.67196960826  \n",
       "0   13.262487833314012   265149.7566662802  \n",
       "0    13.71325821048355   685562.9105241775  \n",
       "\n",
       "[153 rows x 7 columns]"
      ]
     },
     "execution_count": 40,
     "metadata": {},
     "output_type": "execute_result"
    }
   ],
   "source": [
    "result_df#.to_csv(\"../results/SVM_HIV_CoV_pMIC_to_MIC_rbf_c_100_gamma_2.csv\", index=False)"
   ]
  },
  {
   "cell_type": "code",
   "execution_count": 41,
   "id": "oriental-acquisition",
   "metadata": {},
   "outputs": [
    {
     "data": {
      "text/plain": [
       "17.545831352794195"
      ]
     },
     "execution_count": 41,
     "metadata": {},
     "output_type": "execute_result"
    }
   ],
   "source": [
    "result_df['ape_pmic'].astype('float').mean()"
   ]
  },
  {
   "cell_type": "code",
   "execution_count": 42,
   "id": "determined-corner",
   "metadata": {},
   "outputs": [
    {
     "data": {
      "text/plain": [
       "12626.274402202333"
      ]
     },
     "execution_count": 42,
     "metadata": {},
     "output_type": "execute_result"
    }
   ],
   "source": [
    "result_df['ape_mic'].astype('float').mean()"
   ]
  },
  {
   "cell_type": "code",
   "execution_count": 43,
   "id": "latter-mapping",
   "metadata": {},
   "outputs": [],
   "source": [
    "from scipy.stats import pearsonr"
   ]
  },
  {
   "cell_type": "code",
   "execution_count": 45,
   "id": "psychological-cleveland",
   "metadata": {},
   "outputs": [
    {
     "data": {
      "text/plain": [
       "(0.2586226132293542, 0.001247253779859278)"
      ]
     },
     "execution_count": 45,
     "metadata": {},
     "output_type": "execute_result"
    }
   ],
   "source": [
    "pearsonr(result_df['MIC'].astype('float'), result_df['y_pred_mic'].astype('float'))"
   ]
  },
  {
   "cell_type": "code",
   "execution_count": null,
   "id": "extraordinary-judgment",
   "metadata": {},
   "outputs": [],
   "source": []
  }
 ],
 "metadata": {
  "kernelspec": {
   "display_name": "Python 3",
   "language": "python",
   "name": "python3"
  },
  "language_info": {
   "codemirror_mode": {
    "name": "ipython",
    "version": 3
   },
   "file_extension": ".py",
   "mimetype": "text/x-python",
   "name": "python",
   "nbconvert_exporter": "python",
   "pygments_lexer": "ipython3",
   "version": "3.6.10"
  },
  "varInspector": {
   "cols": {
    "lenName": 16,
    "lenType": 16,
    "lenVar": 40
   },
   "kernels_config": {
    "python": {
     "delete_cmd_postfix": "",
     "delete_cmd_prefix": "del ",
     "library": "var_list.py",
     "varRefreshCmd": "print(var_dic_list())"
    },
    "r": {
     "delete_cmd_postfix": ") ",
     "delete_cmd_prefix": "rm(",
     "library": "var_list.r",
     "varRefreshCmd": "cat(var_dic_list()) "
    }
   },
   "types_to_exclude": [
    "module",
    "function",
    "builtin_function_or_method",
    "instance",
    "_Feature"
   ],
   "window_display": false
  }
 },
 "nbformat": 4,
 "nbformat_minor": 5
}
