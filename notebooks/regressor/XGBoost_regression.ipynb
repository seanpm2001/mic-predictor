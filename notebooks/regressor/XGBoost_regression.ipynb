{
 "cells": [
  {
   "cell_type": "code",
   "execution_count": 2,
   "id": "danish-passport",
   "metadata": {
    "scrolled": false
   },
   "outputs": [
    {
     "name": "stdout",
     "output_type": "stream",
     "text": [
      "/Users/in-divye.singh/Documents/Projects/MIC_predictor/src\n"
     ]
    }
   ],
   "source": [
    "cd ../../src"
   ]
  },
  {
   "cell_type": "code",
   "execution_count": 3,
   "id": "attempted-spending",
   "metadata": {},
   "outputs": [],
   "source": [
    "import biovec\n",
    "import numpy as np\n",
    "import pandas as pd\n",
    "from itertools import chain, combinations\n",
    "from collections import Counter\n",
    "\n",
    "from utils import *\n",
    "\n",
    "from sklearn.svm import SVR\n",
    "from sklearn.neighbors import KNeighborsRegressor\n",
    "from sklearn.metrics import make_scorer\n",
    "from sklearn.model_selection import GridSearchCV\n",
    "from sklearn.metrics import mean_squared_error, mean_absolute_error, r2_score\n",
    "from sklearn.model_selection import train_test_split\n",
    "\n",
    "from Bio.SeqUtils.ProtParam import ProteinAnalysis"
   ]
  },
  {
   "cell_type": "code",
   "execution_count": 4,
   "id": "chief-provincial",
   "metadata": {},
   "outputs": [],
   "source": [
    "import seaborn as sns"
   ]
  },
  {
   "cell_type": "code",
   "execution_count": 5,
   "id": "coordinated-selection",
   "metadata": {},
   "outputs": [],
   "source": [
    "import xgboost as xgb"
   ]
  },
  {
   "cell_type": "code",
   "execution_count": 6,
   "id": "professional-lecture",
   "metadata": {},
   "outputs": [],
   "source": [
    "def mean_absolute_percentage_error(y_true, y_pred): \n",
    "    y_true, y_pred = np.array(y_true), np.array(y_pred)\n",
    "    return np.mean(np.abs((y_true - y_pred) / y_true)) * 100\n",
    "\n",
    "mape_scorer = make_scorer(mean_absolute_percentage_error, greater_is_better=False)"
   ]
  },
  {
   "cell_type": "code",
   "execution_count": 7,
   "id": "compact-ukraine",
   "metadata": {},
   "outputs": [],
   "source": [
    "avp_ic50 = pd.read_csv(\"../data/raw/AVP-IC50Pred_train.csv\")\n",
    "ha_avp = pd.read_csv(\"../data/raw/HA_AVP.csv\")"
   ]
  },
  {
   "cell_type": "code",
   "execution_count": 8,
   "id": "selective-providence",
   "metadata": {},
   "outputs": [],
   "source": [
    "df = pd.concat([avp_ic50[['Sequence','MIC']], ha_avp], axis=0).drop_duplicates(['Sequence']).reset_index(drop=True)\n",
    "df = sequence_filtering(df)"
   ]
  },
  {
   "cell_type": "code",
   "execution_count": 9,
   "id": "functional-announcement",
   "metadata": {},
   "outputs": [],
   "source": [
    "df2 = df[df['MIC'] >= 1e-3]"
   ]
  },
  {
   "cell_type": "code",
   "execution_count": 10,
   "id": "herbal-female",
   "metadata": {},
   "outputs": [
    {
     "data": {
      "text/html": [
       "<div>\n",
       "<style scoped>\n",
       "    .dataframe tbody tr th:only-of-type {\n",
       "        vertical-align: middle;\n",
       "    }\n",
       "\n",
       "    .dataframe tbody tr th {\n",
       "        vertical-align: top;\n",
       "    }\n",
       "\n",
       "    .dataframe thead th {\n",
       "        text-align: right;\n",
       "    }\n",
       "</style>\n",
       "<table border=\"1\" class=\"dataframe\">\n",
       "  <thead>\n",
       "    <tr style=\"text-align: right;\">\n",
       "      <th></th>\n",
       "      <th>Sequence</th>\n",
       "      <th>MIC</th>\n",
       "    </tr>\n",
       "  </thead>\n",
       "  <tbody>\n",
       "    <tr>\n",
       "      <th>0</th>\n",
       "      <td>AAQRRGRVGRNPNQVGD</td>\n",
       "      <td>442.00000</td>\n",
       "    </tr>\n",
       "    <tr>\n",
       "      <th>1</th>\n",
       "      <td>HRILARIRQMMT</td>\n",
       "      <td>435.50000</td>\n",
       "    </tr>\n",
       "    <tr>\n",
       "      <th>2</th>\n",
       "      <td>RNPSQVGD</td>\n",
       "      <td>383.00000</td>\n",
       "    </tr>\n",
       "    <tr>\n",
       "      <th>3</th>\n",
       "      <td>RVGRNPNQVGD</td>\n",
       "      <td>374.00000</td>\n",
       "    </tr>\n",
       "    <tr>\n",
       "      <th>4</th>\n",
       "      <td>AAQRRGRIGRNPSQVGD</td>\n",
       "      <td>358.00000</td>\n",
       "    </tr>\n",
       "    <tr>\n",
       "      <th>...</th>\n",
       "      <td>...</td>\n",
       "      <td>...</td>\n",
       "    </tr>\n",
       "    <tr>\n",
       "      <th>706</th>\n",
       "      <td>SLDQINVTFLDLEYEMKKLEEAIKKLEESYIDLKEL</td>\n",
       "      <td>0.00130</td>\n",
       "    </tr>\n",
       "    <tr>\n",
       "      <th>707</th>\n",
       "      <td>NGAICWGPCPTAFRQIGNCGHFKVRCCKIR</td>\n",
       "      <td>0.11515</td>\n",
       "    </tr>\n",
       "    <tr>\n",
       "      <th>708</th>\n",
       "      <td>CFPYITRPGTYHDWWYTRKNRQ</td>\n",
       "      <td>0.30000</td>\n",
       "    </tr>\n",
       "    <tr>\n",
       "      <th>709</th>\n",
       "      <td>YTSLIHSLIEESQNQQEKNEQELLELDKWASLWNWF</td>\n",
       "      <td>0.01131</td>\n",
       "    </tr>\n",
       "    <tr>\n",
       "      <th>711</th>\n",
       "      <td>SWETWEREIENYTRQIYRILEESQEQQDRNERDLLE</td>\n",
       "      <td>0.00200</td>\n",
       "    </tr>\n",
       "  </tbody>\n",
       "</table>\n",
       "<p>707 rows × 2 columns</p>\n",
       "</div>"
      ],
      "text/plain": [
       "                                 Sequence        MIC\n",
       "0                       AAQRRGRVGRNPNQVGD  442.00000\n",
       "1                            HRILARIRQMMT  435.50000\n",
       "2                                RNPSQVGD  383.00000\n",
       "3                             RVGRNPNQVGD  374.00000\n",
       "4                       AAQRRGRIGRNPSQVGD  358.00000\n",
       "..                                    ...        ...\n",
       "706  SLDQINVTFLDLEYEMKKLEEAIKKLEESYIDLKEL    0.00130\n",
       "707        NGAICWGPCPTAFRQIGNCGHFKVRCCKIR    0.11515\n",
       "708                CFPYITRPGTYHDWWYTRKNRQ    0.30000\n",
       "709  YTSLIHSLIEESQNQQEKNEQELLELDKWASLWNWF    0.01131\n",
       "711  SWETWEREIENYTRQIYRILEESQEQQDRNERDLLE    0.00200\n",
       "\n",
       "[707 rows x 2 columns]"
      ]
     },
     "execution_count": 10,
     "metadata": {},
     "output_type": "execute_result"
    }
   ],
   "source": [
    "df2"
   ]
  },
  {
   "cell_type": "code",
   "execution_count": 11,
   "id": "polish-heath",
   "metadata": {},
   "outputs": [
    {
     "data": {
      "text/plain": [
       "<matplotlib.axes._subplots.AxesSubplot at 0x1a1d84ca20>"
      ]
     },
     "execution_count": 11,
     "metadata": {},
     "output_type": "execute_result"
    },
    {
     "data": {
      "image/png": "[encoded data removed]",
      "text/plain": [
       "<Figure size 432x288 with 1 Axes>"
      ]
     },
     "metadata": {
      "needs_background": "light"
     },
     "output_type": "display_data"
    }
   ],
   "source": [
    "df2['MIC'].hist()"
   ]
  },
  {
   "cell_type": "code",
   "execution_count": 12,
   "id": "general-baptist",
   "metadata": {},
   "outputs": [
    {
     "name": "stderr",
     "output_type": "stream",
     "text": [
      "/Users/in-divye.singh/anaconda3/envs/life-science/lib/python3.6/site-packages/ipykernel_launcher.py:1: SettingWithCopyWarning: \n",
      "A value is trying to be set on a copy of a slice from a DataFrame.\n",
      "Try using .loc[row_indexer,col_indexer] = value instead\n",
      "\n",
      "See the caveats in the documentation: https://pandas.pydata.org/pandas-docs/stable/user_guide/indexing.html#returning-a-view-versus-a-copy\n",
      "  \"\"\"Entry point for launching an IPython kernel.\n"
     ]
    }
   ],
   "source": [
    "df2['pIC50'] = df2['MIC'].apply(lambda x: -np.log(x*1e-6))"
   ]
  },
  {
   "cell_type": "code",
   "execution_count": 13,
   "id": "rental-arctic",
   "metadata": {},
   "outputs": [
    {
     "data": {
      "text/html": [
       "<div>\n",
       "<style scoped>\n",
       "    .dataframe tbody tr th:only-of-type {\n",
       "        vertical-align: middle;\n",
       "    }\n",
       "\n",
       "    .dataframe tbody tr th {\n",
       "        vertical-align: top;\n",
       "    }\n",
       "\n",
       "    .dataframe thead th {\n",
       "        text-align: right;\n",
       "    }\n",
       "</style>\n",
       "<table border=\"1\" class=\"dataframe\">\n",
       "  <thead>\n",
       "    <tr style=\"text-align: right;\">\n",
       "      <th></th>\n",
       "      <th>Sequence</th>\n",
       "      <th>MIC</th>\n",
       "      <th>pIC50</th>\n",
       "    </tr>\n",
       "  </thead>\n",
       "  <tbody>\n",
       "    <tr>\n",
       "      <th>0</th>\n",
       "      <td>AAQRRGRVGRNPNQVGD</td>\n",
       "      <td>442.00000</td>\n",
       "      <td>7.724201</td>\n",
       "    </tr>\n",
       "    <tr>\n",
       "      <th>1</th>\n",
       "      <td>HRILARIRQMMT</td>\n",
       "      <td>435.50000</td>\n",
       "      <td>7.739016</td>\n",
       "    </tr>\n",
       "    <tr>\n",
       "      <th>2</th>\n",
       "      <td>RNPSQVGD</td>\n",
       "      <td>383.00000</td>\n",
       "      <td>7.867476</td>\n",
       "    </tr>\n",
       "    <tr>\n",
       "      <th>3</th>\n",
       "      <td>RVGRNPNQVGD</td>\n",
       "      <td>374.00000</td>\n",
       "      <td>7.891255</td>\n",
       "    </tr>\n",
       "    <tr>\n",
       "      <th>4</th>\n",
       "      <td>AAQRRGRIGRNPSQVGD</td>\n",
       "      <td>358.00000</td>\n",
       "      <td>7.934978</td>\n",
       "    </tr>\n",
       "    <tr>\n",
       "      <th>...</th>\n",
       "      <td>...</td>\n",
       "      <td>...</td>\n",
       "      <td>...</td>\n",
       "    </tr>\n",
       "    <tr>\n",
       "      <th>706</th>\n",
       "      <td>SLDQINVTFLDLEYEMKKLEEAIKKLEESYIDLKEL</td>\n",
       "      <td>0.00130</td>\n",
       "      <td>20.460902</td>\n",
       "    </tr>\n",
       "    <tr>\n",
       "      <th>707</th>\n",
       "      <td>NGAICWGPCPTAFRQIGNCGHFKVRCCKIR</td>\n",
       "      <td>0.11515</td>\n",
       "      <td>15.977030</td>\n",
       "    </tr>\n",
       "    <tr>\n",
       "      <th>708</th>\n",
       "      <td>CFPYITRPGTYHDWWYTRKNRQ</td>\n",
       "      <td>0.30000</td>\n",
       "      <td>15.019483</td>\n",
       "    </tr>\n",
       "    <tr>\n",
       "      <th>709</th>\n",
       "      <td>YTSLIHSLIEESQNQQEKNEQELLELDKWASLWNWF</td>\n",
       "      <td>0.01131</td>\n",
       "      <td>18.297579</td>\n",
       "    </tr>\n",
       "    <tr>\n",
       "      <th>711</th>\n",
       "      <td>SWETWEREIENYTRQIYRILEESQEQQDRNERDLLE</td>\n",
       "      <td>0.00200</td>\n",
       "      <td>20.030119</td>\n",
       "    </tr>\n",
       "  </tbody>\n",
       "</table>\n",
       "<p>707 rows × 3 columns</p>\n",
       "</div>"
      ],
      "text/plain": [
       "                                 Sequence        MIC      pIC50\n",
       "0                       AAQRRGRVGRNPNQVGD  442.00000   7.724201\n",
       "1                            HRILARIRQMMT  435.50000   7.739016\n",
       "2                                RNPSQVGD  383.00000   7.867476\n",
       "3                             RVGRNPNQVGD  374.00000   7.891255\n",
       "4                       AAQRRGRIGRNPSQVGD  358.00000   7.934978\n",
       "..                                    ...        ...        ...\n",
       "706  SLDQINVTFLDLEYEMKKLEEAIKKLEESYIDLKEL    0.00130  20.460902\n",
       "707        NGAICWGPCPTAFRQIGNCGHFKVRCCKIR    0.11515  15.977030\n",
       "708                CFPYITRPGTYHDWWYTRKNRQ    0.30000  15.019483\n",
       "709  YTSLIHSLIEESQNQQEKNEQELLELDKWASLWNWF    0.01131  18.297579\n",
       "711  SWETWEREIENYTRQIYRILEESQEQQDRNERDLLE    0.00200  20.030119\n",
       "\n",
       "[707 rows x 3 columns]"
      ]
     },
     "execution_count": 13,
     "metadata": {},
     "output_type": "execute_result"
    }
   ],
   "source": [
    "df2"
   ]
  },
  {
   "cell_type": "code",
   "execution_count": 14,
   "id": "searching-bundle",
   "metadata": {
    "scrolled": true
   },
   "outputs": [
    {
     "data": {
      "text/plain": [
       "<matplotlib.axes._subplots.AxesSubplot at 0x1a1d316a20>"
      ]
     },
     "execution_count": 14,
     "metadata": {},
     "output_type": "execute_result"
    },
    {
     "data": {
      "image/png": "[encoded data removed]",
      "text/plain": [
       "<Figure size 432x288 with 1 Axes>"
      ]
     },
     "metadata": {
      "needs_background": "light"
     },
     "output_type": "display_data"
    }
   ],
   "source": [
    "df2['pIC50'].hist()"
   ]
  },
  {
   "cell_type": "code",
   "execution_count": 16,
   "id": "refined-neutral",
   "metadata": {},
   "outputs": [],
   "source": [
    "def get_physicochemical_properties(df):\n",
    "    params = ['aromaticity', 'helix', 'turn', 'sheet', 'gravy', 'net_charge_at_pH7point4']\n",
    "\n",
    "    prop = []\n",
    "    for seq in df.Sequence:\n",
    "        X = ProteinAnalysis(seq)\n",
    "        aromaticity = X.aromaticity()\n",
    "        sec_struc = X.secondary_structure_fraction()\n",
    "        helix = sec_struc[0]\n",
    "        turn = sec_struc[1]\n",
    "        sheet = sec_struc[2]\n",
    "        gravy = X.gravy() # hydrophobicity related\n",
    "        net_charge_at_pH7point4 = X.charge_at_pH(7.4)\n",
    "\n",
    "        prop.append([aromaticity, helix, turn, sheet, gravy, net_charge_at_pH7point4])\n",
    "    return pd.DataFrame(prop, columns=params)"
   ]
  },
  {
   "cell_type": "code",
   "execution_count": 21,
   "id": "bright-secondary",
   "metadata": {},
   "outputs": [],
   "source": [
    "aa_freq = reduce_by_kmer_frequency(df2, kmer=1)"
   ]
  },
  {
   "cell_type": "code",
   "execution_count": 22,
   "id": "weighted-worthy",
   "metadata": {},
   "outputs": [
    {
     "name": "stderr",
     "output_type": "stream",
     "text": [
      "/Users/in-divye.singh/anaconda3/envs/life-science/lib/python3.6/site-packages/smart_open/smart_open_lib.py:254: UserWarning: This function is deprecated, use smart_open.open instead. See the migration notes for details: https://github.com/RaRe-Technologies/smart_open/blob/master/README.rst#migrating-to-the-new-open-function\n",
      "  'See the migration notes for details: %s' % _MIGRATION_NOTES_URL\n",
      "Creating vectors: 100%|██████████| 707/707 [00:00<00:00, 1204.49sequence/s]\n"
     ]
    }
   ],
   "source": [
    "uniprot_embedding = biovec.models.load_protvec(\"../data/embeddings/uniprot__kmer_3_contextWindow_10_vector_100_reduction_None\")\n",
    "\n",
    "avg_protvec = convert_sequences_to_avg_vectors(df2['Sequence'], uniprot_embedding, kmer=3)\n",
    "avg_protvec = avg_protvec.reset_index(drop=True)"
   ]
  },
  {
   "cell_type": "code",
   "execution_count": 23,
   "id": "champion-confidence",
   "metadata": {},
   "outputs": [],
   "source": [
    "physicochemical_prop = get_physicochemical_properties(df2)"
   ]
  },
  {
   "cell_type": "code",
   "execution_count": 24,
   "id": "miniature-amateur",
   "metadata": {},
   "outputs": [],
   "source": [
    "X = pd.concat([aa_freq, avg_protvec, physicochemical_prop[['helix','turn','sheet']]], axis=1)"
   ]
  },
  {
   "cell_type": "code",
   "execution_count": 25,
   "id": "figured-slave",
   "metadata": {},
   "outputs": [],
   "source": [
    "y = df2[['pIC50', 'MIC']]"
   ]
  },
  {
   "cell_type": "code",
   "execution_count": 26,
   "id": "bibliographic-annex",
   "metadata": {},
   "outputs": [],
   "source": [
    "X_train, X_test, y_train, y_test = train_test_split(X, y, test_size=0.2, random_state=42)"
   ]
  },
  {
   "cell_type": "code",
   "execution_count": 27,
   "id": "economic-voluntary",
   "metadata": {},
   "outputs": [],
   "source": [
    "y_train_pmic, y_train_mic = y_train['pIC50'], y_train['MIC']\n",
    "y_test_pmic, y_test_mic = y_test['pIC50'], y_test['MIC']"
   ]
  },
  {
   "cell_type": "code",
   "execution_count": 29,
   "id": "marine-fishing",
   "metadata": {},
   "outputs": [],
   "source": [
    "from sklearn.model_selection import cross_val_score, GridSearchCV, LeaveOneOut"
   ]
  },
  {
   "cell_type": "code",
   "execution_count": 37,
   "id": "quarterly-nudist",
   "metadata": {},
   "outputs": [],
   "source": [
    "train_dmatrix = xgb.DMatrix(data = X_train, label = y_train_pmic)\n",
    "test_dmatrix = xgb.DMatrix(data = X_test, label = y_test_pmic)"
   ]
  },
  {
   "cell_type": "code",
   "execution_count": 109,
   "id": "flexible-somalia",
   "metadata": {},
   "outputs": [],
   "source": [
    "param = {\"booster\":\"dart\", \"objective\":\"reg:squarederror\", \"eval_metric\":\"rmse\"}"
   ]
  },
  {
   "cell_type": "code",
   "execution_count": 112,
   "id": "alien-spanish",
   "metadata": {},
   "outputs": [],
   "source": [
    "xgb_r = xgb.train(params = param, dtrain = train_dmatrix, num_boost_round = 100)"
   ]
  },
  {
   "cell_type": "code",
   "execution_count": 113,
   "id": "caroline-peoples",
   "metadata": {},
   "outputs": [],
   "source": [
    "y_pred_pmic = xgb_r.predict(test_dmatrix)"
   ]
  },
  {
   "cell_type": "code",
   "execution_count": 114,
   "id": "banner-hours",
   "metadata": {},
   "outputs": [],
   "source": [
    "ape = 100*np.abs(y_test_pmic-y_pred_pmic)/y_test_pmic"
   ]
  },
  {
   "cell_type": "code",
   "execution_count": 115,
   "id": "fifteen-netherlands",
   "metadata": {},
   "outputs": [],
   "source": [
    "y_pred_mic = np.exp(-y_pred_pmic)/1e-6"
   ]
  },
  {
   "cell_type": "code",
   "execution_count": 116,
   "id": "expired-demand",
   "metadata": {},
   "outputs": [],
   "source": [
    "ape_mic = 100*np.abs(y_test_mic-y_pred_mic)/y_test_mic"
   ]
  },
  {
   "cell_type": "code",
   "execution_count": 117,
   "id": "cubic-france",
   "metadata": {
    "scrolled": true
   },
   "outputs": [
    {
     "data": {
      "text/plain": [
       "[(13.7385, 12.4613, 9.296497003968982, 1.08, 3.8735, 258.6596912807888),\n",
       " (9.2103, 12.2336, 32.82447572255656, 100.0, 4.8643, 95.13569355010986),\n",
       " (9.2103, 10.6011, 15.099576633600828, 100.0, 24.8895, 75.1104564666748),\n",
       " (10.6128, 13.4773, 26.99127470830964, 24.6, 1.4025, 94.29895335096653),\n",
       " (11.7361, 12.9461, 10.310540930330772, 8.0, 2.3855, 70.18182873725891),\n",
       " (11.8554, 13.2203, 11.512368272710061, 7.1, 1.8135, 74.45782473389532),\n",
       " (11.2506, 14.6023, 29.79174487397189, 13.0, 0.4553, 96.49765858283409),\n",
       " (11.814, 12.8999, 9.19176192286294, 7.4, 2.4982, 66.24080877046327),\n",
       " (12.5627, 12.214, 2.776427071153874, 3.5, 4.9608, 41.73592158726284),\n",
       " (9.8191, 10.3455, 5.360317018849499, 54.4, 32.1376, 40.923522500430835),\n",
       " (10.232, 12.6371, 23.50604209045653, 36.0, 3.2491, 90.97467992040846),\n",
       " (10.2602, 10.4586, 1.934513979533228, 35.0, 28.699, 18.00273895263672),\n",
       " (12.8562, 12.4881, 2.8631398412544655, 2.61, 3.7714, 44.49718811502859),\n",
       " (11.4176, 11.0, 3.65724761295427, 11.0, 16.701, 51.82684118097479),\n",
       " (10.9141, 11.5206, 5.556914200553177, 18.2, 9.9238, 45.47367619944142),\n",
       " (9.7902, 8.5246, 12.926369483461672, 56.0, 198.5148, 254.4907706124442),\n",
       " (9.9035, 11.2561, 13.658053138432193, 50.0, 12.9281, 74.1438980102539),\n",
       " (16.3666, 14.7357, 9.964443803142808, 0.078, 0.3984, 410.8144802924914),\n",
       " (10.5498, 11.055, 4.789086995162644, 26.2, 15.8081, 39.66372686488028),\n",
       " (9.9035, 12.0815, 21.99273513764932, 50.0, 5.6631, 88.67375755310059),\n",
       " (8.8597, 8.8491, 0.11953094224816871, 142.0, 143.5118, 1.064633651518486),\n",
       " (20.0301, 14.4007, 28.10498079991632, 0.002, 0.557, 27751.194143295284),\n",
       " (17.3221, 14.8971, 13.999578920531404, 0.03, 0.3391, 1030.2417516708374),\n",
       " (12.1162, 13.4496, 11.004613008174669, 5.47, 1.4419, 73.6405770129216),\n",
       " (9.4335, 10.5872, 12.229607893681246, 80.0, 25.2379, 68.4525728225708),\n",
       " (10.8554, 12.1797, 12.19976113272822, 19.3, 5.1334, 73.40198378488807),\n",
       " (12.8992, 11.5886, 10.160131569182198, 2.5, 9.2708, 270.83152770996094),\n",
       " (9.2103, 12.7288, 38.20171615009822, 100.0, 2.9644, 97.03563737869263),\n",
       " (11.2898, 11.7962, 4.486061167448113, 12.5, 7.5328, 39.737884521484375),\n",
       " (9.6884, 10.8965, 12.46986341162192, 62.0, 18.5229, 70.12437389742944),\n",
       " (9.0448, 10.353, 14.463480574399378, 118.0, 31.8962, 72.96929278616177),\n",
       " (15.3296, 14.1066, 7.978092571164344, 0.22, 0.7474, 239.74078568545255),\n",
       " (15.182, 12.9665, 14.593169896304484, 0.255, 2.3374, 816.6315490124272),\n",
       " (14.231, 12.1364, 14.719007843745278, 0.66, 5.361, 712.2726642724239),\n",
       " (13.9663, 13.809, 1.126689942548278, 0.86, 1.0066, 17.04137158948322),\n",
       " (12.075, 12.9678, 7.393640079772018, 5.7, 2.3342, 59.04864762958727),\n",
       " (11.9655, 12.0287, 0.5282780718013437, 6.36, 5.9704, 6.125466028849288),\n",
       " (10.5197, 12.34, 17.304491612545835, 27.0, 4.3731, 83.8035159640842),\n",
       " (18.3254, 17.5474, 4.245311892614127, 0.011, 0.0239, 117.70466119050978),\n",
       " (10.4227, 12.3726, 18.70787354177206, 29.749, 4.2331, 85.77072013786506),\n",
       " (10.31, 13.4424, 30.383170881265805, 33.3, 1.4522, 95.63909543527139),\n",
       " (15.1899, 14.5645, 4.1168350983668205, 0.253, 0.4728, 86.8885496388311),\n",
       " (15.1248, 14.2503, 5.782341824330152, 0.27, 0.6474, 139.7844526502821),\n",
       " (12.2061, 11.2756, 7.622769157193635, 5.0, 12.6781, 153.56264114379883),\n",
       " (10.5197, 11.1071, 5.5838605246926845, 27.0, 15.0057, 44.42317397506149),\n",
       " (11.7361, 10.4734, 10.75854914957483, 8.0, 28.2777, 253.47084999084473),\n",
       " (11.7361, 12.1418, 3.4574853946433417, 8.0, 5.3317, 33.35384726524353),\n",
       " (11.2506, 12.5376, 11.439456700957086, 13.0, 3.5893, 72.39029957697942),\n",
       " (14.9242, 13.2501, 11.216980364411587, 0.33, 1.7601, 433.3681178815437),\n",
       " (8.0074, 10.1941, 27.308668597642566, 333.0, 37.3913, 88.7713950675529),\n",
       " (12.94, 13.3428, 3.1125110158270024, 2.4, 1.6043, 33.152765035629265),\n",
       " (10.9823, 12.6608, 15.284051477209532, 17.0, 3.173, 81.33537208332734),\n",
       " (13.0271, 13.7993, 5.927937349922622, 2.2, 1.0164, 53.802087090232156),\n",
       " (14.1722, 11.3141, 20.166896660983458, 0.7, 12.1997, 1642.8206035069059),\n",
       " (11.8696, 15.7293, 32.517780503668604, 7.0, 0.1475, 97.8926324418613),\n",
       " (9.2103, 9.7886, 6.278166703300273, 100.0, 56.0884, 43.91156768798828),\n",
       " (13.8155, 10.3775, 24.88513256266236, 1.0, 31.1249, 3012.489891052246),\n",
       " (16.5186, 15.8975, 3.759824511061, 0.067, 0.1247, 86.0916948140557),\n",
       " (18.9315, 17.3708, 8.243841936875468, 0.006, 0.0286, 376.20749101042753),\n",
       " (12.4292, 11.0513, 11.0861448909198, 4.0, 15.8666, 296.6646194458008),\n",
       " (17.1969, 16.2569, 5.466181528870213, 0.034, 0.087, 156.00173017557927),\n",
       " (11.5129, 11.7361, 1.9382143022057576, 10.0, 8.0, 20.000128746032715),\n",
       " (12.2061, 13.0512, 6.923677846470896, 5.0, 2.1476, 57.0489501953125),\n",
       " (17.4274, 18.2203, 4.54978099059318, 0.027, 0.0122, 54.74738793240654),\n",
       " (11.6183, 12.2146, 5.132765529681436, 9.0, 4.9574, 44.917567571004234),\n",
       " (11.3306, 11.3928, 0.5487726630077013, 12.0, 11.2766, 6.028556823730469),\n",
       " (12.5627, 12.558, 0.038044621898433974, 3.5, 3.5168, 0.4790851048060826),\n",
       " (14.4889, 12.4254, 14.241396306284292, 0.51, 4.0151, 687.2811485739315),\n",
       " (13.7763, 14.0636, 2.085787081922102, 1.04, 0.7803, 24.97464785209069),\n",
       " (9.2103, 10.6827, 15.986015732811028, 100.0, 22.9382, 77.06180000305176),\n",
       " (9.2103, 9.0398, 1.8515494446683158, 100.0, 118.5938, 18.59380340576172),\n",
       " (8.3143, 8.3918, 0.9328901131007972, 245.0, 226.7154, 7.4631048708545915),\n",
       " (11.5129, 13.0894, 13.692647333906365, 10.0, 2.0671, 79.32870626449585),\n",
       " (12.9957, 11.4945, 11.551904542417827, 2.27, 10.1862, 348.7314518327755),\n",
       " (12.0238, 12.114, 0.7505675226422831, 6.0, 5.4822, 8.629401524861654),\n",
       " (12.3339, 11.0452, 10.448240025953444, 4.4, 15.9631, 262.79806223782623),\n",
       " (10.0427, 9.6323, 4.08666694392084, 43.502, 65.5766, 50.74385428646781),\n",
       " (10.8198, 12.5646, 16.12638287686723, 20.0, 3.4935, 82.53268837928772),\n",
       " (8.8955, 12.7403, 43.221711008703714, 137.0, 2.9305, 97.86093235015869),\n",
       " (16.2806, 10.3326, 36.53406380009038, 0.085, 32.5529, 38197.518561868106),\n",
       " (11.8597, 10.9282, 7.853686966149964, 7.07, 17.9444, 153.81101745864459),\n",
       " (19.6247, 19.0014, 3.175685691595157, 0.003, 0.0056, 86.49183524151643),\n",
       " (9.2103, 9.3493, 1.5085424329815238, 100.0, 87.0279, 12.972137451171875),\n",
       " (7.8675, 10.2171, 29.864977472572903, 383.0, 36.5403, 90.45945707873949),\n",
       " (11.4509, 10.6482, 7.010264856969419, 10.64, 23.7447, 123.16421781267438),\n",
       " (11.6123, 10.7732, 7.225570765663737, 9.054, 20.9526, 131.41797341493572),\n",
       " (17.356, 14.6016, 15.869735144155944, 0.029, 0.4556, 1471.0769028499208),\n",
       " (20.4609, 14.4695, 29.282064168520265, 0.0013, 0.52, 39896.394744286175),\n",
       " (11.8986, 13.1447, 10.473133665896585, 6.8, 1.9557, 71.23914957046509),\n",
       " (11.8957, 12.5102, 5.166305084052209, 6.82, 3.6888, 45.91242057487062),\n",
       " (11.5129, 11.7354, 1.9320016698085363, 10.0, 8.0057, 19.94288444519043),\n",
       " (15.977, 12.3014, 23.005756722620667, 0.1152, 4.5454, 3847.378498960256),\n",
       " (10.7245, 11.7772, 9.816415445358865, 22.0, 7.6774, 65.1026183908636),\n",
       " (12.0238, 12.1822, 1.318032937251566, 6.0, 5.1207, 14.655741055806478),\n",
       " (9.5388, 9.7062, 1.7539600776894737, 72.0, 60.9076, 15.406057569715712),\n",
       " (12.7169, 14.0586, 10.550650633920178, 3.0, 0.7842, 73.86031746864319),\n",
       " (18.0842, 17.8711, 1.178552676952632, 0.014, 0.0173, 23.75479564070703),\n",
       " (9.3047, 10.4155, 11.939150789436757, 91.0, 29.963, 67.07362709464607),\n",
       " (10.4143, 13.2819, 27.534857077967335, 30.0, 1.7051, 94.31629180908203),\n",
       " (11.6754, 12.3635, 5.893019145293748, 8.5, 4.2718, 49.743792589973),\n",
       " (9.028, 9.0074, 0.2288671737228079, 120.0, 122.5053, 2.087713877360026),\n",
       " (11.5129, 11.6748, 1.405717154175121, 10.0, 8.5058, 14.942197799682617),\n",
       " (8.294, 10.3053, 24.24960119532482, 250.0, 33.4545, 86.61819152832031),\n",
       " (9.2103, 9.7467, 5.822925710006549, 100.0, 58.4902, 41.50981903076172),\n",
       " (18.526, 18.6709, 0.781900830896794, 0.009, 0.0078, 13.485255092382442),\n",
       " (10.9852, 13.3681, 21.691276034667627, 16.95, 1.5643, 90.77118251879307),\n",
       " (8.5844, 12.2841, 43.097452361632016, 187.0, 4.6249, 97.52680273617015),\n",
       " (12.5656, 13.3697, 6.399358155752827, 3.49, 1.5617, 55.25177023813855),\n",
       " (9.2103, 9.4344, 2.433189221434635, 100.0, 79.9231, 20.076881408691406),\n",
       " (10.2602, 11.9081, 16.061404370285143, 35.0, 6.7357, 80.75514112200055),\n",
       " (11.5129, 11.5792, 0.5754940946499113, 10.0, 9.3589, 6.410884857177734),\n",
       " (10.7245, 11.2532, 4.930061654336603, 22.0, 12.9659, 41.064284064553),\n",
       " (9.9156, 14.8236, 49.49885082409448, 49.4, 0.3649, 99.2613404506614),\n",
       " (10.6602, 10.5656, 0.8875546908982143, 23.46, 25.7881, 9.923583060782478),\n",
       " (14.3313, 15.7337, 9.785226197326756, 0.597, 0.1469, 75.39830517329563),\n",
       " (10.0995, 11.7697, 16.537821330515975, 41.1, 7.7351, 81.1797687317043),\n",
       " (14.025, 12.1648, 13.263222213190925, 0.811, 5.2105, 542.4807443865718),\n",
       " (11.9134, 11.4364, 4.003979771227003, 6.7, 10.7954, 61.12499806418347),\n",
       " (16.5489, 13.6199, 17.699031406833345, 0.065, 1.2161, 1770.8746249859148),\n",
       " (13.1224, 10.9694, 16.40661253652332, 2.0, 17.2202, 761.009407043457),\n",
       " (9.0533, 11.8998, 31.440518697074996, 117.0, 6.7921, 94.19479899936252),\n",
       " (13.1124, 12.8339, 2.124321337349949, 2.02, 2.6688, 32.1212371977249),\n",
       " (8.7403, 12.5637, 43.74381006566316, 160.0, 3.4967, 97.81456708908081),\n",
       " (13.3455, 11.5884, 13.16625315412453, 1.6, 9.273, 479.5624852180481),\n",
       " (9.9115, 14.2327, 43.59794351288426, 49.6, 0.6589, 98.67163165923087),\n",
       " (8.5172, 10.2557, 20.412205467481307, 200.0, 35.1551, 82.42243576049805),\n",
       " (15.2018, 13.5303, 10.995724893321173, 0.25, 1.3301, 432.04007148742676),\n",
       " (14.5087, 11.0672, 23.720273642575673, 0.5, 15.6168, 3023.3564376831055),\n",
       " (8.0074, 9.7228, 21.422575914560685, 333.0, 59.9049, 82.01054524373006),\n",
       " (10.625, 12.7088, 19.61178136584869, 24.3, 3.0244, 87.5538457077717),\n",
       " (11.8006, 9.8783, 16.28954997885868, 7.5, 51.2732, 583.6431376139323),\n",
       " (12.4292, 13.3315, 7.259432276273975, 4.0, 1.6226, 59.43605303764343),\n",
       " (12.7004, 12.7053, 0.03843803844492956, 3.05, 3.0351, 0.48698519096999293),\n",
       " (9.9035, 13.1027, 32.30419817115715, 50.0, 2.0397, 95.92068910598755),\n",
       " (12.5627, 13.8738, 10.436285137118825, 3.5, 0.9433, 73.0472309248788),\n",
       " (8.5374, 8.1763, 4.230036358114397, 196.0, 281.2516, 43.495707609215565),\n",
       " (9.6645, 12.1274, 25.48392891356264, 63.5, 5.4095, 91.48113370880367),\n",
       " (11.3059, 14.4591, 27.88947151331041, 12.3, 0.5254, 95.7283027772981),\n",
       " (8.9029, 10.5008, 17.948812348761987, 136.0, 27.5141, 79.76905738606172),\n",
       " (11.8554, 12.9191, 8.972216502989635, 7.1, 2.4508, 65.48214764662191),\n",
       " (14.4889, 13.5562, 6.436794924818824, 0.51, 1.296, 154.11528699538286),\n",
       " (8.2434, 12.1075, 46.876348807858385, 263.0, 5.5177, 97.90199772939935)]"
      ]
     },
     "execution_count": 117,
     "metadata": {},
     "output_type": "execute_result"
    }
   ],
   "source": [
    "list(zip(y_test_pmic.round(4), y_pred_pmic.round(4), ape, y_test_mic.round(4), y_pred_mic.round(4), ape_mic))"
   ]
  },
  {
   "cell_type": "code",
   "execution_count": 118,
   "id": "official-benchmark",
   "metadata": {},
   "outputs": [
    {
     "data": {
      "text/plain": [
       "1.9580836442788954"
      ]
     },
     "execution_count": 118,
     "metadata": {},
     "output_type": "execute_result"
    }
   ],
   "source": [
    "mean_squared_error(y_test_pmic, y_pred_pmic)**0.5"
   ]
  },
  {
   "cell_type": "code",
   "execution_count": 119,
   "id": "demanding-metropolitan",
   "metadata": {},
   "outputs": [
    {
     "data": {
      "text/plain": [
       "0.4901653650180381"
      ]
     },
     "execution_count": 119,
     "metadata": {},
     "output_type": "execute_result"
    }
   ],
   "source": [
    "r2_score(y_test_pmic, y_pred_pmic)"
   ]
  },
  {
   "cell_type": "code",
   "execution_count": 121,
   "id": "collective-discount",
   "metadata": {},
   "outputs": [],
   "source": [
    "import matplotlib.pyplot as plt"
   ]
  },
  {
   "cell_type": "code",
   "execution_count": 126,
   "id": "french-accessory",
   "metadata": {},
   "outputs": [
    {
     "name": "stdout",
     "output_type": "stream",
     "text": [
      "Using matplotlib backend: MacOSX\n"
     ]
    }
   ],
   "source": [
    "%matplotlib"
   ]
  },
  {
   "cell_type": "code",
   "execution_count": 127,
   "id": "endangered-insulation",
   "metadata": {},
   "outputs": [
    {
     "data": {
      "text/plain": [
       "<matplotlib.axes._subplots.AxesSubplot at 0x1a1ecabcf8>"
      ]
     },
     "execution_count": 127,
     "metadata": {},
     "output_type": "execute_result"
    }
   ],
   "source": [
    "xgb.plot_importance(xgb_r)"
   ]
  },
  {
   "cell_type": "markdown",
   "id": "hungry-supplement",
   "metadata": {},
   "source": [
    "### hyperparam tuning"
   ]
  },
  {
   "cell_type": "code",
   "execution_count": 128,
   "id": "younger-narrative",
   "metadata": {},
   "outputs": [],
   "source": [
    "def hyperParameterTuning(X_train, y_train):\n",
    "    param_tuning = {\n",
    "        'learning_rate': [0.01, 0.1],\n",
    "        'max_depth': [3, 5, 7, 10],\n",
    "        'min_child_weight': [1, 3, 5],\n",
    "        'subsample': [0.5, 0.7],\n",
    "        'colsample_bytree': [0.5, 0.7],\n",
    "        'n_estimators' : [100, 200, 500],\n",
    "        'objective': ['reg:squarederror']\n",
    "    }\n",
    "\n",
    "    xgb_model = xgb.XGBRegressor()\n",
    "\n",
    "    gsearch = GridSearchCV(estimator = xgb_model,\n",
    "                           param_grid = param_tuning,                        \n",
    "                           #scoring = 'neg_mean_absolute_error', #MAE\n",
    "                           #scoring = 'neg_mean_squared_error',  #MSE\n",
    "                           cv = 5,\n",
    "                           n_jobs = -1,\n",
    "                           verbose = 1)\n",
    "\n",
    "    gsearch.fit(X_train,y_train)\n",
    "\n",
    "    return gsearch.best_params_"
   ]
  },
  {
   "cell_type": "code",
   "execution_count": 129,
   "id": "educated-limit",
   "metadata": {},
   "outputs": [
    {
     "name": "stdout",
     "output_type": "stream",
     "text": [
      "Fitting 5 folds for each of 288 candidates, totalling 1440 fits\n"
     ]
    },
    {
     "name": "stderr",
     "output_type": "stream",
     "text": [
      "[Parallel(n_jobs=-1)]: Using backend LokyBackend with 12 concurrent workers.\n",
      "[Parallel(n_jobs=-1)]: Done  26 tasks      | elapsed:    4.9s\n",
      "[Parallel(n_jobs=-1)]: Done 176 tasks      | elapsed:   23.5s\n",
      "[Parallel(n_jobs=-1)]: Done 426 tasks      | elapsed:  1.1min\n",
      "[Parallel(n_jobs=-1)]: Done 776 tasks      | elapsed:  2.3min\n",
      "[Parallel(n_jobs=-1)]: Done 1226 tasks      | elapsed:  4.1min\n",
      "[Parallel(n_jobs=-1)]: Done 1440 out of 1440 | elapsed:  5.3min finished\n"
     ]
    },
    {
     "data": {
      "text/plain": [
       "{'colsample_bytree': 0.5,\n",
       " 'learning_rate': 0.01,\n",
       " 'max_depth': 10,\n",
       " 'min_child_weight': 3,\n",
       " 'n_estimators': 500,\n",
       " 'objective': 'reg:squarederror',\n",
       " 'subsample': 0.5}"
      ]
     },
     "execution_count": 129,
     "metadata": {},
     "output_type": "execute_result"
    }
   ],
   "source": [
    "hyperParameterTuning(X_train, y_train_pmic)"
   ]
  },
  {
   "cell_type": "code",
   "execution_count": 130,
   "id": "conservative-departure",
   "metadata": {},
   "outputs": [],
   "source": [
    "best_params = {'colsample_bytree': 0.5,\n",
    " 'learning_rate': 0.01,\n",
    " 'max_depth': 10,\n",
    " 'min_child_weight': 3,\n",
    " 'n_estimators': 500,\n",
    " 'objective': 'reg:squarederror',\n",
    " 'subsample': 0.5}"
   ]
  },
  {
   "cell_type": "code",
   "execution_count": 132,
   "id": "rapid-bicycle",
   "metadata": {},
   "outputs": [],
   "source": [
    "xgb_model = xgb.XGBRegressor(**best_params)"
   ]
  },
  {
   "cell_type": "code",
   "execution_count": 134,
   "id": "domestic-reggae",
   "metadata": {},
   "outputs": [
    {
     "data": {
      "text/plain": [
       "XGBRegressor(base_score=0.5, booster='gbtree', colsample_bylevel=1,\n",
       "             colsample_bynode=1, colsample_bytree=0.5, gamma=0, gpu_id=-1,\n",
       "             importance_type='gain', interaction_constraints='',\n",
       "             learning_rate=0.01, max_delta_step=0, max_depth=10,\n",
       "             min_child_weight=3, missing=nan, monotone_constraints='()',\n",
       "             n_estimators=500, n_jobs=1, num_parallel_tree=1, random_state=0,\n",
       "             reg_alpha=0, reg_lambda=1, scale_pos_weight=1, subsample=0.5,\n",
       "             tree_method='exact', validate_parameters=1, verbosity=None)"
      ]
     },
     "execution_count": 134,
     "metadata": {},
     "output_type": "execute_result"
    }
   ],
   "source": [
    "xgb_model.fit(X_train, y_train_pmic, verbose=True)"
   ]
  },
  {
   "cell_type": "code",
   "execution_count": 138,
   "id": "transsexual-cholesterol",
   "metadata": {},
   "outputs": [
    {
     "name": "stderr",
     "output_type": "stream",
     "text": [
      "/Users/in-divye.singh/anaconda3/envs/life-science/lib/python3.6/site-packages/xgboost/data.py:115: UserWarning: Use subset (sliced data) of np.ndarray is not recommended because it will generate extra copies and increase memory consumption\n",
      "  \"memory consumption\")\n"
     ]
    }
   ],
   "source": [
    "y_pred_pmic = xgb_model.predict(X_test)"
   ]
  },
  {
   "cell_type": "code",
   "execution_count": 140,
   "id": "spoken-billy",
   "metadata": {},
   "outputs": [],
   "source": [
    "ape = 100*np.abs(y_test_pmic-y_pred_pmic)/y_test_pmic"
   ]
  },
  {
   "cell_type": "code",
   "execution_count": 141,
   "id": "presidential-fleece",
   "metadata": {},
   "outputs": [],
   "source": [
    "y_pred_mic = np.exp(-y_pred_pmic)/1e-6"
   ]
  },
  {
   "cell_type": "code",
   "execution_count": 142,
   "id": "technological-european",
   "metadata": {},
   "outputs": [],
   "source": [
    "ape_mic = 100*np.abs(y_test_mic-y_pred_mic)/y_test_mic"
   ]
  },
  {
   "cell_type": "code",
   "execution_count": 143,
   "id": "fossil-appraisal",
   "metadata": {
    "scrolled": true
   },
   "outputs": [
    {
     "data": {
      "text/plain": [
       "[(13.7385, 12.8988, 6.112276812537825, 1.08, 2.501, 131.57607626031947),\n",
       " (9.2103, 12.1159, 31.546806452518677, 100.0, 5.4718, 94.52823162078857),\n",
       " (9.2103, 10.7414, 16.623079767596764, 100.0, 21.631, 78.36898994445801),\n",
       " (10.6128, 11.5531, 8.860779849789234, 24.6, 9.6059, 60.95180899147096),\n",
       " (11.7361, 12.3181, 4.9593510897263, 8.0, 4.4701, 44.12387013435364),\n",
       " (11.8554, 12.0443, 1.593634443088761, 7.1, 5.8777, 17.215723386952572),\n",
       " (11.2506, 13.6047, 20.925008163707986, 13.0, 1.2346, 90.50287283383884),\n",
       " (11.814, 13.0505, 10.466052856031784, 7.4, 2.149, 70.95903190406592),\n",
       " (12.5627, 11.0751, 11.841593679997072, 3.5, 15.4931, 342.6590238298689),\n",
       " (9.8191, 10.2454, 4.341331350825693, 54.4, 35.5195, 34.70675805035759),\n",
       " (10.232, 11.4435, 11.840848983377965, 36.0, 10.7184, 70.2265977859497),\n",
       " (10.2602, 10.9855, 7.069281014366869, 35.0, 16.9459, 51.58302852085659),\n",
       " (12.8562, 11.7295, 8.763822228500892, 2.61, 8.053, 208.5430189110767),\n",
       " (11.4176, 11.1143, 2.6565908739921196, 11.0, 14.8978, 35.43467955155806),\n",
       " (10.9141, 10.8976, 0.15063238531039433, 18.2, 18.5017, 1.6576054332020558),\n",
       " (9.7902, 9.3981, 4.004233498975177, 56.0, 82.8782, 47.996861594063894),\n",
       " (9.9035, 13.2796, 34.090080397849555, 50.0, 1.709, 96.58197331428528),\n",
       " (16.3666, 15.3064, 6.477579313231002, 0.078, 0.2252, 188.68235456637845),\n",
       " (10.5498, 11.1856, 6.0273018496441555, 26.2, 13.8723, 47.052285871432936),\n",
       " (9.9035, 10.7873, 8.924640936954257, 50.0, 20.6594, 58.68112564086914),\n",
       " (8.8597, 9.7338, 9.866312531174602, 142.0, 59.2463, 58.27726982009243),\n",
       " (20.0301, 13.5691, 32.256439058055754, 0.002, 1.2794, 63870.23797035217),\n",
       " (17.3221, 14.1191, 18.490771499588575, 0.03, 0.7382, 2360.5846405029297),\n",
       " (12.1162, 12.3621, 2.02940761070619, 5.47, 4.2776, 21.799002443414714),\n",
       " (9.4335, 10.8169, 14.664774701659553, 80.0, 20.058, 74.92751598358154),\n",
       " (10.8554, 12.5494, 15.605503173744628, 19.3, 3.5469, 81.62245626894303),\n",
       " (12.8992, 12.8048, 0.7319806452930498, 2.5, 2.7476, 9.902095794677734),\n",
       " (9.2103, 12.4381, 35.04495337642211, 100.0, 3.9646, 96.03537702560425),\n",
       " (11.2898, 12.2395, 8.412175115827067, 12.5, 4.8356, 61.314918518066406),\n",
       " (9.6884, 11.8014, 21.810222878683316, 62.0, 7.4938, 87.91320170125654),\n",
       " (9.0448, 10.3264, 14.16959140044919, 118.0, 32.7555, 72.24113335043697),\n",
       " (15.3296, 13.4103, 12.520457824323808, 0.22, 1.4996, 581.6463578831066),\n",
       " (15.182, 15.1429, 0.2573904850347028, 0.255, 0.2652, 3.9850594950657245),\n",
       " (14.231, 11.9802, 15.816505312482578, 0.66, 6.2672, 849.5813196355646),\n",
       " (13.9663, 12.3441, 11.615436660147335, 0.86, 4.3554, 406.4475813577342),\n",
       " (12.075, 12.5286, 3.7562250868603635, 5.7, 3.6215, 36.46414656388133),\n",
       " (11.9655, 11.435, 4.433529690486713, 6.36, 10.8105, 69.97703216360799),\n",
       " (10.5197, 12.0559, 14.603007467541108, 27.0, 5.8104, 78.48002822310836),\n",
       " (18.3254, 17.6849, 3.4947736733150747, 0.011, 0.0209, 89.72969529303636),\n",
       " (10.4227, 11.6209, 11.496350419019755, 29.749, 8.9761, 69.8272756882814),\n",
       " (10.31, 13.053, 26.605456426708855, 33.3, 2.1437, 93.5623725971302),\n",
       " (15.1899, 14.2347, 6.288222908187442, 0.253, 0.6576, 159.91208468501276),\n",
       " (15.1248, 13.746, 9.116118992464155, 0.27, 1.0719, 297.0129843111391),\n",
       " (12.2061, 11.1218, 8.883321271937078, 5.0, 14.7869, 195.7382583618164),\n",
       " (10.5197, 11.3553, 7.943443635291426, 27.0, 11.7073, 56.639636004412615),\n",
       " (11.7361, 10.9648, 6.571637982830048, 8.0, 17.2998, 116.24720096588135),\n",
       " (11.7361, 11.6395, 0.8227611400431502, 8.0, 8.811, 10.137546062469482),\n",
       " (11.2506, 12.5802, 11.818525451353871, 13.0, 3.4394, 73.54302773108849),\n",
       " (14.9242, 10.6624, 28.55603391808504, 0.33, 23.4083, 6993.415115818832),\n",
       " (8.0074, 9.4113, 17.533068889150442, 333.0, 81.7941, 75.43720554661107),\n",
       " (12.94, 12.9888, 0.37652110610744566, 2.4, 2.2859, 4.7554135322570765),\n",
       " (10.9823, 13.6047, 23.878246375342346, 17.0, 1.2347, 92.73701976327335),\n",
       " (13.0271, 12.7961, 1.7725761203985237, 2.2, 2.7715, 25.975131988525384),\n",
       " (14.1722, 10.9729, 22.574684185752538, 0.7, 17.1612, 2351.600483485631),\n",
       " (11.8696, 16.6886, 40.59988402519178, 7.0, 0.0565, 99.19254971402032),\n",
       " (9.2103, 10.4218, 13.1536352053685, 100.0, 29.7752, 70.22480392456055),\n",
       " (13.8155, 11.7444, 14.990859692223204, 1.0, 7.9333, 693.3257579803467),\n",
       " (16.5186, 15.7997, 4.351817593284672, 0.067, 0.1375, 105.20887268123342),\n",
       " (18.9315, 17.9337, 5.270508924794264, 0.006, 0.0163, 171.22721076011655),\n",
       " (12.4292, 11.6026, 6.650796279531685, 4.0, 9.1425, 128.5630464553833),\n",
       " (17.1969, 16.4306, 4.455969952899817, 0.034, 0.0732, 115.17660249682032),\n",
       " (11.5129, 11.9746, 4.009621912577438, 10.0, 6.3026, 36.974120140075684),\n",
       " (12.2061, 13.1078, 7.387182995010235, 5.0, 2.0294, 59.41147804260254),\n",
       " (17.4274, 17.7166, 1.6591031454156664, 0.027, 0.0202, 25.109185278415687),\n",
       " (11.6183, 12.129, 4.395463243738497, 9.0, 5.4008, 39.991113874647354),\n",
       " (11.3306, 11.7663, 3.8449011226858327, 12.0, 7.7621, 35.31562884648641),\n",
       " (12.5627, 12.4158, 1.1696551100602868, 3.5, 4.054, 15.828541346958705),\n",
       " (14.4889, 12.9851, 10.37851266127364, 0.51, 2.2942, 349.8426119486491),\n",
       " (13.7763, 13.7881, 0.08582680371403767, 1.04, 1.0278, 1.1754072629488466),\n",
       " (9.2103, 11.147, 21.02722522837431, 100.0, 14.4182, 85.58180236816406),\n",
       " (9.2103, 10.0279, 8.876869417508649, 100.0, 44.1494, 55.850563049316406),\n",
       " (8.3143, 9.2068, 10.734664622938466, 245.0, 100.3587, 59.037251375159435),\n",
       " (11.5129, 12.1464, 5.502691431336851, 10.0, 5.3072, 46.92800045013428),\n",
       " (12.9957, 11.6454, 10.390674130071313, 2.27, 8.7594, 285.87528178345264),\n",
       " (12.0238, 12.8373, 6.76630371813679, 6.0, 2.6597, 55.67243893941244),\n",
       " (12.3339, 10.6536, 13.623596080859912, 4.4, 23.616, 436.72812201760036),\n",
       " (10.0427, 10.7725, 7.267092932066137, 43.502, 20.9679, 51.80006975590741),\n",
       " (10.8198, 11.9135, 10.10838953008425, 20.0, 6.6995, 66.50269746780396),\n",
       " (8.8955, 11.5583, 29.934039648293798, 137.0, 9.5562, 93.0246756894745),\n",
       " (16.2806, 10.3149, 36.64315229123219, 0.085, 33.1362, 38883.7646484375),\n",
       " (11.8597, 11.7527, 0.9020082455570271, 7.07, 7.8682, 11.29064978096407),\n",
       " (19.6247, 18.2908, 6.796844923094694, 0.003, 0.0114, 279.56560651461285),\n",
       " (9.2103, 10.3824, 12.725232784030773, 100.0, 30.9735, 69.02647018432617),\n",
       " (7.8675, 9.4672, 20.33278670840174, 383.0, 77.3514, 79.80382535849787),\n",
       " (11.4509, 10.9309, 4.541106641947598, 10.64, 17.8967, 68.20228189454042),\n",
       " (11.6123, 10.2435, 11.787171625487671, 9.054, 35.5866, 293.04826389697837),\n",
       " (17.356, 16.2572, 6.330535812241625, 0.029, 0.087, 200.0340585050912),\n",
       " (20.4609, 13.503, 34.00570415666858, 0.0013, 1.3668, 105039.54896193284),\n",
       " (11.8986, 13.4099, 12.701902601073941, 6.8, 1.5002, 77.9387396924636),\n",
       " (11.8957, 12.3642, 3.9384374381802427, 6.82, 4.2689, 37.406124607209236),\n",
       " (11.5129, 12.4644, 8.264231382431332, 10.0, 3.8618, 61.38211727142334),\n",
       " (15.977, 10.7891, 32.47102058245481, 0.1152, 20.6226, 17809.29306500692),\n",
       " (10.7245, 11.1476, 3.9459365500152526, 22.0, 14.4091, 34.50397578152743),\n",
       " (12.0238, 11.7189, 2.5356794609704996, 6.0, 8.1388, 35.64674059549967),\n",
       " (9.5388, 11.9408, 25.181228238958848, 72.0, 6.5187, 90.94631340768602),\n",
       " (12.7169, 12.3727, 2.70672079169271, 3.0, 4.2326, 41.08762741088867),\n",
       " (18.0842, 17.1637, 5.0899961422952895, 0.014, 0.0351, 151.05087884834836),\n",
       " (9.3047, 10.392, 11.685712969024255, 91.0, 30.678, 66.28795036902794),\n",
       " (10.4143, 12.2024, 17.169899303658383, 30.0, 5.0182, 83.27268441518147),\n",
       " (11.6754, 12.3832, 6.061610911273564, 8.5, 4.1885, 50.72335635914522),\n",
       " (9.028, 13.8357, 53.253115057631696, 120.0, 0.98, 99.18333883086841),\n",
       " (11.5129, 11.1189, 3.422823580043944, 10.0, 14.83, 48.29999923706055),\n",
       " (8.294, 12.0072, 44.7691254609462, 250.0, 6.1, 97.56000328063965),\n",
       " (9.2103, 10.769, 16.922673610565433, 100.0, 21.0423, 78.95770835876465),\n",
       " (18.526, 17.6921, 4.501616079762099, 0.009, 0.0207, 130.24442295233405),\n",
       " (10.9852, 12.4147, 13.012085235484985, 16.95, 4.0587, 76.05496521896318),\n",
       " (8.5844, 12.8167, 49.30221088158062, 187.0, 2.715, 98.54810416379715),\n",
       " (12.5656, 13.1719, 4.824684009036102, 3.49, 1.9034, 45.460820949521654),\n",
       " (9.2103, 9.8829, 7.302660848764059, 100.0, 51.038, 48.96200942993164),\n",
       " (10.2602, 11.5863, 12.924943772413943, 35.0, 9.2927, 73.44946180071149),\n",
       " (11.5129, 14.3238, 24.415211825487685, 10.0, 0.6015, 93.98494780063629),\n",
       " (10.7245, 10.7031, 0.19970679192414997, 22.0, 22.4763, 2.1648493680087),\n",
       " (9.9156, 12.8437, 29.53064467937356, 49.4, 2.6428, 94.65029490621467),\n",
       " (10.6602, 11.399, 6.930700273689907, 23.46, 11.2062, 52.23263645416026),\n",
       " (14.3313, 16.703, 16.548968917766977, 0.597, 0.0557, 90.66771599315918),\n",
       " (10.0995, 10.9453, 8.374306940537624, 41.1, 17.6413, 57.07704028944029),\n",
       " (14.025, 11.8964, 15.177330166570384, 0.811, 6.815, 740.3264785371491),\n",
       " (11.9134, 10.6969, 10.211050420445368, 6.7, 22.6145, 237.52976602582788),\n",
       " (16.5489, 14.9212, 9.835387557805376, 0.065, 0.331, 409.187625004695),\n",
       " (13.1224, 11.3522, 13.489854029396884, 2.0, 11.7439, 487.1954917907715),\n",
       " (9.0533, 11.8735, 31.151056174788252, 117.0, 6.9724, 94.04065710866553),\n",
       " (13.1124, 12.7693, 2.6168387491270635, 2.02, 2.8469, 40.935300600410685),\n",
       " (8.7403, 12.1925, 39.4971986647307, 160.0, 5.0682, 96.832375228405),\n",
       " (13.3455, 12.5504, 5.9581783918894935, 1.6, 3.5436, 121.47712111473083),\n",
       " (9.9115, 13.3936, 35.13213432684706, 49.6, 1.5248, 96.92580897000528),\n",
       " (8.5172, 10.7281, 25.958719798981, 200.0, 21.9192, 89.04039859771729),\n",
       " (15.2018, 12.7341, 16.232726292198826, 0.25, 2.9487, 1079.490089416504),\n",
       " (14.5087, 11.9023, 17.96408333628803, 0.5, 6.7747, 1254.9468994140625),\n",
       " (8.0074, 10.4654, 30.697564283581848, 333.0, 28.5049, 91.43997398582664),\n",
       " (10.625, 11.8288, 11.32966045464515, 24.3, 7.2914, 69.99422120459286),\n",
       " (11.8006, 11.6747, 1.0669680130607726, 7.5, 8.5063, 13.417867024739584),\n",
       " (12.4292, 11.029, 11.265888924512238, 4.0, 16.225, 305.62615394592285),\n",
       " (12.7004, 13.0875, 3.0480866690925335, 3.05, 2.071, 32.098920228051355),\n",
       " (9.9035, 10.7163, 8.20743188272132, 50.0, 22.1802, 55.639556884765625),\n",
       " (12.5627, 13.714, 9.16433451267833, 3.5, 1.1068, 68.3772121156965),\n",
       " (8.5374, 8.4684, 0.8080268729989843, 196.0, 209.9982, 7.1419618567641905),\n",
       " (9.6645, 12.3189, 27.46566710192683, 63.5, 4.4666, 92.96597608431118),\n",
       " (11.3059, 13.9015, 22.958001995301878, 12.3, 0.9176, 92.539974247537),\n",
       " (8.9029, 10.6301, 19.400471087200003, 136.0, 24.1784, 82.2217772988712),\n",
       " (11.8554, 12.4055, 4.639726681487944, 7.1, 4.0961, 42.30841247128768),\n",
       " (14.4889, 13.1381, 9.322970449163508, 0.51, 1.9688, 286.0480411379945),\n",
       " (8.2434, 12.1533, 47.43086277940236, 263.0, 5.2712, 97.99573974464329)]"
      ]
     },
     "execution_count": 143,
     "metadata": {},
     "output_type": "execute_result"
    }
   ],
   "source": [
    "list(zip(y_test_pmic.round(4), y_pred_pmic.round(4), ape, y_test_mic.round(4), y_pred_mic.round(4), ape_mic))"
   ]
  },
  {
   "cell_type": "code",
   "execution_count": 144,
   "id": "painful-occurrence",
   "metadata": {},
   "outputs": [
    {
     "data": {
      "text/plain": [
       "1.998697085322193"
      ]
     },
     "execution_count": 144,
     "metadata": {},
     "output_type": "execute_result"
    }
   ],
   "source": [
    "mean_squared_error(y_test_pmic, y_pred_pmic)**0.5"
   ]
  },
  {
   "cell_type": "code",
   "execution_count": 145,
   "id": "incident-dakota",
   "metadata": {},
   "outputs": [
    {
     "data": {
      "text/plain": [
       "0.46879663917936976"
      ]
     },
     "execution_count": 145,
     "metadata": {},
     "output_type": "execute_result"
    }
   ],
   "source": [
    "r2_score(y_test_pmic, y_pred_pmic)"
   ]
  }
 ],
 "metadata": {
  "kernelspec": {
   "display_name": "Python 3",
   "language": "python",
   "name": "python3"
  },
  "language_info": {
   "codemirror_mode": {
    "name": "ipython",
    "version": 3
   },
   "file_extension": ".py",
   "mimetype": "text/x-python",
   "name": "python",
   "nbconvert_exporter": "python",
   "pygments_lexer": "ipython3",
   "version": "3.6.10"
  },
  "varInspector": {
   "cols": {
    "lenName": 16,
    "lenType": 16,
    "lenVar": 40
   },
   "kernels_config": {
    "python": {
     "delete_cmd_postfix": "",
     "delete_cmd_prefix": "del ",
     "library": "var_list.py",
     "varRefreshCmd": "print(var_dic_list())"
    },
    "r": {
     "delete_cmd_postfix": ") ",
     "delete_cmd_prefix": "rm(",
     "library": "var_list.r",
     "varRefreshCmd": "cat(var_dic_list()) "
    }
   },
   "types_to_exclude": [
    "module",
    "function",
    "builtin_function_or_method",
    "instance",
    "_Feature"
   ],
   "window_display": false
  }
 },
 "nbformat": 4,
 "nbformat_minor": 5
}
