{
 "cells": [
  {
   "cell_type": "code",
   "execution_count": 1,
   "id": "owned-productivity",
   "metadata": {
    "scrolled": false
   },
   "outputs": [
    {
     "name": "stdout",
     "output_type": "stream",
     "text": [
      "/Users/in-divye.singh/Documents/Projects/MIC_predictor/src\n"
     ]
    }
   ],
   "source": [
    "cd ../../src"
   ]
  },
  {
   "cell_type": "code",
   "execution_count": 2,
   "id": "patient-james",
   "metadata": {},
   "outputs": [],
   "source": [
    "import biovec\n",
    "import numpy as np\n",
    "import pandas as pd\n",
    "from itertools import chain, combinations\n",
    "from collections import Counter\n",
    "\n",
    "from utils import *\n",
    "\n",
    "from sklearn.svm import SVR\n",
    "from sklearn.neighbors import KNeighborsRegressor\n",
    "from sklearn.metrics import make_scorer\n",
    "from sklearn.model_selection import GridSearchCV\n",
    "from sklearn.metrics import mean_squared_error, mean_absolute_error\n",
    "from sklearn.model_selection import train_test_split\n",
    "\n",
    "from Bio.SeqUtils.ProtParam import ProteinAnalysis"
   ]
  },
  {
   "cell_type": "code",
   "execution_count": 3,
   "id": "weekly-internet",
   "metadata": {},
   "outputs": [],
   "source": [
    "import seaborn as sns"
   ]
  },
  {
   "cell_type": "code",
   "execution_count": 4,
   "id": "friendly-rwanda",
   "metadata": {},
   "outputs": [],
   "source": [
    "def mean_absolute_percentage_error(y_true, y_pred): \n",
    "    y_true, y_pred = np.array(y_true), np.array(y_pred)\n",
    "    return np.mean(np.abs((y_true - y_pred) / y_true)) * 100\n",
    "\n",
    "mape_scorer = make_scorer(mean_absolute_percentage_error, greater_is_better=False)"
   ]
  },
  {
   "cell_type": "code",
   "execution_count": 5,
   "id": "satisfied-biology",
   "metadata": {},
   "outputs": [],
   "source": [
    "avp_ic50 = pd.read_csv(\"../data/raw/AVP-IC50Pred_train.csv\")\n",
    "ha_avp = pd.read_csv(\"../data/raw/HA_AVP.csv\")"
   ]
  },
  {
   "cell_type": "code",
   "execution_count": 6,
   "id": "prime-choice",
   "metadata": {},
   "outputs": [],
   "source": [
    "df = pd.concat([avp_ic50[['Sequence','MIC']], ha_avp], axis=0).drop_duplicates(['Sequence']).reset_index(drop=True)\n",
    "df = sequence_filtering(df)"
   ]
  },
  {
   "cell_type": "code",
   "execution_count": 12,
   "id": "greek-citation",
   "metadata": {},
   "outputs": [],
   "source": [
    "df = df.drop_duplicates(['MIC']).reset_index(drop=True)"
   ]
  },
  {
   "cell_type": "code",
   "execution_count": 15,
   "id": "remarkable-patient",
   "metadata": {},
   "outputs": [],
   "source": [
    "df2 = df[df['MIC'] >= 1e-3]"
   ]
  },
  {
   "cell_type": "code",
   "execution_count": 16,
   "id": "chemical-stuart",
   "metadata": {},
   "outputs": [
    {
     "data": {
      "text/html": [
       "<div>\n",
       "<style scoped>\n",
       "    .dataframe tbody tr th:only-of-type {\n",
       "        vertical-align: middle;\n",
       "    }\n",
       "\n",
       "    .dataframe tbody tr th {\n",
       "        vertical-align: top;\n",
       "    }\n",
       "\n",
       "    .dataframe thead th {\n",
       "        text-align: right;\n",
       "    }\n",
       "</style>\n",
       "<table border=\"1\" class=\"dataframe\">\n",
       "  <thead>\n",
       "    <tr style=\"text-align: right;\">\n",
       "      <th></th>\n",
       "      <th>Sequence</th>\n",
       "      <th>MIC</th>\n",
       "    </tr>\n",
       "  </thead>\n",
       "  <tbody>\n",
       "    <tr>\n",
       "      <th>0</th>\n",
       "      <td>AAQRRGRVGRNPNQVGD</td>\n",
       "      <td>442.00000</td>\n",
       "    </tr>\n",
       "    <tr>\n",
       "      <th>1</th>\n",
       "      <td>HRILARIRQMMT</td>\n",
       "      <td>435.50000</td>\n",
       "    </tr>\n",
       "    <tr>\n",
       "      <th>2</th>\n",
       "      <td>RNPSQVGD</td>\n",
       "      <td>383.00000</td>\n",
       "    </tr>\n",
       "    <tr>\n",
       "      <th>3</th>\n",
       "      <td>RVGRNPNQVGD</td>\n",
       "      <td>374.00000</td>\n",
       "    </tr>\n",
       "    <tr>\n",
       "      <th>4</th>\n",
       "      <td>AAQRRGRIGRNPSQVGD</td>\n",
       "      <td>358.00000</td>\n",
       "    </tr>\n",
       "    <tr>\n",
       "      <th>...</th>\n",
       "      <td>...</td>\n",
       "      <td>...</td>\n",
       "    </tr>\n",
       "    <tr>\n",
       "      <th>414</th>\n",
       "      <td>EELRVRLASHLRKLRKRLLRDADDLQKRLAVYEEQAQQIRLQAEAF...</td>\n",
       "      <td>0.67000</td>\n",
       "    </tr>\n",
       "    <tr>\n",
       "      <th>415</th>\n",
       "      <td>SLDQINVTFLDLEYEMKKLEEAIKKLEESYIDLKEL</td>\n",
       "      <td>0.00130</td>\n",
       "    </tr>\n",
       "    <tr>\n",
       "      <th>416</th>\n",
       "      <td>NGAICWGPCPTAFRQIGNCGHFKVRCCKIR</td>\n",
       "      <td>0.11515</td>\n",
       "    </tr>\n",
       "    <tr>\n",
       "      <th>417</th>\n",
       "      <td>CFPYITRPGTYHDWWYTRKNRQ</td>\n",
       "      <td>0.30000</td>\n",
       "    </tr>\n",
       "    <tr>\n",
       "      <th>418</th>\n",
       "      <td>YTSLIHSLIEESQNQQEKNEQELLELDKWASLWNWF</td>\n",
       "      <td>0.01131</td>\n",
       "    </tr>\n",
       "  </tbody>\n",
       "</table>\n",
       "<p>415 rows × 2 columns</p>\n",
       "</div>"
      ],
      "text/plain": [
       "                                              Sequence        MIC\n",
       "0                                    AAQRRGRVGRNPNQVGD  442.00000\n",
       "1                                         HRILARIRQMMT  435.50000\n",
       "2                                             RNPSQVGD  383.00000\n",
       "3                                          RVGRNPNQVGD  374.00000\n",
       "4                                    AAQRRGRIGRNPSQVGD  358.00000\n",
       "..                                                 ...        ...\n",
       "414  EELRVRLASHLRKLRKRLLRDADDLQKRLAVYEEQAQQIRLQAEAF...    0.67000\n",
       "415               SLDQINVTFLDLEYEMKKLEEAIKKLEESYIDLKEL    0.00130\n",
       "416                     NGAICWGPCPTAFRQIGNCGHFKVRCCKIR    0.11515\n",
       "417                             CFPYITRPGTYHDWWYTRKNRQ    0.30000\n",
       "418               YTSLIHSLIEESQNQQEKNEQELLELDKWASLWNWF    0.01131\n",
       "\n",
       "[415 rows x 2 columns]"
      ]
     },
     "execution_count": 16,
     "metadata": {},
     "output_type": "execute_result"
    }
   ],
   "source": [
    "df2"
   ]
  },
  {
   "cell_type": "code",
   "execution_count": 17,
   "id": "cardiovascular-doctrine",
   "metadata": {},
   "outputs": [
    {
     "data": {
      "text/plain": [
       "<matplotlib.axes._subplots.AxesSubplot at 0x1a1ac7c128>"
      ]
     },
     "execution_count": 17,
     "metadata": {},
     "output_type": "execute_result"
    },
    {
     "data": {
      "image/png": "[encoded data removed]",
      "text/plain": [
       "<Figure size 432x288 with 1 Axes>"
      ]
     },
     "metadata": {
      "needs_background": "light"
     },
     "output_type": "display_data"
    }
   ],
   "source": [
    "df2['MIC'].hist()"
   ]
  },
  {
   "cell_type": "code",
   "execution_count": 18,
   "id": "invisible-interstate",
   "metadata": {},
   "outputs": [
    {
     "name": "stderr",
     "output_type": "stream",
     "text": [
      "/Users/in-divye.singh/anaconda3/envs/life-science/lib/python3.6/site-packages/ipykernel_launcher.py:1: SettingWithCopyWarning: \n",
      "A value is trying to be set on a copy of a slice from a DataFrame.\n",
      "Try using .loc[row_indexer,col_indexer] = value instead\n",
      "\n",
      "See the caveats in the documentation: https://pandas.pydata.org/pandas-docs/stable/user_guide/indexing.html#returning-a-view-versus-a-copy\n",
      "  \"\"\"Entry point for launching an IPython kernel.\n"
     ]
    }
   ],
   "source": [
    "df2['pIC50'] = df2['MIC'].apply(lambda x: -np.log(x*1e-6))"
   ]
  },
  {
   "cell_type": "code",
   "execution_count": 19,
   "id": "connected-valley",
   "metadata": {},
   "outputs": [
    {
     "data": {
      "text/html": [
       "<div>\n",
       "<style scoped>\n",
       "    .dataframe tbody tr th:only-of-type {\n",
       "        vertical-align: middle;\n",
       "    }\n",
       "\n",
       "    .dataframe tbody tr th {\n",
       "        vertical-align: top;\n",
       "    }\n",
       "\n",
       "    .dataframe thead th {\n",
       "        text-align: right;\n",
       "    }\n",
       "</style>\n",
       "<table border=\"1\" class=\"dataframe\">\n",
       "  <thead>\n",
       "    <tr style=\"text-align: right;\">\n",
       "      <th></th>\n",
       "      <th>Sequence</th>\n",
       "      <th>MIC</th>\n",
       "      <th>pIC50</th>\n",
       "    </tr>\n",
       "  </thead>\n",
       "  <tbody>\n",
       "    <tr>\n",
       "      <th>0</th>\n",
       "      <td>AAQRRGRVGRNPNQVGD</td>\n",
       "      <td>442.00000</td>\n",
       "      <td>7.724201</td>\n",
       "    </tr>\n",
       "    <tr>\n",
       "      <th>1</th>\n",
       "      <td>HRILARIRQMMT</td>\n",
       "      <td>435.50000</td>\n",
       "      <td>7.739016</td>\n",
       "    </tr>\n",
       "    <tr>\n",
       "      <th>2</th>\n",
       "      <td>RNPSQVGD</td>\n",
       "      <td>383.00000</td>\n",
       "      <td>7.867476</td>\n",
       "    </tr>\n",
       "    <tr>\n",
       "      <th>3</th>\n",
       "      <td>RVGRNPNQVGD</td>\n",
       "      <td>374.00000</td>\n",
       "      <td>7.891255</td>\n",
       "    </tr>\n",
       "    <tr>\n",
       "      <th>4</th>\n",
       "      <td>AAQRRGRIGRNPSQVGD</td>\n",
       "      <td>358.00000</td>\n",
       "      <td>7.934978</td>\n",
       "    </tr>\n",
       "    <tr>\n",
       "      <th>...</th>\n",
       "      <td>...</td>\n",
       "      <td>...</td>\n",
       "      <td>...</td>\n",
       "    </tr>\n",
       "    <tr>\n",
       "      <th>414</th>\n",
       "      <td>EELRVRLASHLRKLRKRLLRDADDLQKRLAVYEEQAQQIRLQAEAF...</td>\n",
       "      <td>0.67000</td>\n",
       "      <td>14.215988</td>\n",
       "    </tr>\n",
       "    <tr>\n",
       "      <th>415</th>\n",
       "      <td>SLDQINVTFLDLEYEMKKLEEAIKKLEESYIDLKEL</td>\n",
       "      <td>0.00130</td>\n",
       "      <td>20.460902</td>\n",
       "    </tr>\n",
       "    <tr>\n",
       "      <th>416</th>\n",
       "      <td>NGAICWGPCPTAFRQIGNCGHFKVRCCKIR</td>\n",
       "      <td>0.11515</td>\n",
       "      <td>15.977030</td>\n",
       "    </tr>\n",
       "    <tr>\n",
       "      <th>417</th>\n",
       "      <td>CFPYITRPGTYHDWWYTRKNRQ</td>\n",
       "      <td>0.30000</td>\n",
       "      <td>15.019483</td>\n",
       "    </tr>\n",
       "    <tr>\n",
       "      <th>418</th>\n",
       "      <td>YTSLIHSLIEESQNQQEKNEQELLELDKWASLWNWF</td>\n",
       "      <td>0.01131</td>\n",
       "      <td>18.297579</td>\n",
       "    </tr>\n",
       "  </tbody>\n",
       "</table>\n",
       "<p>415 rows × 3 columns</p>\n",
       "</div>"
      ],
      "text/plain": [
       "                                              Sequence        MIC      pIC50\n",
       "0                                    AAQRRGRVGRNPNQVGD  442.00000   7.724201\n",
       "1                                         HRILARIRQMMT  435.50000   7.739016\n",
       "2                                             RNPSQVGD  383.00000   7.867476\n",
       "3                                          RVGRNPNQVGD  374.00000   7.891255\n",
       "4                                    AAQRRGRIGRNPSQVGD  358.00000   7.934978\n",
       "..                                                 ...        ...        ...\n",
       "414  EELRVRLASHLRKLRKRLLRDADDLQKRLAVYEEQAQQIRLQAEAF...    0.67000  14.215988\n",
       "415               SLDQINVTFLDLEYEMKKLEEAIKKLEESYIDLKEL    0.00130  20.460902\n",
       "416                     NGAICWGPCPTAFRQIGNCGHFKVRCCKIR    0.11515  15.977030\n",
       "417                             CFPYITRPGTYHDWWYTRKNRQ    0.30000  15.019483\n",
       "418               YTSLIHSLIEESQNQQEKNEQELLELDKWASLWNWF    0.01131  18.297579\n",
       "\n",
       "[415 rows x 3 columns]"
      ]
     },
     "execution_count": 19,
     "metadata": {},
     "output_type": "execute_result"
    }
   ],
   "source": [
    "df2"
   ]
  },
  {
   "cell_type": "code",
   "execution_count": 20,
   "id": "acute-recycling",
   "metadata": {
    "scrolled": true
   },
   "outputs": [
    {
     "data": {
      "text/plain": [
       "<matplotlib.axes._subplots.AxesSubplot at 0x1a1bc06f28>"
      ]
     },
     "execution_count": 20,
     "metadata": {},
     "output_type": "execute_result"
    },
    {
     "data": {
      "image/png": "[encoded data removed]",
      "text/plain": [
       "<Figure size 432x288 with 1 Axes>"
      ]
     },
     "metadata": {
      "needs_background": "light"
     },
     "output_type": "display_data"
    }
   ],
   "source": [
    "df2['pIC50'].hist()"
   ]
  },
  {
   "cell_type": "code",
   "execution_count": 21,
   "id": "acknowledged-batman",
   "metadata": {},
   "outputs": [],
   "source": [
    "def get_physicochemical_properties(df):\n",
    "    params = ['aromaticity', 'helix', 'turn', 'sheet', 'gravy', 'net_charge_at_pH7point4']\n",
    "\n",
    "    prop = []\n",
    "    for seq in df.Sequence:\n",
    "        X = ProteinAnalysis(seq)\n",
    "        aromaticity = X.aromaticity()\n",
    "        sec_struc = X.secondary_structure_fraction()\n",
    "        helix = sec_struc[0]\n",
    "        turn = sec_struc[1]\n",
    "        sheet = sec_struc[2]\n",
    "        gravy = X.gravy() # hydrophobicity related\n",
    "        net_charge_at_pH7point4 = X.charge_at_pH(7.4)\n",
    "\n",
    "        prop.append([aromaticity, helix, turn, sheet, gravy, net_charge_at_pH7point4])\n",
    "    return pd.DataFrame(prop, columns=params)"
   ]
  },
  {
   "cell_type": "code",
   "execution_count": 22,
   "id": "eight-replica",
   "metadata": {},
   "outputs": [],
   "source": [
    "dipep_freq = reduce_by_kmer_frequency(df2, kmer=2)"
   ]
  },
  {
   "cell_type": "code",
   "execution_count": 23,
   "id": "future-tulsa",
   "metadata": {},
   "outputs": [
    {
     "name": "stderr",
     "output_type": "stream",
     "text": [
      "/Users/in-divye.singh/anaconda3/envs/life-science/lib/python3.6/site-packages/smart_open/smart_open_lib.py:254: UserWarning: This function is deprecated, use smart_open.open instead. See the migration notes for details: https://github.com/RaRe-Technologies/smart_open/blob/master/README.rst#migrating-to-the-new-open-function\n",
      "  'See the migration notes for details: %s' % _MIGRATION_NOTES_URL\n",
      "Creating vectors: 100%|██████████| 420/420 [00:00<00:00, 1173.81sequence/s]\n"
     ]
    }
   ],
   "source": [
    "uniprot_embedding = biovec.models.load_protvec(\"../data/embeddings/uniprot__kmer_3_contextWindow_10_vector_100_reduction_None\")\n",
    "\n",
    "avg_protvec = convert_sequences_to_avg_vectors(df['Sequence'], uniprot_embedding, kmer=3)\n",
    "avg_protvec = avg_protvec.reset_index(drop=True)"
   ]
  },
  {
   "cell_type": "code",
   "execution_count": 24,
   "id": "binary-click",
   "metadata": {},
   "outputs": [],
   "source": [
    "physicochemical_prop = get_physicochemical_properties(df2)"
   ]
  },
  {
   "cell_type": "code",
   "execution_count": 25,
   "id": "local-enclosure",
   "metadata": {},
   "outputs": [],
   "source": [
    "X = pd.concat([dipep_freq, physicochemical_prop[['turn']]], axis=1)"
   ]
  },
  {
   "cell_type": "code",
   "execution_count": 26,
   "id": "amber-broadcast",
   "metadata": {},
   "outputs": [],
   "source": [
    "y = df2[['pIC50', 'MIC']]"
   ]
  },
  {
   "cell_type": "code",
   "execution_count": 27,
   "id": "established-international",
   "metadata": {},
   "outputs": [],
   "source": [
    "X_train, X_test, y_train, y_test = train_test_split(X, y, test_size=0.2, random_state=42)"
   ]
  },
  {
   "cell_type": "code",
   "execution_count": 28,
   "id": "indonesian-choir",
   "metadata": {},
   "outputs": [],
   "source": [
    "y_train_pmic, y_train_mic = y_train['pIC50'], y_train['MIC']\n",
    "y_test_pmic, y_test_mic = y_test['pIC50'], y_test['MIC']"
   ]
  },
  {
   "cell_type": "code",
   "execution_count": 30,
   "id": "stone-software",
   "metadata": {},
   "outputs": [],
   "source": [
    "from sklearn.model_selection import cross_val_score, GridSearchCV, LeaveOneOut"
   ]
  },
  {
   "cell_type": "code",
   "execution_count": 93,
   "id": "shared-april",
   "metadata": {},
   "outputs": [
    {
     "name": "stdout",
     "output_type": "stream",
     "text": [
      "[-5420.44308469 -1582.66598384 -3836.78732979 -1466.57649455\n",
      " -5850.16332342] -3631.3272432560652\n",
      "(0.12850190907445044, 0.24696161496914104)\n",
      "83.79786073165315 25.905375611695874\n"
     ]
    },
    {
     "data": {
      "text/plain": [
       "26005.04906178785"
      ]
     },
     "execution_count": 93,
     "metadata": {},
     "output_type": "execute_result"
    }
   ],
   "source": [
    "svr = SVR(C=100, gamma=3)\n",
    "cv_score = cross_val_score(svr, X_train, y_train_mic, cv=5, scoring=mape_scorer)\n",
    "cv_mean = cv_score.mean()\n",
    "print(cv_score, cv_mean)\n",
    "\n",
    "print(pearsonr(y_test_mic,y_pred))\n",
    "_ = svr.fit(X_train, y_train_mic)\n",
    "y_pred = svr.predict(X_test)\n",
    "\n",
    "print(np.std(y_test_mic), np.std(y_pred))\n",
    "\n",
    "ape = 100*np.abs(y_test_mic-y_pred)/y_test_mic\n",
    "ape.mean()"
   ]
  },
  {
   "cell_type": "code",
   "execution_count": 92,
   "id": "requested-variable",
   "metadata": {},
   "outputs": [],
   "source": [
    "gg = list(zip(y_test_mic.round(6), y_pred.round(6), ape))"
   ]
  },
  {
   "cell_type": "code",
   "execution_count": 68,
   "id": "mobile-plasma",
   "metadata": {
    "collapsed": true
   },
   "outputs": [
    {
     "data": {
      "text/plain": [
       "[(54.587, 53.861203, 1.3296149039824434),\n",
       " (34.6, 32.931423, 4.822477722726292),\n",
       " (21.5, 20.148995, 6.283745968399277),\n",
       " (45.5, 50.317977, 10.588960854644949),\n",
       " (11.62, 10.311148, 11.26378727155681),\n",
       " (54.4, 45.650889, 16.082924914038635),\n",
       " (6.5, 5.420433, 16.608724718668974),\n",
       " (4.89, 4.040562, 17.370915155883857),\n",
       " (57.981, 44.540906, 23.180169013628213),\n",
       " (43.502, 53.616809, 23.251366183142064),\n",
       " (5.42, 3.973833, 26.68204314889482),\n",
       " (33.0, 45.511288, 37.912994455240494),\n",
       " (33.871, 20.058523, 40.77965430877221),\n",
       " (42.0, 24.05149, 42.73454677952943),\n",
       " (23.46, 13.008986, 44.54822728332989),\n",
       " (3.0, 1.634109, 45.529701885510576),\n",
       " (12.72, 6.465941, 49.16712710802644),\n",
       " (58.1, 25.985071, 55.27526513048448),\n",
       " (3.97, 1.751254, 55.887802792326575),\n",
       " (156.0, 65.478392, 58.026671986800444),\n",
       " (0.93, 0.356099, 61.70978839836486),\n",
       " (118.0, 37.707976, 68.04408812918615),\n",
       " (196.0, 59.740565, 69.52011966442386),\n",
       " (3.1, 0.923355, 70.21436031860593),\n",
       " (60.018, 17.492573, 70.85445577675468),\n",
       " (50.0, 14.35298, 71.29403904657045),\n",
       " (53.0, 13.564928, 74.4057953590151),\n",
       " (126.0, 31.610091, 74.9126260201316),\n",
       " (80.0, 19.447796, 75.69025468095671),\n",
       " (110.0, 25.779048, 76.56450177196079),\n",
       " (53.753, 12.245041, 77.21979954418639),\n",
       " (16.95, 3.652608, 78.45068776074226),\n",
       " (19.745, 35.423276, 79.4037765001485),\n",
       " (11.3, 1.987943, 82.40758697730962),\n",
       " (75.0, 11.223295, 85.03560722746819),\n",
       " (85.0, 12.363187, 85.45507432998659),\n",
       " (177.0, 23.667187, 86.62870788065939),\n",
       " (165.0, 21.671255, 86.8659058308014),\n",
       " (6.9, 0.886152, 87.1572127320304),\n",
       " (283.0, 35.924345, 87.30588517120181),\n",
       " (442.0, 53.172183, 87.97009435016807),\n",
       " (28.6, 2.984029, 89.56633364212881),\n",
       " (237.0, 24.183698, 89.79590782742709),\n",
       " (49.4, 4.807405, 90.26841120927735),\n",
       " (263.0, 19.839295, 92.45654167807113),\n",
       " (200.0, 8.937847, 95.53107625658394),\n",
       " (250.0, 10.400572, 95.83977130280735),\n",
       " (262.539, 8.397338, 96.8014893891959),\n",
       " (11.4, 22.523582, 97.57528257126653),\n",
       " (25.91, 0.196649, 99.24103013870716),\n",
       " (0.67, -0.14328, 121.38506606459303),\n",
       " (0.5, -0.14293, 128.58602185709174),\n",
       " (4.73, 11.834263, 150.19583315650266),\n",
       " (1.267, 3.806732, 200.4524208348315),\n",
       " (1.23, 3.722018, 202.60312084272633),\n",
       " (1.0, 3.345876, 234.58761256835743),\n",
       " (4.5, 17.460677, 288.0150512618368),\n",
       " (0.82, 3.358612, 309.5868804061168),\n",
       " (0.662, 3.581602, 441.02752329160387),\n",
       " (1.965, 11.31382, 475.7669249349756),\n",
       " (0.79, 4.783548, 505.5124199531418),\n",
       " (4.07, 29.329963, 620.6379219337043),\n",
       " (0.899, 6.523428, 625.6315503745448),\n",
       " (0.283, -3.021216, 1167.5675582703548),\n",
       " (0.049, 0.653105, 1232.8674269276091),\n",
       " (0.263, -3.108261, 1281.8483407285707),\n",
       " (1.482, 20.518352, 1284.5041554799197),\n",
       " (0.035, 0.621008, 1674.3099298355346),\n",
       " (0.18, 3.526869, 1859.371676132725),\n",
       " (0.029, -0.916862, 3261.594322272693),\n",
       " (0.01, -0.454885, 4648.848260511988),\n",
       " (0.016, 0.876732, 5379.576615369464),\n",
       " (0.161, 12.113807, 7424.103529850141),\n",
       " (0.3, 24.36099, 8020.329900649144),\n",
       " (0.33, 33.217076, 9965.780478781586),\n",
       " (0.155, 20.055833, 12839.246898645195),\n",
       " (0.068, 9.663583, 14111.15166373764),\n",
       " (0.094, 14.182974, 14988.269865659546),\n",
       " (0.006, 1.342921, 22282.008720112386),\n",
       " (0.045, 10.143453, 22441.007553192256),\n",
       " (0.026, 18.928164, 72700.6289630445),\n",
       " (0.0013, 1.526708, 117339.1146204145),\n",
       " (0.001, 9.937198, 993619.8401229793)]"
      ]
     },
     "execution_count": 68,
     "metadata": {},
     "output_type": "execute_result"
    }
   ],
   "source": [
    "sorted(gg, key=lambda x:x[2])"
   ]
  },
  {
   "cell_type": "code",
   "execution_count": 69,
   "id": "ongoing-limitation",
   "metadata": {},
   "outputs": [],
   "source": [
    "from scipy.stats import pearsonr"
   ]
  },
  {
   "cell_type": "markdown",
   "id": "hungry-president",
   "metadata": {},
   "source": [
    "### ANN"
   ]
  },
  {
   "cell_type": "code",
   "execution_count": 153,
   "id": "infinite-hopkins",
   "metadata": {},
   "outputs": [],
   "source": [
    "from keras import backend as K\n",
    "import matplotlib.pyplot as plt"
   ]
  },
  {
   "cell_type": "code",
   "execution_count": 154,
   "id": "revolutionary-friendly",
   "metadata": {},
   "outputs": [],
   "source": [
    "def PCC(y_true, y_pred):\n",
    "\n",
    "    #normalise\n",
    "    n_y_true = (y_true - K.mean(y_true[:])) / K.std(y_true[:])\n",
    "    n_y_pred = (y_pred - K.mean(y_pred[:])) / K.std(y_pred[:])  \n",
    "\n",
    "    top=K.sum((n_y_true[:]-K.mean(n_y_true[:]))*(n_y_pred[:]-K.mean(n_y_pred[:])),axis=[-1,-2])\n",
    "    bottom=K.sqrt(K.sum(K.pow((n_y_true[:]-K.mean(n_y_true[:])),2),axis=[-1,-2])*K.sum(K.pow(n_y_pred[:]-K.mean(n_y_pred[:]),2),axis=[-1,-2]))\n",
    "\n",
    "    result=top/bottom\n",
    "\n",
    "\n",
    "    return K.mean(result)"
   ]
  },
  {
   "cell_type": "code",
   "execution_count": 94,
   "id": "biblical-translator",
   "metadata": {},
   "outputs": [],
   "source": [
    "from keras.layers import Dense, Dropout\n",
    "from keras.models import Sequential"
   ]
  },
  {
   "cell_type": "code",
   "execution_count": 148,
   "id": "biblical-diving",
   "metadata": {},
   "outputs": [],
   "source": [
    "model = Sequential()\n",
    "model.add(Dense(256, input_dim=X_train.shape[1], activation='relu'))\n",
    "model.add(Dropout(0.4))\n",
    "model.add(Dense(128, activation='relu'))\n",
    "model.add(Dropout(0.3))\n",
    "model.add(Dense(64, activation='relu'))\n",
    "model.add(Dropout(0.2))\n",
    "model.add(Dense(1, activation='relu'))"
   ]
  },
  {
   "cell_type": "code",
   "execution_count": 149,
   "id": "inner-intention",
   "metadata": {},
   "outputs": [],
   "source": [
    "model.compile(optimizer='adam', loss=\"mean_absolute_percentage_error\", metrics=[PCC])"
   ]
  },
  {
   "cell_type": "code",
   "execution_count": 150,
   "id": "vulnerable-rings",
   "metadata": {},
   "outputs": [
    {
     "name": "stdout",
     "output_type": "stream",
     "text": [
      "Model: \"sequential_5\"\n",
      "_________________________________________________________________\n",
      "Layer (type)                 Output Shape              Param #   \n",
      "=================================================================\n",
      "dense_20 (Dense)             (None, 256)               102912    \n",
      "_________________________________________________________________\n",
      "dropout (Dropout)            (None, 256)               0         \n",
      "_________________________________________________________________\n",
      "dense_21 (Dense)             (None, 128)               32896     \n",
      "_________________________________________________________________\n",
      "dropout_1 (Dropout)          (None, 128)               0         \n",
      "_________________________________________________________________\n",
      "dense_22 (Dense)             (None, 64)                8256      \n",
      "_________________________________________________________________\n",
      "dropout_2 (Dropout)          (None, 64)                0         \n",
      "_________________________________________________________________\n",
      "dense_23 (Dense)             (None, 1)                 65        \n",
      "=================================================================\n",
      "Total params: 144,129\n",
      "Trainable params: 144,129\n",
      "Non-trainable params: 0\n",
      "_________________________________________________________________\n"
     ]
    }
   ],
   "source": [
    "model.summary()"
   ]
  },
  {
   "cell_type": "code",
   "execution_count": 151,
   "id": "alleged-budapest",
   "metadata": {
    "scrolled": true
   },
   "outputs": [
    {
     "name": "stdout",
     "output_type": "stream",
     "text": [
      "Epoch 1/100\n",
      "9/9 [==============================] - 0s 17ms/step - loss: 103.4422 - PCC: 0.1412 - val_loss: 95.0938 - val_PCC: 0.1230\n",
      "Epoch 2/100\n",
      "9/9 [==============================] - 0s 5ms/step - loss: 101.6196 - PCC: -0.0793 - val_loss: 91.8304 - val_PCC: -0.2879\n",
      "Epoch 3/100\n",
      "9/9 [==============================] - 0s 5ms/step - loss: 102.7137 - PCC: 0.1281 - val_loss: 91.0466 - val_PCC: -0.3281\n",
      "Epoch 4/100\n",
      "9/9 [==============================] - 0s 5ms/step - loss: 98.0495 - PCC: 0.1021 - val_loss: 93.3543 - val_PCC: 0.3071\n",
      "Epoch 5/100\n",
      "9/9 [==============================] - 0s 5ms/step - loss: 102.0173 - PCC: 0.1297 - val_loss: 92.7261 - val_PCC: -0.1935\n",
      "Epoch 6/100\n",
      "9/9 [==============================] - 0s 5ms/step - loss: 97.0323 - PCC: 0.1063 - val_loss: 92.1995 - val_PCC: -0.2727\n",
      "Epoch 7/100\n",
      "9/9 [==============================] - 0s 6ms/step - loss: 94.3003 - PCC: 0.0768 - val_loss: 93.6264 - val_PCC: -0.2534\n",
      "Epoch 8/100\n",
      "9/9 [==============================] - 0s 5ms/step - loss: 94.4043 - PCC: 0.0253 - val_loss: 91.0407 - val_PCC: -0.1810\n",
      "Epoch 9/100\n",
      "9/9 [==============================] - 0s 6ms/step - loss: 94.5384 - PCC: 0.1192 - val_loss: 93.3808 - val_PCC: -0.1793\n",
      "Epoch 10/100\n",
      "9/9 [==============================] - 0s 5ms/step - loss: 91.5039 - PCC: 0.0398 - val_loss: 96.1164 - val_PCC: -0.1913\n",
      "Epoch 11/100\n",
      "9/9 [==============================] - 0s 5ms/step - loss: 101.9229 - PCC: 0.0787 - val_loss: 91.5356 - val_PCC: -0.1702\n",
      "Epoch 12/100\n",
      "9/9 [==============================] - 0s 5ms/step - loss: 92.8886 - PCC: -0.0195 - val_loss: 91.3757 - val_PCC: -0.1601\n",
      "Epoch 13/100\n",
      "9/9 [==============================] - 0s 6ms/step - loss: 90.9303 - PCC: 0.0505 - val_loss: 91.2713 - val_PCC: -0.1431\n",
      "Epoch 14/100\n",
      "9/9 [==============================] - 0s 6ms/step - loss: 93.6019 - PCC: 0.1655 - val_loss: 89.7607 - val_PCC: -0.1326\n",
      "Epoch 15/100\n",
      "9/9 [==============================] - 0s 6ms/step - loss: 90.2597 - PCC: 0.0037 - val_loss: 87.6804 - val_PCC: -0.1227\n",
      "Epoch 16/100\n",
      "9/9 [==============================] - 0s 6ms/step - loss: 90.2841 - PCC: 0.1100 - val_loss: 84.6930 - val_PCC: -0.1260\n",
      "Epoch 17/100\n",
      "9/9 [==============================] - 0s 6ms/step - loss: 91.1863 - PCC: 0.1293 - val_loss: 89.3899 - val_PCC: -0.1294\n",
      "Epoch 18/100\n",
      "9/9 [==============================] - 0s 5ms/step - loss: 89.1081 - PCC: 0.1489 - val_loss: 88.0938 - val_PCC: -0.1397\n",
      "Epoch 19/100\n",
      "9/9 [==============================] - 0s 5ms/step - loss: 94.3732 - PCC: 0.1297 - val_loss: 102.9297 - val_PCC: -0.1463\n",
      "Epoch 20/100\n",
      "9/9 [==============================] - 0s 4ms/step - loss: 89.4873 - PCC: 0.0861 - val_loss: 89.4161 - val_PCC: -0.1215\n",
      "Epoch 21/100\n",
      "9/9 [==============================] - 0s 5ms/step - loss: 88.9260 - PCC: 0.1088 - val_loss: 90.4015 - val_PCC: -0.1158\n",
      "Epoch 22/100\n",
      "9/9 [==============================] - 0s 5ms/step - loss: 87.2544 - PCC: 0.0445 - val_loss: 94.4544 - val_PCC: -0.1056\n",
      "Epoch 23/100\n",
      "9/9 [==============================] - 0s 5ms/step - loss: 85.6364 - PCC: 0.1187 - val_loss: 96.0802 - val_PCC: -0.0881\n",
      "Epoch 24/100\n",
      "9/9 [==============================] - 0s 5ms/step - loss: 97.2867 - PCC: 0.0572 - val_loss: 98.1024 - val_PCC: -0.0803\n",
      "Epoch 25/100\n",
      "9/9 [==============================] - 0s 5ms/step - loss: 84.7474 - PCC: 0.0986 - val_loss: 97.0855 - val_PCC: -0.0768\n",
      "Epoch 26/100\n",
      "9/9 [==============================] - 0s 5ms/step - loss: 84.9931 - PCC: 0.2016 - val_loss: 99.4861 - val_PCC: -0.0680\n",
      "Epoch 27/100\n",
      "9/9 [==============================] - 0s 5ms/step - loss: 84.4767 - PCC: 0.1131 - val_loss: 100.6753 - val_PCC: -0.0623\n",
      "Epoch 28/100\n",
      "9/9 [==============================] - 0s 5ms/step - loss: 85.0023 - PCC: 0.1458 - val_loss: 98.2391 - val_PCC: -0.0545\n",
      "Epoch 29/100\n",
      "9/9 [==============================] - 0s 5ms/step - loss: 85.1135 - PCC: 0.1929 - val_loss: 96.4781 - val_PCC: -0.0477\n",
      "Epoch 30/100\n",
      "9/9 [==============================] - 0s 5ms/step - loss: 82.1309 - PCC: 0.1591 - val_loss: 99.0971 - val_PCC: -0.0479\n",
      "Epoch 31/100\n",
      "9/9 [==============================] - 0s 5ms/step - loss: 82.8750 - PCC: 0.1055 - val_loss: 100.2488 - val_PCC: -0.0447\n",
      "Epoch 32/100\n",
      "9/9 [==============================] - 0s 5ms/step - loss: 80.0896 - PCC: 0.1135 - val_loss: 103.9473 - val_PCC: -0.0405\n",
      "Epoch 33/100\n",
      "9/9 [==============================] - 0s 5ms/step - loss: 84.4542 - PCC: 0.1754 - val_loss: 99.8510 - val_PCC: -0.0368\n",
      "Epoch 34/100\n",
      "9/9 [==============================] - 0s 5ms/step - loss: 80.7631 - PCC: 0.2348 - val_loss: 105.8105 - val_PCC: -0.0303\n",
      "Epoch 35/100\n",
      "9/9 [==============================] - 0s 4ms/step - loss: 82.7225 - PCC: 0.2214 - val_loss: 117.4399 - val_PCC: -0.0277\n",
      "Epoch 36/100\n",
      "9/9 [==============================] - 0s 6ms/step - loss: 80.9518 - PCC: 0.1746 - val_loss: 114.9339 - val_PCC: -0.0282\n",
      "Epoch 37/100\n",
      "9/9 [==============================] - 0s 5ms/step - loss: 80.8048 - PCC: 0.2233 - val_loss: 114.7630 - val_PCC: -0.0227\n",
      "Epoch 38/100\n",
      "9/9 [==============================] - 0s 5ms/step - loss: 79.7947 - PCC: 0.1311 - val_loss: 102.5989 - val_PCC: -0.0254\n",
      "Epoch 39/100\n",
      "9/9 [==============================] - 0s 5ms/step - loss: 81.4021 - PCC: 0.2646 - val_loss: 106.7272 - val_PCC: -0.0214\n",
      "Epoch 40/100\n",
      "9/9 [==============================] - 0s 5ms/step - loss: 77.2171 - PCC: 0.2156 - val_loss: 111.9772 - val_PCC: -0.0166\n",
      "Epoch 41/100\n",
      "9/9 [==============================] - 0s 5ms/step - loss: 81.0069 - PCC: 0.1665 - val_loss: 115.5834 - val_PCC: -0.0066\n",
      "Epoch 42/100\n",
      "9/9 [==============================] - 0s 5ms/step - loss: 77.9435 - PCC: 0.1875 - val_loss: 110.2964 - val_PCC: -0.0079\n",
      "Epoch 43/100\n",
      "9/9 [==============================] - 0s 5ms/step - loss: 77.6981 - PCC: 0.1911 - val_loss: 117.2678 - val_PCC: -0.0112\n",
      "Epoch 44/100\n",
      "9/9 [==============================] - 0s 5ms/step - loss: 80.8307 - PCC: 0.2334 - val_loss: 125.3731 - val_PCC: -0.0120\n",
      "Epoch 45/100\n",
      "9/9 [==============================] - 0s 5ms/step - loss: 78.2775 - PCC: 0.2439 - val_loss: 116.2215 - val_PCC: -0.0066\n",
      "Epoch 46/100\n",
      "9/9 [==============================] - 0s 4ms/step - loss: 79.2221 - PCC: 0.2316 - val_loss: 117.4110 - val_PCC: -0.0064\n",
      "Epoch 47/100\n",
      "9/9 [==============================] - 0s 4ms/step - loss: 76.9742 - PCC: 0.3144 - val_loss: 122.1803 - val_PCC: -0.0079\n",
      "Epoch 48/100\n",
      "9/9 [==============================] - 0s 5ms/step - loss: 78.9346 - PCC: 0.1755 - val_loss: 139.7873 - val_PCC: -0.0075\n",
      "Epoch 49/100\n",
      "9/9 [==============================] - 0s 5ms/step - loss: 75.2954 - PCC: 0.2492 - val_loss: 129.6728 - val_PCC: -0.0022\n",
      "Epoch 50/100\n",
      "9/9 [==============================] - 0s 5ms/step - loss: 75.1077 - PCC: 0.2995 - val_loss: 129.5980 - val_PCC: 6.2495e-05\n",
      "Epoch 51/100\n",
      "9/9 [==============================] - 0s 5ms/step - loss: 75.8993 - PCC: 0.2149 - val_loss: 149.4247 - val_PCC: 0.0031\n",
      "Epoch 52/100\n",
      "9/9 [==============================] - 0s 5ms/step - loss: 84.2449 - PCC: 0.2529 - val_loss: 133.8983 - val_PCC: 0.0028\n",
      "Epoch 53/100\n",
      "9/9 [==============================] - 0s 4ms/step - loss: 78.7375 - PCC: 0.2509 - val_loss: 132.8257 - val_PCC: 0.0011\n",
      "Epoch 54/100\n",
      "9/9 [==============================] - 0s 5ms/step - loss: 79.5776 - PCC: 0.2129 - val_loss: 140.9752 - val_PCC: 0.0019\n",
      "Epoch 55/100\n",
      "9/9 [==============================] - 0s 5ms/step - loss: 77.4510 - PCC: 0.2288 - val_loss: 159.9152 - val_PCC: 0.0051\n",
      "Epoch 56/100\n",
      "9/9 [==============================] - 0s 4ms/step - loss: 80.3128 - PCC: 0.3488 - val_loss: 154.6958 - val_PCC: 0.0059\n",
      "Epoch 57/100\n",
      "9/9 [==============================] - 0s 4ms/step - loss: 77.3970 - PCC: 0.2900 - val_loss: 152.3963 - val_PCC: 0.0068\n",
      "Epoch 58/100\n",
      "9/9 [==============================] - 0s 5ms/step - loss: 78.5496 - PCC: 0.2960 - val_loss: 155.4000 - val_PCC: 0.0100\n",
      "Epoch 59/100\n",
      "9/9 [==============================] - 0s 5ms/step - loss: 78.1591 - PCC: 0.3083 - val_loss: 168.2418 - val_PCC: 0.0137\n",
      "Epoch 60/100\n",
      "9/9 [==============================] - 0s 5ms/step - loss: 77.3386 - PCC: 0.2504 - val_loss: 174.5277 - val_PCC: 0.0156\n",
      "Epoch 61/100\n",
      "9/9 [==============================] - 0s 4ms/step - loss: 77.3388 - PCC: 0.2525 - val_loss: 171.2989 - val_PCC: 0.0168\n",
      "Epoch 62/100\n"
     ]
    },
    {
     "name": "stdout",
     "output_type": "stream",
     "text": [
      "9/9 [==============================] - 0s 4ms/step - loss: 77.1207 - PCC: 0.3101 - val_loss: 164.9491 - val_PCC: 0.0158\n",
      "Epoch 63/100\n",
      "9/9 [==============================] - 0s 5ms/step - loss: 77.2233 - PCC: 0.3340 - val_loss: 171.7705 - val_PCC: 0.0178\n",
      "Epoch 64/100\n",
      "9/9 [==============================] - 0s 5ms/step - loss: 75.7450 - PCC: 0.3100 - val_loss: 193.9626 - val_PCC: 0.0209\n",
      "Epoch 65/100\n",
      "9/9 [==============================] - 0s 4ms/step - loss: 78.5489 - PCC: 0.2341 - val_loss: 185.9783 - val_PCC: 0.0208\n",
      "Epoch 66/100\n",
      "9/9 [==============================] - 0s 4ms/step - loss: 75.2494 - PCC: 0.3473 - val_loss: 176.4053 - val_PCC: 0.0191\n",
      "Epoch 67/100\n",
      "9/9 [==============================] - 0s 4ms/step - loss: 76.4324 - PCC: 0.3841 - val_loss: 187.3381 - val_PCC: 0.0185\n",
      "Epoch 68/100\n",
      "9/9 [==============================] - 0s 4ms/step - loss: 74.4725 - PCC: 0.3193 - val_loss: 202.0187 - val_PCC: 0.0176\n",
      "Epoch 69/100\n",
      "9/9 [==============================] - 0s 4ms/step - loss: 73.7461 - PCC: 0.3486 - val_loss: 207.3210 - val_PCC: 0.0184\n",
      "Epoch 70/100\n",
      "9/9 [==============================] - 0s 5ms/step - loss: 76.5597 - PCC: 0.3231 - val_loss: 196.2467 - val_PCC: 0.0196\n",
      "Epoch 71/100\n",
      "9/9 [==============================] - 0s 4ms/step - loss: 73.0700 - PCC: 0.3010 - val_loss: 199.1898 - val_PCC: 0.0234\n",
      "Epoch 72/100\n",
      "9/9 [==============================] - 0s 4ms/step - loss: 72.2887 - PCC: 0.3038 - val_loss: 199.3412 - val_PCC: 0.0246\n",
      "Epoch 73/100\n",
      "9/9 [==============================] - 0s 4ms/step - loss: 72.7573 - PCC: 0.3031 - val_loss: 216.8507 - val_PCC: 0.0275\n",
      "Epoch 74/100\n",
      "9/9 [==============================] - 0s 5ms/step - loss: 73.8482 - PCC: 0.3445 - val_loss: 217.9848 - val_PCC: 0.0287\n",
      "Epoch 75/100\n",
      "9/9 [==============================] - 0s 4ms/step - loss: 73.0494 - PCC: 0.3157 - val_loss: 204.5641 - val_PCC: 0.0279\n",
      "Epoch 76/100\n",
      "9/9 [==============================] - 0s 4ms/step - loss: 71.9992 - PCC: 0.2670 - val_loss: 205.6567 - val_PCC: 0.0274\n",
      "Epoch 77/100\n",
      "9/9 [==============================] - 0s 4ms/step - loss: 71.0049 - PCC: 0.3259 - val_loss: 224.7550 - val_PCC: 0.0280\n",
      "Epoch 78/100\n",
      "9/9 [==============================] - 0s 4ms/step - loss: 72.2255 - PCC: 0.2716 - val_loss: 227.3854 - val_PCC: 0.0287\n",
      "Epoch 79/100\n",
      "9/9 [==============================] - 0s 4ms/step - loss: 71.9921 - PCC: 0.2451 - val_loss: 220.2164 - val_PCC: 0.0307\n",
      "Epoch 80/100\n",
      "9/9 [==============================] - 0s 4ms/step - loss: 74.1724 - PCC: 0.4065 - val_loss: 223.4814 - val_PCC: 0.0309\n",
      "Epoch 81/100\n",
      "9/9 [==============================] - 0s 4ms/step - loss: 73.7944 - PCC: 0.3448 - val_loss: 218.9934 - val_PCC: 0.0291\n",
      "Epoch 82/100\n",
      "9/9 [==============================] - 0s 4ms/step - loss: 69.8117 - PCC: 0.3073 - val_loss: 232.3367 - val_PCC: 0.0301\n",
      "Epoch 83/100\n",
      "9/9 [==============================] - 0s 5ms/step - loss: 68.4535 - PCC: 0.3425 - val_loss: 239.8586 - val_PCC: 0.0306\n",
      "Epoch 84/100\n",
      "9/9 [==============================] - 0s 4ms/step - loss: 66.8078 - PCC: 0.3359 - val_loss: 237.8165 - val_PCC: 0.0320\n",
      "Epoch 85/100\n",
      "9/9 [==============================] - 0s 4ms/step - loss: 66.9692 - PCC: 0.2894 - val_loss: 236.3362 - val_PCC: 0.0323\n",
      "Epoch 86/100\n",
      "9/9 [==============================] - 0s 4ms/step - loss: 71.4130 - PCC: 0.3174 - val_loss: 240.7518 - val_PCC: 0.0319\n",
      "Epoch 87/100\n",
      "9/9 [==============================] - 0s 4ms/step - loss: 71.7657 - PCC: 0.3518 - val_loss: 247.0118 - val_PCC: 0.0312\n",
      "Epoch 88/100\n",
      "9/9 [==============================] - 0s 4ms/step - loss: 67.5259 - PCC: 0.2292 - val_loss: 255.8354 - val_PCC: 0.0324\n",
      "Epoch 89/100\n",
      "9/9 [==============================] - 0s 5ms/step - loss: 68.1870 - PCC: 0.3535 - val_loss: 265.8397 - val_PCC: 0.0346\n",
      "Epoch 90/100\n",
      "9/9 [==============================] - 0s 5ms/step - loss: 69.9304 - PCC: 0.3318 - val_loss: 256.9484 - val_PCC: 0.0342\n",
      "Epoch 91/100\n",
      "9/9 [==============================] - 0s 4ms/step - loss: 66.9001 - PCC: 0.2695 - val_loss: 272.1581 - val_PCC: 0.0366\n",
      "Epoch 92/100\n",
      "9/9 [==============================] - 0s 5ms/step - loss: 68.6458 - PCC: 0.4090 - val_loss: 266.7603 - val_PCC: 0.0357\n",
      "Epoch 93/100\n",
      "9/9 [==============================] - 0s 6ms/step - loss: 66.9038 - PCC: 0.3694 - val_loss: 256.0799 - val_PCC: 0.0340\n",
      "Epoch 94/100\n",
      "9/9 [==============================] - 0s 5ms/step - loss: 67.2989 - PCC: 0.2820 - val_loss: 253.1708 - val_PCC: 0.0330\n",
      "Epoch 95/100\n",
      "9/9 [==============================] - 0s 5ms/step - loss: 66.6127 - PCC: 0.3341 - val_loss: 264.6610 - val_PCC: 0.0318\n",
      "Epoch 96/100\n",
      "9/9 [==============================] - 0s 5ms/step - loss: 71.9434 - PCC: 0.3210 - val_loss: 273.4931 - val_PCC: 0.0336\n",
      "Epoch 97/100\n",
      "9/9 [==============================] - 0s 5ms/step - loss: 68.3148 - PCC: 0.3664 - val_loss: 269.8110 - val_PCC: 0.0352\n",
      "Epoch 98/100\n",
      "9/9 [==============================] - 0s 5ms/step - loss: 67.6034 - PCC: 0.3572 - val_loss: 275.8400 - val_PCC: 0.0353\n",
      "Epoch 99/100\n",
      "9/9 [==============================] - 0s 4ms/step - loss: 66.2176 - PCC: 0.3161 - val_loss: 293.6353 - val_PCC: 0.0374\n",
      "Epoch 100/100\n",
      "9/9 [==============================] - 0s 5ms/step - loss: 64.4049 - PCC: 0.2630 - val_loss: 295.7838 - val_PCC: 0.0344\n"
     ]
    }
   ],
   "source": [
    "history = model.fit(X_train, y_train_mic, batch_size=32, epochs=100, validation_split=0.2)"
   ]
  },
  {
   "cell_type": "code",
   "execution_count": 152,
   "id": "sustainable-casino",
   "metadata": {},
   "outputs": [
    {
     "ename": "NameError",
     "evalue": "name 'plt' is not defined",
     "output_type": "error",
     "traceback": [
      "\u001b[0;31m---------------------------------------------------------------------------\u001b[0m",
      "\u001b[0;31mNameError\u001b[0m                                 Traceback (most recent call last)",
      "\u001b[0;32m<ipython-input-152-cd653b2c8062>\u001b[0m in \u001b[0;36m<module>\u001b[0;34m\u001b[0m\n\u001b[0;32m----> 1\u001b[0;31m \u001b[0mplt\u001b[0m\u001b[0;34m\u001b[0m\u001b[0;34m\u001b[0m\u001b[0m\n\u001b[0m",
      "\u001b[0;31mNameError\u001b[0m: name 'plt' is not defined"
     ]
    }
   ],
   "source": [
    "plt.plot(history.history[])"
   ]
  },
  {
   "cell_type": "code",
   "execution_count": 144,
   "id": "ranging-angola",
   "metadata": {},
   "outputs": [],
   "source": [
    "y_pred_mic = model.predict(X_test)\n",
    "y_pred_mic = y_pred_mic.squeeze()"
   ]
  },
  {
   "cell_type": "code",
   "execution_count": 145,
   "id": "intellectual-attitude",
   "metadata": {},
   "outputs": [],
   "source": [
    "ape = 100*np.abs(y_test_mic-y_pred_mic)/y_test_mic"
   ]
  },
  {
   "cell_type": "code",
   "execution_count": 146,
   "id": "second-ottawa",
   "metadata": {},
   "outputs": [],
   "source": [
    "gg = list(zip(y_test_mic.round(6), y_pred_mic.round(6), ape))"
   ]
  },
  {
   "cell_type": "code",
   "execution_count": 147,
   "id": "expensive-heater",
   "metadata": {},
   "outputs": [
    {
     "data": {
      "text/plain": [
       "[(21.5, 21.200806, 1.3916015625),\n",
       " (43.502, 41.47345, 4.663119610520771),\n",
       " (11.62, 12.444078, 7.091897120779443),\n",
       " (0.049, 0.053421, 9.021722966310925),\n",
       " (3.97, 4.42161, 11.375575702196398),\n",
       " (0.01, 0.008821, 11.786057054996492),\n",
       " (54.587, 48.143234, 11.80457938166653),\n",
       " (34.6, 29.812653, 13.836264196847907),\n",
       " (0.029, 0.033158, 14.337213594337998),\n",
       " (0.79, 0.922121, 16.724153108234642),\n",
       " (0.82, 0.658435, 19.703021282103002),\n",
       " (4.07, 3.113845, 23.492743283583437),\n",
       " (19.745, 14.785042, 25.12007187094439),\n",
       " (0.899, 0.610527, 32.088251241189624),\n",
       " (57.981, 38.979084, 32.772659983628124),\n",
       " (0.662, 0.415401, 37.25065198189542),\n",
       " (1.965, 1.200694, 38.8959935603251),\n",
       " (45.5, 26.447369, 41.873915116865554),\n",
       " (1.23, 1.779662, 44.68792977371836),\n",
       " (4.89, 2.635358, 46.10719641781048),\n",
       " (5.42, 7.93372, 46.37859984957424),\n",
       " (4.73, 1.960332, 58.55534303515961),\n",
       " (0.045, 0.018575, 58.722997042867874),\n",
       " (54.4, 16.087069, 70.42818279827343),\n",
       " (12.72, 3.544001, 72.13835986155385),\n",
       " (110.0, 29.902012, 72.81635284423828),\n",
       " (33.0, 8.455006, 74.37877077044863),\n",
       " (0.263, 0.06729, 74.41451642449817),\n",
       " (4.5, 1.12921, 74.90645249684651),\n",
       " (0.93, 0.203274, 78.14258740794274),\n",
       " (85.0, 18.544733, 78.18266700295841),\n",
       " (11.4, 2.459758, 78.4231792416489),\n",
       " (42.0, 9.033576, 78.49148568652924),\n",
       " (33.871, 6.941348, 79.5065156745691),\n",
       " (3.0, 0.608919, 79.7027051448822),\n",
       " (50.0, 9.82077, 80.35845947265625),\n",
       " (60.018, 11.123409, 81.46654458455758),\n",
       " (75.0, 11.578758, 84.56165568033855),\n",
       " (0.283, 0.040756, 85.59848711473782),\n",
       " (23.46, 3.147324, 86.58429529559174),\n",
       " (126.0, 16.807056, 86.66106632777623),\n",
       " (0.161, 0.020739, 87.1188508612769),\n",
       " (11.3, 1.21683, 89.23159595084402),\n",
       " (16.95, 1.794514, 89.41289921425789),\n",
       " (237.0, 20.729837, 91.25323315712973),\n",
       " (263.0, 17.159456, 93.47549191899172),\n",
       " (80.0, 5.091728, 93.63533973693848),\n",
       " (49.4, 2.940256, 94.0480640542652),\n",
       " (156.0, 8.302098, 94.67814274323293),\n",
       " (58.1, 2.96557, 94.89574834524866),\n",
       " (6.9, 0.330134, 95.2154423015705),\n",
       " (118.0, 5.625416, 95.23269806878041),\n",
       " (262.539, 8.171296, 96.88758770327838),\n",
       " (196.0, 5.933138, 96.9728885864725),\n",
       " (177.0, 5.297944, 97.00681152990309),\n",
       " (165.0, 4.135225, 97.49380313988888),\n",
       " (283.0, 6.120815, 97.8371679151016),\n",
       " (250.0, 4.329874, 98.26805019378662),\n",
       " (1.267, 0.019162, 98.48759770628591),\n",
       " (53.0, 0.726851, 98.6285832692992),\n",
       " (442.0, 5.486622, 98.75868283785306),\n",
       " (25.91, 0.26429, 98.97996864462395),\n",
       " (28.6, 0.217995, 99.23777955395357),\n",
       " (3.1, 0.022968, 99.25908590516737),\n",
       " (200.0, 1.198699, 99.40065044164658),\n",
       " (6.5, 0.02674, 99.58862008956763),\n",
       " (53.753, 0.17215, 99.67973822139375),\n",
       " (0.035, 0.078633, 124.66476474489484),\n",
       " (0.67, 1.953372, 191.5480599474551),\n",
       " (0.016, 0.070427, 340.1713144034147),\n",
       " (0.5, 2.216148, 343.22948455810547),\n",
       " (1.0, 4.805707, 380.5706977844238),\n",
       " (0.18, 0.97414, 441.1890149116516),\n",
       " (0.006, 0.048512, 708.5370063781738),\n",
       " (1.482, 22.625307, 1426.6740209499674),\n",
       " (0.3, 4.936402, 1545.4674402872722),\n",
       " (0.068, 2.281011, 3254.428445591646),\n",
       " (0.33, 25.773228, 7710.068997469815),\n",
       " (0.155, 20.68238, 13243.47140404486),\n",
       " (0.094, 14.779929, 15623.328894757211),\n",
       " (0.026, 6.860352, 26285.97121605506),\n",
       " (0.001, 0.501005, 50000.46362876892),\n",
       " (0.0013, 3.648443, 280549.4786189153)]"
      ]
     },
     "execution_count": 147,
     "metadata": {},
     "output_type": "execute_result"
    }
   ],
   "source": [
    "sorted(gg, key=lambda x:x[2])"
   ]
  },
  {
   "cell_type": "code",
   "execution_count": null,
   "id": "several-factory",
   "metadata": {},
   "outputs": [],
   "source": []
  }
 ],
 "metadata": {
  "kernelspec": {
   "display_name": "Python 3",
   "language": "python",
   "name": "python3"
  },
  "language_info": {
   "codemirror_mode": {
    "name": "ipython",
    "version": 3
   },
   "file_extension": ".py",
   "mimetype": "text/x-python",
   "name": "python",
   "nbconvert_exporter": "python",
   "pygments_lexer": "ipython3",
   "version": "3.6.10"
  },
  "varInspector": {
   "cols": {
    "lenName": 16,
    "lenType": 16,
    "lenVar": 40
   },
   "kernels_config": {
    "python": {
     "delete_cmd_postfix": "",
     "delete_cmd_prefix": "del ",
     "library": "var_list.py",
     "varRefreshCmd": "print(var_dic_list())"
    },
    "r": {
     "delete_cmd_postfix": ") ",
     "delete_cmd_prefix": "rm(",
     "library": "var_list.r",
     "varRefreshCmd": "cat(var_dic_list()) "
    }
   },
   "types_to_exclude": [
    "module",
    "function",
    "builtin_function_or_method",
    "instance",
    "_Feature"
   ],
   "window_display": false
  }
 },
 "nbformat": 4,
 "nbformat_minor": 5
}
