{
 "cells": [
  {
   "cell_type": "code",
   "execution_count": 1,
   "id": "suitable-scottish",
   "metadata": {},
   "outputs": [
    {
     "name": "stdout",
     "output_type": "stream",
     "text": [
      "/home/divye/Documents/Projects/mic_predictor\n"
     ]
    }
   ],
   "source": [
    "cd ../../"
   ]
  },
  {
   "cell_type": "code",
   "execution_count": 2,
   "id": "adverse-reward",
   "metadata": {},
   "outputs": [],
   "source": [
    "import json\n",
    "import numpy as np\n",
    "import pandas as pd\n",
    "import matplotlib.pyplot as plt"
   ]
  },
  {
   "cell_type": "code",
   "execution_count": null,
   "id": "outdoor-cookbook",
   "metadata": {},
   "outputs": [],
   "source": [
    "from notebooks.utils import *\n",
    "import importlib\n",
    "import sys\n",
    "importlib.reload(sys.modules['notebooks.utils'])\n",
    "from notebooks.utils import *"
   ]
  },
  {
   "cell_type": "code",
   "execution_count": 5,
   "id": "fourth-party",
   "metadata": {},
   "outputs": [],
   "source": [
    "results = pd.read_csv(\"results/knn_regressor_all_data_combination_separate_prop_pIC50.csv\", sep=';')"
   ]
  },
  {
   "cell_type": "code",
   "execution_count": 6,
   "id": "smoking-setting",
   "metadata": {},
   "outputs": [
    {
     "data": {
      "text/html": [
       "<div>\n",
       "<style scoped>\n",
       "    .dataframe tbody tr th:only-of-type {\n",
       "        vertical-align: middle;\n",
       "    }\n",
       "\n",
       "    .dataframe tbody tr th {\n",
       "        vertical-align: top;\n",
       "    }\n",
       "\n",
       "    .dataframe thead th {\n",
       "        text-align: right;\n",
       "    }\n",
       "</style>\n",
       "<table border=\"1\" class=\"dataframe\">\n",
       "  <thead>\n",
       "    <tr style=\"text-align: right;\">\n",
       "      <th></th>\n",
       "      <th>Data</th>\n",
       "      <th>Regressor</th>\n",
       "      <th>Best_parameters</th>\n",
       "      <th>MSE</th>\n",
       "      <th>MAE</th>\n",
       "      <th>MAPE</th>\n",
       "    </tr>\n",
       "  </thead>\n",
       "  <tbody>\n",
       "    <tr>\n",
       "      <th>0</th>\n",
       "      <td>aa_freq</td>\n",
       "      <td>KNN</td>\n",
       "      <td>{'metric': 'manhattan', 'n_neighbors': 10, 'we...</td>\n",
       "      <td>6.404887</td>\n",
       "      <td>1.783988</td>\n",
       "      <td>15.334217</td>\n",
       "    </tr>\n",
       "    <tr>\n",
       "      <th>1</th>\n",
       "      <td>dipep_freq</td>\n",
       "      <td>KNN</td>\n",
       "      <td>{'metric': 'manhattan', 'n_neighbors': 5, 'wei...</td>\n",
       "      <td>4.929638</td>\n",
       "      <td>1.471659</td>\n",
       "      <td>12.267070</td>\n",
       "    </tr>\n",
       "    <tr>\n",
       "      <th>2</th>\n",
       "      <td>avg_protvec</td>\n",
       "      <td>KNN</td>\n",
       "      <td>{'metric': 'euclidean', 'n_neighbors': 2, 'wei...</td>\n",
       "      <td>6.498897</td>\n",
       "      <td>1.783781</td>\n",
       "      <td>15.057070</td>\n",
       "    </tr>\n",
       "    <tr>\n",
       "      <th>3</th>\n",
       "      <td>shannon_entropy</td>\n",
       "      <td>KNN</td>\n",
       "      <td>{'metric': 'manhattan', 'n_neighbors': 11, 'we...</td>\n",
       "      <td>5.897072</td>\n",
       "      <td>1.730841</td>\n",
       "      <td>14.705748</td>\n",
       "    </tr>\n",
       "    <tr>\n",
       "      <th>4</th>\n",
       "      <td>residue_repeats</td>\n",
       "      <td>KNN</td>\n",
       "      <td>{'metric': 'manhattan', 'n_neighbors': 6, 'wei...</td>\n",
       "      <td>5.808975</td>\n",
       "      <td>1.667210</td>\n",
       "      <td>13.841934</td>\n",
       "    </tr>\n",
       "    <tr>\n",
       "      <th>...</th>\n",
       "      <td>...</td>\n",
       "      <td>...</td>\n",
       "      <td>...</td>\n",
       "      <td>...</td>\n",
       "      <td>...</td>\n",
       "      <td>...</td>\n",
       "    </tr>\n",
       "    <tr>\n",
       "      <th>2051</th>\n",
       "      <td>aa_freq+dipep_freq+avg_protvec+residue_repeats...</td>\n",
       "      <td>KNN</td>\n",
       "      <td>{'metric': 'manhattan', 'n_neighbors': 6, 'wei...</td>\n",
       "      <td>4.838845</td>\n",
       "      <td>1.542169</td>\n",
       "      <td>12.804184</td>\n",
       "    </tr>\n",
       "    <tr>\n",
       "      <th>2052</th>\n",
       "      <td>aa_freq+dipep_freq+shannon_entropy+residue_rep...</td>\n",
       "      <td>KNN</td>\n",
       "      <td>{'metric': 'manhattan', 'n_neighbors': 7, 'wei...</td>\n",
       "      <td>5.150265</td>\n",
       "      <td>1.595945</td>\n",
       "      <td>13.396485</td>\n",
       "    </tr>\n",
       "    <tr>\n",
       "      <th>2053</th>\n",
       "      <td>aa_freq+avg_protvec+shannon_entropy+residue_re...</td>\n",
       "      <td>KNN</td>\n",
       "      <td>{'metric': 'manhattan', 'n_neighbors': 7, 'wei...</td>\n",
       "      <td>5.001320</td>\n",
       "      <td>1.563774</td>\n",
       "      <td>13.091918</td>\n",
       "    </tr>\n",
       "    <tr>\n",
       "      <th>2054</th>\n",
       "      <td>dipep_freq+avg_protvec+shannon_entropy+residue...</td>\n",
       "      <td>KNN</td>\n",
       "      <td>{'metric': 'manhattan', 'n_neighbors': 5, 'wei...</td>\n",
       "      <td>5.286135</td>\n",
       "      <td>1.587492</td>\n",
       "      <td>13.081379</td>\n",
       "    </tr>\n",
       "    <tr>\n",
       "      <th>2055</th>\n",
       "      <td>aa_freq+dipep_freq+avg_protvec+shannon_entropy...</td>\n",
       "      <td>KNN</td>\n",
       "      <td>{'metric': 'manhattan', 'n_neighbors': 6, 'wei...</td>\n",
       "      <td>4.871628</td>\n",
       "      <td>1.545237</td>\n",
       "      <td>12.778120</td>\n",
       "    </tr>\n",
       "  </tbody>\n",
       "</table>\n",
       "<p>2056 rows × 6 columns</p>\n",
       "</div>"
      ],
      "text/plain": [
       "                                                   Data Regressor  \\\n",
       "0                                               aa_freq       KNN   \n",
       "1                                            dipep_freq       KNN   \n",
       "2                                           avg_protvec       KNN   \n",
       "3                                       shannon_entropy       KNN   \n",
       "4                                       residue_repeats       KNN   \n",
       "...                                                 ...       ...   \n",
       "2051  aa_freq+dipep_freq+avg_protvec+residue_repeats...       KNN   \n",
       "2052  aa_freq+dipep_freq+shannon_entropy+residue_rep...       KNN   \n",
       "2053  aa_freq+avg_protvec+shannon_entropy+residue_re...       KNN   \n",
       "2054  dipep_freq+avg_protvec+shannon_entropy+residue...       KNN   \n",
       "2055  aa_freq+dipep_freq+avg_protvec+shannon_entropy...       KNN   \n",
       "\n",
       "                                        Best_parameters       MSE       MAE  \\\n",
       "0     {'metric': 'manhattan', 'n_neighbors': 10, 'we...  6.404887  1.783988   \n",
       "1     {'metric': 'manhattan', 'n_neighbors': 5, 'wei...  4.929638  1.471659   \n",
       "2     {'metric': 'euclidean', 'n_neighbors': 2, 'wei...  6.498897  1.783781   \n",
       "3     {'metric': 'manhattan', 'n_neighbors': 11, 'we...  5.897072  1.730841   \n",
       "4     {'metric': 'manhattan', 'n_neighbors': 6, 'wei...  5.808975  1.667210   \n",
       "...                                                 ...       ...       ...   \n",
       "2051  {'metric': 'manhattan', 'n_neighbors': 6, 'wei...  4.838845  1.542169   \n",
       "2052  {'metric': 'manhattan', 'n_neighbors': 7, 'wei...  5.150265  1.595945   \n",
       "2053  {'metric': 'manhattan', 'n_neighbors': 7, 'wei...  5.001320  1.563774   \n",
       "2054  {'metric': 'manhattan', 'n_neighbors': 5, 'wei...  5.286135  1.587492   \n",
       "2055  {'metric': 'manhattan', 'n_neighbors': 6, 'wei...  4.871628  1.545237   \n",
       "\n",
       "           MAPE  \n",
       "0     15.334217  \n",
       "1     12.267070  \n",
       "2     15.057070  \n",
       "3     14.705748  \n",
       "4     13.841934  \n",
       "...         ...  \n",
       "2051  12.804184  \n",
       "2052  13.396485  \n",
       "2053  13.091918  \n",
       "2054  13.081379  \n",
       "2055  12.778120  \n",
       "\n",
       "[2056 rows x 6 columns]"
      ]
     },
     "execution_count": 6,
     "metadata": {},
     "output_type": "execute_result"
    }
   ],
   "source": [
    "results"
   ]
  },
  {
   "cell_type": "code",
   "execution_count": 8,
   "id": "fabulous-spider",
   "metadata": {},
   "outputs": [
    {
     "name": "stdout",
     "output_type": "stream",
     "text": [
      "Best MAPE: 11.93221791296319\n",
      "Best performing data: dipep_freq+turn\n",
      "Best parameters: {'metric': 'manhattan', 'n_neighbors': 5, 'weights': 'distance'}\n"
     ]
    }
   ],
   "source": [
    "print(f\"Best MAPE: {results['MAPE'].min()}\")\n",
    "print(f\"Best performing data: {results.loc[results['MAPE'].argmin()]['Data']}\")\n",
    "print(f\"Best parameters: {results.loc[results['MAPE'].argmin()]['Best_parameters']}\")"
   ]
  },
  {
   "cell_type": "markdown",
   "id": "minus-lover",
   "metadata": {},
   "source": [
    "### Analysis"
   ]
  },
  {
   "cell_type": "code",
   "execution_count": null,
   "id": "inside-conjunction",
   "metadata": {},
   "outputs": [],
   "source": [
    "dipep_freq = reduce_by_kmer_frequency(df, kmer=2)"
   ]
  },
  {
   "cell_type": "code",
   "execution_count": null,
   "id": "based-measure",
   "metadata": {},
   "outputs": [],
   "source": [
    "uniprot_embedding = biovec.models.load_protvec(\"data/embeddings/uniprot__kmer_3_contextWindow_10_vector_100_reduction_None\")\n",
    "\n",
    "avg_protvec = convert_sequences_to_avg_vectors(df['Sequence'], uniprot_embedding)\n",
    "avg_protvec = avg_protvec.reset_index(drop=True)"
   ]
  },
  {
   "cell_type": "code",
   "execution_count": null,
   "id": "gentle-refrigerator",
   "metadata": {},
   "outputs": [],
   "source": [
    "dipep_protvec = pd.concat([avg_protvec, dipep_freq], axis=1)"
   ]
  },
  {
   "cell_type": "code",
   "execution_count": null,
   "id": "opened-rwanda",
   "metadata": {},
   "outputs": [],
   "source": [
    "from sklearn.neighbors import NearestNeighbors"
   ]
  },
  {
   "cell_type": "code",
   "execution_count": null,
   "id": "quiet-devil",
   "metadata": {},
   "outputs": [],
   "source": [
    "def plot_nbr_mic(data, target, n_neighbors=1, metric='euclidean', n_jobs=10):\n",
    "    data = data.reset_index(drop=True)\n",
    "    target = target.reset_index(drop=True)\n",
    "    nearesr_neighbors = NearestNeighbors(n_neighbors=n_neighbors, metric=metric, n_jobs=n_jobs)\n",
    "    nearesr_neighbors.fit(data)\n",
    "    grph = nearesr_neighbors.kneighbors_graph(n_neighbors=n_neighbors).todense()\n",
    "    neighbors = np.where(grph == 1)\n",
    "    neighbors = np.array([[i]+neighbors[1][np.where(neighbors[0]==i)[0]].tolist() for i in range(data.shape[0])])\n",
    "    mic_nbrs = np.full(neighbors.shape, np.nan)\n",
    "    for i in range(mic_nbrs.shape[1]):\n",
    "        mic_nbrs[:,i] = target[neighbors[:,i]]\n",
    "\n",
    "    plt.figure(figsize=(5*mic_nbrs.shape[1],50))\n",
    "    im = plt.imshow(mic_nbrs, cmap='gist_ncar', interpolation='none') #plt.cm.get_cmap('gist_rainbow', 75)\n",
    "    cbar = plt.colorbar(im)\n",
    "    cbar.ax.tick_params(labelsize=20)\n",
    "    cbar.set_label('MIC', fontsize=25)\n",
    "    plt.axis('auto')\n",
    "    plt.xlabel('neighbors', fontdict={'size':5*mic_nbrs.shape[1]})\n",
    "    plt.ylabel('#row', fontdict={'size':5*mic_nbrs.shape[1]})\n",
    "    plt.xticks(fontsize=5*mic_nbrs.shape[1])\n",
    "    plt.yticks(fontsize=5*mic_nbrs.shape[1])\n",
    "    plt.show()"
   ]
  },
  {
   "cell_type": "markdown",
   "id": "functional-albania",
   "metadata": {},
   "source": [
    "### Observation"
   ]
  },
  {
   "cell_type": "markdown",
   "id": "later-johnson",
   "metadata": {},
   "source": [
    "For kNN to give good results, sequences which are closer together should have MIC values closer together. But it is seen from below plot that many of the sequences with higher MIC values have low MIC value sequeces as their neighbors. However, as we look at lower MIC value sequences, they start to have low MIC value sequeces as their neighbors."
   ]
  },
  {
   "cell_type": "code",
   "execution_count": null,
   "id": "humanitarian-intervention",
   "metadata": {
    "scrolled": false
   },
   "outputs": [],
   "source": [
    "plot_nbr_mic(dipep_protvec, df['MIC'], n_neighbors=5)"
   ]
  },
  {
   "cell_type": "code",
   "execution_count": null,
   "id": "productive-parliament",
   "metadata": {},
   "outputs": [],
   "source": [
    "mask = df['MIC'] < 5"
   ]
  },
  {
   "cell_type": "code",
   "execution_count": null,
   "id": "foreign-supervision",
   "metadata": {
    "scrolled": false
   },
   "outputs": [],
   "source": [
    "plot_nbr_mic(dipep_protvec[mask], df['MIC'][mask], n_neighbors=1)"
   ]
  },
  {
   "cell_type": "code",
   "execution_count": null,
   "id": "rocky-ancient",
   "metadata": {},
   "outputs": [],
   "source": []
  }
 ],
 "metadata": {
  "kernelspec": {
   "display_name": "Python 3",
   "language": "python",
   "name": "python3"
  },
  "language_info": {
   "codemirror_mode": {
    "name": "ipython",
    "version": 3
   },
   "file_extension": ".py",
   "mimetype": "text/x-python",
   "name": "python",
   "nbconvert_exporter": "python",
   "pygments_lexer": "ipython3",
   "version": "3.7.9"
  }
 },
 "nbformat": 4,
 "nbformat_minor": 5
}
