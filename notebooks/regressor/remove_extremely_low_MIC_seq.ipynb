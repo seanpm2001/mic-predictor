{
 "cells": [
  {
   "cell_type": "markdown",
   "id": "fifty-documentation",
   "metadata": {},
   "source": [
    "### remove very low MIC value"
   ]
  },
  {
   "cell_type": "code",
   "execution_count": 1,
   "id": "naughty-nomination",
   "metadata": {
    "scrolled": false
   },
   "outputs": [
    {
     "name": "stdout",
     "output_type": "stream",
     "text": [
      "/Users/in-divye.singh/Documents/Projects/MIC_predictor/src\n"
     ]
    }
   ],
   "source": [
    "cd ../../src"
   ]
  },
  {
   "cell_type": "code",
   "execution_count": 2,
   "id": "young-blair",
   "metadata": {},
   "outputs": [],
   "source": [
    "import biovec\n",
    "import numpy as np\n",
    "import pandas as pd\n",
    "from itertools import chain, combinations\n",
    "from collections import Counter\n",
    "\n",
    "from utils import *\n",
    "\n",
    "from sklearn.svm import SVR\n",
    "from sklearn.neighbors import KNeighborsRegressor\n",
    "from sklearn.metrics import make_scorer\n",
    "from sklearn.model_selection import GridSearchCV\n",
    "from sklearn.metrics import mean_squared_error, mean_absolute_error\n",
    "from sklearn.model_selection import train_test_split\n",
    "\n",
    "from Bio.SeqUtils.ProtParam import ProteinAnalysis"
   ]
  },
  {
   "cell_type": "code",
   "execution_count": 3,
   "id": "considered-asbestos",
   "metadata": {},
   "outputs": [],
   "source": [
    "import seaborn as sns"
   ]
  },
  {
   "cell_type": "code",
   "execution_count": 4,
   "id": "biological-workstation",
   "metadata": {},
   "outputs": [],
   "source": [
    "def mean_absolute_percentage_error(y_true, y_pred): \n",
    "    y_true, y_pred = np.array(y_true), np.array(y_pred)\n",
    "    return np.mean(np.abs((y_true - y_pred) / y_true)) * 100\n",
    "\n",
    "mape_scorer = make_scorer(mean_absolute_percentage_error, greater_is_better=False)"
   ]
  },
  {
   "cell_type": "code",
   "execution_count": 5,
   "id": "transparent-bubble",
   "metadata": {},
   "outputs": [],
   "source": [
    "avp_ic50 = pd.read_csv(\"../data/raw/AVP-IC50Pred_train.csv\")\n",
    "ha_avp = pd.read_csv(\"../data/raw/HA_AVP.csv\")"
   ]
  },
  {
   "cell_type": "code",
   "execution_count": 6,
   "id": "solid-challenge",
   "metadata": {},
   "outputs": [],
   "source": [
    "df = pd.concat([avp_ic50[['Sequence','MIC']], ha_avp], axis=0).drop_duplicates(['Sequence']).reset_index(drop=True)\n",
    "df = sequence_filtering(df)"
   ]
  },
  {
   "cell_type": "code",
   "execution_count": 9,
   "id": "adaptive-strip",
   "metadata": {},
   "outputs": [],
   "source": [
    "df2 = df[df['MIC'] >= 1e-3]"
   ]
  },
  {
   "cell_type": "code",
   "execution_count": 10,
   "id": "romance-breathing",
   "metadata": {},
   "outputs": [
    {
     "data": {
      "text/html": [
       "<div>\n",
       "<style scoped>\n",
       "    .dataframe tbody tr th:only-of-type {\n",
       "        vertical-align: middle;\n",
       "    }\n",
       "\n",
       "    .dataframe tbody tr th {\n",
       "        vertical-align: top;\n",
       "    }\n",
       "\n",
       "    .dataframe thead th {\n",
       "        text-align: right;\n",
       "    }\n",
       "</style>\n",
       "<table border=\"1\" class=\"dataframe\">\n",
       "  <thead>\n",
       "    <tr style=\"text-align: right;\">\n",
       "      <th></th>\n",
       "      <th>Sequence</th>\n",
       "      <th>MIC</th>\n",
       "    </tr>\n",
       "  </thead>\n",
       "  <tbody>\n",
       "    <tr>\n",
       "      <th>0</th>\n",
       "      <td>AAQRRGRVGRNPNQVGD</td>\n",
       "      <td>442.00000</td>\n",
       "    </tr>\n",
       "    <tr>\n",
       "      <th>1</th>\n",
       "      <td>HRILARIRQMMT</td>\n",
       "      <td>435.50000</td>\n",
       "    </tr>\n",
       "    <tr>\n",
       "      <th>2</th>\n",
       "      <td>RNPSQVGD</td>\n",
       "      <td>383.00000</td>\n",
       "    </tr>\n",
       "    <tr>\n",
       "      <th>3</th>\n",
       "      <td>RVGRNPNQVGD</td>\n",
       "      <td>374.00000</td>\n",
       "    </tr>\n",
       "    <tr>\n",
       "      <th>4</th>\n",
       "      <td>AAQRRGRIGRNPSQVGD</td>\n",
       "      <td>358.00000</td>\n",
       "    </tr>\n",
       "    <tr>\n",
       "      <th>...</th>\n",
       "      <td>...</td>\n",
       "      <td>...</td>\n",
       "    </tr>\n",
       "    <tr>\n",
       "      <th>706</th>\n",
       "      <td>SLDQINVTFLDLEYEMKKLEEAIKKLEESYIDLKEL</td>\n",
       "      <td>0.00130</td>\n",
       "    </tr>\n",
       "    <tr>\n",
       "      <th>707</th>\n",
       "      <td>NGAICWGPCPTAFRQIGNCGHFKVRCCKIR</td>\n",
       "      <td>0.11515</td>\n",
       "    </tr>\n",
       "    <tr>\n",
       "      <th>708</th>\n",
       "      <td>CFPYITRPGTYHDWWYTRKNRQ</td>\n",
       "      <td>0.30000</td>\n",
       "    </tr>\n",
       "    <tr>\n",
       "      <th>709</th>\n",
       "      <td>YTSLIHSLIEESQNQQEKNEQELLELDKWASLWNWF</td>\n",
       "      <td>0.01131</td>\n",
       "    </tr>\n",
       "    <tr>\n",
       "      <th>711</th>\n",
       "      <td>SWETWEREIENYTRQIYRILEESQEQQDRNERDLLE</td>\n",
       "      <td>0.00200</td>\n",
       "    </tr>\n",
       "  </tbody>\n",
       "</table>\n",
       "<p>707 rows × 2 columns</p>\n",
       "</div>"
      ],
      "text/plain": [
       "                                 Sequence        MIC\n",
       "0                       AAQRRGRVGRNPNQVGD  442.00000\n",
       "1                            HRILARIRQMMT  435.50000\n",
       "2                                RNPSQVGD  383.00000\n",
       "3                             RVGRNPNQVGD  374.00000\n",
       "4                       AAQRRGRIGRNPSQVGD  358.00000\n",
       "..                                    ...        ...\n",
       "706  SLDQINVTFLDLEYEMKKLEEAIKKLEESYIDLKEL    0.00130\n",
       "707        NGAICWGPCPTAFRQIGNCGHFKVRCCKIR    0.11515\n",
       "708                CFPYITRPGTYHDWWYTRKNRQ    0.30000\n",
       "709  YTSLIHSLIEESQNQQEKNEQELLELDKWASLWNWF    0.01131\n",
       "711  SWETWEREIENYTRQIYRILEESQEQQDRNERDLLE    0.00200\n",
       "\n",
       "[707 rows x 2 columns]"
      ]
     },
     "execution_count": 10,
     "metadata": {},
     "output_type": "execute_result"
    }
   ],
   "source": [
    "df2"
   ]
  },
  {
   "cell_type": "code",
   "execution_count": 11,
   "id": "continental-offset",
   "metadata": {},
   "outputs": [
    {
     "data": {
      "text/plain": [
       "<matplotlib.axes._subplots.AxesSubplot at 0x1a19d91978>"
      ]
     },
     "execution_count": 11,
     "metadata": {},
     "output_type": "execute_result"
    },
    {
     "data": {
      "image/png": "[encoded data removed]",
      "text/plain": [
       "<Figure size 432x288 with 1 Axes>"
      ]
     },
     "metadata": {
      "needs_background": "light"
     },
     "output_type": "display_data"
    }
   ],
   "source": [
    "df2['MIC'].hist()"
   ]
  },
  {
   "cell_type": "code",
   "execution_count": 14,
   "id": "union-emission",
   "metadata": {},
   "outputs": [
    {
     "name": "stderr",
     "output_type": "stream",
     "text": [
      "/Users/in-divye.singh/anaconda3/envs/life-science/lib/python3.6/site-packages/ipykernel_launcher.py:1: SettingWithCopyWarning: \n",
      "A value is trying to be set on a copy of a slice from a DataFrame.\n",
      "Try using .loc[row_indexer,col_indexer] = value instead\n",
      "\n",
      "See the caveats in the documentation: https://pandas.pydata.org/pandas-docs/stable/user_guide/indexing.html#returning-a-view-versus-a-copy\n",
      "  \"\"\"Entry point for launching an IPython kernel.\n"
     ]
    }
   ],
   "source": [
    "df2['pIC50'] = df2['MIC'].apply(lambda x: -np.log(x*1e-6))"
   ]
  },
  {
   "cell_type": "code",
   "execution_count": 15,
   "id": "extraordinary-salem",
   "metadata": {},
   "outputs": [
    {
     "data": {
      "text/html": [
       "<div>\n",
       "<style scoped>\n",
       "    .dataframe tbody tr th:only-of-type {\n",
       "        vertical-align: middle;\n",
       "    }\n",
       "\n",
       "    .dataframe tbody tr th {\n",
       "        vertical-align: top;\n",
       "    }\n",
       "\n",
       "    .dataframe thead th {\n",
       "        text-align: right;\n",
       "    }\n",
       "</style>\n",
       "<table border=\"1\" class=\"dataframe\">\n",
       "  <thead>\n",
       "    <tr style=\"text-align: right;\">\n",
       "      <th></th>\n",
       "      <th>Sequence</th>\n",
       "      <th>MIC</th>\n",
       "      <th>pIC50</th>\n",
       "    </tr>\n",
       "  </thead>\n",
       "  <tbody>\n",
       "    <tr>\n",
       "      <th>0</th>\n",
       "      <td>AAQRRGRVGRNPNQVGD</td>\n",
       "      <td>442.00000</td>\n",
       "      <td>7.724201</td>\n",
       "    </tr>\n",
       "    <tr>\n",
       "      <th>1</th>\n",
       "      <td>HRILARIRQMMT</td>\n",
       "      <td>435.50000</td>\n",
       "      <td>7.739016</td>\n",
       "    </tr>\n",
       "    <tr>\n",
       "      <th>2</th>\n",
       "      <td>RNPSQVGD</td>\n",
       "      <td>383.00000</td>\n",
       "      <td>7.867476</td>\n",
       "    </tr>\n",
       "    <tr>\n",
       "      <th>3</th>\n",
       "      <td>RVGRNPNQVGD</td>\n",
       "      <td>374.00000</td>\n",
       "      <td>7.891255</td>\n",
       "    </tr>\n",
       "    <tr>\n",
       "      <th>4</th>\n",
       "      <td>AAQRRGRIGRNPSQVGD</td>\n",
       "      <td>358.00000</td>\n",
       "      <td>7.934978</td>\n",
       "    </tr>\n",
       "    <tr>\n",
       "      <th>...</th>\n",
       "      <td>...</td>\n",
       "      <td>...</td>\n",
       "      <td>...</td>\n",
       "    </tr>\n",
       "    <tr>\n",
       "      <th>706</th>\n",
       "      <td>SLDQINVTFLDLEYEMKKLEEAIKKLEESYIDLKEL</td>\n",
       "      <td>0.00130</td>\n",
       "      <td>20.460902</td>\n",
       "    </tr>\n",
       "    <tr>\n",
       "      <th>707</th>\n",
       "      <td>NGAICWGPCPTAFRQIGNCGHFKVRCCKIR</td>\n",
       "      <td>0.11515</td>\n",
       "      <td>15.977030</td>\n",
       "    </tr>\n",
       "    <tr>\n",
       "      <th>708</th>\n",
       "      <td>CFPYITRPGTYHDWWYTRKNRQ</td>\n",
       "      <td>0.30000</td>\n",
       "      <td>15.019483</td>\n",
       "    </tr>\n",
       "    <tr>\n",
       "      <th>709</th>\n",
       "      <td>YTSLIHSLIEESQNQQEKNEQELLELDKWASLWNWF</td>\n",
       "      <td>0.01131</td>\n",
       "      <td>18.297579</td>\n",
       "    </tr>\n",
       "    <tr>\n",
       "      <th>711</th>\n",
       "      <td>SWETWEREIENYTRQIYRILEESQEQQDRNERDLLE</td>\n",
       "      <td>0.00200</td>\n",
       "      <td>20.030119</td>\n",
       "    </tr>\n",
       "  </tbody>\n",
       "</table>\n",
       "<p>707 rows × 3 columns</p>\n",
       "</div>"
      ],
      "text/plain": [
       "                                 Sequence        MIC      pIC50\n",
       "0                       AAQRRGRVGRNPNQVGD  442.00000   7.724201\n",
       "1                            HRILARIRQMMT  435.50000   7.739016\n",
       "2                                RNPSQVGD  383.00000   7.867476\n",
       "3                             RVGRNPNQVGD  374.00000   7.891255\n",
       "4                       AAQRRGRIGRNPSQVGD  358.00000   7.934978\n",
       "..                                    ...        ...        ...\n",
       "706  SLDQINVTFLDLEYEMKKLEEAIKKLEESYIDLKEL    0.00130  20.460902\n",
       "707        NGAICWGPCPTAFRQIGNCGHFKVRCCKIR    0.11515  15.977030\n",
       "708                CFPYITRPGTYHDWWYTRKNRQ    0.30000  15.019483\n",
       "709  YTSLIHSLIEESQNQQEKNEQELLELDKWASLWNWF    0.01131  18.297579\n",
       "711  SWETWEREIENYTRQIYRILEESQEQQDRNERDLLE    0.00200  20.030119\n",
       "\n",
       "[707 rows x 3 columns]"
      ]
     },
     "execution_count": 15,
     "metadata": {},
     "output_type": "execute_result"
    }
   ],
   "source": [
    "df2"
   ]
  },
  {
   "cell_type": "code",
   "execution_count": 16,
   "id": "coral-receptor",
   "metadata": {
    "scrolled": true
   },
   "outputs": [
    {
     "data": {
      "text/plain": [
       "<matplotlib.axes._subplots.AxesSubplot at 0x1a1ad71f98>"
      ]
     },
     "execution_count": 16,
     "metadata": {},
     "output_type": "execute_result"
    },
    {
     "data": {
      "image/png": "[encoded data removed]",
      "text/plain": [
       "<Figure size 432x288 with 1 Axes>"
      ]
     },
     "metadata": {
      "needs_background": "light"
     },
     "output_type": "display_data"
    }
   ],
   "source": [
    "df2['pIC50'].hist()"
   ]
  },
  {
   "cell_type": "code",
   "execution_count": 17,
   "id": "incredible-volume",
   "metadata": {},
   "outputs": [],
   "source": [
    "def get_physicochemical_properties(df):\n",
    "    params = ['aromaticity', 'helix', 'turn', 'sheet', 'gravy', 'net_charge_at_pH7point4']\n",
    "\n",
    "    prop = []\n",
    "    for seq in df.Sequence:\n",
    "        X = ProteinAnalysis(seq)\n",
    "        aromaticity = X.aromaticity()\n",
    "        sec_struc = X.secondary_structure_fraction()\n",
    "        helix = sec_struc[0]\n",
    "        turn = sec_struc[1]\n",
    "        sheet = sec_struc[2]\n",
    "        gravy = X.gravy() # hydrophobicity related\n",
    "        net_charge_at_pH7point4 = X.charge_at_pH(7.4)\n",
    "\n",
    "        prop.append([aromaticity, helix, turn, sheet, gravy, net_charge_at_pH7point4])\n",
    "    return pd.DataFrame(prop, columns=params)"
   ]
  },
  {
   "cell_type": "code",
   "execution_count": 19,
   "id": "caroline-catering",
   "metadata": {},
   "outputs": [],
   "source": [
    "aa_freq = reduce_by_kmer_frequency(df2, kmer=1)"
   ]
  },
  {
   "cell_type": "code",
   "execution_count": 20,
   "id": "enormous-healthcare",
   "metadata": {},
   "outputs": [
    {
     "name": "stderr",
     "output_type": "stream",
     "text": [
      "/Users/in-divye.singh/anaconda3/envs/life-science/lib/python3.6/site-packages/smart_open/smart_open_lib.py:254: UserWarning: This function is deprecated, use smart_open.open instead. See the migration notes for details: https://github.com/RaRe-Technologies/smart_open/blob/master/README.rst#migrating-to-the-new-open-function\n",
      "  'See the migration notes for details: %s' % _MIGRATION_NOTES_URL\n",
      "Creating vectors: 100%|██████████| 707/707 [00:00<00:00, 1160.22sequence/s]\n"
     ]
    }
   ],
   "source": [
    "uniprot_embedding = biovec.models.load_protvec(\"../data/embeddings/uniprot__kmer_3_contextWindow_10_vector_100_reduction_None\")\n",
    "\n",
    "avg_protvec = convert_sequences_to_avg_vectors(df2['Sequence'], uniprot_embedding, kmer=3)\n",
    "avg_protvec = avg_protvec.reset_index(drop=True)"
   ]
  },
  {
   "cell_type": "code",
   "execution_count": 21,
   "id": "indonesian-sunset",
   "metadata": {},
   "outputs": [],
   "source": [
    "physicochemical_prop = get_physicochemical_properties(df2)"
   ]
  },
  {
   "cell_type": "code",
   "execution_count": 22,
   "id": "located-yacht",
   "metadata": {},
   "outputs": [],
   "source": [
    "X = pd.concat([aa_freq, avg_protvec, physicochemical_prop[['helix','turn','sheet']]], axis=1)"
   ]
  },
  {
   "cell_type": "code",
   "execution_count": 23,
   "id": "decimal-visiting",
   "metadata": {},
   "outputs": [],
   "source": [
    "y = df2[['pIC50', 'MIC']]"
   ]
  },
  {
   "cell_type": "code",
   "execution_count": 24,
   "id": "retained-machinery",
   "metadata": {},
   "outputs": [],
   "source": [
    "X_train, X_test, y_train, y_test = train_test_split(X, y, test_size=0.2, random_state=42)"
   ]
  },
  {
   "cell_type": "code",
   "execution_count": 25,
   "id": "female-davis",
   "metadata": {},
   "outputs": [],
   "source": [
    "y_train_pmic, y_train_mic = y_train['pIC50'], y_train['MIC']\n",
    "y_test_pmic, y_test_mic = y_test['pIC50'], y_test['MIC']"
   ]
  },
  {
   "cell_type": "code",
   "execution_count": 26,
   "id": "distributed-episode",
   "metadata": {},
   "outputs": [],
   "source": [
    "from sklearn.model_selection import cross_val_score, GridSearchCV, LeaveOneOut"
   ]
  },
  {
   "cell_type": "code",
   "execution_count": 27,
   "id": "hollywood-longitude",
   "metadata": {},
   "outputs": [],
   "source": [
    "def multi_objective_score(y_true, y_pred):\n",
    "    mape = mean_absolute_percentage_error(y_true, y_pred)\n",
    "    std_diff = abs(np.std(y_pred) - np.std(y_true))\n",
    "    return mape + 10*std_diff\n",
    "multi_objective_scorer = make_scorer(multi_objective_score, greater_is_better=False)"
   ]
  },
  {
   "cell_type": "code",
   "execution_count": 101,
   "id": "turkish-noise",
   "metadata": {},
   "outputs": [
    {
     "name": "stdout",
     "output_type": "stream",
     "text": [
      "[-12.53085857 -11.39680224 -13.98758472 -12.7481263  -14.18575407] -12.969825178188424\n",
      "2.7423101563508783 2.1660810278910962\n"
     ]
    },
    {
     "data": {
      "text/plain": [
       "1633.8872648764122"
      ]
     },
     "execution_count": 101,
     "metadata": {},
     "output_type": "execute_result"
    }
   ],
   "source": [
    "svr = SVR(C=10, gamma=6)\n",
    "cv_score = cross_val_score(svr, X_train, y_train_pmic, cv=5, scoring=mape_scorer)\n",
    "cv_mean = cv_score.mean()\n",
    "print(cv_score, cv_mean)\n",
    "\n",
    "_ = svr.fit(X_train, y_train_pmic)\n",
    "y_pred = svr.predict(X_test)\n",
    "\n",
    "print(np.std(y_test_pmic), np.std(y_pred))\n",
    "\n",
    "y_pred_mic = np.exp(-y_pred)/1e-6\n",
    "ape_mic = 100*np.abs(y_test_mic-y_pred_mic)/y_test_mic\n",
    "ape_mic.mean()"
   ]
  },
  {
   "cell_type": "code",
   "execution_count": 84,
   "id": "stainless-quarterly",
   "metadata": {},
   "outputs": [],
   "source": [
    "ape = 100*np.abs(y_test_pmic-y_pred)/y_test_pmic"
   ]
  },
  {
   "cell_type": "code",
   "execution_count": 66,
   "id": "christian-dakota",
   "metadata": {},
   "outputs": [],
   "source": [
    "y_pred_mic = np.exp(-y_pred)/1e-6"
   ]
  },
  {
   "cell_type": "code",
   "execution_count": 67,
   "id": "aware-meaning",
   "metadata": {},
   "outputs": [],
   "source": [
    "ape_mic = 100*np.abs(y_test_mic-y_pred_mic)/y_test_mic"
   ]
  },
  {
   "cell_type": "code",
   "execution_count": 68,
   "id": "exotic-router",
   "metadata": {
    "scrolled": true
   },
   "outputs": [],
   "source": [
    "gg = list(zip(y_test_pmic.round(4), y_pred.round(4), ape, y_test_mic.round(4), y_pred_mic.round(4), ape_mic))"
   ]
  },
  {
   "cell_type": "code",
   "execution_count": 69,
   "id": "signal-geology",
   "metadata": {
    "scrolled": true
   },
   "outputs": [
    {
     "data": {
      "text/plain": [
       "[(18.9315, 18.9283, 0.01678271003957756, 0.006, 0.006, 0.31822725324860285),\n",
       " (12.0238, 12.008, 0.1313888752178657, 6.0, 6.0955, 1.5923317406682032),\n",
       " (10.7245, 10.706, 0.17228079138929855, 22.0, 22.4103, 1.8647939555438178),\n",
       " (16.5489, 16.5046, 0.2674869979014718, 0.065, 0.0679, 4.526046008945431),\n",
       " (12.1162, 12.0116, 0.863838967909559, 5.47, 6.0736, 11.033828810674814),\n",
       " (9.8191, 9.9462, 1.29346035784968, 54.4, 47.9116, 11.927228661720285),\n",
       " (12.7004, 12.8532, 1.2032762922874154, 3.05, 2.6178, 14.17162548113767),\n",
       " (7.8675, 8.0337, 2.112996915825934, 383.0, 324.341, 15.31566227448391),\n",
       " (13.7763, 13.9511, 1.268745032314012, 1.04, 0.8732, 16.036331036392166),\n",
       " (12.8992, 12.7497, 1.1588972061889768, 2.5, 2.9031, 16.12403466139556),\n",
       " (8.8597, 9.0787, 2.47178762325799, 142.0, 114.0725, 19.667230528873784),\n",
       " (10.6602, 10.8868, 2.125322284217513, 23.46, 18.7039, 20.273160287134527),\n",
       " (8.5374, 8.3211, 2.5340601064072974, 196.0, 243.3395, 24.1527831799332),\n",
       " (12.7169, 12.5002, 1.703682324470455, 3.0, 3.7257, 24.19162479622733),\n",
       " (11.5129, 11.8371, 2.8156153791497434, 10.0, 7.2313, 27.686525144823907),\n",
       " (18.3254, 18.6769, 1.9182425740076106, 0.011, 0.0077, 29.63857828355478),\n",
       " (11.6183, 11.9941, 3.2350878176568045, 9.0, 6.1803, 31.33027406309322),\n",
       " (10.2602, 10.6386, 3.6880062418380732, 35.0, 23.9736, 31.504040872045614),\n",
       " (11.4176, 11.8101, 3.437662388328351, 11.0, 7.429, 32.463302305903326),\n",
       " (10.5197, 10.9275, 3.8764501563037044, 27.0, 17.9582, 33.488139927586275),\n",
       " (10.8554, 10.5638, 2.686464171046323, 19.3, 25.835, 33.8603060947278),\n",
       " (17.356, 17.7748, 2.412937808545263, 0.029, 0.0191, 34.21568581606391),\n",
       " (9.0448, 8.75, 3.259639332179948, 118.0, 158.4618, 34.28963057550519),\n",
       " (17.4274, 17.1254, 1.733154986190151, 0.027, 0.0365, 35.262121977679165),\n",
       " (10.8198, 11.2598, 4.067257979949683, 20.0, 12.8798, 35.60075623237938),\n",
       " (10.0995, 10.5454, 4.415142179348498, 41.1, 26.314, 35.97569390393169),\n",
       " (10.7245, 11.2179, 4.600664929626773, 22.0, 13.4321, 38.94510710713617),\n",
       " (10.6128, 11.1094, 4.679799121593502, 24.6, 14.9706, 39.14377322204761),\n",
       " (10.0427, 9.7028, 3.384547751031719, 43.502, 61.1119, 40.48072437633805),\n",
       " (11.8957, 12.4278, 4.47386168721319, 6.82, 4.0055, 41.26855874414115),\n",
       " (9.4335, 9.9706, 5.694101986005121, 80.0, 46.7528, 41.558982920087985),\n",
       " (13.0271, 12.674, 2.710053713451327, 2.2, 3.1315, 42.33882755762255),\n",
       " (12.075, 12.7161, 5.308824723813933, 5.7, 3.0024, 47.32572244978695),\n",
       " (10.232, 10.8744, 6.278315117247663, 36.0, 18.9371, 47.3969812203475),\n",
       " (10.9141, 11.5677, 5.989112010152113, 18.2, 9.4666, 47.985986479530176),\n",
       " (11.8006, 12.4577, 5.56866955223661, 7.5, 3.8875, 48.16667163636591),\n",
       " (10.625, 11.2965, 6.319474076847356, 24.3, 12.4165, 48.90309624059058),\n",
       " (9.9035, 10.6239, 7.274444981721232, 50.0, 24.3273, 51.3453963209343),\n",
       " (9.9035, 9.475, 4.326394449890686, 50.0, 76.7449, 53.489800997475555),\n",
       " (8.9029, 9.6716, 8.634560634464288, 136.0, 63.0503, 53.63950411691929),\n",
       " (8.0074, 8.806, 9.97416392872465, 333.0, 149.826, 55.007213878383425),\n",
       " (11.8554, 12.6834, 6.983860802128196, 7.1, 3.1023, 56.30627710995264),\n",
       " (11.6754, 12.5515, 7.503381708107871, 8.5, 3.5396, 58.35767712249296),\n",
       " (13.1124, 14.0009, 6.776185459509424, 2.02, 0.8308, 58.873661332676576),\n",
       " (12.5627, 13.4839, 7.332291890010241, 3.5, 1.3932, 60.19339460083071),\n",
       " (12.5627, 13.4993, 7.45481996952591, 3.5, 1.3719, 60.80144162519479),\n",
       " (12.94, 13.8894, 7.33631700150107, 2.4, 0.9288, 61.299686611333605),\n",
       " (10.5498, 11.531, 9.30111475015078, 26.2, 9.8209, 62.51556703217203),\n",
       " (11.2506, 12.251, 8.892029880534137, 13.0, 4.7805, 63.226888133595736),\n",
       " (11.2898, 12.3015, 8.96118847985899, 12.5, 4.545, 63.63991708343187),\n",
       " (15.182, 16.2417, 6.979918167484544, 0.255, 0.0884, 65.34372347808082),\n",
       " (12.0238, 13.1265, 9.171799332341491, 6.0, 1.9917, 66.80577669622512),\n",
       " (11.3306, 10.8138, 4.560761320905154, 12.0, 20.1191, 67.65897178586063),\n",
       " (9.2103, 10.3858, 12.762756675181164, 100.0, 30.8667, 69.13333326009382),\n",
       " (10.2602, 11.4377, 11.47667309820709, 35.0, 10.7814, 69.195989981126),\n",
       " (9.2103, 10.3985, 12.89993398692377, 100.0, 30.4791, 69.52086479025725),\n",
       " (11.8986, 13.1986, 10.925766955887381, 6.8, 1.8532, 72.74714746019073),\n",
       " (11.7361, 13.039, 11.101636153304387, 8.0, 2.174, 72.82562305875086),\n",
       " (8.3143, 9.6881, 16.523588683310795, 245.0, 62.0193, 74.68600699583388),\n",
       " (11.2506, 12.6546, 12.479735094872314, 13.0, 3.1928, 75.43973356676477),\n",
       " (9.2103, 10.6146, 15.246278069398764, 100.0, 24.5555, 75.44449459771648),\n",
       " (12.5656, 13.9975, 11.395001720797383, 3.49, 0.8336, 76.11337104288995),\n",
       " (10.9852, 12.4508, 13.341074950394624, 16.95, 3.9146, 76.90489429866545),\n",
       " (10.4227, 11.9288, 14.449712813745519, 29.749, 6.5978, 77.82162321953753),\n",
       " (9.0533, 10.6428, 17.556404500369563, 117.0, 23.8727, 79.59602392195796),\n",
       " (12.2061, 13.8211, 13.231022267776359, 5.0, 0.9945, 80.1106980596979),\n",
       " (17.1969, 18.814, 9.403631919807484, 0.034, 0.0067, 80.15332456310495),\n",
       " (8.0074, 9.6404, 20.3936168378958, 333.0, 65.0496, 80.46557637369548),\n",
       " (11.5129, 13.1567, 14.277622959235458, 10.0, 1.9325, 80.67502894789394),\n",
       " (14.3313, 15.9923, 11.589339598539814, 0.597, 0.1134, 81.00337155106166),\n",
       " (11.3059, 12.9841, 14.843797860329783, 12.3, 2.2965, 81.32952186545553),\n",
       " (10.5197, 12.2319, 16.276072623501854, 27.0, 4.8727, 81.95298213075209),\n",
       " (9.3047, 11.0283, 18.524085716374167, 91.0, 16.2364, 82.15776053882591),\n",
       " (8.5172, 10.2526, 20.375034495413345, 200.0, 35.2666, 82.36670043446958),\n",
       " (9.9035, 11.696, 18.09937890020604, 50.0, 8.3274, 83.3451669176689),\n",
       " (9.2103, 11.1059, 20.580538858422827, 100.0, 15.0238, 84.97624662783383),\n",
       " (11.5129, 10.895, 5.367023186548036, 10.0, 18.5503, 85.50309474003879),\n",
       " (9.6884, 11.6398, 20.141558330637253, 62.0, 8.8087, 85.79235432067884),\n",
       " (8.294, 10.2701, 23.824417159086355, 250.0, 34.6553, 86.13786253190638),\n",
       " (8.7403, 10.8053, 23.625462086661226, 160.0, 20.292, 87.31747270559357),\n",
       " (13.9663, 13.3362, 4.512008386585833, 0.86, 1.615, 87.79150330753744),\n",
       " (13.7385, 13.1073, 4.595086505082974, 1.08, 2.0305, 88.0049741698133),\n",
       " (8.8955, 11.0926, 24.69849059344749, 137.0, 15.2247, 88.88707732004988),\n",
       " (9.5388, 11.7613, 23.299157189807826, 72.0, 7.8006, 89.16588636341336),\n",
       " (11.5129, 13.7498, 19.428822148106555, 10.0, 1.068, 89.32030395036608),\n",
       " (11.814, 14.0719, 19.111527694840706, 7.4, 0.7739, 89.54240546657796),\n",
       " (9.2103, 11.5949, 25.889493416116046, 100.0, 9.2134, 90.78659285327117),\n",
       " (10.4143, 13.1962, 26.712388840424005, 30.0, 1.8576, 93.80799864403029),\n",
       " (9.2103, 12.2125, 32.59592404637462, 100.0, 4.9678, 95.03221218225127),\n",
       " (9.2103, 12.3802, 34.41684389909139, 100.0, 4.2007, 95.7992557263991),\n",
       " (9.6645, 12.8354, 32.8099398860433, 63.5, 2.6648, 95.80344825599536),\n",
       " (10.9823, 14.1906, 29.213252487834314, 17.0, 0.6872, 95.957416483288),\n",
       " (8.5844, 11.8629, 38.1907724741598, 187.0, 7.0474, 96.23133520708927),\n",
       " (10.31, 13.7062, 32.94162198817775, 33.3, 1.1155, 96.65018745169824),\n",
       " (9.2103, 13.1767, 43.06462176216135, 100.0, 1.8942, 98.10584668012933),\n",
       " (9.9115, 14.0371, 41.62412300078274, 49.6, 0.8012, 98.38459285878497),\n",
       " (9.9156, 14.09, 42.10003300121429, 49.4, 0.7599, 98.46164125606866),\n",
       " (9.028, 13.208, 46.29992302620007, 120.0, 1.8359, 98.4700968637375),\n",
       " (9.2103, 13.7824, 49.64073035693356, 100.0, 1.0336, 98.96635648149191),\n",
       " (8.2434, 12.9023, 56.51735100239043, 263.0, 2.4924, 99.05233721882492),\n",
       " (11.8696, 16.5922, 39.78742505850042, 7.0, 0.0622, 99.11080452117741),\n",
       " (11.5129, 16.6982, 45.03890117813245, 10.0, 0.056, 99.4401715810267),\n",
       " (12.4292, 11.6981, 5.881843204012588, 4.0, 8.3092, 107.72959173359715),\n",
       " (11.6123, 10.8247, 6.7821270790322545, 9.054, 19.901, 119.80293477315233),\n",
       " (11.9655, 11.1253, 7.0216498758788894, 6.36, 14.7347, 131.6770672912606),\n",
       " (18.526, 17.6535, 4.709672089601058, 0.009, 0.0215, 139.29233907326497),\n",
       " (18.0842, 17.2062, 4.85504987151174, 0.014, 0.0337, 140.60763299886975),\n",
       " (15.1899, 14.3056, 5.82148560752526, 0.253, 0.6126, 142.12319125392273),\n",
       " (12.8562, 11.8469, 7.8500621918950575, 2.61, 7.1604, 174.34509038559867),\n",
       " (11.8554, 10.8206, 8.728440648975587, 7.1, 19.9831, 181.45233705614746),\n",
       " (11.7361, 10.6332, 9.396898175361189, 8.0, 24.1014, 201.26691760063045),\n",
       " (16.5186, 15.4034, 6.750884160627914, 0.067, 0.2044, 205.00248645747334),\n",
       " (11.4509, 10.2819, 10.20838153845895, 10.64, 34.246, 221.8613086552848),\n",
       " (13.3455, 12.1198, 9.18414283438997, 1.6, 5.4503, 240.64490632429556),\n",
       " (12.5627, 11.3028, 10.02911962918189, 3.5, 12.3381, 252.51852372569866),\n",
       " (15.1248, 13.8434, 8.472372456215119, 0.27, 0.9725, 260.17977894214755),\n",
       " (14.4889, 13.1525, 9.22353035401369, 0.51, 1.9407, 280.5258588289775),\n",
       " (15.3296, 13.9562, 8.959055050942197, 0.22, 0.8687, 294.8717069262164),\n",
       " (16.3666, 14.8742, 9.118109718231604, 0.078, 0.3469, 344.7404311885133),\n",
       " (12.4292, 10.8877, 12.402621122505423, 4.0, 18.6873, 367.1819420718747),\n",
       " (9.7902, 8.248, 15.752380572437568, 56.0, 261.7879, 367.478458410252),\n",
       " (15.2018, 13.6064, 10.494882091346382, 0.25, 1.2326, 393.0357506783668),\n",
       " (13.8155, 12.1912, 11.757212607475608, 1.0, 5.075, 407.49615528603977),\n",
       " (12.3339, 10.6678, 13.508029801126321, 4.4, 23.2818, 429.1319779198796),\n",
       " (12.9957, 11.2718, 13.265103463469003, 2.27, 12.7264, 460.6334542187979),\n",
       " (13.1224, 11.3087, 13.820833031158884, 2.0, 12.2652, 513.2606920962183),\n",
       " (14.231, 12.2871, 13.65991478506005, 0.66, 4.6109, 598.6264624339768),\n",
       " (14.025, 12.0174, 14.314289057930676, 0.811, 6.0381, 644.5268448213183),\n",
       " (11.7361, 9.5967, 18.229064217036893, 8.0, 67.9531, 749.4131875836908),\n",
       " (12.2061, 10.0407, 17.74022593498734, 5.0, 43.5898, 771.795650853068),\n",
       " (14.4889, 12.2355, 15.552280403727636, 0.51, 4.855, 851.954805239078),\n",
       " (19.6247, 17.3351, 11.666975143840093, 0.003, 0.0296, 887.102256618414),\n",
       " (14.5087, 12.112, 16.51899280444897, 0.5, 5.4933, 998.6685470096699),\n",
       " (11.8597, 9.0408, 23.76836479015931, 7.07, 118.4754, 1575.7482809138723),\n",
       " (17.3221, 14.3532, 17.139285225393404, 0.03, 0.5841, 1847.007593519159),\n",
       " (11.9134, 8.6354, 27.51522879971245, 6.7, 177.7019, 2552.2676975057507),\n",
       " (14.1722, 9.9819, 29.566942009330386, 0.7, 46.229, 6504.140334843091),\n",
       " (15.977, 11.4696, 28.2120653743889, 0.1152, 10.443, 8969.028208835995),\n",
       " (20.0301, 14.0, 30.10521845296462, 0.002, 0.8315, 41476.11671201917),\n",
       " (14.9242, 8.4654, 43.27752646510094, 0.33, 210.64, 63730.29403266671),\n",
       " (16.2806, 9.6455, 40.75445147747261, 0.085, 64.7136, 76033.62928842507),\n",
       " (20.4609, 13.2425, 35.27917820085783, 0.0013, 1.7737, 136335.61716904517)]"
      ]
     },
     "execution_count": 69,
     "metadata": {},
     "output_type": "execute_result"
    }
   ],
   "source": [
    "sorted(gg, key=lambda x:x[5])"
   ]
  },
  {
   "cell_type": "markdown",
   "id": "velvet-correspondence",
   "metadata": {},
   "source": [
    "### Leave one out CV"
   ]
  },
  {
   "cell_type": "code",
   "execution_count": 102,
   "id": "representative-aggregate",
   "metadata": {},
   "outputs": [],
   "source": [
    "loo = LeaveOneOut()"
   ]
  },
  {
   "cell_type": "code",
   "execution_count": 103,
   "id": "supported-security",
   "metadata": {},
   "outputs": [],
   "source": [
    "from tqdm import tqdm"
   ]
  },
  {
   "cell_type": "code",
   "execution_count": 108,
   "id": "documented-diameter",
   "metadata": {
    "scrolled": false
   },
   "outputs": [
    {
     "name": "stderr",
     "output_type": "stream",
     "text": [
      "707it [00:57, 12.26it/s]\n"
     ]
    }
   ],
   "source": [
    "result_df = pd.DataFrame(columns = list(df2.columns)+[\"y_pred_pmic\", \"y_pred_mic\", \"ape_pmic\", \"ape_mic\"])\n",
    "for train_index, test_index in tqdm(loo.split(X)):\n",
    "    X_train, X_test = X.iloc[train_index,:], X.iloc[test_index,:]\n",
    "    y_train, y_test = y.iloc[train_index], y.iloc[test_index]\n",
    "    y_train_pmic, y_train_mic = y_train['pIC50'], y_train['MIC']\n",
    "    y_test_pmic, y_test_mic = y_test['pIC50'], y_test['MIC']\n",
    "    svr = SVR(C=10, gamma=6)\n",
    "    _ = svr.fit(X_train, y_train_pmic)\n",
    "    y_pred_pmic = svr.predict(X_test)\n",
    "    y_pred_mic = np.exp(-y_pred_pmic)/1e-6\n",
    "    ape = 100*np.abs(y_test_pmic-y_pred_pmic)/y_test_pmic\n",
    "    ape_mic = 100*np.abs(y_test_mic-y_pred_mic)/y_test_mic\n",
    "    df_val = df2.iloc[test_index,:].values[0].tolist()\n",
    "    res = np.append(df_val, [y_pred_pmic[0], y_pred_mic[0], ape.values[0], ape_mic.values[0]])\n",
    "    res = pd.DataFrame([res], columns = list(df2.columns)+[\"y_pred_pmic\", \"y_pred_mic\", \"ape_pmic\", \"ape_mic\"])\n",
    "    result_df = result_df.append(res)\n",
    "result_df = result_df[[\"Sequence\", \"pIC50\", \"y_pred_pmic\", \"ape_pmic\", \"MIC\", \"y_pred_mic\", \"ape_mic\"]]"
   ]
  },
  {
   "cell_type": "code",
   "execution_count": 109,
   "id": "lonely-nickel",
   "metadata": {},
   "outputs": [
    {
     "data": {
      "text/html": [
       "<div>\n",
       "<style scoped>\n",
       "    .dataframe tbody tr th:only-of-type {\n",
       "        vertical-align: middle;\n",
       "    }\n",
       "\n",
       "    .dataframe tbody tr th {\n",
       "        vertical-align: top;\n",
       "    }\n",
       "\n",
       "    .dataframe thead th {\n",
       "        text-align: right;\n",
       "    }\n",
       "</style>\n",
       "<table border=\"1\" class=\"dataframe\">\n",
       "  <thead>\n",
       "    <tr style=\"text-align: right;\">\n",
       "      <th></th>\n",
       "      <th>Sequence</th>\n",
       "      <th>pIC50</th>\n",
       "      <th>y_pred_pmic</th>\n",
       "      <th>ape_pmic</th>\n",
       "      <th>MIC</th>\n",
       "      <th>y_pred_mic</th>\n",
       "      <th>ape_mic</th>\n",
       "    </tr>\n",
       "  </thead>\n",
       "  <tbody>\n",
       "    <tr>\n",
       "      <th>0</th>\n",
       "      <td>AAQRRGRVGRNPNQVGD</td>\n",
       "      <td>7.724200675886576</td>\n",
       "      <td>8.26022114022038</td>\n",
       "      <td>6.9394942833004665</td>\n",
       "      <td>442.0</td>\n",
       "      <td>258.6017976398749</td>\n",
       "      <td>41.4928059638292</td>\n",
       "    </tr>\n",
       "    <tr>\n",
       "      <th>0</th>\n",
       "      <td>HRILARIRQMMT</td>\n",
       "      <td>7.739015761671717</td>\n",
       "      <td>10.53829536269862</td>\n",
       "      <td>36.17100271187748</td>\n",
       "      <td>435.5</td>\n",
       "      <td>26.50186731603407</td>\n",
       "      <td>93.91461140848817</td>\n",
       "    </tr>\n",
       "    <tr>\n",
       "      <th>0</th>\n",
       "      <td>RNPSQVGD</td>\n",
       "      <td>7.867475568783628</td>\n",
       "      <td>8.816235209360261</td>\n",
       "      <td>12.059263893250563</td>\n",
       "      <td>383.0</td>\n",
       "      <td>148.30565025757193</td>\n",
       "      <td>61.2778981050726</td>\n",
       "    </tr>\n",
       "    <tr>\n",
       "      <th>0</th>\n",
       "      <td>RVGRNPNQVGD</td>\n",
       "      <td>7.891254760549742</td>\n",
       "      <td>8.571679289679329</td>\n",
       "      <td>8.622513779826127</td>\n",
       "      <td>374.0</td>\n",
       "      <td>189.39433466347654</td>\n",
       "      <td>49.359803565915364</td>\n",
       "    </tr>\n",
       "    <tr>\n",
       "      <th>0</th>\n",
       "      <td>AAQRRGRIGRNPSQVGD</td>\n",
       "      <td>7.934977571563574</td>\n",
       "      <td>8.760039904790803</td>\n",
       "      <td>10.397790362810714</td>\n",
       "      <td>358.0</td>\n",
       "      <td>156.87834826394578</td>\n",
       "      <td>56.17923232850677</td>\n",
       "    </tr>\n",
       "    <tr>\n",
       "      <th>...</th>\n",
       "      <td>...</td>\n",
       "      <td>...</td>\n",
       "      <td>...</td>\n",
       "      <td>...</td>\n",
       "      <td>...</td>\n",
       "      <td>...</td>\n",
       "      <td>...</td>\n",
       "    </tr>\n",
       "    <tr>\n",
       "      <th>0</th>\n",
       "      <td>SLDQINVTFLDLEYEMKKLEEAIKKLEESYIDLKEL</td>\n",
       "      <td>20.46090157247892</td>\n",
       "      <td>12.631352607598163</td>\n",
       "      <td>38.26590405679849</td>\n",
       "      <td>0.0013</td>\n",
       "      <td>3.2679339000362737</td>\n",
       "      <td>251279.53077202104</td>\n",
       "    </tr>\n",
       "    <tr>\n",
       "      <th>0</th>\n",
       "      <td>NGAICWGPCPTAFRQIGNCGHFKVRCCKIR</td>\n",
       "      <td>15.977030210679716</td>\n",
       "      <td>10.555899407761911</td>\n",
       "      <td>33.93077894597767</td>\n",
       "      <td>0.11515</td>\n",
       "      <td>26.039409754415942</td>\n",
       "      <td>22513.469174481932</td>\n",
       "    </tr>\n",
       "    <tr>\n",
       "      <th>0</th>\n",
       "      <td>CFPYITRPGTYHDWWYTRKNRQ</td>\n",
       "      <td>15.01948336229021</td>\n",
       "      <td>11.45078447849528</td>\n",
       "      <td>23.760463643875735</td>\n",
       "      <td>0.3</td>\n",
       "      <td>10.641123596032811</td>\n",
       "      <td>3447.0411986776035</td>\n",
       "    </tr>\n",
       "    <tr>\n",
       "      <th>0</th>\n",
       "      <td>YTSLIHSLIEESQNQQEKNEQELLELDKWASLWNWF</td>\n",
       "      <td>18.297578546818382</td>\n",
       "      <td>18.055802317862494</td>\n",
       "      <td>1.3213564206720085</td>\n",
       "      <td>0.011309999999999999</td>\n",
       "      <td>0.014403388898737745</td>\n",
       "      <td>27.350918644896083</td>\n",
       "    </tr>\n",
       "    <tr>\n",
       "      <th>0</th>\n",
       "      <td>SWETWEREIENYTRQIYRILEESQEQQDRNERDLLE</td>\n",
       "      <td>20.030118656386467</td>\n",
       "      <td>17.004446705520454</td>\n",
       "      <td>15.10561171788814</td>\n",
       "      <td>0.002</td>\n",
       "      <td>0.04121569504163893</td>\n",
       "      <td>1960.7847520819466</td>\n",
       "    </tr>\n",
       "  </tbody>\n",
       "</table>\n",
       "<p>707 rows × 7 columns</p>\n",
       "</div>"
      ],
      "text/plain": [
       "                                Sequence               pIC50  \\\n",
       "0                      AAQRRGRVGRNPNQVGD   7.724200675886576   \n",
       "0                           HRILARIRQMMT   7.739015761671717   \n",
       "0                               RNPSQVGD   7.867475568783628   \n",
       "0                            RVGRNPNQVGD   7.891254760549742   \n",
       "0                      AAQRRGRIGRNPSQVGD   7.934977571563574   \n",
       "..                                   ...                 ...   \n",
       "0   SLDQINVTFLDLEYEMKKLEEAIKKLEESYIDLKEL   20.46090157247892   \n",
       "0         NGAICWGPCPTAFRQIGNCGHFKVRCCKIR  15.977030210679716   \n",
       "0                 CFPYITRPGTYHDWWYTRKNRQ   15.01948336229021   \n",
       "0   YTSLIHSLIEESQNQQEKNEQELLELDKWASLWNWF  18.297578546818382   \n",
       "0   SWETWEREIENYTRQIYRILEESQEQQDRNERDLLE  20.030118656386467   \n",
       "\n",
       "           y_pred_pmic            ape_pmic                   MIC  \\\n",
       "0     8.26022114022038  6.9394942833004665                 442.0   \n",
       "0    10.53829536269862   36.17100271187748                 435.5   \n",
       "0    8.816235209360261  12.059263893250563                 383.0   \n",
       "0    8.571679289679329   8.622513779826127                 374.0   \n",
       "0    8.760039904790803  10.397790362810714                 358.0   \n",
       "..                 ...                 ...                   ...   \n",
       "0   12.631352607598163   38.26590405679849                0.0013   \n",
       "0   10.555899407761911   33.93077894597767               0.11515   \n",
       "0    11.45078447849528  23.760463643875735                   0.3   \n",
       "0   18.055802317862494  1.3213564206720085  0.011309999999999999   \n",
       "0   17.004446705520454   15.10561171788814                 0.002   \n",
       "\n",
       "              y_pred_mic             ape_mic  \n",
       "0      258.6017976398749    41.4928059638292  \n",
       "0      26.50186731603407   93.91461140848817  \n",
       "0     148.30565025757193    61.2778981050726  \n",
       "0     189.39433466347654  49.359803565915364  \n",
       "0     156.87834826394578   56.17923232850677  \n",
       "..                   ...                 ...  \n",
       "0     3.2679339000362737  251279.53077202104  \n",
       "0     26.039409754415942  22513.469174481932  \n",
       "0     10.641123596032811  3447.0411986776035  \n",
       "0   0.014403388898737745  27.350918644896083  \n",
       "0    0.04121569504163893  1960.7847520819466  \n",
       "\n",
       "[707 rows x 7 columns]"
      ]
     },
     "execution_count": 109,
     "metadata": {},
     "output_type": "execute_result"
    }
   ],
   "source": [
    "result_df#.to_csv(\"../results/SVM_pMIC_to_MIC_removed_less_than_1e-6_rbf_c_10_gamma_10.csv\", index=False)"
   ]
  },
  {
   "cell_type": "code",
   "execution_count": 110,
   "id": "strange-benjamin",
   "metadata": {},
   "outputs": [
    {
     "data": {
      "text/plain": [
       "11.964346298022491"
      ]
     },
     "execution_count": 110,
     "metadata": {},
     "output_type": "execute_result"
    }
   ],
   "source": [
    "result_df['ape_pmic'].astype('float').mean()"
   ]
  },
  {
   "cell_type": "code",
   "execution_count": 111,
   "id": "aggregate-helping",
   "metadata": {},
   "outputs": [
    {
     "data": {
      "text/plain": [
       "3459.802978955599"
      ]
     },
     "execution_count": 111,
     "metadata": {},
     "output_type": "execute_result"
    }
   ],
   "source": [
    "result_df['ape_mic'].astype('float').mean()"
   ]
  },
  {
   "cell_type": "code",
   "execution_count": null,
   "id": "respiratory-accommodation",
   "metadata": {},
   "outputs": [],
   "source": []
  },
  {
   "cell_type": "code",
   "execution_count": null,
   "id": "elegant-technician",
   "metadata": {},
   "outputs": [],
   "source": []
  },
  {
   "cell_type": "code",
   "execution_count": null,
   "id": "immediate-strain",
   "metadata": {},
   "outputs": [],
   "source": [
    "params2 = ['molecular_weight', 'aromaticity', 'instability_index',\n",
    "          'isoelectric_point', 'helix', 'turn', 'sheet', 'with_reduced_cysteines',\n",
    "          'with_disulfid_bridges', 'gravy', 'net_charge_at_pH7point4']"
   ]
  },
  {
   "cell_type": "code",
   "execution_count": null,
   "id": "documented-frequency",
   "metadata": {},
   "outputs": [],
   "source": [
    "prop2 = []\n",
    "for seq in df2.Sequence:\n",
    "    X = ProteinAnalysis(seq)\n",
    "    molecular_weight = X.molecular_weight()\n",
    "    aromaticity = X.aromaticity()\n",
    "    instability_index = X.instability_index()\n",
    "    isoelectric_point = X.isoelectric_point()\n",
    "    sec_struc = X.secondary_structure_fraction()\n",
    "    helix = sec_struc[0]\n",
    "    turn = sec_struc[1]\n",
    "    sheet = sec_struc[2]\n",
    "    epsilon_prot = X.molar_extinction_coefficient()\n",
    "    with_reduced_cysteines = epsilon_prot[0]\n",
    "    with_disulfid_bridges = epsilon_prot[1]\n",
    "    gravy = X.gravy() # hydrophobicity related\n",
    "    # flexibility = X.flexibility()\n",
    "    # X.protein_scale()\n",
    "    net_charge_at_pH7point4 = X.charge_at_pH(7.4)\n",
    "\n",
    "    prop2.append([seq, molecular_weight, aromaticity, instability_index, isoelectric_point, helix, turn, sheet,\n",
    "                 with_reduced_cysteines, with_disulfid_bridges, gravy, net_charge_at_pH7point4])\n",
    "prop2 = pd.DataFrame(prop2, columns=[\"Sequence\"]+params2)"
   ]
  },
  {
   "cell_type": "code",
   "execution_count": null,
   "id": "distant-ecuador",
   "metadata": {},
   "outputs": [],
   "source": [
    "prop2"
   ]
  },
  {
   "cell_type": "code",
   "execution_count": null,
   "id": "christian-brooklyn",
   "metadata": {},
   "outputs": [],
   "source": [
    "prop2.merge(result_df,on=['Sequence'],how='left')"
   ]
  },
  {
   "cell_type": "code",
   "execution_count": null,
   "id": "retained-slovakia",
   "metadata": {},
   "outputs": [],
   "source": [
    "a = set(df2['Sequence'])"
   ]
  },
  {
   "cell_type": "code",
   "execution_count": null,
   "id": "continuous-twins",
   "metadata": {},
   "outputs": [],
   "source": [
    "b = set(result_df['Sequence'])"
   ]
  },
  {
   "cell_type": "code",
   "execution_count": null,
   "id": "junior-software",
   "metadata": {},
   "outputs": [],
   "source": [
    "a.intersection(b)"
   ]
  },
  {
   "cell_type": "code",
   "execution_count": null,
   "id": "silver-brake",
   "metadata": {},
   "outputs": [],
   "source": []
  }
 ],
 "metadata": {
  "kernelspec": {
   "display_name": "Python 3",
   "language": "python",
   "name": "python3"
  },
  "language_info": {
   "codemirror_mode": {
    "name": "ipython",
    "version": 3
   },
   "file_extension": ".py",
   "mimetype": "text/x-python",
   "name": "python",
   "nbconvert_exporter": "python",
   "pygments_lexer": "ipython3",
   "version": "3.6.10"
  },
  "varInspector": {
   "cols": {
    "lenName": 16,
    "lenType": 16,
    "lenVar": 40
   },
   "kernels_config": {
    "python": {
     "delete_cmd_postfix": "",
     "delete_cmd_prefix": "del ",
     "library": "var_list.py",
     "varRefreshCmd": "print(var_dic_list())"
    },
    "r": {
     "delete_cmd_postfix": ") ",
     "delete_cmd_prefix": "rm(",
     "library": "var_list.r",
     "varRefreshCmd": "cat(var_dic_list()) "
    }
   },
   "types_to_exclude": [
    "module",
    "function",
    "builtin_function_or_method",
    "instance",
    "_Feature"
   ],
   "window_display": false
  }
 },
 "nbformat": 4,
 "nbformat_minor": 5
}
