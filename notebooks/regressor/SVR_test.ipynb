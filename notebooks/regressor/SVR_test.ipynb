{
 "cells": [
  {
   "cell_type": "code",
   "execution_count": 1,
   "id": "fossil-sydney",
   "metadata": {},
   "outputs": [
    {
     "name": "stdout",
     "output_type": "stream",
     "text": [
      "/Users/in-divye.singh/Documents/Projects/MIC_predictor/src\n"
     ]
    }
   ],
   "source": [
    "cd ../../src"
   ]
  },
  {
   "cell_type": "code",
   "execution_count": 23,
   "id": "charged-personality",
   "metadata": {},
   "outputs": [],
   "source": [
    "import biovec\n",
    "import numpy as np\n",
    "import pandas as pd\n",
    "from itertools import chain, combinations\n",
    "from collections import Counter\n",
    "\n",
    "from utils import *\n",
    "\n",
    "from sklearn.svm import SVR\n",
    "from sklearn.ensemble import RandomForestRegressor\n",
    "from sklearn.metrics import make_scorer\n",
    "from sklearn.model_selection import GridSearchCV\n",
    "from sklearn.metrics import mean_squared_error, mean_absolute_error\n",
    "from sklearn.model_selection import train_test_split\n",
    "\n",
    "from Bio.SeqUtils.ProtParam import ProteinAnalysis"
   ]
  },
  {
   "cell_type": "code",
   "execution_count": 3,
   "id": "numerous-travel",
   "metadata": {},
   "outputs": [],
   "source": [
    "def mean_absolute_percentage_error(y_true, y_pred): \n",
    "    y_true, y_pred = np.array(y_true), np.array(y_pred)\n",
    "    return np.mean(np.abs((y_true - y_pred) / y_true)) * 100\n",
    "\n",
    "mape_scorer = make_scorer(mean_absolute_percentage_error, greater_is_better=False)"
   ]
  },
  {
   "cell_type": "code",
   "execution_count": 4,
   "id": "vertical-equation",
   "metadata": {},
   "outputs": [],
   "source": [
    "avp_ic50 = pd.read_csv(\"../data/raw/AVP-IC50Pred_train.csv\")\n",
    "ha_avp = pd.read_csv(\"../data/raw/HA_AVP.csv\")"
   ]
  },
  {
   "cell_type": "code",
   "execution_count": 5,
   "id": "particular-presence",
   "metadata": {},
   "outputs": [],
   "source": [
    "df = pd.concat([avp_ic50[['Sequence','MIC']], ha_avp], axis=0).drop_duplicates(['Sequence']).reset_index(drop=True)\n",
    "df = sequence_filtering(df)"
   ]
  },
  {
   "cell_type": "code",
   "execution_count": 6,
   "id": "compound-constitution",
   "metadata": {},
   "outputs": [
    {
     "data": {
      "text/html": [
       "<div>\n",
       "<style scoped>\n",
       "    .dataframe tbody tr th:only-of-type {\n",
       "        vertical-align: middle;\n",
       "    }\n",
       "\n",
       "    .dataframe tbody tr th {\n",
       "        vertical-align: top;\n",
       "    }\n",
       "\n",
       "    .dataframe thead th {\n",
       "        text-align: right;\n",
       "    }\n",
       "</style>\n",
       "<table border=\"1\" class=\"dataframe\">\n",
       "  <thead>\n",
       "    <tr style=\"text-align: right;\">\n",
       "      <th></th>\n",
       "      <th>Sequence</th>\n",
       "      <th>MIC</th>\n",
       "    </tr>\n",
       "  </thead>\n",
       "  <tbody>\n",
       "    <tr>\n",
       "      <th>0</th>\n",
       "      <td>AAQRRGRVGRNPNQVGD</td>\n",
       "      <td>442.00000</td>\n",
       "    </tr>\n",
       "    <tr>\n",
       "      <th>1</th>\n",
       "      <td>HRILARIRQMMT</td>\n",
       "      <td>435.50000</td>\n",
       "    </tr>\n",
       "    <tr>\n",
       "      <th>2</th>\n",
       "      <td>RNPSQVGD</td>\n",
       "      <td>383.00000</td>\n",
       "    </tr>\n",
       "    <tr>\n",
       "      <th>3</th>\n",
       "      <td>RVGRNPNQVGD</td>\n",
       "      <td>374.00000</td>\n",
       "    </tr>\n",
       "    <tr>\n",
       "      <th>4</th>\n",
       "      <td>AAQRRGRIGRNPSQVGD</td>\n",
       "      <td>358.00000</td>\n",
       "    </tr>\n",
       "    <tr>\n",
       "      <th>...</th>\n",
       "      <td>...</td>\n",
       "      <td>...</td>\n",
       "    </tr>\n",
       "    <tr>\n",
       "      <th>707</th>\n",
       "      <td>NGAICWGPCPTAFRQIGNCGHFKVRCCKIR</td>\n",
       "      <td>0.11515</td>\n",
       "    </tr>\n",
       "    <tr>\n",
       "      <th>708</th>\n",
       "      <td>CFPYITRPGTYHDWWYTRKNRQ</td>\n",
       "      <td>0.30000</td>\n",
       "    </tr>\n",
       "    <tr>\n",
       "      <th>709</th>\n",
       "      <td>YTSLIHSLIEESQNQQEKNEQELLELDKWASLWNWF</td>\n",
       "      <td>0.01131</td>\n",
       "    </tr>\n",
       "    <tr>\n",
       "      <th>710</th>\n",
       "      <td>GTNLSVPNPLGFFPDHQLDPAFGANSNNPDWDFNPNKDHWPEANKVG</td>\n",
       "      <td>0.00008</td>\n",
       "    </tr>\n",
       "    <tr>\n",
       "      <th>711</th>\n",
       "      <td>SWETWEREIENYTRQIYRILEESQEQQDRNERDLLE</td>\n",
       "      <td>0.00200</td>\n",
       "    </tr>\n",
       "  </tbody>\n",
       "</table>\n",
       "<p>712 rows × 2 columns</p>\n",
       "</div>"
      ],
      "text/plain": [
       "                                            Sequence        MIC\n",
       "0                                  AAQRRGRVGRNPNQVGD  442.00000\n",
       "1                                       HRILARIRQMMT  435.50000\n",
       "2                                           RNPSQVGD  383.00000\n",
       "3                                        RVGRNPNQVGD  374.00000\n",
       "4                                  AAQRRGRIGRNPSQVGD  358.00000\n",
       "..                                               ...        ...\n",
       "707                   NGAICWGPCPTAFRQIGNCGHFKVRCCKIR    0.11515\n",
       "708                           CFPYITRPGTYHDWWYTRKNRQ    0.30000\n",
       "709             YTSLIHSLIEESQNQQEKNEQELLELDKWASLWNWF    0.01131\n",
       "710  GTNLSVPNPLGFFPDHQLDPAFGANSNNPDWDFNPNKDHWPEANKVG    0.00008\n",
       "711             SWETWEREIENYTRQIYRILEESQEQQDRNERDLLE    0.00200\n",
       "\n",
       "[712 rows x 2 columns]"
      ]
     },
     "execution_count": 6,
     "metadata": {},
     "output_type": "execute_result"
    }
   ],
   "source": [
    "df"
   ]
  },
  {
   "cell_type": "code",
   "execution_count": 7,
   "id": "academic-roots",
   "metadata": {},
   "outputs": [],
   "source": [
    "def get_physicochemical_properties(df):\n",
    "    params = ['aromaticity', 'helix', 'turn', 'sheet', 'gravy', 'net_charge_at_pH7point4']\n",
    "\n",
    "    prop = []\n",
    "    for seq in df.Sequence:\n",
    "        X = ProteinAnalysis(seq)\n",
    "        aromaticity = X.aromaticity()\n",
    "        sec_struc = X.secondary_structure_fraction()\n",
    "        helix = sec_struc[0]\n",
    "        turn = sec_struc[1]\n",
    "        sheet = sec_struc[2]\n",
    "        gravy = X.gravy() # hydrophobicity related\n",
    "        net_charge_at_pH7point4 = X.charge_at_pH(7.4)\n",
    "\n",
    "        prop.append([aromaticity, helix, turn, sheet, gravy, net_charge_at_pH7point4])\n",
    "    return pd.DataFrame(prop, columns=params)"
   ]
  },
  {
   "cell_type": "code",
   "execution_count": 8,
   "id": "applied-geology",
   "metadata": {},
   "outputs": [],
   "source": [
    "aa_freq = reduce_by_kmer_frequency(df)"
   ]
  },
  {
   "cell_type": "code",
   "execution_count": 9,
   "id": "turkish-market",
   "metadata": {},
   "outputs": [
    {
     "name": "stderr",
     "output_type": "stream",
     "text": [
      "/Users/in-divye.singh/anaconda3/envs/life-science/lib/python3.6/site-packages/smart_open/smart_open_lib.py:254: UserWarning: This function is deprecated, use smart_open.open instead. See the migration notes for details: https://github.com/RaRe-Technologies/smart_open/blob/master/README.rst#migrating-to-the-new-open-function\n",
      "  'See the migration notes for details: %s' % _MIGRATION_NOTES_URL\n",
      "Creating vectors: 100%|██████████| 712/712 [00:00<00:00, 1134.56sequence/s]\n"
     ]
    }
   ],
   "source": [
    "uniprot_embedding = biovec.models.load_protvec(\"../data/embeddings/uniprot__kmer_3_contextWindow_10_vector_100_reduction_None\")\n",
    "\n",
    "avg_protvec = convert_sequences_to_avg_vectors(df['Sequence'], uniprot_embedding, kmer=3)\n",
    "avg_protvec = avg_protvec.reset_index(drop=True)"
   ]
  },
  {
   "cell_type": "code",
   "execution_count": 10,
   "id": "fitted-sperm",
   "metadata": {},
   "outputs": [],
   "source": [
    "physicochemical_prop = get_physicochemical_properties(df)"
   ]
  },
  {
   "cell_type": "code",
   "execution_count": 11,
   "id": "concerned-hudson",
   "metadata": {},
   "outputs": [],
   "source": [
    "X = pd.concat([aa_freq, avg_protvec, physicochemical_prop[['helix','turn','sheet']]], axis=1)"
   ]
  },
  {
   "cell_type": "code",
   "execution_count": 12,
   "id": "isolated-attempt",
   "metadata": {},
   "outputs": [],
   "source": [
    "y = df['MIC']"
   ]
  },
  {
   "cell_type": "code",
   "execution_count": 13,
   "id": "handled-explanation",
   "metadata": {},
   "outputs": [],
   "source": [
    "X_train, X_test, y_train, y_test = train_test_split(X, y, test_size=0.2, random_state=42)"
   ]
  },
  {
   "cell_type": "code",
   "execution_count": 24,
   "id": "crucial-reservation",
   "metadata": {},
   "outputs": [],
   "source": [
    "# Create the parameter grid based on the results of random search \n",
    "param_grid = {\n",
    "    'bootstrap': [True],\n",
    "    'max_depth': [None, 80, 90, 100, 110],\n",
    "    'max_features': ['auto', 2, 3],\n",
    "    'min_samples_leaf': [1, 2, 3, 4, 5],\n",
    "    'min_samples_split': [2, 8, 10, 12],\n",
    "    'n_estimators': [100, 200, 300, 1000]\n",
    "}\n",
    "# Create a based model\n",
    "rf = RandomForestRegressor()\n",
    "# Instantiate the grid search model\n",
    "grid_search = GridSearchCV(estimator = rf, param_grid = param_grid, \n",
    "                          cv = 3, n_jobs = -1, verbose = 2, scoring=mape_scorer)"
   ]
  },
  {
   "cell_type": "code",
   "execution_count": 25,
   "id": "fewer-manual",
   "metadata": {
    "scrolled": false
   },
   "outputs": [
    {
     "name": "stdout",
     "output_type": "stream",
     "text": [
      "Fitting 3 folds for each of 1200 candidates, totalling 3600 fits\n"
     ]
    },
    {
     "name": "stderr",
     "output_type": "stream",
     "text": [
      "[Parallel(n_jobs=-1)]: Using backend LokyBackend with 12 concurrent workers.\n",
      "[Parallel(n_jobs=-1)]: Done  17 tasks      | elapsed:   23.3s\n",
      "[Parallel(n_jobs=-1)]: Done 138 tasks      | elapsed:  3.2min\n",
      "[Parallel(n_jobs=-1)]: Done 341 tasks      | elapsed:  5.3min\n",
      "[Parallel(n_jobs=-1)]: Done 624 tasks      | elapsed:  5.9min\n",
      "[Parallel(n_jobs=-1)]: Done 989 tasks      | elapsed: 12.3min\n",
      "[Parallel(n_jobs=-1)]: Done 1434 tasks      | elapsed: 13.4min\n",
      "[Parallel(n_jobs=-1)]: Done 1961 tasks      | elapsed: 20.3min\n",
      "[Parallel(n_jobs=-1)]: Done 2568 tasks      | elapsed: 28.2min\n",
      "[Parallel(n_jobs=-1)]: Done 3257 tasks      | elapsed: 36.2min\n",
      "[Parallel(n_jobs=-1)]: Done 3600 out of 3600 | elapsed: 37.2min finished\n"
     ]
    },
    {
     "data": {
      "text/plain": [
       "GridSearchCV(cv=3, estimator=RandomForestRegressor(), n_jobs=-1,\n",
       "             param_grid={'bootstrap': [True],\n",
       "                         'max_depth': [None, 80, 90, 100, 110],\n",
       "                         'max_features': ['auto', 2, 3],\n",
       "                         'min_samples_leaf': [1, 2, 3, 4, 5],\n",
       "                         'min_samples_split': [2, 8, 10, 12],\n",
       "                         'n_estimators': [100, 200, 300, 1000]},\n",
       "             scoring=make_scorer(mean_absolute_percentage_error, greater_is_better=False),\n",
       "             verbose=2)"
      ]
     },
     "execution_count": 25,
     "metadata": {},
     "output_type": "execute_result"
    }
   ],
   "source": [
    "grid_search.fit(X_train, y_train)"
   ]
  },
  {
   "cell_type": "code",
   "execution_count": 26,
   "id": "municipal-benjamin",
   "metadata": {},
   "outputs": [
    {
     "data": {
      "text/plain": [
       "{'bootstrap': True,\n",
       " 'max_depth': 100,\n",
       " 'max_features': 'auto',\n",
       " 'min_samples_leaf': 3,\n",
       " 'min_samples_split': 2,\n",
       " 'n_estimators': 100}"
      ]
     },
     "execution_count": 26,
     "metadata": {},
     "output_type": "execute_result"
    }
   ],
   "source": [
    "grid_search.best_params_"
   ]
  },
  {
   "cell_type": "code",
   "execution_count": 27,
   "id": "driven-vertical",
   "metadata": {},
   "outputs": [],
   "source": [
    "best_grid = grid_search.best_estimator_"
   ]
  },
  {
   "cell_type": "code",
   "execution_count": 28,
   "id": "mighty-documentary",
   "metadata": {},
   "outputs": [],
   "source": [
    "y_pred = best_grid.predict(X_test)"
   ]
  },
  {
   "cell_type": "code",
   "execution_count": 29,
   "id": "ongoing-aberdeen",
   "metadata": {},
   "outputs": [
    {
     "data": {
      "text/plain": [
       "4107993.486153219"
      ]
     },
     "execution_count": 29,
     "metadata": {},
     "output_type": "execute_result"
    }
   ],
   "source": [
    "mean_absolute_percentage_error(y_test, y_pred)"
   ]
  },
  {
   "cell_type": "code",
   "execution_count": 30,
   "id": "asian-anime",
   "metadata": {},
   "outputs": [],
   "source": [
    "from scipy.stats import pearsonr"
   ]
  },
  {
   "cell_type": "code",
   "execution_count": 31,
   "id": "agreed-police",
   "metadata": {},
   "outputs": [
    {
     "data": {
      "text/plain": [
       "(0.5461122270142738, 1.7328486501462713e-12)"
      ]
     },
     "execution_count": 31,
     "metadata": {},
     "output_type": "execute_result"
    }
   ],
   "source": [
    "pearsonr(y_test, y_pred)"
   ]
  },
  {
   "cell_type": "code",
   "execution_count": 32,
   "id": "educational-spare",
   "metadata": {},
   "outputs": [],
   "source": [
    "ape = 100*np.abs(y_test-y_pred)/y_test"
   ]
  },
  {
   "cell_type": "code",
   "execution_count": 33,
   "id": "interested-kenya",
   "metadata": {
    "scrolled": true
   },
   "outputs": [
    {
     "data": {
      "text/plain": [
       "[(0.79, 3.4222041096681113, 333.19039362887486),\n",
       " (3.52, 10.354519251082245, 194.16247872392742),\n",
       " (23.5, 33.060188653540905, 40.681653844854914),\n",
       " (13.0, 6.628704503228716, 49.0099653597791),\n",
       " (2.0, 2.1931448141955263, 9.657240709776316),\n",
       " (2.02, 24.362031419696965, 1106.041159390939),\n",
       " (20.0, 25.087989780699854, 25.439948903499268),\n",
       " (21.5, 30.446322477269113, 41.610802219856346),\n",
       " (100.0, 35.35089322799421, 64.64910677200578),\n",
       " (2.0, 2.8983153881673895, 44.91576940836948),\n",
       " (160.0, 39.81454272813851, 75.11591079491343),\n",
       " (54.4, 71.82567693972138, 32.032494374487825),\n",
       " (100.0, 36.77939858082251, 63.22060141917749),\n",
       " (0.006999999999999999, 2.7031973863561434, 38517.10551937348),\n",
       " (0.597, 6.464236116500166, 982.7866191792574),\n",
       " (0.026000000000000002, 37.832245446588416, 145408.63633303234),\n",
       " (118.0, 78.18551060694084, 33.74109270598234),\n",
       " (3.38, 22.22963790591631, 557.6815948495951),\n",
       " (8.0, 10.834700611111106, 35.43375763888883),\n",
       " (6.8, 6.5444870039682534, 3.757544059290388),\n",
       " (1.34, 19.472475826825395, 1353.1698378227907),\n",
       " (24.6, 49.47057601803752, 101.09990251234763),\n",
       " (0.255, 6.604194789015151, 2489.880309417706),\n",
       " (0.62, 4.477732891269842, 622.2149824628779),\n",
       " (100.0, 50.12750805245309, 49.87249194754691),\n",
       " (0.001, 0.461073296926407, 46007.32969264069),\n",
       " (117.0, 93.18815505375179, 20.352004227562578),\n",
       " (0.75, 51.50265291522366, 6767.020388696488),\n",
       " (10.0, 28.39202744774531, 183.92027447745312),\n",
       " (5.47, 25.998726288564214, 375.2966414728376),\n",
       " (200.0, 102.75421469624824, 48.62289265187588),\n",
       " (41.1, 32.02682364758297, 22.075854872060898),\n",
       " (10.5, 41.59913104617604, 296.1822004397718),\n",
       " (0.003, 0.6270700689826839, 20802.33563275613),\n",
       " (27.0, 11.630628000360753, 56.92359999866388),\n",
       " (56.0, 85.49985189337467, 52.67830695245476),\n",
       " (50.0, 47.611164033290024, 4.777671933419953),\n",
       " (15.32, 9.875625813142134, 35.53769051473803),\n",
       " (36.226, 19.807990713924962, 45.321065770648254),\n",
       " (0.028999999999999998, 2.9657192046076135, 10126.617946922806),\n",
       " (0.33799999999999997, 27.345145684920634, 7990.279788438058),\n",
       " (24.3, 75.66427088780662, 211.3756003613441),\n",
       " (0.002, 59.60729800505049, 2980264.900252524),\n",
       " (100.0, 64.43346060930736, 35.56653939069264),\n",
       " (2.1, 41.58970355909091, 1880.4620742424238),\n",
       " (6.9, 11.826155370977638, 71.39355610112518),\n",
       " (0.1, 38.774663658180714, 38674.66365818071),\n",
       " (0.065, 6.612032438528141, 10072.3575977356),\n",
       " (142.0, 77.50326895129872, 45.42023313288822),\n",
       " (0.07, 4.794909729666447, 6749.871042380638),\n",
       " (7.1, 29.93746282171828, 321.65440593969413),\n",
       " (0.049, 4.485966552142301, 9055.033779882246),\n",
       " (100.0, 26.75727465147963, 73.24272534852037),\n",
       " (12.3, 6.0359446884812415, 50.92727895543707),\n",
       " (0.46, 51.52905117698411, 11101.967647170459),\n",
       " (333.0, 139.47261559920634, 58.11633165188999),\n",
       " (5.0, 15.365596513744588, 207.31193027489175),\n",
       " (0.005, 5.81279310551948, 116155.8621103896),\n",
       " (5.7, 13.476485462741703, 136.42956952178426),\n",
       " (49.6, 18.584099686153852, 62.53205708436724),\n",
       " (43.501999999999995, 111.94637350414169, 157.33615351970417),\n",
       " (9.83, 8.035416988376623, 18.256185265751547),\n",
       " (2.0, 22.16424179689755, 1008.2120898448775),\n",
       " (0.015, 3.667708151641414, 24351.387677609426),\n",
       " (0.05, 21.049045695887447, 41998.091391774884),\n",
       " (3.7000000000000006e-06, 21.565978735277778, 582864190.1426426),\n",
       " (3.5, 9.97724748452381, 185.0642138435374),\n",
       " (49.4, 40.08269377489178, 18.86094377552271),\n",
       " (3.0, 8.339234008333333, 177.97446694444443),\n",
       " (6.6, 8.045654209523809, 21.903851659451657),\n",
       " (4.4, 60.563714959235206, 1276.4480672553454),\n",
       " (8.5, 16.745775566709963, 97.00912431423485),\n",
       " (0.93, 23.04826159834055, 2378.3076987462955),\n",
       " (3.2, 75.73150727958152, 2266.6096024869225),\n",
       " (6.0, 58.79631918499277, 879.9386530832129),\n",
       " (11.7, 24.60589212864358, 110.30677033028701),\n",
       " (100.0, 57.66895188059164, 42.33104811940836),\n",
       " (245.0, 134.0168567940693, 45.29924212486967),\n",
       " (26.2, 27.948940303650787, 6.675344670422852),\n",
       " (6.82, 6.987244362914863, 2.4522633858484277),\n",
       " (3.37, 32.41868216782107, 861.9786993418713),\n",
       " (0.009000000000000001, 0.43494130542568554, 4732.681171396505),\n",
       " (10.0, 7.670394078643576, 23.29605921356424),\n",
       " (19.3, 22.175039816017314, 14.896579357602658),\n",
       " (137.0, 49.868567849025965, 63.599585511659875),\n",
       " (16.95, 4.634427313246753, 72.65824593954717),\n",
       " (7.0, 146.48901907494957, 1992.7002724992797),\n",
       " (11.7, 125.42319901645027, 971.9931539867545),\n",
       " (100.0, 20.35562394401155, 79.64437605598845),\n",
       " (383.0, 150.91331045252528, 60.59704687923622),\n",
       " (12.4, 10.930686818903318, 11.849299847553887),\n",
       " (72.0, 8.872038571428572, 87.6777242063492),\n",
       " (62.0, 10.596277073466814, 82.90923052666642),\n",
       " (0.11515, 109.85807022280504, 95304.31630291362),\n",
       " (80.0, 32.41399395613831, 59.48250755482711),\n",
       " (6.36, 16.61729663997114, 161.27824905615),\n",
       " (2.56, 6.273949790331889, 145.0761636848394),\n",
       " (0.002, 3.3570545580158737, 167752.7279007937),\n",
       " (33.3, 9.634483818612502, 71.06761616032283),\n",
       " (0.001, 0.0536473460714286, 5264.734607142859),\n",
       " (20.0, 25.489092742063498, 27.44546371031749),\n",
       " (0.3, 72.01977802259742, 23906.592674199142),\n",
       " (0.138, 9.884289145598846, 7062.528366375975),\n",
       " (0.58, 50.24471190387808, 8562.8813627376),\n",
       " (50.0, 30.63081033099567, 38.73837933800866),\n",
       " (91.0, 37.269740881205465, 59.04424078988411),\n",
       " (0.036000000000000004, 30.17311286555555, 83714.20240432095),\n",
       " (8.0, 43.986702798499266, 449.8337849812408),\n",
       " (7.4, 6.865137836630034, 7.227867072567107),\n",
       " (120.0, 11.17191634538239, 90.69006971218136),\n",
       " (1.0, 17.554142561356425, 1655.4142561356425),\n",
       " (250.0, 31.405914421248212, 87.43763423150072),\n",
       " (100.0, 56.62634668234876, 43.37365331765124),\n",
       " (30.0, 57.1278080838384, 90.42602694612802),\n",
       " (0.057, 24.925158071348083, 43628.34749359313),\n",
       " (187.0, 48.224165136435786, 74.21167639762793),\n",
       " (0.125, 26.51605007193362, 21112.840057546895),\n",
       " (100.0, 66.00444723187256, 33.99555276812744),\n",
       " (1.7, 11.983176990440118, 604.8927641435364),\n",
       " (4.623, 25.960362265151506, 461.54796160829557),\n",
       " (35.0, 36.45103272294372, 4.145807779839207),\n",
       " (0.253, 4.084787110982072, 1514.540360071965),\n",
       " (0.027999999999999997, 32.69953478019841, 116684.05278642291),\n",
       " (35.0, 52.42600412238095, 49.78858320680272),\n",
       " (25.0, 34.41322044698413, 37.65288178793651),\n",
       " (0.446, 0.5541077428174603, 24.239404219161507),\n",
       " (0.39, 15.669695030002542, 3917.8705205134715),\n",
       " (0.005, 1.4325969090981259, 28551.93818196252),\n",
       " (22.0, 47.45391148686868, 115.6995976675849),\n",
       " (0.022000000000000002, 13.400035330678213, 60809.25150308278),\n",
       " (0.023, 20.238416578643577, 87893.1155593199),\n",
       " (3.2, 27.246684078427137, 751.458877450848),\n",
       " (333.0, 56.79746089220781, 82.94370543777544),\n",
       " (0.016, 43.00373042492063, 268673.315155754),\n",
       " (9.054, 134.03705924134204, 1380.4181493410872),\n",
       " (36.0, 71.15157927305195, 97.64327575847764),\n",
       " (27.0, 29.967075786075032, 10.989169578055673),\n",
       " (50.0, 55.76399729122658, 11.52799458245316),\n",
       " (10.0, 47.52143313353174, 375.21433133531735),\n",
       " (196.0, 206.14308563304468, 5.175043690328917),\n",
       " (63.5, 14.528183588217349, 77.12097072721679),\n",
       " (0.662, 19.74541332720058, 2882.6908349245587),\n",
       " (136.0, 56.010581723498746, 58.81574873272151)]"
      ]
     },
     "execution_count": 33,
     "metadata": {},
     "output_type": "execute_result"
    }
   ],
   "source": [
    "list(zip(y_test, y_pred, ape))"
   ]
  },
  {
   "cell_type": "code",
   "execution_count": 35,
   "id": "alike-timber",
   "metadata": {},
   "outputs": [],
   "source": [
    "param_grid = {\n",
    "    'C':[0.001,0.01,0.1,1,10,100,1000],\n",
    "    'kernel':['rbf','poly','sigmoid','linear'],\n",
    "    'degree':[1,2,3,4,5,6],\n",
    "    'gamma': [10, 1, 0.1, 0.01, 0.001, 0.0001]\n",
    "}\n",
    "svr = SVR()\n",
    "# Instantiate the grid search model\n",
    "grid_search = GridSearchCV(estimator = svr, param_grid = param_grid, \n",
    "                          cv = 5, n_jobs = -1, verbose = 2, scoring=mape_scorer)"
   ]
  },
  {
   "cell_type": "code",
   "execution_count": 36,
   "id": "portuguese-translator",
   "metadata": {
    "scrolled": false
   },
   "outputs": [
    {
     "name": "stdout",
     "output_type": "stream",
     "text": [
      "Fitting 5 folds for each of 1008 candidates, totalling 5040 fits\n"
     ]
    },
    {
     "name": "stderr",
     "output_type": "stream",
     "text": [
      "[Parallel(n_jobs=-1)]: Using backend LokyBackend with 12 concurrent workers.\n",
      "[Parallel(n_jobs=-1)]: Done  17 tasks      | elapsed:    2.2s\n",
      "[Parallel(n_jobs=-1)]: Done 204 tasks      | elapsed:    3.5s\n",
      "[Parallel(n_jobs=-1)]: Done 610 tasks      | elapsed:    5.7s\n",
      "[Parallel(n_jobs=-1)]: Done 1176 tasks      | elapsed:    8.6s\n",
      "[Parallel(n_jobs=-1)]: Done 1906 tasks      | elapsed:   12.7s\n",
      "[Parallel(n_jobs=-1)]: Done 2796 tasks      | elapsed:   18.1s\n",
      "[Parallel(n_jobs=-1)]: Done 3850 tasks      | elapsed:   24.8s\n",
      "[Parallel(n_jobs=-1)]: Done 5040 out of 5040 | elapsed:   36.1s finished\n"
     ]
    },
    {
     "data": {
      "text/plain": [
       "GridSearchCV(cv=5, estimator=SVR(), n_jobs=-1,\n",
       "             param_grid={'C': [0.001, 0.01, 0.1, 1, 10, 100, 1000],\n",
       "                         'degree': [1, 2, 3, 4, 5, 6],\n",
       "                         'gamma': [10, 1, 0.1, 0.01, 0.001, 0.0001],\n",
       "                         'kernel': ['rbf', 'poly', 'sigmoid', 'linear']},\n",
       "             scoring=make_scorer(mean_absolute_percentage_error, greater_is_better=False),\n",
       "             verbose=2)"
      ]
     },
     "execution_count": 36,
     "metadata": {},
     "output_type": "execute_result"
    }
   ],
   "source": [
    "grid_search.fit(X_train, y_train)"
   ]
  },
  {
   "cell_type": "code",
   "execution_count": 37,
   "id": "looking-surface",
   "metadata": {},
   "outputs": [
    {
     "data": {
      "text/plain": [
       "{'C': 10, 'degree': 1, 'gamma': 1, 'kernel': 'rbf'}"
      ]
     },
     "execution_count": 37,
     "metadata": {},
     "output_type": "execute_result"
    }
   ],
   "source": [
    "grid_search.best_params_"
   ]
  },
  {
   "cell_type": "code",
   "execution_count": 38,
   "id": "relevant-bundle",
   "metadata": {},
   "outputs": [],
   "source": [
    "best_grid = grid_search.best_estimator_"
   ]
  },
  {
   "cell_type": "code",
   "execution_count": 39,
   "id": "external-penny",
   "metadata": {},
   "outputs": [],
   "source": [
    "y_pred = best_grid.predict(X_test)"
   ]
  },
  {
   "cell_type": "code",
   "execution_count": 40,
   "id": "prime-contamination",
   "metadata": {},
   "outputs": [
    {
     "data": {
      "text/plain": [
       "2074026.1243741622"
      ]
     },
     "execution_count": 40,
     "metadata": {},
     "output_type": "execute_result"
    }
   ],
   "source": [
    "mean_absolute_percentage_error(y_test, y_pred)"
   ]
  },
  {
   "cell_type": "code",
   "execution_count": 41,
   "id": "average-renewal",
   "metadata": {},
   "outputs": [],
   "source": [
    "from scipy.stats import pearsonr"
   ]
  },
  {
   "cell_type": "code",
   "execution_count": 42,
   "id": "complex-flight",
   "metadata": {},
   "outputs": [
    {
     "data": {
      "text/plain": [
       "(0.4311805449345907, 7.614421999300924e-08)"
      ]
     },
     "execution_count": 42,
     "metadata": {},
     "output_type": "execute_result"
    }
   ],
   "source": [
    "pearsonr(y_test, y_pred)"
   ]
  },
  {
   "cell_type": "code",
   "execution_count": 21,
   "id": "normal-stake",
   "metadata": {},
   "outputs": [],
   "source": [
    "ape = 100*np.abs(y_test-y_pred)/y_test"
   ]
  },
  {
   "cell_type": "code",
   "execution_count": 45,
   "id": "sonic-communist",
   "metadata": {
    "scrolled": true
   },
   "outputs": [
    {
     "data": {
      "text/plain": [
       "array([[1.        , 0.43118054],\n",
       "       [0.43118054, 1.        ]])"
      ]
     },
     "execution_count": 45,
     "metadata": {},
     "output_type": "execute_result"
    }
   ],
   "source": [
    "np.corrcoef(y_test, y_pred)"
   ]
  },
  {
   "cell_type": "code",
   "execution_count": null,
   "id": "united-ethnic",
   "metadata": {},
   "outputs": [],
   "source": []
  }
 ],
 "metadata": {
  "kernelspec": {
   "display_name": "Python 3",
   "language": "python",
   "name": "python3"
  },
  "language_info": {
   "codemirror_mode": {
    "name": "ipython",
    "version": 3
   },
   "file_extension": ".py",
   "mimetype": "text/x-python",
   "name": "python",
   "nbconvert_exporter": "python",
   "pygments_lexer": "ipython3",
   "version": "3.6.10"
  }
 },
 "nbformat": 4,
 "nbformat_minor": 5
}
