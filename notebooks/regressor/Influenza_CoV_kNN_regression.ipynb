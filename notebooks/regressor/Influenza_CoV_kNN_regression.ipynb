{
 "cells": [
  {
   "cell_type": "code",
   "execution_count": 1,
   "id": "union-fountain",
   "metadata": {
    "ExecuteTime": {
     "end_time": "2021-05-10T14:53:44.973293Z",
     "start_time": "2021-05-10T14:53:44.968977Z"
    }
   },
   "outputs": [
    {
     "name": "stdout",
     "output_type": "stream",
     "text": [
      "/Users/in-divye.singh/Documents/Projects/cd_hit_py\n"
     ]
    }
   ],
   "source": [
    "cd ../../../cd_hit_py/"
   ]
  },
  {
   "cell_type": "code",
   "execution_count": 2,
   "id": "joined-tracy",
   "metadata": {
    "ExecuteTime": {
     "end_time": "2021-05-10T14:53:45.666510Z",
     "start_time": "2021-05-10T14:53:45.449851Z"
    }
   },
   "outputs": [],
   "source": [
    "from cd_hit import CD_HIT"
   ]
  },
  {
   "cell_type": "code",
   "execution_count": 3,
   "id": "hairy-perfume",
   "metadata": {
    "ExecuteTime": {
     "end_time": "2021-05-10T14:53:45.846753Z",
     "start_time": "2021-05-10T14:53:45.842638Z"
    }
   },
   "outputs": [
    {
     "name": "stdout",
     "output_type": "stream",
     "text": [
      "/Users/in-divye.singh/Documents/Projects/MIC_predictor/src\n"
     ]
    }
   ],
   "source": [
    "cd ../MIC_predictor/src/"
   ]
  },
  {
   "cell_type": "code",
   "execution_count": 4,
   "id": "elect-degree",
   "metadata": {
    "ExecuteTime": {
     "end_time": "2021-05-10T14:53:46.543933Z",
     "start_time": "2021-05-10T14:53:45.940107Z"
    }
   },
   "outputs": [],
   "source": [
    "import biovec\n",
    "import numpy as np\n",
    "import pandas as pd\n",
    "from itertools import chain, combinations\n",
    "from collections import Counter\n",
    "\n",
    "from utils import *\n",
    "\n",
    "from sklearn.svm import SVR\n",
    "from sklearn.neighbors import KNeighborsRegressor\n",
    "from sklearn.metrics import make_scorer\n",
    "from sklearn.model_selection import GridSearchCV\n",
    "from sklearn.metrics import mean_squared_error, mean_absolute_error\n",
    "from sklearn.model_selection import train_test_split\n",
    "\n",
    "from Bio.SeqUtils.ProtParam import ProteinAnalysis"
   ]
  },
  {
   "cell_type": "code",
   "execution_count": 5,
   "id": "rural-defeat",
   "metadata": {
    "ExecuteTime": {
     "end_time": "2021-05-10T14:53:46.572199Z",
     "start_time": "2021-05-10T14:53:46.568158Z"
    }
   },
   "outputs": [],
   "source": [
    "def mean_absolute_percentage_error(y_true, y_pred): \n",
    "    y_true, y_pred = np.array(y_true), np.array(y_pred)\n",
    "    return np.mean(np.abs((y_true - y_pred) / y_true)) * 100\n",
    "\n",
    "mape_scorer = make_scorer(mean_absolute_percentage_error, greater_is_better=False)"
   ]
  },
  {
   "cell_type": "code",
   "execution_count": 6,
   "id": "passing-telephone",
   "metadata": {
    "ExecuteTime": {
     "end_time": "2021-05-10T14:53:46.605818Z",
     "start_time": "2021-05-10T14:53:46.602351Z"
    }
   },
   "outputs": [],
   "source": [
    "def pearson_score(y_true, y_pred):\n",
    "    pcc = pearsonr(y_true, y_pred)\n",
    "    return pcc[0]\n",
    "\n",
    "pcc_scorer = make_scorer(pearson_score)"
   ]
  },
  {
   "cell_type": "code",
   "execution_count": 7,
   "id": "commercial-agency",
   "metadata": {
    "ExecuteTime": {
     "end_time": "2021-05-10T14:53:46.911610Z",
     "start_time": "2021-05-10T14:53:46.900916Z"
    }
   },
   "outputs": [],
   "source": [
    "avp_ic50 = pd.read_csv(\"../data/raw/AVP-IC50Pred_train.csv\")\n",
    "ha_avp = pd.read_csv(\"../data/raw/HA_AVP.csv\")"
   ]
  },
  {
   "cell_type": "code",
   "execution_count": 8,
   "id": "acute-effectiveness",
   "metadata": {
    "ExecuteTime": {
     "end_time": "2021-05-10T14:53:48.397823Z",
     "start_time": "2021-05-10T14:53:48.357568Z"
    }
   },
   "outputs": [],
   "source": [
    "df = pd.concat([avp_ic50[['Sequence','MIC']], ha_avp], axis=0).drop_duplicates(['Sequence']).reset_index(drop=True)\n",
    "df = sequence_filtering(df)"
   ]
  },
  {
   "cell_type": "code",
   "execution_count": 9,
   "id": "possible-petite",
   "metadata": {
    "ExecuteTime": {
     "end_time": "2021-05-10T14:53:48.789964Z",
     "start_time": "2021-05-10T14:53:48.785078Z"
    }
   },
   "outputs": [],
   "source": [
    "df['pIC50'] = df['MIC'].apply(lambda x: -np.log(x*1e-6))"
   ]
  },
  {
   "cell_type": "code",
   "execution_count": 10,
   "id": "tamil-liver",
   "metadata": {
    "ExecuteTime": {
     "end_time": "2021-05-10T14:53:48.925010Z",
     "start_time": "2021-05-10T14:53:48.917490Z"
    }
   },
   "outputs": [],
   "source": [
    "family = pd.read_csv(\"../data/raw/712pep_family.csv\")"
   ]
  },
  {
   "cell_type": "code",
   "execution_count": 11,
   "id": "textile-score",
   "metadata": {
    "ExecuteTime": {
     "end_time": "2021-05-10T14:53:49.291104Z",
     "start_time": "2021-05-10T14:53:49.280835Z"
    }
   },
   "outputs": [
    {
     "data": {
      "text/plain": [
       "array(['INFV A', 'AIV', 'INFV B'], dtype=object)"
      ]
     },
     "execution_count": 11,
     "metadata": {},
     "output_type": "execute_result"
    }
   ],
   "source": [
    "family[family['Family']=='Orthomyxoviridae']['Abbreviation'].unique()"
   ]
  },
  {
   "cell_type": "code",
   "execution_count": 43,
   "id": "stupid-leather",
   "metadata": {
    "ExecuteTime": {
     "end_time": "2021-05-11T05:59:00.177203Z",
     "start_time": "2021-05-11T05:59:00.171144Z"
    }
   },
   "outputs": [],
   "source": [
    "infv_cov_seq = family[(family['Abbreviation'] == 'SARS-CoV') | (family['Family'] == 'Orthomyxoviridae')] #(family['Abbreviation'] == 'SARS-CoV') |\n",
    "infv_cov_seq = infv_cov_seq.reset_index(drop=True)"
   ]
  },
  {
   "cell_type": "code",
   "execution_count": 44,
   "id": "disturbed-second",
   "metadata": {
    "ExecuteTime": {
     "end_time": "2021-05-11T05:59:01.325065Z",
     "start_time": "2021-05-11T05:59:01.313348Z"
    },
    "scrolled": true
   },
   "outputs": [
    {
     "data": {
      "text/html": [
       "<div>\n",
       "<style scoped>\n",
       "    .dataframe tbody tr th:only-of-type {\n",
       "        vertical-align: middle;\n",
       "    }\n",
       "\n",
       "    .dataframe tbody tr th {\n",
       "        vertical-align: top;\n",
       "    }\n",
       "\n",
       "    .dataframe thead th {\n",
       "        text-align: right;\n",
       "    }\n",
       "</style>\n",
       "<table border=\"1\" class=\"dataframe\">\n",
       "  <thead>\n",
       "    <tr style=\"text-align: right;\">\n",
       "      <th></th>\n",
       "      <th>Sequence</th>\n",
       "      <th>Abbreviation</th>\n",
       "      <th>Family</th>\n",
       "    </tr>\n",
       "  </thead>\n",
       "  <tbody>\n",
       "    <tr>\n",
       "      <th>0</th>\n",
       "      <td>SNNTIAIPTNFSISITTEVM</td>\n",
       "      <td>SARS-CoV</td>\n",
       "      <td>Coronaviridae</td>\n",
       "    </tr>\n",
       "    <tr>\n",
       "      <th>1</th>\n",
       "      <td>FKLPLGINITNFRAILTAFS</td>\n",
       "      <td>SARS-CoV</td>\n",
       "      <td>Coronaviridae</td>\n",
       "    </tr>\n",
       "    <tr>\n",
       "      <th>2</th>\n",
       "      <td>VLYNSTFFSTFKCYGVSATK</td>\n",
       "      <td>SARS-CoV</td>\n",
       "      <td>Coronaviridae</td>\n",
       "    </tr>\n",
       "    <tr>\n",
       "      <th>3</th>\n",
       "      <td>GIGVTQNVLYENQKQIANQF</td>\n",
       "      <td>SARS-CoV</td>\n",
       "      <td>Coronaviridae</td>\n",
       "    </tr>\n",
       "    <tr>\n",
       "      <th>4</th>\n",
       "      <td>PALNCYWPLNDYGFYTTSGI</td>\n",
       "      <td>SARS-CoV</td>\n",
       "      <td>Coronaviridae</td>\n",
       "    </tr>\n",
       "    <tr>\n",
       "      <th>...</th>\n",
       "      <td>...</td>\n",
       "      <td>...</td>\n",
       "      <td>...</td>\n",
       "    </tr>\n",
       "    <tr>\n",
       "      <th>62</th>\n",
       "      <td>MDVNPWLLFLKVPAQ</td>\n",
       "      <td>INFV A</td>\n",
       "      <td>Orthomyxoviridae</td>\n",
       "    </tr>\n",
       "    <tr>\n",
       "      <th>63</th>\n",
       "      <td>WLVFFVIAYFAR</td>\n",
       "      <td>INFV A</td>\n",
       "      <td>Orthomyxoviridae</td>\n",
       "    </tr>\n",
       "    <tr>\n",
       "      <th>64</th>\n",
       "      <td>WLVFFVIFYFFRRRKK</td>\n",
       "      <td>INFV A</td>\n",
       "      <td>Orthomyxoviridae</td>\n",
       "    </tr>\n",
       "    <tr>\n",
       "      <th>65</th>\n",
       "      <td>RRKKWLVFFVIFYFFR</td>\n",
       "      <td>INFV A</td>\n",
       "      <td>Orthomyxoviridae</td>\n",
       "    </tr>\n",
       "    <tr>\n",
       "      <th>66</th>\n",
       "      <td>AGDDQGLDKCVPNSKEK</td>\n",
       "      <td>INFV A</td>\n",
       "      <td>Orthomyxoviridae</td>\n",
       "    </tr>\n",
       "  </tbody>\n",
       "</table>\n",
       "<p>67 rows × 3 columns</p>\n",
       "</div>"
      ],
      "text/plain": [
       "                Sequence Abbreviation            Family\n",
       "0   SNNTIAIPTNFSISITTEVM     SARS-CoV     Coronaviridae\n",
       "1   FKLPLGINITNFRAILTAFS     SARS-CoV     Coronaviridae\n",
       "2   VLYNSTFFSTFKCYGVSATK     SARS-CoV     Coronaviridae\n",
       "3   GIGVTQNVLYENQKQIANQF     SARS-CoV     Coronaviridae\n",
       "4   PALNCYWPLNDYGFYTTSGI     SARS-CoV     Coronaviridae\n",
       "..                   ...          ...               ...\n",
       "62       MDVNPWLLFLKVPAQ       INFV A  Orthomyxoviridae\n",
       "63          WLVFFVIAYFAR       INFV A  Orthomyxoviridae\n",
       "64      WLVFFVIFYFFRRRKK       INFV A  Orthomyxoviridae\n",
       "65      RRKKWLVFFVIFYFFR       INFV A  Orthomyxoviridae\n",
       "66     AGDDQGLDKCVPNSKEK       INFV A  Orthomyxoviridae\n",
       "\n",
       "[67 rows x 3 columns]"
      ]
     },
     "execution_count": 44,
     "metadata": {},
     "output_type": "execute_result"
    }
   ],
   "source": [
    "infv_cov_seq"
   ]
  },
  {
   "cell_type": "code",
   "execution_count": 45,
   "id": "executed-portrait",
   "metadata": {
    "ExecuteTime": {
     "end_time": "2021-05-11T05:59:05.462487Z",
     "start_time": "2021-05-11T05:59:05.453075Z"
    }
   },
   "outputs": [],
   "source": [
    "df_infv_cov = df.merge(infv_cov_seq,how='right',on='Sequence').reset_index(drop=True)"
   ]
  },
  {
   "cell_type": "code",
   "execution_count": 46,
   "id": "tight-noise",
   "metadata": {
    "ExecuteTime": {
     "end_time": "2021-05-11T05:59:06.133109Z",
     "start_time": "2021-05-11T05:59:06.118815Z"
    },
    "scrolled": true
   },
   "outputs": [
    {
     "data": {
      "text/html": [
       "<div>\n",
       "<style scoped>\n",
       "    .dataframe tbody tr th:only-of-type {\n",
       "        vertical-align: middle;\n",
       "    }\n",
       "\n",
       "    .dataframe tbody tr th {\n",
       "        vertical-align: top;\n",
       "    }\n",
       "\n",
       "    .dataframe thead th {\n",
       "        text-align: right;\n",
       "    }\n",
       "</style>\n",
       "<table border=\"1\" class=\"dataframe\">\n",
       "  <thead>\n",
       "    <tr style=\"text-align: right;\">\n",
       "      <th></th>\n",
       "      <th>Sequence</th>\n",
       "      <th>MIC</th>\n",
       "      <th>pIC50</th>\n",
       "      <th>Abbreviation</th>\n",
       "      <th>Family</th>\n",
       "    </tr>\n",
       "  </thead>\n",
       "  <tbody>\n",
       "    <tr>\n",
       "      <th>0</th>\n",
       "      <td>SNNTIAIPTNFSISITTEVM</td>\n",
       "      <td>278.801000</td>\n",
       "      <td>8.185012</td>\n",
       "      <td>SARS-CoV</td>\n",
       "      <td>Coronaviridae</td>\n",
       "    </tr>\n",
       "    <tr>\n",
       "      <th>1</th>\n",
       "      <td>FKLPLGINITNFRAILTAFS</td>\n",
       "      <td>266.434000</td>\n",
       "      <td>8.230384</td>\n",
       "      <td>SARS-CoV</td>\n",
       "      <td>Coronaviridae</td>\n",
       "    </tr>\n",
       "    <tr>\n",
       "      <th>2</th>\n",
       "      <td>VLYNSTFFSTFKCYGVSATK</td>\n",
       "      <td>262.667000</td>\n",
       "      <td>8.244623</td>\n",
       "      <td>SARS-CoV</td>\n",
       "      <td>Coronaviridae</td>\n",
       "    </tr>\n",
       "    <tr>\n",
       "      <th>3</th>\n",
       "      <td>GIGVTQNVLYENQKQIANQF</td>\n",
       "      <td>262.539000</td>\n",
       "      <td>8.245111</td>\n",
       "      <td>SARS-CoV</td>\n",
       "      <td>Coronaviridae</td>\n",
       "    </tr>\n",
       "    <tr>\n",
       "      <th>4</th>\n",
       "      <td>PALNCYWPLNDYGFYTTSGI</td>\n",
       "      <td>258.330000</td>\n",
       "      <td>8.261273</td>\n",
       "      <td>SARS-CoV</td>\n",
       "      <td>Coronaviridae</td>\n",
       "    </tr>\n",
       "    <tr>\n",
       "      <th>...</th>\n",
       "      <td>...</td>\n",
       "      <td>...</td>\n",
       "      <td>...</td>\n",
       "      <td>...</td>\n",
       "      <td>...</td>\n",
       "    </tr>\n",
       "    <tr>\n",
       "      <th>62</th>\n",
       "      <td>RRKKWLVFFVIFYFFR</td>\n",
       "      <td>0.000040</td>\n",
       "      <td>23.942142</td>\n",
       "      <td>INFV A</td>\n",
       "      <td>Orthomyxoviridae</td>\n",
       "    </tr>\n",
       "    <tr>\n",
       "      <th>63</th>\n",
       "      <td>AGDDQGLDKCVPNSKEK</td>\n",
       "      <td>0.000004</td>\n",
       "      <td>26.322688</td>\n",
       "      <td>INFV A</td>\n",
       "      <td>Orthomyxoviridae</td>\n",
       "    </tr>\n",
       "    <tr>\n",
       "      <th>64</th>\n",
       "      <td>QKQIANQFNKAISQIQESLTTTSTALGKLQDVVNQNAQALNTLVKQ</td>\n",
       "      <td>3.970000</td>\n",
       "      <td>12.436744</td>\n",
       "      <td>SARS-CoV</td>\n",
       "      <td>Coronaviridae</td>\n",
       "    </tr>\n",
       "    <tr>\n",
       "      <th>65</th>\n",
       "      <td>QNQSANQFQKEISQINEVLTTTNTSLGKLQDDVNQNNQSLNTLQKE</td>\n",
       "      <td>5.070000</td>\n",
       "      <td>12.192170</td>\n",
       "      <td>SARS-CoV</td>\n",
       "      <td>Coronaviridae</td>\n",
       "    </tr>\n",
       "    <tr>\n",
       "      <th>66</th>\n",
       "      <td>PKEELDKYFKNHTSPDVDLGDISGINASVVNIQKEIDRLNEVAKNL...</td>\n",
       "      <td>24.000000</td>\n",
       "      <td>10.637457</td>\n",
       "      <td>SARS-CoV</td>\n",
       "      <td>Coronaviridae</td>\n",
       "    </tr>\n",
       "  </tbody>\n",
       "</table>\n",
       "<p>67 rows × 5 columns</p>\n",
       "</div>"
      ],
      "text/plain": [
       "                                             Sequence         MIC      pIC50  \\\n",
       "0                                SNNTIAIPTNFSISITTEVM  278.801000   8.185012   \n",
       "1                                FKLPLGINITNFRAILTAFS  266.434000   8.230384   \n",
       "2                                VLYNSTFFSTFKCYGVSATK  262.667000   8.244623   \n",
       "3                                GIGVTQNVLYENQKQIANQF  262.539000   8.245111   \n",
       "4                                PALNCYWPLNDYGFYTTSGI  258.330000   8.261273   \n",
       "..                                                ...         ...        ...   \n",
       "62                                   RRKKWLVFFVIFYFFR    0.000040  23.942142   \n",
       "63                                  AGDDQGLDKCVPNSKEK    0.000004  26.322688   \n",
       "64     QKQIANQFNKAISQIQESLTTTSTALGKLQDVVNQNAQALNTLVKQ    3.970000  12.436744   \n",
       "65     QNQSANQFQKEISQINEVLTTTNTSLGKLQDDVNQNNQSLNTLQKE    5.070000  12.192170   \n",
       "66  PKEELDKYFKNHTSPDVDLGDISGINASVVNIQKEIDRLNEVAKNL...   24.000000  10.637457   \n",
       "\n",
       "   Abbreviation            Family  \n",
       "0      SARS-CoV     Coronaviridae  \n",
       "1      SARS-CoV     Coronaviridae  \n",
       "2      SARS-CoV     Coronaviridae  \n",
       "3      SARS-CoV     Coronaviridae  \n",
       "4      SARS-CoV     Coronaviridae  \n",
       "..          ...               ...  \n",
       "62       INFV A  Orthomyxoviridae  \n",
       "63       INFV A  Orthomyxoviridae  \n",
       "64     SARS-CoV     Coronaviridae  \n",
       "65     SARS-CoV     Coronaviridae  \n",
       "66     SARS-CoV     Coronaviridae  \n",
       "\n",
       "[67 rows x 5 columns]"
      ]
     },
     "execution_count": 46,
     "metadata": {},
     "output_type": "execute_result"
    }
   ],
   "source": [
    "df_infv_cov#.to_csv(\"../data/raw/infv_cov_data.csv\", index=False)"
   ]
  },
  {
   "cell_type": "code",
   "execution_count": 47,
   "id": "hungarian-membership",
   "metadata": {
    "ExecuteTime": {
     "end_time": "2021-05-11T05:59:10.111422Z",
     "start_time": "2021-05-11T05:59:10.105982Z"
    }
   },
   "outputs": [],
   "source": [
    "def get_physicochemical_properties(df):\n",
    "    params = ['aromaticity', 'helix', 'turn', 'sheet', 'gravy', 'net_charge_at_pH7point4']\n",
    "\n",
    "    prop = []\n",
    "    for seq in df.Sequence:\n",
    "        X = ProteinAnalysis(seq)\n",
    "        aromaticity = X.aromaticity()\n",
    "        sec_struc = X.secondary_structure_fraction()\n",
    "        helix = sec_struc[0]\n",
    "        turn = sec_struc[1]\n",
    "        sheet = sec_struc[2]\n",
    "        gravy = X.gravy() # hydrophobicity related\n",
    "        net_charge_at_pH7point4 = X.charge_at_pH(7.4)\n",
    "\n",
    "        prop.append([aromaticity, helix, turn, sheet, gravy, net_charge_at_pH7point4])\n",
    "    return pd.DataFrame(prop, columns=params)"
   ]
  },
  {
   "cell_type": "code",
   "execution_count": 48,
   "id": "confident-receptor",
   "metadata": {
    "ExecuteTime": {
     "end_time": "2021-05-11T05:59:10.849077Z",
     "start_time": "2021-05-11T05:59:10.838428Z"
    }
   },
   "outputs": [],
   "source": [
    "aa_freq = reduce_by_kmer_frequency(df_infv_cov)"
   ]
  },
  {
   "cell_type": "code",
   "execution_count": 49,
   "id": "advisory-canadian",
   "metadata": {
    "ExecuteTime": {
     "end_time": "2021-05-11T05:59:11.647851Z",
     "start_time": "2021-05-11T05:59:11.395398Z"
    }
   },
   "outputs": [
    {
     "name": "stderr",
     "output_type": "stream",
     "text": [
      "/Users/in-divye.singh/anaconda3/envs/life-science/lib/python3.6/site-packages/smart_open/smart_open_lib.py:254: UserWarning: This function is deprecated, use smart_open.open instead. See the migration notes for details: https://github.com/RaRe-Technologies/smart_open/blob/master/README.rst#migrating-to-the-new-open-function\n",
      "  'See the migration notes for details: %s' % _MIGRATION_NOTES_URL\n",
      "Creating vectors: 100%|██████████| 67/67 [00:00<00:00, 988.54sequence/s]\n"
     ]
    }
   ],
   "source": [
    "uniprot_embedding = biovec.models.load_protvec(\"../data/embeddings/uniprot__kmer_3_contextWindow_10_vector_100_reduction_None\")\n",
    "\n",
    "avg_protvec = convert_sequences_to_avg_vectors(df_infv_cov['Sequence'], uniprot_embedding, kmer=3)\n",
    "avg_protvec = avg_protvec.reset_index(drop=True)"
   ]
  },
  {
   "cell_type": "code",
   "execution_count": 50,
   "id": "tender-length",
   "metadata": {
    "ExecuteTime": {
     "end_time": "2021-05-11T05:59:14.925799Z",
     "start_time": "2021-05-11T05:59:14.917979Z"
    }
   },
   "outputs": [],
   "source": [
    "physicochemical_prop = get_physicochemical_properties(df_infv_cov)"
   ]
  },
  {
   "cell_type": "code",
   "execution_count": 51,
   "id": "relevant-mission",
   "metadata": {
    "ExecuteTime": {
     "end_time": "2021-05-11T05:59:15.408327Z",
     "start_time": "2021-05-11T05:59:15.402983Z"
    }
   },
   "outputs": [],
   "source": [
    "X = pd.concat([aa_freq, avg_protvec, physicochemical_prop[['helix','turn','sheet']]], axis=1)"
   ]
  },
  {
   "cell_type": "code",
   "execution_count": 52,
   "id": "double-mentor",
   "metadata": {
    "ExecuteTime": {
     "end_time": "2021-05-11T05:59:17.332100Z",
     "start_time": "2021-05-11T05:59:17.328235Z"
    }
   },
   "outputs": [],
   "source": [
    "y = df_infv_cov[['pIC50', 'MIC']]"
   ]
  },
  {
   "cell_type": "code",
   "execution_count": 53,
   "id": "exposed-devil",
   "metadata": {
    "ExecuteTime": {
     "end_time": "2021-05-11T05:59:17.875694Z",
     "start_time": "2021-05-11T05:59:17.868565Z"
    }
   },
   "outputs": [],
   "source": [
    "X_train, X_test, y_train, y_test = train_test_split(X, y, test_size=0.2, random_state=42)"
   ]
  },
  {
   "cell_type": "code",
   "execution_count": 54,
   "id": "understood-fitting",
   "metadata": {
    "ExecuteTime": {
     "end_time": "2021-05-11T05:59:18.409982Z",
     "start_time": "2021-05-11T05:59:18.407006Z"
    }
   },
   "outputs": [],
   "source": [
    "y_train_pmic, y_train_mic = y_train['pIC50'], y_train['MIC']\n",
    "y_test_pmic, y_test_mic = y_test['pIC50'], y_test['MIC']"
   ]
  },
  {
   "cell_type": "code",
   "execution_count": 55,
   "id": "spiritual-storm",
   "metadata": {
    "ExecuteTime": {
     "end_time": "2021-05-11T05:59:19.335255Z",
     "start_time": "2021-05-11T05:59:19.332665Z"
    }
   },
   "outputs": [],
   "source": [
    "from scipy.stats import pearsonr"
   ]
  },
  {
   "cell_type": "code",
   "execution_count": 56,
   "id": "technical-debut",
   "metadata": {
    "ExecuteTime": {
     "end_time": "2021-05-11T05:59:20.080088Z",
     "start_time": "2021-05-11T05:59:20.077255Z"
    }
   },
   "outputs": [],
   "source": [
    "from sklearn.model_selection import cross_val_score, GridSearchCV, LeaveOneOut"
   ]
  },
  {
   "cell_type": "code",
   "execution_count": 57,
   "id": "wireless-escape",
   "metadata": {
    "ExecuteTime": {
     "end_time": "2021-05-11T05:59:20.898568Z",
     "start_time": "2021-05-11T05:59:20.894972Z"
    }
   },
   "outputs": [],
   "source": [
    "def multi_objective_score(y_true, y_pred):\n",
    "    mape = mean_absolute_percentage_error(y_true, y_pred)\n",
    "    pcc = pearson_score(y_true, y_pred)\n",
    "    return mape - 10*pcc\n",
    "multi_objective_scorer = make_scorer(multi_objective_score, greater_is_better=False)"
   ]
  },
  {
   "cell_type": "code",
   "execution_count": 58,
   "id": "israeli-cancer",
   "metadata": {
    "ExecuteTime": {
     "end_time": "2021-05-11T05:59:32.344798Z",
     "start_time": "2021-05-11T05:59:32.339739Z"
    }
   },
   "outputs": [],
   "source": [
    "max_n_neighbors = int(np.sqrt(X_train.shape[0]))\n",
    "param_grid = {\n",
    "    'n_neighbors': range(1, max_n_neighbors),\n",
    "    'weights': ['uniform', 'distance'],\n",
    "    'metric': [\"euclidean\", \"manhattan\", \"chebyshev\"]\n",
    "}\n",
    "knn = KNeighborsRegressor()\n",
    "# Instantiate the grid search model\n",
    "grid_search = GridSearchCV(estimator = knn, param_grid = param_grid, \n",
    "                          cv = 5, n_jobs = -1, verbose = 2, scoring=mape_scorer)"
   ]
  },
  {
   "cell_type": "code",
   "execution_count": 59,
   "id": "adapted-slovenia",
   "metadata": {
    "ExecuteTime": {
     "end_time": "2021-05-11T05:59:40.417709Z",
     "start_time": "2021-05-11T05:59:33.343970Z"
    },
    "scrolled": false
   },
   "outputs": [
    {
     "name": "stdout",
     "output_type": "stream",
     "text": [
      "Fitting 5 folds for each of 36 candidates, totalling 180 fits\n"
     ]
    },
    {
     "name": "stderr",
     "output_type": "stream",
     "text": [
      "[Parallel(n_jobs=-1)]: Using backend LokyBackend with 12 concurrent workers.\n",
      "[Parallel(n_jobs=-1)]: Done  17 tasks      | elapsed:    6.7s\n",
      "[Parallel(n_jobs=-1)]: Done 180 out of 180 | elapsed:    7.1s finished\n"
     ]
    },
    {
     "data": {
      "text/plain": [
       "GridSearchCV(cv=5, estimator=KNeighborsRegressor(), n_jobs=-1,\n",
       "             param_grid={'metric': ['euclidean', 'manhattan', 'chebyshev'],\n",
       "                         'n_neighbors': range(1, 7),\n",
       "                         'weights': ['uniform', 'distance']},\n",
       "             scoring=make_scorer(mean_absolute_percentage_error, greater_is_better=False),\n",
       "             verbose=2)"
      ]
     },
     "execution_count": 59,
     "metadata": {},
     "output_type": "execute_result"
    }
   ],
   "source": [
    "grid_search.fit(X_train, y_train_pmic)"
   ]
  },
  {
   "cell_type": "code",
   "execution_count": 60,
   "id": "engaging-chile",
   "metadata": {
    "ExecuteTime": {
     "end_time": "2021-05-11T05:59:41.513321Z",
     "start_time": "2021-05-11T05:59:41.509162Z"
    }
   },
   "outputs": [
    {
     "data": {
      "text/plain": [
       "{'metric': 'chebyshev', 'n_neighbors': 6, 'weights': 'uniform'}"
      ]
     },
     "execution_count": 60,
     "metadata": {},
     "output_type": "execute_result"
    }
   ],
   "source": [
    "grid_search.best_params_"
   ]
  },
  {
   "cell_type": "code",
   "execution_count": 61,
   "id": "acoustic-webster",
   "metadata": {
    "ExecuteTime": {
     "end_time": "2021-05-11T05:59:42.301022Z",
     "start_time": "2021-05-11T05:59:42.298113Z"
    }
   },
   "outputs": [],
   "source": [
    "best_grid = grid_search.best_estimator_"
   ]
  },
  {
   "cell_type": "code",
   "execution_count": 62,
   "id": "organizational-reality",
   "metadata": {
    "ExecuteTime": {
     "end_time": "2021-05-11T05:59:43.029218Z",
     "start_time": "2021-05-11T05:59:43.022475Z"
    }
   },
   "outputs": [],
   "source": [
    "y_pred_pmic = best_grid.predict(X_test)"
   ]
  },
  {
   "cell_type": "code",
   "execution_count": 63,
   "id": "informed-distribution",
   "metadata": {
    "ExecuteTime": {
     "end_time": "2021-05-11T05:59:43.490101Z",
     "start_time": "2021-05-11T05:59:43.485921Z"
    }
   },
   "outputs": [
    {
     "data": {
      "text/plain": [
       "23.311526912917397"
      ]
     },
     "execution_count": 63,
     "metadata": {},
     "output_type": "execute_result"
    }
   ],
   "source": [
    "mean_absolute_percentage_error(y_test_pmic, y_pred_pmic)"
   ]
  },
  {
   "cell_type": "code",
   "execution_count": 64,
   "id": "fossil-offense",
   "metadata": {
    "ExecuteTime": {
     "end_time": "2021-05-11T05:59:44.129010Z",
     "start_time": "2021-05-11T05:59:44.126024Z"
    }
   },
   "outputs": [],
   "source": [
    "y_pred_mic = np.exp(-y_pred_pmic)/1e-6"
   ]
  },
  {
   "cell_type": "code",
   "execution_count": 65,
   "id": "unusual-leather",
   "metadata": {
    "ExecuteTime": {
     "end_time": "2021-05-11T05:59:46.211739Z",
     "start_time": "2021-05-11T05:59:46.207641Z"
    }
   },
   "outputs": [],
   "source": [
    "ape_mic = 100*np.abs(y_test_mic-y_pred_mic)/y_test_mic"
   ]
  },
  {
   "cell_type": "code",
   "execution_count": 66,
   "id": "formed-participant",
   "metadata": {
    "ExecuteTime": {
     "end_time": "2021-05-11T05:59:46.726119Z",
     "start_time": "2021-05-11T05:59:46.721623Z"
    }
   },
   "outputs": [
    {
     "data": {
      "text/plain": [
       "18432.05211276027"
      ]
     },
     "execution_count": 66,
     "metadata": {},
     "output_type": "execute_result"
    }
   ],
   "source": [
    "mean_absolute_percentage_error(y_test_mic, y_pred_mic)"
   ]
  },
  {
   "cell_type": "code",
   "execution_count": 67,
   "id": "spatial-upper",
   "metadata": {
    "ExecuteTime": {
     "end_time": "2021-05-11T05:59:50.438467Z",
     "start_time": "2021-05-11T05:59:50.432452Z"
    },
    "scrolled": true
   },
   "outputs": [
    {
     "data": {
      "text/plain": [
       "0.17508973148882"
      ]
     },
     "execution_count": 67,
     "metadata": {},
     "output_type": "execute_result"
    }
   ],
   "source": [
    "pearson_score(y_test_mic, y_pred_mic)"
   ]
  },
  {
   "cell_type": "code",
   "execution_count": 68,
   "id": "basic-pledge",
   "metadata": {
    "ExecuteTime": {
     "end_time": "2021-05-11T05:59:51.544252Z",
     "start_time": "2021-05-11T05:59:51.538583Z"
    }
   },
   "outputs": [
    {
     "data": {
      "text/plain": [
       "[(0.899, 0.1492, 83.40214577763336),\n",
       " (41.6, 3.3878, 91.85632326529041),\n",
       " (258.33, 5.126, 98.0157218342734),\n",
       " (66.0, 11.6121, 82.40592058067952),\n",
       " (0.138, 0.0806, 41.60159177919896),\n",
       " (0.62, 0.2794, 54.94321171380423),\n",
       " (0.0, 0.0765, 254851.86075615647),\n",
       " (160.0, 5.3688, 96.64447197245744),\n",
       " (3.97, 7.5471, 90.1029598094794),\n",
       " (53.0, 20.283, 61.730168473226804),\n",
       " (3.0, 0.1905, 93.6509751985317),\n",
       " (0.003, 0.0692, 2205.1911357936688),\n",
       " (3.0, 0.0564, 98.11871156001449),\n",
       " (278.801, 2.2151, 99.20548472898899)]"
      ]
     },
     "execution_count": 68,
     "metadata": {},
     "output_type": "execute_result"
    }
   ],
   "source": [
    "list(zip(y_test_mic.round(4), y_pred_mic.round(4), ape_mic))"
   ]
  },
  {
   "cell_type": "code",
   "execution_count": 69,
   "id": "secure-airline",
   "metadata": {
    "ExecuteTime": {
     "end_time": "2021-05-11T05:59:55.951886Z",
     "start_time": "2021-05-11T05:59:55.293662Z"
    }
   },
   "outputs": [
    {
     "name": "stderr",
     "output_type": "stream",
     "text": [
      "67it [00:00, 104.43it/s]\n"
     ]
    }
   ],
   "source": [
    "loo = LeaveOneOut()\n",
    "\n",
    "from tqdm import tqdm\n",
    "\n",
    "result_df = pd.DataFrame(columns = list(df_infv_cov.columns)+[\"y_pred_pmic\", \"y_pred_mic\", \"ape_pmic\", \"ape_mic\"])\n",
    "for train_index, test_index in tqdm(loo.split(X)):\n",
    "    X_train, X_test = X.iloc[train_index,:], X.iloc[test_index,:]\n",
    "    y_train, y_test = y.iloc[train_index], y.iloc[test_index]\n",
    "    y_train_pmic, y_train_mic = y_train['pIC50'], y_train['MIC']\n",
    "    y_test_pmic, y_test_mic = y_test['pIC50'], y_test['MIC']\n",
    "    knn = KNeighborsRegressor(**grid_search.best_params_)\n",
    "    _ = knn.fit(X_train, y_train_pmic)\n",
    "    y_pred_pmic = knn.predict(X_test)\n",
    "    y_pred_mic = np.exp(-y_pred_pmic)/1e-6\n",
    "    ape = 100*np.abs(y_test_pmic-y_pred_pmic)/y_test_pmic\n",
    "    ape_mic = 100*np.abs(y_test_mic-y_pred_mic)/y_test_mic\n",
    "    df_val = df_infv_cov.iloc[test_index,:].values[0].tolist()\n",
    "    res = np.append(df_val, [y_pred_pmic[0], y_pred_mic[0], ape.values[0], ape_mic.values[0]])\n",
    "    res = pd.DataFrame([res], columns = list(df_infv_cov.columns)+[\"y_pred_pmic\", \"y_pred_mic\", \"ape_pmic\", \"ape_mic\"])\n",
    "    result_df = result_df.append(res)\n",
    "result_df = result_df[[\"Sequence\", \"pIC50\", \"y_pred_pmic\", \"ape_pmic\", \"MIC\", \"y_pred_mic\", \"ape_mic\"]]"
   ]
  },
  {
   "cell_type": "code",
   "execution_count": 75,
   "id": "minus-comparison",
   "metadata": {
    "ExecuteTime": {
     "end_time": "2021-05-11T07:14:16.900997Z",
     "start_time": "2021-05-11T07:14:16.885853Z"
    }
   },
   "outputs": [
    {
     "data": {
      "text/html": [
       "<div>\n",
       "<style scoped>\n",
       "    .dataframe tbody tr th:only-of-type {\n",
       "        vertical-align: middle;\n",
       "    }\n",
       "\n",
       "    .dataframe tbody tr th {\n",
       "        vertical-align: top;\n",
       "    }\n",
       "\n",
       "    .dataframe thead th {\n",
       "        text-align: right;\n",
       "    }\n",
       "</style>\n",
       "<table border=\"1\" class=\"dataframe\">\n",
       "  <thead>\n",
       "    <tr style=\"text-align: right;\">\n",
       "      <th></th>\n",
       "      <th>Sequence</th>\n",
       "      <th>pIC50</th>\n",
       "      <th>y_pred_pmic</th>\n",
       "      <th>ape_pmic</th>\n",
       "      <th>MIC</th>\n",
       "      <th>y_pred_mic</th>\n",
       "      <th>ape_mic</th>\n",
       "    </tr>\n",
       "  </thead>\n",
       "  <tbody>\n",
       "    <tr>\n",
       "      <th>0</th>\n",
       "      <td>SNNTIAIPTNFSISITTEVM</td>\n",
       "      <td>8.185012292283764</td>\n",
       "      <td>11.973209473436825</td>\n",
       "      <td>46.282119633764005</td>\n",
       "      <td>278.801</td>\n",
       "      <td>6.31104381064293</td>\n",
       "      <td>97.73636256303135</td>\n",
       "    </tr>\n",
       "    <tr>\n",
       "      <th>0</th>\n",
       "      <td>FKLPLGINITNFRAILTAFS</td>\n",
       "      <td>8.230383999814125</td>\n",
       "      <td>15.72024037152923</td>\n",
       "      <td>91.00251424337256</td>\n",
       "      <td>266.434</td>\n",
       "      <td>0.14886285791397294</td>\n",
       "      <td>99.94412767968278</td>\n",
       "    </tr>\n",
       "    <tr>\n",
       "      <th>0</th>\n",
       "      <td>VLYNSTFFSTFKCYGVSATK</td>\n",
       "      <td>8.244623487739776</td>\n",
       "      <td>11.8554738847152</td>\n",
       "      <td>43.79642566267537</td>\n",
       "      <td>262.66700000000003</td>\n",
       "      <td>7.099587425320445</td>\n",
       "      <td>97.29711481635667</td>\n",
       "    </tr>\n",
       "    <tr>\n",
       "      <th>0</th>\n",
       "      <td>GIGVTQNVLYENQKQIANQF</td>\n",
       "      <td>8.245110915539666</td>\n",
       "      <td>13.251904118233632</td>\n",
       "      <td>60.72438871935124</td>\n",
       "      <td>262.539</td>\n",
       "      <td>1.7569975938352702</td>\n",
       "      <td>99.33076701220189</td>\n",
       "    </tr>\n",
       "    <tr>\n",
       "      <th>0</th>\n",
       "      <td>PALNCYWPLNDYGFYTTSGI</td>\n",
       "      <td>8.26127272058809</td>\n",
       "      <td>11.742939723275429</td>\n",
       "      <td>42.14443851987362</td>\n",
       "      <td>258.33</td>\n",
       "      <td>7.945222738815014</td>\n",
       "      <td>96.92439022226803</td>\n",
       "    </tr>\n",
       "    <tr>\n",
       "      <th>...</th>\n",
       "      <td>...</td>\n",
       "      <td>...</td>\n",
       "      <td>...</td>\n",
       "      <td>...</td>\n",
       "      <td>...</td>\n",
       "      <td>...</td>\n",
       "      <td>...</td>\n",
       "    </tr>\n",
       "    <tr>\n",
       "      <th>0</th>\n",
       "      <td>RRKKWLVFFVIFYFFR</td>\n",
       "      <td>23.942141661814613</td>\n",
       "      <td>17.69504893268824</td>\n",
       "      <td>26.092455793501035</td>\n",
       "      <td>4e-05</td>\n",
       "      <td>0.020660360325249687</td>\n",
       "      <td>51550.900813124215</td>\n",
       "    </tr>\n",
       "    <tr>\n",
       "      <th>0</th>\n",
       "      <td>AGDDQGLDKCVPNSKEK</td>\n",
       "      <td>26.32268829627837</td>\n",
       "      <td>10.825071778968073</td>\n",
       "      <td>58.87550824169211</td>\n",
       "      <td>3.7000000000000006e-06</td>\n",
       "      <td>19.894409825912625</td>\n",
       "      <td>537686652.0516925</td>\n",
       "    </tr>\n",
       "    <tr>\n",
       "      <th>0</th>\n",
       "      <td>QKQIANQFNKAISQIQESLTTTSTALGKLQDVVNQNAQALNTLVKQ</td>\n",
       "      <td>12.436744463265175</td>\n",
       "      <td>11.794348830130067</td>\n",
       "      <td>5.165303790172524</td>\n",
       "      <td>3.97</td>\n",
       "      <td>7.547087504436332</td>\n",
       "      <td>90.1029598094794</td>\n",
       "    </tr>\n",
       "    <tr>\n",
       "      <th>0</th>\n",
       "      <td>QNQSANQFQKEISQINEVLTTTNTSLGKLQDDVNQNNQSLNTLQKE</td>\n",
       "      <td>12.192169740361182</td>\n",
       "      <td>12.090104902436115</td>\n",
       "      <td>0.8371343255432976</td>\n",
       "      <td>5.07</td>\n",
       "      <td>5.6147982417263576</td>\n",
       "      <td>10.74552745022401</td>\n",
       "    </tr>\n",
       "    <tr>\n",
       "      <th>0</th>\n",
       "      <td>PKEELDKYFKNHTSPDVDLGDISGINASVVNIQKEIDRLNEVAKNL...</td>\n",
       "      <td>10.637456727616328</td>\n",
       "      <td>15.700141160696068</td>\n",
       "      <td>47.59299673517169</td>\n",
       "      <td>24.0</td>\n",
       "      <td>0.15188515502936092</td>\n",
       "      <td>99.36714518737766</td>\n",
       "    </tr>\n",
       "  </tbody>\n",
       "</table>\n",
       "<p>67 rows × 7 columns</p>\n",
       "</div>"
      ],
      "text/plain": [
       "                                             Sequence               pIC50  \\\n",
       "0                                SNNTIAIPTNFSISITTEVM   8.185012292283764   \n",
       "0                                FKLPLGINITNFRAILTAFS   8.230383999814125   \n",
       "0                                VLYNSTFFSTFKCYGVSATK   8.244623487739776   \n",
       "0                                GIGVTQNVLYENQKQIANQF   8.245110915539666   \n",
       "0                                PALNCYWPLNDYGFYTTSGI    8.26127272058809   \n",
       "..                                                ...                 ...   \n",
       "0                                    RRKKWLVFFVIFYFFR  23.942141661814613   \n",
       "0                                   AGDDQGLDKCVPNSKEK   26.32268829627837   \n",
       "0      QKQIANQFNKAISQIQESLTTTSTALGKLQDVVNQNAQALNTLVKQ  12.436744463265175   \n",
       "0      QNQSANQFQKEISQINEVLTTTNTSLGKLQDDVNQNNQSLNTLQKE  12.192169740361182   \n",
       "0   PKEELDKYFKNHTSPDVDLGDISGINASVVNIQKEIDRLNEVAKNL...  10.637456727616328   \n",
       "\n",
       "           y_pred_pmic            ape_pmic                     MIC  \\\n",
       "0   11.973209473436825  46.282119633764005                 278.801   \n",
       "0    15.72024037152923   91.00251424337256                 266.434   \n",
       "0     11.8554738847152   43.79642566267537      262.66700000000003   \n",
       "0   13.251904118233632   60.72438871935124                 262.539   \n",
       "0   11.742939723275429   42.14443851987362                  258.33   \n",
       "..                 ...                 ...                     ...   \n",
       "0    17.69504893268824  26.092455793501035                   4e-05   \n",
       "0   10.825071778968073   58.87550824169211  3.7000000000000006e-06   \n",
       "0   11.794348830130067   5.165303790172524                    3.97   \n",
       "0   12.090104902436115  0.8371343255432976                    5.07   \n",
       "0   15.700141160696068   47.59299673517169                    24.0   \n",
       "\n",
       "              y_pred_mic             ape_mic  \n",
       "0       6.31104381064293   97.73636256303135  \n",
       "0    0.14886285791397294   99.94412767968278  \n",
       "0      7.099587425320445   97.29711481635667  \n",
       "0     1.7569975938352702   99.33076701220189  \n",
       "0      7.945222738815014   96.92439022226803  \n",
       "..                   ...                 ...  \n",
       "0   0.020660360325249687  51550.900813124215  \n",
       "0     19.894409825912625   537686652.0516925  \n",
       "0      7.547087504436332    90.1029598094794  \n",
       "0     5.6147982417263576   10.74552745022401  \n",
       "0    0.15188515502936092   99.36714518737766  \n",
       "\n",
       "[67 rows x 7 columns]"
      ]
     },
     "execution_count": 75,
     "metadata": {},
     "output_type": "execute_result"
    }
   ],
   "source": [
    "result_df#.to_csv(\"../results/kNN_Orthomyxoviridae_CoV_pMIC_to_MIC_dist_chebyshev_k_6_weight_uniform.csv\", index=False)"
   ]
  },
  {
   "cell_type": "code",
   "execution_count": 71,
   "id": "dated-xerox",
   "metadata": {
    "ExecuteTime": {
     "end_time": "2021-05-11T06:00:01.334205Z",
     "start_time": "2021-05-11T06:00:01.328704Z"
    }
   },
   "outputs": [
    {
     "data": {
      "text/plain": [
       "21.565288159246506"
      ]
     },
     "execution_count": 71,
     "metadata": {},
     "output_type": "execute_result"
    }
   ],
   "source": [
    "result_df['ape_pmic'].astype('float').mean()"
   ]
  },
  {
   "cell_type": "code",
   "execution_count": 72,
   "id": "random-integration",
   "metadata": {
    "ExecuteTime": {
     "end_time": "2021-05-11T06:00:01.917152Z",
     "start_time": "2021-05-11T06:00:01.912361Z"
    }
   },
   "outputs": [
    {
     "data": {
      "text/plain": [
       "8028163.216787797"
      ]
     },
     "execution_count": 72,
     "metadata": {},
     "output_type": "execute_result"
    }
   ],
   "source": [
    "result_df['ape_mic'].astype('float').mean()"
   ]
  },
  {
   "cell_type": "code",
   "execution_count": 73,
   "id": "bearing-elder",
   "metadata": {
    "ExecuteTime": {
     "end_time": "2021-05-11T06:00:02.732597Z",
     "start_time": "2021-05-11T06:00:02.727505Z"
    }
   },
   "outputs": [
    {
     "data": {
      "text/plain": [
       "(0.1106813196127264, 0.37257513555719807)"
      ]
     },
     "execution_count": 73,
     "metadata": {},
     "output_type": "execute_result"
    }
   ],
   "source": [
    "pearsonr(result_df['MIC'].astype('float'), result_df['y_pred_mic'].astype('float'))"
   ]
  },
  {
   "cell_type": "code",
   "execution_count": null,
   "id": "silver-affiliation",
   "metadata": {},
   "outputs": [],
   "source": []
  },
  {
   "cell_type": "code",
   "execution_count": null,
   "id": "positive-weather",
   "metadata": {},
   "outputs": [],
   "source": []
  }
 ],
 "metadata": {
  "kernelspec": {
   "display_name": "Python 3",
   "language": "python",
   "name": "python3"
  },
  "language_info": {
   "codemirror_mode": {
    "name": "ipython",
    "version": 3
   },
   "file_extension": ".py",
   "mimetype": "text/x-python",
   "name": "python",
   "nbconvert_exporter": "python",
   "pygments_lexer": "ipython3",
   "version": "3.6.10"
  },
  "varInspector": {
   "cols": {
    "lenName": 16,
    "lenType": 16,
    "lenVar": 40
   },
   "kernels_config": {
    "python": {
     "delete_cmd_postfix": "",
     "delete_cmd_prefix": "del ",
     "library": "var_list.py",
     "varRefreshCmd": "print(var_dic_list())"
    },
    "r": {
     "delete_cmd_postfix": ") ",
     "delete_cmd_prefix": "rm(",
     "library": "var_list.r",
     "varRefreshCmd": "cat(var_dic_list()) "
    }
   },
   "types_to_exclude": [
    "module",
    "function",
    "builtin_function_or_method",
    "instance",
    "_Feature"
   ],
   "window_display": false
  }
 },
 "nbformat": 4,
 "nbformat_minor": 5
}
