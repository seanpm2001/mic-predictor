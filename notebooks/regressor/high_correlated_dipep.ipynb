{
 "cells": [
  {
   "cell_type": "code",
   "execution_count": 2,
   "id": "creative-mirror",
   "metadata": {
    "scrolled": false
   },
   "outputs": [
    {
     "name": "stdout",
     "output_type": "stream",
     "text": [
      "/Users/in-divye.singh/Documents/Projects/MIC_predictor/src\n"
     ]
    }
   ],
   "source": [
    "cd ../../src"
   ]
  },
  {
   "cell_type": "code",
   "execution_count": 3,
   "id": "characteristic-finder",
   "metadata": {},
   "outputs": [],
   "source": [
    "import biovec\n",
    "import numpy as np\n",
    "import pandas as pd\n",
    "from itertools import chain, combinations\n",
    "from collections import Counter\n",
    "\n",
    "from utils import *\n",
    "\n",
    "from sklearn.svm import SVR\n",
    "from sklearn.neighbors import KNeighborsRegressor\n",
    "from sklearn.metrics import make_scorer\n",
    "from sklearn.model_selection import GridSearchCV\n",
    "from sklearn.metrics import mean_squared_error, mean_absolute_error\n",
    "from sklearn.model_selection import train_test_split\n",
    "\n",
    "from Bio.SeqUtils.ProtParam import ProteinAnalysis"
   ]
  },
  {
   "cell_type": "code",
   "execution_count": 4,
   "id": "critical-grave",
   "metadata": {},
   "outputs": [],
   "source": [
    "import seaborn as sns\n",
    "import matplotlib.pyplot as plt"
   ]
  },
  {
   "cell_type": "code",
   "execution_count": 5,
   "id": "meaningful-tooth",
   "metadata": {},
   "outputs": [],
   "source": [
    "def mean_absolute_percentage_error(y_true, y_pred): \n",
    "    y_true, y_pred = np.array(y_true), np.array(y_pred)\n",
    "    return np.mean(np.abs((y_true - y_pred) / y_true)) * 100\n",
    "\n",
    "mape_scorer = make_scorer(mean_absolute_percentage_error, greater_is_better=False)"
   ]
  },
  {
   "cell_type": "code",
   "execution_count": 6,
   "id": "civil-salmon",
   "metadata": {},
   "outputs": [],
   "source": [
    "avp_ic50 = pd.read_csv(\"../data/raw/AVP-IC50Pred_train.csv\")\n",
    "ha_avp = pd.read_csv(\"../data/raw/HA_AVP.csv\")"
   ]
  },
  {
   "cell_type": "code",
   "execution_count": 7,
   "id": "treated-virus",
   "metadata": {},
   "outputs": [],
   "source": [
    "df = pd.concat([avp_ic50[['Sequence','MIC']], ha_avp], axis=0).drop_duplicates(['Sequence']).reset_index(drop=True)\n",
    "df = sequence_filtering(df)"
   ]
  },
  {
   "cell_type": "code",
   "execution_count": 8,
   "id": "seasonal-reward",
   "metadata": {},
   "outputs": [],
   "source": [
    "df2 = df[df['MIC'] >= 1e-3].reset_index(drop=True)"
   ]
  },
  {
   "cell_type": "code",
   "execution_count": 9,
   "id": "australian-terrace",
   "metadata": {},
   "outputs": [
    {
     "data": {
      "text/html": [
       "<div>\n",
       "<style scoped>\n",
       "    .dataframe tbody tr th:only-of-type {\n",
       "        vertical-align: middle;\n",
       "    }\n",
       "\n",
       "    .dataframe tbody tr th {\n",
       "        vertical-align: top;\n",
       "    }\n",
       "\n",
       "    .dataframe thead th {\n",
       "        text-align: right;\n",
       "    }\n",
       "</style>\n",
       "<table border=\"1\" class=\"dataframe\">\n",
       "  <thead>\n",
       "    <tr style=\"text-align: right;\">\n",
       "      <th></th>\n",
       "      <th>Sequence</th>\n",
       "      <th>MIC</th>\n",
       "    </tr>\n",
       "  </thead>\n",
       "  <tbody>\n",
       "    <tr>\n",
       "      <th>0</th>\n",
       "      <td>AAQRRGRVGRNPNQVGD</td>\n",
       "      <td>442.00000</td>\n",
       "    </tr>\n",
       "    <tr>\n",
       "      <th>1</th>\n",
       "      <td>HRILARIRQMMT</td>\n",
       "      <td>435.50000</td>\n",
       "    </tr>\n",
       "    <tr>\n",
       "      <th>2</th>\n",
       "      <td>RNPSQVGD</td>\n",
       "      <td>383.00000</td>\n",
       "    </tr>\n",
       "    <tr>\n",
       "      <th>3</th>\n",
       "      <td>RVGRNPNQVGD</td>\n",
       "      <td>374.00000</td>\n",
       "    </tr>\n",
       "    <tr>\n",
       "      <th>4</th>\n",
       "      <td>AAQRRGRIGRNPSQVGD</td>\n",
       "      <td>358.00000</td>\n",
       "    </tr>\n",
       "    <tr>\n",
       "      <th>...</th>\n",
       "      <td>...</td>\n",
       "      <td>...</td>\n",
       "    </tr>\n",
       "    <tr>\n",
       "      <th>702</th>\n",
       "      <td>SLDQINVTFLDLEYEMKKLEEAIKKLEESYIDLKEL</td>\n",
       "      <td>0.00130</td>\n",
       "    </tr>\n",
       "    <tr>\n",
       "      <th>703</th>\n",
       "      <td>NGAICWGPCPTAFRQIGNCGHFKVRCCKIR</td>\n",
       "      <td>0.11515</td>\n",
       "    </tr>\n",
       "    <tr>\n",
       "      <th>704</th>\n",
       "      <td>CFPYITRPGTYHDWWYTRKNRQ</td>\n",
       "      <td>0.30000</td>\n",
       "    </tr>\n",
       "    <tr>\n",
       "      <th>705</th>\n",
       "      <td>YTSLIHSLIEESQNQQEKNEQELLELDKWASLWNWF</td>\n",
       "      <td>0.01131</td>\n",
       "    </tr>\n",
       "    <tr>\n",
       "      <th>706</th>\n",
       "      <td>SWETWEREIENYTRQIYRILEESQEQQDRNERDLLE</td>\n",
       "      <td>0.00200</td>\n",
       "    </tr>\n",
       "  </tbody>\n",
       "</table>\n",
       "<p>707 rows × 2 columns</p>\n",
       "</div>"
      ],
      "text/plain": [
       "                                 Sequence        MIC\n",
       "0                       AAQRRGRVGRNPNQVGD  442.00000\n",
       "1                            HRILARIRQMMT  435.50000\n",
       "2                                RNPSQVGD  383.00000\n",
       "3                             RVGRNPNQVGD  374.00000\n",
       "4                       AAQRRGRIGRNPSQVGD  358.00000\n",
       "..                                    ...        ...\n",
       "702  SLDQINVTFLDLEYEMKKLEEAIKKLEESYIDLKEL    0.00130\n",
       "703        NGAICWGPCPTAFRQIGNCGHFKVRCCKIR    0.11515\n",
       "704                CFPYITRPGTYHDWWYTRKNRQ    0.30000\n",
       "705  YTSLIHSLIEESQNQQEKNEQELLELDKWASLWNWF    0.01131\n",
       "706  SWETWEREIENYTRQIYRILEESQEQQDRNERDLLE    0.00200\n",
       "\n",
       "[707 rows x 2 columns]"
      ]
     },
     "execution_count": 9,
     "metadata": {},
     "output_type": "execute_result"
    }
   ],
   "source": [
    "df2"
   ]
  },
  {
   "cell_type": "code",
   "execution_count": 10,
   "id": "excess-humor",
   "metadata": {},
   "outputs": [
    {
     "data": {
      "text/plain": [
       "<matplotlib.axes._subplots.AxesSubplot at 0x1a22289e48>"
      ]
     },
     "execution_count": 10,
     "metadata": {},
     "output_type": "execute_result"
    },
    {
     "data": {
      "image/png": "[encoded data removed]",
      "text/plain": [
       "<Figure size 432x288 with 1 Axes>"
      ]
     },
     "metadata": {
      "needs_background": "light"
     },
     "output_type": "display_data"
    }
   ],
   "source": [
    "df2['MIC'].hist()"
   ]
  },
  {
   "cell_type": "code",
   "execution_count": 11,
   "id": "completed-stone",
   "metadata": {},
   "outputs": [],
   "source": [
    "df2['pIC50'] = df2['MIC'].apply(lambda x: -np.log(x*1e-6))"
   ]
  },
  {
   "cell_type": "code",
   "execution_count": 12,
   "id": "secret-ceiling",
   "metadata": {},
   "outputs": [
    {
     "data": {
      "text/html": [
       "<div>\n",
       "<style scoped>\n",
       "    .dataframe tbody tr th:only-of-type {\n",
       "        vertical-align: middle;\n",
       "    }\n",
       "\n",
       "    .dataframe tbody tr th {\n",
       "        vertical-align: top;\n",
       "    }\n",
       "\n",
       "    .dataframe thead th {\n",
       "        text-align: right;\n",
       "    }\n",
       "</style>\n",
       "<table border=\"1\" class=\"dataframe\">\n",
       "  <thead>\n",
       "    <tr style=\"text-align: right;\">\n",
       "      <th></th>\n",
       "      <th>Sequence</th>\n",
       "      <th>MIC</th>\n",
       "      <th>pIC50</th>\n",
       "    </tr>\n",
       "  </thead>\n",
       "  <tbody>\n",
       "    <tr>\n",
       "      <th>0</th>\n",
       "      <td>AAQRRGRVGRNPNQVGD</td>\n",
       "      <td>442.00000</td>\n",
       "      <td>7.724201</td>\n",
       "    </tr>\n",
       "    <tr>\n",
       "      <th>1</th>\n",
       "      <td>HRILARIRQMMT</td>\n",
       "      <td>435.50000</td>\n",
       "      <td>7.739016</td>\n",
       "    </tr>\n",
       "    <tr>\n",
       "      <th>2</th>\n",
       "      <td>RNPSQVGD</td>\n",
       "      <td>383.00000</td>\n",
       "      <td>7.867476</td>\n",
       "    </tr>\n",
       "    <tr>\n",
       "      <th>3</th>\n",
       "      <td>RVGRNPNQVGD</td>\n",
       "      <td>374.00000</td>\n",
       "      <td>7.891255</td>\n",
       "    </tr>\n",
       "    <tr>\n",
       "      <th>4</th>\n",
       "      <td>AAQRRGRIGRNPSQVGD</td>\n",
       "      <td>358.00000</td>\n",
       "      <td>7.934978</td>\n",
       "    </tr>\n",
       "    <tr>\n",
       "      <th>...</th>\n",
       "      <td>...</td>\n",
       "      <td>...</td>\n",
       "      <td>...</td>\n",
       "    </tr>\n",
       "    <tr>\n",
       "      <th>702</th>\n",
       "      <td>SLDQINVTFLDLEYEMKKLEEAIKKLEESYIDLKEL</td>\n",
       "      <td>0.00130</td>\n",
       "      <td>20.460902</td>\n",
       "    </tr>\n",
       "    <tr>\n",
       "      <th>703</th>\n",
       "      <td>NGAICWGPCPTAFRQIGNCGHFKVRCCKIR</td>\n",
       "      <td>0.11515</td>\n",
       "      <td>15.977030</td>\n",
       "    </tr>\n",
       "    <tr>\n",
       "      <th>704</th>\n",
       "      <td>CFPYITRPGTYHDWWYTRKNRQ</td>\n",
       "      <td>0.30000</td>\n",
       "      <td>15.019483</td>\n",
       "    </tr>\n",
       "    <tr>\n",
       "      <th>705</th>\n",
       "      <td>YTSLIHSLIEESQNQQEKNEQELLELDKWASLWNWF</td>\n",
       "      <td>0.01131</td>\n",
       "      <td>18.297579</td>\n",
       "    </tr>\n",
       "    <tr>\n",
       "      <th>706</th>\n",
       "      <td>SWETWEREIENYTRQIYRILEESQEQQDRNERDLLE</td>\n",
       "      <td>0.00200</td>\n",
       "      <td>20.030119</td>\n",
       "    </tr>\n",
       "  </tbody>\n",
       "</table>\n",
       "<p>707 rows × 3 columns</p>\n",
       "</div>"
      ],
      "text/plain": [
       "                                 Sequence        MIC      pIC50\n",
       "0                       AAQRRGRVGRNPNQVGD  442.00000   7.724201\n",
       "1                            HRILARIRQMMT  435.50000   7.739016\n",
       "2                                RNPSQVGD  383.00000   7.867476\n",
       "3                             RVGRNPNQVGD  374.00000   7.891255\n",
       "4                       AAQRRGRIGRNPSQVGD  358.00000   7.934978\n",
       "..                                    ...        ...        ...\n",
       "702  SLDQINVTFLDLEYEMKKLEEAIKKLEESYIDLKEL    0.00130  20.460902\n",
       "703        NGAICWGPCPTAFRQIGNCGHFKVRCCKIR    0.11515  15.977030\n",
       "704                CFPYITRPGTYHDWWYTRKNRQ    0.30000  15.019483\n",
       "705  YTSLIHSLIEESQNQQEKNEQELLELDKWASLWNWF    0.01131  18.297579\n",
       "706  SWETWEREIENYTRQIYRILEESQEQQDRNERDLLE    0.00200  20.030119\n",
       "\n",
       "[707 rows x 3 columns]"
      ]
     },
     "execution_count": 12,
     "metadata": {},
     "output_type": "execute_result"
    }
   ],
   "source": [
    "df2"
   ]
  },
  {
   "cell_type": "code",
   "execution_count": 13,
   "id": "mounted-payroll",
   "metadata": {
    "scrolled": true
   },
   "outputs": [
    {
     "data": {
      "text/plain": [
       "<matplotlib.axes._subplots.AxesSubplot at 0x1a23278d68>"
      ]
     },
     "execution_count": 13,
     "metadata": {},
     "output_type": "execute_result"
    },
    {
     "data": {
      "image/png": "[encoded data removed]",
      "text/plain": [
       "<Figure size 432x288 with 1 Axes>"
      ]
     },
     "metadata": {
      "needs_background": "light"
     },
     "output_type": "display_data"
    }
   ],
   "source": [
    "df2['pIC50'].hist()"
   ]
  },
  {
   "cell_type": "code",
   "execution_count": 14,
   "id": "another-bradford",
   "metadata": {},
   "outputs": [],
   "source": [
    "def get_physicochemical_properties(df):\n",
    "    params = ['aromaticity', 'helix', 'turn', 'sheet', 'gravy', 'net_charge_at_pH7point4']\n",
    "\n",
    "    prop = []\n",
    "    for seq in df.Sequence:\n",
    "        X = ProteinAnalysis(seq)\n",
    "        aromaticity = X.aromaticity()\n",
    "        sec_struc = X.secondary_structure_fraction()\n",
    "        helix = sec_struc[0]\n",
    "        turn = sec_struc[1]\n",
    "        sheet = sec_struc[2]\n",
    "        gravy = X.gravy() # hydrophobicity related\n",
    "        net_charge_at_pH7point4 = X.charge_at_pH(7.4)\n",
    "\n",
    "        prop.append([aromaticity, helix, turn, sheet, gravy, net_charge_at_pH7point4])\n",
    "    return pd.DataFrame(prop, columns=params)"
   ]
  },
  {
   "cell_type": "code",
   "execution_count": 15,
   "id": "civic-invalid",
   "metadata": {},
   "outputs": [],
   "source": [
    "dipep_freq = reduce_by_kmer_frequency(df2, kmer=2)"
   ]
  },
  {
   "cell_type": "code",
   "execution_count": 16,
   "id": "imposed-munich",
   "metadata": {},
   "outputs": [
    {
     "name": "stderr",
     "output_type": "stream",
     "text": [
      "/Users/in-divye.singh/anaconda3/envs/life-science/lib/python3.6/site-packages/smart_open/smart_open_lib.py:254: UserWarning: This function is deprecated, use smart_open.open instead. See the migration notes for details: https://github.com/RaRe-Technologies/smart_open/blob/master/README.rst#migrating-to-the-new-open-function\n",
      "  'See the migration notes for details: %s' % _MIGRATION_NOTES_URL\n",
      "Creating vectors: 100%|██████████| 712/712 [00:00<00:00, 1175.91sequence/s]\n"
     ]
    }
   ],
   "source": [
    "uniprot_embedding = biovec.models.load_protvec(\"../data/embeddings/uniprot__kmer_3_contextWindow_10_vector_100_reduction_None\")\n",
    "\n",
    "avg_protvec = convert_sequences_to_avg_vectors(df['Sequence'], uniprot_embedding, kmer=3)\n",
    "avg_protvec = avg_protvec.reset_index(drop=True)"
   ]
  },
  {
   "cell_type": "code",
   "execution_count": 17,
   "id": "prompt-supplement",
   "metadata": {},
   "outputs": [],
   "source": [
    "physicochemical_prop = get_physicochemical_properties(df2)"
   ]
  },
  {
   "cell_type": "code",
   "execution_count": 18,
   "id": "suffering-supplement",
   "metadata": {},
   "outputs": [],
   "source": [
    "from scipy.stats import pearsonr, spearmanr"
   ]
  },
  {
   "cell_type": "code",
   "execution_count": 19,
   "id": "portable-camel",
   "metadata": {},
   "outputs": [
    {
     "name": "stderr",
     "output_type": "stream",
     "text": [
      "/Users/in-divye.singh/anaconda3/envs/life-science/lib/python3.6/site-packages/scipy/stats/stats.py:3508: PearsonRConstantInputWarning: An input array is constant; the correlation coefficent is not defined.\n",
      "  warnings.warn(PearsonRConstantInputWarning())\n"
     ]
    }
   ],
   "source": [
    "high_corr_dipep = []\n",
    "for dipep in dipep_freq.columns:\n",
    "    p_corr = pearsonr(dipep_freq[dipep], df2['MIC'])\n",
    "    if p_corr[0] > 0.2:\n",
    "        high_corr_dipep.append(dipep)\n",
    "        #print(dipep, pearsonr(dipep_freq[dipep], df2['MIC']))"
   ]
  },
  {
   "cell_type": "raw",
   "id": "agricultural-given",
   "metadata": {},
   "source": [
    "for dipep in dipep_freq.columns:\n",
    "    s_corr = spearmanr(dipep_freq[dipep], df2['MIC'])\n",
    "    if s_corr.correlation > 0.15:\n",
    "        print(dipep, s_corr)"
   ]
  },
  {
   "cell_type": "code",
   "execution_count": 21,
   "id": "reasonable-amazon",
   "metadata": {},
   "outputs": [],
   "source": [
    "X = pd.concat([dipep_freq[high_corr_dipep], physicochemical_prop[['turn']]], axis=1)"
   ]
  },
  {
   "cell_type": "code",
   "execution_count": 22,
   "id": "recorded-scroll",
   "metadata": {},
   "outputs": [],
   "source": [
    "y = df2[['pIC50', 'MIC']]"
   ]
  },
  {
   "cell_type": "code",
   "execution_count": 23,
   "id": "cordless-promotion",
   "metadata": {},
   "outputs": [],
   "source": [
    "X_train, X_test, y_train, y_test = train_test_split(X, y, test_size=0.2, random_state=42)"
   ]
  },
  {
   "cell_type": "code",
   "execution_count": 24,
   "id": "greek-examination",
   "metadata": {},
   "outputs": [],
   "source": [
    "y_train_pmic, y_train_mic = y_train['pIC50'], y_train['MIC']\n",
    "y_test_pmic, y_test_mic = y_test['pIC50'], y_test['MIC']"
   ]
  },
  {
   "cell_type": "code",
   "execution_count": 25,
   "id": "chief-printer",
   "metadata": {},
   "outputs": [],
   "source": [
    "from sklearn.model_selection import cross_val_score, GridSearchCV, LeaveOneOut"
   ]
  },
  {
   "cell_type": "code",
   "execution_count": 38,
   "id": "handmade-orleans",
   "metadata": {},
   "outputs": [
    {
     "name": "stdout",
     "output_type": "stream",
     "text": [
      "[-17.43045019 -16.78346433 -18.04897181 -17.46526102 -17.28436271] -17.40250201135652\n",
      "2.7423101563508783 1.1991885829214912\n"
     ]
    }
   ],
   "source": [
    "svr = SVR(C=100, gamma=1)\n",
    "cv_score = cross_val_score(svr, X_train, y_train_pmic, cv=5, scoring=mape_scorer)\n",
    "cv_mean = cv_score.mean()\n",
    "print(cv_score, cv_mean)\n",
    "\n",
    "_ = svr.fit(X_train, y_train_pmic)\n",
    "y_pred = svr.predict(X_test)\n",
    "\n",
    "print(np.std(y_test_pmic), np.std(y_pred))"
   ]
  },
  {
   "cell_type": "code",
   "execution_count": 39,
   "id": "enabling-shadow",
   "metadata": {},
   "outputs": [],
   "source": [
    "ape = 100*np.abs(y_test_pmic-y_pred)/y_test_pmic"
   ]
  },
  {
   "cell_type": "code",
   "execution_count": 40,
   "id": "aerial-bibliography",
   "metadata": {},
   "outputs": [],
   "source": [
    "y_pred_mic = np.exp(-y_pred)/1e-6"
   ]
  },
  {
   "cell_type": "code",
   "execution_count": 41,
   "id": "legal-producer",
   "metadata": {},
   "outputs": [],
   "source": [
    "ape_mic = 100*np.abs(y_test_mic-y_pred_mic)/y_test_mic"
   ]
  },
  {
   "cell_type": "code",
   "execution_count": 42,
   "id": "trained-collaboration",
   "metadata": {
    "scrolled": true
   },
   "outputs": [],
   "source": [
    "gg = list(zip(y_test_pmic.round(4), y_pred.round(4), ape, y_test_mic.round(4), y_pred_mic.round(4), ape_mic))"
   ]
  },
  {
   "cell_type": "code",
   "execution_count": 43,
   "id": "broken-vegetarian",
   "metadata": {
    "scrolled": true
   },
   "outputs": [
    {
     "data": {
      "text/plain": [
       "[(12.8562, 12.8148, 0.32137298578846685, 2.61, 2.7201, 4.218161871248798),\n",
       " (11.2506, 11.3261, 0.6716995984518959, 13.0, 12.0538, 7.278515304548213),\n",
       " (12.075, 11.9949, 0.664064042591746, 5.7, 6.1759, 8.348860801199852),\n",
       " (13.1124, 13.2062, 0.7153655900783781, 2.02, 1.8391, 8.953670256185452),\n",
       " (11.6183, 11.724, 0.909481082117398, 9.0, 8.0975, 10.027499564093903),\n",
       " (10.625, 10.7497, 1.1730269186846236, 24.3, 21.4525, 11.718049588573715),\n",
       " (12.7169, 12.9019, 1.4546406155681388, 3.0, 2.4933, 16.888338850740016),\n",
       " (12.9957, 12.8148, 1.3918926144293124, 2.27, 2.7201, 19.82793060967372),\n",
       " (11.9655, 12.1873, 1.8537881257992836, 6.36, 5.0948, 19.893620257146853),\n",
       " (12.0238, 11.8359, 1.5624454365692206, 6.0, 7.24, 20.667006104991035),\n",
       " (10.7245, 11.0469, 3.006231172082183, 22.0, 15.9369, 27.55932994340262),\n",
       " (12.3339, 12.0895, 1.9813793687858947, 4.4, 5.6181, 27.683130940145173),\n",
       " (12.4292, 12.7703, 2.74382912601366, 4.0, 2.8441, 28.89670123651219),\n",
       " (12.5656, 12.9095, 2.7365003182463723, 3.49, 2.4745, 29.097034399905397),\n",
       " (11.5129, 11.953, 3.8228547446097294, 10.0, 6.4396, 35.6042415343221),\n",
       " (8.0074, 8.4742, 5.829584029086825, 333.0, 208.7936, 37.29921697820955),\n",
       " (12.2061, 11.8795, 2.6754727611226397, 5.0, 6.931, 38.62054870510301),\n",
       " (10.5498, 11.0561, 4.799431289372661, 26.2, 15.7909, 39.72953827074959),\n",
       " (11.8597, 12.3849, 4.429249557777227, 7.07, 4.1811, 40.86182308496454),\n",
       " (11.8696, 12.4175, 4.616272622904455, 7.0, 4.047, 42.18564669863762),\n",
       " (11.6123, 12.1873, 4.9515838030846195, 9.054, 5.0948, 43.729116946703556),\n",
       " (12.5627, 13.1445, 4.631068331814092, 3.5, 1.9561, 44.110263381851),\n",
       " (10.4143, 11.031, 5.921403645129841, 30.0, 16.1921, 46.02631214056618),\n",
       " (8.8597, 9.4906, 7.121496662657956, 142.0, 75.5568, 46.79096987221077),\n",
       " (13.0271, 12.6423, 2.9537995585068355, 2.2, 3.2325, 46.93102012933286),\n",
       " (11.814, 12.4544, 5.420662371413948, 7.4, 3.9004, 47.291777028161164),\n",
       " (8.3143, 7.9076, 4.8915103994443765, 245.0, 367.9514, 50.184224551696154),\n",
       " (12.2061, 12.9611, 6.185636717265468, 5.0, 2.35, 53.000034169926565),\n",
       " (12.4292, 13.2019, 6.216735542094958, 4.0, 1.8471, 53.82314562141399),\n",
       " (11.6754, 12.4783, 6.876828881889479, 8.5, 3.8082, 55.19723511138177),\n",
       " (12.7004, 12.2537, 3.517231134421505, 3.05, 4.7676, 56.31473666907394),\n",
       " (12.1162, 13.0469, 7.681536529928099, 5.47, 2.1567, 60.57274204590014),\n",
       " (13.3455, 12.8661, 3.5925134586420815, 1.6, 2.5843, 61.51682527835092),\n",
       " (11.8554, 12.8118, 8.067064170292998, 7.1, 2.7284, 61.572006636373736),\n",
       " (8.0074, 8.9883, 12.250034774776713, 333.0, 124.8655, 62.50285438613557),\n",
       " (11.4509, 12.5183, 9.321335078575977, 10.64, 3.6592, 65.60901889906684),\n",
       " (11.4176, 12.5183, 9.639934388020057, 11.0, 3.6592, 66.73454191691555),\n",
       " (11.3306, 12.4627, 9.991714975300098, 12.0, 3.8682, 67.76513797387547),\n",
       " (11.8957, 13.0996, 10.121065777457265, 6.82, 2.046, 69.99981600211443),\n",
       " (11.5129, 12.7225, 10.506296564572917, 10.0, 2.9832, 70.16780756795704),\n",
       " (9.8191, 9.283, 5.46045950652641, 54.4, 92.994, 70.94480032461213),\n",
       " (11.8986, 13.1445, 10.471402779772596, 6.8, 1.9561, 71.23322379948213),\n",
       " (12.0238, 13.2889, 10.521812536225141, 6.0, 1.6932, 71.77935967573542),\n",
       " (11.7361, 13.0353, 11.070834073037425, 8.0, 2.1818, 72.72721118246903),\n",
       " (11.7361, 13.0519, 11.211504914591277, 8.0, 2.1461, 73.17376755257102),\n",
       " (11.5129, 12.9439, 12.429071959621012, 10.0, 2.3908, 76.09182632382966),\n",
       " (10.9141, 12.3849, 13.47665955150306, 18.2, 4.1811, 77.02709281377469),\n",
       " (11.7361, 13.207, 12.533448910529573, 8.0, 1.8377, 77.02892141771713),\n",
       " (11.5129, 13.0888, 13.687569430562908, 10.0, 2.0683, 79.31661916736138),\n",
       " (10.9852, 12.5707, 14.432309062961247, 16.95, 3.4724, 79.51391234616523),\n",
       " (9.4335, 11.117, 17.846324370254973, 80.0, 14.8574, 81.4282790335835),\n",
       " (10.0995, 11.8256, 17.09127624824749, 41.1, 7.3146, 82.20288572320923),\n",
       " (10.6128, 12.3849, 16.69856639098319, 24.6, 4.1811, 83.00378411425606),\n",
       " (11.3059, 13.0897, 15.777221177762346, 12.3, 2.0665, 83.19945116338235),\n",
       " (11.2898, 13.1445, 16.428617622728613, 12.5, 1.9561, 84.35087374691828),\n",
       " (10.6602, 12.5183, 17.42978370147059, 23.46, 3.6592, 84.40238538303798),\n",
       " (11.2506, 13.1445, 16.83450079008652, 13.0, 1.9561, 84.95276321819065),\n",
       " (9.9115, 12.0087, 21.15900106326723, 49.6, 6.091, 87.7197580885848),\n",
       " (10.7245, 12.8252, 19.587981305330512, 22.0, 2.6921, 87.76300942789253),\n",
       " (9.0448, 11.1729, 23.528330681320085, 118.0, 14.0495, 88.09362905000975),\n",
       " (9.9156, 12.1838, 22.875401996975505, 49.4, 5.1127, 89.65041993833287),\n",
       " (10.9823, 13.2889, 21.002622486725805, 17.0, 1.6932, 90.03977400320073),\n",
       " (10.0427, 12.3849, 23.32280246262304, 43.502, 4.1811, 90.38878877317592),\n",
       " (10.8198, 13.207, 22.063529246015364, 20.0, 1.8377, 90.81156856708894),\n",
       " (10.5197, 12.918, 22.798172521271415, 27.0, 2.4536, 90.9127091358588),\n",
       " (10.4227, 12.9019, 23.78620529361536, 29.749, 2.4933, 91.61871042899661),\n",
       " (10.5197, 13.0025, 23.60146811237129, 27.0, 2.2548, 91.64907130150598),\n",
       " (8.8955, 11.3876, 28.01494960862962, 137.0, 11.3351, 91.72621533561677),\n",
       " (10.8554, 13.3851, 23.30361239881184, 19.3, 1.5379, 92.0317206967099),\n",
       " (9.2103, 11.7686, 27.776192585763173, 100.0, 7.7438, 92.2562326534511),\n",
       " (10.232, 12.8148, 25.242910538213305, 36.0, 2.7201, 92.44418326433446),\n",
       " (9.7902, 12.3849, 26.504010247969276, 56.0, 4.1811, 92.53380516447677),\n",
       " (9.2103, 11.8359, 28.506505303085707, 100.0, 7.24, 92.75997963370054),\n",
       " (9.6645, 12.3849, 28.14921812655016, 63.5, 4.1811, 93.41563920016848),\n",
       " (9.3047, 12.0296, 29.285650368912574, 91.0, 5.9651, 93.44490499246437),\n",
       " (9.9035, 12.7521, 28.76383416908484, 50.0, 2.8962, 94.20759573709134),\n",
       " (10.2602, 13.1357, 28.02626198578511, 35.0, 1.9735, 94.36143181958684),\n",
       " (10.31, 13.2062, 28.09189849183132, 33.3, 1.8391, 94.47706948701186),\n",
       " (8.7403, 11.6576, 33.3771049265535, 160.0, 8.653, 94.59189464198242),\n",
       " (8.294, 11.3007, 36.25124170485928, 250.0, 12.3637, 95.05451913095747),\n",
       " (9.5388, 12.6423, 32.534503929459376, 72.0, 3.2325, 95.51044105160372),\n",
       " (9.9035, 13.0512, 31.78372186802138, 50.0, 2.1475, 95.70490683348305),\n",
       " (9.6884, 12.8559, 32.69412437241526, 62.0, 2.6107, 95.78925146849843),\n",
       " (9.9035, 13.1789, 33.07326258680359, 50.0, 1.8901, 96.21984980682466),\n",
       " (9.2103, 12.5183, 35.91534516380211, 100.0, 3.6592, 96.34079961086073),\n",
       " (9.2103, 12.5183, 35.91534516380211, 100.0, 3.6592, 96.34079961086073),\n",
       " (9.0533, 12.3849, 36.799768883002365, 117.0, 4.1811, 96.4264366599205),\n",
       " (10.2602, 13.8228, 34.723175497403716, 35.0, 0.9927, 97.16365583803865),\n",
       " (9.2103, 12.9019, 40.08041956644412, 100.0, 2.4933, 97.5066501655222),\n",
       " (8.5172, 12.2306, 43.599199475303585, 200.0, 4.8788, 97.56062432231029),\n",
       " (9.2103, 12.931, 40.39601553879874, 100.0, 2.4219, 97.57808231507293),\n",
       " (9.2103, 13.0213, 41.376626143011435, 100.0, 2.2128, 97.78723672808528),\n",
       " (9.2103, 13.0468, 41.654134202678364, 100.0, 2.1569, 97.8430770477108),\n",
       " (9.2103, 13.1975, 43.290262657439285, 100.0, 1.8552, 98.1448053052035),\n",
       " (8.9029, 12.9019, 44.918483591824, 136.0, 2.4933, 98.1666545334722),\n",
       " (9.028, 13.1931, 46.134667030910656, 120.0, 1.8635, 98.44710059705453),\n",
       " (8.5844, 13.1357, 53.018260421833766, 187.0, 1.9735, 98.94465301436118),\n",
       " (11.8554, 11.1672, 5.804927238200307, 7.1, 14.1299, 99.01266092713946),\n",
       " (8.2434, 13.1445, 59.45612656170297, 263.0, 1.9561, 99.25622023511968),\n",
       " (13.9663, 13.207, 5.436861578575604, 0.86, 1.8377, 113.68445192816426),\n",
       " (11.5129, 10.7321, 6.78259329523279, 10.0, 21.8338, 118.3381694032336),\n",
       " (14.1722, 13.1073, 7.513564386003292, 0.7, 2.0303, 190.0364105086362),\n",
       " (12.94, 11.7686, 9.052931222276646, 2.4, 7.744, 222.66778746203013),\n",
       " (13.8155, 12.6423, 8.492269578304374, 1.0, 3.2325, 223.24824428453232),\n",
       " (12.5627, 11.3755, 9.450406131595352, 3.5, 11.473, 227.79907828354627),\n",
       " (14.4889, 13.2069, 8.847540900572872, 0.51, 1.8378, 260.35064380487086),\n",
       " (7.8675, 6.5696, 16.496905498174893, 383.0, 1402.3785, 266.15626493694003),\n",
       " (8.5374, 7.162, 16.110470121084383, 196.0, 775.5165, 295.6716898573064),\n",
       " (14.4889, 13.1073, 9.534955531743499, 0.51, 2.0303, 298.0891908942066),\n",
       " (13.1224, 11.7051, 10.800170866637279, 2.0, 8.2514, 312.5708103465568),\n",
       " (14.3313, 12.9019, 9.97439469631097, 0.597, 2.4933, 317.6465384384924),\n",
       " (13.7385, 12.3038, 10.443058235749396, 1.08, 4.5344, 319.84891181241085),\n",
       " (11.8006, 10.3254, 12.501465732582757, 7.5, 32.7909, 337.2123892051032),\n",
       " (13.7763, 12.2032, 11.418549757091803, 1.04, 5.0142, 382.13429549366003),\n",
       " (14.025, 12.3849, 11.693792979751487, 0.811, 4.1811, 415.5448961643659),\n",
       " (14.231, 12.5183, 12.035394316345853, 0.66, 3.6592, 454.42430138474066),\n",
       " (12.8992, 11.1687, 13.415395388214515, 2.5, 14.1084, 464.3369643717826),\n",
       " (14.5087, 12.677, 12.624741461753766, 0.5, 3.1222, 524.4371693943183),\n",
       " (15.1899, 13.2019, 13.087457757313041, 0.253, 1.8471, 630.0688439300475),\n",
       " (15.182, 13.1518, 13.372141991012064, 0.255, 1.9419, 661.5296360164531),\n",
       " (15.2018, 13.1445, 13.53305028806781, 0.25, 1.9561, 682.456312654086),\n",
       " (12.5627, 10.2282, 18.583030123411604, 3.5, 36.1365, 932.4700889413814),\n",
       " (14.9242, 12.4172, 16.798374610009756, 0.33, 4.0485, 1126.829777727707),\n",
       " (15.1248, 12.5183, 17.233751248275507, 0.27, 3.6592, 1255.2594033849218),\n",
       " (11.9134, 9.0965, 23.64471883205432, 6.7, 112.0559, 1572.4766589690332),\n",
       " (15.3296, 12.3849, 19.209159786300027, 0.22, 4.1811, 1800.4859581331852),\n",
       " (16.5489, 13.0213, 21.316309008918072, 0.065, 2.2128, 3304.2511875611176),\n",
       " (16.5186, 12.9019, 21.894686262309314, 0.067, 2.4933, 3621.4176633997004),\n",
       " (16.3666, 12.7063, 22.36435950817315, 0.078, 3.032, 3787.205643364664),\n",
       " (17.1969, 13.2019, 23.230910108625114, 0.034, 1.8471, 5332.571103363059),\n",
       " (17.356, 13.2019, 23.934486563048218, 0.029, 1.8471, 6269.221293598071),\n",
       " (15.977, 11.6665, 26.97927749814188, 0.1152, 8.576, 7347.677385936857),\n",
       " (17.3221, 12.9019, 25.517651255869563, 0.03, 2.4933, 8211.166114926),\n",
       " (17.4274, 12.9019, 25.96794709033672, 0.027, 2.4933, 9134.629016584442),\n",
       " (16.2806, 11.1387, 31.58333547085377, 0.085, 14.5393, 17005.089087152668),\n",
       " (18.526, 13.2019, 28.738646790451913, 0.009, 1.8471, 20423.04639048267),\n",
       " (18.0842, 12.6421, 30.092948015003763, 0.014, 3.2329, 22992.003113802137),\n",
       " (18.3254, 12.6421, 31.012925506519807, 0.011, 3.2329, 29289.822144839076),\n",
       " (18.9315, 12.6421, 33.22170567550698, 0.006, 3.2329, 53781.34059887164),\n",
       " (19.6247, 13.1518, 32.983054422352104, 0.003, 1.9419, 64630.0190613838),\n",
       " (20.0301, 12.972, 35.23754360858735, 0.002, 2.3245, 116126.01532572779),\n",
       " (20.4609, 13.0353, 36.29142050461876, 0.0013, 2.1818, 167732.5465694214)]"
      ]
     },
     "execution_count": 43,
     "metadata": {},
     "output_type": "execute_result"
    }
   ],
   "source": [
    "sorted(gg, key=lambda x:x[5])"
   ]
  },
  {
   "cell_type": "code",
   "execution_count": 44,
   "id": "generous-suggestion",
   "metadata": {},
   "outputs": [
    {
     "data": {
      "text/plain": [
       "3945.725836147928"
      ]
     },
     "execution_count": 44,
     "metadata": {},
     "output_type": "execute_result"
    }
   ],
   "source": [
    "ape_mic.mean()"
   ]
  },
  {
   "cell_type": "code",
   "execution_count": null,
   "id": "personalized-villa",
   "metadata": {},
   "outputs": [],
   "source": []
  }
 ],
 "metadata": {
  "kernelspec": {
   "display_name": "Python 3",
   "language": "python",
   "name": "python3"
  },
  "language_info": {
   "codemirror_mode": {
    "name": "ipython",
    "version": 3
   },
   "file_extension": ".py",
   "mimetype": "text/x-python",
   "name": "python",
   "nbconvert_exporter": "python",
   "pygments_lexer": "ipython3",
   "version": "3.6.10"
  },
  "varInspector": {
   "cols": {
    "lenName": 16,
    "lenType": 16,
    "lenVar": 40
   },
   "kernels_config": {
    "python": {
     "delete_cmd_postfix": "",
     "delete_cmd_prefix": "del ",
     "library": "var_list.py",
     "varRefreshCmd": "print(var_dic_list())"
    },
    "r": {
     "delete_cmd_postfix": ") ",
     "delete_cmd_prefix": "rm(",
     "library": "var_list.r",
     "varRefreshCmd": "cat(var_dic_list()) "
    }
   },
   "types_to_exclude": [
    "module",
    "function",
    "builtin_function_or_method",
    "instance",
    "_Feature"
   ],
   "window_display": false
  }
 },
 "nbformat": 4,
 "nbformat_minor": 5
}
