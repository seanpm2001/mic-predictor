{
 "cells": [
  {
   "cell_type": "code",
   "execution_count": 1,
   "id": "helpful-packing",
   "metadata": {
    "scrolled": false
   },
   "outputs": [
    {
     "name": "stdout",
     "output_type": "stream",
     "text": [
      "/Users/in-divye.singh/Documents/Projects/MIC_predictor/src\n"
     ]
    }
   ],
   "source": [
    "cd ../../src"
   ]
  },
  {
   "cell_type": "code",
   "execution_count": 2,
   "id": "black-thirty",
   "metadata": {},
   "outputs": [],
   "source": [
    "import biovec\n",
    "import numpy as np\n",
    "import pandas as pd\n",
    "from itertools import chain, combinations\n",
    "from collections import Counter\n",
    "\n",
    "from utils import *\n",
    "\n",
    "from sklearn.svm import SVR\n",
    "from sklearn.neighbors import KNeighborsRegressor\n",
    "from sklearn.metrics import make_scorer\n",
    "from sklearn.model_selection import GridSearchCV\n",
    "from sklearn.metrics import mean_squared_error, mean_absolute_error\n",
    "from sklearn.model_selection import train_test_split\n",
    "\n",
    "from Bio.SeqUtils.ProtParam import ProteinAnalysis"
   ]
  },
  {
   "cell_type": "code",
   "execution_count": 3,
   "id": "covered-passenger",
   "metadata": {},
   "outputs": [],
   "source": [
    "import seaborn as sns"
   ]
  },
  {
   "cell_type": "code",
   "execution_count": 4,
   "id": "stock-bones",
   "metadata": {},
   "outputs": [],
   "source": [
    "def mean_absolute_percentage_error(y_true, y_pred): \n",
    "    y_true, y_pred = np.array(y_true), np.array(y_pred)\n",
    "    return np.mean(np.abs((y_true - y_pred) / y_true)) * 100\n",
    "\n",
    "mape_scorer = make_scorer(mean_absolute_percentage_error, greater_is_better=False)"
   ]
  },
  {
   "cell_type": "code",
   "execution_count": 5,
   "id": "popular-penny",
   "metadata": {},
   "outputs": [],
   "source": [
    "avp_ic50 = pd.read_csv(\"../data/raw/AVP-IC50Pred_train.csv\")\n",
    "ha_avp = pd.read_csv(\"../data/raw/HA_AVP.csv\")"
   ]
  },
  {
   "cell_type": "code",
   "execution_count": 6,
   "id": "stuffed-soccer",
   "metadata": {},
   "outputs": [],
   "source": [
    "df = pd.concat([avp_ic50[['Sequence','MIC']], ha_avp], axis=0).drop_duplicates(['Sequence']).reset_index(drop=True)\n",
    "df = sequence_filtering(df)"
   ]
  },
  {
   "cell_type": "code",
   "execution_count": 7,
   "id": "friendly-adventure",
   "metadata": {},
   "outputs": [
    {
     "data": {
      "text/html": [
       "<div>\n",
       "<style scoped>\n",
       "    .dataframe tbody tr th:only-of-type {\n",
       "        vertical-align: middle;\n",
       "    }\n",
       "\n",
       "    .dataframe tbody tr th {\n",
       "        vertical-align: top;\n",
       "    }\n",
       "\n",
       "    .dataframe thead th {\n",
       "        text-align: right;\n",
       "    }\n",
       "</style>\n",
       "<table border=\"1\" class=\"dataframe\">\n",
       "  <thead>\n",
       "    <tr style=\"text-align: right;\">\n",
       "      <th></th>\n",
       "      <th>Sequence</th>\n",
       "      <th>MIC</th>\n",
       "    </tr>\n",
       "  </thead>\n",
       "  <tbody>\n",
       "    <tr>\n",
       "      <th>0</th>\n",
       "      <td>AAQRRGRVGRNPNQVGD</td>\n",
       "      <td>442.00000</td>\n",
       "    </tr>\n",
       "    <tr>\n",
       "      <th>1</th>\n",
       "      <td>HRILARIRQMMT</td>\n",
       "      <td>435.50000</td>\n",
       "    </tr>\n",
       "    <tr>\n",
       "      <th>2</th>\n",
       "      <td>RNPSQVGD</td>\n",
       "      <td>383.00000</td>\n",
       "    </tr>\n",
       "    <tr>\n",
       "      <th>3</th>\n",
       "      <td>RVGRNPNQVGD</td>\n",
       "      <td>374.00000</td>\n",
       "    </tr>\n",
       "    <tr>\n",
       "      <th>4</th>\n",
       "      <td>AAQRRGRIGRNPSQVGD</td>\n",
       "      <td>358.00000</td>\n",
       "    </tr>\n",
       "    <tr>\n",
       "      <th>...</th>\n",
       "      <td>...</td>\n",
       "      <td>...</td>\n",
       "    </tr>\n",
       "    <tr>\n",
       "      <th>707</th>\n",
       "      <td>NGAICWGPCPTAFRQIGNCGHFKVRCCKIR</td>\n",
       "      <td>0.11515</td>\n",
       "    </tr>\n",
       "    <tr>\n",
       "      <th>708</th>\n",
       "      <td>CFPYITRPGTYHDWWYTRKNRQ</td>\n",
       "      <td>0.30000</td>\n",
       "    </tr>\n",
       "    <tr>\n",
       "      <th>709</th>\n",
       "      <td>YTSLIHSLIEESQNQQEKNEQELLELDKWASLWNWF</td>\n",
       "      <td>0.01131</td>\n",
       "    </tr>\n",
       "    <tr>\n",
       "      <th>710</th>\n",
       "      <td>GTNLSVPNPLGFFPDHQLDPAFGANSNNPDWDFNPNKDHWPEANKVG</td>\n",
       "      <td>0.00008</td>\n",
       "    </tr>\n",
       "    <tr>\n",
       "      <th>711</th>\n",
       "      <td>SWETWEREIENYTRQIYRILEESQEQQDRNERDLLE</td>\n",
       "      <td>0.00200</td>\n",
       "    </tr>\n",
       "  </tbody>\n",
       "</table>\n",
       "<p>712 rows × 2 columns</p>\n",
       "</div>"
      ],
      "text/plain": [
       "                                            Sequence        MIC\n",
       "0                                  AAQRRGRVGRNPNQVGD  442.00000\n",
       "1                                       HRILARIRQMMT  435.50000\n",
       "2                                           RNPSQVGD  383.00000\n",
       "3                                        RVGRNPNQVGD  374.00000\n",
       "4                                  AAQRRGRIGRNPSQVGD  358.00000\n",
       "..                                               ...        ...\n",
       "707                   NGAICWGPCPTAFRQIGNCGHFKVRCCKIR    0.11515\n",
       "708                           CFPYITRPGTYHDWWYTRKNRQ    0.30000\n",
       "709             YTSLIHSLIEESQNQQEKNEQELLELDKWASLWNWF    0.01131\n",
       "710  GTNLSVPNPLGFFPDHQLDPAFGANSNNPDWDFNPNKDHWPEANKVG    0.00008\n",
       "711             SWETWEREIENYTRQIYRILEESQEQQDRNERDLLE    0.00200\n",
       "\n",
       "[712 rows x 2 columns]"
      ]
     },
     "execution_count": 7,
     "metadata": {},
     "output_type": "execute_result"
    }
   ],
   "source": [
    "df"
   ]
  },
  {
   "cell_type": "code",
   "execution_count": 8,
   "id": "unnecessary-response",
   "metadata": {},
   "outputs": [
    {
     "data": {
      "text/plain": [
       "<matplotlib.axes._subplots.AxesSubplot at 0x1a1fb47048>"
      ]
     },
     "execution_count": 8,
     "metadata": {},
     "output_type": "execute_result"
    },
    {
     "data": {
      "image/png": "[encoded data removed]",
      "text/plain": [
       "<Figure size 432x288 with 1 Axes>"
      ]
     },
     "metadata": {
      "needs_background": "light"
     },
     "output_type": "display_data"
    }
   ],
   "source": [
    "df['MIC'].hist()"
   ]
  },
  {
   "cell_type": "code",
   "execution_count": 9,
   "id": "beautiful-polymer",
   "metadata": {},
   "outputs": [],
   "source": [
    "df['pIC50'] = df['MIC'].apply(lambda x: -np.log(x*1e-6))"
   ]
  },
  {
   "cell_type": "code",
   "execution_count": 10,
   "id": "curious-glass",
   "metadata": {},
   "outputs": [
    {
     "data": {
      "text/html": [
       "<div>\n",
       "<style scoped>\n",
       "    .dataframe tbody tr th:only-of-type {\n",
       "        vertical-align: middle;\n",
       "    }\n",
       "\n",
       "    .dataframe tbody tr th {\n",
       "        vertical-align: top;\n",
       "    }\n",
       "\n",
       "    .dataframe thead th {\n",
       "        text-align: right;\n",
       "    }\n",
       "</style>\n",
       "<table border=\"1\" class=\"dataframe\">\n",
       "  <thead>\n",
       "    <tr style=\"text-align: right;\">\n",
       "      <th></th>\n",
       "      <th>Sequence</th>\n",
       "      <th>MIC</th>\n",
       "      <th>pIC50</th>\n",
       "    </tr>\n",
       "  </thead>\n",
       "  <tbody>\n",
       "    <tr>\n",
       "      <th>0</th>\n",
       "      <td>AAQRRGRVGRNPNQVGD</td>\n",
       "      <td>442.00000</td>\n",
       "      <td>7.724201</td>\n",
       "    </tr>\n",
       "    <tr>\n",
       "      <th>1</th>\n",
       "      <td>HRILARIRQMMT</td>\n",
       "      <td>435.50000</td>\n",
       "      <td>7.739016</td>\n",
       "    </tr>\n",
       "    <tr>\n",
       "      <th>2</th>\n",
       "      <td>RNPSQVGD</td>\n",
       "      <td>383.00000</td>\n",
       "      <td>7.867476</td>\n",
       "    </tr>\n",
       "    <tr>\n",
       "      <th>3</th>\n",
       "      <td>RVGRNPNQVGD</td>\n",
       "      <td>374.00000</td>\n",
       "      <td>7.891255</td>\n",
       "    </tr>\n",
       "    <tr>\n",
       "      <th>4</th>\n",
       "      <td>AAQRRGRIGRNPSQVGD</td>\n",
       "      <td>358.00000</td>\n",
       "      <td>7.934978</td>\n",
       "    </tr>\n",
       "    <tr>\n",
       "      <th>...</th>\n",
       "      <td>...</td>\n",
       "      <td>...</td>\n",
       "      <td>...</td>\n",
       "    </tr>\n",
       "    <tr>\n",
       "      <th>707</th>\n",
       "      <td>NGAICWGPCPTAFRQIGNCGHFKVRCCKIR</td>\n",
       "      <td>0.11515</td>\n",
       "      <td>15.977030</td>\n",
       "    </tr>\n",
       "    <tr>\n",
       "      <th>708</th>\n",
       "      <td>CFPYITRPGTYHDWWYTRKNRQ</td>\n",
       "      <td>0.30000</td>\n",
       "      <td>15.019483</td>\n",
       "    </tr>\n",
       "    <tr>\n",
       "      <th>709</th>\n",
       "      <td>YTSLIHSLIEESQNQQEKNEQELLELDKWASLWNWF</td>\n",
       "      <td>0.01131</td>\n",
       "      <td>18.297579</td>\n",
       "    </tr>\n",
       "    <tr>\n",
       "      <th>710</th>\n",
       "      <td>GTNLSVPNPLGFFPDHQLDPAFGANSNNPDWDFNPNKDHWPEANKVG</td>\n",
       "      <td>0.00008</td>\n",
       "      <td>23.248994</td>\n",
       "    </tr>\n",
       "    <tr>\n",
       "      <th>711</th>\n",
       "      <td>SWETWEREIENYTRQIYRILEESQEQQDRNERDLLE</td>\n",
       "      <td>0.00200</td>\n",
       "      <td>20.030119</td>\n",
       "    </tr>\n",
       "  </tbody>\n",
       "</table>\n",
       "<p>712 rows × 3 columns</p>\n",
       "</div>"
      ],
      "text/plain": [
       "                                            Sequence        MIC      pIC50\n",
       "0                                  AAQRRGRVGRNPNQVGD  442.00000   7.724201\n",
       "1                                       HRILARIRQMMT  435.50000   7.739016\n",
       "2                                           RNPSQVGD  383.00000   7.867476\n",
       "3                                        RVGRNPNQVGD  374.00000   7.891255\n",
       "4                                  AAQRRGRIGRNPSQVGD  358.00000   7.934978\n",
       "..                                               ...        ...        ...\n",
       "707                   NGAICWGPCPTAFRQIGNCGHFKVRCCKIR    0.11515  15.977030\n",
       "708                           CFPYITRPGTYHDWWYTRKNRQ    0.30000  15.019483\n",
       "709             YTSLIHSLIEESQNQQEKNEQELLELDKWASLWNWF    0.01131  18.297579\n",
       "710  GTNLSVPNPLGFFPDHQLDPAFGANSNNPDWDFNPNKDHWPEANKVG    0.00008  23.248994\n",
       "711             SWETWEREIENYTRQIYRILEESQEQQDRNERDLLE    0.00200  20.030119\n",
       "\n",
       "[712 rows x 3 columns]"
      ]
     },
     "execution_count": 10,
     "metadata": {},
     "output_type": "execute_result"
    }
   ],
   "source": [
    "df"
   ]
  },
  {
   "cell_type": "code",
   "execution_count": 11,
   "id": "eleven-munich",
   "metadata": {
    "scrolled": true
   },
   "outputs": [
    {
     "data": {
      "text/plain": [
       "<matplotlib.axes._subplots.AxesSubplot at 0x1a20b0b828>"
      ]
     },
     "execution_count": 11,
     "metadata": {},
     "output_type": "execute_result"
    },
    {
     "data": {
      "image/png": "[encoded data removed]",
      "text/plain": [
       "<Figure size 432x288 with 1 Axes>"
      ]
     },
     "metadata": {
      "needs_background": "light"
     },
     "output_type": "display_data"
    }
   ],
   "source": [
    "df['pIC50'].hist()"
   ]
  },
  {
   "cell_type": "code",
   "execution_count": 12,
   "id": "formed-eating",
   "metadata": {},
   "outputs": [],
   "source": [
    "def get_physicochemical_properties(df):\n",
    "    params = ['aromaticity', 'helix', 'turn', 'sheet', 'gravy', 'net_charge_at_pH7point4']\n",
    "\n",
    "    prop = []\n",
    "    for seq in df.Sequence:\n",
    "        X = ProteinAnalysis(seq)\n",
    "        aromaticity = X.aromaticity()\n",
    "        sec_struc = X.secondary_structure_fraction()\n",
    "        helix = sec_struc[0]\n",
    "        turn = sec_struc[1]\n",
    "        sheet = sec_struc[2]\n",
    "        gravy = X.gravy() # hydrophobicity related\n",
    "        net_charge_at_pH7point4 = X.charge_at_pH(7.4)\n",
    "\n",
    "        prop.append([aromaticity, helix, turn, sheet, gravy, net_charge_at_pH7point4])\n",
    "    return pd.DataFrame(prop, columns=params)"
   ]
  },
  {
   "cell_type": "code",
   "execution_count": 13,
   "id": "special-tobacco",
   "metadata": {},
   "outputs": [],
   "source": [
    "aa_freq = reduce_by_kmer_frequency(df)"
   ]
  },
  {
   "cell_type": "code",
   "execution_count": 14,
   "id": "undefined-immigration",
   "metadata": {},
   "outputs": [
    {
     "name": "stderr",
     "output_type": "stream",
     "text": [
      "/Users/in-divye.singh/anaconda3/envs/life-science/lib/python3.6/site-packages/smart_open/smart_open_lib.py:254: UserWarning: This function is deprecated, use smart_open.open instead. See the migration notes for details: https://github.com/RaRe-Technologies/smart_open/blob/master/README.rst#migrating-to-the-new-open-function\n",
      "  'See the migration notes for details: %s' % _MIGRATION_NOTES_URL\n",
      "Creating vectors: 100%|██████████| 712/712 [00:00<00:00, 1189.90sequence/s]\n"
     ]
    }
   ],
   "source": [
    "uniprot_embedding = biovec.models.load_protvec(\"../data/embeddings/uniprot__kmer_3_contextWindow_10_vector_100_reduction_None\")\n",
    "\n",
    "avg_protvec = convert_sequences_to_avg_vectors(df['Sequence'], uniprot_embedding, kmer=3)\n",
    "avg_protvec = avg_protvec.reset_index(drop=True)"
   ]
  },
  {
   "cell_type": "code",
   "execution_count": 15,
   "id": "expensive-allen",
   "metadata": {},
   "outputs": [],
   "source": [
    "physicochemical_prop = get_physicochemical_properties(df)"
   ]
  },
  {
   "cell_type": "code",
   "execution_count": 16,
   "id": "closed-hours",
   "metadata": {},
   "outputs": [],
   "source": [
    "X = pd.concat([aa_freq, avg_protvec, physicochemical_prop[['helix','turn','sheet']]], axis=1)"
   ]
  },
  {
   "cell_type": "code",
   "execution_count": 17,
   "id": "rough-report",
   "metadata": {},
   "outputs": [],
   "source": [
    "y = df[['pIC50', 'MIC']]"
   ]
  },
  {
   "cell_type": "code",
   "execution_count": 18,
   "id": "broke-ending",
   "metadata": {},
   "outputs": [],
   "source": [
    "X_train, X_test, y_train, y_test = train_test_split(X, y, test_size=0.2, random_state=42)"
   ]
  },
  {
   "cell_type": "code",
   "execution_count": 19,
   "id": "instant-congress",
   "metadata": {},
   "outputs": [],
   "source": [
    "y_train_pmic, y_train_mic = y_train['pIC50'], y_train['MIC']\n",
    "y_test_pmic, y_test_mic = y_test['pIC50'], y_test['MIC']"
   ]
  },
  {
   "cell_type": "code",
   "execution_count": 20,
   "id": "talented-latino",
   "metadata": {},
   "outputs": [],
   "source": [
    "from sklearn.model_selection import cross_val_score, GridSearchCV, LeaveOneOut"
   ]
  },
  {
   "cell_type": "code",
   "execution_count": 21,
   "id": "settled-actress",
   "metadata": {},
   "outputs": [],
   "source": [
    "def multi_objective_score(y_true, y_pred):\n",
    "    mape = mean_absolute_percentage_error(y_true, y_pred)\n",
    "    std_diff = abs(np.std(y_pred) - np.std(y_true))\n",
    "    return mape + 10*std_diff\n",
    "multi_objective_scorer = make_scorer(multi_objective_score, greater_is_better=False)"
   ]
  },
  {
   "cell_type": "code",
   "execution_count": 25,
   "id": "expanded-uganda",
   "metadata": {},
   "outputs": [],
   "source": [
    "from geneal.genetic_algorithms import ContinuousGenAlgSolver"
   ]
  },
  {
   "cell_type": "code",
   "execution_count": 42,
   "id": "public-drunk",
   "metadata": {},
   "outputs": [],
   "source": [
    "def fitness_function(chromosome):\n",
    "    svr = SVR(C=100, gamma=3)\n",
    "    cv_score = cross_val_score(svr, X_train, y_train_pmic, cv=5, fit_params={\"sample_weight\":chromosome},\n",
    "                               scoring=mape_scorer)\n",
    "    return cv_score.mean()"
   ]
  },
  {
   "cell_type": "code",
   "execution_count": 43,
   "id": "rapid-graphics",
   "metadata": {},
   "outputs": [],
   "source": [
    "solver = ContinuousGenAlgSolver(\n",
    "    n_genes=X_train.shape[0], \n",
    "    fitness_function=fitness_function,\n",
    "    pop_size=50,\n",
    "    max_gen=200,\n",
    "    mutation_rate=0.2,\n",
    "    selection_rate=0.6,\n",
    "    selection_strategy=\"roulette_wheel\"\n",
    ")"
   ]
  },
  {
   "cell_type": "code",
   "execution_count": 44,
   "id": "scenic-benefit",
   "metadata": {
    "scrolled": true
   },
   "outputs": [
    {
     "name": "stdout",
     "output_type": "stream",
     "text": [
      "Iteration: 20\n",
      "Best fitness: -14.869760933033849\n",
      "Iteration: 40\n",
      "Best fitness: -14.376521623947415\n",
      "Iteration: 60\n",
      "Best fitness: -14.158122914611862\n",
      "Iteration: 80\n",
      "Best fitness: -14.158122914611862\n",
      "Iteration: 100\n",
      "Best fitness: -14.158122914611862\n",
      "Iteration: 120\n",
      "Best fitness: -14.062990986682113\n",
      "Iteration: 140\n",
      "Best fitness: -13.992828550738531\n",
      "Iteration: 160\n",
      "Best fitness: -13.924132855973687\n",
      "Iteration: 180\n",
      "Best fitness: -13.924132855973687\n",
      "Iteration: 200\n",
      "Best fitness: -13.507513593885992\n"
     ]
    },
    {
     "data": {
      "image/png": "[encoded data removed]",
      "text/plain": [
       "<Figure size 504x504 with 1 Axes>"
      ]
     },
     "metadata": {
      "needs_background": "light"
     },
     "output_type": "display_data"
    },
    {
     "name": "stdout",
     "output_type": "stream",
     "text": [
      "\n",
      "#############################\n",
      "#\t\t\tSTATS\t\t\t#\n",
      "#############################\n",
      "\n",
      "\n",
      "Total running time: 15 minutes, 55 seconds\n",
      "\n",
      "\n",
      "Population size: 50\n",
      "Number variables: 569\n",
      "Selection rate: 0.6\n",
      "Mutation rate: 0.2\n",
      "Number Generations: 200\n",
      "\n",
      "Best fitness: -13.507513593885992\n",
      "Best individual: [ 5.17192247e+00  5.40130051e+00  5.07364754e+00  4.89402011e+00\n",
      "  9.51476637e+00  4.19366464e+00 -9.93105806e+00 -9.70763058e+00\n",
      "  4.10261520e-01  8.80638023e-01  4.74613524e+00  7.62848937e+00\n",
      "  1.29031455e+00 -1.34421205e+00  7.55880180e+00 -3.15424721e+00\n",
      "  2.25258955e+00 -4.75072729e+00  9.45028982e+00 -2.71305759e+00\n",
      "  2.34777865e+00  7.46875088e+00 -4.16574898e+00 -1.70178147e+00\n",
      "  6.88571706e+00  2.80036959e+00  6.85916680e+00  3.63270125e-01\n",
      " -5.37180997e+00  4.43070736e+00 -1.06063692e+00 -6.45001675e+00\n",
      "  8.12992296e+00  3.07484165e+00 -7.41491365e+00  4.46905544e+00\n",
      " -9.75422047e+00  3.36484107e+00 -7.52144299e+00 -1.58724330e+00\n",
      "  3.32727866e+00 -7.52541097e+00  8.11295597e+00  1.90919631e+00\n",
      "  4.62086535e+00 -8.62547005e+00  2.84153675e+00  7.85814998e+00\n",
      " -6.80017226e+00 -3.93745354e+00 -8.64126283e+00 -1.55683021e+00\n",
      "  6.19066548e+00  7.30628574e+00  7.49065471e+00 -9.39095526e-01\n",
      "  7.40617351e+00 -9.02643702e+00  1.21141756e+00  4.85012841e+00\n",
      " -1.76828122e+00 -2.59817448e+00  8.78869664e-01  3.70603260e+00\n",
      " -1.48638430e+00  7.93795417e-01  2.36323134e+00 -1.52411627e+00\n",
      "  8.19050845e+00 -4.59895790e+00 -1.80616991e+00  6.52905347e-01\n",
      " -2.15119304e+00  2.96014889e+00 -8.05253018e+00 -5.13648401e+00\n",
      "  8.61602093e+00  8.21917692e+00  9.06537617e+00 -2.74363323e+00\n",
      " -1.22074424e+00  2.57392536e+00 -6.83644045e+00  4.14059414e+00\n",
      "  8.75912563e+00 -5.26480264e+00 -2.67616491e-01 -8.31821968e+00\n",
      " -2.91636642e+00  7.92408677e-01 -8.41626698e+00  9.26073962e+00\n",
      "  1.09385859e+00 -3.28218260e-01  7.66052322e+00 -5.54365815e+00\n",
      "  8.33354670e+00 -2.16782292e-01  2.40384306e+00 -4.09737755e+00\n",
      " -6.75375886e+00  6.76151214e+00  5.99704310e+00 -5.48325987e+00\n",
      "  1.88556706e+00 -5.26255605e-01 -3.20411819e+00 -3.09008078e+00\n",
      "  6.04908599e+00  5.21174654e-01  7.15036274e+00 -7.96718126e-01\n",
      " -1.05994580e+00  5.95910514e+00 -6.87411254e+00  6.19865979e+00\n",
      "  7.02550732e+00  5.99558709e+00 -9.86810749e+00  1.71513250e+00\n",
      " -7.12775478e+00 -8.72455682e+00 -4.34623597e+00 -1.87798789e+00\n",
      "  5.18938085e+00  3.87630951e+00  5.53247901e+00  2.01731571e+00\n",
      " -8.74763197e+00  6.48255871e+00  7.75764829e+00 -4.55288677e+00\n",
      " -3.65417922e+00 -2.15112492e+00  4.11505832e+00  2.63901268e-01\n",
      "  5.11715483e+00  7.47860431e+00 -1.16564118e+00  8.64219739e+00\n",
      "  5.14005434e+00 -6.70415929e+00 -7.81228519e+00 -3.41137542e+00\n",
      "  9.63067037e+00  7.92022251e+00  3.56687077e+00  4.62218106e+00\n",
      "  8.98711274e-01  3.40991182e+00  7.82378666e+00 -2.14738201e+00\n",
      " -2.25892364e+00  7.60106705e+00  4.54171401e+00  9.27344163e+00\n",
      "  6.13455416e+00  6.94835077e+00 -8.04228642e+00  9.22019589e+00\n",
      " -1.83792909e+00  4.50909811e+00  8.28866631e+00  9.06432657e+00\n",
      " -3.88223172e+00 -1.65391100e+00 -3.42506757e+00 -4.60593537e+00\n",
      " -4.12896032e+00  3.58704508e+00  6.86456373e+00  5.55049592e+00\n",
      " -8.65164531e+00 -5.94875460e+00 -4.96258968e+00  5.28865837e+00\n",
      "  2.53922724e+00  4.30681184e+00  7.27775930e-01  5.39508079e+00\n",
      " -4.51283735e+00 -2.89576617e-01  8.82573908e+00 -3.19601444e+00\n",
      " -3.89667170e+00 -1.60196072e+00 -8.80921481e+00  7.37865910e+00\n",
      " -1.74380852e+00 -5.81630574e+00  4.39852695e+00 -9.29410878e+00\n",
      " -7.17868663e+00 -9.43975187e+00  2.10157337e+00  1.81568297e-01\n",
      "  9.40763385e+00 -6.27452823e+00  4.87682530e+00  1.09644551e+00\n",
      " -3.69349331e+00 -1.06358467e+00 -6.59084697e+00  9.93356332e+00\n",
      "  4.75349932e+00  3.65451525e+00  5.81028760e+00  7.74976392e+00\n",
      " -1.17075665e+00  9.09112167e+00 -2.32060745e+00 -8.52693974e+00\n",
      "  7.99244673e-01  2.41353794e+00 -3.27545628e+00  3.05800925e+00\n",
      " -6.97815756e+00  3.76445442e+00  9.65774209e+00 -3.71139150e+00\n",
      "  3.88882981e+00 -2.34772898e+00  5.73586922e+00 -7.00021016e+00\n",
      " -7.44960740e+00  8.46773695e-01  3.92001979e+00 -4.00350676e-01\n",
      "  9.37050057e+00  7.09428009e+00 -3.65467760e+00 -2.59571340e+00\n",
      "  2.15038678e-01 -6.87774536e+00 -5.36202494e+00  9.27488628e+00\n",
      "  1.41396812e+00  6.39608663e+00  9.46574956e+00  7.81161126e+00\n",
      " -3.55385461e+00 -6.09975469e+00  1.15144868e+00 -5.46671228e+00\n",
      "  5.05226411e+00  6.33736981e+00  2.19618242e+00 -6.09663758e+00\n",
      " -8.60232577e+00 -4.76673766e+00 -9.09082102e+00  1.30840114e+00\n",
      "  3.13071082e+00 -9.80716894e+00 -6.59269816e+00 -2.65523781e+00\n",
      " -7.39612535e+00 -2.57896615e+00  2.32985955e+00  2.90958168e+00\n",
      " -4.64837411e+00 -6.04542920e+00  3.03570277e+00  4.96615116e+00\n",
      " -1.45091750e-01 -8.52915723e+00  1.76362837e+00  7.72648090e-01\n",
      "  1.12966507e-01 -6.04385231e+00 -5.84249559e+00  1.30509120e+00\n",
      "  1.28536246e-01  1.84517682e+00 -5.96319199e+00  3.11490352e+00\n",
      " -1.67209488e+00 -6.97836576e+00  3.01925956e+00  7.78525336e+00\n",
      " -6.77177595e+00  1.59947312e+00 -3.99388094e+00  9.41223531e+00\n",
      " -9.02860708e+00 -1.64530743e+00  5.32249264e+00 -2.09990128e+00\n",
      " -2.76212849e+00 -2.72270706e+00 -1.74084535e-01  4.11851991e+00\n",
      " -7.24030020e+00  3.08514491e+00 -3.36341515e+00  6.15793408e+00\n",
      "  7.96014975e+00  8.43532891e+00  3.62322443e+00 -1.24755658e+00\n",
      "  5.40242658e+00  9.52469859e+00  1.40387806e+00 -2.12870598e+00\n",
      "  7.99972415e+00 -3.99949293e+00 -5.05841885e+00 -4.38817234e+00\n",
      " -6.05092411e+00 -2.62227685e+00  5.48927811e-01 -8.74704401e+00\n",
      " -7.62626066e+00 -3.40650239e+00  3.34057340e+00  4.64143563e+00\n",
      " -8.51244599e+00  7.34417621e+00 -2.73037057e+00  3.48343822e+00\n",
      "  5.40658068e-01  6.13503050e+00 -2.47729608e+00  5.85199220e+00\n",
      "  6.21881043e+00  6.14843827e+00 -2.20903137e+00 -7.78236201e+00\n",
      "  4.13481290e+00 -5.75674899e+00  2.82012992e+00 -6.07387243e+00\n",
      "  5.91113551e+00  4.48916846e+00  6.00986421e+00 -7.20639260e+00\n",
      "  2.52341288e+00  6.38710189e+00 -4.69519431e+00  3.87521113e+00\n",
      " -3.47811567e-01  9.74460863e+00 -5.82438710e+00  3.02568270e+00\n",
      "  7.03993017e+00 -8.95870324e+00 -4.67378373e+00  6.34158306e+00\n",
      " -4.78348050e+00 -2.11302168e+00  6.54734670e+00  2.05098302e+00\n",
      "  6.18619880e-03 -9.54402731e+00 -5.38584293e+00  7.75623494e+00\n",
      " -5.98483595e+00  2.69262391e+00  1.17253062e+00 -5.03982160e+00\n",
      "  4.96209290e+00 -3.98047425e+00  7.43505006e+00  7.25527559e+00\n",
      "  1.97485008e-01 -5.79344161e+00 -1.64935256e+00 -2.68903571e-01\n",
      " -7.77420624e+00  7.67666768e+00 -2.28425551e+00  9.70427220e-01\n",
      "  4.61030009e+00 -5.14168827e+00  2.10198633e-01  3.40211829e+00\n",
      "  7.22237887e+00  3.13654205e+00 -2.79312057e+00 -5.44484911e-02\n",
      " -7.71198895e+00  5.39535401e+00 -2.68648356e+00 -2.17838259e+00\n",
      "  1.61734840e+00 -3.09761009e+00 -9.47097957e+00  8.85843571e+00\n",
      " -7.87422303e+00  2.58976808e+00  8.15638269e-01 -4.75201335e+00\n",
      "  4.33233001e+00  1.50867246e-02 -1.08009033e+00 -9.96844506e+00\n",
      "  1.63137301e+00 -7.87079244e+00  3.92722721e+00  7.19821876e+00\n",
      "  6.12493230e+00  4.26670544e+00 -2.81784480e+00  7.57495095e+00\n",
      "  8.33438269e+00  6.46132891e+00 -2.53786698e+00  8.79463821e+00\n",
      " -4.40047999e-01  1.84460094e+00  9.25050900e+00  2.31591651e+00\n",
      " -5.86263867e+00 -1.80940516e+00 -4.96949676e+00  5.20169286e+00\n",
      " -5.83230374e+00  6.19875145e+00  3.57742143e+00 -7.89740659e+00\n",
      " -2.67836631e+00 -2.71272682e+00  3.58539935e+00 -6.99471118e+00\n",
      "  3.30949727e+00 -2.25167432e+00 -6.92278408e+00 -5.34906797e+00\n",
      "  8.89094056e+00 -3.19790011e+00 -7.04615621e+00 -9.22866679e-01\n",
      "  8.03375018e+00 -8.23845407e+00 -8.48514213e+00  4.49616491e+00\n",
      "  5.66535787e+00 -8.36031448e+00  7.96593021e+00 -9.84827594e+00\n",
      " -2.97014450e-01  4.11569380e+00 -3.70584334e+00  3.34426683e+00\n",
      "  2.77099165e-01 -6.27205819e+00  3.48599021e+00 -9.27164441e+00\n",
      "  8.89690264e-01  2.20497875e+00 -3.01436901e+00 -1.46554631e+00\n",
      "  1.48001279e+00  5.91716382e+00  9.82582404e-01  1.78044136e+00\n",
      " -5.62605511e-01 -4.67720667e+00  6.41093073e+00  8.44901694e+00\n",
      "  7.61223619e-01 -7.61563216e+00 -8.09034719e+00  2.83331092e+00\n",
      "  8.75656092e+00  6.88527242e+00 -9.37519720e+00  4.19794113e+00\n",
      " -3.07324942e+00  7.18444796e+00  6.48680014e+00  4.70970961e+00\n",
      "  9.33287312e+00  2.59440290e+00 -5.37868004e+00  1.29368707e+00\n",
      "  2.54022127e+00 -7.59611502e+00  9.20638859e+00  9.03672740e+00\n",
      "  6.53777218e+00  1.46345064e+00  2.72263356e+00  6.22075521e+00\n",
      "  9.79427956e+00  5.55382624e+00  8.50994784e+00 -7.54209122e+00\n",
      "  4.71952463e+00 -2.61274018e+00  3.03745424e+00  9.25517875e-01\n",
      "  5.19648438e+00 -6.73284873e+00  3.65628319e+00 -5.82013302e+00\n",
      "  8.08905704e+00  3.13650308e+00  9.39253844e+00  2.04018960e+00\n",
      "  2.82166612e+00  1.09832833e+00  9.23663095e+00  7.42241936e+00\n",
      " -2.87395361e+00  6.59603013e+00 -3.69893632e+00  9.63994162e+00\n",
      " -9.73993641e+00 -9.16305217e+00 -2.52430355e+00  4.66579428e+00\n",
      " -8.89058223e+00 -8.00040571e+00 -4.34288848e+00  4.45319887e+00\n",
      " -4.59356249e+00  8.59328926e+00  2.75664257e+00 -9.48815550e+00\n",
      "  1.20058705e+00  7.03286358e+00  1.81838675e+00  1.57781627e+00\n",
      " -7.15012554e+00 -8.14100847e+00 -3.60007365e+00 -6.84476579e+00\n",
      " -7.62909091e+00  3.64545787e+00 -8.42142275e+00 -5.32685288e+00\n",
      "  3.91226626e+00  6.37209054e+00 -7.99100077e+00  1.30756227e+00\n",
      " -6.29028356e+00 -5.19530899e+00 -2.86720492e+00  9.96358524e-02\n",
      "  7.57328275e+00  7.74824654e+00 -2.74265352e+00  7.42957499e+00\n",
      "  4.58406986e+00  1.85092050e+00 -2.66583017e+00  4.21842400e+00\n",
      " -7.03113738e+00  4.75891425e+00 -7.70219137e+00 -6.03294902e-01\n",
      " -5.17816046e+00  4.18197003e-01  8.51406185e+00 -6.36038786e+00\n",
      "  9.72296174e+00  1.26460826e+00 -3.06067959e+00 -8.04053844e+00\n",
      "  1.09255652e-01 -5.13486236e+00 -5.43179708e+00  3.44551145e+00\n",
      "  7.51237609e+00  3.47425960e+00 -5.63933677e+00  7.42665980e-01\n",
      "  8.21527725e-01]\n"
     ]
    }
   ],
   "source": [
    "solver.solve()"
   ]
  },
  {
   "cell_type": "code",
   "execution_count": 40,
   "id": "actual-architect",
   "metadata": {},
   "outputs": [],
   "source": [
    "svr = SVR(C=100, gamma=3)\n",
    "cv_score = cross_val_score(svr, X_train, y_train_pmic, cv=5,\n",
    "                               scoring=mape_scorer)"
   ]
  },
  {
   "cell_type": "code",
   "execution_count": 41,
   "id": "expired-motorcycle",
   "metadata": {},
   "outputs": [
    {
     "data": {
      "text/plain": [
       "-14.995841393329982"
      ]
     },
     "execution_count": 41,
     "metadata": {},
     "output_type": "execute_result"
    }
   ],
   "source": [
    "cv_score.mean()"
   ]
  },
  {
   "cell_type": "code",
   "execution_count": 55,
   "id": "declared-adrian",
   "metadata": {
    "scrolled": false
   },
   "outputs": [],
   "source": [
    "keep_point = np.where(solver.best_individual_ > 0)[0]"
   ]
  },
  {
   "cell_type": "code",
   "execution_count": 59,
   "id": "pressed-standing",
   "metadata": {},
   "outputs": [],
   "source": [
    "df2 = df.iloc[keep_point,:]"
   ]
  },
  {
   "cell_type": "code",
   "execution_count": 60,
   "id": "palestinian-quebec",
   "metadata": {},
   "outputs": [],
   "source": [
    "aa_freq = reduce_by_kmer_frequency(df2)"
   ]
  },
  {
   "cell_type": "code",
   "execution_count": 61,
   "id": "greenhouse-column",
   "metadata": {},
   "outputs": [
    {
     "name": "stdout",
     "output_type": "stream",
     "text": [
      "loading Word2Vec object from ../data/embeddings/uniprot__kmer_3_contextWindow_10_vector_100_reduction_None\n",
      "loading wv recursively from ../data/embeddings/uniprot__kmer_3_contextWindow_10_vector_100_reduction_None.wv.* with mmap=None\n",
      "setting ignored attribute vectors_norm to None\n",
      "loading vocabulary recursively from ../data/embeddings/uniprot__kmer_3_contextWindow_10_vector_100_reduction_None.vocabulary.* with mmap=None\n",
      "loading trainables recursively from ../data/embeddings/uniprot__kmer_3_contextWindow_10_vector_100_reduction_None.trainables.* with mmap=None\n",
      "setting ignored attribute cum_table to None\n",
      "loaded ../data/embeddings/uniprot__kmer_3_contextWindow_10_vector_100_reduction_None\n"
     ]
    },
    {
     "name": "stderr",
     "output_type": "stream",
     "text": [
      "/Users/in-divye.singh/anaconda3/envs/life-science/lib/python3.6/site-packages/smart_open/smart_open_lib.py:254: UserWarning: This function is deprecated, use smart_open.open instead. See the migration notes for details: https://github.com/RaRe-Technologies/smart_open/blob/master/README.rst#migrating-to-the-new-open-function\n",
      "  'See the migration notes for details: %s' % _MIGRATION_NOTES_URL\n",
      "Creating vectors: 100%|██████████| 312/312 [00:00<00:00, 1011.85sequence/s]\n"
     ]
    }
   ],
   "source": [
    "uniprot_embedding = biovec.models.load_protvec(\"../data/embeddings/uniprot__kmer_3_contextWindow_10_vector_100_reduction_None\")\n",
    "\n",
    "avg_protvec = convert_sequences_to_avg_vectors(df2['Sequence'], uniprot_embedding, kmer=3)\n",
    "avg_protvec = avg_protvec.reset_index(drop=True)"
   ]
  },
  {
   "cell_type": "code",
   "execution_count": 62,
   "id": "educated-drink",
   "metadata": {},
   "outputs": [],
   "source": [
    "physicochemical_prop = get_physicochemical_properties(df2)"
   ]
  },
  {
   "cell_type": "code",
   "execution_count": 63,
   "id": "metropolitan-brisbane",
   "metadata": {},
   "outputs": [],
   "source": [
    "X = pd.concat([aa_freq, avg_protvec, physicochemical_prop[['helix','turn','sheet']]], axis=1)"
   ]
  },
  {
   "cell_type": "code",
   "execution_count": 64,
   "id": "iraqi-saver",
   "metadata": {},
   "outputs": [],
   "source": [
    "y = df2[['pIC50', 'MIC']]"
   ]
  },
  {
   "cell_type": "code",
   "execution_count": 65,
   "id": "aggressive-parker",
   "metadata": {},
   "outputs": [],
   "source": [
    "X_train, X_test, y_train, y_test = train_test_split(X, y, test_size=0.2, random_state=42)"
   ]
  },
  {
   "cell_type": "code",
   "execution_count": 66,
   "id": "champion-minute",
   "metadata": {},
   "outputs": [],
   "source": [
    "y_train_pmic, y_train_mic = y_train['pIC50'], y_train['MIC']\n",
    "y_test_pmic, y_test_mic = y_test['pIC50'], y_test['MIC']"
   ]
  },
  {
   "cell_type": "code",
   "execution_count": 69,
   "id": "invalid-finger",
   "metadata": {},
   "outputs": [
    {
     "name": "stdout",
     "output_type": "stream",
     "text": [
      "[-13.02308362 -10.64224148 -12.48650891 -12.71021793 -11.37619722] -12.047649829322996\n",
      "1.9903369196384313 1.6004568089335711\n"
     ]
    }
   ],
   "source": [
    "svr = SVR(C=100, gamma=5)\n",
    "cv_score = cross_val_score(svr, X_train, y_train_pmic, cv=5, scoring=mape_scorer)\n",
    "cv_mean = cv_score.mean()\n",
    "print(cv_score, cv_mean)\n",
    "\n",
    "_ = svr.fit(X_train, y_train_pmic)\n",
    "y_pred = svr.predict(X_test)\n",
    "\n",
    "print(np.std(y_test_pmic), np.std(y_pred))"
   ]
  },
  {
   "cell_type": "code",
   "execution_count": 70,
   "id": "modified-evanescence",
   "metadata": {},
   "outputs": [],
   "source": [
    "ape = 100*np.abs(y_test_pmic-y_pred)/y_test_pmic"
   ]
  },
  {
   "cell_type": "code",
   "execution_count": 71,
   "id": "fabulous-radio",
   "metadata": {},
   "outputs": [],
   "source": [
    "y_pred_mic = np.exp(-y_pred)/1e-6"
   ]
  },
  {
   "cell_type": "code",
   "execution_count": 72,
   "id": "bacterial-construction",
   "metadata": {},
   "outputs": [],
   "source": [
    "ape_mic = 100*np.abs(y_test_mic-y_pred_mic)/y_test_mic"
   ]
  },
  {
   "cell_type": "code",
   "execution_count": 73,
   "id": "leading-happiness",
   "metadata": {
    "scrolled": true
   },
   "outputs": [],
   "source": [
    "gg = list(zip(y_test_pmic.round(4), y_pred.round(4), ape, y_test_mic.round(4), y_pred_mic.round(4), ape_mic))"
   ]
  },
  {
   "cell_type": "code",
   "execution_count": 74,
   "id": "apparent-archive",
   "metadata": {},
   "outputs": [
    {
     "data": {
      "text/plain": [
       "[(7.8913, 7.8734, 0.22583848899136155, 374.0, 380.725, 1.7981240861133378),\n",
       " (9.2103, 9.2523, 0.45542691364956833, 100.0, 95.8921, 4.107879280041729),\n",
       " (10.1019, 10.1721, 0.6945954662037052, 41.0, 38.2217, 6.776244250461426),\n",
       " (10.4833, 10.3732, 1.0498595481309316, 28.0, 31.2577, 11.63450374336094),\n",
       " (11.8006, 11.6602, 1.189638523901477, 7.5, 8.6304, 15.071624854221332),\n",
       " (11.8456, 11.685, 1.356114470338013, 7.17, 8.4195, 17.426211394073423),\n",
       " (14.8316, 14.6044, 1.532322470014401, 0.362, 0.4544, 25.516654734811787),\n",
       " (10.2545, 9.9291, 3.1729609849758234, 35.2, 48.7359, 38.45430494711982),\n",
       " (12.2061, 12.7028, 4.069481253228161, 5.0, 3.0426, 39.14789890515285),\n",
       " (9.2103, 9.8644, 7.101209472147627, 100.0, 51.9938, 48.00619259750502),\n",
       " (12.8562, 13.5135, 5.112759342471097, 2.61, 1.3526, 48.17536334524459),\n",
       " (12.7169, 13.3915, 5.304386010009347, 3.0, 1.5282, 49.06161254471147),\n",
       " (12.6006, 12.1985, 3.191410078697448, 3.37, 5.0382, 49.50157600093518),\n",
       " (9.9035, 10.6128, 7.1618734099677, 50.0, 24.6, 50.799935016337216),\n",
       " (8.0074, 8.7384, 9.129665853587582, 333.0, 160.3079, 51.85947982718958),\n",
       " (13.7763, 14.6246, 6.158006495239417, 1.04, 0.4452, 57.187703507914016),\n",
       " (9.9443, 10.803, 8.635175557081027, 48.0, 20.338, 57.629108779126085),\n",
       " (11.4176, 10.9619, 3.991441966869687, 11.0, 17.3505, 57.73204476133739),\n",
       " (9.6884, 10.6205, 9.621471103415274, 62.0, 24.4094, 60.62993042665817),\n",
       " (9.2103, 10.1623, 10.335863565467514, 100.0, 38.5981, 61.40194173362949),\n",
       " (10.8198, 10.3215, 4.604902895689008, 20.0, 32.9165, 64.58225399390983),\n",
       " (13.2849, 12.7764, 3.8272147554182867, 1.7, 2.8266, 66.269698856291),\n",
       " (8.8597, 10.0834, 13.812656951893286, 142.0, 41.7654, 70.58771344556223),\n",
       " (13.6332, 13.0885, 3.995158235695829, 1.2, 2.0688, 72.40349991529447),\n",
       " (8.0074, 9.3775, 17.110952863910516, 333.0, 84.606, 74.59278445554949),\n",
       " (11.5129, 12.9027, 12.07104583123073, 10.0, 2.4914, 75.08575628676634),\n",
       " (10.5197, 12.0193, 14.255267799328646, 27.0, 6.0269, 77.67822789864043),\n",
       " (9.9156, 11.6419, 17.410050072573206, 49.4, 8.7903, 82.20591316684782),\n",
       " (11.3645, 13.1001, 15.272279075079378, 11.6, 2.045, 82.37089557689609),\n",
       " (9.7533, 11.5101, 18.012088502198935, 58.1, 10.028, 82.74004511617153),\n",
       " (10.5197, 12.5387, 19.192710282253444, 27.0, 3.5852, 86.72132066215296),\n",
       " (8.5172, 10.7254, 25.926577629043212, 200.0, 21.9793, 89.01035482857273),\n",
       " (11.9437, 14.4572, 21.044157393488767, 6.5, 0.5264, 91.90118790765062),\n",
       " (11.6183, 10.9597, 5.668852563050208, 9.0, 17.3892, 93.2130929903579),\n",
       " (8.0074, 10.9388, 36.60908167405927, 333.0, 17.7559, 94.66789406425988),\n",
       " (10.625, 13.7504, 29.414894038598458, 24.3, 1.0673, 95.60781145597835),\n",
       " (9.5546, 12.7378, 33.31631372574352, 70.875, 2.9379, 95.85487860652529),\n",
       " (8.2446, 11.8939, 44.26309155318771, 262.667, 6.8316, 97.39913275964278),\n",
       " (8.5172, 13.7021, 60.87572238359803, 200.0, 1.1201, 99.43995195040925),\n",
       " (12.2061, 11.4758, 5.983224431067956, 5.0, 10.3787, 107.5737932540525),\n",
       " (11.6123, 10.8641, 6.442942294903488, 9.054, 19.1324, 111.31379862125908),\n",
       " (12.4292, 11.6295, 6.433788270126122, 4.0, 8.8992, 122.4805405833556),\n",
       " (9.9569, 9.1459, 8.145443380140316, 47.4, 106.6609, 125.02306032186088),\n",
       " (10.0874, 9.0124, 10.656479626882815, 41.6, 121.8832, 192.9884003993795),\n",
       " (10.5966, 9.4271, 11.036408952825157, 25.0, 80.5086, 222.0343221428172),\n",
       " (11.7874, 10.5397, 10.584477619597674, 7.6, 26.4638, 248.20831663624563),\n",
       " (10.8326, 9.5131, 12.180823930884802, 19.745, 73.877, 274.1554561735249),\n",
       " (15.0885, 13.7492, 8.875919944939788, 0.28, 1.0685, 281.6146223660925),\n",
       " (14.4889, 13.1479, 9.254737864539745, 0.51, 1.9495, 282.250344520568),\n",
       " (14.5087, 13.1208, 9.56596924257764, 0.5, 2.0032, 300.6402621366343),\n",
       " (11.339, 9.9433, 12.308241478421884, 11.9, 48.0464, 303.7509632719499),\n",
       " (11.9134, 10.498, 11.880371881061226, 6.7, 27.5903, 311.7954600264803),\n",
       " (14.8653, 13.326, 10.355416579135879, 0.35, 1.6316, 366.163910304811),\n",
       " (13.786, 12.1251, 12.047736198890796, 1.03, 5.4219, 426.40205612916014),\n",
       " (13.0736, 11.0302, 15.6301572810968, 2.1, 16.2056, 671.6956538074771),\n",
       " (13.2849, 10.9351, 17.687301946411452, 1.7, 17.8208, 948.2814970149223),\n",
       " (13.3455, 10.9871, 17.67169895484845, 1.6, 16.9181, 957.3784827933197),\n",
       " (12.0238, 9.5463, 20.604769654849438, 6.0, 71.4663, 1091.1046129102858),\n",
       " (12.5627, 9.9896, 20.482551038922026, 3.5, 45.8756, 1210.7324379543006),\n",
       " (13.6085, 10.4259, 23.386561364468395, 1.23, 29.6533, 2310.8376644056375),\n",
       " (14.025, 10.7521, 23.336361567561383, 0.811, 21.401, 2538.839136552788),\n",
       " (15.7126, 11.7914, 24.956043832508442, 0.15, 7.5695, 4946.353344901121),\n",
       " (12.4292, 8.5041, 31.579575266027277, 4.0, 202.6313, 4965.782365698767)]"
      ]
     },
     "execution_count": 74,
     "metadata": {},
     "output_type": "execute_result"
    }
   ],
   "source": [
    "sorted(gg, key=lambda x:x[5])"
   ]
  },
  {
   "cell_type": "code",
   "execution_count": 76,
   "id": "victorian-shipping",
   "metadata": {},
   "outputs": [
    {
     "data": {
      "text/plain": [
       "<seaborn.axisgrid.FacetGrid at 0x1a2388ab00>"
      ]
     },
     "execution_count": 76,
     "metadata": {},
     "output_type": "execute_result"
    },
    {
     "data": {
      "image/png": "[encoded data removed]",
      "text/plain": [
       "<Figure size 360x360 with 1 Axes>"
      ]
     },
     "metadata": {
      "needs_background": "light"
     },
     "output_type": "display_data"
    }
   ],
   "source": [
    "sns.relplot(x=ape, y=ape_mic)"
   ]
  },
  {
   "cell_type": "code",
   "execution_count": null,
   "id": "dynamic-emperor",
   "metadata": {},
   "outputs": [],
   "source": []
  }
 ],
 "metadata": {
  "kernelspec": {
   "display_name": "Python 3",
   "language": "python",
   "name": "python3"
  },
  "language_info": {
   "codemirror_mode": {
    "name": "ipython",
    "version": 3
   },
   "file_extension": ".py",
   "mimetype": "text/x-python",
   "name": "python",
   "nbconvert_exporter": "python",
   "pygments_lexer": "ipython3",
   "version": "3.6.10"
  },
  "varInspector": {
   "cols": {
    "lenName": 16,
    "lenType": 16,
    "lenVar": 40
   },
   "kernels_config": {
    "python": {
     "delete_cmd_postfix": "",
     "delete_cmd_prefix": "del ",
     "library": "var_list.py",
     "varRefreshCmd": "print(var_dic_list())"
    },
    "r": {
     "delete_cmd_postfix": ") ",
     "delete_cmd_prefix": "rm(",
     "library": "var_list.r",
     "varRefreshCmd": "cat(var_dic_list()) "
    }
   },
   "types_to_exclude": [
    "module",
    "function",
    "builtin_function_or_method",
    "instance",
    "_Feature"
   ],
   "window_display": false
  }
 },
 "nbformat": 4,
 "nbformat_minor": 5
}
