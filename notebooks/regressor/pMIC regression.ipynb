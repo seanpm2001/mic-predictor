{
 "cells": [
  {
   "cell_type": "code",
   "execution_count": 1,
   "id": "mediterranean-haven",
   "metadata": {},
   "outputs": [
    {
     "name": "stdout",
     "output_type": "stream",
     "text": [
      "/Users/in-divye.singh/Documents/Projects/MIC_predictor/src\n"
     ]
    }
   ],
   "source": [
    "cd ../../src"
   ]
  },
  {
   "cell_type": "code",
   "execution_count": 2,
   "id": "level-oregon",
   "metadata": {},
   "outputs": [],
   "source": [
    "import biovec\n",
    "import numpy as np\n",
    "import pandas as pd\n",
    "from itertools import chain, combinations\n",
    "from collections import Counter\n",
    "\n",
    "from utils import *\n",
    "\n",
    "from sklearn.svm import SVR\n",
    "from sklearn.neighbors import KNeighborsRegressor\n",
    "from sklearn.metrics import make_scorer\n",
    "from sklearn.model_selection import GridSearchCV\n",
    "from sklearn.metrics import mean_squared_error, mean_absolute_error\n",
    "from sklearn.model_selection import train_test_split\n",
    "\n",
    "from Bio.SeqUtils.ProtParam import ProteinAnalysis"
   ]
  },
  {
   "cell_type": "code",
   "execution_count": 3,
   "id": "powered-electric",
   "metadata": {},
   "outputs": [],
   "source": [
    "import seaborn as sns"
   ]
  },
  {
   "cell_type": "code",
   "execution_count": 4,
   "id": "nonprofit-expense",
   "metadata": {},
   "outputs": [],
   "source": [
    "def mean_absolute_percentage_error(y_true, y_pred): \n",
    "    y_true, y_pred = np.array(y_true), np.array(y_pred)\n",
    "    return np.mean(np.abs((y_true - y_pred) / y_true)) * 100\n",
    "\n",
    "mape_scorer = make_scorer(mean_absolute_percentage_error, greater_is_better=False)"
   ]
  },
  {
   "cell_type": "code",
   "execution_count": 5,
   "id": "alpha-campaign",
   "metadata": {},
   "outputs": [],
   "source": [
    "avp_ic50 = pd.read_csv(\"../data/raw/AVP-IC50Pred_train.csv\")\n",
    "ha_avp = pd.read_csv(\"../data/raw/HA_AVP.csv\")"
   ]
  },
  {
   "cell_type": "code",
   "execution_count": 6,
   "id": "rubber-antenna",
   "metadata": {},
   "outputs": [],
   "source": [
    "df = pd.concat([avp_ic50[['Sequence','MIC']], ha_avp], axis=0).drop_duplicates(['Sequence']).reset_index(drop=True)\n",
    "df = sequence_filtering(df)"
   ]
  },
  {
   "cell_type": "code",
   "execution_count": 7,
   "id": "activated-company",
   "metadata": {},
   "outputs": [
    {
     "data": {
      "text/html": [
       "<div>\n",
       "<style scoped>\n",
       "    .dataframe tbody tr th:only-of-type {\n",
       "        vertical-align: middle;\n",
       "    }\n",
       "\n",
       "    .dataframe tbody tr th {\n",
       "        vertical-align: top;\n",
       "    }\n",
       "\n",
       "    .dataframe thead th {\n",
       "        text-align: right;\n",
       "    }\n",
       "</style>\n",
       "<table border=\"1\" class=\"dataframe\">\n",
       "  <thead>\n",
       "    <tr style=\"text-align: right;\">\n",
       "      <th></th>\n",
       "      <th>Sequence</th>\n",
       "      <th>MIC</th>\n",
       "    </tr>\n",
       "  </thead>\n",
       "  <tbody>\n",
       "    <tr>\n",
       "      <th>0</th>\n",
       "      <td>AAQRRGRVGRNPNQVGD</td>\n",
       "      <td>442.00000</td>\n",
       "    </tr>\n",
       "    <tr>\n",
       "      <th>1</th>\n",
       "      <td>HRILARIRQMMT</td>\n",
       "      <td>435.50000</td>\n",
       "    </tr>\n",
       "    <tr>\n",
       "      <th>2</th>\n",
       "      <td>RNPSQVGD</td>\n",
       "      <td>383.00000</td>\n",
       "    </tr>\n",
       "    <tr>\n",
       "      <th>3</th>\n",
       "      <td>RVGRNPNQVGD</td>\n",
       "      <td>374.00000</td>\n",
       "    </tr>\n",
       "    <tr>\n",
       "      <th>4</th>\n",
       "      <td>AAQRRGRIGRNPSQVGD</td>\n",
       "      <td>358.00000</td>\n",
       "    </tr>\n",
       "    <tr>\n",
       "      <th>...</th>\n",
       "      <td>...</td>\n",
       "      <td>...</td>\n",
       "    </tr>\n",
       "    <tr>\n",
       "      <th>707</th>\n",
       "      <td>NGAICWGPCPTAFRQIGNCGHFKVRCCKIR</td>\n",
       "      <td>0.11515</td>\n",
       "    </tr>\n",
       "    <tr>\n",
       "      <th>708</th>\n",
       "      <td>CFPYITRPGTYHDWWYTRKNRQ</td>\n",
       "      <td>0.30000</td>\n",
       "    </tr>\n",
       "    <tr>\n",
       "      <th>709</th>\n",
       "      <td>YTSLIHSLIEESQNQQEKNEQELLELDKWASLWNWF</td>\n",
       "      <td>0.01131</td>\n",
       "    </tr>\n",
       "    <tr>\n",
       "      <th>710</th>\n",
       "      <td>GTNLSVPNPLGFFPDHQLDPAFGANSNNPDWDFNPNKDHWPEANKVG</td>\n",
       "      <td>0.00008</td>\n",
       "    </tr>\n",
       "    <tr>\n",
       "      <th>711</th>\n",
       "      <td>SWETWEREIENYTRQIYRILEESQEQQDRNERDLLE</td>\n",
       "      <td>0.00200</td>\n",
       "    </tr>\n",
       "  </tbody>\n",
       "</table>\n",
       "<p>712 rows × 2 columns</p>\n",
       "</div>"
      ],
      "text/plain": [
       "                                            Sequence        MIC\n",
       "0                                  AAQRRGRVGRNPNQVGD  442.00000\n",
       "1                                       HRILARIRQMMT  435.50000\n",
       "2                                           RNPSQVGD  383.00000\n",
       "3                                        RVGRNPNQVGD  374.00000\n",
       "4                                  AAQRRGRIGRNPSQVGD  358.00000\n",
       "..                                               ...        ...\n",
       "707                   NGAICWGPCPTAFRQIGNCGHFKVRCCKIR    0.11515\n",
       "708                           CFPYITRPGTYHDWWYTRKNRQ    0.30000\n",
       "709             YTSLIHSLIEESQNQQEKNEQELLELDKWASLWNWF    0.01131\n",
       "710  GTNLSVPNPLGFFPDHQLDPAFGANSNNPDWDFNPNKDHWPEANKVG    0.00008\n",
       "711             SWETWEREIENYTRQIYRILEESQEQQDRNERDLLE    0.00200\n",
       "\n",
       "[712 rows x 2 columns]"
      ]
     },
     "execution_count": 7,
     "metadata": {},
     "output_type": "execute_result"
    }
   ],
   "source": [
    "df"
   ]
  },
  {
   "cell_type": "code",
   "execution_count": 8,
   "id": "downtown-desert",
   "metadata": {},
   "outputs": [
    {
     "data": {
      "text/plain": [
       "<matplotlib.axes._subplots.AxesSubplot at 0x1a2489c5f8>"
      ]
     },
     "execution_count": 8,
     "metadata": {},
     "output_type": "execute_result"
    },
    {
     "data": {
      "image/png": "[encoded data removed]",
      "text/plain": [
       "<Figure size 432x288 with 1 Axes>"
      ]
     },
     "metadata": {
      "needs_background": "light"
     },
     "output_type": "display_data"
    }
   ],
   "source": [
    "df['MIC'].hist()"
   ]
  },
  {
   "cell_type": "code",
   "execution_count": 9,
   "id": "sharing-belarus",
   "metadata": {},
   "outputs": [],
   "source": [
    "df['pIC50'] = df['MIC'].apply(lambda x: -np.log(x*1e-6))"
   ]
  },
  {
   "cell_type": "code",
   "execution_count": 10,
   "id": "arctic-wilderness",
   "metadata": {},
   "outputs": [
    {
     "data": {
      "text/html": [
       "<div>\n",
       "<style scoped>\n",
       "    .dataframe tbody tr th:only-of-type {\n",
       "        vertical-align: middle;\n",
       "    }\n",
       "\n",
       "    .dataframe tbody tr th {\n",
       "        vertical-align: top;\n",
       "    }\n",
       "\n",
       "    .dataframe thead th {\n",
       "        text-align: right;\n",
       "    }\n",
       "</style>\n",
       "<table border=\"1\" class=\"dataframe\">\n",
       "  <thead>\n",
       "    <tr style=\"text-align: right;\">\n",
       "      <th></th>\n",
       "      <th>Sequence</th>\n",
       "      <th>MIC</th>\n",
       "      <th>pIC50</th>\n",
       "    </tr>\n",
       "  </thead>\n",
       "  <tbody>\n",
       "    <tr>\n",
       "      <th>0</th>\n",
       "      <td>AAQRRGRVGRNPNQVGD</td>\n",
       "      <td>442.00000</td>\n",
       "      <td>7.724201</td>\n",
       "    </tr>\n",
       "    <tr>\n",
       "      <th>1</th>\n",
       "      <td>HRILARIRQMMT</td>\n",
       "      <td>435.50000</td>\n",
       "      <td>7.739016</td>\n",
       "    </tr>\n",
       "    <tr>\n",
       "      <th>2</th>\n",
       "      <td>RNPSQVGD</td>\n",
       "      <td>383.00000</td>\n",
       "      <td>7.867476</td>\n",
       "    </tr>\n",
       "    <tr>\n",
       "      <th>3</th>\n",
       "      <td>RVGRNPNQVGD</td>\n",
       "      <td>374.00000</td>\n",
       "      <td>7.891255</td>\n",
       "    </tr>\n",
       "    <tr>\n",
       "      <th>4</th>\n",
       "      <td>AAQRRGRIGRNPSQVGD</td>\n",
       "      <td>358.00000</td>\n",
       "      <td>7.934978</td>\n",
       "    </tr>\n",
       "    <tr>\n",
       "      <th>...</th>\n",
       "      <td>...</td>\n",
       "      <td>...</td>\n",
       "      <td>...</td>\n",
       "    </tr>\n",
       "    <tr>\n",
       "      <th>707</th>\n",
       "      <td>NGAICWGPCPTAFRQIGNCGHFKVRCCKIR</td>\n",
       "      <td>0.11515</td>\n",
       "      <td>15.977030</td>\n",
       "    </tr>\n",
       "    <tr>\n",
       "      <th>708</th>\n",
       "      <td>CFPYITRPGTYHDWWYTRKNRQ</td>\n",
       "      <td>0.30000</td>\n",
       "      <td>15.019483</td>\n",
       "    </tr>\n",
       "    <tr>\n",
       "      <th>709</th>\n",
       "      <td>YTSLIHSLIEESQNQQEKNEQELLELDKWASLWNWF</td>\n",
       "      <td>0.01131</td>\n",
       "      <td>18.297579</td>\n",
       "    </tr>\n",
       "    <tr>\n",
       "      <th>710</th>\n",
       "      <td>GTNLSVPNPLGFFPDHQLDPAFGANSNNPDWDFNPNKDHWPEANKVG</td>\n",
       "      <td>0.00008</td>\n",
       "      <td>23.248994</td>\n",
       "    </tr>\n",
       "    <tr>\n",
       "      <th>711</th>\n",
       "      <td>SWETWEREIENYTRQIYRILEESQEQQDRNERDLLE</td>\n",
       "      <td>0.00200</td>\n",
       "      <td>20.030119</td>\n",
       "    </tr>\n",
       "  </tbody>\n",
       "</table>\n",
       "<p>712 rows × 3 columns</p>\n",
       "</div>"
      ],
      "text/plain": [
       "                                            Sequence        MIC      pIC50\n",
       "0                                  AAQRRGRVGRNPNQVGD  442.00000   7.724201\n",
       "1                                       HRILARIRQMMT  435.50000   7.739016\n",
       "2                                           RNPSQVGD  383.00000   7.867476\n",
       "3                                        RVGRNPNQVGD  374.00000   7.891255\n",
       "4                                  AAQRRGRIGRNPSQVGD  358.00000   7.934978\n",
       "..                                               ...        ...        ...\n",
       "707                   NGAICWGPCPTAFRQIGNCGHFKVRCCKIR    0.11515  15.977030\n",
       "708                           CFPYITRPGTYHDWWYTRKNRQ    0.30000  15.019483\n",
       "709             YTSLIHSLIEESQNQQEKNEQELLELDKWASLWNWF    0.01131  18.297579\n",
       "710  GTNLSVPNPLGFFPDHQLDPAFGANSNNPDWDFNPNKDHWPEANKVG    0.00008  23.248994\n",
       "711             SWETWEREIENYTRQIYRILEESQEQQDRNERDLLE    0.00200  20.030119\n",
       "\n",
       "[712 rows x 3 columns]"
      ]
     },
     "execution_count": 10,
     "metadata": {},
     "output_type": "execute_result"
    }
   ],
   "source": [
    "df"
   ]
  },
  {
   "cell_type": "code",
   "execution_count": 11,
   "id": "sacred-philadelphia",
   "metadata": {},
   "outputs": [
    {
     "data": {
      "text/plain": [
       "<matplotlib.axes._subplots.AxesSubplot at 0x1a2587b6d8>"
      ]
     },
     "execution_count": 11,
     "metadata": {},
     "output_type": "execute_result"
    },
    {
     "data": {
      "image/png": "[encoded data removed]",
      "text/plain": [
       "<Figure size 432x288 with 1 Axes>"
      ]
     },
     "metadata": {
      "needs_background": "light"
     },
     "output_type": "display_data"
    }
   ],
   "source": [
    "df['pIC50'].hist()"
   ]
  },
  {
   "cell_type": "code",
   "execution_count": 12,
   "id": "partial-flood",
   "metadata": {},
   "outputs": [],
   "source": [
    "def get_physicochemical_properties(df):\n",
    "    params = ['aromaticity', 'helix', 'turn', 'sheet', 'gravy', 'net_charge_at_pH7point4']\n",
    "\n",
    "    prop = []\n",
    "    for seq in df.Sequence:\n",
    "        X = ProteinAnalysis(seq)\n",
    "        aromaticity = X.aromaticity()\n",
    "        sec_struc = X.secondary_structure_fraction()\n",
    "        helix = sec_struc[0]\n",
    "        turn = sec_struc[1]\n",
    "        sheet = sec_struc[2]\n",
    "        gravy = X.gravy() # hydrophobicity related\n",
    "        net_charge_at_pH7point4 = X.charge_at_pH(7.4)\n",
    "\n",
    "        prop.append([aromaticity, helix, turn, sheet, gravy, net_charge_at_pH7point4])\n",
    "    return pd.DataFrame(prop, columns=params)"
   ]
  },
  {
   "cell_type": "code",
   "execution_count": 13,
   "id": "preliminary-hepatitis",
   "metadata": {},
   "outputs": [],
   "source": [
    "aa_freq = reduce_by_kmer_frequency(df)"
   ]
  },
  {
   "cell_type": "code",
   "execution_count": 14,
   "id": "progressive-italic",
   "metadata": {},
   "outputs": [
    {
     "name": "stderr",
     "output_type": "stream",
     "text": [
      "/Users/in-divye.singh/anaconda3/envs/life-science/lib/python3.6/site-packages/smart_open/smart_open_lib.py:254: UserWarning: This function is deprecated, use smart_open.open instead. See the migration notes for details: https://github.com/RaRe-Technologies/smart_open/blob/master/README.rst#migrating-to-the-new-open-function\n",
      "  'See the migration notes for details: %s' % _MIGRATION_NOTES_URL\n",
      "Creating vectors: 100%|██████████| 712/712 [00:00<00:00, 1154.66sequence/s]\n"
     ]
    }
   ],
   "source": [
    "uniprot_embedding = biovec.models.load_protvec(\"../data/embeddings/uniprot__kmer_3_contextWindow_10_vector_100_reduction_None\")\n",
    "\n",
    "avg_protvec = convert_sequences_to_avg_vectors(df['Sequence'], uniprot_embedding, kmer=3)\n",
    "avg_protvec = avg_protvec.reset_index(drop=True)"
   ]
  },
  {
   "cell_type": "code",
   "execution_count": 15,
   "id": "nonprofit-india",
   "metadata": {},
   "outputs": [],
   "source": [
    "physicochemical_prop = get_physicochemical_properties(df)"
   ]
  },
  {
   "cell_type": "code",
   "execution_count": 16,
   "id": "working-winner",
   "metadata": {},
   "outputs": [],
   "source": [
    "X = pd.concat([aa_freq, avg_protvec, physicochemical_prop[['helix','turn','sheet']]], axis=1)"
   ]
  },
  {
   "cell_type": "code",
   "execution_count": 17,
   "id": "political-understanding",
   "metadata": {},
   "outputs": [],
   "source": [
    "y = df[['pIC50', 'MIC']]"
   ]
  },
  {
   "cell_type": "code",
   "execution_count": 18,
   "id": "universal-interview",
   "metadata": {},
   "outputs": [],
   "source": [
    "X_train, X_test, y_train, y_test = train_test_split(X, y, test_size=0.2, random_state=42)"
   ]
  },
  {
   "cell_type": "code",
   "execution_count": 20,
   "id": "going-salad",
   "metadata": {},
   "outputs": [],
   "source": [
    "y_train_pmic, y_train_mic = y_train['pIC50'], y_train['MIC']\n",
    "y_test_pmic, y_test_mic = y_test['pIC50'], y_test['MIC']"
   ]
  },
  {
   "cell_type": "code",
   "execution_count": 22,
   "id": "balanced-watch",
   "metadata": {},
   "outputs": [],
   "source": [
    "from sklearn.model_selection import cross_val_score"
   ]
  },
  {
   "cell_type": "code",
   "execution_count": 89,
   "id": "adjusted-removal",
   "metadata": {},
   "outputs": [],
   "source": [
    "knn = KNeighborsRegressor(metric=\"euclidean\", n_neighbors=3, weights=\"uniform\")\n",
    "cv_score = cross_val_score(knn, X_train, y_train_pmic, cv=5, scoring=mape_scorer)\n",
    "cv_mean = cv_score.mean()"
   ]
  },
  {
   "cell_type": "code",
   "execution_count": 90,
   "id": "local-fraction",
   "metadata": {
    "scrolled": true
   },
   "outputs": [
    {
     "data": {
      "text/plain": [
       "(array([-15.09302863, -14.02471584, -15.91168851, -12.77288717,\n",
       "        -16.73829458]),\n",
       " -14.90812294749387)"
      ]
     },
     "execution_count": 90,
     "metadata": {},
     "output_type": "execute_result"
    }
   ],
   "source": [
    "cv_score, cv_mean"
   ]
  },
  {
   "cell_type": "code",
   "execution_count": 91,
   "id": "local-minneapolis",
   "metadata": {},
   "outputs": [],
   "source": [
    "_ = knn.fit(X_train, y_train_pmic)\n",
    "y_pred = knn.predict(X_test)"
   ]
  },
  {
   "cell_type": "code",
   "execution_count": 92,
   "id": "confident-telling",
   "metadata": {},
   "outputs": [
    {
     "data": {
      "text/plain": [
       "14.389302590641343"
      ]
     },
     "execution_count": 92,
     "metadata": {},
     "output_type": "execute_result"
    }
   ],
   "source": [
    "mean_absolute_percentage_error(y_test_pmic, y_pred)"
   ]
  },
  {
   "cell_type": "code",
   "execution_count": 93,
   "id": "fewer-executive",
   "metadata": {},
   "outputs": [],
   "source": [
    "from scipy.stats import pearsonr"
   ]
  },
  {
   "cell_type": "code",
   "execution_count": 94,
   "id": "julian-theorem",
   "metadata": {
    "scrolled": true
   },
   "outputs": [
    {
     "data": {
      "text/plain": [
       "(0.7054017033790294, 7.936375422266976e-23)"
      ]
     },
     "execution_count": 94,
     "metadata": {},
     "output_type": "execute_result"
    }
   ],
   "source": [
    "pearsonr(y_test_pmic, y_pred)"
   ]
  },
  {
   "cell_type": "code",
   "execution_count": 95,
   "id": "gorgeous-integral",
   "metadata": {},
   "outputs": [],
   "source": [
    "ape = 100*np.abs(y_test_pmic-y_pred)/y_test_pmic"
   ]
  },
  {
   "cell_type": "code",
   "execution_count": 96,
   "id": "virgin-essex",
   "metadata": {
    "scrolled": true
   },
   "outputs": [
    {
     "data": {
      "text/plain": [
       "[(14.051232891485345, 14.087530843119394, 0.25832574204961534),\n",
       " (12.557049568354268, 11.856457733860458, 5.579271075423732),\n",
       " (10.658510136814161, 11.131542377575402, 4.438070937582557),\n",
       " (11.250561200502737, 14.710614129341849, 30.754491862010376),\n",
       " (13.122363377404328, 15.774889178564601, 20.21378104593348),\n",
       " (13.112413046551161, 13.598068829284378, 3.7037864884904157),\n",
       " (10.819778284410283, 11.452151612705578, 5.84460523748857),\n",
       " (10.747457622830657, 10.844080541346313, 0.8990304675442669),\n",
       " (9.210340371976184, 9.847413341731311, 6.916931883359228),\n",
       " (13.122363377404328, 14.984363190404267, 14.189515710303793),\n",
       " (8.740336742730447, 10.73781727164905, 22.85358777028764),\n",
       " (9.819146404102378, 12.078433713908902, 23.00899912096848),\n",
       " (9.210340371976184, 10.235265532274331, 11.127983537032284),\n",
       " (18.7773556878911, 18.47112562680829, 1.6308476346341205),\n",
       " (14.331348723553809, 17.86946535491956, 24.687952959729436),\n",
       " (17.46516929892493, 16.163139875622154, 7.455006023806042),\n",
       " (9.04482593349861, 8.947098035787773, 1.0804840074245001),\n",
       " (12.597634848469347, 12.436801859218589, 1.2766919440461513),\n",
       " (11.736069016284437, 11.639524585423423, 0.8226300537859268),\n",
       " (11.898587945782213, 14.087530843119394, 18.396661077023964),\n",
       " (13.522840944001453, 12.63674221418409, 6.552607795112933),\n",
       " (10.612764115025957, 13.133592063289264, 23.752793531839853),\n",
       " (15.182002291787985, 14.205334030138198, 6.433066224591935),\n",
       " (14.293546358907275, 14.596646253802376, 2.1205366903659955),\n",
       " (9.210340371976184, 14.355339974060144, 55.86112341448725),\n",
       " (20.72326583694641, 18.306623991373748, 11.661491314096644),\n",
       " (9.053336623166517, 11.439078041654483, 26.35206794788906),\n",
       " (14.103192630416055, 12.69227498644068, 10.004242875705176),\n",
       " (11.512925464970229, 13.300366363811547, 15.525514381899459),\n",
       " (12.116231941530385, 12.436801859218589, 2.6457888825105536),\n",
       " (8.517193191416238, 11.986061677160876, 40.72783612846329),\n",
       " (10.099502436462085, 10.690542155570647, 5.852166706497733),\n",
       " (11.464135300800796, 10.291600585716916, 10.227851332162631),\n",
       " (19.624653548278303, 18.416704553663944, 6.155262775175635),\n",
       " (10.519673691959945, 12.76447037003003, 21.339033356003775),\n",
       " (9.790158867229126, 9.377960719542054, 4.2103315510725166),\n",
       " (9.903487552536129, 10.809723752728397, 9.150677429388953),\n",
       " (11.086351393651828, 11.895623606368398, 7.299716416890487),\n",
       " (10.22573346489355, 13.94949777143909, 36.41562064305482),\n",
       " (17.355970006959936, 17.1089629363467, 1.4231821702514096),\n",
       " (14.900219941463392, 14.780926889653955, 0.8006126908065049),\n",
       " (10.625034207617771, 12.070860725459196, 13.607735180794233),\n",
       " (20.030118656386467, 15.42031416867538, 23.014364351961948),\n",
       " (9.210340371976184, 9.210340371976184, 0.0),\n",
       " (13.073573213234896, 12.632400561576324, 3.3745376605376394),\n",
       " (11.88398914636106, 16.044248227642573, 35.007260862026335),\n",
       " (16.11809565095832, 13.726470374374912, 14.838138005721609),\n",
       " (16.548878567050775, 15.232354542878026, 7.955366998667695),\n",
       " (8.859683500363014, 9.869061436051629, 11.392934472741123),\n",
       " (16.474770594897052, 15.520842494548967, 5.79023601484052),\n",
       " (11.855415773917004, 12.835789917275742, 8.269420170953854),\n",
       " (16.831445538835784, 17.193303497483512, 2.1498923417647124),\n",
       " (9.210340371976184, 10.708813479319174, 16.269465044986994),\n",
       " (11.305911295585902, 14.710614129341849, 30.114360043539556),\n",
       " (14.59203934746327, 11.569331236192184, 20.714774948825532),\n",
       " (8.00736806798383, 8.54358895554808, 6.696593475055088),\n",
       " (12.206072645530174, 11.683200672892225, 4.2837035942877435),\n",
       " (19.11382792451231, 19.493639352241768, 1.987102893410338),\n",
       " (12.07504438312377, 11.890986289342479, 1.5242850290350272),\n",
       " (9.911519724233392, 12.937060402069632, 30.52549721955228),\n",
       " (10.042703643915052, 9.68807161803741, 3.5312405747680904),\n",
       " (11.530071623805199, 12.375377179248764, 7.331312267812208),\n",
       " (13.122363377404328, 10.406537901200954, 20.696161187548054),\n",
       " (18.0152156358442, 19.759808584314356, 9.683997037476505),\n",
       " (16.811242831518264, 13.157483549290271, 21.734022397069932),\n",
       " (26.32268829627837, 14.5648761938676, 44.66797604435086),\n",
       " (12.562747589468906, 14.75331413021762, 17.437001938851505),\n",
       " (9.915560133770397, 17.143020811256466, 72.89008971738063),\n",
       " (12.716898269296165, 11.587306648741631, 8.88260326247819),\n",
       " (11.928440908931893, 12.364507844151229, 3.6556909536502187),\n",
       " (12.333906017040059, 11.146721368747526, 9.625374529790994),\n",
       " (11.675444394468004, 14.354734463751342, 22.94807785263253),\n",
       " (13.88808125079911, 15.247876365927134, 9.791094180485032),\n",
       " (12.652359748158593, 9.734471252230101, 23.062010202113942),\n",
       " (12.02375108873622, 10.753747492927834, 10.562457476337121),\n",
       " (11.355921716160564, 10.291600585716916, 9.37238875932913),\n",
       " (9.210340371976184, 16.084735450488306, 74.63779622551716),\n",
       " (8.314252347419547, 8.443479007867223, 1.5542787859666491),\n",
       " (10.549751147197224, 11.174515238393875, 5.922074203263397),\n",
       " (11.895651086108904, 12.466736108852482, 4.800788276401784),\n",
       " (12.600597813600004, 12.436801859218589, 1.2999062171846152),\n",
       " (18.526041259610192, 17.954606433290646, 3.0844950538103775),\n",
       " (11.512925464970229, 12.35483501307298, 7.31273342005371),\n",
       " (10.855405462053435, 10.759473512044792, 0.8837251666368978),\n",
       " (8.89552963213615, 12.69227498644068, 42.68149858765396),\n",
       " (10.985242724137814, 12.413821200868227, 13.004523546770665),\n",
       " (11.86960040890896, 8.44174704401266, 28.87926507048593),\n",
       " (11.355921716160564, 11.227759333660009, 1.128595156817328),\n",
       " (9.210340371976184, 10.74539710063888, 16.666666666666664),\n",
       " (7.867475568783628, 8.273310229653367, 5.158384761688992),\n",
       " (11.297814085353282, 12.847184956202634, 13.713899513163238),\n",
       " (9.53884443894822, 11.683200672892227, 22.480251645454555),\n",
       " (9.688376172919183, 12.816933133446277, 32.291860934054085),\n",
       " (15.977030210679716, 11.266216163410343, 29.484916690715572),\n",
       " (9.433483923290392, 10.212267908445346, 8.255528832059689),\n",
       " (11.965482180612243, 11.696143765039324, 2.2509616537587633),\n",
       " (12.875503299472802, 12.96551950579206, 0.6991276707835017),\n",
       " (20.030118656386467, 17.95858262357907, 10.342105647721176),\n",
       " (10.309953160977877, 12.469938741502453, 20.95048878301312),\n",
       " (20.72326583694641, 18.426067367352207, 11.085117990903974),\n",
       " (10.819778284410283, 11.040570125041347, 2.040631839463775),\n",
       " (15.01948336229021, 10.717283384494296, 28.644127590949992),\n",
       " (15.796012151789206, 15.115155896257951, 4.310304708483875),\n",
       " (14.360237733405945, 13.49700674295513, 6.011258354328623),\n",
       " (9.903487552536129, 11.565924042133716, 16.78637430277643),\n",
       " (9.304651051447424, 10.708813479319174, 15.090973536867024),\n",
       " (17.1397468984903, 14.780926889653955, 13.762280288071905),\n",
       " (11.736069016284437, 11.600047053015032, 1.159007867801963),\n",
       " (11.81403055775415, 13.828028006515149, 17.047504989219036),\n",
       " (9.028018815182229, 17.81314343304876, 97.30955149420794),\n",
       " (13.815510557964274, 16.068794774317155, 16.309815022029156),\n",
       " (8.294049640102028, 10.274860044270985, 23.882307077011795),\n",
       " (9.210340371976184, 9.295876558762002, 0.9286973481031672),\n",
       " (10.41431317630212, 12.444128161458181, 19.490627473878234),\n",
       " (16.68021456911186, 13.726470374374912, 17.708070735532633),\n",
       " (8.584401941109688, 11.686550784843392, 36.13704093791182),\n",
       " (15.89495209964411, 18.101664502503592, 13.883101937179733),\n",
       " (9.210340371976184, 9.295876558762002, 0.9286973481031672),\n",
       " (13.284882306902103, 14.136921143519105, 6.413597177103546),\n",
       " (12.284466712958185, 13.726470374374912, 11.738431102553598),\n",
       " (10.26016249647486, 13.337149049534498, 29.989647377581143),\n",
       " (15.18987634821889, 15.184642477896608, 0.034456306307562475),\n",
       " (17.391061326771208, 15.453195546550072, 11.14288394370763),\n",
       " (10.26016249647486, 10.906899872455085, 6.303383364565889),\n",
       " (10.596634733096073, 11.12651316147538, 5.00044062785667),\n",
       " (14.622946884926348, 18.132334229997912, 23.999180005838063),\n",
       " (14.757119097822718, 15.247876365927132, 3.3255628341226884),\n",
       " (19.11382792451231, 18.951246154271683, 0.850597645237388),\n",
       " (10.724468104605958, 9.462146536118368, 11.770481819470804),\n",
       " (17.632223383588094, 17.211077101403095, 2.3885035541065007),\n",
       " (17.58777162101726, 18.101664502503592, 2.9218760202243756),\n",
       " (12.652359748158593, 13.346615541041734, 5.487164502923508),\n",
       " (8.00736806798383, 10.408530296857249, 29.98690966229065),\n",
       " (17.95067711470663, 14.780926889653955, 17.658109523098496),\n",
       " (11.612303908950507, 10.455349951468902, 9.963173256168833),\n",
       " (10.231991619508165, 8.90070002772488, 13.011069997800456),\n",
       " (10.519673691959945, 11.915364929829238, 13.267438503686694),\n",
       " (9.903487552536129, 10.809723752728397, 9.150677429388953),\n",
       " (11.512925464970229, 17.38867074566258, 51.03607504947524),\n",
       " (8.537395898733758, 8.127036662383686, 4.806608961532813),\n",
       " (9.664470652065628, 13.44575654301982, 39.12563892101015),\n",
       " (14.228000281009402, 13.32568190729539, 6.341849563486212),\n",
       " (8.902855672228222, 9.696972987031025, 8.919804431739703)]"
      ]
     },
     "execution_count": 96,
     "metadata": {},
     "output_type": "execute_result"
    }
   ],
   "source": [
    "list(zip(y_test_pmic, y_pred, ape))"
   ]
  },
  {
   "cell_type": "code",
   "execution_count": 97,
   "id": "bottom-metropolitan",
   "metadata": {},
   "outputs": [
    {
     "data": {
      "text/plain": [
       "(0.7899999999999994, 1.7000000000000008)"
      ]
     },
     "execution_count": 97,
     "metadata": {},
     "output_type": "execute_result"
    }
   ],
   "source": [
    "np.exp(-14.051232891485345)/1e-6, np.exp(-13.284882306902103)/1e-6"
   ]
  },
  {
   "cell_type": "code",
   "execution_count": null,
   "id": "different-little",
   "metadata": {},
   "outputs": [],
   "source": [
    "11.2506, 15.9774"
   ]
  },
  {
   "cell_type": "code",
   "execution_count": 98,
   "id": "egyptian-hearts",
   "metadata": {},
   "outputs": [
    {
     "data": {
      "text/plain": [
       "1.151898734177218"
      ]
     },
     "execution_count": 98,
     "metadata": {},
     "output_type": "execute_result"
    }
   ],
   "source": [
    "abs(0.7899999999999994-1.7000000000000008)/0.7899999999999994"
   ]
  },
  {
   "cell_type": "code",
   "execution_count": 223,
   "id": "expressed-stylus",
   "metadata": {},
   "outputs": [
    {
     "data": {
      "text/plain": [
       "(0.11510742663184306, 0.79)"
      ]
     },
     "execution_count": 223,
     "metadata": {},
     "output_type": "execute_result"
    }
   ],
   "source": [
    "np.exp(-15.9774)/1e-6, y_test_mic.iloc[0]"
   ]
  },
  {
   "cell_type": "code",
   "execution_count": 224,
   "id": "intermediate-naples",
   "metadata": {},
   "outputs": [],
   "source": [
    "y_pred_mic = np.exp(-y_pred)/1e-6"
   ]
  },
  {
   "cell_type": "code",
   "execution_count": 105,
   "id": "informational-firmware",
   "metadata": {},
   "outputs": [],
   "source": [
    "ape_mic = 100*np.abs(y_test_mic-y_pred_mic)/y_test_mic"
   ]
  },
  {
   "cell_type": "code",
   "execution_count": 106,
   "id": "convenient-locking",
   "metadata": {
    "scrolled": true
   },
   "outputs": [
    {
     "data": {
      "text/plain": [
       "[(14.0512, 14.0875, 0.25832574204961534, 0.79, 0.7618, 3.564707985478703),\n",
       " (12.557, 11.8565, 5.579271075423732, 3.52, 7.0926, 101.49448685309835),\n",
       " (10.6585, 11.1315, 4.438070937582557, 23.5, 14.6431, 37.68900186863309),\n",
       " (11.2506, 14.7106, 30.754491862010376, 13.0, 0.4086, 96.85719014784256),\n",
       " (13.1224, 15.7749, 20.21378104593348, 2.0, 0.1409, 92.95270126793511),\n",
       " (13.1124, 13.5981, 3.7037864884904157, 2.02, 1.2429, 38.470643446458254),\n",
       " (10.8198, 11.4522, 5.84460523748857, 20.0, 10.6266, 46.86707154086949),\n",
       " (10.7475, 10.8441, 0.8990304675442669, 21.5, 19.5198, 9.210170676980228),\n",
       " (9.2103, 9.8474, 6.916931883359228, 100.0, 52.8838, 47.11619140879051),\n",
       " (13.1224, 14.9844, 14.189515710303793, 2.0, 0.3107, 84.46383747023069),\n",
       " (8.7403, 10.7378, 22.85358777028764, 160.0, 21.7083, 86.43233135337927),\n",
       " (9.8191, 12.0784, 23.00899912096848, 54.4, 5.6807, 89.55751191705386),\n",
       " (9.2103, 10.2353, 11.127983537032284, 100.0, 35.8823, 64.11766813687208),\n",
       " (18.7774, 18.4711, 1.6308476346341205, 0.007, 0.0095, 35.829476136823814),\n",
       " (14.3313, 17.8695, 24.687952959729436, 0.597, 0.0174, 97.09319786390236),\n",
       " (17.4652, 16.1631, 7.455006023806042, 0.026, 0.0956, 267.6750785002716),\n",
       " (9.0448, 8.9471, 1.0804840074245001, 118.0, 130.1142, 10.266270723760645),\n",
       " (12.5976, 12.4368, 1.2766919440461513, 3.38, 3.9698, 17.448880017869804),\n",
       " (11.7361, 11.6395, 0.8226300537859268, 8.0, 8.8109, 10.135851436379294),\n",
       " (11.8986, 14.0875, 18.396661077023964, 6.8, 0.7618, 88.79648813360708),\n",
       " (13.5228, 12.6367, 6.552607795112933, 1.34, 3.2504, 142.56480597413824),\n",
       " (10.6128, 13.1336, 23.752793531839853, 24.6, 1.9777, 91.96069820722887),\n",
       " (15.182, 14.2053, 6.433066224591935, 0.255, 0.6772, 165.5593742847915),\n",
       " (14.2935, 14.5966, 2.1205366903659955, 0.62, 0.4579, 26.14746822236582),\n",
       " (9.2103, 14.3553, 55.86112341448725, 100.0, 0.5828, 99.41715233167486),\n",
       " (20.7233, 18.3066, 11.661491314096644, 0.001, 0.0112, 1020.8157322621561),\n",
       " (9.0533, 11.4391, 26.35206794788906, 117.0, 10.7664, 90.79792715882516),\n",
       " (14.1032, 12.6923, 10.004242875705176, 0.75, 3.0748, 309.9715757940292),\n",
       " (11.5129, 13.3004, 15.525514381899459, 10.0, 1.6739, 83.26120151916788),\n",
       " (12.1162, 12.4368, 2.6457888825105536, 5.47, 3.9698, 27.426469020036574),\n",
       " (8.5172, 11.9861, 40.72783612846329, 200.0, 6.2305, 96.88477400476978),\n",
       " (10.0995, 10.6905, 5.852166706497733, 41.1, 22.7592, 44.624876042135774),\n",
       " (11.4641, 10.2916, 10.227851332162631, 10.5, 33.9168, 223.01698309179227),\n",
       " (19.6247, 18.4167, 6.155262775175635, 0.003, 0.01, 234.66136860692333),\n",
       " (10.5197, 12.7645, 21.339033356003775, 27.0, 2.8606, 89.40509200448544),\n",
       " (9.7902, 9.378, 4.2103315510725166, 56.0, 84.5675, 51.01336361720626),\n",
       " (9.9035, 10.8097, 9.150677429388953, 50.0, 20.2021, 59.59579006718435),\n",
       " (11.0864, 11.8956, 7.299716416890487, 15.32, 6.8202, 55.48180538899944),\n",
       " (10.2257, 13.9495, 36.41562064305482, 36.226, 0.8746, 97.58570847556253),\n",
       " (17.356, 17.109, 1.4231821702514096, 0.029, 0.0371, 28.01881644616516),\n",
       " (14.9002, 14.7809, 0.8006126908065049, 0.338, 0.3808, 12.670005140169387),\n",
       " (10.625, 12.0709, 13.607735180794233, 24.3, 5.7239, 76.44486912818218),\n",
       " (20.0301, 15.4203, 23.014364351961948, 0.002, 0.2009, 9946.450567067523),\n",
       " (9.2103, 9.2103, 0.0, 100.0, 100.0, 8.526512829121202e-14),\n",
       " (13.0736, 12.6324, 3.3745376605376394, 2.1, 3.2645, 55.45290711969175),\n",
       " (11.884, 16.0442, 35.007260862026335, 6.9, 0.1077, 98.43964851823557),\n",
       " (16.1181, 13.7265, 14.838138005721609, 0.1, 1.0931, 993.1245811130851),\n",
       " (16.5489, 15.2324, 7.955366998667695, 0.065, 0.2425, 273.0431923634347),\n",
       " (8.8597, 9.8691, 11.392934472741123, 142.0, 51.7513, 63.55543823153237),\n",
       " (16.4748, 15.5208, 5.79023601484052, 0.07, 0.1817, 159.58865611887734),\n",
       " (11.8554, 12.8358, 8.269420170953854, 7.1, 2.6637, 62.482929503833766),\n",
       " (16.8314, 17.1933, 2.1498923417647124, 0.049, 0.0341, 30.36187242447969),\n",
       " (9.2103, 10.7088, 16.269465044986994, 100.0, 22.3471, 77.65288838130886),\n",
       " (11.3059, 14.7106, 30.114360043539556, 12.3, 0.4086, 96.67833105056532),\n",
       " (14.592, 11.5693, 20.714774948825532, 0.46, 9.4516, 1954.6859590237727),\n",
       " (8.0074, 8.5436, 6.696593475055088, 333.0, 194.7899, 41.50453098963915),\n",
       " (12.2061, 11.6832, 4.2837035942877435, 5.0, 8.4343, 68.68653306034996),\n",
       " (19.1138, 19.4936, 1.987102893410338, 0.005, 0.0034, 31.600962132932285),\n",
       " (12.075, 11.891, 1.5242850290350272, 5.7, 6.8519, 20.208565476901008),\n",
       " (9.9115, 12.9371, 30.52549721955228, 49.6, 2.4072, 95.14684257714906),\n",
       " (10.0427, 9.6881, 3.5312405747680904, 43.502, 62.0189, 42.565595325101725),\n",
       " (11.5301, 12.3754, 7.331312267812208, 9.83, 4.2213, 57.05738753278033),\n",
       " (13.1224, 10.4065, 20.696161187548054, 2.0, 30.2342, 1411.708371571077),\n",
       " (18.0152, 19.7598, 9.683997037476505, 0.015, 0.0026, 82.52839070527402),\n",
       " (16.8112, 13.1575, 21.734022397069932, 0.05, 1.931, 3761.9575384225186),\n",
       " (26.3227, 14.5649, 44.66797604435086, 0.0, 0.4727, 12774664.869918933),\n",
       " (12.5627, 14.7533, 17.437001938851505, 3.5, 0.3915, 88.81466388237467),\n",
       " (9.9156, 17.143, 72.89008971738063, 49.4, 0.0359, 99.92736370068192),\n",
       " (12.7169, 11.5873, 8.88260326247819, 3.0, 9.2832, 209.43925557418547),\n",
       " (11.9284, 12.3645, 3.6556909536502187, 6.6, 4.2674, 35.34255541153753),\n",
       " (12.3339, 11.1467, 9.625374529790994, 4.4, 14.4225, 227.78399325168337),\n",
       " (11.6754, 14.3547, 22.94807785263253, 8.5, 0.5832, 93.13881534744968),\n",
       " (13.8881, 15.2479, 9.791094180485032, 0.93, 0.2387, 74.32866317486202),\n",
       " (12.6524, 9.7345, 23.062010202113942, 3.2, 59.207, 1750.2178759404967),\n",
       " (12.0238, 10.7537, 10.562457476337121, 6.0, 21.3652, 256.0865366522043),\n",
       " (11.3559, 10.2916, 9.37238875932913, 11.7, 33.9168, 189.88703610801872),\n",
       " (9.2103, 16.0847, 74.63779622551716, 100.0, 0.1034, 99.89660771083119),\n",
       " (8.3143, 8.4435, 1.5542787859666491, 245.0, 215.2998, 12.122524051002335),\n",
       " (10.5498, 11.1745, 5.922074203263397, 26.2, 14.0272, 46.46122837023157),\n",
       " (11.8957, 12.4667, 4.800788276401784, 6.82, 3.8527, 43.50878364945911),\n",
       " (12.6006, 12.4368, 1.2999062171846152, 3.37, 3.9698, 17.797393014955464),\n",
       " (18.526, 17.9546, 3.0844950538103775, 0.009, 0.0159, 77.080602859916),\n",
       " (11.5129, 12.3548, 7.31273342005371, 10.0, 4.3089, 56.91130619936233),\n",
       " (10.8554, 10.7595, 0.8837251666368978, 19.3, 21.2432, 10.068415989782746),\n",
       " (8.8955, 12.6923, 42.68149858765396, 137.0, 3.0748, 97.75563005952174),\n",
       " (10.9852, 12.4138, 13.004523546770665, 16.95, 4.0621, 76.03506526508772),\n",
       " (11.8696, 8.4417, 28.87926507048593, 7.0, 215.673, 2981.0432954026787),\n",
       " (11.3559, 11.2278, 1.128595156817328, 11.7, 13.2998, 13.673757400082101),\n",
       " (9.2103, 10.7454, 16.666666666666664, 100.0, 21.5443, 78.45565309968119),\n",
       " (7.8675, 8.2733, 5.158384761688992, 383.0, 255.239, 33.35796563235756),\n",
       " (11.2978, 12.8472, 13.713899513163238, 12.4, 2.6335, 78.7618452772702),\n",
       " (9.5388, 11.6832, 22.480251645454555, 72.0, 8.4343, 88.28565742636461),\n",
       " (9.6884, 12.8169, 32.291860934054085, 62.0, 2.7144, 95.6219070700082),\n",
       " (15.977, 11.2662, 29.484916690715572, 0.1152, 12.7981, 11014.259841884657),\n",
       " (9.4335, 10.2123, 8.255528832059689, 80.0, 36.7171, 54.1036221121877),\n",
       " (11.9655, 11.6961, 2.2509616537587633, 6.36, 8.3259, 30.909808527116255),\n",
       " (12.8755, 12.9655, 0.6991276707835017, 2.56, 2.3396, 8.608362606931964),\n",
       " (20.0301, 17.9586, 10.342105647721176, 0.002, 0.0159, 693.7005259840995),\n",
       " (10.31, 12.4699, 20.95048878301312, 33.3, 3.8404, 88.46732160221997),\n",
       " (20.7233, 18.4261, 11.085117990903974, 0.001, 0.0099, 894.6278584415743),\n",
       " (10.8198, 11.0406, 2.040631839463775, 20.0, 16.0377, 19.811641750104325),\n",
       " (15.0195, 10.7173, 28.644127590949992, 0.3, 22.1586, 7286.211009005953),\n",
       " (15.796, 15.1152, 4.310304708483875, 0.138, 0.2726, 97.55685997607212),\n",
       " (14.3602, 13.497, 6.011258354328623, 0.58, 1.3751, 137.08083915071384),\n",
       " (9.9035, 11.5659, 16.78637430277643, 50.0, 9.4838, 81.03237276254065),\n",
       " (9.3047, 10.7088, 15.090973536867024, 91.0, 22.3471, 75.44273448495478),\n",
       " (17.1397, 14.7809, 13.762280288071905, 0.036, 0.3808, 957.8461593715899),\n",
       " (11.7361, 11.6, 1.159007867801963, 8.0, 9.1657, 14.570705679127638),\n",
       " (11.814, 13.828, 17.047504989219036, 7.4, 0.9876, 86.6545869075308),\n",
       " (9.028, 17.8131, 97.30955149420794, 120.0, 0.0184, 99.98470079529314),\n",
       " (13.8155, 16.0688, 16.309815022029156, 1.0, 0.1051, 89.49463614947071),\n",
       " (8.294, 10.2749, 23.882307077011795, 250.0, 34.4893, 86.20426092480487),\n",
       " (9.2103, 9.2959, 0.9286973481031672, 100.0, 91.802, 8.198007773721883),\n",
       " (10.4143, 12.4441, 19.490627473878234, 30.0, 3.9408, 86.86401775825797),\n",
       " (16.6802, 13.7265, 17.708070735532633, 0.057, 1.0931, 1817.7624230054128),\n",
       " (8.5844, 11.6866, 36.13704093791182, 187.0, 8.4061, 95.5047497369165),\n",
       " (15.895, 18.1017, 13.883101937179733, 0.125, 0.0138, 88.99381064574273),\n",
       " (9.2103, 9.2959, 0.9286973481031672, 100.0, 91.802, 8.198007773721883),\n",
       " (13.2849, 14.1369, 6.413597177103546, 1.7, 0.7251, 57.34556095177148),\n",
       " (12.2845, 13.7265, 11.738431102553598, 4.623, 1.0931, 76.35464890518959),\n",
       " (10.2602, 13.3371, 29.989647377581143, 35.0, 1.6134, 95.3902038685013),\n",
       " (15.1899, 15.1846, 0.034456306307562475, 0.253, 0.2543, 0.5247590948440215),\n",
       " (17.3911, 15.4532, 11.14288394370763, 0.028, 0.1944, 594.3915303597801),\n",
       " (10.2602, 10.9069, 6.303383364565889, 35.0, 18.3313, 47.62482026097013),\n",
       " (10.5966, 11.1265, 5.00044062785667, 25.0, 14.7169, 41.13234683116661),\n",
       " (14.6229, 18.1323, 23.999180005838063, 0.446, 0.0133, 97.00847634591084),\n",
       " (14.7571, 15.2479, 3.3255628341226884, 0.39, 0.2387, 38.78373526313237),\n",
       " (19.1138, 18.9512, 0.850597645237388, 0.005, 0.0059, 17.654452084396933),\n",
       " (10.7245, 9.4621, 11.770481819470804, 22.0, 77.7395, 253.361550259944),\n",
       " (17.6322, 17.2111, 2.3885035541065007, 0.022, 0.0335, 52.37071533187298),\n",
       " (17.5878, 18.1017, 2.9218760202243756, 0.023, 0.0138, 40.18375350947131),\n",
       " (12.6524, 13.3466, 5.487164502923508, 3.2, 1.5982, 50.05539990197878),\n",
       " (8.0074, 10.4085, 29.98690966229065, 333.0, 30.174, 90.93874204891524),\n",
       " (17.9507, 14.7809, 17.658109523098496, 0.016, 0.3808, 2280.153858586078),\n",
       " (11.6123, 10.4553, 9.963173256168833, 9.054, 28.7938, 218.02313874105246),\n",
       " (10.232, 8.9007, 13.011069997800456, 36.0, 136.2935, 278.59301072845795),\n",
       " (10.5197, 11.9154, 13.267438503686694, 27.0, 6.6869, 75.23382160178843),\n",
       " (9.9035, 10.8097, 9.150677429388953, 50.0, 20.2021, 59.59579006718435),\n",
       " (11.5129, 17.3887, 51.03607504947524, 10.0, 0.0281, 99.71932983656873),\n",
       " (8.5374, 8.127, 4.806608961532813, 196.0, 295.4424, 50.73591860738296),\n",
       " (9.6645, 13.4458, 39.12563892101015, 63.5, 1.4474, 97.72066372066085),\n",
       " (14.228, 13.3257, 6.341849563486212, 0.662, 1.632, 146.5312005474981),\n",
       " (8.9029, 9.697, 8.919804431739703, 136.0, 61.4693, 54.801998503328036)]"
      ]
     },
     "execution_count": 106,
     "metadata": {},
     "output_type": "execute_result"
    }
   ],
   "source": [
    "list(zip(y_test_pmic.round(4), y_pred.round(4), ape, y_test_mic.round(4), y_pred_mic.round(4), ape_mic))"
   ]
  },
  {
   "cell_type": "code",
   "execution_count": 58,
   "id": "enabling-water",
   "metadata": {},
   "outputs": [
    {
     "data": {
      "text/plain": [
       "89750.42544692036"
      ]
     },
     "execution_count": 58,
     "metadata": {},
     "output_type": "execute_result"
    }
   ],
   "source": [
    "ape.mean()"
   ]
  },
  {
   "cell_type": "markdown",
   "id": "incredible-annotation",
   "metadata": {},
   "source": [
    "### SVR"
   ]
  },
  {
   "cell_type": "code",
   "execution_count": 208,
   "id": "yellow-norwegian",
   "metadata": {},
   "outputs": [
    {
     "name": "stdout",
     "output_type": "stream",
     "text": [
      "[-14.059795   -12.792847   -15.97331154 -12.55099558 -15.41132159] -14.157654142956716\n",
      "3.1492058039552058 2.7600725705898697\n"
     ]
    }
   ],
   "source": [
    "svr = SVR(C=100, gamma=5)\n",
    "cv_score = cross_val_score(svr, X_train, y_train_pmic, cv=5, scoring=mape_scorer)\n",
    "cv_mean = cv_score.mean()\n",
    "print(cv_score, cv_mean)\n",
    "\n",
    "_ = svr.fit(X_train, y_train_pmic)\n",
    "y_pred = svr.predict(X_test)\n",
    "\n",
    "print(np.std(y_train_pmic), np.std(y_pred))"
   ]
  },
  {
   "cell_type": "code",
   "execution_count": null,
   "id": "angry-cleanup",
   "metadata": {},
   "outputs": [],
   "source": []
  },
  {
   "cell_type": "code",
   "execution_count": null,
   "id": "solid-explosion",
   "metadata": {},
   "outputs": [],
   "source": []
  },
  {
   "cell_type": "code",
   "execution_count": 209,
   "id": "ahead-expense",
   "metadata": {},
   "outputs": [
    {
     "data": {
      "text/plain": [
       "13.495695137877838"
      ]
     },
     "execution_count": 209,
     "metadata": {},
     "output_type": "execute_result"
    }
   ],
   "source": [
    "mean_absolute_percentage_error(y_test_pmic, y_pred)"
   ]
  },
  {
   "cell_type": "code",
   "execution_count": 225,
   "id": "approved-rating",
   "metadata": {},
   "outputs": [],
   "source": [
    "from scipy.stats import pearsonr, spearmanr"
   ]
  },
  {
   "cell_type": "code",
   "execution_count": 211,
   "id": "broken-bradley",
   "metadata": {
    "scrolled": false
   },
   "outputs": [
    {
     "data": {
      "text/plain": [
       "(0.696186785551254, 4.812007547815509e-22)"
      ]
     },
     "execution_count": 211,
     "metadata": {},
     "output_type": "execute_result"
    }
   ],
   "source": [
    "pearsonr(y_test_pmic, y_pred)"
   ]
  },
  {
   "cell_type": "code",
   "execution_count": 212,
   "id": "important-mounting",
   "metadata": {},
   "outputs": [],
   "source": [
    "ape = 100*np.abs(y_test_pmic-y_pred)/y_test_pmic"
   ]
  },
  {
   "cell_type": "code",
   "execution_count": 213,
   "id": "reasonable-title",
   "metadata": {
    "scrolled": true
   },
   "outputs": [
    {
     "data": {
      "text/plain": [
       "[(14.051232891485345, 13.256804347505762, 5.653799564171943),\n",
       " (12.557049568354268, 13.064114288902452, 4.038088069876438),\n",
       " (10.658510136814161, 10.598687261550657, 0.561268643512178),\n",
       " (11.250561200502737, 15.977432800095318, 42.014540566930634),\n",
       " (13.122363377404328, 14.280644563801022, 8.826772686322364),\n",
       " (13.112413046551161, 11.549079342855682, 11.922547727450274),\n",
       " (10.819778284410283, 11.278478400506817, 4.239459479104608),\n",
       " (10.747457622830657, 11.909038504003503, 10.807959630427549),\n",
       " (9.210340371976184, 9.735319956445608, 5.699893416173323),\n",
       " (13.122363377404328, 13.646315794997602, 3.9928205196289404),\n",
       " (8.740336742730447, 12.081593569450737, 38.228010259436466),\n",
       " (9.819146404102378, 11.489367410513596, 17.009839121182775),\n",
       " (9.210340371976184, 9.413205399097336, 2.2025790462467514),\n",
       " (18.7773556878911, 18.785093049674984, 0.04120581147043376),\n",
       " (14.331348723553809, 17.899144410569257, 24.895044812856423),\n",
       " (17.46516929892493, 13.21320202356381, 24.345411158555738),\n",
       " (9.04482593349861, 8.178778013512053, 9.575064532519557),\n",
       " (12.597634848469347, 10.918526998477798, 13.328754724110505),\n",
       " (11.736069016284437, 11.79120281077846, 0.4697807623448795),\n",
       " (11.898587945782213, 12.85408390785296, 8.030330711716509),\n",
       " (13.522840944001453, 13.788562548137115, 1.9649835802700324),\n",
       " (10.612764115025957, 11.374271134345502, 7.175388155865768),\n",
       " (15.182002291787985, 15.34413959281202, 1.0679572951437128),\n",
       " (14.293546358907275, 14.694125603458259, 2.8025182448955808),\n",
       " (9.210340371976184, 13.31978300259161, 44.617706454356565),\n",
       " (20.72326583694641, 17.707047413326876, 14.554744639920985),\n",
       " (9.053336623166517, 10.07130941328609, 11.244172535401905),\n",
       " (14.103192630416055, 13.103604737522286, 7.087670991162524),\n",
       " (11.512925464970229, 15.114525687521663, 31.283102053512238),\n",
       " (12.116231941530385, 11.78518782240666, 2.7322365626644713),\n",
       " (8.517193191416238, 10.461178811605034, 22.824251798679118),\n",
       " (10.099502436462085, 11.322473924057837, 12.109225135492572),\n",
       " (11.464135300800796, 11.187070028078555, 2.4168004428810947),\n",
       " (19.624653548278303, 18.332117135178844, 6.586289077255351),\n",
       " (10.519673691959945, 12.74760250478373, 21.178687458020335),\n",
       " (9.790158867229126, 8.04317363612881, 17.844299104767842),\n",
       " (9.903487552536129, 8.923949878282581, 9.890835617829433),\n",
       " (11.086351393651828, 11.218361095761306, 1.1907407353610353),\n",
       " (10.22573346489355, 12.791760086419323, 25.09381483817588),\n",
       " (17.355970006959936, 17.24657957030962, 0.6302755570933146),\n",
       " (14.900219941463392, 14.33323791484516, 3.8051923316948533),\n",
       " (10.625034207617771, 13.386757584117941, 25.992606918103967),\n",
       " (20.030118656386467, 12.677477484239635, 36.70792618995541),\n",
       " (9.210340371976184, 9.440105005517049, 2.4946378120830164),\n",
       " (13.073573213234896, 12.886015190893113, 1.4346347343808832),\n",
       " (11.88398914636106, 10.798684236996326, 9.132496638951068),\n",
       " (16.11809565095832, 11.957626886715865, 25.812408949161995),\n",
       " (16.548878567050775, 14.63245786773775, 11.580365953791363),\n",
       " (8.859683500363014, 8.29288017060694, 6.397557313789474),\n",
       " (16.474770594897052, 15.582217144393557, 5.41769881020351),\n",
       " (11.855415773917004, 12.181028122412581, 2.746528293102581),\n",
       " (16.831445538835784, 17.727830497730068, 5.325656413918958),\n",
       " (9.210340371976184, 10.835667935902848, 17.64676980746512),\n",
       " (11.305911295585902, 17.10216306971457, 51.26744428281216),\n",
       " (14.59203934746327, 10.77843008135952, 26.134861449415713),\n",
       " (8.00736806798383, 8.34651355782377, 4.235417767243123),\n",
       " (12.206072645530174, 11.563256918481747, 5.266359997323337),\n",
       " (19.11382792451231, 18.361533946199646, 3.935862461898036),\n",
       " (12.07504438312377, 11.423969986705522, 5.391900648648519),\n",
       " (9.911519724233392, 13.984461328479291, 41.09300811143694),\n",
       " (10.042703643915052, 9.402323124453787, 6.376574896236003),\n",
       " (11.530071623805199, 12.449798444733492, 7.976765894753058),\n",
       " (13.122363377404328, 12.532883930792565, 4.49217438702239),\n",
       " (18.0152156358442, 20.87031542480814, 15.84826874502271),\n",
       " (16.811242831518264, 14.738066835388253, 12.332080482730008),\n",
       " (26.32268829627837, 12.362397689017007, 53.03520085080039),\n",
       " (12.562747589468906, 15.664369804967695, 24.689043486783227),\n",
       " (9.915560133770397, 14.565687430913242, 46.89727291658945),\n",
       " (12.716898269296165, 11.86673807871195, 6.685279480742967),\n",
       " (11.928440908931893, 11.926630863522181, 0.015174199407375683),\n",
       " (12.333906017040059, 10.459143546036294, 15.200070994652167),\n",
       " (11.675444394468004, 13.25486755307217, 13.52773483596496),\n",
       " (13.88808125079911, 15.688626849991644, 12.964682209710814),\n",
       " (12.652359748158593, 9.779152644363338, 22.708863492546662),\n",
       " (12.02375108873622, 10.937958792653488, 9.03039565664242),\n",
       " (11.355921716160564, 10.677021599408265, 5.978379683492879),\n",
       " (9.210340371976184, 14.785096816999761, 60.52714905070821),\n",
       " (8.314252347419547, 8.766616442542238, 5.44082710290949),\n",
       " (10.549751147197224, 9.434605016752823, 10.570354834774133),\n",
       " (11.895651086108904, 12.401770536871965, 4.254659514636231),\n",
       " (12.600597813600004, 12.140172338904446, 3.653997068286828),\n",
       " (18.526041259610192, 18.223298757900416, 1.6341456734731803),\n",
       " (11.512925464970229, 11.717864274458307, 1.7800758817698867),\n",
       " (10.855405462053435, 11.69561144753408, 7.739977916234463),\n",
       " (8.89552963213615, 11.322257507361286, 27.280307925211066),\n",
       " (10.985242724137814, 12.74968705120295, 16.0619512137691),\n",
       " (11.86960040890896, 8.696566272352051, 26.732442771833554),\n",
       " (11.355921716160564, 11.217604555465641, 1.218017913051341),\n",
       " (9.210340371976184, 9.808788699419333, 6.497570157819753),\n",
       " (7.867475568783628, 10.195049142211769, 29.584757563956455),\n",
       " (11.297814085353282, 11.99164876331806, 6.141317893204491),\n",
       " (9.53884443894822, 12.747476019110216, 33.637529165071385),\n",
       " (9.688376172919183, 11.53530821981684, 19.063380838371835),\n",
       " (15.977030210679716, 10.86851979083426, 31.97409250957487),\n",
       " (9.433483923290392, 10.069450167469428, 6.74158401445827),\n",
       " (11.965482180612243, 12.130437703682077, 1.3785948662989298),\n",
       " (12.875503299472802, 13.377399484648913, 3.898070417151474),\n",
       " (20.030118656386467, 19.450185944580973, 2.8953034265754907),\n",
       " (10.309953160977877, 12.685724846681712, 23.0434770033281),\n",
       " (20.72326583694641, 18.50602443066292, 10.699285642181406),\n",
       " (10.819778284410283, 12.141856956129187, 12.219092082726185),\n",
       " (15.01948336229021, 10.539958744981924, 29.824758343919736),\n",
       " (15.796012151789206, 16.14337223151633, 2.199036544092423),\n",
       " (14.360237733405945, 9.597324735363301, 33.167368719549614),\n",
       " (9.903487552536129, 12.113323181610905, 22.313711380481028),\n",
       " (9.304651051447424, 9.110416899222283, 2.087495287584437),\n",
       " (17.1397468984903, 13.022404293458864, 24.02219023079098),\n",
       " (11.736069016284437, 9.524308597841268, 18.84583684174174),\n",
       " (11.81403055775415, 13.556329255280964, 14.747707727768281),\n",
       " (9.028018815182229, 14.960223831215313, 65.70882424455098),\n",
       " (13.815510557964274, 13.322252692361964, 3.5703194864409817),\n",
       " (8.294049640102028, 9.847238521162156, 18.726544311362744),\n",
       " (9.210340371976184, 9.690542886799863, 5.213732559599707),\n",
       " (10.41431317630212, 13.674227554505578, 31.302250307023876),\n",
       " (16.68021456911186, 14.900790456770409, 10.667873035857463),\n",
       " (8.584401941109688, 11.35884484443289, 32.319582917439156),\n",
       " (15.89495209964411, 14.675048418222104, 7.674786773653248),\n",
       " (9.210340371976184, 8.960346766812581, 2.714271080841323),\n",
       " (13.284882306902103, 13.212837900028193, 0.5423036893332521),\n",
       " (12.284466712958185, 13.552060849375936, 10.318674518289328),\n",
       " (10.26016249647486, 9.545670412450141, 6.96375017715559),\n",
       " (15.18987634821889, 14.396374059153477, 5.223889061864923),\n",
       " (17.391061326771208, 16.609908494430215, 4.491691551558806),\n",
       " (10.26016249647486, 10.288969509963312, 0.2807656652450592),\n",
       " (10.596634733096073, 12.145804828666513, 14.619453577388825),\n",
       " (14.622946884926348, 16.297659402170304, 11.452633524712352),\n",
       " (14.757119097822718, 15.905950078055707, 7.784927211182351),\n",
       " (19.11382792451231, 18.667000794403016, 2.337716609535165),\n",
       " (10.724468104605958, 12.409563026102601, 15.71262001117731),\n",
       " (17.632223383588094, 17.91927375460791, 1.6279873772867477),\n",
       " (17.58777162101726, 16.076989224840684, 8.589959141675473),\n",
       " (12.652359748158593, 13.888499383296722, 9.770032308147375),\n",
       " (8.00736806798383, 9.205021485860351, 14.956892298546208),\n",
       " (17.95067711470663, 16.789824510490252, 6.466901481199913),\n",
       " (11.612303908950507, 10.442169799010136, 10.07667487102587),\n",
       " (10.231991619508165, 10.450014154784952, 2.1307927467523444),\n",
       " (10.519673691959945, 11.140085435262671, 5.897632963434025),\n",
       " (9.903487552536129, 9.89131784647713, 0.12288303483436333),\n",
       " (11.512925464970229, 15.630684608659905, 35.766401478221724),\n",
       " (8.537395898733758, 8.167875327858052, 4.328258584453272),\n",
       " (9.664470652065628, 12.064700353254645, 24.835604427812157),\n",
       " (14.228000281009402, 15.56333944629483, 9.385290546189756),\n",
       " (8.902855672228222, 9.496698135456349, 6.6702469981690555)]"
      ]
     },
     "execution_count": 213,
     "metadata": {},
     "output_type": "execute_result"
    }
   ],
   "source": [
    "list(zip(y_test_pmic, y_pred, ape))"
   ]
  },
  {
   "cell_type": "code",
   "execution_count": 150,
   "id": "advisory-rehabilitation",
   "metadata": {},
   "outputs": [
    {
     "data": {
      "text/plain": [
       "13.565334422357056"
      ]
     },
     "execution_count": 150,
     "metadata": {},
     "output_type": "execute_result"
    }
   ],
   "source": [
    "ape.mean()"
   ]
  },
  {
   "cell_type": "code",
   "execution_count": 215,
   "id": "chubby-protest",
   "metadata": {},
   "outputs": [],
   "source": [
    "y_pred_mic = np.exp(-y_pred)/1e-6"
   ]
  },
  {
   "cell_type": "code",
   "execution_count": 216,
   "id": "correct-external",
   "metadata": {},
   "outputs": [],
   "source": [
    "ape_mic = 100*np.abs(y_test_mic-y_pred_mic)/y_test_mic"
   ]
  },
  {
   "cell_type": "code",
   "execution_count": 217,
   "id": "interior-pendant",
   "metadata": {
    "scrolled": true
   },
   "outputs": [
    {
     "data": {
      "text/plain": [
       "[(14.0512, 13.2568, 5.653799564171943, 0.79, 1.7484, 121.31759026718474),\n",
       " (12.557, 13.0641, 4.038088069876438, 3.52, 2.12, 39.773920942683695),\n",
       " (10.6585, 10.5987, 0.561268643512178, 23.5, 24.9487, 6.164848568245826),\n",
       " (11.2506, 15.9774, 42.014540566930634, 13.0, 0.1151, 99.11458729877542),\n",
       " (13.1224, 14.2806, 8.826772686322364, 2.0, 0.6281, 68.59745314705424),\n",
       " (13.1124, 11.5491, 11.922547727450274, 2.02, 9.6449, 377.47122182897203),\n",
       " (10.8198, 11.2785, 4.239459479104608, 20.0, 12.6421, 36.789522547318185),\n",
       " (10.7475, 11.909, 10.807959630427549, 21.5, 6.7293, 68.70090119950191),\n",
       " (9.2103, 9.7353, 5.699893416173323, 100.0, 59.1567, 40.84325585932776),\n",
       " (13.1224, 13.6463, 3.9928205196289404, 2.0, 1.1844, 40.782460793251666),\n",
       " (8.7403, 12.0816, 38.228010259436466, 160.0, 5.6628, 96.46075524171269),\n",
       " (9.8191, 11.4894, 17.009839121182775, 54.4, 10.2384, 81.17945335726371),\n",
       " (9.2103, 9.4132, 2.2025790462467514, 100.0, 81.6388, 18.36115757145234),\n",
       " (18.7774, 18.7851, 0.04120581147043376, 0.007, 0.0069, 0.7707505452901163),\n",
       " (14.3313, 17.8991, 24.895044812856423, 0.597, 0.0168, 97.17820135509652),\n",
       " (17.4652, 13.2132, 24.345411158555738, 0.026, 1.8263, 6924.34647460967),\n",
       " (9.0448, 8.1788, 9.575064532519557, 118.0, 280.5446, 137.74962068186252),\n",
       " (12.5976, 10.9185, 13.328754724110505, 3.38, 18.1194, 436.0771224990005),\n",
       " (11.7361, 11.7912, 0.4697807623448795, 8.0, 7.5709, 5.36414780768637),\n",
       " (11.8986, 12.8541, 8.030330711716509, 6.8, 2.6154, 61.53786603551727),\n",
       " (13.5228, 13.7886, 1.9649835802700324, 1.34, 1.0273, 23.334746931171285),\n",
       " (10.6128, 11.3743, 7.175388155865768, 24.6, 11.4873, 53.303782453706795),\n",
       " (15.182, 15.3441, 1.0679572951437128, 0.255, 0.2168, 14.96755538923224),\n",
       " (14.2935, 14.6941, 2.8025182448955808, 0.62, 0.4154, 33.00681207658373),\n",
       " (9.2103, 13.3198, 44.617706454356565, 100.0, 1.6417, 98.3583077733419),\n",
       " (20.7233, 17.707, 14.554744639920985, 0.001, 0.0204, 1941.3948631055425),\n",
       " (9.0533, 10.0713, 11.244172535401905, 117.0, 42.2752, 63.86733167535724),\n",
       " (14.1032, 13.1036, 7.087670991162524, 0.75, 2.0379, 171.71618359950767),\n",
       " (11.5129, 15.1145, 31.283102053512238, 10.0, 0.2728, 97.27199666241151),\n",
       " (12.1162, 11.7852, 2.7322365626644713, 5.47, 7.6165, 39.24212233572711),\n",
       " (8.5172, 10.4612, 22.824251798679118, 200.0, 28.6265, 85.68676597198882),\n",
       " (10.0995, 11.3225, 12.109225135492572, 41.1, 12.098, 70.56458037423583),\n",
       " (11.4641, 11.1871, 2.4168004428810947, 10.5, 13.8522, 31.925247942531968),\n",
       " (19.6247, 18.3321, 6.586289077255351, 0.003, 0.0109, 264.2012498615344),\n",
       " (10.5197, 12.7476, 21.178687458020335, 27.0, 2.9093, 89.22486275607076),\n",
       " (9.7902, 8.0432, 17.844299104767842, 56.0, 321.2877, 473.72800038749017),\n",
       " (9.9035, 8.9239, 9.890835617829433, 50.0, 133.1612, 166.32246799218245),\n",
       " (11.0864, 11.2184, 1.1907407353610353, 15.32, 13.4254, 12.366750723565517),\n",
       " (10.2257, 12.7918, 25.09381483817588, 36.226, 2.7836, 92.31597449248929),\n",
       " (17.356, 17.2466, 0.6302755570933146, 0.029, 0.0324, 11.559783560324568),\n",
       " (14.9002, 14.3332, 3.8051923316948533, 0.338, 0.5959, 76.29385132782421),\n",
       " (10.625, 13.3868, 25.992606918103967, 24.3, 1.5353, 93.68172132514576),\n",
       " (20.0301, 12.6775, 36.70792618995541, 0.002, 3.1206, 155931.2143393588),\n",
       " (9.2103, 9.4401, 2.4946378120830164, 100.0, 79.4721, 20.52793689267193),\n",
       " (13.0736, 12.886, 1.4346347343808832, 2.1, 2.5332, 20.63002397552641),\n",
       " (11.884, 10.7987, 9.132496638951068, 6.9, 20.4264, 196.0342317237722),\n",
       " (16.1181, 11.9576, 25.812408949161995, 0.1, 6.4102, 6310.15640793267),\n",
       " (16.5489, 14.6325, 11.580365953791363, 0.065, 0.4418, 579.658784886346),\n",
       " (8.8597, 8.2929, 6.397557313789474, 142.0, 250.2925, 76.26235098436406),\n",
       " (16.4748, 15.5822, 5.41769881020351, 0.07, 0.1709, 144.13555797412957),\n",
       " (11.8554, 12.181, 2.746528293102581, 7.1, 5.1268, 27.79149494603028),\n",
       " (16.8314, 17.7278, 5.325656413918958, 0.049, 0.02, 59.195791439061644),\n",
       " (9.2103, 10.8357, 17.64676980746512, 100.0, 19.6847, 80.31528153943685),\n",
       " (11.3059, 17.1022, 51.26744428281216, 12.3, 0.0374, 99.69610760016475),\n",
       " (14.592, 10.7784, 26.134861449415713, 0.46, 20.8443, 4431.3693251925),\n",
       " (8.0074, 8.3465, 4.235417767243123, 333.0, 237.2221, 28.762120232798868),\n",
       " (12.2061, 11.5633, 5.266359997323337, 5.0, 9.5091, 90.18283768272877),\n",
       " (19.1138, 18.3615, 3.935862461898036, 0.005, 0.0106, 112.18619431836596),\n",
       " (12.075, 11.424, 5.391900648648519, 5.7, 10.9303, 91.75999851965305),\n",
       " (9.9115, 13.9845, 41.09300811143694, 49.6, 0.8446, 98.29727725978272),\n",
       " (10.0427, 9.4023, 6.376574896236003, 43.502, 82.5321, 89.72026645053927),\n",
       " (11.5301, 12.4498, 7.976765894753058, 9.83, 3.9185, 60.13720769823293),\n",
       " (13.1224, 12.5329, 4.49217438702239, 2.0, 3.6061, 80.30495874921068),\n",
       " (18.0152, 20.8703, 15.84826874502271, 0.015, 0.0009, 94.2449922028312),\n",
       " (16.8112, 14.7381, 12.332080482730008, 0.05, 0.3975, 695.0032336402751),\n",
       " (26.3227, 12.3624, 53.03520085080039, 0.0, 4.2764, 115578432.65135193),\n",
       " (12.5627, 15.6644, 24.689043486783227, 3.5, 0.1574, 95.50238178774522),\n",
       " (9.9156, 14.5657, 46.89727291658945, 49.4, 0.4723, 99.04396151565957),\n",
       " (12.7169, 11.8667, 6.685279480742967, 3.0, 7.0201, 134.00216713425246),\n",
       " (11.9284, 11.9266, 0.015174199407375683, 6.6, 6.612, 0.18116845307178808),\n",
       " (12.3339, 10.4591, 15.200070994652167, 4.4, 28.6848, 551.9270420647647),\n",
       " (11.6754, 13.2549, 13.52773483596496, 8.5, 1.7518, 79.39060525566765),\n",
       " (13.8881, 15.6886, 12.964682209710814, 0.93, 0.1536, 83.47912741198672),\n",
       " (12.6524, 9.7792, 22.708863492546662, 3.2, 56.6198, 1669.36727477908),\n",
       " (12.0238, 10.938, 9.03039565664242, 6.0, 17.7707, 196.17855004294606),\n",
       " (11.3559, 10.677, 5.978379683492879, 11.7, 23.069, 97.17078906846857),\n",
       " (9.2103, 14.7851, 60.52714905070821, 100.0, 0.3792, 99.62076008726427),\n",
       " (8.3143, 8.7666, 5.44082710290949, 245.0, 155.85, 36.38774815503052),\n",
       " (10.5498, 9.4346, 10.570354834774133, 26.2, 79.9104, 205.00138464979247),\n",
       " (11.8957, 12.4018, 4.254659514636231, 6.82, 4.1113, 39.71696413434049),\n",
       " (12.6006, 12.1402, 3.653997068286828, 3.37, 5.3406, 58.474811179276635),\n",
       " (18.526, 18.2233, 1.6341456734731803, 0.009, 0.0122, 35.35658786646315),\n",
       " (11.5129, 11.7179, 1.7800758817698867, 10.0, 8.147, 18.530283337709452),\n",
       " (10.8554, 11.6956, 7.739977916234463, 19.3, 8.3303, 56.83783935124749),\n",
       " (8.8955, 11.3223, 27.280307925211066, 137.0, 12.1006, 91.16746281057631),\n",
       " (10.9852, 12.7497, 16.0619512137691, 16.95, 2.9032, 82.87180632172286),\n",
       " (11.8696, 8.6966, 26.732442771833554, 7.0, 167.1588, 2287.9829211627043),\n",
       " (11.3559, 11.2176, 1.218017913051341, 11.7, 13.4356, 14.833970074151296),\n",
       " (9.2103, 9.8088, 6.497570157819753, 100.0, 54.9664, 45.033612692599306),\n",
       " (7.8675, 10.195, 29.584757563956455, 383.0, 37.3548, 90.24678852760147),\n",
       " (11.2978, 11.9916, 6.141317893204491, 12.4, 6.1957, 50.03436305663202),\n",
       " (9.5388, 12.7475, 33.637529165071385, 72.0, 2.9097, 95.95881241351823),\n",
       " (9.6884, 11.5353, 19.063380838371835, 62.0, 9.7787, 84.2279696692311),\n",
       " (15.977, 10.8685, 31.97409250957487, 0.1152, 19.0485, 16442.37593084404),\n",
       " (9.4335, 10.0695, 6.74158401445827, 80.0, 42.3539, 47.05763114616848),\n",
       " (11.9655, 12.1304, 1.3785948662989298, 6.36, 5.3928, 15.206858336435587),\n",
       " (12.8755, 13.3774, 3.898070417151474, 2.56, 1.5498, 39.46183450260216),\n",
       " (20.0301, 19.4502, 2.8953034265754907, 0.002, 0.0036, 78.59182554919815),\n",
       " (10.31, 12.6857, 23.0434770033281, 33.3, 3.095, 90.7057261053023),\n",
       " (20.7233, 18.506, 10.699285642181406, 0.001, 0.0092, 818.196658177205),\n",
       " (10.8198, 12.1419, 12.219092082726185, 20.0, 5.3316, 73.34194079018738),\n",
       " (15.0195, 10.54, 29.824758343919736, 0.3, 26.4578, 8719.273740789245),\n",
       " (15.796, 16.1434, 2.199036544092423, 0.138, 0.0975, 29.344913219620494),\n",
       " (14.3602, 9.5973, 33.167368719549614, 0.58, 67.9102, 11608.650236107243),\n",
       " (9.9035, 12.1133, 22.313711380481028, 50.0, 5.4859, 89.02813184053782),\n",
       " (9.3047, 9.1104, 2.087495287584437, 91.0, 110.5086, 21.438059958780954),\n",
       " (17.1397, 13.0224, 24.02219023079098, 0.036, 2.2103, 6039.587220928756),\n",
       " (11.7361, 9.5243, 18.84583684174174, 8.0, 73.0542, 813.1778001729401),\n",
       " (11.814, 13.5563, 14.747707727768281, 7.4, 1.2959, 82.48826043231203),\n",
       " (9.028, 14.9602, 65.70882424455098, 120.0, 0.3183, 99.73473735484832),\n",
       " (13.8155, 13.3223, 3.5703194864409817, 1.0, 1.6376, 63.764275868293026),\n",
       " (8.294, 9.8472, 18.726544311362744, 250.0, 52.8931, 78.84277816924113),\n",
       " (9.2103, 9.6905, 5.213732559599707, 100.0, 61.8658, 38.13419083153526),\n",
       " (10.4143, 13.6742, 31.302250307023876, 30.0, 1.1518, 96.16083149581249),\n",
       " (16.6802, 14.9008, 10.667873035857463, 0.057, 0.3378, 492.6442470582334),\n",
       " (8.5844, 11.3588, 32.319582917439156, 187.0, 11.6658, 93.76157789469765),\n",
       " (15.895, 14.675, 7.674786773653248, 0.125, 0.4234, 238.68615002268535),\n",
       " (9.2103, 8.9603, 2.714271080841323, 100.0, 128.4017, 28.401720558152505),\n",
       " (13.2849, 13.2128, 0.5423036893332521, 1.7, 1.827, 7.470306720778523),\n",
       " (12.2845, 13.5521, 10.318674518289328, 4.623, 1.3014, 71.84919222459284),\n",
       " (10.2602, 9.5457, 6.96375017715559, 35.0, 71.5102, 104.31486708197936),\n",
       " (15.1899, 14.3964, 5.223889061864923, 0.253, 0.5594, 121.1126886718124),\n",
       " (17.3911, 16.6099, 4.491691551558806, 0.028, 0.0612, 118.39885874468197),\n",
       " (10.2602, 10.289, 0.2807656652450592, 35.0, 34.0061, 2.8396047167876355),\n",
       " (10.5966, 12.1458, 14.619453577388825, 25.0, 5.3106, 78.75758075274096),\n",
       " (14.6229, 16.2977, 11.452633524712352, 0.446, 0.0836, 81.26379649054668),\n",
       " (14.7571, 15.906, 7.784927211182351, 0.39, 0.1236, 68.29928595351987),\n",
       " (19.1138, 18.667, 2.337716609535165, 0.005, 0.0078, 56.33440208155734),\n",
       " (10.7245, 12.4096, 15.71262001117731, 22.0, 4.0794, 81.45731698716455),\n",
       " (17.6322, 17.9193, 1.6279873772867477, 0.022, 0.0165, 24.952607425199897),\n",
       " (17.5878, 16.077, 8.589959141675473, 0.023, 0.1042, 353.02738770465714),\n",
       " (12.6524, 13.8885, 9.770032308147375, 3.2, 0.9296, 70.94964943549795),\n",
       " (8.0074, 9.205, 14.956892298546208, 333.0, 100.5333, 69.80981812303283),\n",
       " (17.9507, 16.7898, 6.466901481199913, 0.016, 0.0511, 219.26541864423467),\n",
       " (11.6123, 10.4422, 10.07667487102587, 9.054, 29.1758, 222.24247687449608),\n",
       " (10.232, 10.45, 2.1307927467523444, 36.0, 28.9479, 19.589267931865923),\n",
       " (10.5197, 11.1401, 5.897632963434025, 27.0, 14.5185, 46.227701183145626),\n",
       " (9.9035, 9.8913, 0.12288303483436333, 50.0, 50.6122, 1.2244058240382714),\n",
       " (11.5129, 15.6307, 35.766401478221724, 10.0, 0.1628, 98.37190431194699),\n",
       " (8.5374, 8.1679, 4.328258584453272, 196.0, 283.62, 44.70406948807727),\n",
       " (9.6645, 12.0647, 24.835604427812157, 63.5, 5.7593, 90.93028823392473),\n",
       " (14.228, 15.5633, 9.385290546189756, 0.662, 0.1742, 73.6931063527424),\n",
       " (8.9029, 9.4967, 6.6702469981690555, 136.0, 75.0994, 44.779861052060824)]"
      ]
     },
     "execution_count": 217,
     "metadata": {},
     "output_type": "execute_result"
    }
   ],
   "source": [
    "list(zip(y_test_pmic.round(4), y_pred.round(4), ape, y_test_mic.round(4), y_pred_mic.round(4), ape_mic))"
   ]
  },
  {
   "cell_type": "code",
   "execution_count": 241,
   "id": "municipal-zoning",
   "metadata": {},
   "outputs": [],
   "source": [
    "import matplotlib.pyplot as plt"
   ]
  },
  {
   "cell_type": "code",
   "execution_count": 245,
   "id": "republican-cooperation",
   "metadata": {},
   "outputs": [
    {
     "data": {
      "image/png": "[encoded data removed]",
      "text/plain": [
       "<Figure size 432x288 with 1 Axes>"
      ]
     },
     "metadata": {
      "needs_background": "light"
     },
     "output_type": "display_data"
    }
   ],
   "source": [
    "_ = plt.hist(y_pred_mic, bins=100)"
   ]
  },
  {
   "cell_type": "code",
   "execution_count": null,
   "id": "overall-efficiency",
   "metadata": {},
   "outputs": [],
   "source": []
  },
  {
   "cell_type": "code",
   "execution_count": 246,
   "id": "expanded-anime",
   "metadata": {},
   "outputs": [
    {
     "data": {
      "text/plain": [
       "65"
      ]
     },
     "execution_count": 246,
     "metadata": {},
     "output_type": "execute_result"
    }
   ],
   "source": [
    "ape_mic.argmax()"
   ]
  },
  {
   "cell_type": "code",
   "execution_count": 249,
   "id": "biblical-brazil",
   "metadata": {},
   "outputs": [
    {
     "data": {
      "text/plain": [
       "Sequence    AGDDQGLDKCVPNSKEK\n",
       "MIC                   3.7e-06\n",
       "pIC50                 26.3227\n",
       "Name: 693, dtype: object"
      ]
     },
     "execution_count": 249,
     "metadata": {},
     "output_type": "execute_result"
    }
   ],
   "source": [
    "df.iloc[693,:]"
   ]
  },
  {
   "cell_type": "code",
   "execution_count": null,
   "id": "designed-burton",
   "metadata": {},
   "outputs": [],
   "source": [
    "spearmanr(ape_mic, ape)"
   ]
  },
  {
   "cell_type": "code",
   "execution_count": 235,
   "id": "vulnerable-routine",
   "metadata": {},
   "outputs": [
    {
     "data": {
      "text/plain": [
       "<seaborn.axisgrid.FacetGrid at 0x1a2871b3c8>"
      ]
     },
     "execution_count": 235,
     "metadata": {},
     "output_type": "execute_result"
    },
    {
     "data": {
      "image/png": "[encoded data removed]",
      "text/plain": [
       "<Figure size 360x360 with 1 Axes>"
      ]
     },
     "metadata": {
      "needs_background": "light"
     },
     "output_type": "display_data"
    }
   ],
   "source": [
    "sns.relplot(x=y_test_pmic, y=(y_test_pmic-y_pred))"
   ]
  },
  {
   "cell_type": "code",
   "execution_count": 238,
   "id": "statewide-breeding",
   "metadata": {},
   "outputs": [
    {
     "data": {
      "text/plain": [
       "<seaborn.axisgrid.FacetGrid at 0x1a2871ad30>"
      ]
     },
     "execution_count": 238,
     "metadata": {},
     "output_type": "execute_result"
    },
    {
     "data": {
      "image/png": "[encoded data removed]",
      "text/plain": [
       "<Figure size 360x360 with 1 Axes>"
      ]
     },
     "metadata": {
      "needs_background": "light"
     },
     "output_type": "display_data"
    }
   ],
   "source": [
    "sns.relplot(x=y_pred, y=(y_test_pmic-y_pred))"
   ]
  },
  {
   "cell_type": "code",
   "execution_count": 233,
   "id": "postal-moderator",
   "metadata": {},
   "outputs": [
    {
     "data": {
      "text/plain": [
       "<seaborn.axisgrid.FacetGrid at 0x1a298c90b8>"
      ]
     },
     "execution_count": 233,
     "metadata": {},
     "output_type": "execute_result"
    },
    {
     "data": {
      "image/png": "[encoded data removed]",
      "text/plain": [
       "<Figure size 360x360 with 1 Axes>"
      ]
     },
     "metadata": {
      "needs_background": "light"
     },
     "output_type": "display_data"
    }
   ],
   "source": [
    "sns.relplot(x=ape, y=ape_mic, kind='line')"
   ]
  },
  {
   "cell_type": "code",
   "execution_count": 221,
   "id": "velvet-shower",
   "metadata": {},
   "outputs": [
    {
     "data": {
      "text/plain": [
       "[(121.31759026718474, 5.653799564171943),\n",
       " (39.773920942683695, 4.038088069876438),\n",
       " (6.164848568245826, 0.561268643512178),\n",
       " (99.11458729877542, 42.014540566930634),\n",
       " (68.59745314705424, 8.826772686322364),\n",
       " (377.47122182897203, 11.922547727450274),\n",
       " (36.789522547318185, 4.239459479104608),\n",
       " (68.70090119950191, 10.807959630427549),\n",
       " (40.84325585932776, 5.699893416173323),\n",
       " (40.782460793251666, 3.9928205196289404),\n",
       " (96.46075524171269, 38.228010259436466),\n",
       " (81.17945335726371, 17.009839121182775),\n",
       " (18.36115757145234, 2.2025790462467514),\n",
       " (0.7707505452901163, 0.04120581147043376),\n",
       " (97.17820135509652, 24.895044812856423),\n",
       " (6924.34647460967, 24.345411158555738),\n",
       " (137.74962068186252, 9.575064532519557),\n",
       " (436.0771224990005, 13.328754724110505),\n",
       " (5.36414780768637, 0.4697807623448795),\n",
       " (61.53786603551727, 8.030330711716509),\n",
       " (23.334746931171285, 1.9649835802700324),\n",
       " (53.303782453706795, 7.175388155865768),\n",
       " (14.96755538923224, 1.0679572951437128),\n",
       " (33.00681207658373, 2.8025182448955808),\n",
       " (98.3583077733419, 44.617706454356565),\n",
       " (1941.3948631055425, 14.554744639920985),\n",
       " (63.86733167535724, 11.244172535401905),\n",
       " (171.71618359950767, 7.087670991162524),\n",
       " (97.27199666241151, 31.283102053512238),\n",
       " (39.24212233572711, 2.7322365626644713),\n",
       " (85.68676597198882, 22.824251798679118),\n",
       " (70.56458037423583, 12.109225135492572),\n",
       " (31.925247942531968, 2.4168004428810947),\n",
       " (264.2012498615344, 6.586289077255351),\n",
       " (89.22486275607076, 21.178687458020335),\n",
       " (473.72800038749017, 17.844299104767842),\n",
       " (166.32246799218245, 9.890835617829433),\n",
       " (12.366750723565517, 1.1907407353610353),\n",
       " (92.31597449248929, 25.09381483817588),\n",
       " (11.559783560324568, 0.6302755570933146),\n",
       " (76.29385132782421, 3.8051923316948533),\n",
       " (93.68172132514576, 25.992606918103967),\n",
       " (155931.2143393588, 36.70792618995541),\n",
       " (20.52793689267193, 2.4946378120830164),\n",
       " (20.63002397552641, 1.4346347343808832),\n",
       " (196.0342317237722, 9.132496638951068),\n",
       " (6310.15640793267, 25.812408949161995),\n",
       " (579.658784886346, 11.580365953791363),\n",
       " (76.26235098436406, 6.397557313789474),\n",
       " (144.13555797412957, 5.41769881020351),\n",
       " (27.79149494603028, 2.746528293102581),\n",
       " (59.195791439061644, 5.325656413918958),\n",
       " (80.31528153943685, 17.64676980746512),\n",
       " (99.69610760016475, 51.26744428281216),\n",
       " (4431.3693251925, 26.134861449415713),\n",
       " (28.762120232798868, 4.235417767243123),\n",
       " (90.18283768272877, 5.266359997323337),\n",
       " (112.18619431836596, 3.935862461898036),\n",
       " (91.75999851965305, 5.391900648648519),\n",
       " (98.29727725978272, 41.09300811143694),\n",
       " (89.72026645053927, 6.376574896236003),\n",
       " (60.13720769823293, 7.976765894753058),\n",
       " (80.30495874921068, 4.49217438702239),\n",
       " (94.2449922028312, 15.84826874502271),\n",
       " (695.0032336402751, 12.332080482730008),\n",
       " (115578432.65135193, 53.03520085080039),\n",
       " (95.50238178774522, 24.689043486783227),\n",
       " (99.04396151565957, 46.89727291658945),\n",
       " (134.00216713425246, 6.685279480742967),\n",
       " (0.18116845307178808, 0.015174199407375683),\n",
       " (551.9270420647647, 15.200070994652167),\n",
       " (79.39060525566765, 13.52773483596496),\n",
       " (83.47912741198672, 12.964682209710814),\n",
       " (1669.36727477908, 22.708863492546662),\n",
       " (196.17855004294606, 9.03039565664242),\n",
       " (97.17078906846857, 5.978379683492879),\n",
       " (99.62076008726427, 60.52714905070821),\n",
       " (36.38774815503052, 5.44082710290949),\n",
       " (205.00138464979247, 10.570354834774133),\n",
       " (39.71696413434049, 4.254659514636231),\n",
       " (58.474811179276635, 3.653997068286828),\n",
       " (35.35658786646315, 1.6341456734731803),\n",
       " (18.530283337709452, 1.7800758817698867),\n",
       " (56.83783935124749, 7.739977916234463),\n",
       " (91.16746281057631, 27.280307925211066),\n",
       " (82.87180632172286, 16.0619512137691),\n",
       " (2287.9829211627043, 26.732442771833554),\n",
       " (14.833970074151296, 1.218017913051341),\n",
       " (45.033612692599306, 6.497570157819753),\n",
       " (90.24678852760147, 29.584757563956455),\n",
       " (50.03436305663202, 6.141317893204491),\n",
       " (95.95881241351823, 33.637529165071385),\n",
       " (84.2279696692311, 19.063380838371835),\n",
       " (16442.37593084404, 31.97409250957487),\n",
       " (47.05763114616848, 6.74158401445827),\n",
       " (15.206858336435587, 1.3785948662989298),\n",
       " (39.46183450260216, 3.898070417151474),\n",
       " (78.59182554919815, 2.8953034265754907),\n",
       " (90.7057261053023, 23.0434770033281),\n",
       " (818.196658177205, 10.699285642181406),\n",
       " (73.34194079018738, 12.219092082726185),\n",
       " (8719.273740789245, 29.824758343919736),\n",
       " (29.344913219620494, 2.199036544092423),\n",
       " (11608.650236107243, 33.167368719549614),\n",
       " (89.02813184053782, 22.313711380481028),\n",
       " (21.438059958780954, 2.087495287584437),\n",
       " (6039.587220928756, 24.02219023079098),\n",
       " (813.1778001729401, 18.84583684174174),\n",
       " (82.48826043231203, 14.747707727768281),\n",
       " (99.73473735484832, 65.70882424455098),\n",
       " (63.764275868293026, 3.5703194864409817),\n",
       " (78.84277816924113, 18.726544311362744),\n",
       " (38.13419083153526, 5.213732559599707),\n",
       " (96.16083149581249, 31.302250307023876),\n",
       " (492.6442470582334, 10.667873035857463),\n",
       " (93.76157789469765, 32.319582917439156),\n",
       " (238.68615002268535, 7.674786773653248),\n",
       " (28.401720558152505, 2.714271080841323),\n",
       " (7.470306720778523, 0.5423036893332521),\n",
       " (71.84919222459284, 10.318674518289328),\n",
       " (104.31486708197936, 6.96375017715559),\n",
       " (121.1126886718124, 5.223889061864923),\n",
       " (118.39885874468197, 4.491691551558806),\n",
       " (2.8396047167876355, 0.2807656652450592),\n",
       " (78.75758075274096, 14.619453577388825),\n",
       " (81.26379649054668, 11.452633524712352),\n",
       " (68.29928595351987, 7.784927211182351),\n",
       " (56.33440208155734, 2.337716609535165),\n",
       " (81.45731698716455, 15.71262001117731),\n",
       " (24.952607425199897, 1.6279873772867477),\n",
       " (353.02738770465714, 8.589959141675473),\n",
       " (70.94964943549795, 9.770032308147375),\n",
       " (69.80981812303283, 14.956892298546208),\n",
       " (219.26541864423467, 6.466901481199913),\n",
       " (222.24247687449608, 10.07667487102587),\n",
       " (19.589267931865923, 2.1307927467523444),\n",
       " (46.227701183145626, 5.897632963434025),\n",
       " (1.2244058240382714, 0.12288303483436333),\n",
       " (98.37190431194699, 35.766401478221724),\n",
       " (44.70406948807727, 4.328258584453272),\n",
       " (90.93028823392473, 24.835604427812157),\n",
       " (73.6931063527424, 9.385290546189756),\n",
       " (44.779861052060824, 6.6702469981690555)]"
      ]
     },
     "execution_count": 221,
     "metadata": {},
     "output_type": "execute_result"
    }
   ],
   "source": [
    "list(zip(ape_mic, ape))"
   ]
  },
  {
   "cell_type": "code",
   "execution_count": null,
   "id": "mental-brooks",
   "metadata": {},
   "outputs": [],
   "source": []
  }
 ],
 "metadata": {
  "kernelspec": {
   "display_name": "Python 3",
   "language": "python",
   "name": "python3"
  },
  "language_info": {
   "codemirror_mode": {
    "name": "ipython",
    "version": 3
   },
   "file_extension": ".py",
   "mimetype": "text/x-python",
   "name": "python",
   "nbconvert_exporter": "python",
   "pygments_lexer": "ipython3",
   "version": "3.6.10"
  },
  "varInspector": {
   "cols": {
    "lenName": 16,
    "lenType": 16,
    "lenVar": 40
   },
   "kernels_config": {
    "python": {
     "delete_cmd_postfix": "",
     "delete_cmd_prefix": "del ",
     "library": "var_list.py",
     "varRefreshCmd": "print(var_dic_list())"
    },
    "r": {
     "delete_cmd_postfix": ") ",
     "delete_cmd_prefix": "rm(",
     "library": "var_list.r",
     "varRefreshCmd": "cat(var_dic_list()) "
    }
   },
   "types_to_exclude": [
    "module",
    "function",
    "builtin_function_or_method",
    "instance",
    "_Feature"
   ],
   "window_display": false
  }
 },
 "nbformat": 4,
 "nbformat_minor": 5
}
