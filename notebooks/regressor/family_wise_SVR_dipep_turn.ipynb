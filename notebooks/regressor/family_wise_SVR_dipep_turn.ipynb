{
 "cells": [
  {
   "cell_type": "code",
   "execution_count": 1,
   "id": "super-movie",
   "metadata": {
    "scrolled": false
   },
   "outputs": [
    {
     "name": "stdout",
     "output_type": "stream",
     "text": [
      "/Users/in-divye.singh/Documents/Projects/MIC_predictor/src\n"
     ]
    }
   ],
   "source": [
    "cd ../../src"
   ]
  },
  {
   "cell_type": "code",
   "execution_count": 2,
   "id": "lesbian-station",
   "metadata": {},
   "outputs": [],
   "source": [
    "import biovec\n",
    "import numpy as np\n",
    "import pandas as pd\n",
    "from itertools import chain, combinations\n",
    "from collections import Counter\n",
    "\n",
    "from utils import *\n",
    "\n",
    "from sklearn.svm import SVR\n",
    "from sklearn.neighbors import KNeighborsRegressor\n",
    "from sklearn.metrics import make_scorer\n",
    "from sklearn.model_selection import GridSearchCV\n",
    "from sklearn.metrics import mean_squared_error, mean_absolute_error\n",
    "from sklearn.model_selection import train_test_split\n",
    "\n",
    "from Bio.SeqUtils.ProtParam import ProteinAnalysis"
   ]
  },
  {
   "cell_type": "code",
   "execution_count": 3,
   "id": "innocent-dimension",
   "metadata": {},
   "outputs": [],
   "source": [
    "import seaborn as sns"
   ]
  },
  {
   "cell_type": "code",
   "execution_count": 4,
   "id": "median-technician",
   "metadata": {},
   "outputs": [],
   "source": [
    "def mean_absolute_percentage_error(y_true, y_pred): \n",
    "    y_true, y_pred = np.array(y_true), np.array(y_pred)\n",
    "    return np.mean(np.abs((y_true - y_pred) / y_true)) * 100\n",
    "\n",
    "mape_scorer = make_scorer(mean_absolute_percentage_error, greater_is_better=False)"
   ]
  },
  {
   "cell_type": "code",
   "execution_count": 5,
   "id": "british-compilation",
   "metadata": {},
   "outputs": [],
   "source": [
    "avp_ic50 = pd.read_csv(\"../data/raw/AVP-IC50Pred_train.csv\")\n",
    "ha_avp = pd.read_csv(\"../data/raw/HA_AVP.csv\")"
   ]
  },
  {
   "cell_type": "code",
   "execution_count": 6,
   "id": "furnished-coating",
   "metadata": {},
   "outputs": [],
   "source": [
    "df = pd.concat([avp_ic50[['Sequence','MIC']], ha_avp], axis=0).drop_duplicates(['Sequence']).reset_index(drop=True)\n",
    "df = sequence_filtering(df)"
   ]
  },
  {
   "cell_type": "code",
   "execution_count": 7,
   "id": "musical-developer",
   "metadata": {},
   "outputs": [],
   "source": [
    "df['pIC50'] = df['MIC'].apply(lambda x: -np.log(x*1e-6))"
   ]
  },
  {
   "cell_type": "code",
   "execution_count": 8,
   "id": "traditional-utility",
   "metadata": {},
   "outputs": [],
   "source": [
    "family = pd.read_csv(\"../data/raw/712pep_family.csv\")"
   ]
  },
  {
   "cell_type": "code",
   "execution_count": 9,
   "id": "upper-refund",
   "metadata": {},
   "outputs": [
    {
     "data": {
      "text/html": [
       "<div>\n",
       "<style scoped>\n",
       "    .dataframe tbody tr th:only-of-type {\n",
       "        vertical-align: middle;\n",
       "    }\n",
       "\n",
       "    .dataframe tbody tr th {\n",
       "        vertical-align: top;\n",
       "    }\n",
       "\n",
       "    .dataframe thead th {\n",
       "        text-align: right;\n",
       "    }\n",
       "</style>\n",
       "<table border=\"1\" class=\"dataframe\">\n",
       "  <thead>\n",
       "    <tr style=\"text-align: right;\">\n",
       "      <th></th>\n",
       "      <th>Sequence</th>\n",
       "      <th>Abbreviation</th>\n",
       "      <th>Family</th>\n",
       "    </tr>\n",
       "  </thead>\n",
       "  <tbody>\n",
       "    <tr>\n",
       "      <th>0</th>\n",
       "      <td>KWKVFKKIEKMGRNIRNGIVKAGPAIAVLGEAKAL</td>\n",
       "      <td>JV</td>\n",
       "      <td>Arenaviridae</td>\n",
       "    </tr>\n",
       "    <tr>\n",
       "      <th>1</th>\n",
       "      <td>KVLTTGLPALISWIKRKRQQ</td>\n",
       "      <td>JV</td>\n",
       "      <td>Arenaviridae</td>\n",
       "    </tr>\n",
       "    <tr>\n",
       "      <th>2</th>\n",
       "      <td>HRILARIRQMMT</td>\n",
       "      <td>PRRSV</td>\n",
       "      <td>Arteriviridae</td>\n",
       "    </tr>\n",
       "    <tr>\n",
       "      <th>3</th>\n",
       "      <td>LMRIRQMMT</td>\n",
       "      <td>PRRSV</td>\n",
       "      <td>Arteriviridae</td>\n",
       "    </tr>\n",
       "    <tr>\n",
       "      <th>4</th>\n",
       "      <td>HRILMRARQMMT</td>\n",
       "      <td>PRRSV</td>\n",
       "      <td>Arteriviridae</td>\n",
       "    </tr>\n",
       "    <tr>\n",
       "      <th>...</th>\n",
       "      <td>...</td>\n",
       "      <td>...</td>\n",
       "      <td>...</td>\n",
       "    </tr>\n",
       "    <tr>\n",
       "      <th>702</th>\n",
       "      <td>YTSLIHSLIEEGQNQQEKNEQELLELDKWASLWNWF</td>\n",
       "      <td>HIV</td>\n",
       "      <td>Retroviridae</td>\n",
       "    </tr>\n",
       "    <tr>\n",
       "      <th>703</th>\n",
       "      <td>YTSLIQSLIEESQNQQEKNEQQLLELDKWASLWNWF</td>\n",
       "      <td>HIV</td>\n",
       "      <td>Retroviridae</td>\n",
       "    </tr>\n",
       "    <tr>\n",
       "      <th>704</th>\n",
       "      <td>KKKKFVKKVAKKVKKVAKKVAKVAVAV</td>\n",
       "      <td>FIV</td>\n",
       "      <td>Retroviridae</td>\n",
       "    </tr>\n",
       "    <tr>\n",
       "      <th>705</th>\n",
       "      <td>KRKRFAKKFLRFLRKVIRFLKRFIRRF</td>\n",
       "      <td>FIV</td>\n",
       "      <td>Retroviridae</td>\n",
       "    </tr>\n",
       "    <tr>\n",
       "      <th>706</th>\n",
       "      <td>FAVAVKAVAVKAVAVKAVKKAVKKVKKAVKKAVKKKK</td>\n",
       "      <td>FIV</td>\n",
       "      <td>Retroviridae</td>\n",
       "    </tr>\n",
       "  </tbody>\n",
       "</table>\n",
       "<p>707 rows × 3 columns</p>\n",
       "</div>"
      ],
      "text/plain": [
       "                                  Sequence Abbreviation         Family\n",
       "0      KWKVFKKIEKMGRNIRNGIVKAGPAIAVLGEAKAL           JV   Arenaviridae\n",
       "1                     KVLTTGLPALISWIKRKRQQ           JV   Arenaviridae\n",
       "2                             HRILARIRQMMT        PRRSV  Arteriviridae\n",
       "3                                LMRIRQMMT        PRRSV  Arteriviridae\n",
       "4                             HRILMRARQMMT        PRRSV  Arteriviridae\n",
       "..                                     ...          ...            ...\n",
       "702   YTSLIHSLIEEGQNQQEKNEQELLELDKWASLWNWF          HIV   Retroviridae\n",
       "703   YTSLIQSLIEESQNQQEKNEQQLLELDKWASLWNWF          HIV   Retroviridae\n",
       "704            KKKKFVKKVAKKVKKVAKKVAKVAVAV          FIV   Retroviridae\n",
       "705            KRKRFAKKFLRFLRKVIRFLKRFIRRF          FIV   Retroviridae\n",
       "706  FAVAVKAVAVKAVAVKAVKKAVKKVKKAVKKAVKKKK          FIV   Retroviridae\n",
       "\n",
       "[707 rows x 3 columns]"
      ]
     },
     "execution_count": 9,
     "metadata": {},
     "output_type": "execute_result"
    }
   ],
   "source": [
    "family"
   ]
  },
  {
   "cell_type": "code",
   "execution_count": 10,
   "id": "interested-blade",
   "metadata": {},
   "outputs": [],
   "source": [
    "hiv_cov_seq = family[(family['Abbreviation'] == \"HIV\")|(family['Abbreviation'] == \"SARS-CoV\")]"
   ]
  },
  {
   "cell_type": "code",
   "execution_count": 11,
   "id": "fatty-hypothesis",
   "metadata": {},
   "outputs": [],
   "source": [
    "df_hiv_cov = df.merge(hiv_cov_seq,how='right',on='Sequence').reset_index(drop=True)"
   ]
  },
  {
   "cell_type": "code",
   "execution_count": 12,
   "id": "eleven-blast",
   "metadata": {},
   "outputs": [
    {
     "data": {
      "text/html": [
       "<div>\n",
       "<style scoped>\n",
       "    .dataframe tbody tr th:only-of-type {\n",
       "        vertical-align: middle;\n",
       "    }\n",
       "\n",
       "    .dataframe tbody tr th {\n",
       "        vertical-align: top;\n",
       "    }\n",
       "\n",
       "    .dataframe thead th {\n",
       "        text-align: right;\n",
       "    }\n",
       "</style>\n",
       "<table border=\"1\" class=\"dataframe\">\n",
       "  <thead>\n",
       "    <tr style=\"text-align: right;\">\n",
       "      <th></th>\n",
       "      <th>Sequence</th>\n",
       "      <th>MIC</th>\n",
       "      <th>pIC50</th>\n",
       "      <th>Abbreviation</th>\n",
       "      <th>Family</th>\n",
       "    </tr>\n",
       "  </thead>\n",
       "  <tbody>\n",
       "    <tr>\n",
       "      <th>0</th>\n",
       "      <td>ACWAAGIKQEF</td>\n",
       "      <td>333.000</td>\n",
       "      <td>8.007368</td>\n",
       "      <td>HIV</td>\n",
       "      <td>Retroviridae</td>\n",
       "    </tr>\n",
       "    <tr>\n",
       "      <th>1</th>\n",
       "      <td>ACWGAGIKQEF</td>\n",
       "      <td>333.000</td>\n",
       "      <td>8.007368</td>\n",
       "      <td>HIV</td>\n",
       "      <td>Retroviridae</td>\n",
       "    </tr>\n",
       "    <tr>\n",
       "      <th>2</th>\n",
       "      <td>ACWWAGIKAEF</td>\n",
       "      <td>333.000</td>\n",
       "      <td>8.007368</td>\n",
       "      <td>HIV</td>\n",
       "      <td>Retroviridae</td>\n",
       "    </tr>\n",
       "    <tr>\n",
       "      <th>3</th>\n",
       "      <td>ACWWAGIKQAF</td>\n",
       "      <td>333.000</td>\n",
       "      <td>8.007368</td>\n",
       "      <td>HIV</td>\n",
       "      <td>Retroviridae</td>\n",
       "    </tr>\n",
       "    <tr>\n",
       "      <th>4</th>\n",
       "      <td>ACWWAGIRQEF</td>\n",
       "      <td>333.000</td>\n",
       "      <td>8.007368</td>\n",
       "      <td>HIV</td>\n",
       "      <td>Retroviridae</td>\n",
       "    </tr>\n",
       "    <tr>\n",
       "      <th>...</th>\n",
       "      <td>...</td>\n",
       "      <td>...</td>\n",
       "      <td>...</td>\n",
       "      <td>...</td>\n",
       "      <td>...</td>\n",
       "    </tr>\n",
       "    <tr>\n",
       "      <th>287</th>\n",
       "      <td>YTSLIHSLIEEGQNQQEKNEQELLELDKWASLWNWF</td>\n",
       "      <td>0.001</td>\n",
       "      <td>20.723266</td>\n",
       "      <td>HIV</td>\n",
       "      <td>Retroviridae</td>\n",
       "    </tr>\n",
       "    <tr>\n",
       "      <th>288</th>\n",
       "      <td>YTSLIQSLIEESQNQQEKNEQQLLELDKWASLWNWF</td>\n",
       "      <td>0.001</td>\n",
       "      <td>20.723266</td>\n",
       "      <td>HIV</td>\n",
       "      <td>Retroviridae</td>\n",
       "    </tr>\n",
       "    <tr>\n",
       "      <th>289</th>\n",
       "      <td>QKQIANQFNKAISQIQESLTTTSTALGKLQDVVNQNAQALNTLVKQ</td>\n",
       "      <td>3.970</td>\n",
       "      <td>12.436744</td>\n",
       "      <td>SARS-CoV</td>\n",
       "      <td>Coronaviridae</td>\n",
       "    </tr>\n",
       "    <tr>\n",
       "      <th>290</th>\n",
       "      <td>QNQSANQFQKEISQINEVLTTTNTSLGKLQDDVNQNNQSLNTLQKE</td>\n",
       "      <td>5.070</td>\n",
       "      <td>12.192170</td>\n",
       "      <td>SARS-CoV</td>\n",
       "      <td>Coronaviridae</td>\n",
       "    </tr>\n",
       "    <tr>\n",
       "      <th>291</th>\n",
       "      <td>PKEELDKYFKNHTSPDVDLGDISGINASVVNIQKEIDRLNEVAKNL...</td>\n",
       "      <td>24.000</td>\n",
       "      <td>10.637457</td>\n",
       "      <td>SARS-CoV</td>\n",
       "      <td>Coronaviridae</td>\n",
       "    </tr>\n",
       "  </tbody>\n",
       "</table>\n",
       "<p>292 rows × 5 columns</p>\n",
       "</div>"
      ],
      "text/plain": [
       "                                              Sequence      MIC      pIC50  \\\n",
       "0                                          ACWAAGIKQEF  333.000   8.007368   \n",
       "1                                          ACWGAGIKQEF  333.000   8.007368   \n",
       "2                                          ACWWAGIKAEF  333.000   8.007368   \n",
       "3                                          ACWWAGIKQAF  333.000   8.007368   \n",
       "4                                          ACWWAGIRQEF  333.000   8.007368   \n",
       "..                                                 ...      ...        ...   \n",
       "287               YTSLIHSLIEEGQNQQEKNEQELLELDKWASLWNWF    0.001  20.723266   \n",
       "288               YTSLIQSLIEESQNQQEKNEQQLLELDKWASLWNWF    0.001  20.723266   \n",
       "289     QKQIANQFNKAISQIQESLTTTSTALGKLQDVVNQNAQALNTLVKQ    3.970  12.436744   \n",
       "290     QNQSANQFQKEISQINEVLTTTNTSLGKLQDDVNQNNQSLNTLQKE    5.070  12.192170   \n",
       "291  PKEELDKYFKNHTSPDVDLGDISGINASVVNIQKEIDRLNEVAKNL...   24.000  10.637457   \n",
       "\n",
       "    Abbreviation         Family  \n",
       "0            HIV   Retroviridae  \n",
       "1            HIV   Retroviridae  \n",
       "2            HIV   Retroviridae  \n",
       "3            HIV   Retroviridae  \n",
       "4            HIV   Retroviridae  \n",
       "..           ...            ...  \n",
       "287          HIV   Retroviridae  \n",
       "288          HIV   Retroviridae  \n",
       "289     SARS-CoV  Coronaviridae  \n",
       "290     SARS-CoV  Coronaviridae  \n",
       "291     SARS-CoV  Coronaviridae  \n",
       "\n",
       "[292 rows x 5 columns]"
      ]
     },
     "execution_count": 12,
     "metadata": {},
     "output_type": "execute_result"
    }
   ],
   "source": [
    "df_hiv_cov"
   ]
  },
  {
   "cell_type": "code",
   "execution_count": 13,
   "id": "lightweight-zealand",
   "metadata": {},
   "outputs": [],
   "source": [
    "def get_physicochemical_properties(df):\n",
    "    params = ['aromaticity', 'helix', 'turn', 'sheet', 'gravy', 'net_charge_at_pH7point4']\n",
    "\n",
    "    prop = []\n",
    "    for seq in df.Sequence:\n",
    "        X = ProteinAnalysis(seq)\n",
    "        aromaticity = X.aromaticity()\n",
    "        sec_struc = X.secondary_structure_fraction()\n",
    "        helix = sec_struc[0]\n",
    "        turn = sec_struc[1]\n",
    "        sheet = sec_struc[2]\n",
    "        gravy = X.gravy() # hydrophobicity related\n",
    "        net_charge_at_pH7point4 = X.charge_at_pH(7.4)\n",
    "\n",
    "        prop.append([aromaticity, helix, turn, sheet, gravy, net_charge_at_pH7point4])\n",
    "    return pd.DataFrame(prop, columns=params)"
   ]
  },
  {
   "cell_type": "code",
   "execution_count": 18,
   "id": "bridal-carnival",
   "metadata": {},
   "outputs": [],
   "source": [
    "dipep_freq = reduce_by_kmer_frequency(df_hiv_cov, kmer=2)"
   ]
  },
  {
   "cell_type": "code",
   "execution_count": 15,
   "id": "forced-surgeon",
   "metadata": {},
   "outputs": [
    {
     "name": "stderr",
     "output_type": "stream",
     "text": [
      "/Users/in-divye.singh/anaconda3/envs/life-science/lib/python3.6/site-packages/smart_open/smart_open_lib.py:254: UserWarning: This function is deprecated, use smart_open.open instead. See the migration notes for details: https://github.com/RaRe-Technologies/smart_open/blob/master/README.rst#migrating-to-the-new-open-function\n",
      "  'See the migration notes for details: %s' % _MIGRATION_NOTES_URL\n",
      "Creating vectors: 100%|██████████| 292/292 [00:00<00:00, 1141.79sequence/s]\n"
     ]
    }
   ],
   "source": [
    "uniprot_embedding = biovec.models.load_protvec(\"../data/embeddings/uniprot__kmer_3_contextWindow_10_vector_100_reduction_None\")\n",
    "\n",
    "avg_protvec = convert_sequences_to_avg_vectors(df_hiv_cov['Sequence'], uniprot_embedding, kmer=3)\n",
    "avg_protvec = avg_protvec.reset_index(drop=True)"
   ]
  },
  {
   "cell_type": "code",
   "execution_count": 16,
   "id": "interim-verification",
   "metadata": {},
   "outputs": [],
   "source": [
    "physicochemical_prop = get_physicochemical_properties(df_hiv_cov)"
   ]
  },
  {
   "cell_type": "code",
   "execution_count": 19,
   "id": "computational-impossible",
   "metadata": {},
   "outputs": [],
   "source": [
    "X = pd.concat([dipep_freq, physicochemical_prop[['turn']]], axis=1)"
   ]
  },
  {
   "cell_type": "code",
   "execution_count": 20,
   "id": "final-marking",
   "metadata": {},
   "outputs": [],
   "source": [
    "y = df_hiv_cov[['pIC50', 'MIC']]"
   ]
  },
  {
   "cell_type": "code",
   "execution_count": 21,
   "id": "unauthorized-crawford",
   "metadata": {},
   "outputs": [],
   "source": [
    "X_train, X_test, y_train, y_test = train_test_split(X, y, test_size=0.2, random_state=42)"
   ]
  },
  {
   "cell_type": "code",
   "execution_count": 22,
   "id": "native-oxide",
   "metadata": {},
   "outputs": [],
   "source": [
    "y_train_pmic, y_train_mic = y_train['pIC50'], y_train['MIC']\n",
    "y_test_pmic, y_test_mic = y_test['pIC50'], y_test['MIC']"
   ]
  },
  {
   "cell_type": "code",
   "execution_count": 23,
   "id": "young-muscle",
   "metadata": {},
   "outputs": [
    {
     "data": {
      "text/html": [
       "<div>\n",
       "<style scoped>\n",
       "    .dataframe tbody tr th:only-of-type {\n",
       "        vertical-align: middle;\n",
       "    }\n",
       "\n",
       "    .dataframe tbody tr th {\n",
       "        vertical-align: top;\n",
       "    }\n",
       "\n",
       "    .dataframe thead th {\n",
       "        text-align: right;\n",
       "    }\n",
       "</style>\n",
       "<table border=\"1\" class=\"dataframe\">\n",
       "  <thead>\n",
       "    <tr style=\"text-align: right;\">\n",
       "      <th></th>\n",
       "      <th>AA</th>\n",
       "      <th>AC</th>\n",
       "      <th>AD</th>\n",
       "      <th>AE</th>\n",
       "      <th>AF</th>\n",
       "      <th>AG</th>\n",
       "      <th>AH</th>\n",
       "      <th>AI</th>\n",
       "      <th>AK</th>\n",
       "      <th>AL</th>\n",
       "      <th>...</th>\n",
       "      <th>YN</th>\n",
       "      <th>YP</th>\n",
       "      <th>YQ</th>\n",
       "      <th>YR</th>\n",
       "      <th>YS</th>\n",
       "      <th>YT</th>\n",
       "      <th>YV</th>\n",
       "      <th>YW</th>\n",
       "      <th>YY</th>\n",
       "      <th>turn</th>\n",
       "    </tr>\n",
       "  </thead>\n",
       "  <tbody>\n",
       "    <tr>\n",
       "      <th>210</th>\n",
       "      <td>0.000000</td>\n",
       "      <td>0.0</td>\n",
       "      <td>0.0</td>\n",
       "      <td>0.0</td>\n",
       "      <td>0.000000</td>\n",
       "      <td>0.000000</td>\n",
       "      <td>0.0</td>\n",
       "      <td>0.000000</td>\n",
       "      <td>0.000000</td>\n",
       "      <td>0.0</td>\n",
       "      <td>...</td>\n",
       "      <td>0.0</td>\n",
       "      <td>0.0</td>\n",
       "      <td>0.0</td>\n",
       "      <td>0.0</td>\n",
       "      <td>0.0</td>\n",
       "      <td>0.000000</td>\n",
       "      <td>0.0</td>\n",
       "      <td>0.0</td>\n",
       "      <td>0.0</td>\n",
       "      <td>0.166667</td>\n",
       "    </tr>\n",
       "    <tr>\n",
       "      <th>229</th>\n",
       "      <td>0.000000</td>\n",
       "      <td>0.0</td>\n",
       "      <td>0.0</td>\n",
       "      <td>0.0</td>\n",
       "      <td>0.000000</td>\n",
       "      <td>0.000000</td>\n",
       "      <td>0.0</td>\n",
       "      <td>0.037037</td>\n",
       "      <td>0.000000</td>\n",
       "      <td>0.0</td>\n",
       "      <td>...</td>\n",
       "      <td>0.0</td>\n",
       "      <td>0.0</td>\n",
       "      <td>0.0</td>\n",
       "      <td>0.0</td>\n",
       "      <td>0.0</td>\n",
       "      <td>0.000000</td>\n",
       "      <td>0.0</td>\n",
       "      <td>0.0</td>\n",
       "      <td>0.0</td>\n",
       "      <td>0.107143</td>\n",
       "    </tr>\n",
       "    <tr>\n",
       "      <th>226</th>\n",
       "      <td>0.000000</td>\n",
       "      <td>0.0</td>\n",
       "      <td>0.0</td>\n",
       "      <td>0.0</td>\n",
       "      <td>0.000000</td>\n",
       "      <td>0.000000</td>\n",
       "      <td>0.0</td>\n",
       "      <td>0.000000</td>\n",
       "      <td>0.000000</td>\n",
       "      <td>0.0</td>\n",
       "      <td>...</td>\n",
       "      <td>0.0</td>\n",
       "      <td>0.0</td>\n",
       "      <td>0.0</td>\n",
       "      <td>0.0</td>\n",
       "      <td>0.0</td>\n",
       "      <td>0.028571</td>\n",
       "      <td>0.0</td>\n",
       "      <td>0.0</td>\n",
       "      <td>0.0</td>\n",
       "      <td>0.222222</td>\n",
       "    </tr>\n",
       "    <tr>\n",
       "      <th>73</th>\n",
       "      <td>0.000000</td>\n",
       "      <td>0.0</td>\n",
       "      <td>0.0</td>\n",
       "      <td>0.0</td>\n",
       "      <td>0.000000</td>\n",
       "      <td>0.000000</td>\n",
       "      <td>0.0</td>\n",
       "      <td>0.000000</td>\n",
       "      <td>0.000000</td>\n",
       "      <td>0.0</td>\n",
       "      <td>...</td>\n",
       "      <td>0.0</td>\n",
       "      <td>0.0</td>\n",
       "      <td>0.0</td>\n",
       "      <td>0.0</td>\n",
       "      <td>0.0</td>\n",
       "      <td>0.000000</td>\n",
       "      <td>0.0</td>\n",
       "      <td>0.0</td>\n",
       "      <td>0.0</td>\n",
       "      <td>0.157895</td>\n",
       "    </tr>\n",
       "    <tr>\n",
       "      <th>25</th>\n",
       "      <td>0.090909</td>\n",
       "      <td>0.0</td>\n",
       "      <td>0.0</td>\n",
       "      <td>0.0</td>\n",
       "      <td>0.090909</td>\n",
       "      <td>0.090909</td>\n",
       "      <td>0.0</td>\n",
       "      <td>0.000000</td>\n",
       "      <td>0.000000</td>\n",
       "      <td>0.0</td>\n",
       "      <td>...</td>\n",
       "      <td>0.0</td>\n",
       "      <td>0.0</td>\n",
       "      <td>0.0</td>\n",
       "      <td>0.0</td>\n",
       "      <td>0.0</td>\n",
       "      <td>0.000000</td>\n",
       "      <td>0.0</td>\n",
       "      <td>0.0</td>\n",
       "      <td>0.0</td>\n",
       "      <td>0.083333</td>\n",
       "    </tr>\n",
       "    <tr>\n",
       "      <th>...</th>\n",
       "      <td>...</td>\n",
       "      <td>...</td>\n",
       "      <td>...</td>\n",
       "      <td>...</td>\n",
       "      <td>...</td>\n",
       "      <td>...</td>\n",
       "      <td>...</td>\n",
       "      <td>...</td>\n",
       "      <td>...</td>\n",
       "      <td>...</td>\n",
       "      <td>...</td>\n",
       "      <td>...</td>\n",
       "      <td>...</td>\n",
       "      <td>...</td>\n",
       "      <td>...</td>\n",
       "      <td>...</td>\n",
       "      <td>...</td>\n",
       "      <td>...</td>\n",
       "      <td>...</td>\n",
       "      <td>...</td>\n",
       "      <td>...</td>\n",
       "    </tr>\n",
       "    <tr>\n",
       "      <th>188</th>\n",
       "      <td>0.000000</td>\n",
       "      <td>0.0</td>\n",
       "      <td>0.0</td>\n",
       "      <td>0.0</td>\n",
       "      <td>0.000000</td>\n",
       "      <td>0.000000</td>\n",
       "      <td>0.0</td>\n",
       "      <td>0.000000</td>\n",
       "      <td>0.034483</td>\n",
       "      <td>0.0</td>\n",
       "      <td>...</td>\n",
       "      <td>0.0</td>\n",
       "      <td>0.0</td>\n",
       "      <td>0.0</td>\n",
       "      <td>0.0</td>\n",
       "      <td>0.0</td>\n",
       "      <td>0.000000</td>\n",
       "      <td>0.0</td>\n",
       "      <td>0.0</td>\n",
       "      <td>0.0</td>\n",
       "      <td>0.266667</td>\n",
       "    </tr>\n",
       "    <tr>\n",
       "      <th>71</th>\n",
       "      <td>0.000000</td>\n",
       "      <td>0.0</td>\n",
       "      <td>0.0</td>\n",
       "      <td>0.0</td>\n",
       "      <td>0.000000</td>\n",
       "      <td>0.000000</td>\n",
       "      <td>0.0</td>\n",
       "      <td>0.000000</td>\n",
       "      <td>0.000000</td>\n",
       "      <td>0.0</td>\n",
       "      <td>...</td>\n",
       "      <td>0.0</td>\n",
       "      <td>0.0</td>\n",
       "      <td>0.0</td>\n",
       "      <td>0.0</td>\n",
       "      <td>0.0</td>\n",
       "      <td>0.000000</td>\n",
       "      <td>0.0</td>\n",
       "      <td>0.0</td>\n",
       "      <td>0.0</td>\n",
       "      <td>0.066667</td>\n",
       "    </tr>\n",
       "    <tr>\n",
       "      <th>106</th>\n",
       "      <td>0.000000</td>\n",
       "      <td>0.0</td>\n",
       "      <td>0.0</td>\n",
       "      <td>0.0</td>\n",
       "      <td>0.000000</td>\n",
       "      <td>0.000000</td>\n",
       "      <td>0.0</td>\n",
       "      <td>0.000000</td>\n",
       "      <td>0.083333</td>\n",
       "      <td>0.0</td>\n",
       "      <td>...</td>\n",
       "      <td>0.0</td>\n",
       "      <td>0.0</td>\n",
       "      <td>0.0</td>\n",
       "      <td>0.0</td>\n",
       "      <td>0.0</td>\n",
       "      <td>0.000000</td>\n",
       "      <td>0.0</td>\n",
       "      <td>0.0</td>\n",
       "      <td>0.0</td>\n",
       "      <td>0.153846</td>\n",
       "    </tr>\n",
       "    <tr>\n",
       "      <th>270</th>\n",
       "      <td>0.000000</td>\n",
       "      <td>0.0</td>\n",
       "      <td>0.0</td>\n",
       "      <td>0.0</td>\n",
       "      <td>0.000000</td>\n",
       "      <td>0.000000</td>\n",
       "      <td>0.0</td>\n",
       "      <td>0.000000</td>\n",
       "      <td>0.000000</td>\n",
       "      <td>0.0</td>\n",
       "      <td>...</td>\n",
       "      <td>0.0</td>\n",
       "      <td>0.0</td>\n",
       "      <td>0.0</td>\n",
       "      <td>0.0</td>\n",
       "      <td>0.0</td>\n",
       "      <td>0.028571</td>\n",
       "      <td>0.0</td>\n",
       "      <td>0.0</td>\n",
       "      <td>0.0</td>\n",
       "      <td>0.194444</td>\n",
       "    </tr>\n",
       "    <tr>\n",
       "      <th>102</th>\n",
       "      <td>0.000000</td>\n",
       "      <td>0.0</td>\n",
       "      <td>0.0</td>\n",
       "      <td>0.0</td>\n",
       "      <td>0.000000</td>\n",
       "      <td>0.000000</td>\n",
       "      <td>0.0</td>\n",
       "      <td>0.000000</td>\n",
       "      <td>0.000000</td>\n",
       "      <td>0.0</td>\n",
       "      <td>...</td>\n",
       "      <td>0.0</td>\n",
       "      <td>0.0</td>\n",
       "      <td>0.0</td>\n",
       "      <td>0.0</td>\n",
       "      <td>0.0</td>\n",
       "      <td>0.000000</td>\n",
       "      <td>0.0</td>\n",
       "      <td>0.0</td>\n",
       "      <td>0.0</td>\n",
       "      <td>0.194444</td>\n",
       "    </tr>\n",
       "  </tbody>\n",
       "</table>\n",
       "<p>233 rows × 401 columns</p>\n",
       "</div>"
      ],
      "text/plain": [
       "           AA   AC   AD   AE        AF        AG   AH        AI        AK  \\\n",
       "210  0.000000  0.0  0.0  0.0  0.000000  0.000000  0.0  0.000000  0.000000   \n",
       "229  0.000000  0.0  0.0  0.0  0.000000  0.000000  0.0  0.037037  0.000000   \n",
       "226  0.000000  0.0  0.0  0.0  0.000000  0.000000  0.0  0.000000  0.000000   \n",
       "73   0.000000  0.0  0.0  0.0  0.000000  0.000000  0.0  0.000000  0.000000   \n",
       "25   0.090909  0.0  0.0  0.0  0.090909  0.090909  0.0  0.000000  0.000000   \n",
       "..        ...  ...  ...  ...       ...       ...  ...       ...       ...   \n",
       "188  0.000000  0.0  0.0  0.0  0.000000  0.000000  0.0  0.000000  0.034483   \n",
       "71   0.000000  0.0  0.0  0.0  0.000000  0.000000  0.0  0.000000  0.000000   \n",
       "106  0.000000  0.0  0.0  0.0  0.000000  0.000000  0.0  0.000000  0.083333   \n",
       "270  0.000000  0.0  0.0  0.0  0.000000  0.000000  0.0  0.000000  0.000000   \n",
       "102  0.000000  0.0  0.0  0.0  0.000000  0.000000  0.0  0.000000  0.000000   \n",
       "\n",
       "      AL  ...   YN   YP   YQ   YR   YS        YT   YV   YW   YY      turn  \n",
       "210  0.0  ...  0.0  0.0  0.0  0.0  0.0  0.000000  0.0  0.0  0.0  0.166667  \n",
       "229  0.0  ...  0.0  0.0  0.0  0.0  0.0  0.000000  0.0  0.0  0.0  0.107143  \n",
       "226  0.0  ...  0.0  0.0  0.0  0.0  0.0  0.028571  0.0  0.0  0.0  0.222222  \n",
       "73   0.0  ...  0.0  0.0  0.0  0.0  0.0  0.000000  0.0  0.0  0.0  0.157895  \n",
       "25   0.0  ...  0.0  0.0  0.0  0.0  0.0  0.000000  0.0  0.0  0.0  0.083333  \n",
       "..   ...  ...  ...  ...  ...  ...  ...       ...  ...  ...  ...       ...  \n",
       "188  0.0  ...  0.0  0.0  0.0  0.0  0.0  0.000000  0.0  0.0  0.0  0.266667  \n",
       "71   0.0  ...  0.0  0.0  0.0  0.0  0.0  0.000000  0.0  0.0  0.0  0.066667  \n",
       "106  0.0  ...  0.0  0.0  0.0  0.0  0.0  0.000000  0.0  0.0  0.0  0.153846  \n",
       "270  0.0  ...  0.0  0.0  0.0  0.0  0.0  0.028571  0.0  0.0  0.0  0.194444  \n",
       "102  0.0  ...  0.0  0.0  0.0  0.0  0.0  0.000000  0.0  0.0  0.0  0.194444  \n",
       "\n",
       "[233 rows x 401 columns]"
      ]
     },
     "execution_count": 23,
     "metadata": {},
     "output_type": "execute_result"
    }
   ],
   "source": [
    "X_train"
   ]
  },
  {
   "cell_type": "code",
   "execution_count": 24,
   "id": "distinct-battle",
   "metadata": {},
   "outputs": [],
   "source": [
    "from sklearn.model_selection import cross_val_score, GridSearchCV, LeaveOneOut"
   ]
  },
  {
   "cell_type": "code",
   "execution_count": 25,
   "id": "optical-playlist",
   "metadata": {},
   "outputs": [],
   "source": [
    "def multi_objective_score(y_true, y_pred):\n",
    "    mape = mean_absolute_percentage_error(y_true, y_pred)\n",
    "    std_diff = abs(np.std(y_pred) - np.std(y_true))\n",
    "    return mape + 10*std_diff\n",
    "multi_objective_scorer = make_scorer(multi_objective_score, greater_is_better=False)"
   ]
  },
  {
   "cell_type": "code",
   "execution_count": 26,
   "id": "satisfactory-scott",
   "metadata": {},
   "outputs": [],
   "source": [
    "param_grid = {\n",
    "    'C':[0.001,0.01,0.1,1,10,100,1000],\n",
    "    'kernel':['rbf','poly','sigmoid','linear'],\n",
    "    'degree':[1,2,3,4,5,6],\n",
    "    'gamma': np.arange(0.1,1.0,0.1).round(1).tolist() + np.arange(1,11,1).round().tolist()\n",
    "}\n",
    "svr = SVR()\n",
    "# Instantiate the grid search model\n",
    "grid_search = GridSearchCV(estimator = svr, param_grid = param_grid, \n",
    "                          cv = 5, n_jobs = -1, verbose = 2, scoring=multi_objective_scorer)"
   ]
  },
  {
   "cell_type": "code",
   "execution_count": 41,
   "id": "healthy-heath",
   "metadata": {
    "scrolled": false
   },
   "outputs": [
    {
     "name": "stdout",
     "output_type": "stream",
     "text": [
      "Fitting 5 folds for each of 3192 candidates, totalling 15960 fits\n"
     ]
    },
    {
     "name": "stderr",
     "output_type": "stream",
     "text": [
      "[Parallel(n_jobs=-1)]: Using backend LokyBackend with 12 concurrent workers.\n",
      "[Parallel(n_jobs=-1)]: Done  17 tasks      | elapsed:    0.2s\n",
      "[Parallel(n_jobs=-1)]: Done 252 tasks      | elapsed:    1.8s\n",
      "[Parallel(n_jobs=-1)]: Done 658 tasks      | elapsed:    4.0s\n",
      "[Parallel(n_jobs=-1)]: Done 1224 tasks      | elapsed:    7.0s\n",
      "[Parallel(n_jobs=-1)]: Done 1954 tasks      | elapsed:   11.0s\n",
      "[Parallel(n_jobs=-1)]: Done 2844 tasks      | elapsed:   16.0s\n",
      "[Parallel(n_jobs=-1)]: Done 3898 tasks      | elapsed:   21.7s\n",
      "[Parallel(n_jobs=-1)]: Done 5112 tasks      | elapsed:   28.2s\n",
      "[Parallel(n_jobs=-1)]: Done 6490 tasks      | elapsed:   35.7s\n",
      "[Parallel(n_jobs=-1)]: Done 8028 tasks      | elapsed:   44.3s\n",
      "[Parallel(n_jobs=-1)]: Done 9730 tasks      | elapsed:   53.8s\n",
      "[Parallel(n_jobs=-1)]: Done 11592 tasks      | elapsed:  1.1min\n",
      "[Parallel(n_jobs=-1)]: Done 13618 tasks      | elapsed:  1.3min\n",
      "[Parallel(n_jobs=-1)]: Done 15804 tasks      | elapsed:  1.5min\n",
      "[Parallel(n_jobs=-1)]: Done 15960 out of 15960 | elapsed:  1.5min finished\n"
     ]
    },
    {
     "data": {
      "text/plain": [
       "GridSearchCV(cv=5, estimator=SVR(), n_jobs=-1,\n",
       "             param_grid={'C': [0.001, 0.01, 0.1, 1, 10, 100, 1000],\n",
       "                         'degree': [1, 2, 3, 4, 5, 6],\n",
       "                         'gamma': [0.1, 0.2, 0.3, 0.4, 0.5, 0.6, 0.7, 0.8, 0.9,\n",
       "                                   1, 2, 3, 4, 5, 6, 7, 8, 9, 10],\n",
       "                         'kernel': ['rbf', 'poly', 'sigmoid', 'linear']},\n",
       "             scoring=make_scorer(multi_objective_score, greater_is_better=False),\n",
       "             verbose=2)"
      ]
     },
     "execution_count": 41,
     "metadata": {},
     "output_type": "execute_result"
    }
   ],
   "source": [
    "grid_search.fit(X_train, y_train_pmic)"
   ]
  },
  {
   "cell_type": "code",
   "execution_count": 42,
   "id": "thrown-ballet",
   "metadata": {},
   "outputs": [
    {
     "data": {
      "text/plain": [
       "{'C': 100, 'degree': 1, 'gamma': 5, 'kernel': 'rbf'}"
      ]
     },
     "execution_count": 42,
     "metadata": {},
     "output_type": "execute_result"
    }
   ],
   "source": [
    "grid_search.best_params_"
   ]
  },
  {
   "cell_type": "code",
   "execution_count": 43,
   "id": "completed-violence",
   "metadata": {},
   "outputs": [],
   "source": [
    "best_grid = grid_search.best_estimator_"
   ]
  },
  {
   "cell_type": "code",
   "execution_count": 44,
   "id": "earlier-soundtrack",
   "metadata": {},
   "outputs": [],
   "source": [
    "y_pred_pmic = best_grid.predict(X_test)"
   ]
  },
  {
   "cell_type": "code",
   "execution_count": 45,
   "id": "placed-sentence",
   "metadata": {},
   "outputs": [],
   "source": [
    "y_pred_mic = np.exp(-y_pred_pmic)/1e-6"
   ]
  },
  {
   "cell_type": "code",
   "execution_count": 46,
   "id": "sustainable-platform",
   "metadata": {},
   "outputs": [
    {
     "data": {
      "text/plain": [
       "12.318743193755372"
      ]
     },
     "execution_count": 46,
     "metadata": {},
     "output_type": "execute_result"
    }
   ],
   "source": [
    "mean_absolute_percentage_error(y_test_pmic, y_pred_pmic)"
   ]
  },
  {
   "cell_type": "code",
   "execution_count": 47,
   "id": "different-lyric",
   "metadata": {},
   "outputs": [
    {
     "data": {
      "text/plain": [
       "(3.8969081681731246, 3.0770360209575327)"
      ]
     },
     "execution_count": 47,
     "metadata": {},
     "output_type": "execute_result"
    }
   ],
   "source": [
    "np.std(y_test_pmic), np.std(y_pred_pmic)"
   ]
  },
  {
   "cell_type": "code",
   "execution_count": 48,
   "id": "silver-console",
   "metadata": {},
   "outputs": [
    {
     "data": {
      "text/plain": [
       "269.9393082281367"
      ]
     },
     "execution_count": 48,
     "metadata": {},
     "output_type": "execute_result"
    }
   ],
   "source": [
    "mean_absolute_percentage_error(y_test_mic, y_pred_mic)"
   ]
  },
  {
   "cell_type": "code",
   "execution_count": 49,
   "id": "cognitive-career",
   "metadata": {},
   "outputs": [
    {
     "data": {
      "text/plain": [
       "6855.501407815547"
      ]
     },
     "execution_count": 49,
     "metadata": {},
     "output_type": "execute_result"
    }
   ],
   "source": [
    "mean_squared_error(y_test_mic,y_pred_mic)"
   ]
  },
  {
   "cell_type": "code",
   "execution_count": null,
   "id": "tight-craps",
   "metadata": {},
   "outputs": [],
   "source": []
  },
  {
   "cell_type": "code",
   "execution_count": null,
   "id": "unexpected-academy",
   "metadata": {},
   "outputs": [],
   "source": []
  },
  {
   "cell_type": "code",
   "execution_count": null,
   "id": "nearby-residence",
   "metadata": {},
   "outputs": [],
   "source": []
  },
  {
   "cell_type": "code",
   "execution_count": 50,
   "id": "after-fraud",
   "metadata": {},
   "outputs": [
    {
     "name": "stdout",
     "output_type": "stream",
     "text": [
      "[-15.39267762 -14.23312201 -15.81252064 -14.65631394 -14.30950802] -14.880828446484319\n",
      "3.8969081681731246 3.0770360209575327\n"
     ]
    }
   ],
   "source": [
    "svr = SVR(C=100, gamma=5)\n",
    "cv_score = cross_val_score(svr, X_train, y_train_pmic, cv=5, scoring=mape_scorer)\n",
    "cv_mean = cv_score.mean()\n",
    "print(cv_score, cv_mean)\n",
    "\n",
    "_ = svr.fit(X_train, y_train_pmic)\n",
    "y_pred = svr.predict(X_test)\n",
    "\n",
    "print(np.std(y_test_pmic), np.std(y_pred))"
   ]
  },
  {
   "cell_type": "code",
   "execution_count": 51,
   "id": "successful-blair",
   "metadata": {},
   "outputs": [],
   "source": [
    "ape = 100*np.abs(y_test_pmic-y_pred)/y_test_pmic"
   ]
  },
  {
   "cell_type": "code",
   "execution_count": 52,
   "id": "tender-defensive",
   "metadata": {},
   "outputs": [],
   "source": [
    "y_pred_mic = np.exp(-y_pred)/1e-6"
   ]
  },
  {
   "cell_type": "code",
   "execution_count": 53,
   "id": "geological-jacksonville",
   "metadata": {},
   "outputs": [],
   "source": [
    "ape_mic = 100*np.abs(y_test_mic-y_pred_mic)/y_test_mic"
   ]
  },
  {
   "cell_type": "code",
   "execution_count": 54,
   "id": "athletic-latter",
   "metadata": {},
   "outputs": [
    {
     "data": {
      "text/plain": [
       "269.9393082281366"
      ]
     },
     "execution_count": 54,
     "metadata": {},
     "output_type": "execute_result"
    }
   ],
   "source": [
    "ape_mic.mean()"
   ]
  },
  {
   "cell_type": "code",
   "execution_count": 55,
   "id": "perfect-realtor",
   "metadata": {
    "scrolled": true
   },
   "outputs": [
    {
     "data": {
      "text/plain": [
       "[(10.2265, 12.3335, 20.603760216282204, 36.2, 4.4019, 87.84018511882351),\n",
       " (18.526, 16.5767, 10.521923230905161, 0.009, 0.0632, 602.3739995502144),\n",
       " (9.2103, 10.0633, 9.26039189367937, 100.0, 42.6171, 57.38285774009048),\n",
       " (13.6332, 12.7923, 6.16787902658886, 1.2, 2.7821, 131.84030428420044),\n",
       " (12.0577, 15.0391, 24.72632909576598, 5.8, 0.2942, 94.92789807327807),\n",
       " (11.4176, 10.052, 11.960641656704007, 11.0, 43.0997, 291.8151748949122),\n",
       " (16.8731, 15.7403, 6.713942155412845, 0.047, 0.1459, 210.4496045817558),\n",
       " (11.3306, 12.0506, 6.354727571426755, 12.0, 5.8409, 51.326186479171916),\n",
       " (8.0629, 9.2775, 15.063373210620535, 315.0, 93.5057, 70.31565639444001),\n",
       " (10.2862, 13.0396, 26.767435833070326, 34.1, 2.1726, 93.628628993524),\n",
       " (12.2061, 10.186, 16.549539653466372, 5.0, 37.6935, 653.8693058678326),\n",
       " (19.337, 17.9664, 7.087599481458592, 0.004, 0.0157, 293.7425526430536),\n",
       " (8.9029, 10.2451, 15.076362721356396, 136.0, 35.5318, 73.87367642174526),\n",
       " (20.0301, 18.6019, 7.130219332154487, 0.002, 0.0083, 317.11483962935887),\n",
       " (16.3666, 16.3546, 0.073329090924729, 0.078, 0.0789, 1.2073753812728316),\n",
       " (10.0088, 11.0418, 10.319964911427839, 45.0, 16.0186, 64.40302802663989),\n",
       " (9.2103, 12.5179, 35.911030522156665, 100.0, 3.6607, 96.33934518060558),\n",
       " (8.0074, 10.2612, 28.1466560411889, 333.0, 34.9646, 89.50011990115466),\n",
       " (17.1679, 16.0465, 6.53184930247479, 0.035, 0.1074, 206.90943481204417),\n",
       " (17.6322, 16.801, 4.714136057762863, 0.022, 0.0505, 129.6088447879678),\n",
       " (11.4176, 10.1721, 10.90904109510113, 11.0, 38.2234, 247.48535823005443),\n",
       " (17.4274, 16.6297, 4.577285432314942, 0.027, 0.06, 122.04350996503089),\n",
       " (19.6247, 18.4963, 5.749657734347417, 0.003, 0.0093, 209.0554147456825),\n",
       " (10.4833, 9.7286, 7.199021634058219, 28.0, 59.555, 112.69637011973747),\n",
       " (9.9869, 9.4072, 5.804460805040423, 46.0, 82.1318, 78.54739641647576),\n",
       " (19.1138, 19.3907, 1.4484131573854122, 0.005, 0.0038, 24.182966220445767),\n",
       " (19.337, 17.4381, 9.81997323658558, 0.004, 0.0267, 567.8446654073637),\n",
       " (10.9585, 10.8925, 0.6023390595499468, 17.41, 18.598, 6.823432282418101),\n",
       " (9.6289, 9.3371, 3.0306663632747077, 65.8, 88.0971, 33.886140124119336),\n",
       " (15.0778, 17.1455, 13.713606899622208, 0.283, 0.0358, 87.35252781901436),\n",
       " (9.0881, 11.0646, 21.74824326663361, 113.0, 15.6564, 86.14476493448615),\n",
       " (9.3729, 10.8455, 15.712066910272188, 85.0, 19.4916, 77.06875797976683),\n",
       " (20.7233, 18.3578, 11.414457417869812, 0.001, 0.0106, 964.8812190748306),\n",
       " (11.2723, 11.8139, 4.804573957979131, 12.72, 7.4008, 41.817622655403824),\n",
       " (9.6289, 13.1846, 36.92737904819885, 65.8, 1.8793, 97.14385386235244),\n",
       " (13.1224, 12.3559, 5.840703202611085, 2.0, 4.3042, 115.20874929369987),\n",
       " (20.0301, 17.6638, 11.813620386484972, 0.002, 0.0213, 965.7695155220778),\n",
       " (11.1216, 10.5199, 5.4094713213246495, 14.79, 26.9928, 82.50685715905833),\n",
       " (12.7508, 11.34, 11.064587675936249, 2.9, 11.8881, 309.9329507473985),\n",
       " (9.6932, 10.1573, 4.7885697044475135, 61.704, 38.7909, 37.13394344314206),\n",
       " (12.2061, 9.5683, 21.6106913315645, 5.0, 69.9132, 1298.264171920665),\n",
       " (9.7533, 10.1619, 4.18899890488944, 58.1, 38.6134, 33.53983968117747),\n",
       " (19.1138, 15.2426, 20.253333735913966, 0.005, 0.24, 4699.934472536424),\n",
       " (12.7004, 12.3406, 2.8324671417147385, 3.05, 4.3705, 43.29478813485821),\n",
       " (13.8155, 13.3138, 3.6311838422311764, 1.0, 1.6515, 65.14712992500995),\n",
       " (8.7403, 9.8931, 13.189009236209335, 160.0, 50.5221, 68.42371495101415),\n",
       " (8.5172, 10.2381, 20.204892811228003, 200.0, 35.7814, 82.10931062031692),\n",
       " (8.5172, 11.4263, 34.155215845400505, 200.0, 10.9053, 94.5473350681238),\n",
       " (19.6247, 17.7043, 9.785272531098217, 0.003, 0.0205, 582.318132465494),\n",
       " (11.339, 10.1631, 10.3706134576171, 11.9, 38.5694, 224.1126558327898),\n",
       " (17.7788, 16.3849, 7.840404830879876, 0.019, 0.0766, 303.06675194834594),\n",
       " (10.0995, 11.7225, 16.07011726090671, 41.1, 8.1093, 80.26944791440071),\n",
       " (8.3143, 10.4677, 25.90095401689007, 245.0, 28.4397, 88.39194204049765),\n",
       " (13.5176, 16.8119, 24.370191530873775, 1.347, 0.05, 96.29049774858545),\n",
       " (15.3762, 17.0662, 10.991453303212896, 0.21, 0.0387, 81.54921483534609),\n",
       " (13.6416, 14.5155, 6.406226899519957, 1.19, 0.4966, 58.26829816299138),\n",
       " (13.8155, 13.9026, 0.6301266159429193, 1.0, 0.9166, 8.337351193690045),\n",
       " (13.2849, 13.8492, 4.247881374171983, 1.7, 0.9669, 43.125667275117735),\n",
       " (8.0074, 10.2548, 28.06758444743606, 333.0, 35.1867, 89.43342844057064)]"
      ]
     },
     "execution_count": 55,
     "metadata": {},
     "output_type": "execute_result"
    }
   ],
   "source": [
    "list(zip(y_test_pmic.round(4), y_pred.round(4), ape, y_test_mic.round(4), y_pred_mic.round(4), ape_mic))"
   ]
  },
  {
   "cell_type": "markdown",
   "id": "combined-pencil",
   "metadata": {},
   "source": [
    "### Leave one out CV"
   ]
  },
  {
   "cell_type": "code",
   "execution_count": 56,
   "id": "processed-utility",
   "metadata": {},
   "outputs": [],
   "source": [
    "loo = LeaveOneOut()"
   ]
  },
  {
   "cell_type": "code",
   "execution_count": 57,
   "id": "breeding-madrid",
   "metadata": {},
   "outputs": [],
   "source": [
    "from tqdm import tqdm"
   ]
  },
  {
   "cell_type": "code",
   "execution_count": 58,
   "id": "turkish-breathing",
   "metadata": {
    "scrolled": true
   },
   "outputs": [
    {
     "name": "stderr",
     "output_type": "stream",
     "text": [
      "292it [00:15, 19.16it/s]\n"
     ]
    }
   ],
   "source": [
    "result_df = pd.DataFrame(columns = list(df_hiv_cov.columns)+[\"y_pred_pmic\", \"y_pred_mic\", \"ape_pmic\", \"ape_mic\"])\n",
    "for train_index, test_index in tqdm(loo.split(X)):\n",
    "    X_train, X_test = X.iloc[train_index,:], X.iloc[test_index,:]\n",
    "    y_train, y_test = y.iloc[train_index], y.iloc[test_index]\n",
    "    y_train_pmic, y_train_mic = y_train['pIC50'], y_train['MIC']\n",
    "    y_test_pmic, y_test_mic = y_test['pIC50'], y_test['MIC']\n",
    "    svr = SVR(C=100, gamma=2)\n",
    "    _ = svr.fit(X_train, y_train_pmic)\n",
    "    y_pred_pmic = svr.predict(X_test)\n",
    "    y_pred_mic = np.exp(-y_pred_pmic)/1e-6\n",
    "    ape = 100*np.abs(y_test_pmic-y_pred_pmic)/y_test_pmic\n",
    "    ape_mic = 100*np.abs(y_test_mic-y_pred_mic)/y_test_mic\n",
    "    df_val = df_hiv_cov.iloc[test_index,:].values[0].tolist()\n",
    "    res = np.append(df_val, [y_pred_pmic[0], y_pred_mic[0], ape.values[0], ape_mic.values[0]])\n",
    "    res = pd.DataFrame([res], columns = list(df_hiv_cov.columns)+[\"y_pred_pmic\", \"y_pred_mic\", \"ape_pmic\", \"ape_mic\"])\n",
    "    result_df = result_df.append(res)\n",
    "result_df = result_df[[\"Sequence\", \"pIC50\", \"y_pred_pmic\", \"ape_pmic\", \"MIC\", \"y_pred_mic\", \"ape_mic\"]]"
   ]
  },
  {
   "cell_type": "code",
   "execution_count": 64,
   "id": "acknowledged-shepherd",
   "metadata": {},
   "outputs": [],
   "source": [
    "result_df#.to_csv(\"../results/SVM_HIV_CoV_pMIC_to_MIC_rbf_c_100_gamma_5_dipep_turn.csv\", index=False)"
   ]
  },
  {
   "cell_type": "code",
   "execution_count": 60,
   "id": "corrected-photography",
   "metadata": {},
   "outputs": [
    {
     "data": {
      "text/plain": [
       "14.6938786920488"
      ]
     },
     "execution_count": 60,
     "metadata": {},
     "output_type": "execute_result"
    }
   ],
   "source": [
    "result_df['ape_pmic'].astype('float').mean()"
   ]
  },
  {
   "cell_type": "code",
   "execution_count": 61,
   "id": "answering-billion",
   "metadata": {},
   "outputs": [
    {
     "data": {
      "text/plain": [
       "23360.587338393747"
      ]
     },
     "execution_count": 61,
     "metadata": {},
     "output_type": "execute_result"
    }
   ],
   "source": [
    "result_df['ape_mic'].astype('float').mean()"
   ]
  },
  {
   "cell_type": "code",
   "execution_count": null,
   "id": "circular-musician",
   "metadata": {},
   "outputs": [],
   "source": []
  }
 ],
 "metadata": {
  "kernelspec": {
   "display_name": "Python 3",
   "language": "python",
   "name": "python3"
  },
  "language_info": {
   "codemirror_mode": {
    "name": "ipython",
    "version": 3
   },
   "file_extension": ".py",
   "mimetype": "text/x-python",
   "name": "python",
   "nbconvert_exporter": "python",
   "pygments_lexer": "ipython3",
   "version": "3.6.10"
  },
  "varInspector": {
   "cols": {
    "lenName": 16,
    "lenType": 16,
    "lenVar": 40
   },
   "kernels_config": {
    "python": {
     "delete_cmd_postfix": "",
     "delete_cmd_prefix": "del ",
     "library": "var_list.py",
     "varRefreshCmd": "print(var_dic_list())"
    },
    "r": {
     "delete_cmd_postfix": ") ",
     "delete_cmd_prefix": "rm(",
     "library": "var_list.r",
     "varRefreshCmd": "cat(var_dic_list()) "
    }
   },
   "types_to_exclude": [
    "module",
    "function",
    "builtin_function_or_method",
    "instance",
    "_Feature"
   ],
   "window_display": false
  }
 },
 "nbformat": 4,
 "nbformat_minor": 5
}
