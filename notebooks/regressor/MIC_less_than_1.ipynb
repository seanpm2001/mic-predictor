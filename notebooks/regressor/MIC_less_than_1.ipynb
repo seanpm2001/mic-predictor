{
 "cells": [
  {
   "cell_type": "code",
   "execution_count": 4,
   "id": "formed-gateway",
   "metadata": {},
   "outputs": [
    {
     "name": "stdout",
     "output_type": "stream",
     "text": [
      "/Users/in-divye.singh/Documents/Projects/MIC_predictor\n"
     ]
    }
   ],
   "source": [
    "cd ../../"
   ]
  },
  {
   "cell_type": "code",
   "execution_count": 5,
   "id": "empirical-charger",
   "metadata": {},
   "outputs": [],
   "source": [
    "from tqdm import tqdm\n",
    "import biovec\n",
    "import numpy as np\n",
    "import pandas as pd\n",
    "from itertools import chain"
   ]
  },
  {
   "cell_type": "code",
   "execution_count": 6,
   "id": "driving-edmonton",
   "metadata": {},
   "outputs": [],
   "source": [
    "from notebooks.utils import *"
   ]
  },
  {
   "cell_type": "code",
   "execution_count": 7,
   "id": "advised-childhood",
   "metadata": {},
   "outputs": [],
   "source": [
    "from sklearn.svm import SVR\n",
    "from sklearn.metrics import make_scorer\n",
    "from sklearn.model_selection import GridSearchCV\n",
    "from sklearn.ensemble import RandomForestRegressor\n",
    "from sklearn.metrics import mean_squared_error, mean_absolute_error\n",
    "from sklearn.model_selection import train_test_split"
   ]
  },
  {
   "cell_type": "code",
   "execution_count": 8,
   "id": "amazing-latter",
   "metadata": {},
   "outputs": [],
   "source": [
    "def mean_absolute_percentage_error(y_true, y_pred): \n",
    "    y_true, y_pred = np.array(y_true), np.array(y_pred)\n",
    "    return np.mean(np.abs((y_true - y_pred) / y_true)) * 100"
   ]
  },
  {
   "cell_type": "code",
   "execution_count": 9,
   "id": "welsh-queen",
   "metadata": {},
   "outputs": [],
   "source": [
    "mape_scorer = make_scorer(mean_absolute_percentage_error, greater_is_better=False)"
   ]
  },
  {
   "cell_type": "code",
   "execution_count": 11,
   "id": "flying-destiny",
   "metadata": {},
   "outputs": [],
   "source": [
    "avp_ic50 = pd.read_csv(\"data/raw/AVP-IC50Pred_train.csv\")\n",
    "ha_avp = pd.read_csv(\"data/raw/HA_AVP.csv\")\n",
    "\n",
    "df = pd.concat([avp_ic50[['Sequence', 'MIC']], ha_avp], axis=0).drop_duplicates(['Sequence']).reset_index(drop=True)\n",
    "df = sequence_filtering(df)"
   ]
  },
  {
   "cell_type": "code",
   "execution_count": 16,
   "id": "widespread-radiation",
   "metadata": {},
   "outputs": [],
   "source": [
    "df_lessthan1 = df[df['MIC'] <= 1]"
   ]
  },
  {
   "cell_type": "markdown",
   "id": "refined-arbor",
   "metadata": {},
   "source": [
    "### Amino acid frequency"
   ]
  },
  {
   "cell_type": "code",
   "execution_count": 17,
   "id": "seventh-withdrawal",
   "metadata": {},
   "outputs": [],
   "source": [
    "############# Amino acid frequency #############\n",
    "aa_freq = reduce_by_kmer_frequency(df_lessthan1).sort_index(axis=1)"
   ]
  },
  {
   "cell_type": "code",
   "execution_count": 18,
   "id": "supreme-virus",
   "metadata": {},
   "outputs": [
    {
     "data": {
      "text/html": [
       "<div>\n",
       "<style scoped>\n",
       "    .dataframe tbody tr th:only-of-type {\n",
       "        vertical-align: middle;\n",
       "    }\n",
       "\n",
       "    .dataframe tbody tr th {\n",
       "        vertical-align: top;\n",
       "    }\n",
       "\n",
       "    .dataframe thead th {\n",
       "        text-align: right;\n",
       "    }\n",
       "</style>\n",
       "<table border=\"1\" class=\"dataframe\">\n",
       "  <thead>\n",
       "    <tr style=\"text-align: right;\">\n",
       "      <th></th>\n",
       "      <th>A</th>\n",
       "      <th>C</th>\n",
       "      <th>D</th>\n",
       "      <th>E</th>\n",
       "      <th>F</th>\n",
       "      <th>G</th>\n",
       "      <th>H</th>\n",
       "      <th>I</th>\n",
       "      <th>K</th>\n",
       "      <th>L</th>\n",
       "      <th>M</th>\n",
       "      <th>N</th>\n",
       "      <th>P</th>\n",
       "      <th>Q</th>\n",
       "      <th>R</th>\n",
       "      <th>S</th>\n",
       "      <th>T</th>\n",
       "      <th>V</th>\n",
       "      <th>W</th>\n",
       "      <th>Y</th>\n",
       "    </tr>\n",
       "  </thead>\n",
       "  <tbody>\n",
       "    <tr>\n",
       "      <th>0</th>\n",
       "      <td>0.090909</td>\n",
       "      <td>0.000000</td>\n",
       "      <td>0.045455</td>\n",
       "      <td>0.136364</td>\n",
       "      <td>0.045455</td>\n",
       "      <td>0.045455</td>\n",
       "      <td>0.000000</td>\n",
       "      <td>0.045455</td>\n",
       "      <td>0.136364</td>\n",
       "      <td>0.136364</td>\n",
       "      <td>0.0</td>\n",
       "      <td>0.000000</td>\n",
       "      <td>0.000000</td>\n",
       "      <td>0.000000</td>\n",
       "      <td>0.090909</td>\n",
       "      <td>0.090909</td>\n",
       "      <td>0.000000</td>\n",
       "      <td>0.045455</td>\n",
       "      <td>0.045455</td>\n",
       "      <td>0.045455</td>\n",
       "    </tr>\n",
       "    <tr>\n",
       "      <th>1</th>\n",
       "      <td>0.057143</td>\n",
       "      <td>0.000000</td>\n",
       "      <td>0.085714</td>\n",
       "      <td>0.114286</td>\n",
       "      <td>0.000000</td>\n",
       "      <td>0.000000</td>\n",
       "      <td>0.000000</td>\n",
       "      <td>0.114286</td>\n",
       "      <td>0.085714</td>\n",
       "      <td>0.114286</td>\n",
       "      <td>0.0</td>\n",
       "      <td>0.114286</td>\n",
       "      <td>0.028571</td>\n",
       "      <td>0.028571</td>\n",
       "      <td>0.057143</td>\n",
       "      <td>0.142857</td>\n",
       "      <td>0.000000</td>\n",
       "      <td>0.028571</td>\n",
       "      <td>0.028571</td>\n",
       "      <td>0.000000</td>\n",
       "    </tr>\n",
       "    <tr>\n",
       "      <th>2</th>\n",
       "      <td>0.057143</td>\n",
       "      <td>0.000000</td>\n",
       "      <td>0.114286</td>\n",
       "      <td>0.114286</td>\n",
       "      <td>0.000000</td>\n",
       "      <td>0.000000</td>\n",
       "      <td>0.000000</td>\n",
       "      <td>0.114286</td>\n",
       "      <td>0.114286</td>\n",
       "      <td>0.114286</td>\n",
       "      <td>0.0</td>\n",
       "      <td>0.057143</td>\n",
       "      <td>0.028571</td>\n",
       "      <td>0.028571</td>\n",
       "      <td>0.057143</td>\n",
       "      <td>0.142857</td>\n",
       "      <td>0.000000</td>\n",
       "      <td>0.028571</td>\n",
       "      <td>0.028571</td>\n",
       "      <td>0.000000</td>\n",
       "    </tr>\n",
       "    <tr>\n",
       "      <th>3</th>\n",
       "      <td>0.028571</td>\n",
       "      <td>0.000000</td>\n",
       "      <td>0.057143</td>\n",
       "      <td>0.114286</td>\n",
       "      <td>0.000000</td>\n",
       "      <td>0.028571</td>\n",
       "      <td>0.028571</td>\n",
       "      <td>0.085714</td>\n",
       "      <td>0.114286</td>\n",
       "      <td>0.085714</td>\n",
       "      <td>0.0</td>\n",
       "      <td>0.085714</td>\n",
       "      <td>0.000000</td>\n",
       "      <td>0.057143</td>\n",
       "      <td>0.057143</td>\n",
       "      <td>0.200000</td>\n",
       "      <td>0.000000</td>\n",
       "      <td>0.000000</td>\n",
       "      <td>0.057143</td>\n",
       "      <td>0.000000</td>\n",
       "    </tr>\n",
       "    <tr>\n",
       "      <th>4</th>\n",
       "      <td>0.000000</td>\n",
       "      <td>0.222222</td>\n",
       "      <td>0.000000</td>\n",
       "      <td>0.000000</td>\n",
       "      <td>0.000000</td>\n",
       "      <td>0.000000</td>\n",
       "      <td>0.000000</td>\n",
       "      <td>0.000000</td>\n",
       "      <td>0.111111</td>\n",
       "      <td>0.222222</td>\n",
       "      <td>0.0</td>\n",
       "      <td>0.000000</td>\n",
       "      <td>0.000000</td>\n",
       "      <td>0.000000</td>\n",
       "      <td>0.000000</td>\n",
       "      <td>0.000000</td>\n",
       "      <td>0.333333</td>\n",
       "      <td>0.000000</td>\n",
       "      <td>0.000000</td>\n",
       "      <td>0.111111</td>\n",
       "    </tr>\n",
       "    <tr>\n",
       "      <th>...</th>\n",
       "      <td>...</td>\n",
       "      <td>...</td>\n",
       "      <td>...</td>\n",
       "      <td>...</td>\n",
       "      <td>...</td>\n",
       "      <td>...</td>\n",
       "      <td>...</td>\n",
       "      <td>...</td>\n",
       "      <td>...</td>\n",
       "      <td>...</td>\n",
       "      <td>...</td>\n",
       "      <td>...</td>\n",
       "      <td>...</td>\n",
       "      <td>...</td>\n",
       "      <td>...</td>\n",
       "      <td>...</td>\n",
       "      <td>...</td>\n",
       "      <td>...</td>\n",
       "      <td>...</td>\n",
       "      <td>...</td>\n",
       "    </tr>\n",
       "    <tr>\n",
       "      <th>210</th>\n",
       "      <td>0.066667</td>\n",
       "      <td>0.166667</td>\n",
       "      <td>0.000000</td>\n",
       "      <td>0.000000</td>\n",
       "      <td>0.066667</td>\n",
       "      <td>0.133333</td>\n",
       "      <td>0.033333</td>\n",
       "      <td>0.100000</td>\n",
       "      <td>0.066667</td>\n",
       "      <td>0.000000</td>\n",
       "      <td>0.0</td>\n",
       "      <td>0.066667</td>\n",
       "      <td>0.066667</td>\n",
       "      <td>0.033333</td>\n",
       "      <td>0.100000</td>\n",
       "      <td>0.000000</td>\n",
       "      <td>0.033333</td>\n",
       "      <td>0.033333</td>\n",
       "      <td>0.033333</td>\n",
       "      <td>0.000000</td>\n",
       "    </tr>\n",
       "    <tr>\n",
       "      <th>211</th>\n",
       "      <td>0.000000</td>\n",
       "      <td>0.045455</td>\n",
       "      <td>0.045455</td>\n",
       "      <td>0.000000</td>\n",
       "      <td>0.045455</td>\n",
       "      <td>0.045455</td>\n",
       "      <td>0.045455</td>\n",
       "      <td>0.045455</td>\n",
       "      <td>0.045455</td>\n",
       "      <td>0.000000</td>\n",
       "      <td>0.0</td>\n",
       "      <td>0.045455</td>\n",
       "      <td>0.090909</td>\n",
       "      <td>0.045455</td>\n",
       "      <td>0.136364</td>\n",
       "      <td>0.000000</td>\n",
       "      <td>0.136364</td>\n",
       "      <td>0.000000</td>\n",
       "      <td>0.090909</td>\n",
       "      <td>0.136364</td>\n",
       "    </tr>\n",
       "    <tr>\n",
       "      <th>212</th>\n",
       "      <td>0.027778</td>\n",
       "      <td>0.000000</td>\n",
       "      <td>0.027778</td>\n",
       "      <td>0.166667</td>\n",
       "      <td>0.027778</td>\n",
       "      <td>0.000000</td>\n",
       "      <td>0.027778</td>\n",
       "      <td>0.055556</td>\n",
       "      <td>0.055556</td>\n",
       "      <td>0.166667</td>\n",
       "      <td>0.0</td>\n",
       "      <td>0.083333</td>\n",
       "      <td>0.000000</td>\n",
       "      <td>0.111111</td>\n",
       "      <td>0.000000</td>\n",
       "      <td>0.111111</td>\n",
       "      <td>0.027778</td>\n",
       "      <td>0.000000</td>\n",
       "      <td>0.083333</td>\n",
       "      <td>0.027778</td>\n",
       "    </tr>\n",
       "    <tr>\n",
       "      <th>213</th>\n",
       "      <td>0.063830</td>\n",
       "      <td>0.000000</td>\n",
       "      <td>0.106383</td>\n",
       "      <td>0.021277</td>\n",
       "      <td>0.085106</td>\n",
       "      <td>0.085106</td>\n",
       "      <td>0.042553</td>\n",
       "      <td>0.000000</td>\n",
       "      <td>0.042553</td>\n",
       "      <td>0.063830</td>\n",
       "      <td>0.0</td>\n",
       "      <td>0.170213</td>\n",
       "      <td>0.148936</td>\n",
       "      <td>0.021277</td>\n",
       "      <td>0.000000</td>\n",
       "      <td>0.042553</td>\n",
       "      <td>0.021277</td>\n",
       "      <td>0.042553</td>\n",
       "      <td>0.042553</td>\n",
       "      <td>0.000000</td>\n",
       "    </tr>\n",
       "    <tr>\n",
       "      <th>214</th>\n",
       "      <td>0.000000</td>\n",
       "      <td>0.000000</td>\n",
       "      <td>0.055556</td>\n",
       "      <td>0.250000</td>\n",
       "      <td>0.000000</td>\n",
       "      <td>0.000000</td>\n",
       "      <td>0.000000</td>\n",
       "      <td>0.083333</td>\n",
       "      <td>0.000000</td>\n",
       "      <td>0.083333</td>\n",
       "      <td>0.0</td>\n",
       "      <td>0.055556</td>\n",
       "      <td>0.000000</td>\n",
       "      <td>0.111111</td>\n",
       "      <td>0.138889</td>\n",
       "      <td>0.055556</td>\n",
       "      <td>0.055556</td>\n",
       "      <td>0.000000</td>\n",
       "      <td>0.055556</td>\n",
       "      <td>0.055556</td>\n",
       "    </tr>\n",
       "  </tbody>\n",
       "</table>\n",
       "<p>215 rows × 20 columns</p>\n",
       "</div>"
      ],
      "text/plain": [
       "            A         C         D         E         F         G         H  \\\n",
       "0    0.090909  0.000000  0.045455  0.136364  0.045455  0.045455  0.000000   \n",
       "1    0.057143  0.000000  0.085714  0.114286  0.000000  0.000000  0.000000   \n",
       "2    0.057143  0.000000  0.114286  0.114286  0.000000  0.000000  0.000000   \n",
       "3    0.028571  0.000000  0.057143  0.114286  0.000000  0.028571  0.028571   \n",
       "4    0.000000  0.222222  0.000000  0.000000  0.000000  0.000000  0.000000   \n",
       "..        ...       ...       ...       ...       ...       ...       ...   \n",
       "210  0.066667  0.166667  0.000000  0.000000  0.066667  0.133333  0.033333   \n",
       "211  0.000000  0.045455  0.045455  0.000000  0.045455  0.045455  0.045455   \n",
       "212  0.027778  0.000000  0.027778  0.166667  0.027778  0.000000  0.027778   \n",
       "213  0.063830  0.000000  0.106383  0.021277  0.085106  0.085106  0.042553   \n",
       "214  0.000000  0.000000  0.055556  0.250000  0.000000  0.000000  0.000000   \n",
       "\n",
       "            I         K         L    M         N         P         Q  \\\n",
       "0    0.045455  0.136364  0.136364  0.0  0.000000  0.000000  0.000000   \n",
       "1    0.114286  0.085714  0.114286  0.0  0.114286  0.028571  0.028571   \n",
       "2    0.114286  0.114286  0.114286  0.0  0.057143  0.028571  0.028571   \n",
       "3    0.085714  0.114286  0.085714  0.0  0.085714  0.000000  0.057143   \n",
       "4    0.000000  0.111111  0.222222  0.0  0.000000  0.000000  0.000000   \n",
       "..        ...       ...       ...  ...       ...       ...       ...   \n",
       "210  0.100000  0.066667  0.000000  0.0  0.066667  0.066667  0.033333   \n",
       "211  0.045455  0.045455  0.000000  0.0  0.045455  0.090909  0.045455   \n",
       "212  0.055556  0.055556  0.166667  0.0  0.083333  0.000000  0.111111   \n",
       "213  0.000000  0.042553  0.063830  0.0  0.170213  0.148936  0.021277   \n",
       "214  0.083333  0.000000  0.083333  0.0  0.055556  0.000000  0.111111   \n",
       "\n",
       "            R         S         T         V         W         Y  \n",
       "0    0.090909  0.090909  0.000000  0.045455  0.045455  0.045455  \n",
       "1    0.057143  0.142857  0.000000  0.028571  0.028571  0.000000  \n",
       "2    0.057143  0.142857  0.000000  0.028571  0.028571  0.000000  \n",
       "3    0.057143  0.200000  0.000000  0.000000  0.057143  0.000000  \n",
       "4    0.000000  0.000000  0.333333  0.000000  0.000000  0.111111  \n",
       "..        ...       ...       ...       ...       ...       ...  \n",
       "210  0.100000  0.000000  0.033333  0.033333  0.033333  0.000000  \n",
       "211  0.136364  0.000000  0.136364  0.000000  0.090909  0.136364  \n",
       "212  0.000000  0.111111  0.027778  0.000000  0.083333  0.027778  \n",
       "213  0.000000  0.042553  0.021277  0.042553  0.042553  0.000000  \n",
       "214  0.138889  0.055556  0.055556  0.000000  0.055556  0.055556  \n",
       "\n",
       "[215 rows x 20 columns]"
      ]
     },
     "execution_count": 18,
     "metadata": {},
     "output_type": "execute_result"
    }
   ],
   "source": [
    "aa_freq"
   ]
  },
  {
   "cell_type": "code",
   "execution_count": 20,
   "id": "mediterranean-authority",
   "metadata": {},
   "outputs": [],
   "source": [
    "X_train, X_test, y_train, y_test = train_test_split(aa_freq, df_lessthan1['MIC'], test_size=0.2, random_state=42)"
   ]
  },
  {
   "cell_type": "code",
   "execution_count": 21,
   "id": "widespread-reference",
   "metadata": {},
   "outputs": [
    {
     "data": {
      "text/plain": [
       "((172, 20), (43, 20))"
      ]
     },
     "execution_count": 21,
     "metadata": {},
     "output_type": "execute_result"
    }
   ],
   "source": [
    "X_train.shape, X_test.shape"
   ]
  },
  {
   "cell_type": "code",
   "execution_count": 22,
   "id": "nonprofit-burlington",
   "metadata": {},
   "outputs": [],
   "source": [
    "# Create the parameter grid based on the results of random search \n",
    "param_grid = {\n",
    "    'bootstrap': [True],\n",
    "    'max_depth': [None, 80, 90, 100, 110],\n",
    "    'max_features': ['auto', 2, 3],\n",
    "    'min_samples_leaf': [1, 2, 3, 4, 5],\n",
    "    'min_samples_split': [2, 8, 10, 12],\n",
    "    'n_estimators': [100, 200, 300, 1000]\n",
    "}\n",
    "# Create a based model\n",
    "rf = RandomForestRegressor()\n",
    "# Instantiate the grid search model\n",
    "grid_search = GridSearchCV(estimator = rf, param_grid = param_grid, \n",
    "                          cv = 3, n_jobs = -1, verbose = 2, scoring=mape_scorer)"
   ]
  },
  {
   "cell_type": "code",
   "execution_count": 23,
   "id": "current-shepherd",
   "metadata": {
    "scrolled": false
   },
   "outputs": [
    {
     "name": "stdout",
     "output_type": "stream",
     "text": [
      "Fitting 3 folds for each of 1200 candidates, totalling 3600 fits\n"
     ]
    },
    {
     "name": "stderr",
     "output_type": "stream",
     "text": [
      "[Parallel(n_jobs=-1)]: Using backend LokyBackend with 12 concurrent workers.\n",
      "[Parallel(n_jobs=-1)]: Done  17 tasks      | elapsed:    3.1s\n",
      "[Parallel(n_jobs=-1)]: Done 138 tasks      | elapsed:   13.4s\n",
      "[Parallel(n_jobs=-1)]: Done 341 tasks      | elapsed:   30.7s\n",
      "[Parallel(n_jobs=-1)]: Done 624 tasks      | elapsed:   55.1s\n",
      "[Parallel(n_jobs=-1)]: Done 989 tasks      | elapsed:  1.6min\n",
      "[Parallel(n_jobs=-1)]: Done 1434 tasks      | elapsed:  2.3min\n",
      "[Parallel(n_jobs=-1)]: Done 1961 tasks      | elapsed:  3.2min\n",
      "[Parallel(n_jobs=-1)]: Done 2568 tasks      | elapsed:  4.3min\n",
      "[Parallel(n_jobs=-1)]: Done 3257 tasks      | elapsed:  5.5min\n",
      "[Parallel(n_jobs=-1)]: Done 3600 out of 3600 | elapsed:  6.1min finished\n"
     ]
    },
    {
     "data": {
      "text/plain": [
       "GridSearchCV(cv=3, estimator=RandomForestRegressor(), n_jobs=-1,\n",
       "             param_grid={'bootstrap': [True],\n",
       "                         'max_depth': [None, 80, 90, 100, 110],\n",
       "                         'max_features': ['auto', 2, 3],\n",
       "                         'min_samples_leaf': [1, 2, 3, 4, 5],\n",
       "                         'min_samples_split': [2, 8, 10, 12],\n",
       "                         'n_estimators': [100, 200, 300, 1000]},\n",
       "             scoring=make_scorer(mean_absolute_percentage_error, greater_is_better=False),\n",
       "             verbose=2)"
      ]
     },
     "execution_count": 23,
     "metadata": {},
     "output_type": "execute_result"
    }
   ],
   "source": [
    "grid_search.fit(X_train, y_train)"
   ]
  },
  {
   "cell_type": "code",
   "execution_count": 24,
   "id": "identical-dressing",
   "metadata": {},
   "outputs": [
    {
     "data": {
      "text/plain": [
       "{'bootstrap': True,\n",
       " 'max_depth': 80,\n",
       " 'max_features': 2,\n",
       " 'min_samples_leaf': 1,\n",
       " 'min_samples_split': 2,\n",
       " 'n_estimators': 100}"
      ]
     },
     "execution_count": 24,
     "metadata": {},
     "output_type": "execute_result"
    }
   ],
   "source": [
    "grid_search.best_params_"
   ]
  },
  {
   "cell_type": "code",
   "execution_count": 25,
   "id": "tribal-aside",
   "metadata": {},
   "outputs": [],
   "source": [
    "best_grid = grid_search.best_estimator_"
   ]
  },
  {
   "cell_type": "code",
   "execution_count": 26,
   "id": "imposed-constitution",
   "metadata": {},
   "outputs": [],
   "source": [
    "y_pred = best_grid.predict(X_test)"
   ]
  },
  {
   "cell_type": "code",
   "execution_count": 27,
   "id": "neural-tours",
   "metadata": {},
   "outputs": [
    {
     "data": {
      "text/plain": [
       "0.04720975228589264"
      ]
     },
     "execution_count": 27,
     "metadata": {},
     "output_type": "execute_result"
    }
   ],
   "source": [
    "mean_squared_error(y_pred=y_pred, y_true=y_test)"
   ]
  },
  {
   "cell_type": "code",
   "execution_count": 28,
   "id": "early-defeat",
   "metadata": {},
   "outputs": [
    {
     "data": {
      "text/plain": [
       "0.1636252345946844"
      ]
     },
     "execution_count": 28,
     "metadata": {},
     "output_type": "execute_result"
    }
   ],
   "source": [
    "mean_absolute_error(y_pred=y_pred, y_true=y_test)"
   ]
  },
  {
   "cell_type": "code",
   "execution_count": 29,
   "id": "entitled-berry",
   "metadata": {},
   "outputs": [
    {
     "data": {
      "text/plain": [
       "1366.1603511148835"
      ]
     },
     "execution_count": 29,
     "metadata": {},
     "output_type": "execute_result"
    }
   ],
   "source": [
    "mean_absolute_percentage_error(y_pred=y_pred, y_true=y_test)"
   ]
  },
  {
   "cell_type": "code",
   "execution_count": 30,
   "id": "blind-speed",
   "metadata": {},
   "outputs": [
    {
     "data": {
      "text/plain": [
       "[(0.001, 0.11297666666666674),\n",
       " (0.011309999999999999, 0.08197999999999997),\n",
       " (0.022000000000000002, 0.15187173699999992),\n",
       " (0.005, 0.033979999999999906),\n",
       " (0.89, 0.4504267166666666),\n",
       " (0.045, 0.31836993700000016),\n",
       " (0.008, 0.02429999999999994),\n",
       " (0.2, 0.18417299999999995),\n",
       " (0.5, 0.5615845238095234),\n",
       " (0.022000000000000002, 0.03316999999999999),\n",
       " (0.012, 0.03277999999999994),\n",
       " (0.7, 0.6036600739999998),\n",
       " (0.003, 0.033979999999999906),\n",
       " (0.98, 0.4124941406666664),\n",
       " (0.25, 0.38469044066666674),\n",
       " (0.005, 0.3110066666666669),\n",
       " (0.006999999999999999, 0.048101699999999914),\n",
       " (0.84, 0.48680773333333327),\n",
       " (0.013000000000000001, 0.23286507400000012),\n",
       " (0.252, 0.2632187000000002),\n",
       " (0.003, 0.11430999999999995),\n",
       " (0.02, 0.29019766666666685),\n",
       " (0.17, 0.3331905036666668),\n",
       " (0.79, 0.41093670366666635),\n",
       " (0.057, 0.16019333333333344),\n",
       " (0.019, 0.14664),\n",
       " (0.002, 0.17122999999999994),\n",
       " (0.88, 0.24220870000000008),\n",
       " (0.46, 0.434971587),\n",
       " (0.015, 0.07201000000000002),\n",
       " (0.049, 0.37464000000000025),\n",
       " (0.33, 0.26834100000000016),\n",
       " (0.044000000000000004, 0.18532340733333325),\n",
       " (0.002, 0.22517157509523805),\n",
       " (0.03, 0.1679094999999999),\n",
       " (0.027999999999999997, 0.17844079999999998),\n",
       " (0.19, 0.27015333699999994),\n",
       " (0.023, 0.2561143000000001),\n",
       " (0.035, 0.15929713699999992),\n",
       " (0.078, 0.24852080000000007),\n",
       " (0.085, 0.20474230000000002),\n",
       " (0.003, 0.14498299999999992),\n",
       " (0.035, 0.17627163699999987)]"
      ]
     },
     "execution_count": 30,
     "metadata": {},
     "output_type": "execute_result"
    }
   ],
   "source": [
    "list(zip(y_test, y_pred))"
   ]
  },
  {
   "cell_type": "markdown",
   "id": "roman-mexico",
   "metadata": {},
   "source": [
    "### Prot2Vec"
   ]
  },
  {
   "cell_type": "code",
   "execution_count": 61,
   "id": "extensive-contents",
   "metadata": {},
   "outputs": [
    {
     "name": "stderr",
     "output_type": "stream",
     "text": [
      "/Users/in-divye.singh/anaconda3/envs/life-science/lib/python3.6/site-packages/smart_open/smart_open_lib.py:254: UserWarning: This function is deprecated, use smart_open.open instead. See the migration notes for details: https://github.com/RaRe-Technologies/smart_open/blob/master/README.rst#migrating-to-the-new-open-function\n",
      "  'See the migration notes for details: %s' % _MIGRATION_NOTES_URL\n",
      "Creating vectors: 100%|██████████| 215/215 [00:00<00:00, 1000.89sequence/s]\n"
     ]
    }
   ],
   "source": [
    "############# Prot2Vec #############\n",
    "uniprot_embedding = biovec.models.load_protvec(\"data/embeddings/uniprot__kmer_3_contextWindow_10_vector_100_reduction_None\")\n",
    "\n",
    "avg_vectors = convert_sequences_to_avg_vectors(df_lessthan1['Sequence'], uniprot_embedding)\n",
    "avg_vectors = avg_vectors.reset_index(drop=True)"
   ]
  },
  {
   "cell_type": "code",
   "execution_count": 62,
   "id": "retained-transfer",
   "metadata": {},
   "outputs": [
    {
     "data": {
      "text/html": [
       "<div>\n",
       "<style scoped>\n",
       "    .dataframe tbody tr th:only-of-type {\n",
       "        vertical-align: middle;\n",
       "    }\n",
       "\n",
       "    .dataframe tbody tr th {\n",
       "        vertical-align: top;\n",
       "    }\n",
       "\n",
       "    .dataframe thead th {\n",
       "        text-align: right;\n",
       "    }\n",
       "</style>\n",
       "<table border=\"1\" class=\"dataframe\">\n",
       "  <thead>\n",
       "    <tr style=\"text-align: right;\">\n",
       "      <th></th>\n",
       "      <th>0</th>\n",
       "      <th>1</th>\n",
       "      <th>2</th>\n",
       "      <th>3</th>\n",
       "      <th>4</th>\n",
       "      <th>5</th>\n",
       "      <th>6</th>\n",
       "      <th>7</th>\n",
       "      <th>8</th>\n",
       "      <th>9</th>\n",
       "      <th>...</th>\n",
       "      <th>90</th>\n",
       "      <th>91</th>\n",
       "      <th>92</th>\n",
       "      <th>93</th>\n",
       "      <th>94</th>\n",
       "      <th>95</th>\n",
       "      <th>96</th>\n",
       "      <th>97</th>\n",
       "      <th>98</th>\n",
       "      <th>99</th>\n",
       "    </tr>\n",
       "  </thead>\n",
       "  <tbody>\n",
       "    <tr>\n",
       "      <th>0</th>\n",
       "      <td>0.000326</td>\n",
       "      <td>0.082828</td>\n",
       "      <td>-0.016972</td>\n",
       "      <td>0.033496</td>\n",
       "      <td>-0.029845</td>\n",
       "      <td>-0.009866</td>\n",
       "      <td>-0.002361</td>\n",
       "      <td>0.067565</td>\n",
       "      <td>0.043482</td>\n",
       "      <td>-0.015739</td>\n",
       "      <td>...</td>\n",
       "      <td>0.021694</td>\n",
       "      <td>-0.085800</td>\n",
       "      <td>0.006715</td>\n",
       "      <td>-0.002862</td>\n",
       "      <td>0.015911</td>\n",
       "      <td>0.012537</td>\n",
       "      <td>0.021614</td>\n",
       "      <td>0.026963</td>\n",
       "      <td>0.057681</td>\n",
       "      <td>-0.040158</td>\n",
       "    </tr>\n",
       "    <tr>\n",
       "      <th>1</th>\n",
       "      <td>-0.008685</td>\n",
       "      <td>0.061298</td>\n",
       "      <td>0.045503</td>\n",
       "      <td>0.042366</td>\n",
       "      <td>-0.056826</td>\n",
       "      <td>0.029961</td>\n",
       "      <td>0.062079</td>\n",
       "      <td>0.041146</td>\n",
       "      <td>0.023968</td>\n",
       "      <td>-0.025709</td>\n",
       "      <td>...</td>\n",
       "      <td>0.001860</td>\n",
       "      <td>-0.079363</td>\n",
       "      <td>0.019131</td>\n",
       "      <td>-0.056620</td>\n",
       "      <td>0.033148</td>\n",
       "      <td>0.016609</td>\n",
       "      <td>0.009392</td>\n",
       "      <td>-0.012630</td>\n",
       "      <td>0.077096</td>\n",
       "      <td>-0.104904</td>\n",
       "    </tr>\n",
       "    <tr>\n",
       "      <th>2</th>\n",
       "      <td>-0.015213</td>\n",
       "      <td>0.069901</td>\n",
       "      <td>0.032177</td>\n",
       "      <td>0.035516</td>\n",
       "      <td>-0.057223</td>\n",
       "      <td>0.020554</td>\n",
       "      <td>0.045740</td>\n",
       "      <td>0.042754</td>\n",
       "      <td>0.030702</td>\n",
       "      <td>-0.020374</td>\n",
       "      <td>...</td>\n",
       "      <td>0.001696</td>\n",
       "      <td>-0.100250</td>\n",
       "      <td>0.035932</td>\n",
       "      <td>-0.038657</td>\n",
       "      <td>0.035121</td>\n",
       "      <td>0.013145</td>\n",
       "      <td>0.018021</td>\n",
       "      <td>-0.004209</td>\n",
       "      <td>0.073029</td>\n",
       "      <td>-0.101384</td>\n",
       "    </tr>\n",
       "    <tr>\n",
       "      <th>3</th>\n",
       "      <td>-0.015084</td>\n",
       "      <td>0.040755</td>\n",
       "      <td>0.016946</td>\n",
       "      <td>0.028864</td>\n",
       "      <td>-0.062246</td>\n",
       "      <td>0.028597</td>\n",
       "      <td>0.051237</td>\n",
       "      <td>0.072327</td>\n",
       "      <td>0.030972</td>\n",
       "      <td>-0.013748</td>\n",
       "      <td>...</td>\n",
       "      <td>0.026069</td>\n",
       "      <td>-0.061902</td>\n",
       "      <td>0.022880</td>\n",
       "      <td>-0.031131</td>\n",
       "      <td>0.037069</td>\n",
       "      <td>0.027536</td>\n",
       "      <td>0.006920</td>\n",
       "      <td>-0.015567</td>\n",
       "      <td>0.095171</td>\n",
       "      <td>-0.086851</td>\n",
       "    </tr>\n",
       "    <tr>\n",
       "      <th>4</th>\n",
       "      <td>0.003517</td>\n",
       "      <td>-0.026367</td>\n",
       "      <td>0.021674</td>\n",
       "      <td>0.054289</td>\n",
       "      <td>0.002337</td>\n",
       "      <td>-0.000452</td>\n",
       "      <td>0.038705</td>\n",
       "      <td>-0.030244</td>\n",
       "      <td>0.050282</td>\n",
       "      <td>-0.014623</td>\n",
       "      <td>...</td>\n",
       "      <td>0.009277</td>\n",
       "      <td>-0.035637</td>\n",
       "      <td>0.031246</td>\n",
       "      <td>0.030047</td>\n",
       "      <td>-0.005038</td>\n",
       "      <td>-0.018434</td>\n",
       "      <td>0.016361</td>\n",
       "      <td>-0.052519</td>\n",
       "      <td>0.119378</td>\n",
       "      <td>-0.104380</td>\n",
       "    </tr>\n",
       "    <tr>\n",
       "      <th>...</th>\n",
       "      <td>...</td>\n",
       "      <td>...</td>\n",
       "      <td>...</td>\n",
       "      <td>...</td>\n",
       "      <td>...</td>\n",
       "      <td>...</td>\n",
       "      <td>...</td>\n",
       "      <td>...</td>\n",
       "      <td>...</td>\n",
       "      <td>...</td>\n",
       "      <td>...</td>\n",
       "      <td>...</td>\n",
       "      <td>...</td>\n",
       "      <td>...</td>\n",
       "      <td>...</td>\n",
       "      <td>...</td>\n",
       "      <td>...</td>\n",
       "      <td>...</td>\n",
       "      <td>...</td>\n",
       "      <td>...</td>\n",
       "      <td>...</td>\n",
       "    </tr>\n",
       "    <tr>\n",
       "      <th>210</th>\n",
       "      <td>-0.038337</td>\n",
       "      <td>-0.017915</td>\n",
       "      <td>-0.015082</td>\n",
       "      <td>0.042641</td>\n",
       "      <td>0.046676</td>\n",
       "      <td>0.037965</td>\n",
       "      <td>-0.039406</td>\n",
       "      <td>0.050116</td>\n",
       "      <td>0.023495</td>\n",
       "      <td>0.058380</td>\n",
       "      <td>...</td>\n",
       "      <td>0.006357</td>\n",
       "      <td>0.000806</td>\n",
       "      <td>0.007335</td>\n",
       "      <td>-0.015952</td>\n",
       "      <td>0.054503</td>\n",
       "      <td>0.056923</td>\n",
       "      <td>-0.067147</td>\n",
       "      <td>0.017195</td>\n",
       "      <td>0.037202</td>\n",
       "      <td>-0.061830</td>\n",
       "    </tr>\n",
       "    <tr>\n",
       "      <th>211</th>\n",
       "      <td>-0.018060</td>\n",
       "      <td>0.002701</td>\n",
       "      <td>-0.002945</td>\n",
       "      <td>0.016760</td>\n",
       "      <td>0.020204</td>\n",
       "      <td>0.018499</td>\n",
       "      <td>0.028342</td>\n",
       "      <td>0.035244</td>\n",
       "      <td>-0.012086</td>\n",
       "      <td>0.028506</td>\n",
       "      <td>...</td>\n",
       "      <td>0.020611</td>\n",
       "      <td>0.010793</td>\n",
       "      <td>0.019357</td>\n",
       "      <td>0.026522</td>\n",
       "      <td>0.038127</td>\n",
       "      <td>0.043636</td>\n",
       "      <td>0.014737</td>\n",
       "      <td>0.010608</td>\n",
       "      <td>0.054837</td>\n",
       "      <td>-0.038420</td>\n",
       "    </tr>\n",
       "    <tr>\n",
       "      <th>212</th>\n",
       "      <td>-0.004227</td>\n",
       "      <td>0.033425</td>\n",
       "      <td>-0.024497</td>\n",
       "      <td>0.029364</td>\n",
       "      <td>-0.066315</td>\n",
       "      <td>0.013616</td>\n",
       "      <td>0.038417</td>\n",
       "      <td>0.074161</td>\n",
       "      <td>0.056543</td>\n",
       "      <td>-0.023648</td>\n",
       "      <td>...</td>\n",
       "      <td>0.051252</td>\n",
       "      <td>-0.057756</td>\n",
       "      <td>0.006149</td>\n",
       "      <td>0.001708</td>\n",
       "      <td>0.016342</td>\n",
       "      <td>0.048390</td>\n",
       "      <td>-0.021271</td>\n",
       "      <td>-0.017798</td>\n",
       "      <td>0.070233</td>\n",
       "      <td>-0.046075</td>\n",
       "    </tr>\n",
       "    <tr>\n",
       "      <th>213</th>\n",
       "      <td>0.003485</td>\n",
       "      <td>-0.004911</td>\n",
       "      <td>0.027475</td>\n",
       "      <td>0.020559</td>\n",
       "      <td>0.002146</td>\n",
       "      <td>0.072764</td>\n",
       "      <td>0.055225</td>\n",
       "      <td>0.014650</td>\n",
       "      <td>0.019468</td>\n",
       "      <td>-0.001088</td>\n",
       "      <td>...</td>\n",
       "      <td>0.023278</td>\n",
       "      <td>-0.013674</td>\n",
       "      <td>-0.007323</td>\n",
       "      <td>-0.014028</td>\n",
       "      <td>-0.024394</td>\n",
       "      <td>0.045786</td>\n",
       "      <td>-0.018962</td>\n",
       "      <td>0.007527</td>\n",
       "      <td>0.048972</td>\n",
       "      <td>-0.061540</td>\n",
       "    </tr>\n",
       "    <tr>\n",
       "      <th>214</th>\n",
       "      <td>-0.047890</td>\n",
       "      <td>0.040901</td>\n",
       "      <td>-0.001353</td>\n",
       "      <td>0.018608</td>\n",
       "      <td>-0.029561</td>\n",
       "      <td>0.015457</td>\n",
       "      <td>-0.004711</td>\n",
       "      <td>0.082983</td>\n",
       "      <td>0.003628</td>\n",
       "      <td>-0.020851</td>\n",
       "      <td>...</td>\n",
       "      <td>0.047576</td>\n",
       "      <td>-0.044363</td>\n",
       "      <td>0.019792</td>\n",
       "      <td>0.020359</td>\n",
       "      <td>0.039876</td>\n",
       "      <td>0.002991</td>\n",
       "      <td>0.020491</td>\n",
       "      <td>0.001498</td>\n",
       "      <td>0.049433</td>\n",
       "      <td>-0.058027</td>\n",
       "    </tr>\n",
       "  </tbody>\n",
       "</table>\n",
       "<p>215 rows × 100 columns</p>\n",
       "</div>"
      ],
      "text/plain": [
       "           0         1         2         3         4         5         6   \\\n",
       "0    0.000326  0.082828 -0.016972  0.033496 -0.029845 -0.009866 -0.002361   \n",
       "1   -0.008685  0.061298  0.045503  0.042366 -0.056826  0.029961  0.062079   \n",
       "2   -0.015213  0.069901  0.032177  0.035516 -0.057223  0.020554  0.045740   \n",
       "3   -0.015084  0.040755  0.016946  0.028864 -0.062246  0.028597  0.051237   \n",
       "4    0.003517 -0.026367  0.021674  0.054289  0.002337 -0.000452  0.038705   \n",
       "..        ...       ...       ...       ...       ...       ...       ...   \n",
       "210 -0.038337 -0.017915 -0.015082  0.042641  0.046676  0.037965 -0.039406   \n",
       "211 -0.018060  0.002701 -0.002945  0.016760  0.020204  0.018499  0.028342   \n",
       "212 -0.004227  0.033425 -0.024497  0.029364 -0.066315  0.013616  0.038417   \n",
       "213  0.003485 -0.004911  0.027475  0.020559  0.002146  0.072764  0.055225   \n",
       "214 -0.047890  0.040901 -0.001353  0.018608 -0.029561  0.015457 -0.004711   \n",
       "\n",
       "           7         8         9   ...        90        91        92  \\\n",
       "0    0.067565  0.043482 -0.015739  ...  0.021694 -0.085800  0.006715   \n",
       "1    0.041146  0.023968 -0.025709  ...  0.001860 -0.079363  0.019131   \n",
       "2    0.042754  0.030702 -0.020374  ...  0.001696 -0.100250  0.035932   \n",
       "3    0.072327  0.030972 -0.013748  ...  0.026069 -0.061902  0.022880   \n",
       "4   -0.030244  0.050282 -0.014623  ...  0.009277 -0.035637  0.031246   \n",
       "..        ...       ...       ...  ...       ...       ...       ...   \n",
       "210  0.050116  0.023495  0.058380  ...  0.006357  0.000806  0.007335   \n",
       "211  0.035244 -0.012086  0.028506  ...  0.020611  0.010793  0.019357   \n",
       "212  0.074161  0.056543 -0.023648  ...  0.051252 -0.057756  0.006149   \n",
       "213  0.014650  0.019468 -0.001088  ...  0.023278 -0.013674 -0.007323   \n",
       "214  0.082983  0.003628 -0.020851  ...  0.047576 -0.044363  0.019792   \n",
       "\n",
       "           93        94        95        96        97        98        99  \n",
       "0   -0.002862  0.015911  0.012537  0.021614  0.026963  0.057681 -0.040158  \n",
       "1   -0.056620  0.033148  0.016609  0.009392 -0.012630  0.077096 -0.104904  \n",
       "2   -0.038657  0.035121  0.013145  0.018021 -0.004209  0.073029 -0.101384  \n",
       "3   -0.031131  0.037069  0.027536  0.006920 -0.015567  0.095171 -0.086851  \n",
       "4    0.030047 -0.005038 -0.018434  0.016361 -0.052519  0.119378 -0.104380  \n",
       "..        ...       ...       ...       ...       ...       ...       ...  \n",
       "210 -0.015952  0.054503  0.056923 -0.067147  0.017195  0.037202 -0.061830  \n",
       "211  0.026522  0.038127  0.043636  0.014737  0.010608  0.054837 -0.038420  \n",
       "212  0.001708  0.016342  0.048390 -0.021271 -0.017798  0.070233 -0.046075  \n",
       "213 -0.014028 -0.024394  0.045786 -0.018962  0.007527  0.048972 -0.061540  \n",
       "214  0.020359  0.039876  0.002991  0.020491  0.001498  0.049433 -0.058027  \n",
       "\n",
       "[215 rows x 100 columns]"
      ]
     },
     "execution_count": 62,
     "metadata": {},
     "output_type": "execute_result"
    }
   ],
   "source": [
    "avg_vectors"
   ]
  },
  {
   "cell_type": "code",
   "execution_count": 63,
   "id": "vanilla-detective",
   "metadata": {},
   "outputs": [],
   "source": [
    "X_train, X_test, y_train, y_test = train_test_split(avg_vectors, df_lessthan1['MIC'], test_size=0.2, random_state=42)"
   ]
  },
  {
   "cell_type": "code",
   "execution_count": 64,
   "id": "assisted-merchant",
   "metadata": {},
   "outputs": [],
   "source": [
    "# Create the parameter grid based on the results of random search \n",
    "param_grid = {\n",
    "    'bootstrap': [True],\n",
    "    'max_depth': [None, 80, 90, 100, 110],\n",
    "    'max_features': ['auto', 2, 3],\n",
    "    'min_samples_leaf': [1, 2, 3, 4, 5],\n",
    "    'min_samples_split': [2, 8, 10, 12],\n",
    "    'n_estimators': [100, 200, 300, 1000]\n",
    "}\n",
    "# Create a based model\n",
    "rf = RandomForestRegressor()\n",
    "# Instantiate the grid search model\n",
    "grid_search = GridSearchCV(estimator = rf, param_grid = param_grid, \n",
    "                          cv = 3, n_jobs = -1, verbose = 2, scoring=mape_scorer)"
   ]
  },
  {
   "cell_type": "code",
   "execution_count": 65,
   "id": "material-involvement",
   "metadata": {
    "scrolled": false
   },
   "outputs": [
    {
     "name": "stdout",
     "output_type": "stream",
     "text": [
      "Fitting 3 folds for each of 1200 candidates, totalling 3600 fits\n"
     ]
    },
    {
     "name": "stderr",
     "output_type": "stream",
     "text": [
      "[Parallel(n_jobs=-1)]: Using backend LokyBackend with 12 concurrent workers.\n",
      "[Parallel(n_jobs=-1)]: Done  17 tasks      | elapsed:    5.1s\n",
      "[Parallel(n_jobs=-1)]: Done 138 tasks      | elapsed:   29.8s\n",
      "[Parallel(n_jobs=-1)]: Done 341 tasks      | elapsed:  1.0min\n",
      "[Parallel(n_jobs=-1)]: Done 624 tasks      | elapsed:  1.5min\n",
      "[Parallel(n_jobs=-1)]: Done 989 tasks      | elapsed:  2.6min\n",
      "[Parallel(n_jobs=-1)]: Done 1434 tasks      | elapsed:  3.4min\n",
      "[Parallel(n_jobs=-1)]: Done 1961 tasks      | elapsed:  5.3min\n",
      "[Parallel(n_jobs=-1)]: Done 2568 tasks      | elapsed:  7.5min\n",
      "[Parallel(n_jobs=-1)]: Done 3257 tasks      | elapsed: 10.2min\n",
      "[Parallel(n_jobs=-1)]: Done 3600 out of 3600 | elapsed: 11.4min finished\n"
     ]
    },
    {
     "data": {
      "text/plain": [
       "GridSearchCV(cv=3, estimator=RandomForestRegressor(), n_jobs=-1,\n",
       "             param_grid={'bootstrap': [True],\n",
       "                         'max_depth': [None, 80, 90, 100, 110],\n",
       "                         'max_features': ['auto', 2, 3],\n",
       "                         'min_samples_leaf': [1, 2, 3, 4, 5],\n",
       "                         'min_samples_split': [2, 8, 10, 12],\n",
       "                         'n_estimators': [100, 200, 300, 1000]},\n",
       "             scoring=make_scorer(mean_absolute_percentage_error, greater_is_better=False),\n",
       "             verbose=2)"
      ]
     },
     "execution_count": 65,
     "metadata": {},
     "output_type": "execute_result"
    }
   ],
   "source": [
    "grid_search.fit(X_train, y_train)"
   ]
  },
  {
   "cell_type": "code",
   "execution_count": 66,
   "id": "opponent-smart",
   "metadata": {},
   "outputs": [
    {
     "data": {
      "text/plain": [
       "{'bootstrap': True,\n",
       " 'max_depth': 80,\n",
       " 'max_features': 3,\n",
       " 'min_samples_leaf': 1,\n",
       " 'min_samples_split': 12,\n",
       " 'n_estimators': 100}"
      ]
     },
     "execution_count": 66,
     "metadata": {},
     "output_type": "execute_result"
    }
   ],
   "source": [
    "grid_search.best_params_"
   ]
  },
  {
   "cell_type": "code",
   "execution_count": 72,
   "id": "arctic-caution",
   "metadata": {},
   "outputs": [],
   "source": [
    "best_grid = grid_search.best_estimator_"
   ]
  },
  {
   "cell_type": "code",
   "execution_count": 73,
   "id": "matched-liberty",
   "metadata": {},
   "outputs": [],
   "source": [
    "y_pred = best_grid.predict(X_test)"
   ]
  },
  {
   "cell_type": "code",
   "execution_count": 74,
   "id": "transparent-details",
   "metadata": {},
   "outputs": [
    {
     "data": {
      "text/plain": [
       "0.05511788655142501"
      ]
     },
     "execution_count": 74,
     "metadata": {},
     "output_type": "execute_result"
    }
   ],
   "source": [
    "mean_squared_error(y_pred=y_pred, y_true=y_test)"
   ]
  },
  {
   "cell_type": "code",
   "execution_count": 75,
   "id": "nonprofit-canberra",
   "metadata": {},
   "outputs": [
    {
     "data": {
      "text/plain": [
       "0.19289436706236848"
      ]
     },
     "execution_count": 75,
     "metadata": {},
     "output_type": "execute_result"
    }
   ],
   "source": [
    "mean_absolute_error(y_pred=y_pred, y_true=y_test)"
   ]
  },
  {
   "cell_type": "code",
   "execution_count": 76,
   "id": "incident-amber",
   "metadata": {},
   "outputs": [
    {
     "data": {
      "text/plain": [
       "1733.8658146266446"
      ]
     },
     "execution_count": 76,
     "metadata": {},
     "output_type": "execute_result"
    }
   ],
   "source": [
    "mean_absolute_percentage_error(y_pred=y_pred, y_true=y_test)"
   ]
  },
  {
   "cell_type": "code",
   "execution_count": null,
   "id": "smart-values",
   "metadata": {},
   "outputs": [],
   "source": []
  },
  {
   "cell_type": "markdown",
   "id": "metropolitan-buffalo",
   "metadata": {},
   "source": []
  },
  {
   "cell_type": "code",
   "execution_count": 77,
   "id": "motivated-matter",
   "metadata": {},
   "outputs": [],
   "source": [
    "protvec_aa_freq = pd.concat([avg_vectors, aa_freq], axis=1)"
   ]
  },
  {
   "cell_type": "code",
   "execution_count": 78,
   "id": "critical-withdrawal",
   "metadata": {},
   "outputs": [
    {
     "data": {
      "text/html": [
       "<div>\n",
       "<style scoped>\n",
       "    .dataframe tbody tr th:only-of-type {\n",
       "        vertical-align: middle;\n",
       "    }\n",
       "\n",
       "    .dataframe tbody tr th {\n",
       "        vertical-align: top;\n",
       "    }\n",
       "\n",
       "    .dataframe thead th {\n",
       "        text-align: right;\n",
       "    }\n",
       "</style>\n",
       "<table border=\"1\" class=\"dataframe\">\n",
       "  <thead>\n",
       "    <tr style=\"text-align: right;\">\n",
       "      <th></th>\n",
       "      <th>0</th>\n",
       "      <th>1</th>\n",
       "      <th>2</th>\n",
       "      <th>3</th>\n",
       "      <th>4</th>\n",
       "      <th>5</th>\n",
       "      <th>6</th>\n",
       "      <th>7</th>\n",
       "      <th>8</th>\n",
       "      <th>9</th>\n",
       "      <th>...</th>\n",
       "      <th>M</th>\n",
       "      <th>N</th>\n",
       "      <th>P</th>\n",
       "      <th>Q</th>\n",
       "      <th>R</th>\n",
       "      <th>S</th>\n",
       "      <th>T</th>\n",
       "      <th>V</th>\n",
       "      <th>W</th>\n",
       "      <th>Y</th>\n",
       "    </tr>\n",
       "  </thead>\n",
       "  <tbody>\n",
       "    <tr>\n",
       "      <th>0</th>\n",
       "      <td>0.000326</td>\n",
       "      <td>0.082828</td>\n",
       "      <td>-0.016972</td>\n",
       "      <td>0.033496</td>\n",
       "      <td>-0.029845</td>\n",
       "      <td>-0.009866</td>\n",
       "      <td>-0.002361</td>\n",
       "      <td>0.067565</td>\n",
       "      <td>0.043482</td>\n",
       "      <td>-0.015739</td>\n",
       "      <td>...</td>\n",
       "      <td>0.0</td>\n",
       "      <td>0.000000</td>\n",
       "      <td>0.000000</td>\n",
       "      <td>0.000000</td>\n",
       "      <td>0.090909</td>\n",
       "      <td>0.090909</td>\n",
       "      <td>0.000000</td>\n",
       "      <td>0.045455</td>\n",
       "      <td>0.045455</td>\n",
       "      <td>0.045455</td>\n",
       "    </tr>\n",
       "    <tr>\n",
       "      <th>1</th>\n",
       "      <td>-0.008685</td>\n",
       "      <td>0.061298</td>\n",
       "      <td>0.045503</td>\n",
       "      <td>0.042366</td>\n",
       "      <td>-0.056826</td>\n",
       "      <td>0.029961</td>\n",
       "      <td>0.062079</td>\n",
       "      <td>0.041146</td>\n",
       "      <td>0.023968</td>\n",
       "      <td>-0.025709</td>\n",
       "      <td>...</td>\n",
       "      <td>0.0</td>\n",
       "      <td>0.114286</td>\n",
       "      <td>0.028571</td>\n",
       "      <td>0.028571</td>\n",
       "      <td>0.057143</td>\n",
       "      <td>0.142857</td>\n",
       "      <td>0.000000</td>\n",
       "      <td>0.028571</td>\n",
       "      <td>0.028571</td>\n",
       "      <td>0.000000</td>\n",
       "    </tr>\n",
       "    <tr>\n",
       "      <th>2</th>\n",
       "      <td>-0.015213</td>\n",
       "      <td>0.069901</td>\n",
       "      <td>0.032177</td>\n",
       "      <td>0.035516</td>\n",
       "      <td>-0.057223</td>\n",
       "      <td>0.020554</td>\n",
       "      <td>0.045740</td>\n",
       "      <td>0.042754</td>\n",
       "      <td>0.030702</td>\n",
       "      <td>-0.020374</td>\n",
       "      <td>...</td>\n",
       "      <td>0.0</td>\n",
       "      <td>0.057143</td>\n",
       "      <td>0.028571</td>\n",
       "      <td>0.028571</td>\n",
       "      <td>0.057143</td>\n",
       "      <td>0.142857</td>\n",
       "      <td>0.000000</td>\n",
       "      <td>0.028571</td>\n",
       "      <td>0.028571</td>\n",
       "      <td>0.000000</td>\n",
       "    </tr>\n",
       "    <tr>\n",
       "      <th>3</th>\n",
       "      <td>-0.015084</td>\n",
       "      <td>0.040755</td>\n",
       "      <td>0.016946</td>\n",
       "      <td>0.028864</td>\n",
       "      <td>-0.062246</td>\n",
       "      <td>0.028597</td>\n",
       "      <td>0.051237</td>\n",
       "      <td>0.072327</td>\n",
       "      <td>0.030972</td>\n",
       "      <td>-0.013748</td>\n",
       "      <td>...</td>\n",
       "      <td>0.0</td>\n",
       "      <td>0.085714</td>\n",
       "      <td>0.000000</td>\n",
       "      <td>0.057143</td>\n",
       "      <td>0.057143</td>\n",
       "      <td>0.200000</td>\n",
       "      <td>0.000000</td>\n",
       "      <td>0.000000</td>\n",
       "      <td>0.057143</td>\n",
       "      <td>0.000000</td>\n",
       "    </tr>\n",
       "    <tr>\n",
       "      <th>4</th>\n",
       "      <td>0.003517</td>\n",
       "      <td>-0.026367</td>\n",
       "      <td>0.021674</td>\n",
       "      <td>0.054289</td>\n",
       "      <td>0.002337</td>\n",
       "      <td>-0.000452</td>\n",
       "      <td>0.038705</td>\n",
       "      <td>-0.030244</td>\n",
       "      <td>0.050282</td>\n",
       "      <td>-0.014623</td>\n",
       "      <td>...</td>\n",
       "      <td>0.0</td>\n",
       "      <td>0.000000</td>\n",
       "      <td>0.000000</td>\n",
       "      <td>0.000000</td>\n",
       "      <td>0.000000</td>\n",
       "      <td>0.000000</td>\n",
       "      <td>0.333333</td>\n",
       "      <td>0.000000</td>\n",
       "      <td>0.000000</td>\n",
       "      <td>0.111111</td>\n",
       "    </tr>\n",
       "    <tr>\n",
       "      <th>...</th>\n",
       "      <td>...</td>\n",
       "      <td>...</td>\n",
       "      <td>...</td>\n",
       "      <td>...</td>\n",
       "      <td>...</td>\n",
       "      <td>...</td>\n",
       "      <td>...</td>\n",
       "      <td>...</td>\n",
       "      <td>...</td>\n",
       "      <td>...</td>\n",
       "      <td>...</td>\n",
       "      <td>...</td>\n",
       "      <td>...</td>\n",
       "      <td>...</td>\n",
       "      <td>...</td>\n",
       "      <td>...</td>\n",
       "      <td>...</td>\n",
       "      <td>...</td>\n",
       "      <td>...</td>\n",
       "      <td>...</td>\n",
       "      <td>...</td>\n",
       "    </tr>\n",
       "    <tr>\n",
       "      <th>210</th>\n",
       "      <td>-0.038337</td>\n",
       "      <td>-0.017915</td>\n",
       "      <td>-0.015082</td>\n",
       "      <td>0.042641</td>\n",
       "      <td>0.046676</td>\n",
       "      <td>0.037965</td>\n",
       "      <td>-0.039406</td>\n",
       "      <td>0.050116</td>\n",
       "      <td>0.023495</td>\n",
       "      <td>0.058380</td>\n",
       "      <td>...</td>\n",
       "      <td>0.0</td>\n",
       "      <td>0.066667</td>\n",
       "      <td>0.066667</td>\n",
       "      <td>0.033333</td>\n",
       "      <td>0.100000</td>\n",
       "      <td>0.000000</td>\n",
       "      <td>0.033333</td>\n",
       "      <td>0.033333</td>\n",
       "      <td>0.033333</td>\n",
       "      <td>0.000000</td>\n",
       "    </tr>\n",
       "    <tr>\n",
       "      <th>211</th>\n",
       "      <td>-0.018060</td>\n",
       "      <td>0.002701</td>\n",
       "      <td>-0.002945</td>\n",
       "      <td>0.016760</td>\n",
       "      <td>0.020204</td>\n",
       "      <td>0.018499</td>\n",
       "      <td>0.028342</td>\n",
       "      <td>0.035244</td>\n",
       "      <td>-0.012086</td>\n",
       "      <td>0.028506</td>\n",
       "      <td>...</td>\n",
       "      <td>0.0</td>\n",
       "      <td>0.045455</td>\n",
       "      <td>0.090909</td>\n",
       "      <td>0.045455</td>\n",
       "      <td>0.136364</td>\n",
       "      <td>0.000000</td>\n",
       "      <td>0.136364</td>\n",
       "      <td>0.000000</td>\n",
       "      <td>0.090909</td>\n",
       "      <td>0.136364</td>\n",
       "    </tr>\n",
       "    <tr>\n",
       "      <th>212</th>\n",
       "      <td>-0.004227</td>\n",
       "      <td>0.033425</td>\n",
       "      <td>-0.024497</td>\n",
       "      <td>0.029364</td>\n",
       "      <td>-0.066315</td>\n",
       "      <td>0.013616</td>\n",
       "      <td>0.038417</td>\n",
       "      <td>0.074161</td>\n",
       "      <td>0.056543</td>\n",
       "      <td>-0.023648</td>\n",
       "      <td>...</td>\n",
       "      <td>0.0</td>\n",
       "      <td>0.083333</td>\n",
       "      <td>0.000000</td>\n",
       "      <td>0.111111</td>\n",
       "      <td>0.000000</td>\n",
       "      <td>0.111111</td>\n",
       "      <td>0.027778</td>\n",
       "      <td>0.000000</td>\n",
       "      <td>0.083333</td>\n",
       "      <td>0.027778</td>\n",
       "    </tr>\n",
       "    <tr>\n",
       "      <th>213</th>\n",
       "      <td>0.003485</td>\n",
       "      <td>-0.004911</td>\n",
       "      <td>0.027475</td>\n",
       "      <td>0.020559</td>\n",
       "      <td>0.002146</td>\n",
       "      <td>0.072764</td>\n",
       "      <td>0.055225</td>\n",
       "      <td>0.014650</td>\n",
       "      <td>0.019468</td>\n",
       "      <td>-0.001088</td>\n",
       "      <td>...</td>\n",
       "      <td>0.0</td>\n",
       "      <td>0.170213</td>\n",
       "      <td>0.148936</td>\n",
       "      <td>0.021277</td>\n",
       "      <td>0.000000</td>\n",
       "      <td>0.042553</td>\n",
       "      <td>0.021277</td>\n",
       "      <td>0.042553</td>\n",
       "      <td>0.042553</td>\n",
       "      <td>0.000000</td>\n",
       "    </tr>\n",
       "    <tr>\n",
       "      <th>214</th>\n",
       "      <td>-0.047890</td>\n",
       "      <td>0.040901</td>\n",
       "      <td>-0.001353</td>\n",
       "      <td>0.018608</td>\n",
       "      <td>-0.029561</td>\n",
       "      <td>0.015457</td>\n",
       "      <td>-0.004711</td>\n",
       "      <td>0.082983</td>\n",
       "      <td>0.003628</td>\n",
       "      <td>-0.020851</td>\n",
       "      <td>...</td>\n",
       "      <td>0.0</td>\n",
       "      <td>0.055556</td>\n",
       "      <td>0.000000</td>\n",
       "      <td>0.111111</td>\n",
       "      <td>0.138889</td>\n",
       "      <td>0.055556</td>\n",
       "      <td>0.055556</td>\n",
       "      <td>0.000000</td>\n",
       "      <td>0.055556</td>\n",
       "      <td>0.055556</td>\n",
       "    </tr>\n",
       "  </tbody>\n",
       "</table>\n",
       "<p>215 rows × 120 columns</p>\n",
       "</div>"
      ],
      "text/plain": [
       "            0         1         2         3         4         5         6  \\\n",
       "0    0.000326  0.082828 -0.016972  0.033496 -0.029845 -0.009866 -0.002361   \n",
       "1   -0.008685  0.061298  0.045503  0.042366 -0.056826  0.029961  0.062079   \n",
       "2   -0.015213  0.069901  0.032177  0.035516 -0.057223  0.020554  0.045740   \n",
       "3   -0.015084  0.040755  0.016946  0.028864 -0.062246  0.028597  0.051237   \n",
       "4    0.003517 -0.026367  0.021674  0.054289  0.002337 -0.000452  0.038705   \n",
       "..        ...       ...       ...       ...       ...       ...       ...   \n",
       "210 -0.038337 -0.017915 -0.015082  0.042641  0.046676  0.037965 -0.039406   \n",
       "211 -0.018060  0.002701 -0.002945  0.016760  0.020204  0.018499  0.028342   \n",
       "212 -0.004227  0.033425 -0.024497  0.029364 -0.066315  0.013616  0.038417   \n",
       "213  0.003485 -0.004911  0.027475  0.020559  0.002146  0.072764  0.055225   \n",
       "214 -0.047890  0.040901 -0.001353  0.018608 -0.029561  0.015457 -0.004711   \n",
       "\n",
       "            7         8         9  ...    M         N         P         Q  \\\n",
       "0    0.067565  0.043482 -0.015739  ...  0.0  0.000000  0.000000  0.000000   \n",
       "1    0.041146  0.023968 -0.025709  ...  0.0  0.114286  0.028571  0.028571   \n",
       "2    0.042754  0.030702 -0.020374  ...  0.0  0.057143  0.028571  0.028571   \n",
       "3    0.072327  0.030972 -0.013748  ...  0.0  0.085714  0.000000  0.057143   \n",
       "4   -0.030244  0.050282 -0.014623  ...  0.0  0.000000  0.000000  0.000000   \n",
       "..        ...       ...       ...  ...  ...       ...       ...       ...   \n",
       "210  0.050116  0.023495  0.058380  ...  0.0  0.066667  0.066667  0.033333   \n",
       "211  0.035244 -0.012086  0.028506  ...  0.0  0.045455  0.090909  0.045455   \n",
       "212  0.074161  0.056543 -0.023648  ...  0.0  0.083333  0.000000  0.111111   \n",
       "213  0.014650  0.019468 -0.001088  ...  0.0  0.170213  0.148936  0.021277   \n",
       "214  0.082983  0.003628 -0.020851  ...  0.0  0.055556  0.000000  0.111111   \n",
       "\n",
       "            R         S         T         V         W         Y  \n",
       "0    0.090909  0.090909  0.000000  0.045455  0.045455  0.045455  \n",
       "1    0.057143  0.142857  0.000000  0.028571  0.028571  0.000000  \n",
       "2    0.057143  0.142857  0.000000  0.028571  0.028571  0.000000  \n",
       "3    0.057143  0.200000  0.000000  0.000000  0.057143  0.000000  \n",
       "4    0.000000  0.000000  0.333333  0.000000  0.000000  0.111111  \n",
       "..        ...       ...       ...       ...       ...       ...  \n",
       "210  0.100000  0.000000  0.033333  0.033333  0.033333  0.000000  \n",
       "211  0.136364  0.000000  0.136364  0.000000  0.090909  0.136364  \n",
       "212  0.000000  0.111111  0.027778  0.000000  0.083333  0.027778  \n",
       "213  0.000000  0.042553  0.021277  0.042553  0.042553  0.000000  \n",
       "214  0.138889  0.055556  0.055556  0.000000  0.055556  0.055556  \n",
       "\n",
       "[215 rows x 120 columns]"
      ]
     },
     "execution_count": 78,
     "metadata": {},
     "output_type": "execute_result"
    }
   ],
   "source": [
    "protvec_aa_freq"
   ]
  },
  {
   "cell_type": "code",
   "execution_count": 79,
   "id": "suburban-research",
   "metadata": {},
   "outputs": [],
   "source": [
    "X_train, X_test, y_train, y_test = train_test_split(protvec_aa_freq, df_lessthan1['MIC'], test_size=0.2, random_state=42)"
   ]
  },
  {
   "cell_type": "code",
   "execution_count": 80,
   "id": "inner-dominant",
   "metadata": {},
   "outputs": [],
   "source": [
    "# Create the parameter grid based on the results of random search \n",
    "param_grid = {\n",
    "    'bootstrap': [True],\n",
    "    'max_depth': [None, 80, 90, 100, 110],\n",
    "    'max_features': ['auto', 2, 3],\n",
    "    'min_samples_leaf': [1, 2, 3, 4, 5],\n",
    "    'min_samples_split': [2, 8, 10, 12],\n",
    "    'n_estimators': [100, 200, 300, 1000]\n",
    "}\n",
    "# Create a based model\n",
    "rf = RandomForestRegressor()\n",
    "# Instantiate the grid search model\n",
    "grid_search = GridSearchCV(estimator = rf, param_grid = param_grid, \n",
    "                          cv = 3, n_jobs = -1, verbose = 2, scoring=mape_scorer)"
   ]
  },
  {
   "cell_type": "code",
   "execution_count": 81,
   "id": "floating-handling",
   "metadata": {
    "scrolled": false
   },
   "outputs": [
    {
     "name": "stdout",
     "output_type": "stream",
     "text": [
      "Fitting 3 folds for each of 1200 candidates, totalling 3600 fits\n"
     ]
    },
    {
     "name": "stderr",
     "output_type": "stream",
     "text": [
      "[Parallel(n_jobs=-1)]: Using backend LokyBackend with 12 concurrent workers.\n",
      "[Parallel(n_jobs=-1)]: Done  17 tasks      | elapsed:    6.1s\n",
      "[Parallel(n_jobs=-1)]: Done 138 tasks      | elapsed:   35.4s\n",
      "[Parallel(n_jobs=-1)]: Done 341 tasks      | elapsed:  1.2min\n",
      "[Parallel(n_jobs=-1)]: Done 624 tasks      | elapsed:  2.0min\n",
      "[Parallel(n_jobs=-1)]: Done 989 tasks      | elapsed:  4.5min\n",
      "[Parallel(n_jobs=-1)]: Done 1434 tasks      | elapsed:  6.5min\n",
      "[Parallel(n_jobs=-1)]: Done 1961 tasks      | elapsed:  9.7min\n",
      "[Parallel(n_jobs=-1)]: Done 2568 tasks      | elapsed: 13.2min\n",
      "[Parallel(n_jobs=-1)]: Done 3257 tasks      | elapsed: 17.2min\n",
      "[Parallel(n_jobs=-1)]: Done 3600 out of 3600 | elapsed: 18.3min finished\n"
     ]
    },
    {
     "data": {
      "text/plain": [
       "GridSearchCV(cv=3, estimator=RandomForestRegressor(), n_jobs=-1,\n",
       "             param_grid={'bootstrap': [True],\n",
       "                         'max_depth': [None, 80, 90, 100, 110],\n",
       "                         'max_features': ['auto', 2, 3],\n",
       "                         'min_samples_leaf': [1, 2, 3, 4, 5],\n",
       "                         'min_samples_split': [2, 8, 10, 12],\n",
       "                         'n_estimators': [100, 200, 300, 1000]},\n",
       "             scoring=make_scorer(mean_absolute_percentage_error, greater_is_better=False),\n",
       "             verbose=2)"
      ]
     },
     "execution_count": 81,
     "metadata": {},
     "output_type": "execute_result"
    }
   ],
   "source": [
    "grid_search.fit(X_train, y_train)"
   ]
  },
  {
   "cell_type": "code",
   "execution_count": 82,
   "id": "arranged-chapter",
   "metadata": {},
   "outputs": [
    {
     "data": {
      "text/plain": [
       "{'bootstrap': True,\n",
       " 'max_depth': 80,\n",
       " 'max_features': 2,\n",
       " 'min_samples_leaf': 3,\n",
       " 'min_samples_split': 8,\n",
       " 'n_estimators': 100}"
      ]
     },
     "execution_count": 82,
     "metadata": {},
     "output_type": "execute_result"
    }
   ],
   "source": [
    "grid_search.best_params_"
   ]
  },
  {
   "cell_type": "code",
   "execution_count": 83,
   "id": "statistical-trauma",
   "metadata": {},
   "outputs": [],
   "source": [
    "best_grid = grid_search.best_estimator_"
   ]
  },
  {
   "cell_type": "code",
   "execution_count": 84,
   "id": "senior-jason",
   "metadata": {},
   "outputs": [],
   "source": [
    "y_pred = best_grid.predict(X_test)"
   ]
  },
  {
   "cell_type": "code",
   "execution_count": 85,
   "id": "parliamentary-provider",
   "metadata": {},
   "outputs": [
    {
     "data": {
      "text/plain": [
       "0.058936185730447316"
      ]
     },
     "execution_count": 85,
     "metadata": {},
     "output_type": "execute_result"
    }
   ],
   "source": [
    "mean_squared_error(y_pred=y_pred, y_true=y_test)"
   ]
  },
  {
   "cell_type": "code",
   "execution_count": 86,
   "id": "colored-actor",
   "metadata": {},
   "outputs": [
    {
     "data": {
      "text/plain": [
       "0.20207695498560402"
      ]
     },
     "execution_count": 86,
     "metadata": {},
     "output_type": "execute_result"
    }
   ],
   "source": [
    "mean_absolute_error(y_pred=y_pred, y_true=y_test)"
   ]
  },
  {
   "cell_type": "code",
   "execution_count": 87,
   "id": "lasting-pepper",
   "metadata": {},
   "outputs": [
    {
     "data": {
      "text/plain": [
       "1764.408322617052"
      ]
     },
     "execution_count": 87,
     "metadata": {},
     "output_type": "execute_result"
    }
   ],
   "source": [
    "mean_absolute_percentage_error(y_pred=y_pred, y_true=y_test)"
   ]
  },
  {
   "cell_type": "code",
   "execution_count": null,
   "id": "banner-intensity",
   "metadata": {},
   "outputs": [],
   "source": []
  },
  {
   "cell_type": "markdown",
   "id": "absent-translation",
   "metadata": {},
   "source": [
    "### Physicochemical properties"
   ]
  },
  {
   "cell_type": "code",
   "execution_count": 11,
   "id": "wired-thumb",
   "metadata": {},
   "outputs": [],
   "source": [
    "shannon_entropy = pd.read_csv(\"data/pfeature/ha_avp_ic50_shannon_entropy.csv\")\n",
    "shannon_entropy = shannon_entropy.drop(['ID', 'Sequence'], axis=1)\n",
    "residue_repeats = pd.read_csv(\"data/pfeature/ha_avp_ic50_residue_repeat.csv\")\n",
    "residue_repeats = residue_repeats.drop(['ID', 'Sequence'], axis=1).reset_index(drop=True)\n",
    "sec_struct = pd.read_csv(\"data/pfeature/ha_avp_ic50_sec_struct.csv\")\n",
    "sec_struct = sec_struct.drop(['ID'], axis=1)"
   ]
  },
  {
   "cell_type": "code",
   "execution_count": 13,
   "id": "exact-underground",
   "metadata": {},
   "outputs": [],
   "source": [
    "from Bio.SeqUtils.ProtParam import ProteinAnalysis"
   ]
  },
  {
   "cell_type": "code",
   "execution_count": 14,
   "id": "blocked-liechtenstein",
   "metadata": {},
   "outputs": [],
   "source": [
    "params = ['molecular_weight', 'aromaticity', 'instability_index',\n",
    "          'isoelectric_point', 'helix', 'turn', 'sheet', 'with_reduced_cysteines',\n",
    "          'with_disulfid_bridges', 'gravy', 'net_charge_at_pH7point4']"
   ]
  },
  {
   "cell_type": "code",
   "execution_count": 15,
   "id": "interracial-essence",
   "metadata": {},
   "outputs": [],
   "source": [
    "prop = []\n",
    "for seq in df.Sequence:\n",
    "    X = ProteinAnalysis(seq)\n",
    "    molecular_weight = X.molecular_weight()\n",
    "    aromaticity = X.aromaticity()\n",
    "    instability_index = X.instability_index()\n",
    "    isoelectric_point = X.isoelectric_point()\n",
    "    sec_struc = X.secondary_structure_fraction()\n",
    "    helix = sec_struc[0]\n",
    "    turn = sec_struc[1]\n",
    "    sheet = sec_struc[2]\n",
    "    epsilon_prot = X.molar_extinction_coefficient()\n",
    "    with_reduced_cysteines = epsilon_prot[0]\n",
    "    with_disulfid_bridges = epsilon_prot[1]\n",
    "    gravy = X.gravy() # hydrophobicity related\n",
    "    # flexibility = X.flexibility()\n",
    "    # X.protein_scale()\n",
    "    net_charge_at_pH7point4 = X.charge_at_pH(7.4)\n",
    "\n",
    "    prop.append([molecular_weight, aromaticity, instability_index, isoelectric_point, helix, turn, sheet,\n",
    "                 with_reduced_cysteines, with_disulfid_bridges, gravy, net_charge_at_pH7point4])\n",
    "prop = pd.DataFrame(prop, columns=params)"
   ]
  },
  {
   "cell_type": "code",
   "execution_count": null,
   "id": "northern-procurement",
   "metadata": {},
   "outputs": [],
   "source": [
    "physicochem_prop = pd.concat([prop, shannon_entropy, residue_repeats, sec_struct], axis=1)"
   ]
  },
  {
   "cell_type": "code",
   "execution_count": null,
   "id": "altered-awareness",
   "metadata": {},
   "outputs": [],
   "source": []
  }
 ],
 "metadata": {
  "kernelspec": {
   "display_name": "Python 3",
   "language": "python",
   "name": "python3"
  },
  "language_info": {
   "codemirror_mode": {
    "name": "ipython",
    "version": 3
   },
   "file_extension": ".py",
   "mimetype": "text/x-python",
   "name": "python",
   "nbconvert_exporter": "python",
   "pygments_lexer": "ipython3",
   "version": "3.6.10"
  }
 },
 "nbformat": 4,
 "nbformat_minor": 5
}
