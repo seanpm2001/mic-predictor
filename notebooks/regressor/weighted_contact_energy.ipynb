{
 "cells": [
  {
   "cell_type": "code",
   "execution_count": 1,
   "id": "parliamentary-peter",
   "metadata": {},
   "outputs": [
    {
     "name": "stdout",
     "output_type": "stream",
     "text": [
      "/Users/in-divye.singh/Documents/Projects/MIC_predictor/src\n"
     ]
    }
   ],
   "source": [
    "cd ../../src"
   ]
  },
  {
   "cell_type": "code",
   "execution_count": 2,
   "id": "silent-sellers",
   "metadata": {},
   "outputs": [],
   "source": [
    "import numpy as np\n",
    "import pandas as pd\n",
    "from scipy.stats import pearsonr"
   ]
  },
  {
   "cell_type": "code",
   "execution_count": 3,
   "id": "developmental-repository",
   "metadata": {},
   "outputs": [],
   "source": [
    "from utils import *"
   ]
  },
  {
   "cell_type": "code",
   "execution_count": 4,
   "id": "excellent-massage",
   "metadata": {},
   "outputs": [],
   "source": [
    "from geneal.genetic_algorithms import ContinuousGenAlgSolver"
   ]
  },
  {
   "cell_type": "code",
   "execution_count": 7,
   "id": "honey-employer",
   "metadata": {},
   "outputs": [],
   "source": [
    "avp_ic50 = pd.read_csv(\"../data/raw/AVP-IC50Pred_train.csv\")\n",
    "ha_avp = pd.read_csv(\"../data/raw/HA_AVP.csv\")"
   ]
  },
  {
   "cell_type": "code",
   "execution_count": 8,
   "id": "unnecessary-healing",
   "metadata": {},
   "outputs": [],
   "source": [
    "df = pd.concat([avp_ic50[['Sequence','MIC']], ha_avp], axis=0).drop_duplicates(['Sequence']).reset_index(drop=True)\n",
    "df = sequence_filtering(df)"
   ]
  },
  {
   "cell_type": "code",
   "execution_count": 9,
   "id": "desirable-appointment",
   "metadata": {},
   "outputs": [],
   "source": [
    "contact_energy_matrix = pd.read_csv(\"../data/raw/contact_energy.csv\", index_col=0)\n",
    "code3_to_code1 = pd.read_excel(\"../data/raw/amino_acid_codes.xlsx\")\n",
    "code3_to_code1_dict = dict(code3_to_code1[['Three-letter symbol', 'One-letter symbol']].values)\n",
    "contact_energy_matrix.columns = [code3_to_code1_dict[code] for code in contact_energy_matrix.columns]\n",
    "contact_energy_matrix.index = [code3_to_code1_dict[code] for code in contact_energy_matrix.index]"
   ]
  },
  {
   "cell_type": "code",
   "execution_count": 10,
   "id": "closing-oracle",
   "metadata": {},
   "outputs": [],
   "source": [
    "def seq_to_contact_energy(seq):\n",
    "        return [contact_energy_matrix[r][c] for r,c in list(zip(seq[:-1],seq[1:]))]\n",
    "df['contact_energy'] = df['Sequence'].apply(seq_to_contact_energy)\n",
    "df['net_contact_energy'] = df['contact_energy'].apply(lambda s: np.sum(s))"
   ]
  },
  {
   "cell_type": "code",
   "execution_count": 11,
   "id": "alone-southwest",
   "metadata": {},
   "outputs": [
    {
     "data": {
      "text/html": [
       "<div>\n",
       "<style scoped>\n",
       "    .dataframe tbody tr th:only-of-type {\n",
       "        vertical-align: middle;\n",
       "    }\n",
       "\n",
       "    .dataframe tbody tr th {\n",
       "        vertical-align: top;\n",
       "    }\n",
       "\n",
       "    .dataframe thead th {\n",
       "        text-align: right;\n",
       "    }\n",
       "</style>\n",
       "<table border=\"1\" class=\"dataframe\">\n",
       "  <thead>\n",
       "    <tr style=\"text-align: right;\">\n",
       "      <th></th>\n",
       "      <th>Sequence</th>\n",
       "      <th>MIC</th>\n",
       "      <th>contact_energy</th>\n",
       "      <th>net_contact_energy</th>\n",
       "    </tr>\n",
       "  </thead>\n",
       "  <tbody>\n",
       "    <tr>\n",
       "      <th>0</th>\n",
       "      <td>AAQRRGRVGRNPNQVGD</td>\n",
       "      <td>442.00000</td>\n",
       "      <td>[-2.72, -1.89, -1.8, -1.55, -1.72, -1.72, -3.0...</td>\n",
       "      <td>-34.02</td>\n",
       "    </tr>\n",
       "    <tr>\n",
       "      <th>1</th>\n",
       "      <td>HRILARIRQMMT</td>\n",
       "      <td>435.50000</td>\n",
       "      <td>[-2.16, -3.63, -7.04, -4.91, -1.83, -3.63, -3....</td>\n",
       "      <td>-40.90</td>\n",
       "    </tr>\n",
       "    <tr>\n",
       "      <th>2</th>\n",
       "      <td>RNPSQVGD</td>\n",
       "      <td>383.00000</td>\n",
       "      <td>[-1.64, -1.53, -1.57, -1.49, -3.07, -3.38, -1.59]</td>\n",
       "      <td>-14.27</td>\n",
       "    </tr>\n",
       "    <tr>\n",
       "      <th>3</th>\n",
       "      <td>RVGRNPNQVGD</td>\n",
       "      <td>374.00000</td>\n",
       "      <td>[-3.07, -3.38, -1.72, -1.64, -1.53, -1.53, -1....</td>\n",
       "      <td>-22.62</td>\n",
       "    </tr>\n",
       "    <tr>\n",
       "      <th>4</th>\n",
       "      <td>AAQRRGRIGRNPSQVGD</td>\n",
       "      <td>358.00000</td>\n",
       "      <td>[-2.72, -1.89, -1.8, -1.55, -1.72, -1.72, -3.6...</td>\n",
       "      <td>-34.80</td>\n",
       "    </tr>\n",
       "    <tr>\n",
       "      <th>...</th>\n",
       "      <td>...</td>\n",
       "      <td>...</td>\n",
       "      <td>...</td>\n",
       "      <td>...</td>\n",
       "    </tr>\n",
       "    <tr>\n",
       "      <th>707</th>\n",
       "      <td>NGAICWGPCPTAFRQIGNCGHFKVRCCKIR</td>\n",
       "      <td>0.11515</td>\n",
       "      <td>[-1.74, -2.31, -4.58, -5.5, -4.95, -3.42, -1.8...</td>\n",
       "      <td>-92.70</td>\n",
       "    </tr>\n",
       "    <tr>\n",
       "      <th>708</th>\n",
       "      <td>CFPYITRPGTYHDWWYTRKNRQ</td>\n",
       "      <td>0.30000</td>\n",
       "      <td>[-5.8, -4.25, -3.19, -5.25, -4.03, -1.9, -1.7,...</td>\n",
       "      <td>-61.63</td>\n",
       "    </tr>\n",
       "    <tr>\n",
       "      <th>709</th>\n",
       "      <td>YTSLIHSLIEESQNQQEKNEQELLELDKWASLWNWF</td>\n",
       "      <td>0.01131</td>\n",
       "      <td>[-3.01, -1.96, -3.92, -7.04, -4.14, -2.11, -3....</td>\n",
       "      <td>-108.13</td>\n",
       "    </tr>\n",
       "    <tr>\n",
       "      <th>710</th>\n",
       "      <td>GTNLSVPNPLGFFPDHQLDPAFGANSNNPDWDFNPNKDHWPEANKVG</td>\n",
       "      <td>0.00008</td>\n",
       "      <td>[-2.08, -1.88, -3.74, -3.92, -3.05, -3.32, -1....</td>\n",
       "      <td>-122.85</td>\n",
       "    </tr>\n",
       "    <tr>\n",
       "      <th>711</th>\n",
       "      <td>SWETWEREIENYTRQIYRILEESQEQQDRNERDLLE</td>\n",
       "      <td>0.00200</td>\n",
       "      <td>[-2.99, -2.99, -1.74, -3.22, -2.99, -2.27, -2....</td>\n",
       "      <td>-96.41</td>\n",
       "    </tr>\n",
       "  </tbody>\n",
       "</table>\n",
       "<p>712 rows × 4 columns</p>\n",
       "</div>"
      ],
      "text/plain": [
       "                                            Sequence        MIC  \\\n",
       "0                                  AAQRRGRVGRNPNQVGD  442.00000   \n",
       "1                                       HRILARIRQMMT  435.50000   \n",
       "2                                           RNPSQVGD  383.00000   \n",
       "3                                        RVGRNPNQVGD  374.00000   \n",
       "4                                  AAQRRGRIGRNPSQVGD  358.00000   \n",
       "..                                               ...        ...   \n",
       "707                   NGAICWGPCPTAFRQIGNCGHFKVRCCKIR    0.11515   \n",
       "708                           CFPYITRPGTYHDWWYTRKNRQ    0.30000   \n",
       "709             YTSLIHSLIEESQNQQEKNEQELLELDKWASLWNWF    0.01131   \n",
       "710  GTNLSVPNPLGFFPDHQLDPAFGANSNNPDWDFNPNKDHWPEANKVG    0.00008   \n",
       "711             SWETWEREIENYTRQIYRILEESQEQQDRNERDLLE    0.00200   \n",
       "\n",
       "                                        contact_energy  net_contact_energy  \n",
       "0    [-2.72, -1.89, -1.8, -1.55, -1.72, -1.72, -3.0...              -34.02  \n",
       "1    [-2.16, -3.63, -7.04, -4.91, -1.83, -3.63, -3....              -40.90  \n",
       "2    [-1.64, -1.53, -1.57, -1.49, -3.07, -3.38, -1.59]              -14.27  \n",
       "3    [-3.07, -3.38, -1.72, -1.64, -1.53, -1.53, -1....              -22.62  \n",
       "4    [-2.72, -1.89, -1.8, -1.55, -1.72, -1.72, -3.6...              -34.80  \n",
       "..                                                 ...                 ...  \n",
       "707  [-1.74, -2.31, -4.58, -5.5, -4.95, -3.42, -1.8...              -92.70  \n",
       "708  [-5.8, -4.25, -3.19, -5.25, -4.03, -1.9, -1.7,...              -61.63  \n",
       "709  [-3.01, -1.96, -3.92, -7.04, -4.14, -2.11, -3....             -108.13  \n",
       "710  [-2.08, -1.88, -3.74, -3.92, -3.05, -3.32, -1....             -122.85  \n",
       "711  [-2.99, -2.99, -1.74, -3.22, -2.99, -2.27, -2....              -96.41  \n",
       "\n",
       "[712 rows x 4 columns]"
      ]
     },
     "execution_count": 11,
     "metadata": {},
     "output_type": "execute_result"
    }
   ],
   "source": [
    "df"
   ]
  },
  {
   "cell_type": "code",
   "execution_count": 87,
   "id": "lonely-charity",
   "metadata": {},
   "outputs": [],
   "source": [
    "def fitness_function(mat_chromosome):\n",
    "    weight_mat = pd.DataFrame(np.reshape(mat_chromosome, (20,20)),\n",
    "                              columns=contact_energy_matrix.columns, index=contact_energy_matrix.index)\n",
    "    seq_weights_lists = [[weight_mat[r][c] for r,c in list(zip(seq[:-1],seq[1:]))] for seq in df['Sequence']]\n",
    "    wght_net_contact_energy = [np.dot(w, v_ce) for w, v_ce in zip(df['contact_energy'], seq_weights_lists)]\n",
    "    return abs(pearsonr(wght_net_contact_energy, df['MIC'])[0])"
   ]
  },
  {
   "cell_type": "code",
   "execution_count": 90,
   "id": "african-sheriff",
   "metadata": {},
   "outputs": [],
   "source": [
    "solver = ContinuousGenAlgSolver(\n",
    "    n_genes=400, \n",
    "    fitness_function=fitness_function,\n",
    "    pop_size=10,\n",
    "    max_gen=500,\n",
    "    mutation_rate=0.1,\n",
    "    selection_rate=0.6,\n",
    "    selection_strategy=\"roulette_wheel\"\n",
    ")"
   ]
  },
  {
   "cell_type": "code",
   "execution_count": 91,
   "id": "right-timber",
   "metadata": {
    "scrolled": true
   },
   "outputs": [
    {
     "name": "stdout",
     "output_type": "stream",
     "text": [
      "Iteration: 50\n",
      "Best fitness: 0.44098946288247964\n",
      "Iteration: 100\n",
      "Best fitness: 0.45819785851734945\n",
      "Iteration: 150\n",
      "Best fitness: 0.4675227264188351\n",
      "Iteration: 200\n",
      "Best fitness: 0.47115192209811807\n",
      "Iteration: 250\n",
      "Best fitness: 0.47115192209811807\n",
      "Iteration: 300\n",
      "Best fitness: 0.47115192209811807\n",
      "Iteration: 350\n",
      "Best fitness: 0.4762864090332917\n",
      "Iteration: 400\n",
      "Best fitness: 0.47944153319289795\n",
      "Iteration: 450\n",
      "Best fitness: 0.4795721077302562\n",
      "Iteration: 500\n",
      "Best fitness: 0.48658851523452085\n"
     ]
    },
    {
     "data": {
      "image/png": "[encoded data removed]",
      "text/plain": [
       "<Figure size 504x504 with 1 Axes>"
      ]
     },
     "metadata": {
      "needs_background": "light"
     },
     "output_type": "display_data"
    },
    {
     "name": "stdout",
     "output_type": "stream",
     "text": [
      "\n",
      "#############################\n",
      "#\t\t\tSTATS\t\t\t#\n",
      "#############################\n",
      "\n",
      "\n",
      "Total running time: 13 minutes, 55 seconds\n",
      "\n",
      "\n",
      "Population size: 10\n",
      "Number variables: 400\n",
      "Selection rate: 0.6\n",
      "Mutation rate: 0.1\n",
      "Number Generations: 500\n",
      "\n",
      "Best fitness: 0.48658851523452085\n",
      "Best individual: [-2.7697747  -8.33217154 -1.10890054  0.19373401 -5.27610073 -8.08488259\n",
      " -8.7389151  -0.93963334 -6.20271268  3.50593503 -2.89356763 -4.12608684\n",
      " -6.62853429  2.99795963 -5.8840924   0.47361258  8.1847394  -3.31431405\n",
      "  9.15816315 -5.11827427  7.22701214  7.59936848 -1.9781025   3.4788489\n",
      " -6.19010871  7.57251374 -5.5844521  -6.64116301  1.50219061  1.48767402\n",
      "  0.17735687  9.17099393  4.31599414 -3.22170867  9.35158796  9.70061919\n",
      "  0.86468379 -5.48165418 -2.54680445  9.49800628 -2.26822193 -4.07476917\n",
      "  9.17845293 -7.4645102  -0.87050849  7.68757375  7.29956053 -0.82457978\n",
      "  0.47569168  1.84268595 -6.85862713 -8.94227373  4.66984619 -4.95147495\n",
      " -9.72892566 -9.86502139 -2.78446494 -9.12879817 -6.67844594 -9.23224777\n",
      " -2.30648124 -2.30415659 -3.83821348 -3.62103604  3.52354593 -3.9393771\n",
      "  0.19240218 -0.02809936 -6.69815041 -6.02336347 -2.43453714  4.60877181\n",
      " -8.62915089  3.96595422 -7.42711362  7.52988598 -5.70660419 -3.37495142\n",
      "  9.84792169 -5.24762362 -3.69922595 -3.90355814  2.88829644 -0.74746866\n",
      " -9.96643838  4.8724052  -9.67138893 -8.06751679 -2.94307266 -6.70457145\n",
      " -8.23788486  7.87397708  4.35031576  1.3775583  -4.66166304  9.91051364\n",
      "  1.42985964 -2.37052817 -3.92826526  8.93473375  9.20140243 -5.1718315\n",
      " -5.67225932 -5.30162228  8.83246061 -8.1400756  -7.38061953  4.92218704\n",
      "  3.50981733 -0.51989777  1.03214241  9.46384318  5.40240081 -9.18013008\n",
      " -0.62228743 -6.32545792 -1.12436172  6.06945974  0.2471403   1.35824958\n",
      " -5.79416286  8.10566461 -2.44845148  5.96428934  5.83273409 -7.31314172\n",
      " -7.9596231  -4.89285271 -4.80878759  1.39343389 -9.50713222 -5.61513453\n",
      " -8.27825651 -6.57265855 -0.80889686 -4.53631455  3.47219818 -1.98907394\n",
      " -4.45492582 -1.8282044  -4.86266701 -4.80716363  6.1587831  -8.33649508\n",
      "  2.67835481  8.52414151 -4.84064084  0.36751219 -2.52602149 -4.89289566\n",
      "  0.34133191 -4.06162318 -0.93299306  6.1228112   0.16585685  0.37389076\n",
      " -5.58490369  0.90990519 -3.59980503 -1.01388973 -8.94377532  2.84596178\n",
      " -9.95089828 -9.38064922 -4.19831636 -9.44315287 -8.02072652  7.91166863\n",
      "  3.90216633  4.27731907 -5.92754629 -8.57311299 -1.35750183 -0.88983862\n",
      " -0.99242186 -5.21740463 -9.65790164  6.30490335  8.70893122  4.79329265\n",
      "  2.00264849 -7.12255701  1.83327525 -0.9658181  -8.21093765 -7.77142346\n",
      " -5.39718578 -0.3907058  -6.24325882 -2.20516327 -6.1893673  -0.86521483\n",
      "  6.50696494  1.19760679 -4.7943491  -8.10278254  8.98454218 -0.49233332\n",
      " -7.43167754 -4.85190249  7.80851848 -1.16726461  6.36042686 -8.52019009\n",
      "  5.81097352  7.59914833 -3.79233919  5.86420233  7.26305828 -8.32792119\n",
      "  2.54540961  4.32243652 -5.73603925 -3.55130291  8.6874924   9.84991345\n",
      "  1.24590595  4.48692023 -7.66483529 -9.57516703  8.48220677  1.79659677\n",
      "  8.82634104 -2.88337017 -9.62783231 -5.60169704 -9.30393473  8.14267676\n",
      " -3.30000169 -1.43276043 -9.17209798  3.21786833  5.87349084  6.48040406\n",
      "  6.47965452  3.92468244 -4.79669572 -5.73317301 -3.74219299 -7.5341405\n",
      "  5.17321418  7.45096208  4.9222774   7.16778993 -2.00558333  8.68955566\n",
      "  8.8937422   2.53530526 -2.35462659 -8.43400914  7.62666839  8.81916092\n",
      " -9.82978437 -6.73289689 -7.20477849 -6.93997205  6.54250473  6.99295311\n",
      " -0.59331574  6.95561257  1.41759137  5.74773318  6.54627063  3.10875159\n",
      " -4.86224967  5.74587252  4.91315867  0.01073084 -3.49502423  1.46930439\n",
      "  5.54446163  2.34599935  4.95767205 -3.23083769 -8.39089798 -4.04429743\n",
      "  3.09524536 -9.14762796 -3.81276703  0.49263943 -7.27371658 -1.11593543\n",
      "  2.68332429 -0.10287664 -4.29230199  9.28704887 -1.58862098 -2.08352145\n",
      " -8.19296841 -5.4910354   6.2066674   6.48766103 -0.65831669  5.88658092\n",
      " -2.14668077 -8.07214004  5.56250754 -9.39860645 -0.70896234 -3.49016983\n",
      "  3.24701147  8.31349297 -3.84870891 -4.71690698  3.98552417 -5.41284869\n",
      "  8.54463944 -1.70459873 -1.76759175 -8.45662803  4.05352055  1.83192335\n",
      "  8.15192975  1.82711942  4.24761287  2.83001367 -2.94462812 -0.33419838\n",
      " -5.87389977 -6.87601837  1.6425229  -6.24913486 -9.36526425 -8.42602627\n",
      " -7.52122722  4.40547623 -5.322364   -0.83469801 -9.5678185  -7.26856789\n",
      "  5.34709769 -3.4951364  -4.31511894 -4.56241258  7.196146   -3.56955676\n",
      "  6.56993897  6.63532027 -2.92138315  4.6465125   0.4811302  -1.05545587\n",
      " -4.16179458 -4.40735851 -7.4588353  -4.45876562 -6.78041541 -9.56480584\n",
      " -5.24835456 -8.49965667  3.32233377 -3.11261582  5.37592378 -2.18759457\n",
      "  4.58469927 -9.86585849  1.9852839   4.95965249 -6.32103893 -4.92003549\n",
      " -8.39652797  6.49641301 -3.27368278  2.89209565  0.09783114 -2.08042768\n",
      " -9.04533137 -8.82050456  1.9204983  -3.81578163  8.50253248  6.23757288\n",
      " -4.85648695 -0.10346414  4.60897903  4.47169789 -9.61356062  4.76755543\n",
      "  6.32900336 -0.0861503   6.10024825  7.68500586 -2.64934146 -7.78925063\n",
      "  9.81172545  1.61248041  2.98371257 -2.41736261  6.3416867   4.10226062\n",
      "  2.26755794 -6.2680322  -8.93835775 -3.6109527  -1.59127305 -8.30532756\n",
      "  2.08622685  4.78877609  6.07954318  3.42370338]\n"
     ]
    }
   ],
   "source": [
    "solver.solve()"
   ]
  },
  {
   "cell_type": "code",
   "execution_count": 92,
   "id": "assigned-record",
   "metadata": {
    "scrolled": true
   },
   "outputs": [
    {
     "data": {
      "text/plain": [
       "0.48658851523452085"
      ]
     },
     "execution_count": 92,
     "metadata": {},
     "output_type": "execute_result"
    }
   ],
   "source": [
    "fitness_function(solver.best_individual_)"
   ]
  },
  {
   "cell_type": "code",
   "execution_count": 93,
   "id": "romance-ordering",
   "metadata": {},
   "outputs": [
    {
     "data": {
      "text/plain": [
       "(0.3194997006157818, 2.321838283616058e-18)"
      ]
     },
     "execution_count": 93,
     "metadata": {},
     "output_type": "execute_result"
    }
   ],
   "source": [
    "pearsonr(df['MIC'], df['net_contact_energy'])"
   ]
  },
  {
   "cell_type": "code",
   "execution_count": null,
   "id": "returning-pressure",
   "metadata": {},
   "outputs": [],
   "source": [
    "import seaborn as sns"
   ]
  },
  {
   "cell_type": "code",
   "execution_count": null,
   "id": "artificial-respondent",
   "metadata": {},
   "outputs": [],
   "source": [
    "sns.relplot(y=df['net_contact_energy'], x=df['MIC'])"
   ]
  },
  {
   "cell_type": "code",
   "execution_count": null,
   "id": "proof-highlight",
   "metadata": {},
   "outputs": [],
   "source": [
    "weight_mat = pd.DataFrame(np.reshape(solver.best_individual_, (20,20)),\n",
    "                          columns=contact_energy_matrix.columns, index=contact_energy_matrix.index)\n",
    "seq_weights_lists = [[weight_mat[r][c] for r,c in list(zip(seq[:-1],seq[1:]))] for seq in df['Sequence']]\n",
    "wght_net_contact_energy = [np.dot(w, v_ce) for w, v_ce in zip(df['contact_energy'], seq_weights_lists)]"
   ]
  },
  {
   "cell_type": "code",
   "execution_count": null,
   "id": "portuguese-compression",
   "metadata": {},
   "outputs": [],
   "source": [
    "sns.relplot(y=wght_net_contact_energy, x=df['MIC'])"
   ]
  },
  {
   "cell_type": "code",
   "execution_count": null,
   "id": "powered-powder",
   "metadata": {},
   "outputs": [],
   "source": []
  }
 ],
 "metadata": {
  "kernelspec": {
   "display_name": "Python 3",
   "language": "python",
   "name": "python3"
  },
  "language_info": {
   "codemirror_mode": {
    "name": "ipython",
    "version": 3
   },
   "file_extension": ".py",
   "mimetype": "text/x-python",
   "name": "python",
   "nbconvert_exporter": "python",
   "pygments_lexer": "ipython3",
   "version": "3.6.10"
  }
 },
 "nbformat": 4,
 "nbformat_minor": 5
}
