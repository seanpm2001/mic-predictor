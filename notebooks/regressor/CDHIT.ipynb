{
 "cells": [
  {
   "cell_type": "code",
   "execution_count": 1,
   "id": "floating-action",
   "metadata": {
    "ExecuteTime": {
     "end_time": "2021-06-10T05:03:02.909559Z",
     "start_time": "2021-06-10T05:03:02.904867Z"
    }
   },
   "outputs": [
    {
     "name": "stdout",
     "output_type": "stream",
     "text": [
      "/Users/in-divye.singh/Documents/Projects/cd_hit_py\n"
     ]
    }
   ],
   "source": [
    "cd ../../../cd_hit_py/"
   ]
  },
  {
   "cell_type": "code",
   "execution_count": 2,
   "id": "following-vault",
   "metadata": {
    "ExecuteTime": {
     "end_time": "2021-06-10T05:03:04.108959Z",
     "start_time": "2021-06-10T05:03:03.777374Z"
    }
   },
   "outputs": [],
   "source": [
    "import pandas as pd\n",
    "from cd_hit import CD_HIT"
   ]
  },
  {
   "cell_type": "code",
   "execution_count": 3,
   "id": "dominican-payroll",
   "metadata": {
    "ExecuteTime": {
     "end_time": "2021-06-10T05:03:04.930389Z",
     "start_time": "2021-06-10T05:03:04.922882Z"
    }
   },
   "outputs": [],
   "source": [
    "Sequences = pd.read_csv(\"../../epoch_100_props_filtered.csv\")['Sequence']"
   ]
  },
  {
   "cell_type": "code",
   "execution_count": 4,
   "id": "widespread-credits",
   "metadata": {
    "ExecuteTime": {
     "end_time": "2021-06-10T05:03:06.373639Z",
     "start_time": "2021-06-10T05:03:06.370099Z"
    }
   },
   "outputs": [],
   "source": [
    "header = [\"seq_\"+str(i) for i in range(len(Sequences))]"
   ]
  },
  {
   "cell_type": "code",
   "execution_count": 5,
   "id": "adolescent-cleaning",
   "metadata": {
    "ExecuteTime": {
     "end_time": "2021-06-10T05:03:07.577751Z",
     "start_time": "2021-06-10T05:03:07.575185Z"
    }
   },
   "outputs": [],
   "source": [
    "seq = Sequences.to_list()"
   ]
  },
  {
   "cell_type": "code",
   "execution_count": 6,
   "id": "guilty-peoples",
   "metadata": {
    "ExecuteTime": {
     "end_time": "2021-06-10T05:03:08.410624Z",
     "start_time": "2021-06-10T05:03:08.407961Z"
    }
   },
   "outputs": [],
   "source": [
    "cdhit = CD_HIT()"
   ]
  },
  {
   "cell_type": "code",
   "execution_count": 7,
   "id": "broke-framework",
   "metadata": {
    "ExecuteTime": {
     "end_time": "2021-06-10T05:03:10.848795Z",
     "start_time": "2021-06-10T05:03:10.742663Z"
    }
   },
   "outputs": [],
   "source": [
    "header_filtered, seq_filterted = cdhit.from_list(seq_lst = seq, header_lst=header,threshold=0.85)"
   ]
  },
  {
   "cell_type": "code",
   "execution_count": 8,
   "id": "seven-reporter",
   "metadata": {
    "ExecuteTime": {
     "end_time": "2021-06-10T05:03:12.105967Z",
     "start_time": "2021-06-10T05:03:12.102608Z"
    }
   },
   "outputs": [],
   "source": [
    "filtered_seq = pd.DataFrame(seq_filterted, columns=['Sequence'])"
   ]
  },
  {
   "cell_type": "code",
   "execution_count": 9,
   "id": "monthly-chase",
   "metadata": {
    "ExecuteTime": {
     "end_time": "2021-06-10T05:03:21.651238Z",
     "start_time": "2021-06-10T05:03:21.627999Z"
    }
   },
   "outputs": [
    {
     "data": {
      "text/html": [
       "<div>\n",
       "<style scoped>\n",
       "    .dataframe tbody tr th:only-of-type {\n",
       "        vertical-align: middle;\n",
       "    }\n",
       "\n",
       "    .dataframe tbody tr th {\n",
       "        vertical-align: top;\n",
       "    }\n",
       "\n",
       "    .dataframe thead th {\n",
       "        text-align: right;\n",
       "    }\n",
       "</style>\n",
       "<table border=\"1\" class=\"dataframe\">\n",
       "  <thead>\n",
       "    <tr style=\"text-align: right;\">\n",
       "      <th></th>\n",
       "      <th>Sequence</th>\n",
       "    </tr>\n",
       "  </thead>\n",
       "  <tbody>\n",
       "    <tr>\n",
       "      <th>0</th>\n",
       "      <td>SWLRDIWDWICEVLSDTPGKDMV</td>\n",
       "    </tr>\n",
       "    <tr>\n",
       "      <th>1</th>\n",
       "      <td>CEEIRLECLVYDTPILF</td>\n",
       "    </tr>\n",
       "    <tr>\n",
       "      <th>2</th>\n",
       "      <td>SWLDRIWRPWGRSVYAPEP</td>\n",
       "    </tr>\n",
       "    <tr>\n",
       "      <th>3</th>\n",
       "      <td>VRLIYTMDTADMDAWE</td>\n",
       "    </tr>\n",
       "    <tr>\n",
       "      <th>4</th>\n",
       "      <td>CLRVRLEKLRLRLLRDADDL</td>\n",
       "    </tr>\n",
       "    <tr>\n",
       "      <th>...</th>\n",
       "      <td>...</td>\n",
       "    </tr>\n",
       "    <tr>\n",
       "      <th>1060</th>\n",
       "      <td>SWLRDIWDWECKVLSRFKRLAV</td>\n",
       "    </tr>\n",
       "    <tr>\n",
       "      <th>1061</th>\n",
       "      <td>AFLGWIGAIVSTPIVLGADLV</td>\n",
       "    </tr>\n",
       "    <tr>\n",
       "      <th>1062</th>\n",
       "      <td>MANAGLQLLGFILGWFLLDFE</td>\n",
       "    </tr>\n",
       "    <tr>\n",
       "      <th>1063</th>\n",
       "      <td>AWDFGSVGVGDGYYMLVESLE</td>\n",
       "    </tr>\n",
       "    <tr>\n",
       "      <th>1064</th>\n",
       "      <td>SWLRDIWDNPSVDMAALVVGWSYH</td>\n",
       "    </tr>\n",
       "  </tbody>\n",
       "</table>\n",
       "<p>1065 rows × 1 columns</p>\n",
       "</div>"
      ],
      "text/plain": [
       "                      Sequence\n",
       "0      SWLRDIWDWICEVLSDTPGKDMV\n",
       "1            CEEIRLECLVYDTPILF\n",
       "2          SWLDRIWRPWGRSVYAPEP\n",
       "3             VRLIYTMDTADMDAWE\n",
       "4         CLRVRLEKLRLRLLRDADDL\n",
       "...                        ...\n",
       "1060    SWLRDIWDWECKVLSRFKRLAV\n",
       "1061     AFLGWIGAIVSTPIVLGADLV\n",
       "1062     MANAGLQLLGFILGWFLLDFE\n",
       "1063     AWDFGSVGVGDGYYMLVESLE\n",
       "1064  SWLRDIWDNPSVDMAALVVGWSYH\n",
       "\n",
       "[1065 rows x 1 columns]"
      ]
     },
     "execution_count": 9,
     "metadata": {},
     "output_type": "execute_result"
    }
   ],
   "source": [
    "filtered_seq"
   ]
  },
  {
   "cell_type": "code",
   "execution_count": 10,
   "id": "collectible-kitchen",
   "metadata": {
    "ExecuteTime": {
     "end_time": "2021-06-10T05:03:53.582585Z",
     "start_time": "2021-06-10T05:03:53.567502Z"
    }
   },
   "outputs": [],
   "source": [
    "filtered_seq.to_csv(\"../../epoch_100_props_filtered.csv\", index=False)"
   ]
  },
  {
   "cell_type": "code",
   "execution_count": null,
   "id": "robust-period",
   "metadata": {},
   "outputs": [],
   "source": [
    "removed_seq = pd.concat([pd.DataFrame(Sequences,columns=['Sequence']) ,filtered_seq],axis=0).drop_duplicates(keep=False)"
   ]
  },
  {
   "cell_type": "code",
   "execution_count": null,
   "id": "possible-literacy",
   "metadata": {},
   "outputs": [],
   "source": [
    "Sequences[705]"
   ]
  },
  {
   "cell_type": "code",
   "execution_count": null,
   "id": "incoming-terrain",
   "metadata": {},
   "outputs": [],
   "source": []
  },
  {
   "cell_type": "code",
   "execution_count": null,
   "id": "developing-columbus",
   "metadata": {},
   "outputs": [],
   "source": [
    "with open(\"../MIC_predictor/data/clstr_file.clstr\",\"r\") as f:\n",
    "     txt = f.read()"
   ]
  },
  {
   "cell_type": "code",
   "execution_count": null,
   "id": "wound-valentine",
   "metadata": {},
   "outputs": [],
   "source": [
    "a = txt.split('\\n>')"
   ]
  },
  {
   "cell_type": "code",
   "execution_count": null,
   "id": "massive-seating",
   "metadata": {},
   "outputs": [],
   "source": [
    "def tst2(s):\n",
    "    s = s.split('\\t')[1]\n",
    "    s = s.split('aa, ')\n",
    "    seq_len = s[0]\n",
    "    if s[1][-1] == \"*\":\n",
    "        seq_header = s[1].split(' ')[0]\n",
    "        seq_header = seq_header.replace(\"...\",\"\")[1:]\n",
    "        return [seq_len, seq_header, None, None, None, None, None]\n",
    "    else:\n",
    "        remaining = s[1].split('/')\n",
    "        similarity = remaining[1]\n",
    "        remaining = remaining[0]\n",
    "        seq_header, matching = remaining.split(' at ')\n",
    "        seq_header = seq_header.replace(\"...\",\"\")[1:]\n",
    "        seq_strt_idx, seq_end_idx, ref_strt_idx, ref_end_idx = matching.split(':')\n",
    "        return [int(seq_len), seq_header,\n",
    "                int(seq_strt_idx), int(seq_end_idx), int(ref_strt_idx), int(ref_end_idx), int(similarity)]"
   ]
  },
  {
   "cell_type": "code",
   "execution_count": null,
   "id": "genuine-bridal",
   "metadata": {},
   "outputs": [],
   "source": [
    "def tst(b):\n",
    "    cluster_num = b[0]\n",
    "    cluster = b[1:]\n",
    "    return [[cluster_num]+tst2(elem) for elem in cluster]"
   ]
  },
  {
   "cell_type": "code",
   "execution_count": null,
   "id": "coastal-mounting",
   "metadata": {},
   "outputs": [],
   "source": [
    "dd = []\n",
    "for c in a:\n",
    "    dd.extend(tst(c.strip('>').strip('\\n').split('\\n')))"
   ]
  },
  {
   "cell_type": "code",
   "execution_count": null,
   "id": "optional-zimbabwe",
   "metadata": {},
   "outputs": [],
   "source": [
    "pd.DataFrame(dd, columns=[\"Cluster ID\", \"Seq length\", \"Seq header\",\n",
    "                          \"Seq match start idx\", \"Seq match end idx\",\n",
    "                          \"Ref match start idx\", \"Ref match end idx\", \"Similarity\"])"
   ]
  },
  {
   "cell_type": "code",
   "execution_count": null,
   "id": "assured-corrections",
   "metadata": {},
   "outputs": [],
   "source": []
  }
 ],
 "metadata": {
  "kernelspec": {
   "display_name": "Python 3",
   "language": "python",
   "name": "python3"
  },
  "language_info": {
   "codemirror_mode": {
    "name": "ipython",
    "version": 3
   },
   "file_extension": ".py",
   "mimetype": "text/x-python",
   "name": "python",
   "nbconvert_exporter": "python",
   "pygments_lexer": "ipython3",
   "version": "3.6.10"
  },
  "varInspector": {
   "cols": {
    "lenName": 16,
    "lenType": 16,
    "lenVar": 40
   },
   "kernels_config": {
    "python": {
     "delete_cmd_postfix": "",
     "delete_cmd_prefix": "del ",
     "library": "var_list.py",
     "varRefreshCmd": "print(var_dic_list())"
    },
    "r": {
     "delete_cmd_postfix": ") ",
     "delete_cmd_prefix": "rm(",
     "library": "var_list.r",
     "varRefreshCmd": "cat(var_dic_list()) "
    }
   },
   "types_to_exclude": [
    "module",
    "function",
    "builtin_function_or_method",
    "instance",
    "_Feature"
   ],
   "window_display": false
  }
 },
 "nbformat": 4,
 "nbformat_minor": 5
}
