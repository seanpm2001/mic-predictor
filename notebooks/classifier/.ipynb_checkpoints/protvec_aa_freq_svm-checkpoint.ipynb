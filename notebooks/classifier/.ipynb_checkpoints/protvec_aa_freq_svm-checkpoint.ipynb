{
 "cells": [
  {
   "cell_type": "code",
   "execution_count": 1,
   "id": "employed-harrison",
   "metadata": {},
   "outputs": [
    {
     "data": {
      "text/plain": [
       "'/Users/in-divye.singh/Documents/Projects/MIC_predictor/notebooks/classifier'"
      ]
     },
     "execution_count": 1,
     "metadata": {},
     "output_type": "execute_result"
    }
   ],
   "source": [
    "pwd"
   ]
  },
  {
   "cell_type": "code",
   "execution_count": 2,
   "id": "floppy-coordination",
   "metadata": {},
   "outputs": [
    {
     "name": "stdout",
     "output_type": "stream",
     "text": [
      "/Users/in-divye.singh/Documents/Projects/MIC_predictor\n"
     ]
    }
   ],
   "source": [
    "cd ../../"
   ]
  },
  {
   "cell_type": "code",
   "execution_count": 3,
   "id": "laughing-threat",
   "metadata": {},
   "outputs": [],
   "source": [
    "from notebooks.utils import *"
   ]
  },
  {
   "cell_type": "code",
   "execution_count": 4,
   "id": "comfortable-freeware",
   "metadata": {},
   "outputs": [],
   "source": [
    "import biovec\n",
    "import numpy as np\n",
    "import pandas as pd\n",
    "from itertools import chain\n",
    "from collections import Counter"
   ]
  },
  {
   "cell_type": "code",
   "execution_count": 5,
   "id": "obvious-ecuador",
   "metadata": {},
   "outputs": [],
   "source": [
    "import matplotlib.pyplot as plt\n",
    "import seaborn as sns"
   ]
  },
  {
   "cell_type": "code",
   "execution_count": 6,
   "id": "textile-female",
   "metadata": {},
   "outputs": [],
   "source": [
    "from sklearn.svm import SVC\n",
    "from sklearn.metrics import make_scorer\n",
    "from sklearn.model_selection import GridSearchCV\n",
    "from sklearn.ensemble import RandomForestClassifier\n",
    "from sklearn.metrics import accuracy_score, f1_score, roc_auc_score, matthews_corrcoef\n",
    "from sklearn.metrics import classification_report, confusion_matrix, make_scorer\n",
    "from sklearn.model_selection import train_test_split"
   ]
  },
  {
   "cell_type": "code",
   "execution_count": 7,
   "id": "primary-proof",
   "metadata": {},
   "outputs": [],
   "source": [
    "from sklearn.manifold import TSNE\n",
    "from sklearn.decomposition import PCA"
   ]
  },
  {
   "cell_type": "code",
   "execution_count": 8,
   "id": "opening-board",
   "metadata": {},
   "outputs": [],
   "source": [
    "avp_ic50 = pd.read_csv(\"data/raw/AVP-IC50Pred_train.csv\")\n",
    "ha_avp = pd.read_csv(\"data/raw/HA_AVP.csv\")\n",
    "\n",
    "df = pd.concat([avp_ic50[['Sequence','MIC']], ha_avp], axis=0).drop_duplicates(['Sequence']).reset_index(drop=True)\n",
    "df = sequence_filtering(df)"
   ]
  },
  {
   "cell_type": "code",
   "execution_count": 9,
   "id": "nutritional-queen",
   "metadata": {},
   "outputs": [],
   "source": [
    "df['lessthan5'] = df['MIC'].apply(lambda mic: 1 if mic <= 5 else 0)"
   ]
  },
  {
   "cell_type": "code",
   "execution_count": 10,
   "id": "italian-variety",
   "metadata": {},
   "outputs": [
    {
     "data": {
      "text/plain": [
       "<matplotlib.axes._subplots.AxesSubplot at 0x1a249e4588>"
      ]
     },
     "execution_count": 10,
     "metadata": {},
     "output_type": "execute_result"
    },
    {
     "data": {
      "image/png": "[encoded data removed]",
      "text/plain": [
       "<Figure size 432x288 with 1 Axes>"
      ]
     },
     "metadata": {
      "needs_background": "light"
     },
     "output_type": "display_data"
    }
   ],
   "source": [
    "count = dict(Counter(df['lessthan5']))\n",
    "sns.barplot(x = [str(k) for k in count.keys()], y=[float(v) for v in count.values()])"
   ]
  },
  {
   "cell_type": "code",
   "execution_count": 11,
   "id": "contemporary-greeting",
   "metadata": {},
   "outputs": [],
   "source": [
    "def get_score(y_true, y_pred):\n",
    "    print(f'Accuracy: {round(accuracy_score(y_true, y_pred), 4)}')\n",
    "    print(f'F1-score: {round(f1_score(y_true, y_pred), 4)}')\n",
    "    print(f'AUROC: {round(roc_auc_score(y_true, y_pred), 4)}')\n",
    "    print(f'MCC: {round(matthews_corrcoef(y_true, y_pred), 4)}')\n",
    "    print(classification_report(y_test, y_pred))"
   ]
  },
  {
   "cell_type": "markdown",
   "id": "lined-compatibility",
   "metadata": {},
   "source": [
    "### ProtVec"
   ]
  },
  {
   "cell_type": "code",
   "execution_count": 12,
   "id": "drawn-alliance",
   "metadata": {},
   "outputs": [
    {
     "name": "stderr",
     "output_type": "stream",
     "text": [
      "/Users/in-divye.singh/anaconda3/envs/life-science/lib/python3.6/site-packages/smart_open/smart_open_lib.py:254: UserWarning: This function is deprecated, use smart_open.open instead. See the migration notes for details: https://github.com/RaRe-Technologies/smart_open/blob/master/README.rst#migrating-to-the-new-open-function\n",
      "  'See the migration notes for details: %s' % _MIGRATION_NOTES_URL\n",
      "Creating vectors: 100%|██████████| 712/712 [00:00<00:00, 1056.32sequence/s]\n"
     ]
    }
   ],
   "source": [
    "############# Prot2Vec #############\n",
    "uniprot_embedding = biovec.models.load_protvec(\"data/embeddings/uniprot__kmer_3_contextWindow_10_vector_100_reduction_None\")\n",
    "\n",
    "avg_vectors = convert_sequences_to_avg_vectors(df['Sequence'], uniprot_embedding)\n",
    "avg_vectors = avg_vectors.reset_index(drop=True)"
   ]
  },
  {
   "cell_type": "code",
   "execution_count": 13,
   "id": "serious-surprise",
   "metadata": {},
   "outputs": [],
   "source": [
    "X_train, X_test, y_train, y_test = train_test_split(avg_vectors, df['lessthan5'], test_size=0.2, random_state=42)"
   ]
  },
  {
   "cell_type": "code",
   "execution_count": 14,
   "id": "supreme-blank",
   "metadata": {},
   "outputs": [
    {
     "data": {
      "text/plain": [
       "((569, 100), (143, 100))"
      ]
     },
     "execution_count": 14,
     "metadata": {},
     "output_type": "execute_result"
    }
   ],
   "source": [
    "X_train.shape, X_test.shape"
   ]
  },
  {
   "cell_type": "code",
   "execution_count": 15,
   "id": "single-pointer",
   "metadata": {},
   "outputs": [],
   "source": [
    "clf = SVC(class_weight='balanced')"
   ]
  },
  {
   "cell_type": "code",
   "execution_count": 20,
   "id": "military-teaching",
   "metadata": {},
   "outputs": [
    {
     "data": {
      "text/plain": [
       "SVC(class_weight='balanced')"
      ]
     },
     "execution_count": 20,
     "metadata": {},
     "output_type": "execute_result"
    }
   ],
   "source": [
    "clf.fit(X_train, y_train)"
   ]
  },
  {
   "cell_type": "code",
   "execution_count": 21,
   "id": "specialized-diving",
   "metadata": {},
   "outputs": [],
   "source": [
    "y_pred = clf.predict(X_test)"
   ]
  },
  {
   "cell_type": "code",
   "execution_count": 22,
   "id": "corresponding-salmon",
   "metadata": {
    "scrolled": true
   },
   "outputs": [
    {
     "name": "stdout",
     "output_type": "stream",
     "text": [
      "Accuracy: 0.7273\n",
      "F1-score: 0.6829\n",
      "AUROC: 0.7235\n",
      "MCC: 0.4443\n",
      "              precision    recall  f1-score   support\n",
      "\n",
      "           0       0.78      0.75      0.76        83\n",
      "           1       0.67      0.70      0.68        60\n",
      "\n",
      "    accuracy                           0.73       143\n",
      "   macro avg       0.72      0.72      0.72       143\n",
      "weighted avg       0.73      0.73      0.73       143\n",
      "\n"
     ]
    }
   ],
   "source": [
    "get_score(y_test, y_pred)"
   ]
  },
  {
   "cell_type": "code",
   "execution_count": 23,
   "id": "ethical-association",
   "metadata": {},
   "outputs": [],
   "source": [
    "mcc_scorer = make_scorer(matthews_corrcoef)"
   ]
  },
  {
   "cell_type": "code",
   "execution_count": 49,
   "id": "streaming-federal",
   "metadata": {},
   "outputs": [],
   "source": [
    "param_grid = {'C':[0.01,0.1,1,100,1000],\n",
    "              'kernel': ['rbf','poly','sigmoid','linear'],\n",
    "              'degree': [1,2,3,4,5,6],\n",
    "              'gamma': ['scale', 'auto', 100, 10, 1, 0.1, 0.01, 0.001, 0.0001],\n",
    "              'coef0': [0.0,0.5,1,1.5,2,2.5,3],\n",
    "              'class_weight': ['balanced', None]\n",
    "             }\n",
    "# Create a based model\n",
    "clf = SVC()\n",
    "# Instantiate the grid search model\n",
    "grid_search = GridSearchCV(estimator = clf, param_grid = param_grid, \n",
    "                          cv = 10, n_jobs = -1, verbose = 1, scoring=mcc_scorer)"
   ]
  },
  {
   "cell_type": "code",
   "execution_count": 50,
   "id": "personal-floor",
   "metadata": {
    "scrolled": false
   },
   "outputs": [
    {
     "name": "stdout",
     "output_type": "stream",
     "text": [
      "Fitting 10 folds for each of 90 candidates, totalling 900 fits\n"
     ]
    },
    {
     "name": "stderr",
     "output_type": "stream",
     "text": [
      "[Parallel(n_jobs=-1)]: Using backend LokyBackend with 12 concurrent workers.\n",
      "[Parallel(n_jobs=-1)]: Done  28 tasks      | elapsed:    0.3s\n",
      "[Parallel(n_jobs=-1)]: Done 328 tasks      | elapsed:    1.8s\n",
      "[Parallel(n_jobs=-1)]: Done 828 tasks      | elapsed:    4.6s\n",
      "[Parallel(n_jobs=-1)]: Done 900 out of 900 | elapsed:    5.1s finished\n"
     ]
    },
    {
     "data": {
      "text/plain": [
       "GridSearchCV(cv=10, estimator=SVC(), n_jobs=-1,\n",
       "             param_grid={'C': [0.01, 0.1, 1, 100, 1000],\n",
       "                         'class_weight': ['balanced', None],\n",
       "                         'gamma': ['scale', 'auto', 100, 10, 1, 0.1, 0.01,\n",
       "                                   0.001, 0.0001],\n",
       "                         'kernel': ['rbf']},\n",
       "             scoring=make_scorer(matthews_corrcoef), verbose=1)"
      ]
     },
     "execution_count": 50,
     "metadata": {},
     "output_type": "execute_result"
    }
   ],
   "source": [
    "grid_search.fit(X_train, y_train)"
   ]
  },
  {
   "cell_type": "code",
   "execution_count": 51,
   "id": "improved-pixel",
   "metadata": {},
   "outputs": [
    {
     "data": {
      "text/plain": [
       "{'C': 100, 'class_weight': 'balanced', 'gamma': 100, 'kernel': 'rbf'}"
      ]
     },
     "execution_count": 51,
     "metadata": {},
     "output_type": "execute_result"
    }
   ],
   "source": [
    "grid_search.best_params_"
   ]
  },
  {
   "cell_type": "code",
   "execution_count": 52,
   "id": "visible-corruption",
   "metadata": {},
   "outputs": [],
   "source": [
    "best_grid = grid_search.best_estimator_"
   ]
  },
  {
   "cell_type": "code",
   "execution_count": 53,
   "id": "choice-soviet",
   "metadata": {},
   "outputs": [],
   "source": [
    "y_pred = best_grid.predict(X_test)"
   ]
  },
  {
   "cell_type": "code",
   "execution_count": 54,
   "id": "played-documentary",
   "metadata": {},
   "outputs": [
    {
     "name": "stdout",
     "output_type": "stream",
     "text": [
      "Accuracy: 0.6993\n",
      "F1-score: 0.6055\n",
      "AUROC: 0.6786\n",
      "MCC: 0.3714\n",
      "              precision    recall  f1-score   support\n",
      "\n",
      "           0       0.71      0.81      0.76        83\n",
      "           1       0.67      0.55      0.61        60\n",
      "\n",
      "    accuracy                           0.70       143\n",
      "   macro avg       0.69      0.68      0.68       143\n",
      "weighted avg       0.70      0.70      0.69       143\n",
      "\n"
     ]
    }
   ],
   "source": [
    "get_score(y_test, y_pred)"
   ]
  },
  {
   "cell_type": "code",
   "execution_count": 56,
   "id": "homeless-leader",
   "metadata": {},
   "outputs": [
    {
     "data": {
      "text/plain": [
       "0.48177106352327825"
      ]
     },
     "execution_count": 56,
     "metadata": {},
     "output_type": "execute_result"
    }
   ],
   "source": [
    "grid_search.best_score_"
   ]
  },
  {
   "cell_type": "markdown",
   "id": "large-writer",
   "metadata": {},
   "source": [
    "### ProtVec + AA frequence"
   ]
  },
  {
   "cell_type": "code",
   "execution_count": null,
   "id": "friendly-recovery",
   "metadata": {},
   "outputs": [],
   "source": [
    "aa_freq = reduce_by_kmer_frequency(df)"
   ]
  },
  {
   "cell_type": "code",
   "execution_count": null,
   "id": "approved-alert",
   "metadata": {},
   "outputs": [],
   "source": [
    "protvec_aa_freq = pd.concat([avg_vectors, aa_freq], axis=1)"
   ]
  },
  {
   "cell_type": "code",
   "execution_count": null,
   "id": "funded-rebecca",
   "metadata": {},
   "outputs": [],
   "source": [
    "X_train, X_test, y_train, y_test = train_test_split(protvec_aa_freq, df['lessthan5'], test_size=0.2, random_state=42)"
   ]
  },
  {
   "cell_type": "code",
   "execution_count": null,
   "id": "removable-covering",
   "metadata": {},
   "outputs": [],
   "source": [
    "X_train.shape, X_test.shape"
   ]
  },
  {
   "cell_type": "code",
   "execution_count": 49,
   "id": "distinct-shelter",
   "metadata": {},
   "outputs": [],
   "source": [
    "# Create the parameter grid based on the results of random search \n",
    "param_grid = {'C':[0.01,0.1,1,100,1000],\n",
    "              'kernel': ['rbf','poly','sigmoid','linear'],\n",
    "              #'degree': [1,2,3,4,5,6],\n",
    "              'gamma': ['scale', 'auto', 100, 10, 1, 0.1, 0.01, 0.001, 0.0001],\n",
    "              #'coef0': [0.0,0.5,1,1.5,2,2.5,3],\n",
    "              'class_weight': ['balanced', None]\n",
    "             }\n",
    "# Create a based model\n",
    "clf = SVC()\n",
    "# Instantiate the grid search model\n",
    "grid_search = GridSearchCV(estimator = clf, param_grid = param_grid, \n",
    "                          cv = 10, n_jobs = -1, verbose = 1, scoring=mcc_scorer)"
   ]
  },
  {
   "cell_type": "code",
   "execution_count": 50,
   "id": "romance-category",
   "metadata": {
    "scrolled": false
   },
   "outputs": [
    {
     "name": "stdout",
     "output_type": "stream",
     "text": [
      "Fitting 10 folds for each of 90 candidates, totalling 900 fits\n"
     ]
    },
    {
     "name": "stderr",
     "output_type": "stream",
     "text": [
      "[Parallel(n_jobs=-1)]: Using backend LokyBackend with 12 concurrent workers.\n",
      "[Parallel(n_jobs=-1)]: Done  28 tasks      | elapsed:    0.3s\n",
      "[Parallel(n_jobs=-1)]: Done 328 tasks      | elapsed:    1.8s\n",
      "[Parallel(n_jobs=-1)]: Done 828 tasks      | elapsed:    4.6s\n",
      "[Parallel(n_jobs=-1)]: Done 900 out of 900 | elapsed:    5.1s finished\n"
     ]
    },
    {
     "data": {
      "text/plain": [
       "GridSearchCV(cv=10, estimator=SVC(), n_jobs=-1,\n",
       "             param_grid={'C': [0.01, 0.1, 1, 100, 1000],\n",
       "                         'class_weight': ['balanced', None],\n",
       "                         'gamma': ['scale', 'auto', 100, 10, 1, 0.1, 0.01,\n",
       "                                   0.001, 0.0001],\n",
       "                         'kernel': ['rbf']},\n",
       "             scoring=make_scorer(matthews_corrcoef), verbose=1)"
      ]
     },
     "execution_count": 50,
     "metadata": {},
     "output_type": "execute_result"
    }
   ],
   "source": [
    "grid_search.fit(X_train, y_train)"
   ]
  },
  {
   "cell_type": "code",
   "execution_count": 51,
   "id": "happy-learning",
   "metadata": {},
   "outputs": [
    {
     "data": {
      "text/plain": [
       "{'C': 100, 'class_weight': 'balanced', 'gamma': 100, 'kernel': 'rbf'}"
      ]
     },
     "execution_count": 51,
     "metadata": {},
     "output_type": "execute_result"
    }
   ],
   "source": [
    "grid_search.best_params_"
   ]
  },
  {
   "cell_type": "code",
   "execution_count": 52,
   "id": "cathedral-match",
   "metadata": {},
   "outputs": [],
   "source": [
    "best_grid = grid_search.best_estimator_"
   ]
  },
  {
   "cell_type": "code",
   "execution_count": 53,
   "id": "initial-sunset",
   "metadata": {},
   "outputs": [],
   "source": [
    "y_pred = best_grid.predict(X_test)"
   ]
  },
  {
   "cell_type": "code",
   "execution_count": 54,
   "id": "centered-wilderness",
   "metadata": {},
   "outputs": [
    {
     "name": "stdout",
     "output_type": "stream",
     "text": [
      "Accuracy: 0.6993\n",
      "F1-score: 0.6055\n",
      "AUROC: 0.6786\n",
      "MCC: 0.3714\n",
      "              precision    recall  f1-score   support\n",
      "\n",
      "           0       0.71      0.81      0.76        83\n",
      "           1       0.67      0.55      0.61        60\n",
      "\n",
      "    accuracy                           0.70       143\n",
      "   macro avg       0.69      0.68      0.68       143\n",
      "weighted avg       0.70      0.70      0.69       143\n",
      "\n"
     ]
    }
   ],
   "source": [
    "get_score(y_test, y_pred)"
   ]
  },
  {
   "cell_type": "markdown",
   "id": "living-identification",
   "metadata": {},
   "source": [
    "### ProtVec + dipep freq"
   ]
  },
  {
   "cell_type": "code",
   "execution_count": null,
   "id": "rough-victor",
   "metadata": {},
   "outputs": [],
   "source": [
    "dipep_freq = reduce_by_kmer_frequency(df, kmer=2)"
   ]
  },
  {
   "cell_type": "code",
   "execution_count": null,
   "id": "imperial-expense",
   "metadata": {},
   "outputs": [],
   "source": [
    "protvec_dipep_freq = pd.concat([avg_vectors, dipep_freq], axis=1)"
   ]
  },
  {
   "cell_type": "code",
   "execution_count": null,
   "id": "dirty-export",
   "metadata": {},
   "outputs": [],
   "source": [
    "X_train, X_test, y_train, y_test = train_test_split(protvec_dipep_freq, df['lessthan5'], test_size=0.2, random_state=42)"
   ]
  },
  {
   "cell_type": "code",
   "execution_count": null,
   "id": "legendary-aquarium",
   "metadata": {},
   "outputs": [],
   "source": [
    "X_train.shape, X_test.shape"
   ]
  },
  {
   "cell_type": "code",
   "execution_count": 49,
   "id": "institutional-stations",
   "metadata": {},
   "outputs": [],
   "source": [
    "# Create the parameter grid based on the results of random search \n",
    "param_grid = {'C':[0.01,0.1,1,100,1000],\n",
    "              'kernel': ['rbf','poly','sigmoid','linear'],\n",
    "              'degree': [1,2,3,4,5,6],\n",
    "              'gamma': ['scale', 'auto', 100, 10, 1, 0.1, 0.01, 0.001, 0.0001],\n",
    "              'coef0': [0.0,0.5,1,1.5,2,2.5,3],\n",
    "              'class_weight': ['balanced', None]\n",
    "             }\n",
    "# Create a based model\n",
    "clf = SVC()\n",
    "# Instantiate the grid search model\n",
    "grid_search = GridSearchCV(estimator = clf, param_grid = param_grid, \n",
    "                          cv = 10, n_jobs = -1, verbose = 1, scoring=mcc_scorer)"
   ]
  },
  {
   "cell_type": "code",
   "execution_count": 50,
   "id": "minimal-buffer",
   "metadata": {
    "scrolled": false
   },
   "outputs": [
    {
     "name": "stdout",
     "output_type": "stream",
     "text": [
      "Fitting 10 folds for each of 90 candidates, totalling 900 fits\n"
     ]
    },
    {
     "name": "stderr",
     "output_type": "stream",
     "text": [
      "[Parallel(n_jobs=-1)]: Using backend LokyBackend with 12 concurrent workers.\n",
      "[Parallel(n_jobs=-1)]: Done  28 tasks      | elapsed:    0.3s\n",
      "[Parallel(n_jobs=-1)]: Done 328 tasks      | elapsed:    1.8s\n",
      "[Parallel(n_jobs=-1)]: Done 828 tasks      | elapsed:    4.6s\n",
      "[Parallel(n_jobs=-1)]: Done 900 out of 900 | elapsed:    5.1s finished\n"
     ]
    },
    {
     "data": {
      "text/plain": [
       "GridSearchCV(cv=10, estimator=SVC(), n_jobs=-1,\n",
       "             param_grid={'C': [0.01, 0.1, 1, 100, 1000],\n",
       "                         'class_weight': ['balanced', None],\n",
       "                         'gamma': ['scale', 'auto', 100, 10, 1, 0.1, 0.01,\n",
       "                                   0.001, 0.0001],\n",
       "                         'kernel': ['rbf']},\n",
       "             scoring=make_scorer(matthews_corrcoef), verbose=1)"
      ]
     },
     "execution_count": 50,
     "metadata": {},
     "output_type": "execute_result"
    }
   ],
   "source": [
    "grid_search.fit(X_train, y_train)"
   ]
  },
  {
   "cell_type": "code",
   "execution_count": 51,
   "id": "unknown-element",
   "metadata": {},
   "outputs": [
    {
     "data": {
      "text/plain": [
       "{'C': 100, 'class_weight': 'balanced', 'gamma': 100, 'kernel': 'rbf'}"
      ]
     },
     "execution_count": 51,
     "metadata": {},
     "output_type": "execute_result"
    }
   ],
   "source": [
    "grid_search.best_params_"
   ]
  },
  {
   "cell_type": "code",
   "execution_count": 52,
   "id": "ceramic-dover",
   "metadata": {},
   "outputs": [],
   "source": [
    "best_grid = grid_search.best_estimator_"
   ]
  },
  {
   "cell_type": "code",
   "execution_count": 53,
   "id": "positive-freight",
   "metadata": {},
   "outputs": [],
   "source": [
    "y_pred = best_grid.predict(X_test)"
   ]
  },
  {
   "cell_type": "code",
   "execution_count": 54,
   "id": "simple-watch",
   "metadata": {},
   "outputs": [
    {
     "name": "stdout",
     "output_type": "stream",
     "text": [
      "Accuracy: 0.6993\n",
      "F1-score: 0.6055\n",
      "AUROC: 0.6786\n",
      "MCC: 0.3714\n",
      "              precision    recall  f1-score   support\n",
      "\n",
      "           0       0.71      0.81      0.76        83\n",
      "           1       0.67      0.55      0.61        60\n",
      "\n",
      "    accuracy                           0.70       143\n",
      "   macro avg       0.69      0.68      0.68       143\n",
      "weighted avg       0.70      0.70      0.69       143\n",
      "\n"
     ]
    }
   ],
   "source": [
    "get_score(y_test, y_pred)"
   ]
  },
  {
   "cell_type": "markdown",
   "id": "waiting-snake",
   "metadata": {},
   "source": [
    "### ProtVec + AA frequence + Dipeptide frequency"
   ]
  },
  {
   "cell_type": "code",
   "execution_count": null,
   "id": "genuine-sustainability",
   "metadata": {},
   "outputs": [],
   "source": [
    "protvec_aa_dipep = pd.concat([avg_vectors, aa_freq, dipep_freq], axis=1)"
   ]
  },
  {
   "cell_type": "code",
   "execution_count": null,
   "id": "suspended-western",
   "metadata": {},
   "outputs": [],
   "source": [
    "X_train, X_test, y_train, y_test = train_test_split(protvec_aa_dipep, df['lessthan5'], test_size=0.2, random_state=42)"
   ]
  },
  {
   "cell_type": "code",
   "execution_count": null,
   "id": "prerequisite-turtle",
   "metadata": {},
   "outputs": [],
   "source": [
    "X_train.shape, X_test.shape"
   ]
  },
  {
   "cell_type": "code",
   "execution_count": 49,
   "id": "typical-liquid",
   "metadata": {},
   "outputs": [],
   "source": [
    "# Create the parameter grid based on the results of random search \n",
    "param_grid = {'C':[0.01,0.1,1,100,1000],\n",
    "              'kernel': ['rbf','poly','sigmoid','linear'],\n",
    "              'degree': [1,2,3,4,5,6],\n",
    "              'gamma': ['scale', 'auto', 100, 10, 1, 0.1, 0.01, 0.001, 0.0001],\n",
    "              'coef0': [0.0,0.5,1,1.5,2,2.5,3],\n",
    "              'class_weight': ['balanced', None]\n",
    "             }\n",
    "# Create a based model\n",
    "clf = SVC()\n",
    "# Instantiate the grid search model\n",
    "grid_search = GridSearchCV(estimator = clf, param_grid = param_grid, \n",
    "                          cv = 10, n_jobs = -1, verbose = 1, scoring=mcc_scorer)"
   ]
  },
  {
   "cell_type": "code",
   "execution_count": 50,
   "id": "confidential-stock",
   "metadata": {
    "scrolled": false
   },
   "outputs": [
    {
     "name": "stdout",
     "output_type": "stream",
     "text": [
      "Fitting 10 folds for each of 90 candidates, totalling 900 fits\n"
     ]
    },
    {
     "name": "stderr",
     "output_type": "stream",
     "text": [
      "[Parallel(n_jobs=-1)]: Using backend LokyBackend with 12 concurrent workers.\n",
      "[Parallel(n_jobs=-1)]: Done  28 tasks      | elapsed:    0.3s\n",
      "[Parallel(n_jobs=-1)]: Done 328 tasks      | elapsed:    1.8s\n",
      "[Parallel(n_jobs=-1)]: Done 828 tasks      | elapsed:    4.6s\n",
      "[Parallel(n_jobs=-1)]: Done 900 out of 900 | elapsed:    5.1s finished\n"
     ]
    },
    {
     "data": {
      "text/plain": [
       "GridSearchCV(cv=10, estimator=SVC(), n_jobs=-1,\n",
       "             param_grid={'C': [0.01, 0.1, 1, 100, 1000],\n",
       "                         'class_weight': ['balanced', None],\n",
       "                         'gamma': ['scale', 'auto', 100, 10, 1, 0.1, 0.01,\n",
       "                                   0.001, 0.0001],\n",
       "                         'kernel': ['rbf']},\n",
       "             scoring=make_scorer(matthews_corrcoef), verbose=1)"
      ]
     },
     "execution_count": 50,
     "metadata": {},
     "output_type": "execute_result"
    }
   ],
   "source": [
    "grid_search.fit(X_train, y_train)"
   ]
  },
  {
   "cell_type": "code",
   "execution_count": 51,
   "id": "quantitative-uzbekistan",
   "metadata": {},
   "outputs": [
    {
     "data": {
      "text/plain": [
       "{'C': 100, 'class_weight': 'balanced', 'gamma': 100, 'kernel': 'rbf'}"
      ]
     },
     "execution_count": 51,
     "metadata": {},
     "output_type": "execute_result"
    }
   ],
   "source": [
    "grid_search.best_params_"
   ]
  },
  {
   "cell_type": "code",
   "execution_count": 52,
   "id": "ranking-batman",
   "metadata": {},
   "outputs": [],
   "source": [
    "best_grid = grid_search.best_estimator_"
   ]
  },
  {
   "cell_type": "code",
   "execution_count": 53,
   "id": "composed-profession",
   "metadata": {},
   "outputs": [],
   "source": [
    "y_pred = best_grid.predict(X_test)"
   ]
  },
  {
   "cell_type": "code",
   "execution_count": 54,
   "id": "specialized-disease",
   "metadata": {},
   "outputs": [
    {
     "name": "stdout",
     "output_type": "stream",
     "text": [
      "Accuracy: 0.6993\n",
      "F1-score: 0.6055\n",
      "AUROC: 0.6786\n",
      "MCC: 0.3714\n",
      "              precision    recall  f1-score   support\n",
      "\n",
      "           0       0.71      0.81      0.76        83\n",
      "           1       0.67      0.55      0.61        60\n",
      "\n",
      "    accuracy                           0.70       143\n",
      "   macro avg       0.69      0.68      0.68       143\n",
      "weighted avg       0.70      0.70      0.69       143\n",
      "\n"
     ]
    }
   ],
   "source": [
    "get_score(y_test, y_pred)"
   ]
  },
  {
   "cell_type": "code",
   "execution_count": 72,
   "id": "interracial-interface",
   "metadata": {},
   "outputs": [],
   "source": [
    "shannon_entropy = pd.read_csv(\"data/pfeature/ha_avp_ic50_shannon_entropy.csv\")\n",
    "residue_repeats = pd.read_csv(\"data/pfeature/ha_avp_ic50_residue_repeat.csv\")"
   ]
  },
  {
   "cell_type": "code",
   "execution_count": 79,
   "id": "fabulous-graphics",
   "metadata": {},
   "outputs": [],
   "source": [
    "with open(\"test.csv\", \"w\") as f:\n",
    "    f.write(\", \".join([\"1\", \"2\", \"3\", \"4\", \"5\"])+\"\\n\")"
   ]
  },
  {
   "cell_type": "code",
   "execution_count": 80,
   "id": "conditional-branch",
   "metadata": {},
   "outputs": [],
   "source": [
    "for i in range(5):\n",
    "    with open(\"test.csv\", \"a\") as f:\n",
    "        f.write(\", \".join(map(lambda x:str(i*x), [2,3,4,5,6]))+\"\\n\")"
   ]
  },
  {
   "cell_type": "code",
   "execution_count": null,
   "id": "pretty-summer",
   "metadata": {},
   "outputs": [],
   "source": []
  }
 ],
 "metadata": {
  "kernelspec": {
   "display_name": "Python 3",
   "language": "python",
   "name": "python3"
  },
  "language_info": {
   "codemirror_mode": {
    "name": "ipython",
    "version": 3
   },
   "file_extension": ".py",
   "mimetype": "text/x-python",
   "name": "python",
   "nbconvert_exporter": "python",
   "pygments_lexer": "ipython3",
   "version": "3.6.10"
  }
 },
 "nbformat": 4,
 "nbformat_minor": 5
}
