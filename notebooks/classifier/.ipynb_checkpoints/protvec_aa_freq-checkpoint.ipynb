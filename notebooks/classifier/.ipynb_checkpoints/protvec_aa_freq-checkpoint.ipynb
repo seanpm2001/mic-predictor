{
 "cells": [
  {
   "cell_type": "code",
   "execution_count": 1,
   "id": "roman-intake",
   "metadata": {},
   "outputs": [
    {
     "data": {
      "text/plain": [
       "'/Users/in-divye.singh/Documents/Projects/MIC_predictor/notebooks/classifier'"
      ]
     },
     "execution_count": 1,
     "metadata": {},
     "output_type": "execute_result"
    }
   ],
   "source": [
    "pwd"
   ]
  },
  {
   "cell_type": "code",
   "execution_count": 2,
   "id": "narrative-italian",
   "metadata": {},
   "outputs": [
    {
     "name": "stdout",
     "output_type": "stream",
     "text": [
      "/Users/in-divye.singh/Documents/Projects/MIC_predictor\n"
     ]
    }
   ],
   "source": [
    "cd ../../"
   ]
  },
  {
   "cell_type": "code",
   "execution_count": 3,
   "id": "developmental-dimension",
   "metadata": {},
   "outputs": [],
   "source": [
    "from notebooks.utils import *"
   ]
  },
  {
   "cell_type": "code",
   "execution_count": 20,
   "id": "together-outside",
   "metadata": {},
   "outputs": [],
   "source": [
    "import biovec\n",
    "import numpy as np\n",
    "import pandas as pd\n",
    "from itertools import chain\n",
    "from collections import Counter"
   ]
  },
  {
   "cell_type": "code",
   "execution_count": 5,
   "id": "sudden-recipient",
   "metadata": {},
   "outputs": [],
   "source": [
    "import matplotlib.pyplot as plt\n",
    "import seaborn as sns"
   ]
  },
  {
   "cell_type": "code",
   "execution_count": 95,
   "id": "convenient-vintage",
   "metadata": {},
   "outputs": [],
   "source": [
    "from sklearn.svm import SVC\n",
    "from sklearn.metrics import make_scorer\n",
    "from sklearn.model_selection import GridSearchCV\n",
    "from sklearn.ensemble import RandomForestClassifier\n",
    "from sklearn.metrics import accuracy_score, f1_score, roc_auc_score, matthews_corrcoef\n",
    "from sklearn.metrics import classification_report, confusion_matrix, make_scorer\n",
    "from sklearn.model_selection import train_test_split"
   ]
  },
  {
   "cell_type": "code",
   "execution_count": 7,
   "id": "breeding-furniture",
   "metadata": {},
   "outputs": [],
   "source": [
    "from sklearn.manifold import TSNE\n",
    "from sklearn.decomposition import PCA"
   ]
  },
  {
   "cell_type": "code",
   "execution_count": 64,
   "id": "opposite-diamond",
   "metadata": {},
   "outputs": [],
   "source": [
    "avp_ic50 = pd.read_csv(\"data/raw/AVP-IC50Pred_train.csv\")\n",
    "ha_avp = pd.read_csv(\"data/raw/HA_AVP.csv\")\n",
    "\n",
    "df = pd.concat([avp_ic50[['Sequence','MIC']], ha_avp], axis=0).drop_duplicates(['Sequence']).reset_index(drop=True)\n",
    "df = sequence_filtering(df)"
   ]
  },
  {
   "cell_type": "code",
   "execution_count": 65,
   "id": "brutal-basket",
   "metadata": {},
   "outputs": [],
   "source": [
    "df['lessthan5'] = df['MIC'].apply(lambda mic: 1 if mic <= 5 else 0)"
   ]
  },
  {
   "cell_type": "code",
   "execution_count": 66,
   "id": "formal-calibration",
   "metadata": {},
   "outputs": [
    {
     "data": {
      "text/plain": [
       "<matplotlib.axes._subplots.AxesSubplot at 0x1a1d2d22e8>"
      ]
     },
     "execution_count": 66,
     "metadata": {},
     "output_type": "execute_result"
    },
    {
     "data": {
      "image/png": "[encoded data removed]",
      "text/plain": [
       "<Figure size 432x288 with 1 Axes>"
      ]
     },
     "metadata": {
      "needs_background": "light"
     },
     "output_type": "display_data"
    }
   ],
   "source": [
    "count = dict(Counter(df['lessthan5']))\n",
    "sns.barplot(x = [str(k) for k in count.keys()], y=[float(v) for v in count.values()])"
   ]
  },
  {
   "cell_type": "code",
   "execution_count": 78,
   "id": "rolled-worthy",
   "metadata": {},
   "outputs": [],
   "source": [
    "def get_score(y_true, y_pred):\n",
    "    print(f'Accuracy: {round(accuracy_score(y_true, y_pred), 4)}')\n",
    "    print(f'F1-score: {round(f1_score(y_true, y_pred), 4)}')\n",
    "    print(f'AUROC: {round(roc_auc_score(y_true, y_pred), 4)}')\n",
    "    print(f'MCC: {round(matthews_corrcoef(y_true, y_pred), 4)}')\n",
    "    print(classification_report(y_test, y_pred))"
   ]
  },
  {
   "cell_type": "markdown",
   "id": "double-sunday",
   "metadata": {},
   "source": [
    "### AA frequency"
   ]
  },
  {
   "cell_type": "code",
   "execution_count": 13,
   "id": "assured-speaking",
   "metadata": {},
   "outputs": [],
   "source": [
    "aa_freq = reduce_by_kmer_frequency(df)"
   ]
  },
  {
   "cell_type": "code",
   "execution_count": 15,
   "id": "emotional-community",
   "metadata": {},
   "outputs": [],
   "source": [
    "X_train, X_test, y_train, y_test = train_test_split(aa_freq, df['lessthan5'], test_size=0.2, random_state=42)"
   ]
  },
  {
   "cell_type": "code",
   "execution_count": 16,
   "id": "junior-premises",
   "metadata": {},
   "outputs": [
    {
     "data": {
      "text/plain": [
       "((569, 20), (143, 20))"
      ]
     },
     "execution_count": 16,
     "metadata": {},
     "output_type": "execute_result"
    }
   ],
   "source": [
    "X_train.shape, X_test.shape"
   ]
  },
  {
   "cell_type": "code",
   "execution_count": 73,
   "id": "informational-conference",
   "metadata": {},
   "outputs": [],
   "source": [
    "rf = RandomForestClassifier(class_weight=\"balanced\")"
   ]
  },
  {
   "cell_type": "code",
   "execution_count": 74,
   "id": "blind-environment",
   "metadata": {},
   "outputs": [
    {
     "data": {
      "text/plain": [
       "RandomForestClassifier(class_weight='balanced')"
      ]
     },
     "execution_count": 74,
     "metadata": {},
     "output_type": "execute_result"
    }
   ],
   "source": [
    "rf.fit(X_train, y_train)"
   ]
  },
  {
   "cell_type": "code",
   "execution_count": 79,
   "id": "specific-cisco",
   "metadata": {},
   "outputs": [],
   "source": [
    "y_pred = rf.predict(X_test)"
   ]
  },
  {
   "cell_type": "code",
   "execution_count": 80,
   "id": "greenhouse-religion",
   "metadata": {},
   "outputs": [
    {
     "name": "stdout",
     "output_type": "stream",
     "text": [
      "Accuracy: 0.7133\n",
      "F1-score: 0.687\n",
      "AUROC: 0.7184\n",
      "MCC: 0.4311\n",
      "              precision    recall  f1-score   support\n",
      "\n",
      "           0       0.79      0.69      0.74        83\n",
      "           1       0.63      0.75      0.69        60\n",
      "\n",
      "    accuracy                           0.71       143\n",
      "   macro avg       0.71      0.72      0.71       143\n",
      "weighted avg       0.73      0.71      0.72       143\n",
      "\n"
     ]
    }
   ],
   "source": [
    "get_score(y_test, y_pred)"
   ]
  },
  {
   "cell_type": "markdown",
   "id": "statutory-florence",
   "metadata": {},
   "source": [
    "### Dipeptide frequency"
   ]
  },
  {
   "cell_type": "code",
   "execution_count": 81,
   "id": "aerial-metallic",
   "metadata": {},
   "outputs": [],
   "source": [
    "dipep_freq = reduce_by_kmer_frequency(df, kmer=2)"
   ]
  },
  {
   "cell_type": "code",
   "execution_count": 82,
   "id": "grave-emerald",
   "metadata": {},
   "outputs": [],
   "source": [
    "X_train, X_test, y_train, y_test = train_test_split(dipep_freq, df['lessthan5'], test_size=0.2, random_state=42)"
   ]
  },
  {
   "cell_type": "code",
   "execution_count": 83,
   "id": "eight-costa",
   "metadata": {},
   "outputs": [
    {
     "data": {
      "text/plain": [
       "((569, 400), (143, 400))"
      ]
     },
     "execution_count": 83,
     "metadata": {},
     "output_type": "execute_result"
    }
   ],
   "source": [
    "X_train.shape, X_test.shape"
   ]
  },
  {
   "cell_type": "code",
   "execution_count": 84,
   "id": "iraqi-indiana",
   "metadata": {},
   "outputs": [],
   "source": [
    "rf = RandomForestClassifier(class_weight=\"balanced\")"
   ]
  },
  {
   "cell_type": "code",
   "execution_count": 85,
   "id": "animated-restriction",
   "metadata": {},
   "outputs": [
    {
     "data": {
      "text/plain": [
       "RandomForestClassifier(class_weight='balanced')"
      ]
     },
     "execution_count": 85,
     "metadata": {},
     "output_type": "execute_result"
    }
   ],
   "source": [
    "rf.fit(X_train, y_train)"
   ]
  },
  {
   "cell_type": "code",
   "execution_count": 86,
   "id": "funny-concentrate",
   "metadata": {},
   "outputs": [],
   "source": [
    "y_pred = rf.predict(X_test)"
   ]
  },
  {
   "cell_type": "code",
   "execution_count": 87,
   "id": "female-natural",
   "metadata": {},
   "outputs": [
    {
     "name": "stdout",
     "output_type": "stream",
     "text": [
      "Accuracy: 0.7413\n",
      "F1-score: 0.6992\n",
      "AUROC: 0.7379\n",
      "MCC: 0.4729\n",
      "              precision    recall  f1-score   support\n",
      "\n",
      "           0       0.79      0.76      0.77        83\n",
      "           1       0.68      0.72      0.70        60\n",
      "\n",
      "    accuracy                           0.74       143\n",
      "   macro avg       0.74      0.74      0.74       143\n",
      "weighted avg       0.74      0.74      0.74       143\n",
      "\n"
     ]
    }
   ],
   "source": [
    "get_score(y_test, y_pred)"
   ]
  },
  {
   "cell_type": "markdown",
   "id": "timely-familiar",
   "metadata": {},
   "source": [
    "### AA freq + dipep freq"
   ]
  },
  {
   "cell_type": "code",
   "execution_count": 88,
   "id": "applied-refund",
   "metadata": {},
   "outputs": [],
   "source": [
    "aa_dipep_freq = pd.concat([aa_freq, dipep_freq], axis=1)"
   ]
  },
  {
   "cell_type": "code",
   "execution_count": 89,
   "id": "occupational-tamil",
   "metadata": {},
   "outputs": [],
   "source": [
    "X_train, X_test, y_train, y_test = train_test_split(aa_dipep_freq, df['lessthan5'], test_size=0.2, random_state=42)"
   ]
  },
  {
   "cell_type": "code",
   "execution_count": 90,
   "id": "innocent-proceeding",
   "metadata": {},
   "outputs": [
    {
     "data": {
      "text/plain": [
       "((569, 420), (143, 420))"
      ]
     },
     "execution_count": 90,
     "metadata": {},
     "output_type": "execute_result"
    }
   ],
   "source": [
    "X_train.shape, X_test.shape"
   ]
  },
  {
   "cell_type": "code",
   "execution_count": 91,
   "id": "domestic-orange",
   "metadata": {},
   "outputs": [],
   "source": [
    "rf = RandomForestClassifier(class_weight=\"balanced\")"
   ]
  },
  {
   "cell_type": "code",
   "execution_count": 92,
   "id": "expired-martin",
   "metadata": {},
   "outputs": [
    {
     "data": {
      "text/plain": [
       "RandomForestClassifier(class_weight='balanced')"
      ]
     },
     "execution_count": 92,
     "metadata": {},
     "output_type": "execute_result"
    }
   ],
   "source": [
    "rf.fit(X_train, y_train)"
   ]
  },
  {
   "cell_type": "code",
   "execution_count": 93,
   "id": "liquid-knowing",
   "metadata": {},
   "outputs": [],
   "source": [
    "y_pred = rf.predict(X_test)"
   ]
  },
  {
   "cell_type": "code",
   "execution_count": 94,
   "id": "entitled-fields",
   "metadata": {},
   "outputs": [
    {
     "name": "stdout",
     "output_type": "stream",
     "text": [
      "Accuracy: 0.7552\n",
      "F1-score: 0.7154\n",
      "AUROC: 0.7522\n",
      "MCC: 0.5014\n",
      "              precision    recall  f1-score   support\n",
      "\n",
      "           0       0.80      0.77      0.79        83\n",
      "           1       0.70      0.73      0.72        60\n",
      "\n",
      "    accuracy                           0.76       143\n",
      "   macro avg       0.75      0.75      0.75       143\n",
      "weighted avg       0.76      0.76      0.76       143\n",
      "\n"
     ]
    }
   ],
   "source": [
    "get_score(y_test, y_pred)"
   ]
  },
  {
   "cell_type": "markdown",
   "id": "boxed-domestic",
   "metadata": {},
   "source": [
    "### Hyperparameter tuning"
   ]
  },
  {
   "cell_type": "code",
   "execution_count": 96,
   "id": "fresh-float",
   "metadata": {},
   "outputs": [],
   "source": [
    "mcc_scorer = make_scorer(matthews_corrcoef)"
   ]
  },
  {
   "cell_type": "code",
   "execution_count": 101,
   "id": "based-cabin",
   "metadata": {},
   "outputs": [],
   "source": [
    "# Create the parameter grid based on the results of random search \n",
    "param_grid = {\n",
    "    'max_depth': [None, 80, 90, 100, 110],\n",
    "    'max_features': ['auto', 2, 3],\n",
    "    'min_samples_leaf': [1, 2, 3, 4, 5],\n",
    "    'min_samples_split': [2, 8, 10, 12],\n",
    "    'n_estimators': [100, 200, 300, 500]\n",
    "}\n",
    "# Create a based model\n",
    "rf = RandomForestClassifier(class_weight=\"balanced\")\n",
    "# Instantiate the grid search model\n",
    "grid_search = GridSearchCV(estimator = rf, param_grid = param_grid, \n",
    "                          cv = 3, n_jobs = -1, verbose = 1, scoring=mcc_scorer)"
   ]
  },
  {
   "cell_type": "code",
   "execution_count": 102,
   "id": "cathedral-honey",
   "metadata": {
    "scrolled": false
   },
   "outputs": [
    {
     "name": "stdout",
     "output_type": "stream",
     "text": [
      "Fitting 3 folds for each of 1200 candidates, totalling 3600 fits\n"
     ]
    },
    {
     "name": "stderr",
     "output_type": "stream",
     "text": [
      "[Parallel(n_jobs=-1)]: Using backend LokyBackend with 12 concurrent workers.\n",
      "[Parallel(n_jobs=-1)]: Done  26 tasks      | elapsed:    4.3s\n",
      "[Parallel(n_jobs=-1)]: Done 176 tasks      | elapsed:   16.6s\n",
      "[Parallel(n_jobs=-1)]: Done 426 tasks      | elapsed:   35.7s\n",
      "[Parallel(n_jobs=-1)]: Done 776 tasks      | elapsed:  1.1min\n",
      "[Parallel(n_jobs=-1)]: Done 1226 tasks      | elapsed:  1.7min\n",
      "[Parallel(n_jobs=-1)]: Done 1776 tasks      | elapsed:  2.6min\n",
      "[Parallel(n_jobs=-1)]: Done 2426 tasks      | elapsed:  4.1min\n",
      "[Parallel(n_jobs=-1)]: Done 3176 tasks      | elapsed:  6.0min\n",
      "[Parallel(n_jobs=-1)]: Done 3600 out of 3600 | elapsed:  6.9min finished\n"
     ]
    },
    {
     "data": {
      "text/plain": [
       "GridSearchCV(cv=3, estimator=RandomForestClassifier(class_weight='balanced'),\n",
       "             n_jobs=-1,\n",
       "             param_grid={'max_depth': [None, 80, 90, 100, 110],\n",
       "                         'max_features': ['auto', 2, 3],\n",
       "                         'min_samples_leaf': [1, 2, 3, 4, 5],\n",
       "                         'min_samples_split': [2, 8, 10, 12],\n",
       "                         'n_estimators': [100, 200, 300, 500]},\n",
       "             scoring=make_scorer(matthews_corrcoef), verbose=1)"
      ]
     },
     "execution_count": 102,
     "metadata": {},
     "output_type": "execute_result"
    }
   ],
   "source": [
    "grid_search.fit(X_train, y_train)"
   ]
  },
  {
   "cell_type": "code",
   "execution_count": 103,
   "id": "naval-satisfaction",
   "metadata": {},
   "outputs": [
    {
     "data": {
      "text/plain": [
       "{'max_depth': 80,\n",
       " 'max_features': 2,\n",
       " 'min_samples_leaf': 1,\n",
       " 'min_samples_split': 10,\n",
       " 'n_estimators': 300}"
      ]
     },
     "execution_count": 103,
     "metadata": {},
     "output_type": "execute_result"
    }
   ],
   "source": [
    "grid_search.best_params_"
   ]
  },
  {
   "cell_type": "code",
   "execution_count": 104,
   "id": "corresponding-movie",
   "metadata": {},
   "outputs": [],
   "source": [
    "best_grid = grid_search.best_estimator_"
   ]
  },
  {
   "cell_type": "code",
   "execution_count": 105,
   "id": "refined-progressive",
   "metadata": {},
   "outputs": [],
   "source": [
    "y_pred = best_grid.predict(X_test)"
   ]
  },
  {
   "cell_type": "code",
   "execution_count": 106,
   "id": "human-adams",
   "metadata": {},
   "outputs": [
    {
     "name": "stdout",
     "output_type": "stream",
     "text": [
      "Accuracy: 0.7692\n",
      "F1-score: 0.7317\n",
      "AUROC: 0.7666\n",
      "MCC: 0.5299\n",
      "              precision    recall  f1-score   support\n",
      "\n",
      "           0       0.81      0.78      0.80        83\n",
      "           1       0.71      0.75      0.73        60\n",
      "\n",
      "    accuracy                           0.77       143\n",
      "   macro avg       0.76      0.77      0.76       143\n",
      "weighted avg       0.77      0.77      0.77       143\n",
      "\n"
     ]
    }
   ],
   "source": [
    "get_score(y_test, y_pred)"
   ]
  },
  {
   "cell_type": "markdown",
   "id": "passive-place",
   "metadata": {},
   "source": [
    "### feature selection"
   ]
  },
  {
   "cell_type": "code",
   "execution_count": 175,
   "id": "wicked-child",
   "metadata": {},
   "outputs": [],
   "source": [
    "from mlxtend.feature_selection import SequentialFeatureSelector"
   ]
  },
  {
   "cell_type": "code",
   "execution_count": 155,
   "id": "passive-august",
   "metadata": {},
   "outputs": [],
   "source": [
    "rf_clf = RandomForestClassifier(class_weight='balanced', max_depth=80, max_features=0.005, min_samples_leaf=1,\n",
    "                                min_samples_split=10, n_estimators=300)"
   ]
  },
  {
   "cell_type": "code",
   "execution_count": 178,
   "id": "amended-tennessee",
   "metadata": {},
   "outputs": [],
   "source": [
    "selector = SequentialFeatureSelector(rf_clf, k_features='best', forward=False, verbose=2,\n",
    "                                     scoring=mcc_scorer, cv=5, n_jobs=-1)"
   ]
  },
  {
   "cell_type": "code",
   "execution_count": 179,
   "id": "changed-picking",
   "metadata": {
    "scrolled": true
   },
   "outputs": [
    {
     "name": "stderr",
     "output_type": "stream",
     "text": [
      "[Parallel(n_jobs=-1)]: Using backend LokyBackend with 12 concurrent workers.\n",
      "[Parallel(n_jobs=-1)]: Done  17 tasks      | elapsed:   11.5s\n",
      "[Parallel(n_jobs=-1)]: Done 138 tasks      | elapsed:  1.2min\n",
      "[Parallel(n_jobs=-1)]: Done 341 tasks      | elapsed:  2.8min\n",
      "[Parallel(n_jobs=-1)]: Done 420 out of 420 | elapsed:  3.5min finished\n",
      "\n",
      "[2021-02-28 17:37:11] Features: 419/1 -- score: 0.4315803053188172[Parallel(n_jobs=-1)]: Using backend LokyBackend with 12 concurrent workers.\n",
      "[Parallel(n_jobs=-1)]: Done  17 tasks      | elapsed:   12.5s\n",
      "[Parallel(n_jobs=-1)]: Done 138 tasks      | elapsed:  1.3min\n",
      "[Parallel(n_jobs=-1)]: Done 341 tasks      | elapsed:  3.2min\n",
      "[Parallel(n_jobs=-1)]: Done 419 out of 419 | elapsed:  3.9min finished\n",
      "\n",
      "[2021-02-28 17:41:07] Features: 418/1 -- score: 0.43851886798275874[Parallel(n_jobs=-1)]: Using backend LokyBackend with 12 concurrent workers.\n",
      "[Parallel(n_jobs=-1)]: Done  17 tasks      | elapsed:   12.8s\n",
      "[Parallel(n_jobs=-1)]: Done 138 tasks      | elapsed:  1.4min\n",
      "[Parallel(n_jobs=-1)]: Done 341 tasks      | elapsed:  3.4min\n",
      "[Parallel(n_jobs=-1)]: Done 418 out of 418 | elapsed:  4.1min finished\n",
      "\n",
      "[2021-02-28 17:45:13] Features: 417/1 -- score: 0.4356830093809926[Parallel(n_jobs=-1)]: Using backend LokyBackend with 12 concurrent workers.\n",
      "[Parallel(n_jobs=-1)]: Done  17 tasks      | elapsed:   13.7s\n",
      "[Parallel(n_jobs=-1)]: Done 138 tasks      | elapsed:  1.4min\n",
      "[Parallel(n_jobs=-1)]: Done 341 tasks      | elapsed:  3.4min\n",
      "[Parallel(n_jobs=-1)]: Done 417 out of 417 | elapsed:  4.1min finished\n",
      "\n",
      "[2021-02-28 17:49:21] Features: 416/1 -- score: 0.4351229891093193[Parallel(n_jobs=-1)]: Using backend LokyBackend with 12 concurrent workers.\n",
      "[Parallel(n_jobs=-1)]: Done  17 tasks      | elapsed:   13.3s\n",
      "[Parallel(n_jobs=-1)]: Done 138 tasks      | elapsed:  1.4min\n",
      "[Parallel(n_jobs=-1)]: Done 341 tasks      | elapsed:  3.4min\n",
      "[Parallel(n_jobs=-1)]: Done 416 out of 416 | elapsed:  4.1min finished\n",
      "\n",
      "[2021-02-28 17:53:26] Features: 415/1 -- score: 0.4407651422160178[Parallel(n_jobs=-1)]: Using backend LokyBackend with 12 concurrent workers.\n",
      "[Parallel(n_jobs=-1)]: Done  17 tasks      | elapsed:   13.2s\n",
      "[Parallel(n_jobs=-1)]: Done 138 tasks      | elapsed:  1.4min\n",
      "[Parallel(n_jobs=-1)]: Done 341 tasks      | elapsed:  3.4min\n",
      "[Parallel(n_jobs=-1)]: Done 415 out of 415 | elapsed:  4.0min finished\n",
      "\n",
      "[2021-02-28 17:57:28] Features: 414/1 -- score: 0.4378468961141876[Parallel(n_jobs=-1)]: Using backend LokyBackend with 12 concurrent workers.\n",
      "[Parallel(n_jobs=-1)]: Done  17 tasks      | elapsed:   13.6s\n",
      "[Parallel(n_jobs=-1)]: Done 138 tasks      | elapsed:  1.4min\n",
      "[Parallel(n_jobs=-1)]: Done 341 tasks      | elapsed:  3.3min\n",
      "[Parallel(n_jobs=-1)]: Done 414 out of 414 | elapsed:  4.0min finished\n",
      "\n",
      "[2021-02-28 18:01:25] Features: 413/1 -- score: 0.43385916652285844[Parallel(n_jobs=-1)]: Using backend LokyBackend with 12 concurrent workers.\n",
      "[Parallel(n_jobs=-1)]: Done  17 tasks      | elapsed:   12.4s\n",
      "[Parallel(n_jobs=-1)]: Done 138 tasks      | elapsed:  1.3min\n",
      "[Parallel(n_jobs=-1)]: Done 341 tasks      | elapsed:  3.2min\n",
      "[Parallel(n_jobs=-1)]: Done 413 out of 413 | elapsed:  3.9min finished\n",
      "\n",
      "[2021-02-28 18:05:18] Features: 412/1 -- score: 0.4410247834107485[Parallel(n_jobs=-1)]: Using backend LokyBackend with 12 concurrent workers.\n",
      "[Parallel(n_jobs=-1)]: Done  17 tasks      | elapsed:   12.8s\n",
      "[Parallel(n_jobs=-1)]: Done 138 tasks      | elapsed:  1.4min\n",
      "[Parallel(n_jobs=-1)]: Done 341 tasks      | elapsed:  3.3min\n",
      "[Parallel(n_jobs=-1)]: Done 412 out of 412 | elapsed:  3.9min finished\n",
      "\n",
      "[2021-02-28 18:09:14] Features: 411/1 -- score: 0.44306818965071965[Parallel(n_jobs=-1)]: Using backend LokyBackend with 12 concurrent workers.\n",
      "[Parallel(n_jobs=-1)]: Done  17 tasks      | elapsed:   12.9s\n",
      "[Parallel(n_jobs=-1)]: Done 138 tasks      | elapsed:  1.3min\n",
      "[Parallel(n_jobs=-1)]: Done 341 tasks      | elapsed:  3.2min\n",
      "[Parallel(n_jobs=-1)]: Done 411 out of 411 | elapsed:  3.8min finished\n",
      "\n",
      "[2021-02-28 18:13:05] Features: 410/1 -- score: 0.43785264526031975[Parallel(n_jobs=-1)]: Using backend LokyBackend with 12 concurrent workers.\n",
      "[Parallel(n_jobs=-1)]: Done  17 tasks      | elapsed:   13.0s\n",
      "[Parallel(n_jobs=-1)]: Done 138 tasks      | elapsed:  1.4min\n",
      "[Parallel(n_jobs=-1)]: Done 341 tasks      | elapsed:  3.3min\n",
      "[Parallel(n_jobs=-1)]: Done 410 out of 410 | elapsed:  3.8min finished\n",
      "\n",
      "[2021-02-28 18:16:55] Features: 409/1 -- score: 0.44848946885278196[Parallel(n_jobs=-1)]: Using backend LokyBackend with 12 concurrent workers.\n",
      "[Parallel(n_jobs=-1)]: Done  17 tasks      | elapsed:   12.6s\n",
      "[Parallel(n_jobs=-1)]: Done 138 tasks      | elapsed:  1.3min\n",
      "[Parallel(n_jobs=-1)]: Done 341 tasks      | elapsed:  3.2min\n",
      "[Parallel(n_jobs=-1)]: Done 409 out of 409 | elapsed:  3.7min finished\n",
      "\n",
      "[2021-02-28 18:20:39] Features: 408/1 -- score: 0.43557661286473276[Parallel(n_jobs=-1)]: Using backend LokyBackend with 12 concurrent workers.\n",
      "[Parallel(n_jobs=-1)]: Done  17 tasks      | elapsed:   12.5s\n",
      "[Parallel(n_jobs=-1)]: Done 138 tasks      | elapsed:  1.3min\n",
      "[Parallel(n_jobs=-1)]: Done 341 tasks      | elapsed:  3.2min\n",
      "[Parallel(n_jobs=-1)]: Done 408 out of 408 | elapsed:  3.8min finished\n",
      "\n",
      "[2021-02-28 18:24:25] Features: 407/1 -- score: 0.44622042862540373[Parallel(n_jobs=-1)]: Using backend LokyBackend with 12 concurrent workers.\n",
      "[Parallel(n_jobs=-1)]: Done  17 tasks      | elapsed:   12.0s\n",
      "[Parallel(n_jobs=-1)]: Done 138 tasks      | elapsed:  1.3min\n",
      "[Parallel(n_jobs=-1)]: Done 341 tasks      | elapsed:  3.1min\n",
      "[Parallel(n_jobs=-1)]: Done 407 out of 407 | elapsed:  3.7min finished\n",
      "\n",
      "[2021-02-28 18:28:05] Features: 406/1 -- score: 0.44632217352653347[Parallel(n_jobs=-1)]: Using backend LokyBackend with 12 concurrent workers.\n",
      "[Parallel(n_jobs=-1)]: Done  17 tasks      | elapsed:   12.5s\n",
      "[Parallel(n_jobs=-1)]: Done 138 tasks      | elapsed:  1.3min\n",
      "[Parallel(n_jobs=-1)]: Done 341 tasks      | elapsed:  3.1min\n",
      "[Parallel(n_jobs=-1)]: Done 406 out of 406 | elapsed:  3.6min finished\n",
      "\n",
      "[2021-02-28 18:31:44] Features: 405/1 -- score: 0.4431316152985181[Parallel(n_jobs=-1)]: Using backend LokyBackend with 12 concurrent workers.\n",
      "[Parallel(n_jobs=-1)]: Done  17 tasks      | elapsed:   12.0s\n",
      "[Parallel(n_jobs=-1)]: Done 138 tasks      | elapsed:  1.3min\n",
      "[Parallel(n_jobs=-1)]: Done 341 tasks      | elapsed:  3.1min\n",
      "[Parallel(n_jobs=-1)]: Done 405 out of 405 | elapsed:  3.6min finished\n",
      "\n",
      "[2021-02-28 18:35:21] Features: 404/1 -- score: 0.44789544095197914[Parallel(n_jobs=-1)]: Using backend LokyBackend with 12 concurrent workers.\n",
      "[Parallel(n_jobs=-1)]: Done  17 tasks      | elapsed:   12.3s\n",
      "[Parallel(n_jobs=-1)]: Done 138 tasks      | elapsed:  1.3min\n",
      "[Parallel(n_jobs=-1)]: Done 341 tasks      | elapsed:  3.1min\n",
      "[Parallel(n_jobs=-1)]: Done 404 out of 404 | elapsed:  3.6min finished\n",
      "\n",
      "[2021-02-28 18:38:59] Features: 403/1 -- score: 0.4451699035456749[Parallel(n_jobs=-1)]: Using backend LokyBackend with 12 concurrent workers.\n",
      "[Parallel(n_jobs=-1)]: Done  17 tasks      | elapsed:   11.9s\n",
      "[Parallel(n_jobs=-1)]: Done 138 tasks      | elapsed:  1.3min\n",
      "[Parallel(n_jobs=-1)]: Done 341 tasks      | elapsed:  3.1min\n",
      "[Parallel(n_jobs=-1)]: Done 403 out of 403 | elapsed:  3.6min finished\n",
      "\n",
      "[2021-02-28 18:42:35] Features: 402/1 -- score: 0.4378230802902456[Parallel(n_jobs=-1)]: Using backend LokyBackend with 12 concurrent workers.\n",
      "[Parallel(n_jobs=-1)]: Done  17 tasks      | elapsed:   13.1s\n",
      "[Parallel(n_jobs=-1)]: Done 138 tasks      | elapsed:  1.3min\n",
      "[Parallel(n_jobs=-1)]: Done 341 tasks      | elapsed:  3.2min\n",
      "[Parallel(n_jobs=-1)]: Done 402 out of 402 | elapsed:  3.7min finished\n",
      "\n",
      "[2021-02-28 18:46:18] Features: 401/1 -- score: 0.43817410873396667[Parallel(n_jobs=-1)]: Using backend LokyBackend with 12 concurrent workers.\n",
      "\n",
      "STOPPING EARLY DUE TO KEYBOARD INTERRUPT..."
     ]
    },
    {
     "data": {
      "text/plain": [
       "SequentialFeatureSelector(estimator=RandomForestClassifier(class_weight='balanced',\n",
       "                                                           max_depth=80,\n",
       "                                                           max_features=0.005,\n",
       "                                                           min_samples_split=10,\n",
       "                                                           n_estimators=300),\n",
       "                          forward=False, k_features='best', n_jobs=-1,\n",
       "                          scoring=make_scorer(matthews_corrcoef), verbose=2)"
      ]
     },
     "execution_count": 179,
     "metadata": {},
     "output_type": "execute_result"
    }
   ],
   "source": [
    "selector.fit(aa_dipep_freq, df['lessthan5'])"
   ]
  },
  {
   "cell_type": "code",
   "execution_count": 181,
   "id": "incorporated-regression",
   "metadata": {
    "scrolled": true
   },
   "outputs": [
    {
     "data": {
      "text/plain": [
       "409"
      ]
     },
     "execution_count": 181,
     "metadata": {},
     "output_type": "execute_result"
    }
   ],
   "source": [
    "len(selector.k_feature_idx_)"
   ]
  },
  {
   "cell_type": "code",
   "execution_count": 149,
   "id": "reduced-preference",
   "metadata": {},
   "outputs": [
    {
     "data": {
      "text/plain": [
       "Index(['A', 'C', 'D', 'E', 'F', 'G', 'H', 'I', 'K', 'L',\n",
       "       ...\n",
       "       'YI', 'YK', 'YL', 'YN', 'YQ', 'YR', 'YS', 'YT', 'YW', 'YY'],\n",
       "      dtype='object', length=383)"
      ]
     },
     "execution_count": 149,
     "metadata": {},
     "output_type": "execute_result"
    }
   ],
   "source": [
    "aa_dipep_freq.columns[selector.support_]"
   ]
  },
  {
   "cell_type": "code",
   "execution_count": 150,
   "id": "express-skating",
   "metadata": {},
   "outputs": [],
   "source": [
    "train_features_selected = selector.transform(X_train)\n",
    "test_features_selected = selector.transform(X_test)"
   ]
  },
  {
   "cell_type": "code",
   "execution_count": 151,
   "id": "coordinated-reduction",
   "metadata": {},
   "outputs": [],
   "source": [
    "rf_clf = RandomForestClassifier(class_weight='balanced', **grid_search.best_params_)"
   ]
  },
  {
   "cell_type": "code",
   "execution_count": 171,
   "id": "strategic-hospital",
   "metadata": {
    "scrolled": true
   },
   "outputs": [
    {
     "data": {
      "text/plain": [
       "RandomForestClassifier(class_weight='balanced', max_depth=80,\n",
       "                       max_features=0.005, min_samples_split=10,\n",
       "                       n_estimators=300)"
      ]
     },
     "execution_count": 171,
     "metadata": {},
     "output_type": "execute_result"
    }
   ],
   "source": [
    "rf_clf.fit(train_features_selected, y_train)"
   ]
  },
  {
   "cell_type": "code",
   "execution_count": 172,
   "id": "challenging-beaver",
   "metadata": {},
   "outputs": [],
   "source": [
    "y_pred = rf_clf.predict(test_features_selected)"
   ]
  },
  {
   "cell_type": "code",
   "execution_count": 173,
   "id": "unlikely-definition",
   "metadata": {},
   "outputs": [
    {
     "name": "stdout",
     "output_type": "stream",
     "text": [
      "Accuracy: 0.7692\n",
      "F1-score: 0.736\n",
      "AUROC: 0.7689\n",
      "MCC: 0.533\n",
      "              precision    recall  f1-score   support\n",
      "\n",
      "           0       0.82      0.77      0.80        83\n",
      "           1       0.71      0.77      0.74        60\n",
      "\n",
      "    accuracy                           0.77       143\n",
      "   macro avg       0.76      0.77      0.77       143\n",
      "weighted avg       0.77      0.77      0.77       143\n",
      "\n"
     ]
    }
   ],
   "source": [
    "get_score(y_test, y_pred)"
   ]
  },
  {
   "cell_type": "code",
   "execution_count": null,
   "id": "configured-nylon",
   "metadata": {},
   "outputs": [],
   "source": []
  }
 ],
 "metadata": {
  "kernelspec": {
   "display_name": "Python 3",
   "language": "python",
   "name": "python3"
  },
  "language_info": {
   "codemirror_mode": {
    "name": "ipython",
    "version": 3
   },
   "file_extension": ".py",
   "mimetype": "text/x-python",
   "name": "python",
   "nbconvert_exporter": "python",
   "pygments_lexer": "ipython3",
   "version": "3.6.10"
  }
 },
 "nbformat": 4,
 "nbformat_minor": 5
}
