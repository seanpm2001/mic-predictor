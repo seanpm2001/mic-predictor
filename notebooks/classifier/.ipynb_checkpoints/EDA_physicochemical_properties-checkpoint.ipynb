{
 "cells": [
  {
   "cell_type": "code",
   "execution_count": null,
   "id": "younger-inspiration",
   "metadata": {},
   "outputs": [],
   "source": [
    "pwd"
   ]
  },
  {
   "cell_type": "code",
   "execution_count": null,
   "id": "suspended-liability",
   "metadata": {},
   "outputs": [],
   "source": [
    "cd ../../"
   ]
  },
  {
   "cell_type": "code",
   "execution_count": null,
   "id": "muslim-filter",
   "metadata": {},
   "outputs": [],
   "source": [
    "from notebooks.utils import *"
   ]
  },
  {
   "cell_type": "code",
   "execution_count": null,
   "id": "engaged-textbook",
   "metadata": {},
   "outputs": [],
   "source": [
    "import biovec\n",
    "import numpy as np\n",
    "import pandas as pd\n",
    "from itertools import chain"
   ]
  },
  {
   "cell_type": "code",
   "execution_count": null,
   "id": "checked-ridge",
   "metadata": {},
   "outputs": [],
   "source": [
    "import matplotlib.pyplot as plt\n",
    "import seaborn as sns"
   ]
  },
  {
   "cell_type": "code",
   "execution_count": null,
   "id": "hollywood-nylon",
   "metadata": {},
   "outputs": [],
   "source": [
    "from sklearn.svm import SVC\n",
    "from sklearn.metrics import make_scorer\n",
    "from sklearn.model_selection import GridSearchCV\n",
    "from sklearn.ensemble import RandomForestClassifier\n",
    "from sklearn.metrics import accuracy_score, f1_score, roc_auc_score, matthews_corrcoef\n",
    "from sklearn.model_selection import train_test_split"
   ]
  },
  {
   "cell_type": "code",
   "execution_count": null,
   "id": "assured-official",
   "metadata": {},
   "outputs": [],
   "source": [
    "from sklearn.manifold import TSNE\n",
    "from sklearn.decomposition import PCA"
   ]
  },
  {
   "cell_type": "code",
   "execution_count": null,
   "id": "based-liverpool",
   "metadata": {},
   "outputs": [],
   "source": [
    "avp_ic50 = pd.read_csv(\"data/raw/AVP-IC50Pred_train.csv\")\n",
    "ha_avp = pd.read_csv(\"data/raw/HA_AVP.csv\")\n",
    "shannon_entropy = pd.read_csv(\"data/pfeature/ha_avp_ic50_shannon_entropy.csv\")\n",
    "shannon_entropy = shannon_entropy.drop(['ID', 'Sequence'], axis=1)\n",
    "residue_repeats = pd.read_csv(\"data/pfeature/ha_avp_ic50_residue_repeat.csv\")\n",
    "residue_repeats = residue_repeats.drop(['ID', 'Sequence'], axis=1).reset_index(drop=True)\n",
    "\n",
    "df = pd.concat([avp_ic50[['Sequence', 'MIC']], ha_avp], axis=0).drop_duplicates(['Sequence']).reset_index(drop=True)\n",
    "df = sequence_filtering(df)"
   ]
  },
  {
   "cell_type": "code",
   "execution_count": null,
   "id": "intense-apartment",
   "metadata": {},
   "outputs": [],
   "source": [
    "df['lessthan5'] = df['MIC'].apply(lambda mic: 1 if mic <= 5 else 0)"
   ]
  },
  {
   "cell_type": "code",
   "execution_count": null,
   "id": "frequent-nursing",
   "metadata": {},
   "outputs": [],
   "source": []
  }
 ],
 "metadata": {
  "kernelspec": {
   "display_name": "Python 3",
   "language": "python",
   "name": "python3"
  },
  "language_info": {
   "codemirror_mode": {
    "name": "ipython",
    "version": 3
   },
   "file_extension": ".py",
   "mimetype": "text/x-python",
   "name": "python",
   "nbconvert_exporter": "python",
   "pygments_lexer": "ipython3",
   "version": "3.6.10"
  }
 },
 "nbformat": 4,
 "nbformat_minor": 5
}
