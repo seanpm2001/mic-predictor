{
 "cells": [
  {
   "cell_type": "code",
   "execution_count": 1,
   "id": "christian-complement",
   "metadata": {},
   "outputs": [
    {
     "name": "stdout",
     "output_type": "stream",
     "text": [
      "/Users/in-divye.singh/Documents/Projects/MIC_predictor\n"
     ]
    }
   ],
   "source": [
    "cd ../../"
   ]
  },
  {
   "cell_type": "code",
   "execution_count": 2,
   "id": "tamil-aluminum",
   "metadata": {},
   "outputs": [],
   "source": [
    "import json\n",
    "import numpy as np\n",
    "import pandas as pd\n",
    "import seaborn as sns\n",
    "import matplotlib.pyplot as plt"
   ]
  },
  {
   "cell_type": "code",
   "execution_count": 3,
   "id": "shaped-devil",
   "metadata": {},
   "outputs": [],
   "source": [
    "from notebooks.utils import *\n",
    "import importlib\n",
    "import sys\n",
    "importlib.reload(sys.modules['notebooks.utils'])\n",
    "from notebooks.utils import *"
   ]
  },
  {
   "cell_type": "code",
   "execution_count": 27,
   "id": "received-registrar",
   "metadata": {},
   "outputs": [],
   "source": [
    "from sklearn.metrics import silhouette_samples, silhouette_score, calinski_harabasz_score"
   ]
  },
  {
   "cell_type": "code",
   "execution_count": 5,
   "id": "agreed-television",
   "metadata": {},
   "outputs": [],
   "source": [
    "avp_ic50 = pd.read_csv(\"data/raw/AVP-IC50Pred_train.csv\")\n",
    "ha_avp = pd.read_csv(\"data/raw/HA_AVP.csv\")\n",
    "\n",
    "df = pd.concat([avp_ic50[['Sequence', 'MIC']], ha_avp], axis=0).drop_duplicates(['Sequence']).reset_index(drop=True)\n",
    "df = sequence_filtering(df)\n",
    "# df = df.sample(frac=1).reset_index(drop=True)"
   ]
  },
  {
   "cell_type": "code",
   "execution_count": 7,
   "id": "passing-truth",
   "metadata": {},
   "outputs": [],
   "source": [
    "mic_threshold = 5\n",
    "df['lessthan5'] = df['MIC'].apply(lambda mic: 1 if mic <= mic_threshold else 0)"
   ]
  },
  {
   "cell_type": "code",
   "execution_count": 8,
   "id": "adolescent-administrator",
   "metadata": {},
   "outputs": [],
   "source": [
    "dipep_freq = reduce_by_kmer_frequency(df, kmer=2)"
   ]
  },
  {
   "cell_type": "code",
   "execution_count": 9,
   "id": "passive-pathology",
   "metadata": {},
   "outputs": [
    {
     "name": "stderr",
     "output_type": "stream",
     "text": [
      "/Users/in-divye.singh/anaconda3/envs/life-science/lib/python3.6/site-packages/smart_open/smart_open_lib.py:254: UserWarning: This function is deprecated, use smart_open.open instead. See the migration notes for details: https://github.com/RaRe-Technologies/smart_open/blob/master/README.rst#migrating-to-the-new-open-function\n",
      "  'See the migration notes for details: %s' % _MIGRATION_NOTES_URL\n",
      "Creating vectors: 100%|██████████| 712/712 [00:00<00:00, 1196.20sequence/s]\n"
     ]
    }
   ],
   "source": [
    "uniprot_embedding = biovec.models.load_protvec(\"data/embeddings/uniprot__kmer_3_contextWindow_10_vector_100_reduction_None\")\n",
    "\n",
    "avg_protvec = convert_sequences_to_avg_vectors(df['Sequence'], uniprot_embedding)\n",
    "avg_protvec = avg_protvec.reset_index(drop=True)"
   ]
  },
  {
   "cell_type": "code",
   "execution_count": 10,
   "id": "increased-reynolds",
   "metadata": {},
   "outputs": [],
   "source": [
    "dipep_protvec = pd.concat([avg_protvec, dipep_freq], axis=1)"
   ]
  },
  {
   "cell_type": "markdown",
   "id": "speaking-penalty",
   "metadata": {},
   "source": [
    "## Cluster based analysis"
   ]
  },
  {
   "cell_type": "markdown",
   "id": "alternate-sewing",
   "metadata": {},
   "source": [
    "### Silhouette analysis"
   ]
  },
  {
   "cell_type": "code",
   "execution_count": 12,
   "id": "public-irish",
   "metadata": {},
   "outputs": [
    {
     "name": "stdout",
     "output_type": "stream",
     "text": [
      "Silhouette score for the data: 0.011773881741581478\n"
     ]
    }
   ],
   "source": [
    "avg_silhouette = silhouette_score(dipep_protvec, df['lessthan5'], metric='euclidean')\n",
    "print(f\"Silhouette score for the data: {avg_silhouette}\")"
   ]
  },
  {
   "cell_type": "markdown",
   "id": "advisory-vehicle",
   "metadata": {},
   "source": [
    "<p style=\"font-size:20px;\">The smaller value of Variance Ratio Criterion means that <b> the peptides are very loosely separated into high MIC value and low MIC value classes </b>. Let us look at the silhouette plot to see peptide wise silhouette values.</p>"
   ]
  },
  {
   "cell_type": "code",
   "execution_count": 13,
   "id": "imposed-studio",
   "metadata": {},
   "outputs": [],
   "source": [
    "sample_silhouette_values = silhouette_samples(dipep_protvec, df['lessthan5'], metric='euclidean')"
   ]
  },
  {
   "cell_type": "code",
   "execution_count": 15,
   "id": "scheduled-indiana",
   "metadata": {},
   "outputs": [],
   "source": [
    "n_clusters = 2"
   ]
  },
  {
   "cell_type": "code",
   "execution_count": 26,
   "id": "abroad-campbell",
   "metadata": {},
   "outputs": [
    {
     "data": {
      "text/plain": [
       "[]"
      ]
     },
     "execution_count": 26,
     "metadata": {},
     "output_type": "execute_result"
    },
    {
     "data": {
      "image/png": "[encoded data removed]",
      "text/plain": [
       "<Figure size 720x720 with 1 Axes>"
      ]
     },
     "metadata": {
      "needs_background": "light"
     },
     "output_type": "display_data"
    }
   ],
   "source": [
    "fig, ax1 = plt.subplots(1, 1, figsize=(10,10))\n",
    "ax1.set_ylim([0, dipep_protvec.shape[0] + (n_clusters + 1) * 10])\n",
    "\n",
    "y_lower = 10\n",
    "for i in range(n_clusters):\n",
    "    ith_cluster_silhouette_values = sample_silhouette_values[df['lessthan5'] == i]\n",
    "\n",
    "    ith_cluster_silhouette_values.sort()\n",
    "\n",
    "    size_cluster_i = ith_cluster_silhouette_values.shape[0]\n",
    "    y_upper = y_lower + size_cluster_i\n",
    "\n",
    "    color = plt.cm.nipy_spectral(float(i) / n_clusters)\n",
    "    ax1.fill_betweenx(np.arange(y_lower, y_upper),\n",
    "                      0, ith_cluster_silhouette_values,\n",
    "                      facecolor=color, edgecolor=color, alpha=0.7)\n",
    "\n",
    "    ax1.text(-0.05, y_lower + 0.5 * size_cluster_i, str(i))\n",
    "\n",
    "    y_lower = y_upper + 10  # 10 for the 0 samples\n",
    "\n",
    "ax1.set_title(\"The silhouette plot for the various clusters.\")\n",
    "ax1.set_xlabel(\"The silhouette coefficient values\")\n",
    "ax1.set_ylabel(\"Cluster label\")\n",
    "\n",
    "# The vertical line for average silhouette score of all the values\n",
    "ax1.axvline(x=avg_silhouette, color=\"red\", linestyle=\"--\")\n",
    "\n",
    "ax1.set_yticks([])  # Clear the yaxis labels / ticks"
   ]
  },
  {
   "cell_type": "markdown",
   "id": "iraqi-working",
   "metadata": {},
   "source": [
    "### Calinski and Harabasz score / Variance Ratio Criterion"
   ]
  },
  {
   "cell_type": "code",
   "execution_count": 30,
   "id": "mobile-estimate",
   "metadata": {},
   "outputs": [
    {
     "name": "stdout",
     "output_type": "stream",
     "text": [
      "Variance Ratio Criterion for the data: 6.480034603092165\n"
     ]
    }
   ],
   "source": [
    "vrc = calinski_harabasz_score(dipep_protvec, df['lessthan5'])\n",
    "print(f\"Variance Ratio Criterion for the data: {vrc}\")"
   ]
  },
  {
   "cell_type": "markdown",
   "id": "statistical-rider",
   "metadata": {},
   "source": [
    "<p style=\"font-size:20px;\">The smaller value of Variance Ratio Criterion means that <b> the peptides are very loosely separated into high MIC value and low MIC value classes </b>.</p>"
   ]
  },
  {
   "cell_type": "code",
   "execution_count": null,
   "id": "verbal-xerox",
   "metadata": {},
   "outputs": [],
   "source": []
  }
 ],
 "metadata": {
  "kernelspec": {
   "display_name": "Python 3",
   "language": "python",
   "name": "python3"
  },
  "language_info": {
   "codemirror_mode": {
    "name": "ipython",
    "version": 3
   },
   "file_extension": ".py",
   "mimetype": "text/x-python",
   "name": "python",
   "nbconvert_exporter": "python",
   "pygments_lexer": "ipython3",
   "version": "3.6.10"
  }
 },
 "nbformat": 4,
 "nbformat_minor": 5
}
