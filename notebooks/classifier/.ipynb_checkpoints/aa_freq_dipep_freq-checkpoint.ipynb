{
 "cells": [
  {
   "cell_type": "code",
   "execution_count": 1,
   "id": "micro-pepper",
   "metadata": {},
   "outputs": [
    {
     "data": {
      "text/plain": [
       "'/Users/in-divye.singh/Documents/Projects/MIC_predictor/notebooks/classifier'"
      ]
     },
     "execution_count": 1,
     "metadata": {},
     "output_type": "execute_result"
    }
   ],
   "source": [
    "pwd"
   ]
  },
  {
   "cell_type": "code",
   "execution_count": 2,
   "id": "mounted-duncan",
   "metadata": {},
   "outputs": [
    {
     "name": "stdout",
     "output_type": "stream",
     "text": [
      "/Users/in-divye.singh/Documents/Projects/MIC_predictor\n"
     ]
    }
   ],
   "source": [
    "cd ../../"
   ]
  },
  {
   "cell_type": "code",
   "execution_count": 3,
   "id": "changing-intellectual",
   "metadata": {},
   "outputs": [],
   "source": [
    "from notebooks.utils import *"
   ]
  },
  {
   "cell_type": "code",
   "execution_count": 20,
   "id": "convinced-policy",
   "metadata": {},
   "outputs": [],
   "source": [
    "import biovec\n",
    "import numpy as np\n",
    "import pandas as pd\n",
    "from itertools import chain\n",
    "from collections import Counter"
   ]
  },
  {
   "cell_type": "code",
   "execution_count": 5,
   "id": "traditional-wheat",
   "metadata": {},
   "outputs": [],
   "source": [
    "import matplotlib.pyplot as plt\n",
    "import seaborn as sns"
   ]
  },
  {
   "cell_type": "code",
   "execution_count": 95,
   "id": "demonstrated-awareness",
   "metadata": {},
   "outputs": [],
   "source": [
    "from sklearn.svm import SVC\n",
    "from sklearn.metrics import make_scorer\n",
    "from sklearn.model_selection import GridSearchCV\n",
    "from sklearn.ensemble import RandomForestClassifier\n",
    "from sklearn.metrics import accuracy_score, f1_score, roc_auc_score, matthews_corrcoef\n",
    "from sklearn.metrics import classification_report, confusion_matrix, make_scorer\n",
    "from sklearn.model_selection import train_test_split"
   ]
  },
  {
   "cell_type": "code",
   "execution_count": 7,
   "id": "threaded-proposition",
   "metadata": {},
   "outputs": [],
   "source": [
    "from sklearn.manifold import TSNE\n",
    "from sklearn.decomposition import PCA"
   ]
  },
  {
   "cell_type": "code",
   "execution_count": 64,
   "id": "boolean-donna",
   "metadata": {},
   "outputs": [],
   "source": [
    "avp_ic50 = pd.read_csv(\"data/raw/AVP-IC50Pred_train.csv\")\n",
    "ha_avp = pd.read_csv(\"data/raw/HA_AVP.csv\")\n",
    "\n",
    "df = pd.concat([avp_ic50[['Sequence','MIC']], ha_avp], axis=0).drop_duplicates(['Sequence']).reset_index(drop=True)\n",
    "df = sequence_filtering(df)"
   ]
  },
  {
   "cell_type": "code",
   "execution_count": 65,
   "id": "warming-competition",
   "metadata": {},
   "outputs": [],
   "source": [
    "df['lessthan5'] = df['MIC'].apply(lambda mic: 1 if mic <= 5 else 0)"
   ]
  },
  {
   "cell_type": "code",
   "execution_count": 66,
   "id": "neutral-colorado",
   "metadata": {},
   "outputs": [
    {
     "data": {
      "text/plain": [
       "<matplotlib.axes._subplots.AxesSubplot at 0x1a1d2d22e8>"
      ]
     },
     "execution_count": 66,
     "metadata": {},
     "output_type": "execute_result"
    },
    {
     "data": {
      "image/png": "[encoded data removed]",
      "text/plain": [
       "<Figure size 432x288 with 1 Axes>"
      ]
     },
     "metadata": {
      "needs_background": "light"
     },
     "output_type": "display_data"
    }
   ],
   "source": [
    "count = dict(Counter(df['lessthan5']))\n",
    "sns.barplot(x = [str(k) for k in count.keys()], y=[float(v) for v in count.values()])"
   ]
  },
  {
   "cell_type": "code",
   "execution_count": 78,
   "id": "automotive-iceland",
   "metadata": {},
   "outputs": [],
   "source": [
    "def get_score(y_true, y_pred):\n",
    "    print(f'Accuracy: {round(accuracy_score(y_true, y_pred), 4)}')\n",
    "    print(f'F1-score: {round(f1_score(y_true, y_pred), 4)}')\n",
    "    print(f'AUROC: {round(roc_auc_score(y_true, y_pred), 4)}')\n",
    "    print(f'MCC: {round(matthews_corrcoef(y_true, y_pred), 4)}')\n",
    "    print(classification_report(y_test, y_pred))"
   ]
  },
  {
   "cell_type": "markdown",
   "id": "municipal-dress",
   "metadata": {},
   "source": [
    "### AA frequency"
   ]
  },
  {
   "cell_type": "code",
   "execution_count": 13,
   "id": "interior-locking",
   "metadata": {},
   "outputs": [],
   "source": [
    "aa_freq = reduce_by_kmer_frequency(df)"
   ]
  },
  {
   "cell_type": "code",
   "execution_count": 15,
   "id": "fewer-marks",
   "metadata": {},
   "outputs": [],
   "source": [
    "X_train, X_test, y_train, y_test = train_test_split(aa_freq, df['lessthan5'], test_size=0.2, random_state=42)"
   ]
  },
  {
   "cell_type": "code",
   "execution_count": 16,
   "id": "arctic-queen",
   "metadata": {},
   "outputs": [
    {
     "data": {
      "text/plain": [
       "((569, 20), (143, 20))"
      ]
     },
     "execution_count": 16,
     "metadata": {},
     "output_type": "execute_result"
    }
   ],
   "source": [
    "X_train.shape, X_test.shape"
   ]
  },
  {
   "cell_type": "code",
   "execution_count": 73,
   "id": "prompt-center",
   "metadata": {},
   "outputs": [],
   "source": [
    "rf = RandomForestClassifier(class_weight=\"balanced\")"
   ]
  },
  {
   "cell_type": "code",
   "execution_count": 74,
   "id": "surrounded-residence",
   "metadata": {},
   "outputs": [
    {
     "data": {
      "text/plain": [
       "RandomForestClassifier(class_weight='balanced')"
      ]
     },
     "execution_count": 74,
     "metadata": {},
     "output_type": "execute_result"
    }
   ],
   "source": [
    "rf.fit(X_train, y_train)"
   ]
  },
  {
   "cell_type": "code",
   "execution_count": 79,
   "id": "biblical-football",
   "metadata": {},
   "outputs": [],
   "source": [
    "y_pred = rf.predict(X_test)"
   ]
  },
  {
   "cell_type": "code",
   "execution_count": 80,
   "id": "handmade-october",
   "metadata": {},
   "outputs": [
    {
     "name": "stdout",
     "output_type": "stream",
     "text": [
      "Accuracy: 0.7133\n",
      "F1-score: 0.687\n",
      "AUROC: 0.7184\n",
      "MCC: 0.4311\n",
      "              precision    recall  f1-score   support\n",
      "\n",
      "           0       0.79      0.69      0.74        83\n",
      "           1       0.63      0.75      0.69        60\n",
      "\n",
      "    accuracy                           0.71       143\n",
      "   macro avg       0.71      0.72      0.71       143\n",
      "weighted avg       0.73      0.71      0.72       143\n",
      "\n"
     ]
    }
   ],
   "source": [
    "get_score(y_test, y_pred)"
   ]
  },
  {
   "cell_type": "markdown",
   "id": "bright-burner",
   "metadata": {},
   "source": [
    "### Dipeptide frequency"
   ]
  },
  {
   "cell_type": "code",
   "execution_count": 81,
   "id": "modern-plaintiff",
   "metadata": {},
   "outputs": [],
   "source": [
    "dipep_freq = reduce_by_kmer_frequency(df, kmer=2)"
   ]
  },
  {
   "cell_type": "code",
   "execution_count": 82,
   "id": "vietnamese-feedback",
   "metadata": {},
   "outputs": [],
   "source": [
    "X_train, X_test, y_train, y_test = train_test_split(dipep_freq, df['lessthan5'], test_size=0.2, random_state=42)"
   ]
  },
  {
   "cell_type": "code",
   "execution_count": 83,
   "id": "standing-organ",
   "metadata": {},
   "outputs": [
    {
     "data": {
      "text/plain": [
       "((569, 400), (143, 400))"
      ]
     },
     "execution_count": 83,
     "metadata": {},
     "output_type": "execute_result"
    }
   ],
   "source": [
    "X_train.shape, X_test.shape"
   ]
  },
  {
   "cell_type": "code",
   "execution_count": 84,
   "id": "considerable-diagram",
   "metadata": {},
   "outputs": [],
   "source": [
    "rf = RandomForestClassifier(class_weight=\"balanced\")"
   ]
  },
  {
   "cell_type": "code",
   "execution_count": 85,
   "id": "attractive-builder",
   "metadata": {},
   "outputs": [
    {
     "data": {
      "text/plain": [
       "RandomForestClassifier(class_weight='balanced')"
      ]
     },
     "execution_count": 85,
     "metadata": {},
     "output_type": "execute_result"
    }
   ],
   "source": [
    "rf.fit(X_train, y_train)"
   ]
  },
  {
   "cell_type": "code",
   "execution_count": 86,
   "id": "persistent-regular",
   "metadata": {},
   "outputs": [],
   "source": [
    "y_pred = rf.predict(X_test)"
   ]
  },
  {
   "cell_type": "code",
   "execution_count": 87,
   "id": "speaking-approach",
   "metadata": {},
   "outputs": [
    {
     "name": "stdout",
     "output_type": "stream",
     "text": [
      "Accuracy: 0.7413\n",
      "F1-score: 0.6992\n",
      "AUROC: 0.7379\n",
      "MCC: 0.4729\n",
      "              precision    recall  f1-score   support\n",
      "\n",
      "           0       0.79      0.76      0.77        83\n",
      "           1       0.68      0.72      0.70        60\n",
      "\n",
      "    accuracy                           0.74       143\n",
      "   macro avg       0.74      0.74      0.74       143\n",
      "weighted avg       0.74      0.74      0.74       143\n",
      "\n"
     ]
    }
   ],
   "source": [
    "get_score(y_test, y_pred)"
   ]
  },
  {
   "cell_type": "markdown",
   "id": "acquired-queensland",
   "metadata": {},
   "source": [
    "### AA freq + dipep freq"
   ]
  },
  {
   "cell_type": "code",
   "execution_count": 88,
   "id": "accessible-dispatch",
   "metadata": {},
   "outputs": [],
   "source": [
    "aa_dipep_freq = pd.concat([aa_freq, dipep_freq], axis=1)"
   ]
  },
  {
   "cell_type": "code",
   "execution_count": 89,
   "id": "defensive-satellite",
   "metadata": {},
   "outputs": [],
   "source": [
    "X_train, X_test, y_train, y_test = train_test_split(aa_dipep_freq, df['lessthan5'], test_size=0.2, random_state=42)"
   ]
  },
  {
   "cell_type": "code",
   "execution_count": 90,
   "id": "damaged-continent",
   "metadata": {},
   "outputs": [
    {
     "data": {
      "text/plain": [
       "((569, 420), (143, 420))"
      ]
     },
     "execution_count": 90,
     "metadata": {},
     "output_type": "execute_result"
    }
   ],
   "source": [
    "X_train.shape, X_test.shape"
   ]
  },
  {
   "cell_type": "code",
   "execution_count": 91,
   "id": "bottom-reset",
   "metadata": {},
   "outputs": [],
   "source": [
    "rf = RandomForestClassifier(class_weight=\"balanced\")"
   ]
  },
  {
   "cell_type": "code",
   "execution_count": 92,
   "id": "needed-child",
   "metadata": {},
   "outputs": [
    {
     "data": {
      "text/plain": [
       "RandomForestClassifier(class_weight='balanced')"
      ]
     },
     "execution_count": 92,
     "metadata": {},
     "output_type": "execute_result"
    }
   ],
   "source": [
    "rf.fit(X_train, y_train)"
   ]
  },
  {
   "cell_type": "code",
   "execution_count": 93,
   "id": "civic-fifty",
   "metadata": {},
   "outputs": [],
   "source": [
    "y_pred = rf.predict(X_test)"
   ]
  },
  {
   "cell_type": "code",
   "execution_count": 94,
   "id": "smoking-archive",
   "metadata": {},
   "outputs": [
    {
     "name": "stdout",
     "output_type": "stream",
     "text": [
      "Accuracy: 0.7552\n",
      "F1-score: 0.7154\n",
      "AUROC: 0.7522\n",
      "MCC: 0.5014\n",
      "              precision    recall  f1-score   support\n",
      "\n",
      "           0       0.80      0.77      0.79        83\n",
      "           1       0.70      0.73      0.72        60\n",
      "\n",
      "    accuracy                           0.76       143\n",
      "   macro avg       0.75      0.75      0.75       143\n",
      "weighted avg       0.76      0.76      0.76       143\n",
      "\n"
     ]
    }
   ],
   "source": [
    "get_score(y_test, y_pred)"
   ]
  },
  {
   "cell_type": "markdown",
   "id": "beautiful-marijuana",
   "metadata": {},
   "source": [
    "### Hyperparameter tuning"
   ]
  },
  {
   "cell_type": "code",
   "execution_count": 96,
   "id": "activated-masters",
   "metadata": {},
   "outputs": [],
   "source": [
    "mcc_scorer = make_scorer(matthews_corrcoef)"
   ]
  },
  {
   "cell_type": "code",
   "execution_count": 101,
   "id": "alleged-comfort",
   "metadata": {},
   "outputs": [],
   "source": [
    "# Create the parameter grid based on the results of random search \n",
    "param_grid = {\n",
    "    'max_depth': [None, 80, 90, 100, 110],\n",
    "    'max_features': ['auto', 2, 3],\n",
    "    'min_samples_leaf': [1, 2, 3, 4, 5],\n",
    "    'min_samples_split': [2, 8, 10, 12],\n",
    "    'n_estimators': [100, 200, 300, 500]\n",
    "}\n",
    "# Create a based model\n",
    "rf = RandomForestClassifier(class_weight=\"balanced\")\n",
    "# Instantiate the grid search model\n",
    "grid_search = GridSearchCV(estimator = rf, param_grid = param_grid, \n",
    "                          cv = 3, n_jobs = -1, verbose = 1, scoring=mcc_scorer)"
   ]
  },
  {
   "cell_type": "code",
   "execution_count": 102,
   "id": "retained-appliance",
   "metadata": {
    "scrolled": false
   },
   "outputs": [
    {
     "name": "stdout",
     "output_type": "stream",
     "text": [
      "Fitting 3 folds for each of 1200 candidates, totalling 3600 fits\n"
     ]
    },
    {
     "name": "stderr",
     "output_type": "stream",
     "text": [
      "[Parallel(n_jobs=-1)]: Using backend LokyBackend with 12 concurrent workers.\n",
      "[Parallel(n_jobs=-1)]: Done  26 tasks      | elapsed:    4.3s\n",
      "[Parallel(n_jobs=-1)]: Done 176 tasks      | elapsed:   16.6s\n",
      "[Parallel(n_jobs=-1)]: Done 426 tasks      | elapsed:   35.7s\n",
      "[Parallel(n_jobs=-1)]: Done 776 tasks      | elapsed:  1.1min\n",
      "[Parallel(n_jobs=-1)]: Done 1226 tasks      | elapsed:  1.7min\n",
      "[Parallel(n_jobs=-1)]: Done 1776 tasks      | elapsed:  2.6min\n",
      "[Parallel(n_jobs=-1)]: Done 2426 tasks      | elapsed:  4.1min\n",
      "[Parallel(n_jobs=-1)]: Done 3176 tasks      | elapsed:  6.0min\n",
      "[Parallel(n_jobs=-1)]: Done 3600 out of 3600 | elapsed:  6.9min finished\n"
     ]
    },
    {
     "data": {
      "text/plain": [
       "GridSearchCV(cv=3, estimator=RandomForestClassifier(class_weight='balanced'),\n",
       "             n_jobs=-1,\n",
       "             param_grid={'max_depth': [None, 80, 90, 100, 110],\n",
       "                         'max_features': ['auto', 2, 3],\n",
       "                         'min_samples_leaf': [1, 2, 3, 4, 5],\n",
       "                         'min_samples_split': [2, 8, 10, 12],\n",
       "                         'n_estimators': [100, 200, 300, 500]},\n",
       "             scoring=make_scorer(matthews_corrcoef), verbose=1)"
      ]
     },
     "execution_count": 102,
     "metadata": {},
     "output_type": "execute_result"
    }
   ],
   "source": [
    "grid_search.fit(X_train, y_train)"
   ]
  },
  {
   "cell_type": "code",
   "execution_count": 103,
   "id": "norwegian-february",
   "metadata": {},
   "outputs": [
    {
     "data": {
      "text/plain": [
       "{'max_depth': 80,\n",
       " 'max_features': 2,\n",
       " 'min_samples_leaf': 1,\n",
       " 'min_samples_split': 10,\n",
       " 'n_estimators': 300}"
      ]
     },
     "execution_count": 103,
     "metadata": {},
     "output_type": "execute_result"
    }
   ],
   "source": [
    "grid_search.best_params_"
   ]
  },
  {
   "cell_type": "code",
   "execution_count": 104,
   "id": "accepted-collector",
   "metadata": {},
   "outputs": [],
   "source": [
    "best_grid = grid_search.best_estimator_"
   ]
  },
  {
   "cell_type": "code",
   "execution_count": 105,
   "id": "reflected-christopher",
   "metadata": {},
   "outputs": [],
   "source": [
    "y_pred = best_grid.predict(X_test)"
   ]
  },
  {
   "cell_type": "code",
   "execution_count": 106,
   "id": "statistical-timber",
   "metadata": {},
   "outputs": [
    {
     "name": "stdout",
     "output_type": "stream",
     "text": [
      "Accuracy: 0.7692\n",
      "F1-score: 0.7317\n",
      "AUROC: 0.7666\n",
      "MCC: 0.5299\n",
      "              precision    recall  f1-score   support\n",
      "\n",
      "           0       0.81      0.78      0.80        83\n",
      "           1       0.71      0.75      0.73        60\n",
      "\n",
      "    accuracy                           0.77       143\n",
      "   macro avg       0.76      0.77      0.76       143\n",
      "weighted avg       0.77      0.77      0.77       143\n",
      "\n"
     ]
    }
   ],
   "source": [
    "get_score(y_test, y_pred)"
   ]
  },
  {
   "cell_type": "markdown",
   "id": "aggressive-corpus",
   "metadata": {},
   "source": [
    "### feature selection"
   ]
  },
  {
   "cell_type": "code",
   "execution_count": 107,
   "id": "racial-weather",
   "metadata": {},
   "outputs": [],
   "source": [
    "from sklearn.feature_selection import RFECV"
   ]
  },
  {
   "cell_type": "code",
   "execution_count": 142,
   "id": "handled-literature",
   "metadata": {},
   "outputs": [
    {
     "data": {
      "text/plain": [
       "(712, 420)"
      ]
     },
     "execution_count": 142,
     "metadata": {},
     "output_type": "execute_result"
    }
   ],
   "source": [
    "aa_dipep_freq.shape"
   ]
  },
  {
   "cell_type": "code",
   "execution_count": 139,
   "id": "mounted-condition",
   "metadata": {},
   "outputs": [],
   "source": [
    "rf_clf = RandomForestClassifier(class_weight='balanced', max_depth=80, max_features=2, min_samples_leaf=1,\n",
    "                                min_samples_split=10, n_estimators=300)"
   ]
  },
  {
   "cell_type": "code",
   "execution_count": 140,
   "id": "registered-boundary",
   "metadata": {},
   "outputs": [],
   "source": [
    "selector = RFECV(rf_clf, scoring = mcc_scorer, n_jobs = -1, cv = None, verbose = 2)"
   ]
  },
  {
   "cell_type": "code",
   "execution_count": 141,
   "id": "typical-india",
   "metadata": {
    "scrolled": false
   },
   "outputs": [
    {
     "ename": "ValueError",
     "evalue": "max_features must be in (0, n_features]",
     "output_type": "error",
     "traceback": [
      "\u001b[0;31m---------------------------------------------------------------------------\u001b[0m",
      "\u001b[0;31m_RemoteTraceback\u001b[0m                          Traceback (most recent call last)",
      "\u001b[0;31m_RemoteTraceback\u001b[0m: \n\"\"\"\nTraceback (most recent call last):\n  File \"/Users/in-divye.singh/anaconda3/envs/life-science/lib/python3.6/site-packages/joblib/externals/loky/process_executor.py\", line 431, in _process_worker\n    r = call_item()\n  File \"/Users/in-divye.singh/anaconda3/envs/life-science/lib/python3.6/site-packages/joblib/externals/loky/process_executor.py\", line 285, in __call__\n    return self.fn(*self.args, **self.kwargs)\n  File \"/Users/in-divye.singh/anaconda3/envs/life-science/lib/python3.6/site-packages/joblib/_parallel_backends.py\", line 593, in __call__\n    return self.func(*args, **kwargs)\n  File \"/Users/in-divye.singh/anaconda3/envs/life-science/lib/python3.6/site-packages/joblib/parallel.py\", line 253, in __call__\n    for func, args, kwargs in self.items]\n  File \"/Users/in-divye.singh/anaconda3/envs/life-science/lib/python3.6/site-packages/joblib/parallel.py\", line 253, in <listcomp>\n    for func, args, kwargs in self.items]\n  File \"/Users/in-divye.singh/anaconda3/envs/life-science/lib/python3.6/site-packages/sklearn/feature_selection/_rfe.py\", line 34, in _rfe_single_fit\n    X_train, y_train, lambda estimator, features:\n  File \"/Users/in-divye.singh/anaconda3/envs/life-science/lib/python3.6/site-packages/sklearn/feature_selection/_rfe.py\", line 231, in _fit\n    self.estimator_.fit(X[:, features], y)\n  File \"/Users/in-divye.singh/anaconda3/envs/life-science/lib/python3.6/site-packages/sklearn/ensemble/_forest.py\", line 392, in fit\n    for i, t in enumerate(trees))\n  File \"/Users/in-divye.singh/anaconda3/envs/life-science/lib/python3.6/site-packages/joblib/parallel.py\", line 1029, in __call__\n    if self.dispatch_one_batch(iterator):\n  File \"/Users/in-divye.singh/anaconda3/envs/life-science/lib/python3.6/site-packages/joblib/parallel.py\", line 847, in dispatch_one_batch\n    self._dispatch(tasks)\n  File \"/Users/in-divye.singh/anaconda3/envs/life-science/lib/python3.6/site-packages/joblib/parallel.py\", line 765, in _dispatch\n    job = self._backend.apply_async(batch, callback=cb)\n  File \"/Users/in-divye.singh/anaconda3/envs/life-science/lib/python3.6/site-packages/joblib/_parallel_backends.py\", line 206, in apply_async\n    result = ImmediateResult(func)\n  File \"/Users/in-divye.singh/anaconda3/envs/life-science/lib/python3.6/site-packages/joblib/_parallel_backends.py\", line 570, in __init__\n    self.results = batch()\n  File \"/Users/in-divye.singh/anaconda3/envs/life-science/lib/python3.6/site-packages/joblib/parallel.py\", line 253, in __call__\n    for func, args, kwargs in self.items]\n  File \"/Users/in-divye.singh/anaconda3/envs/life-science/lib/python3.6/site-packages/joblib/parallel.py\", line 253, in <listcomp>\n    for func, args, kwargs in self.items]\n  File \"/Users/in-divye.singh/anaconda3/envs/life-science/lib/python3.6/site-packages/sklearn/ensemble/_forest.py\", line 168, in _parallel_build_trees\n    tree.fit(X, y, sample_weight=curr_sample_weight, check_input=False)\n  File \"/Users/in-divye.singh/anaconda3/envs/life-science/lib/python3.6/site-packages/sklearn/tree/_classes.py\", line 894, in fit\n    X_idx_sorted=X_idx_sorted)\n  File \"/Users/in-divye.singh/anaconda3/envs/life-science/lib/python3.6/site-packages/sklearn/tree/_classes.py\", line 279, in fit\n    raise ValueError(\"max_features must be in (0, n_features]\")\nValueError: max_features must be in (0, n_features]\n\"\"\"",
      "\nThe above exception was the direct cause of the following exception:\n",
      "\u001b[0;31mValueError\u001b[0m                                Traceback (most recent call last)",
      "\u001b[0;32m<ipython-input-141-8765667a9c47>\u001b[0m in \u001b[0;36m<module>\u001b[0;34m\u001b[0m\n\u001b[0;32m----> 1\u001b[0;31m \u001b[0mselector\u001b[0m\u001b[0;34m.\u001b[0m\u001b[0mfit\u001b[0m\u001b[0;34m(\u001b[0m\u001b[0maa_dipep_freq\u001b[0m\u001b[0;34m,\u001b[0m \u001b[0mdf\u001b[0m\u001b[0;34m[\u001b[0m\u001b[0;34m'lessthan5'\u001b[0m\u001b[0;34m]\u001b[0m\u001b[0;34m)\u001b[0m\u001b[0;34m\u001b[0m\u001b[0;34m\u001b[0m\u001b[0m\n\u001b[0m",
      "\u001b[0;32m~/anaconda3/envs/life-science/lib/python3.6/site-packages/sklearn/feature_selection/_rfe.py\u001b[0m in \u001b[0;36mfit\u001b[0;34m(self, X, y, groups)\u001b[0m\n\u001b[1;32m    550\u001b[0m         scores = parallel(\n\u001b[1;32m    551\u001b[0m             \u001b[0mfunc\u001b[0m\u001b[0;34m(\u001b[0m\u001b[0mrfe\u001b[0m\u001b[0;34m,\u001b[0m \u001b[0mself\u001b[0m\u001b[0;34m.\u001b[0m\u001b[0mestimator\u001b[0m\u001b[0;34m,\u001b[0m \u001b[0mX\u001b[0m\u001b[0;34m,\u001b[0m \u001b[0my\u001b[0m\u001b[0;34m,\u001b[0m \u001b[0mtrain\u001b[0m\u001b[0;34m,\u001b[0m \u001b[0mtest\u001b[0m\u001b[0;34m,\u001b[0m \u001b[0mscorer\u001b[0m\u001b[0;34m)\u001b[0m\u001b[0;34m\u001b[0m\u001b[0;34m\u001b[0m\u001b[0m\n\u001b[0;32m--> 552\u001b[0;31m             for train, test in cv.split(X, y, groups))\n\u001b[0m\u001b[1;32m    553\u001b[0m \u001b[0;34m\u001b[0m\u001b[0m\n\u001b[1;32m    554\u001b[0m         \u001b[0mscores\u001b[0m \u001b[0;34m=\u001b[0m \u001b[0mnp\u001b[0m\u001b[0;34m.\u001b[0m\u001b[0msum\u001b[0m\u001b[0;34m(\u001b[0m\u001b[0mscores\u001b[0m\u001b[0;34m,\u001b[0m \u001b[0maxis\u001b[0m\u001b[0;34m=\u001b[0m\u001b[0;36m0\u001b[0m\u001b[0;34m)\u001b[0m\u001b[0;34m\u001b[0m\u001b[0;34m\u001b[0m\u001b[0m\n",
      "\u001b[0;32m~/anaconda3/envs/life-science/lib/python3.6/site-packages/joblib/parallel.py\u001b[0m in \u001b[0;36m__call__\u001b[0;34m(self, iterable)\u001b[0m\n\u001b[1;32m   1040\u001b[0m \u001b[0;34m\u001b[0m\u001b[0m\n\u001b[1;32m   1041\u001b[0m             \u001b[0;32mwith\u001b[0m \u001b[0mself\u001b[0m\u001b[0;34m.\u001b[0m\u001b[0m_backend\u001b[0m\u001b[0;34m.\u001b[0m\u001b[0mretrieval_context\u001b[0m\u001b[0;34m(\u001b[0m\u001b[0;34m)\u001b[0m\u001b[0;34m:\u001b[0m\u001b[0;34m\u001b[0m\u001b[0;34m\u001b[0m\u001b[0m\n\u001b[0;32m-> 1042\u001b[0;31m                 \u001b[0mself\u001b[0m\u001b[0;34m.\u001b[0m\u001b[0mretrieve\u001b[0m\u001b[0;34m(\u001b[0m\u001b[0;34m)\u001b[0m\u001b[0;34m\u001b[0m\u001b[0;34m\u001b[0m\u001b[0m\n\u001b[0m\u001b[1;32m   1043\u001b[0m             \u001b[0;31m# Make sure that we get a last message telling us we are done\u001b[0m\u001b[0;34m\u001b[0m\u001b[0;34m\u001b[0m\u001b[0;34m\u001b[0m\u001b[0m\n\u001b[1;32m   1044\u001b[0m             \u001b[0melapsed_time\u001b[0m \u001b[0;34m=\u001b[0m \u001b[0mtime\u001b[0m\u001b[0;34m.\u001b[0m\u001b[0mtime\u001b[0m\u001b[0;34m(\u001b[0m\u001b[0;34m)\u001b[0m \u001b[0;34m-\u001b[0m \u001b[0mself\u001b[0m\u001b[0;34m.\u001b[0m\u001b[0m_start_time\u001b[0m\u001b[0;34m\u001b[0m\u001b[0;34m\u001b[0m\u001b[0m\n",
      "\u001b[0;32m~/anaconda3/envs/life-science/lib/python3.6/site-packages/joblib/parallel.py\u001b[0m in \u001b[0;36mretrieve\u001b[0;34m(self)\u001b[0m\n\u001b[1;32m    919\u001b[0m             \u001b[0;32mtry\u001b[0m\u001b[0;34m:\u001b[0m\u001b[0;34m\u001b[0m\u001b[0;34m\u001b[0m\u001b[0m\n\u001b[1;32m    920\u001b[0m                 \u001b[0;32mif\u001b[0m \u001b[0mgetattr\u001b[0m\u001b[0;34m(\u001b[0m\u001b[0mself\u001b[0m\u001b[0;34m.\u001b[0m\u001b[0m_backend\u001b[0m\u001b[0;34m,\u001b[0m \u001b[0;34m'supports_timeout'\u001b[0m\u001b[0;34m,\u001b[0m \u001b[0;32mFalse\u001b[0m\u001b[0;34m)\u001b[0m\u001b[0;34m:\u001b[0m\u001b[0;34m\u001b[0m\u001b[0;34m\u001b[0m\u001b[0m\n\u001b[0;32m--> 921\u001b[0;31m                     \u001b[0mself\u001b[0m\u001b[0;34m.\u001b[0m\u001b[0m_output\u001b[0m\u001b[0;34m.\u001b[0m\u001b[0mextend\u001b[0m\u001b[0;34m(\u001b[0m\u001b[0mjob\u001b[0m\u001b[0;34m.\u001b[0m\u001b[0mget\u001b[0m\u001b[0;34m(\u001b[0m\u001b[0mtimeout\u001b[0m\u001b[0;34m=\u001b[0m\u001b[0mself\u001b[0m\u001b[0;34m.\u001b[0m\u001b[0mtimeout\u001b[0m\u001b[0;34m)\u001b[0m\u001b[0;34m)\u001b[0m\u001b[0;34m\u001b[0m\u001b[0;34m\u001b[0m\u001b[0m\n\u001b[0m\u001b[1;32m    922\u001b[0m                 \u001b[0;32melse\u001b[0m\u001b[0;34m:\u001b[0m\u001b[0;34m\u001b[0m\u001b[0;34m\u001b[0m\u001b[0m\n\u001b[1;32m    923\u001b[0m                     \u001b[0mself\u001b[0m\u001b[0;34m.\u001b[0m\u001b[0m_output\u001b[0m\u001b[0;34m.\u001b[0m\u001b[0mextend\u001b[0m\u001b[0;34m(\u001b[0m\u001b[0mjob\u001b[0m\u001b[0;34m.\u001b[0m\u001b[0mget\u001b[0m\u001b[0;34m(\u001b[0m\u001b[0;34m)\u001b[0m\u001b[0;34m)\u001b[0m\u001b[0;34m\u001b[0m\u001b[0;34m\u001b[0m\u001b[0m\n",
      "\u001b[0;32m~/anaconda3/envs/life-science/lib/python3.6/site-packages/joblib/_parallel_backends.py\u001b[0m in \u001b[0;36mwrap_future_result\u001b[0;34m(future, timeout)\u001b[0m\n\u001b[1;32m    538\u001b[0m         AsyncResults.get from multiprocessing.\"\"\"\n\u001b[1;32m    539\u001b[0m         \u001b[0;32mtry\u001b[0m\u001b[0;34m:\u001b[0m\u001b[0;34m\u001b[0m\u001b[0;34m\u001b[0m\u001b[0m\n\u001b[0;32m--> 540\u001b[0;31m             \u001b[0;32mreturn\u001b[0m \u001b[0mfuture\u001b[0m\u001b[0;34m.\u001b[0m\u001b[0mresult\u001b[0m\u001b[0;34m(\u001b[0m\u001b[0mtimeout\u001b[0m\u001b[0;34m=\u001b[0m\u001b[0mtimeout\u001b[0m\u001b[0;34m)\u001b[0m\u001b[0;34m\u001b[0m\u001b[0;34m\u001b[0m\u001b[0m\n\u001b[0m\u001b[1;32m    541\u001b[0m         \u001b[0;32mexcept\u001b[0m \u001b[0mCfTimeoutError\u001b[0m\u001b[0;34m:\u001b[0m\u001b[0;34m\u001b[0m\u001b[0;34m\u001b[0m\u001b[0m\n\u001b[1;32m    542\u001b[0m             \u001b[0;32mraise\u001b[0m \u001b[0mTimeoutError\u001b[0m\u001b[0;34m(\u001b[0m\u001b[0;34m)\u001b[0m\u001b[0;34m\u001b[0m\u001b[0;34m\u001b[0m\u001b[0m\n",
      "\u001b[0;32m~/anaconda3/envs/life-science/lib/python3.6/concurrent/futures/_base.py\u001b[0m in \u001b[0;36mresult\u001b[0;34m(self, timeout)\u001b[0m\n\u001b[1;32m    430\u001b[0m                 \u001b[0;32mraise\u001b[0m \u001b[0mCancelledError\u001b[0m\u001b[0;34m(\u001b[0m\u001b[0;34m)\u001b[0m\u001b[0;34m\u001b[0m\u001b[0;34m\u001b[0m\u001b[0m\n\u001b[1;32m    431\u001b[0m             \u001b[0;32melif\u001b[0m \u001b[0mself\u001b[0m\u001b[0;34m.\u001b[0m\u001b[0m_state\u001b[0m \u001b[0;34m==\u001b[0m \u001b[0mFINISHED\u001b[0m\u001b[0;34m:\u001b[0m\u001b[0;34m\u001b[0m\u001b[0;34m\u001b[0m\u001b[0m\n\u001b[0;32m--> 432\u001b[0;31m                 \u001b[0;32mreturn\u001b[0m \u001b[0mself\u001b[0m\u001b[0;34m.\u001b[0m\u001b[0m__get_result\u001b[0m\u001b[0;34m(\u001b[0m\u001b[0;34m)\u001b[0m\u001b[0;34m\u001b[0m\u001b[0;34m\u001b[0m\u001b[0m\n\u001b[0m\u001b[1;32m    433\u001b[0m             \u001b[0;32melse\u001b[0m\u001b[0;34m:\u001b[0m\u001b[0;34m\u001b[0m\u001b[0;34m\u001b[0m\u001b[0m\n\u001b[1;32m    434\u001b[0m                 \u001b[0;32mraise\u001b[0m \u001b[0mTimeoutError\u001b[0m\u001b[0;34m(\u001b[0m\u001b[0;34m)\u001b[0m\u001b[0;34m\u001b[0m\u001b[0;34m\u001b[0m\u001b[0m\n",
      "\u001b[0;32m~/anaconda3/envs/life-science/lib/python3.6/concurrent/futures/_base.py\u001b[0m in \u001b[0;36m__get_result\u001b[0;34m(self)\u001b[0m\n\u001b[1;32m    382\u001b[0m     \u001b[0;32mdef\u001b[0m \u001b[0m__get_result\u001b[0m\u001b[0;34m(\u001b[0m\u001b[0mself\u001b[0m\u001b[0;34m)\u001b[0m\u001b[0;34m:\u001b[0m\u001b[0;34m\u001b[0m\u001b[0;34m\u001b[0m\u001b[0m\n\u001b[1;32m    383\u001b[0m         \u001b[0;32mif\u001b[0m \u001b[0mself\u001b[0m\u001b[0;34m.\u001b[0m\u001b[0m_exception\u001b[0m\u001b[0;34m:\u001b[0m\u001b[0;34m\u001b[0m\u001b[0;34m\u001b[0m\u001b[0m\n\u001b[0;32m--> 384\u001b[0;31m             \u001b[0;32mraise\u001b[0m \u001b[0mself\u001b[0m\u001b[0;34m.\u001b[0m\u001b[0m_exception\u001b[0m\u001b[0;34m\u001b[0m\u001b[0;34m\u001b[0m\u001b[0m\n\u001b[0m\u001b[1;32m    385\u001b[0m         \u001b[0;32melse\u001b[0m\u001b[0;34m:\u001b[0m\u001b[0;34m\u001b[0m\u001b[0;34m\u001b[0m\u001b[0m\n\u001b[1;32m    386\u001b[0m             \u001b[0;32mreturn\u001b[0m \u001b[0mself\u001b[0m\u001b[0;34m.\u001b[0m\u001b[0m_result\u001b[0m\u001b[0;34m\u001b[0m\u001b[0;34m\u001b[0m\u001b[0m\n",
      "\u001b[0;31mValueError\u001b[0m: max_features must be in (0, n_features]"
     ]
    }
   ],
   "source": [
    "selector.fit(aa_dipep_freq, df['lessthan5'])"
   ]
  },
  {
   "cell_type": "code",
   "execution_count": 130,
   "id": "meaningful-soldier",
   "metadata": {},
   "outputs": [
    {
     "data": {
      "text/plain": [
       "287"
      ]
     },
     "execution_count": 130,
     "metadata": {},
     "output_type": "execute_result"
    }
   ],
   "source": [
    "selector.n_features_"
   ]
  },
  {
   "cell_type": "code",
   "execution_count": 132,
   "id": "demographic-homework",
   "metadata": {},
   "outputs": [
    {
     "data": {
      "text/plain": [
       "Index(['A', 'C', 'D', 'E', 'F', 'G', 'H', 'I', 'K', 'L',\n",
       "       ...\n",
       "       'WV', 'WY', 'YD', 'YF', 'YI', 'YL', 'YQ', 'YR', 'YT', 'YY'],\n",
       "      dtype='object', length=287)"
      ]
     },
     "execution_count": 132,
     "metadata": {},
     "output_type": "execute_result"
    }
   ],
   "source": [
    "aa_dipep_freq.columns[selector.support_]"
   ]
  },
  {
   "cell_type": "code",
   "execution_count": 125,
   "id": "invalid-credits",
   "metadata": {},
   "outputs": [],
   "source": [
    "train_features_selected = selector.transform(X_train)\n",
    "test_features_selected = selector.transform(X_test)"
   ]
  },
  {
   "cell_type": "code",
   "execution_count": 133,
   "id": "pointed-interference",
   "metadata": {},
   "outputs": [],
   "source": [
    "rf_clf = RandomForestClassifier(class_weight='balanced', **grid_search.best_params_)"
   ]
  },
  {
   "cell_type": "code",
   "execution_count": 134,
   "id": "mysterious-victorian",
   "metadata": {},
   "outputs": [
    {
     "data": {
      "text/plain": [
       "RandomForestClassifier(class_weight='balanced', max_depth=80, max_features=2,\n",
       "                       min_samples_split=10, n_estimators=300)"
      ]
     },
     "execution_count": 134,
     "metadata": {},
     "output_type": "execute_result"
    }
   ],
   "source": [
    "rf_clf.fit(train_features_selected, y_train)"
   ]
  },
  {
   "cell_type": "code",
   "execution_count": 135,
   "id": "binary-lebanon",
   "metadata": {},
   "outputs": [],
   "source": [
    "y_pred = rf_clf.predict(test_features_selected)"
   ]
  },
  {
   "cell_type": "code",
   "execution_count": 136,
   "id": "strong-cement",
   "metadata": {},
   "outputs": [
    {
     "name": "stdout",
     "output_type": "stream",
     "text": [
      "Accuracy: 0.7343\n",
      "F1-score: 0.6984\n",
      "AUROC: 0.7341\n",
      "MCC: 0.4635\n",
      "              precision    recall  f1-score   support\n",
      "\n",
      "           0       0.79      0.73      0.76        83\n",
      "           1       0.67      0.73      0.70        60\n",
      "\n",
      "    accuracy                           0.73       143\n",
      "   macro avg       0.73      0.73      0.73       143\n",
      "weighted avg       0.74      0.73      0.74       143\n",
      "\n"
     ]
    }
   ],
   "source": [
    "get_score(y_test, y_pred)"
   ]
  },
  {
   "cell_type": "code",
   "execution_count": null,
   "id": "joint-cutting",
   "metadata": {},
   "outputs": [],
   "source": []
  }
 ],
 "metadata": {
  "kernelspec": {
   "display_name": "Python 3",
   "language": "python",
   "name": "python3"
  },
  "language_info": {
   "codemirror_mode": {
    "name": "ipython",
    "version": 3
   },
   "file_extension": ".py",
   "mimetype": "text/x-python",
   "name": "python",
   "nbconvert_exporter": "python",
   "pygments_lexer": "ipython3",
   "version": "3.6.10"
  }
 },
 "nbformat": 4,
 "nbformat_minor": 5
}
