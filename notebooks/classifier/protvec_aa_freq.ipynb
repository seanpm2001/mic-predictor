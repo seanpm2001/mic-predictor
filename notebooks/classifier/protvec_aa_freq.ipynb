{
 "cells": [
  {
   "cell_type": "code",
   "execution_count": 1,
   "id": "intelligent-skirt",
   "metadata": {},
   "outputs": [
    {
     "data": {
      "text/plain": [
       "'/Users/in-divye.singh/Documents/Projects/MIC_predictor/notebooks/classifier'"
      ]
     },
     "execution_count": 1,
     "metadata": {},
     "output_type": "execute_result"
    }
   ],
   "source": [
    "pwd"
   ]
  },
  {
   "cell_type": "code",
   "execution_count": 2,
   "id": "clear-index",
   "metadata": {},
   "outputs": [
    {
     "name": "stdout",
     "output_type": "stream",
     "text": [
      "/Users/in-divye.singh/Documents/Projects/MIC_predictor\n"
     ]
    }
   ],
   "source": [
    "cd ../../"
   ]
  },
  {
   "cell_type": "code",
   "execution_count": 3,
   "id": "charitable-kansas",
   "metadata": {},
   "outputs": [],
   "source": [
    "from notebooks.utils import *"
   ]
  },
  {
   "cell_type": "code",
   "execution_count": 4,
   "id": "complete-thinking",
   "metadata": {},
   "outputs": [],
   "source": [
    "import biovec\n",
    "import numpy as np\n",
    "import pandas as pd\n",
    "from itertools import chain\n",
    "from collections import Counter"
   ]
  },
  {
   "cell_type": "code",
   "execution_count": 5,
   "id": "forbidden-thinking",
   "metadata": {},
   "outputs": [],
   "source": [
    "import matplotlib.pyplot as plt\n",
    "import seaborn as sns"
   ]
  },
  {
   "cell_type": "code",
   "execution_count": 6,
   "id": "above-bobby",
   "metadata": {},
   "outputs": [],
   "source": [
    "from sklearn.svm import SVC\n",
    "from sklearn.metrics import make_scorer\n",
    "from sklearn.model_selection import GridSearchCV\n",
    "from sklearn.ensemble import RandomForestClassifier\n",
    "from sklearn.metrics import accuracy_score, f1_score, roc_auc_score, matthews_corrcoef\n",
    "from sklearn.metrics import classification_report, confusion_matrix, make_scorer\n",
    "from sklearn.model_selection import train_test_split"
   ]
  },
  {
   "cell_type": "code",
   "execution_count": 7,
   "id": "personal-squad",
   "metadata": {},
   "outputs": [],
   "source": [
    "from sklearn.manifold import TSNE\n",
    "from sklearn.decomposition import PCA"
   ]
  },
  {
   "cell_type": "code",
   "execution_count": 8,
   "id": "infinite-grammar",
   "metadata": {},
   "outputs": [],
   "source": [
    "avp_ic50 = pd.read_csv(\"data/raw/AVP-IC50Pred_train.csv\")\n",
    "ha_avp = pd.read_csv(\"data/raw/HA_AVP.csv\")\n",
    "\n",
    "df = pd.concat([avp_ic50[['Sequence','MIC']], ha_avp], axis=0).drop_duplicates(['Sequence']).reset_index(drop=True)\n",
    "df = sequence_filtering(df)"
   ]
  },
  {
   "cell_type": "code",
   "execution_count": 9,
   "id": "unlimited-romantic",
   "metadata": {},
   "outputs": [],
   "source": [
    "df['lessthan5'] = df['MIC'].apply(lambda mic: 1 if mic <= 5 else 0)"
   ]
  },
  {
   "cell_type": "code",
   "execution_count": 10,
   "id": "graphic-buffer",
   "metadata": {},
   "outputs": [
    {
     "data": {
      "text/plain": [
       "<matplotlib.axes._subplots.AxesSubplot at 0x1a1e349c50>"
      ]
     },
     "execution_count": 10,
     "metadata": {},
     "output_type": "execute_result"
    },
    {
     "data": {
      "image/png": "[encoded data removed]",
      "text/plain": [
       "<Figure size 432x288 with 1 Axes>"
      ]
     },
     "metadata": {
      "needs_background": "light"
     },
     "output_type": "display_data"
    }
   ],
   "source": [
    "count = dict(Counter(df['lessthan5']))\n",
    "sns.barplot(x = [str(k) for k in count.keys()], y=[float(v) for v in count.values()])"
   ]
  },
  {
   "cell_type": "code",
   "execution_count": 11,
   "id": "collected-holly",
   "metadata": {},
   "outputs": [],
   "source": [
    "def get_score(y_true, y_pred):\n",
    "    print(f'Accuracy: {round(accuracy_score(y_true, y_pred), 4)}')\n",
    "    print(f'F1-score: {round(f1_score(y_true, y_pred), 4)}')\n",
    "    print(f'AUROC: {round(roc_auc_score(y_true, y_pred), 4)}')\n",
    "    print(f'MCC: {round(matthews_corrcoef(y_true, y_pred), 4)}')\n",
    "    print(classification_report(y_test, y_pred))"
   ]
  },
  {
   "cell_type": "markdown",
   "id": "unlike-morgan",
   "metadata": {},
   "source": [
    "### ProtVec"
   ]
  },
  {
   "cell_type": "code",
   "execution_count": 13,
   "id": "arabic-shelter",
   "metadata": {},
   "outputs": [
    {
     "name": "stderr",
     "output_type": "stream",
     "text": [
      "Creating vectors: 100%|██████████| 712/712 [00:00<00:00, 1150.29sequence/s]\n"
     ]
    }
   ],
   "source": [
    "############# Prot2Vec #############\n",
    "uniprot_embedding = biovec.models.load_protvec(\"data/embeddings/uniprot__kmer_3_contextWindow_10_vector_100_reduction_None\")\n",
    "\n",
    "avg_vectors = convert_sequences_to_avg_vectors(df['Sequence'], uniprot_embedding)\n",
    "avg_vectors = avg_vectors.reset_index(drop=True)"
   ]
  },
  {
   "cell_type": "code",
   "execution_count": 46,
   "id": "young-sunday",
   "metadata": {},
   "outputs": [],
   "source": [
    "X_train, X_test, y_train, y_test = train_test_split(avg_vectors, df['lessthan5'], test_size=0.2, random_state=42)"
   ]
  },
  {
   "cell_type": "code",
   "execution_count": 47,
   "id": "perfect-telephone",
   "metadata": {},
   "outputs": [
    {
     "data": {
      "text/plain": [
       "((569, 100), (143, 100))"
      ]
     },
     "execution_count": 47,
     "metadata": {},
     "output_type": "execute_result"
    }
   ],
   "source": [
    "X_train.shape, X_test.shape"
   ]
  },
  {
   "cell_type": "code",
   "execution_count": 52,
   "id": "early-legend",
   "metadata": {},
   "outputs": [],
   "source": [
    "rf = RandomForestClassifier(class_weight=\"balanced\")"
   ]
  },
  {
   "cell_type": "code",
   "execution_count": 53,
   "id": "portable-bicycle",
   "metadata": {},
   "outputs": [
    {
     "data": {
      "text/plain": [
       "RandomForestClassifier(class_weight='balanced')"
      ]
     },
     "execution_count": 53,
     "metadata": {},
     "output_type": "execute_result"
    }
   ],
   "source": [
    "rf.fit(X_train, y_train)"
   ]
  },
  {
   "cell_type": "code",
   "execution_count": 54,
   "id": "emotional-characteristic",
   "metadata": {},
   "outputs": [],
   "source": [
    "y_pred = rf.predict(X_test)"
   ]
  },
  {
   "cell_type": "code",
   "execution_count": 55,
   "id": "golden-swimming",
   "metadata": {},
   "outputs": [
    {
     "name": "stdout",
     "output_type": "stream",
     "text": [
      "Accuracy: 0.7343\n",
      "F1-score: 0.6833\n",
      "AUROC: 0.7272\n",
      "MCC: 0.4544\n",
      "              precision    recall  f1-score   support\n",
      "\n",
      "           0       0.77      0.77      0.77        83\n",
      "           1       0.68      0.68      0.68        60\n",
      "\n",
      "    accuracy                           0.73       143\n",
      "   macro avg       0.73      0.73      0.73       143\n",
      "weighted avg       0.73      0.73      0.73       143\n",
      "\n"
     ]
    }
   ],
   "source": [
    "get_score(y_test, y_pred)"
   ]
  },
  {
   "cell_type": "code",
   "execution_count": 56,
   "id": "artistic-fusion",
   "metadata": {},
   "outputs": [],
   "source": [
    "mcc_scorer = make_scorer(matthews_corrcoef)"
   ]
  },
  {
   "cell_type": "code",
   "execution_count": 57,
   "id": "extensive-acrylic",
   "metadata": {},
   "outputs": [],
   "source": [
    "# Create the parameter grid based on the results of random search \n",
    "param_grid = {\n",
    "    'max_depth': [None, 80, 90, 100, 110],\n",
    "    'max_features': ['auto', 2, 3],\n",
    "    'min_samples_leaf': [1, 2, 3, 4, 5],\n",
    "    'min_samples_split': [2, 8, 10, 12],\n",
    "    'n_estimators': [100, 200, 300, 500]\n",
    "}\n",
    "# Create a based model\n",
    "rf = RandomForestClassifier(class_weight=\"balanced\")\n",
    "# Instantiate the grid search model\n",
    "grid_search = GridSearchCV(estimator = rf, param_grid = param_grid, \n",
    "                          cv = 3, n_jobs = -1, verbose = 1, scoring=mcc_scorer)"
   ]
  },
  {
   "cell_type": "code",
   "execution_count": 58,
   "id": "affiliated-assessment",
   "metadata": {
    "scrolled": false
   },
   "outputs": [
    {
     "name": "stdout",
     "output_type": "stream",
     "text": [
      "Fitting 3 folds for each of 1200 candidates, totalling 3600 fits\n"
     ]
    },
    {
     "name": "stderr",
     "output_type": "stream",
     "text": [
      "[Parallel(n_jobs=-1)]: Using backend LokyBackend with 12 concurrent workers.\n",
      "[Parallel(n_jobs=-1)]: Done  26 tasks      | elapsed:    4.8s\n",
      "[Parallel(n_jobs=-1)]: Done 176 tasks      | elapsed:   19.8s\n",
      "[Parallel(n_jobs=-1)]: Done 426 tasks      | elapsed:   40.7s\n",
      "[Parallel(n_jobs=-1)]: Done 776 tasks      | elapsed:  1.2min\n",
      "[Parallel(n_jobs=-1)]: Done 1226 tasks      | elapsed:  2.0min\n",
      "[Parallel(n_jobs=-1)]: Done 1776 tasks      | elapsed:  2.9min\n",
      "[Parallel(n_jobs=-1)]: Done 2426 tasks      | elapsed:  4.0min\n",
      "[Parallel(n_jobs=-1)]: Done 3176 tasks      | elapsed:  5.3min\n",
      "[Parallel(n_jobs=-1)]: Done 3600 out of 3600 | elapsed:  5.9min finished\n"
     ]
    },
    {
     "data": {
      "text/plain": [
       "GridSearchCV(cv=3, estimator=RandomForestClassifier(class_weight='balanced'),\n",
       "             n_jobs=-1,\n",
       "             param_grid={'max_depth': [None, 80, 90, 100, 110],\n",
       "                         'max_features': ['auto', 2, 3],\n",
       "                         'min_samples_leaf': [1, 2, 3, 4, 5],\n",
       "                         'min_samples_split': [2, 8, 10, 12],\n",
       "                         'n_estimators': [100, 200, 300, 500]},\n",
       "             scoring=make_scorer(matthews_corrcoef), verbose=1)"
      ]
     },
     "execution_count": 58,
     "metadata": {},
     "output_type": "execute_result"
    }
   ],
   "source": [
    "grid_search.fit(X_train, y_train)"
   ]
  },
  {
   "cell_type": "code",
   "execution_count": 59,
   "id": "inner-approval",
   "metadata": {},
   "outputs": [
    {
     "data": {
      "text/plain": [
       "{'max_depth': 90,\n",
       " 'max_features': 2,\n",
       " 'min_samples_leaf': 1,\n",
       " 'min_samples_split': 2,\n",
       " 'n_estimators': 500}"
      ]
     },
     "execution_count": 59,
     "metadata": {},
     "output_type": "execute_result"
    }
   ],
   "source": [
    "grid_search.best_params_"
   ]
  },
  {
   "cell_type": "code",
   "execution_count": 68,
   "id": "potential-linux",
   "metadata": {},
   "outputs": [],
   "source": [
    "rf_clf = RandomForestClassifier(class_weight='balanced', **grid_search.best_params_)"
   ]
  },
  {
   "cell_type": "code",
   "execution_count": 105,
   "id": "unavailable-aging",
   "metadata": {},
   "outputs": [
    {
     "data": {
      "text/plain": [
       "RandomForestClassifier(class_weight='balanced', max_depth=90, max_features=2,\n",
       "                       n_estimators=500)"
      ]
     },
     "execution_count": 105,
     "metadata": {},
     "output_type": "execute_result"
    }
   ],
   "source": [
    "rf_clf.fit(X_train, y_train)"
   ]
  },
  {
   "cell_type": "code",
   "execution_count": 106,
   "id": "checked-facility",
   "metadata": {},
   "outputs": [],
   "source": [
    "best_grid = grid_search.best_estimator_"
   ]
  },
  {
   "cell_type": "code",
   "execution_count": 107,
   "id": "inner-enough",
   "metadata": {},
   "outputs": [],
   "source": [
    "y_pred = rf_clf.predict(X_test)"
   ]
  },
  {
   "cell_type": "code",
   "execution_count": 108,
   "id": "confused-tragedy",
   "metadata": {},
   "outputs": [
    {
     "name": "stdout",
     "output_type": "stream",
     "text": [
      "Accuracy: 0.7483\n",
      "F1-score: 0.7049\n",
      "AUROC: 0.7439\n",
      "MCC: 0.4857\n",
      "              precision    recall  f1-score   support\n",
      "\n",
      "           0       0.79      0.77      0.78        83\n",
      "           1       0.69      0.72      0.70        60\n",
      "\n",
      "    accuracy                           0.75       143\n",
      "   macro avg       0.74      0.74      0.74       143\n",
      "weighted avg       0.75      0.75      0.75       143\n",
      "\n"
     ]
    }
   ],
   "source": [
    "get_score(y_test, y_pred)"
   ]
  },
  {
   "cell_type": "markdown",
   "id": "presidential-volunteer",
   "metadata": {},
   "source": [
    "### ProtVec + AA frequence"
   ]
  },
  {
   "cell_type": "code",
   "execution_count": 21,
   "id": "vanilla-samoa",
   "metadata": {},
   "outputs": [],
   "source": [
    "aa_freq = reduce_by_kmer_frequency(df)"
   ]
  },
  {
   "cell_type": "code",
   "execution_count": 22,
   "id": "comparative-calendar",
   "metadata": {},
   "outputs": [],
   "source": [
    "protvec_aa_freq = pd.concat([avg_vectors, aa_freq], axis=1)"
   ]
  },
  {
   "cell_type": "code",
   "execution_count": 23,
   "id": "educational-receptor",
   "metadata": {},
   "outputs": [],
   "source": [
    "X_train, X_test, y_train, y_test = train_test_split(protvec_aa_freq, df['lessthan5'], test_size=0.2, random_state=42)"
   ]
  },
  {
   "cell_type": "code",
   "execution_count": 24,
   "id": "integrated-council",
   "metadata": {},
   "outputs": [
    {
     "data": {
      "text/plain": [
       "((569, 120), (143, 120))"
      ]
     },
     "execution_count": 24,
     "metadata": {},
     "output_type": "execute_result"
    }
   ],
   "source": [
    "X_train.shape, X_test.shape"
   ]
  },
  {
   "cell_type": "code",
   "execution_count": 25,
   "id": "automated-flexibility",
   "metadata": {},
   "outputs": [],
   "source": [
    "rf = RandomForestClassifier(class_weight=\"balanced\")"
   ]
  },
  {
   "cell_type": "code",
   "execution_count": 26,
   "id": "ultimate-emerald",
   "metadata": {},
   "outputs": [
    {
     "data": {
      "text/plain": [
       "RandomForestClassifier(class_weight='balanced')"
      ]
     },
     "execution_count": 26,
     "metadata": {},
     "output_type": "execute_result"
    }
   ],
   "source": [
    "rf.fit(X_train, y_train)"
   ]
  },
  {
   "cell_type": "code",
   "execution_count": 27,
   "id": "ecological-teach",
   "metadata": {},
   "outputs": [],
   "source": [
    "y_pred = rf.predict(X_test)"
   ]
  },
  {
   "cell_type": "code",
   "execution_count": 28,
   "id": "detailed-fitness",
   "metadata": {},
   "outputs": [
    {
     "name": "stdout",
     "output_type": "stream",
     "text": [
      "Accuracy: 0.7203\n",
      "F1-score: 0.6825\n",
      "AUROC: 0.7198\n",
      "MCC: 0.4351\n",
      "              precision    recall  f1-score   support\n",
      "\n",
      "           0       0.78      0.72      0.75        83\n",
      "           1       0.65      0.72      0.68        60\n",
      "\n",
      "    accuracy                           0.72       143\n",
      "   macro avg       0.72      0.72      0.72       143\n",
      "weighted avg       0.73      0.72      0.72       143\n",
      "\n"
     ]
    }
   ],
   "source": [
    "get_score(y_test, y_pred)"
   ]
  },
  {
   "cell_type": "markdown",
   "id": "numerous-counter",
   "metadata": {},
   "source": [
    "### ProtVec + dipep freq"
   ]
  },
  {
   "cell_type": "code",
   "execution_count": 29,
   "id": "deadly-brooks",
   "metadata": {},
   "outputs": [],
   "source": [
    "dipep_freq = reduce_by_kmer_frequency(df, kmer=2)"
   ]
  },
  {
   "cell_type": "code",
   "execution_count": 30,
   "id": "nearby-qatar",
   "metadata": {},
   "outputs": [],
   "source": [
    "protvec_dipep_freq = pd.concat([avg_vectors, dipep_freq], axis=1)"
   ]
  },
  {
   "cell_type": "code",
   "execution_count": 31,
   "id": "younger-antique",
   "metadata": {},
   "outputs": [],
   "source": [
    "X_train, X_test, y_train, y_test = train_test_split(protvec_dipep_freq, df['lessthan5'], test_size=0.2, random_state=42)"
   ]
  },
  {
   "cell_type": "code",
   "execution_count": 32,
   "id": "atlantic-monthly",
   "metadata": {},
   "outputs": [
    {
     "data": {
      "text/plain": [
       "((569, 500), (143, 500))"
      ]
     },
     "execution_count": 32,
     "metadata": {},
     "output_type": "execute_result"
    }
   ],
   "source": [
    "X_train.shape, X_test.shape"
   ]
  },
  {
   "cell_type": "code",
   "execution_count": 33,
   "id": "compact-queen",
   "metadata": {},
   "outputs": [],
   "source": [
    "rf = RandomForestClassifier(class_weight=\"balanced\")"
   ]
  },
  {
   "cell_type": "code",
   "execution_count": 34,
   "id": "suburban-investigator",
   "metadata": {},
   "outputs": [
    {
     "data": {
      "text/plain": [
       "RandomForestClassifier(class_weight='balanced')"
      ]
     },
     "execution_count": 34,
     "metadata": {},
     "output_type": "execute_result"
    }
   ],
   "source": [
    "rf.fit(X_train, y_train)"
   ]
  },
  {
   "cell_type": "code",
   "execution_count": 35,
   "id": "framed-watershed",
   "metadata": {},
   "outputs": [],
   "source": [
    "y_pred = rf.predict(X_test)"
   ]
  },
  {
   "cell_type": "code",
   "execution_count": 36,
   "id": "strategic-disposition",
   "metadata": {},
   "outputs": [
    {
     "name": "stdout",
     "output_type": "stream",
     "text": [
      "Accuracy: 0.7343\n",
      "F1-score: 0.6984\n",
      "AUROC: 0.7341\n",
      "MCC: 0.4635\n",
      "              precision    recall  f1-score   support\n",
      "\n",
      "           0       0.79      0.73      0.76        83\n",
      "           1       0.67      0.73      0.70        60\n",
      "\n",
      "    accuracy                           0.73       143\n",
      "   macro avg       0.73      0.73      0.73       143\n",
      "weighted avg       0.74      0.73      0.74       143\n",
      "\n"
     ]
    }
   ],
   "source": [
    "get_score(y_test, y_pred)"
   ]
  },
  {
   "cell_type": "markdown",
   "id": "utility-tamil",
   "metadata": {},
   "source": [
    "### ProtVec + AA frequence + Dipeptide frequency"
   ]
  },
  {
   "cell_type": "code",
   "execution_count": 37,
   "id": "cross-triangle",
   "metadata": {},
   "outputs": [],
   "source": [
    "protvec_aa_dipep = pd.concat([avg_vectors, aa_freq, dipep_freq], axis=1)"
   ]
  },
  {
   "cell_type": "code",
   "execution_count": 124,
   "id": "liberal-pricing",
   "metadata": {},
   "outputs": [],
   "source": [
    "X_train, X_test, y_train, y_test = train_test_split(protvec_aa_dipep, df['lessthan5'], test_size=0.2, random_state=42)"
   ]
  },
  {
   "cell_type": "code",
   "execution_count": 125,
   "id": "seven-richardson",
   "metadata": {},
   "outputs": [
    {
     "data": {
      "text/plain": [
       "((569, 520), (143, 520))"
      ]
     },
     "execution_count": 125,
     "metadata": {},
     "output_type": "execute_result"
    }
   ],
   "source": [
    "X_train.shape, X_test.shape"
   ]
  },
  {
   "cell_type": "code",
   "execution_count": 40,
   "id": "neutral-listing",
   "metadata": {},
   "outputs": [],
   "source": [
    "rf = RandomForestClassifier(class_weight=\"balanced\")"
   ]
  },
  {
   "cell_type": "code",
   "execution_count": 41,
   "id": "registered-utilization",
   "metadata": {},
   "outputs": [
    {
     "data": {
      "text/plain": [
       "RandomForestClassifier(class_weight='balanced')"
      ]
     },
     "execution_count": 41,
     "metadata": {},
     "output_type": "execute_result"
    }
   ],
   "source": [
    "rf.fit(X_train, y_train)"
   ]
  },
  {
   "cell_type": "code",
   "execution_count": 42,
   "id": "suited-telling",
   "metadata": {},
   "outputs": [],
   "source": [
    "y_pred = rf.predict(X_test)"
   ]
  },
  {
   "cell_type": "code",
   "execution_count": 43,
   "id": "forbidden-california",
   "metadata": {},
   "outputs": [
    {
     "name": "stdout",
     "output_type": "stream",
     "text": [
      "Accuracy: 0.7343\n",
      "F1-score: 0.6935\n",
      "AUROC: 0.7318\n",
      "MCC: 0.4602\n",
      "              precision    recall  f1-score   support\n",
      "\n",
      "           0       0.78      0.75      0.77        83\n",
      "           1       0.67      0.72      0.69        60\n",
      "\n",
      "    accuracy                           0.73       143\n",
      "   macro avg       0.73      0.73      0.73       143\n",
      "weighted avg       0.74      0.73      0.74       143\n",
      "\n"
     ]
    }
   ],
   "source": [
    "get_score(y_test, y_pred)"
   ]
  },
  {
   "cell_type": "markdown",
   "id": "floppy-wallpaper",
   "metadata": {},
   "source": [
    "### Feature selection - Boruta"
   ]
  },
  {
   "cell_type": "code",
   "execution_count": 45,
   "id": "saved-belgium",
   "metadata": {},
   "outputs": [],
   "source": [
    "from boruta import BorutaPy"
   ]
  },
  {
   "cell_type": "code",
   "execution_count": 119,
   "id": "forward-indianapolis",
   "metadata": {},
   "outputs": [],
   "source": [
    "boruta = BorutaPy(estimator = rf_clf, n_estimators = 'auto', max_iter = 10000)"
   ]
  },
  {
   "cell_type": "code",
   "execution_count": 120,
   "id": "nasty-portsmouth",
   "metadata": {},
   "outputs": [
    {
     "data": {
      "text/plain": [
       "BorutaPy(estimator=RandomForestClassifier(class_weight='balanced', max_depth=90,\n",
       "                                          max_features=2, n_estimators=4,\n",
       "                                          random_state=RandomState(MT19937) at 0x10ABEABA0),\n",
       "         max_iter=10000, n_estimators='auto',\n",
       "         random_state=RandomState(MT19937) at 0x10ABEABA0)"
      ]
     },
     "execution_count": 120,
     "metadata": {},
     "output_type": "execute_result"
    }
   ],
   "source": [
    "boruta.fit(protvec_aa_dipep.values, df['lessthan5'])"
   ]
  },
  {
   "cell_type": "code",
   "execution_count": 127,
   "id": "popular-audit",
   "metadata": {},
   "outputs": [],
   "source": [
    "train_features_selected = X_train[X_train.columns[boruta.support_]]\n",
    "test_features_selected = X_test[X_test.columns[boruta.support_]]"
   ]
  },
  {
   "cell_type": "code",
   "execution_count": 139,
   "id": "scheduled-adams",
   "metadata": {},
   "outputs": [],
   "source": [
    "rf_clf = RandomForestClassifier(class_weight='balanced')"
   ]
  },
  {
   "cell_type": "code",
   "execution_count": 140,
   "id": "impossible-huntington",
   "metadata": {
    "scrolled": true
   },
   "outputs": [
    {
     "data": {
      "text/plain": [
       "RandomForestClassifier(class_weight='balanced')"
      ]
     },
     "execution_count": 140,
     "metadata": {},
     "output_type": "execute_result"
    }
   ],
   "source": [
    "rf_clf.fit(train_features_selected, y_train)"
   ]
  },
  {
   "cell_type": "code",
   "execution_count": 141,
   "id": "meaning-appendix",
   "metadata": {},
   "outputs": [],
   "source": [
    "y_pred = rf_clf.predict(test_features_selected)"
   ]
  },
  {
   "cell_type": "code",
   "execution_count": 142,
   "id": "obvious-soviet",
   "metadata": {},
   "outputs": [
    {
     "name": "stdout",
     "output_type": "stream",
     "text": [
      "Accuracy: 0.7413\n",
      "F1-score: 0.7218\n",
      "AUROC: 0.7494\n",
      "MCC: 0.4924\n",
      "              precision    recall  f1-score   support\n",
      "\n",
      "           0       0.83      0.70      0.76        83\n",
      "           1       0.66      0.80      0.72        60\n",
      "\n",
      "    accuracy                           0.74       143\n",
      "   macro avg       0.74      0.75      0.74       143\n",
      "weighted avg       0.76      0.74      0.74       143\n",
      "\n"
     ]
    }
   ],
   "source": [
    "get_score(y_test, y_pred)"
   ]
  },
  {
   "cell_type": "code",
   "execution_count": 143,
   "id": "abandoned-darkness",
   "metadata": {},
   "outputs": [
    {
     "data": {
      "text/html": [
       "<div>\n",
       "<style scoped>\n",
       "    .dataframe tbody tr th:only-of-type {\n",
       "        vertical-align: middle;\n",
       "    }\n",
       "\n",
       "    .dataframe tbody tr th {\n",
       "        vertical-align: top;\n",
       "    }\n",
       "\n",
       "    .dataframe thead th {\n",
       "        text-align: right;\n",
       "    }\n",
       "</style>\n",
       "<table border=\"1\" class=\"dataframe\">\n",
       "  <thead>\n",
       "    <tr style=\"text-align: right;\">\n",
       "      <th></th>\n",
       "      <th>17</th>\n",
       "      <th>21</th>\n",
       "      <th>22</th>\n",
       "      <th>38</th>\n",
       "      <th>54</th>\n",
       "      <th>98</th>\n",
       "      <th>99</th>\n",
       "    </tr>\n",
       "  </thead>\n",
       "  <tbody>\n",
       "    <tr>\n",
       "      <th>375</th>\n",
       "      <td>-0.061637</td>\n",
       "      <td>-0.027278</td>\n",
       "      <td>-0.029913</td>\n",
       "      <td>-0.003584</td>\n",
       "      <td>0.037267</td>\n",
       "      <td>0.034154</td>\n",
       "      <td>-0.083899</td>\n",
       "    </tr>\n",
       "    <tr>\n",
       "      <th>344</th>\n",
       "      <td>-0.081769</td>\n",
       "      <td>-0.040339</td>\n",
       "      <td>0.011841</td>\n",
       "      <td>-0.014277</td>\n",
       "      <td>0.059836</td>\n",
       "      <td>0.076746</td>\n",
       "      <td>-0.089298</td>\n",
       "    </tr>\n",
       "    <tr>\n",
       "      <th>526</th>\n",
       "      <td>-0.101111</td>\n",
       "      <td>-0.022985</td>\n",
       "      <td>-0.037642</td>\n",
       "      <td>0.021496</td>\n",
       "      <td>0.045719</td>\n",
       "      <td>0.056302</td>\n",
       "      <td>-0.008504</td>\n",
       "    </tr>\n",
       "    <tr>\n",
       "      <th>24</th>\n",
       "      <td>-0.047875</td>\n",
       "      <td>-0.055600</td>\n",
       "      <td>-0.055407</td>\n",
       "      <td>-0.005019</td>\n",
       "      <td>0.066954</td>\n",
       "      <td>0.080306</td>\n",
       "      <td>-0.058702</td>\n",
       "    </tr>\n",
       "    <tr>\n",
       "      <th>234</th>\n",
       "      <td>-0.086294</td>\n",
       "      <td>-0.041060</td>\n",
       "      <td>-0.030591</td>\n",
       "      <td>-0.015052</td>\n",
       "      <td>0.003767</td>\n",
       "      <td>0.065959</td>\n",
       "      <td>-0.061276</td>\n",
       "    </tr>\n",
       "    <tr>\n",
       "      <th>...</th>\n",
       "      <td>...</td>\n",
       "      <td>...</td>\n",
       "      <td>...</td>\n",
       "      <td>...</td>\n",
       "      <td>...</td>\n",
       "      <td>...</td>\n",
       "      <td>...</td>\n",
       "    </tr>\n",
       "    <tr>\n",
       "      <th>71</th>\n",
       "      <td>-0.055734</td>\n",
       "      <td>-0.022597</td>\n",
       "      <td>0.000421</td>\n",
       "      <td>-0.006368</td>\n",
       "      <td>-0.003458</td>\n",
       "      <td>0.046634</td>\n",
       "      <td>-0.040752</td>\n",
       "    </tr>\n",
       "    <tr>\n",
       "      <th>106</th>\n",
       "      <td>-0.059770</td>\n",
       "      <td>-0.057631</td>\n",
       "      <td>0.012477</td>\n",
       "      <td>0.029456</td>\n",
       "      <td>-0.022868</td>\n",
       "      <td>0.023963</td>\n",
       "      <td>-0.075192</td>\n",
       "    </tr>\n",
       "    <tr>\n",
       "      <th>270</th>\n",
       "      <td>-0.101178</td>\n",
       "      <td>0.010327</td>\n",
       "      <td>-0.025779</td>\n",
       "      <td>-0.003149</td>\n",
       "      <td>0.035033</td>\n",
       "      <td>0.060443</td>\n",
       "      <td>0.005916</td>\n",
       "    </tr>\n",
       "    <tr>\n",
       "      <th>435</th>\n",
       "      <td>-0.030026</td>\n",
       "      <td>-0.042137</td>\n",
       "      <td>-0.003907</td>\n",
       "      <td>0.011918</td>\n",
       "      <td>-0.000200</td>\n",
       "      <td>0.053453</td>\n",
       "      <td>-0.042426</td>\n",
       "    </tr>\n",
       "    <tr>\n",
       "      <th>102</th>\n",
       "      <td>-0.039332</td>\n",
       "      <td>-0.066490</td>\n",
       "      <td>0.001604</td>\n",
       "      <td>-0.017716</td>\n",
       "      <td>0.097356</td>\n",
       "      <td>0.074277</td>\n",
       "      <td>-0.061757</td>\n",
       "    </tr>\n",
       "  </tbody>\n",
       "</table>\n",
       "<p>569 rows × 7 columns</p>\n",
       "</div>"
      ],
      "text/plain": [
       "           17        21        22        38        54        98        99\n",
       "375 -0.061637 -0.027278 -0.029913 -0.003584  0.037267  0.034154 -0.083899\n",
       "344 -0.081769 -0.040339  0.011841 -0.014277  0.059836  0.076746 -0.089298\n",
       "526 -0.101111 -0.022985 -0.037642  0.021496  0.045719  0.056302 -0.008504\n",
       "24  -0.047875 -0.055600 -0.055407 -0.005019  0.066954  0.080306 -0.058702\n",
       "234 -0.086294 -0.041060 -0.030591 -0.015052  0.003767  0.065959 -0.061276\n",
       "..        ...       ...       ...       ...       ...       ...       ...\n",
       "71  -0.055734 -0.022597  0.000421 -0.006368 -0.003458  0.046634 -0.040752\n",
       "106 -0.059770 -0.057631  0.012477  0.029456 -0.022868  0.023963 -0.075192\n",
       "270 -0.101178  0.010327 -0.025779 -0.003149  0.035033  0.060443  0.005916\n",
       "435 -0.030026 -0.042137 -0.003907  0.011918 -0.000200  0.053453 -0.042426\n",
       "102 -0.039332 -0.066490  0.001604 -0.017716  0.097356  0.074277 -0.061757\n",
       "\n",
       "[569 rows x 7 columns]"
      ]
     },
     "execution_count": 143,
     "metadata": {},
     "output_type": "execute_result"
    }
   ],
   "source": [
    "train_features_selected"
   ]
  },
  {
   "cell_type": "code",
   "execution_count": null,
   "id": "productive-protest",
   "metadata": {},
   "outputs": [],
   "source": []
  },
  {
   "cell_type": "markdown",
   "id": "constitutional-microwave",
   "metadata": {},
   "source": [
    "### Hyperparameter tuning"
   ]
  },
  {
   "cell_type": "code",
   "execution_count": null,
   "id": "champion-stable",
   "metadata": {},
   "outputs": [],
   "source": [
    "mcc_scorer = make_scorer(matthews_corrcoef)"
   ]
  },
  {
   "cell_type": "code",
   "execution_count": null,
   "id": "pediatric-memorabilia",
   "metadata": {},
   "outputs": [],
   "source": [
    "# Create the parameter grid based on the results of random search \n",
    "param_grid = {\n",
    "    'max_depth': [None, 80, 90, 100, 110],\n",
    "    'max_features': ['auto', 2, 3],\n",
    "    'min_samples_leaf': [1, 2, 3, 4, 5],\n",
    "    'min_samples_split': [2, 8, 10, 12],\n",
    "    'n_estimators': [100, 200, 300, 500]\n",
    "}\n",
    "# Create a based model\n",
    "rf = RandomForestClassifier(class_weight=\"balanced\")\n",
    "# Instantiate the grid search model\n",
    "grid_search = GridSearchCV(estimator = rf, param_grid = param_grid, \n",
    "                          cv = 3, n_jobs = -1, verbose = 1, scoring=mcc_scorer)"
   ]
  },
  {
   "cell_type": "code",
   "execution_count": null,
   "id": "interesting-struggle",
   "metadata": {
    "scrolled": false
   },
   "outputs": [],
   "source": [
    "grid_search.fit(X_train, y_train)"
   ]
  },
  {
   "cell_type": "code",
   "execution_count": null,
   "id": "serious-writer",
   "metadata": {},
   "outputs": [],
   "source": [
    "grid_search.best_params_"
   ]
  },
  {
   "cell_type": "code",
   "execution_count": null,
   "id": "independent-anderson",
   "metadata": {},
   "outputs": [],
   "source": [
    "best_grid = grid_search.best_estimator_"
   ]
  },
  {
   "cell_type": "code",
   "execution_count": null,
   "id": "hawaiian-basis",
   "metadata": {},
   "outputs": [],
   "source": [
    "y_pred = best_grid.predict(X_test)"
   ]
  },
  {
   "cell_type": "code",
   "execution_count": null,
   "id": "loaded-incentive",
   "metadata": {},
   "outputs": [],
   "source": [
    "get_score(y_test, y_pred)"
   ]
  },
  {
   "cell_type": "markdown",
   "id": "contrary-penny",
   "metadata": {},
   "source": [
    "### feature selection"
   ]
  },
  {
   "cell_type": "code",
   "execution_count": null,
   "id": "quarterly-coast",
   "metadata": {},
   "outputs": [],
   "source": [
    "from mlxtend.feature_selection import SequentialFeatureSelector"
   ]
  },
  {
   "cell_type": "code",
   "execution_count": null,
   "id": "important-plastic",
   "metadata": {},
   "outputs": [],
   "source": [
    "rf_clf = RandomForestClassifier(class_weight='balanced', max_depth=80, max_features=0.005, min_samples_leaf=1,\n",
    "                                min_samples_split=10, n_estimators=300)"
   ]
  },
  {
   "cell_type": "code",
   "execution_count": null,
   "id": "registered-wallet",
   "metadata": {},
   "outputs": [],
   "source": [
    "selector = SequentialFeatureSelector(rf_clf, k_features='best', forward=False, verbose=2,\n",
    "                                     scoring=mcc_scorer, cv=5, n_jobs=-1)"
   ]
  },
  {
   "cell_type": "code",
   "execution_count": null,
   "id": "colonial-violin",
   "metadata": {
    "scrolled": true
   },
   "outputs": [],
   "source": [
    "selector.fit(aa_dipep_freq, df['lessthan5'])"
   ]
  },
  {
   "cell_type": "code",
   "execution_count": null,
   "id": "written-wildlife",
   "metadata": {
    "scrolled": true
   },
   "outputs": [],
   "source": [
    "len(selector.k_feature_idx_)"
   ]
  },
  {
   "cell_type": "code",
   "execution_count": null,
   "id": "secure-importance",
   "metadata": {},
   "outputs": [],
   "source": [
    "aa_dipep_freq.columns[selector.support_]"
   ]
  },
  {
   "cell_type": "code",
   "execution_count": null,
   "id": "hungry-connection",
   "metadata": {},
   "outputs": [],
   "source": [
    "train_features_selected = selector.transform(X_train)\n",
    "test_features_selected = selector.transform(X_test)"
   ]
  },
  {
   "cell_type": "code",
   "execution_count": null,
   "id": "identified-winner",
   "metadata": {},
   "outputs": [],
   "source": [
    "rf_clf = RandomForestClassifier(class_weight='balanced', **grid_search.best_params_)"
   ]
  },
  {
   "cell_type": "code",
   "execution_count": null,
   "id": "intended-cattle",
   "metadata": {
    "scrolled": true
   },
   "outputs": [],
   "source": [
    "rf_clf.fit(train_features_selected, y_train)"
   ]
  },
  {
   "cell_type": "code",
   "execution_count": null,
   "id": "expanded-lafayette",
   "metadata": {},
   "outputs": [],
   "source": [
    "y_pred = rf_clf.predict(test_features_selected)"
   ]
  },
  {
   "cell_type": "code",
   "execution_count": null,
   "id": "independent-fashion",
   "metadata": {},
   "outputs": [],
   "source": [
    "get_score(y_test, y_pred)"
   ]
  },
  {
   "cell_type": "code",
   "execution_count": null,
   "id": "smart-chase",
   "metadata": {},
   "outputs": [],
   "source": []
  }
 ],
 "metadata": {
  "kernelspec": {
   "display_name": "Python 3",
   "language": "python",
   "name": "python3"
  },
  "language_info": {
   "codemirror_mode": {
    "name": "ipython",
    "version": 3
   },
   "file_extension": ".py",
   "mimetype": "text/x-python",
   "name": "python",
   "nbconvert_exporter": "python",
   "pygments_lexer": "ipython3",
   "version": "3.6.10"
  }
 },
 "nbformat": 4,
 "nbformat_minor": 5
}
