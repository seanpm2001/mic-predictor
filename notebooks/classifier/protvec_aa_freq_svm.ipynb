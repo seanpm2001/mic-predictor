{
 "cells": [
  {
   "cell_type": "code",
   "execution_count": 1,
   "id": "special-auction",
   "metadata": {},
   "outputs": [
    {
     "data": {
      "text/plain": [
       "'/Users/in-divye.singh/Documents/Projects/MIC_predictor/notebooks/classifier'"
      ]
     },
     "execution_count": 1,
     "metadata": {},
     "output_type": "execute_result"
    }
   ],
   "source": [
    "pwd"
   ]
  },
  {
   "cell_type": "code",
   "execution_count": 2,
   "id": "anonymous-progressive",
   "metadata": {},
   "outputs": [
    {
     "name": "stdout",
     "output_type": "stream",
     "text": [
      "/Users/in-divye.singh/Documents/Projects/MIC_predictor\n"
     ]
    }
   ],
   "source": [
    "cd ../../"
   ]
  },
  {
   "cell_type": "code",
   "execution_count": 3,
   "id": "abroad-demonstration",
   "metadata": {},
   "outputs": [],
   "source": [
    "from notebooks.utils import *"
   ]
  },
  {
   "cell_type": "code",
   "execution_count": 4,
   "id": "blocked-twelve",
   "metadata": {},
   "outputs": [],
   "source": [
    "import biovec\n",
    "import numpy as np\n",
    "import pandas as pd\n",
    "from itertools import chain\n",
    "from collections import Counter"
   ]
  },
  {
   "cell_type": "code",
   "execution_count": 5,
   "id": "competitive-homework",
   "metadata": {},
   "outputs": [],
   "source": [
    "import matplotlib.pyplot as plt\n",
    "import seaborn as sns"
   ]
  },
  {
   "cell_type": "code",
   "execution_count": 6,
   "id": "seventh-ranking",
   "metadata": {},
   "outputs": [],
   "source": [
    "from sklearn.svm import SVC\n",
    "from sklearn.metrics import make_scorer\n",
    "from sklearn.model_selection import GridSearchCV\n",
    "from sklearn.ensemble import RandomForestClassifier\n",
    "from sklearn.metrics import accuracy_score, f1_score, roc_auc_score, matthews_corrcoef\n",
    "from sklearn.metrics import classification_report, confusion_matrix, make_scorer\n",
    "from sklearn.model_selection import train_test_split"
   ]
  },
  {
   "cell_type": "code",
   "execution_count": 7,
   "id": "surface-pepper",
   "metadata": {},
   "outputs": [],
   "source": [
    "from sklearn.manifold import TSNE\n",
    "from sklearn.decomposition import PCA"
   ]
  },
  {
   "cell_type": "code",
   "execution_count": 8,
   "id": "psychological-jacob",
   "metadata": {},
   "outputs": [],
   "source": [
    "avp_ic50 = pd.read_csv(\"data/raw/AVP-IC50Pred_train.csv\")\n",
    "ha_avp = pd.read_csv(\"data/raw/HA_AVP.csv\")\n",
    "\n",
    "df = pd.concat([avp_ic50[['Sequence','MIC']], ha_avp], axis=0).drop_duplicates(['Sequence']).reset_index(drop=True)\n",
    "df = sequence_filtering(df)"
   ]
  },
  {
   "cell_type": "code",
   "execution_count": 9,
   "id": "endless-publication",
   "metadata": {},
   "outputs": [],
   "source": [
    "df['lessthan5'] = df['MIC'].apply(lambda mic: 1 if mic <= 5 else 0)"
   ]
  },
  {
   "cell_type": "code",
   "execution_count": 10,
   "id": "rational-hardware",
   "metadata": {},
   "outputs": [
    {
     "data": {
      "text/plain": [
       "<matplotlib.axes._subplots.AxesSubplot at 0x1a249e4588>"
      ]
     },
     "execution_count": 10,
     "metadata": {},
     "output_type": "execute_result"
    },
    {
     "data": {
      "image/png": "[encoded data removed]",
      "text/plain": [
       "<Figure size 432x288 with 1 Axes>"
      ]
     },
     "metadata": {
      "needs_background": "light"
     },
     "output_type": "display_data"
    }
   ],
   "source": [
    "count = dict(Counter(df['lessthan5']))\n",
    "sns.barplot(x = [str(k) for k in count.keys()], y=[float(v) for v in count.values()])"
   ]
  },
  {
   "cell_type": "code",
   "execution_count": 11,
   "id": "prospective-lightning",
   "metadata": {},
   "outputs": [],
   "source": [
    "def get_score(y_true, y_pred):\n",
    "    print(f'Accuracy: {round(accuracy_score(y_true, y_pred), 4)}')\n",
    "    print(f'F1-score: {round(f1_score(y_true, y_pred), 4)}')\n",
    "    print(f'AUROC: {round(roc_auc_score(y_true, y_pred), 4)}')\n",
    "    print(f'MCC: {round(matthews_corrcoef(y_true, y_pred), 4)}')\n",
    "    print(classification_report(y_test, y_pred))"
   ]
  },
  {
   "cell_type": "markdown",
   "id": "appointed-complex",
   "metadata": {},
   "source": [
    "### ProtVec"
   ]
  },
  {
   "cell_type": "code",
   "execution_count": 12,
   "id": "surface-villa",
   "metadata": {},
   "outputs": [
    {
     "name": "stderr",
     "output_type": "stream",
     "text": [
      "/Users/in-divye.singh/anaconda3/envs/life-science/lib/python3.6/site-packages/smart_open/smart_open_lib.py:254: UserWarning: This function is deprecated, use smart_open.open instead. See the migration notes for details: https://github.com/RaRe-Technologies/smart_open/blob/master/README.rst#migrating-to-the-new-open-function\n",
      "  'See the migration notes for details: %s' % _MIGRATION_NOTES_URL\n",
      "Creating vectors: 100%|██████████| 712/712 [00:00<00:00, 1056.32sequence/s]\n"
     ]
    }
   ],
   "source": [
    "############# Prot2Vec #############\n",
    "uniprot_embedding = biovec.models.load_protvec(\"data/embeddings/uniprot__kmer_3_contextWindow_10_vector_100_reduction_None\")\n",
    "\n",
    "avg_vectors = convert_sequences_to_avg_vectors(df['Sequence'], uniprot_embedding)\n",
    "avg_vectors = avg_vectors.reset_index(drop=True)"
   ]
  },
  {
   "cell_type": "code",
   "execution_count": 13,
   "id": "spiritual-manhattan",
   "metadata": {},
   "outputs": [],
   "source": [
    "X_train, X_test, y_train, y_test = train_test_split(avg_vectors, df['lessthan5'], test_size=0.2, random_state=42)"
   ]
  },
  {
   "cell_type": "code",
   "execution_count": 14,
   "id": "annoying-content",
   "metadata": {},
   "outputs": [
    {
     "data": {
      "text/plain": [
       "((569, 100), (143, 100))"
      ]
     },
     "execution_count": 14,
     "metadata": {},
     "output_type": "execute_result"
    }
   ],
   "source": [
    "X_train.shape, X_test.shape"
   ]
  },
  {
   "cell_type": "code",
   "execution_count": 15,
   "id": "threatened-iraqi",
   "metadata": {},
   "outputs": [],
   "source": [
    "clf = SVC(class_weight='balanced')"
   ]
  },
  {
   "cell_type": "code",
   "execution_count": 20,
   "id": "several-thanks",
   "metadata": {},
   "outputs": [
    {
     "data": {
      "text/plain": [
       "SVC(class_weight='balanced')"
      ]
     },
     "execution_count": 20,
     "metadata": {},
     "output_type": "execute_result"
    }
   ],
   "source": [
    "clf.fit(X_train, y_train)"
   ]
  },
  {
   "cell_type": "code",
   "execution_count": 21,
   "id": "related-dryer",
   "metadata": {},
   "outputs": [],
   "source": [
    "y_pred = clf.predict(X_test)"
   ]
  },
  {
   "cell_type": "code",
   "execution_count": 22,
   "id": "demographic-decrease",
   "metadata": {
    "scrolled": true
   },
   "outputs": [
    {
     "name": "stdout",
     "output_type": "stream",
     "text": [
      "Accuracy: 0.7273\n",
      "F1-score: 0.6829\n",
      "AUROC: 0.7235\n",
      "MCC: 0.4443\n",
      "              precision    recall  f1-score   support\n",
      "\n",
      "           0       0.78      0.75      0.76        83\n",
      "           1       0.67      0.70      0.68        60\n",
      "\n",
      "    accuracy                           0.73       143\n",
      "   macro avg       0.72      0.72      0.72       143\n",
      "weighted avg       0.73      0.73      0.73       143\n",
      "\n"
     ]
    }
   ],
   "source": [
    "get_score(y_test, y_pred)"
   ]
  },
  {
   "cell_type": "code",
   "execution_count": 23,
   "id": "seventh-morrison",
   "metadata": {},
   "outputs": [],
   "source": [
    "mcc_scorer = make_scorer(matthews_corrcoef)"
   ]
  },
  {
   "cell_type": "code",
   "execution_count": 101,
   "id": "quarterly-restriction",
   "metadata": {},
   "outputs": [],
   "source": [
    "param_grid = {'C':[0.01,0.1,1,100,1000],\n",
    "              'kernel': ['rbf','poly','sigmoid','linear'],\n",
    "              'degree': [1,2,3,4,5,6],\n",
    "              'gamma': ['scale', 'auto', 100, 10, 1, 0.1, 0.01, 0.001, 0.0001],\n",
    "              'coef0': [0.0,0.5,1,1.5,2,2.5,3],\n",
    "              'class_weight': ['balanced', None]\n",
    "             }\n",
    "# Create a based model\n",
    "clf = SVC()\n",
    "# Instantiate the grid search model\n",
    "grid_search = GridSearchCV(estimator = clf, param_grid = param_grid, \n",
    "                          cv = 5, n_jobs = -1, verbose = 1, scoring=mcc_scorer)"
   ]
  },
  {
   "cell_type": "code",
   "execution_count": 102,
   "id": "owned-retailer",
   "metadata": {
    "collapsed": true
   },
   "outputs": [
    {
     "name": "stdout",
     "output_type": "stream",
     "text": [
      "Fitting 5 folds for each of 15120 candidates, totalling 75600 fits\n"
     ]
    },
    {
     "name": "stderr",
     "output_type": "stream",
     "text": [
      "[Parallel(n_jobs=-1)]: Using backend LokyBackend with 12 concurrent workers.\n"
     ]
    },
    {
     "ename": "KeyboardInterrupt",
     "evalue": "",
     "output_type": "error",
     "traceback": [
      "\u001b[0;31m---------------------------------------------------------------------------\u001b[0m",
      "\u001b[0;31mKeyboardInterrupt\u001b[0m                         Traceback (most recent call last)",
      "\u001b[0;32m<ipython-input-102-231b374c92ba>\u001b[0m in \u001b[0;36m<module>\u001b[0;34m\u001b[0m\n\u001b[0;32m----> 1\u001b[0;31m \u001b[0mgrid_search\u001b[0m\u001b[0;34m.\u001b[0m\u001b[0mfit\u001b[0m\u001b[0;34m(\u001b[0m\u001b[0mX_train\u001b[0m\u001b[0;34m,\u001b[0m \u001b[0my_train\u001b[0m\u001b[0;34m)\u001b[0m\u001b[0;34m\u001b[0m\u001b[0;34m\u001b[0m\u001b[0m\n\u001b[0m",
      "\u001b[0;32m~/anaconda3/envs/life-science/lib/python3.6/site-packages/sklearn/utils/validation.py\u001b[0m in \u001b[0;36minner_f\u001b[0;34m(*args, **kwargs)\u001b[0m\n\u001b[1;32m     71\u001b[0m                           FutureWarning)\n\u001b[1;32m     72\u001b[0m         \u001b[0mkwargs\u001b[0m\u001b[0;34m.\u001b[0m\u001b[0mupdate\u001b[0m\u001b[0;34m(\u001b[0m\u001b[0;34m{\u001b[0m\u001b[0mk\u001b[0m\u001b[0;34m:\u001b[0m \u001b[0marg\u001b[0m \u001b[0;32mfor\u001b[0m \u001b[0mk\u001b[0m\u001b[0;34m,\u001b[0m \u001b[0marg\u001b[0m \u001b[0;32min\u001b[0m \u001b[0mzip\u001b[0m\u001b[0;34m(\u001b[0m\u001b[0msig\u001b[0m\u001b[0;34m.\u001b[0m\u001b[0mparameters\u001b[0m\u001b[0;34m,\u001b[0m \u001b[0margs\u001b[0m\u001b[0;34m)\u001b[0m\u001b[0;34m}\u001b[0m\u001b[0;34m)\u001b[0m\u001b[0;34m\u001b[0m\u001b[0;34m\u001b[0m\u001b[0m\n\u001b[0;32m---> 73\u001b[0;31m         \u001b[0;32mreturn\u001b[0m \u001b[0mf\u001b[0m\u001b[0;34m(\u001b[0m\u001b[0;34m**\u001b[0m\u001b[0mkwargs\u001b[0m\u001b[0;34m)\u001b[0m\u001b[0;34m\u001b[0m\u001b[0;34m\u001b[0m\u001b[0m\n\u001b[0m\u001b[1;32m     74\u001b[0m     \u001b[0;32mreturn\u001b[0m \u001b[0minner_f\u001b[0m\u001b[0;34m\u001b[0m\u001b[0;34m\u001b[0m\u001b[0m\n\u001b[1;32m     75\u001b[0m \u001b[0;34m\u001b[0m\u001b[0m\n",
      "\u001b[0;32m~/anaconda3/envs/life-science/lib/python3.6/site-packages/sklearn/model_selection/_search.py\u001b[0m in \u001b[0;36mfit\u001b[0;34m(self, X, y, groups, **fit_params)\u001b[0m\n\u001b[1;32m    734\u001b[0m                 \u001b[0;32mreturn\u001b[0m \u001b[0mresults\u001b[0m\u001b[0;34m\u001b[0m\u001b[0;34m\u001b[0m\u001b[0m\n\u001b[1;32m    735\u001b[0m \u001b[0;34m\u001b[0m\u001b[0m\n\u001b[0;32m--> 736\u001b[0;31m             \u001b[0mself\u001b[0m\u001b[0;34m.\u001b[0m\u001b[0m_run_search\u001b[0m\u001b[0;34m(\u001b[0m\u001b[0mevaluate_candidates\u001b[0m\u001b[0;34m)\u001b[0m\u001b[0;34m\u001b[0m\u001b[0;34m\u001b[0m\u001b[0m\n\u001b[0m\u001b[1;32m    737\u001b[0m \u001b[0;34m\u001b[0m\u001b[0m\n\u001b[1;32m    738\u001b[0m         \u001b[0;31m# For multi-metric evaluation, store the best_index_, best_params_ and\u001b[0m\u001b[0;34m\u001b[0m\u001b[0;34m\u001b[0m\u001b[0;34m\u001b[0m\u001b[0m\n",
      "\u001b[0;32m~/anaconda3/envs/life-science/lib/python3.6/site-packages/sklearn/model_selection/_search.py\u001b[0m in \u001b[0;36m_run_search\u001b[0;34m(self, evaluate_candidates)\u001b[0m\n\u001b[1;32m   1186\u001b[0m     \u001b[0;32mdef\u001b[0m \u001b[0m_run_search\u001b[0m\u001b[0;34m(\u001b[0m\u001b[0mself\u001b[0m\u001b[0;34m,\u001b[0m \u001b[0mevaluate_candidates\u001b[0m\u001b[0;34m)\u001b[0m\u001b[0;34m:\u001b[0m\u001b[0;34m\u001b[0m\u001b[0;34m\u001b[0m\u001b[0m\n\u001b[1;32m   1187\u001b[0m         \u001b[0;34m\"\"\"Search all candidates in param_grid\"\"\"\u001b[0m\u001b[0;34m\u001b[0m\u001b[0;34m\u001b[0m\u001b[0m\n\u001b[0;32m-> 1188\u001b[0;31m         \u001b[0mevaluate_candidates\u001b[0m\u001b[0;34m(\u001b[0m\u001b[0mParameterGrid\u001b[0m\u001b[0;34m(\u001b[0m\u001b[0mself\u001b[0m\u001b[0;34m.\u001b[0m\u001b[0mparam_grid\u001b[0m\u001b[0;34m)\u001b[0m\u001b[0;34m)\u001b[0m\u001b[0;34m\u001b[0m\u001b[0;34m\u001b[0m\u001b[0m\n\u001b[0m\u001b[1;32m   1189\u001b[0m \u001b[0;34m\u001b[0m\u001b[0m\n\u001b[1;32m   1190\u001b[0m \u001b[0;34m\u001b[0m\u001b[0m\n",
      "\u001b[0;32m~/anaconda3/envs/life-science/lib/python3.6/site-packages/sklearn/model_selection/_search.py\u001b[0m in \u001b[0;36mevaluate_candidates\u001b[0;34m(candidate_params)\u001b[0m\n\u001b[1;32m    713\u001b[0m                                \u001b[0;32mfor\u001b[0m \u001b[0mparameters\u001b[0m\u001b[0;34m,\u001b[0m \u001b[0;34m(\u001b[0m\u001b[0mtrain\u001b[0m\u001b[0;34m,\u001b[0m \u001b[0mtest\u001b[0m\u001b[0;34m)\u001b[0m\u001b[0;34m\u001b[0m\u001b[0;34m\u001b[0m\u001b[0m\n\u001b[1;32m    714\u001b[0m                                in product(candidate_params,\n\u001b[0;32m--> 715\u001b[0;31m                                           cv.split(X, y, groups)))\n\u001b[0m\u001b[1;32m    716\u001b[0m \u001b[0;34m\u001b[0m\u001b[0m\n\u001b[1;32m    717\u001b[0m                 \u001b[0;32mif\u001b[0m \u001b[0mlen\u001b[0m\u001b[0;34m(\u001b[0m\u001b[0mout\u001b[0m\u001b[0;34m)\u001b[0m \u001b[0;34m<\u001b[0m \u001b[0;36m1\u001b[0m\u001b[0;34m:\u001b[0m\u001b[0;34m\u001b[0m\u001b[0;34m\u001b[0m\u001b[0m\n",
      "\u001b[0;32m~/anaconda3/envs/life-science/lib/python3.6/site-packages/joblib/parallel.py\u001b[0m in \u001b[0;36m__call__\u001b[0;34m(self, iterable)\u001b[0m\n\u001b[1;32m   1040\u001b[0m \u001b[0;34m\u001b[0m\u001b[0m\n\u001b[1;32m   1041\u001b[0m             \u001b[0;32mwith\u001b[0m \u001b[0mself\u001b[0m\u001b[0;34m.\u001b[0m\u001b[0m_backend\u001b[0m\u001b[0;34m.\u001b[0m\u001b[0mretrieval_context\u001b[0m\u001b[0;34m(\u001b[0m\u001b[0;34m)\u001b[0m\u001b[0;34m:\u001b[0m\u001b[0;34m\u001b[0m\u001b[0;34m\u001b[0m\u001b[0m\n\u001b[0;32m-> 1042\u001b[0;31m                 \u001b[0mself\u001b[0m\u001b[0;34m.\u001b[0m\u001b[0mretrieve\u001b[0m\u001b[0;34m(\u001b[0m\u001b[0;34m)\u001b[0m\u001b[0;34m\u001b[0m\u001b[0;34m\u001b[0m\u001b[0m\n\u001b[0m\u001b[1;32m   1043\u001b[0m             \u001b[0;31m# Make sure that we get a last message telling us we are done\u001b[0m\u001b[0;34m\u001b[0m\u001b[0;34m\u001b[0m\u001b[0;34m\u001b[0m\u001b[0m\n\u001b[1;32m   1044\u001b[0m             \u001b[0melapsed_time\u001b[0m \u001b[0;34m=\u001b[0m \u001b[0mtime\u001b[0m\u001b[0;34m.\u001b[0m\u001b[0mtime\u001b[0m\u001b[0;34m(\u001b[0m\u001b[0;34m)\u001b[0m \u001b[0;34m-\u001b[0m \u001b[0mself\u001b[0m\u001b[0;34m.\u001b[0m\u001b[0m_start_time\u001b[0m\u001b[0;34m\u001b[0m\u001b[0;34m\u001b[0m\u001b[0m\n",
      "\u001b[0;32m~/anaconda3/envs/life-science/lib/python3.6/site-packages/joblib/parallel.py\u001b[0m in \u001b[0;36mretrieve\u001b[0;34m(self)\u001b[0m\n\u001b[1;32m    919\u001b[0m             \u001b[0;32mtry\u001b[0m\u001b[0;34m:\u001b[0m\u001b[0;34m\u001b[0m\u001b[0;34m\u001b[0m\u001b[0m\n\u001b[1;32m    920\u001b[0m                 \u001b[0;32mif\u001b[0m \u001b[0mgetattr\u001b[0m\u001b[0;34m(\u001b[0m\u001b[0mself\u001b[0m\u001b[0;34m.\u001b[0m\u001b[0m_backend\u001b[0m\u001b[0;34m,\u001b[0m \u001b[0;34m'supports_timeout'\u001b[0m\u001b[0;34m,\u001b[0m \u001b[0;32mFalse\u001b[0m\u001b[0;34m)\u001b[0m\u001b[0;34m:\u001b[0m\u001b[0;34m\u001b[0m\u001b[0;34m\u001b[0m\u001b[0m\n\u001b[0;32m--> 921\u001b[0;31m                     \u001b[0mself\u001b[0m\u001b[0;34m.\u001b[0m\u001b[0m_output\u001b[0m\u001b[0;34m.\u001b[0m\u001b[0mextend\u001b[0m\u001b[0;34m(\u001b[0m\u001b[0mjob\u001b[0m\u001b[0;34m.\u001b[0m\u001b[0mget\u001b[0m\u001b[0;34m(\u001b[0m\u001b[0mtimeout\u001b[0m\u001b[0;34m=\u001b[0m\u001b[0mself\u001b[0m\u001b[0;34m.\u001b[0m\u001b[0mtimeout\u001b[0m\u001b[0;34m)\u001b[0m\u001b[0;34m)\u001b[0m\u001b[0;34m\u001b[0m\u001b[0;34m\u001b[0m\u001b[0m\n\u001b[0m\u001b[1;32m    922\u001b[0m                 \u001b[0;32melse\u001b[0m\u001b[0;34m:\u001b[0m\u001b[0;34m\u001b[0m\u001b[0;34m\u001b[0m\u001b[0m\n\u001b[1;32m    923\u001b[0m                     \u001b[0mself\u001b[0m\u001b[0;34m.\u001b[0m\u001b[0m_output\u001b[0m\u001b[0;34m.\u001b[0m\u001b[0mextend\u001b[0m\u001b[0;34m(\u001b[0m\u001b[0mjob\u001b[0m\u001b[0;34m.\u001b[0m\u001b[0mget\u001b[0m\u001b[0;34m(\u001b[0m\u001b[0;34m)\u001b[0m\u001b[0;34m)\u001b[0m\u001b[0;34m\u001b[0m\u001b[0;34m\u001b[0m\u001b[0m\n",
      "\u001b[0;32m~/anaconda3/envs/life-science/lib/python3.6/site-packages/joblib/_parallel_backends.py\u001b[0m in \u001b[0;36mwrap_future_result\u001b[0;34m(future, timeout)\u001b[0m\n\u001b[1;32m    538\u001b[0m         AsyncResults.get from multiprocessing.\"\"\"\n\u001b[1;32m    539\u001b[0m         \u001b[0;32mtry\u001b[0m\u001b[0;34m:\u001b[0m\u001b[0;34m\u001b[0m\u001b[0;34m\u001b[0m\u001b[0m\n\u001b[0;32m--> 540\u001b[0;31m             \u001b[0;32mreturn\u001b[0m \u001b[0mfuture\u001b[0m\u001b[0;34m.\u001b[0m\u001b[0mresult\u001b[0m\u001b[0;34m(\u001b[0m\u001b[0mtimeout\u001b[0m\u001b[0;34m=\u001b[0m\u001b[0mtimeout\u001b[0m\u001b[0;34m)\u001b[0m\u001b[0;34m\u001b[0m\u001b[0;34m\u001b[0m\u001b[0m\n\u001b[0m\u001b[1;32m    541\u001b[0m         \u001b[0;32mexcept\u001b[0m \u001b[0mCfTimeoutError\u001b[0m\u001b[0;34m:\u001b[0m\u001b[0;34m\u001b[0m\u001b[0;34m\u001b[0m\u001b[0m\n\u001b[1;32m    542\u001b[0m             \u001b[0;32mraise\u001b[0m \u001b[0mTimeoutError\u001b[0m\u001b[0;34m(\u001b[0m\u001b[0;34m)\u001b[0m\u001b[0;34m\u001b[0m\u001b[0;34m\u001b[0m\u001b[0m\n",
      "\u001b[0;32m~/anaconda3/envs/life-science/lib/python3.6/concurrent/futures/_base.py\u001b[0m in \u001b[0;36mresult\u001b[0;34m(self, timeout)\u001b[0m\n\u001b[1;32m    425\u001b[0m                 \u001b[0;32mreturn\u001b[0m \u001b[0mself\u001b[0m\u001b[0;34m.\u001b[0m\u001b[0m__get_result\u001b[0m\u001b[0;34m(\u001b[0m\u001b[0;34m)\u001b[0m\u001b[0;34m\u001b[0m\u001b[0;34m\u001b[0m\u001b[0m\n\u001b[1;32m    426\u001b[0m \u001b[0;34m\u001b[0m\u001b[0m\n\u001b[0;32m--> 427\u001b[0;31m             \u001b[0mself\u001b[0m\u001b[0;34m.\u001b[0m\u001b[0m_condition\u001b[0m\u001b[0;34m.\u001b[0m\u001b[0mwait\u001b[0m\u001b[0;34m(\u001b[0m\u001b[0mtimeout\u001b[0m\u001b[0;34m)\u001b[0m\u001b[0;34m\u001b[0m\u001b[0;34m\u001b[0m\u001b[0m\n\u001b[0m\u001b[1;32m    428\u001b[0m \u001b[0;34m\u001b[0m\u001b[0m\n\u001b[1;32m    429\u001b[0m             \u001b[0;32mif\u001b[0m \u001b[0mself\u001b[0m\u001b[0;34m.\u001b[0m\u001b[0m_state\u001b[0m \u001b[0;32min\u001b[0m \u001b[0;34m[\u001b[0m\u001b[0mCANCELLED\u001b[0m\u001b[0;34m,\u001b[0m \u001b[0mCANCELLED_AND_NOTIFIED\u001b[0m\u001b[0;34m]\u001b[0m\u001b[0;34m:\u001b[0m\u001b[0;34m\u001b[0m\u001b[0;34m\u001b[0m\u001b[0m\n",
      "\u001b[0;32m~/anaconda3/envs/life-science/lib/python3.6/threading.py\u001b[0m in \u001b[0;36mwait\u001b[0;34m(self, timeout)\u001b[0m\n\u001b[1;32m    293\u001b[0m         \u001b[0;32mtry\u001b[0m\u001b[0;34m:\u001b[0m    \u001b[0;31m# restore state no matter what (e.g., KeyboardInterrupt)\u001b[0m\u001b[0;34m\u001b[0m\u001b[0;34m\u001b[0m\u001b[0m\n\u001b[1;32m    294\u001b[0m             \u001b[0;32mif\u001b[0m \u001b[0mtimeout\u001b[0m \u001b[0;32mis\u001b[0m \u001b[0;32mNone\u001b[0m\u001b[0;34m:\u001b[0m\u001b[0;34m\u001b[0m\u001b[0;34m\u001b[0m\u001b[0m\n\u001b[0;32m--> 295\u001b[0;31m                 \u001b[0mwaiter\u001b[0m\u001b[0;34m.\u001b[0m\u001b[0macquire\u001b[0m\u001b[0;34m(\u001b[0m\u001b[0;34m)\u001b[0m\u001b[0;34m\u001b[0m\u001b[0;34m\u001b[0m\u001b[0m\n\u001b[0m\u001b[1;32m    296\u001b[0m                 \u001b[0mgotit\u001b[0m \u001b[0;34m=\u001b[0m \u001b[0;32mTrue\u001b[0m\u001b[0;34m\u001b[0m\u001b[0;34m\u001b[0m\u001b[0m\n\u001b[1;32m    297\u001b[0m             \u001b[0;32melse\u001b[0m\u001b[0;34m:\u001b[0m\u001b[0;34m\u001b[0m\u001b[0;34m\u001b[0m\u001b[0m\n",
      "\u001b[0;31mKeyboardInterrupt\u001b[0m: "
     ]
    }
   ],
   "source": [
    "grid_search.fit(X_train, y_train)"
   ]
  },
  {
   "cell_type": "code",
   "execution_count": 51,
   "id": "atomic-boulder",
   "metadata": {},
   "outputs": [
    {
     "data": {
      "text/plain": [
       "{'C': 100, 'class_weight': 'balanced', 'gamma': 100, 'kernel': 'rbf'}"
      ]
     },
     "execution_count": 51,
     "metadata": {},
     "output_type": "execute_result"
    }
   ],
   "source": [
    "grid_search.best_params_"
   ]
  },
  {
   "cell_type": "code",
   "execution_count": 52,
   "id": "needed-effect",
   "metadata": {},
   "outputs": [],
   "source": [
    "best_grid = grid_search.best_estimator_"
   ]
  },
  {
   "cell_type": "code",
   "execution_count": 53,
   "id": "renewable-bathroom",
   "metadata": {},
   "outputs": [],
   "source": [
    "y_pred = best_grid.predict(X_test)"
   ]
  },
  {
   "cell_type": "code",
   "execution_count": 54,
   "id": "unlikely-specific",
   "metadata": {},
   "outputs": [
    {
     "name": "stdout",
     "output_type": "stream",
     "text": [
      "Accuracy: 0.6993\n",
      "F1-score: 0.6055\n",
      "AUROC: 0.6786\n",
      "MCC: 0.3714\n",
      "              precision    recall  f1-score   support\n",
      "\n",
      "           0       0.71      0.81      0.76        83\n",
      "           1       0.67      0.55      0.61        60\n",
      "\n",
      "    accuracy                           0.70       143\n",
      "   macro avg       0.69      0.68      0.68       143\n",
      "weighted avg       0.70      0.70      0.69       143\n",
      "\n"
     ]
    }
   ],
   "source": [
    "get_score(y_test, y_pred)"
   ]
  },
  {
   "cell_type": "code",
   "execution_count": 56,
   "id": "indoor-volume",
   "metadata": {},
   "outputs": [
    {
     "data": {
      "text/plain": [
       "0.48177106352327825"
      ]
     },
     "execution_count": 56,
     "metadata": {},
     "output_type": "execute_result"
    }
   ],
   "source": [
    "grid_search.best_score_"
   ]
  },
  {
   "cell_type": "markdown",
   "id": "instructional-furniture",
   "metadata": {},
   "source": [
    "### ProtVec + AA frequence"
   ]
  },
  {
   "cell_type": "code",
   "execution_count": null,
   "id": "comparative-underwear",
   "metadata": {},
   "outputs": [],
   "source": [
    "aa_freq = reduce_by_kmer_frequency(df)"
   ]
  },
  {
   "cell_type": "code",
   "execution_count": null,
   "id": "forced-victim",
   "metadata": {},
   "outputs": [],
   "source": [
    "protvec_aa_freq = pd.concat([avg_vectors, aa_freq], axis=1)"
   ]
  },
  {
   "cell_type": "code",
   "execution_count": null,
   "id": "undefined-occupation",
   "metadata": {},
   "outputs": [],
   "source": [
    "X_train, X_test, y_train, y_test = train_test_split(protvec_aa_freq, df['lessthan5'], test_size=0.2, random_state=42)"
   ]
  },
  {
   "cell_type": "code",
   "execution_count": null,
   "id": "drawn-hospital",
   "metadata": {},
   "outputs": [],
   "source": [
    "X_train.shape, X_test.shape"
   ]
  },
  {
   "cell_type": "code",
   "execution_count": 49,
   "id": "extended-associate",
   "metadata": {},
   "outputs": [],
   "source": [
    "# Create the parameter grid based on the results of random search \n",
    "param_grid = {'C':[0.01,0.1,1,100,1000],\n",
    "              'kernel': ['rbf','poly','sigmoid','linear'],\n",
    "              #'degree': [1,2,3,4,5,6],\n",
    "              'gamma': ['scale', 'auto', 100, 10, 1, 0.1, 0.01, 0.001, 0.0001],\n",
    "              #'coef0': [0.0,0.5,1,1.5,2,2.5,3],\n",
    "              'class_weight': ['balanced', None]\n",
    "             }\n",
    "# Create a based model\n",
    "clf = SVC()\n",
    "# Instantiate the grid search model\n",
    "grid_search = GridSearchCV(estimator = clf, param_grid = param_grid, \n",
    "                          cv = 10, n_jobs = -1, verbose = 1, scoring=mcc_scorer)"
   ]
  },
  {
   "cell_type": "code",
   "execution_count": 50,
   "id": "pregnant-refund",
   "metadata": {
    "scrolled": false
   },
   "outputs": [
    {
     "name": "stdout",
     "output_type": "stream",
     "text": [
      "Fitting 10 folds for each of 90 candidates, totalling 900 fits\n"
     ]
    },
    {
     "name": "stderr",
     "output_type": "stream",
     "text": [
      "[Parallel(n_jobs=-1)]: Using backend LokyBackend with 12 concurrent workers.\n",
      "[Parallel(n_jobs=-1)]: Done  28 tasks      | elapsed:    0.3s\n",
      "[Parallel(n_jobs=-1)]: Done 328 tasks      | elapsed:    1.8s\n",
      "[Parallel(n_jobs=-1)]: Done 828 tasks      | elapsed:    4.6s\n",
      "[Parallel(n_jobs=-1)]: Done 900 out of 900 | elapsed:    5.1s finished\n"
     ]
    },
    {
     "data": {
      "text/plain": [
       "GridSearchCV(cv=10, estimator=SVC(), n_jobs=-1,\n",
       "             param_grid={'C': [0.01, 0.1, 1, 100, 1000],\n",
       "                         'class_weight': ['balanced', None],\n",
       "                         'gamma': ['scale', 'auto', 100, 10, 1, 0.1, 0.01,\n",
       "                                   0.001, 0.0001],\n",
       "                         'kernel': ['rbf']},\n",
       "             scoring=make_scorer(matthews_corrcoef), verbose=1)"
      ]
     },
     "execution_count": 50,
     "metadata": {},
     "output_type": "execute_result"
    }
   ],
   "source": [
    "grid_search.fit(X_train, y_train)"
   ]
  },
  {
   "cell_type": "code",
   "execution_count": 51,
   "id": "genetic-lucas",
   "metadata": {},
   "outputs": [
    {
     "data": {
      "text/plain": [
       "{'C': 100, 'class_weight': 'balanced', 'gamma': 100, 'kernel': 'rbf'}"
      ]
     },
     "execution_count": 51,
     "metadata": {},
     "output_type": "execute_result"
    }
   ],
   "source": [
    "grid_search.best_params_"
   ]
  },
  {
   "cell_type": "code",
   "execution_count": 52,
   "id": "later-immune",
   "metadata": {},
   "outputs": [],
   "source": [
    "best_grid = grid_search.best_estimator_"
   ]
  },
  {
   "cell_type": "code",
   "execution_count": 53,
   "id": "capital-cooling",
   "metadata": {},
   "outputs": [],
   "source": [
    "y_pred = best_grid.predict(X_test)"
   ]
  },
  {
   "cell_type": "code",
   "execution_count": 54,
   "id": "expressed-liquid",
   "metadata": {},
   "outputs": [
    {
     "name": "stdout",
     "output_type": "stream",
     "text": [
      "Accuracy: 0.6993\n",
      "F1-score: 0.6055\n",
      "AUROC: 0.6786\n",
      "MCC: 0.3714\n",
      "              precision    recall  f1-score   support\n",
      "\n",
      "           0       0.71      0.81      0.76        83\n",
      "           1       0.67      0.55      0.61        60\n",
      "\n",
      "    accuracy                           0.70       143\n",
      "   macro avg       0.69      0.68      0.68       143\n",
      "weighted avg       0.70      0.70      0.69       143\n",
      "\n"
     ]
    }
   ],
   "source": [
    "get_score(y_test, y_pred)"
   ]
  },
  {
   "cell_type": "markdown",
   "id": "stunning-dallas",
   "metadata": {},
   "source": [
    "### ProtVec + dipep freq"
   ]
  },
  {
   "cell_type": "code",
   "execution_count": null,
   "id": "reported-analyst",
   "metadata": {},
   "outputs": [],
   "source": [
    "dipep_freq = reduce_by_kmer_frequency(df, kmer=2)"
   ]
  },
  {
   "cell_type": "code",
   "execution_count": null,
   "id": "better-logan",
   "metadata": {},
   "outputs": [],
   "source": [
    "protvec_dipep_freq = pd.concat([avg_vectors, dipep_freq], axis=1)"
   ]
  },
  {
   "cell_type": "code",
   "execution_count": null,
   "id": "satellite-exchange",
   "metadata": {},
   "outputs": [],
   "source": [
    "X_train, X_test, y_train, y_test = train_test_split(protvec_dipep_freq, df['lessthan5'], test_size=0.2, random_state=42)"
   ]
  },
  {
   "cell_type": "code",
   "execution_count": null,
   "id": "appointed-utilization",
   "metadata": {},
   "outputs": [],
   "source": [
    "X_train.shape, X_test.shape"
   ]
  },
  {
   "cell_type": "code",
   "execution_count": 49,
   "id": "greatest-jumping",
   "metadata": {},
   "outputs": [],
   "source": [
    "# Create the parameter grid based on the results of random search \n",
    "param_grid = {'C':[0.01,0.1,1,100,1000],\n",
    "              'kernel': ['rbf','poly','sigmoid','linear'],\n",
    "              'degree': [1,2,3,4,5,6],\n",
    "              'gamma': ['scale', 'auto', 100, 10, 1, 0.1, 0.01, 0.001, 0.0001],\n",
    "              'coef0': [0.0,0.5,1,1.5,2,2.5,3],\n",
    "              'class_weight': ['balanced', None]\n",
    "             }\n",
    "# Create a based model\n",
    "clf = SVC()\n",
    "# Instantiate the grid search model\n",
    "grid_search = GridSearchCV(estimator = clf, param_grid = param_grid, \n",
    "                          cv = 10, n_jobs = -1, verbose = 1, scoring=mcc_scorer)"
   ]
  },
  {
   "cell_type": "code",
   "execution_count": 50,
   "id": "corporate-roulette",
   "metadata": {
    "scrolled": false
   },
   "outputs": [
    {
     "name": "stdout",
     "output_type": "stream",
     "text": [
      "Fitting 10 folds for each of 90 candidates, totalling 900 fits\n"
     ]
    },
    {
     "name": "stderr",
     "output_type": "stream",
     "text": [
      "[Parallel(n_jobs=-1)]: Using backend LokyBackend with 12 concurrent workers.\n",
      "[Parallel(n_jobs=-1)]: Done  28 tasks      | elapsed:    0.3s\n",
      "[Parallel(n_jobs=-1)]: Done 328 tasks      | elapsed:    1.8s\n",
      "[Parallel(n_jobs=-1)]: Done 828 tasks      | elapsed:    4.6s\n",
      "[Parallel(n_jobs=-1)]: Done 900 out of 900 | elapsed:    5.1s finished\n"
     ]
    },
    {
     "data": {
      "text/plain": [
       "GridSearchCV(cv=10, estimator=SVC(), n_jobs=-1,\n",
       "             param_grid={'C': [0.01, 0.1, 1, 100, 1000],\n",
       "                         'class_weight': ['balanced', None],\n",
       "                         'gamma': ['scale', 'auto', 100, 10, 1, 0.1, 0.01,\n",
       "                                   0.001, 0.0001],\n",
       "                         'kernel': ['rbf']},\n",
       "             scoring=make_scorer(matthews_corrcoef), verbose=1)"
      ]
     },
     "execution_count": 50,
     "metadata": {},
     "output_type": "execute_result"
    }
   ],
   "source": [
    "grid_search.fit(X_train, y_train)"
   ]
  },
  {
   "cell_type": "code",
   "execution_count": 51,
   "id": "directed-productivity",
   "metadata": {},
   "outputs": [
    {
     "data": {
      "text/plain": [
       "{'C': 100, 'class_weight': 'balanced', 'gamma': 100, 'kernel': 'rbf'}"
      ]
     },
     "execution_count": 51,
     "metadata": {},
     "output_type": "execute_result"
    }
   ],
   "source": [
    "grid_search.best_params_"
   ]
  },
  {
   "cell_type": "code",
   "execution_count": 52,
   "id": "bronze-classic",
   "metadata": {},
   "outputs": [],
   "source": [
    "best_grid = grid_search.best_estimator_"
   ]
  },
  {
   "cell_type": "code",
   "execution_count": 53,
   "id": "leading-tactics",
   "metadata": {},
   "outputs": [],
   "source": [
    "y_pred = best_grid.predict(X_test)"
   ]
  },
  {
   "cell_type": "code",
   "execution_count": 54,
   "id": "brown-minutes",
   "metadata": {},
   "outputs": [
    {
     "name": "stdout",
     "output_type": "stream",
     "text": [
      "Accuracy: 0.6993\n",
      "F1-score: 0.6055\n",
      "AUROC: 0.6786\n",
      "MCC: 0.3714\n",
      "              precision    recall  f1-score   support\n",
      "\n",
      "           0       0.71      0.81      0.76        83\n",
      "           1       0.67      0.55      0.61        60\n",
      "\n",
      "    accuracy                           0.70       143\n",
      "   macro avg       0.69      0.68      0.68       143\n",
      "weighted avg       0.70      0.70      0.69       143\n",
      "\n"
     ]
    }
   ],
   "source": [
    "get_score(y_test, y_pred)"
   ]
  },
  {
   "cell_type": "markdown",
   "id": "frequent-lottery",
   "metadata": {},
   "source": [
    "### ProtVec + AA frequence + Dipeptide frequency"
   ]
  },
  {
   "cell_type": "code",
   "execution_count": null,
   "id": "infectious-adoption",
   "metadata": {},
   "outputs": [],
   "source": [
    "protvec_aa_dipep = pd.concat([avg_vectors, aa_freq, dipep_freq], axis=1)"
   ]
  },
  {
   "cell_type": "code",
   "execution_count": null,
   "id": "ideal-horizontal",
   "metadata": {},
   "outputs": [],
   "source": [
    "X_train, X_test, y_train, y_test = train_test_split(protvec_aa_dipep, df['lessthan5'], test_size=0.2, random_state=42)"
   ]
  },
  {
   "cell_type": "code",
   "execution_count": null,
   "id": "spatial-pillow",
   "metadata": {},
   "outputs": [],
   "source": [
    "X_train.shape, X_test.shape"
   ]
  },
  {
   "cell_type": "code",
   "execution_count": 49,
   "id": "proud-ballet",
   "metadata": {},
   "outputs": [],
   "source": [
    "# Create the parameter grid based on the results of random search \n",
    "param_grid = {'C':[0.01,0.1,1,100,1000],\n",
    "              'kernel': ['rbf','poly','sigmoid','linear'],\n",
    "              'degree': [1,2,3,4,5,6],\n",
    "              'gamma': ['scale', 'auto', 100, 10, 1, 0.1, 0.01, 0.001, 0.0001],\n",
    "              'coef0': [0.0,0.5,1,1.5,2,2.5,3],\n",
    "              'class_weight': ['balanced', None]\n",
    "             }\n",
    "# Create a based model\n",
    "clf = SVC()\n",
    "# Instantiate the grid search model\n",
    "grid_search = GridSearchCV(estimator = clf, param_grid = param_grid, \n",
    "                          cv = 10, n_jobs = -1, verbose = 1, scoring=mcc_scorer)"
   ]
  },
  {
   "cell_type": "code",
   "execution_count": 50,
   "id": "adjacent-absolute",
   "metadata": {
    "scrolled": false
   },
   "outputs": [
    {
     "name": "stdout",
     "output_type": "stream",
     "text": [
      "Fitting 10 folds for each of 90 candidates, totalling 900 fits\n"
     ]
    },
    {
     "name": "stderr",
     "output_type": "stream",
     "text": [
      "[Parallel(n_jobs=-1)]: Using backend LokyBackend with 12 concurrent workers.\n",
      "[Parallel(n_jobs=-1)]: Done  28 tasks      | elapsed:    0.3s\n",
      "[Parallel(n_jobs=-1)]: Done 328 tasks      | elapsed:    1.8s\n",
      "[Parallel(n_jobs=-1)]: Done 828 tasks      | elapsed:    4.6s\n",
      "[Parallel(n_jobs=-1)]: Done 900 out of 900 | elapsed:    5.1s finished\n"
     ]
    },
    {
     "data": {
      "text/plain": [
       "GridSearchCV(cv=10, estimator=SVC(), n_jobs=-1,\n",
       "             param_grid={'C': [0.01, 0.1, 1, 100, 1000],\n",
       "                         'class_weight': ['balanced', None],\n",
       "                         'gamma': ['scale', 'auto', 100, 10, 1, 0.1, 0.01,\n",
       "                                   0.001, 0.0001],\n",
       "                         'kernel': ['rbf']},\n",
       "             scoring=make_scorer(matthews_corrcoef), verbose=1)"
      ]
     },
     "execution_count": 50,
     "metadata": {},
     "output_type": "execute_result"
    }
   ],
   "source": [
    "grid_search.fit(X_train, y_train)"
   ]
  },
  {
   "cell_type": "code",
   "execution_count": 51,
   "id": "noble-payment",
   "metadata": {},
   "outputs": [
    {
     "data": {
      "text/plain": [
       "{'C': 100, 'class_weight': 'balanced', 'gamma': 100, 'kernel': 'rbf'}"
      ]
     },
     "execution_count": 51,
     "metadata": {},
     "output_type": "execute_result"
    }
   ],
   "source": [
    "grid_search.best_params_"
   ]
  },
  {
   "cell_type": "code",
   "execution_count": 52,
   "id": "former-consumption",
   "metadata": {},
   "outputs": [],
   "source": [
    "best_grid = grid_search.best_estimator_"
   ]
  },
  {
   "cell_type": "code",
   "execution_count": 53,
   "id": "fixed-flower",
   "metadata": {},
   "outputs": [],
   "source": [
    "y_pred = best_grid.predict(X_test)"
   ]
  },
  {
   "cell_type": "code",
   "execution_count": 54,
   "id": "spread-duplicate",
   "metadata": {},
   "outputs": [
    {
     "name": "stdout",
     "output_type": "stream",
     "text": [
      "Accuracy: 0.6993\n",
      "F1-score: 0.6055\n",
      "AUROC: 0.6786\n",
      "MCC: 0.3714\n",
      "              precision    recall  f1-score   support\n",
      "\n",
      "           0       0.71      0.81      0.76        83\n",
      "           1       0.67      0.55      0.61        60\n",
      "\n",
      "    accuracy                           0.70       143\n",
      "   macro avg       0.69      0.68      0.68       143\n",
      "weighted avg       0.70      0.70      0.69       143\n",
      "\n"
     ]
    }
   ],
   "source": [
    "get_score(y_test, y_pred)"
   ]
  },
  {
   "cell_type": "code",
   "execution_count": 72,
   "id": "crucial-thailand",
   "metadata": {},
   "outputs": [],
   "source": [
    "shannon_entropy = pd.read_csv(\"data/pfeature/ha_avp_ic50_shannon_entropy.csv\")\n",
    "residue_repeats = pd.read_csv(\"data/pfeature/ha_avp_ic50_residue_repeat.csv\")"
   ]
  },
  {
   "cell_type": "code",
   "execution_count": 84,
   "id": "current-saturn",
   "metadata": {},
   "outputs": [],
   "source": [
    "import json"
   ]
  },
  {
   "cell_type": "code",
   "execution_count": 92,
   "id": "ethical-pierce",
   "metadata": {},
   "outputs": [],
   "source": [
    "with open(\"test.csv\", \"w\") as f:\n",
    "    f.write(\", \".join([\"0\",\"1\", \"2\", \"3\", \"4\", \"5\"])+\"\\n\")"
   ]
  },
  {
   "cell_type": "code",
   "execution_count": 93,
   "id": "selected-history",
   "metadata": {},
   "outputs": [],
   "source": [
    "for i in range(5):\n",
    "    with open(\"test.csv\", \"a\") as f:\n",
    "        f.write('\"'+str(grid_search.best_params_)+'\", '+\", \".join(map(lambda x:str(i*x), [2,3,4,5,6]))+\"\\n\")"
   ]
  },
  {
   "cell_type": "code",
   "execution_count": 98,
   "id": "disturbed-magazine",
   "metadata": {},
   "outputs": [
    {
     "name": "stdout",
     "output_type": "stream",
     "text": [
      "C 100\n",
      "class_weight balanced\n",
      "gamma 100\n",
      "kernel rbf\n"
     ]
    }
   ],
   "source": [
    "for k,v in grid_search.best_params_.items():\n",
    "    print(k, v)"
   ]
  },
  {
   "cell_type": "code",
   "execution_count": 107,
   "id": "automatic-chassis",
   "metadata": {},
   "outputs": [
    {
     "data": {
      "text/html": [
       "<div>\n",
       "<style scoped>\n",
       "    .dataframe tbody tr th:only-of-type {\n",
       "        vertical-align: middle;\n",
       "    }\n",
       "\n",
       "    .dataframe tbody tr th {\n",
       "        vertical-align: top;\n",
       "    }\n",
       "\n",
       "    .dataframe thead th {\n",
       "        text-align: right;\n",
       "    }\n",
       "</style>\n",
       "<table border=\"1\" class=\"dataframe\">\n",
       "  <thead>\n",
       "    <tr style=\"text-align: right;\">\n",
       "      <th></th>\n",
       "      <th>ID</th>\n",
       "      <th>PCP_SS_HE</th>\n",
       "      <th>PCP_SS_ST</th>\n",
       "      <th>PCP_SA_BU</th>\n",
       "      <th>PCP_SA_EX</th>\n",
       "      <th>PCP_SA_IN</th>\n",
       "    </tr>\n",
       "  </thead>\n",
       "  <tbody>\n",
       "    <tr>\n",
       "      <th>0</th>\n",
       "      <td>Seq_1</td>\n",
       "      <td>0.471</td>\n",
       "      <td>0.118</td>\n",
       "      <td>0.412</td>\n",
       "      <td>0.353</td>\n",
       "      <td>0.059</td>\n",
       "    </tr>\n",
       "    <tr>\n",
       "      <th>1</th>\n",
       "      <td>Seq_2</td>\n",
       "      <td>0.750</td>\n",
       "      <td>0.250</td>\n",
       "      <td>0.333</td>\n",
       "      <td>0.083</td>\n",
       "      <td>0.333</td>\n",
       "    </tr>\n",
       "    <tr>\n",
       "      <th>2</th>\n",
       "      <td>Seq_3</td>\n",
       "      <td>0.250</td>\n",
       "      <td>0.125</td>\n",
       "      <td>0.250</td>\n",
       "      <td>0.500</td>\n",
       "      <td>0.250</td>\n",
       "    </tr>\n",
       "    <tr>\n",
       "      <th>3</th>\n",
       "      <td>Seq_4</td>\n",
       "      <td>0.273</td>\n",
       "      <td>0.182</td>\n",
       "      <td>0.364</td>\n",
       "      <td>0.455</td>\n",
       "      <td>0.091</td>\n",
       "    </tr>\n",
       "    <tr>\n",
       "      <th>4</th>\n",
       "      <td>Seq_5</td>\n",
       "      <td>0.471</td>\n",
       "      <td>0.118</td>\n",
       "      <td>0.412</td>\n",
       "      <td>0.294</td>\n",
       "      <td>0.118</td>\n",
       "    </tr>\n",
       "    <tr>\n",
       "      <th>...</th>\n",
       "      <td>...</td>\n",
       "      <td>...</td>\n",
       "      <td>...</td>\n",
       "      <td>...</td>\n",
       "      <td>...</td>\n",
       "      <td>...</td>\n",
       "    </tr>\n",
       "    <tr>\n",
       "      <th>707</th>\n",
       "      <td>Seq_708</td>\n",
       "      <td>0.300</td>\n",
       "      <td>0.433</td>\n",
       "      <td>0.600</td>\n",
       "      <td>0.233</td>\n",
       "      <td>0.133</td>\n",
       "    </tr>\n",
       "    <tr>\n",
       "      <th>708</th>\n",
       "      <td>Seq_709</td>\n",
       "      <td>0.273</td>\n",
       "      <td>0.500</td>\n",
       "      <td>0.273</td>\n",
       "      <td>0.273</td>\n",
       "      <td>0.409</td>\n",
       "    </tr>\n",
       "    <tr>\n",
       "      <th>709</th>\n",
       "      <td>Seq_710</td>\n",
       "      <td>0.556</td>\n",
       "      <td>0.222</td>\n",
       "      <td>0.361</td>\n",
       "      <td>0.444</td>\n",
       "      <td>0.194</td>\n",
       "    </tr>\n",
       "    <tr>\n",
       "      <th>710</th>\n",
       "      <td>Seq_711</td>\n",
       "      <td>0.255</td>\n",
       "      <td>0.191</td>\n",
       "      <td>0.383</td>\n",
       "      <td>0.511</td>\n",
       "      <td>0.255</td>\n",
       "    </tr>\n",
       "    <tr>\n",
       "      <th>711</th>\n",
       "      <td>Seq_712</td>\n",
       "      <td>0.583</td>\n",
       "      <td>0.250</td>\n",
       "      <td>0.222</td>\n",
       "      <td>0.472</td>\n",
       "      <td>0.167</td>\n",
       "    </tr>\n",
       "  </tbody>\n",
       "</table>\n",
       "<p>712 rows × 6 columns</p>\n",
       "</div>"
      ],
      "text/plain": [
       "          ID  PCP_SS_HE  PCP_SS_ST  PCP_SA_BU  PCP_SA_EX  PCP_SA_IN\n",
       "0      Seq_1      0.471      0.118      0.412      0.353      0.059\n",
       "1      Seq_2      0.750      0.250      0.333      0.083      0.333\n",
       "2      Seq_3      0.250      0.125      0.250      0.500      0.250\n",
       "3      Seq_4      0.273      0.182      0.364      0.455      0.091\n",
       "4      Seq_5      0.471      0.118      0.412      0.294      0.118\n",
       "..       ...        ...        ...        ...        ...        ...\n",
       "707  Seq_708      0.300      0.433      0.600      0.233      0.133\n",
       "708  Seq_709      0.273      0.500      0.273      0.273      0.409\n",
       "709  Seq_710      0.556      0.222      0.361      0.444      0.194\n",
       "710  Seq_711      0.255      0.191      0.383      0.511      0.255\n",
       "711  Seq_712      0.583      0.250      0.222      0.472      0.167\n",
       "\n",
       "[712 rows x 6 columns]"
      ]
     },
     "execution_count": 107,
     "metadata": {},
     "output_type": "execute_result"
    }
   ],
   "source": [
    "pd.read_csv(\"data/pfeature/ha_avp_ic50_sec_struct.csv\")"
   ]
  },
  {
   "cell_type": "code",
   "execution_count": 110,
   "id": "retained-configuration",
   "metadata": {},
   "outputs": [],
   "source": [
    "from Bio.SeqUtils.ProtParam import ProteinAnalysis"
   ]
  },
  {
   "cell_type": "code",
   "execution_count": 108,
   "id": "adapted-equation",
   "metadata": {},
   "outputs": [],
   "source": [
    "params = ['molecular_weight', 'aromaticity', 'instability_index',\n",
    "          'isoelectric_point', 'helix', 'turn', 'sheet', 'with_reduced_cysteines',\n",
    "          'with_disulfid_bridges', 'gravy', 'net_charge_at_pH7point4']"
   ]
  },
  {
   "cell_type": "code",
   "execution_count": 111,
   "id": "ethical-judge",
   "metadata": {},
   "outputs": [],
   "source": [
    "prop = []\n",
    "for seq in df.Sequence:\n",
    "    X = ProteinAnalysis(seq)\n",
    "    molecular_weight = X.molecular_weight()\n",
    "    aromaticity = X.aromaticity()\n",
    "    instability_index = X.instability_index()\n",
    "    isoelectric_point = X.isoelectric_point()\n",
    "    sec_struc = X.secondary_structure_fraction()\n",
    "    helix = sec_struc[0]\n",
    "    turn = sec_struc[1]\n",
    "    sheet = sec_struc[2]\n",
    "    epsilon_prot = X.molar_extinction_coefficient()\n",
    "    with_reduced_cysteines = epsilon_prot[0]\n",
    "    with_disulfid_bridges = epsilon_prot[1]\n",
    "    gravy = X.gravy() # hydrophobicity related\n",
    "    # flexibility = X.flexibility()\n",
    "    # X.protein_scale()\n",
    "    net_charge_at_pH7point4 = X.charge_at_pH(7.4)\n",
    "\n",
    "    prop.append([molecular_weight, aromaticity, instability_index, isoelectric_point, helix, turn, sheet,\n",
    "                 with_reduced_cysteines, with_disulfid_bridges, gravy, net_charge_at_pH7point4])\n",
    "prop = pd.DataFrame(prop, columns=params)"
   ]
  },
  {
   "cell_type": "code",
   "execution_count": 112,
   "id": "american-samba",
   "metadata": {},
   "outputs": [
    {
     "data": {
      "text/html": [
       "<div>\n",
       "<style scoped>\n",
       "    .dataframe tbody tr th:only-of-type {\n",
       "        vertical-align: middle;\n",
       "    }\n",
       "\n",
       "    .dataframe tbody tr th {\n",
       "        vertical-align: top;\n",
       "    }\n",
       "\n",
       "    .dataframe thead th {\n",
       "        text-align: right;\n",
       "    }\n",
       "</style>\n",
       "<table border=\"1\" class=\"dataframe\">\n",
       "  <thead>\n",
       "    <tr style=\"text-align: right;\">\n",
       "      <th></th>\n",
       "      <th>molecular_weight</th>\n",
       "      <th>aromaticity</th>\n",
       "      <th>instability_index</th>\n",
       "      <th>isoelectric_point</th>\n",
       "      <th>helix</th>\n",
       "      <th>turn</th>\n",
       "      <th>sheet</th>\n",
       "      <th>with_reduced_cysteines</th>\n",
       "      <th>with_disulfid_bridges</th>\n",
       "      <th>gravy</th>\n",
       "      <th>net_charge_at_pH7point4</th>\n",
       "    </tr>\n",
       "  </thead>\n",
       "  <tbody>\n",
       "    <tr>\n",
       "      <th>0</th>\n",
       "      <td>1850.9960</td>\n",
       "      <td>0.000000</td>\n",
       "      <td>24.817647</td>\n",
       "      <td>11.999968</td>\n",
       "      <td>0.117647</td>\n",
       "      <td>0.352941</td>\n",
       "      <td>0.117647</td>\n",
       "      <td>0</td>\n",
       "      <td>0</td>\n",
       "      <td>-1.547059</td>\n",
       "      <td>2.609418</td>\n",
       "    </tr>\n",
       "    <tr>\n",
       "      <th>1</th>\n",
       "      <td>1525.8875</td>\n",
       "      <td>0.000000</td>\n",
       "      <td>36.466667</td>\n",
       "      <td>11.999968</td>\n",
       "      <td>0.250000</td>\n",
       "      <td>0.000000</td>\n",
       "      <td>0.333333</td>\n",
       "      <td>0</td>\n",
       "      <td>0</td>\n",
       "      <td>-0.208333</td>\n",
       "      <td>2.594004</td>\n",
       "    </tr>\n",
       "    <tr>\n",
       "      <th>2</th>\n",
       "      <td>871.8950</td>\n",
       "      <td>0.000000</td>\n",
       "      <td>48.687500</td>\n",
       "      <td>6.087706</td>\n",
       "      <td>0.125000</td>\n",
       "      <td>0.500000</td>\n",
       "      <td>0.000000</td>\n",
       "      <td>0</td>\n",
       "      <td>0</td>\n",
       "      <td>-1.700000</td>\n",
       "      <td>-0.440856</td>\n",
       "    </tr>\n",
       "    <tr>\n",
       "      <th>3</th>\n",
       "      <td>1211.2883</td>\n",
       "      <td>0.000000</td>\n",
       "      <td>-11.454545</td>\n",
       "      <td>9.598972</td>\n",
       "      <td>0.181818</td>\n",
       "      <td>0.454545</td>\n",
       "      <td>0.000000</td>\n",
       "      <td>0</td>\n",
       "      <td>0</td>\n",
       "      <td>-1.545455</td>\n",
       "      <td>0.559118</td>\n",
       "    </tr>\n",
       "    <tr>\n",
       "      <th>4</th>\n",
       "      <td>1837.9973</td>\n",
       "      <td>0.000000</td>\n",
       "      <td>56.905882</td>\n",
       "      <td>11.999968</td>\n",
       "      <td>0.117647</td>\n",
       "      <td>0.352941</td>\n",
       "      <td>0.117647</td>\n",
       "      <td>0</td>\n",
       "      <td>0</td>\n",
       "      <td>-1.370588</td>\n",
       "      <td>2.609418</td>\n",
       "    </tr>\n",
       "    <tr>\n",
       "      <th>...</th>\n",
       "      <td>...</td>\n",
       "      <td>...</td>\n",
       "      <td>...</td>\n",
       "      <td>...</td>\n",
       "      <td>...</td>\n",
       "      <td>...</td>\n",
       "      <td>...</td>\n",
       "      <td>...</td>\n",
       "      <td>...</td>\n",
       "      <td>...</td>\n",
       "      <td>...</td>\n",
       "    </tr>\n",
       "    <tr>\n",
       "      <th>707</th>\n",
       "      <td>3336.9618</td>\n",
       "      <td>0.100000</td>\n",
       "      <td>-1.326667</td>\n",
       "      <td>9.408790</td>\n",
       "      <td>0.233333</td>\n",
       "      <td>0.266667</td>\n",
       "      <td>0.066667</td>\n",
       "      <td>5500</td>\n",
       "      <td>5750</td>\n",
       "      <td>-0.066667</td>\n",
       "      <td>4.466476</td>\n",
       "    </tr>\n",
       "    <tr>\n",
       "      <th>708</th>\n",
       "      <td>2889.2103</td>\n",
       "      <td>0.272727</td>\n",
       "      <td>33.700000</td>\n",
       "      <td>9.625146</td>\n",
       "      <td>0.318182</td>\n",
       "      <td>0.181818</td>\n",
       "      <td>0.000000</td>\n",
       "      <td>15470</td>\n",
       "      <td>15470</td>\n",
       "      <td>-1.486364</td>\n",
       "      <td>2.559925</td>\n",
       "    </tr>\n",
       "    <tr>\n",
       "      <th>709</th>\n",
       "      <td>4450.8237</td>\n",
       "      <td>0.138889</td>\n",
       "      <td>62.650000</td>\n",
       "      <td>4.300688</td>\n",
       "      <td>0.361111</td>\n",
       "      <td>0.194444</td>\n",
       "      <td>0.361111</td>\n",
       "      <td>17990</td>\n",
       "      <td>17990</td>\n",
       "      <td>-0.875000</td>\n",
       "      <td>-5.406266</td>\n",
       "    </tr>\n",
       "    <tr>\n",
       "      <th>710</th>\n",
       "      <td>5189.4931</td>\n",
       "      <td>0.127660</td>\n",
       "      <td>18.168085</td>\n",
       "      <td>4.443127</td>\n",
       "      <td>0.234043</td>\n",
       "      <td>0.446809</td>\n",
       "      <td>0.148936</td>\n",
       "      <td>11000</td>\n",
       "      <td>11000</td>\n",
       "      <td>-1.004255</td>\n",
       "      <td>-4.370952</td>\n",
       "    </tr>\n",
       "    <tr>\n",
       "      <th>711</th>\n",
       "      <td>4685.9408</td>\n",
       "      <td>0.111111</td>\n",
       "      <td>69.236111</td>\n",
       "      <td>4.409706</td>\n",
       "      <td>0.277778</td>\n",
       "      <td>0.111111</td>\n",
       "      <td>0.333333</td>\n",
       "      <td>13980</td>\n",
       "      <td>13980</td>\n",
       "      <td>-1.791667</td>\n",
       "      <td>-6.738836</td>\n",
       "    </tr>\n",
       "  </tbody>\n",
       "</table>\n",
       "<p>712 rows × 11 columns</p>\n",
       "</div>"
      ],
      "text/plain": [
       "     molecular_weight  aromaticity  instability_index  isoelectric_point  \\\n",
       "0           1850.9960     0.000000          24.817647          11.999968   \n",
       "1           1525.8875     0.000000          36.466667          11.999968   \n",
       "2            871.8950     0.000000          48.687500           6.087706   \n",
       "3           1211.2883     0.000000         -11.454545           9.598972   \n",
       "4           1837.9973     0.000000          56.905882          11.999968   \n",
       "..                ...          ...                ...                ...   \n",
       "707         3336.9618     0.100000          -1.326667           9.408790   \n",
       "708         2889.2103     0.272727          33.700000           9.625146   \n",
       "709         4450.8237     0.138889          62.650000           4.300688   \n",
       "710         5189.4931     0.127660          18.168085           4.443127   \n",
       "711         4685.9408     0.111111          69.236111           4.409706   \n",
       "\n",
       "        helix      turn     sheet  with_reduced_cysteines  \\\n",
       "0    0.117647  0.352941  0.117647                       0   \n",
       "1    0.250000  0.000000  0.333333                       0   \n",
       "2    0.125000  0.500000  0.000000                       0   \n",
       "3    0.181818  0.454545  0.000000                       0   \n",
       "4    0.117647  0.352941  0.117647                       0   \n",
       "..        ...       ...       ...                     ...   \n",
       "707  0.233333  0.266667  0.066667                    5500   \n",
       "708  0.318182  0.181818  0.000000                   15470   \n",
       "709  0.361111  0.194444  0.361111                   17990   \n",
       "710  0.234043  0.446809  0.148936                   11000   \n",
       "711  0.277778  0.111111  0.333333                   13980   \n",
       "\n",
       "     with_disulfid_bridges     gravy  net_charge_at_pH7point4  \n",
       "0                        0 -1.547059                 2.609418  \n",
       "1                        0 -0.208333                 2.594004  \n",
       "2                        0 -1.700000                -0.440856  \n",
       "3                        0 -1.545455                 0.559118  \n",
       "4                        0 -1.370588                 2.609418  \n",
       "..                     ...       ...                      ...  \n",
       "707                   5750 -0.066667                 4.466476  \n",
       "708                  15470 -1.486364                 2.559925  \n",
       "709                  17990 -0.875000                -5.406266  \n",
       "710                  11000 -1.004255                -4.370952  \n",
       "711                  13980 -1.791667                -6.738836  \n",
       "\n",
       "[712 rows x 11 columns]"
      ]
     },
     "execution_count": 112,
     "metadata": {},
     "output_type": "execute_result"
    }
   ],
   "source": [
    "prop"
   ]
  },
  {
   "cell_type": "code",
   "execution_count": 118,
   "id": "orange-engineer",
   "metadata": {},
   "outputs": [],
   "source": [
    "import seaborn as sns"
   ]
  },
  {
   "cell_type": "code",
   "execution_count": 123,
   "id": "front-paris",
   "metadata": {
    "scrolled": false
   },
   "outputs": [
    {
     "data": {
      "image/png": "[encoded data removed]",
      "text/plain": [
       "<Figure size 416.625x360 with 1 Axes>"
      ]
     },
     "metadata": {
      "needs_background": "light"
     },
     "output_type": "display_data"
    },
    {
     "data": {
      "image/png": "[encoded data removed]",
      "text/plain": [
       "<Figure size 416.625x360 with 1 Axes>"
      ]
     },
     "metadata": {
      "needs_background": "light"
     },
     "output_type": "display_data"
    },
    {
     "data": {
      "image/png": "[encoded data removed]",
      "text/plain": [
       "<Figure size 416.625x360 with 1 Axes>"
      ]
     },
     "metadata": {
      "needs_background": "light"
     },
     "output_type": "display_data"
    },
    {
     "data": {
      "image/png": "[encoded data removed]",
      "text/plain": [
       "<Figure size 416.625x360 with 1 Axes>"
      ]
     },
     "metadata": {
      "needs_background": "light"
     },
     "output_type": "display_data"
    },
    {
     "data": {
      "image/png": "[encoded data removed]",
      "text/plain": [
       "<Figure size 416.625x360 with 1 Axes>"
      ]
     },
     "metadata": {
      "needs_background": "light"
     },
     "output_type": "display_data"
    },
    {
     "data": {
      "image/png": "[encoded data removed]",
      "text/plain": [
       "<Figure size 416.625x360 with 1 Axes>"
      ]
     },
     "metadata": {
      "needs_background": "light"
     },
     "output_type": "display_data"
    },
    {
     "data": {
      "image/png": "[encoded data removed]",
      "text/plain": [
       "<Figure size 416.625x360 with 1 Axes>"
      ]
     },
     "metadata": {
      "needs_background": "light"
     },
     "output_type": "display_data"
    },
    {
     "data": {
      "image/png": "[encoded data removed]",
      "text/plain": [
       "<Figure size 416.625x360 with 1 Axes>"
      ]
     },
     "metadata": {
      "needs_background": "light"
     },
     "output_type": "display_data"
    },
    {
     "data": {
      "image/png": "[encoded data removed]",
      "text/plain": [
       "<Figure size 416.625x360 with 1 Axes>"
      ]
     },
     "metadata": {
      "needs_background": "light"
     },
     "output_type": "display_data"
    },
    {
     "data": {
      "image/png": "[encoded data removed]",
      "text/plain": [
       "<Figure size 416.625x360 with 1 Axes>"
      ]
     },
     "metadata": {
      "needs_background": "light"
     },
     "output_type": "display_data"
    },
    {
     "data": {
      "image/png": "[encoded data removed]",
      "text/plain": [
       "<Figure size 416.625x360 with 1 Axes>"
      ]
     },
     "metadata": {
      "needs_background": "light"
     },
     "output_type": "display_data"
    }
   ],
   "source": [
    "for feature in prop.columns:\n",
    "    sns.displot(prop, x=feature, hue=df['lessthan5'], kind=\"kde\", fill=True)\n",
    "    plt.title(feature)"
   ]
  },
  {
   "cell_type": "code",
   "execution_count": null,
   "id": "north-boating",
   "metadata": {},
   "outputs": [],
   "source": []
  }
 ],
 "metadata": {
  "kernelspec": {
   "display_name": "Python 3",
   "language": "python",
   "name": "python3"
  },
  "language_info": {
   "codemirror_mode": {
    "name": "ipython",
    "version": 3
   },
   "file_extension": ".py",
   "mimetype": "text/x-python",
   "name": "python",
   "nbconvert_exporter": "python",
   "pygments_lexer": "ipython3",
   "version": "3.6.10"
  }
 },
 "nbformat": 4,
 "nbformat_minor": 5
}
