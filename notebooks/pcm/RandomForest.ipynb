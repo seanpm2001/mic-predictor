{
 "cells": [
  {
   "cell_type": "code",
   "execution_count": 1,
   "id": "muslim-lithuania",
   "metadata": {
    "ExecuteTime": {
     "end_time": "2021-08-08T07:37:37.941494Z",
     "start_time": "2021-08-08T07:37:37.937333Z"
    }
   },
   "outputs": [
    {
     "name": "stdout",
     "output_type": "stream",
     "text": [
      "/Users/in-divye.singh/Documents/Projects/MIC_predictor\n"
     ]
    }
   ],
   "source": [
    "cd ../../"
   ]
  },
  {
   "cell_type": "code",
   "execution_count": 2,
   "id": "finished-columbia",
   "metadata": {
    "ExecuteTime": {
     "end_time": "2021-08-08T07:37:38.967452Z",
     "start_time": "2021-08-08T07:37:38.596882Z"
    }
   },
   "outputs": [],
   "source": [
    "import pandas as pd\n",
    "import numpy as np\n",
    "import matplotlib.pyplot as plt"
   ]
  },
  {
   "cell_type": "code",
   "execution_count": 3,
   "id": "logical-syracuse",
   "metadata": {
    "ExecuteTime": {
     "end_time": "2021-08-08T07:37:40.110502Z",
     "start_time": "2021-08-08T07:37:39.587472Z"
    }
   },
   "outputs": [],
   "source": [
    "from notebooks.pcm.utils import ZScalesExtractor"
   ]
  },
  {
   "cell_type": "code",
   "execution_count": 4,
   "id": "romance-leather",
   "metadata": {
    "ExecuteTime": {
     "end_time": "2021-08-08T07:37:40.131776Z",
     "start_time": "2021-08-08T07:37:40.125649Z"
    }
   },
   "outputs": [],
   "source": [
    "mic = pd.read_csv(\"data/raw/MIC_pIC50_values.csv\")"
   ]
  },
  {
   "cell_type": "code",
   "execution_count": 5,
   "id": "operational-translation",
   "metadata": {
    "ExecuteTime": {
     "end_time": "2021-08-08T07:37:40.303637Z",
     "start_time": "2021-08-08T07:37:40.298111Z"
    }
   },
   "outputs": [],
   "source": [
    "seq = pd.read_csv(\"data/raw/peptide_target_seq.csv\")"
   ]
  },
  {
   "cell_type": "code",
   "execution_count": 6,
   "id": "separated-silicon",
   "metadata": {
    "ExecuteTime": {
     "end_time": "2021-08-08T07:37:40.565452Z",
     "start_time": "2021-08-08T07:37:40.559029Z"
    }
   },
   "outputs": [],
   "source": [
    "seq = seq.merge(mic, on='Sequence')"
   ]
  },
  {
   "cell_type": "code",
   "execution_count": 7,
   "id": "monetary-projector",
   "metadata": {
    "ExecuteTime": {
     "end_time": "2021-08-08T07:37:40.784604Z",
     "start_time": "2021-08-08T07:37:40.778074Z"
    }
   },
   "outputs": [],
   "source": [
    "zscale = ZScalesExtractor(\"data/raw/z_scales_5.csv\")"
   ]
  },
  {
   "cell_type": "code",
   "execution_count": 8,
   "id": "exciting-wrist",
   "metadata": {
    "ExecuteTime": {
     "end_time": "2021-08-08T07:37:41.507456Z",
     "start_time": "2021-08-08T07:37:41.384401Z"
    }
   },
   "outputs": [],
   "source": [
    "zscales_features = zscale.transform(seq)"
   ]
  },
  {
   "cell_type": "code",
   "execution_count": 9,
   "id": "flying-hartford",
   "metadata": {
    "ExecuteTime": {
     "end_time": "2021-08-08T07:38:02.714285Z",
     "start_time": "2021-08-08T07:38:02.711314Z"
    }
   },
   "outputs": [],
   "source": [
    "from sklearn.decomposition import PCA\n",
    "from sklearn.ensemble import RandomForestRegressor\n",
    "from sklearn.model_selection import cross_val_predict\n",
    "from sklearn.metrics import mean_squared_error, r2_score"
   ]
  },
  {
   "cell_type": "code",
   "execution_count": 10,
   "id": "infrared-julian",
   "metadata": {
    "ExecuteTime": {
     "end_time": "2021-08-08T07:38:04.149971Z",
     "start_time": "2021-08-08T07:38:04.146628Z"
    }
   },
   "outputs": [],
   "source": [
    "def mean_absolute_percentage_error(y_true, y_pred): \n",
    "    y_true, y_pred = np.array(y_true), np.array(y_pred)\n",
    "    return np.mean(np.abs((y_true - y_pred) / y_true)) * 100"
   ]
  },
  {
   "cell_type": "code",
   "execution_count": 11,
   "id": "going-memorial",
   "metadata": {
    "ExecuteTime": {
     "end_time": "2021-08-08T07:38:04.926179Z",
     "start_time": "2021-08-08T07:38:04.921250Z"
    }
   },
   "outputs": [
    {
     "data": {
      "text/plain": [
       "(50, 7)"
      ]
     },
     "execution_count": 11,
     "metadata": {},
     "output_type": "execute_result"
    }
   ],
   "source": [
    "seq.shape"
   ]
  },
  {
   "cell_type": "code",
   "execution_count": 12,
   "id": "optimum-anger",
   "metadata": {
    "ExecuteTime": {
     "end_time": "2021-08-08T07:39:43.189981Z",
     "start_time": "2021-08-08T07:39:43.185747Z"
    }
   },
   "outputs": [],
   "source": [
    "def optimise_rf_cv(X, y, n_comp):\n",
    "    # Define PLS object\n",
    "    rf = RandomForestRegressor(n_estimators=n_comp)\n",
    "\n",
    "    # Cross-validation\n",
    "    y_cv = cross_val_predict(rf, X, y, cv=50)\n",
    "\n",
    "    # Calculate scores\n",
    "    r2 = r2_score(y, y_cv)\n",
    "    mse = mean_squared_error(y, y_cv)\n",
    "    mape = mean_absolute_percentage_error(y, y_cv)\n",
    "    rpd = y.std()/np.sqrt(mse)\n",
    "    \n",
    "    return (y_cv, r2, mse, mape, rpd)"
   ]
  },
  {
   "cell_type": "code",
   "execution_count": 13,
   "id": "comparable-march",
   "metadata": {
    "ExecuteTime": {
     "end_time": "2021-08-08T07:43:39.446201Z",
     "start_time": "2021-08-08T07:39:51.350522Z"
    }
   },
   "outputs": [],
   "source": [
    "r2s = []\n",
    "mses = []\n",
    "mapes = []\n",
    "rpds = []\n",
    "xticks = [100, 200, 250, 300, 500, 1000, 1500]#zscales_features.shape[1]-1)\n",
    "for n_comp in xticks:\n",
    "    y_cv, r2, mse, mape, rpd = optimise_rf_cv(zscales_features, seq['pIC50'], n_comp)\n",
    "    r2s.append(r2)\n",
    "    mses.append(mse)\n",
    "    mapes.append(mape)\n",
    "    rpds.append(rpd)"
   ]
  },
  {
   "cell_type": "code",
   "execution_count": 14,
   "id": "deadly-scientist",
   "metadata": {
    "ExecuteTime": {
     "end_time": "2021-08-08T07:43:39.545081Z",
     "start_time": "2021-08-08T07:43:39.538921Z"
    }
   },
   "outputs": [],
   "source": [
    "def plot_metrics(vals, ylabel, objective):\n",
    "    with plt.style.context('ggplot'):\n",
    "        plt.plot(xticks, np.array(vals), '-v', color='blue', mfc='blue')\n",
    "        if objective=='min':\n",
    "            idx = np.argmin(vals)\n",
    "        else:\n",
    "            idx = np.argmax(vals)\n",
    "        plt.plot(xticks[idx], np.array(vals)[idx], 'P', ms=10, mfc='red')\n",
    "\n",
    "        plt.xlabel('Number of PLS components')\n",
    "        plt.xticks = xticks\n",
    "        plt.ylabel(ylabel)\n",
    "        plt.title('PLS')\n",
    "\n",
    "    plt.show()"
   ]
  },
  {
   "cell_type": "code",
   "execution_count": 15,
   "id": "julian-shakespeare",
   "metadata": {
    "ExecuteTime": {
     "end_time": "2021-08-08T07:43:39.866899Z",
     "start_time": "2021-08-08T07:43:39.660486Z"
    }
   },
   "outputs": [
    {
     "data": {
      "image/png": "[encoded data removed]",
      "text/plain": [
       "<Figure size 432x288 with 1 Axes>"
      ]
     },
     "metadata": {},
     "output_type": "display_data"
    }
   ],
   "source": [
    "plot_metrics(mses, 'MSE', 'min')"
   ]
  },
  {
   "cell_type": "code",
   "execution_count": 16,
   "id": "organizational-aaron",
   "metadata": {
    "ExecuteTime": {
     "end_time": "2021-08-08T07:43:40.173502Z",
     "start_time": "2021-08-08T07:43:39.967107Z"
    }
   },
   "outputs": [
    {
     "data": {
      "image/png": "[encoded data removed]",
      "text/plain": [
       "<Figure size 432x288 with 1 Axes>"
      ]
     },
     "metadata": {},
     "output_type": "display_data"
    }
   ],
   "source": [
    "plot_metrics(mapes, 'MAPE', 'min')"
   ]
  },
  {
   "cell_type": "code",
   "execution_count": 17,
   "id": "reverse-burlington",
   "metadata": {
    "ExecuteTime": {
     "end_time": "2021-08-08T07:43:40.430789Z",
     "start_time": "2021-08-08T07:43:40.274772Z"
    }
   },
   "outputs": [
    {
     "data": {
      "image/png": "[encoded data removed]",
      "text/plain": [
       "<Figure size 432x288 with 1 Axes>"
      ]
     },
     "metadata": {},
     "output_type": "display_data"
    }
   ],
   "source": [
    "plot_metrics(r2s, 'R2', 'max')"
   ]
  },
  {
   "cell_type": "code",
   "execution_count": 18,
   "id": "governmental-minority",
   "metadata": {
    "ExecuteTime": {
     "end_time": "2021-08-08T07:43:40.686671Z",
     "start_time": "2021-08-08T07:43:40.530513Z"
    }
   },
   "outputs": [
    {
     "data": {
      "image/png": "[encoded data removed]",
      "text/plain": [
       "<Figure size 432x288 with 1 Axes>"
      ]
     },
     "metadata": {},
     "output_type": "display_data"
    }
   ],
   "source": [
    "plot_metrics(rpds, 'RPD', 'max')"
   ]
  },
  {
   "cell_type": "code",
   "execution_count": 19,
   "id": "southern-hanging",
   "metadata": {
    "ExecuteTime": {
     "end_time": "2021-08-08T07:43:40.796942Z",
     "start_time": "2021-08-08T07:43:40.787315Z"
    }
   },
   "outputs": [
    {
     "data": {
      "text/html": [
       "<div>\n",
       "<style scoped>\n",
       "    .dataframe tbody tr th:only-of-type {\n",
       "        vertical-align: middle;\n",
       "    }\n",
       "\n",
       "    .dataframe tbody tr th {\n",
       "        vertical-align: top;\n",
       "    }\n",
       "\n",
       "    .dataframe thead th {\n",
       "        text-align: right;\n",
       "    }\n",
       "</style>\n",
       "<table border=\"1\" class=\"dataframe\">\n",
       "  <thead>\n",
       "    <tr style=\"text-align: right;\">\n",
       "      <th></th>\n",
       "      <th>MSE</th>\n",
       "      <th>MAPE</th>\n",
       "      <th>R2</th>\n",
       "      <th>RPD</th>\n",
       "    </tr>\n",
       "  </thead>\n",
       "  <tbody>\n",
       "    <tr>\n",
       "      <th>0</th>\n",
       "      <td>3.334827</td>\n",
       "      <td>10.273973</td>\n",
       "      <td>0.749286</td>\n",
       "      <td>2.017426</td>\n",
       "    </tr>\n",
       "    <tr>\n",
       "      <th>1</th>\n",
       "      <td>3.422124</td>\n",
       "      <td>10.453345</td>\n",
       "      <td>0.742723</td>\n",
       "      <td>1.991528</td>\n",
       "    </tr>\n",
       "    <tr>\n",
       "      <th>2</th>\n",
       "      <td>3.235952</td>\n",
       "      <td>10.101681</td>\n",
       "      <td>0.756719</td>\n",
       "      <td>2.048016</td>\n",
       "    </tr>\n",
       "    <tr>\n",
       "      <th>3</th>\n",
       "      <td>3.195902</td>\n",
       "      <td>10.048552</td>\n",
       "      <td>0.759730</td>\n",
       "      <td>2.060808</td>\n",
       "    </tr>\n",
       "    <tr>\n",
       "      <th>4</th>\n",
       "      <td>3.268844</td>\n",
       "      <td>10.069425</td>\n",
       "      <td>0.754247</td>\n",
       "      <td>2.037685</td>\n",
       "    </tr>\n",
       "    <tr>\n",
       "      <th>5</th>\n",
       "      <td>3.271870</td>\n",
       "      <td>10.074287</td>\n",
       "      <td>0.754019</td>\n",
       "      <td>2.036743</td>\n",
       "    </tr>\n",
       "    <tr>\n",
       "      <th>6</th>\n",
       "      <td>3.226277</td>\n",
       "      <td>10.080163</td>\n",
       "      <td>0.757447</td>\n",
       "      <td>2.051084</td>\n",
       "    </tr>\n",
       "  </tbody>\n",
       "</table>\n",
       "</div>"
      ],
      "text/plain": [
       "        MSE       MAPE        R2       RPD\n",
       "0  3.334827  10.273973  0.749286  2.017426\n",
       "1  3.422124  10.453345  0.742723  1.991528\n",
       "2  3.235952  10.101681  0.756719  2.048016\n",
       "3  3.195902  10.048552  0.759730  2.060808\n",
       "4  3.268844  10.069425  0.754247  2.037685\n",
       "5  3.271870  10.074287  0.754019  2.036743\n",
       "6  3.226277  10.080163  0.757447  2.051084"
      ]
     },
     "execution_count": 19,
     "metadata": {},
     "output_type": "execute_result"
    }
   ],
   "source": [
    "pd.DataFrame(list(zip(mses, mapes, r2s, rpds)), columns=['MSE', 'MAPE', 'R2', 'RPD'])"
   ]
  },
  {
   "cell_type": "code",
   "execution_count": 21,
   "id": "tight-particular",
   "metadata": {
    "ExecuteTime": {
     "end_time": "2021-08-09T05:52:33.190359Z",
     "start_time": "2021-08-09T05:52:33.187383Z"
    }
   },
   "outputs": [],
   "source": [
    "y_pred_mic = np.exp(-y_cv)/1e-6"
   ]
  },
  {
   "cell_type": "code",
   "execution_count": 22,
   "id": "appropriate-mention",
   "metadata": {
    "ExecuteTime": {
     "end_time": "2021-08-09T05:53:39.500916Z",
     "start_time": "2021-08-09T05:53:39.496574Z"
    }
   },
   "outputs": [
    {
     "data": {
      "text/plain": [
       "369.8017378805339"
      ]
     },
     "execution_count": 22,
     "metadata": {},
     "output_type": "execute_result"
    }
   ],
   "source": [
    "mean_absolute_percentage_error(seq['pIC50'], y_pred_mic)"
   ]
  },
  {
   "cell_type": "code",
   "execution_count": null,
   "id": "lesbian-idaho",
   "metadata": {},
   "outputs": [],
   "source": []
  }
 ],
 "metadata": {
  "kernelspec": {
   "display_name": "Python 3",
   "language": "python",
   "name": "python3"
  },
  "language_info": {
   "codemirror_mode": {
    "name": "ipython",
    "version": 3
   },
   "file_extension": ".py",
   "mimetype": "text/x-python",
   "name": "python",
   "nbconvert_exporter": "python",
   "pygments_lexer": "ipython3",
   "version": "3.6.10"
  },
  "varInspector": {
   "cols": {
    "lenName": 16,
    "lenType": 16,
    "lenVar": 40
   },
   "kernels_config": {
    "python": {
     "delete_cmd_postfix": "",
     "delete_cmd_prefix": "del ",
     "library": "var_list.py",
     "varRefreshCmd": "print(var_dic_list())"
    },
    "r": {
     "delete_cmd_postfix": ") ",
     "delete_cmd_prefix": "rm(",
     "library": "var_list.r",
     "varRefreshCmd": "cat(var_dic_list()) "
    }
   },
   "types_to_exclude": [
    "module",
    "function",
    "builtin_function_or_method",
    "instance",
    "_Feature"
   ],
   "window_display": false
  }
 },
 "nbformat": 4,
 "nbformat_minor": 5
}
