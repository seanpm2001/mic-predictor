{
 "cells": [
  {
   "cell_type": "code",
   "execution_count": 1,
   "id": "noted-initial",
   "metadata": {
    "ExecuteTime": {
     "end_time": "2021-08-08T07:31:43.407432Z",
     "start_time": "2021-08-08T07:31:43.402002Z"
    }
   },
   "outputs": [
    {
     "name": "stdout",
     "output_type": "stream",
     "text": [
      "/Users/in-divye.singh/Documents/Projects/MIC_predictor\n"
     ]
    }
   ],
   "source": [
    "cd ../../"
   ]
  },
  {
   "cell_type": "code",
   "execution_count": 17,
   "id": "dedicated-attribute",
   "metadata": {
    "ExecuteTime": {
     "end_time": "2021-08-08T07:32:27.942152Z",
     "start_time": "2021-08-08T07:32:27.751755Z"
    }
   },
   "outputs": [],
   "source": [
    "import pandas as pd\n",
    "import numpy as np\n",
    "import matplotlib.pyplot as plt"
   ]
  },
  {
   "cell_type": "code",
   "execution_count": 3,
   "id": "accomplished-fortune",
   "metadata": {
    "ExecuteTime": {
     "end_time": "2021-08-08T07:31:45.122490Z",
     "start_time": "2021-08-08T07:31:44.213330Z"
    }
   },
   "outputs": [],
   "source": [
    "from notebooks.pcm.utils import ZScalesExtractor"
   ]
  },
  {
   "cell_type": "code",
   "execution_count": 4,
   "id": "friendly-commander",
   "metadata": {
    "ExecuteTime": {
     "end_time": "2021-08-08T07:31:45.214513Z",
     "start_time": "2021-08-08T07:31:45.207521Z"
    }
   },
   "outputs": [],
   "source": [
    "mic = pd.read_csv(\"data/raw/MIC_pIC50_values.csv\")"
   ]
  },
  {
   "cell_type": "code",
   "execution_count": 5,
   "id": "nasty-tribune",
   "metadata": {
    "ExecuteTime": {
     "end_time": "2021-08-08T07:31:45.331937Z",
     "start_time": "2021-08-08T07:31:45.325720Z"
    }
   },
   "outputs": [],
   "source": [
    "seq = pd.read_csv(\"data/raw/peptide_target_seq.csv\")"
   ]
  },
  {
   "cell_type": "code",
   "execution_count": 6,
   "id": "streaming-wrong",
   "metadata": {
    "ExecuteTime": {
     "end_time": "2021-08-08T07:31:45.501671Z",
     "start_time": "2021-08-08T07:31:45.495811Z"
    }
   },
   "outputs": [],
   "source": [
    "seq = seq.merge(mic, on='Sequence')"
   ]
  },
  {
   "cell_type": "code",
   "execution_count": 7,
   "id": "preceding-oregon",
   "metadata": {
    "ExecuteTime": {
     "end_time": "2021-08-08T07:31:45.696606Z",
     "start_time": "2021-08-08T07:31:45.690156Z"
    }
   },
   "outputs": [],
   "source": [
    "zscale = ZScalesExtractor(\"data/raw/z_scales_5.csv\")"
   ]
  },
  {
   "cell_type": "code",
   "execution_count": 8,
   "id": "micro-investigation",
   "metadata": {
    "ExecuteTime": {
     "end_time": "2021-08-08T07:31:46.008853Z",
     "start_time": "2021-08-08T07:31:45.881387Z"
    }
   },
   "outputs": [],
   "source": [
    "zscales_features = zscale.transform(seq)"
   ]
  },
  {
   "cell_type": "code",
   "execution_count": 9,
   "id": "statewide-marketing",
   "metadata": {
    "ExecuteTime": {
     "end_time": "2021-08-08T07:31:46.460299Z",
     "start_time": "2021-08-08T07:31:46.372584Z"
    }
   },
   "outputs": [],
   "source": [
    "from sklearn.decomposition import PCA\n",
    "from sklearn.cross_decomposition import PLSRegression\n",
    "from sklearn.model_selection import cross_val_predict\n",
    "from sklearn.metrics import mean_squared_error, r2_score"
   ]
  },
  {
   "cell_type": "code",
   "execution_count": 10,
   "id": "under-senator",
   "metadata": {
    "ExecuteTime": {
     "end_time": "2021-08-08T07:31:46.892535Z",
     "start_time": "2021-08-08T07:31:46.889202Z"
    }
   },
   "outputs": [],
   "source": [
    "def mean_absolute_percentage_error(y_true, y_pred): \n",
    "    y_true, y_pred = np.array(y_true), np.array(y_pred)\n",
    "    return np.mean(np.abs((y_true - y_pred) / y_true)) * 100"
   ]
  },
  {
   "cell_type": "code",
   "execution_count": 11,
   "id": "useful-reduction",
   "metadata": {
    "ExecuteTime": {
     "end_time": "2021-08-08T07:31:48.690163Z",
     "start_time": "2021-08-08T07:31:48.681200Z"
    }
   },
   "outputs": [
    {
     "data": {
      "text/plain": [
       "(50, 7)"
      ]
     },
     "execution_count": 11,
     "metadata": {},
     "output_type": "execute_result"
    }
   ],
   "source": [
    "seq.shape"
   ]
  },
  {
   "cell_type": "code",
   "execution_count": 23,
   "id": "round-event",
   "metadata": {
    "ExecuteTime": {
     "end_time": "2021-08-08T07:32:59.678529Z",
     "start_time": "2021-08-08T07:32:59.674139Z"
    }
   },
   "outputs": [],
   "source": [
    "def optimise_pls_cv(X, y, n_comp):\n",
    "    # Define PLS object\n",
    "    pls = PLSRegression(n_components=n_comp)\n",
    "\n",
    "    # Cross-validation\n",
    "    y_cv = cross_val_predict(pls, X, y, cv=50)\n",
    "\n",
    "    # Calculate scores\n",
    "    r2 = r2_score(y, y_cv)\n",
    "    mse = mean_squared_error(y, y_cv)\n",
    "    mape = mean_absolute_percentage_error(y, y_cv)\n",
    "    rpd = y.std()/np.sqrt(mse)\n",
    "    \n",
    "    return (y_cv, r2, mse, mape, rpd)"
   ]
  },
  {
   "cell_type": "code",
   "execution_count": 31,
   "id": "lightweight-quilt",
   "metadata": {
    "ExecuteTime": {
     "end_time": "2021-08-08T07:35:25.016551Z",
     "start_time": "2021-08-08T07:35:17.078846Z"
    }
   },
   "outputs": [],
   "source": [
    "r2s = []\n",
    "mses = []\n",
    "mapes = []\n",
    "rpds = []\n",
    "xticks = np.arange(1, 28)#zscales_features.shape[1]-1)\n",
    "for n_comp in xticks:\n",
    "    y_cv, r2, mse, mape, rpd = optimise_pls_cv(zscales_features, seq['pIC50'], n_comp)\n",
    "    r2s.append(r2)\n",
    "    mses.append(mse)\n",
    "    mapes.append(mape)\n",
    "    rpds.append(rpd)"
   ]
  },
  {
   "cell_type": "code",
   "execution_count": 25,
   "id": "loose-glass",
   "metadata": {
    "ExecuteTime": {
     "end_time": "2021-08-08T07:33:08.408138Z",
     "start_time": "2021-08-08T07:33:08.403477Z"
    }
   },
   "outputs": [],
   "source": [
    "def plot_metrics(vals, ylabel, objective):\n",
    "    with plt.style.context('ggplot'):\n",
    "        plt.plot(xticks, np.array(vals), '-v', color='blue', mfc='blue')\n",
    "        if objective=='min':\n",
    "            idx = np.argmin(vals)\n",
    "        else:\n",
    "            idx = np.argmax(vals)\n",
    "        plt.plot(xticks[idx], np.array(vals)[idx], 'P', ms=10, mfc='red')\n",
    "\n",
    "        plt.xlabel('Number of PLS components')\n",
    "        plt.xticks = xticks\n",
    "        plt.ylabel(ylabel)\n",
    "        plt.title('PLS')\n",
    "\n",
    "    plt.show()"
   ]
  },
  {
   "cell_type": "code",
   "execution_count": 32,
   "id": "adjusted-wound",
   "metadata": {
    "ExecuteTime": {
     "end_time": "2021-08-08T07:35:25.508357Z",
     "start_time": "2021-08-08T07:35:25.371017Z"
    }
   },
   "outputs": [
    {
     "data": {
      "image/png": "[encoded data removed]",
      "text/plain": [
       "<Figure size 432x288 with 1 Axes>"
      ]
     },
     "metadata": {},
     "output_type": "display_data"
    }
   ],
   "source": [
    "plot_metrics(mses, 'MSE', 'min')"
   ]
  },
  {
   "cell_type": "code",
   "execution_count": 33,
   "id": "supreme-coaching",
   "metadata": {
    "ExecuteTime": {
     "end_time": "2021-08-08T07:35:26.028352Z",
     "start_time": "2021-08-08T07:35:25.890287Z"
    }
   },
   "outputs": [
    {
     "data": {
      "image/png": "[encoded data removed]",
      "text/plain": [
       "<Figure size 432x288 with 1 Axes>"
      ]
     },
     "metadata": {},
     "output_type": "display_data"
    }
   ],
   "source": [
    "plot_metrics(mapes, 'MAPE', 'min')"
   ]
  },
  {
   "cell_type": "code",
   "execution_count": 34,
   "id": "qualified-lexington",
   "metadata": {
    "ExecuteTime": {
     "end_time": "2021-08-08T07:35:26.502673Z",
     "start_time": "2021-08-08T07:35:26.370039Z"
    }
   },
   "outputs": [
    {
     "data": {
      "image/png": "[encoded data removed]",
      "text/plain": [
       "<Figure size 432x288 with 1 Axes>"
      ]
     },
     "metadata": {},
     "output_type": "display_data"
    }
   ],
   "source": [
    "plot_metrics(r2s, 'R2', 'max')"
   ]
  },
  {
   "cell_type": "code",
   "execution_count": 35,
   "id": "personalized-driving",
   "metadata": {
    "ExecuteTime": {
     "end_time": "2021-08-08T07:35:27.048161Z",
     "start_time": "2021-08-08T07:35:26.884958Z"
    }
   },
   "outputs": [
    {
     "data": {
      "image/png": "[encoded data removed]",
      "text/plain": [
       "<Figure size 432x288 with 1 Axes>"
      ]
     },
     "metadata": {},
     "output_type": "display_data"
    }
   ],
   "source": [
    "plot_metrics(rpds, 'RPD', 'max')"
   ]
  },
  {
   "cell_type": "code",
   "execution_count": 36,
   "id": "structural-cocktail",
   "metadata": {
    "ExecuteTime": {
     "end_time": "2021-08-08T07:35:27.523427Z",
     "start_time": "2021-08-08T07:35:27.509904Z"
    }
   },
   "outputs": [
    {
     "data": {
      "text/html": [
       "<div>\n",
       "<style scoped>\n",
       "    .dataframe tbody tr th:only-of-type {\n",
       "        vertical-align: middle;\n",
       "    }\n",
       "\n",
       "    .dataframe tbody tr th {\n",
       "        vertical-align: top;\n",
       "    }\n",
       "\n",
       "    .dataframe thead th {\n",
       "        text-align: right;\n",
       "    }\n",
       "</style>\n",
       "<table border=\"1\" class=\"dataframe\">\n",
       "  <thead>\n",
       "    <tr style=\"text-align: right;\">\n",
       "      <th></th>\n",
       "      <th>MSE</th>\n",
       "      <th>MAPE</th>\n",
       "      <th>R2</th>\n",
       "      <th>RPD</th>\n",
       "    </tr>\n",
       "  </thead>\n",
       "  <tbody>\n",
       "    <tr>\n",
       "      <th>0</th>\n",
       "      <td>8.837593</td>\n",
       "      <td>29.220479</td>\n",
       "      <td>0.335585</td>\n",
       "      <td>1.239274</td>\n",
       "    </tr>\n",
       "    <tr>\n",
       "      <th>1</th>\n",
       "      <td>6.899716</td>\n",
       "      <td>30.337519</td>\n",
       "      <td>0.481276</td>\n",
       "      <td>1.402551</td>\n",
       "    </tr>\n",
       "    <tr>\n",
       "      <th>2</th>\n",
       "      <td>6.487110</td>\n",
       "      <td>31.176660</td>\n",
       "      <td>0.512296</td>\n",
       "      <td>1.446467</td>\n",
       "    </tr>\n",
       "    <tr>\n",
       "      <th>3</th>\n",
       "      <td>6.021734</td>\n",
       "      <td>31.652963</td>\n",
       "      <td>0.547283</td>\n",
       "      <td>1.501321</td>\n",
       "    </tr>\n",
       "    <tr>\n",
       "      <th>4</th>\n",
       "      <td>5.414911</td>\n",
       "      <td>31.526978</td>\n",
       "      <td>0.592904</td>\n",
       "      <td>1.583210</td>\n",
       "    </tr>\n",
       "    <tr>\n",
       "      <th>5</th>\n",
       "      <td>5.266057</td>\n",
       "      <td>31.816216</td>\n",
       "      <td>0.604095</td>\n",
       "      <td>1.605430</td>\n",
       "    </tr>\n",
       "    <tr>\n",
       "      <th>6</th>\n",
       "      <td>4.938348</td>\n",
       "      <td>31.628558</td>\n",
       "      <td>0.628732</td>\n",
       "      <td>1.657843</td>\n",
       "    </tr>\n",
       "    <tr>\n",
       "      <th>7</th>\n",
       "      <td>4.810969</td>\n",
       "      <td>31.328854</td>\n",
       "      <td>0.638309</td>\n",
       "      <td>1.679647</td>\n",
       "    </tr>\n",
       "    <tr>\n",
       "      <th>8</th>\n",
       "      <td>5.562675</td>\n",
       "      <td>31.422025</td>\n",
       "      <td>0.581795</td>\n",
       "      <td>1.562041</td>\n",
       "    </tr>\n",
       "    <tr>\n",
       "      <th>9</th>\n",
       "      <td>5.450364</td>\n",
       "      <td>31.246639</td>\n",
       "      <td>0.590239</td>\n",
       "      <td>1.578053</td>\n",
       "    </tr>\n",
       "    <tr>\n",
       "      <th>10</th>\n",
       "      <td>5.512474</td>\n",
       "      <td>31.336892</td>\n",
       "      <td>0.585569</td>\n",
       "      <td>1.569137</td>\n",
       "    </tr>\n",
       "    <tr>\n",
       "      <th>11</th>\n",
       "      <td>5.420921</td>\n",
       "      <td>31.173008</td>\n",
       "      <td>0.592452</td>\n",
       "      <td>1.582332</td>\n",
       "    </tr>\n",
       "    <tr>\n",
       "      <th>12</th>\n",
       "      <td>5.401156</td>\n",
       "      <td>31.140854</td>\n",
       "      <td>0.593938</td>\n",
       "      <td>1.585225</td>\n",
       "    </tr>\n",
       "    <tr>\n",
       "      <th>13</th>\n",
       "      <td>5.495194</td>\n",
       "      <td>31.408625</td>\n",
       "      <td>0.586868</td>\n",
       "      <td>1.571603</td>\n",
       "    </tr>\n",
       "    <tr>\n",
       "      <th>14</th>\n",
       "      <td>6.373268</td>\n",
       "      <td>32.718932</td>\n",
       "      <td>0.520854</td>\n",
       "      <td>1.459329</td>\n",
       "    </tr>\n",
       "    <tr>\n",
       "      <th>15</th>\n",
       "      <td>8.352582</td>\n",
       "      <td>34.876324</td>\n",
       "      <td>0.372049</td>\n",
       "      <td>1.274747</td>\n",
       "    </tr>\n",
       "    <tr>\n",
       "      <th>16</th>\n",
       "      <td>11.780679</td>\n",
       "      <td>36.792334</td>\n",
       "      <td>0.114322</td>\n",
       "      <td>1.073369</td>\n",
       "    </tr>\n",
       "    <tr>\n",
       "      <th>17</th>\n",
       "      <td>13.319231</td>\n",
       "      <td>37.712055</td>\n",
       "      <td>-0.001347</td>\n",
       "      <td>1.009473</td>\n",
       "    </tr>\n",
       "    <tr>\n",
       "      <th>18</th>\n",
       "      <td>14.476939</td>\n",
       "      <td>38.377542</td>\n",
       "      <td>-0.088384</td>\n",
       "      <td>0.968269</td>\n",
       "    </tr>\n",
       "    <tr>\n",
       "      <th>19</th>\n",
       "      <td>15.958402</td>\n",
       "      <td>39.567137</td>\n",
       "      <td>-0.199761</td>\n",
       "      <td>0.922231</td>\n",
       "    </tr>\n",
       "    <tr>\n",
       "      <th>20</th>\n",
       "      <td>20.333479</td>\n",
       "      <td>41.764392</td>\n",
       "      <td>-0.528682</td>\n",
       "      <td>0.817012</td>\n",
       "    </tr>\n",
       "    <tr>\n",
       "      <th>21</th>\n",
       "      <td>25.508937</td>\n",
       "      <td>43.588787</td>\n",
       "      <td>-0.917775</td>\n",
       "      <td>0.729438</td>\n",
       "    </tr>\n",
       "    <tr>\n",
       "      <th>22</th>\n",
       "      <td>43.471862</td>\n",
       "      <td>49.175765</td>\n",
       "      <td>-2.268237</td>\n",
       "      <td>0.558766</td>\n",
       "    </tr>\n",
       "    <tr>\n",
       "      <th>23</th>\n",
       "      <td>152.386543</td>\n",
       "      <td>65.282024</td>\n",
       "      <td>-10.456500</td>\n",
       "      <td>0.298443</td>\n",
       "    </tr>\n",
       "    <tr>\n",
       "      <th>24</th>\n",
       "      <td>213.755197</td>\n",
       "      <td>74.852174</td>\n",
       "      <td>-15.070228</td>\n",
       "      <td>0.251986</td>\n",
       "    </tr>\n",
       "    <tr>\n",
       "      <th>25</th>\n",
       "      <td>266.632718</td>\n",
       "      <td>78.826646</td>\n",
       "      <td>-19.045588</td>\n",
       "      <td>0.225620</td>\n",
       "    </tr>\n",
       "    <tr>\n",
       "      <th>26</th>\n",
       "      <td>387.723703</td>\n",
       "      <td>85.540765</td>\n",
       "      <td>-28.149272</td>\n",
       "      <td>0.187100</td>\n",
       "    </tr>\n",
       "  </tbody>\n",
       "</table>\n",
       "</div>"
      ],
      "text/plain": [
       "           MSE       MAPE         R2       RPD\n",
       "0     8.837593  29.220479   0.335585  1.239274\n",
       "1     6.899716  30.337519   0.481276  1.402551\n",
       "2     6.487110  31.176660   0.512296  1.446467\n",
       "3     6.021734  31.652963   0.547283  1.501321\n",
       "4     5.414911  31.526978   0.592904  1.583210\n",
       "5     5.266057  31.816216   0.604095  1.605430\n",
       "6     4.938348  31.628558   0.628732  1.657843\n",
       "7     4.810969  31.328854   0.638309  1.679647\n",
       "8     5.562675  31.422025   0.581795  1.562041\n",
       "9     5.450364  31.246639   0.590239  1.578053\n",
       "10    5.512474  31.336892   0.585569  1.569137\n",
       "11    5.420921  31.173008   0.592452  1.582332\n",
       "12    5.401156  31.140854   0.593938  1.585225\n",
       "13    5.495194  31.408625   0.586868  1.571603\n",
       "14    6.373268  32.718932   0.520854  1.459329\n",
       "15    8.352582  34.876324   0.372049  1.274747\n",
       "16   11.780679  36.792334   0.114322  1.073369\n",
       "17   13.319231  37.712055  -0.001347  1.009473\n",
       "18   14.476939  38.377542  -0.088384  0.968269\n",
       "19   15.958402  39.567137  -0.199761  0.922231\n",
       "20   20.333479  41.764392  -0.528682  0.817012\n",
       "21   25.508937  43.588787  -0.917775  0.729438\n",
       "22   43.471862  49.175765  -2.268237  0.558766\n",
       "23  152.386543  65.282024 -10.456500  0.298443\n",
       "24  213.755197  74.852174 -15.070228  0.251986\n",
       "25  266.632718  78.826646 -19.045588  0.225620\n",
       "26  387.723703  85.540765 -28.149272  0.187100"
      ]
     },
     "execution_count": 36,
     "metadata": {},
     "output_type": "execute_result"
    }
   ],
   "source": [
    "pd.DataFrame(list(zip(mses, mapes, r2s, rpds)), columns=['MSE', 'MAPE', 'R2', 'RPD'])"
   ]
  },
  {
   "cell_type": "code",
   "execution_count": null,
   "id": "challenging-corporation",
   "metadata": {
    "ExecuteTime": {
     "end_time": "2021-08-08T07:12:55.601757Z",
     "start_time": "2021-08-08T07:12:55.580651Z"
    }
   },
   "outputs": [],
   "source": [
    "seq"
   ]
  },
  {
   "cell_type": "code",
   "execution_count": null,
   "id": "finnish-poker",
   "metadata": {},
   "outputs": [],
   "source": []
  }
 ],
 "metadata": {
  "kernelspec": {
   "display_name": "Python 3",
   "language": "python",
   "name": "python3"
  },
  "language_info": {
   "codemirror_mode": {
    "name": "ipython",
    "version": 3
   },
   "file_extension": ".py",
   "mimetype": "text/x-python",
   "name": "python",
   "nbconvert_exporter": "python",
   "pygments_lexer": "ipython3",
   "version": "3.6.10"
  },
  "varInspector": {
   "cols": {
    "lenName": 16,
    "lenType": 16,
    "lenVar": 40
   },
   "kernels_config": {
    "python": {
     "delete_cmd_postfix": "",
     "delete_cmd_prefix": "del ",
     "library": "var_list.py",
     "varRefreshCmd": "print(var_dic_list())"
    },
    "r": {
     "delete_cmd_postfix": ") ",
     "delete_cmd_prefix": "rm(",
     "library": "var_list.r",
     "varRefreshCmd": "cat(var_dic_list()) "
    }
   },
   "types_to_exclude": [
    "module",
    "function",
    "builtin_function_or_method",
    "instance",
    "_Feature"
   ],
   "window_display": false
  }
 },
 "nbformat": 4,
 "nbformat_minor": 5
}
