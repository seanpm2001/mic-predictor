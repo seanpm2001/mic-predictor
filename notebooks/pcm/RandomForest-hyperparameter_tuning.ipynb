{
 "cells": [
  {
   "cell_type": "code",
   "execution_count": 1,
   "id": "timely-century",
   "metadata": {
    "ExecuteTime": {
     "end_time": "2021-08-27T04:19:14.970046Z",
     "start_time": "2021-08-27T04:19:14.965784Z"
    }
   },
   "outputs": [
    {
     "name": "stdout",
     "output_type": "stream",
     "text": [
      "/Users/in-divye.singh/Documents/Projects/MIC_predictor\n"
     ]
    }
   ],
   "source": [
    "cd ../../"
   ]
  },
  {
   "cell_type": "code",
   "execution_count": 2,
   "id": "commercial-richardson",
   "metadata": {
    "ExecuteTime": {
     "end_time": "2021-08-27T04:19:16.617464Z",
     "start_time": "2021-08-27T04:19:15.628886Z"
    }
   },
   "outputs": [],
   "source": [
    "import pandas as pd\n",
    "import numpy as np\n",
    "import matplotlib.pyplot as plt"
   ]
  },
  {
   "cell_type": "code",
   "execution_count": 27,
   "id": "sexual-flower",
   "metadata": {
    "ExecuteTime": {
     "end_time": "2021-08-27T04:39:22.056197Z",
     "start_time": "2021-08-27T04:39:22.053538Z"
    }
   },
   "outputs": [],
   "source": [
    "from sklearn.model_selection import GridSearchCV, LeaveOneOut\n",
    "from sklearn.metrics import make_scorer, r2_score, mean_squared_error"
   ]
  },
  {
   "cell_type": "code",
   "execution_count": 4,
   "id": "monetary-candidate",
   "metadata": {
    "ExecuteTime": {
     "end_time": "2021-08-27T04:19:18.391066Z",
     "start_time": "2021-08-27T04:19:18.379265Z"
    }
   },
   "outputs": [],
   "source": [
    "from notebooks.pcm.utils import ZScalesExtractor"
   ]
  },
  {
   "cell_type": "code",
   "execution_count": 5,
   "id": "informed-consideration",
   "metadata": {
    "ExecuteTime": {
     "end_time": "2021-08-27T04:19:20.001057Z",
     "start_time": "2021-08-27T04:19:19.992829Z"
    }
   },
   "outputs": [],
   "source": [
    "mic = pd.read_csv(\"data/raw/MIC_pIC50_values.csv\")"
   ]
  },
  {
   "cell_type": "code",
   "execution_count": 6,
   "id": "scheduled-salvation",
   "metadata": {
    "ExecuteTime": {
     "end_time": "2021-08-27T04:19:20.510460Z",
     "start_time": "2021-08-27T04:19:20.504192Z"
    }
   },
   "outputs": [],
   "source": [
    "seq = pd.read_csv(\"data/raw/peptide_target_seq.csv\")"
   ]
  },
  {
   "cell_type": "code",
   "execution_count": 7,
   "id": "fallen-correction",
   "metadata": {
    "ExecuteTime": {
     "end_time": "2021-08-27T04:19:20.913049Z",
     "start_time": "2021-08-27T04:19:20.906938Z"
    }
   },
   "outputs": [],
   "source": [
    "seq = seq.merge(mic, on='Sequence')"
   ]
  },
  {
   "cell_type": "code",
   "execution_count": 8,
   "id": "caroline-stress",
   "metadata": {
    "ExecuteTime": {
     "end_time": "2021-08-27T04:19:21.404261Z",
     "start_time": "2021-08-27T04:19:21.395941Z"
    }
   },
   "outputs": [],
   "source": [
    "zscale = ZScalesExtractor(\"data/raw/z_scales_5.csv\")"
   ]
  },
  {
   "cell_type": "code",
   "execution_count": 9,
   "id": "ideal-bibliography",
   "metadata": {
    "ExecuteTime": {
     "end_time": "2021-08-27T04:19:22.141930Z",
     "start_time": "2021-08-27T04:19:22.012478Z"
    }
   },
   "outputs": [],
   "source": [
    "zscales_features = zscale.transform(seq)"
   ]
  },
  {
   "cell_type": "code",
   "execution_count": 10,
   "id": "simplified-profile",
   "metadata": {
    "ExecuteTime": {
     "end_time": "2021-08-27T04:19:23.985760Z",
     "start_time": "2021-08-27T04:19:23.980127Z"
    }
   },
   "outputs": [
    {
     "data": {
      "text/plain": [
       "(50, 7)"
      ]
     },
     "execution_count": 10,
     "metadata": {},
     "output_type": "execute_result"
    }
   ],
   "source": [
    "seq.shape"
   ]
  },
  {
   "cell_type": "code",
   "execution_count": 11,
   "id": "apart-pharmaceutical",
   "metadata": {
    "ExecuteTime": {
     "end_time": "2021-08-27T04:19:27.701488Z",
     "start_time": "2021-08-27T04:19:27.523253Z"
    }
   },
   "outputs": [],
   "source": [
    "from sklearn.decomposition import PCA\n",
    "from sklearn.ensemble import RandomForestRegressor\n",
    "from sklearn.model_selection import cross_val_predict\n",
    "from sklearn.metrics import mean_squared_error, r2_score"
   ]
  },
  {
   "cell_type": "code",
   "execution_count": 12,
   "id": "tender-germany",
   "metadata": {
    "ExecuteTime": {
     "end_time": "2021-08-27T04:19:28.861275Z",
     "start_time": "2021-08-27T04:19:28.857667Z"
    }
   },
   "outputs": [],
   "source": [
    "def mean_absolute_percentage_error(y_true, y_pred): \n",
    "    y_true, y_pred = np.array(y_true), np.array(y_pred)\n",
    "    return np.mean(np.abs((y_true - y_pred) / y_true)) * 100\n",
    "\n",
    "mape_scorer = make_scorer(mean_absolute_percentage_error, greater_is_better = False)"
   ]
  },
  {
   "cell_type": "raw",
   "id": "entire-convention",
   "metadata": {
    "ExecuteTime": {
     "end_time": "2021-08-10T05:57:09.761133Z",
     "start_time": "2021-08-10T05:57:09.757429Z"
    }
   },
   "source": [
    "param_grid = {'bootstrap': [True, False],\n",
    "              'max_depth': [2, 3, 5, 10, 15, 20, None],\n",
    "              'min_samples_leaf': [1, 2, 4],\n",
    "              'min_samples_split': [2, 5, 10],\n",
    "              'n_estimators': [100, 200, 250, 300, 500, 1000, 1500]}"
   ]
  },
  {
   "cell_type": "raw",
   "id": "balanced-bridges",
   "metadata": {
    "ExecuteTime": {
     "end_time": "2021-08-10T05:58:03.166295Z",
     "start_time": "2021-08-10T05:58:03.163202Z"
    }
   },
   "source": [
    "rf = RandomForestRegressor()\n",
    "grid = GridSearchCV(estimator = rf, param_grid = param_grid, \n",
    "                    cv = 5, verbose=2, scoring = mape_scorer, n_jobs = 10)"
   ]
  },
  {
   "cell_type": "raw",
   "id": "conventional-provider",
   "metadata": {
    "ExecuteTime": {
     "end_time": "2021-08-10T06:10:49.863615Z",
     "start_time": "2021-08-10T05:58:06.655880Z"
    }
   },
   "source": [
    "_ = grid.fit(zscales_features, seq['pIC50'])"
   ]
  },
  {
   "cell_type": "raw",
   "id": "applicable-storm",
   "metadata": {
    "ExecuteTime": {
     "end_time": "2021-08-10T06:11:02.471522Z",
     "start_time": "2021-08-10T06:11:02.465994Z"
    }
   },
   "source": [
    "grid.best_params_"
   ]
  },
  {
   "cell_type": "raw",
   "id": "brown-indonesia",
   "metadata": {
    "ExecuteTime": {
     "end_time": "2021-08-27T04:19:34.076518Z",
     "start_time": "2021-08-27T04:19:33.885743Z"
    }
   },
   "source": [
    "grid.best_score_"
   ]
  },
  {
   "cell_type": "code",
   "execution_count": 14,
   "id": "colonial-price",
   "metadata": {
    "ExecuteTime": {
     "end_time": "2021-08-27T04:19:42.825861Z",
     "start_time": "2021-08-27T04:19:42.823101Z"
    }
   },
   "outputs": [],
   "source": [
    "best_params_ = {'bootstrap': False,\n",
    " 'max_depth': 2,\n",
    " 'min_samples_leaf': 1,\n",
    " 'min_samples_split': 10,\n",
    " 'n_estimators': 200}"
   ]
  },
  {
   "cell_type": "markdown",
   "id": "abandoned-fabric",
   "metadata": {},
   "source": [
    "### Leave one out CV"
   ]
  },
  {
   "cell_type": "code",
   "execution_count": 15,
   "id": "green-suicide",
   "metadata": {
    "ExecuteTime": {
     "end_time": "2021-08-27T04:19:45.114879Z",
     "start_time": "2021-08-27T04:19:45.112065Z"
    }
   },
   "outputs": [],
   "source": [
    "loo = LeaveOneOut()"
   ]
  },
  {
   "cell_type": "code",
   "execution_count": 16,
   "id": "weekly-spread",
   "metadata": {
    "ExecuteTime": {
     "end_time": "2021-08-27T04:19:45.781516Z",
     "start_time": "2021-08-27T04:19:45.771033Z"
    }
   },
   "outputs": [],
   "source": [
    "from tqdm import tqdm"
   ]
  },
  {
   "cell_type": "raw",
   "id": "exterior-science",
   "metadata": {
    "ExecuteTime": {
     "end_time": "2021-08-10T07:13:00.936795Z",
     "start_time": "2021-08-10T07:13:00.933361Z"
    }
   },
   "source": [
    "mask = (seq['MIC'] > 10) & (seq['MIC'] < 100)"
   ]
  },
  {
   "cell_type": "raw",
   "id": "exotic-packet",
   "metadata": {
    "ExecuteTime": {
     "end_time": "2021-08-10T07:13:01.648187Z",
     "start_time": "2021-08-10T07:13:01.643531Z"
    }
   },
   "source": [
    "seq_2 = seq[mask].reset_index(drop=True)\n",
    "zscales_features_2 = zscales_features.loc[mask,:].reset_index(drop=True)"
   ]
  },
  {
   "cell_type": "raw",
   "id": "legal-filling",
   "metadata": {},
   "source": [
    "result_df = pd.DataFrame(columns = list(seq_2.columns)+[\"y_pred_pmic\", \"y_pred_mic\", \"ape_pmic\", \"ape_mic\"])\n",
    "for train_index, test_index in tqdm(loo.split(zscales_features_2)):\n",
    "    X_train, X_test = zscales_features_2.iloc[train_index,:], zscales_features_2.iloc[test_index,:]\n",
    "    y_train, y_test = seq_2[['pIC50', 'MIC']].iloc[train_index], seq_2[['pIC50', 'MIC']].iloc[test_index]\n",
    "    y_train_pmic, y_train_mic = y_train['pIC50'], y_train['MIC']\n",
    "    y_test_pmic, y_test_mic = y_test['pIC50'], y_test['MIC']\n",
    "    rf = RandomForestRegressor(**grid.best_params_)\n",
    "    _ = rf.fit(X_train, y_train_pmic)\n",
    "    y_pred_pmic = rf.predict(X_test)\n",
    "    y_pred_mic = np.exp(-y_pred_pmic)/1e-6\n",
    "    ape = 100*np.abs(y_test_pmic-y_pred_pmic)/y_test_pmic\n",
    "    ape_mic = 100*np.abs(y_test_mic-y_pred_mic)/y_test_mic\n",
    "    df_val = seq_2.iloc[test_index,:].values[0].tolist()\n",
    "    res = np.append(df_val, [y_pred_pmic[0], y_pred_mic[0], ape.values[0], ape_mic.values[0]])\n",
    "    res = pd.DataFrame([res], columns = list(seq_2.columns)+[\"y_pred_pmic\", \"y_pred_mic\", \"ape_pmic\", \"ape_mic\"])\n",
    "    result_df = result_df.append(res)\n",
    "result_df = result_df[[\"Sequence\", \"pIC50\", \"y_pred_pmic\", \"ape_pmic\", \"MIC\", \"y_pred_mic\", \"ape_mic\"]]"
   ]
  },
  {
   "cell_type": "code",
   "execution_count": 17,
   "id": "wrapped-establishment",
   "metadata": {
    "ExecuteTime": {
     "end_time": "2021-08-27T04:20:22.160815Z",
     "start_time": "2021-08-27T04:20:12.941465Z"
    },
    "scrolled": false
   },
   "outputs": [
    {
     "name": "stderr",
     "output_type": "stream",
     "text": [
      "50it [00:09,  5.43it/s]\n"
     ]
    }
   ],
   "source": [
    "result_df = pd.DataFrame(columns = list(seq.columns)+[\"y_pred_pmic\", \"y_pred_mic\", \"ape_pmic\", \"ape_mic\"])\n",
    "for train_index, test_index in tqdm(loo.split(zscales_features)):\n",
    "    X_train, X_test = zscales_features.iloc[train_index,:], zscales_features.iloc[test_index,:]\n",
    "    y_train, y_test = seq[['pIC50', 'MIC']].iloc[train_index], seq[['pIC50', 'MIC']].iloc[test_index]\n",
    "    y_train_pmic, y_train_mic = y_train['pIC50'], y_train['MIC']\n",
    "    y_test_pmic, y_test_mic = y_test['pIC50'], y_test['MIC']\n",
    "    rf = RandomForestRegressor(**best_params_)\n",
    "    _ = rf.fit(X_train, y_train_pmic)\n",
    "    y_pred_pmic = rf.predict(X_test)\n",
    "    y_pred_mic = np.exp(-y_pred_pmic)/1e-6\n",
    "    ape = 100*np.abs(y_test_pmic-y_pred_pmic)/y_test_pmic\n",
    "    ape_mic = 100*np.abs(y_test_mic-y_pred_mic)/y_test_mic\n",
    "    df_val = seq.iloc[test_index,:].values[0].tolist()\n",
    "    res = np.append(df_val, [y_pred_pmic[0], y_pred_mic[0], ape.values[0], ape_mic.values[0]])\n",
    "    res = pd.DataFrame([res], columns = list(seq.columns)+[\"y_pred_pmic\", \"y_pred_mic\", \"ape_pmic\", \"ape_mic\"])\n",
    "    result_df = result_df.append(res)\n",
    "result_df = result_df[[\"Sequence\", \"pIC50\", \"y_pred_pmic\", \"ape_pmic\", \"MIC\", \"y_pred_mic\", \"ape_mic\"]]"
   ]
  },
  {
   "cell_type": "code",
   "execution_count": 18,
   "id": "heated-athletics",
   "metadata": {
    "ExecuteTime": {
     "end_time": "2021-08-27T04:20:23.761975Z",
     "start_time": "2021-08-27T04:20:23.738711Z"
    }
   },
   "outputs": [
    {
     "data": {
      "text/html": [
       "<div>\n",
       "<style scoped>\n",
       "    .dataframe tbody tr th:only-of-type {\n",
       "        vertical-align: middle;\n",
       "    }\n",
       "\n",
       "    .dataframe tbody tr th {\n",
       "        vertical-align: top;\n",
       "    }\n",
       "\n",
       "    .dataframe thead th {\n",
       "        text-align: right;\n",
       "    }\n",
       "</style>\n",
       "<table border=\"1\" class=\"dataframe\">\n",
       "  <thead>\n",
       "    <tr style=\"text-align: right;\">\n",
       "      <th></th>\n",
       "      <th>Sequence</th>\n",
       "      <th>pIC50</th>\n",
       "      <th>y_pred_pmic</th>\n",
       "      <th>ape_pmic</th>\n",
       "      <th>MIC</th>\n",
       "      <th>y_pred_mic</th>\n",
       "      <th>ape_mic</th>\n",
       "    </tr>\n",
       "  </thead>\n",
       "  <tbody>\n",
       "    <tr>\n",
       "      <th>0</th>\n",
       "      <td>VSTALPQWRIYSYAGDNI</td>\n",
       "      <td>10.59663473</td>\n",
       "      <td>11.28363244158068</td>\n",
       "      <td>6.483168752016429</td>\n",
       "      <td>25.0</td>\n",
       "      <td>12.577105236205995</td>\n",
       "      <td>49.69157905517603</td>\n",
       "    </tr>\n",
       "    <tr>\n",
       "      <th>0</th>\n",
       "      <td>ALPQWRIYSYAGDNIVTA</td>\n",
       "      <td>10.59663473</td>\n",
       "      <td>11.28363244158068</td>\n",
       "      <td>6.483168752016429</td>\n",
       "      <td>25.0</td>\n",
       "      <td>12.577105236205995</td>\n",
       "      <td>49.69157905517603</td>\n",
       "    </tr>\n",
       "    <tr>\n",
       "      <th>0</th>\n",
       "      <td>AGALMFAWLLLGLQGIFN</td>\n",
       "      <td>10.59663473</td>\n",
       "      <td>11.28363244158068</td>\n",
       "      <td>6.483168752016429</td>\n",
       "      <td>25.0</td>\n",
       "      <td>12.577105236205995</td>\n",
       "      <td>49.69157905517603</td>\n",
       "    </tr>\n",
       "    <tr>\n",
       "      <th>0</th>\n",
       "      <td>MASAGMQILGVVLTLLGW</td>\n",
       "      <td>10.59663473</td>\n",
       "      <td>11.28363244158068</td>\n",
       "      <td>6.483168752016429</td>\n",
       "      <td>25.0</td>\n",
       "      <td>12.577105236205995</td>\n",
       "      <td>49.69157905517603</td>\n",
       "    </tr>\n",
       "    <tr>\n",
       "      <th>0</th>\n",
       "      <td>MANSGLQLLGFSMALLGW</td>\n",
       "      <td>10.59663473</td>\n",
       "      <td>11.28363244158068</td>\n",
       "      <td>6.483168752016429</td>\n",
       "      <td>25.0</td>\n",
       "      <td>12.577105236205995</td>\n",
       "      <td>49.69157905517603</td>\n",
       "    </tr>\n",
       "    <tr>\n",
       "      <th>0</th>\n",
       "      <td>MASTGLELLGMTLAVLGW</td>\n",
       "      <td>10.59663473</td>\n",
       "      <td>11.28363244158068</td>\n",
       "      <td>6.483168752016429</td>\n",
       "      <td>25.0</td>\n",
       "      <td>12.577105236205995</td>\n",
       "      <td>49.69157905517603</td>\n",
       "    </tr>\n",
       "    <tr>\n",
       "      <th>0</th>\n",
       "      <td>GWIGAIVSTALPQWRIYS</td>\n",
       "      <td>10.74745762</td>\n",
       "      <td>11.278767187064496</td>\n",
       "      <td>4.943583737197329</td>\n",
       "      <td>21.5</td>\n",
       "      <td>12.638445150407751</td>\n",
       "      <td>41.21653418414999</td>\n",
       "    </tr>\n",
       "    <tr>\n",
       "      <th>0</th>\n",
       "      <td>AFLGWIGAIVSTALPQWR</td>\n",
       "      <td>11.28978191</td>\n",
       "      <td>11.261272855128986</td>\n",
       "      <td>0.25252086442663685</td>\n",
       "      <td>12.5</td>\n",
       "      <td>12.861491641073572</td>\n",
       "      <td>2.891933128588576</td>\n",
       "    </tr>\n",
       "    <tr>\n",
       "      <th>0</th>\n",
       "      <td>FILAFLGWIGAIVSTALP</td>\n",
       "      <td>11.62945928</td>\n",
       "      <td>11.250315520612924</td>\n",
       "      <td>3.260201100141577</td>\n",
       "      <td>8.9</td>\n",
       "      <td>13.00319423093066</td>\n",
       "      <td>46.10330596551302</td>\n",
       "    </tr>\n",
       "    <tr>\n",
       "      <th>0</th>\n",
       "      <td>MANAGLQLLGFILAFL</td>\n",
       "      <td>11.78736231</td>\n",
       "      <td>11.245221874483843</td>\n",
       "      <td>4.599336316796035</td>\n",
       "      <td>7.6</td>\n",
       "      <td>13.0695968731021</td>\n",
       "      <td>71.96837990923817</td>\n",
       "    </tr>\n",
       "    <tr>\n",
       "      <th>0</th>\n",
       "      <td>MANAGLQLLGFILAFLGWIGAIVS</td>\n",
       "      <td>12.18627002</td>\n",
       "      <td>11.232353883838682</td>\n",
       "      <td>7.827794186373348</td>\n",
       "      <td>5.1</td>\n",
       "      <td>13.238863045504974</td>\n",
       "      <td>159.58554991186227</td>\n",
       "    </tr>\n",
       "    <tr>\n",
       "      <th>0</th>\n",
       "      <td>LLGFILAFLGWIGAIVST</td>\n",
       "      <td>12.35689554</td>\n",
       "      <td>11.226849834806465</td>\n",
       "      <td>9.145061569352189</td>\n",
       "      <td>4.3</td>\n",
       "      <td>13.311931297996345</td>\n",
       "      <td>209.57979762782196</td>\n",
       "    </tr>\n",
       "    <tr>\n",
       "      <th>0</th>\n",
       "      <td>MANAGLQLLGFILAFLGWIGAI</td>\n",
       "      <td>12.429216199999999</td>\n",
       "      <td>11.22451691029029</td>\n",
       "      <td>9.692479962732554</td>\n",
       "      <td>4.0</td>\n",
       "      <td>13.343023282403811</td>\n",
       "      <td>233.5755820600953</td>\n",
       "    </tr>\n",
       "    <tr>\n",
       "      <th>0</th>\n",
       "      <td>GAIVSTALPQWRIYSYAG</td>\n",
       "      <td>10.64582498</td>\n",
       "      <td>11.282045659322607</td>\n",
       "      <td>5.976245904078415</td>\n",
       "      <td>23.8</td>\n",
       "      <td>12.597078205838859</td>\n",
       "      <td>47.071099975466986</td>\n",
       "    </tr>\n",
       "    <tr>\n",
       "      <th>0</th>\n",
       "      <td>CAGKRKSG</td>\n",
       "      <td>11.91340303</td>\n",
       "      <td>11.241156044806468</td>\n",
       "      <td>5.642778839099944</td>\n",
       "      <td>6.7</td>\n",
       "      <td>13.122843801058105</td>\n",
       "      <td>95.86334031430006</td>\n",
       "    </tr>\n",
       "    <tr>\n",
       "      <th>0</th>\n",
       "      <td>GELGRLVYLLDGPGYDPI</td>\n",
       "      <td>15.894952100000001</td>\n",
       "      <td>19.462742044000056</td>\n",
       "      <td>22.446056594282243</td>\n",
       "      <td>0.125</td>\n",
       "      <td>0.0035272685619734904</td>\n",
       "      <td>97.1781851504212</td>\n",
       "    </tr>\n",
       "    <tr>\n",
       "      <th>0</th>\n",
       "      <td>GELGRLVYLLDGPGYDPIHCD</td>\n",
       "      <td>15.90298427</td>\n",
       "      <td>19.48033523142851</td>\n",
       "      <td>22.49484059527721</td>\n",
       "      <td>0.124</td>\n",
       "      <td>0.0034657553583362886</td>\n",
       "      <td>97.2050360013417</td>\n",
       "    </tr>\n",
       "    <tr>\n",
       "      <th>0</th>\n",
       "      <td>GELGRPVYVLGDPGYYATHCIYATTNDALIFSV</td>\n",
       "      <td>17.4651693</td>\n",
       "      <td>19.25716594142851</td>\n",
       "      <td>10.26040235080064</td>\n",
       "      <td>0.026000000000000002</td>\n",
       "      <td>0.004332305704340602</td>\n",
       "      <td>83.33728575253615</td>\n",
       "    </tr>\n",
       "    <tr>\n",
       "      <th>0</th>\n",
       "      <td>RQIKINFQNRRMKNKKGELDELVYLLDGPGYDPIHS</td>\n",
       "      <td>17.54521201</td>\n",
       "      <td>11.9794657788159</td>\n",
       "      <td>31.722308217261038</td>\n",
       "      <td>0.024</td>\n",
       "      <td>6.271683247539562</td>\n",
       "      <td>26032.013531414836</td>\n",
       "    </tr>\n",
       "    <tr>\n",
       "      <th>0</th>\n",
       "      <td>GELDELVYLLDGPGYDPIHS</td>\n",
       "      <td>17.58777162</td>\n",
       "      <td>20.723265839999932</td>\n",
       "      <td>17.827694649129917</td>\n",
       "      <td>0.023</td>\n",
       "      <td>0.0009999999969464788</td>\n",
       "      <td>95.65217392631968</td>\n",
       "    </tr>\n",
       "    <tr>\n",
       "      <th>0</th>\n",
       "      <td>GELGRLVYLLDGPGYDPIHCSLAYGDASTLVVF</td>\n",
       "      <td>17.6787434</td>\n",
       "      <td>20.723265839999932</td>\n",
       "      <td>17.221373550791707</td>\n",
       "      <td>0.021</td>\n",
       "      <td>0.0009999999969464788</td>\n",
       "      <td>95.23809525263582</td>\n",
       "    </tr>\n",
       "    <tr>\n",
       "      <th>0</th>\n",
       "      <td>GELGRLVYLLDGPGYDPIHCDVVTRGGSHLFNF</td>\n",
       "      <td>18.32537056</td>\n",
       "      <td>19.134280047142937</td>\n",
       "      <td>4.414150777985346</td>\n",
       "      <td>0.011000000000000001</td>\n",
       "      <td>0.004898778017362703</td>\n",
       "      <td>55.4656543876118</td>\n",
       "    </tr>\n",
       "    <tr>\n",
       "      <th>0</th>\n",
       "      <td>HCSLAYGDASTLVVF</td>\n",
       "      <td>20.72326584</td>\n",
       "      <td>18.791723578571354</td>\n",
       "      <td>9.320646061975365</td>\n",
       "      <td>0.001</td>\n",
       "      <td>0.0069001438442250615</td>\n",
       "      <td>590.014384422506</td>\n",
       "    </tr>\n",
       "    <tr>\n",
       "      <th>0</th>\n",
       "      <td>HCIYATTNDALIFSV</td>\n",
       "      <td>20.72326584</td>\n",
       "      <td>17.6349608142858</td>\n",
       "      <td>14.902598121156943</td>\n",
       "      <td>0.001</td>\n",
       "      <td>0.021939858878282623</td>\n",
       "      <td>2093.9858878282625</td>\n",
       "    </tr>\n",
       "    <tr>\n",
       "      <th>0</th>\n",
       "      <td>GELGRIPSDTYDLAVGALHCPFYLVSGLVYLDG</td>\n",
       "      <td>20.72326584</td>\n",
       "      <td>17.647956782857232</td>\n",
       "      <td>14.839886149637731</td>\n",
       "      <td>0.001</td>\n",
       "      <td>0.021656573930091638</td>\n",
       "      <td>2065.6573930091636</td>\n",
       "    </tr>\n",
       "    <tr>\n",
       "      <th>0</th>\n",
       "      <td>GELDELVYLLDGPGYDPIHCDVVTRGGSRLFNF</td>\n",
       "      <td>20.72326584</td>\n",
       "      <td>17.6349608142858</td>\n",
       "      <td>14.902598121156943</td>\n",
       "      <td>0.001</td>\n",
       "      <td>0.021939858878282623</td>\n",
       "      <td>2093.9858878282625</td>\n",
       "    </tr>\n",
       "    <tr>\n",
       "      <th>0</th>\n",
       "      <td>ACFPWGKEYCGGK</td>\n",
       "      <td>10.7244681</td>\n",
       "      <td>11.279508784483838</td>\n",
       "      <td>5.175461191253285</td>\n",
       "      <td>22.0</td>\n",
       "      <td>12.629075986602956</td>\n",
       "      <td>42.59510915180474</td>\n",
       "    </tr>\n",
       "    <tr>\n",
       "      <th>0</th>\n",
       "      <td>ACFPWGNTWCGGK</td>\n",
       "      <td>11.2505612</td>\n",
       "      <td>11.262538039322601</td>\n",
       "      <td>0.1064554835060264</td>\n",
       "      <td>13.0</td>\n",
       "      <td>12.845229774440469</td>\n",
       "      <td>1.190540196611778</td>\n",
       "    </tr>\n",
       "    <tr>\n",
       "      <th>0</th>\n",
       "      <td>ACFPWGNQWCGGK</td>\n",
       "      <td>12.02375109</td>\n",
       "      <td>11.237596429967702</td>\n",
       "      <td>6.5383477597613595</td>\n",
       "      <td>6.0</td>\n",
       "      <td>13.169639308158297</td>\n",
       "      <td>119.49398846930495</td>\n",
       "    </tr>\n",
       "    <tr>\n",
       "      <th>0</th>\n",
       "      <td>GICRCICGRGICRCICGRIGGRVPGVGVPGVGHHHHHH</td>\n",
       "      <td>10.75211964</td>\n",
       "      <td>11.27861679932262</td>\n",
       "      <td>4.896682486343874</td>\n",
       "      <td>21.4</td>\n",
       "      <td>12.640345960560431</td>\n",
       "      <td>40.93296280111948</td>\n",
       "    </tr>\n",
       "    <tr>\n",
       "      <th>0</th>\n",
       "      <td>VRLGSISVIGIVRGKK</td>\n",
       "      <td>8.895529632</td>\n",
       "      <td>11.338506799580664</td>\n",
       "      <td>27.462975996308423</td>\n",
       "      <td>137.0</td>\n",
       "      <td>11.905539052088786</td>\n",
       "      <td>91.30982550942424</td>\n",
       "    </tr>\n",
       "    <tr>\n",
       "      <th>0</th>\n",
       "      <td>KGSVVIVGRIILSGRK</td>\n",
       "      <td>12.07504438</td>\n",
       "      <td>11.235941807709676</td>\n",
       "      <td>6.949064085264455</td>\n",
       "      <td>5.7</td>\n",
       "      <td>13.191448124188335</td>\n",
       "      <td>131.42891445944448</td>\n",
       "    </tr>\n",
       "    <tr>\n",
       "      <th>0</th>\n",
       "      <td>RGGSVVIVGRIILSGRK</td>\n",
       "      <td>12.59173513</td>\n",
       "      <td>11.21927436416127</td>\n",
       "      <td>10.899695329270555</td>\n",
       "      <td>3.4</td>\n",
       "      <td>13.41315838007042</td>\n",
       "      <td>294.5046582373653</td>\n",
       "    </tr>\n",
       "    <tr>\n",
       "      <th>0</th>\n",
       "      <td>RGGRLCYCRRRFCVCVGR</td>\n",
       "      <td>11.35592172</td>\n",
       "      <td>11.259139312870959</td>\n",
       "      <td>0.8522637749306434</td>\n",
       "      <td>11.7</td>\n",
       "      <td>12.888961470591893</td>\n",
       "      <td>10.162063851212764</td>\n",
       "    </tr>\n",
       "    <tr>\n",
       "      <th>0</th>\n",
       "      <td>MAILGDTAWDFGSLGGVFTSIGKALHQVFGAIY</td>\n",
       "      <td>12.56274759</td>\n",
       "      <td>11.220209446096762</td>\n",
       "      <td>10.686660177522828</td>\n",
       "      <td>3.5</td>\n",
       "      <td>13.400621840230773</td>\n",
       "      <td>282.8749097208792</td>\n",
       "    </tr>\n",
       "    <tr>\n",
       "      <th>0</th>\n",
       "      <td>RQMRAWGQDYQHGGMGYSC</td>\n",
       "      <td>10.23199162</td>\n",
       "      <td>11.295395122548394</td>\n",
       "      <td>10.392927809575289</td>\n",
       "      <td>36.0</td>\n",
       "      <td>12.43003144661301</td>\n",
       "      <td>65.47213487051943</td>\n",
       "    </tr>\n",
       "    <tr>\n",
       "      <th>0</th>\n",
       "      <td>RWMVWRHWFHRLRLPYNPGKNKQNQQWP</td>\n",
       "      <td>11.73606902</td>\n",
       "      <td>11.246876496741905</td>\n",
       "      <td>4.168282603182028</td>\n",
       "      <td>8.0</td>\n",
       "      <td>13.04798950815513</td>\n",
       "      <td>63.09986885193912</td>\n",
       "    </tr>\n",
       "    <tr>\n",
       "      <th>0</th>\n",
       "      <td>FWFTLIKTQAKQPARYRRFC</td>\n",
       "      <td>12.71689827</td>\n",
       "      <td>11.215236843516125</td>\n",
       "      <td>11.808393796987373</td>\n",
       "      <td>3.0</td>\n",
       "      <td>13.467423759022909</td>\n",
       "      <td>348.9141253007636</td>\n",
       "    </tr>\n",
       "    <tr>\n",
       "      <th>0</th>\n",
       "      <td>AAQRRGRVGRNPNQVGD</td>\n",
       "      <td>7.724200676000001</td>\n",
       "      <td>8.193296621666658</td>\n",
       "      <td>6.0730678207803885</td>\n",
       "      <td>442.0</td>\n",
       "      <td>276.50086139153194</td>\n",
       "      <td>37.44324402906517</td>\n",
       "    </tr>\n",
       "    <tr>\n",
       "      <th>0</th>\n",
       "      <td>RNPSQVGD</td>\n",
       "      <td>7.867475569</td>\n",
       "      <td>8.169417472833347</td>\n",
       "      <td>3.8378499073207237</td>\n",
       "      <td>383.0</td>\n",
       "      <td>283.1829301562399</td>\n",
       "      <td>26.06189813153006</td>\n",
       "    </tr>\n",
       "    <tr>\n",
       "      <th>0</th>\n",
       "      <td>RVGRNPNQVGD</td>\n",
       "      <td>7.891254761</td>\n",
       "      <td>8.165454274166676</td>\n",
       "      <td>3.4747264088066068</td>\n",
       "      <td>374.0</td>\n",
       "      <td>284.30746727754934</td>\n",
       "      <td>23.981960620976114</td>\n",
       "    </tr>\n",
       "    <tr>\n",
       "      <th>0</th>\n",
       "      <td>AAQRRGRIGRNPSQVGD</td>\n",
       "      <td>7.934977572</td>\n",
       "      <td>8.158167138999978</td>\n",
       "      <td>2.8127309116479777</td>\n",
       "      <td>358.0</td>\n",
       "      <td>286.3868212858224</td>\n",
       "      <td>20.00368120507754</td>\n",
       "    </tr>\n",
       "    <tr>\n",
       "      <th>0</th>\n",
       "      <td>RGRRGIYR</td>\n",
       "      <td>8.069307367</td>\n",
       "      <td>11.365159130709644</td>\n",
       "      <td>40.84429572218629</td>\n",
       "      <td>313.0</td>\n",
       "      <td>11.59241989576733</td>\n",
       "      <td>96.29635147100086</td>\n",
       "    </tr>\n",
       "    <tr>\n",
       "      <th>0</th>\n",
       "      <td>RIGRNPSQVGD</td>\n",
       "      <td>8.163021378</td>\n",
       "      <td>8.120159838000008</td>\n",
       "      <td>0.5250695547056504</td>\n",
       "      <td>285.0</td>\n",
       "      <td>297.4811078560073</td>\n",
       "      <td>4.379336089827132</td>\n",
       "    </tr>\n",
       "    <tr>\n",
       "      <th>0</th>\n",
       "      <td>RRGRVGRNPNQVGD</td>\n",
       "      <td>8.537395899</td>\n",
       "      <td>8.057764084499981</td>\n",
       "      <td>5.618010692888203</td>\n",
       "      <td>196.0</td>\n",
       "      <td>316.633981240606</td>\n",
       "      <td>61.54794961255407</td>\n",
       "    </tr>\n",
       "    <tr>\n",
       "      <th>0</th>\n",
       "      <td>RRGRIGRNPSQVGD</td>\n",
       "      <td>8.765654551</td>\n",
       "      <td>8.01972097583331</td>\n",
       "      <td>8.509730457967828</td>\n",
       "      <td>156.0</td>\n",
       "      <td>328.9117843481438</td>\n",
       "      <td>110.84088740265626</td>\n",
       "    </tr>\n",
       "    <tr>\n",
       "      <th>0</th>\n",
       "      <td>RTGRGRRGIYR</td>\n",
       "      <td>10.27165688</td>\n",
       "      <td>11.294115598032272</td>\n",
       "      <td>9.95417516353284</td>\n",
       "      <td>34.6</td>\n",
       "      <td>12.445946156044279</td>\n",
       "      <td>64.02905735247317</td>\n",
       "    </tr>\n",
       "    <tr>\n",
       "      <th>0</th>\n",
       "      <td>RTQRRGRTGRGKPGIYR</td>\n",
       "      <td>10.51597683</td>\n",
       "      <td>11.28623430932253</td>\n",
       "      <td>7.324640323713332</td>\n",
       "      <td>27.1</td>\n",
       "      <td>12.544423806621747</td>\n",
       "      <td>53.71061325969835</td>\n",
       "    </tr>\n",
       "    <tr>\n",
       "      <th>0</th>\n",
       "      <td>STQRRGRTGRGRRGIYR</td>\n",
       "      <td>10.62503421</td>\n",
       "      <td>11.282716329322573</td>\n",
       "      <td>6.18992942821379</td>\n",
       "      <td>24.3</td>\n",
       "      <td>12.588632555837588</td>\n",
       "      <td>48.19492775375478</td>\n",
       "    </tr>\n",
       "    <tr>\n",
       "      <th>0</th>\n",
       "      <td>RRGRTGRGRRGIYR</td>\n",
       "      <td>15.42494847</td>\n",
       "      <td>11.127880385451595</td>\n",
       "      <td>27.8579088475127</td>\n",
       "      <td>0.2</td>\n",
       "      <td>14.696805724406016</td>\n",
       "      <td>7248.402862203008</td>\n",
       "    </tr>\n",
       "  </tbody>\n",
       "</table>\n",
       "</div>"
      ],
      "text/plain": [
       "                                 Sequence               pIC50  \\\n",
       "0                      VSTALPQWRIYSYAGDNI         10.59663473   \n",
       "0                      ALPQWRIYSYAGDNIVTA         10.59663473   \n",
       "0                      AGALMFAWLLLGLQGIFN         10.59663473   \n",
       "0                      MASAGMQILGVVLTLLGW         10.59663473   \n",
       "0                      MANSGLQLLGFSMALLGW         10.59663473   \n",
       "0                      MASTGLELLGMTLAVLGW         10.59663473   \n",
       "0                      GWIGAIVSTALPQWRIYS         10.74745762   \n",
       "0                      AFLGWIGAIVSTALPQWR         11.28978191   \n",
       "0                      FILAFLGWIGAIVSTALP         11.62945928   \n",
       "0                        MANAGLQLLGFILAFL         11.78736231   \n",
       "0                MANAGLQLLGFILAFLGWIGAIVS         12.18627002   \n",
       "0                      LLGFILAFLGWIGAIVST         12.35689554   \n",
       "0                  MANAGLQLLGFILAFLGWIGAI  12.429216199999999   \n",
       "0                      GAIVSTALPQWRIYSYAG         10.64582498   \n",
       "0                                CAGKRKSG         11.91340303   \n",
       "0                      GELGRLVYLLDGPGYDPI  15.894952100000001   \n",
       "0                   GELGRLVYLLDGPGYDPIHCD         15.90298427   \n",
       "0       GELGRPVYVLGDPGYYATHCIYATTNDALIFSV          17.4651693   \n",
       "0    RQIKINFQNRRMKNKKGELDELVYLLDGPGYDPIHS         17.54521201   \n",
       "0                    GELDELVYLLDGPGYDPIHS         17.58777162   \n",
       "0       GELGRLVYLLDGPGYDPIHCSLAYGDASTLVVF          17.6787434   \n",
       "0       GELGRLVYLLDGPGYDPIHCDVVTRGGSHLFNF         18.32537056   \n",
       "0                         HCSLAYGDASTLVVF         20.72326584   \n",
       "0                         HCIYATTNDALIFSV         20.72326584   \n",
       "0       GELGRIPSDTYDLAVGALHCPFYLVSGLVYLDG         20.72326584   \n",
       "0       GELDELVYLLDGPGYDPIHCDVVTRGGSRLFNF         20.72326584   \n",
       "0                           ACFPWGKEYCGGK          10.7244681   \n",
       "0                           ACFPWGNTWCGGK          11.2505612   \n",
       "0                           ACFPWGNQWCGGK         12.02375109   \n",
       "0  GICRCICGRGICRCICGRIGGRVPGVGVPGVGHHHHHH         10.75211964   \n",
       "0                        VRLGSISVIGIVRGKK         8.895529632   \n",
       "0                        KGSVVIVGRIILSGRK         12.07504438   \n",
       "0                       RGGSVVIVGRIILSGRK         12.59173513   \n",
       "0                      RGGRLCYCRRRFCVCVGR         11.35592172   \n",
       "0       MAILGDTAWDFGSLGGVFTSIGKALHQVFGAIY         12.56274759   \n",
       "0                     RQMRAWGQDYQHGGMGYSC         10.23199162   \n",
       "0            RWMVWRHWFHRLRLPYNPGKNKQNQQWP         11.73606902   \n",
       "0                    FWFTLIKTQAKQPARYRRFC         12.71689827   \n",
       "0                       AAQRRGRVGRNPNQVGD   7.724200676000001   \n",
       "0                                RNPSQVGD         7.867475569   \n",
       "0                             RVGRNPNQVGD         7.891254761   \n",
       "0                       AAQRRGRIGRNPSQVGD         7.934977572   \n",
       "0                                RGRRGIYR         8.069307367   \n",
       "0                             RIGRNPSQVGD         8.163021378   \n",
       "0                          RRGRVGRNPNQVGD         8.537395899   \n",
       "0                          RRGRIGRNPSQVGD         8.765654551   \n",
       "0                             RTGRGRRGIYR         10.27165688   \n",
       "0                       RTQRRGRTGRGKPGIYR         10.51597683   \n",
       "0                       STQRRGRTGRGRRGIYR         10.62503421   \n",
       "0                          RRGRTGRGRRGIYR         15.42494847   \n",
       "\n",
       "          y_pred_pmic             ape_pmic                   MIC  \\\n",
       "0   11.28363244158068    6.483168752016429                  25.0   \n",
       "0   11.28363244158068    6.483168752016429                  25.0   \n",
       "0   11.28363244158068    6.483168752016429                  25.0   \n",
       "0   11.28363244158068    6.483168752016429                  25.0   \n",
       "0   11.28363244158068    6.483168752016429                  25.0   \n",
       "0   11.28363244158068    6.483168752016429                  25.0   \n",
       "0  11.278767187064496    4.943583737197329                  21.5   \n",
       "0  11.261272855128986  0.25252086442663685                  12.5   \n",
       "0  11.250315520612924    3.260201100141577                   8.9   \n",
       "0  11.245221874483843    4.599336316796035                   7.6   \n",
       "0  11.232353883838682    7.827794186373348                   5.1   \n",
       "0  11.226849834806465    9.145061569352189                   4.3   \n",
       "0   11.22451691029029    9.692479962732554                   4.0   \n",
       "0  11.282045659322607    5.976245904078415                  23.8   \n",
       "0  11.241156044806468    5.642778839099944                   6.7   \n",
       "0  19.462742044000056   22.446056594282243                 0.125   \n",
       "0   19.48033523142851    22.49484059527721                 0.124   \n",
       "0   19.25716594142851    10.26040235080064  0.026000000000000002   \n",
       "0    11.9794657788159   31.722308217261038                 0.024   \n",
       "0  20.723265839999932   17.827694649129917                 0.023   \n",
       "0  20.723265839999932   17.221373550791707                 0.021   \n",
       "0  19.134280047142937    4.414150777985346  0.011000000000000001   \n",
       "0  18.791723578571354    9.320646061975365                 0.001   \n",
       "0    17.6349608142858   14.902598121156943                 0.001   \n",
       "0  17.647956782857232   14.839886149637731                 0.001   \n",
       "0    17.6349608142858   14.902598121156943                 0.001   \n",
       "0  11.279508784483838    5.175461191253285                  22.0   \n",
       "0  11.262538039322601   0.1064554835060264                  13.0   \n",
       "0  11.237596429967702   6.5383477597613595                   6.0   \n",
       "0   11.27861679932262    4.896682486343874                  21.4   \n",
       "0  11.338506799580664   27.462975996308423                 137.0   \n",
       "0  11.235941807709676    6.949064085264455                   5.7   \n",
       "0   11.21927436416127   10.899695329270555                   3.4   \n",
       "0  11.259139312870959   0.8522637749306434                  11.7   \n",
       "0  11.220209446096762   10.686660177522828                   3.5   \n",
       "0  11.295395122548394   10.392927809575289                  36.0   \n",
       "0  11.246876496741905    4.168282603182028                   8.0   \n",
       "0  11.215236843516125   11.808393796987373                   3.0   \n",
       "0   8.193296621666658   6.0730678207803885                 442.0   \n",
       "0   8.169417472833347   3.8378499073207237                 383.0   \n",
       "0   8.165454274166676   3.4747264088066068                 374.0   \n",
       "0   8.158167138999978   2.8127309116479777                 358.0   \n",
       "0  11.365159130709644    40.84429572218629                 313.0   \n",
       "0   8.120159838000008   0.5250695547056504                 285.0   \n",
       "0   8.057764084499981    5.618010692888203                 196.0   \n",
       "0    8.01972097583331    8.509730457967828                 156.0   \n",
       "0  11.294115598032272     9.95417516353284                  34.6   \n",
       "0   11.28623430932253    7.324640323713332                  27.1   \n",
       "0  11.282716329322573     6.18992942821379                  24.3   \n",
       "0  11.127880385451595     27.8579088475127                   0.2   \n",
       "\n",
       "              y_pred_mic             ape_mic  \n",
       "0     12.577105236205995   49.69157905517603  \n",
       "0     12.577105236205995   49.69157905517603  \n",
       "0     12.577105236205995   49.69157905517603  \n",
       "0     12.577105236205995   49.69157905517603  \n",
       "0     12.577105236205995   49.69157905517603  \n",
       "0     12.577105236205995   49.69157905517603  \n",
       "0     12.638445150407751   41.21653418414999  \n",
       "0     12.861491641073572   2.891933128588576  \n",
       "0      13.00319423093066   46.10330596551302  \n",
       "0       13.0695968731021   71.96837990923817  \n",
       "0     13.238863045504974  159.58554991186227  \n",
       "0     13.311931297996345  209.57979762782196  \n",
       "0     13.343023282403811   233.5755820600953  \n",
       "0     12.597078205838859  47.071099975466986  \n",
       "0     13.122843801058105   95.86334031430006  \n",
       "0  0.0035272685619734904    97.1781851504212  \n",
       "0  0.0034657553583362886    97.2050360013417  \n",
       "0   0.004332305704340602   83.33728575253615  \n",
       "0      6.271683247539562  26032.013531414836  \n",
       "0  0.0009999999969464788   95.65217392631968  \n",
       "0  0.0009999999969464788   95.23809525263582  \n",
       "0   0.004898778017362703    55.4656543876118  \n",
       "0  0.0069001438442250615    590.014384422506  \n",
       "0   0.021939858878282623  2093.9858878282625  \n",
       "0   0.021656573930091638  2065.6573930091636  \n",
       "0   0.021939858878282623  2093.9858878282625  \n",
       "0     12.629075986602956   42.59510915180474  \n",
       "0     12.845229774440469   1.190540196611778  \n",
       "0     13.169639308158297  119.49398846930495  \n",
       "0     12.640345960560431   40.93296280111948  \n",
       "0     11.905539052088786   91.30982550942424  \n",
       "0     13.191448124188335  131.42891445944448  \n",
       "0      13.41315838007042   294.5046582373653  \n",
       "0     12.888961470591893  10.162063851212764  \n",
       "0     13.400621840230773   282.8749097208792  \n",
       "0      12.43003144661301   65.47213487051943  \n",
       "0      13.04798950815513   63.09986885193912  \n",
       "0     13.467423759022909   348.9141253007636  \n",
       "0     276.50086139153194   37.44324402906517  \n",
       "0      283.1829301562399   26.06189813153006  \n",
       "0     284.30746727754934  23.981960620976114  \n",
       "0      286.3868212858224   20.00368120507754  \n",
       "0      11.59241989576733   96.29635147100086  \n",
       "0      297.4811078560073   4.379336089827132  \n",
       "0       316.633981240606   61.54794961255407  \n",
       "0      328.9117843481438  110.84088740265626  \n",
       "0     12.445946156044279   64.02905735247317  \n",
       "0     12.544423806621747   53.71061325969835  \n",
       "0     12.588632555837588   48.19492775375478  \n",
       "0     14.696805724406016   7248.402862203008  "
      ]
     },
     "execution_count": 18,
     "metadata": {},
     "output_type": "execute_result"
    }
   ],
   "source": [
    "result_df#.to_csv(\"../results/SVM_HIV_CoV_pMIC_to_MIC_rbf_c_100_gamma_2.csv\", index=False)"
   ]
  },
  {
   "cell_type": "code",
   "execution_count": 19,
   "id": "devoted-advancement",
   "metadata": {
    "ExecuteTime": {
     "end_time": "2021-08-27T04:26:30.085887Z",
     "start_time": "2021-08-27T04:26:30.081062Z"
    }
   },
   "outputs": [
    {
     "data": {
      "text/plain": [
       "9.871018318298685"
      ]
     },
     "execution_count": 19,
     "metadata": {},
     "output_type": "execute_result"
    }
   ],
   "source": [
    "result_df['ape_pmic'].astype('float').mean()"
   ]
  },
  {
   "cell_type": "code",
   "execution_count": 29,
   "id": "modified-table",
   "metadata": {
    "ExecuteTime": {
     "end_time": "2021-08-27T04:40:29.543683Z",
     "start_time": "2021-08-27T04:40:29.538910Z"
    }
   },
   "outputs": [
    {
     "data": {
      "text/plain": [
       "(0.8704098859040363, 2.2120962591160563e-16)"
      ]
     },
     "execution_count": 29,
     "metadata": {},
     "output_type": "execute_result"
    }
   ],
   "source": [
    "pearsonr(result_df['pIC50'].astype('float'), result_df['y_pred_pmic'].astype('float'))"
   ]
  },
  {
   "cell_type": "code",
   "execution_count": 30,
   "id": "established-tribune",
   "metadata": {
    "ExecuteTime": {
     "end_time": "2021-08-27T04:40:39.054352Z",
     "start_time": "2021-08-27T04:40:39.049354Z"
    }
   },
   "outputs": [
    {
     "data": {
      "text/plain": [
       "0.7479937877410594"
      ]
     },
     "execution_count": 30,
     "metadata": {},
     "output_type": "execute_result"
    }
   ],
   "source": [
    "r2_score(result_df['pIC50'].astype('float'), result_df['y_pred_pmic'].astype('float'))"
   ]
  },
  {
   "cell_type": "code",
   "execution_count": 32,
   "id": "cultural-drama",
   "metadata": {
    "ExecuteTime": {
     "end_time": "2021-08-27T04:40:52.332199Z",
     "start_time": "2021-08-27T04:40:52.327161Z"
    }
   },
   "outputs": [
    {
     "data": {
      "text/plain": [
       "3.352014476759489"
      ]
     },
     "execution_count": 32,
     "metadata": {},
     "output_type": "execute_result"
    }
   ],
   "source": [
    "mean_squared_error(result_df['pIC50'].astype('float'), result_df['y_pred_pmic'].astype('float'))"
   ]
  },
  {
   "cell_type": "code",
   "execution_count": null,
   "id": "afraid-vegetation",
   "metadata": {},
   "outputs": [],
   "source": []
  },
  {
   "cell_type": "code",
   "execution_count": 20,
   "id": "wireless-norway",
   "metadata": {
    "ExecuteTime": {
     "end_time": "2021-08-27T04:26:30.985649Z",
     "start_time": "2021-08-27T04:26:30.980894Z"
    }
   },
   "outputs": [
    {
     "data": {
      "text/plain": [
       "877.85220765868"
      ]
     },
     "execution_count": 20,
     "metadata": {},
     "output_type": "execute_result"
    }
   ],
   "source": [
    "result_df['ape_mic'].astype('float').mean()"
   ]
  },
  {
   "cell_type": "code",
   "execution_count": 23,
   "id": "pursuant-dispute",
   "metadata": {
    "ExecuteTime": {
     "end_time": "2021-08-27T04:29:50.113090Z",
     "start_time": "2021-08-27T04:29:50.110497Z"
    }
   },
   "outputs": [],
   "source": [
    "from scipy.stats import pearsonr"
   ]
  },
  {
   "cell_type": "code",
   "execution_count": 25,
   "id": "handed-pizza",
   "metadata": {
    "ExecuteTime": {
     "end_time": "2021-08-27T04:30:16.636427Z",
     "start_time": "2021-08-27T04:30:16.630870Z"
    }
   },
   "outputs": [
    {
     "data": {
      "text/plain": [
       "(0.8441833362543676, 1.3527433912667762e-14)"
      ]
     },
     "execution_count": 25,
     "metadata": {},
     "output_type": "execute_result"
    }
   ],
   "source": [
    "pearsonr(result_df['MIC'].astype('float'), result_df['y_pred_mic'].astype('float'))"
   ]
  },
  {
   "cell_type": "code",
   "execution_count": 26,
   "id": "sexual-aside",
   "metadata": {
    "ExecuteTime": {
     "end_time": "2021-08-27T04:30:18.027658Z",
     "start_time": "2021-08-27T04:30:18.022223Z"
    }
   },
   "outputs": [
    {
     "data": {
      "text/plain": [
       "0.701525628950505"
      ]
     },
     "execution_count": 26,
     "metadata": {},
     "output_type": "execute_result"
    }
   ],
   "source": [
    "r2_score(result_df['MIC'].astype('float'), result_df['y_pred_mic'].astype('float'))"
   ]
  },
  {
   "cell_type": "code",
   "execution_count": 28,
   "id": "unlike-instrumentation",
   "metadata": {
    "ExecuteTime": {
     "end_time": "2021-08-27T04:39:45.106516Z",
     "start_time": "2021-08-27T04:39:45.101193Z"
    }
   },
   "outputs": [
    {
     "data": {
      "text/plain": [
       "64.08321218259441"
      ]
     },
     "execution_count": 28,
     "metadata": {},
     "output_type": "execute_result"
    }
   ],
   "source": [
    "np.sqrt(mean_squared_error(result_df['MIC'].astype('float'), result_df['y_pred_mic'].astype('float')))"
   ]
  },
  {
   "cell_type": "code",
   "execution_count": null,
   "id": "lyric-athletics",
   "metadata": {},
   "outputs": [],
   "source": []
  }
 ],
 "metadata": {
  "kernelspec": {
   "display_name": "Python 3",
   "language": "python",
   "name": "python3"
  },
  "language_info": {
   "codemirror_mode": {
    "name": "ipython",
    "version": 3
   },
   "file_extension": ".py",
   "mimetype": "text/x-python",
   "name": "python",
   "nbconvert_exporter": "python",
   "pygments_lexer": "ipython3",
   "version": "3.6.10"
  },
  "varInspector": {
   "cols": {
    "lenName": 16,
    "lenType": 16,
    "lenVar": 40
   },
   "kernels_config": {
    "python": {
     "delete_cmd_postfix": "",
     "delete_cmd_prefix": "del ",
     "library": "var_list.py",
     "varRefreshCmd": "print(var_dic_list())"
    },
    "r": {
     "delete_cmd_postfix": ") ",
     "delete_cmd_prefix": "rm(",
     "library": "var_list.r",
     "varRefreshCmd": "cat(var_dic_list()) "
    }
   },
   "types_to_exclude": [
    "module",
    "function",
    "builtin_function_or_method",
    "instance",
    "_Feature"
   ],
   "window_display": false
  }
 },
 "nbformat": 4,
 "nbformat_minor": 5
}
