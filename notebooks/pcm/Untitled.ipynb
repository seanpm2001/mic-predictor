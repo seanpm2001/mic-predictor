{
 "cells": [
  {
   "cell_type": "code",
   "execution_count": 1,
   "id": "upper-philadelphia",
   "metadata": {
    "ExecuteTime": {
     "end_time": "2021-08-27T04:04:12.603717Z",
     "start_time": "2021-08-27T04:04:12.599564Z"
    }
   },
   "outputs": [
    {
     "name": "stdout",
     "output_type": "stream",
     "text": [
      "/Users/in-divye.singh/Documents/Projects/MIC_predictor/src\n"
     ]
    }
   ],
   "source": [
    "cd ../../src/"
   ]
  },
  {
   "cell_type": "code",
   "execution_count": 31,
   "id": "concrete-focus",
   "metadata": {
    "ExecuteTime": {
     "end_time": "2021-08-27T04:08:50.229605Z",
     "start_time": "2021-08-27T04:08:50.225343Z"
    }
   },
   "outputs": [],
   "source": [
    "import biovec\n",
    "import numpy as np\n",
    "import pandas as pd\n",
    "from itertools import chain, combinations\n",
    "from collections import Counter\n",
    "\n",
    "from utils import *\n",
    "\n",
    "from sklearn.svm import SVR\n",
    "from sklearn.neighbors import KNeighborsRegressor\n",
    "from sklearn.metrics import make_scorer\n",
    "from sklearn.model_selection import GridSearchCV\n",
    "from sklearn.metrics import mean_squared_error, mean_absolute_error, r2_score\n",
    "from sklearn.model_selection import train_test_split\n",
    "\n",
    "from Bio.SeqUtils.ProtParam import ProteinAnalysis"
   ]
  },
  {
   "cell_type": "code",
   "execution_count": 18,
   "id": "sudden-islam",
   "metadata": {
    "ExecuteTime": {
     "end_time": "2021-08-27T04:07:28.765634Z",
     "start_time": "2021-08-27T04:07:28.762023Z"
    }
   },
   "outputs": [],
   "source": [
    "def mean_absolute_percentage_error(y_true, y_pred): \n",
    "    y_true, y_pred = np.array(y_true), np.array(y_pred)\n",
    "    return np.mean(np.abs((y_true - y_pred) / y_true)) * 100\n",
    "\n",
    "mape_scorer = make_scorer(mean_absolute_percentage_error, greater_is_better=False)"
   ]
  },
  {
   "cell_type": "code",
   "execution_count": 29,
   "id": "wanted-polymer",
   "metadata": {
    "ExecuteTime": {
     "end_time": "2021-08-27T04:08:21.083124Z",
     "start_time": "2021-08-27T04:08:21.079970Z"
    }
   },
   "outputs": [],
   "source": [
    "def pearson_score(y_true, y_pred):\n",
    "    pcc = pearsonr(y_true, y_pred)\n",
    "    return pcc[0]\n",
    "\n",
    "pcc_scorer = make_scorer(pearson_score)"
   ]
  },
  {
   "cell_type": "code",
   "execution_count": 3,
   "id": "advisory-species",
   "metadata": {
    "ExecuteTime": {
     "end_time": "2021-08-27T04:04:17.326805Z",
     "start_time": "2021-08-27T04:04:17.318757Z"
    }
   },
   "outputs": [],
   "source": [
    "mic = pd.read_csv(\"../data/raw/MIC_pIC50_values.csv\")"
   ]
  },
  {
   "cell_type": "code",
   "execution_count": 4,
   "id": "improved-empire",
   "metadata": {
    "ExecuteTime": {
     "end_time": "2021-08-27T04:04:20.070282Z",
     "start_time": "2021-08-27T04:04:20.064671Z"
    }
   },
   "outputs": [],
   "source": [
    "seq = pd.read_csv(\"../data/raw/peptide_target_seq.csv\")"
   ]
  },
  {
   "cell_type": "code",
   "execution_count": 5,
   "id": "comparative-water",
   "metadata": {
    "ExecuteTime": {
     "end_time": "2021-08-27T04:04:33.264545Z",
     "start_time": "2021-08-27T04:04:33.258226Z"
    }
   },
   "outputs": [],
   "source": [
    "seq = seq.merge(mic, on='Sequence')"
   ]
  },
  {
   "cell_type": "code",
   "execution_count": 6,
   "id": "meaning-fever",
   "metadata": {
    "ExecuteTime": {
     "end_time": "2021-08-27T04:04:34.329109Z",
     "start_time": "2021-08-27T04:04:34.323876Z"
    }
   },
   "outputs": [],
   "source": [
    "def get_physicochemical_properties(df):\n",
    "    params = ['aromaticity', 'helix', 'turn', 'sheet', 'gravy', 'net_charge_at_pH7point4']\n",
    "\n",
    "    prop = []\n",
    "    for seq in df.Sequence:\n",
    "        X = ProteinAnalysis(seq)\n",
    "        aromaticity = X.aromaticity()\n",
    "        sec_struc = X.secondary_structure_fraction()\n",
    "        helix = sec_struc[0]\n",
    "        turn = sec_struc[1]\n",
    "        sheet = sec_struc[2]\n",
    "        gravy = X.gravy() # hydrophobicity related\n",
    "        net_charge_at_pH7point4 = X.charge_at_pH(7.4)\n",
    "\n",
    "        prop.append([aromaticity, helix, turn, sheet, gravy, net_charge_at_pH7point4])\n",
    "    return pd.DataFrame(prop, columns=params)"
   ]
  },
  {
   "cell_type": "code",
   "execution_count": 7,
   "id": "infectious-standard",
   "metadata": {
    "ExecuteTime": {
     "end_time": "2021-08-27T04:04:35.675374Z",
     "start_time": "2021-08-27T04:04:35.667581Z"
    }
   },
   "outputs": [],
   "source": [
    "aa_freq = reduce_by_kmer_frequency(seq)"
   ]
  },
  {
   "cell_type": "code",
   "execution_count": 9,
   "id": "bronze-stroke",
   "metadata": {
    "ExecuteTime": {
     "end_time": "2021-08-27T04:04:49.255998Z",
     "start_time": "2021-08-27T04:04:49.087448Z"
    }
   },
   "outputs": [
    {
     "name": "stderr",
     "output_type": "stream",
     "text": [
      "Creating vectors: 100%|██████████| 50/50 [00:00<00:00, 848.55sequence/s]\n"
     ]
    }
   ],
   "source": [
    "uniprot_embedding = biovec.models.load_protvec(\"../data/embeddings/uniprot__kmer_3_contextWindow_10_vector_100_reduction_None\")\n",
    "\n",
    "avg_protvec = convert_sequences_to_avg_vectors(seq['Sequence'], uniprot_embedding, kmer=3)\n",
    "avg_protvec = avg_protvec.reset_index(drop=True)"
   ]
  },
  {
   "cell_type": "code",
   "execution_count": 10,
   "id": "published-venice",
   "metadata": {
    "ExecuteTime": {
     "end_time": "2021-08-27T04:04:55.939039Z",
     "start_time": "2021-08-27T04:04:55.932735Z"
    }
   },
   "outputs": [],
   "source": [
    "physicochemical_prop = get_physicochemical_properties(seq)"
   ]
  },
  {
   "cell_type": "code",
   "execution_count": 11,
   "id": "gothic-assumption",
   "metadata": {
    "ExecuteTime": {
     "end_time": "2021-08-27T04:05:02.980078Z",
     "start_time": "2021-08-27T04:05:02.975520Z"
    }
   },
   "outputs": [],
   "source": [
    "X = pd.concat([aa_freq, avg_protvec, physicochemical_prop[['helix','turn','sheet']]], axis=1)"
   ]
  },
  {
   "cell_type": "code",
   "execution_count": 12,
   "id": "parliamentary-cannon",
   "metadata": {
    "ExecuteTime": {
     "end_time": "2021-08-27T04:05:06.784936Z",
     "start_time": "2021-08-27T04:05:06.781270Z"
    }
   },
   "outputs": [],
   "source": [
    "y = seq[['pIC50', 'MIC']]"
   ]
  },
  {
   "cell_type": "code",
   "execution_count": 13,
   "id": "sensitive-mercy",
   "metadata": {
    "ExecuteTime": {
     "end_time": "2021-08-27T04:05:48.637513Z",
     "start_time": "2021-08-27T04:05:48.629213Z"
    }
   },
   "outputs": [],
   "source": [
    "X_train, X_test, y_train, y_test = train_test_split(X, y, test_size=0.2, random_state=42)"
   ]
  },
  {
   "cell_type": "code",
   "execution_count": 14,
   "id": "egyptian-florence",
   "metadata": {
    "ExecuteTime": {
     "end_time": "2021-08-27T04:05:51.426020Z",
     "start_time": "2021-08-27T04:05:51.423166Z"
    }
   },
   "outputs": [],
   "source": [
    "y_train_pmic, y_train_mic = y_train['pIC50'], y_train['MIC']\n",
    "y_test_pmic, y_test_mic = y_test['pIC50'], y_test['MIC']"
   ]
  },
  {
   "cell_type": "code",
   "execution_count": 15,
   "id": "fewer-custody",
   "metadata": {
    "ExecuteTime": {
     "end_time": "2021-08-27T04:05:53.974478Z",
     "start_time": "2021-08-27T04:05:53.971909Z"
    }
   },
   "outputs": [],
   "source": [
    "from sklearn.model_selection import cross_val_score, GridSearchCV, LeaveOneOut"
   ]
  },
  {
   "cell_type": "code",
   "execution_count": 16,
   "id": "recreational-roller",
   "metadata": {
    "ExecuteTime": {
     "end_time": "2021-08-27T04:05:54.978130Z",
     "start_time": "2021-08-27T04:05:54.975626Z"
    }
   },
   "outputs": [],
   "source": [
    "from scipy.stats import pearsonr"
   ]
  },
  {
   "cell_type": "code",
   "execution_count": 19,
   "id": "afraid-scottish",
   "metadata": {
    "ExecuteTime": {
     "end_time": "2021-08-27T04:07:32.840519Z",
     "start_time": "2021-08-27T04:07:32.836201Z"
    }
   },
   "outputs": [],
   "source": [
    "max_n_neighbors = int(np.sqrt(X_train.shape[0]))\n",
    "param_grid = {\n",
    "    'n_neighbors': range(1, max_n_neighbors),\n",
    "    'weights': ['uniform', 'distance'],\n",
    "    'metric': [\"euclidean\", \"manhattan\", \"chebyshev\"]\n",
    "}\n",
    "knn = KNeighborsRegressor()\n",
    "# Instantiate the grid search model\n",
    "grid_search = GridSearchCV(estimator = knn, param_grid = param_grid, \n",
    "                          cv = 5, n_jobs = -1, verbose = 2, scoring=mape_scorer)"
   ]
  },
  {
   "cell_type": "code",
   "execution_count": 20,
   "id": "french-confidence",
   "metadata": {
    "ExecuteTime": {
     "end_time": "2021-08-27T04:07:38.612477Z",
     "start_time": "2021-08-27T04:07:35.566615Z"
    },
    "scrolled": false
   },
   "outputs": [
    {
     "name": "stdout",
     "output_type": "stream",
     "text": [
      "Fitting 5 folds for each of 30 candidates, totalling 150 fits\n"
     ]
    },
    {
     "data": {
      "text/plain": [
       "GridSearchCV(cv=5, estimator=KNeighborsRegressor(), n_jobs=-1,\n",
       "             param_grid={'metric': ['euclidean', 'manhattan', 'chebyshev'],\n",
       "                         'n_neighbors': range(1, 6),\n",
       "                         'weights': ['uniform', 'distance']},\n",
       "             scoring=make_scorer(mean_absolute_percentage_error, greater_is_better=False),\n",
       "             verbose=2)"
      ]
     },
     "execution_count": 20,
     "metadata": {},
     "output_type": "execute_result"
    }
   ],
   "source": [
    "grid_search.fit(X_train, y_train_pmic)"
   ]
  },
  {
   "cell_type": "code",
   "execution_count": 21,
   "id": "spectacular-remove",
   "metadata": {
    "ExecuteTime": {
     "end_time": "2021-08-27T04:07:41.602001Z",
     "start_time": "2021-08-27T04:07:41.598421Z"
    }
   },
   "outputs": [
    {
     "data": {
      "text/plain": [
       "{'metric': 'euclidean', 'n_neighbors': 3, 'weights': 'distance'}"
      ]
     },
     "execution_count": 21,
     "metadata": {},
     "output_type": "execute_result"
    }
   ],
   "source": [
    "grid_search.best_params_"
   ]
  },
  {
   "cell_type": "code",
   "execution_count": 22,
   "id": "arabic-cambodia",
   "metadata": {
    "ExecuteTime": {
     "end_time": "2021-08-27T04:07:46.020937Z",
     "start_time": "2021-08-27T04:07:46.018522Z"
    }
   },
   "outputs": [],
   "source": [
    "best_grid = grid_search.best_estimator_"
   ]
  },
  {
   "cell_type": "code",
   "execution_count": 23,
   "id": "revolutionary-duration",
   "metadata": {
    "ExecuteTime": {
     "end_time": "2021-08-27T04:07:47.066872Z",
     "start_time": "2021-08-27T04:07:47.058153Z"
    }
   },
   "outputs": [],
   "source": [
    "y_pred_pmic = best_grid.predict(X_test)"
   ]
  },
  {
   "cell_type": "code",
   "execution_count": 24,
   "id": "centered-award",
   "metadata": {
    "ExecuteTime": {
     "end_time": "2021-08-27T04:07:48.266113Z",
     "start_time": "2021-08-27T04:07:48.261126Z"
    }
   },
   "outputs": [
    {
     "data": {
      "text/plain": [
       "11.637828767961471"
      ]
     },
     "execution_count": 24,
     "metadata": {},
     "output_type": "execute_result"
    }
   ],
   "source": [
    "mean_absolute_percentage_error(y_test_pmic, y_pred_pmic)"
   ]
  },
  {
   "cell_type": "code",
   "execution_count": 25,
   "id": "framed-preference",
   "metadata": {
    "ExecuteTime": {
     "end_time": "2021-08-27T04:07:53.386476Z",
     "start_time": "2021-08-27T04:07:53.383901Z"
    }
   },
   "outputs": [],
   "source": [
    "y_pred_mic = np.exp(-y_pred_pmic)/1e-6"
   ]
  },
  {
   "cell_type": "code",
   "execution_count": 26,
   "id": "revolutionary-century",
   "metadata": {
    "ExecuteTime": {
     "end_time": "2021-08-27T04:07:54.513888Z",
     "start_time": "2021-08-27T04:07:54.496122Z"
    }
   },
   "outputs": [],
   "source": [
    "ape_mic = 100*np.abs(y_test_mic-y_pred_mic)/y_test_mic"
   ]
  },
  {
   "cell_type": "code",
   "execution_count": 27,
   "id": "personalized-edwards",
   "metadata": {
    "ExecuteTime": {
     "end_time": "2021-08-27T04:07:55.555153Z",
     "start_time": "2021-08-27T04:07:55.551391Z"
    }
   },
   "outputs": [
    {
     "data": {
      "text/plain": [
       "305.55068353606896"
      ]
     },
     "execution_count": 27,
     "metadata": {},
     "output_type": "execute_result"
    }
   ],
   "source": [
    "mean_absolute_percentage_error(y_test_mic, y_pred_mic)"
   ]
  },
  {
   "cell_type": "code",
   "execution_count": 30,
   "id": "stylish-reputation",
   "metadata": {
    "ExecuteTime": {
     "end_time": "2021-08-27T04:08:25.191826Z",
     "start_time": "2021-08-27T04:08:25.187460Z"
    },
    "scrolled": true
   },
   "outputs": [
    {
     "data": {
      "text/plain": [
       "0.8476934341810262"
      ]
     },
     "execution_count": 30,
     "metadata": {},
     "output_type": "execute_result"
    }
   ],
   "source": [
    "pearson_score(y_test_mic, y_pred_mic)"
   ]
  },
  {
   "cell_type": "code",
   "execution_count": 32,
   "id": "wooden-difference",
   "metadata": {
    "ExecuteTime": {
     "end_time": "2021-08-27T04:09:02.917710Z",
     "start_time": "2021-08-27T04:09:02.913443Z"
    }
   },
   "outputs": [
    {
     "data": {
      "text/plain": [
       "0.6922341355793649"
      ]
     },
     "execution_count": 32,
     "metadata": {},
     "output_type": "execute_result"
    }
   ],
   "source": [
    "r2_score(y_test_mic, y_pred_mic)"
   ]
  },
  {
   "cell_type": "code",
   "execution_count": 33,
   "id": "greater-secretariat",
   "metadata": {
    "ExecuteTime": {
     "end_time": "2021-08-27T04:09:27.258841Z",
     "start_time": "2021-08-27T04:09:27.253983Z"
    }
   },
   "outputs": [
    {
     "data": {
      "text/plain": [
       "[(23.8, 23.8295, 0.1238722518916188),\n",
       " (383.0, 280.7419, 26.699254733626383),\n",
       " (137.0, 6.9023, 94.96180727750749),\n",
       " (156.0, 271.9291, 74.31350628748845),\n",
       " (0.026, 0.0352, 35.395038567944404),\n",
       " (24.3, 4.8358, 80.09953103434026),\n",
       " (22.0, 1.3949, 93.65953197010755),\n",
       " (0.001, 0.0247, 2370.3452988702034),\n",
       " (3.4, 1.2736, 62.54065740533187),\n",
       " (0.023, 0.073, 217.3683369622488)]"
      ]
     },
     "execution_count": 33,
     "metadata": {},
     "output_type": "execute_result"
    }
   ],
   "source": [
    "list(zip(y_test_mic.round(4), y_pred_mic.round(4), ape_mic))"
   ]
  },
  {
   "cell_type": "code",
   "execution_count": 34,
   "id": "novel-roots",
   "metadata": {
    "ExecuteTime": {
     "end_time": "2021-08-27T04:11:25.432206Z",
     "start_time": "2021-08-27T04:11:24.935049Z"
    }
   },
   "outputs": [
    {
     "name": "stderr",
     "output_type": "stream",
     "text": [
      "50it [00:00, 104.65it/s]\n"
     ]
    }
   ],
   "source": [
    "loo = LeaveOneOut()\n",
    "\n",
    "from tqdm import tqdm\n",
    "\n",
    "result_df = pd.DataFrame(columns = list(seq.columns)+[\"y_pred_pmic\", \"y_pred_mic\", \"ape_pmic\", \"ape_mic\"])\n",
    "for train_index, test_index in tqdm(loo.split(X)):\n",
    "    X_train, X_test = X.iloc[train_index,:], X.iloc[test_index,:]\n",
    "    y_train, y_test = y.iloc[train_index], y.iloc[test_index]\n",
    "    y_train_pmic, y_train_mic = y_train['pIC50'], y_train['MIC']\n",
    "    y_test_pmic, y_test_mic = y_test['pIC50'], y_test['MIC']\n",
    "    knn = KNeighborsRegressor(**grid_search.best_params_)\n",
    "    _ = knn.fit(X_train, y_train_pmic)\n",
    "    y_pred_pmic = knn.predict(X_test)\n",
    "    y_pred_mic = np.exp(-y_pred_pmic)/1e-6\n",
    "    ape = 100*np.abs(y_test_pmic-y_pred_pmic)/y_test_pmic\n",
    "    ape_mic = 100*np.abs(y_test_mic-y_pred_mic)/y_test_mic\n",
    "    df_val = seq.iloc[test_index,:].values[0].tolist()\n",
    "    res = np.append(df_val, [y_pred_pmic[0], y_pred_mic[0], ape.values[0], ape_mic.values[0]])\n",
    "    res = pd.DataFrame([res], columns = list(seq.columns)+[\"y_pred_pmic\", \"y_pred_mic\", \"ape_pmic\", \"ape_mic\"])\n",
    "    result_df = result_df.append(res)\n",
    "result_df = result_df[[\"Sequence\", \"pIC50\", \"y_pred_pmic\", \"ape_pmic\", \"MIC\", \"y_pred_mic\", \"ape_mic\"]]"
   ]
  },
  {
   "cell_type": "code",
   "execution_count": 35,
   "id": "alert-cleaner",
   "metadata": {
    "ExecuteTime": {
     "end_time": "2021-08-27T04:11:28.757847Z",
     "start_time": "2021-08-27T04:11:28.734405Z"
    }
   },
   "outputs": [
    {
     "data": {
      "text/html": [
       "<div>\n",
       "<style scoped>\n",
       "    .dataframe tbody tr th:only-of-type {\n",
       "        vertical-align: middle;\n",
       "    }\n",
       "\n",
       "    .dataframe tbody tr th {\n",
       "        vertical-align: top;\n",
       "    }\n",
       "\n",
       "    .dataframe thead th {\n",
       "        text-align: right;\n",
       "    }\n",
       "</style>\n",
       "<table border=\"1\" class=\"dataframe\">\n",
       "  <thead>\n",
       "    <tr style=\"text-align: right;\">\n",
       "      <th></th>\n",
       "      <th>Sequence</th>\n",
       "      <th>pIC50</th>\n",
       "      <th>y_pred_pmic</th>\n",
       "      <th>ape_pmic</th>\n",
       "      <th>MIC</th>\n",
       "      <th>y_pred_mic</th>\n",
       "      <th>ape_mic</th>\n",
       "    </tr>\n",
       "  </thead>\n",
       "  <tbody>\n",
       "    <tr>\n",
       "      <th>0</th>\n",
       "      <td>VSTALPQWRIYSYAGDNI</td>\n",
       "      <td>10.59663473</td>\n",
       "      <td>10.647920808093843</td>\n",
       "      <td>0.4839845800162214</td>\n",
       "      <td>25.0</td>\n",
       "      <td>23.750171461126207</td>\n",
       "      <td>4.9993141554951706</td>\n",
       "    </tr>\n",
       "    <tr>\n",
       "      <th>0</th>\n",
       "      <td>ALPQWRIYSYAGDNIVTA</td>\n",
       "      <td>10.59663473</td>\n",
       "      <td>10.644187075402703</td>\n",
       "      <td>0.4487495003303126</td>\n",
       "      <td>25.0</td>\n",
       "      <td>23.83901400667812</td>\n",
       "      <td>4.64394397328752</td>\n",
       "    </tr>\n",
       "    <tr>\n",
       "      <th>0</th>\n",
       "      <td>AGALMFAWLLLGLQGIFN</td>\n",
       "      <td>10.59663473</td>\n",
       "      <td>12.136597273637275</td>\n",
       "      <td>14.532562298080409</td>\n",
       "      <td>25.0</td>\n",
       "      <td>5.359728304435674</td>\n",
       "      <td>78.5610867822573</td>\n",
       "    </tr>\n",
       "    <tr>\n",
       "      <th>0</th>\n",
       "      <td>MASAGMQILGVVLTLLGW</td>\n",
       "      <td>10.59663473</td>\n",
       "      <td>11.12324818125001</td>\n",
       "      <td>4.9696291763188</td>\n",
       "      <td>25.0</td>\n",
       "      <td>14.765042250379292</td>\n",
       "      <td>40.93983099848283</td>\n",
       "    </tr>\n",
       "    <tr>\n",
       "      <th>0</th>\n",
       "      <td>MANSGLQLLGFSMALLGW</td>\n",
       "      <td>10.59663473</td>\n",
       "      <td>11.12339675013746</td>\n",
       "      <td>4.971031214713385</td>\n",
       "      <td>25.0</td>\n",
       "      <td>14.762848787423232</td>\n",
       "      <td>40.94860485030707</td>\n",
       "    </tr>\n",
       "    <tr>\n",
       "      <th>0</th>\n",
       "      <td>MASTGLELLGMTLAVLGW</td>\n",
       "      <td>10.59663473</td>\n",
       "      <td>10.928807632265377</td>\n",
       "      <td>3.134701824957375</td>\n",
       "      <td>25.0</td>\n",
       "      <td>17.934082015401124</td>\n",
       "      <td>28.263671938395504</td>\n",
       "    </tr>\n",
       "    <tr>\n",
       "      <th>0</th>\n",
       "      <td>GWIGAIVSTALPQWRIYS</td>\n",
       "      <td>10.74745762</td>\n",
       "      <td>10.84750786726224</td>\n",
       "      <td>0.9309201375779759</td>\n",
       "      <td>21.5</td>\n",
       "      <td>19.45302705693108</td>\n",
       "      <td>9.520804386367066</td>\n",
       "    </tr>\n",
       "    <tr>\n",
       "      <th>0</th>\n",
       "      <td>AFLGWIGAIVSTALPQWR</td>\n",
       "      <td>11.28978191</td>\n",
       "      <td>11.007562798671355</td>\n",
       "      <td>2.499774695192898</td>\n",
       "      <td>12.5</td>\n",
       "      <td>16.57586562249056</td>\n",
       "      <td>32.606924979924486</td>\n",
       "    </tr>\n",
       "    <tr>\n",
       "      <th>0</th>\n",
       "      <td>FILAFLGWIGAIVSTALP</td>\n",
       "      <td>11.62945928</td>\n",
       "      <td>12.322648711840694</td>\n",
       "      <td>5.960633380718052</td>\n",
       "      <td>8.9</td>\n",
       "      <td>4.449811991228888</td>\n",
       "      <td>50.00211245810238</td>\n",
       "    </tr>\n",
       "    <tr>\n",
       "      <th>0</th>\n",
       "      <td>MANAGLQLLGFILAFL</td>\n",
       "      <td>11.78736231</td>\n",
       "      <td>11.832178531642407</td>\n",
       "      <td>0.3802056852395726</td>\n",
       "      <td>7.6</td>\n",
       "      <td>7.26691624603575</td>\n",
       "      <td>4.38268097321381</td>\n",
       "    </tr>\n",
       "    <tr>\n",
       "      <th>0</th>\n",
       "      <td>MANAGLQLLGFILAFLGWIGAIVS</td>\n",
       "      <td>12.18627002</td>\n",
       "      <td>12.237294843056738</td>\n",
       "      <td>0.4187074713837449</td>\n",
       "      <td>5.1</td>\n",
       "      <td>4.846300909661001</td>\n",
       "      <td>4.974491967431346</td>\n",
       "    </tr>\n",
       "    <tr>\n",
       "      <th>0</th>\n",
       "      <td>LLGFILAFLGWIGAIVST</td>\n",
       "      <td>12.35689554</td>\n",
       "      <td>12.01223102244117</td>\n",
       "      <td>2.7892484519524348</td>\n",
       "      <td>4.3</td>\n",
       "      <td>6.069520066816098</td>\n",
       "      <td>41.1516294608395</td>\n",
       "    </tr>\n",
       "    <tr>\n",
       "      <th>0</th>\n",
       "      <td>MANAGLQLLGFILAFLGWIGAI</td>\n",
       "      <td>12.429216199999999</td>\n",
       "      <td>11.991758765509351</td>\n",
       "      <td>3.51958987156928</td>\n",
       "      <td>4.0</td>\n",
       "      <td>6.195057473597401</td>\n",
       "      <td>54.87643683993502</td>\n",
       "    </tr>\n",
       "    <tr>\n",
       "      <th>0</th>\n",
       "      <td>GAIVSTALPQWRIYSYAG</td>\n",
       "      <td>10.64582498</td>\n",
       "      <td>10.644587021351677</td>\n",
       "      <td>0.011628583511835086</td>\n",
       "      <td>23.8</td>\n",
       "      <td>23.829481595950206</td>\n",
       "      <td>0.1238722518916188</td>\n",
       "    </tr>\n",
       "    <tr>\n",
       "      <th>0</th>\n",
       "      <td>CAGKRKSG</td>\n",
       "      <td>11.91340303</td>\n",
       "      <td>11.378370800444161</td>\n",
       "      <td>4.491010907702319</td>\n",
       "      <td>6.7</td>\n",
       "      <td>11.440271949975523</td>\n",
       "      <td>70.75032761157497</td>\n",
       "    </tr>\n",
       "    <tr>\n",
       "      <th>0</th>\n",
       "      <td>GELGRLVYLLDGPGYDPI</td>\n",
       "      <td>15.894952100000001</td>\n",
       "      <td>16.982698787342525</td>\n",
       "      <td>6.843346746181911</td>\n",
       "      <td>0.125</td>\n",
       "      <td>0.04212186858312832</td>\n",
       "      <td>66.30250513349733</td>\n",
       "    </tr>\n",
       "    <tr>\n",
       "      <th>0</th>\n",
       "      <td>GELGRLVYLLDGPGYDPIHCD</td>\n",
       "      <td>15.90298427</td>\n",
       "      <td>18.24440724120292</td>\n",
       "      <td>14.723167246161921</td>\n",
       "      <td>0.124</td>\n",
       "      <td>0.0119276423834174</td>\n",
       "      <td>90.38093356176017</td>\n",
       "    </tr>\n",
       "    <tr>\n",
       "      <th>0</th>\n",
       "      <td>GELGRPVYVLGDPGYYATHCIYATTNDALIFSV</td>\n",
       "      <td>17.4651693</td>\n",
       "      <td>19.64971393562851</td>\n",
       "      <td>12.508007211979974</td>\n",
       "      <td>0.026000000000000002</td>\n",
       "      <td>0.0029257530522761215</td>\n",
       "      <td>88.74710364509184</td>\n",
       "    </tr>\n",
       "    <tr>\n",
       "      <th>0</th>\n",
       "      <td>RQIKINFQNRRMKNKKGELDELVYLLDGPGYDPIHS</td>\n",
       "      <td>17.54521201</td>\n",
       "      <td>18.902001116957923</td>\n",
       "      <td>7.733101806832612</td>\n",
       "      <td>0.024</td>\n",
       "      <td>0.006179669060707958</td>\n",
       "      <td>74.25137891371683</td>\n",
       "    </tr>\n",
       "    <tr>\n",
       "      <th>0</th>\n",
       "      <td>GELDELVYLLDGPGYDPIHS</td>\n",
       "      <td>17.58777162</td>\n",
       "      <td>17.373592186918682</td>\n",
       "      <td>1.2177746999953356</td>\n",
       "      <td>0.023</td>\n",
       "      <td>0.028493433295099808</td>\n",
       "      <td>23.88449258739047</td>\n",
       "    </tr>\n",
       "    <tr>\n",
       "      <th>0</th>\n",
       "      <td>GELGRLVYLLDGPGYDPIHCSLAYGDASTLVVF</td>\n",
       "      <td>17.6787434</td>\n",
       "      <td>19.199407574421926</td>\n",
       "      <td>8.60165307010411</td>\n",
       "      <td>0.021</td>\n",
       "      <td>0.0045899001155816485</td>\n",
       "      <td>78.14333278294453</td>\n",
       "    </tr>\n",
       "    <tr>\n",
       "      <th>0</th>\n",
       "      <td>GELGRLVYLLDGPGYDPIHCDVVTRGGSHLFNF</td>\n",
       "      <td>18.32537056</td>\n",
       "      <td>18.656559009868097</td>\n",
       "      <td>1.8072674098662127</td>\n",
       "      <td>0.011000000000000001</td>\n",
       "      <td>0.007898768230121082</td>\n",
       "      <td>28.19301608980835</td>\n",
       "    </tr>\n",
       "    <tr>\n",
       "      <th>0</th>\n",
       "      <td>HCSLAYGDASTLVVF</td>\n",
       "      <td>20.72326584</td>\n",
       "      <td>18.616587113364165</td>\n",
       "      <td>10.165766066512202</td>\n",
       "      <td>0.001</td>\n",
       "      <td>0.008220892037705018</td>\n",
       "      <td>722.0892037705017</td>\n",
       "    </tr>\n",
       "    <tr>\n",
       "      <th>0</th>\n",
       "      <td>HCIYATTNDALIFSV</td>\n",
       "      <td>20.72326584</td>\n",
       "      <td>16.951987801266032</td>\n",
       "      <td>18.198280463374918</td>\n",
       "      <td>0.001</td>\n",
       "      <td>0.0434355415495876</td>\n",
       "      <td>4243.55415495876</td>\n",
       "    </tr>\n",
       "    <tr>\n",
       "      <th>0</th>\n",
       "      <td>GELGRIPSDTYDLAVGALHCPFYLVSGLVYLDG</td>\n",
       "      <td>20.72326584</td>\n",
       "      <td>18.77965408010914</td>\n",
       "      <td>9.378887357316554</td>\n",
       "      <td>0.001</td>\n",
       "      <td>0.006983929729440516</td>\n",
       "      <td>598.3929729440516</td>\n",
       "    </tr>\n",
       "    <tr>\n",
       "      <th>0</th>\n",
       "      <td>GELDELVYLLDGPGYDPIHCDVVTRGGSRLFNF</td>\n",
       "      <td>20.72326584</td>\n",
       "      <td>17.516322805969743</td>\n",
       "      <td>15.475085147246544</td>\n",
       "      <td>0.001</td>\n",
       "      <td>0.02470345298870203</td>\n",
       "      <td>2370.3452988702034</td>\n",
       "    </tr>\n",
       "    <tr>\n",
       "      <th>0</th>\n",
       "      <td>ACFPWGKEYCGGK</td>\n",
       "      <td>10.7244681</td>\n",
       "      <td>13.482685703120014</td>\n",
       "      <td>25.718922163794907</td>\n",
       "      <td>22.0</td>\n",
       "      <td>1.3949029665763317</td>\n",
       "      <td>93.65953197010758</td>\n",
       "    </tr>\n",
       "    <tr>\n",
       "      <th>0</th>\n",
       "      <td>ACFPWGNTWCGGK</td>\n",
       "      <td>11.2505612</td>\n",
       "      <td>11.40815462551884</td>\n",
       "      <td>1.4007605728933774</td>\n",
       "      <td>13.0</td>\n",
       "      <td>11.104561084648976</td>\n",
       "      <td>14.580299348854028</td>\n",
       "    </tr>\n",
       "    <tr>\n",
       "      <th>0</th>\n",
       "      <td>ACFPWGNQWCGGK</td>\n",
       "      <td>12.02375109</td>\n",
       "      <td>10.99783771223758</td>\n",
       "      <td>8.532390350426157</td>\n",
       "      <td>6.0</td>\n",
       "      <td>16.737853745936786</td>\n",
       "      <td>178.96422909894645</td>\n",
       "    </tr>\n",
       "    <tr>\n",
       "      <th>0</th>\n",
       "      <td>GICRCICGRGICRCICGRIGGRVPGVGVPGVGHHHHHH</td>\n",
       "      <td>10.75211964</td>\n",
       "      <td>12.839802475309458</td>\n",
       "      <td>19.416476985085502</td>\n",
       "      <td>21.4</td>\n",
       "      <td>2.653045121279112</td>\n",
       "      <td>87.60259289121909</td>\n",
       "    </tr>\n",
       "    <tr>\n",
       "      <th>0</th>\n",
       "      <td>VRLGSISVIGIVRGKK</td>\n",
       "      <td>8.895529632</td>\n",
       "      <td>12.36521437444221</td>\n",
       "      <td>39.004813495990945</td>\n",
       "      <td>137.0</td>\n",
       "      <td>4.264377366449518</td>\n",
       "      <td>96.88731579091277</td>\n",
       "    </tr>\n",
       "    <tr>\n",
       "      <th>0</th>\n",
       "      <td>KGSVVIVGRIILSGRK</td>\n",
       "      <td>12.07504438</td>\n",
       "      <td>11.213962512728566</td>\n",
       "      <td>7.131086563107388</td>\n",
       "      <td>5.7</td>\n",
       "      <td>13.484596651396926</td>\n",
       "      <td>136.57187107713904</td>\n",
       "    </tr>\n",
       "    <tr>\n",
       "      <th>0</th>\n",
       "      <td>RGGSVVIVGRIILSGRK</td>\n",
       "      <td>12.59173513</td>\n",
       "      <td>12.186759927836029</td>\n",
       "      <td>3.21619854597411</td>\n",
       "      <td>3.4</td>\n",
       "      <td>5.097502072958805</td>\n",
       "      <td>49.9265315576119</td>\n",
       "    </tr>\n",
       "    <tr>\n",
       "      <th>0</th>\n",
       "      <td>RGGRLCYCRRRFCVCVGR</td>\n",
       "      <td>11.35592172</td>\n",
       "      <td>13.12204695714406</td>\n",
       "      <td>15.552460475608665</td>\n",
       "      <td>11.7</td>\n",
       "      <td>2.0006329406528813</td>\n",
       "      <td>82.90057315681298</td>\n",
       "    </tr>\n",
       "    <tr>\n",
       "      <th>0</th>\n",
       "      <td>MAILGDTAWDFGSLGGVFTSIGKALHQVFGAIY</td>\n",
       "      <td>12.56274759</td>\n",
       "      <td>18.668341888292705</td>\n",
       "      <td>48.600787801808444</td>\n",
       "      <td>3.5</td>\n",
       "      <td>0.007806244174681438</td>\n",
       "      <td>99.77696445215197</td>\n",
       "    </tr>\n",
       "    <tr>\n",
       "      <th>0</th>\n",
       "      <td>RQMRAWGQDYQHGGMGYSC</td>\n",
       "      <td>10.23199162</td>\n",
       "      <td>9.08237873353649</td>\n",
       "      <td>11.235475254068962</td>\n",
       "      <td>36.0</td>\n",
       "      <td>113.65094035867747</td>\n",
       "      <td>215.69705655188187</td>\n",
       "    </tr>\n",
       "    <tr>\n",
       "      <th>0</th>\n",
       "      <td>RWMVWRHWFHRLRLPYNPGKNKQNQQWP</td>\n",
       "      <td>11.73606902</td>\n",
       "      <td>13.686717884321425</td>\n",
       "      <td>16.620973010615646</td>\n",
       "      <td>8.0</td>\n",
       "      <td>1.1374542754663926</td>\n",
       "      <td>85.7818215566701</td>\n",
       "    </tr>\n",
       "    <tr>\n",
       "      <th>0</th>\n",
       "      <td>FWFTLIKTQAKQPARYRRFC</td>\n",
       "      <td>12.71689827</td>\n",
       "      <td>13.279202227584625</td>\n",
       "      <td>4.421706815970503</td>\n",
       "      <td>3.0</td>\n",
       "      <td>1.7096836106425561</td>\n",
       "      <td>43.010546311914794</td>\n",
       "    </tr>\n",
       "    <tr>\n",
       "      <th>0</th>\n",
       "      <td>AAQRRGRVGRNPNQVGD</td>\n",
       "      <td>7.724200676000001</td>\n",
       "      <td>8.345576863151202</td>\n",
       "      <td>8.044537075297509</td>\n",
       "      <td>442.0</td>\n",
       "      <td>237.44444844066876</td>\n",
       "      <td>46.279536551884895</td>\n",
       "    </tr>\n",
       "    <tr>\n",
       "      <th>0</th>\n",
       "      <td>RNPSQVGD</td>\n",
       "      <td>7.867475569</td>\n",
       "      <td>8.249966806181645</td>\n",
       "      <td>4.861676834291862</td>\n",
       "      <td>383.0</td>\n",
       "      <td>261.26722961469517</td>\n",
       "      <td>31.78401315543207</td>\n",
       "    </tr>\n",
       "    <tr>\n",
       "      <th>0</th>\n",
       "      <td>RVGRNPNQVGD</td>\n",
       "      <td>7.891254761</td>\n",
       "      <td>8.228930183018935</td>\n",
       "      <td>4.27910937165263</td>\n",
       "      <td>374.0</td>\n",
       "      <td>266.82162792573035</td>\n",
       "      <td>28.657318736435734</td>\n",
       "    </tr>\n",
       "    <tr>\n",
       "      <th>0</th>\n",
       "      <td>AAQRRGRIGRNPSQVGD</td>\n",
       "      <td>7.934977572</td>\n",
       "      <td>8.27873676737961</td>\n",
       "      <td>4.332201222504106</td>\n",
       "      <td>358.0</td>\n",
       "      <td>253.8576788733406</td>\n",
       "      <td>29.0900338342624</td>\n",
       "    </tr>\n",
       "    <tr>\n",
       "      <th>0</th>\n",
       "      <td>RGRRGIYR</td>\n",
       "      <td>8.069307367</td>\n",
       "      <td>12.067239898217949</td>\n",
       "      <td>49.544928076079664</td>\n",
       "      <td>313.0</td>\n",
       "      <td>5.74465960990443</td>\n",
       "      <td>98.1646454920433</td>\n",
       "    </tr>\n",
       "    <tr>\n",
       "      <th>0</th>\n",
       "      <td>RIGRNPSQVGD</td>\n",
       "      <td>8.163021378</td>\n",
       "      <td>8.234261712794403</td>\n",
       "      <td>0.8727201791532939</td>\n",
       "      <td>285.0</td>\n",
       "      <td>265.4028459715852</td>\n",
       "      <td>6.876194395935025</td>\n",
       "    </tr>\n",
       "    <tr>\n",
       "      <th>0</th>\n",
       "      <td>RRGRVGRNPNQVGD</td>\n",
       "      <td>8.537395899</td>\n",
       "      <td>8.129985973999313</td>\n",
       "      <td>4.7720631656358785</td>\n",
       "      <td>196.0</td>\n",
       "      <td>294.5723324485621</td>\n",
       "      <td>50.2920063513072</td>\n",
       "    </tr>\n",
       "    <tr>\n",
       "      <th>0</th>\n",
       "      <td>RRGRIGRNPSQVGD</td>\n",
       "      <td>8.765654551</td>\n",
       "      <td>8.20996929843834</td>\n",
       "      <td>6.339346928727272</td>\n",
       "      <td>156.0</td>\n",
       "      <td>271.929069808482</td>\n",
       "      <td>74.31350628748845</td>\n",
       "    </tr>\n",
       "    <tr>\n",
       "      <th>0</th>\n",
       "      <td>RTGRGRRGIYR</td>\n",
       "      <td>10.27165688</td>\n",
       "      <td>11.771169234629616</td>\n",
       "      <td>14.598544053290219</td>\n",
       "      <td>34.6</td>\n",
       "      <td>7.724069197837012</td>\n",
       "      <td>77.67610058428609</td>\n",
       "    </tr>\n",
       "    <tr>\n",
       "      <th>0</th>\n",
       "      <td>RTQRRGRTGRGKPGIYR</td>\n",
       "      <td>10.51597683</td>\n",
       "      <td>11.86290634281602</td>\n",
       "      <td>12.808410807577065</td>\n",
       "      <td>27.1</td>\n",
       "      <td>7.047015650018719</td>\n",
       "      <td>73.99625221395307</td>\n",
       "    </tr>\n",
       "    <tr>\n",
       "      <th>0</th>\n",
       "      <td>STQRRGRTGRGRRGIYR</td>\n",
       "      <td>10.62503421</td>\n",
       "      <td>12.239461096039541</td>\n",
       "      <td>15.19455706335594</td>\n",
       "      <td>24.3</td>\n",
       "      <td>4.835813958655301</td>\n",
       "      <td>80.09953103434032</td>\n",
       "    </tr>\n",
       "    <tr>\n",
       "      <th>0</th>\n",
       "      <td>RRGRTGRGRRGIYR</td>\n",
       "      <td>15.42494847</td>\n",
       "      <td>9.86610867328416</td>\n",
       "      <td>36.03797968937941</td>\n",
       "      <td>0.2</td>\n",
       "      <td>51.90431278416116</td>\n",
       "      <td>25852.15639208058</td>\n",
       "    </tr>\n",
       "  </tbody>\n",
       "</table>\n",
       "</div>"
      ],
      "text/plain": [
       "                                 Sequence               pIC50  \\\n",
       "0                      VSTALPQWRIYSYAGDNI         10.59663473   \n",
       "0                      ALPQWRIYSYAGDNIVTA         10.59663473   \n",
       "0                      AGALMFAWLLLGLQGIFN         10.59663473   \n",
       "0                      MASAGMQILGVVLTLLGW         10.59663473   \n",
       "0                      MANSGLQLLGFSMALLGW         10.59663473   \n",
       "0                      MASTGLELLGMTLAVLGW         10.59663473   \n",
       "0                      GWIGAIVSTALPQWRIYS         10.74745762   \n",
       "0                      AFLGWIGAIVSTALPQWR         11.28978191   \n",
       "0                      FILAFLGWIGAIVSTALP         11.62945928   \n",
       "0                        MANAGLQLLGFILAFL         11.78736231   \n",
       "0                MANAGLQLLGFILAFLGWIGAIVS         12.18627002   \n",
       "0                      LLGFILAFLGWIGAIVST         12.35689554   \n",
       "0                  MANAGLQLLGFILAFLGWIGAI  12.429216199999999   \n",
       "0                      GAIVSTALPQWRIYSYAG         10.64582498   \n",
       "0                                CAGKRKSG         11.91340303   \n",
       "0                      GELGRLVYLLDGPGYDPI  15.894952100000001   \n",
       "0                   GELGRLVYLLDGPGYDPIHCD         15.90298427   \n",
       "0       GELGRPVYVLGDPGYYATHCIYATTNDALIFSV          17.4651693   \n",
       "0    RQIKINFQNRRMKNKKGELDELVYLLDGPGYDPIHS         17.54521201   \n",
       "0                    GELDELVYLLDGPGYDPIHS         17.58777162   \n",
       "0       GELGRLVYLLDGPGYDPIHCSLAYGDASTLVVF          17.6787434   \n",
       "0       GELGRLVYLLDGPGYDPIHCDVVTRGGSHLFNF         18.32537056   \n",
       "0                         HCSLAYGDASTLVVF         20.72326584   \n",
       "0                         HCIYATTNDALIFSV         20.72326584   \n",
       "0       GELGRIPSDTYDLAVGALHCPFYLVSGLVYLDG         20.72326584   \n",
       "0       GELDELVYLLDGPGYDPIHCDVVTRGGSRLFNF         20.72326584   \n",
       "0                           ACFPWGKEYCGGK          10.7244681   \n",
       "0                           ACFPWGNTWCGGK          11.2505612   \n",
       "0                           ACFPWGNQWCGGK         12.02375109   \n",
       "0  GICRCICGRGICRCICGRIGGRVPGVGVPGVGHHHHHH         10.75211964   \n",
       "0                        VRLGSISVIGIVRGKK         8.895529632   \n",
       "0                        KGSVVIVGRIILSGRK         12.07504438   \n",
       "0                       RGGSVVIVGRIILSGRK         12.59173513   \n",
       "0                      RGGRLCYCRRRFCVCVGR         11.35592172   \n",
       "0       MAILGDTAWDFGSLGGVFTSIGKALHQVFGAIY         12.56274759   \n",
       "0                     RQMRAWGQDYQHGGMGYSC         10.23199162   \n",
       "0            RWMVWRHWFHRLRLPYNPGKNKQNQQWP         11.73606902   \n",
       "0                    FWFTLIKTQAKQPARYRRFC         12.71689827   \n",
       "0                       AAQRRGRVGRNPNQVGD   7.724200676000001   \n",
       "0                                RNPSQVGD         7.867475569   \n",
       "0                             RVGRNPNQVGD         7.891254761   \n",
       "0                       AAQRRGRIGRNPSQVGD         7.934977572   \n",
       "0                                RGRRGIYR         8.069307367   \n",
       "0                             RIGRNPSQVGD         8.163021378   \n",
       "0                          RRGRVGRNPNQVGD         8.537395899   \n",
       "0                          RRGRIGRNPSQVGD         8.765654551   \n",
       "0                             RTGRGRRGIYR         10.27165688   \n",
       "0                       RTQRRGRTGRGKPGIYR         10.51597683   \n",
       "0                       STQRRGRTGRGRRGIYR         10.62503421   \n",
       "0                          RRGRTGRGRRGIYR         15.42494847   \n",
       "\n",
       "          y_pred_pmic              ape_pmic                   MIC  \\\n",
       "0  10.647920808093843    0.4839845800162214                  25.0   \n",
       "0  10.644187075402703    0.4487495003303126                  25.0   \n",
       "0  12.136597273637275    14.532562298080409                  25.0   \n",
       "0   11.12324818125001       4.9696291763188                  25.0   \n",
       "0   11.12339675013746     4.971031214713385                  25.0   \n",
       "0  10.928807632265377     3.134701824957375                  25.0   \n",
       "0   10.84750786726224    0.9309201375779759                  21.5   \n",
       "0  11.007562798671355     2.499774695192898                  12.5   \n",
       "0  12.322648711840694     5.960633380718052                   8.9   \n",
       "0  11.832178531642407    0.3802056852395726                   7.6   \n",
       "0  12.237294843056738    0.4187074713837449                   5.1   \n",
       "0   12.01223102244117    2.7892484519524348                   4.3   \n",
       "0  11.991758765509351      3.51958987156928                   4.0   \n",
       "0  10.644587021351677  0.011628583511835086                  23.8   \n",
       "0  11.378370800444161     4.491010907702319                   6.7   \n",
       "0  16.982698787342525     6.843346746181911                 0.125   \n",
       "0   18.24440724120292    14.723167246161921                 0.124   \n",
       "0   19.64971393562851    12.508007211979974  0.026000000000000002   \n",
       "0  18.902001116957923     7.733101806832612                 0.024   \n",
       "0  17.373592186918682    1.2177746999953356                 0.023   \n",
       "0  19.199407574421926      8.60165307010411                 0.021   \n",
       "0  18.656559009868097    1.8072674098662127  0.011000000000000001   \n",
       "0  18.616587113364165    10.165766066512202                 0.001   \n",
       "0  16.951987801266032    18.198280463374918                 0.001   \n",
       "0   18.77965408010914     9.378887357316554                 0.001   \n",
       "0  17.516322805969743    15.475085147246544                 0.001   \n",
       "0  13.482685703120014    25.718922163794907                  22.0   \n",
       "0   11.40815462551884    1.4007605728933774                  13.0   \n",
       "0   10.99783771223758     8.532390350426157                   6.0   \n",
       "0  12.839802475309458    19.416476985085502                  21.4   \n",
       "0   12.36521437444221    39.004813495990945                 137.0   \n",
       "0  11.213962512728566     7.131086563107388                   5.7   \n",
       "0  12.186759927836029      3.21619854597411                   3.4   \n",
       "0   13.12204695714406    15.552460475608665                  11.7   \n",
       "0  18.668341888292705    48.600787801808444                   3.5   \n",
       "0    9.08237873353649    11.235475254068962                  36.0   \n",
       "0  13.686717884321425    16.620973010615646                   8.0   \n",
       "0  13.279202227584625     4.421706815970503                   3.0   \n",
       "0   8.345576863151202     8.044537075297509                 442.0   \n",
       "0   8.249966806181645     4.861676834291862                 383.0   \n",
       "0   8.228930183018935      4.27910937165263                 374.0   \n",
       "0    8.27873676737961     4.332201222504106                 358.0   \n",
       "0  12.067239898217949    49.544928076079664                 313.0   \n",
       "0   8.234261712794403    0.8727201791532939                 285.0   \n",
       "0   8.129985973999313    4.7720631656358785                 196.0   \n",
       "0    8.20996929843834     6.339346928727272                 156.0   \n",
       "0  11.771169234629616    14.598544053290219                  34.6   \n",
       "0   11.86290634281602    12.808410807577065                  27.1   \n",
       "0  12.239461096039541     15.19455706335594                  24.3   \n",
       "0    9.86610867328416     36.03797968937941                   0.2   \n",
       "\n",
       "              y_pred_mic             ape_mic  \n",
       "0     23.750171461126207  4.9993141554951706  \n",
       "0      23.83901400667812    4.64394397328752  \n",
       "0      5.359728304435674    78.5610867822573  \n",
       "0     14.765042250379292   40.93983099848283  \n",
       "0     14.762848787423232   40.94860485030707  \n",
       "0     17.934082015401124  28.263671938395504  \n",
       "0      19.45302705693108   9.520804386367066  \n",
       "0      16.57586562249056  32.606924979924486  \n",
       "0      4.449811991228888   50.00211245810238  \n",
       "0       7.26691624603575    4.38268097321381  \n",
       "0      4.846300909661001   4.974491967431346  \n",
       "0      6.069520066816098    41.1516294608395  \n",
       "0      6.195057473597401   54.87643683993502  \n",
       "0     23.829481595950206  0.1238722518916188  \n",
       "0     11.440271949975523   70.75032761157497  \n",
       "0    0.04212186858312832   66.30250513349733  \n",
       "0     0.0119276423834174   90.38093356176017  \n",
       "0  0.0029257530522761215   88.74710364509184  \n",
       "0   0.006179669060707958   74.25137891371683  \n",
       "0   0.028493433295099808   23.88449258739047  \n",
       "0  0.0045899001155816485   78.14333278294453  \n",
       "0   0.007898768230121082   28.19301608980835  \n",
       "0   0.008220892037705018   722.0892037705017  \n",
       "0     0.0434355415495876    4243.55415495876  \n",
       "0   0.006983929729440516   598.3929729440516  \n",
       "0    0.02470345298870203  2370.3452988702034  \n",
       "0     1.3949029665763317   93.65953197010758  \n",
       "0     11.104561084648976  14.580299348854028  \n",
       "0     16.737853745936786  178.96422909894645  \n",
       "0      2.653045121279112   87.60259289121909  \n",
       "0      4.264377366449518   96.88731579091277  \n",
       "0     13.484596651396926  136.57187107713904  \n",
       "0      5.097502072958805    49.9265315576119  \n",
       "0     2.0006329406528813   82.90057315681298  \n",
       "0   0.007806244174681438   99.77696445215197  \n",
       "0     113.65094035867747  215.69705655188187  \n",
       "0     1.1374542754663926    85.7818215566701  \n",
       "0     1.7096836106425561  43.010546311914794  \n",
       "0     237.44444844066876  46.279536551884895  \n",
       "0     261.26722961469517   31.78401315543207  \n",
       "0     266.82162792573035  28.657318736435734  \n",
       "0      253.8576788733406    29.0900338342624  \n",
       "0       5.74465960990443    98.1646454920433  \n",
       "0      265.4028459715852   6.876194395935025  \n",
       "0      294.5723324485621    50.2920063513072  \n",
       "0       271.929069808482   74.31350628748845  \n",
       "0      7.724069197837012   77.67610058428609  \n",
       "0      7.047015650018719   73.99625221395307  \n",
       "0      4.835813958655301   80.09953103434032  \n",
       "0      51.90431278416116   25852.15639208058  "
      ]
     },
     "execution_count": 35,
     "metadata": {},
     "output_type": "execute_result"
    }
   ],
   "source": [
    "result_df#.to_csv(\"../results/SVM_HIV_CoV_pMIC_to_MIC_rbf_c_100_gamma_2.csv\", index=False)"
   ]
  },
  {
   "cell_type": "code",
   "execution_count": 36,
   "id": "balanced-houston",
   "metadata": {
    "ExecuteTime": {
     "end_time": "2021-08-27T04:12:35.669125Z",
     "start_time": "2021-08-27T04:12:35.664695Z"
    }
   },
   "outputs": [
    {
     "data": {
      "text/plain": [
       "10.374656830142525"
      ]
     },
     "execution_count": 36,
     "metadata": {},
     "output_type": "execute_result"
    }
   ],
   "source": [
    "result_df['ape_pmic'].astype('float').mean()"
   ]
  },
  {
   "cell_type": "code",
   "execution_count": 37,
   "id": "alike-future",
   "metadata": {
    "ExecuteTime": {
     "end_time": "2021-08-27T04:12:36.944146Z",
     "start_time": "2021-08-27T04:12:36.939478Z"
    }
   },
   "outputs": [
    {
     "data": {
      "text/plain": [
       "729.7154998273481"
      ]
     },
     "execution_count": 37,
     "metadata": {},
     "output_type": "execute_result"
    }
   ],
   "source": [
    "result_df['ape_mic'].astype('float').mean()"
   ]
  },
  {
   "cell_type": "code",
   "execution_count": 38,
   "id": "copyrighted-liabilities",
   "metadata": {
    "ExecuteTime": {
     "end_time": "2021-08-27T04:12:37.893865Z",
     "start_time": "2021-08-27T04:12:37.888802Z"
    }
   },
   "outputs": [
    {
     "data": {
      "text/plain": [
       "(0.8329374628276527, 6.29985434062599e-14)"
      ]
     },
     "execution_count": 38,
     "metadata": {},
     "output_type": "execute_result"
    }
   ],
   "source": [
    "pearsonr(result_df['MIC'].astype('float'), result_df['y_pred_mic'].astype('float'))"
   ]
  },
  {
   "cell_type": "code",
   "execution_count": 39,
   "id": "contained-ethnic",
   "metadata": {
    "ExecuteTime": {
     "end_time": "2021-08-27T04:12:55.013979Z",
     "start_time": "2021-08-27T04:12:55.008853Z"
    }
   },
   "outputs": [
    {
     "data": {
      "text/plain": [
       "0.6706137911620913"
      ]
     },
     "execution_count": 39,
     "metadata": {},
     "output_type": "execute_result"
    }
   ],
   "source": [
    "r2_score(result_df['MIC'].astype('float'), result_df['y_pred_mic'].astype('float'))"
   ]
  },
  {
   "cell_type": "code",
   "execution_count": null,
   "id": "athletic-growing",
   "metadata": {},
   "outputs": [],
   "source": []
  }
 ],
 "metadata": {
  "kernelspec": {
   "display_name": "Python 3",
   "language": "python",
   "name": "python3"
  },
  "language_info": {
   "codemirror_mode": {
    "name": "ipython",
    "version": 3
   },
   "file_extension": ".py",
   "mimetype": "text/x-python",
   "name": "python",
   "nbconvert_exporter": "python",
   "pygments_lexer": "ipython3",
   "version": "3.6.10"
  },
  "varInspector": {
   "cols": {
    "lenName": 16,
    "lenType": 16,
    "lenVar": 40
   },
   "kernels_config": {
    "python": {
     "delete_cmd_postfix": "",
     "delete_cmd_prefix": "del ",
     "library": "var_list.py",
     "varRefreshCmd": "print(var_dic_list())"
    },
    "r": {
     "delete_cmd_postfix": ") ",
     "delete_cmd_prefix": "rm(",
     "library": "var_list.r",
     "varRefreshCmd": "cat(var_dic_list()) "
    }
   },
   "types_to_exclude": [
    "module",
    "function",
    "builtin_function_or_method",
    "instance",
    "_Feature"
   ],
   "window_display": false
  }
 },
 "nbformat": 4,
 "nbformat_minor": 5
}
